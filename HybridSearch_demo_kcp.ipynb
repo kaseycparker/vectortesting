{
  "nbformat": 4,
  "nbformat_minor": 0,
  "metadata": {
    "colab": {
      "provenance": []
    },
    "kernelspec": {
      "name": "python3",
      "display_name": "Python 3"
    },
    "language_info": {
      "name": "python"
    },
    "widgets": {
      "application/vnd.jupyter.widget-state+json": {
        "1e4bd5ad357a4a818cbaa3a9f84b6b40": {
          "model_module": "@jupyter-widgets/controls",
          "model_name": "HBoxModel",
          "model_module_version": "1.5.0",
          "state": {
            "_dom_classes": [],
            "_model_module": "@jupyter-widgets/controls",
            "_model_module_version": "1.5.0",
            "_model_name": "HBoxModel",
            "_view_count": null,
            "_view_module": "@jupyter-widgets/controls",
            "_view_module_version": "1.5.0",
            "_view_name": "HBoxView",
            "box_style": "",
            "children": [
              "IPY_MODEL_dedbf97e8624474b87b26919273082d0",
              "IPY_MODEL_68c794022ddd4d42ad9fe9dbbb0a543e",
              "IPY_MODEL_eab84bb9ab6e4a18bb525607a08af5a3"
            ],
            "layout": "IPY_MODEL_a852b5e194db4f9b82b9f33e409c21c7"
          }
        },
        "dedbf97e8624474b87b26919273082d0": {
          "model_module": "@jupyter-widgets/controls",
          "model_name": "HTMLModel",
          "model_module_version": "1.5.0",
          "state": {
            "_dom_classes": [],
            "_model_module": "@jupyter-widgets/controls",
            "_model_module_version": "1.5.0",
            "_model_name": "HTMLModel",
            "_view_count": null,
            "_view_module": "@jupyter-widgets/controls",
            "_view_module_version": "1.5.0",
            "_view_name": "HTMLView",
            "description": "",
            "description_tooltip": null,
            "layout": "IPY_MODEL_16e4044cd78b4029854dc30b8c17710e",
            "placeholder": "​",
            "style": "IPY_MODEL_a20f15b2affa4e17b5418ff1dc0b416b",
            "value": "Downloading builder script: 100%"
          }
        },
        "68c794022ddd4d42ad9fe9dbbb0a543e": {
          "model_module": "@jupyter-widgets/controls",
          "model_name": "FloatProgressModel",
          "model_module_version": "1.5.0",
          "state": {
            "_dom_classes": [],
            "_model_module": "@jupyter-widgets/controls",
            "_model_module_version": "1.5.0",
            "_model_name": "FloatProgressModel",
            "_view_count": null,
            "_view_module": "@jupyter-widgets/controls",
            "_view_module_version": "1.5.0",
            "_view_name": "ProgressView",
            "bar_style": "success",
            "description": "",
            "description_tooltip": null,
            "layout": "IPY_MODEL_575b8a406c1441eca229d77548880f37",
            "max": 5274,
            "min": 0,
            "orientation": "horizontal",
            "style": "IPY_MODEL_65cac5ddf180483cbedc07e9b02bcf13",
            "value": 5274
          }
        },
        "eab84bb9ab6e4a18bb525607a08af5a3": {
          "model_module": "@jupyter-widgets/controls",
          "model_name": "HTMLModel",
          "model_module_version": "1.5.0",
          "state": {
            "_dom_classes": [],
            "_model_module": "@jupyter-widgets/controls",
            "_model_module_version": "1.5.0",
            "_model_name": "HTMLModel",
            "_view_count": null,
            "_view_module": "@jupyter-widgets/controls",
            "_view_module_version": "1.5.0",
            "_view_name": "HTMLView",
            "description": "",
            "description_tooltip": null,
            "layout": "IPY_MODEL_e3304825f1054ca48833750f74c0c1e1",
            "placeholder": "​",
            "style": "IPY_MODEL_79090416f52f4871adc9e6587da215f5",
            "value": " 5.27k/5.27k [00:00&lt;00:00, 197kB/s]"
          }
        },
        "a852b5e194db4f9b82b9f33e409c21c7": {
          "model_module": "@jupyter-widgets/base",
          "model_name": "LayoutModel",
          "model_module_version": "1.2.0",
          "state": {
            "_model_module": "@jupyter-widgets/base",
            "_model_module_version": "1.2.0",
            "_model_name": "LayoutModel",
            "_view_count": null,
            "_view_module": "@jupyter-widgets/base",
            "_view_module_version": "1.2.0",
            "_view_name": "LayoutView",
            "align_content": null,
            "align_items": null,
            "align_self": null,
            "border": null,
            "bottom": null,
            "display": null,
            "flex": null,
            "flex_flow": null,
            "grid_area": null,
            "grid_auto_columns": null,
            "grid_auto_flow": null,
            "grid_auto_rows": null,
            "grid_column": null,
            "grid_gap": null,
            "grid_row": null,
            "grid_template_areas": null,
            "grid_template_columns": null,
            "grid_template_rows": null,
            "height": null,
            "justify_content": null,
            "justify_items": null,
            "left": null,
            "margin": null,
            "max_height": null,
            "max_width": null,
            "min_height": null,
            "min_width": null,
            "object_fit": null,
            "object_position": null,
            "order": null,
            "overflow": null,
            "overflow_x": null,
            "overflow_y": null,
            "padding": null,
            "right": null,
            "top": null,
            "visibility": null,
            "width": null
          }
        },
        "16e4044cd78b4029854dc30b8c17710e": {
          "model_module": "@jupyter-widgets/base",
          "model_name": "LayoutModel",
          "model_module_version": "1.2.0",
          "state": {
            "_model_module": "@jupyter-widgets/base",
            "_model_module_version": "1.2.0",
            "_model_name": "LayoutModel",
            "_view_count": null,
            "_view_module": "@jupyter-widgets/base",
            "_view_module_version": "1.2.0",
            "_view_name": "LayoutView",
            "align_content": null,
            "align_items": null,
            "align_self": null,
            "border": null,
            "bottom": null,
            "display": null,
            "flex": null,
            "flex_flow": null,
            "grid_area": null,
            "grid_auto_columns": null,
            "grid_auto_flow": null,
            "grid_auto_rows": null,
            "grid_column": null,
            "grid_gap": null,
            "grid_row": null,
            "grid_template_areas": null,
            "grid_template_columns": null,
            "grid_template_rows": null,
            "height": null,
            "justify_content": null,
            "justify_items": null,
            "left": null,
            "margin": null,
            "max_height": null,
            "max_width": null,
            "min_height": null,
            "min_width": null,
            "object_fit": null,
            "object_position": null,
            "order": null,
            "overflow": null,
            "overflow_x": null,
            "overflow_y": null,
            "padding": null,
            "right": null,
            "top": null,
            "visibility": null,
            "width": null
          }
        },
        "a20f15b2affa4e17b5418ff1dc0b416b": {
          "model_module": "@jupyter-widgets/controls",
          "model_name": "DescriptionStyleModel",
          "model_module_version": "1.5.0",
          "state": {
            "_model_module": "@jupyter-widgets/controls",
            "_model_module_version": "1.5.0",
            "_model_name": "DescriptionStyleModel",
            "_view_count": null,
            "_view_module": "@jupyter-widgets/base",
            "_view_module_version": "1.2.0",
            "_view_name": "StyleView",
            "description_width": ""
          }
        },
        "575b8a406c1441eca229d77548880f37": {
          "model_module": "@jupyter-widgets/base",
          "model_name": "LayoutModel",
          "model_module_version": "1.2.0",
          "state": {
            "_model_module": "@jupyter-widgets/base",
            "_model_module_version": "1.2.0",
            "_model_name": "LayoutModel",
            "_view_count": null,
            "_view_module": "@jupyter-widgets/base",
            "_view_module_version": "1.2.0",
            "_view_name": "LayoutView",
            "align_content": null,
            "align_items": null,
            "align_self": null,
            "border": null,
            "bottom": null,
            "display": null,
            "flex": null,
            "flex_flow": null,
            "grid_area": null,
            "grid_auto_columns": null,
            "grid_auto_flow": null,
            "grid_auto_rows": null,
            "grid_column": null,
            "grid_gap": null,
            "grid_row": null,
            "grid_template_areas": null,
            "grid_template_columns": null,
            "grid_template_rows": null,
            "height": null,
            "justify_content": null,
            "justify_items": null,
            "left": null,
            "margin": null,
            "max_height": null,
            "max_width": null,
            "min_height": null,
            "min_width": null,
            "object_fit": null,
            "object_position": null,
            "order": null,
            "overflow": null,
            "overflow_x": null,
            "overflow_y": null,
            "padding": null,
            "right": null,
            "top": null,
            "visibility": null,
            "width": null
          }
        },
        "65cac5ddf180483cbedc07e9b02bcf13": {
          "model_module": "@jupyter-widgets/controls",
          "model_name": "ProgressStyleModel",
          "model_module_version": "1.5.0",
          "state": {
            "_model_module": "@jupyter-widgets/controls",
            "_model_module_version": "1.5.0",
            "_model_name": "ProgressStyleModel",
            "_view_count": null,
            "_view_module": "@jupyter-widgets/base",
            "_view_module_version": "1.2.0",
            "_view_name": "StyleView",
            "bar_color": null,
            "description_width": ""
          }
        },
        "e3304825f1054ca48833750f74c0c1e1": {
          "model_module": "@jupyter-widgets/base",
          "model_name": "LayoutModel",
          "model_module_version": "1.2.0",
          "state": {
            "_model_module": "@jupyter-widgets/base",
            "_model_module_version": "1.2.0",
            "_model_name": "LayoutModel",
            "_view_count": null,
            "_view_module": "@jupyter-widgets/base",
            "_view_module_version": "1.2.0",
            "_view_name": "LayoutView",
            "align_content": null,
            "align_items": null,
            "align_self": null,
            "border": null,
            "bottom": null,
            "display": null,
            "flex": null,
            "flex_flow": null,
            "grid_area": null,
            "grid_auto_columns": null,
            "grid_auto_flow": null,
            "grid_auto_rows": null,
            "grid_column": null,
            "grid_gap": null,
            "grid_row": null,
            "grid_template_areas": null,
            "grid_template_columns": null,
            "grid_template_rows": null,
            "height": null,
            "justify_content": null,
            "justify_items": null,
            "left": null,
            "margin": null,
            "max_height": null,
            "max_width": null,
            "min_height": null,
            "min_width": null,
            "object_fit": null,
            "object_position": null,
            "order": null,
            "overflow": null,
            "overflow_x": null,
            "overflow_y": null,
            "padding": null,
            "right": null,
            "top": null,
            "visibility": null,
            "width": null
          }
        },
        "79090416f52f4871adc9e6587da215f5": {
          "model_module": "@jupyter-widgets/controls",
          "model_name": "DescriptionStyleModel",
          "model_module_version": "1.5.0",
          "state": {
            "_model_module": "@jupyter-widgets/controls",
            "_model_module_version": "1.5.0",
            "_model_name": "DescriptionStyleModel",
            "_view_count": null,
            "_view_module": "@jupyter-widgets/base",
            "_view_module_version": "1.2.0",
            "_view_name": "StyleView",
            "description_width": ""
          }
        },
        "22b16f8cb3f048c291969a3b11658771": {
          "model_module": "@jupyter-widgets/controls",
          "model_name": "HBoxModel",
          "model_module_version": "1.5.0",
          "state": {
            "_dom_classes": [],
            "_model_module": "@jupyter-widgets/controls",
            "_model_module_version": "1.5.0",
            "_model_name": "HBoxModel",
            "_view_count": null,
            "_view_module": "@jupyter-widgets/controls",
            "_view_module_version": "1.5.0",
            "_view_name": "HBoxView",
            "box_style": "",
            "children": [
              "IPY_MODEL_a760dd48e3bc4b3ab8b9e540c2367d64",
              "IPY_MODEL_c939a8dff19249068ccd8f33d5e604e4",
              "IPY_MODEL_4c21add6d7544e8883a5028ad0206b76"
            ],
            "layout": "IPY_MODEL_eef9f9a12f964fa087eeb4c7c62732b1"
          }
        },
        "a760dd48e3bc4b3ab8b9e540c2367d64": {
          "model_module": "@jupyter-widgets/controls",
          "model_name": "HTMLModel",
          "model_module_version": "1.5.0",
          "state": {
            "_dom_classes": [],
            "_model_module": "@jupyter-widgets/controls",
            "_model_module_version": "1.5.0",
            "_model_name": "HTMLModel",
            "_view_count": null,
            "_view_module": "@jupyter-widgets/controls",
            "_view_module_version": "1.5.0",
            "_view_name": "HTMLView",
            "description": "",
            "description_tooltip": null,
            "layout": "IPY_MODEL_b4034c8ac6be4901823fb741da2ee949",
            "placeholder": "​",
            "style": "IPY_MODEL_e0e7a135f9024c018a20759541033dbe",
            "value": "Downloading metadata: 100%"
          }
        },
        "c939a8dff19249068ccd8f33d5e604e4": {
          "model_module": "@jupyter-widgets/controls",
          "model_name": "FloatProgressModel",
          "model_module_version": "1.5.0",
          "state": {
            "_dom_classes": [],
            "_model_module": "@jupyter-widgets/controls",
            "_model_module_version": "1.5.0",
            "_model_name": "FloatProgressModel",
            "_view_count": null,
            "_view_module": "@jupyter-widgets/controls",
            "_view_module_version": "1.5.0",
            "_view_name": "ProgressView",
            "bar_style": "success",
            "description": "",
            "description_tooltip": null,
            "layout": "IPY_MODEL_3e5efc05f4ae440287c952049d0d3428",
            "max": 2360,
            "min": 0,
            "orientation": "horizontal",
            "style": "IPY_MODEL_d53fb857eaac41afaf4b41f0f43b69a1",
            "value": 2360
          }
        },
        "4c21add6d7544e8883a5028ad0206b76": {
          "model_module": "@jupyter-widgets/controls",
          "model_name": "HTMLModel",
          "model_module_version": "1.5.0",
          "state": {
            "_dom_classes": [],
            "_model_module": "@jupyter-widgets/controls",
            "_model_module_version": "1.5.0",
            "_model_name": "HTMLModel",
            "_view_count": null,
            "_view_module": "@jupyter-widgets/controls",
            "_view_module_version": "1.5.0",
            "_view_name": "HTMLView",
            "description": "",
            "description_tooltip": null,
            "layout": "IPY_MODEL_1e44a4dff3224cce89fa4e3010e53494",
            "placeholder": "​",
            "style": "IPY_MODEL_6c0f8d14a5d5402c88d05f7b1d8929e2",
            "value": " 2.36k/2.36k [00:00&lt;00:00, 158kB/s]"
          }
        },
        "eef9f9a12f964fa087eeb4c7c62732b1": {
          "model_module": "@jupyter-widgets/base",
          "model_name": "LayoutModel",
          "model_module_version": "1.2.0",
          "state": {
            "_model_module": "@jupyter-widgets/base",
            "_model_module_version": "1.2.0",
            "_model_name": "LayoutModel",
            "_view_count": null,
            "_view_module": "@jupyter-widgets/base",
            "_view_module_version": "1.2.0",
            "_view_name": "LayoutView",
            "align_content": null,
            "align_items": null,
            "align_self": null,
            "border": null,
            "bottom": null,
            "display": null,
            "flex": null,
            "flex_flow": null,
            "grid_area": null,
            "grid_auto_columns": null,
            "grid_auto_flow": null,
            "grid_auto_rows": null,
            "grid_column": null,
            "grid_gap": null,
            "grid_row": null,
            "grid_template_areas": null,
            "grid_template_columns": null,
            "grid_template_rows": null,
            "height": null,
            "justify_content": null,
            "justify_items": null,
            "left": null,
            "margin": null,
            "max_height": null,
            "max_width": null,
            "min_height": null,
            "min_width": null,
            "object_fit": null,
            "object_position": null,
            "order": null,
            "overflow": null,
            "overflow_x": null,
            "overflow_y": null,
            "padding": null,
            "right": null,
            "top": null,
            "visibility": null,
            "width": null
          }
        },
        "b4034c8ac6be4901823fb741da2ee949": {
          "model_module": "@jupyter-widgets/base",
          "model_name": "LayoutModel",
          "model_module_version": "1.2.0",
          "state": {
            "_model_module": "@jupyter-widgets/base",
            "_model_module_version": "1.2.0",
            "_model_name": "LayoutModel",
            "_view_count": null,
            "_view_module": "@jupyter-widgets/base",
            "_view_module_version": "1.2.0",
            "_view_name": "LayoutView",
            "align_content": null,
            "align_items": null,
            "align_self": null,
            "border": null,
            "bottom": null,
            "display": null,
            "flex": null,
            "flex_flow": null,
            "grid_area": null,
            "grid_auto_columns": null,
            "grid_auto_flow": null,
            "grid_auto_rows": null,
            "grid_column": null,
            "grid_gap": null,
            "grid_row": null,
            "grid_template_areas": null,
            "grid_template_columns": null,
            "grid_template_rows": null,
            "height": null,
            "justify_content": null,
            "justify_items": null,
            "left": null,
            "margin": null,
            "max_height": null,
            "max_width": null,
            "min_height": null,
            "min_width": null,
            "object_fit": null,
            "object_position": null,
            "order": null,
            "overflow": null,
            "overflow_x": null,
            "overflow_y": null,
            "padding": null,
            "right": null,
            "top": null,
            "visibility": null,
            "width": null
          }
        },
        "e0e7a135f9024c018a20759541033dbe": {
          "model_module": "@jupyter-widgets/controls",
          "model_name": "DescriptionStyleModel",
          "model_module_version": "1.5.0",
          "state": {
            "_model_module": "@jupyter-widgets/controls",
            "_model_module_version": "1.5.0",
            "_model_name": "DescriptionStyleModel",
            "_view_count": null,
            "_view_module": "@jupyter-widgets/base",
            "_view_module_version": "1.2.0",
            "_view_name": "StyleView",
            "description_width": ""
          }
        },
        "3e5efc05f4ae440287c952049d0d3428": {
          "model_module": "@jupyter-widgets/base",
          "model_name": "LayoutModel",
          "model_module_version": "1.2.0",
          "state": {
            "_model_module": "@jupyter-widgets/base",
            "_model_module_version": "1.2.0",
            "_model_name": "LayoutModel",
            "_view_count": null,
            "_view_module": "@jupyter-widgets/base",
            "_view_module_version": "1.2.0",
            "_view_name": "LayoutView",
            "align_content": null,
            "align_items": null,
            "align_self": null,
            "border": null,
            "bottom": null,
            "display": null,
            "flex": null,
            "flex_flow": null,
            "grid_area": null,
            "grid_auto_columns": null,
            "grid_auto_flow": null,
            "grid_auto_rows": null,
            "grid_column": null,
            "grid_gap": null,
            "grid_row": null,
            "grid_template_areas": null,
            "grid_template_columns": null,
            "grid_template_rows": null,
            "height": null,
            "justify_content": null,
            "justify_items": null,
            "left": null,
            "margin": null,
            "max_height": null,
            "max_width": null,
            "min_height": null,
            "min_width": null,
            "object_fit": null,
            "object_position": null,
            "order": null,
            "overflow": null,
            "overflow_x": null,
            "overflow_y": null,
            "padding": null,
            "right": null,
            "top": null,
            "visibility": null,
            "width": null
          }
        },
        "d53fb857eaac41afaf4b41f0f43b69a1": {
          "model_module": "@jupyter-widgets/controls",
          "model_name": "ProgressStyleModel",
          "model_module_version": "1.5.0",
          "state": {
            "_model_module": "@jupyter-widgets/controls",
            "_model_module_version": "1.5.0",
            "_model_name": "ProgressStyleModel",
            "_view_count": null,
            "_view_module": "@jupyter-widgets/base",
            "_view_module_version": "1.2.0",
            "_view_name": "StyleView",
            "bar_color": null,
            "description_width": ""
          }
        },
        "1e44a4dff3224cce89fa4e3010e53494": {
          "model_module": "@jupyter-widgets/base",
          "model_name": "LayoutModel",
          "model_module_version": "1.2.0",
          "state": {
            "_model_module": "@jupyter-widgets/base",
            "_model_module_version": "1.2.0",
            "_model_name": "LayoutModel",
            "_view_count": null,
            "_view_module": "@jupyter-widgets/base",
            "_view_module_version": "1.2.0",
            "_view_name": "LayoutView",
            "align_content": null,
            "align_items": null,
            "align_self": null,
            "border": null,
            "bottom": null,
            "display": null,
            "flex": null,
            "flex_flow": null,
            "grid_area": null,
            "grid_auto_columns": null,
            "grid_auto_flow": null,
            "grid_auto_rows": null,
            "grid_column": null,
            "grid_gap": null,
            "grid_row": null,
            "grid_template_areas": null,
            "grid_template_columns": null,
            "grid_template_rows": null,
            "height": null,
            "justify_content": null,
            "justify_items": null,
            "left": null,
            "margin": null,
            "max_height": null,
            "max_width": null,
            "min_height": null,
            "min_width": null,
            "object_fit": null,
            "object_position": null,
            "order": null,
            "overflow": null,
            "overflow_x": null,
            "overflow_y": null,
            "padding": null,
            "right": null,
            "top": null,
            "visibility": null,
            "width": null
          }
        },
        "6c0f8d14a5d5402c88d05f7b1d8929e2": {
          "model_module": "@jupyter-widgets/controls",
          "model_name": "DescriptionStyleModel",
          "model_module_version": "1.5.0",
          "state": {
            "_model_module": "@jupyter-widgets/controls",
            "_model_module_version": "1.5.0",
            "_model_name": "DescriptionStyleModel",
            "_view_count": null,
            "_view_module": "@jupyter-widgets/base",
            "_view_module_version": "1.2.0",
            "_view_name": "StyleView",
            "description_width": ""
          }
        },
        "242070e19229485398214384c460cc60": {
          "model_module": "@jupyter-widgets/controls",
          "model_name": "HBoxModel",
          "model_module_version": "1.5.0",
          "state": {
            "_dom_classes": [],
            "_model_module": "@jupyter-widgets/controls",
            "_model_module_version": "1.5.0",
            "_model_name": "HBoxModel",
            "_view_count": null,
            "_view_module": "@jupyter-widgets/controls",
            "_view_module_version": "1.5.0",
            "_view_name": "HBoxView",
            "box_style": "",
            "children": [
              "IPY_MODEL_5aba8a43422745779e483ad004cf3201",
              "IPY_MODEL_7337920b6b8e4967bc6e27607b31d2ef",
              "IPY_MODEL_02f056c1f30a45bf9e6490dfb8740732"
            ],
            "layout": "IPY_MODEL_ddf6cf8920cb4277b6014743f340f1d4"
          }
        },
        "5aba8a43422745779e483ad004cf3201": {
          "model_module": "@jupyter-widgets/controls",
          "model_name": "HTMLModel",
          "model_module_version": "1.5.0",
          "state": {
            "_dom_classes": [],
            "_model_module": "@jupyter-widgets/controls",
            "_model_module_version": "1.5.0",
            "_model_name": "HTMLModel",
            "_view_count": null,
            "_view_module": "@jupyter-widgets/controls",
            "_view_module_version": "1.5.0",
            "_view_name": "HTMLView",
            "description": "",
            "description_tooltip": null,
            "layout": "IPY_MODEL_831b6090364c435690839c6883cfb32b",
            "placeholder": "​",
            "style": "IPY_MODEL_244d20abd3ec459e8d40b65670d23d8c",
            "value": "Downloading readme: 100%"
          }
        },
        "7337920b6b8e4967bc6e27607b31d2ef": {
          "model_module": "@jupyter-widgets/controls",
          "model_name": "FloatProgressModel",
          "model_module_version": "1.5.0",
          "state": {
            "_dom_classes": [],
            "_model_module": "@jupyter-widgets/controls",
            "_model_module_version": "1.5.0",
            "_model_name": "FloatProgressModel",
            "_view_count": null,
            "_view_module": "@jupyter-widgets/controls",
            "_view_module_version": "1.5.0",
            "_view_name": "ProgressView",
            "bar_style": "success",
            "description": "",
            "description_tooltip": null,
            "layout": "IPY_MODEL_a87c6df95d8c4205a3673509004b35e2",
            "max": 7665,
            "min": 0,
            "orientation": "horizontal",
            "style": "IPY_MODEL_79b9ecc83a8b4ae5a3b7048a2919fe66",
            "value": 7665
          }
        },
        "02f056c1f30a45bf9e6490dfb8740732": {
          "model_module": "@jupyter-widgets/controls",
          "model_name": "HTMLModel",
          "model_module_version": "1.5.0",
          "state": {
            "_dom_classes": [],
            "_model_module": "@jupyter-widgets/controls",
            "_model_module_version": "1.5.0",
            "_model_name": "HTMLModel",
            "_view_count": null,
            "_view_module": "@jupyter-widgets/controls",
            "_view_module_version": "1.5.0",
            "_view_name": "HTMLView",
            "description": "",
            "description_tooltip": null,
            "layout": "IPY_MODEL_52f4c5c980d142c98011e522cc2942c7",
            "placeholder": "​",
            "style": "IPY_MODEL_3cc2454eaddc4ce184fbe7c026a25b25",
            "value": " 7.67k/7.67k [00:00&lt;00:00, 334kB/s]"
          }
        },
        "ddf6cf8920cb4277b6014743f340f1d4": {
          "model_module": "@jupyter-widgets/base",
          "model_name": "LayoutModel",
          "model_module_version": "1.2.0",
          "state": {
            "_model_module": "@jupyter-widgets/base",
            "_model_module_version": "1.2.0",
            "_model_name": "LayoutModel",
            "_view_count": null,
            "_view_module": "@jupyter-widgets/base",
            "_view_module_version": "1.2.0",
            "_view_name": "LayoutView",
            "align_content": null,
            "align_items": null,
            "align_self": null,
            "border": null,
            "bottom": null,
            "display": null,
            "flex": null,
            "flex_flow": null,
            "grid_area": null,
            "grid_auto_columns": null,
            "grid_auto_flow": null,
            "grid_auto_rows": null,
            "grid_column": null,
            "grid_gap": null,
            "grid_row": null,
            "grid_template_areas": null,
            "grid_template_columns": null,
            "grid_template_rows": null,
            "height": null,
            "justify_content": null,
            "justify_items": null,
            "left": null,
            "margin": null,
            "max_height": null,
            "max_width": null,
            "min_height": null,
            "min_width": null,
            "object_fit": null,
            "object_position": null,
            "order": null,
            "overflow": null,
            "overflow_x": null,
            "overflow_y": null,
            "padding": null,
            "right": null,
            "top": null,
            "visibility": null,
            "width": null
          }
        },
        "831b6090364c435690839c6883cfb32b": {
          "model_module": "@jupyter-widgets/base",
          "model_name": "LayoutModel",
          "model_module_version": "1.2.0",
          "state": {
            "_model_module": "@jupyter-widgets/base",
            "_model_module_version": "1.2.0",
            "_model_name": "LayoutModel",
            "_view_count": null,
            "_view_module": "@jupyter-widgets/base",
            "_view_module_version": "1.2.0",
            "_view_name": "LayoutView",
            "align_content": null,
            "align_items": null,
            "align_self": null,
            "border": null,
            "bottom": null,
            "display": null,
            "flex": null,
            "flex_flow": null,
            "grid_area": null,
            "grid_auto_columns": null,
            "grid_auto_flow": null,
            "grid_auto_rows": null,
            "grid_column": null,
            "grid_gap": null,
            "grid_row": null,
            "grid_template_areas": null,
            "grid_template_columns": null,
            "grid_template_rows": null,
            "height": null,
            "justify_content": null,
            "justify_items": null,
            "left": null,
            "margin": null,
            "max_height": null,
            "max_width": null,
            "min_height": null,
            "min_width": null,
            "object_fit": null,
            "object_position": null,
            "order": null,
            "overflow": null,
            "overflow_x": null,
            "overflow_y": null,
            "padding": null,
            "right": null,
            "top": null,
            "visibility": null,
            "width": null
          }
        },
        "244d20abd3ec459e8d40b65670d23d8c": {
          "model_module": "@jupyter-widgets/controls",
          "model_name": "DescriptionStyleModel",
          "model_module_version": "1.5.0",
          "state": {
            "_model_module": "@jupyter-widgets/controls",
            "_model_module_version": "1.5.0",
            "_model_name": "DescriptionStyleModel",
            "_view_count": null,
            "_view_module": "@jupyter-widgets/base",
            "_view_module_version": "1.2.0",
            "_view_name": "StyleView",
            "description_width": ""
          }
        },
        "a87c6df95d8c4205a3673509004b35e2": {
          "model_module": "@jupyter-widgets/base",
          "model_name": "LayoutModel",
          "model_module_version": "1.2.0",
          "state": {
            "_model_module": "@jupyter-widgets/base",
            "_model_module_version": "1.2.0",
            "_model_name": "LayoutModel",
            "_view_count": null,
            "_view_module": "@jupyter-widgets/base",
            "_view_module_version": "1.2.0",
            "_view_name": "LayoutView",
            "align_content": null,
            "align_items": null,
            "align_self": null,
            "border": null,
            "bottom": null,
            "display": null,
            "flex": null,
            "flex_flow": null,
            "grid_area": null,
            "grid_auto_columns": null,
            "grid_auto_flow": null,
            "grid_auto_rows": null,
            "grid_column": null,
            "grid_gap": null,
            "grid_row": null,
            "grid_template_areas": null,
            "grid_template_columns": null,
            "grid_template_rows": null,
            "height": null,
            "justify_content": null,
            "justify_items": null,
            "left": null,
            "margin": null,
            "max_height": null,
            "max_width": null,
            "min_height": null,
            "min_width": null,
            "object_fit": null,
            "object_position": null,
            "order": null,
            "overflow": null,
            "overflow_x": null,
            "overflow_y": null,
            "padding": null,
            "right": null,
            "top": null,
            "visibility": null,
            "width": null
          }
        },
        "79b9ecc83a8b4ae5a3b7048a2919fe66": {
          "model_module": "@jupyter-widgets/controls",
          "model_name": "ProgressStyleModel",
          "model_module_version": "1.5.0",
          "state": {
            "_model_module": "@jupyter-widgets/controls",
            "_model_module_version": "1.5.0",
            "_model_name": "ProgressStyleModel",
            "_view_count": null,
            "_view_module": "@jupyter-widgets/base",
            "_view_module_version": "1.2.0",
            "_view_name": "StyleView",
            "bar_color": null,
            "description_width": ""
          }
        },
        "52f4c5c980d142c98011e522cc2942c7": {
          "model_module": "@jupyter-widgets/base",
          "model_name": "LayoutModel",
          "model_module_version": "1.2.0",
          "state": {
            "_model_module": "@jupyter-widgets/base",
            "_model_module_version": "1.2.0",
            "_model_name": "LayoutModel",
            "_view_count": null,
            "_view_module": "@jupyter-widgets/base",
            "_view_module_version": "1.2.0",
            "_view_name": "LayoutView",
            "align_content": null,
            "align_items": null,
            "align_self": null,
            "border": null,
            "bottom": null,
            "display": null,
            "flex": null,
            "flex_flow": null,
            "grid_area": null,
            "grid_auto_columns": null,
            "grid_auto_flow": null,
            "grid_auto_rows": null,
            "grid_column": null,
            "grid_gap": null,
            "grid_row": null,
            "grid_template_areas": null,
            "grid_template_columns": null,
            "grid_template_rows": null,
            "height": null,
            "justify_content": null,
            "justify_items": null,
            "left": null,
            "margin": null,
            "max_height": null,
            "max_width": null,
            "min_height": null,
            "min_width": null,
            "object_fit": null,
            "object_position": null,
            "order": null,
            "overflow": null,
            "overflow_x": null,
            "overflow_y": null,
            "padding": null,
            "right": null,
            "top": null,
            "visibility": null,
            "width": null
          }
        },
        "3cc2454eaddc4ce184fbe7c026a25b25": {
          "model_module": "@jupyter-widgets/controls",
          "model_name": "DescriptionStyleModel",
          "model_module_version": "1.5.0",
          "state": {
            "_model_module": "@jupyter-widgets/controls",
            "_model_module_version": "1.5.0",
            "_model_name": "DescriptionStyleModel",
            "_view_count": null,
            "_view_module": "@jupyter-widgets/base",
            "_view_module_version": "1.2.0",
            "_view_name": "StyleView",
            "description_width": ""
          }
        },
        "fc9d51ef335a4873bb5554b7f5322b79": {
          "model_module": "@jupyter-widgets/controls",
          "model_name": "HBoxModel",
          "model_module_version": "1.5.0",
          "state": {
            "_dom_classes": [],
            "_model_module": "@jupyter-widgets/controls",
            "_model_module_version": "1.5.0",
            "_model_name": "HBoxModel",
            "_view_count": null,
            "_view_module": "@jupyter-widgets/controls",
            "_view_module_version": "1.5.0",
            "_view_name": "HBoxView",
            "box_style": "",
            "children": [
              "IPY_MODEL_8eafe9c36ced4b10b15a100b879e2d3e",
              "IPY_MODEL_1247f8815944441ba8f4df641c61957e",
              "IPY_MODEL_60e0d98aa5b54fb297240bb4a66094fa"
            ],
            "layout": "IPY_MODEL_9810b2b2b39e4406a5a705a6877e8385"
          }
        },
        "8eafe9c36ced4b10b15a100b879e2d3e": {
          "model_module": "@jupyter-widgets/controls",
          "model_name": "HTMLModel",
          "model_module_version": "1.5.0",
          "state": {
            "_dom_classes": [],
            "_model_module": "@jupyter-widgets/controls",
            "_model_module_version": "1.5.0",
            "_model_name": "HTMLModel",
            "_view_count": null,
            "_view_module": "@jupyter-widgets/controls",
            "_view_module_version": "1.5.0",
            "_view_name": "HTMLView",
            "description": "",
            "description_tooltip": null,
            "layout": "IPY_MODEL_dc65772b22e74ccb8dc0b71554c99233",
            "placeholder": "​",
            "style": "IPY_MODEL_996437b4d19844c1bfafb7ccf2004cd3",
            "value": "Downloading data files: 100%"
          }
        },
        "1247f8815944441ba8f4df641c61957e": {
          "model_module": "@jupyter-widgets/controls",
          "model_name": "FloatProgressModel",
          "model_module_version": "1.5.0",
          "state": {
            "_dom_classes": [],
            "_model_module": "@jupyter-widgets/controls",
            "_model_module_version": "1.5.0",
            "_model_name": "FloatProgressModel",
            "_view_count": null,
            "_view_module": "@jupyter-widgets/controls",
            "_view_module_version": "1.5.0",
            "_view_name": "ProgressView",
            "bar_style": "success",
            "description": "",
            "description_tooltip": null,
            "layout": "IPY_MODEL_87153f0facf7441189c1c27efcbb2b69",
            "max": 2,
            "min": 0,
            "orientation": "horizontal",
            "style": "IPY_MODEL_3ed5906e1fe641f082036295ed376afa",
            "value": 2
          }
        },
        "60e0d98aa5b54fb297240bb4a66094fa": {
          "model_module": "@jupyter-widgets/controls",
          "model_name": "HTMLModel",
          "model_module_version": "1.5.0",
          "state": {
            "_dom_classes": [],
            "_model_module": "@jupyter-widgets/controls",
            "_model_module_version": "1.5.0",
            "_model_name": "HTMLModel",
            "_view_count": null,
            "_view_module": "@jupyter-widgets/controls",
            "_view_module_version": "1.5.0",
            "_view_name": "HTMLView",
            "description": "",
            "description_tooltip": null,
            "layout": "IPY_MODEL_d6ef23c0b1cb42208d9c76c6469b41ed",
            "placeholder": "​",
            "style": "IPY_MODEL_57967b96fc904f948bd69df185287f43",
            "value": " 2/2 [00:03&lt;00:00,  1.64s/it]"
          }
        },
        "9810b2b2b39e4406a5a705a6877e8385": {
          "model_module": "@jupyter-widgets/base",
          "model_name": "LayoutModel",
          "model_module_version": "1.2.0",
          "state": {
            "_model_module": "@jupyter-widgets/base",
            "_model_module_version": "1.2.0",
            "_model_name": "LayoutModel",
            "_view_count": null,
            "_view_module": "@jupyter-widgets/base",
            "_view_module_version": "1.2.0",
            "_view_name": "LayoutView",
            "align_content": null,
            "align_items": null,
            "align_self": null,
            "border": null,
            "bottom": null,
            "display": null,
            "flex": null,
            "flex_flow": null,
            "grid_area": null,
            "grid_auto_columns": null,
            "grid_auto_flow": null,
            "grid_auto_rows": null,
            "grid_column": null,
            "grid_gap": null,
            "grid_row": null,
            "grid_template_areas": null,
            "grid_template_columns": null,
            "grid_template_rows": null,
            "height": null,
            "justify_content": null,
            "justify_items": null,
            "left": null,
            "margin": null,
            "max_height": null,
            "max_width": null,
            "min_height": null,
            "min_width": null,
            "object_fit": null,
            "object_position": null,
            "order": null,
            "overflow": null,
            "overflow_x": null,
            "overflow_y": null,
            "padding": null,
            "right": null,
            "top": null,
            "visibility": null,
            "width": null
          }
        },
        "dc65772b22e74ccb8dc0b71554c99233": {
          "model_module": "@jupyter-widgets/base",
          "model_name": "LayoutModel",
          "model_module_version": "1.2.0",
          "state": {
            "_model_module": "@jupyter-widgets/base",
            "_model_module_version": "1.2.0",
            "_model_name": "LayoutModel",
            "_view_count": null,
            "_view_module": "@jupyter-widgets/base",
            "_view_module_version": "1.2.0",
            "_view_name": "LayoutView",
            "align_content": null,
            "align_items": null,
            "align_self": null,
            "border": null,
            "bottom": null,
            "display": null,
            "flex": null,
            "flex_flow": null,
            "grid_area": null,
            "grid_auto_columns": null,
            "grid_auto_flow": null,
            "grid_auto_rows": null,
            "grid_column": null,
            "grid_gap": null,
            "grid_row": null,
            "grid_template_areas": null,
            "grid_template_columns": null,
            "grid_template_rows": null,
            "height": null,
            "justify_content": null,
            "justify_items": null,
            "left": null,
            "margin": null,
            "max_height": null,
            "max_width": null,
            "min_height": null,
            "min_width": null,
            "object_fit": null,
            "object_position": null,
            "order": null,
            "overflow": null,
            "overflow_x": null,
            "overflow_y": null,
            "padding": null,
            "right": null,
            "top": null,
            "visibility": null,
            "width": null
          }
        },
        "996437b4d19844c1bfafb7ccf2004cd3": {
          "model_module": "@jupyter-widgets/controls",
          "model_name": "DescriptionStyleModel",
          "model_module_version": "1.5.0",
          "state": {
            "_model_module": "@jupyter-widgets/controls",
            "_model_module_version": "1.5.0",
            "_model_name": "DescriptionStyleModel",
            "_view_count": null,
            "_view_module": "@jupyter-widgets/base",
            "_view_module_version": "1.2.0",
            "_view_name": "StyleView",
            "description_width": ""
          }
        },
        "87153f0facf7441189c1c27efcbb2b69": {
          "model_module": "@jupyter-widgets/base",
          "model_name": "LayoutModel",
          "model_module_version": "1.2.0",
          "state": {
            "_model_module": "@jupyter-widgets/base",
            "_model_module_version": "1.2.0",
            "_model_name": "LayoutModel",
            "_view_count": null,
            "_view_module": "@jupyter-widgets/base",
            "_view_module_version": "1.2.0",
            "_view_name": "LayoutView",
            "align_content": null,
            "align_items": null,
            "align_self": null,
            "border": null,
            "bottom": null,
            "display": null,
            "flex": null,
            "flex_flow": null,
            "grid_area": null,
            "grid_auto_columns": null,
            "grid_auto_flow": null,
            "grid_auto_rows": null,
            "grid_column": null,
            "grid_gap": null,
            "grid_row": null,
            "grid_template_areas": null,
            "grid_template_columns": null,
            "grid_template_rows": null,
            "height": null,
            "justify_content": null,
            "justify_items": null,
            "left": null,
            "margin": null,
            "max_height": null,
            "max_width": null,
            "min_height": null,
            "min_width": null,
            "object_fit": null,
            "object_position": null,
            "order": null,
            "overflow": null,
            "overflow_x": null,
            "overflow_y": null,
            "padding": null,
            "right": null,
            "top": null,
            "visibility": null,
            "width": null
          }
        },
        "3ed5906e1fe641f082036295ed376afa": {
          "model_module": "@jupyter-widgets/controls",
          "model_name": "ProgressStyleModel",
          "model_module_version": "1.5.0",
          "state": {
            "_model_module": "@jupyter-widgets/controls",
            "_model_module_version": "1.5.0",
            "_model_name": "ProgressStyleModel",
            "_view_count": null,
            "_view_module": "@jupyter-widgets/base",
            "_view_module_version": "1.2.0",
            "_view_name": "StyleView",
            "bar_color": null,
            "description_width": ""
          }
        },
        "d6ef23c0b1cb42208d9c76c6469b41ed": {
          "model_module": "@jupyter-widgets/base",
          "model_name": "LayoutModel",
          "model_module_version": "1.2.0",
          "state": {
            "_model_module": "@jupyter-widgets/base",
            "_model_module_version": "1.2.0",
            "_model_name": "LayoutModel",
            "_view_count": null,
            "_view_module": "@jupyter-widgets/base",
            "_view_module_version": "1.2.0",
            "_view_name": "LayoutView",
            "align_content": null,
            "align_items": null,
            "align_self": null,
            "border": null,
            "bottom": null,
            "display": null,
            "flex": null,
            "flex_flow": null,
            "grid_area": null,
            "grid_auto_columns": null,
            "grid_auto_flow": null,
            "grid_auto_rows": null,
            "grid_column": null,
            "grid_gap": null,
            "grid_row": null,
            "grid_template_areas": null,
            "grid_template_columns": null,
            "grid_template_rows": null,
            "height": null,
            "justify_content": null,
            "justify_items": null,
            "left": null,
            "margin": null,
            "max_height": null,
            "max_width": null,
            "min_height": null,
            "min_width": null,
            "object_fit": null,
            "object_position": null,
            "order": null,
            "overflow": null,
            "overflow_x": null,
            "overflow_y": null,
            "padding": null,
            "right": null,
            "top": null,
            "visibility": null,
            "width": null
          }
        },
        "57967b96fc904f948bd69df185287f43": {
          "model_module": "@jupyter-widgets/controls",
          "model_name": "DescriptionStyleModel",
          "model_module_version": "1.5.0",
          "state": {
            "_model_module": "@jupyter-widgets/controls",
            "_model_module_version": "1.5.0",
            "_model_name": "DescriptionStyleModel",
            "_view_count": null,
            "_view_module": "@jupyter-widgets/base",
            "_view_module_version": "1.2.0",
            "_view_name": "StyleView",
            "description_width": ""
          }
        },
        "deae686190304adbacea3771bbac49d8": {
          "model_module": "@jupyter-widgets/controls",
          "model_name": "HBoxModel",
          "model_module_version": "1.5.0",
          "state": {
            "_dom_classes": [],
            "_model_module": "@jupyter-widgets/controls",
            "_model_module_version": "1.5.0",
            "_model_name": "HBoxModel",
            "_view_count": null,
            "_view_module": "@jupyter-widgets/controls",
            "_view_module_version": "1.5.0",
            "_view_name": "HBoxView",
            "box_style": "",
            "children": [
              "IPY_MODEL_15f03cde7459445d9b2a6fbd8729157c",
              "IPY_MODEL_6e1cc3e11e6d49319736405f28cb9462",
              "IPY_MODEL_41047f1d35b24a2d83ba5a7bb4086c89"
            ],
            "layout": "IPY_MODEL_659eca4029cb4f29a7022978ea99d1f0"
          }
        },
        "15f03cde7459445d9b2a6fbd8729157c": {
          "model_module": "@jupyter-widgets/controls",
          "model_name": "HTMLModel",
          "model_module_version": "1.5.0",
          "state": {
            "_dom_classes": [],
            "_model_module": "@jupyter-widgets/controls",
            "_model_module_version": "1.5.0",
            "_model_name": "HTMLModel",
            "_view_count": null,
            "_view_module": "@jupyter-widgets/controls",
            "_view_module_version": "1.5.0",
            "_view_name": "HTMLView",
            "description": "",
            "description_tooltip": null,
            "layout": "IPY_MODEL_3aabc93eec4d4691b1a18f07cbe297df",
            "placeholder": "​",
            "style": "IPY_MODEL_2b34d23fcf144f7f8cfb2b64ccf6474d",
            "value": "Downloading data: "
          }
        },
        "6e1cc3e11e6d49319736405f28cb9462": {
          "model_module": "@jupyter-widgets/controls",
          "model_name": "FloatProgressModel",
          "model_module_version": "1.5.0",
          "state": {
            "_dom_classes": [],
            "_model_module": "@jupyter-widgets/controls",
            "_model_module_version": "1.5.0",
            "_model_name": "FloatProgressModel",
            "_view_count": null,
            "_view_module": "@jupyter-widgets/controls",
            "_view_module_version": "1.5.0",
            "_view_name": "ProgressView",
            "bar_style": "success",
            "description": "",
            "description_tooltip": null,
            "layout": "IPY_MODEL_64bb82e548d74aa6b2e9c654f3114b7b",
            "max": 8116577,
            "min": 0,
            "orientation": "horizontal",
            "style": "IPY_MODEL_6b0dc51f79e74c45a644060cd3a24b5a",
            "value": 8116577
          }
        },
        "41047f1d35b24a2d83ba5a7bb4086c89": {
          "model_module": "@jupyter-widgets/controls",
          "model_name": "HTMLModel",
          "model_module_version": "1.5.0",
          "state": {
            "_dom_classes": [],
            "_model_module": "@jupyter-widgets/controls",
            "_model_module_version": "1.5.0",
            "_model_name": "HTMLModel",
            "_view_count": null,
            "_view_module": "@jupyter-widgets/controls",
            "_view_module_version": "1.5.0",
            "_view_name": "HTMLView",
            "description": "",
            "description_tooltip": null,
            "layout": "IPY_MODEL_8da27b9b918a4045aec037abfd6e9ecc",
            "placeholder": "​",
            "style": "IPY_MODEL_7a9530f03a23494aa6f3b12826039b18",
            "value": " 30.3M/? [00:00&lt;00:00, 52.3MB/s]"
          }
        },
        "659eca4029cb4f29a7022978ea99d1f0": {
          "model_module": "@jupyter-widgets/base",
          "model_name": "LayoutModel",
          "model_module_version": "1.2.0",
          "state": {
            "_model_module": "@jupyter-widgets/base",
            "_model_module_version": "1.2.0",
            "_model_name": "LayoutModel",
            "_view_count": null,
            "_view_module": "@jupyter-widgets/base",
            "_view_module_version": "1.2.0",
            "_view_name": "LayoutView",
            "align_content": null,
            "align_items": null,
            "align_self": null,
            "border": null,
            "bottom": null,
            "display": null,
            "flex": null,
            "flex_flow": null,
            "grid_area": null,
            "grid_auto_columns": null,
            "grid_auto_flow": null,
            "grid_auto_rows": null,
            "grid_column": null,
            "grid_gap": null,
            "grid_row": null,
            "grid_template_areas": null,
            "grid_template_columns": null,
            "grid_template_rows": null,
            "height": null,
            "justify_content": null,
            "justify_items": null,
            "left": null,
            "margin": null,
            "max_height": null,
            "max_width": null,
            "min_height": null,
            "min_width": null,
            "object_fit": null,
            "object_position": null,
            "order": null,
            "overflow": null,
            "overflow_x": null,
            "overflow_y": null,
            "padding": null,
            "right": null,
            "top": null,
            "visibility": null,
            "width": null
          }
        },
        "3aabc93eec4d4691b1a18f07cbe297df": {
          "model_module": "@jupyter-widgets/base",
          "model_name": "LayoutModel",
          "model_module_version": "1.2.0",
          "state": {
            "_model_module": "@jupyter-widgets/base",
            "_model_module_version": "1.2.0",
            "_model_name": "LayoutModel",
            "_view_count": null,
            "_view_module": "@jupyter-widgets/base",
            "_view_module_version": "1.2.0",
            "_view_name": "LayoutView",
            "align_content": null,
            "align_items": null,
            "align_self": null,
            "border": null,
            "bottom": null,
            "display": null,
            "flex": null,
            "flex_flow": null,
            "grid_area": null,
            "grid_auto_columns": null,
            "grid_auto_flow": null,
            "grid_auto_rows": null,
            "grid_column": null,
            "grid_gap": null,
            "grid_row": null,
            "grid_template_areas": null,
            "grid_template_columns": null,
            "grid_template_rows": null,
            "height": null,
            "justify_content": null,
            "justify_items": null,
            "left": null,
            "margin": null,
            "max_height": null,
            "max_width": null,
            "min_height": null,
            "min_width": null,
            "object_fit": null,
            "object_position": null,
            "order": null,
            "overflow": null,
            "overflow_x": null,
            "overflow_y": null,
            "padding": null,
            "right": null,
            "top": null,
            "visibility": null,
            "width": null
          }
        },
        "2b34d23fcf144f7f8cfb2b64ccf6474d": {
          "model_module": "@jupyter-widgets/controls",
          "model_name": "DescriptionStyleModel",
          "model_module_version": "1.5.0",
          "state": {
            "_model_module": "@jupyter-widgets/controls",
            "_model_module_version": "1.5.0",
            "_model_name": "DescriptionStyleModel",
            "_view_count": null,
            "_view_module": "@jupyter-widgets/base",
            "_view_module_version": "1.2.0",
            "_view_name": "StyleView",
            "description_width": ""
          }
        },
        "64bb82e548d74aa6b2e9c654f3114b7b": {
          "model_module": "@jupyter-widgets/base",
          "model_name": "LayoutModel",
          "model_module_version": "1.2.0",
          "state": {
            "_model_module": "@jupyter-widgets/base",
            "_model_module_version": "1.2.0",
            "_model_name": "LayoutModel",
            "_view_count": null,
            "_view_module": "@jupyter-widgets/base",
            "_view_module_version": "1.2.0",
            "_view_name": "LayoutView",
            "align_content": null,
            "align_items": null,
            "align_self": null,
            "border": null,
            "bottom": null,
            "display": null,
            "flex": null,
            "flex_flow": null,
            "grid_area": null,
            "grid_auto_columns": null,
            "grid_auto_flow": null,
            "grid_auto_rows": null,
            "grid_column": null,
            "grid_gap": null,
            "grid_row": null,
            "grid_template_areas": null,
            "grid_template_columns": null,
            "grid_template_rows": null,
            "height": null,
            "justify_content": null,
            "justify_items": null,
            "left": null,
            "margin": null,
            "max_height": null,
            "max_width": null,
            "min_height": null,
            "min_width": null,
            "object_fit": null,
            "object_position": null,
            "order": null,
            "overflow": null,
            "overflow_x": null,
            "overflow_y": null,
            "padding": null,
            "right": null,
            "top": null,
            "visibility": null,
            "width": null
          }
        },
        "6b0dc51f79e74c45a644060cd3a24b5a": {
          "model_module": "@jupyter-widgets/controls",
          "model_name": "ProgressStyleModel",
          "model_module_version": "1.5.0",
          "state": {
            "_model_module": "@jupyter-widgets/controls",
            "_model_module_version": "1.5.0",
            "_model_name": "ProgressStyleModel",
            "_view_count": null,
            "_view_module": "@jupyter-widgets/base",
            "_view_module_version": "1.2.0",
            "_view_name": "StyleView",
            "bar_color": null,
            "description_width": ""
          }
        },
        "8da27b9b918a4045aec037abfd6e9ecc": {
          "model_module": "@jupyter-widgets/base",
          "model_name": "LayoutModel",
          "model_module_version": "1.2.0",
          "state": {
            "_model_module": "@jupyter-widgets/base",
            "_model_module_version": "1.2.0",
            "_model_name": "LayoutModel",
            "_view_count": null,
            "_view_module": "@jupyter-widgets/base",
            "_view_module_version": "1.2.0",
            "_view_name": "LayoutView",
            "align_content": null,
            "align_items": null,
            "align_self": null,
            "border": null,
            "bottom": null,
            "display": null,
            "flex": null,
            "flex_flow": null,
            "grid_area": null,
            "grid_auto_columns": null,
            "grid_auto_flow": null,
            "grid_auto_rows": null,
            "grid_column": null,
            "grid_gap": null,
            "grid_row": null,
            "grid_template_areas": null,
            "grid_template_columns": null,
            "grid_template_rows": null,
            "height": null,
            "justify_content": null,
            "justify_items": null,
            "left": null,
            "margin": null,
            "max_height": null,
            "max_width": null,
            "min_height": null,
            "min_width": null,
            "object_fit": null,
            "object_position": null,
            "order": null,
            "overflow": null,
            "overflow_x": null,
            "overflow_y": null,
            "padding": null,
            "right": null,
            "top": null,
            "visibility": null,
            "width": null
          }
        },
        "7a9530f03a23494aa6f3b12826039b18": {
          "model_module": "@jupyter-widgets/controls",
          "model_name": "DescriptionStyleModel",
          "model_module_version": "1.5.0",
          "state": {
            "_model_module": "@jupyter-widgets/controls",
            "_model_module_version": "1.5.0",
            "_model_name": "DescriptionStyleModel",
            "_view_count": null,
            "_view_module": "@jupyter-widgets/base",
            "_view_module_version": "1.2.0",
            "_view_name": "StyleView",
            "description_width": ""
          }
        },
        "e63192f9603042f49376bf1bdb2b2467": {
          "model_module": "@jupyter-widgets/controls",
          "model_name": "HBoxModel",
          "model_module_version": "1.5.0",
          "state": {
            "_dom_classes": [],
            "_model_module": "@jupyter-widgets/controls",
            "_model_module_version": "1.5.0",
            "_model_name": "HBoxModel",
            "_view_count": null,
            "_view_module": "@jupyter-widgets/controls",
            "_view_module_version": "1.5.0",
            "_view_name": "HBoxView",
            "box_style": "",
            "children": [
              "IPY_MODEL_fee20c04b2ba4bb3b21c49c6a80045b9",
              "IPY_MODEL_dbb3a5c9064c49ccabde72141ad8a8a7",
              "IPY_MODEL_04a1aad848db456fbe18519e8ead9fb5"
            ],
            "layout": "IPY_MODEL_6149024678634efa98e17f5919af995c"
          }
        },
        "fee20c04b2ba4bb3b21c49c6a80045b9": {
          "model_module": "@jupyter-widgets/controls",
          "model_name": "HTMLModel",
          "model_module_version": "1.5.0",
          "state": {
            "_dom_classes": [],
            "_model_module": "@jupyter-widgets/controls",
            "_model_module_version": "1.5.0",
            "_model_name": "HTMLModel",
            "_view_count": null,
            "_view_module": "@jupyter-widgets/controls",
            "_view_module_version": "1.5.0",
            "_view_name": "HTMLView",
            "description": "",
            "description_tooltip": null,
            "layout": "IPY_MODEL_5eec5903ace343da846703576091dcde",
            "placeholder": "​",
            "style": "IPY_MODEL_515a51075baa421ab2fcdd98caa8274f",
            "value": "Downloading data: "
          }
        },
        "dbb3a5c9064c49ccabde72141ad8a8a7": {
          "model_module": "@jupyter-widgets/controls",
          "model_name": "FloatProgressModel",
          "model_module_version": "1.5.0",
          "state": {
            "_dom_classes": [],
            "_model_module": "@jupyter-widgets/controls",
            "_model_module_version": "1.5.0",
            "_model_name": "FloatProgressModel",
            "_view_count": null,
            "_view_module": "@jupyter-widgets/controls",
            "_view_module_version": "1.5.0",
            "_view_name": "ProgressView",
            "bar_style": "success",
            "description": "",
            "description_tooltip": null,
            "layout": "IPY_MODEL_d50facda2b0c4ae486f6a8ab98cbe211",
            "max": 1054280,
            "min": 0,
            "orientation": "horizontal",
            "style": "IPY_MODEL_f46d6752c2364109aa0d2ec243d0d19d",
            "value": 1054280
          }
        },
        "04a1aad848db456fbe18519e8ead9fb5": {
          "model_module": "@jupyter-widgets/controls",
          "model_name": "HTMLModel",
          "model_module_version": "1.5.0",
          "state": {
            "_dom_classes": [],
            "_model_module": "@jupyter-widgets/controls",
            "_model_module_version": "1.5.0",
            "_model_name": "HTMLModel",
            "_view_count": null,
            "_view_module": "@jupyter-widgets/controls",
            "_view_module_version": "1.5.0",
            "_view_name": "HTMLView",
            "description": "",
            "description_tooltip": null,
            "layout": "IPY_MODEL_bcb13440808d442b92c46b13fec0da88",
            "placeholder": "​",
            "style": "IPY_MODEL_a7bf29ea5d9546ef821f5eca36c35a66",
            "value": " 4.85M/? [00:00&lt;00:00, 12.0MB/s]"
          }
        },
        "6149024678634efa98e17f5919af995c": {
          "model_module": "@jupyter-widgets/base",
          "model_name": "LayoutModel",
          "model_module_version": "1.2.0",
          "state": {
            "_model_module": "@jupyter-widgets/base",
            "_model_module_version": "1.2.0",
            "_model_name": "LayoutModel",
            "_view_count": null,
            "_view_module": "@jupyter-widgets/base",
            "_view_module_version": "1.2.0",
            "_view_name": "LayoutView",
            "align_content": null,
            "align_items": null,
            "align_self": null,
            "border": null,
            "bottom": null,
            "display": null,
            "flex": null,
            "flex_flow": null,
            "grid_area": null,
            "grid_auto_columns": null,
            "grid_auto_flow": null,
            "grid_auto_rows": null,
            "grid_column": null,
            "grid_gap": null,
            "grid_row": null,
            "grid_template_areas": null,
            "grid_template_columns": null,
            "grid_template_rows": null,
            "height": null,
            "justify_content": null,
            "justify_items": null,
            "left": null,
            "margin": null,
            "max_height": null,
            "max_width": null,
            "min_height": null,
            "min_width": null,
            "object_fit": null,
            "object_position": null,
            "order": null,
            "overflow": null,
            "overflow_x": null,
            "overflow_y": null,
            "padding": null,
            "right": null,
            "top": null,
            "visibility": null,
            "width": null
          }
        },
        "5eec5903ace343da846703576091dcde": {
          "model_module": "@jupyter-widgets/base",
          "model_name": "LayoutModel",
          "model_module_version": "1.2.0",
          "state": {
            "_model_module": "@jupyter-widgets/base",
            "_model_module_version": "1.2.0",
            "_model_name": "LayoutModel",
            "_view_count": null,
            "_view_module": "@jupyter-widgets/base",
            "_view_module_version": "1.2.0",
            "_view_name": "LayoutView",
            "align_content": null,
            "align_items": null,
            "align_self": null,
            "border": null,
            "bottom": null,
            "display": null,
            "flex": null,
            "flex_flow": null,
            "grid_area": null,
            "grid_auto_columns": null,
            "grid_auto_flow": null,
            "grid_auto_rows": null,
            "grid_column": null,
            "grid_gap": null,
            "grid_row": null,
            "grid_template_areas": null,
            "grid_template_columns": null,
            "grid_template_rows": null,
            "height": null,
            "justify_content": null,
            "justify_items": null,
            "left": null,
            "margin": null,
            "max_height": null,
            "max_width": null,
            "min_height": null,
            "min_width": null,
            "object_fit": null,
            "object_position": null,
            "order": null,
            "overflow": null,
            "overflow_x": null,
            "overflow_y": null,
            "padding": null,
            "right": null,
            "top": null,
            "visibility": null,
            "width": null
          }
        },
        "515a51075baa421ab2fcdd98caa8274f": {
          "model_module": "@jupyter-widgets/controls",
          "model_name": "DescriptionStyleModel",
          "model_module_version": "1.5.0",
          "state": {
            "_model_module": "@jupyter-widgets/controls",
            "_model_module_version": "1.5.0",
            "_model_name": "DescriptionStyleModel",
            "_view_count": null,
            "_view_module": "@jupyter-widgets/base",
            "_view_module_version": "1.2.0",
            "_view_name": "StyleView",
            "description_width": ""
          }
        },
        "d50facda2b0c4ae486f6a8ab98cbe211": {
          "model_module": "@jupyter-widgets/base",
          "model_name": "LayoutModel",
          "model_module_version": "1.2.0",
          "state": {
            "_model_module": "@jupyter-widgets/base",
            "_model_module_version": "1.2.0",
            "_model_name": "LayoutModel",
            "_view_count": null,
            "_view_module": "@jupyter-widgets/base",
            "_view_module_version": "1.2.0",
            "_view_name": "LayoutView",
            "align_content": null,
            "align_items": null,
            "align_self": null,
            "border": null,
            "bottom": null,
            "display": null,
            "flex": null,
            "flex_flow": null,
            "grid_area": null,
            "grid_auto_columns": null,
            "grid_auto_flow": null,
            "grid_auto_rows": null,
            "grid_column": null,
            "grid_gap": null,
            "grid_row": null,
            "grid_template_areas": null,
            "grid_template_columns": null,
            "grid_template_rows": null,
            "height": null,
            "justify_content": null,
            "justify_items": null,
            "left": null,
            "margin": null,
            "max_height": null,
            "max_width": null,
            "min_height": null,
            "min_width": null,
            "object_fit": null,
            "object_position": null,
            "order": null,
            "overflow": null,
            "overflow_x": null,
            "overflow_y": null,
            "padding": null,
            "right": null,
            "top": null,
            "visibility": null,
            "width": null
          }
        },
        "f46d6752c2364109aa0d2ec243d0d19d": {
          "model_module": "@jupyter-widgets/controls",
          "model_name": "ProgressStyleModel",
          "model_module_version": "1.5.0",
          "state": {
            "_model_module": "@jupyter-widgets/controls",
            "_model_module_version": "1.5.0",
            "_model_name": "ProgressStyleModel",
            "_view_count": null,
            "_view_module": "@jupyter-widgets/base",
            "_view_module_version": "1.2.0",
            "_view_name": "StyleView",
            "bar_color": null,
            "description_width": ""
          }
        },
        "bcb13440808d442b92c46b13fec0da88": {
          "model_module": "@jupyter-widgets/base",
          "model_name": "LayoutModel",
          "model_module_version": "1.2.0",
          "state": {
            "_model_module": "@jupyter-widgets/base",
            "_model_module_version": "1.2.0",
            "_model_name": "LayoutModel",
            "_view_count": null,
            "_view_module": "@jupyter-widgets/base",
            "_view_module_version": "1.2.0",
            "_view_name": "LayoutView",
            "align_content": null,
            "align_items": null,
            "align_self": null,
            "border": null,
            "bottom": null,
            "display": null,
            "flex": null,
            "flex_flow": null,
            "grid_area": null,
            "grid_auto_columns": null,
            "grid_auto_flow": null,
            "grid_auto_rows": null,
            "grid_column": null,
            "grid_gap": null,
            "grid_row": null,
            "grid_template_areas": null,
            "grid_template_columns": null,
            "grid_template_rows": null,
            "height": null,
            "justify_content": null,
            "justify_items": null,
            "left": null,
            "margin": null,
            "max_height": null,
            "max_width": null,
            "min_height": null,
            "min_width": null,
            "object_fit": null,
            "object_position": null,
            "order": null,
            "overflow": null,
            "overflow_x": null,
            "overflow_y": null,
            "padding": null,
            "right": null,
            "top": null,
            "visibility": null,
            "width": null
          }
        },
        "a7bf29ea5d9546ef821f5eca36c35a66": {
          "model_module": "@jupyter-widgets/controls",
          "model_name": "DescriptionStyleModel",
          "model_module_version": "1.5.0",
          "state": {
            "_model_module": "@jupyter-widgets/controls",
            "_model_module_version": "1.5.0",
            "_model_name": "DescriptionStyleModel",
            "_view_count": null,
            "_view_module": "@jupyter-widgets/base",
            "_view_module_version": "1.2.0",
            "_view_name": "StyleView",
            "description_width": ""
          }
        },
        "290a83259a904f289a6a1997b9caaa52": {
          "model_module": "@jupyter-widgets/controls",
          "model_name": "HBoxModel",
          "model_module_version": "1.5.0",
          "state": {
            "_dom_classes": [],
            "_model_module": "@jupyter-widgets/controls",
            "_model_module_version": "1.5.0",
            "_model_name": "HBoxModel",
            "_view_count": null,
            "_view_module": "@jupyter-widgets/controls",
            "_view_module_version": "1.5.0",
            "_view_name": "HBoxView",
            "box_style": "",
            "children": [
              "IPY_MODEL_7412947c949042908dc9f01927ae4bb2",
              "IPY_MODEL_f74c9a21a05d4d7c9b6e961fda7d4bc3",
              "IPY_MODEL_032a1fe1d26d476c8776a47767b1f864"
            ],
            "layout": "IPY_MODEL_897f5be53e684600b0ea664d1512f786"
          }
        },
        "7412947c949042908dc9f01927ae4bb2": {
          "model_module": "@jupyter-widgets/controls",
          "model_name": "HTMLModel",
          "model_module_version": "1.5.0",
          "state": {
            "_dom_classes": [],
            "_model_module": "@jupyter-widgets/controls",
            "_model_module_version": "1.5.0",
            "_model_name": "HTMLModel",
            "_view_count": null,
            "_view_module": "@jupyter-widgets/controls",
            "_view_module_version": "1.5.0",
            "_view_name": "HTMLView",
            "description": "",
            "description_tooltip": null,
            "layout": "IPY_MODEL_2be1ef08f5a845cab6207b5bd1dbe318",
            "placeholder": "​",
            "style": "IPY_MODEL_f994e9092c0746cfba37a040daf306fd",
            "value": "Extracting data files: 100%"
          }
        },
        "f74c9a21a05d4d7c9b6e961fda7d4bc3": {
          "model_module": "@jupyter-widgets/controls",
          "model_name": "FloatProgressModel",
          "model_module_version": "1.5.0",
          "state": {
            "_dom_classes": [],
            "_model_module": "@jupyter-widgets/controls",
            "_model_module_version": "1.5.0",
            "_model_name": "FloatProgressModel",
            "_view_count": null,
            "_view_module": "@jupyter-widgets/controls",
            "_view_module_version": "1.5.0",
            "_view_name": "ProgressView",
            "bar_style": "success",
            "description": "",
            "description_tooltip": null,
            "layout": "IPY_MODEL_b72d29f8fbd0423d9f4f79c86a7ac524",
            "max": 2,
            "min": 0,
            "orientation": "horizontal",
            "style": "IPY_MODEL_e23c768563e34cd094c41b2470db50c3",
            "value": 2
          }
        },
        "032a1fe1d26d476c8776a47767b1f864": {
          "model_module": "@jupyter-widgets/controls",
          "model_name": "HTMLModel",
          "model_module_version": "1.5.0",
          "state": {
            "_dom_classes": [],
            "_model_module": "@jupyter-widgets/controls",
            "_model_module_version": "1.5.0",
            "_model_name": "HTMLModel",
            "_view_count": null,
            "_view_module": "@jupyter-widgets/controls",
            "_view_module_version": "1.5.0",
            "_view_name": "HTMLView",
            "description": "",
            "description_tooltip": null,
            "layout": "IPY_MODEL_3832eedff3e647a08000f6c4c9e96cf0",
            "placeholder": "​",
            "style": "IPY_MODEL_3385d8cca05b4a36981f40d2eaee9104",
            "value": " 2/2 [00:00&lt;00:00, 44.34it/s]"
          }
        },
        "897f5be53e684600b0ea664d1512f786": {
          "model_module": "@jupyter-widgets/base",
          "model_name": "LayoutModel",
          "model_module_version": "1.2.0",
          "state": {
            "_model_module": "@jupyter-widgets/base",
            "_model_module_version": "1.2.0",
            "_model_name": "LayoutModel",
            "_view_count": null,
            "_view_module": "@jupyter-widgets/base",
            "_view_module_version": "1.2.0",
            "_view_name": "LayoutView",
            "align_content": null,
            "align_items": null,
            "align_self": null,
            "border": null,
            "bottom": null,
            "display": null,
            "flex": null,
            "flex_flow": null,
            "grid_area": null,
            "grid_auto_columns": null,
            "grid_auto_flow": null,
            "grid_auto_rows": null,
            "grid_column": null,
            "grid_gap": null,
            "grid_row": null,
            "grid_template_areas": null,
            "grid_template_columns": null,
            "grid_template_rows": null,
            "height": null,
            "justify_content": null,
            "justify_items": null,
            "left": null,
            "margin": null,
            "max_height": null,
            "max_width": null,
            "min_height": null,
            "min_width": null,
            "object_fit": null,
            "object_position": null,
            "order": null,
            "overflow": null,
            "overflow_x": null,
            "overflow_y": null,
            "padding": null,
            "right": null,
            "top": null,
            "visibility": null,
            "width": null
          }
        },
        "2be1ef08f5a845cab6207b5bd1dbe318": {
          "model_module": "@jupyter-widgets/base",
          "model_name": "LayoutModel",
          "model_module_version": "1.2.0",
          "state": {
            "_model_module": "@jupyter-widgets/base",
            "_model_module_version": "1.2.0",
            "_model_name": "LayoutModel",
            "_view_count": null,
            "_view_module": "@jupyter-widgets/base",
            "_view_module_version": "1.2.0",
            "_view_name": "LayoutView",
            "align_content": null,
            "align_items": null,
            "align_self": null,
            "border": null,
            "bottom": null,
            "display": null,
            "flex": null,
            "flex_flow": null,
            "grid_area": null,
            "grid_auto_columns": null,
            "grid_auto_flow": null,
            "grid_auto_rows": null,
            "grid_column": null,
            "grid_gap": null,
            "grid_row": null,
            "grid_template_areas": null,
            "grid_template_columns": null,
            "grid_template_rows": null,
            "height": null,
            "justify_content": null,
            "justify_items": null,
            "left": null,
            "margin": null,
            "max_height": null,
            "max_width": null,
            "min_height": null,
            "min_width": null,
            "object_fit": null,
            "object_position": null,
            "order": null,
            "overflow": null,
            "overflow_x": null,
            "overflow_y": null,
            "padding": null,
            "right": null,
            "top": null,
            "visibility": null,
            "width": null
          }
        },
        "f994e9092c0746cfba37a040daf306fd": {
          "model_module": "@jupyter-widgets/controls",
          "model_name": "DescriptionStyleModel",
          "model_module_version": "1.5.0",
          "state": {
            "_model_module": "@jupyter-widgets/controls",
            "_model_module_version": "1.5.0",
            "_model_name": "DescriptionStyleModel",
            "_view_count": null,
            "_view_module": "@jupyter-widgets/base",
            "_view_module_version": "1.2.0",
            "_view_name": "StyleView",
            "description_width": ""
          }
        },
        "b72d29f8fbd0423d9f4f79c86a7ac524": {
          "model_module": "@jupyter-widgets/base",
          "model_name": "LayoutModel",
          "model_module_version": "1.2.0",
          "state": {
            "_model_module": "@jupyter-widgets/base",
            "_model_module_version": "1.2.0",
            "_model_name": "LayoutModel",
            "_view_count": null,
            "_view_module": "@jupyter-widgets/base",
            "_view_module_version": "1.2.0",
            "_view_name": "LayoutView",
            "align_content": null,
            "align_items": null,
            "align_self": null,
            "border": null,
            "bottom": null,
            "display": null,
            "flex": null,
            "flex_flow": null,
            "grid_area": null,
            "grid_auto_columns": null,
            "grid_auto_flow": null,
            "grid_auto_rows": null,
            "grid_column": null,
            "grid_gap": null,
            "grid_row": null,
            "grid_template_areas": null,
            "grid_template_columns": null,
            "grid_template_rows": null,
            "height": null,
            "justify_content": null,
            "justify_items": null,
            "left": null,
            "margin": null,
            "max_height": null,
            "max_width": null,
            "min_height": null,
            "min_width": null,
            "object_fit": null,
            "object_position": null,
            "order": null,
            "overflow": null,
            "overflow_x": null,
            "overflow_y": null,
            "padding": null,
            "right": null,
            "top": null,
            "visibility": null,
            "width": null
          }
        },
        "e23c768563e34cd094c41b2470db50c3": {
          "model_module": "@jupyter-widgets/controls",
          "model_name": "ProgressStyleModel",
          "model_module_version": "1.5.0",
          "state": {
            "_model_module": "@jupyter-widgets/controls",
            "_model_module_version": "1.5.0",
            "_model_name": "ProgressStyleModel",
            "_view_count": null,
            "_view_module": "@jupyter-widgets/base",
            "_view_module_version": "1.2.0",
            "_view_name": "StyleView",
            "bar_color": null,
            "description_width": ""
          }
        },
        "3832eedff3e647a08000f6c4c9e96cf0": {
          "model_module": "@jupyter-widgets/base",
          "model_name": "LayoutModel",
          "model_module_version": "1.2.0",
          "state": {
            "_model_module": "@jupyter-widgets/base",
            "_model_module_version": "1.2.0",
            "_model_name": "LayoutModel",
            "_view_count": null,
            "_view_module": "@jupyter-widgets/base",
            "_view_module_version": "1.2.0",
            "_view_name": "LayoutView",
            "align_content": null,
            "align_items": null,
            "align_self": null,
            "border": null,
            "bottom": null,
            "display": null,
            "flex": null,
            "flex_flow": null,
            "grid_area": null,
            "grid_auto_columns": null,
            "grid_auto_flow": null,
            "grid_auto_rows": null,
            "grid_column": null,
            "grid_gap": null,
            "grid_row": null,
            "grid_template_areas": null,
            "grid_template_columns": null,
            "grid_template_rows": null,
            "height": null,
            "justify_content": null,
            "justify_items": null,
            "left": null,
            "margin": null,
            "max_height": null,
            "max_width": null,
            "min_height": null,
            "min_width": null,
            "object_fit": null,
            "object_position": null,
            "order": null,
            "overflow": null,
            "overflow_x": null,
            "overflow_y": null,
            "padding": null,
            "right": null,
            "top": null,
            "visibility": null,
            "width": null
          }
        },
        "3385d8cca05b4a36981f40d2eaee9104": {
          "model_module": "@jupyter-widgets/controls",
          "model_name": "DescriptionStyleModel",
          "model_module_version": "1.5.0",
          "state": {
            "_model_module": "@jupyter-widgets/controls",
            "_model_module_version": "1.5.0",
            "_model_name": "DescriptionStyleModel",
            "_view_count": null,
            "_view_module": "@jupyter-widgets/base",
            "_view_module_version": "1.2.0",
            "_view_name": "StyleView",
            "description_width": ""
          }
        },
        "01bfea39e38c4fddac23ca669d1ae46c": {
          "model_module": "@jupyter-widgets/controls",
          "model_name": "HBoxModel",
          "model_module_version": "1.5.0",
          "state": {
            "_dom_classes": [],
            "_model_module": "@jupyter-widgets/controls",
            "_model_module_version": "1.5.0",
            "_model_name": "HBoxModel",
            "_view_count": null,
            "_view_module": "@jupyter-widgets/controls",
            "_view_module_version": "1.5.0",
            "_view_name": "HBoxView",
            "box_style": "",
            "children": [
              "IPY_MODEL_4c0bbb4d0e4d45089125dcfd21bdca1a",
              "IPY_MODEL_f09124ca3e6f43308299c942155aec4f",
              "IPY_MODEL_f55d25c31f1b4a6b9e8d107b58722639"
            ],
            "layout": "IPY_MODEL_2479e9e008c74ec7a82c57fce0a5b082"
          }
        },
        "4c0bbb4d0e4d45089125dcfd21bdca1a": {
          "model_module": "@jupyter-widgets/controls",
          "model_name": "HTMLModel",
          "model_module_version": "1.5.0",
          "state": {
            "_dom_classes": [],
            "_model_module": "@jupyter-widgets/controls",
            "_model_module_version": "1.5.0",
            "_model_name": "HTMLModel",
            "_view_count": null,
            "_view_module": "@jupyter-widgets/controls",
            "_view_module_version": "1.5.0",
            "_view_name": "HTMLView",
            "description": "",
            "description_tooltip": null,
            "layout": "IPY_MODEL_1c8b9abfdf6346d1855c599febc26a1a",
            "placeholder": "​",
            "style": "IPY_MODEL_c9b22546b92d49d8b8c9a6070e0b9981",
            "value": "Generating train split: 100%"
          }
        },
        "f09124ca3e6f43308299c942155aec4f": {
          "model_module": "@jupyter-widgets/controls",
          "model_name": "FloatProgressModel",
          "model_module_version": "1.5.0",
          "state": {
            "_dom_classes": [],
            "_model_module": "@jupyter-widgets/controls",
            "_model_module_version": "1.5.0",
            "_model_name": "FloatProgressModel",
            "_view_count": null,
            "_view_module": "@jupyter-widgets/controls",
            "_view_module_version": "1.5.0",
            "_view_name": "ProgressView",
            "bar_style": "success",
            "description": "",
            "description_tooltip": null,
            "layout": "IPY_MODEL_0bc47a7ed9984cd78f388f0cf9ddbc09",
            "max": 87599,
            "min": 0,
            "orientation": "horizontal",
            "style": "IPY_MODEL_7897763200ff418f9bc2aa2ec11a5509",
            "value": 87599
          }
        },
        "f55d25c31f1b4a6b9e8d107b58722639": {
          "model_module": "@jupyter-widgets/controls",
          "model_name": "HTMLModel",
          "model_module_version": "1.5.0",
          "state": {
            "_dom_classes": [],
            "_model_module": "@jupyter-widgets/controls",
            "_model_module_version": "1.5.0",
            "_model_name": "HTMLModel",
            "_view_count": null,
            "_view_module": "@jupyter-widgets/controls",
            "_view_module_version": "1.5.0",
            "_view_name": "HTMLView",
            "description": "",
            "description_tooltip": null,
            "layout": "IPY_MODEL_1409b567384d4e0eb90ef09d91620e40",
            "placeholder": "​",
            "style": "IPY_MODEL_92beb88a3f0e4dffbfca5ef4bbfd56d5",
            "value": " 87599/87599 [00:10&lt;00:00, 11815.53 examples/s]"
          }
        },
        "2479e9e008c74ec7a82c57fce0a5b082": {
          "model_module": "@jupyter-widgets/base",
          "model_name": "LayoutModel",
          "model_module_version": "1.2.0",
          "state": {
            "_model_module": "@jupyter-widgets/base",
            "_model_module_version": "1.2.0",
            "_model_name": "LayoutModel",
            "_view_count": null,
            "_view_module": "@jupyter-widgets/base",
            "_view_module_version": "1.2.0",
            "_view_name": "LayoutView",
            "align_content": null,
            "align_items": null,
            "align_self": null,
            "border": null,
            "bottom": null,
            "display": null,
            "flex": null,
            "flex_flow": null,
            "grid_area": null,
            "grid_auto_columns": null,
            "grid_auto_flow": null,
            "grid_auto_rows": null,
            "grid_column": null,
            "grid_gap": null,
            "grid_row": null,
            "grid_template_areas": null,
            "grid_template_columns": null,
            "grid_template_rows": null,
            "height": null,
            "justify_content": null,
            "justify_items": null,
            "left": null,
            "margin": null,
            "max_height": null,
            "max_width": null,
            "min_height": null,
            "min_width": null,
            "object_fit": null,
            "object_position": null,
            "order": null,
            "overflow": null,
            "overflow_x": null,
            "overflow_y": null,
            "padding": null,
            "right": null,
            "top": null,
            "visibility": null,
            "width": null
          }
        },
        "1c8b9abfdf6346d1855c599febc26a1a": {
          "model_module": "@jupyter-widgets/base",
          "model_name": "LayoutModel",
          "model_module_version": "1.2.0",
          "state": {
            "_model_module": "@jupyter-widgets/base",
            "_model_module_version": "1.2.0",
            "_model_name": "LayoutModel",
            "_view_count": null,
            "_view_module": "@jupyter-widgets/base",
            "_view_module_version": "1.2.0",
            "_view_name": "LayoutView",
            "align_content": null,
            "align_items": null,
            "align_self": null,
            "border": null,
            "bottom": null,
            "display": null,
            "flex": null,
            "flex_flow": null,
            "grid_area": null,
            "grid_auto_columns": null,
            "grid_auto_flow": null,
            "grid_auto_rows": null,
            "grid_column": null,
            "grid_gap": null,
            "grid_row": null,
            "grid_template_areas": null,
            "grid_template_columns": null,
            "grid_template_rows": null,
            "height": null,
            "justify_content": null,
            "justify_items": null,
            "left": null,
            "margin": null,
            "max_height": null,
            "max_width": null,
            "min_height": null,
            "min_width": null,
            "object_fit": null,
            "object_position": null,
            "order": null,
            "overflow": null,
            "overflow_x": null,
            "overflow_y": null,
            "padding": null,
            "right": null,
            "top": null,
            "visibility": null,
            "width": null
          }
        },
        "c9b22546b92d49d8b8c9a6070e0b9981": {
          "model_module": "@jupyter-widgets/controls",
          "model_name": "DescriptionStyleModel",
          "model_module_version": "1.5.0",
          "state": {
            "_model_module": "@jupyter-widgets/controls",
            "_model_module_version": "1.5.0",
            "_model_name": "DescriptionStyleModel",
            "_view_count": null,
            "_view_module": "@jupyter-widgets/base",
            "_view_module_version": "1.2.0",
            "_view_name": "StyleView",
            "description_width": ""
          }
        },
        "0bc47a7ed9984cd78f388f0cf9ddbc09": {
          "model_module": "@jupyter-widgets/base",
          "model_name": "LayoutModel",
          "model_module_version": "1.2.0",
          "state": {
            "_model_module": "@jupyter-widgets/base",
            "_model_module_version": "1.2.0",
            "_model_name": "LayoutModel",
            "_view_count": null,
            "_view_module": "@jupyter-widgets/base",
            "_view_module_version": "1.2.0",
            "_view_name": "LayoutView",
            "align_content": null,
            "align_items": null,
            "align_self": null,
            "border": null,
            "bottom": null,
            "display": null,
            "flex": null,
            "flex_flow": null,
            "grid_area": null,
            "grid_auto_columns": null,
            "grid_auto_flow": null,
            "grid_auto_rows": null,
            "grid_column": null,
            "grid_gap": null,
            "grid_row": null,
            "grid_template_areas": null,
            "grid_template_columns": null,
            "grid_template_rows": null,
            "height": null,
            "justify_content": null,
            "justify_items": null,
            "left": null,
            "margin": null,
            "max_height": null,
            "max_width": null,
            "min_height": null,
            "min_width": null,
            "object_fit": null,
            "object_position": null,
            "order": null,
            "overflow": null,
            "overflow_x": null,
            "overflow_y": null,
            "padding": null,
            "right": null,
            "top": null,
            "visibility": null,
            "width": null
          }
        },
        "7897763200ff418f9bc2aa2ec11a5509": {
          "model_module": "@jupyter-widgets/controls",
          "model_name": "ProgressStyleModel",
          "model_module_version": "1.5.0",
          "state": {
            "_model_module": "@jupyter-widgets/controls",
            "_model_module_version": "1.5.0",
            "_model_name": "ProgressStyleModel",
            "_view_count": null,
            "_view_module": "@jupyter-widgets/base",
            "_view_module_version": "1.2.0",
            "_view_name": "StyleView",
            "bar_color": null,
            "description_width": ""
          }
        },
        "1409b567384d4e0eb90ef09d91620e40": {
          "model_module": "@jupyter-widgets/base",
          "model_name": "LayoutModel",
          "model_module_version": "1.2.0",
          "state": {
            "_model_module": "@jupyter-widgets/base",
            "_model_module_version": "1.2.0",
            "_model_name": "LayoutModel",
            "_view_count": null,
            "_view_module": "@jupyter-widgets/base",
            "_view_module_version": "1.2.0",
            "_view_name": "LayoutView",
            "align_content": null,
            "align_items": null,
            "align_self": null,
            "border": null,
            "bottom": null,
            "display": null,
            "flex": null,
            "flex_flow": null,
            "grid_area": null,
            "grid_auto_columns": null,
            "grid_auto_flow": null,
            "grid_auto_rows": null,
            "grid_column": null,
            "grid_gap": null,
            "grid_row": null,
            "grid_template_areas": null,
            "grid_template_columns": null,
            "grid_template_rows": null,
            "height": null,
            "justify_content": null,
            "justify_items": null,
            "left": null,
            "margin": null,
            "max_height": null,
            "max_width": null,
            "min_height": null,
            "min_width": null,
            "object_fit": null,
            "object_position": null,
            "order": null,
            "overflow": null,
            "overflow_x": null,
            "overflow_y": null,
            "padding": null,
            "right": null,
            "top": null,
            "visibility": null,
            "width": null
          }
        },
        "92beb88a3f0e4dffbfca5ef4bbfd56d5": {
          "model_module": "@jupyter-widgets/controls",
          "model_name": "DescriptionStyleModel",
          "model_module_version": "1.5.0",
          "state": {
            "_model_module": "@jupyter-widgets/controls",
            "_model_module_version": "1.5.0",
            "_model_name": "DescriptionStyleModel",
            "_view_count": null,
            "_view_module": "@jupyter-widgets/base",
            "_view_module_version": "1.2.0",
            "_view_name": "StyleView",
            "description_width": ""
          }
        },
        "425581ae7c6b4304a5cb7339b30c5fe7": {
          "model_module": "@jupyter-widgets/controls",
          "model_name": "HBoxModel",
          "model_module_version": "1.5.0",
          "state": {
            "_dom_classes": [],
            "_model_module": "@jupyter-widgets/controls",
            "_model_module_version": "1.5.0",
            "_model_name": "HBoxModel",
            "_view_count": null,
            "_view_module": "@jupyter-widgets/controls",
            "_view_module_version": "1.5.0",
            "_view_name": "HBoxView",
            "box_style": "",
            "children": [
              "IPY_MODEL_4770d476b83c43299ace065b5ebed24e",
              "IPY_MODEL_8f32605eec4241dab99cae35f42e609b",
              "IPY_MODEL_7fbfc6b0f0c849dea0b98a356925c9de"
            ],
            "layout": "IPY_MODEL_43e4fb49fba0431ba5d5753042d87b14"
          }
        },
        "4770d476b83c43299ace065b5ebed24e": {
          "model_module": "@jupyter-widgets/controls",
          "model_name": "HTMLModel",
          "model_module_version": "1.5.0",
          "state": {
            "_dom_classes": [],
            "_model_module": "@jupyter-widgets/controls",
            "_model_module_version": "1.5.0",
            "_model_name": "HTMLModel",
            "_view_count": null,
            "_view_module": "@jupyter-widgets/controls",
            "_view_module_version": "1.5.0",
            "_view_name": "HTMLView",
            "description": "",
            "description_tooltip": null,
            "layout": "IPY_MODEL_e0ac034002ec4490872381a00c45836e",
            "placeholder": "​",
            "style": "IPY_MODEL_8c877b64b0984c5da067fb68dc9b09d8",
            "value": "Generating validation split: 100%"
          }
        },
        "8f32605eec4241dab99cae35f42e609b": {
          "model_module": "@jupyter-widgets/controls",
          "model_name": "FloatProgressModel",
          "model_module_version": "1.5.0",
          "state": {
            "_dom_classes": [],
            "_model_module": "@jupyter-widgets/controls",
            "_model_module_version": "1.5.0",
            "_model_name": "FloatProgressModel",
            "_view_count": null,
            "_view_module": "@jupyter-widgets/controls",
            "_view_module_version": "1.5.0",
            "_view_name": "ProgressView",
            "bar_style": "success",
            "description": "",
            "description_tooltip": null,
            "layout": "IPY_MODEL_d68c9696672e4afc94dca2b82dbe3135",
            "max": 10570,
            "min": 0,
            "orientation": "horizontal",
            "style": "IPY_MODEL_b22413a9a57c4abe923a9e6ccc92391b",
            "value": 10570
          }
        },
        "7fbfc6b0f0c849dea0b98a356925c9de": {
          "model_module": "@jupyter-widgets/controls",
          "model_name": "HTMLModel",
          "model_module_version": "1.5.0",
          "state": {
            "_dom_classes": [],
            "_model_module": "@jupyter-widgets/controls",
            "_model_module_version": "1.5.0",
            "_model_name": "HTMLModel",
            "_view_count": null,
            "_view_module": "@jupyter-widgets/controls",
            "_view_module_version": "1.5.0",
            "_view_name": "HTMLView",
            "description": "",
            "description_tooltip": null,
            "layout": "IPY_MODEL_7c06b0f2969e4d378f9f37b013e8e045",
            "placeholder": "​",
            "style": "IPY_MODEL_bd73acf448b24637b444a78579573097",
            "value": " 10570/10570 [00:01&lt;00:00, 10201.85 examples/s]"
          }
        },
        "43e4fb49fba0431ba5d5753042d87b14": {
          "model_module": "@jupyter-widgets/base",
          "model_name": "LayoutModel",
          "model_module_version": "1.2.0",
          "state": {
            "_model_module": "@jupyter-widgets/base",
            "_model_module_version": "1.2.0",
            "_model_name": "LayoutModel",
            "_view_count": null,
            "_view_module": "@jupyter-widgets/base",
            "_view_module_version": "1.2.0",
            "_view_name": "LayoutView",
            "align_content": null,
            "align_items": null,
            "align_self": null,
            "border": null,
            "bottom": null,
            "display": null,
            "flex": null,
            "flex_flow": null,
            "grid_area": null,
            "grid_auto_columns": null,
            "grid_auto_flow": null,
            "grid_auto_rows": null,
            "grid_column": null,
            "grid_gap": null,
            "grid_row": null,
            "grid_template_areas": null,
            "grid_template_columns": null,
            "grid_template_rows": null,
            "height": null,
            "justify_content": null,
            "justify_items": null,
            "left": null,
            "margin": null,
            "max_height": null,
            "max_width": null,
            "min_height": null,
            "min_width": null,
            "object_fit": null,
            "object_position": null,
            "order": null,
            "overflow": null,
            "overflow_x": null,
            "overflow_y": null,
            "padding": null,
            "right": null,
            "top": null,
            "visibility": null,
            "width": null
          }
        },
        "e0ac034002ec4490872381a00c45836e": {
          "model_module": "@jupyter-widgets/base",
          "model_name": "LayoutModel",
          "model_module_version": "1.2.0",
          "state": {
            "_model_module": "@jupyter-widgets/base",
            "_model_module_version": "1.2.0",
            "_model_name": "LayoutModel",
            "_view_count": null,
            "_view_module": "@jupyter-widgets/base",
            "_view_module_version": "1.2.0",
            "_view_name": "LayoutView",
            "align_content": null,
            "align_items": null,
            "align_self": null,
            "border": null,
            "bottom": null,
            "display": null,
            "flex": null,
            "flex_flow": null,
            "grid_area": null,
            "grid_auto_columns": null,
            "grid_auto_flow": null,
            "grid_auto_rows": null,
            "grid_column": null,
            "grid_gap": null,
            "grid_row": null,
            "grid_template_areas": null,
            "grid_template_columns": null,
            "grid_template_rows": null,
            "height": null,
            "justify_content": null,
            "justify_items": null,
            "left": null,
            "margin": null,
            "max_height": null,
            "max_width": null,
            "min_height": null,
            "min_width": null,
            "object_fit": null,
            "object_position": null,
            "order": null,
            "overflow": null,
            "overflow_x": null,
            "overflow_y": null,
            "padding": null,
            "right": null,
            "top": null,
            "visibility": null,
            "width": null
          }
        },
        "8c877b64b0984c5da067fb68dc9b09d8": {
          "model_module": "@jupyter-widgets/controls",
          "model_name": "DescriptionStyleModel",
          "model_module_version": "1.5.0",
          "state": {
            "_model_module": "@jupyter-widgets/controls",
            "_model_module_version": "1.5.0",
            "_model_name": "DescriptionStyleModel",
            "_view_count": null,
            "_view_module": "@jupyter-widgets/base",
            "_view_module_version": "1.2.0",
            "_view_name": "StyleView",
            "description_width": ""
          }
        },
        "d68c9696672e4afc94dca2b82dbe3135": {
          "model_module": "@jupyter-widgets/base",
          "model_name": "LayoutModel",
          "model_module_version": "1.2.0",
          "state": {
            "_model_module": "@jupyter-widgets/base",
            "_model_module_version": "1.2.0",
            "_model_name": "LayoutModel",
            "_view_count": null,
            "_view_module": "@jupyter-widgets/base",
            "_view_module_version": "1.2.0",
            "_view_name": "LayoutView",
            "align_content": null,
            "align_items": null,
            "align_self": null,
            "border": null,
            "bottom": null,
            "display": null,
            "flex": null,
            "flex_flow": null,
            "grid_area": null,
            "grid_auto_columns": null,
            "grid_auto_flow": null,
            "grid_auto_rows": null,
            "grid_column": null,
            "grid_gap": null,
            "grid_row": null,
            "grid_template_areas": null,
            "grid_template_columns": null,
            "grid_template_rows": null,
            "height": null,
            "justify_content": null,
            "justify_items": null,
            "left": null,
            "margin": null,
            "max_height": null,
            "max_width": null,
            "min_height": null,
            "min_width": null,
            "object_fit": null,
            "object_position": null,
            "order": null,
            "overflow": null,
            "overflow_x": null,
            "overflow_y": null,
            "padding": null,
            "right": null,
            "top": null,
            "visibility": null,
            "width": null
          }
        },
        "b22413a9a57c4abe923a9e6ccc92391b": {
          "model_module": "@jupyter-widgets/controls",
          "model_name": "ProgressStyleModel",
          "model_module_version": "1.5.0",
          "state": {
            "_model_module": "@jupyter-widgets/controls",
            "_model_module_version": "1.5.0",
            "_model_name": "ProgressStyleModel",
            "_view_count": null,
            "_view_module": "@jupyter-widgets/base",
            "_view_module_version": "1.2.0",
            "_view_name": "StyleView",
            "bar_color": null,
            "description_width": ""
          }
        },
        "7c06b0f2969e4d378f9f37b013e8e045": {
          "model_module": "@jupyter-widgets/base",
          "model_name": "LayoutModel",
          "model_module_version": "1.2.0",
          "state": {
            "_model_module": "@jupyter-widgets/base",
            "_model_module_version": "1.2.0",
            "_model_name": "LayoutModel",
            "_view_count": null,
            "_view_module": "@jupyter-widgets/base",
            "_view_module_version": "1.2.0",
            "_view_name": "LayoutView",
            "align_content": null,
            "align_items": null,
            "align_self": null,
            "border": null,
            "bottom": null,
            "display": null,
            "flex": null,
            "flex_flow": null,
            "grid_area": null,
            "grid_auto_columns": null,
            "grid_auto_flow": null,
            "grid_auto_rows": null,
            "grid_column": null,
            "grid_gap": null,
            "grid_row": null,
            "grid_template_areas": null,
            "grid_template_columns": null,
            "grid_template_rows": null,
            "height": null,
            "justify_content": null,
            "justify_items": null,
            "left": null,
            "margin": null,
            "max_height": null,
            "max_width": null,
            "min_height": null,
            "min_width": null,
            "object_fit": null,
            "object_position": null,
            "order": null,
            "overflow": null,
            "overflow_x": null,
            "overflow_y": null,
            "padding": null,
            "right": null,
            "top": null,
            "visibility": null,
            "width": null
          }
        },
        "bd73acf448b24637b444a78579573097": {
          "model_module": "@jupyter-widgets/controls",
          "model_name": "DescriptionStyleModel",
          "model_module_version": "1.5.0",
          "state": {
            "_model_module": "@jupyter-widgets/controls",
            "_model_module_version": "1.5.0",
            "_model_name": "DescriptionStyleModel",
            "_view_count": null,
            "_view_module": "@jupyter-widgets/base",
            "_view_module_version": "1.2.0",
            "_view_name": "StyleView",
            "description_width": ""
          }
        }
      }
    }
  },
  "cells": [
    {
      "cell_type": "markdown",
      "metadata": {
        "id": "G7k44CpJhHV2"
      },
      "source": [
        "<a href=\"https://colab.research.google.com/github/awesome-astra/docs/blob/main/docs/pages/tools/notebooks/Retrieval_Augmented_Generation_(for_AI_Chatbots).ipynb\" target=\"_parent\"><img src=\"https://colab.research.google.com/assets/colab-badge.svg\" alt=\"Open In Colab\"/></a>"
      ]
    },
    {
      "cell_type": "markdown",
      "source": [
        "# **Astra Hybrid Search Example**\n",
        "\n",
        "**Goal:** Comparison of a Q&A example against ChatGPT utilizing retrieval augmentation (RAG) to retrieve relevant information from an external knowledge base and give that information to the LLM. In doing so, compare hybrid search - using term-based and vector-based search - with vector only search."
      ],
      "metadata": {
        "id": "RUnmNWmm_iZX"
      }
    },
    {
      "cell_type": "markdown",
      "metadata": {
        "id": "Vn65Hjm7OqlJ"
      },
      "source": [
        "# **Install libraries and import modules**"
      ]
    },
    {
      "cell_type": "code",
      "execution_count": null,
      "metadata": {
        "colab": {
          "base_uri": "https://localhost:8080/"
        },
        "id": "URoDp8zn8Kae",
        "outputId": "5295ecc5-f15b-4b56-940f-f788afc1a0be"
      },
      "outputs": [
        {
          "output_type": "stream",
          "name": "stdout",
          "text": [
            "Collecting openai\n",
            "  Downloading openai-0.28.1-py3-none-any.whl (76 kB)\n",
            "\u001b[2K     \u001b[90m━━━━━━━━━━━━━━━━━━━━━━━━━━━━━━━━━━━━━━━━\u001b[0m \u001b[32m77.0/77.0 kB\u001b[0m \u001b[31m1.4 MB/s\u001b[0m eta \u001b[36m0:00:00\u001b[0m\n",
            "\u001b[?25hRequirement already satisfied: pandas in /usr/local/lib/python3.10/dist-packages (1.5.3)\n",
            "Collecting jupyter-datatables\n",
            "  Downloading jupyter_datatables-0.3.9-py2.py3-none-any.whl (21 kB)\n",
            "Collecting cassandra-driver\n",
            "  Downloading cassandra_driver-3.28.0-cp310-cp310-manylinux_2_17_x86_64.manylinux2014_x86_64.whl (19.1 MB)\n",
            "\u001b[2K     \u001b[90m━━━━━━━━━━━━━━━━━━━━━━━━━━━━━━━━━━━━━━━━\u001b[0m \u001b[32m19.1/19.1 MB\u001b[0m \u001b[31m9.2 MB/s\u001b[0m eta \u001b[36m0:00:00\u001b[0m\n",
            "\u001b[?25hCollecting datasets\n",
            "  Downloading datasets-2.14.5-py3-none-any.whl (519 kB)\n",
            "\u001b[2K     \u001b[90m━━━━━━━━━━━━━━━━━━━━━━━━━━━━━━━━━━━━━━\u001b[0m \u001b[32m519.6/519.6 kB\u001b[0m \u001b[31m42.7 MB/s\u001b[0m eta \u001b[36m0:00:00\u001b[0m\n",
            "\u001b[?25hRequirement already satisfied: requests>=2.20 in /usr/local/lib/python3.10/dist-packages (from openai) (2.31.0)\n",
            "Requirement already satisfied: tqdm in /usr/local/lib/python3.10/dist-packages (from openai) (4.66.1)\n",
            "Requirement already satisfied: aiohttp in /usr/local/lib/python3.10/dist-packages (from openai) (3.8.5)\n",
            "Requirement already satisfied: python-dateutil>=2.8.1 in /usr/local/lib/python3.10/dist-packages (from pandas) (2.8.2)\n",
            "Requirement already satisfied: pytz>=2020.1 in /usr/local/lib/python3.10/dist-packages (from pandas) (2023.3.post1)\n",
            "Requirement already satisfied: numpy>=1.21.0 in /usr/local/lib/python3.10/dist-packages (from pandas) (1.23.5)\n",
            "Requirement already satisfied: ipython in /usr/local/lib/python3.10/dist-packages (from jupyter-datatables) (7.34.0)\n",
            "Requirement already satisfied: ipykernel in /usr/local/lib/python3.10/dist-packages (from jupyter-datatables) (5.5.6)\n",
            "Requirement already satisfied: scipy in /usr/local/lib/python3.10/dist-packages (from jupyter-datatables) (1.11.2)\n",
            "Collecting jupyter-require>=0.3.0 (from jupyter-datatables)\n",
            "  Downloading jupyter_require-0.6.1-py2.py3-none-any.whl (42 kB)\n",
            "\u001b[2K     \u001b[90m━━━━━━━━━━━━━━━━━━━━━━━━━━━━━━━━━━━━━━━━\u001b[0m \u001b[32m42.3/42.3 kB\u001b[0m \u001b[31m3.9 MB/s\u001b[0m eta \u001b[36m0:00:00\u001b[0m\n",
            "\u001b[?25hRequirement already satisfied: six>=1.9 in /usr/local/lib/python3.10/dist-packages (from cassandra-driver) (1.16.0)\n",
            "Collecting geomet<0.3,>=0.1 (from cassandra-driver)\n",
            "  Downloading geomet-0.2.1.post1-py3-none-any.whl (18 kB)\n",
            "Requirement already satisfied: pyarrow>=8.0.0 in /usr/local/lib/python3.10/dist-packages (from datasets) (9.0.0)\n",
            "Collecting dill<0.3.8,>=0.3.0 (from datasets)\n",
            "  Downloading dill-0.3.7-py3-none-any.whl (115 kB)\n",
            "\u001b[2K     \u001b[90m━━━━━━━━━━━━━━━━━━━━━━━━━━━━━━━━━━━━━━\u001b[0m \u001b[32m115.3/115.3 kB\u001b[0m \u001b[31m11.2 MB/s\u001b[0m eta \u001b[36m0:00:00\u001b[0m\n",
            "\u001b[?25hCollecting xxhash (from datasets)\n",
            "  Downloading xxhash-3.3.0-cp310-cp310-manylinux_2_17_x86_64.manylinux2014_x86_64.whl (194 kB)\n",
            "\u001b[2K     \u001b[90m━━━━━━━━━━━━━━━━━━━━━━━━━━━━━━━━━━━━━━\u001b[0m \u001b[32m194.1/194.1 kB\u001b[0m \u001b[31m21.0 MB/s\u001b[0m eta \u001b[36m0:00:00\u001b[0m\n",
            "\u001b[?25hCollecting multiprocess (from datasets)\n",
            "  Downloading multiprocess-0.70.15-py310-none-any.whl (134 kB)\n",
            "\u001b[2K     \u001b[90m━━━━━━━━━━━━━━━━━━━━━━━━━━━━━━━━━━━━━━\u001b[0m \u001b[32m134.8/134.8 kB\u001b[0m \u001b[31m14.8 MB/s\u001b[0m eta \u001b[36m0:00:00\u001b[0m\n",
            "\u001b[?25hRequirement already satisfied: fsspec[http]<2023.9.0,>=2023.1.0 in /usr/local/lib/python3.10/dist-packages (from datasets) (2023.6.0)\n",
            "Collecting huggingface-hub<1.0.0,>=0.14.0 (from datasets)\n",
            "  Downloading huggingface_hub-0.17.3-py3-none-any.whl (295 kB)\n",
            "\u001b[2K     \u001b[90m━━━━━━━━━━━━━━━━━━━━━━━━━━━━━━━━━━━━━━\u001b[0m \u001b[32m295.0/295.0 kB\u001b[0m \u001b[31m29.6 MB/s\u001b[0m eta \u001b[36m0:00:00\u001b[0m\n",
            "\u001b[?25hRequirement already satisfied: packaging in /usr/local/lib/python3.10/dist-packages (from datasets) (23.1)\n",
            "Requirement already satisfied: pyyaml>=5.1 in /usr/local/lib/python3.10/dist-packages (from datasets) (6.0.1)\n",
            "Requirement already satisfied: attrs>=17.3.0 in /usr/local/lib/python3.10/dist-packages (from aiohttp->openai) (23.1.0)\n",
            "Requirement already satisfied: charset-normalizer<4.0,>=2.0 in /usr/local/lib/python3.10/dist-packages (from aiohttp->openai) (3.2.0)\n",
            "Requirement already satisfied: multidict<7.0,>=4.5 in /usr/local/lib/python3.10/dist-packages (from aiohttp->openai) (6.0.4)\n",
            "Requirement already satisfied: async-timeout<5.0,>=4.0.0a3 in /usr/local/lib/python3.10/dist-packages (from aiohttp->openai) (4.0.3)\n",
            "Requirement already satisfied: yarl<2.0,>=1.0 in /usr/local/lib/python3.10/dist-packages (from aiohttp->openai) (1.9.2)\n",
            "Requirement already satisfied: frozenlist>=1.1.1 in /usr/local/lib/python3.10/dist-packages (from aiohttp->openai) (1.4.0)\n",
            "Requirement already satisfied: aiosignal>=1.1.2 in /usr/local/lib/python3.10/dist-packages (from aiohttp->openai) (1.3.1)\n",
            "Requirement already satisfied: click in /usr/local/lib/python3.10/dist-packages (from geomet<0.3,>=0.1->cassandra-driver) (8.1.7)\n",
            "Requirement already satisfied: filelock in /usr/local/lib/python3.10/dist-packages (from huggingface-hub<1.0.0,>=0.14.0->datasets) (3.12.2)\n",
            "Requirement already satisfied: typing-extensions>=3.7.4.3 in /usr/local/lib/python3.10/dist-packages (from huggingface-hub<1.0.0,>=0.14.0->datasets) (4.5.0)\n",
            "Collecting csscompressor (from jupyter-require>=0.3.0->jupyter-datatables)\n",
            "  Downloading csscompressor-0.9.5.tar.gz (237 kB)\n",
            "\u001b[2K     \u001b[90m━━━━━━━━━━━━━━━━━━━━━━━━━━━━━━━━━━━━━━\u001b[0m \u001b[32m237.8/237.8 kB\u001b[0m \u001b[31m22.6 MB/s\u001b[0m eta \u001b[36m0:00:00\u001b[0m\n",
            "\u001b[?25h  Preparing metadata (setup.py) ... \u001b[?25l\u001b[?25hdone\n",
            "Collecting daiquiri (from jupyter-require>=0.3.0->jupyter-datatables)\n",
            "  Downloading daiquiri-3.2.1-py3-none-any.whl (19 kB)\n",
            "Collecting jupyter-nbutils (from jupyter-require>=0.3.0->jupyter-datatables)\n",
            "  Downloading jupyter_nbutils-0.1.3-py3-none-any.whl (7.7 kB)\n",
            "Collecting jupyter-contrib-nbextensions (from jupyter-require>=0.3.0->jupyter-datatables)\n",
            "  Downloading jupyter_contrib_nbextensions-0.7.0.tar.gz (23.5 MB)\n",
            "\u001b[2K     \u001b[90m━━━━━━━━━━━━━━━━━━━━━━━━━━━━━━━━━━━━━━━━\u001b[0m \u001b[32m23.5/23.5 MB\u001b[0m \u001b[31m61.8 MB/s\u001b[0m eta \u001b[36m0:00:00\u001b[0m\n",
            "\u001b[?25h  Preparing metadata (setup.py) ... \u001b[?25l\u001b[?25hdone\n",
            "Requirement already satisfied: idna<4,>=2.5 in /usr/local/lib/python3.10/dist-packages (from requests>=2.20->openai) (3.4)\n",
            "Requirement already satisfied: urllib3<3,>=1.21.1 in /usr/local/lib/python3.10/dist-packages (from requests>=2.20->openai) (2.0.4)\n",
            "Requirement already satisfied: certifi>=2017.4.17 in /usr/local/lib/python3.10/dist-packages (from requests>=2.20->openai) (2023.7.22)\n",
            "Requirement already satisfied: ipython-genutils in /usr/local/lib/python3.10/dist-packages (from ipykernel->jupyter-datatables) (0.2.0)\n",
            "Requirement already satisfied: traitlets>=4.1.0 in /usr/local/lib/python3.10/dist-packages (from ipykernel->jupyter-datatables) (5.7.1)\n",
            "Requirement already satisfied: jupyter-client in /usr/local/lib/python3.10/dist-packages (from ipykernel->jupyter-datatables) (6.1.12)\n",
            "Requirement already satisfied: tornado>=4.2 in /usr/local/lib/python3.10/dist-packages (from ipykernel->jupyter-datatables) (6.3.2)\n",
            "Requirement already satisfied: setuptools>=18.5 in /usr/local/lib/python3.10/dist-packages (from ipython->jupyter-datatables) (67.7.2)\n",
            "Collecting jedi>=0.16 (from ipython->jupyter-datatables)\n",
            "  Downloading jedi-0.19.0-py2.py3-none-any.whl (1.6 MB)\n",
            "\u001b[2K     \u001b[90m━━━━━━━━━━━━━━━━━━━━━━━━━━━━━━━━━━━━━━━━\u001b[0m \u001b[32m1.6/1.6 MB\u001b[0m \u001b[31m70.6 MB/s\u001b[0m eta \u001b[36m0:00:00\u001b[0m\n",
            "\u001b[?25hRequirement already satisfied: decorator in /usr/local/lib/python3.10/dist-packages (from ipython->jupyter-datatables) (4.4.2)\n",
            "Requirement already satisfied: pickleshare in /usr/local/lib/python3.10/dist-packages (from ipython->jupyter-datatables) (0.7.5)\n",
            "Requirement already satisfied: prompt-toolkit!=3.0.0,!=3.0.1,<3.1.0,>=2.0.0 in /usr/local/lib/python3.10/dist-packages (from ipython->jupyter-datatables) (3.0.39)\n",
            "Requirement already satisfied: pygments in /usr/local/lib/python3.10/dist-packages (from ipython->jupyter-datatables) (2.16.1)\n",
            "Requirement already satisfied: backcall in /usr/local/lib/python3.10/dist-packages (from ipython->jupyter-datatables) (0.2.0)\n",
            "Requirement already satisfied: matplotlib-inline in /usr/local/lib/python3.10/dist-packages (from ipython->jupyter-datatables) (0.1.6)\n",
            "Requirement already satisfied: pexpect>4.3 in /usr/local/lib/python3.10/dist-packages (from ipython->jupyter-datatables) (4.8.0)\n",
            "Requirement already satisfied: parso<0.9.0,>=0.8.3 in /usr/local/lib/python3.10/dist-packages (from jedi>=0.16->ipython->jupyter-datatables) (0.8.3)\n",
            "Requirement already satisfied: ptyprocess>=0.5 in /usr/local/lib/python3.10/dist-packages (from pexpect>4.3->ipython->jupyter-datatables) (0.7.0)\n",
            "Requirement already satisfied: wcwidth in /usr/local/lib/python3.10/dist-packages (from prompt-toolkit!=3.0.0,!=3.0.1,<3.1.0,>=2.0.0->ipython->jupyter-datatables) (0.2.6)\n",
            "Collecting python-json-logger (from daiquiri->jupyter-require>=0.3.0->jupyter-datatables)\n",
            "  Downloading python_json_logger-2.0.7-py3-none-any.whl (8.1 kB)\n",
            "Requirement already satisfied: jupyter-core>=4.6.0 in /usr/local/lib/python3.10/dist-packages (from jupyter-client->ipykernel->jupyter-datatables) (5.3.1)\n",
            "Requirement already satisfied: pyzmq>=13 in /usr/local/lib/python3.10/dist-packages (from jupyter-client->ipykernel->jupyter-datatables) (23.2.1)\n",
            "Collecting jupyter_contrib_core>=0.3.3 (from jupyter-contrib-nbextensions->jupyter-require>=0.3.0->jupyter-datatables)\n",
            "  Downloading jupyter_contrib_core-0.4.2.tar.gz (17 kB)\n",
            "  Preparing metadata (setup.py) ... \u001b[?25l\u001b[?25hdone\n",
            "Collecting jupyter_highlight_selected_word>=0.1.1 (from jupyter-contrib-nbextensions->jupyter-require>=0.3.0->jupyter-datatables)\n",
            "  Downloading jupyter_highlight_selected_word-0.2.0-py2.py3-none-any.whl (11 kB)\n",
            "Collecting jupyter_nbextensions_configurator>=0.4.0 (from jupyter-contrib-nbextensions->jupyter-require>=0.3.0->jupyter-datatables)\n",
            "  Downloading jupyter_nbextensions_configurator-0.6.3-py2.py3-none-any.whl (466 kB)\n",
            "\u001b[2K     \u001b[90m━━━━━━━━━━━━━━━━━━━━━━━━━━━━━━━━━━━━━━\u001b[0m \u001b[32m466.9/466.9 kB\u001b[0m \u001b[31m37.7 MB/s\u001b[0m eta \u001b[36m0:00:00\u001b[0m\n",
            "\u001b[?25hRequirement already satisfied: nbconvert>=6.0 in /usr/local/lib/python3.10/dist-packages (from jupyter-contrib-nbextensions->jupyter-require>=0.3.0->jupyter-datatables) (6.5.4)\n",
            "Requirement already satisfied: notebook>=6.0 in /usr/local/lib/python3.10/dist-packages (from jupyter-contrib-nbextensions->jupyter-require>=0.3.0->jupyter-datatables) (6.5.5)\n",
            "Requirement already satisfied: lxml in /usr/local/lib/python3.10/dist-packages (from jupyter-contrib-nbextensions->jupyter-require>=0.3.0->jupyter-datatables) (4.9.3)\n",
            "Requirement already satisfied: platformdirs>=2.5 in /usr/local/lib/python3.10/dist-packages (from jupyter-core>=4.6.0->jupyter-client->ipykernel->jupyter-datatables) (3.10.0)\n",
            "Requirement already satisfied: beautifulsoup4 in /usr/local/lib/python3.10/dist-packages (from nbconvert>=6.0->jupyter-contrib-nbextensions->jupyter-require>=0.3.0->jupyter-datatables) (4.11.2)\n",
            "Requirement already satisfied: bleach in /usr/local/lib/python3.10/dist-packages (from nbconvert>=6.0->jupyter-contrib-nbextensions->jupyter-require>=0.3.0->jupyter-datatables) (6.0.0)\n",
            "Requirement already satisfied: defusedxml in /usr/local/lib/python3.10/dist-packages (from nbconvert>=6.0->jupyter-contrib-nbextensions->jupyter-require>=0.3.0->jupyter-datatables) (0.7.1)\n",
            "Requirement already satisfied: entrypoints>=0.2.2 in /usr/local/lib/python3.10/dist-packages (from nbconvert>=6.0->jupyter-contrib-nbextensions->jupyter-require>=0.3.0->jupyter-datatables) (0.4)\n",
            "Requirement already satisfied: jinja2>=3.0 in /usr/local/lib/python3.10/dist-packages (from nbconvert>=6.0->jupyter-contrib-nbextensions->jupyter-require>=0.3.0->jupyter-datatables) (3.1.2)\n",
            "Requirement already satisfied: jupyterlab-pygments in /usr/local/lib/python3.10/dist-packages (from nbconvert>=6.0->jupyter-contrib-nbextensions->jupyter-require>=0.3.0->jupyter-datatables) (0.2.2)\n",
            "Requirement already satisfied: MarkupSafe>=2.0 in /usr/local/lib/python3.10/dist-packages (from nbconvert>=6.0->jupyter-contrib-nbextensions->jupyter-require>=0.3.0->jupyter-datatables) (2.1.3)\n",
            "Requirement already satisfied: mistune<2,>=0.8.1 in /usr/local/lib/python3.10/dist-packages (from nbconvert>=6.0->jupyter-contrib-nbextensions->jupyter-require>=0.3.0->jupyter-datatables) (0.8.4)\n",
            "Requirement already satisfied: nbclient>=0.5.0 in /usr/local/lib/python3.10/dist-packages (from nbconvert>=6.0->jupyter-contrib-nbextensions->jupyter-require>=0.3.0->jupyter-datatables) (0.8.0)\n",
            "Requirement already satisfied: nbformat>=5.1 in /usr/local/lib/python3.10/dist-packages (from nbconvert>=6.0->jupyter-contrib-nbextensions->jupyter-require>=0.3.0->jupyter-datatables) (5.9.2)\n",
            "Requirement already satisfied: pandocfilters>=1.4.1 in /usr/local/lib/python3.10/dist-packages (from nbconvert>=6.0->jupyter-contrib-nbextensions->jupyter-require>=0.3.0->jupyter-datatables) (1.5.0)\n",
            "Requirement already satisfied: tinycss2 in /usr/local/lib/python3.10/dist-packages (from nbconvert>=6.0->jupyter-contrib-nbextensions->jupyter-require>=0.3.0->jupyter-datatables) (1.2.1)\n",
            "Requirement already satisfied: argon2-cffi in /usr/local/lib/python3.10/dist-packages (from notebook>=6.0->jupyter-contrib-nbextensions->jupyter-require>=0.3.0->jupyter-datatables) (23.1.0)\n",
            "Requirement already satisfied: nest-asyncio>=1.5 in /usr/local/lib/python3.10/dist-packages (from notebook>=6.0->jupyter-contrib-nbextensions->jupyter-require>=0.3.0->jupyter-datatables) (1.5.7)\n",
            "Requirement already satisfied: Send2Trash>=1.8.0 in /usr/local/lib/python3.10/dist-packages (from notebook>=6.0->jupyter-contrib-nbextensions->jupyter-require>=0.3.0->jupyter-datatables) (1.8.2)\n",
            "Requirement already satisfied: terminado>=0.8.3 in /usr/local/lib/python3.10/dist-packages (from notebook>=6.0->jupyter-contrib-nbextensions->jupyter-require>=0.3.0->jupyter-datatables) (0.17.1)\n",
            "Requirement already satisfied: prometheus-client in /usr/local/lib/python3.10/dist-packages (from notebook>=6.0->jupyter-contrib-nbextensions->jupyter-require>=0.3.0->jupyter-datatables) (0.17.1)\n",
            "Requirement already satisfied: nbclassic>=0.4.7 in /usr/local/lib/python3.10/dist-packages (from notebook>=6.0->jupyter-contrib-nbextensions->jupyter-require>=0.3.0->jupyter-datatables) (1.0.0)\n",
            "Requirement already satisfied: jupyter-server>=1.8 in /usr/local/lib/python3.10/dist-packages (from nbclassic>=0.4.7->notebook>=6.0->jupyter-contrib-nbextensions->jupyter-require>=0.3.0->jupyter-datatables) (1.24.0)\n",
            "Requirement already satisfied: notebook-shim>=0.2.3 in /usr/local/lib/python3.10/dist-packages (from nbclassic>=0.4.7->notebook>=6.0->jupyter-contrib-nbextensions->jupyter-require>=0.3.0->jupyter-datatables) (0.2.3)\n",
            "Requirement already satisfied: fastjsonschema in /usr/local/lib/python3.10/dist-packages (from nbformat>=5.1->nbconvert>=6.0->jupyter-contrib-nbextensions->jupyter-require>=0.3.0->jupyter-datatables) (2.18.0)\n",
            "Requirement already satisfied: jsonschema>=2.6 in /usr/local/lib/python3.10/dist-packages (from nbformat>=5.1->nbconvert>=6.0->jupyter-contrib-nbextensions->jupyter-require>=0.3.0->jupyter-datatables) (4.19.0)\n",
            "Requirement already satisfied: argon2-cffi-bindings in /usr/local/lib/python3.10/dist-packages (from argon2-cffi->notebook>=6.0->jupyter-contrib-nbextensions->jupyter-require>=0.3.0->jupyter-datatables) (21.2.0)\n",
            "Requirement already satisfied: soupsieve>1.2 in /usr/local/lib/python3.10/dist-packages (from beautifulsoup4->nbconvert>=6.0->jupyter-contrib-nbextensions->jupyter-require>=0.3.0->jupyter-datatables) (2.5)\n",
            "Requirement already satisfied: webencodings in /usr/local/lib/python3.10/dist-packages (from bleach->nbconvert>=6.0->jupyter-contrib-nbextensions->jupyter-require>=0.3.0->jupyter-datatables) (0.5.1)\n",
            "Requirement already satisfied: jsonschema-specifications>=2023.03.6 in /usr/local/lib/python3.10/dist-packages (from jsonschema>=2.6->nbformat>=5.1->nbconvert>=6.0->jupyter-contrib-nbextensions->jupyter-require>=0.3.0->jupyter-datatables) (2023.7.1)\n",
            "Requirement already satisfied: referencing>=0.28.4 in /usr/local/lib/python3.10/dist-packages (from jsonschema>=2.6->nbformat>=5.1->nbconvert>=6.0->jupyter-contrib-nbextensions->jupyter-require>=0.3.0->jupyter-datatables) (0.30.2)\n",
            "Requirement already satisfied: rpds-py>=0.7.1 in /usr/local/lib/python3.10/dist-packages (from jsonschema>=2.6->nbformat>=5.1->nbconvert>=6.0->jupyter-contrib-nbextensions->jupyter-require>=0.3.0->jupyter-datatables) (0.10.2)\n",
            "Requirement already satisfied: anyio<4,>=3.1.0 in /usr/local/lib/python3.10/dist-packages (from jupyter-server>=1.8->nbclassic>=0.4.7->notebook>=6.0->jupyter-contrib-nbextensions->jupyter-require>=0.3.0->jupyter-datatables) (3.7.1)\n",
            "Requirement already satisfied: websocket-client in /usr/local/lib/python3.10/dist-packages (from jupyter-server>=1.8->nbclassic>=0.4.7->notebook>=6.0->jupyter-contrib-nbextensions->jupyter-require>=0.3.0->jupyter-datatables) (1.6.2)\n",
            "Requirement already satisfied: cffi>=1.0.1 in /usr/local/lib/python3.10/dist-packages (from argon2-cffi-bindings->argon2-cffi->notebook>=6.0->jupyter-contrib-nbextensions->jupyter-require>=0.3.0->jupyter-datatables) (1.15.1)\n",
            "Requirement already satisfied: sniffio>=1.1 in /usr/local/lib/python3.10/dist-packages (from anyio<4,>=3.1.0->jupyter-server>=1.8->nbclassic>=0.4.7->notebook>=6.0->jupyter-contrib-nbextensions->jupyter-require>=0.3.0->jupyter-datatables) (1.3.0)\n",
            "Requirement already satisfied: exceptiongroup in /usr/local/lib/python3.10/dist-packages (from anyio<4,>=3.1.0->jupyter-server>=1.8->nbclassic>=0.4.7->notebook>=6.0->jupyter-contrib-nbextensions->jupyter-require>=0.3.0->jupyter-datatables) (1.1.3)\n",
            "Requirement already satisfied: pycparser in /usr/local/lib/python3.10/dist-packages (from cffi>=1.0.1->argon2-cffi-bindings->argon2-cffi->notebook>=6.0->jupyter-contrib-nbextensions->jupyter-require>=0.3.0->jupyter-datatables) (2.21)\n",
            "Building wheels for collected packages: csscompressor, jupyter-contrib-nbextensions, jupyter_contrib_core\n",
            "  Building wheel for csscompressor (setup.py) ... \u001b[?25l\u001b[?25hdone\n",
            "  Created wheel for csscompressor: filename=csscompressor-0.9.5-py3-none-any.whl size=240337 sha256=62d45987b2a10604f975037c517e237887e4c231a0dbac6b6f067753104a889c\n",
            "  Stored in directory: /root/.cache/pip/wheels/23/87/3c/3811e0b3e93b0778079202c3f3d68bd7b45d69ce2d80eaf775\n",
            "  Building wheel for jupyter-contrib-nbextensions (setup.py) ... \u001b[?25l\u001b[?25hdone\n",
            "  Created wheel for jupyter-contrib-nbextensions: filename=jupyter_contrib_nbextensions-0.7.0-py2.py3-none-any.whl size=23428781 sha256=ebf75958b7b79047381b768c862b691596aece1e6094489e0cce3862c1522904\n",
            "  Stored in directory: /root/.cache/pip/wheels/ea/cc/7d/99ef154f984726b1201c0f72cfe9c9d7c5132c1a2ae4d8677f\n",
            "  Building wheel for jupyter_contrib_core (setup.py) ... \u001b[?25l\u001b[?25hdone\n",
            "  Created wheel for jupyter_contrib_core: filename=jupyter_contrib_core-0.4.2-py2.py3-none-any.whl size=17484 sha256=94d0a580fb3c22d8364dd2980425ebab4f220a7bbacb1516faaa9fb3ffbbea7b\n",
            "  Stored in directory: /root/.cache/pip/wheels/a9/52/88/e0643cdfd68f0562087918c37dd583378648dbc3df68b907f7\n",
            "Successfully built csscompressor jupyter-contrib-nbextensions jupyter_contrib_core\n",
            "Installing collected packages: jupyter_highlight_selected_word, csscompressor, xxhash, python-json-logger, jedi, geomet, dill, multiprocess, huggingface-hub, daiquiri, cassandra-driver, openai, datasets, jupyter_contrib_core, jupyter_nbextensions_configurator, jupyter-contrib-nbextensions, jupyter-nbutils, jupyter-require, jupyter-datatables\n",
            "Successfully installed cassandra-driver-3.28.0 csscompressor-0.9.5 daiquiri-3.2.1 datasets-2.14.5 dill-0.3.7 geomet-0.2.1.post1 huggingface-hub-0.17.3 jedi-0.19.0 jupyter-contrib-nbextensions-0.7.0 jupyter-datatables-0.3.9 jupyter-nbutils-0.1.3 jupyter-require-0.6.1 jupyter_contrib_core-0.4.2 jupyter_highlight_selected_word-0.2.0 jupyter_nbextensions_configurator-0.6.3 multiprocess-0.70.15 openai-0.28.1 python-json-logger-2.0.7 xxhash-3.3.0\n"
          ]
        }
      ],
      "source": [
        "!pip install openai pandas jupyter-datatables cassandra-driver datasets\n",
        "\n",
        "from cassandra.cluster import Cluster\n",
        "from cassandra.auth import PlainTextAuthProvider\n",
        "from cassandra.query import dict_factory\n",
        "from cassandra.query import SimpleStatement\n",
        "import openai\n",
        "import numpy\n",
        "import pandas as pd\n",
        "import time\n",
        "from getpass import getpass"
      ]
    },
    {
      "cell_type": "markdown",
      "source": [
        "# **Keys & Environment Variables**"
      ],
      "metadata": {
        "id": "Y4jSiApDA2BV"
      }
    },
    {
      "cell_type": "code",
      "execution_count": null,
      "metadata": {
        "id": "2x19m0D9eaRx",
        "colab": {
          "base_uri": "https://localhost:8080/"
        },
        "outputId": "ee9304a0-d868-4188-e5f0-aac001504357"
      },
      "outputs": [
        {
          "name": "stdout",
          "output_type": "stream",
          "text": [
            "Your Astra DB Token (\"AstraCS:...\"): ··········\n"
          ]
        }
      ],
      "source": [
        "# Input your Astra DB token string, the one starting with \"AstraCS:...\"\n",
        "ASTRA_DB_TOKEN_BASED_PASSWORD = getpass('Your Astra DB Token (\"AstraCS:...\"): ')"
      ]
    },
    {
      "cell_type": "code",
      "execution_count": null,
      "metadata": {
        "colab": {
          "base_uri": "https://localhost:8080/"
        },
        "id": "W22M2ddQe4Co",
        "outputId": "d630e3a8-d949-46db-c116-3e8cea69579f"
      },
      "outputs": [
        {
          "name": "stdout",
          "output_type": "stream",
          "text": [
            "Enter your OpenAI API key: ··········\n"
          ]
        }
      ],
      "source": [
        "# Input your OpenAI api key\n",
        "openai_api_key = getpass('Enter your OpenAI API key: ')"
      ]
    },
    {
      "cell_type": "code",
      "execution_count": null,
      "metadata": {
        "id": "ns4Dc4oEY2vT",
        "colab": {
          "base_uri": "https://localhost:8080/"
        },
        "outputId": "0161e3d7-5222-4b91-b131-21a5415675a3"
      },
      "outputs": [
        {
          "name": "stdout",
          "output_type": "stream",
          "text": [
            "Your Astra Keyspace name: vector_preview\n"
          ]
        }
      ],
      "source": [
        "# Input your database keyspace name:\n",
        "my_ks = input('Your Astra Keyspace name: ')"
      ]
    },
    {
      "cell_type": "code",
      "execution_count": null,
      "metadata": {
        "id": "3EdwW3y_NQI7"
      },
      "outputs": [],
      "source": [
        "# keys and tokens here\n",
        "openai.api_key = openai_api_key\n",
        "cass_user = 'token'\n",
        "cass_pw = ASTRA_DB_TOKEN_BASED_PASSWORD"
      ]
    },
    {
      "cell_type": "code",
      "execution_count": null,
      "metadata": {
        "colab": {
          "base_uri": "https://localhost:8080/",
          "height": 90
        },
        "id": "7gBOYyVoeZ6q",
        "outputId": "9d338892-be5a-4c7e-89df-521f4485ec78"
      },
      "outputs": [
        {
          "output_type": "stream",
          "name": "stdout",
          "text": [
            "Please upload your Secure Connect Bundle\n"
          ]
        },
        {
          "output_type": "display_data",
          "data": {
            "text/plain": [
              "<IPython.core.display.HTML object>"
            ],
            "text/html": [
              "\n",
              "     <input type=\"file\" id=\"files-02205c2c-a032-47c1-972e-38d3d58c64b1\" name=\"files[]\" multiple disabled\n",
              "        style=\"border:none\" />\n",
              "     <output id=\"result-02205c2c-a032-47c1-972e-38d3d58c64b1\">\n",
              "      Upload widget is only available when the cell has been executed in the\n",
              "      current browser session. Please rerun this cell to enable.\n",
              "      </output>\n",
              "      <script>// Copyright 2017 Google LLC\n",
              "//\n",
              "// Licensed under the Apache License, Version 2.0 (the \"License\");\n",
              "// you may not use this file except in compliance with the License.\n",
              "// You may obtain a copy of the License at\n",
              "//\n",
              "//      http://www.apache.org/licenses/LICENSE-2.0\n",
              "//\n",
              "// Unless required by applicable law or agreed to in writing, software\n",
              "// distributed under the License is distributed on an \"AS IS\" BASIS,\n",
              "// WITHOUT WARRANTIES OR CONDITIONS OF ANY KIND, either express or implied.\n",
              "// See the License for the specific language governing permissions and\n",
              "// limitations under the License.\n",
              "\n",
              "/**\n",
              " * @fileoverview Helpers for google.colab Python module.\n",
              " */\n",
              "(function(scope) {\n",
              "function span(text, styleAttributes = {}) {\n",
              "  const element = document.createElement('span');\n",
              "  element.textContent = text;\n",
              "  for (const key of Object.keys(styleAttributes)) {\n",
              "    element.style[key] = styleAttributes[key];\n",
              "  }\n",
              "  return element;\n",
              "}\n",
              "\n",
              "// Max number of bytes which will be uploaded at a time.\n",
              "const MAX_PAYLOAD_SIZE = 100 * 1024;\n",
              "\n",
              "function _uploadFiles(inputId, outputId) {\n",
              "  const steps = uploadFilesStep(inputId, outputId);\n",
              "  const outputElement = document.getElementById(outputId);\n",
              "  // Cache steps on the outputElement to make it available for the next call\n",
              "  // to uploadFilesContinue from Python.\n",
              "  outputElement.steps = steps;\n",
              "\n",
              "  return _uploadFilesContinue(outputId);\n",
              "}\n",
              "\n",
              "// This is roughly an async generator (not supported in the browser yet),\n",
              "// where there are multiple asynchronous steps and the Python side is going\n",
              "// to poll for completion of each step.\n",
              "// This uses a Promise to block the python side on completion of each step,\n",
              "// then passes the result of the previous step as the input to the next step.\n",
              "function _uploadFilesContinue(outputId) {\n",
              "  const outputElement = document.getElementById(outputId);\n",
              "  const steps = outputElement.steps;\n",
              "\n",
              "  const next = steps.next(outputElement.lastPromiseValue);\n",
              "  return Promise.resolve(next.value.promise).then((value) => {\n",
              "    // Cache the last promise value to make it available to the next\n",
              "    // step of the generator.\n",
              "    outputElement.lastPromiseValue = value;\n",
              "    return next.value.response;\n",
              "  });\n",
              "}\n",
              "\n",
              "/**\n",
              " * Generator function which is called between each async step of the upload\n",
              " * process.\n",
              " * @param {string} inputId Element ID of the input file picker element.\n",
              " * @param {string} outputId Element ID of the output display.\n",
              " * @return {!Iterable<!Object>} Iterable of next steps.\n",
              " */\n",
              "function* uploadFilesStep(inputId, outputId) {\n",
              "  const inputElement = document.getElementById(inputId);\n",
              "  inputElement.disabled = false;\n",
              "\n",
              "  const outputElement = document.getElementById(outputId);\n",
              "  outputElement.innerHTML = '';\n",
              "\n",
              "  const pickedPromise = new Promise((resolve) => {\n",
              "    inputElement.addEventListener('change', (e) => {\n",
              "      resolve(e.target.files);\n",
              "    });\n",
              "  });\n",
              "\n",
              "  const cancel = document.createElement('button');\n",
              "  inputElement.parentElement.appendChild(cancel);\n",
              "  cancel.textContent = 'Cancel upload';\n",
              "  const cancelPromise = new Promise((resolve) => {\n",
              "    cancel.onclick = () => {\n",
              "      resolve(null);\n",
              "    };\n",
              "  });\n",
              "\n",
              "  // Wait for the user to pick the files.\n",
              "  const files = yield {\n",
              "    promise: Promise.race([pickedPromise, cancelPromise]),\n",
              "    response: {\n",
              "      action: 'starting',\n",
              "    }\n",
              "  };\n",
              "\n",
              "  cancel.remove();\n",
              "\n",
              "  // Disable the input element since further picks are not allowed.\n",
              "  inputElement.disabled = true;\n",
              "\n",
              "  if (!files) {\n",
              "    return {\n",
              "      response: {\n",
              "        action: 'complete',\n",
              "      }\n",
              "    };\n",
              "  }\n",
              "\n",
              "  for (const file of files) {\n",
              "    const li = document.createElement('li');\n",
              "    li.append(span(file.name, {fontWeight: 'bold'}));\n",
              "    li.append(span(\n",
              "        `(${file.type || 'n/a'}) - ${file.size} bytes, ` +\n",
              "        `last modified: ${\n",
              "            file.lastModifiedDate ? file.lastModifiedDate.toLocaleDateString() :\n",
              "                                    'n/a'} - `));\n",
              "    const percent = span('0% done');\n",
              "    li.appendChild(percent);\n",
              "\n",
              "    outputElement.appendChild(li);\n",
              "\n",
              "    const fileDataPromise = new Promise((resolve) => {\n",
              "      const reader = new FileReader();\n",
              "      reader.onload = (e) => {\n",
              "        resolve(e.target.result);\n",
              "      };\n",
              "      reader.readAsArrayBuffer(file);\n",
              "    });\n",
              "    // Wait for the data to be ready.\n",
              "    let fileData = yield {\n",
              "      promise: fileDataPromise,\n",
              "      response: {\n",
              "        action: 'continue',\n",
              "      }\n",
              "    };\n",
              "\n",
              "    // Use a chunked sending to avoid message size limits. See b/62115660.\n",
              "    let position = 0;\n",
              "    do {\n",
              "      const length = Math.min(fileData.byteLength - position, MAX_PAYLOAD_SIZE);\n",
              "      const chunk = new Uint8Array(fileData, position, length);\n",
              "      position += length;\n",
              "\n",
              "      const base64 = btoa(String.fromCharCode.apply(null, chunk));\n",
              "      yield {\n",
              "        response: {\n",
              "          action: 'append',\n",
              "          file: file.name,\n",
              "          data: base64,\n",
              "        },\n",
              "      };\n",
              "\n",
              "      let percentDone = fileData.byteLength === 0 ?\n",
              "          100 :\n",
              "          Math.round((position / fileData.byteLength) * 100);\n",
              "      percent.textContent = `${percentDone}% done`;\n",
              "\n",
              "    } while (position < fileData.byteLength);\n",
              "  }\n",
              "\n",
              "  // All done.\n",
              "  yield {\n",
              "    response: {\n",
              "      action: 'complete',\n",
              "    }\n",
              "  };\n",
              "}\n",
              "\n",
              "scope.google = scope.google || {};\n",
              "scope.google.colab = scope.google.colab || {};\n",
              "scope.google.colab._files = {\n",
              "  _uploadFiles,\n",
              "  _uploadFilesContinue,\n",
              "};\n",
              "})(self);\n",
              "</script> "
            ]
          },
          "metadata": {}
        },
        {
          "output_type": "stream",
          "name": "stdout",
          "text": [
            "Saving secure-connect-vectordemo.zip to secure-connect-vectordemo.zip\n"
          ]
        }
      ],
      "source": [
        "# Upload your Secure Connect Bundle zipfile:\n",
        "import os\n",
        "from google.colab import files\n",
        "\n",
        "\n",
        "print('Please upload your Secure Connect Bundle')\n",
        "uploaded = files.upload()\n",
        "if uploaded:\n",
        "    astraBundleFileTitle = list(uploaded.keys())[0]\n",
        "    scb_path = os.path.join(os.getcwd(), astraBundleFileTitle)\n",
        "else:\n",
        "    raise ValueError(\n",
        "        'Cannot proceed without Secure Connect Bundle. Please re-run the cell.'\n",
        "    )"
      ]
    },
    {
      "cell_type": "markdown",
      "metadata": {
        "id": "-l-O1f6B57jC"
      },
      "source": [
        "# **Select a model to compute embeddings**"
      ]
    },
    {
      "cell_type": "code",
      "execution_count": null,
      "metadata": {
        "id": "nMN_pe1356RA"
      },
      "outputs": [],
      "source": [
        "model_id = \"text-embedding-ada-002\""
      ]
    },
    {
      "cell_type": "markdown",
      "metadata": {
        "id": "CdhiXOhBPhDS"
      },
      "source": [
        "# **Connect to Astra with Hybrid Search**"
      ]
    },
    {
      "cell_type": "code",
      "execution_count": null,
      "metadata": {
        "colab": {
          "base_uri": "https://localhost:8080/"
        },
        "id": "8c1KHF9LPoQe",
        "outputId": "2f7c970c-a237-41f4-8ee2-90b32f64dfb5"
      },
      "outputs": [
        {
          "output_type": "execute_result",
          "data": {
            "text/plain": [
              "<cassandra.cluster.Session at 0x7936a022b9d0>"
            ]
          },
          "metadata": {},
          "execution_count": 9
        }
      ],
      "source": [
        "cloud_config= {\n",
        "  'secure_connect_bundle': scb_path\n",
        "}\n",
        "auth_provider = PlainTextAuthProvider(cass_user, cass_pw)\n",
        "cluster = Cluster(cloud=cloud_config, auth_provider=auth_provider, protocol_version=4)\n",
        "session = cluster.connect()\n",
        "session.set_keyspace(my_ks)\n",
        "session"
      ]
    },
    {
      "cell_type": "markdown",
      "metadata": {
        "id": "KN7rECxcPuOJ"
      },
      "source": [
        "# **Drop / Create Schema**"
      ]
    },
    {
      "cell_type": "code",
      "execution_count": null,
      "metadata": {
        "colab": {
          "base_uri": "https://localhost:8080/"
        },
        "id": "Vbqig3sYP3FT",
        "outputId": "7b3cffc9-f327-4a31-d03e-d36e884bbc9d"
      },
      "outputs": [
        {
          "output_type": "execute_result",
          "data": {
            "text/plain": [
              "<cassandra.cluster.ResultSet at 0x7fb59045d0c0>"
            ]
          },
          "metadata": {},
          "execution_count": 9
        }
      ],
      "source": [
        "# only use this to reset the schema\n",
        "session.execute(f\"\"\"DROP INDEX IF EXISTS title_context_vector\"\"\")\n",
        "session.execute(f\"\"\"DROP INDEX IF EXISTS context_term\"\"\")\n",
        "session.execute(f\"\"\"DROP TABLE IF EXISTS squad_hybrid\"\"\")"
      ]
    },
    {
      "cell_type": "code",
      "execution_count": null,
      "metadata": {
        "colab": {
          "base_uri": "https://localhost:8080/"
        },
        "id": "hSJ_amZnP7Me",
        "outputId": "e4073298-9c19-4970-f98d-b5d0e2d917ba"
      },
      "outputs": [
        {
          "output_type": "execute_result",
          "data": {
            "text/plain": [
              "<cassandra.cluster.ResultSet at 0x7fb55c7033a0>"
            ]
          },
          "metadata": {},
          "execution_count": 14
        }
      ],
      "source": [
        "# # Create Table\n",
        "session.execute(f\"\"\"CREATE TABLE IF NOT EXISTS squad_hybrid\n",
        "(id text,\n",
        " title text,\n",
        " context text,\n",
        " question text,\n",
        " answers map<text,text>,\n",
        " title_context_embedding vector<float, 1536>,\n",
        " PRIMARY KEY (id,title))\"\"\")\n",
        "\n",
        "# # Create Indexes\n",
        "\n",
        "# First - Vector index\n",
        "session.execute(\"\"\"\n",
        "    CREATE CUSTOM INDEX IF NOT EXISTS title_context_vector\n",
        "    ON squad_hybrid (title_context_embedding)\n",
        "    USING 'org.apache.cassandra.index.sai.StorageAttachedIndex'\n",
        "    WITH OPTIONS = {'similarity_function' : 'dot_product'}\n",
        "\"\"\")\n",
        "\n",
        "# Second - Text Analyzer index\n",
        "session.execute(\"\"\"\n",
        "    CREATE CUSTOM INDEX IF NOT EXISTS context_term\n",
        "    ON squad_hybrid (context)\n",
        "    USING 'org.apache.cassandra.index.sai.StorageAttachedIndex'\n",
        "    WITH OPTIONS = {\n",
        "      'index_analyzer': '{\n",
        "      \"tokenizer\" : {\"name\" : \"standard\"},\n",
        "      \"filters\" : [{\"name\" : \"porterstem\"}]\n",
        "      }'}\n",
        "\"\"\")\n"
      ]
    },
    {
      "cell_type": "markdown",
      "metadata": {
        "id": "S9yO0OhMT-0J"
      },
      "source": [
        "# **Loading the Data**\n",
        "\n",
        "Start by constructing our knowledge base. Download a mostly prepared dataset called Stanford Question-Answering Dataset (SQuAD) hosted on Hugging Face Datasets."
      ]
    },
    {
      "cell_type": "code",
      "execution_count": null,
      "metadata": {
        "colab": {
          "base_uri": "https://localhost:8080/",
          "height": 374,
          "referenced_widgets": [
            "1e4bd5ad357a4a818cbaa3a9f84b6b40",
            "dedbf97e8624474b87b26919273082d0",
            "68c794022ddd4d42ad9fe9dbbb0a543e",
            "eab84bb9ab6e4a18bb525607a08af5a3",
            "a852b5e194db4f9b82b9f33e409c21c7",
            "16e4044cd78b4029854dc30b8c17710e",
            "a20f15b2affa4e17b5418ff1dc0b416b",
            "575b8a406c1441eca229d77548880f37",
            "65cac5ddf180483cbedc07e9b02bcf13",
            "e3304825f1054ca48833750f74c0c1e1",
            "79090416f52f4871adc9e6587da215f5",
            "22b16f8cb3f048c291969a3b11658771",
            "a760dd48e3bc4b3ab8b9e540c2367d64",
            "c939a8dff19249068ccd8f33d5e604e4",
            "4c21add6d7544e8883a5028ad0206b76",
            "eef9f9a12f964fa087eeb4c7c62732b1",
            "b4034c8ac6be4901823fb741da2ee949",
            "e0e7a135f9024c018a20759541033dbe",
            "3e5efc05f4ae440287c952049d0d3428",
            "d53fb857eaac41afaf4b41f0f43b69a1",
            "1e44a4dff3224cce89fa4e3010e53494",
            "6c0f8d14a5d5402c88d05f7b1d8929e2",
            "242070e19229485398214384c460cc60",
            "5aba8a43422745779e483ad004cf3201",
            "7337920b6b8e4967bc6e27607b31d2ef",
            "02f056c1f30a45bf9e6490dfb8740732",
            "ddf6cf8920cb4277b6014743f340f1d4",
            "831b6090364c435690839c6883cfb32b",
            "244d20abd3ec459e8d40b65670d23d8c",
            "a87c6df95d8c4205a3673509004b35e2",
            "79b9ecc83a8b4ae5a3b7048a2919fe66",
            "52f4c5c980d142c98011e522cc2942c7",
            "3cc2454eaddc4ce184fbe7c026a25b25",
            "fc9d51ef335a4873bb5554b7f5322b79",
            "8eafe9c36ced4b10b15a100b879e2d3e",
            "1247f8815944441ba8f4df641c61957e",
            "60e0d98aa5b54fb297240bb4a66094fa",
            "9810b2b2b39e4406a5a705a6877e8385",
            "dc65772b22e74ccb8dc0b71554c99233",
            "996437b4d19844c1bfafb7ccf2004cd3",
            "87153f0facf7441189c1c27efcbb2b69",
            "3ed5906e1fe641f082036295ed376afa",
            "d6ef23c0b1cb42208d9c76c6469b41ed",
            "57967b96fc904f948bd69df185287f43",
            "deae686190304adbacea3771bbac49d8",
            "15f03cde7459445d9b2a6fbd8729157c",
            "6e1cc3e11e6d49319736405f28cb9462",
            "41047f1d35b24a2d83ba5a7bb4086c89",
            "659eca4029cb4f29a7022978ea99d1f0",
            "3aabc93eec4d4691b1a18f07cbe297df",
            "2b34d23fcf144f7f8cfb2b64ccf6474d",
            "64bb82e548d74aa6b2e9c654f3114b7b",
            "6b0dc51f79e74c45a644060cd3a24b5a",
            "8da27b9b918a4045aec037abfd6e9ecc",
            "7a9530f03a23494aa6f3b12826039b18",
            "e63192f9603042f49376bf1bdb2b2467",
            "fee20c04b2ba4bb3b21c49c6a80045b9",
            "dbb3a5c9064c49ccabde72141ad8a8a7",
            "04a1aad848db456fbe18519e8ead9fb5",
            "6149024678634efa98e17f5919af995c",
            "5eec5903ace343da846703576091dcde",
            "515a51075baa421ab2fcdd98caa8274f",
            "d50facda2b0c4ae486f6a8ab98cbe211",
            "f46d6752c2364109aa0d2ec243d0d19d",
            "bcb13440808d442b92c46b13fec0da88",
            "a7bf29ea5d9546ef821f5eca36c35a66",
            "290a83259a904f289a6a1997b9caaa52",
            "7412947c949042908dc9f01927ae4bb2",
            "f74c9a21a05d4d7c9b6e961fda7d4bc3",
            "032a1fe1d26d476c8776a47767b1f864",
            "897f5be53e684600b0ea664d1512f786",
            "2be1ef08f5a845cab6207b5bd1dbe318",
            "f994e9092c0746cfba37a040daf306fd",
            "b72d29f8fbd0423d9f4f79c86a7ac524",
            "e23c768563e34cd094c41b2470db50c3",
            "3832eedff3e647a08000f6c4c9e96cf0",
            "3385d8cca05b4a36981f40d2eaee9104",
            "01bfea39e38c4fddac23ca669d1ae46c",
            "4c0bbb4d0e4d45089125dcfd21bdca1a",
            "f09124ca3e6f43308299c942155aec4f",
            "f55d25c31f1b4a6b9e8d107b58722639",
            "2479e9e008c74ec7a82c57fce0a5b082",
            "1c8b9abfdf6346d1855c599febc26a1a",
            "c9b22546b92d49d8b8c9a6070e0b9981",
            "0bc47a7ed9984cd78f388f0cf9ddbc09",
            "7897763200ff418f9bc2aa2ec11a5509",
            "1409b567384d4e0eb90ef09d91620e40",
            "92beb88a3f0e4dffbfca5ef4bbfd56d5",
            "425581ae7c6b4304a5cb7339b30c5fe7",
            "4770d476b83c43299ace065b5ebed24e",
            "8f32605eec4241dab99cae35f42e609b",
            "7fbfc6b0f0c849dea0b98a356925c9de",
            "43e4fb49fba0431ba5d5753042d87b14",
            "e0ac034002ec4490872381a00c45836e",
            "8c877b64b0984c5da067fb68dc9b09d8",
            "d68c9696672e4afc94dca2b82dbe3135",
            "b22413a9a57c4abe923a9e6ccc92391b",
            "7c06b0f2969e4d378f9f37b013e8e045",
            "bd73acf448b24637b444a78579573097"
          ]
        },
        "id": "D9144Yk9T_Pv",
        "outputId": "cf22cef5-9989-4336-9a5f-d8fff7f5bded"
      },
      "outputs": [
        {
          "output_type": "display_data",
          "data": {
            "text/plain": [
              "Downloading builder script:   0%|          | 0.00/5.27k [00:00<?, ?B/s]"
            ],
            "application/vnd.jupyter.widget-view+json": {
              "version_major": 2,
              "version_minor": 0,
              "model_id": "1e4bd5ad357a4a818cbaa3a9f84b6b40"
            }
          },
          "metadata": {}
        },
        {
          "output_type": "display_data",
          "data": {
            "text/plain": [
              "Downloading metadata:   0%|          | 0.00/2.36k [00:00<?, ?B/s]"
            ],
            "application/vnd.jupyter.widget-view+json": {
              "version_major": 2,
              "version_minor": 0,
              "model_id": "22b16f8cb3f048c291969a3b11658771"
            }
          },
          "metadata": {}
        },
        {
          "output_type": "display_data",
          "data": {
            "text/plain": [
              "Downloading readme:   0%|          | 0.00/7.67k [00:00<?, ?B/s]"
            ],
            "application/vnd.jupyter.widget-view+json": {
              "version_major": 2,
              "version_minor": 0,
              "model_id": "242070e19229485398214384c460cc60"
            }
          },
          "metadata": {}
        },
        {
          "output_type": "display_data",
          "data": {
            "text/plain": [
              "Downloading data files:   0%|          | 0/2 [00:00<?, ?it/s]"
            ],
            "application/vnd.jupyter.widget-view+json": {
              "version_major": 2,
              "version_minor": 0,
              "model_id": "fc9d51ef335a4873bb5554b7f5322b79"
            }
          },
          "metadata": {}
        },
        {
          "output_type": "display_data",
          "data": {
            "text/plain": [
              "Downloading data:   0%|          | 0.00/8.12M [00:00<?, ?B/s]"
            ],
            "application/vnd.jupyter.widget-view+json": {
              "version_major": 2,
              "version_minor": 0,
              "model_id": "deae686190304adbacea3771bbac49d8"
            }
          },
          "metadata": {}
        },
        {
          "output_type": "display_data",
          "data": {
            "text/plain": [
              "Downloading data:   0%|          | 0.00/1.05M [00:00<?, ?B/s]"
            ],
            "application/vnd.jupyter.widget-view+json": {
              "version_major": 2,
              "version_minor": 0,
              "model_id": "e63192f9603042f49376bf1bdb2b2467"
            }
          },
          "metadata": {}
        },
        {
          "output_type": "display_data",
          "data": {
            "text/plain": [
              "Extracting data files:   0%|          | 0/2 [00:00<?, ?it/s]"
            ],
            "application/vnd.jupyter.widget-view+json": {
              "version_major": 2,
              "version_minor": 0,
              "model_id": "290a83259a904f289a6a1997b9caaa52"
            }
          },
          "metadata": {}
        },
        {
          "output_type": "display_data",
          "data": {
            "text/plain": [
              "Generating train split:   0%|          | 0/87599 [00:00<?, ? examples/s]"
            ],
            "application/vnd.jupyter.widget-view+json": {
              "version_major": 2,
              "version_minor": 0,
              "model_id": "01bfea39e38c4fddac23ca669d1ae46c"
            }
          },
          "metadata": {}
        },
        {
          "output_type": "display_data",
          "data": {
            "text/plain": [
              "Generating validation split:   0%|          | 0/10570 [00:00<?, ? examples/s]"
            ],
            "application/vnd.jupyter.widget-view+json": {
              "version_major": 2,
              "version_minor": 0,
              "model_id": "425581ae7c6b4304a5cb7339b30c5fe7"
            }
          },
          "metadata": {}
        },
        {
          "output_type": "execute_result",
          "data": {
            "text/plain": [
              "Dataset({\n",
              "    features: ['id', 'title', 'context', 'question', 'answers'],\n",
              "    num_rows: 87599\n",
              "})"
            ]
          },
          "metadata": {},
          "execution_count": 10
        }
      ],
      "source": [
        "from datasets import load_dataset\n",
        "\n",
        "data = load_dataset('squad', split='train')\n",
        "data"
      ]
    },
    {
      "cell_type": "markdown",
      "metadata": {
        "id": "YOVOWzJxVDXB"
      },
      "source": [
        "Let's see the 1st 5 records. The dataset does contain duplicate contexts,"
      ]
    },
    {
      "cell_type": "code",
      "execution_count": null,
      "metadata": {
        "colab": {
          "base_uri": "https://localhost:8080/",
          "height": 206
        },
        "id": "qaXw_v1EVB2z",
        "outputId": "e0bd0b74-3607-4627-dc95-33de61cb0c94"
      },
      "outputs": [
        {
          "output_type": "execute_result",
          "data": {
            "text/plain": [
              "                         id                     title  \\\n",
              "0  5733be284776f41900661182  University_of_Notre_Dame   \n",
              "1  5733be284776f4190066117f  University_of_Notre_Dame   \n",
              "2  5733be284776f41900661180  University_of_Notre_Dame   \n",
              "3  5733be284776f41900661181  University_of_Notre_Dame   \n",
              "4  5733be284776f4190066117e  University_of_Notre_Dame   \n",
              "\n",
              "                                             context  \\\n",
              "0  Architecturally, the school has a Catholic cha...   \n",
              "1  Architecturally, the school has a Catholic cha...   \n",
              "2  Architecturally, the school has a Catholic cha...   \n",
              "3  Architecturally, the school has a Catholic cha...   \n",
              "4  Architecturally, the school has a Catholic cha...   \n",
              "\n",
              "                                            question  \\\n",
              "0  To whom did the Virgin Mary allegedly appear i...   \n",
              "1  What is in front of the Notre Dame Main Building?   \n",
              "2  The Basilica of the Sacred heart at Notre Dame...   \n",
              "3                  What is the Grotto at Notre Dame?   \n",
              "4  What sits on top of the Main Building at Notre...   \n",
              "\n",
              "                                             answers  \n",
              "0  {'text': ['Saint Bernadette Soubirous'], 'answ...  \n",
              "1  {'text': ['a copper statue of Christ'], 'answe...  \n",
              "2  {'text': ['the Main Building'], 'answer_start'...  \n",
              "3  {'text': ['a Marian place of prayer and reflec...  \n",
              "4  {'text': ['a golden statue of the Virgin Mary'...  "
            ],
            "text/html": [
              "\n",
              "  <div id=\"df-76b3fb8b-159e-46a7-aa65-5687fa23eb3e\" class=\"colab-df-container\">\n",
              "    <div>\n",
              "<style scoped>\n",
              "    .dataframe tbody tr th:only-of-type {\n",
              "        vertical-align: middle;\n",
              "    }\n",
              "\n",
              "    .dataframe tbody tr th {\n",
              "        vertical-align: top;\n",
              "    }\n",
              "\n",
              "    .dataframe thead th {\n",
              "        text-align: right;\n",
              "    }\n",
              "</style>\n",
              "<table border=\"1\" class=\"dataframe\">\n",
              "  <thead>\n",
              "    <tr style=\"text-align: right;\">\n",
              "      <th></th>\n",
              "      <th>id</th>\n",
              "      <th>title</th>\n",
              "      <th>context</th>\n",
              "      <th>question</th>\n",
              "      <th>answers</th>\n",
              "    </tr>\n",
              "  </thead>\n",
              "  <tbody>\n",
              "    <tr>\n",
              "      <th>0</th>\n",
              "      <td>5733be284776f41900661182</td>\n",
              "      <td>University_of_Notre_Dame</td>\n",
              "      <td>Architecturally, the school has a Catholic cha...</td>\n",
              "      <td>To whom did the Virgin Mary allegedly appear i...</td>\n",
              "      <td>{'text': ['Saint Bernadette Soubirous'], 'answ...</td>\n",
              "    </tr>\n",
              "    <tr>\n",
              "      <th>1</th>\n",
              "      <td>5733be284776f4190066117f</td>\n",
              "      <td>University_of_Notre_Dame</td>\n",
              "      <td>Architecturally, the school has a Catholic cha...</td>\n",
              "      <td>What is in front of the Notre Dame Main Building?</td>\n",
              "      <td>{'text': ['a copper statue of Christ'], 'answe...</td>\n",
              "    </tr>\n",
              "    <tr>\n",
              "      <th>2</th>\n",
              "      <td>5733be284776f41900661180</td>\n",
              "      <td>University_of_Notre_Dame</td>\n",
              "      <td>Architecturally, the school has a Catholic cha...</td>\n",
              "      <td>The Basilica of the Sacred heart at Notre Dame...</td>\n",
              "      <td>{'text': ['the Main Building'], 'answer_start'...</td>\n",
              "    </tr>\n",
              "    <tr>\n",
              "      <th>3</th>\n",
              "      <td>5733be284776f41900661181</td>\n",
              "      <td>University_of_Notre_Dame</td>\n",
              "      <td>Architecturally, the school has a Catholic cha...</td>\n",
              "      <td>What is the Grotto at Notre Dame?</td>\n",
              "      <td>{'text': ['a Marian place of prayer and reflec...</td>\n",
              "    </tr>\n",
              "    <tr>\n",
              "      <th>4</th>\n",
              "      <td>5733be284776f4190066117e</td>\n",
              "      <td>University_of_Notre_Dame</td>\n",
              "      <td>Architecturally, the school has a Catholic cha...</td>\n",
              "      <td>What sits on top of the Main Building at Notre...</td>\n",
              "      <td>{'text': ['a golden statue of the Virgin Mary'...</td>\n",
              "    </tr>\n",
              "  </tbody>\n",
              "</table>\n",
              "</div>\n",
              "    <div class=\"colab-df-buttons\">\n",
              "\n",
              "  <div class=\"colab-df-container\">\n",
              "    <button class=\"colab-df-convert\" onclick=\"convertToInteractive('df-76b3fb8b-159e-46a7-aa65-5687fa23eb3e')\"\n",
              "            title=\"Convert this dataframe to an interactive table.\"\n",
              "            style=\"display:none;\">\n",
              "\n",
              "  <svg xmlns=\"http://www.w3.org/2000/svg\" height=\"24px\" viewBox=\"0 -960 960 960\">\n",
              "    <path d=\"M120-120v-720h720v720H120Zm60-500h600v-160H180v160Zm220 220h160v-160H400v160Zm0 220h160v-160H400v160ZM180-400h160v-160H180v160Zm440 0h160v-160H620v160ZM180-180h160v-160H180v160Zm440 0h160v-160H620v160Z\"/>\n",
              "  </svg>\n",
              "    </button>\n",
              "\n",
              "  <style>\n",
              "    .colab-df-container {\n",
              "      display:flex;\n",
              "      gap: 12px;\n",
              "    }\n",
              "\n",
              "    .colab-df-convert {\n",
              "      background-color: #E8F0FE;\n",
              "      border: none;\n",
              "      border-radius: 50%;\n",
              "      cursor: pointer;\n",
              "      display: none;\n",
              "      fill: #1967D2;\n",
              "      height: 32px;\n",
              "      padding: 0 0 0 0;\n",
              "      width: 32px;\n",
              "    }\n",
              "\n",
              "    .colab-df-convert:hover {\n",
              "      background-color: #E2EBFA;\n",
              "      box-shadow: 0px 1px 2px rgba(60, 64, 67, 0.3), 0px 1px 3px 1px rgba(60, 64, 67, 0.15);\n",
              "      fill: #174EA6;\n",
              "    }\n",
              "\n",
              "    .colab-df-buttons div {\n",
              "      margin-bottom: 4px;\n",
              "    }\n",
              "\n",
              "    [theme=dark] .colab-df-convert {\n",
              "      background-color: #3B4455;\n",
              "      fill: #D2E3FC;\n",
              "    }\n",
              "\n",
              "    [theme=dark] .colab-df-convert:hover {\n",
              "      background-color: #434B5C;\n",
              "      box-shadow: 0px 1px 3px 1px rgba(0, 0, 0, 0.15);\n",
              "      filter: drop-shadow(0px 1px 2px rgba(0, 0, 0, 0.3));\n",
              "      fill: #FFFFFF;\n",
              "    }\n",
              "  </style>\n",
              "\n",
              "    <script>\n",
              "      const buttonEl =\n",
              "        document.querySelector('#df-76b3fb8b-159e-46a7-aa65-5687fa23eb3e button.colab-df-convert');\n",
              "      buttonEl.style.display =\n",
              "        google.colab.kernel.accessAllowed ? 'block' : 'none';\n",
              "\n",
              "      async function convertToInteractive(key) {\n",
              "        const element = document.querySelector('#df-76b3fb8b-159e-46a7-aa65-5687fa23eb3e');\n",
              "        const dataTable =\n",
              "          await google.colab.kernel.invokeFunction('convertToInteractive',\n",
              "                                                    [key], {});\n",
              "        if (!dataTable) return;\n",
              "\n",
              "        const docLinkHtml = 'Like what you see? Visit the ' +\n",
              "          '<a target=\"_blank\" href=https://colab.research.google.com/notebooks/data_table.ipynb>data table notebook</a>'\n",
              "          + ' to learn more about interactive tables.';\n",
              "        element.innerHTML = '';\n",
              "        dataTable['output_type'] = 'display_data';\n",
              "        await google.colab.output.renderOutput(dataTable, element);\n",
              "        const docLink = document.createElement('div');\n",
              "        docLink.innerHTML = docLinkHtml;\n",
              "        element.appendChild(docLink);\n",
              "      }\n",
              "    </script>\n",
              "  </div>\n",
              "\n",
              "\n",
              "<div id=\"df-f29fc38f-14bd-4ab5-927b-36601a853d69\">\n",
              "  <button class=\"colab-df-quickchart\" onclick=\"quickchart('df-f29fc38f-14bd-4ab5-927b-36601a853d69')\"\n",
              "            title=\"Suggest charts.\"\n",
              "            style=\"display:none;\">\n",
              "\n",
              "<svg xmlns=\"http://www.w3.org/2000/svg\" height=\"24px\"viewBox=\"0 0 24 24\"\n",
              "     width=\"24px\">\n",
              "    <g>\n",
              "        <path d=\"M19 3H5c-1.1 0-2 .9-2 2v14c0 1.1.9 2 2 2h14c1.1 0 2-.9 2-2V5c0-1.1-.9-2-2-2zM9 17H7v-7h2v7zm4 0h-2V7h2v10zm4 0h-2v-4h2v4z\"/>\n",
              "    </g>\n",
              "</svg>\n",
              "  </button>\n",
              "\n",
              "<style>\n",
              "  .colab-df-quickchart {\n",
              "      --bg-color: #E8F0FE;\n",
              "      --fill-color: #1967D2;\n",
              "      --hover-bg-color: #E2EBFA;\n",
              "      --hover-fill-color: #174EA6;\n",
              "      --disabled-fill-color: #AAA;\n",
              "      --disabled-bg-color: #DDD;\n",
              "  }\n",
              "\n",
              "  [theme=dark] .colab-df-quickchart {\n",
              "      --bg-color: #3B4455;\n",
              "      --fill-color: #D2E3FC;\n",
              "      --hover-bg-color: #434B5C;\n",
              "      --hover-fill-color: #FFFFFF;\n",
              "      --disabled-bg-color: #3B4455;\n",
              "      --disabled-fill-color: #666;\n",
              "  }\n",
              "\n",
              "  .colab-df-quickchart {\n",
              "    background-color: var(--bg-color);\n",
              "    border: none;\n",
              "    border-radius: 50%;\n",
              "    cursor: pointer;\n",
              "    display: none;\n",
              "    fill: var(--fill-color);\n",
              "    height: 32px;\n",
              "    padding: 0;\n",
              "    width: 32px;\n",
              "  }\n",
              "\n",
              "  .colab-df-quickchart:hover {\n",
              "    background-color: var(--hover-bg-color);\n",
              "    box-shadow: 0 1px 2px rgba(60, 64, 67, 0.3), 0 1px 3px 1px rgba(60, 64, 67, 0.15);\n",
              "    fill: var(--button-hover-fill-color);\n",
              "  }\n",
              "\n",
              "  .colab-df-quickchart-complete:disabled,\n",
              "  .colab-df-quickchart-complete:disabled:hover {\n",
              "    background-color: var(--disabled-bg-color);\n",
              "    fill: var(--disabled-fill-color);\n",
              "    box-shadow: none;\n",
              "  }\n",
              "\n",
              "  .colab-df-spinner {\n",
              "    border: 2px solid var(--fill-color);\n",
              "    border-color: transparent;\n",
              "    border-bottom-color: var(--fill-color);\n",
              "    animation:\n",
              "      spin 1s steps(1) infinite;\n",
              "  }\n",
              "\n",
              "  @keyframes spin {\n",
              "    0% {\n",
              "      border-color: transparent;\n",
              "      border-bottom-color: var(--fill-color);\n",
              "      border-left-color: var(--fill-color);\n",
              "    }\n",
              "    20% {\n",
              "      border-color: transparent;\n",
              "      border-left-color: var(--fill-color);\n",
              "      border-top-color: var(--fill-color);\n",
              "    }\n",
              "    30% {\n",
              "      border-color: transparent;\n",
              "      border-left-color: var(--fill-color);\n",
              "      border-top-color: var(--fill-color);\n",
              "      border-right-color: var(--fill-color);\n",
              "    }\n",
              "    40% {\n",
              "      border-color: transparent;\n",
              "      border-right-color: var(--fill-color);\n",
              "      border-top-color: var(--fill-color);\n",
              "    }\n",
              "    60% {\n",
              "      border-color: transparent;\n",
              "      border-right-color: var(--fill-color);\n",
              "    }\n",
              "    80% {\n",
              "      border-color: transparent;\n",
              "      border-right-color: var(--fill-color);\n",
              "      border-bottom-color: var(--fill-color);\n",
              "    }\n",
              "    90% {\n",
              "      border-color: transparent;\n",
              "      border-bottom-color: var(--fill-color);\n",
              "    }\n",
              "  }\n",
              "</style>\n",
              "\n",
              "  <script>\n",
              "    async function quickchart(key) {\n",
              "      const quickchartButtonEl =\n",
              "        document.querySelector('#' + key + ' button');\n",
              "      quickchartButtonEl.disabled = true;  // To prevent multiple clicks.\n",
              "      quickchartButtonEl.classList.add('colab-df-spinner');\n",
              "      try {\n",
              "        const charts = await google.colab.kernel.invokeFunction(\n",
              "            'suggestCharts', [key], {});\n",
              "      } catch (error) {\n",
              "        console.error('Error during call to suggestCharts:', error);\n",
              "      }\n",
              "      quickchartButtonEl.classList.remove('colab-df-spinner');\n",
              "      quickchartButtonEl.classList.add('colab-df-quickchart-complete');\n",
              "    }\n",
              "    (() => {\n",
              "      let quickchartButtonEl =\n",
              "        document.querySelector('#df-f29fc38f-14bd-4ab5-927b-36601a853d69 button');\n",
              "      quickchartButtonEl.style.display =\n",
              "        google.colab.kernel.accessAllowed ? 'block' : 'none';\n",
              "    })();\n",
              "  </script>\n",
              "</div>\n",
              "    </div>\n",
              "  </div>\n"
            ]
          },
          "metadata": {},
          "execution_count": 11
        }
      ],
      "source": [
        "data = data.to_pandas()\n",
        "data.head()"
      ]
    },
    {
      "cell_type": "markdown",
      "metadata": {
        "id": "mrU8_nqlUo_w"
      },
      "source": [
        "Remove the duplicate context and keep the 1st record of the records with same context."
      ]
    },
    {
      "cell_type": "code",
      "execution_count": null,
      "metadata": {
        "colab": {
          "base_uri": "https://localhost:8080/",
          "height": 206
        },
        "id": "ngJbo6HcUbG0",
        "outputId": "20c445d5-e003-4923-bd30-6cec750fa961"
      },
      "outputs": [
        {
          "output_type": "execute_result",
          "data": {
            "text/plain": [
              "                          id                     title  \\\n",
              "0   5733be284776f41900661182  University_of_Notre_Dame   \n",
              "5   5733bf84d058e614000b61be  University_of_Notre_Dame   \n",
              "10  5733bed24776f41900661188  University_of_Notre_Dame   \n",
              "15  5733a6424776f41900660f51  University_of_Notre_Dame   \n",
              "20  5733a70c4776f41900660f64  University_of_Notre_Dame   \n",
              "\n",
              "                                              context  \\\n",
              "0   Architecturally, the school has a Catholic cha...   \n",
              "5   As at most other universities, Notre Dame's st...   \n",
              "10  The university is the major seat of the Congre...   \n",
              "15  The College of Engineering was established in ...   \n",
              "20  All of Notre Dame's undergraduate students are...   \n",
              "\n",
              "                                             question  \\\n",
              "0   To whom did the Virgin Mary allegedly appear i...   \n",
              "5   When did the Scholastic Magazine of Notre dame...   \n",
              "10  Where is the headquarters of the Congregation ...   \n",
              "15  How many BS level degrees are offered in the C...   \n",
              "20  What entity provides help with the management ...   \n",
              "\n",
              "                                              answers  \n",
              "0   {'text': ['Saint Bernadette Soubirous'], 'answ...  \n",
              "5   {'text': ['September 1876'], 'answer_start': [...  \n",
              "10          {'text': ['Rome'], 'answer_start': [119]}  \n",
              "15         {'text': ['eight'], 'answer_start': [487]}  \n",
              "20  {'text': ['Learning Resource Center'], 'answer...  "
            ],
            "text/html": [
              "\n",
              "  <div id=\"df-1fa886ab-2b92-4311-97dc-38dc59b354c8\" class=\"colab-df-container\">\n",
              "    <div>\n",
              "<style scoped>\n",
              "    .dataframe tbody tr th:only-of-type {\n",
              "        vertical-align: middle;\n",
              "    }\n",
              "\n",
              "    .dataframe tbody tr th {\n",
              "        vertical-align: top;\n",
              "    }\n",
              "\n",
              "    .dataframe thead th {\n",
              "        text-align: right;\n",
              "    }\n",
              "</style>\n",
              "<table border=\"1\" class=\"dataframe\">\n",
              "  <thead>\n",
              "    <tr style=\"text-align: right;\">\n",
              "      <th></th>\n",
              "      <th>id</th>\n",
              "      <th>title</th>\n",
              "      <th>context</th>\n",
              "      <th>question</th>\n",
              "      <th>answers</th>\n",
              "    </tr>\n",
              "  </thead>\n",
              "  <tbody>\n",
              "    <tr>\n",
              "      <th>0</th>\n",
              "      <td>5733be284776f41900661182</td>\n",
              "      <td>University_of_Notre_Dame</td>\n",
              "      <td>Architecturally, the school has a Catholic cha...</td>\n",
              "      <td>To whom did the Virgin Mary allegedly appear i...</td>\n",
              "      <td>{'text': ['Saint Bernadette Soubirous'], 'answ...</td>\n",
              "    </tr>\n",
              "    <tr>\n",
              "      <th>5</th>\n",
              "      <td>5733bf84d058e614000b61be</td>\n",
              "      <td>University_of_Notre_Dame</td>\n",
              "      <td>As at most other universities, Notre Dame's st...</td>\n",
              "      <td>When did the Scholastic Magazine of Notre dame...</td>\n",
              "      <td>{'text': ['September 1876'], 'answer_start': [...</td>\n",
              "    </tr>\n",
              "    <tr>\n",
              "      <th>10</th>\n",
              "      <td>5733bed24776f41900661188</td>\n",
              "      <td>University_of_Notre_Dame</td>\n",
              "      <td>The university is the major seat of the Congre...</td>\n",
              "      <td>Where is the headquarters of the Congregation ...</td>\n",
              "      <td>{'text': ['Rome'], 'answer_start': [119]}</td>\n",
              "    </tr>\n",
              "    <tr>\n",
              "      <th>15</th>\n",
              "      <td>5733a6424776f41900660f51</td>\n",
              "      <td>University_of_Notre_Dame</td>\n",
              "      <td>The College of Engineering was established in ...</td>\n",
              "      <td>How many BS level degrees are offered in the C...</td>\n",
              "      <td>{'text': ['eight'], 'answer_start': [487]}</td>\n",
              "    </tr>\n",
              "    <tr>\n",
              "      <th>20</th>\n",
              "      <td>5733a70c4776f41900660f64</td>\n",
              "      <td>University_of_Notre_Dame</td>\n",
              "      <td>All of Notre Dame's undergraduate students are...</td>\n",
              "      <td>What entity provides help with the management ...</td>\n",
              "      <td>{'text': ['Learning Resource Center'], 'answer...</td>\n",
              "    </tr>\n",
              "  </tbody>\n",
              "</table>\n",
              "</div>\n",
              "    <div class=\"colab-df-buttons\">\n",
              "\n",
              "  <div class=\"colab-df-container\">\n",
              "    <button class=\"colab-df-convert\" onclick=\"convertToInteractive('df-1fa886ab-2b92-4311-97dc-38dc59b354c8')\"\n",
              "            title=\"Convert this dataframe to an interactive table.\"\n",
              "            style=\"display:none;\">\n",
              "\n",
              "  <svg xmlns=\"http://www.w3.org/2000/svg\" height=\"24px\" viewBox=\"0 -960 960 960\">\n",
              "    <path d=\"M120-120v-720h720v720H120Zm60-500h600v-160H180v160Zm220 220h160v-160H400v160Zm0 220h160v-160H400v160ZM180-400h160v-160H180v160Zm440 0h160v-160H620v160ZM180-180h160v-160H180v160Zm440 0h160v-160H620v160Z\"/>\n",
              "  </svg>\n",
              "    </button>\n",
              "\n",
              "  <style>\n",
              "    .colab-df-container {\n",
              "      display:flex;\n",
              "      gap: 12px;\n",
              "    }\n",
              "\n",
              "    .colab-df-convert {\n",
              "      background-color: #E8F0FE;\n",
              "      border: none;\n",
              "      border-radius: 50%;\n",
              "      cursor: pointer;\n",
              "      display: none;\n",
              "      fill: #1967D2;\n",
              "      height: 32px;\n",
              "      padding: 0 0 0 0;\n",
              "      width: 32px;\n",
              "    }\n",
              "\n",
              "    .colab-df-convert:hover {\n",
              "      background-color: #E2EBFA;\n",
              "      box-shadow: 0px 1px 2px rgba(60, 64, 67, 0.3), 0px 1px 3px 1px rgba(60, 64, 67, 0.15);\n",
              "      fill: #174EA6;\n",
              "    }\n",
              "\n",
              "    .colab-df-buttons div {\n",
              "      margin-bottom: 4px;\n",
              "    }\n",
              "\n",
              "    [theme=dark] .colab-df-convert {\n",
              "      background-color: #3B4455;\n",
              "      fill: #D2E3FC;\n",
              "    }\n",
              "\n",
              "    [theme=dark] .colab-df-convert:hover {\n",
              "      background-color: #434B5C;\n",
              "      box-shadow: 0px 1px 3px 1px rgba(0, 0, 0, 0.15);\n",
              "      filter: drop-shadow(0px 1px 2px rgba(0, 0, 0, 0.3));\n",
              "      fill: #FFFFFF;\n",
              "    }\n",
              "  </style>\n",
              "\n",
              "    <script>\n",
              "      const buttonEl =\n",
              "        document.querySelector('#df-1fa886ab-2b92-4311-97dc-38dc59b354c8 button.colab-df-convert');\n",
              "      buttonEl.style.display =\n",
              "        google.colab.kernel.accessAllowed ? 'block' : 'none';\n",
              "\n",
              "      async function convertToInteractive(key) {\n",
              "        const element = document.querySelector('#df-1fa886ab-2b92-4311-97dc-38dc59b354c8');\n",
              "        const dataTable =\n",
              "          await google.colab.kernel.invokeFunction('convertToInteractive',\n",
              "                                                    [key], {});\n",
              "        if (!dataTable) return;\n",
              "\n",
              "        const docLinkHtml = 'Like what you see? Visit the ' +\n",
              "          '<a target=\"_blank\" href=https://colab.research.google.com/notebooks/data_table.ipynb>data table notebook</a>'\n",
              "          + ' to learn more about interactive tables.';\n",
              "        element.innerHTML = '';\n",
              "        dataTable['output_type'] = 'display_data';\n",
              "        await google.colab.output.renderOutput(dataTable, element);\n",
              "        const docLink = document.createElement('div');\n",
              "        docLink.innerHTML = docLinkHtml;\n",
              "        element.appendChild(docLink);\n",
              "      }\n",
              "    </script>\n",
              "  </div>\n",
              "\n",
              "\n",
              "<div id=\"df-b9cd9238-a914-48ec-a419-2de149efcd7a\">\n",
              "  <button class=\"colab-df-quickchart\" onclick=\"quickchart('df-b9cd9238-a914-48ec-a419-2de149efcd7a')\"\n",
              "            title=\"Suggest charts.\"\n",
              "            style=\"display:none;\">\n",
              "\n",
              "<svg xmlns=\"http://www.w3.org/2000/svg\" height=\"24px\"viewBox=\"0 0 24 24\"\n",
              "     width=\"24px\">\n",
              "    <g>\n",
              "        <path d=\"M19 3H5c-1.1 0-2 .9-2 2v14c0 1.1.9 2 2 2h14c1.1 0 2-.9 2-2V5c0-1.1-.9-2-2-2zM9 17H7v-7h2v7zm4 0h-2V7h2v10zm4 0h-2v-4h2v4z\"/>\n",
              "    </g>\n",
              "</svg>\n",
              "  </button>\n",
              "\n",
              "<style>\n",
              "  .colab-df-quickchart {\n",
              "      --bg-color: #E8F0FE;\n",
              "      --fill-color: #1967D2;\n",
              "      --hover-bg-color: #E2EBFA;\n",
              "      --hover-fill-color: #174EA6;\n",
              "      --disabled-fill-color: #AAA;\n",
              "      --disabled-bg-color: #DDD;\n",
              "  }\n",
              "\n",
              "  [theme=dark] .colab-df-quickchart {\n",
              "      --bg-color: #3B4455;\n",
              "      --fill-color: #D2E3FC;\n",
              "      --hover-bg-color: #434B5C;\n",
              "      --hover-fill-color: #FFFFFF;\n",
              "      --disabled-bg-color: #3B4455;\n",
              "      --disabled-fill-color: #666;\n",
              "  }\n",
              "\n",
              "  .colab-df-quickchart {\n",
              "    background-color: var(--bg-color);\n",
              "    border: none;\n",
              "    border-radius: 50%;\n",
              "    cursor: pointer;\n",
              "    display: none;\n",
              "    fill: var(--fill-color);\n",
              "    height: 32px;\n",
              "    padding: 0;\n",
              "    width: 32px;\n",
              "  }\n",
              "\n",
              "  .colab-df-quickchart:hover {\n",
              "    background-color: var(--hover-bg-color);\n",
              "    box-shadow: 0 1px 2px rgba(60, 64, 67, 0.3), 0 1px 3px 1px rgba(60, 64, 67, 0.15);\n",
              "    fill: var(--button-hover-fill-color);\n",
              "  }\n",
              "\n",
              "  .colab-df-quickchart-complete:disabled,\n",
              "  .colab-df-quickchart-complete:disabled:hover {\n",
              "    background-color: var(--disabled-bg-color);\n",
              "    fill: var(--disabled-fill-color);\n",
              "    box-shadow: none;\n",
              "  }\n",
              "\n",
              "  .colab-df-spinner {\n",
              "    border: 2px solid var(--fill-color);\n",
              "    border-color: transparent;\n",
              "    border-bottom-color: var(--fill-color);\n",
              "    animation:\n",
              "      spin 1s steps(1) infinite;\n",
              "  }\n",
              "\n",
              "  @keyframes spin {\n",
              "    0% {\n",
              "      border-color: transparent;\n",
              "      border-bottom-color: var(--fill-color);\n",
              "      border-left-color: var(--fill-color);\n",
              "    }\n",
              "    20% {\n",
              "      border-color: transparent;\n",
              "      border-left-color: var(--fill-color);\n",
              "      border-top-color: var(--fill-color);\n",
              "    }\n",
              "    30% {\n",
              "      border-color: transparent;\n",
              "      border-left-color: var(--fill-color);\n",
              "      border-top-color: var(--fill-color);\n",
              "      border-right-color: var(--fill-color);\n",
              "    }\n",
              "    40% {\n",
              "      border-color: transparent;\n",
              "      border-right-color: var(--fill-color);\n",
              "      border-top-color: var(--fill-color);\n",
              "    }\n",
              "    60% {\n",
              "      border-color: transparent;\n",
              "      border-right-color: var(--fill-color);\n",
              "    }\n",
              "    80% {\n",
              "      border-color: transparent;\n",
              "      border-right-color: var(--fill-color);\n",
              "      border-bottom-color: var(--fill-color);\n",
              "    }\n",
              "    90% {\n",
              "      border-color: transparent;\n",
              "      border-bottom-color: var(--fill-color);\n",
              "    }\n",
              "  }\n",
              "</style>\n",
              "\n",
              "  <script>\n",
              "    async function quickchart(key) {\n",
              "      const quickchartButtonEl =\n",
              "        document.querySelector('#' + key + ' button');\n",
              "      quickchartButtonEl.disabled = true;  // To prevent multiple clicks.\n",
              "      quickchartButtonEl.classList.add('colab-df-spinner');\n",
              "      try {\n",
              "        const charts = await google.colab.kernel.invokeFunction(\n",
              "            'suggestCharts', [key], {});\n",
              "      } catch (error) {\n",
              "        console.error('Error during call to suggestCharts:', error);\n",
              "      }\n",
              "      quickchartButtonEl.classList.remove('colab-df-spinner');\n",
              "      quickchartButtonEl.classList.add('colab-df-quickchart-complete');\n",
              "    }\n",
              "    (() => {\n",
              "      let quickchartButtonEl =\n",
              "        document.querySelector('#df-b9cd9238-a914-48ec-a419-2de149efcd7a button');\n",
              "      quickchartButtonEl.style.display =\n",
              "        google.colab.kernel.accessAllowed ? 'block' : 'none';\n",
              "    })();\n",
              "  </script>\n",
              "</div>\n",
              "    </div>\n",
              "  </div>\n"
            ]
          },
          "metadata": {},
          "execution_count": 12
        }
      ],
      "source": [
        "data.drop_duplicates(subset='context', keep='first', inplace=True)\n",
        "data.head()"
      ]
    },
    {
      "cell_type": "markdown",
      "metadata": {
        "id": "IN_8Ss2AXSkW"
      },
      "source": [
        "# **Load the table with data and create text embeddings**\n",
        "\n",
        "* If you are using free trial of the OpenAPI,  the rate limit is about 60/min.  Please adjust the ***counter*** variable below according to your rate limit.\n",
        "* It takes a long time to load the full data so it is set as 300 here.   Please adjust the ***total*** variable below according to the number of data to test.  Please note that the more data is loaded the longer it takes to load."
      ]
    },
    {
      "cell_type": "code",
      "execution_count": null,
      "metadata": {
        "colab": {
          "base_uri": "https://localhost:8080/",
          "height": 1000
        },
        "id": "wI-jcK5eXS1A",
        "outputId": "be19ea54-1103-4e66-db66-98a20c65ec35"
      },
      "outputs": [
        {
          "output_type": "display_data",
          "data": {
            "text/plain": [
              "id                                   5733be284776f41900661182\n",
              "title                                University_of_Notre_Dame\n",
              "context     Architecturally, the school has a Catholic cha...\n",
              "question    To whom did the Virgin Mary allegedly appear i...\n",
              "answers     {'text': ['Saint Bernadette Soubirous'], 'answ...\n",
              "Name: 0, dtype: object"
            ]
          },
          "metadata": {}
        },
        {
          "output_type": "display_data",
          "data": {
            "text/plain": [
              "id                                   5733bf84d058e614000b61be\n",
              "title                                University_of_Notre_Dame\n",
              "context     As at most other universities, Notre Dame's st...\n",
              "question    When did the Scholastic Magazine of Notre dame...\n",
              "answers     {'text': ['September 1876'], 'answer_start': [...\n",
              "Name: 5, dtype: object"
            ]
          },
          "metadata": {}
        },
        {
          "output_type": "display_data",
          "data": {
            "text/plain": [
              "id                                   5733bed24776f41900661188\n",
              "title                                University_of_Notre_Dame\n",
              "context     The university is the major seat of the Congre...\n",
              "question    Where is the headquarters of the Congregation ...\n",
              "answers             {'text': ['Rome'], 'answer_start': [119]}\n",
              "Name: 10, dtype: object"
            ]
          },
          "metadata": {}
        },
        {
          "output_type": "display_data",
          "data": {
            "text/plain": [
              "id                                   5733a6424776f41900660f51\n",
              "title                                University_of_Notre_Dame\n",
              "context     The College of Engineering was established in ...\n",
              "question    How many BS level degrees are offered in the C...\n",
              "answers            {'text': ['eight'], 'answer_start': [487]}\n",
              "Name: 15, dtype: object"
            ]
          },
          "metadata": {}
        },
        {
          "output_type": "display_data",
          "data": {
            "text/plain": [
              "id                                   5733a70c4776f41900660f64\n",
              "title                                University_of_Notre_Dame\n",
              "context     All of Notre Dame's undergraduate students are...\n",
              "question    What entity provides help with the management ...\n",
              "answers     {'text': ['Learning Resource Center'], 'answer...\n",
              "Name: 20, dtype: object"
            ]
          },
          "metadata": {}
        },
        {
          "output_type": "display_data",
          "data": {
            "text/plain": [
              "id                                   5733a7bd4776f41900660f6b\n",
              "title                                University_of_Notre_Dame\n",
              "context     The university first offered graduate degrees,...\n",
              "question    The granting of Doctorate degrees first occurr...\n",
              "answers             {'text': ['1924'], 'answer_start': [358]}\n",
              "Name: 24, dtype: object"
            ]
          },
          "metadata": {}
        },
        {
          "output_type": "display_data",
          "data": {
            "text/plain": [
              "id                                   5733ac31d058e614000b5ff3\n",
              "title                                University_of_Notre_Dame\n",
              "context     The Joan B. Kroc Institute for International P...\n",
              "question    What institute at Notre Dame studies  the reas...\n",
              "answers     {'text': ['Joan B. Kroc Institute for Internat...\n",
              "Name: 29, dtype: object"
            ]
          },
          "metadata": {}
        },
        {
          "output_type": "display_data",
          "data": {
            "text/plain": [
              "id                                   5733ad384776f41900660fec\n",
              "title                                University_of_Notre_Dame\n",
              "context     The library system of the university is divide...\n",
              "question    How many stories tall is the main library at N...\n",
              "answers               {'text': ['14'], 'answer_start': [136]}\n",
              "Name: 34, dtype: object"
            ]
          },
          "metadata": {}
        },
        {
          "output_type": "display_data",
          "data": {
            "text/plain": [
              "id                                   5733ae924776f41900661014\n",
              "title                                University_of_Notre_Dame\n",
              "context     Notre Dame is known for its competitive admiss...\n",
              "question    How many incoming students did Notre Dame admi...\n",
              "answers            {'text': ['3,577'], 'answer_start': [109]}\n",
              "Name: 39, dtype: object"
            ]
          },
          "metadata": {}
        },
        {
          "output_type": "display_data",
          "data": {
            "text/plain": [
              "id                                   5733afd3d058e614000b6045\n",
              "title                                University_of_Notre_Dame\n",
              "context     In 2015-2016, Notre Dame ranked 18th overall a...\n",
              "question    Where did U.S. News & World Report rank Notre ...\n",
              "answers      {'text': ['18th overall'], 'answer_start': [32]}\n",
              "Name: 44, dtype: object"
            ]
          },
          "metadata": {}
        },
        {
          "output_type": "display_data",
          "data": {
            "text/plain": [
              "id                                   5733b0fb4776f41900661041\n",
              "title                                University_of_Notre_Dame\n",
              "context     Father Joseph Carrier, C.S.C. was Director of ...\n",
              "question    What person was the Director of the Science Mu...\n",
              "answers     {'text': ['Father Joseph Carrier, C.S.C.'], 'a...\n",
              "Name: 49, dtype: object"
            ]
          },
          "metadata": {}
        },
        {
          "output_type": "display_data",
          "data": {
            "text/plain": [
              "id                                   5733b1da4776f41900661068\n",
              "title                                University_of_Notre_Dame\n",
              "context     In 1882, Albert Zahm (John Zahm's brother) bui...\n",
              "question    In what year did Albert Zahm begin comparing a...\n",
              "answers               {'text': ['1882'], 'answer_start': [3]}\n",
              "Name: 54, dtype: object"
            ]
          },
          "metadata": {}
        },
        {
          "output_type": "display_data",
          "data": {
            "text/plain": [
              "id                                   5733b2fe4776f4190066108f\n",
              "title                                University_of_Notre_Dame\n",
              "context     The Lobund Institute grew out of pioneering re...\n",
              "question    Work on a germ-free-life ended up in the creat...\n",
              "answers     {'text': ['The Lobund Institute'], 'answer_sta...\n",
              "Name: 59, dtype: object"
            ]
          },
          "metadata": {}
        },
        {
          "output_type": "display_data",
          "data": {
            "text/plain": [
              "id                                   5733b3d64776f419006610a3\n",
              "title                                University_of_Notre_Dame\n",
              "context     The Review of Politics was founded in 1939 by ...\n",
              "question           Gurian created what in 1939 at Notre Dame?\n",
              "answers     {'text': ['The Review of Politics'], 'answer_s...\n",
              "Name: 64, dtype: object"
            ]
          },
          "metadata": {}
        },
        {
          "output_type": "display_data",
          "data": {
            "text/plain": [
              "id                                   5733b5344776f419006610dd\n",
              "title                                University_of_Notre_Dame\n",
              "context     As of 2012[update] research continued in many ...\n",
              "question         Who was the president of Notre Dame in 2012?\n",
              "answers      {'text': ['John Jenkins'], 'answer_start': [80]}\n",
              "Name: 68, dtype: object"
            ]
          },
          "metadata": {}
        },
        {
          "output_type": "display_data",
          "data": {
            "text/plain": [
              "id                                   5733b5df4776f41900661105\n",
              "title                                University_of_Notre_Dame\n",
              "context     In 2014 the Notre Dame student body consisted ...\n",
              "question    How many undergrads were attending Notre Dame ...\n",
              "answers             {'text': ['8,448'], 'answer_start': [71]}\n",
              "Name: 73, dtype: object"
            ]
          },
          "metadata": {}
        },
        {
          "output_type": "display_data",
          "data": {
            "text/plain": [
              "id                                   5733b699d058e614000b6118\n",
              "title                                University_of_Notre_Dame\n",
              "context     About 80% of undergraduates and 20% of graduat...\n",
              "question    What percentage of undergrads live on the Notr...\n",
              "answers                {'text': ['80%'], 'answer_start': [6]}\n",
              "Name: 78, dtype: object"
            ]
          },
          "metadata": {}
        },
        {
          "output_type": "display_data",
          "data": {
            "text/plain": [
              "id                                   5733b7f74776f4190066112d\n",
              "title                                University_of_Notre_Dame\n",
              "context     The university is affiliated with the Congrega...\n",
              "question         What is Congregation of Holy Cross in Latin?\n",
              "answers     {'text': ['Congregatio a Sancta Cruce'], 'answ...\n",
              "Name: 83, dtype: object"
            ]
          },
          "metadata": {}
        },
        {
          "output_type": "display_data",
          "data": {
            "text/plain": [
              "id                                   57338653d058e614000b5c84\n",
              "title                                University_of_Notre_Dame\n",
              "context     This Main Building, and the library collection...\n",
              "question        What was the music hall at Notre Dame called?\n",
              "answers     {'text': ['Washington Hall'], 'answer_start': ...\n",
              "Name: 88, dtype: object"
            ]
          },
          "metadata": {}
        },
        {
          "output_type": "display_data",
          "data": {
            "text/plain": [
              "id                                   57338724d058e614000b5c9f\n",
              "title                                University_of_Notre_Dame\n",
              "context     In 1919 Father James Burns became president of...\n",
              "question    What type of education was pushed at Notre Dam...\n",
              "answers     {'text': ['scholastic and classical'], 'answer...\n",
              "Name: 93, dtype: object"
            ]
          },
          "metadata": {}
        },
        {
          "output_type": "display_data",
          "data": {
            "text/plain": [
              "id                                   573387acd058e614000b5cb1\n",
              "title                                University_of_Notre_Dame\n",
              "context     One of the main driving forces in the growth o...\n",
              "question    The Notre Dame football team got a new head co...\n",
              "answers     {'text': ['Knute Rockne'], 'answer_start': [117]}\n",
              "Name: 98, dtype: object"
            ]
          },
          "metadata": {}
        },
        {
          "output_type": "display_data",
          "data": {
            "text/plain": [
              "id                                   573388ce4776f41900660cc3\n",
              "title                                University_of_Notre_Dame\n",
              "context     The success of its football team made Notre Da...\n",
              "question    Catholic people identified with Notre Dame, wh...\n",
              "answers     {'text': ['the Protestant establishment'], 'an...\n",
              "Name: 103, dtype: object"
            ]
          },
          "metadata": {}
        },
        {
          "output_type": "display_data",
          "data": {
            "text/plain": [
              "id                                   57338a51d058e614000b5cf0\n",
              "title                                University_of_Notre_Dame\n",
              "context     Holy Cross Father John Francis O'Hara was elec...\n",
              "question    Which person became vice-president of Notre Da...\n",
              "answers     {'text': ['Father John Francis O'Hara'], 'answ...\n",
              "Name: 108, dtype: object"
            ]
          },
          "metadata": {}
        },
        {
          "output_type": "display_data",
          "data": {
            "text/plain": [
              "id                                   5733926d4776f41900660d8e\n",
              "title                                University_of_Notre_Dame\n",
              "context     The Rev. John J. Cavanaugh, C.S.C. served as p...\n",
              "question    Around the time that Rev. Cavanaugh became pre...\n",
              "answers     {'text': ['more than half'], 'answer_start': [...\n",
              "Name: 113, dtype: object"
            ]
          },
          "metadata": {}
        },
        {
          "output_type": "display_data",
          "data": {
            "text/plain": [
              "id                                   573393184776f41900660da6\n",
              "title                                University_of_Notre_Dame\n",
              "context     The Rev. Theodore Hesburgh, C.S.C., (1917–2015...\n",
              "question          What was the lifespan of Theodore Hesburgh?\n",
              "answers         {'text': ['1917–2015'], 'answer_start': [37]}\n",
              "Name: 118, dtype: object"
            ]
          },
          "metadata": {}
        },
        {
          "output_type": "display_data",
          "data": {
            "text/plain": [
              "id                                   573393e1d058e614000b5dc2\n",
              "title                                University_of_Notre_Dame\n",
              "context     Hesburgh is also credited with transforming th...\n",
              "question    What type of educational institute is Hesburgh...\n",
              "answers     {'text': ['coeducational'], 'answer_start': [82]}\n",
              "Name: 123, dtype: object"
            ]
          },
          "metadata": {}
        },
        {
          "output_type": "display_data",
          "data": {
            "text/plain": [
              "id                                   573394c84776f41900660ddd\n",
              "title                                University_of_Notre_Dame\n",
              "context     In the 18 years under the presidency of Edward...\n",
              "question    During what years was Edward Malloy president ...\n",
              "answers         {'text': ['1987–2005'], 'answer_start': [64]}\n",
              "Name: 128, dtype: object"
            ]
          },
          "metadata": {}
        },
        {
          "output_type": "display_data",
          "data": {
            "text/plain": [
              "id                                   5733974d4776f41900660e17\n",
              "title                                University_of_Notre_Dame\n",
              "context     Since 2005, Notre Dame has been led by John I....\n",
              "question    When did John Jenkins become the president of ...\n",
              "answers               {'text': ['2005'], 'answer_start': [6]}\n",
              "Name: 133, dtype: object"
            ]
          },
          "metadata": {}
        },
        {
          "output_type": "display_data",
          "data": {
            "text/plain": [
              "id                                   573398164776f41900660e21\n",
              "title                                University_of_Notre_Dame\n",
              "context     Because of its Catholic identity, a number of ...\n",
              "question    Which congregation is in charge of the Old Col...\n",
              "answers     {'text': ['Congregation of Holy Cross'], 'answ...\n",
              "Name: 138, dtype: object"
            ]
          },
          "metadata": {}
        },
        {
          "output_type": "display_data",
          "data": {
            "text/plain": [
              "id                                   573398ebd058e614000b5e66\n",
              "title                                University_of_Notre_Dame\n",
              "context     A Science Hall was built in 1883 under the dir...\n",
              "question    Which person oversaw the creation of a science...\n",
              "answers          {'text': ['Fr. Zahm'], 'answer_start': [56]}\n",
              "Name: 143, dtype: object"
            ]
          },
          "metadata": {}
        },
        {
          "output_type": "display_data",
          "data": {
            "text/plain": [
              "id                                   57339a5bd058e614000b5e91\n",
              "title                                University_of_Notre_Dame\n",
              "context     Since the construction of its oldest buildings...\n",
              "question    How many halls are at Notre Dame that house st...\n",
              "answers               {'text': ['29'], 'answer_start': [120]}\n",
              "Name: 148, dtype: object"
            ]
          },
          "metadata": {}
        },
        {
          "output_type": "display_data",
          "data": {
            "text/plain": [
              "id                                   57339b36d058e614000b5ea3\n",
              "title                                University_of_Notre_Dame\n",
              "context     The University of Notre Dame has made being a ...\n",
              "question    In what year did Notre Dame create the Office ...\n",
              "answers             {'text': ['2008'], 'answer_start': [142]}\n",
              "Name: 153, dtype: object"
            ]
          },
          "metadata": {}
        },
        {
          "output_type": "display_data",
          "data": {
            "text/plain": [
              "id                                   57339c184776f41900660ea5\n",
              "title                                University_of_Notre_Dame\n",
              "context     The university owns several centers around the...\n",
              "question    In what year did Notre Dame first have a facil...\n",
              "answers             {'text': ['1968'], 'answer_start': [198]}\n",
              "Name: 157, dtype: object"
            ]
          },
          "metadata": {}
        },
        {
          "output_type": "display_data",
          "data": {
            "text/plain": [
              "id                                   5733a3cbd058e614000b5f3f\n",
              "title                                University_of_Notre_Dame\n",
              "context     The College of Arts and Letters was establishe...\n",
              "question                 What was Notre Dame's first college?\n",
              "answers     {'text': ['The College of Arts and Letters'], ...\n",
              "Name: 161, dtype: object"
            ]
          },
          "metadata": {}
        },
        {
          "output_type": "display_data",
          "data": {
            "text/plain": [
              "id                                   5733a4c54776f41900660f2d\n",
              "title                                University_of_Notre_Dame\n",
              "context     The College of Science was established at the ...\n",
              "question    Which president at Notre Dame created the Coll...\n",
              "answers     {'text': ['Father Patrick Dillon'], 'answer_st...\n",
              "Name: 166, dtype: object"
            ]
          },
          "metadata": {}
        },
        {
          "output_type": "display_data",
          "data": {
            "text/plain": [
              "id                                   5733a55a4776f41900660f3a\n",
              "title                                University_of_Notre_Dame\n",
              "context     The School of Architecture was established in ...\n",
              "question             In 1899 Notre Dame formed which college?\n",
              "answers     {'text': ['School of Architecture'], 'answer_s...\n",
              "Name: 171, dtype: object"
            ]
          },
          "metadata": {}
        },
        {
          "output_type": "display_data",
          "data": {
            "text/plain": [
              "id                                   5733adb64776f41900661001\n",
              "title                                University_of_Notre_Dame\n",
              "context     The library system also includes branch librar...\n",
              "question    In what year did the opening of a theology lib...\n",
              "answers             {'text': ['2015'], 'answer_start': [388]}\n",
              "Name: 176, dtype: object"
            ]
          },
          "metadata": {}
        },
        {
          "output_type": "display_data",
          "data": {
            "text/plain": [
              "id                                   5733b496d058e614000b60ce\n",
              "title                                University_of_Notre_Dame\n",
              "context     The rise of Hitler and other dictators in the ...\n",
              "question    What caused many intellectual Catholics to lea...\n",
              "answers     {'text': ['The rise of Hitler and other dictat...\n",
              "Name: 180, dtype: object"
            ]
          },
          "metadata": {}
        },
        {
          "output_type": "display_data",
          "data": {
            "text/plain": [
              "id                                   573382a14776f41900660c2d\n",
              "title                                University_of_Notre_Dame\n",
              "context     The University of Notre Dame du Lac (or simply...\n",
              "question    The school known as Notre Dame is known by a m...\n",
              "answers     {'text': ['University of Notre Dame du'], 'ans...\n",
              "Name: 185, dtype: object"
            ]
          },
          "metadata": {}
        },
        {
          "output_type": "display_data",
          "data": {
            "text/plain": [
              "id                                   573383494776f41900660c41\n",
              "title                                University_of_Notre_Dame\n",
              "context     Notre Dame rose to national prominence in the ...\n",
              "question    What caused Notre Dame to become notable in th...\n",
              "answers     {'text': ['its Fighting Irish football team'],...\n",
              "Name: 190, dtype: object"
            ]
          },
          "metadata": {}
        },
        {
          "output_type": "display_data",
          "data": {
            "text/plain": [
              "id                                   573383e94776f41900660c5a\n",
              "title                                University_of_Notre_Dame\n",
              "context     Besides its prominence in sports, Notre Dame i...\n",
              "question    Where among US universities does Notre Dame rank?\n",
              "answers     {'text': ['among the top twenty'], 'answer_sta...\n",
              "Name: 195, dtype: object"
            ]
          },
          "metadata": {}
        },
        {
          "output_type": "display_data",
          "data": {
            "text/plain": [
              "id                                   5733849bd058e614000b5c56\n",
              "title                                University_of_Notre_Dame\n",
              "context     In 1842, the Bishop of Vincennes, Célestine Gu...\n",
              "question    In what year was Father Edward Sorin given two...\n",
              "answers               {'text': ['1842'], 'answer_start': [3]}\n",
              "Name: 200, dtype: object"
            ]
          },
          "metadata": {}
        },
        {
          "output_type": "display_data",
          "data": {
            "text/plain": [
              "id                                   573385394776f41900660c7f\n",
              "title                                University_of_Notre_Dame\n",
              "context     The first degrees from the college were awarde...\n",
              "question    In what year did the initial degrees get hande...\n",
              "answers              {'text': ['1849'], 'answer_start': [51]}\n",
              "Name: 205, dtype: object"
            ]
          },
          "metadata": {}
        },
        {
          "output_type": "display_data",
          "data": {
            "text/plain": [
              "id                                   5733c0064776f41900661198\n",
              "title                                University_of_Notre_Dame\n",
              "context     The television station, NDtv, grew from one sh...\n",
              "question    Which television station finds its home at Not...\n",
              "answers              {'text': ['NDtv'], 'answer_start': [24]}\n",
              "Name: 210, dtype: object"
            ]
          },
          "metadata": {}
        },
        {
          "output_type": "display_data",
          "data": {
            "text/plain": [
              "id                                   5733c0e6d058e614000b61d7\n",
              "title                                University_of_Notre_Dame\n",
              "context     The first phase of Eddy Street Commons, a $215...\n",
              "question    How much is Eddy Street Commons at Notre Dame ...\n",
              "answers      {'text': ['$215 million'], 'answer_start': [42]}\n",
              "Name: 214, dtype: object"
            ]
          },
          "metadata": {}
        },
        {
          "output_type": "display_data",
          "data": {
            "text/plain": [
              "id                                   5733c1a94776f419006611a6\n",
              "title                                University_of_Notre_Dame\n",
              "context     Notre Dame teams are known as the Fighting Iri...\n",
              "question                What does the acronym NCAA stand for?\n",
              "answers     {'text': ['National Collegiate Athletic Associ...\n",
              "Name: 219, dtype: object"
            ]
          },
          "metadata": {}
        },
        {
          "output_type": "display_data",
          "data": {
            "text/plain": [
              "id                                   5733c29c4776f419006611b8\n",
              "title                                University_of_Notre_Dame\n",
              "context     Notre Dame's conference affiliations for all o...\n",
              "question    To what conference did the Fighting Irish go a...\n",
              "answers          {'text': ['the ACC'], 'answer_start': [239]}\n",
              "Name: 224, dtype: object"
            ]
          },
          "metadata": {}
        },
        {
          "output_type": "display_data",
          "data": {
            "text/plain": [
              "id                                   5733c3184776f419006611c2\n",
              "title                                University_of_Notre_Dame\n",
              "context     On July 1, 2014, the University of Notre Dame ...\n",
              "question    Who currently provides uniforms to Notre Dame ...\n",
              "answers      {'text': ['Under Armour'], 'answer_start': [50]}\n",
              "Name: 229, dtype: object"
            ]
          },
          "metadata": {}
        },
        {
          "output_type": "display_data",
          "data": {
            "text/plain": [
              "id                                   5733c4494776f419006611da\n",
              "title                                University_of_Notre_Dame\n",
              "context     The Notre Dame football team has a long histor...\n",
              "question    Which team did Notre Dame's football team find...\n",
              "answers     {'text': ['Michigan Wolverines football team']...\n",
              "Name: 234, dtype: object"
            ]
          },
          "metadata": {}
        },
        {
          "output_type": "display_data",
          "data": {
            "text/plain": [
              "id                                   5733c743d058e614000b622d\n",
              "title                                University_of_Notre_Dame\n",
              "context     George Gipp was the school's legendary footbal...\n",
              "question    What notable football player played at Notre D...\n",
              "answers        {'text': ['George Gipp'], 'answer_start': [0]}\n",
              "Name: 239, dtype: object"
            ]
          },
          "metadata": {}
        },
        {
          "output_type": "display_data",
          "data": {
            "text/plain": [
              "id                                   5733ca05d058e614000b6263\n",
              "title                                University_of_Notre_Dame\n",
              "context     Football gameday traditions During home games,...\n",
              "question    What is displayed at Zahm House for football h...\n",
              "answers     {'text': ['two-story banner'], 'answer_start':...\n",
              "Name: 244, dtype: object"
            ]
          },
          "metadata": {}
        },
        {
          "output_type": "display_data",
          "data": {
            "text/plain": [
              "id                                   5733caf74776f4190066124c\n",
              "title                                University_of_Notre_Dame\n",
              "context     The men's basketball team has over 1,600 wins,...\n",
              "question    How many wins does the Notre Dame men's basket...\n",
              "answers        {'text': ['over 1,600'], 'answer_start': [30]}\n",
              "Name: 249, dtype: object"
            ]
          },
          "metadata": {}
        },
        {
          "output_type": "display_data",
          "data": {
            "text/plain": [
              "id                                   5733cbdad058e614000b628d\n",
              "title                                University_of_Notre_Dame\n",
              "context     The \"Notre Dame Victory March\" is the fight so...\n",
              "question    Who wrote the original lyrics to the Notre Dam...\n",
              "answers     {'text': ['John F. Shea'], 'answer_start': [222]}\n",
              "Name: 254, dtype: object"
            ]
          },
          "metadata": {}
        },
        {
          "output_type": "display_data",
          "data": {
            "text/plain": [
              "id                                   5733ccbe4776f41900661270\n",
              "title                                University_of_Notre_Dame\n",
              "context     In the film Knute Rockne, All American, Knute ...\n",
              "question           Ronald Reagan had a nickname, what was it?\n",
              "answers       {'text': ['The Gipper'], 'answer_start': [267]}\n",
              "Name: 259, dtype: object"
            ]
          },
          "metadata": {}
        },
        {
          "output_type": "display_data",
          "data": {
            "text/plain": [
              "id                                   5733cd504776f4190066128e\n",
              "title                                University_of_Notre_Dame\n",
              "context     Notre Dame alumni work in various fields. Alum...\n",
              "question        Which Secretary of State attended Notre Dame?\n",
              "answers     {'text': ['Condoleezza Rice'], 'answer_start':...\n",
              "Name: 264, dtype: object"
            ]
          },
          "metadata": {}
        },
        {
          "output_type": "display_data",
          "data": {
            "text/plain": [
              "id                                   56be85543aeaaa14008c9063\n",
              "title                                                 Beyoncé\n",
              "context     Beyoncé Giselle Knowles-Carter (/biːˈjɒnseɪ/ b...\n",
              "question             When did Beyonce start becoming popular?\n",
              "answers     {'text': ['in the late 1990s'], 'answer_start'...\n",
              "Name: 269, dtype: object"
            ]
          },
          "metadata": {}
        },
        {
          "output_type": "display_data",
          "data": {
            "text/plain": [
              "id                                   56be86cf3aeaaa14008c9076\n",
              "title                                                 Beyoncé\n",
              "context     Following the disbandment of Destiny's Child i...\n",
              "question    After her second solo album, what other entert...\n",
              "answers           {'text': ['acting'], 'answer_start': [207]}\n",
              "Name: 289, dtype: object"
            ]
          },
          "metadata": {}
        },
        {
          "output_type": "display_data",
          "data": {
            "text/plain": [
              "id                                   56be88473aeaaa14008c9080\n",
              "title                                                 Beyoncé\n",
              "context     A self-described \"modern-day feminist\", Beyonc...\n",
              "question    In her music, what are some recurring elements...\n",
              "answers     {'text': ['love, relationships, and monogamy']...\n",
              "Name: 301, dtype: object"
            ]
          },
          "metadata": {}
        },
        {
          "output_type": "display_data",
          "data": {
            "text/plain": [
              "id                                   56be892d3aeaaa14008c908b\n",
              "title                                                 Beyoncé\n",
              "context     Beyoncé Giselle Knowles was born in Houston, T...\n",
              "question    Beyonce's younger sibling also sang with her i...\n",
              "answers     {'text': ['Destiny's Child'], 'answer_start': ...\n",
              "Name: 313, dtype: object"
            ]
          },
          "metadata": {}
        },
        {
          "output_type": "display_data",
          "data": {
            "text/plain": [
              "id                                   56be8a583aeaaa14008c9094\n",
              "title                                                 Beyoncé\n",
              "context     Beyoncé attended St. Mary's Elementary School ...\n",
              "question               What town did Beyonce go to school in?\n",
              "answers     {'text': ['Fredericksburg'], 'answer_start': [...\n",
              "Name: 326, dtype: object"
            ]
          },
          "metadata": {}
        },
        {
          "output_type": "display_data",
          "data": {
            "text/plain": [
              "id                                   56be8bab3aeaaa14008c909f\n",
              "title                                                 Beyoncé\n",
              "context     At age eight, Beyoncé and childhood friend Kel...\n",
              "question    Who decided to place Beyonce's group in Star S...\n",
              "answers      {'text': ['Arne Frager'], 'answer_start': [303]}\n",
              "Name: 337, dtype: object"
            ]
          },
          "metadata": {}
        },
        {
          "output_type": "display_data",
          "data": {
            "text/plain": [
              "id                                   56be8c8a3aeaaa14008c90a9\n",
              "title                                                 Beyoncé\n",
              "context     The group changed their name to Destiny's Chil...\n",
              "question    Which film featured Destiny's Child's first ma...\n",
              "answers     {'text': ['Men in Black'], 'answer_start': [215]}\n",
              "Name: 350, dtype: object"
            ]
          },
          "metadata": {}
        },
        {
          "output_type": "display_data",
          "data": {
            "text/plain": [
              "id                                   56be8d423aeaaa14008c90b2\n",
              "title                                                 Beyoncé\n",
              "context     LeToya Luckett and Roberson became unhappy wit...\n",
              "question     What mental health issue did Beyonce go through?\n",
              "answers       {'text': ['depression'], 'answer_start': [169]}\n",
              "Name: 363, dtype: object"
            ]
          },
          "metadata": {}
        },
        {
          "output_type": "display_data",
          "data": {
            "text/plain": [
              "id                                   56be8e353aeaaa14008c90c6\n",
              "title                                                 Beyoncé\n",
              "context     The remaining band members recorded \"Independe...\n",
              "question    \"Charlie's Angels\" featured which single from ...\n",
              "answers     {'text': ['Independent Women Part I'], 'answer...\n",
              "Name: 373, dtype: object"
            ]
          },
          "metadata": {}
        },
        {
          "output_type": "display_data",
          "data": {
            "text/plain": [
              "id                                   56be8fdf3aeaaa14008c90da\n",
              "title                                                 Beyoncé\n",
              "context     In July 2002, Beyoncé continued her acting car...\n",
              "question    Who did Beyonce star with in the movie, \"Austi...\n",
              "answers        {'text': ['Mike Myers'], 'answer_start': [84]}\n",
              "Name: 384, dtype: object"
            ]
          },
          "metadata": {}
        },
        {
          "output_type": "display_data",
          "data": {
            "text/plain": [
              "id                                   56be90ee3aeaaa14008c90e4\n",
              "title                                                 Beyoncé\n",
              "context     Beyoncé's first solo recording was a feature o...\n",
              "question    What was the highest Beyonce's first solo reco...\n",
              "answers      {'text': ['number four'], 'answer_start': [123]}\n",
              "Name: 399, dtype: object"
            ]
          },
          "metadata": {}
        },
        {
          "output_type": "display_data",
          "data": {
            "text/plain": [
              "id                                   56be91b23aeaaa14008c90f0\n",
              "title                                                 Beyoncé\n",
              "context     In November 2003, she embarked on the Dangerou...\n",
              "question        Destiny's Child's final album was named what?\n",
              "answers     {'text': ['Destiny Fulfilled'], 'answer_start'...\n",
              "Name: 413, dtype: object"
            ]
          },
          "metadata": {}
        },
        {
          "output_type": "display_data",
          "data": {
            "text/plain": [
              "id                                   56be932e3aeaaa14008c90f9\n",
              "title                                                 Beyoncé\n",
              "context     Beyoncé's second solo album B'Day was released...\n",
              "question    How many albums did Beyonce sell in the first ...\n",
              "answers          {'text': ['541,000'], 'answer_start': [132]}\n",
              "Name: 423, dtype: object"
            ]
          },
          "metadata": {}
        },
        {
          "output_type": "display_data",
          "data": {
            "text/plain": [
              "id                                   56be94703aeaaa14008c9102\n",
              "title                                                 Beyoncé\n",
              "context     Her first acting role of 2006 was in the comed...\n",
              "question                  What movie did Beyonce act in 2006?\n",
              "answers     {'text': ['The Pink Panther'], 'answer_start':...\n",
              "Name: 434, dtype: object"
            ]
          },
          "metadata": {}
        },
        {
          "output_type": "display_data",
          "data": {
            "text/plain": [
              "id                                   56be95823aeaaa14008c910c\n",
              "title                                                 Beyoncé\n",
              "context     On April 4, 2008, Beyoncé married Jay Z. She p...\n",
              "question                 Beyonce got married in 2008 to whom?\n",
              "answers             {'text': ['Jay Z'], 'answer_start': [34]}\n",
              "Name: 447, dtype: object"
            ]
          },
          "metadata": {}
        },
        {
          "output_type": "display_data",
          "data": {
            "text/plain": [
              "id                                   56be96653aeaaa14008c9116\n",
              "title                                                 Beyoncé\n",
              "context     Beyoncé further expanded her acting career, st...\n",
              "question    Beyonce portrayed which character in the film,...\n",
              "answers        {'text': ['Etta James'], 'answer_start': [69]}\n",
              "Name: 461, dtype: object"
            ]
          },
          "metadata": {}
        },
        {
          "output_type": "display_data",
          "data": {
            "text/plain": [
              "id                                   56be973d3aeaaa14008c9120\n",
              "title                                                 Beyoncé\n",
              "context     At the 52nd Annual Grammy Awards, Beyoncé rece...\n",
              "question    How many awards was Beyonce nominated for at t...\n",
              "answers               {'text': ['ten'], 'answer_start': [51]}\n",
              "Name: 474, dtype: object"
            ]
          },
          "metadata": {}
        },
        {
          "output_type": "display_data",
          "data": {
            "text/plain": [
              "id                                   56be97c73aeaaa14008c912a\n",
              "title                                                 Beyoncé\n",
              "context     Beyoncé announced a hiatus from her music care...\n",
              "question    Beyonce would take a break from music in which...\n",
              "answers              {'text': ['2010'], 'answer_start': [60]}\n",
              "Name: 488, dtype: object"
            ]
          },
          "metadata": {}
        },
        {
          "output_type": "display_data",
          "data": {
            "text/plain": [
              "id                                   56be99b53aeaaa14008c913e\n",
              "title                                                 Beyoncé\n",
              "context     In 2011, documents obtained by WikiLeaks revea...\n",
              "question    In which year was reports about Beyonce perfor...\n",
              "answers               {'text': ['2011'], 'answer_start': [3]}\n",
              "Name: 499, dtype: object"
            ]
          },
          "metadata": {}
        },
        {
          "output_type": "display_data",
          "data": {
            "text/plain": [
              "id                                   56be9add3aeaaa14008c9152\n",
              "title                                                 Beyoncé\n",
              "context     Her fourth studio album 4 was released on June...\n",
              "question         Beyonce's fourth album debuted in what year?\n",
              "answers              {'text': ['2011'], 'answer_start': [51]}\n",
              "Name: 512, dtype: object"
            ]
          },
          "metadata": {}
        },
        {
          "output_type": "display_data",
          "data": {
            "text/plain": [
              "id                                   56be9bb83aeaaa14008c915c\n",
              "title                                                 Beyoncé\n",
              "context     On January 7, 2012, Beyoncé gave birth to her ...\n",
              "question               When did Beyonce have her first child?\n",
              "answers     {'text': ['January 7, 2012'], 'answer_start': ...\n",
              "Name: 525, dtype: object"
            ]
          },
          "metadata": {}
        },
        {
          "output_type": "display_data",
          "data": {
            "text/plain": [
              "id                                   56be9c863aeaaa14008c9166\n",
              "title                                                 Beyoncé\n",
              "context     In January 2013, Destiny's Child released Love...\n",
              "question    Destiny's Child released a compilation album a...\n",
              "answers           {'text': ['romance'], 'answer_start': [81]}\n",
              "Name: 538, dtype: object"
            ]
          },
          "metadata": {}
        },
        {
          "output_type": "display_data",
          "data": {
            "text/plain": [
              "id                                   56be9d3d3aeaaa14008c9170\n",
              "title                                                 Beyoncé\n",
              "context     Beyoncé embarked on The Mrs. Carter Show World...\n",
              "question    How many dates did Beyonce's \"The Mrs. Carter ...\n",
              "answers              {'text': ['132'], 'answer_start': [103]}\n",
              "Name: 550, dtype: object"
            ]
          },
          "metadata": {}
        },
        {
          "output_type": "display_data",
          "data": {
            "text/plain": [
              "id                                   56be9e453aeaaa14008c917a\n",
              "title                                                 Beyoncé\n",
              "context     On December 13, 2013, Beyoncé unexpectedly rel...\n",
              "question    Where did Beyonce release her 5th album to a h...\n",
              "answers     {'text': ['the iTunes Store'], 'answer_start':...\n",
              "Name: 563, dtype: object"
            ]
          },
          "metadata": {}
        },
        {
          "output_type": "display_data",
          "data": {
            "text/plain": [
              "id                                   56be9eea3aeaaa14008c9184\n",
              "title                                                 Beyoncé\n",
              "context     At the 57th Annual Grammy Awards in February 2...\n",
              "question    How many awards did Beyonce take home with her...\n",
              "answers            {'text': ['three'], 'answer_start': [108]}\n",
              "Name: 573, dtype: object"
            ]
          },
          "metadata": {}
        },
        {
          "output_type": "display_data",
          "data": {
            "text/plain": [
              "id                                   56bea27b3aeaaa14008c9199\n",
              "title                                                 Beyoncé\n",
              "context     On February 6, 2016, one day before her perfor...\n",
              "question    Beyonce released the song \"Formation\" on which...\n",
              "answers            {'text': ['Tidal'], 'answer_start': [140]}\n",
              "Name: 589, dtype: object"
            ]
          },
          "metadata": {}
        },
        {
          "output_type": "display_data",
          "data": {
            "text/plain": [
              "id                                   56bea5f23aeaaa14008c91a1\n",
              "title                                                 Beyoncé\n",
              "context     Beyoncé is believed to have first started a re...\n",
              "question    As of April 2014, how many albums have Jay Z a...\n",
              "answers      {'text': ['300 million'], 'answer_start': [447]}\n",
              "Name: 597, dtype: object"
            ]
          },
          "metadata": {}
        },
        {
          "output_type": "display_data",
          "data": {
            "text/plain": [
              "id                                   56bea8463aeaaa14008c91a9\n",
              "title                                                 Beyoncé\n",
              "context     In August, the couple attended the 2011 MTV Vi...\n",
              "question    Jay Z and Beyonce attended which event togethe...\n",
              "answers     {'text': ['MTV Video Music Awards'], 'answer_s...\n",
              "Name: 610, dtype: object"
            ]
          },
          "metadata": {}
        },
        {
          "output_type": "display_data",
          "data": {
            "text/plain": [
              "id                                   56bea9043aeaaa14008c91b1\n",
              "title                                                 Beyoncé\n",
              "context     On January 7, 2012, Beyoncé gave birth to a da...\n",
              "question                     Jay Z has a website called what?\n",
              "answers     {'text': ['Lifeandtimes.com'], 'answer_start':...\n",
              "Name: 622, dtype: object"
            ]
          },
          "metadata": {}
        },
        {
          "output_type": "display_data",
          "data": {
            "text/plain": [
              "id                                   56beab283aeaaa14008c91cc\n",
              "title                                                 Beyoncé\n",
              "context     Beyoncé and husband Jay Z are friends with Pre...\n",
              "question    Beyonce and Jay-Z went to a rally for the acqu...\n",
              "answers     {'text': ['George Zimmerman'], 'answer_start':...\n",
              "Name: 634, dtype: object"
            ]
          },
          "metadata": {}
        },
        {
          "output_type": "display_data",
          "data": {
            "text/plain": [
              "id                                   56beabab3aeaaa14008c91db\n",
              "title                                                 Beyoncé\n",
              "context     In an interview published by Vogue in April 20...\n",
              "question    Beyonce did an interview with which magazine a...\n",
              "answers             {'text': ['Vogue'], 'answer_start': [29]}\n",
              "Name: 644, dtype: object"
            ]
          },
          "metadata": {}
        },
        {
          "output_type": "display_data",
          "data": {
            "text/plain": [
              "id                                   56beb0683aeaaa14008c9211\n",
              "title                                                 Beyoncé\n",
              "context     In 2015 Beyoncé signed an open letter which th...\n",
              "question            Beyonce signed a letter with who in 2015?\n",
              "answers     {'text': ['the ONE Campaign'], 'answer_start':...\n",
              "Name: 653, dtype: object"
            ]
          },
          "metadata": {}
        },
        {
          "output_type": "display_data",
          "data": {
            "text/plain": [
              "id                                   56beb2a43aeaaa14008c9239\n",
              "title                                                 Beyoncé\n",
              "context     Following the death of Freddie Gray, Beyoncé a...\n",
              "question    Beyonce along with Jay Z met with whom's famil...\n",
              "answers      {'text': ['Freddie Gray'], 'answer_start': [23]}\n",
              "Name: 665, dtype: object"
            ]
          },
          "metadata": {}
        },
        {
          "output_type": "display_data",
          "data": {
            "text/plain": [
              "id                                   56beb4023aeaaa14008c9252\n",
              "title                                                 Beyoncé\n",
              "context     Forbes magazine began reporting on Beyoncé's e...\n",
              "question    Beyonce beat out which musical artists for mos...\n",
              "answers     {'text': ['Madonna and Celine Dion'], 'answer_...\n",
              "Name: 669, dtype: object"
            ]
          },
          "metadata": {}
        },
        {
          "output_type": "display_data",
          "data": {
            "text/plain": [
              "id                                   56beb50f3aeaaa14008c926f\n",
              "title                                                 Beyoncé\n",
              "context     Beyoncé's vocal range spans four octaves. Jody...\n",
              "question      Beyonce's range in singing is how many octaves?\n",
              "answers              {'text': ['four'], 'answer_start': [28]}\n",
              "Name: 682, dtype: object"
            ]
          },
          "metadata": {}
        },
        {
          "output_type": "display_data",
          "data": {
            "text/plain": [
              "id                                   56beb5b23aeaaa14008c9283\n",
              "title                                                 Beyoncé\n",
              "context     Beyoncé's music is generally R&B, but she also...\n",
              "question    Music from Beyonce is generally categorized as...\n",
              "answers               {'text': ['R&B'], 'answer_start': [29]}\n",
              "Name: 694, dtype: object"
            ]
          },
          "metadata": {}
        },
        {
          "output_type": "display_data",
          "data": {
            "text/plain": [
              "id                                   56beb67d3aeaaa14008c929a\n",
              "title                                                 Beyoncé\n",
              "context     She has received co-writing credits for most o...\n",
              "question    Beyonce does not create which aspect of her mu...\n",
              "answers            {'text': ['beats'], 'answer_start': [521]}\n",
              "Name: 707, dtype: object"
            ]
          },
          "metadata": {}
        },
        {
          "output_type": "display_data",
          "data": {
            "text/plain": [
              "id                                   56beb9203aeaaa14008c92d1\n",
              "title                                                 Beyoncé\n",
              "context     In 2001, she became the first African-American...\n",
              "question    Pop Songwriter of the Year award in 2001 was a...\n",
              "answers          {'text': ['Beyoncé'], 'answer_start': [205]}\n",
              "Name: 716, dtype: object"
            ]
          },
          "metadata": {}
        },
        {
          "output_type": "display_data",
          "data": {
            "text/plain": [
              "id                                   56beba293aeaaa14008c92ef\n",
              "title                                                 Beyoncé\n",
              "context     Beyoncé names Michael Jackson as her major mus...\n",
              "question    To whom did Beyonce credit as her major influe...\n",
              "answers     {'text': ['Michael Jackson'], 'answer_start': ...\n",
              "Name: 728, dtype: object"
            ]
          },
          "metadata": {}
        },
        {
          "output_type": "display_data",
          "data": {
            "text/plain": [
              "id                                   56bebba63aeaaa14008c930b\n",
              "title                                                 Beyoncé\n",
              "context     The feminism and female empowerment themes on ...\n",
              "question    What themes were influenced by her acting role...\n",
              "answers     {'text': ['feminism and female empowerment'], ...\n",
              "Name: 739, dtype: object"
            ]
          },
          "metadata": {}
        },
        {
          "output_type": "display_data",
          "data": {
            "text/plain": [
              "id                                   56bec1c53aeaaa14008c936b\n",
              "title                                                 Beyoncé\n",
              "context     Beyoncé has stated that she is personally insp...\n",
              "question    Beyonce has noted which first lady with saying...\n",
              "answers     {'text': ['Michelle Obama'], 'answer_start': [...\n",
              "Name: 747, dtype: object"
            ]
          },
          "metadata": {}
        },
        {
          "output_type": "display_data",
          "data": {
            "text/plain": [
              "id                                   56bec29b3aeaaa14008c937f\n",
              "title                                                 Beyoncé\n",
              "context     In 2006, Beyoncé introduced her all-female tou...\n",
              "question    Beyonce had an all-female tour band whose name...\n",
              "answers         {'text': ['Suga Mama'], 'answer_start': [53]}\n",
              "Name: 759, dtype: object"
            ]
          },
          "metadata": {}
        },
        {
          "output_type": "display_data",
          "data": {
            "text/plain": [
              "id                                   56bec3303aeaaa14008c9391\n",
              "title                                                 Beyoncé\n",
              "context     Beyoncé has received praise for her stage pres...\n",
              "question    What characteristics has Beyonce received accl...\n",
              "answers     {'text': ['stage presence and voice'], 'answer...\n",
              "Name: 771, dtype: object"
            ]
          },
          "metadata": {}
        },
        {
          "output_type": "display_data",
          "data": {
            "text/plain": [
              "id                                   56bec3ea3aeaaa14008c939f\n",
              "title                                                 Beyoncé\n",
              "context     Described as being \"sexy, seductive and provoc...\n",
              "question     Beyonce self proclaimed alter ego is named what?\n",
              "answers     {'text': ['Sasha Fierce'], 'answer_start': [139]}\n",
              "Name: 779, dtype: object"
            ]
          },
          "metadata": {}
        },
        {
          "output_type": "display_data",
          "data": {
            "text/plain": [
              "id                                   56bec4de3aeaaa14008c93bb\n",
              "title                                                 Beyoncé\n",
              "context     Beyoncé has been described as a having a wide-...\n",
              "question       Beyonce's sex appeal is characterized as what?\n",
              "answers      {'text': ['wide-ranging'], 'answer_start': [41]}\n",
              "Name: 789, dtype: object"
            ]
          },
          "metadata": {}
        },
        {
          "output_type": "display_data",
          "data": {
            "text/plain": [
              "id                                   56bec5d53aeaaa14008c93d9\n",
              "title                                                 Beyoncé\n",
              "context     In September 2010, Beyoncé made her runway mod...\n",
              "question    in September 2010, what career area did Beyonc...\n",
              "answers         {'text': ['modelling'], 'answer_start': [43]}\n",
              "Name: 800, dtype: object"
            ]
          },
          "metadata": {}
        },
        {
          "output_type": "display_data",
          "data": {
            "text/plain": [
              "id                                   56bec6763aeaaa14008c93f4\n",
              "title                                                 Beyoncé\n",
              "context     According to Italian fashion designer Roberto ...\n",
              "question      Which parent of Beyonce's help co-write a book?\n",
              "answers       {'text': ['Her mother'], 'answer_start': [134]}\n",
              "Name: 813, dtype: object"
            ]
          },
          "metadata": {}
        },
        {
          "output_type": "display_data",
          "data": {
            "text/plain": [
              "id                                   56bec6de3aeaaa14008c9407\n",
              "title                                                 Beyoncé\n",
              "context     The Bey Hive is the name given to Beyoncé's fa...\n",
              "question    Beyonce has a fan base that is referred to as ...\n",
              "answers       {'text': ['The Bey Hive'], 'answer_start': [0]}\n",
              "Name: 820, dtype: object"
            ]
          },
          "metadata": {}
        },
        {
          "output_type": "display_data",
          "data": {
            "text/plain": [
              "id                                   56bec7b63aeaaa14008c9422\n",
              "title                                                 Beyoncé\n",
              "context     In 2006, the animal rights organization People...\n",
              "question           Beyonce has a clothing line known as what?\n",
              "answers     {'text': ['House of Deréon'], 'answer_start': ...\n",
              "Name: 828, dtype: object"
            ]
          },
          "metadata": {}
        },
        {
          "output_type": "display_data",
          "data": {
            "text/plain": [
              "id                                   56bec8a13aeaaa14008c943f\n",
              "title                                                 Beyoncé\n",
              "context     Beyoncé's lighter skin color and costuming has...\n",
              "question    Which racial community gave criticism to Beyonce?\n",
              "answers     {'text': ['African-American'], 'answer_start':...\n",
              "Name: 838, dtype: object"
            ]
          },
          "metadata": {}
        },
        {
          "output_type": "display_data",
          "data": {
            "text/plain": [
              "id                                   56bec94f3aeaaa14008c944f\n",
              "title                                                 Beyoncé\n",
              "context     In The New Yorker music critic Jody Rosen desc...\n",
              "question    Artist of the Decade was bestowed upon Beyonce...\n",
              "answers     {'text': ['The Guardian'], 'answer_start': [215]}\n",
              "Name: 848, dtype: object"
            ]
          },
          "metadata": {}
        },
        {
          "output_type": "display_data",
          "data": {
            "text/plain": [
              "id                                   56bec9f13aeaaa14008c9467\n",
              "title                                                 Beyoncé\n",
              "context     Beyoncé's work has influenced numerous artists...\n",
              "question    Which rock band cited Beyonce on their third a...\n",
              "answers     {'text': ['White Rabbits'], 'answer_start': [2...\n",
              "Name: 860, dtype: object"
            ]
          },
          "metadata": {}
        },
        {
          "output_type": "display_data",
          "data": {
            "text/plain": [
              "id                                   56beca973aeaaa14008c9477\n",
              "title                                                 Beyoncé\n",
              "context     Her debut single, \"Crazy in Love\" was named VH...\n",
              "question    VH1 declared what song the \"Greatest song of t...\n",
              "answers     {'text': ['Crazy in Love'], 'answer_start': [19]}\n",
              "Name: 872, dtype: object"
            ]
          },
          "metadata": {}
        },
        {
          "output_type": "display_data",
          "data": {
            "text/plain": [
              "id                                   56becb8d3aeaaa14008c9495\n",
              "title                                                 Beyoncé\n",
              "context     Beyoncé has received numerous awards. As a sol...\n",
              "question    How many copies of her albums as Beyonce sold ...\n",
              "answers        {'text': ['15 million'], 'answer_start': [73]}\n",
              "Name: 884, dtype: object"
            ]
          },
          "metadata": {}
        },
        {
          "output_type": "display_data",
          "data": {
            "text/plain": [
              "id                                   56becc903aeaaa14008c949f\n",
              "title                                                 Beyoncé\n",
              "context     Beyoncé has won 20 Grammy Awards, both as a so...\n",
              "question    How many Grammys has Beyonce won total with an...\n",
              "answers                {'text': ['20'], 'answer_start': [16]}\n",
              "Name: 899, dtype: object"
            ]
          },
          "metadata": {}
        },
        {
          "output_type": "display_data",
          "data": {
            "text/plain": [
              "id                                   56bed07e3aeaaa14008c94a9\n",
              "title                                                 Beyoncé\n",
              "context     Beyoncé has worked with Pepsi since 2002, and ...\n",
              "question    Which soda company has Beyonce partnered with ...\n",
              "answers             {'text': ['Pepsi'], 'answer_start': [24]}\n",
              "Name: 912, dtype: object"
            ]
          },
          "metadata": {}
        },
        {
          "output_type": "display_data",
          "data": {
            "text/plain": [
              "id                                   56bed1243aeaaa14008c94b3\n",
              "title                                                 Beyoncé\n",
              "context     Beyoncé has worked with Tommy Hilfiger for the...\n",
              "question    Beyonce worked with who on her perfumes, True ...\n",
              "answers     {'text': ['Tommy Hilfiger'], 'answer_start': [...\n",
              "Name: 924, dtype: object"
            ]
          },
          "metadata": {}
        },
        {
          "output_type": "display_data",
          "data": {
            "text/plain": [
              "id                                   56bed17a3aeaaa14008c94bd\n",
              "title                                                 Beyoncé\n",
              "context     The release of a video-game Starpower: Beyoncé...\n",
              "question    How young was Beyonce when she acquired deals ...\n",
              "answers               {'text': ['18'], 'answer_start': [450]}\n",
              "Name: 937, dtype: object"
            ]
          },
          "metadata": {}
        },
        {
          "output_type": "display_data",
          "data": {
            "text/plain": [
              "id                                   56bed22d3aeaaa14008c94c1\n",
              "title                                                 Beyoncé\n",
              "context     In October 2014, it was announced that Beyoncé...\n",
              "question    Who did Bayonce's management go into business ...\n",
              "answers     {'text': ['fashion retailer Topshop'], 'answer...\n",
              "Name: 947, dtype: object"
            ]
          },
          "metadata": {}
        },
        {
          "output_type": "display_data",
          "data": {
            "text/plain": [
              "id                                   56bed2993aeaaa14008c94c9\n",
              "title                                                 Beyoncé\n",
              "context     On March 30, 2015, it was announced that Beyon...\n",
              "question    When was it discovered Beyonce was a co-owner ...\n",
              "answers     {'text': ['March 30, 2015'], 'answer_start': [3]}\n",
              "Name: 957, dtype: object"
            ]
          },
          "metadata": {}
        },
        {
          "output_type": "display_data",
          "data": {
            "text/plain": [
              "id                                   56bed32f3aeaaa14008c94cf\n",
              "title                                                 Beyoncé\n",
              "context     Beyoncé and her mother introduced House of Der...\n",
              "question    House of Dereon became known through Beyonce a...\n",
              "answers        {'text': ['her mother'], 'answer_start': [12]}\n",
              "Name: 966, dtype: object"
            ]
          },
          "metadata": {}
        },
        {
          "output_type": "display_data",
          "data": {
            "text/plain": [
              "id                                   56bed38e3aeaaa14008c94d9\n",
              "title                                                 Beyoncé\n",
              "context     In 2005, Beyoncé teamed up with House of Brand...\n",
              "question    What type of accessory company did Beyonce par...\n",
              "answers              {'text': ['shoe'], 'answer_start': [51]}\n",
              "Name: 977, dtype: object"
            ]
          },
          "metadata": {}
        },
        {
          "output_type": "display_data",
          "data": {
            "text/plain": [
              "id                                   56bed3e63aeaaa14008c94e0\n",
              "title                                                 Beyoncé\n",
              "context     In October 2014, Beyoncé signed a deal to laun...\n",
              "question    Beyonce, during October 2014, partnered with w...\n",
              "answers          {'text': ['Topshop'], 'answer_start': [110]}\n",
              "Name: 988, dtype: object"
            ]
          },
          "metadata": {}
        },
        {
          "output_type": "display_data",
          "data": {
            "text/plain": [
              "id                                   56bed4553aeaaa14008c94e5\n",
              "title                                                 Beyoncé\n",
              "context     After Hurricane Katrina in 2005, Beyoncé and R...\n",
              "question    What national disaster caused Beyonce to creat...\n",
              "answers     {'text': ['Hurricane Katrina'], 'answer_start'...\n",
              "Name: 996, dtype: object"
            ]
          },
          "metadata": {}
        },
        {
          "output_type": "display_data",
          "data": {
            "text/plain": [
              "id                                   56bed4c23aeaaa14008c94ed\n",
              "title                                                 Beyoncé\n",
              "context     Beyoncé participated in George Clooney and Wyc...\n",
              "question    Who did Beyonce participate with in the Hope f...\n",
              "answers     {'text': ['George Clooney and Wyclef Jean'], '...\n",
              "Name: 1005, dtype: object"
            ]
          },
          "metadata": {}
        },
        {
          "output_type": "display_data",
          "data": {
            "text/plain": [
              "id                                   56bed5983aeaaa14008c94f3\n",
              "title                                                 Beyoncé\n",
              "context     In December, Beyoncé along with a variety of o...\n",
              "question    Which national event caused Beyonce to produce...\n",
              "answers     {'text': ['Sandy Hook Elementary School shooti...\n",
              "Name: 1015, dtype: object"
            ]
          },
          "metadata": {}
        },
        {
          "output_type": "display_data",
          "data": {
            "text/plain": [
              "id                                   5733bd9bd058e614000b6199\n",
              "title                                                 Montana\n",
              "context     Montana i/mɒnˈtænə/ is a state in the Western ...\n",
              "question               Where does the state's name come from?\n",
              "answers     {'text': ['Spanish word montaña (mountain)'], ...\n",
              "Name: 1027, dtype: object"
            ]
          },
          "metadata": {}
        },
        {
          "output_type": "display_data",
          "data": {
            "text/plain": [
              "id                                   5733d7164776f4190066132e\n",
              "title                                                 Montana\n",
              "context     Montana schoolchildren played a significant ro...\n",
              "question               What year was the state tree selected?\n",
              "answers             {'text': ['1908'], 'answer_start': [240]}\n",
              "Name: 1032, dtype: object"
            ]
          },
          "metadata": {}
        },
        {
          "output_type": "display_data",
          "data": {
            "text/plain": [
              "id                                   5733d7fd4776f41900661342\n",
              "title                                                 Montana\n",
              "context     The state song was not composed until 21 years...\n",
              "question                    When was the state song composed?\n",
              "answers             {'text': ['1910'], 'answer_start': [140]}\n",
              "Name: 1037, dtype: object"
            ]
          },
          "metadata": {}
        },
        {
          "output_type": "display_data",
          "data": {
            "text/plain": [
              "id                                   5733d858d058e614000b63c7\n",
              "title                                                 Montana\n",
              "context     Montana's motto, Oro y Plata, Spanish for \"Gol...\n",
              "question                            What is Montana's motto? \n",
              "answers       {'text': ['Oro y Plata'], 'answer_start': [17]}\n",
              "Name: 1038, dtype: object"
            ]
          },
          "metadata": {}
        },
        {
          "output_type": "display_data",
          "data": {
            "text/plain": [
              "id                                   5733e9864776f419006614cc\n",
              "title                                                 Montana\n",
              "context     The state also has five Micropolitan Statistic...\n",
              "question    How much of the states population does the \"Bi...\n",
              "answers       {'text': ['35 percent'], 'answer_start': [628]}\n",
              "Name: 1043, dtype: object"
            ]
          },
          "metadata": {}
        },
        {
          "output_type": "display_data",
          "data": {
            "text/plain": [
              "id                                   5733eefe4776f4190066154b\n",
              "title                                                 Montana\n",
              "context     Montana has 56 counties with the United States...\n",
              "question                 How many counties does Montana have?\n",
              "answers                {'text': ['56'], 'answer_start': [12]}\n",
              "Name: 1044, dtype: object"
            ]
          },
          "metadata": {}
        },
        {
          "output_type": "display_data",
          "data": {
            "text/plain": [
              "id                                   5733f18ad058e614000b6643\n",
              "title                                                 Montana\n",
              "context     The name Montana comes from the Spanish word M...\n",
              "question                    Where does the state's name mean?\n",
              "answers        {'text': ['\"mountain\"'], 'answer_start': [62]}\n",
              "Name: 1047, dtype: object"
            ]
          },
          "metadata": {}
        },
        {
          "output_type": "display_data",
          "data": {
            "text/plain": [
              "id                                   5733f5d34776f419006615bb\n",
              "title                                                 Montana\n",
              "context     With a total area of 147,040 square miles (380...\n",
              "question                   What is the total area of Montana?\n",
              "answers     {'text': ['147,040 square miles'], 'answer_sta...\n",
              "Name: 1049, dtype: object"
            ]
          },
          "metadata": {}
        },
        {
          "output_type": "display_data",
          "data": {
            "text/plain": [
              "id                                   573408fed058e614000b6835\n",
              "title                                                 Montana\n",
              "context     The topography of the state is roughly defined...\n",
              "question        Where are most of the states mountain ranges?\n",
              "answers     {'text': ['western half of the state'], 'answe...\n",
              "Name: 1052, dtype: object"
            ]
          },
          "metadata": {}
        },
        {
          "output_type": "display_data",
          "data": {
            "text/plain": [
              "id                                   573409bed058e614000b6839\n",
              "title                                                 Montana\n",
              "context     The northern section of the Divide, where the ...\n",
              "question    Which direction do the rivers flow near the Tr...\n",
              "answers            {'text': ['north'], 'answer_start': [485]}\n",
              "Name: 1054, dtype: object"
            ]
          },
          "metadata": {}
        },
        {
          "output_type": "display_data",
          "data": {
            "text/plain": [
              "id                                   57340a0dd058e614000b6851\n",
              "title                                                 Montana\n",
              "context     East of the divide, several roughly parallel r...\n",
              "question                   How high is the Beartooth Plateau?\n",
              "answers     {'text': ['over 10,000 feet'], 'answer_start':...\n",
              "Name: 1056, dtype: object"
            ]
          },
          "metadata": {}
        },
        {
          "output_type": "display_data",
          "data": {
            "text/plain": [
              "id                                   57340bdf4776f419006617a3\n",
              "title                                                 Montana\n",
              "context     However, at the state level, the pattern of sp...\n",
              "question    How many seats do Democrats hold in the state ...\n",
              "answers              {'text': ['one'], 'answer_start': [119]}\n",
              "Name: 1059, dtype: object"
            ]
          },
          "metadata": {}
        },
        {
          "output_type": "display_data",
          "data": {
            "text/plain": [
              "id                                   57341184d058e614000b68da\n",
              "title                                                 Montana\n",
              "context     In presidential elections, Montana was long cl...\n",
              "question            In elections, what is Montana considered?\n",
              "answers     {'text': ['a swing state'], 'answer_start': [58]}\n",
              "Name: 1063, dtype: object"
            ]
          },
          "metadata": {}
        },
        {
          "output_type": "display_data",
          "data": {
            "text/plain": [
              "id                                   573412ebd058e614000b68f0\n",
              "title                                                 Montana\n",
              "context     Bozeman Yellowstone International Airport is t...\n",
              "question    What is the name of the busiest airport in Mon...\n",
              "answers     {'text': ['Bozeman Yellowstone International A...\n",
              "Name: 1067, dtype: object"
            ]
          },
          "metadata": {}
        },
        {
          "output_type": "display_data",
          "data": {
            "text/plain": [
              "id                                   573413594776f41900661803\n",
              "title                                                 Montana\n",
              "context     Railroads have been an important method of tra...\n",
              "question                  What is the states largest railway?\n",
              "answers     {'text': ['BNSF Railway'], 'answer_start': [263]}\n",
              "Name: 1069, dtype: object"
            ]
          },
          "metadata": {}
        },
        {
          "output_type": "display_data",
          "data": {
            "text/plain": [
              "id                                   573414644776f4190066180d\n",
              "title                                                 Montana\n",
              "context     Montana is home to the Rocky Mountain Elk Foun...\n",
              "question    What is the name of the big game hunting found...\n",
              "answers     {'text': ['Rocky Mountain Elk Foundation'], 'a...\n",
              "Name: 1071, dtype: object"
            ]
          },
          "metadata": {}
        },
        {
          "output_type": "display_data",
          "data": {
            "text/plain": [
              "id                                   57341539d058e614000b6906\n",
              "title                                                 Montana\n",
              "context     Montana has been a destination for its world-c...\n",
              "question    Since when has Montana been a destination for ...\n",
              "answers             {'text': ['1930s'], 'answer_start': [77]}\n",
              "Name: 1074, dtype: object"
            ]
          },
          "metadata": {}
        },
        {
          "output_type": "display_data",
          "data": {
            "text/plain": [
              "id                                   5734161dd058e614000b690e\n",
              "title                                                 Montana\n",
              "context     The Montana Territory was formed on April 26, ...\n",
              "question               When was the Montana Territory formed?\n",
              "answers     {'text': ['April 26, 1864'], 'answer_start': [...\n",
              "Name: 1078, dtype: object"
            ]
          },
          "metadata": {}
        },
        {
          "output_type": "display_data",
          "data": {
            "text/plain": [
              "id                                   573416974776f41900661835\n",
              "title                                                 Montana\n",
              "context     Montana contains thousands of named rivers and...\n",
              "question    How many miles of rivers are known for high cl...\n",
              "answers               {'text': ['450'], 'answer_start': [55]}\n",
              "Name: 1082, dtype: object"
            ]
          },
          "metadata": {}
        },
        {
          "output_type": "display_data",
          "data": {
            "text/plain": [
              "id                                   5734173b4776f4190066184f\n",
              "title                                                 Montana\n",
              "context     East of the divide the Missouri River, which i...\n",
              "question                 What rivers form the Missouri River?\n",
              "answers     {'text': ['Jefferson, Madison and Gallatin riv...\n",
              "Name: 1086, dtype: object"
            ]
          },
          "metadata": {}
        },
        {
          "output_type": "display_data",
          "data": {
            "text/plain": [
              "id                                   57341835d058e614000b693e\n",
              "title                                                 Montana\n",
              "context     The Yellowstone River rises on the continental...\n",
              "question    Which direction does the Yellowstone River flo...\n",
              "answers            {'text': ['north'], 'answer_start': [111]}\n",
              "Name: 1090, dtype: object"
            ]
          },
          "metadata": {}
        },
        {
          "output_type": "display_data",
          "data": {
            "text/plain": [
              "id                                   5734192ad058e614000b6942\n",
              "title                                                 Montana\n",
              "context     There are at least 3,223 named lakes and reser...\n",
              "question           How many named lakes are there in Montana?\n",
              "answers     {'text': ['at least 3,223'], 'answer_start': [...\n",
              "Name: 1092, dtype: object"
            ]
          },
          "metadata": {}
        },
        {
          "output_type": "display_data",
          "data": {
            "text/plain": [
              "id                                   573419714776f41900661871\n",
              "title                                                 Montana\n",
              "context     Vegetation of the state includes lodgepole pin...\n",
              "question      About how much area do forests cover the state?\n",
              "answers     {'text': ['approximately 25 percent'], 'answer...\n",
              "Name: 1096, dtype: object"
            ]
          },
          "metadata": {}
        },
        {
          "output_type": "display_data",
          "data": {
            "text/plain": [
              "id                                   57341b484776f41900661885\n",
              "title                                                 Montana\n",
              "context     Montana is home to a diverse array of fauna th...\n",
              "question    How many different types of fish are diverse t...\n",
              "answers                {'text': ['90'], 'answer_start': [72]}\n",
              "Name: 1097, dtype: object"
            ]
          },
          "metadata": {}
        },
        {
          "output_type": "display_data",
          "data": {
            "text/plain": [
              "id                                   57341c46d058e614000b6954\n",
              "title                                                 Montana\n",
              "context     Average annual precipitation is 15 inches (380...\n",
              "question                    What is the annual precipitation?\n",
              "answers         {'text': ['15 inches'], 'answer_start': [32]}\n",
              "Name: 1101, dtype: object"
            ]
          },
          "metadata": {}
        },
        {
          "output_type": "display_data",
          "data": {
            "text/plain": [
              "id                                   57341cf4d058e614000b6964\n",
              "title                                                 Montana\n",
              "context     Montana's personal income tax contains 7 brack...\n",
              "question             How many tax brackets does Montana have?\n",
              "answers                 {'text': ['7'], 'answer_start': [39]}\n",
              "Name: 1104, dtype: object"
            ]
          },
          "metadata": {}
        },
        {
          "output_type": "display_data",
          "data": {
            "text/plain": [
              "id                                   57341d964776f419006618b3\n",
              "title                                                 Montana\n",
              "context     Approximately 66,000 people of Native American...\n",
              "question     About how many Native Americans live in Montana?\n",
              "answers     {'text': ['Approximately 66,000'], 'answer_sta...\n",
              "Name: 1107, dtype: object"
            ]
          },
          "metadata": {}
        },
        {
          "output_type": "display_data",
          "data": {
            "text/plain": [
              "id                                   57341fc9d058e614000b6974\n",
              "title                                                 Montana\n",
              "context     While the largest European-American population...\n",
              "question    What is the largest European-American race in ...\n",
              "answers            {'text': ['German'], 'answer_start': [69]}\n",
              "Name: 1112, dtype: object"
            ]
          },
          "metadata": {}
        },
        {
          "output_type": "display_data",
          "data": {
            "text/plain": [
              "id                                   5734205b4776f419006618e7\n",
              "title                                                 Montana\n",
              "context     Montana has a larger Native American populatio...\n",
              "question    What percentage of the population in Montana a...\n",
              "answers      {'text': ['6.5 percent'], 'answer_start': [261]}\n",
              "Name: 1114, dtype: object"
            ]
          },
          "metadata": {}
        },
        {
          "output_type": "display_data",
          "data": {
            "text/plain": [
              "id                                   573420e34776f419006618ed\n",
              "title                                                 Montana\n",
              "context     The climate has become warmer in Montana and c...\n",
              "question    In what year did many cities in Montana set he...\n",
              "answers             {'text': ['2007'], 'answer_start': [225]}\n",
              "Name: 1117, dtype: object"
            ]
          },
          "metadata": {}
        },
        {
          "output_type": "display_data",
          "data": {
            "text/plain": [
              "id                                   5734215f4776f419006618fb\n",
              "title                                                 Montana\n",
              "context     As white settlers began populating Montana fro...\n",
              "question            What year was the Hellgate treaty formed?\n",
              "answers             {'text': ['1855'], 'answer_start': [162]}\n",
              "Name: 1120, dtype: object"
            ]
          },
          "metadata": {}
        },
        {
          "output_type": "display_data",
          "data": {
            "text/plain": [
              "id                                   573421c4d058e614000b69aa\n",
              "title                                                 Montana\n",
              "context     The first U.S. Army post established in Montan...\n",
              "question         What was the name of the first US Army post?\n",
              "answers        {'text': ['Camp Cooke'], 'answer_start': [52]}\n",
              "Name: 1124, dtype: object"
            ]
          },
          "metadata": {}
        },
        {
          "output_type": "display_data",
          "data": {
            "text/plain": [
              "id                                   5734227dd058e614000b69bc\n",
              "title                                                 Montana\n",
              "context     English is the official language in the state ...\n",
              "question            What is the official language of Montana?\n",
              "answers            {'text': ['English'], 'answer_start': [0]}\n",
              "Name: 1128, dtype: object"
            ]
          },
          "metadata": {}
        },
        {
          "output_type": "display_data",
          "data": {
            "text/plain": [
              "id                                   573422e44776f41900661927\n",
              "title                                                 Montana\n",
              "context     According to the 2010 Census, 89.4 percent of ...\n",
              "question                  What percent of the state is White?\n",
              "answers      {'text': ['89.4 percent'], 'answer_start': [30]}\n",
              "Name: 1133, dtype: object"
            ]
          },
          "metadata": {}
        },
        {
          "output_type": "display_data",
          "data": {
            "text/plain": [
              "id                                   573424434776f41900661941\n",
              "title                                                 Montana\n",
              "context     The United States Census Bureau estimates that...\n",
              "question        What was the population of the state in 2015?\n",
              "answers         {'text': ['1,032,949'], 'answer_start': [77]}\n",
              "Name: 1136, dtype: object"
            ]
          },
          "metadata": {}
        },
        {
          "output_type": "display_data",
          "data": {
            "text/plain": [
              "id                                   573424d74776f41900661949\n",
              "title                                                 Montana\n",
              "context     In 1940, Jeannette Rankin had once again been ...\n",
              "question    What year was Jeannette Rankin vote against wa...\n",
              "answers              {'text': ['1917'], 'answer_start': [94]}\n",
              "Name: 1140, dtype: object"
            ]
          },
          "metadata": {}
        },
        {
          "output_type": "display_data",
          "data": {
            "text/plain": [
              "id                                   573425624776f41900661959\n",
              "title                                                 Montana\n",
              "context     Simultaneously with these conflicts, bison, a ...\n",
              "question        About how many bison were in Montana in 1870?\n",
              "answers     {'text': ['over 13 million'], 'answer_start': ...\n",
              "Name: 1143, dtype: object"
            ]
          },
          "metadata": {}
        },
        {
          "output_type": "display_data",
          "data": {
            "text/plain": [
              "id                                   573425f84776f41900661969\n",
              "title                                                 Montana\n",
              "context     Tracks of the Northern Pacific Railroad (NPR) ...\n",
              "question    When did the Northern Pacific Railroad reach M...\n",
              "answers              {'text': ['1881'], 'answer_start': [79]}\n",
              "Name: 1147, dtype: object"
            ]
          },
          "metadata": {}
        },
        {
          "output_type": "display_data",
          "data": {
            "text/plain": [
              "id                                   573426864776f4190066197d\n",
              "title                                                 Montana\n",
              "context     Under Territorial Governor Thomas Meagher, Mon...\n",
              "question    When was the first constitutional convention h...\n",
              "answers              {'text': ['1866'], 'answer_start': [89]}\n",
              "Name: 1152, dtype: object"
            ]
          },
          "metadata": {}
        },
        {
          "output_type": "display_data",
          "data": {
            "text/plain": [
              "id                                   573426e6d058e614000b6a20\n",
              "title                                                 Montana\n",
              "context     The Homestead Act of 1862 provided free land t...\n",
              "question    What year did the Homestead Act provide land t...\n",
              "answers              {'text': ['1862'], 'answer_start': [21]}\n",
              "Name: 1157, dtype: object"
            ]
          },
          "metadata": {}
        },
        {
          "output_type": "display_data",
          "data": {
            "text/plain": [
              "id                                   57342785d058e614000b6a2e\n",
              "title                                                 Montana\n",
              "context     The Desert Land Act of 1877 was passed to allo...\n",
              "question                 When was the Desert Land Act passed?\n",
              "answers              {'text': ['1877'], 'answer_start': [23]}\n",
              "Name: 1160, dtype: object"
            ]
          },
          "metadata": {}
        },
        {
          "output_type": "display_data",
          "data": {
            "text/plain": [
              "id                                   57342802d058e614000b6a40\n",
              "title                                                 Montana\n",
              "context     In the early 1900s, James J. Hill of the Great...\n",
              "question    Who promoted settlement in Montana in the earl...\n",
              "answers     {'text': ['James J. Hill'], 'answer_start': [20]}\n",
              "Name: 1163, dtype: object"
            ]
          },
          "metadata": {}
        },
        {
          "output_type": "display_data",
          "data": {
            "text/plain": [
              "id                                   5734288c4776f419006619bf\n",
              "title                                                 Montana\n",
              "context     In June 1917, the U.S. Congress passed the Esp...\n",
              "question            When did Congress pass the Espionage Act?\n",
              "answers              {'text': ['1917'], 'answer_start': [60]}\n",
              "Name: 1167, dtype: object"
            ]
          },
          "metadata": {}
        },
        {
          "output_type": "display_data",
          "data": {
            "text/plain": [
              "id                                   5734296dd058e614000b6a6e\n",
              "title                                                 Montana\n",
              "context     When the U.S. entered World War II on December...\n",
              "question    How many Montanans entered the miltary in the ...\n",
              "answers      {'text': ['40,000-plus'], 'answer_start': [176]}\n",
              "Name: 1172, dtype: object"
            ]
          },
          "metadata": {}
        },
        {
          "output_type": "display_data",
          "data": {
            "text/plain": [
              "id                                   5733bdc4d058e614000b61a3\n",
              "title                                                Genocide\n",
              "context     The phrase \"in whole or in part\" has been subj...\n",
              "question    In the judgement, it is stated that the aim of...\n",
              "answers     {'text': ['entire human groups'], 'answer_star...\n",
              "Name: 1177, dtype: object"
            ]
          },
          "metadata": {}
        },
        {
          "output_type": "display_data",
          "data": {
            "text/plain": [
              "id                                   5733ba844776f41900661146\n",
              "title                                                Genocide\n",
              "context     In the same judgement the ECHR reviewed the ju...\n",
              "question    Two bodies of the United Nations agreed with w...\n",
              "answers     {'text': ['that biological-physical destructio...\n",
              "Name: 1182, dtype: object"
            ]
          },
          "metadata": {}
        },
        {
          "output_type": "display_data",
          "data": {
            "text/plain": [
              "id                                   57335849d058e614000b589a\n",
              "title                                                Genocide\n",
              "context     After the Holocaust, which had been perpetrate...\n",
              "question    In 1948, what general assembly resolution esta...\n",
              "answers     {'text': ['the Convention on the Prevention an...\n",
              "Name: 1187, dtype: object"
            ]
          },
          "metadata": {}
        },
        {
          "output_type": "display_data",
          "data": {
            "text/plain": [
              "id                                   573392e24776f41900660d9c\n",
              "title                                                Genocide\n",
              "context     The first draft of the Convention included pol...\n",
              "question    Which provision was initially included in the ...\n",
              "answers     {'text': ['political killings'], 'answer_start...\n",
              "Name: 1192, dtype: object"
            ]
          },
          "metadata": {}
        },
        {
          "output_type": "display_data",
          "data": {
            "text/plain": [
              "id                                   5733963c4776f41900660df7\n",
              "title                                                Genocide\n",
              "context     In 2007 the European Court of Human Rights (EC...\n",
              "question    Which group was accused by the ECHR of having ...\n",
              "answers     {'text': ['majority of legal scholars'], 'answ...\n",
              "Name: 1197, dtype: object"
            ]
          },
          "metadata": {}
        },
        {
          "output_type": "display_data",
          "data": {
            "text/plain": [
              "id                                   573344334776f419006607d2\n",
              "title                                                Genocide\n",
              "context     The word genocide was later included as a desc...\n",
              "question    Prior to being a formal legal term, how was th...\n",
              "answers     {'text': ['as a descriptive term'], 'answer_st...\n",
              "Name: 1201, dtype: object"
            ]
          },
          "metadata": {}
        },
        {
          "output_type": "display_data",
          "data": {
            "text/plain": [
              "id                                   573350a0d058e614000b5840\n",
              "title                                                Genocide\n",
              "context     The study of genocide has mainly been focused ...\n",
              "question    What has been the primary focus in the study o...\n",
              "answers     {'text': ['legal aspect of the term'], 'answer...\n",
              "Name: 1209, dtype: object"
            ]
          },
          "metadata": {}
        },
        {
          "output_type": "display_data",
          "data": {
            "text/plain": [
              "id                                   5731eb9bb9d445190005e697\n",
              "title                                                Genocide\n",
              "context     Genocide has become an official term used in i...\n",
              "question             When was the word \"genocide\" first used?\n",
              "answers             {'text': ['1944'], 'answer_start': [110]}\n",
              "Name: 1217, dtype: object"
            ]
          },
          "metadata": {}
        },
        {
          "output_type": "display_data",
          "data": {
            "text/plain": [
              "id                                   5733c3c7d058e614000b61ef\n",
              "title                                                Genocide\n",
              "context     The judges continue in paragraph 12, \"The dete...\n",
              "question    Several considerations were involved in meetin...\n",
              "answers     {'text': ['when the targeted part is substanti...\n",
              "Name: 1227, dtype: object"
            ]
          },
          "metadata": {}
        },
        {
          "output_type": "display_data",
          "data": {
            "text/plain": [
              "id                                   5733c6224776f419006611f4\n",
              "title                                                Genocide\n",
              "context     In paragraph 13 the judges raise the issue of ...\n",
              "question    The issue of what is raised by judges in Parag...\n",
              "answers     {'text': ['perpetrators' access to the victims...\n",
              "Name: 1231, dtype: object"
            ]
          },
          "metadata": {}
        },
        {
          "output_type": "display_data",
          "data": {
            "text/plain": [
              "id                                   5733ce494776f41900661298\n",
              "title                                                Genocide\n",
              "context     The Convention came into force as internationa...\n",
              "question    On which date did the Genocide Convention beco...\n",
              "answers     {'text': ['12 January 1951'], 'answer_start': ...\n",
              "Name: 1236, dtype: object"
            ]
          },
          "metadata": {}
        },
        {
          "output_type": "display_data",
          "data": {
            "text/plain": [
              "id                                   5733cf6a4776f419006612a2\n",
              "title                                                Genocide\n",
              "context     Writing in 1998 Kurt Jonassohn and Karin Björn...\n",
              "question    In 1998 it was written that the CPPCG was a le...\n",
              "answers     {'text': ['a diplomatic compromise'], 'answer_...\n",
              "Name: 1241, dtype: object"
            ]
          },
          "metadata": {}
        },
        {
          "output_type": "display_data",
          "data": {
            "text/plain": [
              "id                                   5733f7b64776f419006615e3\n",
              "title                                                Genocide\n",
              "context     Jonassohn and Björnson postulate that the majo...\n",
              "question    What two writers examined the lack of an accep...\n",
              "answers     {'text': ['Jonassohn and Björnson'], 'answer_s...\n",
              "Name: 1245, dtype: object"
            ]
          },
          "metadata": {}
        },
        {
          "output_type": "display_data",
          "data": {
            "text/plain": [
              "id                                   5733f9c64776f41900661615\n",
              "title                                                Genocide\n",
              "context     The exclusion of social and political groups a...\n",
              "question    Some historians were critical of what exclusio...\n",
              "answers     {'text': ['social and political groups'], 'ans...\n",
              "Name: 1250, dtype: object"
            ]
          },
          "metadata": {}
        },
        {
          "output_type": "display_data",
          "data": {
            "text/plain": [
              "id                                   5733fb934776f41900661637\n",
              "title                                                Genocide\n",
              "context     Barbara Harff and Ted Gurr defined genocide as...\n",
              "question    Harff and Gurr's definition of genocide includ...\n",
              "answers          {'text': ['policies'], 'answer_start': [79]}\n",
              "Name: 1255, dtype: object"
            ]
          },
          "metadata": {}
        },
        {
          "output_type": "display_data",
          "data": {
            "text/plain": [
              "id                                   5733fcd5d058e614000b6717\n",
              "title                                                Genocide\n",
              "context     According to R. J. Rummel, genocide has 3 diff...\n",
              "question    In the writings of Rummel, what is the first a...\n",
              "answers     {'text': ['murder by government'], 'answer_sta...\n",
              "Name: 1260, dtype: object"
            ]
          },
          "metadata": {}
        },
        {
          "output_type": "display_data",
          "data": {
            "text/plain": [
              "id                                   57340136d058e614000b6783\n",
              "title                                                Genocide\n",
              "context     Highlighting the potential for state and non-s...\n",
              "question    In terms of failed states and non-state actors...\n",
              "answers     {'text': ['Adrian Gallagher'], 'answer_start':...\n",
              "Name: 1265, dtype: object"
            ]
          },
          "metadata": {}
        },
        {
          "output_type": "display_data",
          "data": {
            "text/plain": [
              "id                                   573402a3d058e614000b6797\n",
              "title                                                Genocide\n",
              "context     All signatories to the CPPCG are required to p...\n",
              "question    Signatories to the CPPC are required to preven...\n",
              "answers     {'text': ['acts of genocide'], 'answer_start':...\n",
              "Name: 1270, dtype: object"
            ]
          },
          "metadata": {}
        },
        {
          "output_type": "display_data",
          "data": {
            "text/plain": [
              "id                                   573404abd058e614000b67c9\n",
              "title                                                Genocide\n",
              "context     Because the universal acceptance of internatio...\n",
              "question    In 1948 the worldwide acceptance of internatio...\n",
              "answers     {'text': ['Convention on the Prevention and Pu...\n",
              "Name: 1275, dtype: object"
            ]
          },
          "metadata": {}
        },
        {
          "output_type": "display_data",
          "data": {
            "text/plain": [
              "id                                   573406d84776f41900661731\n",
              "title                                                Genocide\n",
              "context     On 12 July 2007, European Court of Human Right...\n",
              "question    Which court dismissed Nikola Jorgic's appeal a...\n",
              "answers     {'text': ['European Court of Human Rights'], '...\n",
              "Name: 1280, dtype: object"
            ]
          },
          "metadata": {}
        },
        {
          "output_type": "display_data",
          "data": {
            "text/plain": [
              "id                                   5734087f4776f4190066174d\n",
              "title                                                Genocide\n",
              "context     About 30 people have been indicted for partici...\n",
              "question    In the 1990s, how many people were indicted fo...\n",
              "answers           {'text': ['About 30'], 'answer_start': [0]}\n",
              "Name: 1285, dtype: object"
            ]
          },
          "metadata": {}
        },
        {
          "output_type": "display_data",
          "data": {
            "text/plain": [
              "id                                   57340aae4776f41900661790\n",
              "title                                                Genocide\n",
              "context     Slobodan Milošević, as the former President of...\n",
              "question    What event occurred in March 2006 that essenti...\n",
              "answers          {'text': ['He died'], 'answer_start': [138]}\n",
              "Name: 1290, dtype: object"
            ]
          },
          "metadata": {}
        },
        {
          "output_type": "display_data",
          "data": {
            "text/plain": [
              "id                                   57340c46d058e614000b6893\n",
              "title                                                Genocide\n",
              "context     The International Criminal Tribunal for Rwanda...\n",
              "question    What court was established under the aegis of ...\n",
              "answers     {'text': ['International Criminal Tribunal for...\n",
              "Name: 1295, dtype: object"
            ]
          },
          "metadata": {}
        },
        {
          "output_type": "display_data",
          "data": {
            "text/plain": [
              "id                                   57340e5dd058e614000b68b9\n",
              "title                                                Genocide\n",
              "context     There has been much debate over categorizing t...\n",
              "question    What has been widely debated as a possible act...\n",
              "answers     {'text': ['situation in Darfur'], 'answer_star...\n",
              "Name: 1300, dtype: object"
            ]
          },
          "metadata": {}
        },
        {
          "output_type": "display_data",
          "data": {
            "text/plain": [
              "id                                   57340f5bd058e614000b68cd\n",
              "title                                                Genocide\n",
              "context     In March 2005, the Security Council formally r...\n",
              "question    To whom did the Security Council officially re...\n",
              "answers     {'text': ['Prosecutor of the International Cri...\n",
              "Name: 1305, dtype: object"
            ]
          },
          "metadata": {}
        },
        {
          "output_type": "display_data",
          "data": {
            "text/plain": [
              "id                                   573410864776f419006617e5\n",
              "title                                                Genocide\n",
              "context     Other authors have focused on the structural c...\n",
              "question    In the build-up to genocide, what have other a...\n",
              "answers     {'text': ['structural conditions'], 'answer_st...\n",
              "Name: 1309, dtype: object"
            ]
          },
          "metadata": {}
        },
        {
          "output_type": "display_data",
          "data": {
            "text/plain": [
              "id                                   5733bc38d058e614000b6187\n",
              "title                                             Antibiotics\n",
              "context     The emergence of resistance of bacteria to ant...\n",
              "question    What is a modern common occurence with antibio...\n",
              "answers     {'text': ['resistance of bacteria'], 'answer_s...\n",
              "Name: 1314, dtype: object"
            ]
          },
          "metadata": {}
        },
        {
          "output_type": "display_data",
          "data": {
            "text/plain": [
              "id                                   5733b31dd058e614000b609f\n",
              "title                                             Antibiotics\n",
              "context     The successful outcome of antimicrobial therap...\n",
              "question    What does the potency of antibacterials depend...\n",
              "answers     {'text': ['concentration'], 'answer_start': [6...\n",
              "Name: 1322, dtype: object"
            ]
          },
          "metadata": {}
        },
        {
          "output_type": "display_data",
          "data": {
            "text/plain": [
              "id                                   5733b4cf4776f419006610ca\n",
              "title                                             Antibiotics\n",
              "context     Antibacterial antibiotics are commonly classif...\n",
              "question                  What do anitibiotics mostly target?\n",
              "answers     {'text': ['bacterial functions or growth proce...\n",
              "Name: 1329, dtype: object"
            ]
          },
          "metadata": {}
        },
        {
          "output_type": "display_data",
          "data": {
            "text/plain": [
              "id                                   5733b6a2d058e614000b6122\n",
              "title                                             Antibiotics\n",
              "context     With advances in medicinal chemistry, most mod...\n",
              "question              What are antibiotics in chemical terms?\n",
              "answers     {'text': ['semisynthetic modifications'], 'ans...\n",
              "Name: 1338, dtype: object"
            ]
          },
          "metadata": {}
        },
        {
          "output_type": "display_data",
          "data": {
            "text/plain": [
              "id                                   573016fb947a6a140053d0b4\n",
              "title                                             Antibiotics\n",
              "context     Antibiotics revolutionized medicine in the 20t...\n",
              "question    What is one disease that has been nearly eradi...\n",
              "answers     {'text': ['tuberculosis'], 'answer_start': [140]}\n",
              "Name: 1346, dtype: object"
            ]
          },
          "metadata": {}
        },
        {
          "output_type": "display_data",
          "data": {
            "text/plain": [
              "id                                   573018d5947a6a140053d0e4\n",
              "title                                             Antibiotics\n",
              "context     In empirical therapy, a patient has proven or ...\n",
              "question    What is one kind of therapy that may be used w...\n",
              "answers     {'text': ['empirical therapy'], 'answer_start'...\n",
              "Name: 1364, dtype: object"
            ]
          },
          "metadata": {}
        },
        {
          "output_type": "display_data",
          "data": {
            "text/plain": [
              "id                                   57301a6b04bcaa1900d7719f\n",
              "title                                             Antibiotics\n",
              "context     Antibiotics are screened for any negative effe...\n",
              "question    What are two examples of minor side effects ca...\n",
              "answers     {'text': ['fever and nausea'], 'answer_start':...\n",
              "Name: 1372, dtype: object"
            ]
          },
          "metadata": {}
        },
        {
          "output_type": "display_data",
          "data": {
            "text/plain": [
              "id                                   57301bfca23a5019007fcd81\n",
              "title                                             Antibiotics\n",
              "context     Exposure to antibiotics early in life is assoc...\n",
              "question    What is one common result of using antibiotics...\n",
              "answers     {'text': ['increased body mass'], 'answer_star...\n",
              "Name: 1387, dtype: object"
            ]
          },
          "metadata": {}
        },
        {
          "output_type": "display_data",
          "data": {
            "text/plain": [
              "id                                   57302106a23a5019007fcdf7\n",
              "title                                             Antibiotics\n",
              "context     The majority of studies indicate antibiotics d...\n",
              "question    Do antibiotics interact with birth control pills?\n",
              "answers     {'text': ['The majority of studies indicate an...\n",
              "Name: 1395, dtype: object"
            ]
          },
          "metadata": {}
        },
        {
          "output_type": "display_data",
          "data": {
            "text/plain": [
              "id                                   57302230a23a5019007fce13\n",
              "title                                             Antibiotics\n",
              "context     Interactions between alcohol and certain antib...\n",
              "question    What is one potential issue with drinking alco...\n",
              "answers     {'text': ['decreased effectiveness'], 'answer_...\n",
              "Name: 1407, dtype: object"
            ]
          },
          "metadata": {}
        },
        {
          "output_type": "display_data",
          "data": {
            "text/plain": [
              "id                                   5731c904b9d445190005e551\n",
              "title                                             Antibiotics\n",
              "context     Several molecular mechanisms of antibacterial ...\n",
              "question    What is part of hje the make up of bacterial s...\n",
              "answers     {'text': ['Intrinsic antibacterial resistance'...\n",
              "Name: 1417, dtype: object"
            ]
          },
          "metadata": {}
        },
        {
          "output_type": "display_data",
          "data": {
            "text/plain": [
              "id                                   5733c4ca4776f419006611e4\n",
              "title                                             Antibiotics\n",
              "context     Antibacterial-resistant strains and species, s...\n",
              "question    What are strains that are resistant to antibio...\n",
              "answers         {'text': ['superbugs'], 'answer_start': [71]}\n",
              "Name: 1424, dtype: object"
            ]
          },
          "metadata": {}
        },
        {
          "output_type": "display_data",
          "data": {
            "text/plain": [
              "id                                   5733c6d84776f41900661208\n",
              "title                                             Antibiotics\n",
              "context     Inappropriate antibiotic treatment and overuse...\n",
              "question     What are the two biggest reasons for resistance?\n",
              "answers     {'text': ['Inappropriate antibiotic treatment ...\n",
              "Name: 1428, dtype: object"
            ]
          },
          "metadata": {}
        },
        {
          "output_type": "display_data",
          "data": {
            "text/plain": [
              "id                                   5733c81c4776f4190066121c\n",
              "title                                             Antibiotics\n",
              "context     Common forms of antibiotic misuse include exce...\n",
              "question    What is a way of improperly using antibiotics ...\n",
              "answers     {'text': ['prophylactic antibiotics'], 'answer...\n",
              "Name: 1431, dtype: object"
            ]
          },
          "metadata": {}
        },
        {
          "output_type": "display_data",
          "data": {
            "text/plain": [
              "id                                   5733cb484776f41900661256\n",
              "title                                             Antibiotics\n",
              "context     Several organizations concerned with antimicro...\n",
              "question    What is the name of a US government agency tas...\n",
              "answers     {'text': ['US Interagency Task Force on Antimi...\n",
              "Name: 1436, dtype: object"
            ]
          },
          "metadata": {}
        },
        {
          "output_type": "display_data",
          "data": {
            "text/plain": [
              "id                                   5733cd2bd058e614000b62b3\n",
              "title                                             Antibiotics\n",
              "context     The emergence of antibiotic resistance has pro...\n",
              "question    When did the EU ban antibiotics for speeding u...\n",
              "answers             {'text': ['2003'], 'answer_start': [197]}\n",
              "Name: 1439, dtype: object"
            ]
          },
          "metadata": {}
        },
        {
          "output_type": "display_data",
          "data": {
            "text/plain": [
              "id                                   5733d178d058e614000b6321\n",
              "title                                             Antibiotics\n",
              "context     There has been extensive use of antibiotics in...\n",
              "question    What besides sick people are antibiotics used ...\n",
              "answers     {'text': ['animal husbandry'], 'answer_start':...\n",
              "Name: 1444, dtype: object"
            ]
          },
          "metadata": {}
        },
        {
          "output_type": "display_data",
          "data": {
            "text/plain": [
              "id                                   5733d2444776f419006612d8\n",
              "title                                             Antibiotics\n",
              "context     Before the early 20th century, treatments for ...\n",
              "question    What methods did people use before antibiotics...\n",
              "answers     {'text': ['medicinal folklore'], 'answer_start...\n",
              "Name: 1447, dtype: object"
            ]
          },
          "metadata": {}
        },
        {
          "output_type": "display_data",
          "data": {
            "text/plain": [
              "id                                   5733d3334776f419006612e2\n",
              "title                                             Antibiotics\n",
              "context     The effects of some types of mold on infection...\n",
              "question    What type of organism has been reported to hav...\n",
              "answers              {'text': ['mold'], 'answer_start': [29]}\n",
              "Name: 1452, dtype: object"
            ]
          },
          "metadata": {}
        },
        {
          "output_type": "display_data",
          "data": {
            "text/plain": [
              "id                                   5733d4364776f419006612f2\n",
              "title                                             Antibiotics\n",
              "context     The first sulfonamide and first commercially a...\n",
              "question             What was the first available antibiotic?\n",
              "answers         {'text': ['Prontosil'], 'answer_start': [70]}\n",
              "Name: 1456, dtype: object"
            ]
          },
          "metadata": {}
        },
        {
          "output_type": "display_data",
          "data": {
            "text/plain": [
              "id                                   5733d4c24776f41900661304\n",
              "title                                             Antibiotics\n",
              "context     In 1939, coinciding with the start of World Wa...\n",
              "question    What was the first antibiotic developed from n...\n",
              "answers      {'text': ['tyrothricin'], 'answer_start': [129]}\n",
              "Name: 1460, dtype: object"
            ]
          },
          "metadata": {}
        },
        {
          "output_type": "display_data",
          "data": {
            "text/plain": [
              "id                                   5733d5f24776f41900661314\n",
              "title                                             Antibiotics\n",
              "context     Florey and Chain succeeded in purifying the fi...\n",
              "question                When was penicillin G first purified?\n",
              "answers              {'text': ['1942'], 'answer_start': [79]}\n",
              "Name: 1465, dtype: object"
            ]
          },
          "metadata": {}
        },
        {
          "output_type": "display_data",
          "data": {
            "text/plain": [
              "id                                   5733d670d058e614000b6379\n",
              "title                                             Antibiotics\n",
              "context     Vaccines rely on immune modulation or augmenta...\n",
              "question                       What do vaccines need to work?\n",
              "answers     {'text': ['immune modulation or augmentation']...\n",
              "Name: 1470, dtype: object"
            ]
          },
          "metadata": {}
        },
        {
          "output_type": "display_data",
          "data": {
            "text/plain": [
              "id                                   5733d6e64776f41900661328\n",
              "title                                             Antibiotics\n",
              "context     Phage therapy is another option that is being ...\n",
              "question    What has been talked about to treat resistant ...\n",
              "answers      {'text': ['Phage therapy'], 'answer_start': [0]}\n",
              "Name: 1473, dtype: object"
            ]
          },
          "metadata": {}
        },
        {
          "output_type": "display_data",
          "data": {
            "text/plain": [
              "id                                   5733d88b4776f41900661344\n",
              "title                                             Antibiotics\n",
              "context     In April 2013, the Infectious Disease Society ...\n",
              "question    How many antibiotics have been created in the ...\n",
              "answers                {'text': ['2'], 'answer_start': [192]}\n",
              "Name: 1476, dtype: object"
            ]
          },
          "metadata": {}
        },
        {
          "output_type": "display_data",
          "data": {
            "text/plain": [
              "id                                   5733d91e4776f4190066134a\n",
              "title                                             Antibiotics\n",
              "context     Possible improvements include clarification of...\n",
              "question                   Who regulates antibiotic approval?\n",
              "answers               {'text': ['FDA'], 'answer_start': [77]}\n",
              "Name: 1479, dtype: object"
            ]
          },
          "metadata": {}
        },
        {
          "output_type": "display_data",
          "data": {
            "text/plain": [
              "id                                   56cbd2356d243a140015ed66\n",
              "title                                         Frédéric_Chopin\n",
              "context     Frédéric François Chopin (/ˈʃoʊpæn/; French pr...\n",
              "question                   What was Frédéric's nationalities?\n",
              "answers     {'text': ['Polish and French'], 'answer_start'...\n",
              "Name: 1483, dtype: object"
            ]
          },
          "metadata": {}
        },
        {
          "output_type": "display_data",
          "data": {
            "text/plain": [
              "id                                   56cbd2f96d243a140015ed70\n",
              "title                                         Frédéric_Chopin\n",
              "context     At the age of 21 he settled in Paris. Thereaft...\n",
              "question              At what age did Frédéric move to Paris?\n",
              "answers                {'text': ['21'], 'answer_start': [14]}\n",
              "Name: 1502, dtype: object"
            ]
          },
          "metadata": {}
        },
        {
          "output_type": "display_data",
          "data": {
            "text/plain": [
              "id                                   56cbd4c56d243a140015ed7a\n",
              "title                                         Frédéric_Chopin\n",
              "context     All of Chopin's compositions include the piano...\n",
              "question    What instrument did every composition by Frédé...\n",
              "answers             {'text': ['piano'], 'answer_start': [41]}\n",
              "Name: 1519, dtype: object"
            ]
          },
          "metadata": {}
        },
        {
          "output_type": "display_data",
          "data": {
            "text/plain": [
              "id                                   56cbd8c66d243a140015ed85\n",
              "title                                         Frédéric_Chopin\n",
              "context     In his native Poland, in France, where he comp...\n",
              "question    What was the degree of Frédéric's association ...\n",
              "answers         {'text': ['indirect'], 'answer_start': [173]}\n",
              "Name: 1536, dtype: object"
            ]
          },
          "metadata": {}
        },
        {
          "output_type": "display_data",
          "data": {
            "text/plain": [
              "id                                   56cbda8d6d243a140015ed8e\n",
              "title                                         Frédéric_Chopin\n",
              "context     Fryderyk Chopin was born in Żelazowa Wola, 46 ...\n",
              "question                In what village was Frédéric born in?\n",
              "answers     {'text': ['Żelazowa Wola'], 'answer_start': [28]}\n",
              "Name: 1547, dtype: object"
            ]
          },
          "metadata": {}
        },
        {
          "output_type": "display_data",
          "data": {
            "text/plain": [
              "id                                   56cbdbf36d243a140015ed99\n",
              "title                                         Frédéric_Chopin\n",
              "context     Fryderyk's father, Nicolas Chopin, was a Frenc...\n",
              "question             Who did Frédéric's father marry in 1806?\n",
              "answers     {'text': ['Justyna Krzyżanowska'], 'answer_sta...\n",
              "Name: 1563, dtype: object"
            ]
          },
          "metadata": {}
        },
        {
          "output_type": "display_data",
          "data": {
            "text/plain": [
              "id                                   56cbdcd16d243a140015eda2\n",
              "title                                         Frédéric_Chopin\n",
              "context     In October 1810, six months after Fryderyk's b...\n",
              "question    During what month did Frédéric move to Warsaw ...\n",
              "answers            {'text': ['October'], 'answer_start': [3]}\n",
              "Name: 1574, dtype: object"
            ]
          },
          "metadata": {}
        },
        {
          "output_type": "display_data",
          "data": {
            "text/plain": [
              "id                                   56cbdea66d243a140015edac\n",
              "title                                         Frédéric_Chopin\n",
              "context     Fryderyk may have had some piano instruction f...\n",
              "question    Who was Frédéric's first professional teacher ...\n",
              "answers     {'text': ['Wojciech Żywny'], 'answer_start': [...\n",
              "Name: 1588, dtype: object"
            ]
          },
          "metadata": {}
        },
        {
          "output_type": "display_data",
          "data": {
            "text/plain": [
              "id                                   56cbdfbf6d243a140015edb6\n",
              "title                                         Frédéric_Chopin\n",
              "context     In 1817 the Saxon Palace was requisitioned by ...\n",
              "question    In what year was the Saxon Palace taken by the...\n",
              "answers               {'text': ['1817'], 'answer_start': [3]}\n",
              "Name: 1602, dtype: object"
            ]
          },
          "metadata": {}
        },
        {
          "output_type": "display_data",
          "data": {
            "text/plain": [
              "id                                   56cbe1996d243a140015edc0\n",
              "title                                         Frédéric_Chopin\n",
              "context     From September 1823 to 1826 Chopin attended th...\n",
              "question    During what years did Frédéric visit the Warsa...\n",
              "answers      {'text': ['1823 to 1826'], 'answer_start': [15]}\n",
              "Name: 1616, dtype: object"
            ]
          },
          "metadata": {}
        },
        {
          "output_type": "display_data",
          "data": {
            "text/plain": [
              "id                                   56cbe2fd6d243a140015edcb\n",
              "title                                         Frédéric_Chopin\n",
              "context     During 1824–28 Chopin spent his vacations away...\n",
              "question    Who was Frédéric a guest of during his visit o...\n",
              "answers     {'text': ['Dominik Dziewanowski'], 'answer_sta...\n",
              "Name: 1631, dtype: object"
            ]
          },
          "metadata": {}
        },
        {
          "output_type": "display_data",
          "data": {
            "text/plain": [
              "id                                   56cbe5df6d243a140015edd4\n",
              "title                                         Frédéric_Chopin\n",
              "context     In 1827, soon after the death of Chopin's youn...\n",
              "question    During what year did Frédéric's youngest siste...\n",
              "answers               {'text': ['1827'], 'answer_start': [3]}\n",
              "Name: 1640, dtype: object"
            ]
          },
          "metadata": {}
        },
        {
          "output_type": "display_data",
          "data": {
            "text/plain": [
              "id                                   56cbe9436d243a140015eddf\n",
              "title                                         Frédéric_Chopin\n",
              "context     Four boarders at his parents' apartments becam...\n",
              "question    Of the individuals that became intimate with F...\n",
              "answers     {'text': ['Jan Matuszyński and Julian Fontana'...\n",
              "Name: 1654, dtype: object"
            ]
          },
          "metadata": {}
        },
        {
          "output_type": "display_data",
          "data": {
            "text/plain": [
              "id                                   56cbeb396d243a140015ede8\n",
              "title                                         Frédéric_Chopin\n",
              "context     In September 1828 Chopin, while still a studen...\n",
              "question    Who did Frédéric visit Berlin with in Septembe...\n",
              "answers     {'text': ['Feliks Jarocki'], 'answer_start': [...\n",
              "Name: 1665, dtype: object"
            ]
          },
          "metadata": {}
        },
        {
          "output_type": "display_data",
          "data": {
            "text/plain": [
              "id                                   56cbedde6d243a140015edf2\n",
              "title                                         Frédéric_Chopin\n",
              "context     Back in Warsaw that year, Chopin heard Niccolò...\n",
              "question    What did Frédéric compose after hearing Niccol...\n",
              "answers     {'text': ['Souvenir de Paganini'], 'answer_sta...\n",
              "Name: 1679, dtype: object"
            ]
          },
          "metadata": {}
        },
        {
          "output_type": "display_data",
          "data": {
            "text/plain": [
              "id                                   56cbef3a6d243a140015edfc\n",
              "title                                         Frédéric_Chopin\n",
              "context     Chopin's successes as a composer and performer...\n",
              "question    On what date did Frédéric begin his journey in...\n",
              "answers     {'text': ['2 November 1830'], 'answer_start': ...\n",
              "Name: 1692, dtype: object"
            ]
          },
          "metadata": {}
        },
        {
          "output_type": "display_data",
          "data": {
            "text/plain": [
              "id                                   56cbf12a6d243a140015ee06\n",
              "title                                         Frédéric_Chopin\n",
              "context     Chopin arrived in Paris in late September 1831...\n",
              "question    What event was Frédéric a part of when he arri...\n",
              "answers     {'text': ['the Polish Great Emigration'], 'ans...\n",
              "Name: 1705, dtype: object"
            ]
          },
          "metadata": {}
        },
        {
          "output_type": "display_data",
          "data": {
            "text/plain": [
              "id                                   56cbf37e6d243a140015ee10\n",
              "title                                         Frédéric_Chopin\n",
              "context     In Paris, Chopin encountered artists and other...\n",
              "question    In what city did Frédéric achieve celebrity st...\n",
              "answers              {'text': ['Paris'], 'answer_start': [3]}\n",
              "Name: 1719, dtype: object"
            ]
          },
          "metadata": {}
        },
        {
          "output_type": "display_data",
          "data": {
            "text/plain": [
              "id                                   56cbf5106d243a140015ee18\n",
              "title                                         Frédéric_Chopin\n",
              "context     Two Polish friends in Paris were also to play ...\n",
              "question    Which friend of Frédéric failed to achieve suc...\n",
              "answers     {'text': ['Julian Fontana'], 'answer_start': [...\n",
              "Name: 1726, dtype: object"
            ]
          },
          "metadata": {}
        },
        {
          "output_type": "display_data",
          "data": {
            "text/plain": [
              "id                                   56cbf7d16d243a140015ee22\n",
              "title                                         Frédéric_Chopin\n",
              "context     At the end of 1831, Chopin received the first ...\n",
              "question    Who gave Frédéric his first significant public...\n",
              "answers     {'text': ['Robert Schumann'], 'answer_start': ...\n",
              "Name: 1737, dtype: object"
            ]
          },
          "metadata": {}
        },
        {
          "output_type": "display_data",
          "data": {
            "text/plain": [
              "id                                   56cbfa0e6d243a140015ee2d\n",
              "title                                         Frédéric_Chopin\n",
              "context     Chopin seldom performed publicly in Paris. In ...\n",
              "question    What was Frédéric's favorite environment to pe...\n",
              "answers     {'text': ['his own Paris apartment for small g...\n",
              "Name: 1747, dtype: object"
            ]
          },
          "metadata": {}
        },
        {
          "output_type": "display_data",
          "data": {
            "text/plain": [
              "id                                   56cbfbdd6d243a140015ee36\n",
              "title                                         Frédéric_Chopin\n",
              "context     In the spring of 1834, Chopin attended the Low...\n",
              "question    Who did Frédéric meet in the spring of 1834 at...\n",
              "answers     {'text': ['Felix Mendelssohn'], 'answer_start'...\n",
              "Name: 1756, dtype: object"
            ]
          },
          "metadata": {}
        },
        {
          "output_type": "display_data",
          "data": {
            "text/plain": [
              "id                                   56cbfcda6d243a140015ee40\n",
              "title                                         Frédéric_Chopin\n",
              "context     Although it is not known exactly when Chopin f...\n",
              "question    Who was the recipient of Frédéric's letter he ...\n",
              "answers     {'text': ['Woyciechowski'], 'answer_start': [1...\n",
              "Name: 1769, dtype: object"
            ]
          },
          "metadata": {}
        },
        {
          "output_type": "display_data",
          "data": {
            "text/plain": [
              "id                                   56cbff116d243a140015ee46\n",
              "title                                         Frédéric_Chopin\n",
              "context     The two became friends, and for many years liv...\n",
              "question    What address did Frédéric live at during his s...\n",
              "answers     {'text': ['38 Rue de la Chaussée-d'Antin'], 'a...\n",
              "Name: 1775, dtype: object"
            ]
          },
          "metadata": {}
        },
        {
          "output_type": "display_data",
          "data": {
            "text/plain": [
              "id                                   56cc02376d243a140015ee50\n",
              "title                                         Frédéric_Chopin\n",
              "context     Although the two displayed great respect and a...\n",
              "question    What term describes the qualities of the relat...\n",
              "answers     {'text': ['love-hate relationship'], 'answer_s...\n",
              "Name: 1786, dtype: object"
            ]
          },
          "metadata": {}
        },
        {
          "output_type": "display_data",
          "data": {
            "text/plain": [
              "id                                   56cc06496d243a140015ee5a\n",
              "title                                         Frédéric_Chopin\n",
              "context     In 1836, at a party hosted by Marie d'Agoult, ...\n",
              "question    Who was the host of the gathering where Frédér...\n",
              "answers     {'text': ['Marie d'Agoult'], 'answer_start': [...\n",
              "Name: 1797, dtype: object"
            ]
          },
          "metadata": {}
        },
        {
          "output_type": "display_data",
          "data": {
            "text/plain": [
              "id                                   56cc07886d243a140015ee64\n",
              "title                                         Frédéric_Chopin\n",
              "context     In June 1837 Chopin visited London incognito i...\n",
              "question           What city did Frédéric visit in June 1837?\n",
              "answers            {'text': ['London'], 'answer_start': [28]}\n",
              "Name: 1807, dtype: object"
            ]
          },
          "metadata": {}
        },
        {
          "output_type": "display_data",
          "data": {
            "text/plain": [
              "id                                   56cc08eb6d243a140015ee6e\n",
              "title                                         Frédéric_Chopin\n",
              "context     On 3 December, Chopin complained about his bad...\n",
              "question    How many doctors saw Frédéric by the 3rd of De...\n",
              "answers            {'text': ['Three'], 'answer_start': [103]}\n",
              "Name: 1822, dtype: object"
            ]
          },
          "metadata": {}
        },
        {
          "output_type": "display_data",
          "data": {
            "text/plain": [
              "id                                   56cc0d816d243a140015ee78\n",
              "title                                         Frédéric_Chopin\n",
              "context     Although this period had been productive, the ...\n",
              "question    What is stated as having a negative effect on ...\n",
              "answers       {'text': ['bad weather'], 'answer_start': [46]}\n",
              "Name: 1831, dtype: object"
            ]
          },
          "metadata": {}
        },
        {
          "output_type": "display_data",
          "data": {
            "text/plain": [
              "id                                   56cc0f056d243a140015ee83\n",
              "title                                         Frédéric_Chopin\n",
              "context     At the funeral of the tenor Adolphe Nourrit in...\n",
              "question    What event were Chopin and Sand at on 26 July ...\n",
              "answers     {'text': ['Berlioz's Grande symphonie funèbre ...\n",
              "Name: 1846, dtype: object"
            ]
          },
          "metadata": {}
        },
        {
          "output_type": "display_data",
          "data": {
            "text/plain": [
              "id                                   56cc100b6d243a140015ee8a\n",
              "title                                         Frédéric_Chopin\n",
              "context     During the summers at Nohant, particularly in ...\n",
              "question    What is the example given of a work produced b...\n",
              "answers     {'text': ['Polonaise in A-flat major, Op. 53']...\n",
              "Name: 1855, dtype: object"
            ]
          },
          "metadata": {}
        },
        {
          "output_type": "display_data",
          "data": {
            "text/plain": [
              "id                                   56cc12376d243a140015ee92\n",
              "title                                         Frédéric_Chopin\n",
              "context     From 1842 onwards, Chopin showed signs of seri...\n",
              "question    In which year did Chopin begin experiencing a ...\n",
              "answers               {'text': ['1842'], 'answer_start': [5]}\n",
              "Name: 1862, dtype: object"
            ]
          },
          "metadata": {}
        },
        {
          "output_type": "display_data",
          "data": {
            "text/plain": [
              "id                                   56cc13956d243a140015ee9c\n",
              "title                                         Frédéric_Chopin\n",
              "context     Chopin's relations with Sand were soured in 18...\n",
              "question    What was the name of Sand's daughter's fiance ...\n",
              "answers     {'text': ['Auguste Clésinger'], 'answer_start'...\n",
              "Name: 1875, dtype: object"
            ]
          },
          "metadata": {}
        },
        {
          "output_type": "display_data",
          "data": {
            "text/plain": [
              "id                                   56cc15956d243a140015eea8\n",
              "title                                         Frédéric_Chopin\n",
              "context     Chopin's output as a composer throughout this ...\n",
              "question    What was the name of the single piece of work ...\n",
              "answers     {'text': ['Op. 58 sonata'], 'answer_start': [2...\n",
              "Name: 1887, dtype: object"
            ]
          },
          "metadata": {}
        },
        {
          "output_type": "display_data",
          "data": {
            "text/plain": [
              "id                                   56cc16bb6d243a140015eeb1\n",
              "title                                         Frédéric_Chopin\n",
              "context     Chopin's public popularity as a virtuoso began...\n",
              "question    In what month and year did Chopin give his fin...\n",
              "answers     {'text': ['February 1848'], 'answer_start': [2...\n",
              "Name: 1895, dtype: object"
            ]
          },
          "metadata": {}
        },
        {
          "output_type": "display_data",
          "data": {
            "text/plain": [
              "id                                   56cea7efaab44d1400b888f5\n",
              "title                                         Frédéric_Chopin\n",
              "context     Chopin's life was covered in a BBC TV document...\n",
              "question    What television station made a documentary on ...\n",
              "answers               {'text': ['BBC'], 'answer_start': [31]}\n",
              "Name: 1902, dtype: object"
            ]
          },
          "metadata": {}
        },
        {
          "output_type": "display_data",
          "data": {
            "text/plain": [
              "id                                   56cf4e5faab44d1400b88f90\n",
              "title                                         Frédéric_Chopin\n",
              "context     Chopin's life and his relations with George Sa...\n",
              "question    What was the name of the 1945 movie released a...\n",
              "answers     {'text': ['A Song to Remember'], 'answer_start...\n",
              "Name: 1909, dtype: object"
            ]
          },
          "metadata": {}
        },
        {
          "output_type": "display_data",
          "data": {
            "text/plain": [
              "id                                   56cf4ee2aab44d1400b88fac\n",
              "title                                         Frédéric_Chopin\n",
              "context     Possibly the first venture into fictional trea...\n",
              "question    When was the first fictionalized account of Ch...\n",
              "answers             {'text': ['1901'], 'answer_start': [188]}\n",
              "Name: 1918, dtype: object"
            ]
          },
          "metadata": {}
        },
        {
          "output_type": "display_data",
          "data": {
            "text/plain": [
              "id                                   56cf50b2aab44d1400b88fbd\n",
              "title                                         Frédéric_Chopin\n",
              "context     Chopin has figured extensively in Polish liter...\n",
              "question    An 1830 sonnet was written about Chopin by wha...\n",
              "answers      {'text': ['Leon Ulrich'], 'answer_start': [205]}\n",
              "Name: 1926, dtype: object"
            ]
          },
          "metadata": {}
        },
        {
          "output_type": "display_data",
          "data": {
            "text/plain": [
              "id                                   56cf5187aab44d1400b88fc4\n",
              "title                                         Frédéric_Chopin\n",
              "context     Numerous recordings of Chopin's works are avai...\n",
              "question    The Warsaw Chopin Society holds the Grand prix...\n",
              "answers     {'text': ['every five years.'], 'answer_start'...\n",
              "Name: 1932, dtype: object"
            ]
          },
          "metadata": {}
        },
        {
          "output_type": "display_data",
          "data": {
            "text/plain": [
              "id                                   56cf5284aab44d1400b88fca\n",
              "title                                         Frédéric_Chopin\n",
              "context     The British Library notes that \"Chopin's works...\n",
              "question    What year was the earliest Chopin recording cr...\n",
              "answers             {'text': ['1895'], 'answer_start': [145]}\n",
              "Name: 1938, dtype: object"
            ]
          },
          "metadata": {}
        },
        {
          "output_type": "display_data",
          "data": {
            "text/plain": [
              "id                                   56cf5376aab44d1400b88fd8\n",
              "title                                         Frédéric_Chopin\n",
              "context     Chopin's music remains very popular and is reg...\n",
              "question    What is the name of the oldest music essay com...\n",
              "answers     {'text': ['International Chopin Piano Competit...\n",
              "Name: 1944, dtype: object"
            ]
          },
          "metadata": {}
        },
        {
          "output_type": "display_data",
          "data": {
            "text/plain": [
              "id                                   56cf5433aab44d1400b88fee\n",
              "title                                         Frédéric_Chopin\n",
              "context     Chopin's music was used in the 1909 ballet Cho...\n",
              "question    What is the name of the ballet that included C...\n",
              "answers        {'text': ['Chopiniana'], 'answer_start': [43]}\n",
              "Name: 1953, dtype: object"
            ]
          },
          "metadata": {}
        },
        {
          "output_type": "display_data",
          "data": {
            "text/plain": [
              "id                                   56cfe4a4234ae51400d9c015\n",
              "title                                         Frédéric_Chopin\n",
              "context     In April, during the Revolution of 1848 in Par...\n",
              "question    Where did Chopin head to during the Revolution...\n",
              "answers            {'text': ['London'], 'answer_start': [62]}\n",
              "Name: 1962, dtype: object"
            ]
          },
          "metadata": {}
        },
        {
          "output_type": "display_data",
          "data": {
            "text/plain": [
              "id                                   56cfe6cf234ae51400d9c03b\n",
              "title                                         Frédéric_Chopin\n",
              "context     In London Chopin took lodgings at Dover Street...\n",
              "question               Where did Chopin stay while in London?\n",
              "answers      {'text': ['Dover Street'], 'answer_start': [34]}\n",
              "Name: 1969, dtype: object"
            ]
          },
          "metadata": {}
        },
        {
          "output_type": "display_data",
          "data": {
            "text/plain": [
              "id                                   56cfe792234ae51400d9c05b\n",
              "title                                         Frédéric_Chopin\n",
              "context     In late summer he was invited by Jane Stirling...\n",
              "question               Where did Jane Stirling invite Chopin?\n",
              "answers          {'text': ['Scotland'], 'answer_start': [56]}\n",
              "Name: 1979, dtype: object"
            ]
          },
          "metadata": {}
        },
        {
          "output_type": "display_data",
          "data": {
            "text/plain": [
              "id                                   56cfe7f4234ae51400d9c05f\n",
              "title                                         Frédéric_Chopin\n",
              "context     Chopin made his last public appearance on a co...\n",
              "question               When did Chopin last appear in public?\n",
              "answers     {'text': ['16 November 1848'], 'answer_start':...\n",
              "Name: 1984, dtype: object"
            ]
          },
          "metadata": {}
        },
        {
          "output_type": "display_data",
          "data": {
            "text/plain": [
              "id                                   56cfe87e234ae51400d9c06d\n",
              "title                                         Frédéric_Chopin\n",
              "context     At the end of November, Chopin returned to Par...\n",
              "question              Who did Chopin play for while she sang?\n",
              "answers     {'text': ['Delfina Potocka'], 'answer_start': ...\n",
              "Name: 1989, dtype: object"
            ]
          },
          "metadata": {}
        },
        {
          "output_type": "display_data",
          "data": {
            "text/plain": [
              "id                                   56cfe911234ae51400d9c085\n",
              "title                                         Frédéric_Chopin\n",
              "context     With his health further deteriorating, Chopin ...\n",
              "question        When did his sister come to stay with Chopin?\n",
              "answers         {'text': ['June 1849'], 'answer_start': [91]}\n",
              "Name: 1997, dtype: object"
            ]
          },
          "metadata": {}
        },
        {
          "output_type": "display_data",
          "data": {
            "text/plain": [
              "id                                   56cfe9df234ae51400d9c0a1\n",
              "title                                         Frédéric_Chopin\n",
              "context     Some of his friends provided music at his requ...\n",
              "question    Why did Chopin request being cut open after hi...\n",
              "answers     {'text': ['fear of being buried alive'], 'answ...\n",
              "Name: 2003, dtype: object"
            ]
          },
          "metadata": {}
        },
        {
          "output_type": "display_data",
          "data": {
            "text/plain": [
              "id                                   56cfeaa3234ae51400d9c0b3\n",
              "title                                         Frédéric_Chopin\n",
              "context     Chopin's disease and the cause of his death ha...\n",
              "question    What is listed as Chopin's official cause of d...\n",
              "answers     {'text': ['tuberculosis'], 'answer_start': [124]}\n",
              "Name: 2008, dtype: object"
            ]
          },
          "metadata": {}
        },
        {
          "output_type": "display_data",
          "data": {
            "text/plain": [
              "id                                   56cfeae2234ae51400d9c0b9\n",
              "title                                         Frédéric_Chopin\n",
              "context     The funeral, held at the Church of the Madelei...\n",
              "question                     Where was Chopin's funeral held?\n",
              "answers     {'text': ['Church of the Madeleine'], 'answer_...\n",
              "Name: 2015, dtype: object"
            ]
          },
          "metadata": {}
        },
        {
          "output_type": "display_data",
          "data": {
            "text/plain": [
              "id                                   56cfeb52234ae51400d9c0bf\n",
              "title                                         Frédéric_Chopin\n",
              "context     Mozart's Requiem was sung at the funeral; the ...\n",
              "question              What song was sung at Chopin's funeral?\n",
              "answers     {'text': ['Mozart's Requiem'], 'answer_start':...\n",
              "Name: 2021, dtype: object"
            ]
          },
          "metadata": {}
        },
        {
          "output_type": "display_data",
          "data": {
            "text/plain": [
              "id                                   56cfec4b234ae51400d9c0cd\n",
              "title                                         Frédéric_Chopin\n",
              "context     Chopin's tombstone, featuring the muse of musi...\n",
              "question                     Who sculpted Chopin's tombstone?\n",
              "answers        {'text': ['Clésinger'], 'answer_start': [115]}\n",
              "Name: 2030, dtype: object"
            ]
          },
          "metadata": {}
        },
        {
          "output_type": "display_data",
          "data": {
            "text/plain": [
              "id                                   56cfec7b234ae51400d9c0d7\n",
              "title                                         Frédéric_Chopin\n",
              "context     Over 230 works of Chopin survive; some composi...\n",
              "question              How many of Chopin's works still exist?\n",
              "answers           {'text': ['Over 230'], 'answer_start': [0]}\n",
              "Name: 2040, dtype: object"
            ]
          },
          "metadata": {}
        },
        {
          "output_type": "display_data",
          "data": {
            "text/plain": [
              "id                                   56cfed0f234ae51400d9c0db\n",
              "title                                         Frédéric_Chopin\n",
              "context     Chopin was educated in the tradition of Beetho...\n",
              "question    Whose piano method did Chopin teach his students?\n",
              "answers          {'text': ['Clementi'], 'answer_start': [69]}\n",
              "Name: 2044, dtype: object"
            ]
          },
          "metadata": {}
        },
        {
          "output_type": "display_data",
          "data": {
            "text/plain": [
              "id                                   56cfed8a234ae51400d9c0e1\n",
              "title                                         Frédéric_Chopin\n",
              "context     Chopin took the new salon genre of the nocturn...\n",
              "question          Who is credited with creating the nocturne?\n",
              "answers        {'text': ['John Field'], 'answer_start': [80]}\n",
              "Name: 2048, dtype: object"
            ]
          },
          "metadata": {}
        },
        {
          "output_type": "display_data",
          "data": {
            "text/plain": [
              "id                                   56cfee5d234ae51400d9c0f7\n",
              "title                                         Frédéric_Chopin\n",
              "context     Chopin also endowed popular dance forms with a...\n",
              "question    How many polonaises were published while Chopi...\n",
              "answers            {'text': ['seven'], 'answer_start': [363]}\n",
              "Name: 2054, dtype: object"
            ]
          },
          "metadata": {}
        },
        {
          "output_type": "display_data",
          "data": {
            "text/plain": [
              "id                                   56cfef3c234ae51400d9c10d\n",
              "title                                         Frédéric_Chopin\n",
              "context     Some of Chopin's well-known pieces have acquir...\n",
              "question    What is another title Op. 10, No. 12 has garne...\n",
              "answers     {'text': ['the Revolutionary Étude'], 'answer_...\n",
              "Name: 2063, dtype: object"
            ]
          },
          "metadata": {}
        },
        {
          "output_type": "display_data",
          "data": {
            "text/plain": [
              "id                                   56cff00f234ae51400d9c113\n",
              "title                                         Frédéric_Chopin\n",
              "context     The last opus number that Chopin himself used ...\n",
              "question     What was the last number Chopin gave to an opus?\n",
              "answers                {'text': ['65'], 'answer_start': [50]}\n",
              "Name: 2069, dtype: object"
            ]
          },
          "metadata": {}
        },
        {
          "output_type": "display_data",
          "data": {
            "text/plain": [
              "id                                   56cff0c3234ae51400d9c123\n",
              "title                                         Frédéric_Chopin\n",
              "context     Works published since 1857 have received alter...\n",
              "question          The Kobylańska Catalogue was named for who?\n",
              "answers     {'text': ['Krystyna Kobylańska'], 'answer_star...\n",
              "Name: 2076, dtype: object"
            ]
          },
          "metadata": {}
        },
        {
          "output_type": "display_data",
          "data": {
            "text/plain": [
              "id                                   56cff179234ae51400d9c131\n",
              "title                                         Frédéric_Chopin\n",
              "context     Chopin's original publishers included Maurice ...\n",
              "question    Who released the first collection of Chopin's ...\n",
              "answers     {'text': ['Breitkopf & Härtel'], 'answer_start...\n",
              "Name: 2082, dtype: object"
            ]
          },
          "metadata": {}
        },
        {
          "output_type": "display_data",
          "data": {
            "text/plain": [
              "id                                   56cff256234ae51400d9c145\n",
              "title                                         Frédéric_Chopin\n",
              "context     Improvisation stands at the centre of Chopin's...\n",
              "question                 What is central to Chopin's process?\n",
              "answers      {'text': ['Improvisation'], 'answer_start': [0]}\n",
              "Name: 2088, dtype: object"
            ]
          },
          "metadata": {}
        },
        {
          "output_type": "display_data",
          "data": {
            "text/plain": [
              "id                                   56cff2e0234ae51400d9c14b\n",
              "title                                         Frédéric_Chopin\n",
              "context     J. Barrie Jones suggests that \"amongst the wor...\n",
              "question    What piece does J. Barrie Jones pinpoint as a ...\n",
              "answers     {'text': ['the Barcarolle Op. 60'], 'answer_st...\n",
              "Name: 2093, dtype: object"
            ]
          },
          "metadata": {}
        },
        {
          "output_type": "display_data",
          "data": {
            "text/plain": [
              "id                                   56cff351234ae51400d9c14d\n",
              "title                                         Frédéric_Chopin\n",
              "context     Chopin's mazurkas and waltzes are all in strai...\n",
              "question    Chopin's mazurkas contain more of what than hi...\n",
              "answers     {'text': ['folk features'], 'answer_start': [1...\n",
              "Name: 2096, dtype: object"
            ]
          },
          "metadata": {}
        },
        {
          "output_type": "display_data",
          "data": {
            "text/plain": [
              "id                                   56cff390234ae51400d9c151\n",
              "title                                         Frédéric_Chopin\n",
              "context     Chopin's polonaises show a marked advance on t...\n",
              "question        What time are Chopin's polonaises written in?\n",
              "answers      {'text': ['triple time'], 'answer_start': [193]}\n",
              "Name: 2101, dtype: object"
            ]
          },
          "metadata": {}
        },
        {
          "output_type": "display_data",
          "data": {
            "text/plain": [
              "id                                   56cff3f4234ae51400d9c153\n",
              "title                                         Frédéric_Chopin\n",
              "context     The 21 nocturnes are more structured, and of g...\n",
              "question               How many nocturnes did Chopin compose?\n",
              "answers                 {'text': ['21'], 'answer_start': [4]}\n",
              "Name: 2105, dtype: object"
            ]
          },
          "metadata": {}
        },
        {
          "output_type": "display_data",
          "data": {
            "text/plain": [
              "id                                   56cff427234ae51400d9c157\n",
              "title                                         Frédéric_Chopin\n",
              "context     Chopin's études are largely in straightforward...\n",
              "question    What pieces of his did Chopin use to teach his...\n",
              "answers             {'text': ['études'], 'answer_start': [9]}\n",
              "Name: 2110, dtype: object"
            ]
          },
          "metadata": {}
        },
        {
          "output_type": "display_data",
          "data": {
            "text/plain": [
              "id                                   56cff49a234ae51400d9c161\n",
              "title                                         Frédéric_Chopin\n",
              "context     The preludes, many of which are very brief (so...\n",
              "question    What piece of Bach's did Chopin take inspirati...\n",
              "answers     {'text': ['The Well-Tempered Clavier'], 'answe...\n",
              "Name: 2113, dtype: object"
            ]
          },
          "metadata": {}
        },
        {
          "output_type": "display_data",
          "data": {
            "text/plain": [
              "id                                   56cff536234ae51400d9c165\n",
              "title                                         Frédéric_Chopin\n",
              "context     The two mature piano sonatas (No. 2, Op. 35, w...\n",
              "question    How many movements are No. 2, Op. 35 and No. 3...\n",
              "answers             {'text': ['four'], 'answer_start': [104]}\n",
              "Name: 2119, dtype: object"
            ]
          },
          "metadata": {}
        },
        {
          "output_type": "display_data",
          "data": {
            "text/plain": [
              "id                                   56cff5a8234ae51400d9c173\n",
              "title                                         Frédéric_Chopin\n",
              "context     Chopin's harmonic innovations may have arisen ...\n",
              "question    Chopin's chord progressions are similar in sty...\n",
              "answers     {'text': ['Claude Debussy'], 'answer_start': [...\n",
              "Name: 2124, dtype: object"
            ]
          },
          "metadata": {}
        },
        {
          "output_type": "display_data",
          "data": {
            "text/plain": [
              "id                                   56cff635234ae51400d9c184\n",
              "title                                         Frédéric_Chopin\n",
              "context     In 1841, Léon Escudier wrote of a recital give...\n",
              "question                  What was Chopin's style based upon?\n",
              "answers     {'text': ['independent finger technique'], 'an...\n",
              "Name: 2127, dtype: object"
            ]
          },
          "metadata": {}
        },
        {
          "output_type": "display_data",
          "data": {
            "text/plain": [
              "id                                   56cff6f3234ae51400d9c191\n",
              "title                                         Frédéric_Chopin\n",
              "context     Polish composers of the following generation i...\n",
              "question    According to J. Barrie Jones who was the only ...\n",
              "answers     {'text': ['Karol Szymanowski'], 'answer_start'...\n",
              "Name: 2130, dtype: object"
            ]
          },
          "metadata": {}
        },
        {
          "output_type": "display_data",
          "data": {
            "text/plain": [
              "id                                   56cff817234ae51400d9c1a3\n",
              "title                                         Frédéric_Chopin\n",
              "context     Jonathan Bellman writes that modern concert pe...\n",
              "question    Who wrote that the current large concert style...\n",
              "answers     {'text': ['Jonathan Bellman'], 'answer_start':...\n",
              "Name: 2136, dtype: object"
            ]
          },
          "metadata": {}
        },
        {
          "output_type": "display_data",
          "data": {
            "text/plain": [
              "id                                   56cff885234ae51400d9c1b3\n",
              "title                                         Frédéric_Chopin\n",
              "context     Chopin's music is frequently played with rubat...\n",
              "question    Chopin's compositions are often played with what?\n",
              "answers            {'text': ['rubato'], 'answer_start': [41]}\n",
              "Name: 2142, dtype: object"
            ]
          },
          "metadata": {}
        },
        {
          "output_type": "display_data",
          "data": {
            "text/plain": [
              "id                                   56cff905234ae51400d9c1b7\n",
              "title                                         Frédéric_Chopin\n",
              "context     Friederike Müller, a pupil of Chopin, wrote: \"...\n",
              "question    According to who did Chopin demand strictly st...\n",
              "answers     {'text': ['Friederike Müller'], 'answer_start'...\n",
              "Name: 2146, dtype: object"
            ]
          },
          "metadata": {}
        },
        {
          "output_type": "display_data",
          "data": {
            "text/plain": [
              "id                                   56cffa2a234ae51400d9c1cf\n",
              "title                                         Frédéric_Chopin\n",
              "context     With his mazurkas and polonaises, Chopin has b...\n",
              "question       Chopin was noted as introducing music to what?\n",
              "answers     {'text': ['sense of nationalism'], 'answer_sta...\n",
              "Name: 2149, dtype: object"
            ]
          },
          "metadata": {}
        },
        {
          "output_type": "display_data",
          "data": {
            "text/plain": [
              "id                                   56cffb2b234ae51400d9c1e1\n",
              "title                                         Frédéric_Chopin\n",
              "context     Some modern commentators have argued against e...\n",
              "question    Who said that Chopin's familiarity with Polish...\n",
              "answers     {'text': ['Barbara Milewski'], 'answer_start':...\n",
              "Name: 2158, dtype: object"
            ]
          },
          "metadata": {}
        },
        {
          "output_type": "display_data",
          "data": {
            "text/plain": [
              "id                                   56cffba5234ae51400d9c1f1\n",
              "title                                         Frédéric_Chopin\n",
              "context     A reconciliation of these views is suggested b...\n",
              "question    William Atwood suggested that Chopin's music w...\n",
              "answers        {'text': ['intuitive'], 'answer_start': [443]}\n",
              "Name: 2161, dtype: object"
            ]
          },
          "metadata": {}
        },
        {
          "output_type": "display_data",
          "data": {
            "text/plain": [
              "id                                   56cffc2b234ae51400d9c1ff\n",
              "title                                         Frédéric_Chopin\n",
              "context     Jones comments that \"Chopin's unique position ...\n",
              "question    Arthur Hutchings stated that Chopin's lack of ...\n",
              "answers     {'text': ['Byronic flamboyance'], 'answer_star...\n",
              "Name: 2164, dtype: object"
            ]
          },
          "metadata": {}
        },
        {
          "output_type": "display_data",
          "data": {
            "text/plain": [
              "id                                   56cffcf3234ae51400d9c20d\n",
              "title                                         Frédéric_Chopin\n",
              "context     Chopin's qualities as a pianist and composer w...\n",
              "question    In what suite did Schumann name a work for Cho...\n",
              "answers         {'text': ['Carnaval'], 'answer_start': [138]}\n",
              "Name: 2168, dtype: object"
            ]
          },
          "metadata": {}
        },
        {
          "output_type": "display_data",
          "data": {
            "text/plain": [
              "id                                   56cffdaa234ae51400d9c226\n",
              "title                                         Frédéric_Chopin\n",
              "context     Two of Chopin's long-standing pupils, Karol Mi...\n",
              "question       Who dedicated his 1915 piano Études to Chopin?\n",
              "answers          {'text': ['Debussy'], 'answer_start': [392]}\n",
              "Name: 2176, dtype: object"
            ]
          },
          "metadata": {}
        },
        {
          "output_type": "display_data",
          "data": {
            "text/plain": [
              "id                                   56cc239e6d243a140015eeb7\n",
              "title          Sino-Tibetan_relations_during_the_Ming_dynasty\n",
              "context     The exact nature of relations between Tibet an...\n",
              "question            Who were Wang Jiawei and Nyima Gyaincain?\n",
              "answers     {'text': ['Mainland Chinese scholars'], 'answe...\n",
              "Name: 2180, dtype: object"
            ]
          },
          "metadata": {}
        }
      ],
      "source": [
        "counter = 0;\n",
        "total = 0\n",
        "for id, row in data.iterrows():\n",
        "\n",
        "  # This is to convert the content of 'answers' to be map<text,text> so it can be saved into Astra.\n",
        "  converted_answers = dict()\n",
        "  converted_answers['text'] = row.answers['text'][0]\n",
        "  converted_answers['answer_start'] = str(row.answers['answer_start'][0])\n",
        "\n",
        "  # Create Embedding for each conversation row, save them to the database\n",
        "  full_chunk = f\"{row.context} {row.title}\"\n",
        "  embedding = openai.Embedding.create(input=full_chunk, model=model_id)['data'][0]['embedding']\n",
        "\n",
        "  query_hybrid = SimpleStatement(\n",
        "                f\"\"\"\n",
        "                INSERT INTO squad_hybrid\n",
        "                (id, title, context, question, answers, title_context_embedding)\n",
        "                VALUES (%s, %s, %s, %s, %s, %s)\n",
        "                \"\"\"\n",
        "            )\n",
        "\n",
        "  display(row)\n",
        "\n",
        "  session.execute(query_hybrid, (row.id, row.title, row.context, row.question, converted_answers, embedding))\n",
        "\n",
        "  # With free trial of openAI, the rate limit is set as 60/per min.  Please set this counter depends on your own rate limit.\n",
        "  counter += 1\n",
        "\n",
        "  # It takes a long time to load all data.  It is set as 300 so it takes a few mins to load.\n",
        "  total += 1\n",
        "\n",
        "  if(total >= 300):\n",
        "    break\n",
        "\n",
        "  # With OpenAPI free trial,  the rate limit is 60 / per min.   So when hit 60 requests,  the program will sleep for 60 seconds.\n",
        "  if (counter >= 300):\n",
        "    counter = 0;\n",
        "    time.sleep(60)\n"
      ]
    },
    {
      "cell_type": "markdown",
      "metadata": {
        "id": "LhPvL09Wo8to"
      },
      "source": [
        "# **Convert a query string into a text embedding to use as part of the query**\n",
        "\n",
        "Provide a question to see how it will work with hybrid search and with vector search alone.\n",
        "\n",
        "Here we use the same API that we used to calculate embeddings for each row in the database, but this time we are using your input question to calculate a vector to use in a query."
      ]
    },
    {
      "cell_type": "code",
      "execution_count": null,
      "metadata": {
        "colab": {
          "base_uri": "https://localhost:8080/",
          "height": 1000
        },
        "id": "1p_F_gUnpBf3",
        "outputId": "e5ee2bd1-69ce-4520-b4ba-9464d5e9b06d"
      },
      "outputs": [
        {
          "output_type": "display_data",
          "data": {
            "text/plain": [
              "[0.011705282144248486,\n",
              " -0.010144149884581566,\n",
              " -0.003181691048666835,\n",
              " -0.03600241616368294,\n",
              " -0.04453403875231743,\n",
              " 0.028164630755782127,\n",
              " -0.026571376249194145,\n",
              " 0.024515563622117043,\n",
              " 0.0006219635833986104,\n",
              " 0.0018534434493631124,\n",
              " 0.002682192949578166,\n",
              " 0.010728771798312664,\n",
              " -0.015996791422367096,\n",
              " 0.004342903848737478,\n",
              " 0.014801849611103535,\n",
              " -0.006758483592420816,\n",
              " 0.025286493822932243,\n",
              " 0.0010793015826493502,\n",
              " 0.0019353547831997275,\n",
              " -0.020738009363412857,\n",
              " -0.010799439623951912,\n",
              " 0.000582212524022907,\n",
              " -0.01536719873547554,\n",
              " -0.002799438312649727,\n",
              " -0.01532865222543478,\n",
              " 0.02240835689008236,\n",
              " 0.009912870824337006,\n",
              " 0.0001348123187199235,\n",
              " -0.0019385669147595763,\n",
              " -0.014326442964375019,\n",
              " 0.034409161657094955,\n",
              " 0.012257781811058521,\n",
              " -0.04527927190065384,\n",
              " -0.021534636616706848,\n",
              " -0.008795022964477539,\n",
              " -0.004468179773539305,\n",
              " -0.022421205416321754,\n",
              " 0.004024895373731852,\n",
              " 0.006222045049071312,\n",
              " 0.028370212763547897,\n",
              " 0.007889180444180965,\n",
              " 0.01548283826559782,\n",
              " -0.0011580006685107946,\n",
              " -0.01509737316519022,\n",
              " -0.0071439482271671295,\n",
              " -0.0061706495471298695,\n",
              " 0.0068355766125023365,\n",
              " -0.013902432285249233,\n",
              " -0.013208595104515553,\n",
              " 0.027008237317204475,\n",
              " 0.014159408397972584,\n",
              " 0.016831964254379272,\n",
              " -0.015071675181388855,\n",
              " -0.0358482301235199,\n",
              " 0.0032411168795078993,\n",
              " -0.0007918090559542179,\n",
              " -0.0061160423792898655,\n",
              " 0.03127404674887657,\n",
              " -0.016767721623182297,\n",
              " -0.0026275853160768747,\n",
              " 0.016896208748221397,\n",
              " -0.006803454365581274,\n",
              " -0.02986067719757557,\n",
              " 0.020994985476136208,\n",
              " -0.02000562474131584,\n",
              " 0.020802251994609833,\n",
              " -0.006604297552257776,\n",
              " 0.02338486723601818,\n",
              " -0.013851036317646503,\n",
              " -0.02194579876959324,\n",
              " 0.024579808115959167,\n",
              " 0.006983337923884392,\n",
              " 0.004301145207136869,\n",
              " -0.005589240230619907,\n",
              " 0.013786792755126953,\n",
              " 0.013696851208806038,\n",
              " 0.004577395040541887,\n",
              " -0.001121060224249959,\n",
              " -0.003610520623624325,\n",
              " -0.006861274130642414,\n",
              " 0.007677174638956785,\n",
              " -0.022446902468800545,\n",
              " -0.010401125997304916,\n",
              " -0.009135516360402107,\n",
              " 0.0019433852285146713,\n",
              " -0.005473600700497627,\n",
              " -0.00453242426738143,\n",
              " 0.010189120657742023,\n",
              " -0.018014056608080864,\n",
              " -0.03232765197753906,\n",
              " 0.018322428688406944,\n",
              " 0.02364184334874153,\n",
              " 0.018810683861374855,\n",
              " 0.0071632214821875095,\n",
              " -0.017307370901107788,\n",
              " 0.017243126407265663,\n",
              " 0.004464967641979456,\n",
              " 0.017333069816231728,\n",
              " 0.00443605799227953,\n",
              " -0.01631801202893257,\n",
              " -0.0033471197821199894,\n",
              " 0.003697250271216035,\n",
              " 0.005663121119141579,\n",
              " -0.011486852541565895,\n",
              " -0.027753468602895737,\n",
              " -0.01753864996135235,\n",
              " -0.006026100367307663,\n",
              " 0.0030226868111640215,\n",
              " 0.03070869855582714,\n",
              " -0.02330777421593666,\n",
              " -0.04314636439085007,\n",
              " 0.02320498414337635,\n",
              " 0.009777958504855633,\n",
              " -0.03322707116603851,\n",
              " 0.0016342103481292725,\n",
              " -0.018990568816661835,\n",
              " 0.014891792088747025,\n",
              " 0.01884923130273819,\n",
              " -0.000744027434848249,\n",
              " -0.018862079828977585,\n",
              " 0.03651636838912964,\n",
              " 0.024489866569638252,\n",
              " 0.026263004168868065,\n",
              " -0.00986147578805685,\n",
              " 0.024695446714758873,\n",
              " 0.0024171858094632626,\n",
              " -0.028370212763547897,\n",
              " -0.004969284404069185,\n",
              " -0.010889382101595402,\n",
              " 0.009585225954651833,\n",
              " 0.006899820640683174,\n",
              " 0.02202289178967476,\n",
              " -0.006026100367307663,\n",
              " 0.028909863904118538,\n",
              " -0.010401125997304916,\n",
              " 0.03279021009802818,\n",
              " 0.003498093457892537,\n",
              " 0.013478420674800873,\n",
              " -0.026365796104073524,\n",
              " -0.004198354668915272,\n",
              " 0.007330256514251232,\n",
              " 0.01987713761627674,\n",
              " 0.00453242426738143,\n",
              " -0.000940373633056879,\n",
              " -0.006408352870494127,\n",
              " -0.00020859269716311246,\n",
              " 0.03831520676612854,\n",
              " -0.0011780769564211369,\n",
              " 0.005460752174258232,\n",
              " 0.0004440876073203981,\n",
              " -0.009495284408330917,\n",
              " -0.02407870441675186,\n",
              " 0.020969286561012268,\n",
              " 0.006141739897429943,\n",
              " -0.014326442964375019,\n",
              " 0.004426421131938696,\n",
              " -0.008615138940513134,\n",
              " 0.008120459504425526,\n",
              " -0.01812969706952572,\n",
              " -0.008319616317749023,\n",
              " -0.0049628596752882,\n",
              " 0.003350331913679838,\n",
              " 0.02135475166141987,\n",
              " 0.0010889382101595402,\n",
              " -0.012733188457787037,\n",
              " 0.005492873955518007,\n",
              " 0.003822526428848505,\n",
              " -0.0035944597329944372,\n",
              " 0.010047783143818378,\n",
              " 0.01119132898747921,\n",
              " -0.004269022960215807,\n",
              " 0.03556555509567261,\n",
              " -0.035462766885757446,\n",
              " 0.01887492835521698,\n",
              " 0.020673764869570732,\n",
              " 0.020905043929815292,\n",
              " 0.00982292927801609,\n",
              " -0.0157269649207592,\n",
              " -0.00735595403239131,\n",
              " -0.0014406748814508319,\n",
              " -0.0005175668629817665,\n",
              " -0.001464766450226307,\n",
              " -0.01825818419456482,\n",
              " 0.022241322323679924,\n",
              " -0.01135836448520422,\n",
              " -0.006157801020890474,\n",
              " -0.003282875521108508,\n",
              " 0.03631078824400902,\n",
              " 0.013671153225004673,\n",
              " -0.016176674515008926,\n",
              " 5.2148174290778115e-05,\n",
              " 0.02222847193479538,\n",
              " 0.0018887777114287019,\n",
              " 0.026263004168868065,\n",
              " -0.6817074418067932,\n",
              " -0.027702072635293007,\n",
              " 0.00569845549762249,\n",
              " 0.00039530222420580685,\n",
              " 0.023397715762257576,\n",
              " 0.004738005343824625,\n",
              " 0.017435859888792038,\n",
              " 0.02614736557006836,\n",
              " -0.01588115096092224,\n",
              " 0.01505882665514946,\n",
              " 0.022369809448719025,\n",
              " -0.018939172849059105,\n",
              " 0.009944993071258068,\n",
              " -0.02330777421593666,\n",
              " -0.001970689045265317,\n",
              " -0.03245614096522331,\n",
              " 0.003960651345551014,\n",
              " -0.004654488060623407,\n",
              " -0.006427626125514507,\n",
              " -0.020815102383494377,\n",
              " -0.035128697752952576,\n",
              " 0.005216624122112989,\n",
              " -0.0039285290986299515,\n",
              " 0.0022726363968104124,\n",
              " 0.011647462844848633,\n",
              " 0.011518974788486958,\n",
              " 0.003472395706921816,\n",
              " -0.014506326988339424,\n",
              " -0.02181730978190899,\n",
              " 0.013221444562077522,\n",
              " -0.0009202972869388759,\n",
              " 0.01815539412200451,\n",
              " 0.022061437368392944,\n",
              " -0.0009620559867471457,\n",
              " 0.0255306214094162,\n",
              " -0.008184703066945076,\n",
              " -0.006353745702654123,\n",
              " 0.025260796770453453,\n",
              " -0.004285084083676338,\n",
              " 0.02545352838933468,\n",
              " -0.05062438175082207,\n",
              " -0.01980004459619522,\n",
              " 0.016228070482611656,\n",
              " -0.0015161617193371058,\n",
              " -0.016934756189584732,\n",
              " 0.011210602708160877,\n",
              " 0.003229874186217785,\n",
              " -0.005611725617200136,\n",
              " 0.016356557607650757,\n",
              " 0.017705684527754784,\n",
              " -0.005435054190456867,\n",
              " 0.005929734092205763,\n",
              " 0.011853043921291828,\n",
              " 0.006790605839341879,\n",
              " 0.007542262319475412,\n",
              " 0.0012463363818824291,\n",
              " 0.03769846260547638,\n",
              " -0.009039150550961494,\n",
              " -0.024322832003235817,\n",
              " -0.01009275484830141,\n",
              " -0.010715922340750694,\n",
              " 0.014968885108828545,\n",
              " -0.004956435412168503,\n",
              " -0.020429637283086777,\n",
              " 0.0155984777957201,\n",
              " 0.010401125997304916,\n",
              " -0.025106610730290413,\n",
              " 0.02947521209716797,\n",
              " 0.0219200998544693,\n",
              " 0.0061545888893306255,\n",
              " 0.004275447688996792,\n",
              " 0.009405341930687428,\n",
              " 0.01782132498919964,\n",
              " 0.007066855672746897,\n",
              " 0.006809879094362259,\n",
              " 0.002723951591178775,\n",
              " 0.021624578163027763,\n",
              " -0.006456536240875721,\n",
              " 0.011596067808568478,\n",
              " -0.0018775350181385875,\n",
              " -0.009495284408330917,\n",
              " -0.020917892456054688,\n",
              " 0.008120459504425526,\n",
              " -0.0131507758051157,\n",
              " -0.0011250755051150918,\n",
              " -0.024913877248764038,\n",
              " -0.0013844611821696162,\n",
              " 0.00642120186239481,\n",
              " 0.028652885928750038,\n",
              " 0.0015972699038684368,\n",
              " 0.013311386108398438,\n",
              " 0.018913475796580315,\n",
              " 0.003735796781256795,\n",
              " -0.03099137358367443,\n",
              " -0.01078016683459282,\n",
              " 0.03846939280629158,\n",
              " 0.007638628128916025,\n",
              " 0.01527725625783205,\n",
              " -0.00777996564283967,\n",
              " 0.002322425600141287,\n",
              " 0.016562139615416527,\n",
              " 0.012823130004107952,\n",
              " 0.000672555819619447,\n",
              " 0.014853245578706264,\n",
              " 0.0008098777034319937,\n",
              " 0.006453324109315872,\n",
              " -0.008268221281468868,\n",
              " 0.016639232635498047,\n",
              " 0.014968885108828545,\n",
              " -0.003687613643705845,\n",
              " -0.014840396121144295,\n",
              " 0.0014727968955412507,\n",
              " -0.028138933703303337,\n",
              " -0.008576592430472374,\n",
              " 0.006055010482668877,\n",
              " -0.03040032647550106,\n",
              " 0.011172056198120117,\n",
              " -0.008261796087026596,\n",
              " -0.0033760296646505594,\n",
              " -0.01126842200756073,\n",
              " 0.004101988393813372,\n",
              " 0.006568963173776865,\n",
              " 0.01603533700108528,\n",
              " -0.009366795420646667,\n",
              " -0.01825818419456482,\n",
              " 0.012399119324982166,\n",
              " -0.014621966518461704,\n",
              " -0.006617146544158459,\n",
              " -0.017988359555602074,\n",
              " -0.010356155224144459,\n",
              " 0.011480428278446198,\n",
              " 0.017178883776068687,\n",
              " 0.00770287262275815,\n",
              " -0.007253163494169712,\n",
              " 0.0031865094788372517,\n",
              " 0.02392451837658882,\n",
              " -0.003501305589452386,\n",
              " -0.0184380691498518,\n",
              " -0.00981007982045412,\n",
              " 0.0005625377525575459,\n",
              " -0.005990765988826752,\n",
              " -0.00640192860737443,\n",
              " -0.00037221447564661503,\n",
              " -0.010844411328434944,\n",
              " 0.004696246702224016,\n",
              " -0.008364587090909481,\n",
              " 0.013966675847768784,\n",
              " 0.03227625787258148,\n",
              " -0.003732584649696946,\n",
              " -0.007445896044373512,\n",
              " 0.012270631268620491,\n",
              " -0.0024268224369734526,\n",
              " -0.021239113062620163,\n",
              " 0.0045741829089820385,\n",
              " 0.003168842289596796,\n",
              " 0.00045974712702445686,\n",
              " 0.014300745911896229,\n",
              " -0.015110221691429615,\n",
              " -0.018682196736335754,\n",
              " -0.023731784895062447,\n",
              " 0.013427025638520718,\n",
              " 0.00758723309263587,\n",
              " -0.03975427523255348,\n",
              " 0.007079704198986292,\n",
              " -0.004403935745358467,\n",
              " -0.011274846270680428,\n",
              " 0.013786792755126953,\n",
              " 0.008011244237422943,\n",
              " -0.005932946223765612,\n",
              " -0.023577598854899406,\n",
              " -0.005929734092205763,\n",
              " -0.005823731422424316,\n",
              " 0.017191732302308083,\n",
              " 0.01544429175555706,\n",
              " 0.0080562150105834,\n",
              " -0.013208595104515553,\n",
              " -0.004076290875673294,\n",
              " -0.00032362985075451434,\n",
              " -0.01531580276787281,\n",
              " -0.010420399717986584,\n",
              " 0.011865892447531223,\n",
              " 0.004285084083676338,\n",
              " -0.0428122952580452,\n",
              " 0.008705081418156624,\n",
              " 0.015148768201470375,\n",
              " 0.017281673848628998,\n",
              " 0.005749850533902645,\n",
              " 0.017140336334705353,\n",
              " -0.01603533700108528,\n",
              " -0.0029616549145430326,\n",
              " -0.008081912994384766,\n",
              " 0.021341903135180473,\n",
              " -0.0075743841007351875,\n",
              " 0.01941457949578762,\n",
              " 0.01990283466875553,\n",
              " 0.016742022708058357,\n",
              " -0.003082112642005086,\n",
              " 0.0002539651177357882,\n",
              " 0.006591449026018381,\n",
              " 0.00809476152062416,\n",
              " 0.02911544404923916,\n",
              " -0.001198153244331479,\n",
              " 0.028627188876271248,\n",
              " -0.010124876163899899,\n",
              " 0.02018550969660282,\n",
              " -0.0024139736779034138,\n",
              " -0.006318411324173212,\n",
              " -0.027188120409846306,\n",
              " 0.017166035249829292,\n",
              " 0.023294925689697266,\n",
              " 0.01600963994860649,\n",
              " -0.03173660486936569,\n",
              " -0.009758684784173965,\n",
              " -0.021251961588859558,\n",
              " -0.0006388276815414429,\n",
              " 0.011056416667997837,\n",
              " 0.0008761294884607196,\n",
              " 0.008281069807708263,\n",
              " -0.033406954258680344,\n",
              " 0.001665529329329729,\n",
              " 0.003578398609533906,\n",
              " 0.0011098175309598446,\n",
              " 0.018348125740885735,\n",
              " 0.008499499410390854,\n",
              " -0.010927928611636162,\n",
              " 0.03009195625782013,\n",
              " -0.016729174181818962,\n",
              " 0.006475809495896101,\n",
              " -0.017936963587999344,\n",
              " 0.007098977454006672,\n",
              " -0.001507328124716878,\n",
              " -0.011557521298527718,\n",
              " -0.0008010441088117659,\n",
              " 0.0022083923686295748,\n",
              " 0.008043366484344006,\n",
              " 0.02235696092247963,\n",
              " -0.025132307782769203,\n",
              " -0.006623570807278156,\n",
              " 0.016960453242063522,\n",
              " 0.014223652891814709,\n",
              " 0.03137683868408203,\n",
              " 0.02120056562125683,\n",
              " 0.0008954026852734387,\n",
              " -0.016600685194134712,\n",
              " 0.026828352361917496,\n",
              " 0.002609918126836419,\n",
              " 0.020815102383494377,\n",
              " 0.004191930405795574,\n",
              " 0.009688016027212143,\n",
              " 0.0031126285903155804,\n",
              " -0.02983497828245163,\n",
              " -0.0021505726035684347,\n",
              " -0.004972496535629034,\n",
              " 0.019812893122434616,\n",
              " 0.006257379427552223,\n",
              " -0.013324234634637833,\n",
              " 0.01509737316519022,\n",
              " 0.0030772944446653128,\n",
              " -0.0155984777957201,\n",
              " 0.01910620741546154,\n",
              " -0.008441680110991001,\n",
              " 0.010593858547508717,\n",
              " -0.003555913222953677,\n",
              " -0.034486252814531326,\n",
              " 0.02181730978190899,\n",
              " -0.0068741231225430965,\n",
              " -0.001880747266113758,\n",
              " -0.01130696851760149,\n",
              " 0.002849227748811245,\n",
              " -0.033509742468595505,\n",
              " -0.009720138274133205,\n",
              " -0.008165430277585983,\n",
              " -0.0057626995258033276,\n",
              " 0.003835375187918544,\n",
              " -0.002677374519407749,\n",
              " -0.002890986390411854,\n",
              " 0.02194579876959324,\n",
              " -0.013581211678683758,\n",
              " -0.00988717284053564,\n",
              " 0.014878942631185055,\n",
              " 0.013491269201040268,\n",
              " -0.02596748247742653,\n",
              " 0.021650275215506554,\n",
              " -0.004680185578763485,\n",
              " -0.005868702195584774,\n",
              " -0.01490464061498642,\n",
              " 0.006931942887604237,\n",
              " -0.001450311508961022,\n",
              " -0.017936963587999344,\n",
              " 0.026674166321754456,\n",
              " 0.011878741905093193,\n",
              " 0.010259789414703846,\n",
              " -0.02400161139667034,\n",
              " -0.004037744365632534,\n",
              " 0.00729813426733017,\n",
              " -0.01558562833815813,\n",
              " 0.009752260521054268,\n",
              " -0.005335475783795118,\n",
              " 0.000806263939011842,\n",
              " -0.014532024972140789,\n",
              " 0.013735397718846798,\n",
              " 0.004423209000378847,\n",
              " -0.028190329670906067,\n",
              " -0.03070869855582714,\n",
              " 0.01517446618527174,\n",
              " 0.015971092507243156,\n",
              " 0.003491668961942196,\n",
              " -0.0057434262707829475,\n",
              " -0.006822727620601654,\n",
              " -0.002041357569396496,\n",
              " 0.006485445890575647,\n",
              " -0.013953827321529388,\n",
              " 0.0009283278486691415,\n",
              " -0.0016976514598354697,\n",
              " 0.006867698859423399,\n",
              " -0.01900341734290123,\n",
              " -0.002060630824416876,\n",
              " -0.01593254692852497,\n",
              " 0.03019474633038044,\n",
              " 0.003482032334432006,\n",
              " -0.016677778214216232,\n",
              " 0.003954227082431316,\n",
              " -0.017050394788384438,\n",
              " -0.0043589649721980095,\n",
              " 0.08238668739795685,\n",
              " 0.015688419342041016,\n",
              " -0.025106610730290413,\n",
              " 0.0055089350789785385,\n",
              " -0.00050592259503901,\n",
              " -0.013311386108398438,\n",
              " 0.0026789805851876736,\n",
              " -0.027188120409846306,\n",
              " -0.003507730085402727,\n",
              " 0.013825339265167713,\n",
              " 0.009122667834162712,\n",
              " 0.010510341264307499,\n",
              " -0.017512952908873558,\n",
              " 0.00041919300565496087,\n",
              " 0.005791609175503254,\n",
              " 0.019787196069955826,\n",
              " -0.0036040963605046272,\n",
              " -0.034666139632463455,\n",
              " 0.00901345256716013,\n",
              " 0.008441680110991001,\n",
              " 0.012701066210865974,\n",
              " -0.0030612333212047815,\n",
              " 0.011975107714533806,\n",
              " 0.02158603072166443,\n",
              " 0.004172657150775194,\n",
              " 0.006392292212694883,\n",
              " 0.0019048387184739113,\n",
              " 0.006578600034117699,\n",
              " -0.01188516616821289,\n",
              " -0.004548484925180674,\n",
              " 0.0009484041365794837,\n",
              " 0.012090747244656086,\n",
              " 0.011069265194237232,\n",
              " 0.03032323345541954,\n",
              " -0.02174021676182747,\n",
              " 0.023269228637218475,\n",
              " -0.006681390572339296,\n",
              " -0.002246938878670335,\n",
              " 0.022164229303598404,\n",
              " -0.01841237023472786,\n",
              " 0.03281590715050697,\n",
              " 0.011133509688079357,\n",
              " -0.012990165501832962,\n",
              " -0.010124876163899899,\n",
              " 0.006970489397644997,\n",
              " 0.0012664126697927713,\n",
              " -0.0012142142513766885,\n",
              " 0.03263602405786514,\n",
              " 0.01654929108917713,\n",
              " 0.004015258979052305,\n",
              " 0.0021537847351282835,\n",
              " 0.004664124455302954,\n",
              " -0.01931178942322731,\n",
              " -0.002442883560433984,\n",
              " -0.009643045254051685,\n",
              " -0.013581211678683758,\n",
              " 0.012058624997735023,\n",
              " -0.016369406133890152,\n",
              " -0.016831964254379272,\n",
              " -0.033792417496442795,\n",
              " -0.0177956260740757,\n",
              " -0.006809879094362259,\n",
              " 0.024065855890512466,\n",
              " -0.004172657150775194,\n",
              " -0.005435054190456867,\n",
              " -0.028113236650824547,\n",
              " -0.021611729636788368,\n",
              " -0.012643246911466122,\n",
              " -0.004281871952116489,\n",
              " 0.024913877248764038,\n",
              " -0.024682598188519478,\n",
              " -0.020879345014691353,\n",
              " -0.028087537735700607,\n",
              " -0.025209400802850723,\n",
              " 0.020570972934365273,\n",
              " 0.0015763905830681324,\n",
              " -0.00540935667231679,\n",
              " -0.005557117983698845,\n",
              " 0.015071675181388855,\n",
              " 0.01264967117458582,\n",
              " 0.010009237565100193,\n",
              " -0.017410162836313248,\n",
              " 0.007966273464262486,\n",
              " -0.009643045254051685,\n",
              " 0.010214818641543388,\n",
              " 0.017166035249829292,\n",
              " 0.006234894040971994,\n",
              " 0.017602894455194473,\n",
              " -0.005329051520675421,\n",
              " 0.009039150550961494,\n",
              " 0.017654290422797203,\n",
              " 0.006713512819260359,\n",
              " 0.03777555376291275,\n",
              " -0.034589044749736786,\n",
              " -0.006886971648782492,\n",
              " -0.009379644878208637,\n",
              " 0.005457539577037096,\n",
              " 0.012752462178468704,\n",
              " -0.006295925937592983,\n",
              " -0.01877213828265667,\n",
              " 0.01475045457482338,\n",
              " -0.009186912328004837,\n",
              " 0.004352540709078312,\n",
              " -0.011955834925174713,\n",
              " 0.0005412568571045995,\n",
              " 0.016420802101492882,\n",
              " 0.007407349534332752,\n",
              " 0.01142260804772377,\n",
              " 0.00768359936773777,\n",
              " -0.01944027654826641,\n",
              " 0.013735397718846798,\n",
              " -0.008216825313866138,\n",
              " 0.03852078691124916,\n",
              " -0.01874643936753273,\n",
              " 0.013311386108398438,\n",
              " 0.02284521609544754,\n",
              " -0.001082513714209199,\n",
              " 0.027085330337285995,\n",
              " -0.017397312447428703,\n",
              " 0.007465169299393892,\n",
              " 0.00814615748822689,\n",
              " -0.023372018709778786,\n",
              " 0.028113236650824547,\n",
              " 0.027624979615211487,\n",
              " -0.009186912328004837,\n",
              " 0.007889180444180965,\n",
              " 0.010465370491147041,\n",
              " -0.016652081161737442,\n",
              " -0.03037462942302227,\n",
              " -0.00806906446814537,\n",
              " -0.006029312498867512,\n",
              " 0.025928935036063194,\n",
              " 0.0072852857410907745,\n",
              " -0.00928327813744545,\n",
              " -0.011467578820884228,\n",
              " -0.021624578163027763,\n",
              " -0.02589038945734501,\n",
              " 0.03155672177672386,\n",
              " -0.008178278803825378,\n",
              " 0.0002762498043011874,\n",
              " -0.004426421131938696,\n",
              " -0.021496089175343513,\n",
              " -0.0080562150105834,\n",
              " -0.01990283466875553,\n",
              " 0.001827745814807713,\n",
              " -0.022395506501197815,\n",
              " -0.008788598701357841,\n",
              " -0.005605301354080439,\n",
              " -0.004304357338696718,\n",
              " 0.010870108380913734,\n",
              " 0.002165027428418398,\n",
              " 0.028550095856189728,\n",
              " -0.026365796104073524,\n",
              " -0.01833527721464634,\n",
              " -0.007831361144781113,\n",
              " -0.016510743647813797,\n",
              " 0.005162016488611698,\n",
              " -0.010214818641543388,\n",
              " 0.02335917018353939,\n",
              " 0.025158004835247993,\n",
              " 0.020198358222842216,\n",
              " -0.012476212345063686,\n",
              " 0.014930338598787785,\n",
              " 0.03040032647550106,\n",
              " -0.000844810449052602,\n",
              " -0.005534632597118616,\n",
              " 0.013876734301447868,\n",
              " 0.0030291113071143627,\n",
              " -0.03058021143078804,\n",
              " 0.0308114904910326,\n",
              " 0.028318816795945168,\n",
              " -0.00731740752235055,\n",
              " 0.010324032977223396,\n",
              " 0.008518773131072521,\n",
              " 0.014120861887931824,\n",
              " 0.027830561622977257,\n",
              " 0.004664124455302954,\n",
              " -0.024027308449149132,\n",
              " -0.021251961588859558,\n",
              " -0.03592532500624657,\n",
              " -0.006559326779097319,\n",
              " -0.015045978128910065,\n",
              " -5.6414384744130075e-05,\n",
              " 0.01558562833815813,\n",
              " -5.746839178755181e-06,\n",
              " 0.005065650679171085,\n",
              " 0.028113236650824547,\n",
              " 0.013247141614556313,\n",
              " -0.01949167251586914,\n",
              " -0.024284284561872482,\n",
              " 0.010728771798312664,\n",
              " 0.00202369038015604,\n",
              " 0.01997992768883705,\n",
              " -0.016279464587569237,\n",
              " 0.0068933963775634766,\n",
              " 0.01631801202893257,\n",
              " -0.025928935036063194,\n",
              " -0.01964585855603218,\n",
              " -0.008191128261387348,\n",
              " 0.021187717095017433,\n",
              " -0.00125035154633224,\n",
              " 0.009000604040920734,\n",
              " 0.003694038139656186,\n",
              " -0.013182898052036762,\n",
              " -0.011474003084003925,\n",
              " -0.017024697735905647,\n",
              " -0.034974511712789536,\n",
              " -0.008782174438238144,\n",
              " -0.007388076279312372,\n",
              " -0.001087332027964294,\n",
              " 0.017564348876476288,\n",
              " -0.009617348201572895,\n",
              " -0.024387076497077942,\n",
              " -0.03744148463010788,\n",
              " -0.011409759521484375,\n",
              " -0.021457543596625328,\n",
              " -0.033869512379169464,\n",
              " 0.003359968541190028,\n",
              " 0.015662722289562225,\n",
              " -0.0030949614010751247,\n",
              " 0.010889382101595402,\n",
              " 0.005027104169130325,\n",
              " 0.017140336334705353,\n",
              " 0.003845011815428734,\n",
              " 0.010214818641543388,\n",
              " 0.033586837351322174,\n",
              " 0.02996346727013588,\n",
              " -0.012309177778661251,\n",
              " -0.0023465172853320837,\n",
              " 0.005701667629182339,\n",
              " -0.003369605168700218,\n",
              " 0.040807876735925674,\n",
              " 0.02227986790239811,\n",
              " 0.004497089888900518,\n",
              " -0.020994985476136208,\n",
              " -0.006604297552257776,\n",
              " 0.01122987549751997,\n",
              " 0.0129580432549119,\n",
              " -0.014275047928094864,\n",
              " 0.025016669183969498,\n",
              " 0.007690023630857468,\n",
              " -0.012199962511658669,\n",
              " 0.02565911039710045,\n",
              " 0.025106610730290413,\n",
              " -0.012521183118224144,\n",
              " 0.013966675847768784,\n",
              " -0.006604297552257776,\n",
              " -0.001450311508961022,\n",
              " -0.011544671840965748,\n",
              " 0.002242120448499918,\n",
              " -0.016369406133890152,\n",
              " 0.03846939280629158,\n",
              " -0.01513591967523098,\n",
              " 0.03541136905550957,\n",
              " 0.005817307159304619,\n",
              " -0.0009548285161145031,\n",
              " -0.004950011149048805,\n",
              " -0.01841237023472786,\n",
              " -0.0008480226388201118,\n",
              " 0.0075165643356740475,\n",
              " 0.0034338494297116995,\n",
              " 0.027188120409846306,\n",
              " -0.004355752840638161,\n",
              " 0.016330860555171967,\n",
              " -0.01099859643727541,\n",
              " 0.008120459504425526,\n",
              " -0.011705282144248486,\n",
              " 0.017358766868710518,\n",
              " -0.005929734092205763,\n",
              " 0.02545352838933468,\n",
              " -0.024117249995470047,\n",
              " -0.0039285290986299515,\n",
              " 0.0026741623878479004,\n",
              " 0.015187314711511135,\n",
              " -0.01828388310968876,\n",
              " 0.024592656642198563,\n",
              " -0.01543144229799509,\n",
              " 0.00747159356251359,\n",
              " -0.01938888244330883,\n",
              " 0.004876130260527134,\n",
              " 0.016176674515008926,\n",
              " 0.011621764861047268,\n",
              " -0.024361377581954002,\n",
              " -0.004387874621897936,\n",
              " -0.008968481793999672,\n",
              " -0.022087136283516884,\n",
              " -0.016986150294542313,\n",
              " -0.0368761382997036,\n",
              " 0.018425218760967255,\n",
              " -0.012135718017816544,\n",
              " -0.017962662503123283,\n",
              " -0.002156997099518776,\n",
              " 0.0021409359760582447,\n",
              " 0.003453122451901436,\n",
              " 0.018271032720804214,\n",
              " -0.004410360474139452,\n",
              " 0.020069869235157967,\n",
              " 0.006989762652665377,\n",
              " -0.017153184860944748,\n",
              " -0.00638265535235405,\n",
              " 0.006674966309219599,\n",
              " 0.01654929108917713,\n",
              " -0.01629231497645378,\n",
              " -0.0022244532592594624,\n",
              " -0.033304162323474884,\n",
              " -0.04371171444654465,\n",
              " 0.015996791422367096,\n",
              " 0.00959165021777153,\n",
              " -0.01926039345562458,\n",
              " -0.00806906446814537,\n",
              " -0.0008082715794444084,\n",
              " -0.0043589649721980095,\n",
              " 0.004317206330597401,\n",
              " -0.027779165655374527,\n",
              " 0.003220237558707595,\n",
              " -0.006861274130642414,\n",
              " 0.009212609380483627,\n",
              " -0.003588035237044096,\n",
              " 0.0017185307806357741,\n",
              " 0.01582975685596466,\n",
              " -0.004638426937162876,\n",
              " -0.017358766868710518,\n",
              " 0.024631204083561897,\n",
              " 0.0071439482271671295,\n",
              " 0.002924714470282197,\n",
              " 0.00035013057640753686,\n",
              " 0.001402931404300034,\n",
              " 0.008705081418156624,\n",
              " 0.00397028774023056,\n",
              " -0.013748246245086193,\n",
              " 0.010927928611636162,\n",
              " -0.0008070670301094651,\n",
              " -0.005386871285736561,\n",
              " 0.0002471391926519573,\n",
              " 0.005772335920482874,\n",
              " -0.00542862992733717,\n",
              " -0.005865490064024925,\n",
              " 0.041501715779304504,\n",
              " -0.011987956240773201,\n",
              " -0.0007986349519342184,\n",
              " 0.02271672897040844,\n",
              " 0.023063646629452705,\n",
              " -0.000978116993792355,\n",
              " 0.02934672310948372,\n",
              " 0.0024300345685333014,\n",
              " -0.017294522374868393,\n",
              " -0.012129293754696846,\n",
              " -0.014095164835453033,\n",
              " -0.04569043219089508,\n",
              " 0.006356957834213972,\n",
              " -0.021984344348311424,\n",
              " 0.0386749729514122,\n",
              " 0.0006364185246638954,\n",
              " -0.004587031435221434,\n",
              " -0.005598876625299454,\n",
              " -0.012219235301017761,\n",
              " 0.00028990168357267976,\n",
              " 0.009912870824337006,\n",
              " 0.014275047928094864,\n",
              " 0.015572779811918736,\n",
              " 0.004795825108885765,\n",
              " 0.028241723775863647,\n",
              " -0.008364587090909481,\n",
              " 0.006501507014036179,\n",
              " 0.004381450358778238,\n",
              " 0.009951417334377766,\n",
              " -0.011024294421076775,\n",
              " 0.014532024972140789,\n",
              " 0.006784181110560894,\n",
              " -0.028036143630743027,\n",
              " 0.017333069816231728,\n",
              " -0.00814615748822689,\n",
              " -0.0075165643356740475,\n",
              " -0.003321422031149268,\n",
              " 0.01936318352818489,\n",
              " -0.013388479128479958,\n",
              " 0.0020397515036165714,\n",
              " 0.002882955828681588,\n",
              " -0.003755070036277175,\n",
              " -0.00947601068764925,\n",
              " -0.003472395706921816,\n",
              " -0.002518370281904936,\n",
              " 0.00783778540790081,\n",
              " 0.033689625561237335,\n",
              " 0.012392695061862469,\n",
              " -0.03173660486936569,\n",
              " 0.012180688790977001,\n",
              " -0.011660311371088028,\n",
              " -0.01288095023483038,\n",
              " -0.003379241796210408,\n",
              " -0.016176674515008926,\n",
              " 0.003340695286169648,\n",
              " -0.011403335258364677,\n",
              " 0.033561140298843384,\n",
              " -0.017101790755987167,\n",
              " -0.020506730303168297,\n",
              " -0.02594178356230259,\n",
              " 0.006996186915785074,\n",
              " -0.005949007347226143,\n",
              " -0.008435255847871304,\n",
              " -0.03600241616368294,\n",
              " -0.021778764203190804,\n",
              " 0.005496086087077856,\n",
              " -0.0013282475993037224,\n",
              " -0.010966475121676922,\n",
              " -0.009308976121246815,\n",
              " -0.025042366236448288,\n",
              " -0.0033149977680295706,\n",
              " 0.008788598701357841,\n",
              " -0.026237307116389275,\n",
              " -0.012045776471495628,\n",
              " -0.022267019376158714,\n",
              " -0.003902831580489874,\n",
              " -3.560405161806557e-07,\n",
              " -0.02199719287455082,\n",
              " -0.010221242904663086,\n",
              " -0.0157269649207592,\n",
              " -0.01797551102936268,\n",
              " 0.006177074275910854,\n",
              " 0.0144420824944973,\n",
              " -0.01188516616821289,\n",
              " -0.01200080569833517,\n",
              " -0.004484240896999836,\n",
              " -0.03029753640294075,\n",
              " -0.013022287748754025,\n",
              " -0.001326641533523798,\n",
              " 0.010921504348516464,\n",
              " 0.004975708667188883,\n",
              " -0.029218235984444618,\n",
              " 0.0309399776160717,\n",
              " -0.01580405794084072,\n",
              " -0.02197149582207203,\n",
              " 0.0001848022802732885,\n",
              " 0.04299217835068703,\n",
              " 0.000916282064281404,\n",
              " 0.025196552276611328,\n",
              " 0.23785750567913055,\n",
              " 0.0021441481076180935,\n",
              " -0.0019626584835350513,\n",
              " 0.033766720443964005,\n",
              " -0.004384662490338087,\n",
              " 0.013838187791407108,\n",
              " 0.00451315101236105,\n",
              " 0.005573179107159376,\n",
              " -0.024592656642198563,\n",
              " 0.01830958016216755,\n",
              " -0.010163422673940659,\n",
              " -0.01535434927791357,\n",
              " -0.026597073301672935,\n",
              " -0.002495884895324707,\n",
              " -0.00554426945745945,\n",
              " -0.025826144963502884,\n",
              " -0.024027308449149132,\n",
              " -0.01910620741546154,\n",
              " 0.0016783782048150897,\n",
              " 0.021881554275751114,\n",
              " 0.014210803434252739,\n",
              " 0.02911544404923916,\n",
              " -0.020159810781478882,\n",
              " -0.026931144297122955,\n",
              " 0.03870067000389099,\n",
              " 0.04057659953832626,\n",
              " -0.00756795983761549,\n",
              " 0.024502715095877647,\n",
              " 0.02896125800907612,\n",
              " 0.003742221277207136,\n",
              " -0.0016494683222845197,\n",
              " -0.0005585224716924131,\n",
              " -0.01544429175555706,\n",
              " -0.0068355766125023365,\n",
              " 0.006906244903802872,\n",
              " -0.007844209671020508,\n",
              " -0.011686009354889393,\n",
              " -0.023294925689697266,\n",
              " 0.022729577496647835,\n",
              " 0.00408592727035284,\n",
              " 0.011641038581728935,\n",
              " 0.004410360474139452,\n",
              " -0.0013250353513285518,\n",
              " -0.03898334503173828,\n",
              " -0.0024364590644836426,\n",
              " 0.013080107048153877,\n",
              " ...]"
            ]
          },
          "metadata": {}
        }
      ],
      "source": [
        "# Question to find out the information that you need.\n",
        "customer_input = \"What degrees are offered?\"\n",
        "term_search = \"Notre Dame\"\n",
        "\n",
        "# Create embedding based on same model\n",
        "embedding = openai.Embedding.create(input=customer_input, model=model_id)['data'][0]['embedding']\n",
        "display(embedding)"
      ]
    },
    {
      "cell_type": "markdown",
      "metadata": {
        "id": "ocsEwZ1XpUGy"
      },
      "source": [
        "**Hybrid query**\n",
        "Let's take a look at what a hybrid query against they database would look like. The query vector has the same dimensions (number of entries in the list) as the embeddings we generated for each row in the database. The term search, specifying the university name has also been added to better refine the search."
      ]
    },
    {
      "cell_type": "code",
      "execution_count": null,
      "metadata": {
        "colab": {
          "base_uri": "https://localhost:8080/",
          "height": 1000
        },
        "outputId": "bc1341eb-a216-45e4-ce17-d49dbe81cad8",
        "id": "qKMi1Q6XqUAe"
      },
      "outputs": [
        {
          "output_type": "display_data",
          "data": {
            "text/plain": [
              "<SimpleStatement query=\"\n",
              "    SELECT id, title, answers, context, question\n",
              "    FROM squad_hybrid\n",
              "    WHERE context : 'Notre Dame'\n",
              "    ORDER BY title_context_embedding ANN OF [0.011705282144248486, -0.010144149884581566, -0.003181691048666835, -0.03600241616368294, -0.04453403875231743, 0.028164630755782127, -0.026571376249194145, 0.024515563622117043, 0.0006219635833986104, 0.0018534434493631124, 0.002682192949578166, 0.010728771798312664, -0.015996791422367096, 0.004342903848737478, 0.014801849611103535, -0.006758483592420816, 0.025286493822932243, 0.0010793015826493502, 0.0019353547831997275, -0.020738009363412857, -0.010799439623951912, 0.000582212524022907, -0.01536719873547554, -0.002799438312649727, -0.01532865222543478, 0.02240835689008236, 0.009912870824337006, 0.0001348123187199235, -0.0019385669147595763, -0.014326442964375019, 0.034409161657094955, 0.012257781811058521, -0.04527927190065384, -0.021534636616706848, -0.008795022964477539, -0.004468179773539305, -0.022421205416321754, 0.004024895373731852, 0.006222045049071312, 0.028370212763547897, 0.007889180444180965, 0.01548283826559782, -0.0011580006685107946, -0.01509737316519022, -0.0071439482271671295, -0.0061706495471298695, 0.0068355766125023365, -0.013902432285249233, -0.013208595104515553, 0.027008237317204475, 0.014159408397972584, 0.016831964254379272, -0.015071675181388855, -0.0358482301235199, 0.0032411168795078993, -0.0007918090559542179, -0.0061160423792898655, 0.03127404674887657, -0.016767721623182297, -0.0026275853160768747, 0.016896208748221397, -0.006803454365581274, -0.02986067719757557, 0.020994985476136208, -0.02000562474131584, 0.020802251994609833, -0.006604297552257776, 0.02338486723601818, -0.013851036317646503, -0.02194579876959324, 0.024579808115959167, 0.006983337923884392, 0.004301145207136869, -0.005589240230619907, 0.013786792755126953, 0.013696851208806038, 0.004577395040541887, -0.001121060224249959, -0.003610520623624325, -0.006861274130642414, 0.007677174638956785, -0.022446902468800545, -0.010401125997304916, -0.009135516360402107, 0.0019433852285146713, -0.005473600700497627, -0.00453242426738143, 0.010189120657742023, -0.018014056608080864, -0.03232765197753906, 0.018322428688406944, 0.02364184334874153, 0.018810683861374855, 0.0071632214821875095, -0.017307370901107788, 0.017243126407265663, 0.004464967641979456, 0.017333069816231728, 0.00443605799227953, -0.01631801202893257, -0.0033471197821199894, 0.003697250271216035, 0.005663121119141579, -0.011486852541565895, -0.027753468602895737, -0.01753864996135235, -0.006026100367307663, 0.0030226868111640215, 0.03070869855582714, -0.02330777421593666, -0.04314636439085007, 0.02320498414337635, 0.009777958504855633, -0.03322707116603851, 0.0016342103481292725, -0.018990568816661835, 0.014891792088747025, 0.01884923130273819, -0.000744027434848249, -0.018862079828977585, 0.03651636838912964, 0.024489866569638252, 0.026263004168868065, -0.00986147578805685, 0.024695446714758873, 0.0024171858094632626, -0.028370212763547897, -0.004969284404069185, -0.010889382101595402, 0.009585225954651833, 0.006899820640683174, 0.02202289178967476, -0.006026100367307663, 0.028909863904118538, -0.010401125997304916, 0.03279021009802818, 0.003498093457892537, 0.013478420674800873, -0.026365796104073524, -0.004198354668915272, 0.007330256514251232, 0.01987713761627674, 0.00453242426738143, -0.000940373633056879, -0.006408352870494127, -0.00020859269716311246, 0.03831520676612854, -0.0011780769564211369, 0.005460752174258232, 0.0004440876073203981, -0.009495284408330917, -0.02407870441675186, 0.020969286561012268, 0.006141739897429943, -0.014326442964375019, 0.004426421131938696, -0.008615138940513134, 0.008120459504425526, -0.01812969706952572, -0.008319616317749023, -0.0049628596752882, 0.003350331913679838, 0.02135475166141987, 0.0010889382101595402, -0.012733188457787037, 0.005492873955518007, 0.003822526428848505, -0.0035944597329944372, 0.010047783143818378, 0.01119132898747921, -0.004269022960215807, 0.03556555509567261, -0.035462766885757446, 0.01887492835521698, 0.020673764869570732, 0.020905043929815292, 0.00982292927801609, -0.0157269649207592, -0.00735595403239131, -0.0014406748814508319, -0.0005175668629817665, -0.001464766450226307, -0.01825818419456482, 0.022241322323679924, -0.01135836448520422, -0.006157801020890474, -0.003282875521108508, 0.03631078824400902, 0.013671153225004673, -0.016176674515008926, 5.2148174290778115e-05, 0.02222847193479538, 0.0018887777114287019, 0.026263004168868065, -0.6817074418067932, -0.027702072635293007, 0.00569845549762249, 0.00039530222420580685, 0.023397715762257576, 0.004738005343824625, 0.017435859888792038, 0.02614736557006836, -0.01588115096092224, 0.01505882665514946, 0.022369809448719025, -0.018939172849059105, 0.009944993071258068, -0.02330777421593666, -0.001970689045265317, -0.03245614096522331, 0.003960651345551014, -0.004654488060623407, -0.006427626125514507, -0.020815102383494377, -0.035128697752952576, 0.005216624122112989, -0.0039285290986299515, 0.0022726363968104124, 0.011647462844848633, 0.011518974788486958, 0.003472395706921816, -0.014506326988339424, -0.02181730978190899, 0.013221444562077522, -0.0009202972869388759, 0.01815539412200451, 0.022061437368392944, -0.0009620559867471457, 0.0255306214094162, -0.008184703066945076, -0.006353745702654123, 0.025260796770453453, -0.004285084083676338, 0.02545352838933468, -0.05062438175082207, -0.01980004459619522, 0.016228070482611656, -0.0015161617193371058, -0.016934756189584732, 0.011210602708160877, 0.003229874186217785, -0.005611725617200136, 0.016356557607650757, 0.017705684527754784, -0.005435054190456867, 0.005929734092205763, 0.011853043921291828, 0.006790605839341879, 0.007542262319475412, 0.0012463363818824291, 0.03769846260547638, -0.009039150550961494, -0.024322832003235817, -0.01009275484830141, -0.010715922340750694, 0.014968885108828545, -0.004956435412168503, -0.020429637283086777, 0.0155984777957201, 0.010401125997304916, -0.025106610730290413, 0.02947521209716797, 0.0219200998544693, 0.0061545888893306255, 0.004275447688996792, 0.009405341930687428, 0.01782132498919964, 0.007066855672746897, 0.006809879094362259, 0.002723951591178775, 0.021624578163027763, -0.006456536240875721, 0.011596067808568478, -0.0018775350181385875, -0.009495284408330917, -0.020917892456054688, 0.008120459504425526, -0.0131507758051157, -0.0011250755051150918, -0.024913877248764038, -0.0013844611821696162, 0.00642120186239481, 0.028652885928750038, 0.0015972699038684368, 0.013311386108398438, 0.018913475796580315, 0.003735796781256795, -0.03099137358367443, -0.01078016683459282, 0.03846939280629158, 0.007638628128916025, 0.01527725625783205, -0.00777996564283967, 0.002322425600141287, 0.016562139615416527, 0.012823130004107952, 0.000672555819619447, 0.014853245578706264, 0.0008098777034319937, 0.006453324109315872, -0.008268221281468868, 0.016639232635498047, 0.014968885108828545, -0.003687613643705845, -0.014840396121144295, 0.0014727968955412507, -0.028138933703303337, -0.008576592430472374, 0.006055010482668877, -0.03040032647550106, 0.011172056198120117, -0.008261796087026596, -0.0033760296646505594, -0.01126842200756073, 0.004101988393813372, 0.006568963173776865, 0.01603533700108528, -0.009366795420646667, -0.01825818419456482, 0.012399119324982166, -0.014621966518461704, -0.006617146544158459, -0.017988359555602074, -0.010356155224144459, 0.011480428278446198, 0.017178883776068687, 0.00770287262275815, -0.007253163494169712, 0.0031865094788372517, 0.02392451837658882, -0.003501305589452386, -0.0184380691498518, -0.00981007982045412, 0.0005625377525575459, -0.005990765988826752, -0.00640192860737443, -0.00037221447564661503, -0.010844411328434944, 0.004696246702224016, -0.008364587090909481, 0.013966675847768784, 0.03227625787258148, -0.003732584649696946, -0.007445896044373512, 0.012270631268620491, -0.0024268224369734526, -0.021239113062620163, 0.0045741829089820385, 0.003168842289596796, 0.00045974712702445686, 0.014300745911896229, -0.015110221691429615, -0.018682196736335754, -0.023731784895062447, 0.013427025638520718, 0.00758723309263587, -0.03975427523255348, 0.007079704198986292, -0.004403935745358467, -0.011274846270680428, 0.013786792755126953, 0.008011244237422943, -0.005932946223765612, -0.023577598854899406, -0.005929734092205763, -0.005823731422424316, 0.017191732302308083, 0.01544429175555706, 0.0080562150105834, -0.013208595104515553, -0.004076290875673294, -0.00032362985075451434, -0.01531580276787281, -0.010420399717986584, 0.011865892447531223, 0.004285084083676338, -0.0428122952580452, 0.008705081418156624, 0.015148768201470375, 0.017281673848628998, 0.005749850533902645, 0.017140336334705353, -0.01603533700108528, -0.0029616549145430326, -0.008081912994384766, 0.021341903135180473, -0.0075743841007351875, 0.01941457949578762, 0.01990283466875553, 0.016742022708058357, -0.003082112642005086, 0.0002539651177357882, 0.006591449026018381, 0.00809476152062416, 0.02911544404923916, -0.001198153244331479, 0.028627188876271248, -0.010124876163899899, 0.02018550969660282, -0.0024139736779034138, -0.006318411324173212, -0.027188120409846306, 0.017166035249829292, 0.023294925689697266, 0.01600963994860649, -0.03173660486936569, -0.009758684784173965, -0.021251961588859558, -0.0006388276815414429, 0.011056416667997837, 0.0008761294884607196, 0.008281069807708263, -0.033406954258680344, 0.001665529329329729, 0.003578398609533906, 0.0011098175309598446, 0.018348125740885735, 0.008499499410390854, -0.010927928611636162, 0.03009195625782013, -0.016729174181818962, 0.006475809495896101, -0.017936963587999344, 0.007098977454006672, -0.001507328124716878, -0.011557521298527718, -0.0008010441088117659, 0.0022083923686295748, 0.008043366484344006, 0.02235696092247963, -0.025132307782769203, -0.006623570807278156, 0.016960453242063522, 0.014223652891814709, 0.03137683868408203, 0.02120056562125683, 0.0008954026852734387, -0.016600685194134712, 0.026828352361917496, 0.002609918126836419, 0.020815102383494377, 0.004191930405795574, 0.009688016027212143, 0.0031126285903155804, -0.02983497828245163, -0.0021505726035684347, -0.004972496535629034, 0.019812893122434616, 0.006257379427552223, -0.013324234634637833, 0.01509737316519022, 0.0030772944446653128, -0.0155984777957201, 0.01910620741546154, -0.008441680110991001, 0.010593858547508717, -0.003555913222953677, -0.034486252814531326, 0.02181730978190899, -0.0068741231225430965, -0.001880747266113758, -0.01130696851760149, 0.002849227748811245, -0.033509742468595505, -0.009720138274133205, -0.008165430277585983, -0.0057626995258033276, 0.003835375187918544, -0.002677374519407749, -0.002890986390411854, 0.02194579876959324, -0.013581211678683758, -0.00988717284053564, 0.014878942631185055, 0.013491269201040268, -0.02596748247742653, 0.021650275215506554, -0.004680185578763485, -0.005868702195584774, -0.01490464061498642, 0.006931942887604237, -0.001450311508961022, -0.017936963587999344, 0.026674166321754456, 0.011878741905093193, 0.010259789414703846, -0.02400161139667034, -0.004037744365632534, 0.00729813426733017, -0.01558562833815813, 0.009752260521054268, -0.005335475783795118, 0.000806263939011842, -0.014532024972140789, 0.013735397718846798, 0.004423209000378847, -0.028190329670906067, -0.03070869855582714, 0.01517446618527174, 0.015971092507243156, 0.003491668961942196, -0.0057434262707829475, -0.006822727620601654, -0.002041357569396496, 0.006485445890575647, -0.013953827321529388, 0.0009283278486691415, -0.0016976514598354697, 0.006867698859423399, -0.01900341734290123, -0.002060630824416876, -0.01593254692852497, 0.03019474633038044, 0.003482032334432006, -0.016677778214216232, 0.003954227082431316, -0.017050394788384438, -0.0043589649721980095, 0.08238668739795685, 0.015688419342041016, -0.025106610730290413, 0.0055089350789785385, -0.00050592259503901, -0.013311386108398438, 0.0026789805851876736, -0.027188120409846306, -0.003507730085402727, 0.013825339265167713, 0.009122667834162712, 0.010510341264307499, -0.017512952908873558, 0.00041919300565496087, 0.005791609175503254, 0.019787196069955826, -0.0036040963605046272, -0.034666139632463455, 0.00901345256716013, 0.008441680110991001, 0.012701066210865974, -0.0030612333212047815, 0.011975107714533806, 0.02158603072166443, 0.004172657150775194, 0.006392292212694883, 0.0019048387184739113, 0.006578600034117699, -0.01188516616821289, -0.004548484925180674, 0.0009484041365794837, 0.012090747244656086, 0.011069265194237232, 0.03032323345541954, -0.02174021676182747, 0.023269228637218475, -0.006681390572339296, -0.002246938878670335, 0.022164229303598404, -0.01841237023472786, 0.03281590715050697, 0.011133509688079357, -0.012990165501832962, -0.010124876163899899, 0.006970489397644997, 0.0012664126697927713, -0.0012142142513766885, 0.03263602405786514, 0.01654929108917713, 0.004015258979052305, 0.0021537847351282835, 0.004664124455302954, -0.01931178942322731, -0.002442883560433984, -0.009643045254051685, -0.013581211678683758, 0.012058624997735023, -0.016369406133890152, -0.016831964254379272, -0.033792417496442795, -0.0177956260740757, -0.006809879094362259, 0.024065855890512466, -0.004172657150775194, -0.005435054190456867, -0.028113236650824547, -0.021611729636788368, -0.012643246911466122, -0.004281871952116489, 0.024913877248764038, -0.024682598188519478, -0.020879345014691353, -0.028087537735700607, -0.025209400802850723, 0.020570972934365273, 0.0015763905830681324, -0.00540935667231679, -0.005557117983698845, 0.015071675181388855, 0.01264967117458582, 0.010009237565100193, -0.017410162836313248, 0.007966273464262486, -0.009643045254051685, 0.010214818641543388, 0.017166035249829292, 0.006234894040971994, 0.017602894455194473, -0.005329051520675421, 0.009039150550961494, 0.017654290422797203, 0.006713512819260359, 0.03777555376291275, -0.034589044749736786, -0.006886971648782492, -0.009379644878208637, 0.005457539577037096, 0.012752462178468704, -0.006295925937592983, -0.01877213828265667, 0.01475045457482338, -0.009186912328004837, 0.004352540709078312, -0.011955834925174713, 0.0005412568571045995, 0.016420802101492882, 0.007407349534332752, 0.01142260804772377, 0.00768359936773777, -0.01944027654826641, 0.013735397718846798, -0.008216825313866138, 0.03852078691124916, -0.01874643936753273, 0.013311386108398438, 0.02284521609544754, -0.001082513714209199, 0.027085330337285995, -0.017397312447428703, 0.007465169299393892, 0.00814615748822689, -0.023372018709778786, 0.028113236650824547, 0.027624979615211487, -0.009186912328004837, 0.007889180444180965, 0.010465370491147041, -0.016652081161737442, -0.03037462942302227, -0.00806906446814537, -0.006029312498867512, 0.025928935036063194, 0.0072852857410907745, -0.00928327813744545, -0.011467578820884228, -0.021624578163027763, -0.02589038945734501, 0.03155672177672386, -0.008178278803825378, 0.0002762498043011874, -0.004426421131938696, -0.021496089175343513, -0.0080562150105834, -0.01990283466875553, 0.001827745814807713, -0.022395506501197815, -0.008788598701357841, -0.005605301354080439, -0.004304357338696718, 0.010870108380913734, 0.002165027428418398, 0.028550095856189728, -0.026365796104073524, -0.01833527721464634, -0.007831361144781113, -0.016510743647813797, 0.005162016488611698, -0.010214818641543388, 0.02335917018353939, 0.025158004835247993, 0.020198358222842216, -0.012476212345063686, 0.014930338598787785, 0.03040032647550106, -0.000844810449052602, -0.005534632597118616, 0.013876734301447868, 0.0030291113071143627, -0.03058021143078804, 0.0308114904910326, 0.028318816795945168, -0.00731740752235055, 0.010324032977223396, 0.008518773131072521, 0.014120861887931824, 0.027830561622977257, 0.004664124455302954, -0.024027308449149132, -0.021251961588859558, -0.03592532500624657, -0.006559326779097319, -0.015045978128910065, -5.6414384744130075e-05, 0.01558562833815813, -5.746839178755181e-06, 0.005065650679171085, 0.028113236650824547, 0.013247141614556313, -0.01949167251586914, -0.024284284561872482, 0.010728771798312664, 0.00202369038015604, 0.01997992768883705, -0.016279464587569237, 0.0068933963775634766, 0.01631801202893257, -0.025928935036063194, -0.01964585855603218, -0.008191128261387348, 0.021187717095017433, -0.00125035154633224, 0.009000604040920734, 0.003694038139656186, -0.013182898052036762, -0.011474003084003925, -0.017024697735905647, -0.034974511712789536, -0.008782174438238144, -0.007388076279312372, -0.001087332027964294, 0.017564348876476288, -0.009617348201572895, -0.024387076497077942, -0.03744148463010788, -0.011409759521484375, -0.021457543596625328, -0.033869512379169464, 0.003359968541190028, 0.015662722289562225, -0.0030949614010751247, 0.010889382101595402, 0.005027104169130325, 0.017140336334705353, 0.003845011815428734, 0.010214818641543388, 0.033586837351322174, 0.02996346727013588, -0.012309177778661251, -0.0023465172853320837, 0.005701667629182339, -0.003369605168700218, 0.040807876735925674, 0.02227986790239811, 0.004497089888900518, -0.020994985476136208, -0.006604297552257776, 0.01122987549751997, 0.0129580432549119, -0.014275047928094864, 0.025016669183969498, 0.007690023630857468, -0.012199962511658669, 0.02565911039710045, 0.025106610730290413, -0.012521183118224144, 0.013966675847768784, -0.006604297552257776, -0.001450311508961022, -0.011544671840965748, 0.002242120448499918, -0.016369406133890152, 0.03846939280629158, -0.01513591967523098, 0.03541136905550957, 0.005817307159304619, -0.0009548285161145031, -0.004950011149048805, -0.01841237023472786, -0.0008480226388201118, 0.0075165643356740475, 0.0034338494297116995, 0.027188120409846306, -0.004355752840638161, 0.016330860555171967, -0.01099859643727541, 0.008120459504425526, -0.011705282144248486, 0.017358766868710518, -0.005929734092205763, 0.02545352838933468, -0.024117249995470047, -0.0039285290986299515, 0.0026741623878479004, 0.015187314711511135, -0.01828388310968876, 0.024592656642198563, -0.01543144229799509, 0.00747159356251359, -0.01938888244330883, 0.004876130260527134, 0.016176674515008926, 0.011621764861047268, -0.024361377581954002, -0.004387874621897936, -0.008968481793999672, -0.022087136283516884, -0.016986150294542313, -0.0368761382997036, 0.018425218760967255, -0.012135718017816544, -0.017962662503123283, -0.002156997099518776, 0.0021409359760582447, 0.003453122451901436, 0.018271032720804214, -0.004410360474139452, 0.020069869235157967, 0.006989762652665377, -0.017153184860944748, -0.00638265535235405, 0.006674966309219599, 0.01654929108917713, -0.01629231497645378, -0.0022244532592594624, -0.033304162323474884, -0.04371171444654465, 0.015996791422367096, 0.00959165021777153, -0.01926039345562458, -0.00806906446814537, -0.0008082715794444084, -0.0043589649721980095, 0.004317206330597401, -0.027779165655374527, 0.003220237558707595, -0.006861274130642414, 0.009212609380483627, -0.003588035237044096, 0.0017185307806357741, 0.01582975685596466, -0.004638426937162876, -0.017358766868710518, 0.024631204083561897, 0.0071439482271671295, 0.002924714470282197, 0.00035013057640753686, 0.001402931404300034, 0.008705081418156624, 0.00397028774023056, -0.013748246245086193, 0.010927928611636162, -0.0008070670301094651, -0.005386871285736561, 0.0002471391926519573, 0.005772335920482874, -0.00542862992733717, -0.005865490064024925, 0.041501715779304504, -0.011987956240773201, -0.0007986349519342184, 0.02271672897040844, 0.023063646629452705, -0.000978116993792355, 0.02934672310948372, 0.0024300345685333014, -0.017294522374868393, -0.012129293754696846, -0.014095164835453033, -0.04569043219089508, 0.006356957834213972, -0.021984344348311424, 0.0386749729514122, 0.0006364185246638954, -0.004587031435221434, -0.005598876625299454, -0.012219235301017761, 0.00028990168357267976, 0.009912870824337006, 0.014275047928094864, 0.015572779811918736, 0.004795825108885765, 0.028241723775863647, -0.008364587090909481, 0.006501507014036179, 0.004381450358778238, 0.009951417334377766, -0.011024294421076775, 0.014532024972140789, 0.006784181110560894, -0.028036143630743027, 0.017333069816231728, -0.00814615748822689, -0.0075165643356740475, -0.003321422031149268, 0.01936318352818489, -0.013388479128479958, 0.0020397515036165714, 0.002882955828681588, -0.003755070036277175, -0.00947601068764925, -0.003472395706921816, -0.002518370281904936, 0.00783778540790081, 0.033689625561237335, 0.012392695061862469, -0.03173660486936569, 0.012180688790977001, -0.011660311371088028, -0.01288095023483038, -0.003379241796210408, -0.016176674515008926, 0.003340695286169648, -0.011403335258364677, 0.033561140298843384, -0.017101790755987167, -0.020506730303168297, -0.02594178356230259, 0.006996186915785074, -0.005949007347226143, -0.008435255847871304, -0.03600241616368294, -0.021778764203190804, 0.005496086087077856, -0.0013282475993037224, -0.010966475121676922, -0.009308976121246815, -0.025042366236448288, -0.0033149977680295706, 0.008788598701357841, -0.026237307116389275, -0.012045776471495628, -0.022267019376158714, -0.003902831580489874, -3.560405161806557e-07, -0.02199719287455082, -0.010221242904663086, -0.0157269649207592, -0.01797551102936268, 0.006177074275910854, 0.0144420824944973, -0.01188516616821289, -0.01200080569833517, -0.004484240896999836, -0.03029753640294075, -0.013022287748754025, -0.001326641533523798, 0.010921504348516464, 0.004975708667188883, -0.029218235984444618, 0.0309399776160717, -0.01580405794084072, -0.02197149582207203, 0.0001848022802732885, 0.04299217835068703, 0.000916282064281404, 0.025196552276611328, 0.23785750567913055, 0.0021441481076180935, -0.0019626584835350513, 0.033766720443964005, -0.004384662490338087, 0.013838187791407108, 0.00451315101236105, 0.005573179107159376, -0.024592656642198563, 0.01830958016216755, -0.010163422673940659, -0.01535434927791357, -0.026597073301672935, -0.002495884895324707, -0.00554426945745945, -0.025826144963502884, -0.024027308449149132, -0.01910620741546154, 0.0016783782048150897, 0.021881554275751114, 0.014210803434252739, 0.02911544404923916, -0.020159810781478882, -0.026931144297122955, 0.03870067000389099, 0.04057659953832626, -0.00756795983761549, 0.024502715095877647, 0.02896125800907612, 0.003742221277207136, -0.0016494683222845197, -0.0005585224716924131, -0.01544429175555706, -0.0068355766125023365, 0.006906244903802872, -0.007844209671020508, -0.011686009354889393, -0.023294925689697266, 0.022729577496647835, 0.00408592727035284, 0.011641038581728935, 0.004410360474139452, -0.0013250353513285518, -0.03898334503173828, -0.0024364590644836426, 0.013080107048153877, 0.008081912994384766, -0.012508334591984749, -0.028370212763547897, 0.020378241315484047, -0.012129293754696846, -0.0015137526206672192, 0.025620562955737114, 0.03060590848326683, -0.02366754226386547, 0.0006151376292109489, 0.013234293088316917, -0.024926725775003433, 0.001745834480971098, 0.0024220040068030357, 0.013009438291192055, 0.02335917018353939, -0.020994985476136208, 0.026725562289357185, 0.024733994156122208, 0.008281069807708263, -0.019324637949466705, 0.02315358817577362, -0.014956035651266575, 0.005268019624054432, -0.024412773549556732, -0.005319414660334587, -0.008711505681276321, -0.013234293088316917, -0.023192135617136955, -0.005422205664217472, 0.032867301255464554, 0.041090551763772964, 0.004419996868818998, 0.022369809448719025, -0.003001807490363717, -0.03209637105464935, 0.006080708000808954, -0.0074972910806536674, -0.008705081418156624, -0.01634370908141136, 0.004464967641979456, -0.0012037745909765363, 0.018630800768733025, 0.011763102374970913, 0.01631801202893257, -0.017782777547836304, -0.014699059538543224, 0.00988717284053564, -0.0041244737803936005, 0.027136724442243576, 0.007310983259230852, 0.042940784245729446, -0.0055089350789785385, 0.00955310370773077, -0.013504118658602238, 0.04327485337853432, 0.012713915668427944, 0.0006179483025334775, -0.012816705740988255, 0.0029455937910825014, -0.014994582161307335, -0.000601485779043287, 0.03063160553574562, -0.0029793221037834883, 0.009919295087456703, -0.03903473913669586, 0.013028712011873722, -0.018913475796580315, -0.0018438068218529224, 0.01516161672770977, 0.004037744365632534, -0.015071675181388855, 0.005887975450605154, -0.0006902230088599026, 0.004888979252427816, -0.03589962422847748, -0.033406954258680344, 0.000958843796979636, -0.0003182092623319477, -0.013825339265167713, -0.00986147578805685, 0.010189120657742023, 0.00022726364841219038, -0.003870709566399455, 0.004815098363906145, -0.012977316044270992, 0.020159810781478882, -0.008653685450553894, -0.007368803024291992, -0.0029873524326831102, 0.007349529769271612, -0.00558281596750021, -0.025543469935655594, 0.0022212411276996136, 0.014776152558624744, 0.002592251170426607, -0.003517366712912917, 0.0016719537088647485, 0.006983337923884392, -0.02281951904296875, 0.02003132365643978, -0.011801648885011673, -0.002653283067047596, -0.013401327654719353, -0.022138530388474464, -0.022858064621686935, -0.013645455241203308, -0.017294522374868393, 0.01797551102936268, -0.00722104124724865, -0.002324031898751855, -0.026751259341835976, -0.028781374916434288, 0.017834173515439034, -0.03566834703087807, 0.0004906646208837628, 0.02341056428849697, -0.014236501418054104, -0.01613812893629074, 0.005248746369034052, -0.1639510542154312, 0.017602894455194473, 0.004908252507448196, -0.014660513028502464, 0.014968885108828545, 0.017243126407265663, 0.024823935702443123, -0.0024364590644836426, -0.034846022725105286, -0.012456938624382019, 0.020069869235157967, -0.03697892650961876, -0.02993777021765709, -0.0025328253395855427, 0.009418191388249397, 0.0009283278486691415, 0.004230476450175047, -0.004012046381831169, -0.01555993128567934, 0.008004819974303246, 0.016562139615416527, -0.000255169696174562, -0.020596671849489212, -0.01997992768883705, -0.0005858262302353978, -0.021457543596625328, -0.03669625148177147, 0.0007685205200687051, 0.01268821768462658, -0.00978438276797533, -0.00993856880813837, 0.0028701070696115494, -0.00779923889786005, 0.020224055275321007, 0.009032726287841797, -0.016857663169503212, 0.006604297552257776, -0.025466376915574074, -0.03076009452342987, 0.003957439213991165, 0.01562417484819889, 0.00540935667231679, 0.026648469269275665, -0.03024614229798317, -0.01122987549751997, -0.009000604040920734, 0.018142545595765114, -0.005727365147322416, 0.025928935036063194, -0.013259991072118282, 0.01142260804772377, -0.0022581815719604492, -0.002312788972631097, -0.016407953575253487, 0.010825137607753277, 0.023500505834817886, 0.010272637940943241, 0.03040032647550106, 0.006700663827359676, -0.03795543685555458, 0.0012913072714582086, -0.02220277488231659, -0.0002383056125836447, -0.004413572605699301, -0.0035912473686039448, -0.01771853305399418, -0.012823130004107952, 0.01505882665514946, -0.012424816377460957, -0.0017345917876809835, 0.01608673296868801, -0.02209998480975628, 0.014930338598787785, -0.004089139401912689, -0.0061513762921094894, 0.022446902468800545, -0.00651756813749671, 0.014686210080981255, -9.059427975444123e-05, -0.02279382199048996, 0.0027175270952284336, 0.05453042685985565, -0.023988762870430946, 0.02323068119585514, -0.01588115096092224, -0.002095965202897787, -0.0078634824603796, -3.237302371417172e-05, 0.012579002417623997, -0.01810399815440178, 0.012103595770895481, -0.005319414660334587, 0.001932142535224557, -0.02294800616800785, 0.01490464061498642, 0.022138530388474464, -0.0023449112195521593, -0.009880748577415943, -0.00791487842798233, -0.017988359555602074, 0.0308114904910326, -0.017435859888792038, -0.033689625561237335, -0.0062091960571706295, 0.0309399776160717, 0.013324234634637833, -0.006450111512094736, 0.02960369922220707, 0.017243126407265663, 0.00951455719769001, -0.005769123788923025, 0.011795224621891975, -0.00046978527097962797, 0.0048825545236468315, 0.01149970106780529, 0.008852842263877392, -0.005695242900401354, -0.005306566134095192, -0.005688818637281656, -0.020686613395810127, 0.04386590048670769, 0.02348765730857849, -0.02517085336148739, 0.013992373831570148, -0.0011957440292462707, 0.00885926652699709, -0.08865691721439362, 0.0011660311138257384, 0.018193939700722694, 0.02991207130253315, -0.010099179111421108, 0.0324818380177021, 0.004342903848737478, 0.009758684784173965, -0.017397312447428703, 0.020892195403575897, -0.01595824398100376, -0.04458543285727501, -0.002312788972631097, 0.008762900717556477, -0.002801044611260295, -0.012341299094259739, -0.017191732302308083, -0.02135475166141987, -0.02184300869703293, 0.001822927501052618, -0.00018128893862012774, -0.0020542063284665346, 0.01188516616821289, 0.01926039345562458, -0.00909054558724165, -0.005287292879074812, -0.025492075830698013, 0.009463162161409855, 0.004741217475384474, 0.01626661606132984, -0.0003607709950301796, -0.02281951904296875, -0.006739210337400436, 0.017333069816231728, -0.00889781303703785, -0.0030580211896449327, -0.005534632597118616, -0.02279382199048996, 0.011416183784604073, -0.004898615647107363, 0.02181730978190899, 0.007330256514251232, 0.005656696390360594, -0.03541136905550957, -0.010439672507345676, 0.0012431241339072585, -0.020044172182679176, -0.022780971601605415, 0.026494283229112625, -0.0368761382997036, -0.01539289578795433, -0.007137523964047432, -0.01459626853466034, 0.01982574164867401, -0.018348125740885735, -0.010555312037467957, -0.020648065954446793, 0.007934151217341423, -0.004757278598845005, 0.002079904079437256, 0.014377838931977749, 0.03029753640294075, -0.020969286561012268, 0.012315602041780949, 0.014172257855534554, -0.015148768201470375, -0.028704281896352768, 0.002882955828681588, -0.013632606714963913, -0.02348765730857849, 0.0048279473558068275, 0.010349730961024761, -0.020776554942131042, 0.008287494070827961, -0.021290509030222893, 0.016613535583019257, -0.010625980794429779, 0.003549488727003336, -0.005965068470686674, -0.022292716428637505, 0.006642844062298536, -0.004606304690241814, -0.005345112644135952, -0.005675969645380974, 0.013838187791407108, 0.020301148295402527, -0.01505882665514946, -0.005733789410442114, 0.01139691099524498, 0.0048440080136060715, -0.02400161139667034, 0.027856258675456047, 0.027085330337285995, 0.0043204184621572495, -0.003655491629615426, -0.001927324221469462, -0.0057241530157625675, 0.003687613643705845, 0.028036143630743027, 0.04584461823105812, -0.02150893770158291, 0.010728771798312664, -0.06357599794864655, 0.01812969706952572, 0.009932144545018673, -0.003655491629615426, 0.010670951567590237, -0.009488859213888645, 0.03140253573656082, -0.010760893113911152, 0.0013483238872140646, -0.006906244903802872, -0.006022888235747814, -0.01908051036298275, -0.010478219017386436, -0.0017233490943908691, -0.005971492733806372, -0.010060632601380348, 0.03721020743250847, 0.012431241571903229, 0.020712310448288918, 0.006790605839341879, -0.023089343681931496, -0.012206386774778366, 0.011975107714533806, -0.007426622789353132, -0.02568480744957924, 0.01577836088836193, -0.0028990169521421194, -0.006842000875622034, -0.010182696394622326, 0.005496086087077856, 0.01913190446794033, -0.004509938880801201, 0.0012648064875975251, 0.035051602870225906, -0.020403938367962837, -0.024027308449149132, 0.004503514152020216, 0.0389319509267807, 0.007388076279312372, 0.00756795983761549, -0.018682196736335754, -0.014223652891814709, 0.009045574814081192, 0.0006360170082189143, 0.003340695286169648, 0.00963019672781229, -0.008865691721439362, 0.007169646210968494, 0.023783180862665176, -0.027624979615211487, 0.015418593771755695, 0.017654290422797203, 0.0006749649764969945, -0.0180526040494442, -0.013581211678683758, -0.010600282810628414, 0.005804458167403936, -0.023680390790104866, 0.0189520213752985, -0.03155672177672386, 0.02978358417749405, 0.012534031644463539, 0.0021537847351282835, 0.0047508543357253075, 0.03754427656531334, -0.01608673296868801, -0.01169243361800909, -0.010272637940943241, -0.002609918126836419, -0.010799439623951912, -0.022446902468800545, 0.03016904927790165, 0.010568161495029926, -0.007773540914058685, 0.021701671183109283, -0.00756795983761549, 0.008608714677393436, 0.0263015516102314, -0.010381853207945824, -0.004217627923935652, -0.0024364590644836426, 0.009983539581298828, 0.0009227064438164234, -0.006466172635555267, 0.019684404134750366, 0.008743627928197384, -0.02908974699676037, -0.015380047261714935, -0.0024027307517826557, 0.004773339722305536, -0.013362781144678593, 0.0054511153139173985, -0.006263803690671921, 4.90865386382211e-05, 0.005374022293835878, 0.0005288095562718809, 0.0022356961853802204, -0.016742022708058357, -0.0185665562748909, 0.023474808782339096, 0.00634410884231329, 0.0008994179661385715, -0.0073045589961111546, -0.013311386108398438, -0.025055214762687683, 0.03076009452342987, -0.024901028722524643, -0.04694961756467819, 0.006475809495896101, 0.01451917551457882, 0.01122987549751997, 0.021881554275751114, 0.0031094164587557316, 0.005444691050797701, -0.027059631422162056, -0.007349529769271612, -0.024798238649964333, -0.04694961756467819, -0.020224055275321007, 0.005075287073850632, 0.008441680110991001, 0.020712310448288918, -0.004060229752212763, 0.019864289090037346, 0.018502311781048775, -0.002248544944450259, 0.010182696394622326, 0.007073279935866594, -0.011859468184411526, 0.013080107048153877, -0.0022694242652505636, -0.011608916334807873, -0.009392493404448032, -0.01815539412200451, -0.006453324109315872, -0.018810683861374855, 0.010317608714103699, 0.016652081161737442, -0.0007869907421991229, 0.04623008519411087, 0.0223055649548769, 0.004307569470256567, 0.0031094164587557316, -0.013092955574393272, 0.03070869855582714, -0.0035237912088632584, -0.03510299697518349, 0.013992373831570148, -0.03795543685555458, 0.018656497821211815, 0.014390687458217144, -0.01564987190067768, -0.01787271909415722, -0.008081912994384766, -0.005268019624054432, -0.021046379581093788, -0.008422406390309334, -0.0018871716456487775, -0.009450312703847885, 0.012913072481751442, -0.014287896454334259, -0.01959446258842945, 0.017088942229747772, -0.01848946325480938, 0.01101144589483738, 0.03279021009802818, -0.012913072481751442, -0.018322428688406944, -0.023834576830267906, 0.00754868658259511, 0.014069466851651669, -0.03721020743250847, -0.006071071140468121, 0.0037775554228574038, -0.009418191388249397, -0.020249752327799797, -0.011274846270680428, 0.0033085732720792294, 0.024965273216366768, -0.013722548261284828, -1.6675870938342996e-05, -0.009912870824337006, -0.01807830110192299, -0.01864364929497242, -0.010516765527427197, -0.025697655975818634, -0.014236501418054104, -0.020802251994609833] LIMIT 5;\n",
              "    \", consistency=Not Set>"
            ]
          },
          "metadata": {}
        }
      ],
      "source": [
        "# Build the hybrid search query. For vector search cosine similarity distance calculation, use the embedding to find the information nearest to the question asked.\n",
        "search_hybrid = SimpleStatement(\n",
        "    f\"\"\"\n",
        "    SELECT id, title, answers, context, question\n",
        "    FROM squad_hybrid\n",
        "    WHERE context : '{term_search}'\n",
        "    ORDER BY title_context_embedding ANN OF {embedding} LIMIT 5;\n",
        "    \"\"\"\n",
        "    )\n",
        "display(search_hybrid)"
      ]
    },
    {
      "cell_type": "markdown",
      "source": [
        "And provide a vector only query to compare that hybrid search with a vector only search."
      ],
      "metadata": {
        "id": "DqjZ55i-KwLS"
      }
    },
    {
      "cell_type": "code",
      "execution_count": null,
      "metadata": {
        "colab": {
          "base_uri": "https://localhost:8080/",
          "height": 1000
        },
        "outputId": "09154e55-86da-4f5d-d742-8d73178bfcbe",
        "id": "p7BZdhHyQhA8"
      },
      "outputs": [
        {
          "output_type": "display_data",
          "data": {
            "text/plain": [
              "<SimpleStatement query=\"\n",
              "    SELECT id, title, answers, context, question\n",
              "    FROM squad_hybrid\n",
              "    ORDER BY title_context_embedding ANN OF [0.011705282144248486, -0.010144149884581566, -0.003181691048666835, -0.03600241616368294, -0.04453403875231743, 0.028164630755782127, -0.026571376249194145, 0.024515563622117043, 0.0006219635833986104, 0.0018534434493631124, 0.002682192949578166, 0.010728771798312664, -0.015996791422367096, 0.004342903848737478, 0.014801849611103535, -0.006758483592420816, 0.025286493822932243, 0.0010793015826493502, 0.0019353547831997275, -0.020738009363412857, -0.010799439623951912, 0.000582212524022907, -0.01536719873547554, -0.002799438312649727, -0.01532865222543478, 0.02240835689008236, 0.009912870824337006, 0.0001348123187199235, -0.0019385669147595763, -0.014326442964375019, 0.034409161657094955, 0.012257781811058521, -0.04527927190065384, -0.021534636616706848, -0.008795022964477539, -0.004468179773539305, -0.022421205416321754, 0.004024895373731852, 0.006222045049071312, 0.028370212763547897, 0.007889180444180965, 0.01548283826559782, -0.0011580006685107946, -0.01509737316519022, -0.0071439482271671295, -0.0061706495471298695, 0.0068355766125023365, -0.013902432285249233, -0.013208595104515553, 0.027008237317204475, 0.014159408397972584, 0.016831964254379272, -0.015071675181388855, -0.0358482301235199, 0.0032411168795078993, -0.0007918090559542179, -0.0061160423792898655, 0.03127404674887657, -0.016767721623182297, -0.0026275853160768747, 0.016896208748221397, -0.006803454365581274, -0.02986067719757557, 0.020994985476136208, -0.02000562474131584, 0.020802251994609833, -0.006604297552257776, 0.02338486723601818, -0.013851036317646503, -0.02194579876959324, 0.024579808115959167, 0.006983337923884392, 0.004301145207136869, -0.005589240230619907, 0.013786792755126953, 0.013696851208806038, 0.004577395040541887, -0.001121060224249959, -0.003610520623624325, -0.006861274130642414, 0.007677174638956785, -0.022446902468800545, -0.010401125997304916, -0.009135516360402107, 0.0019433852285146713, -0.005473600700497627, -0.00453242426738143, 0.010189120657742023, -0.018014056608080864, -0.03232765197753906, 0.018322428688406944, 0.02364184334874153, 0.018810683861374855, 0.0071632214821875095, -0.017307370901107788, 0.017243126407265663, 0.004464967641979456, 0.017333069816231728, 0.00443605799227953, -0.01631801202893257, -0.0033471197821199894, 0.003697250271216035, 0.005663121119141579, -0.011486852541565895, -0.027753468602895737, -0.01753864996135235, -0.006026100367307663, 0.0030226868111640215, 0.03070869855582714, -0.02330777421593666, -0.04314636439085007, 0.02320498414337635, 0.009777958504855633, -0.03322707116603851, 0.0016342103481292725, -0.018990568816661835, 0.014891792088747025, 0.01884923130273819, -0.000744027434848249, -0.018862079828977585, 0.03651636838912964, 0.024489866569638252, 0.026263004168868065, -0.00986147578805685, 0.024695446714758873, 0.0024171858094632626, -0.028370212763547897, -0.004969284404069185, -0.010889382101595402, 0.009585225954651833, 0.006899820640683174, 0.02202289178967476, -0.006026100367307663, 0.028909863904118538, -0.010401125997304916, 0.03279021009802818, 0.003498093457892537, 0.013478420674800873, -0.026365796104073524, -0.004198354668915272, 0.007330256514251232, 0.01987713761627674, 0.00453242426738143, -0.000940373633056879, -0.006408352870494127, -0.00020859269716311246, 0.03831520676612854, -0.0011780769564211369, 0.005460752174258232, 0.0004440876073203981, -0.009495284408330917, -0.02407870441675186, 0.020969286561012268, 0.006141739897429943, -0.014326442964375019, 0.004426421131938696, -0.008615138940513134, 0.008120459504425526, -0.01812969706952572, -0.008319616317749023, -0.0049628596752882, 0.003350331913679838, 0.02135475166141987, 0.0010889382101595402, -0.012733188457787037, 0.005492873955518007, 0.003822526428848505, -0.0035944597329944372, 0.010047783143818378, 0.01119132898747921, -0.004269022960215807, 0.03556555509567261, -0.035462766885757446, 0.01887492835521698, 0.020673764869570732, 0.020905043929815292, 0.00982292927801609, -0.0157269649207592, -0.00735595403239131, -0.0014406748814508319, -0.0005175668629817665, -0.001464766450226307, -0.01825818419456482, 0.022241322323679924, -0.01135836448520422, -0.006157801020890474, -0.003282875521108508, 0.03631078824400902, 0.013671153225004673, -0.016176674515008926, 5.2148174290778115e-05, 0.02222847193479538, 0.0018887777114287019, 0.026263004168868065, -0.6817074418067932, -0.027702072635293007, 0.00569845549762249, 0.00039530222420580685, 0.023397715762257576, 0.004738005343824625, 0.017435859888792038, 0.02614736557006836, -0.01588115096092224, 0.01505882665514946, 0.022369809448719025, -0.018939172849059105, 0.009944993071258068, -0.02330777421593666, -0.001970689045265317, -0.03245614096522331, 0.003960651345551014, -0.004654488060623407, -0.006427626125514507, -0.020815102383494377, -0.035128697752952576, 0.005216624122112989, -0.0039285290986299515, 0.0022726363968104124, 0.011647462844848633, 0.011518974788486958, 0.003472395706921816, -0.014506326988339424, -0.02181730978190899, 0.013221444562077522, -0.0009202972869388759, 0.01815539412200451, 0.022061437368392944, -0.0009620559867471457, 0.0255306214094162, -0.008184703066945076, -0.006353745702654123, 0.025260796770453453, -0.004285084083676338, 0.02545352838933468, -0.05062438175082207, -0.01980004459619522, 0.016228070482611656, -0.0015161617193371058, -0.016934756189584732, 0.011210602708160877, 0.003229874186217785, -0.005611725617200136, 0.016356557607650757, 0.017705684527754784, -0.005435054190456867, 0.005929734092205763, 0.011853043921291828, 0.006790605839341879, 0.007542262319475412, 0.0012463363818824291, 0.03769846260547638, -0.009039150550961494, -0.024322832003235817, -0.01009275484830141, -0.010715922340750694, 0.014968885108828545, -0.004956435412168503, -0.020429637283086777, 0.0155984777957201, 0.010401125997304916, -0.025106610730290413, 0.02947521209716797, 0.0219200998544693, 0.0061545888893306255, 0.004275447688996792, 0.009405341930687428, 0.01782132498919964, 0.007066855672746897, 0.006809879094362259, 0.002723951591178775, 0.021624578163027763, -0.006456536240875721, 0.011596067808568478, -0.0018775350181385875, -0.009495284408330917, -0.020917892456054688, 0.008120459504425526, -0.0131507758051157, -0.0011250755051150918, -0.024913877248764038, -0.0013844611821696162, 0.00642120186239481, 0.028652885928750038, 0.0015972699038684368, 0.013311386108398438, 0.018913475796580315, 0.003735796781256795, -0.03099137358367443, -0.01078016683459282, 0.03846939280629158, 0.007638628128916025, 0.01527725625783205, -0.00777996564283967, 0.002322425600141287, 0.016562139615416527, 0.012823130004107952, 0.000672555819619447, 0.014853245578706264, 0.0008098777034319937, 0.006453324109315872, -0.008268221281468868, 0.016639232635498047, 0.014968885108828545, -0.003687613643705845, -0.014840396121144295, 0.0014727968955412507, -0.028138933703303337, -0.008576592430472374, 0.006055010482668877, -0.03040032647550106, 0.011172056198120117, -0.008261796087026596, -0.0033760296646505594, -0.01126842200756073, 0.004101988393813372, 0.006568963173776865, 0.01603533700108528, -0.009366795420646667, -0.01825818419456482, 0.012399119324982166, -0.014621966518461704, -0.006617146544158459, -0.017988359555602074, -0.010356155224144459, 0.011480428278446198, 0.017178883776068687, 0.00770287262275815, -0.007253163494169712, 0.0031865094788372517, 0.02392451837658882, -0.003501305589452386, -0.0184380691498518, -0.00981007982045412, 0.0005625377525575459, -0.005990765988826752, -0.00640192860737443, -0.00037221447564661503, -0.010844411328434944, 0.004696246702224016, -0.008364587090909481, 0.013966675847768784, 0.03227625787258148, -0.003732584649696946, -0.007445896044373512, 0.012270631268620491, -0.0024268224369734526, -0.021239113062620163, 0.0045741829089820385, 0.003168842289596796, 0.00045974712702445686, 0.014300745911896229, -0.015110221691429615, -0.018682196736335754, -0.023731784895062447, 0.013427025638520718, 0.00758723309263587, -0.03975427523255348, 0.007079704198986292, -0.004403935745358467, -0.011274846270680428, 0.013786792755126953, 0.008011244237422943, -0.005932946223765612, -0.023577598854899406, -0.005929734092205763, -0.005823731422424316, 0.017191732302308083, 0.01544429175555706, 0.0080562150105834, -0.013208595104515553, -0.004076290875673294, -0.00032362985075451434, -0.01531580276787281, -0.010420399717986584, 0.011865892447531223, 0.004285084083676338, -0.0428122952580452, 0.008705081418156624, 0.015148768201470375, 0.017281673848628998, 0.005749850533902645, 0.017140336334705353, -0.01603533700108528, -0.0029616549145430326, -0.008081912994384766, 0.021341903135180473, -0.0075743841007351875, 0.01941457949578762, 0.01990283466875553, 0.016742022708058357, -0.003082112642005086, 0.0002539651177357882, 0.006591449026018381, 0.00809476152062416, 0.02911544404923916, -0.001198153244331479, 0.028627188876271248, -0.010124876163899899, 0.02018550969660282, -0.0024139736779034138, -0.006318411324173212, -0.027188120409846306, 0.017166035249829292, 0.023294925689697266, 0.01600963994860649, -0.03173660486936569, -0.009758684784173965, -0.021251961588859558, -0.0006388276815414429, 0.011056416667997837, 0.0008761294884607196, 0.008281069807708263, -0.033406954258680344, 0.001665529329329729, 0.003578398609533906, 0.0011098175309598446, 0.018348125740885735, 0.008499499410390854, -0.010927928611636162, 0.03009195625782013, -0.016729174181818962, 0.006475809495896101, -0.017936963587999344, 0.007098977454006672, -0.001507328124716878, -0.011557521298527718, -0.0008010441088117659, 0.0022083923686295748, 0.008043366484344006, 0.02235696092247963, -0.025132307782769203, -0.006623570807278156, 0.016960453242063522, 0.014223652891814709, 0.03137683868408203, 0.02120056562125683, 0.0008954026852734387, -0.016600685194134712, 0.026828352361917496, 0.002609918126836419, 0.020815102383494377, 0.004191930405795574, 0.009688016027212143, 0.0031126285903155804, -0.02983497828245163, -0.0021505726035684347, -0.004972496535629034, 0.019812893122434616, 0.006257379427552223, -0.013324234634637833, 0.01509737316519022, 0.0030772944446653128, -0.0155984777957201, 0.01910620741546154, -0.008441680110991001, 0.010593858547508717, -0.003555913222953677, -0.034486252814531326, 0.02181730978190899, -0.0068741231225430965, -0.001880747266113758, -0.01130696851760149, 0.002849227748811245, -0.033509742468595505, -0.009720138274133205, -0.008165430277585983, -0.0057626995258033276, 0.003835375187918544, -0.002677374519407749, -0.002890986390411854, 0.02194579876959324, -0.013581211678683758, -0.00988717284053564, 0.014878942631185055, 0.013491269201040268, -0.02596748247742653, 0.021650275215506554, -0.004680185578763485, -0.005868702195584774, -0.01490464061498642, 0.006931942887604237, -0.001450311508961022, -0.017936963587999344, 0.026674166321754456, 0.011878741905093193, 0.010259789414703846, -0.02400161139667034, -0.004037744365632534, 0.00729813426733017, -0.01558562833815813, 0.009752260521054268, -0.005335475783795118, 0.000806263939011842, -0.014532024972140789, 0.013735397718846798, 0.004423209000378847, -0.028190329670906067, -0.03070869855582714, 0.01517446618527174, 0.015971092507243156, 0.003491668961942196, -0.0057434262707829475, -0.006822727620601654, -0.002041357569396496, 0.006485445890575647, -0.013953827321529388, 0.0009283278486691415, -0.0016976514598354697, 0.006867698859423399, -0.01900341734290123, -0.002060630824416876, -0.01593254692852497, 0.03019474633038044, 0.003482032334432006, -0.016677778214216232, 0.003954227082431316, -0.017050394788384438, -0.0043589649721980095, 0.08238668739795685, 0.015688419342041016, -0.025106610730290413, 0.0055089350789785385, -0.00050592259503901, -0.013311386108398438, 0.0026789805851876736, -0.027188120409846306, -0.003507730085402727, 0.013825339265167713, 0.009122667834162712, 0.010510341264307499, -0.017512952908873558, 0.00041919300565496087, 0.005791609175503254, 0.019787196069955826, -0.0036040963605046272, -0.034666139632463455, 0.00901345256716013, 0.008441680110991001, 0.012701066210865974, -0.0030612333212047815, 0.011975107714533806, 0.02158603072166443, 0.004172657150775194, 0.006392292212694883, 0.0019048387184739113, 0.006578600034117699, -0.01188516616821289, -0.004548484925180674, 0.0009484041365794837, 0.012090747244656086, 0.011069265194237232, 0.03032323345541954, -0.02174021676182747, 0.023269228637218475, -0.006681390572339296, -0.002246938878670335, 0.022164229303598404, -0.01841237023472786, 0.03281590715050697, 0.011133509688079357, -0.012990165501832962, -0.010124876163899899, 0.006970489397644997, 0.0012664126697927713, -0.0012142142513766885, 0.03263602405786514, 0.01654929108917713, 0.004015258979052305, 0.0021537847351282835, 0.004664124455302954, -0.01931178942322731, -0.002442883560433984, -0.009643045254051685, -0.013581211678683758, 0.012058624997735023, -0.016369406133890152, -0.016831964254379272, -0.033792417496442795, -0.0177956260740757, -0.006809879094362259, 0.024065855890512466, -0.004172657150775194, -0.005435054190456867, -0.028113236650824547, -0.021611729636788368, -0.012643246911466122, -0.004281871952116489, 0.024913877248764038, -0.024682598188519478, -0.020879345014691353, -0.028087537735700607, -0.025209400802850723, 0.020570972934365273, 0.0015763905830681324, -0.00540935667231679, -0.005557117983698845, 0.015071675181388855, 0.01264967117458582, 0.010009237565100193, -0.017410162836313248, 0.007966273464262486, -0.009643045254051685, 0.010214818641543388, 0.017166035249829292, 0.006234894040971994, 0.017602894455194473, -0.005329051520675421, 0.009039150550961494, 0.017654290422797203, 0.006713512819260359, 0.03777555376291275, -0.034589044749736786, -0.006886971648782492, -0.009379644878208637, 0.005457539577037096, 0.012752462178468704, -0.006295925937592983, -0.01877213828265667, 0.01475045457482338, -0.009186912328004837, 0.004352540709078312, -0.011955834925174713, 0.0005412568571045995, 0.016420802101492882, 0.007407349534332752, 0.01142260804772377, 0.00768359936773777, -0.01944027654826641, 0.013735397718846798, -0.008216825313866138, 0.03852078691124916, -0.01874643936753273, 0.013311386108398438, 0.02284521609544754, -0.001082513714209199, 0.027085330337285995, -0.017397312447428703, 0.007465169299393892, 0.00814615748822689, -0.023372018709778786, 0.028113236650824547, 0.027624979615211487, -0.009186912328004837, 0.007889180444180965, 0.010465370491147041, -0.016652081161737442, -0.03037462942302227, -0.00806906446814537, -0.006029312498867512, 0.025928935036063194, 0.0072852857410907745, -0.00928327813744545, -0.011467578820884228, -0.021624578163027763, -0.02589038945734501, 0.03155672177672386, -0.008178278803825378, 0.0002762498043011874, -0.004426421131938696, -0.021496089175343513, -0.0080562150105834, -0.01990283466875553, 0.001827745814807713, -0.022395506501197815, -0.008788598701357841, -0.005605301354080439, -0.004304357338696718, 0.010870108380913734, 0.002165027428418398, 0.028550095856189728, -0.026365796104073524, -0.01833527721464634, -0.007831361144781113, -0.016510743647813797, 0.005162016488611698, -0.010214818641543388, 0.02335917018353939, 0.025158004835247993, 0.020198358222842216, -0.012476212345063686, 0.014930338598787785, 0.03040032647550106, -0.000844810449052602, -0.005534632597118616, 0.013876734301447868, 0.0030291113071143627, -0.03058021143078804, 0.0308114904910326, 0.028318816795945168, -0.00731740752235055, 0.010324032977223396, 0.008518773131072521, 0.014120861887931824, 0.027830561622977257, 0.004664124455302954, -0.024027308449149132, -0.021251961588859558, -0.03592532500624657, -0.006559326779097319, -0.015045978128910065, -5.6414384744130075e-05, 0.01558562833815813, -5.746839178755181e-06, 0.005065650679171085, 0.028113236650824547, 0.013247141614556313, -0.01949167251586914, -0.024284284561872482, 0.010728771798312664, 0.00202369038015604, 0.01997992768883705, -0.016279464587569237, 0.0068933963775634766, 0.01631801202893257, -0.025928935036063194, -0.01964585855603218, -0.008191128261387348, 0.021187717095017433, -0.00125035154633224, 0.009000604040920734, 0.003694038139656186, -0.013182898052036762, -0.011474003084003925, -0.017024697735905647, -0.034974511712789536, -0.008782174438238144, -0.007388076279312372, -0.001087332027964294, 0.017564348876476288, -0.009617348201572895, -0.024387076497077942, -0.03744148463010788, -0.011409759521484375, -0.021457543596625328, -0.033869512379169464, 0.003359968541190028, 0.015662722289562225, -0.0030949614010751247, 0.010889382101595402, 0.005027104169130325, 0.017140336334705353, 0.003845011815428734, 0.010214818641543388, 0.033586837351322174, 0.02996346727013588, -0.012309177778661251, -0.0023465172853320837, 0.005701667629182339, -0.003369605168700218, 0.040807876735925674, 0.02227986790239811, 0.004497089888900518, -0.020994985476136208, -0.006604297552257776, 0.01122987549751997, 0.0129580432549119, -0.014275047928094864, 0.025016669183969498, 0.007690023630857468, -0.012199962511658669, 0.02565911039710045, 0.025106610730290413, -0.012521183118224144, 0.013966675847768784, -0.006604297552257776, -0.001450311508961022, -0.011544671840965748, 0.002242120448499918, -0.016369406133890152, 0.03846939280629158, -0.01513591967523098, 0.03541136905550957, 0.005817307159304619, -0.0009548285161145031, -0.004950011149048805, -0.01841237023472786, -0.0008480226388201118, 0.0075165643356740475, 0.0034338494297116995, 0.027188120409846306, -0.004355752840638161, 0.016330860555171967, -0.01099859643727541, 0.008120459504425526, -0.011705282144248486, 0.017358766868710518, -0.005929734092205763, 0.02545352838933468, -0.024117249995470047, -0.0039285290986299515, 0.0026741623878479004, 0.015187314711511135, -0.01828388310968876, 0.024592656642198563, -0.01543144229799509, 0.00747159356251359, -0.01938888244330883, 0.004876130260527134, 0.016176674515008926, 0.011621764861047268, -0.024361377581954002, -0.004387874621897936, -0.008968481793999672, -0.022087136283516884, -0.016986150294542313, -0.0368761382997036, 0.018425218760967255, -0.012135718017816544, -0.017962662503123283, -0.002156997099518776, 0.0021409359760582447, 0.003453122451901436, 0.018271032720804214, -0.004410360474139452, 0.020069869235157967, 0.006989762652665377, -0.017153184860944748, -0.00638265535235405, 0.006674966309219599, 0.01654929108917713, -0.01629231497645378, -0.0022244532592594624, -0.033304162323474884, -0.04371171444654465, 0.015996791422367096, 0.00959165021777153, -0.01926039345562458, -0.00806906446814537, -0.0008082715794444084, -0.0043589649721980095, 0.004317206330597401, -0.027779165655374527, 0.003220237558707595, -0.006861274130642414, 0.009212609380483627, -0.003588035237044096, 0.0017185307806357741, 0.01582975685596466, -0.004638426937162876, -0.017358766868710518, 0.024631204083561897, 0.0071439482271671295, 0.002924714470282197, 0.00035013057640753686, 0.001402931404300034, 0.008705081418156624, 0.00397028774023056, -0.013748246245086193, 0.010927928611636162, -0.0008070670301094651, -0.005386871285736561, 0.0002471391926519573, 0.005772335920482874, -0.00542862992733717, -0.005865490064024925, 0.041501715779304504, -0.011987956240773201, -0.0007986349519342184, 0.02271672897040844, 0.023063646629452705, -0.000978116993792355, 0.02934672310948372, 0.0024300345685333014, -0.017294522374868393, -0.012129293754696846, -0.014095164835453033, -0.04569043219089508, 0.006356957834213972, -0.021984344348311424, 0.0386749729514122, 0.0006364185246638954, -0.004587031435221434, -0.005598876625299454, -0.012219235301017761, 0.00028990168357267976, 0.009912870824337006, 0.014275047928094864, 0.015572779811918736, 0.004795825108885765, 0.028241723775863647, -0.008364587090909481, 0.006501507014036179, 0.004381450358778238, 0.009951417334377766, -0.011024294421076775, 0.014532024972140789, 0.006784181110560894, -0.028036143630743027, 0.017333069816231728, -0.00814615748822689, -0.0075165643356740475, -0.003321422031149268, 0.01936318352818489, -0.013388479128479958, 0.0020397515036165714, 0.002882955828681588, -0.003755070036277175, -0.00947601068764925, -0.003472395706921816, -0.002518370281904936, 0.00783778540790081, 0.033689625561237335, 0.012392695061862469, -0.03173660486936569, 0.012180688790977001, -0.011660311371088028, -0.01288095023483038, -0.003379241796210408, -0.016176674515008926, 0.003340695286169648, -0.011403335258364677, 0.033561140298843384, -0.017101790755987167, -0.020506730303168297, -0.02594178356230259, 0.006996186915785074, -0.005949007347226143, -0.008435255847871304, -0.03600241616368294, -0.021778764203190804, 0.005496086087077856, -0.0013282475993037224, -0.010966475121676922, -0.009308976121246815, -0.025042366236448288, -0.0033149977680295706, 0.008788598701357841, -0.026237307116389275, -0.012045776471495628, -0.022267019376158714, -0.003902831580489874, -3.560405161806557e-07, -0.02199719287455082, -0.010221242904663086, -0.0157269649207592, -0.01797551102936268, 0.006177074275910854, 0.0144420824944973, -0.01188516616821289, -0.01200080569833517, -0.004484240896999836, -0.03029753640294075, -0.013022287748754025, -0.001326641533523798, 0.010921504348516464, 0.004975708667188883, -0.029218235984444618, 0.0309399776160717, -0.01580405794084072, -0.02197149582207203, 0.0001848022802732885, 0.04299217835068703, 0.000916282064281404, 0.025196552276611328, 0.23785750567913055, 0.0021441481076180935, -0.0019626584835350513, 0.033766720443964005, -0.004384662490338087, 0.013838187791407108, 0.00451315101236105, 0.005573179107159376, -0.024592656642198563, 0.01830958016216755, -0.010163422673940659, -0.01535434927791357, -0.026597073301672935, -0.002495884895324707, -0.00554426945745945, -0.025826144963502884, -0.024027308449149132, -0.01910620741546154, 0.0016783782048150897, 0.021881554275751114, 0.014210803434252739, 0.02911544404923916, -0.020159810781478882, -0.026931144297122955, 0.03870067000389099, 0.04057659953832626, -0.00756795983761549, 0.024502715095877647, 0.02896125800907612, 0.003742221277207136, -0.0016494683222845197, -0.0005585224716924131, -0.01544429175555706, -0.0068355766125023365, 0.006906244903802872, -0.007844209671020508, -0.011686009354889393, -0.023294925689697266, 0.022729577496647835, 0.00408592727035284, 0.011641038581728935, 0.004410360474139452, -0.0013250353513285518, -0.03898334503173828, -0.0024364590644836426, 0.013080107048153877, 0.008081912994384766, -0.012508334591984749, -0.028370212763547897, 0.020378241315484047, -0.012129293754696846, -0.0015137526206672192, 0.025620562955737114, 0.03060590848326683, -0.02366754226386547, 0.0006151376292109489, 0.013234293088316917, -0.024926725775003433, 0.001745834480971098, 0.0024220040068030357, 0.013009438291192055, 0.02335917018353939, -0.020994985476136208, 0.026725562289357185, 0.024733994156122208, 0.008281069807708263, -0.019324637949466705, 0.02315358817577362, -0.014956035651266575, 0.005268019624054432, -0.024412773549556732, -0.005319414660334587, -0.008711505681276321, -0.013234293088316917, -0.023192135617136955, -0.005422205664217472, 0.032867301255464554, 0.041090551763772964, 0.004419996868818998, 0.022369809448719025, -0.003001807490363717, -0.03209637105464935, 0.006080708000808954, -0.0074972910806536674, -0.008705081418156624, -0.01634370908141136, 0.004464967641979456, -0.0012037745909765363, 0.018630800768733025, 0.011763102374970913, 0.01631801202893257, -0.017782777547836304, -0.014699059538543224, 0.00988717284053564, -0.0041244737803936005, 0.027136724442243576, 0.007310983259230852, 0.042940784245729446, -0.0055089350789785385, 0.00955310370773077, -0.013504118658602238, 0.04327485337853432, 0.012713915668427944, 0.0006179483025334775, -0.012816705740988255, 0.0029455937910825014, -0.014994582161307335, -0.000601485779043287, 0.03063160553574562, -0.0029793221037834883, 0.009919295087456703, -0.03903473913669586, 0.013028712011873722, -0.018913475796580315, -0.0018438068218529224, 0.01516161672770977, 0.004037744365632534, -0.015071675181388855, 0.005887975450605154, -0.0006902230088599026, 0.004888979252427816, -0.03589962422847748, -0.033406954258680344, 0.000958843796979636, -0.0003182092623319477, -0.013825339265167713, -0.00986147578805685, 0.010189120657742023, 0.00022726364841219038, -0.003870709566399455, 0.004815098363906145, -0.012977316044270992, 0.020159810781478882, -0.008653685450553894, -0.007368803024291992, -0.0029873524326831102, 0.007349529769271612, -0.00558281596750021, -0.025543469935655594, 0.0022212411276996136, 0.014776152558624744, 0.002592251170426607, -0.003517366712912917, 0.0016719537088647485, 0.006983337923884392, -0.02281951904296875, 0.02003132365643978, -0.011801648885011673, -0.002653283067047596, -0.013401327654719353, -0.022138530388474464, -0.022858064621686935, -0.013645455241203308, -0.017294522374868393, 0.01797551102936268, -0.00722104124724865, -0.002324031898751855, -0.026751259341835976, -0.028781374916434288, 0.017834173515439034, -0.03566834703087807, 0.0004906646208837628, 0.02341056428849697, -0.014236501418054104, -0.01613812893629074, 0.005248746369034052, -0.1639510542154312, 0.017602894455194473, 0.004908252507448196, -0.014660513028502464, 0.014968885108828545, 0.017243126407265663, 0.024823935702443123, -0.0024364590644836426, -0.034846022725105286, -0.012456938624382019, 0.020069869235157967, -0.03697892650961876, -0.02993777021765709, -0.0025328253395855427, 0.009418191388249397, 0.0009283278486691415, 0.004230476450175047, -0.004012046381831169, -0.01555993128567934, 0.008004819974303246, 0.016562139615416527, -0.000255169696174562, -0.020596671849489212, -0.01997992768883705, -0.0005858262302353978, -0.021457543596625328, -0.03669625148177147, 0.0007685205200687051, 0.01268821768462658, -0.00978438276797533, -0.00993856880813837, 0.0028701070696115494, -0.00779923889786005, 0.020224055275321007, 0.009032726287841797, -0.016857663169503212, 0.006604297552257776, -0.025466376915574074, -0.03076009452342987, 0.003957439213991165, 0.01562417484819889, 0.00540935667231679, 0.026648469269275665, -0.03024614229798317, -0.01122987549751997, -0.009000604040920734, 0.018142545595765114, -0.005727365147322416, 0.025928935036063194, -0.013259991072118282, 0.01142260804772377, -0.0022581815719604492, -0.002312788972631097, -0.016407953575253487, 0.010825137607753277, 0.023500505834817886, 0.010272637940943241, 0.03040032647550106, 0.006700663827359676, -0.03795543685555458, 0.0012913072714582086, -0.02220277488231659, -0.0002383056125836447, -0.004413572605699301, -0.0035912473686039448, -0.01771853305399418, -0.012823130004107952, 0.01505882665514946, -0.012424816377460957, -0.0017345917876809835, 0.01608673296868801, -0.02209998480975628, 0.014930338598787785, -0.004089139401912689, -0.0061513762921094894, 0.022446902468800545, -0.00651756813749671, 0.014686210080981255, -9.059427975444123e-05, -0.02279382199048996, 0.0027175270952284336, 0.05453042685985565, -0.023988762870430946, 0.02323068119585514, -0.01588115096092224, -0.002095965202897787, -0.0078634824603796, -3.237302371417172e-05, 0.012579002417623997, -0.01810399815440178, 0.012103595770895481, -0.005319414660334587, 0.001932142535224557, -0.02294800616800785, 0.01490464061498642, 0.022138530388474464, -0.0023449112195521593, -0.009880748577415943, -0.00791487842798233, -0.017988359555602074, 0.0308114904910326, -0.017435859888792038, -0.033689625561237335, -0.0062091960571706295, 0.0309399776160717, 0.013324234634637833, -0.006450111512094736, 0.02960369922220707, 0.017243126407265663, 0.00951455719769001, -0.005769123788923025, 0.011795224621891975, -0.00046978527097962797, 0.0048825545236468315, 0.01149970106780529, 0.008852842263877392, -0.005695242900401354, -0.005306566134095192, -0.005688818637281656, -0.020686613395810127, 0.04386590048670769, 0.02348765730857849, -0.02517085336148739, 0.013992373831570148, -0.0011957440292462707, 0.00885926652699709, -0.08865691721439362, 0.0011660311138257384, 0.018193939700722694, 0.02991207130253315, -0.010099179111421108, 0.0324818380177021, 0.004342903848737478, 0.009758684784173965, -0.017397312447428703, 0.020892195403575897, -0.01595824398100376, -0.04458543285727501, -0.002312788972631097, 0.008762900717556477, -0.002801044611260295, -0.012341299094259739, -0.017191732302308083, -0.02135475166141987, -0.02184300869703293, 0.001822927501052618, -0.00018128893862012774, -0.0020542063284665346, 0.01188516616821289, 0.01926039345562458, -0.00909054558724165, -0.005287292879074812, -0.025492075830698013, 0.009463162161409855, 0.004741217475384474, 0.01626661606132984, -0.0003607709950301796, -0.02281951904296875, -0.006739210337400436, 0.017333069816231728, -0.00889781303703785, -0.0030580211896449327, -0.005534632597118616, -0.02279382199048996, 0.011416183784604073, -0.004898615647107363, 0.02181730978190899, 0.007330256514251232, 0.005656696390360594, -0.03541136905550957, -0.010439672507345676, 0.0012431241339072585, -0.020044172182679176, -0.022780971601605415, 0.026494283229112625, -0.0368761382997036, -0.01539289578795433, -0.007137523964047432, -0.01459626853466034, 0.01982574164867401, -0.018348125740885735, -0.010555312037467957, -0.020648065954446793, 0.007934151217341423, -0.004757278598845005, 0.002079904079437256, 0.014377838931977749, 0.03029753640294075, -0.020969286561012268, 0.012315602041780949, 0.014172257855534554, -0.015148768201470375, -0.028704281896352768, 0.002882955828681588, -0.013632606714963913, -0.02348765730857849, 0.0048279473558068275, 0.010349730961024761, -0.020776554942131042, 0.008287494070827961, -0.021290509030222893, 0.016613535583019257, -0.010625980794429779, 0.003549488727003336, -0.005965068470686674, -0.022292716428637505, 0.006642844062298536, -0.004606304690241814, -0.005345112644135952, -0.005675969645380974, 0.013838187791407108, 0.020301148295402527, -0.01505882665514946, -0.005733789410442114, 0.01139691099524498, 0.0048440080136060715, -0.02400161139667034, 0.027856258675456047, 0.027085330337285995, 0.0043204184621572495, -0.003655491629615426, -0.001927324221469462, -0.0057241530157625675, 0.003687613643705845, 0.028036143630743027, 0.04584461823105812, -0.02150893770158291, 0.010728771798312664, -0.06357599794864655, 0.01812969706952572, 0.009932144545018673, -0.003655491629615426, 0.010670951567590237, -0.009488859213888645, 0.03140253573656082, -0.010760893113911152, 0.0013483238872140646, -0.006906244903802872, -0.006022888235747814, -0.01908051036298275, -0.010478219017386436, -0.0017233490943908691, -0.005971492733806372, -0.010060632601380348, 0.03721020743250847, 0.012431241571903229, 0.020712310448288918, 0.006790605839341879, -0.023089343681931496, -0.012206386774778366, 0.011975107714533806, -0.007426622789353132, -0.02568480744957924, 0.01577836088836193, -0.0028990169521421194, -0.006842000875622034, -0.010182696394622326, 0.005496086087077856, 0.01913190446794033, -0.004509938880801201, 0.0012648064875975251, 0.035051602870225906, -0.020403938367962837, -0.024027308449149132, 0.004503514152020216, 0.0389319509267807, 0.007388076279312372, 0.00756795983761549, -0.018682196736335754, -0.014223652891814709, 0.009045574814081192, 0.0006360170082189143, 0.003340695286169648, 0.00963019672781229, -0.008865691721439362, 0.007169646210968494, 0.023783180862665176, -0.027624979615211487, 0.015418593771755695, 0.017654290422797203, 0.0006749649764969945, -0.0180526040494442, -0.013581211678683758, -0.010600282810628414, 0.005804458167403936, -0.023680390790104866, 0.0189520213752985, -0.03155672177672386, 0.02978358417749405, 0.012534031644463539, 0.0021537847351282835, 0.0047508543357253075, 0.03754427656531334, -0.01608673296868801, -0.01169243361800909, -0.010272637940943241, -0.002609918126836419, -0.010799439623951912, -0.022446902468800545, 0.03016904927790165, 0.010568161495029926, -0.007773540914058685, 0.021701671183109283, -0.00756795983761549, 0.008608714677393436, 0.0263015516102314, -0.010381853207945824, -0.004217627923935652, -0.0024364590644836426, 0.009983539581298828, 0.0009227064438164234, -0.006466172635555267, 0.019684404134750366, 0.008743627928197384, -0.02908974699676037, -0.015380047261714935, -0.0024027307517826557, 0.004773339722305536, -0.013362781144678593, 0.0054511153139173985, -0.006263803690671921, 4.90865386382211e-05, 0.005374022293835878, 0.0005288095562718809, 0.0022356961853802204, -0.016742022708058357, -0.0185665562748909, 0.023474808782339096, 0.00634410884231329, 0.0008994179661385715, -0.0073045589961111546, -0.013311386108398438, -0.025055214762687683, 0.03076009452342987, -0.024901028722524643, -0.04694961756467819, 0.006475809495896101, 0.01451917551457882, 0.01122987549751997, 0.021881554275751114, 0.0031094164587557316, 0.005444691050797701, -0.027059631422162056, -0.007349529769271612, -0.024798238649964333, -0.04694961756467819, -0.020224055275321007, 0.005075287073850632, 0.008441680110991001, 0.020712310448288918, -0.004060229752212763, 0.019864289090037346, 0.018502311781048775, -0.002248544944450259, 0.010182696394622326, 0.007073279935866594, -0.011859468184411526, 0.013080107048153877, -0.0022694242652505636, -0.011608916334807873, -0.009392493404448032, -0.01815539412200451, -0.006453324109315872, -0.018810683861374855, 0.010317608714103699, 0.016652081161737442, -0.0007869907421991229, 0.04623008519411087, 0.0223055649548769, 0.004307569470256567, 0.0031094164587557316, -0.013092955574393272, 0.03070869855582714, -0.0035237912088632584, -0.03510299697518349, 0.013992373831570148, -0.03795543685555458, 0.018656497821211815, 0.014390687458217144, -0.01564987190067768, -0.01787271909415722, -0.008081912994384766, -0.005268019624054432, -0.021046379581093788, -0.008422406390309334, -0.0018871716456487775, -0.009450312703847885, 0.012913072481751442, -0.014287896454334259, -0.01959446258842945, 0.017088942229747772, -0.01848946325480938, 0.01101144589483738, 0.03279021009802818, -0.012913072481751442, -0.018322428688406944, -0.023834576830267906, 0.00754868658259511, 0.014069466851651669, -0.03721020743250847, -0.006071071140468121, 0.0037775554228574038, -0.009418191388249397, -0.020249752327799797, -0.011274846270680428, 0.0033085732720792294, 0.024965273216366768, -0.013722548261284828, -1.6675870938342996e-05, -0.009912870824337006, -0.01807830110192299, -0.01864364929497242, -0.010516765527427197, -0.025697655975818634, -0.014236501418054104, -0.020802251994609833] LIMIT 5;\n",
              "    \", consistency=Not Set>"
            ]
          },
          "metadata": {}
        }
      ],
      "source": [
        "# Compare that with only vector search,using only the embedding to find the information nearest to the question asked.\n",
        "search_vector = SimpleStatement(\n",
        "    f\"\"\"\n",
        "    SELECT id, title, answers, context, question\n",
        "    FROM squad_hybrid\n",
        "    ORDER BY title_context_embedding ANN OF {embedding} LIMIT 5;\n",
        "    \"\"\"\n",
        "    )\n",
        "display(search_vector)"
      ]
    },
    {
      "cell_type": "markdown",
      "metadata": {
        "id": "MMc2ZpL-3n1v"
      },
      "source": [
        "# **Find the top results using hybrid (Term and ANN similarity search)**"
      ]
    },
    {
      "cell_type": "code",
      "execution_count": null,
      "metadata": {
        "colab": {
          "base_uri": "https://localhost:8080/"
        },
        "id": "L2xxz1bn3oVg",
        "outputId": "96419d8f-2c3b-49ab-c85a-61876edd65d8"
      },
      "outputs": [
        {
          "output_type": "stream",
          "name": "stdout",
          "text": [
            "The School of Architecture was established in 1899, although degrees in architecture were first awarded by the university in 1898. Today the school, housed in Bond Hall, offers a five-year undergraduate program leading to the Bachelor of Architecture degree. All undergraduate students study the third year of the program in Rome. The university is globally recognized for its Notre Dame School of Architecture, a faculty that teaches (pre-modernist) traditional and classical architecture and urban planning (e.g. following the principles of New Urbanism and New Classical Architecture). It also awards the renowned annual Driehaus Architecture Prize.\n",
            "\n",
            "Besides its prominence in sports, Notre Dame is also a large, four-year, highly residential research University, and is consistently ranked among the top twenty universities in the United States  and as a major global university. The undergraduate component of the university is organized into four colleges (Arts and Letters, Science, Engineering, Business) and the Architecture School. The latter is known for teaching New Classical Architecture and for awarding the globally renowned annual Driehaus Architecture Prize. Notre Dame's graduate program has more than 50 master's, doctoral and professional degree programs offered by the five schools, with the addition of the Notre Dame Law School and a MD-PhD program offered in combination with IU medical School. It maintains a system of libraries, cultural venues, artistic and scientific museums, including Hesburgh Library and the Snite Museum of Art. Over 80% of the university's 8,000 undergraduates live on campus in one of 29 single-sex residence halls, each with its own traditions, legacies, events and intramural sports teams. The university counts approximately 120,000 alumni, considered among the strongest alumni networks among U.S. colleges.\n",
            "\n",
            "In 2015-2016, Notre Dame ranked 18th overall among \"national universities\" in the United States in U.S. News & World Report's Best Colleges 2016. In 2014, USA Today ranked Notre Dame 10th overall for American universities based on data from College Factual. Forbes.com's America's Best Colleges ranks Notre Dame 13th among colleges in the United States in 2015, 8th among Research Universities, and 1st in the Midwest. U.S. News & World Report also lists Notre Dame Law School as 22nd overall. BusinessWeek ranks Mendoza College of Business undergraduate school as 1st overall. It ranks the MBA program as 20th overall. The Philosophical Gourmet Report ranks Notre Dame's graduate philosophy program as 15th nationally, while ARCHITECT Magazine ranked the undergraduate architecture program as 12th nationally. Additionally, the study abroad program ranks sixth in highest participation percentage in the nation, with 57.6% of students choosing to study abroad in 17 countries. According to payscale.com, undergraduate alumni of University of Notre Dame have a mid-career median salary $110,000, making it the 24th highest among colleges and universities in the United States. The median starting salary of $55,300 ranked 58th in the same peer group.\n",
            "\n",
            "Notre Dame is known for its competitive admissions, with the incoming class enrolling in fall 2015 admitting 3,577 from a pool of 18,156 (19.7%). The academic profile of the enrolled class continues to rate among the top 10 to 15 in the nation for national research universities. The university practices a non-restrictive early action policy that allows admitted students to consider admission to Notre Dame as well as any other colleges to which they were accepted. 1,400 of the 3,577 (39.1%) were admitted under the early action plan. Admitted students came from 1,311 high schools and the average student traveled more than 750 miles to Notre Dame, making it arguably the most representative university in the United States. While all entering students begin in the College of the First Year of Studies, 25% have indicated they plan to study in the liberal arts or social sciences, 24% in engineering, 24% in business, 24% in science, and 3% in architecture.\n",
            "\n",
            "About 80% of undergraduates and 20% of graduate students live on campus. The majority of the graduate students on campus live in one of four graduate housing complexes on campus, while all on-campus undergraduates live in one of the 29 residence halls. Because of the religious affiliation of the university, all residence halls are single-sex, with 15 male dorms and 14 female dorms. The university maintains a visiting policy (known as parietal hours) for those students who live in dormitories, specifying times when members of the opposite sex are allowed to visit other students' dorm rooms; however, all residence halls have 24-hour social spaces for students regardless of gender. Many residence halls have at least one nun and/or priest as a resident. There are no traditional social fraternities or sororities at the university, but a majority of students live in the same residence hall for all four years. Some intramural sports are based on residence hall teams, where the university offers the only non-military academy program of full-contact intramural American football. At the end of the intramural season, the championship game is played on the field in Notre Dame Stadium.\n",
            "\n"
          ]
        }
      ],
      "source": [
        "results = session.execute(search_hybrid)\n",
        "top_hybrid_results = results._current_rows\n",
        "\n",
        "for row in top_hybrid_results:\n",
        "  print(f\"\"\"{row.context}\\n\"\"\")"
      ]
    },
    {
      "cell_type": "markdown",
      "metadata": {
        "id": "WGcCuXPBo4aZ"
      },
      "source": [
        "# **Find the top results only using ANN Similarity (Vector)**"
      ]
    },
    {
      "cell_type": "code",
      "execution_count": null,
      "metadata": {
        "colab": {
          "base_uri": "https://localhost:8080/"
        },
        "outputId": "70fd46dc-9088-4101-c359-979dbc3c07fc",
        "id": "aPZD6qiKo4ag"
      },
      "outputs": [
        {
          "output_type": "stream",
          "name": "stdout",
          "text": [
            "The university first offered graduate degrees, in the form of a Master of Arts (MA), in the 1854–1855 academic year. The program expanded to include Master of Laws (LL.M.) and Master of Civil Engineering in its early stages of growth, before a formal graduate school education was developed with a thesis not required to receive the degrees. This changed in 1924 with formal requirements developed for graduate degrees, including offering Doctorate (PhD) degrees. Today each of the five colleges offer graduate education. Most of the departments from the College of Arts and Letters offer PhD programs, while a professional Master of Divinity (M.Div.) program also exists. All of the departments in the College of Science offer PhD programs, except for the Department of Pre-Professional Studies. The School of Architecture offers a Master of Architecture, while each of the departments of the College of Engineering offer PhD programs. The College of Business offers multiple professional programs including MBA and Master of Science in Accountancy programs. It also operates facilities in Chicago and Cincinnati for its executive MBA program. Additionally, the Alliance for Catholic Education program offers a Master of Education program where students study at the university during the summer and teach in Catholic elementary schools, middle schools, and high schools across the Southern United States for two school years.\n",
            "\n",
            "The College of Engineering was established in 1920, however, early courses in civil and mechanical engineering were a part of the College of Science since the 1870s. Today the college, housed in the Fitzpatrick, Cushing, and Stinson-Remick Halls of Engineering, includes five departments of study – aerospace and mechanical engineering, chemical and biomolecular engineering, civil engineering and geological sciences, computer science and engineering, and electrical engineering – with eight B.S. degrees offered. Additionally, the college offers five-year dual degree programs with the Colleges of Arts and Letters and of Business awarding additional B.A. and Master of Business Administration (MBA) degrees, respectively.\n",
            "\n",
            "The College of Arts and Letters was established as the university's first college in 1842 with the first degrees given in 1849. The university's first academic curriculum was modeled after the Jesuit Ratio Studiorum from Saint Louis University. Today the college, housed in O'Shaughnessy Hall, includes 20 departments in the areas of fine arts, humanities, and social sciences, and awards Bachelor of Arts (B.A.) degrees in 33 majors, making it the largest of the university's colleges. There are around 2,500 undergraduates and 750 graduates enrolled in the college.\n",
            "\n",
            "The College of Science was established at the university in 1865 by president Father Patrick Dillon. Dillon's scientific courses were six years of work, including higher-level mathematics courses. Today the college, housed in the newly built Jordan Hall of Science, includes over 1,200 undergraduates in six departments of study – biology, chemistry, mathematics, physics, pre-professional studies, and applied and computational mathematics and statistics (ACMS) – each awarding Bachelor of Science (B.S.) degrees. According to university statistics, its science pre-professional program has one of the highest acceptance rates to medical school of any university in the United States.\n",
            "\n",
            "The School of Architecture was established in 1899, although degrees in architecture were first awarded by the university in 1898. Today the school, housed in Bond Hall, offers a five-year undergraduate program leading to the Bachelor of Architecture degree. All undergraduate students study the third year of the program in Rome. The university is globally recognized for its Notre Dame School of Architecture, a faculty that teaches (pre-modernist) traditional and classical architecture and urban planning (e.g. following the principles of New Urbanism and New Classical Architecture). It also awards the renowned annual Driehaus Architecture Prize.\n",
            "\n"
          ]
        }
      ],
      "source": [
        "results = session.execute(search_vector)\n",
        "top_vector_results = results._current_rows\n",
        "\n",
        "for row in top_vector_results:\n",
        "  print(f\"\"\"{row.context}\\n\"\"\")"
      ]
    },
    {
      "cell_type": "markdown",
      "metadata": {
        "id": "NJT7kj6q7A1T"
      },
      "source": [
        "# **Ask ChatGPT for some help**\n",
        "\n",
        "* Here we build a prompt with which we'll query ChatGPT.\n",
        "* We'll pass once with the hybrid search output and once with the vector only search output - to compare the results\n",
        "* Note the \"roles\" in this little conversation give the LLM more context about who that part of the conversation is coming from.\n",
        "* This may take 10-20 seconds to return, so be patient."
      ]
    },
    {
      "cell_type": "code",
      "execution_count": null,
      "metadata": {
        "colab": {
          "base_uri": "https://localhost:8080/"
        },
        "id": "MdNR6fLT7MUM",
        "outputId": "ec7167bc-c8ed-4028-a39c-9cf3055bab85"
      },
      "outputs": [
        {
          "output_type": "stream",
          "name": "stdout",
          "text": [
            "The University of Notre Dame offers a wide range of undergraduate and graduate degrees in various fields. The undergraduate programs include degrees in Arts and Letters, Business, Science, and Engineering. Within these colleges, you can choose from a variety of majors and minors to pursue your specific interests. \n",
            "\n",
            "At the graduate level, Notre Dame offers a variety of master's and doctoral programs across different disciplines, such as humanities, social sciences, natural sciences, engineering, business, architecture, and law. These programs provide advanced education and research opportunities for further specialization in your field of study.\n",
            "\n",
            "Additionally, Notre Dame offers professional degree programs in areas like law and business administration. These programs are designed to provide specialized training and skills necessary for specific careers.\n",
            "\n",
            "Overall, Notre Dame has a diverse range of degree programs to cater to the interests and career goals of its students.\n"
          ]
        }
      ],
      "source": [
        "# Hybrid results\n",
        "\n",
        "message_objects = []\n",
        "\n",
        "# With the role as 'system',  we tell the model how we want it to behave and tell it how its personality and type of response should be.\n",
        "message_objects.append({\"role\":\"system\",\n",
        "                        \"content\":\"You're a chatbot helping customers with questions.\"})\n",
        "\n",
        "# With the role as 'user',  pass the question from user.\n",
        "message_objects.append({\"role\":\"user\",\n",
        "                        \"content\": customer_input})\n",
        "\n",
        "answers_list = []\n",
        "\n",
        "# With the role as 'assistant',  load the results from Astra with Vector Search.  That helps the model to provide answer to the question asked by user.\n",
        "for row in top_hybrid_results:\n",
        "    brand_dict = {'role': \"assistant\", \"content\": f\"{row.context}\"}\n",
        "    answers_list.append(brand_dict)\n",
        "\n",
        "message_objects.extend(answers_list)\n",
        "message_objects.append({\"role\": \"assistant\", \"content\":\"Here's my answer to your question.\"})\n",
        "\n",
        "completion = openai.ChatCompletion.create(\n",
        "  model=\"gpt-3.5-turbo\",\n",
        "  messages=message_objects\n",
        ")\n",
        "\n",
        "print(completion.choices[0].message['content'])"
      ]
    },
    {
      "cell_type": "code",
      "source": [
        "# Vector search only results\n",
        "\n",
        "message_objects = []\n",
        "\n",
        "# With the role as 'system',  we tell the model how we want it to behave and tell it how its personality and type of response should be.\n",
        "message_objects.append({\"role\":\"system\",\n",
        "                        \"content\":\"You're a chatbot helping customers with questions.\"})\n",
        "\n",
        "# With the role as 'user',  pass the question from user.\n",
        "message_objects.append({\"role\":\"user\",\n",
        "                        \"content\": customer_input})\n",
        "\n",
        "answers_list = []\n",
        "\n",
        "# With the role as 'assistant',  load the results from Astra with Vector Search.  That helps the model to provide answer to the question asked by user.\n",
        "for row in top_vector_results:\n",
        "    brand_dict = {'role': \"assistant\", \"content\": f\"{row.context}\"}\n",
        "    answers_list.append(brand_dict)\n",
        "\n",
        "message_objects.extend(answers_list)\n",
        "message_objects.append({\"role\": \"assistant\", \"content\":\"Here's my answer to your question.\"})\n",
        "\n",
        "completion = openai.ChatCompletion.create(\n",
        "  model=\"gpt-3.5-turbo\",\n",
        "  messages=message_objects\n",
        ")\n",
        "\n",
        "print(completion.choices[0].message['content'])"
      ],
      "metadata": {
        "colab": {
          "base_uri": "https://localhost:8080/"
        },
        "id": "KTD1Bb9Uq9_j",
        "outputId": "04b6fd3e-4c10-4622-cdd6-0fce0a29ca91"
      },
      "execution_count": null,
      "outputs": [
        {
          "output_type": "stream",
          "name": "stdout",
          "text": [
            "The University of Notre Dame offers a wide range of undergraduate and graduate degrees across various disciplines. The College of Arts and Letters offers degrees in areas such as English, history, psychology, sociology, and philosophy, among others. The College of Science offers degrees in fields such as biology, chemistry, physics, mathematics, and pre-professional studies. The College of Engineering offers degrees in aerospace engineering, civil engineering, computer science, electrical engineering, and more. The Mendoza College of Business offers undergraduate degrees in fields such as finance, marketing, management, and accounting, as well as graduate programs like the MBA. The School of Architecture, as the name suggests, offers degrees in architecture. There are also specialized programs such as the Alliance for Catholic Education program, which offers a Master of Education degree. These are just a few examples, and there are many more degree programs available at the University of Notre Dame.\n"
          ]
        }
      ]
    }
  ]
}