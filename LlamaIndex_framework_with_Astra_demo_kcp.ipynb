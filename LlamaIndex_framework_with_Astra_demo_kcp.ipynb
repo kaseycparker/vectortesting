{
  "cells": [
    {
      "cell_type": "markdown",
      "metadata": {
        "id": "ED-96eIReJgU"
      },
      "source": [
        "# Llama Index, NBA Knowledge-base Vector Store\n",
        "\n",
        "Create a Vector Store with Llama index and CassIO, with NBA data to use as a search engine and text generator, backed by Astra DB. Demonstrate multiple Llama index modules and question answering using the framework, including a Gradio Web Interface.\n",
        "\n",
        "Note: much of dataset build code is credited to lifeofbaka (https://github.com/lifeofbaka)"
      ],
      "id": "ED-96eIReJgU"
    },
    {
      "cell_type": "markdown",
      "metadata": {
        "id": "ofKNCmHTeJgX"
      },
      "source": [
        "## Colab-specific setup"
      ],
      "id": "ofKNCmHTeJgX"
    },
    {
      "cell_type": "markdown",
      "metadata": {
        "id": "vHPHk0PzeJgX"
      },
      "source": [
        "Make sure you have a Database and get ready to upload the Secure Connect Bundle and supply the Token string\n",
        "(see [Pre-requisites](https://cassio.org/start_here/#vector-database) on cassio.org for details. Remember you need a custom Token with role [Database Administrator](https://awesome-astra.github.io/docs/pages/astra/create-token/)).\n",
        "\n",
        "Likewise, ensure you have the necessary secret for the LLM provider of your choice: you'll be asked to input it shortly\n",
        "(see [Pre-requisites](https://cassio.org/start_here/#llm-access) on cassio.org for details).\n",
        "\n",
        "_Note: this notebook is part of the CassIO documentation. Visit [this page on cassIO.org](https://cassio.org/frameworks/llamaindex/vector-quickstart/)._\n"
      ],
      "id": "vHPHk0PzeJgX"
    },
    {
      "cell_type": "code",
      "execution_count": 4,
      "id": "2953d95b",
      "metadata": {
        "id": "2953d95b",
        "colab": {
          "base_uri": "https://localhost:8080/"
        },
        "outputId": "d44d2488-006d-40e8-8d41-00be70f00279"
      },
      "outputs": [
        {
          "output_type": "stream",
          "name": "stdout",
          "text": [
            "  Preparing metadata (setup.py) ... \u001b[?25l\u001b[?25hdone\n",
            "  Preparing metadata (setup.py) ... \u001b[?25l\u001b[?25hdone\n",
            "  Preparing metadata (setup.py) ... \u001b[?25l\u001b[?25hdone\n",
            "  Building wheel for wikipedia (setup.py) ... \u001b[?25l\u001b[?25hdone\n",
            "  Building wheel for bs4 (setup.py) ... \u001b[?25l\u001b[?25hdone\n",
            "  Building wheel for ffmpy (setup.py) ... \u001b[?25l\u001b[?25hdone\n"
          ]
        }
      ],
      "source": [
        "# install required dependencies\n",
        "! pip install -q --progress-bar off \\\n",
        "    \"cassio>=0.1.0\" \\\n",
        "    \"google-cloud-aiplatform>=1.25.0\" \\\n",
        "    \"jupyter>=1.0.0\" \\\n",
        "    \"llama-index==0.8.8\" \\\n",
        "    \"nltk==3.8.1\" \\\n",
        "    \"pypdf==3.15.2\" \\\n",
        "    \"python-dotenv==1.0.0\" \\\n",
        "    \"openai\" \\\n",
        "    \"langchain\" \\\n",
        "    \"pypdf\" \\\n",
        "    \"PyCryptodome\" \\\n",
        "    \"gradio\" \\\n",
        "    \"wikipedia\" \\\n",
        "    \"bs4\" \\\n",
        "    \"transformers\"\n",
        "exit()"
      ]
    },
    {
      "cell_type": "markdown",
      "id": "222f44ff",
      "metadata": {
        "id": "222f44ff"
      },
      "source": [
        "⚠️ **Do not mind a \"Your session crashed...\" message you may see.**\n",
        "\n",
        "It was us, making sure your kernel restarts with all the correct dependency versions. _You can now proceed with the notebook._"
      ]
    },
    {
      "cell_type": "code",
      "source": [
        "# imports\n",
        "from bs4 import BeautifulSoup\n",
        "import numpy as np\n",
        "import requests\n",
        "import re\n",
        "import pandas as pd\n",
        "import io\n",
        "import csv\n",
        "import wikipedia\n",
        "from typing import Any, List\n",
        "import json\n",
        "import os\n",
        "import re\n",
        "from urllib.request import urlopen\n",
        "import openai\n",
        "from pathlib import Path\n",
        "from llama_index import download_loader\n",
        "from llama_index import (\n",
        "    GPTVectorStoreIndex,\n",
        "    GPTSimpleKeywordTableIndex,\n",
        "    SimpleDirectoryReader,\n",
        "    LLMPredictor,\n",
        "    ServiceContext\n",
        ")\n",
        "from llama_index import StorageContext, ServiceContext, GPTVectorStoreIndex, LLMPredictor, PromptHelper, SimpleDirectoryReader, load_index_from_storage\n",
        "from langchain.llms.openai import OpenAIChat\n",
        "from langchain.chat_models import ChatOpenAI"
      ],
      "metadata": {
        "id": "t9QgfpjDg1GB"
      },
      "id": "t9QgfpjDg1GB",
      "execution_count": 1,
      "outputs": []
    },
    {
      "cell_type": "code",
      "execution_count": 2,
      "metadata": {
        "id": "4WZbYRjXeJga",
        "colab": {
          "base_uri": "https://localhost:8080/"
        },
        "outputId": "2c8e8bc8-942e-474e-dd13-442bd2ce6db2"
      },
      "outputs": [
        {
          "name": "stdout",
          "output_type": "stream",
          "text": [
            "Your Astra DB Keyspace namevector_preview\n"
          ]
        }
      ],
      "source": [
        "# Input your database keyspace name:\n",
        "ASTRA_DB_KEYSPACE = input('Your Astra DB Keyspace name ')"
      ],
      "id": "4WZbYRjXeJga"
    },
    {
      "cell_type": "code",
      "execution_count": 35,
      "metadata": {
        "id": "Pn639rDxeJga",
        "colab": {
          "base_uri": "https://localhost:8080/"
        },
        "outputId": "8a1d2e56-1c0d-4ff7-9511-91c9c6d2af1a"
      },
      "outputs": [
        {
          "name": "stdout",
          "output_type": "stream",
          "text": [
            "Your Astra DB Token (\"AstraCS:...\"): ··········\n"
          ]
        }
      ],
      "source": [
        "# Input your Astra DB token string, the one starting with \"AstraCS:...\"\n",
        "from getpass import getpass\n",
        "ASTRA_DB_APPLICATION_TOKEN = getpass('Your Astra DB Token (\"AstraCS:...\"): ')"
      ],
      "id": "Pn639rDxeJga"
    },
    {
      "cell_type": "markdown",
      "metadata": {
        "id": "QNQ6T_Gjk0Oz"
      },
      "source": [
        "### Astra DB Secure Connect Bundle\n",
        "\n",
        "Please upload the Secure Connect Bundle zipfile to connect to your Astra DB instance.\n",
        "\n",
        "The Secure Connect Bundle is needed to establish a secure connection to the database.\n",
        "Click [here](https://awesome-astra.github.io/docs/pages/astra/download-scb/#c-procedure) for instructions on how to download it from Astra DB."
      ],
      "id": "QNQ6T_Gjk0Oz"
    },
    {
      "cell_type": "code",
      "execution_count": 36,
      "metadata": {
        "id": "cOvOvajWeJgb",
        "colab": {
          "base_uri": "https://localhost:8080/",
          "height": 91
        },
        "outputId": "bbf7fbf0-cae3-4b9f-caa8-7c780a4ce7c8"
      },
      "outputs": [
        {
          "output_type": "stream",
          "name": "stdout",
          "text": [
            "Please upload your Secure Connect Bundle\n"
          ]
        },
        {
          "output_type": "display_data",
          "data": {
            "text/plain": [
              "<IPython.core.display.HTML object>"
            ],
            "text/html": [
              "\n",
              "     <input type=\"file\" id=\"files-c88a4a50-aa5e-443d-966a-0092a0281607\" name=\"files[]\" multiple disabled\n",
              "        style=\"border:none\" />\n",
              "     <output id=\"result-c88a4a50-aa5e-443d-966a-0092a0281607\">\n",
              "      Upload widget is only available when the cell has been executed in the\n",
              "      current browser session. Please rerun this cell to enable.\n",
              "      </output>\n",
              "      <script>// Copyright 2017 Google LLC\n",
              "//\n",
              "// Licensed under the Apache License, Version 2.0 (the \"License\");\n",
              "// you may not use this file except in compliance with the License.\n",
              "// You may obtain a copy of the License at\n",
              "//\n",
              "//      http://www.apache.org/licenses/LICENSE-2.0\n",
              "//\n",
              "// Unless required by applicable law or agreed to in writing, software\n",
              "// distributed under the License is distributed on an \"AS IS\" BASIS,\n",
              "// WITHOUT WARRANTIES OR CONDITIONS OF ANY KIND, either express or implied.\n",
              "// See the License for the specific language governing permissions and\n",
              "// limitations under the License.\n",
              "\n",
              "/**\n",
              " * @fileoverview Helpers for google.colab Python module.\n",
              " */\n",
              "(function(scope) {\n",
              "function span(text, styleAttributes = {}) {\n",
              "  const element = document.createElement('span');\n",
              "  element.textContent = text;\n",
              "  for (const key of Object.keys(styleAttributes)) {\n",
              "    element.style[key] = styleAttributes[key];\n",
              "  }\n",
              "  return element;\n",
              "}\n",
              "\n",
              "// Max number of bytes which will be uploaded at a time.\n",
              "const MAX_PAYLOAD_SIZE = 100 * 1024;\n",
              "\n",
              "function _uploadFiles(inputId, outputId) {\n",
              "  const steps = uploadFilesStep(inputId, outputId);\n",
              "  const outputElement = document.getElementById(outputId);\n",
              "  // Cache steps on the outputElement to make it available for the next call\n",
              "  // to uploadFilesContinue from Python.\n",
              "  outputElement.steps = steps;\n",
              "\n",
              "  return _uploadFilesContinue(outputId);\n",
              "}\n",
              "\n",
              "// This is roughly an async generator (not supported in the browser yet),\n",
              "// where there are multiple asynchronous steps and the Python side is going\n",
              "// to poll for completion of each step.\n",
              "// This uses a Promise to block the python side on completion of each step,\n",
              "// then passes the result of the previous step as the input to the next step.\n",
              "function _uploadFilesContinue(outputId) {\n",
              "  const outputElement = document.getElementById(outputId);\n",
              "  const steps = outputElement.steps;\n",
              "\n",
              "  const next = steps.next(outputElement.lastPromiseValue);\n",
              "  return Promise.resolve(next.value.promise).then((value) => {\n",
              "    // Cache the last promise value to make it available to the next\n",
              "    // step of the generator.\n",
              "    outputElement.lastPromiseValue = value;\n",
              "    return next.value.response;\n",
              "  });\n",
              "}\n",
              "\n",
              "/**\n",
              " * Generator function which is called between each async step of the upload\n",
              " * process.\n",
              " * @param {string} inputId Element ID of the input file picker element.\n",
              " * @param {string} outputId Element ID of the output display.\n",
              " * @return {!Iterable<!Object>} Iterable of next steps.\n",
              " */\n",
              "function* uploadFilesStep(inputId, outputId) {\n",
              "  const inputElement = document.getElementById(inputId);\n",
              "  inputElement.disabled = false;\n",
              "\n",
              "  const outputElement = document.getElementById(outputId);\n",
              "  outputElement.innerHTML = '';\n",
              "\n",
              "  const pickedPromise = new Promise((resolve) => {\n",
              "    inputElement.addEventListener('change', (e) => {\n",
              "      resolve(e.target.files);\n",
              "    });\n",
              "  });\n",
              "\n",
              "  const cancel = document.createElement('button');\n",
              "  inputElement.parentElement.appendChild(cancel);\n",
              "  cancel.textContent = 'Cancel upload';\n",
              "  const cancelPromise = new Promise((resolve) => {\n",
              "    cancel.onclick = () => {\n",
              "      resolve(null);\n",
              "    };\n",
              "  });\n",
              "\n",
              "  // Wait for the user to pick the files.\n",
              "  const files = yield {\n",
              "    promise: Promise.race([pickedPromise, cancelPromise]),\n",
              "    response: {\n",
              "      action: 'starting',\n",
              "    }\n",
              "  };\n",
              "\n",
              "  cancel.remove();\n",
              "\n",
              "  // Disable the input element since further picks are not allowed.\n",
              "  inputElement.disabled = true;\n",
              "\n",
              "  if (!files) {\n",
              "    return {\n",
              "      response: {\n",
              "        action: 'complete',\n",
              "      }\n",
              "    };\n",
              "  }\n",
              "\n",
              "  for (const file of files) {\n",
              "    const li = document.createElement('li');\n",
              "    li.append(span(file.name, {fontWeight: 'bold'}));\n",
              "    li.append(span(\n",
              "        `(${file.type || 'n/a'}) - ${file.size} bytes, ` +\n",
              "        `last modified: ${\n",
              "            file.lastModifiedDate ? file.lastModifiedDate.toLocaleDateString() :\n",
              "                                    'n/a'} - `));\n",
              "    const percent = span('0% done');\n",
              "    li.appendChild(percent);\n",
              "\n",
              "    outputElement.appendChild(li);\n",
              "\n",
              "    const fileDataPromise = new Promise((resolve) => {\n",
              "      const reader = new FileReader();\n",
              "      reader.onload = (e) => {\n",
              "        resolve(e.target.result);\n",
              "      };\n",
              "      reader.readAsArrayBuffer(file);\n",
              "    });\n",
              "    // Wait for the data to be ready.\n",
              "    let fileData = yield {\n",
              "      promise: fileDataPromise,\n",
              "      response: {\n",
              "        action: 'continue',\n",
              "      }\n",
              "    };\n",
              "\n",
              "    // Use a chunked sending to avoid message size limits. See b/62115660.\n",
              "    let position = 0;\n",
              "    do {\n",
              "      const length = Math.min(fileData.byteLength - position, MAX_PAYLOAD_SIZE);\n",
              "      const chunk = new Uint8Array(fileData, position, length);\n",
              "      position += length;\n",
              "\n",
              "      const base64 = btoa(String.fromCharCode.apply(null, chunk));\n",
              "      yield {\n",
              "        response: {\n",
              "          action: 'append',\n",
              "          file: file.name,\n",
              "          data: base64,\n",
              "        },\n",
              "      };\n",
              "\n",
              "      let percentDone = fileData.byteLength === 0 ?\n",
              "          100 :\n",
              "          Math.round((position / fileData.byteLength) * 100);\n",
              "      percent.textContent = `${percentDone}% done`;\n",
              "\n",
              "    } while (position < fileData.byteLength);\n",
              "  }\n",
              "\n",
              "  // All done.\n",
              "  yield {\n",
              "    response: {\n",
              "      action: 'complete',\n",
              "    }\n",
              "  };\n",
              "}\n",
              "\n",
              "scope.google = scope.google || {};\n",
              "scope.google.colab = scope.google.colab || {};\n",
              "scope.google.colab._files = {\n",
              "  _uploadFiles,\n",
              "  _uploadFilesContinue,\n",
              "};\n",
              "})(self);\n",
              "</script> "
            ]
          },
          "metadata": {}
        },
        {
          "output_type": "stream",
          "name": "stdout",
          "text": [
            "Saving secure-connect-vectordemo.zip to secure-connect-vectordemo.zip\n"
          ]
        }
      ],
      "source": [
        "# Upload your Secure Connect Bundle zipfile:\n",
        "import os\n",
        "from google.colab import files\n",
        "\n",
        "\n",
        "print('Please upload your Secure Connect Bundle')\n",
        "uploaded = files.upload()\n",
        "if uploaded:\n",
        "    astraBundleFileTitle = list(uploaded.keys())[0]\n",
        "    ASTRA_DB_SECURE_BUNDLE_PATH = os.path.join(os.getcwd(), astraBundleFileTitle)\n",
        "else:\n",
        "    raise ValueError(\n",
        "        'Cannot proceed without Secure Connect Bundle. Please re-run the cell.'\n",
        "    )"
      ],
      "id": "cOvOvajWeJgb"
    },
    {
      "cell_type": "code",
      "execution_count": 37,
      "metadata": {
        "id": "ZvILNPMbeJgb"
      },
      "outputs": [],
      "source": [
        "# colab-specific override of helper functions\n",
        "from cassandra.cluster import (\n",
        "    Cluster,\n",
        ")\n",
        "from cassandra.auth import PlainTextAuthProvider\n",
        "\n",
        "\n",
        "def getCQLSession(mode='astra_db'):\n",
        "    if mode == 'astra_db':\n",
        "        cluster = Cluster(\n",
        "            cloud={\n",
        "                \"secure_connect_bundle\": ASTRA_DB_SECURE_BUNDLE_PATH,\n",
        "            },\n",
        "            auth_provider=PlainTextAuthProvider(\n",
        "                \"token\",\n",
        "                ASTRA_DB_APPLICATION_TOKEN,\n",
        "            ),\n",
        "        )\n",
        "        astraSession = cluster.connect()\n",
        "        return astraSession\n",
        "    else:\n",
        "        raise ValueError('Unsupported CQL Session mode')\n",
        "\n",
        "def getCQLKeyspace(mode='astra_db'):\n",
        "    if mode == 'astra_db':\n",
        "        return ASTRA_DB_KEYSPACE\n",
        "    else:\n",
        "        raise ValueError('Unsupported CQL Session mode')"
      ],
      "id": "ZvILNPMbeJgb"
    },
    {
      "cell_type": "markdown",
      "metadata": {
        "id": "QXCQ6T_Gjk0Oz"
      },
      "source": [
        "### LLM Provider\n",
        "\n",
        "In the cell below you can choose between **GCP Vertex AI** or **OpenAI** for your LLM services.\n",
        "(See [Pre-requisites](https://cassio.org/start_here/#llm-access) on cassio.org for more details).\n",
        "\n",
        "Make sure you set the `llmProvider` variable and supply the corresponding access secrets in the following cell."
      ],
      "id": "QXCQ6T_Gjk0Oz"
    },
    {
      "cell_type": "code",
      "execution_count": 38,
      "metadata": {
        "id": "pFP77KF2eJgc"
      },
      "outputs": [],
      "source": [
        "# Set your secret(s) for LLM access:\n",
        "llmProvider = 'OpenAI'  # 'GCP_VertexAI', 'Azure_OpenAI'\n"
      ],
      "id": "pFP77KF2eJgc"
    },
    {
      "cell_type": "code",
      "execution_count": 39,
      "metadata": {
        "id": "ZS8rxRJAeJgc",
        "colab": {
          "base_uri": "https://localhost:8080/"
        },
        "outputId": "5e59afb8-88f5-41bf-80c2-78f532fad0de"
      },
      "outputs": [
        {
          "name": "stdout",
          "output_type": "stream",
          "text": [
            "Your secret for LLM provider \"OpenAI\": ··········\n"
          ]
        }
      ],
      "source": [
        "from getpass import getpass\n",
        "if llmProvider == 'OpenAI':\n",
        "    apiSecret = getpass(f'Your secret for LLM provider \"{llmProvider}\": ')\n",
        "    os.environ['OPENAI_API_KEY'] = apiSecret\n",
        "elif llmProvider == 'GCP_VertexAI':\n",
        "    # we need a json file\n",
        "    print(f'Please upload your Service Account JSON for the LLM provider \"{llmProvider}\":')\n",
        "    from google.colab import files\n",
        "    uploaded = files.upload()\n",
        "    if uploaded:\n",
        "        vertexAIJsonFileTitle = list(uploaded.keys())[0]\n",
        "        os.environ['GOOGLE_APPLICATION_CREDENTIALS'] = os.path.join(os.getcwd(), vertexAIJsonFileTitle)\n",
        "    else:\n",
        "        raise ValueError(\n",
        "            'No file uploaded. Please re-run the cell.'\n",
        "        )\n",
        "elif llmProvider == 'Azure_OpenAI':\n",
        "    # a few parameters must be input\n",
        "    apiSecret = input(f'Your API Key for LLM provider \"{llmProvider}\": ')\n",
        "    os.environ['AZURE_OPENAI_API_KEY'] = apiSecret\n",
        "    apiBase = input('The \"Base URL\" for your models (e.g. \"https://YOUR-RESOURCE-NAME.openai.azure.com\"): ')\n",
        "    os.environ['AZURE_OPENAI_API_BASE'] = apiBase\n",
        "    apiLLMDepl = input('The name of your LLM Deployment: ')\n",
        "    os.environ['AZURE_OPENAI_LLM_DEPLOYMENT'] = apiLLMDepl\n",
        "    apiLLMModel = input('The name of your LLM Model (e.g. \"gpt-4\"): ')\n",
        "    os.environ['AZURE_OPENAI_LLM_MODEL'] = apiLLMModel\n",
        "    apiEmbDepl = input('The name for your Embeddings Deployment: ')\n",
        "    os.environ['AZURE_OPENAI_EMBEDDINGS_DEPLOYMENT'] = apiEmbDepl\n",
        "    apiEmbModel = input('The name of your Embedding Model (e.g. \"text-embedding-ada-002\"): ')\n",
        "    os.environ['AZURE_OPENAI_EMBEDDINGS_MODEL'] = apiEmbModel\n",
        "\n",
        "    # The following is probably not going to change for some time...\n",
        "    os.environ['AZURE_OPENAI_API_VERSION'] = '2023-03-15-preview'\n",
        "else:\n",
        "    raise ValueError('Unknown/unsupported LLM Provider')"
      ],
      "id": "ZS8rxRJAeJgc"
    },
    {
      "cell_type": "markdown",
      "source": [
        "### Wikipedia Dataset\n",
        "using help from lifeofbacka to retrieve a dataset from wikipedia. We will focus on NBA teams as the topic of interest. And for demo purpose cut the dataset down even more, to one team."
      ],
      "metadata": {
        "id": "OFxLtVzJjBpm"
      },
      "id": "OFxLtVzJjBpm"
    },
    {
      "cell_type": "code",
      "source": [
        "#wiki links\n",
        "wiki_txt_links = ['https://raw.githubusercontent.com/lifeofbaka/Datasets/main/Wikipedia/wiki' + str(i)+ '.txt' for i in range(1,9)] #if wiki size changes update the range."
      ],
      "metadata": {
        "id": "H74vPDe8ikYE"
      },
      "id": "H74vPDe8ikYE",
      "execution_count": 8,
      "outputs": []
    },
    {
      "cell_type": "code",
      "source": [
        "# topics\n",
        "\n",
        "# basketball_teams = [\n",
        "#     \"Atlanta Hawks\",\n",
        "#     \"Boston Celtics\",\n",
        "#     \"Brooklyn Nets\",\n",
        "#     \"Charlotte Hornets\",\n",
        "#     \"Chicago Bulls\",\n",
        "#     \"Cleveland Cavaliers\",\n",
        "#     \"Dallas Mavericks\",\n",
        "#     \"Denver Nuggets\",\n",
        "#     \"Detroit Pistons\",\n",
        "#     \"Golden State Warriors\",\n",
        "#     \"Houston Rockets\",\n",
        "#     \"Indiana Pacers\",\n",
        "#     \"Los Angeles Clippers\",\n",
        "#     \"Los Angeles Lakers\",\n",
        "#     \"Memphis Grizzlies\",\n",
        "#     \"Miami Heat\",\n",
        "#     \"Milwaukee Bucks\",\n",
        "#     \"Minnesota Timberwolves\",\n",
        "#     \"New Orleans Pelicans\",\n",
        "#     \"New York Knicks\",\n",
        "#     \"Oklahoma City Thunder\",\n",
        "#     \"Orlando Magic\",\n",
        "#     \"Philadelphia 76ers\",\n",
        "#     \"Phoenix Suns\",\n",
        "#     \"Portland Trail Blazers\",\n",
        "#     \"Sacramento Kings\",\n",
        "#     \"San Antonio Spurs\",\n",
        "#     \"Toronto Raptors\",\n",
        "#     \"Utah Jazz\",\n",
        "#     \"Washington Wizards\"\n",
        "# ]\n",
        "'''"
      ],
      "metadata": {
        "id": "MANZYcdfi6H3"
      },
      "id": "MANZYcdfi6H3",
      "execution_count": null,
      "outputs": []
    },
    {
      "cell_type": "code",
      "source": [
        "# smaller test case with a single team\n",
        "basketball_teams = [ \"Utah Jazz\"]"
      ],
      "metadata": {
        "id": "AJ2g7J3qkKzp"
      },
      "id": "AJ2g7J3qkKzp",
      "execution_count": 5,
      "outputs": []
    },
    {
      "cell_type": "code",
      "source": [
        "len(basketball_teams)"
      ],
      "metadata": {
        "colab": {
          "base_uri": "https://localhost:8080/"
        },
        "id": "PgPFieEnkfZg",
        "outputId": "8bff9911-0b11-4fa7-cc16-e42cfcd98a4c"
      },
      "id": "PgPFieEnkfZg",
      "execution_count": 6,
      "outputs": [
        {
          "output_type": "execute_result",
          "data": {
            "text/plain": [
              "1"
            ]
          },
          "metadata": {},
          "execution_count": 6
        }
      ]
    },
    {
      "cell_type": "code",
      "source": [
        "# Wiki Extraction\n",
        "# find ever wiki that has one of the values in the topic case. Then add values to a list to be read later\n",
        "\n",
        "nba_wiki = []\n",
        "for i in range(len(wiki_txt_links)):\n",
        "   data = urlopen(wiki_txt_links[i]) # it's a file like object and works just like a file\n",
        "   articles = [line.strip() for line in data] # files are iterable\n",
        "   for team in basketball_teams:\n",
        "      for topic in articles:\n",
        "        if team in str(topic):\n",
        "          pattern = r'\\xe2\\x80\\x93'\n",
        "          matches = re.findall(pattern, str(topic))\n",
        "          if not matches:\n",
        "            nba_wiki.append(str(topic)[2:-1])\n",
        "print (len(nba_wiki))"
      ],
      "metadata": {
        "colab": {
          "base_uri": "https://localhost:8080/"
        },
        "id": "3N26xMRAkooC",
        "outputId": "95cc28ac-4adc-4d81-e1db-2b6595870019"
      },
      "id": "3N26xMRAkooC",
      "execution_count": 9,
      "outputs": [
        {
          "output_type": "stream",
          "name": "stdout",
          "text": [
            "181\n"
          ]
        }
      ]
    },
    {
      "cell_type": "code",
      "source": [
        "nba_wiki"
      ],
      "metadata": {
        "colab": {
          "base_uri": "https://localhost:8080/"
        },
        "id": "_Zbdh-h0lC3P",
        "outputId": "5bd4a6a7-1198-4b0b-c94e-638b536d7b1e"
      },
      "id": "_Zbdh-h0lC3P",
      "execution_count": 10,
      "outputs": [
        {
          "output_type": "execute_result",
          "data": {
            "text/plain": [
              "['1978-79 Utah Jazz season',\n",
              " '1978\\\\xe2\\\\x80\\\\x9379 Utah Jazz season',\n",
              " '1979-80 Utah Jazz',\n",
              " '1979-80 Utah Jazz season',\n",
              " '1979\\\\xe2\\\\x80\\\\x9380 Utah Jazz',\n",
              " '1979\\\\xe2\\\\x80\\\\x9380 Utah Jazz season',\n",
              " '1980-81 Utah Jazz',\n",
              " '1980-81 Utah Jazz season',\n",
              " '1980\\\\xe2\\\\x80\\\\x9381 Utah Jazz',\n",
              " '1980\\\\xe2\\\\x80\\\\x9381 Utah Jazz season',\n",
              " '1981-82 Utah Jazz',\n",
              " '1981-82 Utah Jazz season',\n",
              " '1981\\\\xe2\\\\x80\\\\x9382 Utah Jazz',\n",
              " '1981\\\\xe2\\\\x80\\\\x9382 Utah Jazz season',\n",
              " '1982-83 Utah Jazz',\n",
              " '1982-83 Utah Jazz season',\n",
              " '1982\\\\xe2\\\\x80\\\\x9383 Utah Jazz',\n",
              " '1982\\\\xe2\\\\x80\\\\x9383 Utah Jazz season',\n",
              " '1983-84 Utah Jazz',\n",
              " '1983-84 Utah Jazz season',\n",
              " '1983\\\\xe2\\\\x80\\\\x9384 Utah Jazz',\n",
              " '1983\\\\xe2\\\\x80\\\\x9384 Utah Jazz season',\n",
              " '1984-85 Utah Jazz',\n",
              " '1984-85 Utah Jazz season',\n",
              " '1984\\\\xe2\\\\x80\\\\x9385 Utah Jazz',\n",
              " '1984\\\\xe2\\\\x80\\\\x9385 Utah Jazz season',\n",
              " '1985-86 Utah Jazz',\n",
              " '1985-86 Utah Jazz season',\n",
              " '1985\\\\xe2\\\\x80\\\\x9386 Utah Jazz',\n",
              " '1985\\\\xe2\\\\x80\\\\x9386 Utah Jazz season',\n",
              " '1986-87 Utah Jazz',\n",
              " '1986-87 Utah Jazz season',\n",
              " '1986\\\\xe2\\\\x80\\\\x9387 Utah Jazz',\n",
              " '1986\\\\xe2\\\\x80\\\\x9387 Utah Jazz season',\n",
              " '1987-88 Utah Jazz',\n",
              " '1987-88 Utah Jazz season',\n",
              " '1987\\\\xe2\\\\x80\\\\x9388 Utah Jazz',\n",
              " '1987\\\\xe2\\\\x80\\\\x9388 Utah Jazz season',\n",
              " '1988-89 Utah Jazz',\n",
              " '1988-89 Utah Jazz season',\n",
              " '1988\\\\xe2\\\\x80\\\\x9389 Utah Jazz',\n",
              " '1988\\\\xe2\\\\x80\\\\x9389 Utah Jazz season',\n",
              " '1989-90 Utah Jazz',\n",
              " '1989-90 Utah Jazz season',\n",
              " '1989\\\\xe2\\\\x80\\\\x9390 Utah Jazz',\n",
              " '1989\\\\xe2\\\\x80\\\\x9390 Utah Jazz season',\n",
              " '1990-91 Utah Jazz',\n",
              " '1990-91 Utah Jazz season',\n",
              " '1990\\\\xe2\\\\x80\\\\x9391 Utah Jazz',\n",
              " '1990\\\\xe2\\\\x80\\\\x9391 Utah Jazz season',\n",
              " '1991-92 Utah Jazz',\n",
              " '1991-92 Utah Jazz season',\n",
              " '1991\\\\xe2\\\\x80\\\\x9392 Utah Jazz',\n",
              " '1991\\\\xe2\\\\x80\\\\x9392 Utah Jazz season',\n",
              " '1992-93 Utah Jazz',\n",
              " '1992-93 Utah Jazz season',\n",
              " '1992\\\\xe2\\\\x80\\\\x9393 Utah Jazz',\n",
              " '1992\\\\xe2\\\\x80\\\\x9393 Utah Jazz season',\n",
              " '1993-94 Utah Jazz',\n",
              " '1993-94 Utah Jazz season',\n",
              " '1993\\\\xe2\\\\x80\\\\x9394 Utah Jazz',\n",
              " '1993\\\\xe2\\\\x80\\\\x9394 Utah Jazz season',\n",
              " '1994-95 Utah Jazz',\n",
              " '1994-95 Utah Jazz season',\n",
              " '1994\\\\xe2\\\\x80\\\\x9395 Utah Jazz',\n",
              " '1994\\\\xe2\\\\x80\\\\x9395 Utah Jazz season',\n",
              " '1995-96 Utah Jazz',\n",
              " '1995-96 Utah Jazz season',\n",
              " '1995\\\\xe2\\\\x80\\\\x9396 Utah Jazz',\n",
              " '1995\\\\xe2\\\\x80\\\\x9396 Utah Jazz season',\n",
              " '1996-97 Utah Jazz',\n",
              " '1996-97 Utah Jazz season',\n",
              " '1996\\\\xe2\\\\x80\\\\x9397 Utah Jazz',\n",
              " '1996\\\\xe2\\\\x80\\\\x9397 Utah Jazz season',\n",
              " '1997-98 Utah Jazz',\n",
              " '1997-98 Utah Jazz season',\n",
              " '1997\\\\xe2\\\\x80\\\\x9398 Utah Jazz',\n",
              " '1997\\\\xe2\\\\x80\\\\x9398 Utah Jazz season',\n",
              " '1998-99 Utah Jazz',\n",
              " '1998-99 Utah Jazz season',\n",
              " '1998\\\\xe2\\\\x80\\\\x9399 Utah Jazz',\n",
              " '1998\\\\xe2\\\\x80\\\\x9399 Utah Jazz season',\n",
              " '1999-00 Utah Jazz season',\n",
              " '1999-2000 Utah Jazz',\n",
              " '1999-2000 Utah Jazz season',\n",
              " '1999\\\\xe2\\\\x80\\\\x9300 Utah Jazz season',\n",
              " '1999\\\\xe2\\\\x80\\\\x932000 Utah Jazz',\n",
              " '1999\\\\xe2\\\\x80\\\\x932000 Utah Jazz season',\n",
              " '2000-01 Utah Jazz',\n",
              " '2000-01 Utah Jazz season',\n",
              " '2000\\\\xe2\\\\x80\\\\x9301 Utah Jazz',\n",
              " '2000\\\\xe2\\\\x80\\\\x9301 Utah Jazz season',\n",
              " '2001-02 Utah Jazz',\n",
              " '2001-02 Utah Jazz season',\n",
              " '2001\\\\xe2\\\\x80\\\\x9302 Utah Jazz',\n",
              " '2001\\\\xe2\\\\x80\\\\x9302 Utah Jazz season',\n",
              " '2002-03 Utah Jazz',\n",
              " '2002-03 Utah Jazz season',\n",
              " '2002\\\\xe2\\\\x80\\\\x9303 Utah Jazz',\n",
              " '2002\\\\xe2\\\\x80\\\\x9303 Utah Jazz season',\n",
              " '2003-04 Utah Jazz',\n",
              " '2003-04 Utah Jazz season',\n",
              " '2003\\\\xe2\\\\x80\\\\x9304 Utah Jazz',\n",
              " '2003\\\\xe2\\\\x80\\\\x9304 Utah Jazz season',\n",
              " '2004-05 Utah Jazz',\n",
              " '2004-05 Utah Jazz season',\n",
              " '2004\\\\xe2\\\\x80\\\\x9305 Utah Jazz',\n",
              " '2004\\\\xe2\\\\x80\\\\x9305 Utah Jazz season',\n",
              " '2005-06 Utah Jazz',\n",
              " '2005-06 Utah Jazz season',\n",
              " '2005\\\\xe2\\\\x80\\\\x9306 Utah Jazz',\n",
              " '2005\\\\xe2\\\\x80\\\\x9306 Utah Jazz season',\n",
              " '2006-07 Utah Jazz',\n",
              " '2006-07 Utah Jazz season',\n",
              " '2006\\\\xe2\\\\x80\\\\x9307 Utah Jazz',\n",
              " '2006\\\\xe2\\\\x80\\\\x9307 Utah Jazz season',\n",
              " '2007-08 Utah Jazz',\n",
              " '2007-08 Utah Jazz season',\n",
              " '2007\\\\xe2\\\\x80\\\\x9308 Utah Jazz',\n",
              " '2007\\\\xe2\\\\x80\\\\x9308 Utah Jazz season',\n",
              " '2008-09 Utah Jazz',\n",
              " '2008-09 Utah Jazz season',\n",
              " '2008\\\\xe2\\\\x80\\\\x9309 Utah Jazz',\n",
              " '2008\\\\xe2\\\\x80\\\\x9309 Utah Jazz season',\n",
              " '2009-10 Utah Jazz',\n",
              " '2009-10 Utah Jazz season',\n",
              " '2009\\\\xe2\\\\x80\\\\x9310 Utah Jazz',\n",
              " '2009\\\\xe2\\\\x80\\\\x9310 Utah Jazz season',\n",
              " '2010-11 Utah Jazz',\n",
              " '2010-11 Utah Jazz season',\n",
              " '2010\\\\xe2\\\\x80\\\\x9311 Utah Jazz',\n",
              " '2010\\\\xe2\\\\x80\\\\x9311 Utah Jazz season',\n",
              " '2011-12 Utah Jazz',\n",
              " '2011-12 Utah Jazz season',\n",
              " '2011\\\\xe2\\\\x80\\\\x9312 Utah Jazz',\n",
              " '2011\\\\xe2\\\\x80\\\\x9312 Utah Jazz season',\n",
              " '2012-13 Utah Jazz',\n",
              " '2012-13 Utah Jazz season',\n",
              " '2012\\\\xe2\\\\x80\\\\x9313 Utah Jazz',\n",
              " '2012\\\\xe2\\\\x80\\\\x9313 Utah Jazz season',\n",
              " '2013-14 Utah Jazz',\n",
              " '2013-14 Utah Jazz season',\n",
              " '2013\\\\xe2\\\\x80\\\\x9314 Utah Jazz',\n",
              " '2013\\\\xe2\\\\x80\\\\x9314 Utah Jazz season',\n",
              " '2014-15 Utah Jazz',\n",
              " '2014-15 Utah Jazz season',\n",
              " '2014\\\\xe2\\\\x80\\\\x9315 Utah Jazz',\n",
              " '2014\\\\xe2\\\\x80\\\\x9315 Utah Jazz season',\n",
              " '2015-16 Utah Jazz',\n",
              " '2015-16 Utah Jazz season',\n",
              " '2015\\\\xe2\\\\x80\\\\x9316 Utah Jazz',\n",
              " '2015\\\\xe2\\\\x80\\\\x9316 Utah Jazz season',\n",
              " '2016-17 Utah Jazz',\n",
              " '2016-17 Utah Jazz season',\n",
              " '2016\\\\xe2\\\\x80\\\\x9317 Utah Jazz',\n",
              " '2016\\\\xe2\\\\x80\\\\x9317 Utah Jazz season',\n",
              " '2017-18 Utah Jazz',\n",
              " '2017-18 Utah Jazz season',\n",
              " '2017\\\\xe2\\\\x80\\\\x9318 Utah Jazz',\n",
              " '2017\\\\xe2\\\\x80\\\\x9318 Utah Jazz season',\n",
              " '2018-19 Utah Jazz',\n",
              " '2018-19 Utah Jazz season',\n",
              " '2018\\\\xe2\\\\x80\\\\x9319 Utah Jazz',\n",
              " '2018\\\\xe2\\\\x80\\\\x9319 Utah Jazz season',\n",
              " '2019-20 Utah Jazz',\n",
              " '2019-20 Utah Jazz season',\n",
              " '2019\\\\xe2\\\\x80\\\\x9320 Utah Jazz',\n",
              " '2019\\\\xe2\\\\x80\\\\x9320 Utah Jazz season',\n",
              " '2020-21 Utah Jazz',\n",
              " '2020-21 Utah Jazz season',\n",
              " '2020\\\\xe2\\\\x80\\\\x9321 Utah Jazz',\n",
              " '2020\\\\xe2\\\\x80\\\\x9321 Utah Jazz season',\n",
              " '2021-22 Utah Jazz',\n",
              " '2021-22 Utah Jazz season',\n",
              " '2021\\\\xe2\\\\x80\\\\x9322 Utah Jazz',\n",
              " '2021\\\\xe2\\\\x80\\\\x9322 Utah Jazz season',\n",
              " '2022-23 Utah Jazz season',\n",
              " '2022\\\\xe2\\\\x80\\\\x9323 Utah Jazz season',\n",
              " '2023-24 Utah Jazz season',\n",
              " '2023\\\\xe2\\\\x80\\\\x9324 Utah Jazz season',\n",
              " 'Houston Rockets-Utah Jazz rivalry']"
            ]
          },
          "metadata": {},
          "execution_count": 10
        }
      ]
    },
    {
      "cell_type": "code",
      "source": [
        "nba_wiki_ = set()\n",
        "for i in range(len(nba_wiki)):\n",
        "  try:\n",
        "    if nba_wiki[i] in nba_wiki[i+1]:\n",
        "      nba_wiki_.add(nba_wiki[i+1])\n",
        "    else:\n",
        "      nba_wiki_.add(nba_wiki(i))\n",
        "  except:\n",
        "    nba_wiki_.add(nba_wiki[i])\n",
        "nba_wiki_ = list(nba_wiki_)\n",
        "print (len(nba_wiki_))"
      ],
      "metadata": {
        "colab": {
          "base_uri": "https://localhost:8080/"
        },
        "id": "iUgytkDklLu0",
        "outputId": "e5b6173a-ac33-4363-d7cc-ee1f63419bfe"
      },
      "id": "iUgytkDklLu0",
      "execution_count": 11,
      "outputs": [
        {
          "output_type": "stream",
          "name": "stdout",
          "text": [
            "95\n"
          ]
        }
      ]
    },
    {
      "cell_type": "code",
      "source": [
        "sorted(nba_wiki_)"
      ],
      "metadata": {
        "colab": {
          "base_uri": "https://localhost:8080/"
        },
        "id": "vGV9pV0plMYh",
        "outputId": "9f532850-1183-432f-ba6f-52585d62584f"
      },
      "id": "vGV9pV0plMYh",
      "execution_count": 12,
      "outputs": [
        {
          "output_type": "execute_result",
          "data": {
            "text/plain": [
              "['1978-79 Utah Jazz season',\n",
              " '1978\\\\xe2\\\\x80\\\\x9379 Utah Jazz season',\n",
              " '1979-80 Utah Jazz season',\n",
              " '1979\\\\xe2\\\\x80\\\\x9380 Utah Jazz season',\n",
              " '1980-81 Utah Jazz season',\n",
              " '1980\\\\xe2\\\\x80\\\\x9381 Utah Jazz season',\n",
              " '1981-82 Utah Jazz season',\n",
              " '1981\\\\xe2\\\\x80\\\\x9382 Utah Jazz season',\n",
              " '1982-83 Utah Jazz season',\n",
              " '1982\\\\xe2\\\\x80\\\\x9383 Utah Jazz season',\n",
              " '1983-84 Utah Jazz season',\n",
              " '1983\\\\xe2\\\\x80\\\\x9384 Utah Jazz season',\n",
              " '1984-85 Utah Jazz season',\n",
              " '1984\\\\xe2\\\\x80\\\\x9385 Utah Jazz season',\n",
              " '1985-86 Utah Jazz season',\n",
              " '1985\\\\xe2\\\\x80\\\\x9386 Utah Jazz season',\n",
              " '1986-87 Utah Jazz season',\n",
              " '1986\\\\xe2\\\\x80\\\\x9387 Utah Jazz season',\n",
              " '1987-88 Utah Jazz season',\n",
              " '1987\\\\xe2\\\\x80\\\\x9388 Utah Jazz season',\n",
              " '1988-89 Utah Jazz season',\n",
              " '1988\\\\xe2\\\\x80\\\\x9389 Utah Jazz season',\n",
              " '1989-90 Utah Jazz season',\n",
              " '1989\\\\xe2\\\\x80\\\\x9390 Utah Jazz season',\n",
              " '1990-91 Utah Jazz season',\n",
              " '1990\\\\xe2\\\\x80\\\\x9391 Utah Jazz season',\n",
              " '1991-92 Utah Jazz season',\n",
              " '1991\\\\xe2\\\\x80\\\\x9392 Utah Jazz season',\n",
              " '1992-93 Utah Jazz season',\n",
              " '1992\\\\xe2\\\\x80\\\\x9393 Utah Jazz season',\n",
              " '1993-94 Utah Jazz season',\n",
              " '1993\\\\xe2\\\\x80\\\\x9394 Utah Jazz season',\n",
              " '1994-95 Utah Jazz season',\n",
              " '1994\\\\xe2\\\\x80\\\\x9395 Utah Jazz season',\n",
              " '1995-96 Utah Jazz season',\n",
              " '1995\\\\xe2\\\\x80\\\\x9396 Utah Jazz season',\n",
              " '1996-97 Utah Jazz season',\n",
              " '1996\\\\xe2\\\\x80\\\\x9397 Utah Jazz season',\n",
              " '1997-98 Utah Jazz season',\n",
              " '1997\\\\xe2\\\\x80\\\\x9398 Utah Jazz season',\n",
              " '1998-99 Utah Jazz season',\n",
              " '1998\\\\xe2\\\\x80\\\\x9399 Utah Jazz season',\n",
              " '1999-00 Utah Jazz season',\n",
              " '1999-2000 Utah Jazz season',\n",
              " '1999\\\\xe2\\\\x80\\\\x9300 Utah Jazz season',\n",
              " '1999\\\\xe2\\\\x80\\\\x932000 Utah Jazz season',\n",
              " '2000-01 Utah Jazz season',\n",
              " '2000\\\\xe2\\\\x80\\\\x9301 Utah Jazz season',\n",
              " '2001-02 Utah Jazz season',\n",
              " '2001\\\\xe2\\\\x80\\\\x9302 Utah Jazz season',\n",
              " '2002-03 Utah Jazz season',\n",
              " '2002\\\\xe2\\\\x80\\\\x9303 Utah Jazz season',\n",
              " '2003-04 Utah Jazz season',\n",
              " '2003\\\\xe2\\\\x80\\\\x9304 Utah Jazz season',\n",
              " '2004-05 Utah Jazz season',\n",
              " '2004\\\\xe2\\\\x80\\\\x9305 Utah Jazz season',\n",
              " '2005-06 Utah Jazz season',\n",
              " '2005\\\\xe2\\\\x80\\\\x9306 Utah Jazz season',\n",
              " '2006-07 Utah Jazz season',\n",
              " '2006\\\\xe2\\\\x80\\\\x9307 Utah Jazz season',\n",
              " '2007-08 Utah Jazz season',\n",
              " '2007\\\\xe2\\\\x80\\\\x9308 Utah Jazz season',\n",
              " '2008-09 Utah Jazz season',\n",
              " '2008\\\\xe2\\\\x80\\\\x9309 Utah Jazz season',\n",
              " '2009-10 Utah Jazz season',\n",
              " '2009\\\\xe2\\\\x80\\\\x9310 Utah Jazz season',\n",
              " '2010-11 Utah Jazz season',\n",
              " '2010\\\\xe2\\\\x80\\\\x9311 Utah Jazz season',\n",
              " '2011-12 Utah Jazz season',\n",
              " '2011\\\\xe2\\\\x80\\\\x9312 Utah Jazz season',\n",
              " '2012-13 Utah Jazz season',\n",
              " '2012\\\\xe2\\\\x80\\\\x9313 Utah Jazz season',\n",
              " '2013-14 Utah Jazz season',\n",
              " '2013\\\\xe2\\\\x80\\\\x9314 Utah Jazz season',\n",
              " '2014-15 Utah Jazz season',\n",
              " '2014\\\\xe2\\\\x80\\\\x9315 Utah Jazz season',\n",
              " '2015-16 Utah Jazz season',\n",
              " '2015\\\\xe2\\\\x80\\\\x9316 Utah Jazz season',\n",
              " '2016-17 Utah Jazz season',\n",
              " '2016\\\\xe2\\\\x80\\\\x9317 Utah Jazz season',\n",
              " '2017-18 Utah Jazz season',\n",
              " '2017\\\\xe2\\\\x80\\\\x9318 Utah Jazz season',\n",
              " '2018-19 Utah Jazz season',\n",
              " '2018\\\\xe2\\\\x80\\\\x9319 Utah Jazz season',\n",
              " '2019-20 Utah Jazz season',\n",
              " '2019\\\\xe2\\\\x80\\\\x9320 Utah Jazz season',\n",
              " '2020-21 Utah Jazz season',\n",
              " '2020\\\\xe2\\\\x80\\\\x9321 Utah Jazz season',\n",
              " '2021-22 Utah Jazz season',\n",
              " '2021\\\\xe2\\\\x80\\\\x9322 Utah Jazz season',\n",
              " '2022-23 Utah Jazz season',\n",
              " '2022\\\\xe2\\\\x80\\\\x9323 Utah Jazz season',\n",
              " '2023-24 Utah Jazz season',\n",
              " '2023\\\\xe2\\\\x80\\\\x9324 Utah Jazz season',\n",
              " 'Houston Rockets-Utah Jazz rivalry']"
            ]
          },
          "metadata": {},
          "execution_count": 12
        }
      ]
    },
    {
      "cell_type": "code",
      "source": [
        "# remove duplicates\n",
        "to_remove = ['(football)','(NHL)', '(AFL)', '(hockey)', '(AFL, 1926)', '(American football)', '(WFL)', '(UHL)']\n",
        "for line in nba_wiki_:\n",
        "  for item in to_remove:\n",
        "    if item in line:\n",
        "      print (line)\n",
        "      nba_wiki_.remove(line)\n",
        "print (len(nba_wiki_))\n"
      ],
      "metadata": {
        "colab": {
          "base_uri": "https://localhost:8080/"
        },
        "id": "7HFJcVIfl1Zl",
        "outputId": "674f1024-0e09-4c4b-9c26-899315da48d4"
      },
      "id": "7HFJcVIfl1Zl",
      "execution_count": 14,
      "outputs": [
        {
          "output_type": "stream",
          "name": "stdout",
          "text": [
            "95\n"
          ]
        }
      ]
    },
    {
      "cell_type": "code",
      "source": [
        "#load data function. The function is reliant on a number of table finder functions that have also been assigned below as draft picks and roster.\n",
        "# The functions find specific table values within the pagent context using Beautiful Soup then output a dictionary from a working dataframe which is then stored within the results dictionary and usable sub topic storage for JSON.\n",
        "\n",
        "#test\n",
        "#articles = ['1968–69 Atlanta Hawks season','1968–69_Chicago_Bulls_season']\n",
        "\n",
        "\n",
        "#WIKIPEDIA PULL\n",
        "def load_data( pages: List[str], lang: str = \"en\", **load_kwargs: Any):\n",
        "    results = []\n",
        "    for page in pages:\n",
        "        wikipedia.set_lang(lang)\n",
        "        try:\n",
        "          page_content = wikipedia.page(page, **load_kwargs).content\n",
        "          summary = page_content\n",
        "          matches = re.findall(r'==\\s(.*?)\\s==', summary)\n",
        "\n",
        "          if 'Draft picks' in matches:\n",
        "              draftpick = draft_picks(page)\n",
        "          else:\n",
        "              draftpick = ''\n",
        "          if 'Roster' in matches:\n",
        "              team_roster = roster(page)\n",
        "              pull.append(page)\n",
        "          else:\n",
        "              team_roster = ['','']\n",
        "\n",
        "          data = {page: {\"summary\": summary, \"Draft Pick\": draftpick, \"Coach\": team_roster[0], \"Roster\": team_roster[1]}}\n",
        "          results.append(data)\n",
        "        except:\n",
        "          pass\n",
        "\n",
        "    return results\n",
        "\n",
        "#Tables = re.findall(r\"\\n== (.*?) ==\\n\", summary[0])\n",
        "#print (Tables)\n",
        "\n",
        "\n",
        "#################################################################################################\n",
        "\n",
        "\n",
        "def draft_picks(article):\n",
        "    url = requests.get(f'https://en.wikipedia.org/wiki/{article}').content\n",
        "    soup = BeautifulSoup(url, 'html.parser')\n",
        "    tables = []\n",
        "    for i in soup.find_all('table'):\n",
        "        tables.append(i)\n",
        "    for i in range(len(tables)):\n",
        "        try:\n",
        "          table_text = tables[i].text\n",
        "          table_text = table_text.split('\\n')\n",
        "\n",
        "          # find table columns\n",
        "          col_finder = ' '.join(table_text)\n",
        "          cols = col_finder.split('   ')\n",
        "          cols = cols[0].split(' ')\n",
        "\n",
        "          result_cols = []\n",
        "          for item in cols:\n",
        "              if item != '':\n",
        "                  result_cols.append(item)\n",
        "\n",
        "\n",
        "          #find table data\n",
        "          result = []\n",
        "          pattern = r\"(?<=\\xa0)\\w++\"\n",
        "          for record in table_text:\n",
        "              match = re.search(r\"\\xa0(.*)\", record)\n",
        "              if match:\n",
        "                  result.append(match.group(1))\n",
        "              else:\n",
        "                  if record != '':\n",
        "                      result.append(record)\n",
        "          result = result[len(result_cols):]\n",
        "          result = np.array(result)\n",
        "          shaper = (len(result_cols),int(result.shape[0]/len(result_cols)))\n",
        "\n",
        "          result = result.reshape(shaper[1],shaper[0])\n",
        "\n",
        "          df = pd.DataFrame(result, columns=result_cols)\n",
        "          dictionary = df.to_dict()\n",
        "          return dictionary\n",
        "        except:\n",
        "            pass\n",
        "    return \"could not find table\"\n",
        "\n",
        "\n",
        "def roster(article):\n",
        "    url = requests.get(f'https://en.wikipedia.org/wiki/{article}').content\n",
        "    soup = BeautifulSoup(url, 'html.parser')\n",
        "    tables = []\n",
        "    for i in soup.find_all('table'):\n",
        "        tables.append(i)\n",
        "\n",
        "    for i in range(len(tables)):\n",
        "        try:\n",
        "            table_text = tables[i].text\n",
        "            table_text = table_text.split('\\n')\n",
        "\n",
        "            # find table columns\n",
        "            col_finder = ' '.join(table_text)\n",
        "            cols = col_finder.split('   ')\n",
        "            cols = ' '.join(cols[1:4]).split(' ')\n",
        "\n",
        "            result_cols = []\n",
        "            for i in cols:\n",
        "                if i != '':\n",
        "                    result_cols.append(i)\n",
        "            result_cols = result_cols[2:7] + [' '.join(result_cols[7:9])] + result_cols[-1:]\n",
        "\n",
        "\n",
        "            #find table data\n",
        "            result = []\n",
        "            for record in table_text:\n",
        "                matches = re.findall(r'\\xa0', record)\n",
        "                if matches:\n",
        "                    result.append(record.replace('\\xa0',' '))\n",
        "                else:\n",
        "                    if record != '':\n",
        "                        result.append(record)\n",
        "            result = result[result.index('From') + 1:result.index('Head coach')]\n",
        "\n",
        "\n",
        "            #Head Coach\n",
        "\n",
        "\n",
        "            try:\n",
        "\n",
        "                shaper = (len(result_cols), int(len(result) / len(result_cols)))\n",
        "                n_result = np.array(result)\n",
        "                result = n_result.reshape(shaper[1], shaper[0])\n",
        "\n",
        "                df = pd.DataFrame(result, columns=result_cols)\n",
        "                roster_dictionary = df.to_dict()\n",
        "                coach = {table_text[table_text.index('Head coach'): table_text.index('Head coach') + 1][0]:\n",
        "                             table_text[table_text.index('Head coach') + 1: table_text.index('Head coach') + 2][0]}\n",
        "\n",
        "                return coach, roster_dictionary\n",
        "            except:\n",
        "                result_cols.remove('DOB (YYYY-MM-DD)')\n",
        "                result = np.array(result)\n",
        "                shaper = (len(result_cols), int(result.shape[0] / len(result_cols)))\n",
        "                result = result.reshape(shaper[1], shaper[0])\n",
        "\n",
        "                df = pd.DataFrame(result, columns=result_cols)\n",
        "                new_column = [None for i in range(len(df))]\n",
        "                position = df.columns.get_loc('Weight') + 1\n",
        "                df.insert(position, 'DOB (YYYY-MM-DD)', new_column)\n",
        "                roster_dictionary = df.to_dict()\n",
        "                coach = {table_text[table_text.index('Head coach'): table_text.index('Head coach') + 1][0]:\n",
        "                             table_text[table_text.index('Head coach') + 2: table_text.index('Head coach') + 3][0]}\n",
        "\n",
        "                return coach, roster_dictionary\n",
        "        except:\n",
        "            pass\n",
        "    return \"could not find table\""
      ],
      "metadata": {
        "id": "LX9U8xtkmU8W"
      },
      "id": "LX9U8xtkmU8W",
      "execution_count": 15,
      "outputs": []
    },
    {
      "cell_type": "code",
      "source": [
        "test_i = nba_wiki_.index(\"1996-97 Utah Jazz season\")\n",
        "test_i"
      ],
      "metadata": {
        "colab": {
          "base_uri": "https://localhost:8080/"
        },
        "id": "-jyOQuoRnY7e",
        "outputId": "250d7e0d-876f-4c0d-e933-d8d461e09a95"
      },
      "id": "-jyOQuoRnY7e",
      "execution_count": 16,
      "outputs": [
        {
          "output_type": "execute_result",
          "data": {
            "text/plain": [
              "34"
            ]
          },
          "metadata": {},
          "execution_count": 16
        }
      ]
    },
    {
      "cell_type": "code",
      "source": [
        "nba_wiki_[34]"
      ],
      "metadata": {
        "colab": {
          "base_uri": "https://localhost:8080/",
          "height": 36
        },
        "id": "E26B1PtgnnWm",
        "outputId": "a087350f-45f4-4549-af3a-9bd830aabfa5"
      },
      "id": "E26B1PtgnnWm",
      "execution_count": 17,
      "outputs": [
        {
          "output_type": "execute_result",
          "data": {
            "text/plain": [
              "'1996-97 Utah Jazz season'"
            ],
            "application/vnd.google.colaboratory.intrinsic+json": {
              "type": "string"
            }
          },
          "metadata": {},
          "execution_count": 17
        }
      ]
    },
    {
      "cell_type": "code",
      "source": [
        "draft_picks([nba_wiki_[34]])"
      ],
      "metadata": {
        "colab": {
          "base_uri": "https://localhost:8080/",
          "height": 36
        },
        "id": "_xinbMlentaY",
        "outputId": "1864244d-c285-47d7-989d-8ffeff357901"
      },
      "id": "_xinbMlentaY",
      "execution_count": 18,
      "outputs": [
        {
          "output_type": "execute_result",
          "data": {
            "text/plain": [
              "'could not find table'"
            ],
            "application/vnd.google.colaboratory.intrinsic+json": {
              "type": "string"
            }
          },
          "metadata": {},
          "execution_count": 18
        }
      ]
    },
    {
      "cell_type": "markdown",
      "source": [
        "### JSON\n",
        "\n",
        "Call the load function for every value previously extraced and write a JSON file"
      ],
      "metadata": {
        "id": "yH1uwnbUnzXL"
      },
      "id": "yH1uwnbUnzXL"
    },
    {
      "cell_type": "code",
      "source": [
        "len(nba_wiki_)"
      ],
      "metadata": {
        "colab": {
          "base_uri": "https://localhost:8080/"
        },
        "id": "M50Fx2lYny0Y",
        "outputId": "e7b30076-c093-4d80-acc1-710ff5e6501c"
      },
      "id": "M50Fx2lYny0Y",
      "execution_count": 19,
      "outputs": [
        {
          "output_type": "execute_result",
          "data": {
            "text/plain": [
              "95"
            ]
          },
          "metadata": {},
          "execution_count": 19
        }
      ]
    },
    {
      "cell_type": "code",
      "source": [
        "pull = []\n",
        "for value in load_data(pages=sorted(nba_wiki_)):\n",
        "    for key in value:\n",
        "      file_name = key.replace(\"-\",\" \")\n",
        "      file_name = file_name.replace(\" \",\"_\")\n",
        "      pull.append(file_name)\n",
        "      with open(f\"{file_name}.json\", \"w\") as file:\n",
        "        json.dump(value, file, indent=4)"
      ],
      "metadata": {
        "colab": {
          "base_uri": "https://localhost:8080/"
        },
        "id": "SEZdOkphoBD-",
        "outputId": "c13d2787-8455-4f50-b0c9-ae61b4918a53"
      },
      "id": "SEZdOkphoBD-",
      "execution_count": 20,
      "outputs": [
        {
          "output_type": "stream",
          "name": "stderr",
          "text": [
            "<ipython-input-15-e2cf4fec0076>:81: UserWarning: DataFrame columns are not unique, some columns will be omitted.\n",
            "  dictionary = df.to_dict()\n",
            "<ipython-input-15-e2cf4fec0076>:81: UserWarning: DataFrame columns are not unique, some columns will be omitted.\n",
            "  dictionary = df.to_dict()\n",
            "<ipython-input-15-e2cf4fec0076>:81: UserWarning: DataFrame columns are not unique, some columns will be omitted.\n",
            "  dictionary = df.to_dict()\n",
            "<ipython-input-15-e2cf4fec0076>:81: UserWarning: DataFrame columns are not unique, some columns will be omitted.\n",
            "  dictionary = df.to_dict()\n"
          ]
        }
      ]
    },
    {
      "cell_type": "code",
      "source": [
        "#files in content\n",
        "sorted(pull)"
      ],
      "metadata": {
        "colab": {
          "base_uri": "https://localhost:8080/"
        },
        "id": "G2lmhBr7oJTo",
        "outputId": "4ac3b2d8-19b9-4fdc-bdd0-a5e00847a69e"
      },
      "id": "G2lmhBr7oJTo",
      "execution_count": 21,
      "outputs": [
        {
          "output_type": "execute_result",
          "data": {
            "text/plain": [
              "['1978_79_Utah_Jazz_season',\n",
              " '1979-80 Utah Jazz season',\n",
              " '1979_80_Utah_Jazz_season',\n",
              " '1980-81 Utah Jazz season',\n",
              " '1980_81_Utah_Jazz_season',\n",
              " '1981-82 Utah Jazz season',\n",
              " '1981_82_Utah_Jazz_season',\n",
              " '1982-83 Utah Jazz season',\n",
              " '1982_83_Utah_Jazz_season',\n",
              " '1983-84 Utah Jazz season',\n",
              " '1983_84_Utah_Jazz_season',\n",
              " '1984-85 Utah Jazz season',\n",
              " '1984_85_Utah_Jazz_season',\n",
              " '1985-86 Utah Jazz season',\n",
              " '1985_86_Utah_Jazz_season',\n",
              " '1986-87 Utah Jazz season',\n",
              " '1986_87_Utah_Jazz_season',\n",
              " '1987-88 Utah Jazz season',\n",
              " '1987_88_Utah_Jazz_season',\n",
              " '1988-89 Utah Jazz season',\n",
              " '1988_89_Utah_Jazz_season',\n",
              " '1989-90 Utah Jazz season',\n",
              " '1989_90_Utah_Jazz_season',\n",
              " '1990-91 Utah Jazz season',\n",
              " '1990_91_Utah_Jazz_season',\n",
              " '1991-92 Utah Jazz season',\n",
              " '1991_92_Utah_Jazz_season',\n",
              " '1992-93 Utah Jazz season',\n",
              " '1992_93_Utah_Jazz_season',\n",
              " '1993-94 Utah Jazz season',\n",
              " '1993_94_Utah_Jazz_season',\n",
              " '1994-95 Utah Jazz season',\n",
              " '1994_95_Utah_Jazz_season',\n",
              " '1995-96 Utah Jazz season',\n",
              " '1995_96_Utah_Jazz_season',\n",
              " '1996-97 Utah Jazz season',\n",
              " '1996_97_Utah_Jazz_season',\n",
              " '1997-98 Utah Jazz season',\n",
              " '1997_98_Utah_Jazz_season',\n",
              " '1998-99 Utah Jazz season',\n",
              " '1998_99_Utah_Jazz_season',\n",
              " '1999-00 Utah Jazz season',\n",
              " '1999-2000 Utah Jazz season',\n",
              " '1999_00_Utah_Jazz_season',\n",
              " '1999_2000_Utah_Jazz_season',\n",
              " '2000-01 Utah Jazz season',\n",
              " '2000_01_Utah_Jazz_season',\n",
              " '2001-02 Utah Jazz season',\n",
              " '2001_02_Utah_Jazz_season',\n",
              " '2002-03 Utah Jazz season',\n",
              " '2002_03_Utah_Jazz_season',\n",
              " '2003-04 Utah Jazz season',\n",
              " '2003_04_Utah_Jazz_season',\n",
              " '2004-05 Utah Jazz season',\n",
              " '2004_05_Utah_Jazz_season',\n",
              " '2005-06 Utah Jazz season',\n",
              " '2005_06_Utah_Jazz_season',\n",
              " '2006-07 Utah Jazz season',\n",
              " '2006_07_Utah_Jazz_season',\n",
              " '2007-08 Utah Jazz season',\n",
              " '2007_08_Utah_Jazz_season',\n",
              " '2008-09 Utah Jazz season',\n",
              " '2008_09_Utah_Jazz_season',\n",
              " '2009-10 Utah Jazz season',\n",
              " '2009_10_Utah_Jazz_season',\n",
              " '2010-11 Utah Jazz season',\n",
              " '2010_11_Utah_Jazz_season',\n",
              " '2011-12 Utah Jazz season',\n",
              " '2011_12_Utah_Jazz_season',\n",
              " '2012-13 Utah Jazz season',\n",
              " '2012_13_Utah_Jazz_season',\n",
              " '2013-14 Utah Jazz season',\n",
              " '2013_14_Utah_Jazz_season',\n",
              " '2014-15 Utah Jazz season',\n",
              " '2014_15_Utah_Jazz_season',\n",
              " '2015-16 Utah Jazz season',\n",
              " '2015_16_Utah_Jazz_season',\n",
              " '2016-17 Utah Jazz season',\n",
              " '2016_17_Utah_Jazz_season',\n",
              " '2017-18 Utah Jazz season',\n",
              " '2017_18_Utah_Jazz_season',\n",
              " '2018-19 Utah Jazz season',\n",
              " '2018_19_Utah_Jazz_season',\n",
              " '2019-20 Utah Jazz season',\n",
              " '2019_20_Utah_Jazz_season',\n",
              " '2020-21 Utah Jazz season',\n",
              " '2020_21_Utah_Jazz_season',\n",
              " '2021-22 Utah Jazz season',\n",
              " '2021_22_Utah_Jazz_season',\n",
              " '2022-23 Utah Jazz season',\n",
              " '2022_23_Utah_Jazz_season',\n",
              " '2023-24 Utah Jazz season',\n",
              " '2023_24_Utah_Jazz_season',\n",
              " 'Houston_Rockets_Utah_Jazz_rivalry']"
            ]
          },
          "metadata": {},
          "execution_count": 21
        }
      ]
    },
    {
      "cell_type": "code",
      "source": [
        "print (len(pull))\n",
        "print(len(nba_wiki_))"
      ],
      "metadata": {
        "colab": {
          "base_uri": "https://localhost:8080/"
        },
        "id": "vzgAuBVpoMAN",
        "outputId": "15cf20fe-f217-4eae-e7b7-929615489fd8"
      },
      "id": "vzgAuBVpoMAN",
      "execution_count": 22,
      "outputs": [
        {
          "output_type": "stream",
          "name": "stdout",
          "text": [
            "94\n",
            "95\n"
          ]
        }
      ]
    },
    {
      "cell_type": "markdown",
      "source": [
        "### Load JSON files into Llama Index"
      ],
      "metadata": {
        "id": "6FnN5jY2owdy"
      },
      "id": "6FnN5jY2owdy"
    },
    {
      "cell_type": "markdown",
      "source": [
        "single document test case"
      ],
      "metadata": {
        "id": "q-gR9tYoo19u"
      },
      "id": "q-gR9tYoo19u"
    },
    {
      "cell_type": "code",
      "source": [
        "print (os.listdir())\n",
        "print (len(os.listdir()))"
      ],
      "metadata": {
        "colab": {
          "base_uri": "https://localhost:8080/"
        },
        "id": "ZF5bL7cFovWQ",
        "outputId": "82cb8b75-cc86-4bef-97d8-0367a0ac4eb1"
      },
      "id": "ZF5bL7cFovWQ",
      "execution_count": 23,
      "outputs": [
        {
          "output_type": "stream",
          "name": "stdout",
          "text": [
            "['.config', '2006_07_Utah_Jazz_season.json', '1979_80_Utah_Jazz_season.json', '2014_15_Utah_Jazz_season.json', '1980_81_Utah_Jazz_season.json', '1999_2000_Utah_Jazz_season.json', '1986_87_Utah_Jazz_season.json', '2008_09_Utah_Jazz_season.json', '2019_20_Utah_Jazz_season.json', '1984_85_Utah_Jazz_season.json', '2012_13_Utah_Jazz_season.json', '1987_88_Utah_Jazz_season.json', '2018_19_Utah_Jazz_season.json', '2001_02_Utah_Jazz_season.json', '2021_22_Utah_Jazz_season.json', '2000_01_Utah_Jazz_season.json', '2017_18_Utah_Jazz_season.json', '1994_95_Utah_Jazz_season.json', '1982_83_Utah_Jazz_season.json', '2023_24_Utah_Jazz_season.json', '1988_89_Utah_Jazz_season.json', '2002_03_Utah_Jazz_season.json', '1989_90_Utah_Jazz_season.json', '2005_06_Utah_Jazz_season.json', '1996_97_Utah_Jazz_season.json', '1999_00_Utah_Jazz_season.json', '1995_96_Utah_Jazz_season.json', '2022_23_Utah_Jazz_season.json', '1990_91_Utah_Jazz_season.json', '2003_04_Utah_Jazz_season.json', '2016_17_Utah_Jazz_season.json', '2007_08_Utah_Jazz_season.json', '1978_79_Utah_Jazz_season.json', '1985_86_Utah_Jazz_season.json', '1997_98_Utah_Jazz_season.json', '2020_21_Utah_Jazz_season.json', '2015_16_Utah_Jazz_season.json', '2009_10_Utah_Jazz_season.json', '2004_05_Utah_Jazz_season.json', '2013_14_Utah_Jazz_season.json', '2010_11_Utah_Jazz_season.json', '1998_99_Utah_Jazz_season.json', 'Houston_Rockets_Utah_Jazz_rivalry.json', '1981_82_Utah_Jazz_season.json', '1991_92_Utah_Jazz_season.json', '1992_93_Utah_Jazz_season.json', '2011_12_Utah_Jazz_season.json', '1983_84_Utah_Jazz_season.json', '1993_94_Utah_Jazz_season.json', 'sample_data']\n",
            "50\n"
          ]
        }
      ]
    },
    {
      "cell_type": "code",
      "source": [
        "p =os.listdir()[1:-1]"
      ],
      "metadata": {
        "id": "E8e-mxldo8ub"
      },
      "id": "E8e-mxldo8ub",
      "execution_count": 24,
      "outputs": []
    },
    {
      "cell_type": "code",
      "source": [
        "file_path = \"/content/\""
      ],
      "metadata": {
        "id": "tvGV6g6Zo_E2"
      },
      "id": "tvGV6g6Zo_E2",
      "execution_count": 25,
      "outputs": []
    },
    {
      "cell_type": "code",
      "source": [
        "pull_ = set(i for i in pull)\n",
        "pull"
      ],
      "metadata": {
        "colab": {
          "base_uri": "https://localhost:8080/"
        },
        "id": "zc4UUE3SpAHN",
        "outputId": "4170dfa5-a558-4b67-b931-1672ee28d879"
      },
      "id": "zc4UUE3SpAHN",
      "execution_count": 26,
      "outputs": [
        {
          "output_type": "execute_result",
          "data": {
            "text/plain": [
              "['1979-80 Utah Jazz season',\n",
              " '1980-81 Utah Jazz season',\n",
              " '1981-82 Utah Jazz season',\n",
              " '1982-83 Utah Jazz season',\n",
              " '1983-84 Utah Jazz season',\n",
              " '1984-85 Utah Jazz season',\n",
              " '1985-86 Utah Jazz season',\n",
              " '1986-87 Utah Jazz season',\n",
              " '1987-88 Utah Jazz season',\n",
              " '1988-89 Utah Jazz season',\n",
              " '1989-90 Utah Jazz season',\n",
              " '1990-91 Utah Jazz season',\n",
              " '1991-92 Utah Jazz season',\n",
              " '1992-93 Utah Jazz season',\n",
              " '1993-94 Utah Jazz season',\n",
              " '1994-95 Utah Jazz season',\n",
              " '1995-96 Utah Jazz season',\n",
              " '1996-97 Utah Jazz season',\n",
              " '1997-98 Utah Jazz season',\n",
              " '1998-99 Utah Jazz season',\n",
              " '1999-00 Utah Jazz season',\n",
              " '1999-2000 Utah Jazz season',\n",
              " '2000-01 Utah Jazz season',\n",
              " '2001-02 Utah Jazz season',\n",
              " '2002-03 Utah Jazz season',\n",
              " '2003-04 Utah Jazz season',\n",
              " '2004-05 Utah Jazz season',\n",
              " '2005-06 Utah Jazz season',\n",
              " '2006-07 Utah Jazz season',\n",
              " '2007-08 Utah Jazz season',\n",
              " '2008-09 Utah Jazz season',\n",
              " '2009-10 Utah Jazz season',\n",
              " '2010-11 Utah Jazz season',\n",
              " '2011-12 Utah Jazz season',\n",
              " '2012-13 Utah Jazz season',\n",
              " '2013-14 Utah Jazz season',\n",
              " '2014-15 Utah Jazz season',\n",
              " '2015-16 Utah Jazz season',\n",
              " '2016-17 Utah Jazz season',\n",
              " '2017-18 Utah Jazz season',\n",
              " '2018-19 Utah Jazz season',\n",
              " '2019-20 Utah Jazz season',\n",
              " '2020-21 Utah Jazz season',\n",
              " '2021-22 Utah Jazz season',\n",
              " '2022-23 Utah Jazz season',\n",
              " '2023-24 Utah Jazz season',\n",
              " '1978_79_Utah_Jazz_season',\n",
              " '1979_80_Utah_Jazz_season',\n",
              " '1980_81_Utah_Jazz_season',\n",
              " '1981_82_Utah_Jazz_season',\n",
              " '1982_83_Utah_Jazz_season',\n",
              " '1983_84_Utah_Jazz_season',\n",
              " '1984_85_Utah_Jazz_season',\n",
              " '1985_86_Utah_Jazz_season',\n",
              " '1986_87_Utah_Jazz_season',\n",
              " '1987_88_Utah_Jazz_season',\n",
              " '1988_89_Utah_Jazz_season',\n",
              " '1989_90_Utah_Jazz_season',\n",
              " '1990_91_Utah_Jazz_season',\n",
              " '1991_92_Utah_Jazz_season',\n",
              " '1992_93_Utah_Jazz_season',\n",
              " '1993_94_Utah_Jazz_season',\n",
              " '1994_95_Utah_Jazz_season',\n",
              " '1995_96_Utah_Jazz_season',\n",
              " '1996_97_Utah_Jazz_season',\n",
              " '1997_98_Utah_Jazz_season',\n",
              " '1998_99_Utah_Jazz_season',\n",
              " '1999_00_Utah_Jazz_season',\n",
              " '1999_2000_Utah_Jazz_season',\n",
              " '2000_01_Utah_Jazz_season',\n",
              " '2001_02_Utah_Jazz_season',\n",
              " '2002_03_Utah_Jazz_season',\n",
              " '2003_04_Utah_Jazz_season',\n",
              " '2004_05_Utah_Jazz_season',\n",
              " '2005_06_Utah_Jazz_season',\n",
              " '2006_07_Utah_Jazz_season',\n",
              " '2007_08_Utah_Jazz_season',\n",
              " '2008_09_Utah_Jazz_season',\n",
              " '2009_10_Utah_Jazz_season',\n",
              " '2010_11_Utah_Jazz_season',\n",
              " '2011_12_Utah_Jazz_season',\n",
              " '2012_13_Utah_Jazz_season',\n",
              " '2013_14_Utah_Jazz_season',\n",
              " '2014_15_Utah_Jazz_season',\n",
              " '2015_16_Utah_Jazz_season',\n",
              " '2016_17_Utah_Jazz_season',\n",
              " '2017_18_Utah_Jazz_season',\n",
              " '2018_19_Utah_Jazz_season',\n",
              " '2019_20_Utah_Jazz_season',\n",
              " '2020_21_Utah_Jazz_season',\n",
              " '2021_22_Utah_Jazz_season',\n",
              " '2022_23_Utah_Jazz_season',\n",
              " '2023_24_Utah_Jazz_season',\n",
              " 'Houston_Rockets_Utah_Jazz_rivalry']"
            ]
          },
          "metadata": {},
          "execution_count": 26
        }
      ]
    },
    {
      "cell_type": "code",
      "source": [
        "paths = []\n",
        "for i in pull:\n",
        "  i = i.replace(\"-\", \" \")\n",
        "  i = i.replace(\" \",(\"_\"))\n",
        "  paths.append(file_path +i+\".json\")"
      ],
      "metadata": {
        "id": "i5fBnm0GpFCg"
      },
      "id": "i5fBnm0GpFCg",
      "execution_count": 27,
      "outputs": []
    },
    {
      "cell_type": "code",
      "source": [
        "print(paths[0:2])"
      ],
      "metadata": {
        "colab": {
          "base_uri": "https://localhost:8080/"
        },
        "id": "PXuXfw47pFis",
        "outputId": "77fde33b-743b-4be7-a745-97d8c02fbe1e"
      },
      "id": "PXuXfw47pFis",
      "execution_count": 28,
      "outputs": [
        {
          "output_type": "stream",
          "name": "stdout",
          "text": [
            "['/content/1979_80_Utah_Jazz_season.json', '/content/1980_81_Utah_Jazz_season.json']\n"
          ]
        }
      ]
    },
    {
      "cell_type": "code",
      "source": [
        "from pathlib import Path\n",
        "from llama_index import download_loader\n",
        "\n",
        "JSONReader = download_loader(\"JSONReader\")\n",
        "\n",
        "loader = JSONReader()\n",
        ""
      ],
      "metadata": {
        "id": "EoS0vk2XpKUK"
      },
      "id": "EoS0vk2XpKUK",
      "execution_count": 29,
      "outputs": []
    },
    {
      "cell_type": "code",
      "source": [
        "paths[0]"
      ],
      "metadata": {
        "colab": {
          "base_uri": "https://localhost:8080/",
          "height": 36
        },
        "id": "BzDDYOcDpMpf",
        "outputId": "f61a2b0d-f283-4ef9-d1ce-15d85bb9fea4"
      },
      "id": "BzDDYOcDpMpf",
      "execution_count": 30,
      "outputs": [
        {
          "output_type": "execute_result",
          "data": {
            "text/plain": [
              "'/content/1979_80_Utah_Jazz_season.json'"
            ],
            "application/vnd.google.colaboratory.intrinsic+json": {
              "type": "string"
            }
          },
          "metadata": {},
          "execution_count": 30
        }
      ]
    },
    {
      "cell_type": "code",
      "source": [
        "document = loader.load_data(Path(paths[34]))"
      ],
      "metadata": {
        "id": "4D4blLH5pO81"
      },
      "id": "4D4blLH5pO81",
      "execution_count": 31,
      "outputs": []
    },
    {
      "cell_type": "code",
      "source": [
        "#example of what the fully working JSON file should look like\n",
        "document"
      ],
      "metadata": {
        "colab": {
          "base_uri": "https://localhost:8080/"
        },
        "id": "nbzz5DvqpRyP",
        "outputId": "c7ff190e-49e8-4a72-ef9c-14d8421b5943"
      },
      "id": "nbzz5DvqpRyP",
      "execution_count": 32,
      "outputs": [
        {
          "output_type": "execute_result",
          "data": {
            "text/plain": [
              "[Document(id_='4898a81a-f9b3-4f10-a0cf-eefcfb835256', embedding=None, metadata={}, excluded_embed_metadata_keys=[], excluded_llm_metadata_keys=[], relationships={}, hash='9e0f2005d6d0055513f2afaa90a54f1d67af02ad818cd33b2313a36dd8fd3c86', text='\"2012-13 Utah Jazz season\"', start_char_idx=None, end_char_idx=None, text_template='{metadata_str}\\n\\n{content}', metadata_template='{key}: {value}', metadata_seperator='\\n')]"
            ]
          },
          "metadata": {},
          "execution_count": 32
        }
      ]
    },
    {
      "cell_type": "code",
      "source": [
        "print('Document ID:', document[0].doc_id, 'Document Hash:', document[0].hash)"
      ],
      "metadata": {
        "colab": {
          "base_uri": "https://localhost:8080/"
        },
        "id": "sdkVP5ZQpsE1",
        "outputId": "03ce5908-2c6e-400b-ea49-5e8e028df366"
      },
      "id": "sdkVP5ZQpsE1",
      "execution_count": 34,
      "outputs": [
        {
          "output_type": "stream",
          "name": "stdout",
          "text": [
            "Document ID: 4898a81a-f9b3-4f10-a0cf-eefcfb835256 Document Hash: 9e0f2005d6d0055513f2afaa90a54f1d67af02ad818cd33b2313a36dd8fd3c86\n"
          ]
        }
      ]
    },
    {
      "cell_type": "markdown",
      "metadata": {
        "id": "VwW4wDdEeJgd"
      },
      "source": [
        "### Colab preamble completed\n",
        "\n",
        "## The following cells constitute the demo notebook proper."
      ],
      "id": "VwW4wDdEeJgd"
    },
    {
      "cell_type": "markdown",
      "id": "6715bc2b",
      "metadata": {
        "id": "6715bc2b"
      },
      "source": [
        "# LlamaIndex, Vector Store\n",
        "\n",
        "Create a Vector Store with LamaIndex and CassIO, and build a powerful search engine and text generator, backed by Astra DB / Apache Cassandra®."
      ]
    },
    {
      "cell_type": "markdown",
      "id": "2a0167d4-8d57-418c-a4cb-3358e7e18db6",
      "metadata": {
        "id": "2a0167d4-8d57-418c-a4cb-3358e7e18db6"
      },
      "source": [
        "### Table of contents:\n",
        "\n",
        "- Setup (database, LLM+embeddings)\n",
        "- Create Astra vector store\n",
        "- Insert documents in it\n",
        "- Test answering questions using a single doc with AStra Vector Search, CassIO and LlamaIndex\n",
        "- Use Gradio web interface to showcase Q&A across multiple docs\n",
        "- Cleanup (optional)"
      ]
    },
    {
      "cell_type": "markdown",
      "id": "761d9b70",
      "metadata": {
        "id": "761d9b70"
      },
      "source": [
        "_**NOTE:** this uses Cassandra's \"Vector Similarity Search\" capability.\n",
        "Make sure you are connecting to a vector-enabled database for this demo._"
      ]
    },
    {
      "cell_type": "markdown",
      "id": "582ca2f3-b7d0-4547-ab73-83c9e1e36d48",
      "metadata": {
        "id": "582ca2f3-b7d0-4547-ab73-83c9e1e36d48"
      },
      "source": [
        "## Setup"
      ]
    },
    {
      "cell_type": "code",
      "execution_count": 40,
      "id": "ea9b1235-6334-4ade-bc71-95c17fefbfe1",
      "metadata": {
        "id": "ea9b1235-6334-4ade-bc71-95c17fefbfe1"
      },
      "outputs": [],
      "source": [
        "from llama_index import VectorStoreIndex, SimpleDirectoryReader, StorageContext"
      ]
    },
    {
      "cell_type": "markdown",
      "id": "945efcf3-a3f1-4e27-a0e7-ed589340ec62",
      "metadata": {
        "id": "945efcf3-a3f1-4e27-a0e7-ed589340ec62"
      },
      "source": [
        "This is the LlamaIndex class providing support for Astra DB / Cassandra:"
      ]
    },
    {
      "cell_type": "code",
      "execution_count": 41,
      "id": "77a8f514-d932-4861-8868-71b243e95531",
      "metadata": {
        "id": "77a8f514-d932-4861-8868-71b243e95531"
      },
      "outputs": [],
      "source": [
        "from llama_index.vector_stores import CassandraVectorStore"
      ]
    },
    {
      "cell_type": "markdown",
      "id": "4a9314fc-3269-442a-839f-a8e663c61da0",
      "metadata": {
        "id": "4a9314fc-3269-442a-839f-a8e663c61da0"
      },
      "source": [
        "A database connection is needed to access Cassandra. The following assumes\n",
        "that a _vector-search-capable Astra DB instance_ is available. Adjust as needed."
      ]
    },
    {
      "cell_type": "code",
      "execution_count": 42,
      "id": "3e12e6e5-2239-4879-aa7a-3d867a303f1a",
      "metadata": {
        "id": "3e12e6e5-2239-4879-aa7a-3d867a303f1a",
        "colab": {
          "base_uri": "https://localhost:8080/"
        },
        "outputId": "95abfed8-6b88-4501-9ef3-ba0f828543ba"
      },
      "outputs": [
        {
          "output_type": "stream",
          "name": "stderr",
          "text": [
            "WARNING:cassandra.cluster:Downgrading core protocol version from 66 to 65 for a4c29bc6-b900-44c5-b980-584a0c4542b5-us-east1.db.astra.datastax.com:29042:7c9fc34c-2841-4389-b862-25badb95e6a3. To avoid this, it is best practice to explicitly set Cluster(protocol_version) to the version supported by your cluster. http://datastax.github.io/python-driver/api/cassandra/cluster.html#cassandra.cluster.Cluster.protocol_version\n",
            "WARNING:cassandra.cluster:Downgrading core protocol version from 65 to 5 for a4c29bc6-b900-44c5-b980-584a0c4542b5-us-east1.db.astra.datastax.com:29042:7c9fc34c-2841-4389-b862-25badb95e6a3. To avoid this, it is best practice to explicitly set Cluster(protocol_version) to the version supported by your cluster. http://datastax.github.io/python-driver/api/cassandra/cluster.html#cassandra.cluster.Cluster.protocol_version\n",
            "ERROR:cassandra.connection:Closing connection <AsyncoreConnection(134505198303840) a4c29bc6-b900-44c5-b980-584a0c4542b5-us-east1.db.astra.datastax.com:29042:7c9fc34c-2841-4389-b862-25badb95e6a3> due to protocol error: Error from server: code=000a [Protocol error] message=\"Beta version of the protocol used (5/v5-beta), but USE_BETA flag is unset\"\n",
            "WARNING:cassandra.cluster:Downgrading core protocol version from 5 to 4 for a4c29bc6-b900-44c5-b980-584a0c4542b5-us-east1.db.astra.datastax.com:29042:7c9fc34c-2841-4389-b862-25badb95e6a3. To avoid this, it is best practice to explicitly set Cluster(protocol_version) to the version supported by your cluster. http://datastax.github.io/python-driver/api/cassandra/cluster.html#cassandra.cluster.Cluster.protocol_version\n"
          ]
        }
      ],
      "source": [
        "# creation of the DB connection\n",
        "cqlMode = 'astra_db'\n",
        "session = getCQLSession(mode=cqlMode)\n",
        "keyspace = getCQLKeyspace(mode=cqlMode)"
      ]
    },
    {
      "cell_type": "markdown",
      "id": "385d2575-d621-4586-96bb-de4092e8624a",
      "metadata": {
        "id": "385d2575-d621-4586-96bb-de4092e8624a"
      },
      "source": [
        "Both an LLM and an embedding function are required.\n",
        "\n",
        "Below is the logic to instantiate the LLM and embeddings of choice. We chose to leave it in the notebooks for clarity."
      ]
    },
    {
      "cell_type": "code",
      "execution_count": 43,
      "id": "be891c7d-2aaf-452d-9310-605dbe8a0017",
      "metadata": {
        "id": "be891c7d-2aaf-452d-9310-605dbe8a0017",
        "outputId": "cb5c3bde-5a54-48dd-f8e0-4f54bde418f3",
        "colab": {
          "base_uri": "https://localhost:8080/"
        }
      },
      "outputs": [
        {
          "output_type": "stream",
          "name": "stdout",
          "text": [
            "LLM+embeddings from OpenAI\n",
            "Vector dimension for this embedding model: 1536\n"
          ]
        }
      ],
      "source": [
        "import os\n",
        "# creation of the LLM resources\n",
        "\n",
        "\n",
        "if llmProvider == 'OpenAI':\n",
        "    os.environ['OPENAI_API_TYPE'] = 'open_ai'\n",
        "    from llama_index.llms import OpenAI\n",
        "    from llama_index.embeddings import OpenAIEmbedding\n",
        "    llm = OpenAI(temperature=0)\n",
        "    myEmbedding = OpenAIEmbedding()\n",
        "    vector_dimension = 1536\n",
        "    print(\"LLM+embeddings from OpenAI\")\n",
        "elif llmProvider == 'GCP_VertexAI':\n",
        "    from llama_index import LangchainEmbedding\n",
        "    # LlamaIndex lets you plug any LangChain's LLM+embeddings:\n",
        "    from langchain.llms import VertexAI\n",
        "    from langchain.embeddings import VertexAIEmbeddings\n",
        "    llm = VertexAI()\n",
        "    lcEmbedding = VertexAIEmbeddings()\n",
        "    vector_dimension = len(lcEmbedding.embed_query(\"This is a sample sentence.\"))\n",
        "    # ... if you take care of wrapping the LangChain embedding like this:\n",
        "    myEmbedding = LangchainEmbedding(lcEmbedding)\n",
        "    print(\"LLM+embeddings from Vertex AI\")\n",
        "elif llmProvider == 'Azure_OpenAI':\n",
        "    os.environ['OPENAI_API_TYPE'] = 'azure'\n",
        "    os.environ['OPENAI_API_VERSION'] = os.environ['AZURE_OPENAI_API_VERSION']\n",
        "    os.environ['OPENAI_API_BASE'] = os.environ['AZURE_OPENAI_API_BASE']\n",
        "    os.environ['OPENAI_API_KEY'] = os.environ['AZURE_OPENAI_API_KEY']\n",
        "    from llama_index import LangchainEmbedding\n",
        "    # LlamaIndex lets you plug any LangChain's LLM+embeddings:\n",
        "    from langchain.llms import AzureOpenAI\n",
        "    from langchain.embeddings import OpenAIEmbeddings\n",
        "    llm = AzureOpenAI(temperature=0, model_name=os.environ['AZURE_OPENAI_LLM_MODEL'],\n",
        "                      engine=os.environ['AZURE_OPENAI_LLM_DEPLOYMENT'])\n",
        "    lcEmbedding = OpenAIEmbeddings(model=os.environ['AZURE_OPENAI_EMBEDDINGS_MODEL'],\n",
        "                                   deployment=os.environ['AZURE_OPENAI_EMBEDDINGS_DEPLOYMENT'])\n",
        "    vector_dimension = len(lcEmbedding.embed_query(\"This is a sample sentence.\"))\n",
        "    # ... if you take care of wrapping the LangChain embedding like this:\n",
        "    myEmbedding = LangchainEmbedding(lcEmbedding)\n",
        "    print('LLM+embeddings from Azure OpenAI')\n",
        "else:\n",
        "    raise ValueError('Unknown LLM provider.')\n",
        "\n",
        "print(f\"Vector dimension for this embedding model: {vector_dimension}\")"
      ]
    },
    {
      "cell_type": "markdown",
      "id": "f4b728fa-5da9-43c9-bf25-838051d8fe26",
      "metadata": {
        "id": "f4b728fa-5da9-43c9-bf25-838051d8fe26"
      },
      "source": [
        "The following cell ensures that throughout all of LlamaIndex the LLM and embedding function instantiated above will be used:"
      ]
    },
    {
      "cell_type": "code",
      "execution_count": 44,
      "id": "fe7caf30-24e9-4441-b131-91ee9bb71d00",
      "metadata": {
        "id": "fe7caf30-24e9-4441-b131-91ee9bb71d00",
        "colab": {
          "base_uri": "https://localhost:8080/"
        },
        "outputId": "ebdf5f81-22cb-494f-e093-2e9465d2e603"
      },
      "outputs": [
        {
          "output_type": "stream",
          "name": "stderr",
          "text": [
            "[nltk_data] Downloading package punkt to /tmp/llama_index...\n",
            "[nltk_data]   Unzipping tokenizers/punkt.zip.\n"
          ]
        }
      ],
      "source": [
        "from llama_index import ServiceContext\n",
        "from llama_index import set_global_service_context\n",
        "\n",
        "service_context = ServiceContext.from_defaults(\n",
        "    llm=llm,\n",
        "    embed_model=myEmbedding,\n",
        "    chunk_size=256,\n",
        ")\n",
        "set_global_service_context(service_context)"
      ]
    },
    {
      "cell_type": "markdown",
      "id": "d7716353-0a6f-48d1-a2da-ffdb84dc148b",
      "metadata": {
        "id": "d7716353-0a6f-48d1-a2da-ffdb84dc148b"
      },
      "source": [
        "## Create vector store"
      ]
    },
    {
      "cell_type": "code",
      "execution_count": 49,
      "id": "8af3c333-8e7f-41db-9c8b-318903de3ac5",
      "metadata": {
        "id": "8af3c333-8e7f-41db-9c8b-318903de3ac5"
      },
      "outputs": [],
      "source": [
        "table_name = 'vs_nba_ll_' + llmProvider"
      ]
    },
    {
      "cell_type": "markdown",
      "id": "0d695f72-d102-4dac-af03-9fb6497e5093",
      "metadata": {
        "id": "0d695f72-d102-4dac-af03-9fb6497e5093"
      },
      "source": [
        "In the LlamaIndex abstractions, the `CassandraVectorStore` instance is best wrapped into the creation of a \"storage context\", which you'll momentarily use to create the index proper:"
      ]
    },
    {
      "cell_type": "code",
      "execution_count": 50,
      "id": "157f1891-d637-468b-8c58-32eaa7c79184",
      "metadata": {
        "id": "157f1891-d637-468b-8c58-32eaa7c79184"
      },
      "outputs": [],
      "source": [
        "storage_context = StorageContext.from_defaults(\n",
        "    vector_store = CassandraVectorStore(\n",
        "        session=session,\n",
        "        keyspace=keyspace,\n",
        "        table=table_name,\n",
        "        embedding_dimension=vector_dimension,\n",
        "        insertion_batch_size=15,\n",
        "    )\n",
        ")"
      ]
    },
    {
      "cell_type": "markdown",
      "id": "776608ce-3bc4-4ad2-8e21-6a8b6cf15322",
      "metadata": {
        "id": "776608ce-3bc4-4ad2-8e21-6a8b6cf15322"
      },
      "source": [
        "## Insert documents into Astra"
      ]
    },
    {
      "cell_type": "code",
      "source": [
        "titles = pull"
      ],
      "metadata": {
        "id": "HpCFIaJ0rFuk"
      },
      "id": "HpCFIaJ0rFuk",
      "execution_count": 47,
      "outputs": []
    },
    {
      "cell_type": "code",
      "source": [
        "print(titles[0])\n",
        "print(len(titles))"
      ],
      "metadata": {
        "colab": {
          "base_uri": "https://localhost:8080/"
        },
        "id": "8z6kjk3prI_P",
        "outputId": "78d91923-b019-4b33-ee7f-3665aec9f00a"
      },
      "id": "8z6kjk3prI_P",
      "execution_count": 48,
      "outputs": [
        {
          "output_type": "stream",
          "name": "stdout",
          "text": [
            "1979-80 Utah Jazz season\n",
            "94\n"
          ]
        }
      ]
    },
    {
      "cell_type": "code",
      "source": [
        "from llama_index.storage.storage_context import StorageContext\n",
        "\n",
        "openai.api_key = apiSecret\n",
        "\n",
        "#if index_name not in pinecone.list_indexes():\n",
        " # pinecone.create_index(name=index_name, dimension=1536, metric=\"cosine\")\n",
        "  # pinecone.create_index(index_name, dimension=len(embeds[0]))\n",
        "# connect to index\n",
        "# index = pinecone.Index(index_name)\n",
        "# pinecone.create_index(name=index_name, dimension=1536, metric=\"cosine\")\n",
        "\n",
        "aa_indices = {}\n",
        "index_summaries = {}\n",
        "\n",
        "for astra_title, name in zip(titles, paths):\n",
        "    metadata_filters = {\"name\": name}\n",
        "    storage_context = StorageContext.from_defaults(\n",
        "      vector_store = CassandraVectorStore(\n",
        "        session=session,\n",
        "        keyspace=keyspace,\n",
        "        table=table_name,\n",
        "        embedding_dimension=vector_dimension,\n",
        "        insertion_batch_size=15,\n",
        "      )\n",
        "    )\n",
        "\n",
        "    #aa_docs = SimpleDirectoryReader(input_files=[i for i in paths]).load_data()\n",
        "\n",
        "\n",
        "    #try:\n",
        "    document = loader.load_data(Path(name))\n",
        "    aa_indices[name] = GPTVectorStoreIndex.from_documents(document, storage_context=storage_context)\n",
        "    aa_indices[name].index_struct.index_id = astra_title\n",
        "    #except:\n",
        "    #  pass\n",
        "\n",
        "    index_summaries[name] = f\"Wikipedia article about {name}\""
      ],
      "metadata": {
        "id": "K-BKC4S2rNaI"
      },
      "id": "K-BKC4S2rNaI",
      "execution_count": 52,
      "outputs": []
    },
    {
      "cell_type": "code",
      "source": [
        "from llama_index.indices.composability.graph import ComposableGraph\n",
        "\n",
        "graph = ComposableGraph.from_indices(\n",
        "    GPTSimpleKeywordTableIndex,\n",
        "    [index for _, index in aa_indices.items()],\n",
        "    [summary for _, summary in index_summaries.items()],\n",
        "    max_keywords_per_chunk=50\n",
        ")\n",
        "\n",
        "llm_predictor_chatgpt = LLMPredictor(\n",
        "    #llm=OpenAIChat(temperature=0, model_name=\"gpt-4\")\n",
        "    llm=OpenAIChat(temperature=0, model_name=\"gpt-3.5-turbo\")\n",
        ")\n",
        "service_context = ServiceContext.from_defaults(llm_predictor=llm_predictor_chatgpt)\n",
        "\n",
        "custom_query_engines = {\n",
        "    graph.root_id: graph.root_index.as_query_engine(retriever_mode='simple', service_context=service_context)\n",
        "}\n",
        "\n",
        "query_engine = graph.as_query_engine(custom_query_engines=custom_query_engines)\n",
        "\n",
        "query_str = \"Tell me more about the Utah Jazz\"\n",
        "response_chatgpt = query_engine.query(query_str)\n",
        "\n",
        "print(response_chatgpt)\n",
        "print(response_chatgpt.get_formatted_sources())"
      ],
      "metadata": {
        "colab": {
          "base_uri": "https://localhost:8080/"
        },
        "id": "lF1qN9nyvsWp",
        "outputId": "cd598499-300d-4935-dea0-68e849c3775d"
      },
      "id": "lF1qN9nyvsWp",
      "execution_count": 53,
      "outputs": [
        {
          "output_type": "stream",
          "name": "stdout",
          "text": [
            "None\n",
            "\n"
          ]
        },
        {
          "output_type": "stream",
          "name": "stderr",
          "text": [
            "[nltk_data] Downloading package stopwords to /tmp/llama_index...\n",
            "[nltk_data]   Unzipping corpora/stopwords.zip.\n",
            "/usr/local/lib/python3.10/dist-packages/langchain/llms/openai.py:786: UserWarning: You are trying to use a chat model. This way of initializing it is no longer supported. Instead, please use: `from langchain.chat_models import ChatOpenAI`\n",
            "  warnings.warn(\n"
          ]
        }
      ]
    },
    {
      "cell_type": "markdown",
      "source": [
        "## Answer questions"
      ],
      "metadata": {
        "id": "4N3C9PsL0yDI"
      },
      "id": "4N3C9PsL0yDI"
    },
    {
      "cell_type": "code",
      "source": [
        "query_str = \"Tell me more about the 1996_97_Utah_Jazz_season\"\n",
        "response_chatgpt = query_engine.query(query_str)\n",
        "\n",
        "if not response_chatgpt or not response_chatgpt.get_formatted_sources():\n",
        "    print(\"I am sorry, but your query is outside the boundaries of what I was trained on.\")\n",
        "else:\n",
        "    print(response_chatgpt)\n",
        "    print(response_chatgpt.get_formatted_sources())"
      ],
      "metadata": {
        "colab": {
          "base_uri": "https://localhost:8080/"
        },
        "id": "4SbfgHQazTTr",
        "outputId": "37600486-8eb6-432d-9883-36b4a2662398"
      },
      "id": "4SbfgHQazTTr",
      "execution_count": 63,
      "outputs": [
        {
          "output_type": "stream",
          "name": "stdout",
          "text": [
            "The 1996-97 Utah Jazz season was a significant season for the team.\n",
            "> Source (Doc id: 4a44e8af-eec4-46ff-b894-484d7c5ec146): The 1996-97 Utah Jazz season was a significant season for the team....\n",
            "\n",
            "> Source (Doc id: 17aebcbb-0093-4e06-b00b-1220d8eff22a): \"1996-97 Utah Jazz season\"...\n",
            "\n",
            "> Source (Doc id: 76a6762f-4337-4a77-9b46-beb08a4080eb): \"1996-97 Utah Jazz season\"...\n"
          ]
        }
      ]
    },
    {
      "cell_type": "code",
      "source": [
        "query_str = \"Tell me more about the 1996_97_Utah_Jazz_season Roster\"\n",
        "response_chatgpt = query_engine.query(query_str)\n",
        "\n",
        "if not response_chatgpt or not response_chatgpt.get_formatted_sources():\n",
        "    print(\"I am sorry, but your query is outside the boundaries of what I was trained on.\")\n",
        "else:\n",
        "    print(response_chatgpt)\n",
        "    print(response_chatgpt.get_formatted_sources())"
      ],
      "metadata": {
        "colab": {
          "base_uri": "https://localhost:8080/"
        },
        "id": "abkvU9pf0y3b",
        "outputId": "011caaef-367a-4a84-d505-921ebbcf7e1e"
      },
      "id": "abkvU9pf0y3b",
      "execution_count": 61,
      "outputs": [
        {
          "output_type": "stream",
          "name": "stdout",
          "text": [
            "The 1996-97 Utah Jazz season roster was a group of players who played for the Utah Jazz during that specific season. Unfortunately, without further information, it is not possible to provide specific details about the players on the roster.\n",
            "> Source (Doc id: 52e19838-8106-4152-bda4-82b49f3d0a92): The 1996-97 Utah Jazz season roster consisted of a group of players who represented the team duri...\n",
            "\n",
            "> Source (Doc id: 17aebcbb-0093-4e06-b00b-1220d8eff22a): \"1996-97 Utah Jazz season\"...\n",
            "\n",
            "> Source (Doc id: 76a6762f-4337-4a77-9b46-beb08a4080eb): \"1996-97 Utah Jazz season\"...\n"
          ]
        }
      ]
    },
    {
      "cell_type": "markdown",
      "source": [
        "## Llama index multi doc case"
      ],
      "metadata": {
        "id": "Q0b25goY1Uml"
      },
      "id": "Q0b25goY1Uml"
    },
    {
      "cell_type": "code",
      "source": [
        "import gradio as gr"
      ],
      "metadata": {
        "id": "jXwLDB2V1Ztn"
      },
      "id": "jXwLDB2V1Ztn",
      "execution_count": 65,
      "outputs": []
    },
    {
      "cell_type": "code",
      "source": [
        "# Environment, Loader, Query\n",
        "\n",
        "def create_service_context():\n",
        "\n",
        "    #constraint parameters\n",
        "    max_input_size = 4096\n",
        "    num_outputs = 512\n",
        "    max_chunk_overlap = .5\n",
        "    chunk_size_limit = 600\n",
        "\n",
        "    #allows the user to explicitly set certain constraint parameters\n",
        "    prompt_helper = PromptHelper(max_input_size, num_outputs, max_chunk_overlap, chunk_size_limit=chunk_size_limit)\n",
        "\n",
        "    #LLMPredictor is a wrapper class around LangChain's LLMChain that allows easy integration into LlamaIndex\n",
        "    llm_predictor = LLMPredictor(llm=ChatOpenAI(temperature=0.5, model_name=\"gpt-3.5-turbo\", max_tokens=num_outputs))\n",
        "    #llm_predictor = LLMPredictor(llm=ChatOpenAI(temperature=0.5, model_name=\"gpt-4\", max_tokens=num_outputs))\n",
        "\n",
        "    #constructs service_context\n",
        "    service_context = ServiceContext.from_defaults(llm_predictor=llm_predictor, prompt_helper=prompt_helper)\n",
        "    return service_context"
      ],
      "metadata": {
        "id": "EJnWxOZD1b3D"
      },
      "id": "EJnWxOZD1b3D",
      "execution_count": 66,
      "outputs": []
    },
    {
      "cell_type": "code",
      "source": [
        "def data_ingestion_indexing(directory_path):\n",
        "\n",
        "    #loads data from the specified directory path\n",
        "    documents = SimpleDirectoryReader(directory_path).load_data()\n",
        "\n",
        "    #when first building the index\n",
        "    index = GPTVectorStoreIndex.from_documents(\n",
        "        documents, service_context=create_service_context()\n",
        "    )\n",
        "\n",
        "    #persist index to disk, default \"storage\" folder\n",
        "    index.storage_context.persist()\n",
        "\n",
        "    return index"
      ],
      "metadata": {
        "id": "gCG7TPxt1j5A"
      },
      "id": "gCG7TPxt1j5A",
      "execution_count": 67,
      "outputs": []
    },
    {
      "cell_type": "code",
      "source": [
        "def data_querying(input_text):\n",
        "\n",
        "    #rebuild storage context\n",
        "    storage_context = StorageContext.from_defaults(persist_dir=\"./storage\")\n",
        "\n",
        "    #loads index from storage\n",
        "    index = load_index_from_storage(storage_context, service_context=create_service_context())\n",
        "\n",
        "    #queries the index with the input text\n",
        "    response = index.as_query_engine().query(input_text)\n",
        "\n",
        "    return response.response"
      ],
      "metadata": {
        "id": "7MK_7GW41mUv"
      },
      "id": "7MK_7GW41mUv",
      "execution_count": 68,
      "outputs": []
    },
    {
      "cell_type": "markdown",
      "source": [
        "### Test Q&A across multiple documents using Gradio Web Interface"
      ],
      "metadata": {
        "id": "6oLT0Pz91p9T"
      },
      "id": "6oLT0Pz91p9T"
    },
    {
      "cell_type": "code",
      "source": [
        "iface = gr.Interface(fn=data_querying,\n",
        "                     inputs=gr.components.Textbox(lines=7, label=\"Enter your text\"),\n",
        "                     outputs=\"text\",\n",
        "                     title=\"🏀 Utah Jazz 🏀\")"
      ],
      "metadata": {
        "id": "iQV6RY6A1unS"
      },
      "id": "iQV6RY6A1unS",
      "execution_count": 72,
      "outputs": []
    },
    {
      "cell_type": "code",
      "source": [
        "index = data_ingestion_indexing(\"/content\")"
      ],
      "metadata": {
        "id": "K43NYfzt10xu"
      },
      "id": "K43NYfzt10xu",
      "execution_count": 73,
      "outputs": []
    },
    {
      "cell_type": "code",
      "source": [
        "iface.launch(share=True)"
      ],
      "metadata": {
        "colab": {
          "base_uri": "https://localhost:8080/",
          "height": 594
        },
        "id": "vMS_FaaM2D7o",
        "outputId": "708202a4-c1c2-42af-d8df-66af8c0e2b17"
      },
      "id": "vMS_FaaM2D7o",
      "execution_count": 74,
      "outputs": [
        {
          "output_type": "stream",
          "name": "stdout",
          "text": [
            "Colab notebook detected. To show errors in colab notebook, set debug=True in launch()\n",
            "Running on public URL: https://159e8db93d6fb4b3cf.gradio.live\n",
            "\n",
            "This share link expires in 72 hours. For free permanent hosting and GPU upgrades, run `gradio deploy` from Terminal to deploy to Spaces (https://huggingface.co/spaces)\n"
          ]
        },
        {
          "output_type": "display_data",
          "data": {
            "text/plain": [
              "<IPython.core.display.HTML object>"
            ],
            "text/html": [
              "<div><iframe src=\"https://159e8db93d6fb4b3cf.gradio.live\" width=\"100%\" height=\"500\" allow=\"autoplay; camera; microphone; clipboard-read; clipboard-write;\" frameborder=\"0\" allowfullscreen></iframe></div>"
            ]
          },
          "metadata": {}
        },
        {
          "output_type": "execute_result",
          "data": {
            "text/plain": []
          },
          "metadata": {},
          "execution_count": 74
        }
      ]
    },
    {
      "cell_type": "markdown",
      "id": "69a49931-875d-419d-b39e-1880de31754a",
      "metadata": {
        "id": "69a49931-875d-419d-b39e-1880de31754a"
      },
      "source": [
        "## (optional) Cleanup"
      ]
    },
    {
      "cell_type": "markdown",
      "id": "d148e776-bb27-4e3c-85be-2f7afb11711a",
      "metadata": {
        "id": "d148e776-bb27-4e3c-85be-2f7afb11711a"
      },
      "source": [
        "You may want to clean up your database: in that case, simply run the following cell.\n",
        "\n",
        "_Warning: this will delete the vector store and all that you stored into it!_"
      ]
    },
    {
      "cell_type": "code",
      "execution_count": null,
      "id": "4b9ebc5f-be2c-4627-8304-b6206110e2bd",
      "metadata": {
        "id": "4b9ebc5f-be2c-4627-8304-b6206110e2bd"
      },
      "outputs": [],
      "source": [
        "session.execute(f\"DROP TABLE IF EXISTS {keyspace}.{table_name};\")"
      ]
    }
  ],
  "metadata": {
    "kernelspec": {
      "display_name": "Python 3 (ipykernel)",
      "language": "python",
      "name": "python3"
    },
    "language_info": {
      "codemirror_mode": {
        "name": "ipython",
        "version": 3
      },
      "file_extension": ".py",
      "mimetype": "text/x-python",
      "name": "python",
      "nbconvert_exporter": "python",
      "pygments_lexer": "ipython3"
    },
    "colab": {
      "provenance": []
    }
  },
  "nbformat": 4,
  "nbformat_minor": 5
}