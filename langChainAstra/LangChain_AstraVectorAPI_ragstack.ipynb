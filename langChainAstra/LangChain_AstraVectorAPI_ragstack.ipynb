{
  "cells": [
    {
      "cell_type": "markdown",
      "metadata": {
        "id": "RD_8i87fZV3E"
      },
      "source": [
        "## LangChain Testing with new Astra developer API\n",
        "### Including condensed content embeddings using LangChain's ParentDocumentRetriever\n",
        "\n",
        "This notebook is used to test various chains and modules from LangChain and uses AstraDB as a vector store and for vector search. This demo has been modified to connect to Astra using the new Astra Vector API for Python.\n",
        "\n",
        "The demo includes modules important to Retrieval Augmented Generation (RAG) and improving RAG. For example, while splitting the raw text for RAG, what should be the ideal length of each chunk? What’s the sweet spot?\n",
        "\n",
        "Strike a balance between small vs large chunks using LangChain's ParentDocumentRetriever. This helps condense the content embedding by performing Top K retrieval on embedded chunks or sentences, but return expanded window or full doc."
      ]
    },
    {
      "cell_type": "code",
      "execution_count": 4,
      "metadata": {
        "id": "CpMS0a5DoOBd",
        "colab": {
          "base_uri": "https://localhost:8080/"
        },
        "outputId": "0475f943-e7d7-4e20-aee0-70cf62b9ab71"
      },
      "outputs": [
        {
          "output_type": "stream",
          "name": "stdout",
          "text": [
            "\u001b[31mERROR: pip's dependency resolver does not currently take into account all the packages that are installed. This behaviour is the source of the following dependency conflicts.\n",
            "llama-index 0.9.11 requires openai>=1.1.0, but you have openai 0.28.1 which is incompatible.\u001b[0m\u001b[31m\n",
            "\u001b[0m"
          ]
        }
      ],
      "source": [
        "# install required dependencies\n",
        "  # note had to switch from pip install to pip3 install for the necessary langchain module imports to work further down\n",
        "! pip3 install -q --progress-bar off \\\n",
        "    \"cassio>=0.1.0\" \\\n",
        "    \"jupyter>=1.0.0\" \\\n",
        "    \"openai==0.28.1\" \\\n",
        "    \"cohere\" \\\n",
        "    \"tiktoken\" \\\n",
        "    # \"langchain\" \\\n",
        "    \"ragstack-ai\" \\\n",
        "    \"datasets\" \\\n",
        "    \"pypdf\"\n",
        "exit()"
      ]
    },
    {
      "cell_type": "code",
      "execution_count": 11,
      "metadata": {
        "colab": {
          "base_uri": "https://localhost:8080/",
          "height": 35
        },
        "id": "NKFs35hpHsbe",
        "outputId": "5b71801f-0dfe-44ce-b103-8c23126185d0"
      },
      "outputs": [
        {
          "output_type": "display_data",
          "data": {
            "text/plain": [
              "<IPython.core.display.HTML object>"
            ],
            "text/html": [
              "\n",
              "  <style>\n",
              "    pre {\n",
              "        white-space: pre-wrap;\n",
              "    }\n",
              "  </style>\n",
              "  "
            ]
          },
          "metadata": {}
        },
        {
          "output_type": "display_data",
          "data": {
            "text/plain": [
              "<IPython.core.display.HTML object>"
            ],
            "text/html": [
              "\n",
              "  <style>\n",
              "    pre {\n",
              "        white-space: pre-wrap;\n",
              "    }\n",
              "  </style>\n",
              "  "
            ]
          },
          "metadata": {}
        },
        {
          "output_type": "stream",
          "name": "stdout",
          "text": [
            "\u001b[?25l     \u001b[90m━━━━━━━━━━━━━━━━━━━━━━━━━━━━━━━━━━━━━━━━\u001b[0m \u001b[32m0.0/277.6 kB\u001b[0m \u001b[31m?\u001b[0m eta \u001b[36m-:--:--\u001b[0m\r\u001b[2K     \u001b[91m━━━━\u001b[0m\u001b[90m╺\u001b[0m\u001b[90m━━━━━━━━━━━━━━━━━━━━━━━━━━━━━━━━━━━\u001b[0m \u001b[32m30.7/277.6 kB\u001b[0m \u001b[31m1.1 MB/s\u001b[0m eta \u001b[36m0:00:01\u001b[0m\r\u001b[2K     \u001b[91m━━━━━━━━━━━━━━━━━━━━━━━━━━━━━━━━━━━━━━━\u001b[0m\u001b[91m╸\u001b[0m \u001b[32m276.5/277.6 kB\u001b[0m \u001b[31m4.5 MB/s\u001b[0m eta \u001b[36m0:00:01\u001b[0m\r\u001b[2K     \u001b[90m━━━━━━━━━━━━━━━━━━━━━━━━━━━━━━━━━━━━━━━━\u001b[0m \u001b[32m277.6/277.6 kB\u001b[0m \u001b[31m4.0 MB/s\u001b[0m eta \u001b[36m0:00:00\u001b[0m\n",
            "\u001b[?25h"
          ]
        }
      ],
      "source": [
        "# had to add pypdf here because the pip3 install didn't work when using pypdf further down in the notebook\n",
        "!pip install --quiet --upgrade astrapy pypdf"
      ]
    },
    {
      "cell_type": "code",
      "execution_count": 2,
      "metadata": {
        "colab": {
          "base_uri": "https://localhost:8080/"
        },
        "id": "8o5Ev8_YOeD9",
        "outputId": "feffd5d5-243b-4059-a8b3-15cfc2327b96"
      },
      "outputs": [
        {
          "name": "stdout",
          "output_type": "stream",
          "text": [
            "Your OpenAI Key: ··········\n"
          ]
        }
      ],
      "source": [
        "import os, json\n",
        "\n",
        "from getpass import getpass\n",
        "apiSecret = getpass(f'Your OpenAI Key: ')\n",
        "os.environ['OPENAI_API_KEY'] = apiSecret"
      ]
    },
    {
      "cell_type": "code",
      "execution_count": 3,
      "metadata": {
        "id": "ONlH7v8EbQLS"
      },
      "outputs": [],
      "source": [
        "# necessary imports\n",
        "from langchain.llms import OpenAI\n",
        "from langchain.prompts import PromptTemplate\n",
        "from langchain.chains import LLMChain\n",
        "from langchain.chains import SimpleSequentialChain\n",
        "from langchain.chains import SequentialChain\n",
        "from langchain.document_loaders import PyPDFLoader\n",
        "from langchain.vectorstores import Cassandra\n",
        "from langchain.embeddings import OpenAIEmbeddings\n",
        "from langchain.embeddings.openai import OpenAIEmbeddings\n",
        "from langchain.text_splitter import RecursiveCharacterTextSplitter\n",
        "from langchain.retrievers import ParentDocumentRetriever\n",
        "from langchain.storage import InMemoryStore\n",
        "from pprint import pprint\n",
        "from cassandra.cluster import Cluster\n",
        "from cassandra.auth import PlainTextAuthProvider\n",
        "from langchain.vectorstores import AstraDB as LCAstraDB\n",
        "from astrapy.db import AstraDB as LibAstraDB\n",
        "\n",
        "llm = OpenAI(temperature=0.4)"
      ]
    },
    {
      "cell_type": "code",
      "execution_count": 4,
      "metadata": {
        "id": "Wqj-nfkmm-IR"
      },
      "outputs": [],
      "source": [
        "# this code ensures that long text generations for the text generation wrap for\n",
        "# readability\n",
        "from IPython.display import HTML, display\n",
        "\n",
        "def set_css():\n",
        "  display(HTML('''\n",
        "  <style>\n",
        "    pre {\n",
        "        white-space: pre-wrap;\n",
        "    }\n",
        "  </style>\n",
        "  '''))\n",
        "get_ipython().events.register('pre_run_cell', set_css)\n",
        "\n",
        "def set_css():\n",
        "  display(HTML('''\n",
        "  <style>\n",
        "    pre {\n",
        "        white-space: pre-wrap;\n",
        "    }\n",
        "  </style>\n",
        "  '''))\n",
        "get_ipython().events.register('pre_run_cell', set_css)"
      ]
    },
    {
      "cell_type": "code",
      "execution_count": 5,
      "metadata": {
        "colab": {
          "base_uri": "https://localhost:8080/",
          "height": 17
        },
        "id": "z39Fo3ZDqZyQ",
        "outputId": "e6208175-5fcf-4afb-8efa-9531169a6d63"
      },
      "outputs": [
        {
          "output_type": "display_data",
          "data": {
            "text/plain": [
              "<IPython.core.display.HTML object>"
            ],
            "text/html": [
              "\n",
              "  <style>\n",
              "    pre {\n",
              "        white-space: pre-wrap;\n",
              "    }\n",
              "  </style>\n",
              "  "
            ]
          },
          "metadata": {}
        },
        {
          "output_type": "display_data",
          "data": {
            "text/plain": [
              "<IPython.core.display.HTML object>"
            ],
            "text/html": [
              "\n",
              "  <style>\n",
              "    pre {\n",
              "        white-space: pre-wrap;\n",
              "    }\n",
              "  </style>\n",
              "  "
            ]
          },
          "metadata": {}
        }
      ],
      "source": [
        "## testing different chains/modules from LangChain\n",
        "\n",
        "#summary = llm(\"I want a one sentence summary of chapters from the Bible. Please provide a summary of Hebrews 11.\")\n",
        "#print(summary)\n",
        "\n",
        "prompt_theme = PromptTemplate(\n",
        "      input_variables = [\"book\", \"chapter\"],\n",
        "      template = \"I want a one word theme of for chapters from {book}. Please provide a theme for chapter {chapter}.\"\n",
        ")\n",
        "#prompt_theme.format(book=\"Bible\", chapter=\"Hebrews 11\")\n",
        "\n",
        "prompt_summary = PromptTemplate(\n",
        "      input_variables = [\"book\", \"chapter\"],\n",
        "      template = \"I want a bulleted summary of chapters from {book} with no more than 5 bullets. Please provide a summary of chapter {chapter}.\"\n",
        ")"
      ]
    },
    {
      "cell_type": "code",
      "execution_count": 6,
      "metadata": {
        "colab": {
          "base_uri": "https://localhost:8080/",
          "height": 90
        },
        "id": "7n-9kVrX3mxy",
        "outputId": "70560f67-2791-4526-cdf0-87744d2d3c74"
      },
      "outputs": [
        {
          "output_type": "display_data",
          "data": {
            "text/plain": [
              "<IPython.core.display.HTML object>"
            ],
            "text/html": [
              "\n",
              "  <style>\n",
              "    pre {\n",
              "        white-space: pre-wrap;\n",
              "    }\n",
              "  </style>\n",
              "  "
            ]
          },
          "metadata": {}
        },
        {
          "output_type": "display_data",
          "data": {
            "text/plain": [
              "<IPython.core.display.HTML object>"
            ],
            "text/html": [
              "\n",
              "  <style>\n",
              "    pre {\n",
              "        white-space: pre-wrap;\n",
              "    }\n",
              "  </style>\n",
              "  "
            ]
          },
          "metadata": {}
        },
        {
          "output_type": "execute_result",
          "data": {
            "text/plain": [
              "'\\n\\n• Faith is the assurance that what we hope for will come to pass. \\n• By faith, people of old were commended for their faith in God. \\n• Examples of those commended for their faith include Abel, Enoch, Noah, Abraham, Sarah, and Moses. \\n• Through faith, these people obtained a good testimony and were made right with God. \\n• By faith, they were able to do great things, such as shut the mouths of lions, quench the power of fire, and escape the edge of the sword.'"
            ],
            "application/vnd.google.colaboratory.intrinsic+json": {
              "type": "string"
            }
          },
          "metadata": {},
          "execution_count": 6
        }
      ],
      "source": [
        "theme_chain = LLMChain(llm=llm, prompt=prompt_theme, output_key=\"theme\")\n",
        "summary_chain = LLMChain(llm=llm, prompt=prompt_summary, output_key=\"summary\")\n",
        "\n",
        "#theme_chain.run({'book':\"Bible\", 'chapter':\"Hebrews 11\"})\n",
        "summary_chain.run({'book':\"Bible\", 'chapter':\"Hebrews 11\"})\n",
        "\n"
      ]
    },
    {
      "cell_type": "code",
      "execution_count": 7,
      "metadata": {
        "colab": {
          "base_uri": "https://localhost:8080/",
          "height": 181
        },
        "id": "954_AM5g_QX0",
        "outputId": "c99599e1-9ac1-446b-c007-3e6c40ae0ac9"
      },
      "outputs": [
        {
          "output_type": "display_data",
          "data": {
            "text/plain": [
              "<IPython.core.display.HTML object>"
            ],
            "text/html": [
              "\n",
              "  <style>\n",
              "    pre {\n",
              "        white-space: pre-wrap;\n",
              "    }\n",
              "  </style>\n",
              "  "
            ]
          },
          "metadata": {}
        },
        {
          "output_type": "display_data",
          "data": {
            "text/plain": [
              "<IPython.core.display.HTML object>"
            ],
            "text/html": [
              "\n",
              "  <style>\n",
              "    pre {\n",
              "        white-space: pre-wrap;\n",
              "    }\n",
              "  </style>\n",
              "  "
            ]
          },
          "metadata": {}
        },
        {
          "output_type": "execute_result",
          "data": {
            "text/plain": [
              "{'book': 'Bible',\n",
              " 'chapter': 'Hebrews 11',\n",
              " 'theme': '\\n\\nFaith',\n",
              " 'summary': '\\n\\n• Chapter 11 of Hebrews is known as the \"Hall of Faith\" and is a celebration of faith in the Old Testament.\\n• It begins with a definition of faith as \"the assurance of things hoped for, the conviction of things not seen.\"\\n• It then goes on to list numerous examples of faith from the Old Testament, including Abel, Enoch, Noah, Abraham, Sarah, and Moses.\\n• The chapter ends with a reminder that faith is the source of true righteousness and that all believers should have faith in God.\\n• Finally, the chapter encourages readers to be encouraged by the examples of faith in the Old Testament and to imitate them in their own lives.'}"
            ]
          },
          "metadata": {},
          "execution_count": 7
        }
      ],
      "source": [
        "full_chain = SequentialChain(\n",
        "    chains = [theme_chain, summary_chain],\n",
        "    input_variables = [\"book\", \"chapter\"],\n",
        "    output_variables = [\"theme\", \"summary\"]\n",
        "    )\n",
        "\n",
        "full_chain({'book':\"Bible\", 'chapter':\"Hebrews 11\"})\n"
      ]
    },
    {
      "cell_type": "code",
      "execution_count": 8,
      "metadata": {
        "colab": {
          "base_uri": "https://localhost:8080/",
          "height": 35
        },
        "id": "pEHWuh8Vmj0X",
        "outputId": "13c16c12-7a50-4bad-c7a5-9a7aacac3f3a"
      },
      "outputs": [
        {
          "output_type": "display_data",
          "data": {
            "text/plain": [
              "<IPython.core.display.HTML object>"
            ],
            "text/html": [
              "\n",
              "  <style>\n",
              "    pre {\n",
              "        white-space: pre-wrap;\n",
              "    }\n",
              "  </style>\n",
              "  "
            ]
          },
          "metadata": {}
        },
        {
          "output_type": "display_data",
          "data": {
            "text/plain": [
              "<IPython.core.display.HTML object>"
            ],
            "text/html": [
              "\n",
              "  <style>\n",
              "    pre {\n",
              "        white-space: pre-wrap;\n",
              "    }\n",
              "  </style>\n",
              "  "
            ]
          },
          "metadata": {}
        },
        {
          "output_type": "stream",
          "name": "stdout",
          "text": [
            "Mounted at /content/drive\n"
          ]
        }
      ],
      "source": [
        "# access google drive for PDFs\n",
        "from google.colab import drive\n",
        "drive.mount('/content/drive')\n",
        "\n",
        "# gdrive_dir:\n",
        "#    - \"Path/on/google/drive/\" to a directory on google drive that has all the PDFs\n",
        "#       you wish to load\n",
        "gdrive_dir = \"Astra/Demo/PDFData/\""
      ]
    },
    {
      "cell_type": "code",
      "execution_count": 9,
      "metadata": {
        "colab": {
          "base_uri": "https://localhost:8080/",
          "height": 54
        },
        "id": "C5JGcXmCmqAY",
        "outputId": "9cc3a30c-fe86-428a-9517-d82506c7f20c"
      },
      "outputs": [
        {
          "output_type": "display_data",
          "data": {
            "text/plain": [
              "<IPython.core.display.HTML object>"
            ],
            "text/html": [
              "\n",
              "  <style>\n",
              "    pre {\n",
              "        white-space: pre-wrap;\n",
              "    }\n",
              "  </style>\n",
              "  "
            ]
          },
          "metadata": {}
        },
        {
          "output_type": "display_data",
          "data": {
            "text/plain": [
              "<IPython.core.display.HTML object>"
            ],
            "text/html": [
              "\n",
              "  <style>\n",
              "    pre {\n",
              "        white-space: pre-wrap;\n",
              "    }\n",
              "  </style>\n",
              "  "
            ]
          },
          "metadata": {}
        },
        {
          "name": "stdout",
          "output_type": "stream",
          "text": [
            "ASTRA_DB_API_ENDPOINT = https://35a9be06-aeee-4be9-9d64-dd54abc2c738-us-east-2.apps.astra.datastax.com\n",
            "Your Astra DB Token (\"AstraCS:...\"): ··········\n"
          ]
        }
      ],
      "source": [
        "## Astra Connectivity - now modified to use the new Astra Vector API endpoint\n",
        "# Input your Astra DB endpoint and token string, the one starting with \"AstraCS:...\"\n",
        "ASTRA_DB_API_ENDPOINT = input(\"ASTRA_DB_API_ENDPOINT = \")\n",
        "ASTRA_DB_TOKEN_BASED_PASSWORD = getpass('Your Astra DB Token (\"AstraCS:...\"): ')"
      ]
    },
    {
      "cell_type": "code",
      "execution_count": null,
      "metadata": {
        "colab": {
          "base_uri": "https://localhost:8080/",
          "height": 17
        },
        "id": "FyY6DvVf0fWj",
        "outputId": "2a00994a-0c48-4836-9efa-267ceda7f42c"
      },
      "outputs": [
        {
          "data": {
            "text/html": [
              "\n",
              "  <style>\n",
              "    pre {\n",
              "        white-space: pre-wrap;\n",
              "    }\n",
              "  </style>\n",
              "  "
            ],
            "text/plain": [
              "<IPython.core.display.HTML object>"
            ]
          },
          "metadata": {},
          "output_type": "display_data"
        },
        {
          "data": {
            "text/html": [
              "\n",
              "  <style>\n",
              "    pre {\n",
              "        white-space: pre-wrap;\n",
              "    }\n",
              "  </style>\n",
              "  "
            ],
            "text/plain": [
              "<IPython.core.display.HTML object>"
            ]
          },
          "metadata": {},
          "output_type": "display_data"
        }
      ],
      "source": [
        "# Create the client\n",
        "#astra_db = LibAstraDB(\n",
        "#    api_endpoint=ASTRA_DB_API_ENDPOINT,\n",
        "#    token=ASTRA_DB_TOKEN_BASED_PASSWORD,\n",
        "#)"
      ]
    },
    {
      "cell_type": "code",
      "execution_count": null,
      "metadata": {
        "colab": {
          "base_uri": "https://localhost:8080/",
          "height": 35
        },
        "id": "y5aAnzrsokfT",
        "outputId": "8015f270-3d21-4269-9003-3aee0d3a1381"
      },
      "outputs": [
        {
          "data": {
            "text/html": [
              "\n",
              "  <style>\n",
              "    pre {\n",
              "        white-space: pre-wrap;\n",
              "    }\n",
              "  </style>\n",
              "  "
            ],
            "text/plain": [
              "<IPython.core.display.HTML object>"
            ]
          },
          "metadata": {},
          "output_type": "display_data"
        },
        {
          "data": {
            "text/html": [
              "\n",
              "  <style>\n",
              "    pre {\n",
              "        white-space: pre-wrap;\n",
              "    }\n",
              "  </style>\n",
              "  "
            ],
            "text/plain": [
              "<IPython.core.display.HTML object>"
            ]
          },
          "metadata": {},
          "output_type": "display_data"
        },
        {
          "data": {
            "text/plain": [
              "<cassandra.cluster.ResultSet at 0x78d9479f3490>"
            ]
          },
          "execution_count": 28,
          "metadata": {},
          "output_type": "execute_result"
        }
      ],
      "source": [
        "## Embeddings\n",
        "\n",
        "# optionally drop the table to regenerate the embeddings\n",
        "#astraSession.execute(f\"DROP TABLE IF EXISTS {astraKeyspace}.pdf_embedding_demo;\")"
      ]
    },
    {
      "cell_type": "code",
      "execution_count": null,
      "metadata": {
        "id": "_ejZm6Yt1Txe"
      },
      "outputs": [],
      "source": [
        "# Create the collection\n",
        "#collection = astra_db.create_collection(\"pdf_embedding_collection\", dimension=1536)"
      ]
    },
    {
      "cell_type": "code",
      "execution_count": 12,
      "metadata": {
        "colab": {
          "base_uri": "https://localhost:8080/",
          "height": 72
        },
        "id": "x-GixPUKo0_S",
        "outputId": "4dd0b738-be02-498f-9633-a28f05f079f9"
      },
      "outputs": [
        {
          "output_type": "display_data",
          "data": {
            "text/plain": [
              "<IPython.core.display.HTML object>"
            ],
            "text/html": [
              "\n",
              "  <style>\n",
              "    pre {\n",
              "        white-space: pre-wrap;\n",
              "    }\n",
              "  </style>\n",
              "  "
            ]
          },
          "metadata": {}
        },
        {
          "output_type": "display_data",
          "data": {
            "text/plain": [
              "<IPython.core.display.HTML object>"
            ],
            "text/html": [
              "\n",
              "  <style>\n",
              "    pre {\n",
              "        white-space: pre-wrap;\n",
              "    }\n",
              "  </style>\n",
              "  "
            ]
          },
          "metadata": {}
        },
        {
          "output_type": "stream",
          "name": "stdout",
          "text": [
            "Files found:\n",
            "['/content/drive/MyDrive/Astra/Demo/PDFData/tbu-intermediate.pdf',\n",
            " '/content/drive/MyDrive/Astra/Demo/PDFData/tbu-foundations.pdf']\n"
          ]
        }
      ],
      "source": [
        "FILE_SUFFIX = \".pdf\"\n",
        "\n",
        "embeddings = OpenAIEmbeddings()\n",
        "\n",
        "list_of_pdfs = []\n",
        "\n",
        "src_dir = \"/content/drive/MyDrive/\" + gdrive_dir\n",
        "# generate the list of PDF files\n",
        "for f in os.listdir(src_dir):\n",
        "  filename = os.path.join(src_dir, f)\n",
        "  if os.path.isfile(filename) and f[-len(FILE_SUFFIX):] == FILE_SUFFIX:\n",
        "    list_of_pdfs.append(filename)\n",
        "\n",
        "# tell us what files are being processed\n",
        "print(\"Files found:\")\n",
        "pprint(list_of_pdfs)\n",
        "\n",
        "pdf_loaders = [\n",
        "    PyPDFLoader(pdf_name)\n",
        "    for pdf_name in list_of_pdfs\n",
        "]"
      ]
    },
    {
      "cell_type": "code",
      "execution_count": 13,
      "metadata": {
        "colab": {
          "base_uri": "https://localhost:8080/",
          "height": 17
        },
        "id": "8nLZ4UrDXU87",
        "outputId": "95fad39d-4db4-48fb-fd90-8f16db88fbf9"
      },
      "outputs": [
        {
          "output_type": "display_data",
          "data": {
            "text/plain": [
              "<IPython.core.display.HTML object>"
            ],
            "text/html": [
              "\n",
              "  <style>\n",
              "    pre {\n",
              "        white-space: pre-wrap;\n",
              "    }\n",
              "  </style>\n",
              "  "
            ]
          },
          "metadata": {}
        },
        {
          "output_type": "display_data",
          "data": {
            "text/plain": [
              "<IPython.core.display.HTML object>"
            ],
            "text/html": [
              "\n",
              "  <style>\n",
              "    pre {\n",
              "        white-space: pre-wrap;\n",
              "    }\n",
              "  </style>\n",
              "  "
            ]
          },
          "metadata": {}
        }
      ],
      "source": [
        "docs = []\n",
        "for l in pdf_loaders:\n",
        "    docs.extend(l.load())"
      ]
    },
    {
      "cell_type": "code",
      "execution_count": 14,
      "metadata": {
        "colab": {
          "base_uri": "https://localhost:8080/",
          "height": 17
        },
        "id": "MB0XWvTLWu4Q",
        "outputId": "40ecca9d-2914-4471-f1eb-f895b5237a11"
      },
      "outputs": [
        {
          "output_type": "display_data",
          "data": {
            "text/plain": [
              "<IPython.core.display.HTML object>"
            ],
            "text/html": [
              "\n",
              "  <style>\n",
              "    pre {\n",
              "        white-space: pre-wrap;\n",
              "    }\n",
              "  </style>\n",
              "  "
            ]
          },
          "metadata": {}
        },
        {
          "output_type": "display_data",
          "data": {
            "text/plain": [
              "<IPython.core.display.HTML object>"
            ],
            "text/html": [
              "\n",
              "  <style>\n",
              "    pre {\n",
              "        white-space: pre-wrap;\n",
              "    }\n",
              "  </style>\n",
              "  "
            ]
          },
          "metadata": {}
        }
      ],
      "source": [
        "## Using Parent Document retriever\n",
        "# Sometimes, the full documents can be too big to want to retrieve them as is.\n",
        "# In that case, what we really want to do is to first split the raw documents into\n",
        "# larger chunks, and then split it into smaller chunks. We then index the smaller\n",
        "# chunks, but on retrieval we retrieve the larger chunks (but still not the full documents).\n",
        "\n",
        "# This process helps improve RAG by condnsing the content embedding\n",
        "\n",
        "# strip and load the docs\n",
        "# This text splitter is used to create the parent documents\n",
        "parent_splitter = RecursiveCharacterTextSplitter(chunk_size=2000)\n",
        "# This text splitter is used to create the child documents\n",
        "# It should create documents smaller than the parent\n",
        "child_splitter = RecursiveCharacterTextSplitter(chunk_size=500)\n",
        "\n",
        "#text_splitter = RecursiveCharacterTextSplitter(\n",
        "#    chunk_size=500,\n",
        "#    chunk_overlap=80,\n",
        "#)\n",
        "\n",
        "# set up the vector store for the child chunks - this uses the new Astra vector API with LangChain\n",
        "vectorstore = LCAstraDB(\n",
        "    embedding=embeddings,\n",
        "    collection_name=\"pdf_embedding_collection\",\n",
        "    token=ASTRA_DB_TOKEN_BASED_PASSWORD,\n",
        "    api_endpoint=ASTRA_DB_API_ENDPOINT,\n",
        ")\n",
        "\n",
        "# The storage layer for the parent documents\n",
        "store = InMemoryStore()"
      ]
    },
    {
      "cell_type": "code",
      "execution_count": 15,
      "metadata": {
        "colab": {
          "base_uri": "https://localhost:8080/",
          "height": 17
        },
        "id": "Q1OtboZ4W8SS",
        "outputId": "319a0f34-c788-4b55-88c7-45d87be0c350"
      },
      "outputs": [
        {
          "output_type": "display_data",
          "data": {
            "text/plain": [
              "<IPython.core.display.HTML object>"
            ],
            "text/html": [
              "\n",
              "  <style>\n",
              "    pre {\n",
              "        white-space: pre-wrap;\n",
              "    }\n",
              "  </style>\n",
              "  "
            ]
          },
          "metadata": {}
        },
        {
          "output_type": "display_data",
          "data": {
            "text/plain": [
              "<IPython.core.display.HTML object>"
            ],
            "text/html": [
              "\n",
              "  <style>\n",
              "    pre {\n",
              "        white-space: pre-wrap;\n",
              "    }\n",
              "  </style>\n",
              "  "
            ]
          },
          "metadata": {}
        }
      ],
      "source": [
        "retriever = ParentDocumentRetriever(\n",
        "    vectorstore=vectorstore,\n",
        "    docstore=store,\n",
        "    child_splitter=child_splitter,\n",
        "    parent_splitter=parent_splitter,\n",
        ")\n",
        "\n",
        "retriever.add_documents(docs)\n",
        "\n",
        "#documents = [\n",
        "#    doc\n",
        "#    for loader in pdf_loaders\n",
        "#    for doc in loader.load_and_split(text_splitter=text_splitter)\n",
        "#]\n",
        "#\n",
        "#texts, metadatas = zip(*((doc.page_content, doc.metadata) for doc in documents))\n",
        "#vectorstore.add_texts(texts=texts, metadatas=metadatas)"
      ]
    },
    {
      "cell_type": "code",
      "execution_count": 16,
      "metadata": {
        "colab": {
          "base_uri": "https://localhost:8080/",
          "height": 35
        },
        "id": "caK7-0zqWm7o",
        "outputId": "23142db1-1a9b-42eb-a3aa-cd475b8e5332"
      },
      "outputs": [
        {
          "output_type": "display_data",
          "data": {
            "text/plain": [
              "<IPython.core.display.HTML object>"
            ],
            "text/html": [
              "\n",
              "  <style>\n",
              "    pre {\n",
              "        white-space: pre-wrap;\n",
              "    }\n",
              "  </style>\n",
              "  "
            ]
          },
          "metadata": {}
        },
        {
          "output_type": "display_data",
          "data": {
            "text/plain": [
              "<IPython.core.display.HTML object>"
            ],
            "text/html": [
              "\n",
              "  <style>\n",
              "    pre {\n",
              "        white-space: pre-wrap;\n",
              "    }\n",
              "  </style>\n",
              "  "
            ]
          },
          "metadata": {}
        },
        {
          "output_type": "execute_result",
          "data": {
            "text/plain": [
              "560"
            ]
          },
          "metadata": {},
          "execution_count": 16
        }
      ],
      "source": [
        "# We see there are many more than two documents now (or however many pdfs)\n",
        "# these are larger chunks\n",
        "\n",
        "len(list(store.yield_keys()))"
      ]
    },
    {
      "cell_type": "code",
      "execution_count": 17,
      "metadata": {
        "colab": {
          "base_uri": "https://localhost:8080/",
          "height": 181
        },
        "id": "eIEW10ycYT_e",
        "outputId": "fa057337-60fb-4580-b641-d2f9a412e823"
      },
      "outputs": [
        {
          "output_type": "display_data",
          "data": {
            "text/plain": [
              "<IPython.core.display.HTML object>"
            ],
            "text/html": [
              "\n",
              "  <style>\n",
              "    pre {\n",
              "        white-space: pre-wrap;\n",
              "    }\n",
              "  </style>\n",
              "  "
            ]
          },
          "metadata": {}
        },
        {
          "output_type": "display_data",
          "data": {
            "text/plain": [
              "<IPython.core.display.HTML object>"
            ],
            "text/html": [
              "\n",
              "  <style>\n",
              "    pre {\n",
              "        white-space: pre-wrap;\n",
              "    }\n",
              "  </style>\n",
              "  "
            ]
          },
          "metadata": {}
        },
        {
          "output_type": "stream",
          "name": "stdout",
          "text": [
            "8 Unit A.  God and Spiritual Powers  \n",
            "3. Jesus Christ  \n",
            "What distinguishes Christianity from other religions is largely its \n",
            "teachings about Jesus Christ. This chapter looks at this central figure, \n",
            "including the amazing  claim that Jesus Christ is the Son of God.  \n",
            "Jesus Christ ’s Eternity  \n",
            "Jesus Christ existed in the beginning  \n",
            "[JOHN, TO BELIEVERS :]  I’m writing to you, fathers, because you know \n",
            "Christ who has existed from the beginning .   1 JOHN 2:13 A GW\n"
          ]
        }
      ],
      "source": [
        "# Let's make sure the underlying vector store retrieves the small chunks\n",
        "\n",
        "sub_docs = vectorstore.similarity_search(\"What distinguishes Christianity from other religions?\")\n",
        "\n",
        "print(sub_docs[0].page_content)"
      ]
    },
    {
      "cell_type": "code",
      "execution_count": 18,
      "metadata": {
        "colab": {
          "base_uri": "https://localhost:8080/",
          "height": 35
        },
        "id": "rxvg9Kj9ZD-S",
        "outputId": "5d15d447-7557-4885-a9d0-1251eb11cb70"
      },
      "outputs": [
        {
          "output_type": "display_data",
          "data": {
            "text/plain": [
              "<IPython.core.display.HTML object>"
            ],
            "text/html": [
              "\n",
              "  <style>\n",
              "    pre {\n",
              "        white-space: pre-wrap;\n",
              "    }\n",
              "  </style>\n",
              "  "
            ]
          },
          "metadata": {}
        },
        {
          "output_type": "display_data",
          "data": {
            "text/plain": [
              "<IPython.core.display.HTML object>"
            ],
            "text/html": [
              "\n",
              "  <style>\n",
              "    pre {\n",
              "        white-space: pre-wrap;\n",
              "    }\n",
              "  </style>\n",
              "  "
            ]
          },
          "metadata": {}
        },
        {
          "output_type": "execute_result",
          "data": {
            "text/plain": [
              "1775"
            ]
          },
          "metadata": {},
          "execution_count": 18
        }
      ],
      "source": [
        "retrieved_docs = retriever.get_relevant_documents(\"justice breyer\")\n",
        "len(retrieved_docs[0].page_content)"
      ]
    },
    {
      "cell_type": "code",
      "execution_count": 19,
      "metadata": {
        "colab": {
          "base_uri": "https://localhost:8080/",
          "height": 602
        },
        "id": "2vMcQdV8ZJFQ",
        "outputId": "9ba07157-5de0-437a-9522-64428d5da181"
      },
      "outputs": [
        {
          "output_type": "display_data",
          "data": {
            "text/plain": [
              "<IPython.core.display.HTML object>"
            ],
            "text/html": [
              "\n",
              "  <style>\n",
              "    pre {\n",
              "        white-space: pre-wrap;\n",
              "    }\n",
              "  </style>\n",
              "  "
            ]
          },
          "metadata": {}
        },
        {
          "output_type": "display_data",
          "data": {
            "text/plain": [
              "<IPython.core.display.HTML object>"
            ],
            "text/html": [
              "\n",
              "  <style>\n",
              "    pre {\n",
              "        white-space: pre-wrap;\n",
              "    }\n",
              "  </style>\n",
              "  "
            ]
          },
          "metadata": {}
        },
        {
          "output_type": "stream",
          "name": "stdout",
          "text": [
            "10. God’s Judgment  81 \n",
            " God’s judgment is to discipline God ’s people  \n",
            "[PAUL, TO BELIEVERS :] But when we are judged by the Lord, we are \n",
            "disciplined  so that we may not be condemned with the world.   \n",
            "1 CORINTHIANS 11:32  NET \n",
            "God’s judgment is to punish the wicked  \n",
            "But by the same word the present heav ens and earth have been \n",
            "reserved for fire, by being kept for the day of judgment and \n",
            "destruction of the ungodly .   2 PETER 3:7 NET \n",
            "God’s judgment is also to re ward God ’s people  \n",
            "[ELDERS IN HEAVEN , TO GOD:] The nations were enraged, but your wrath \n",
            "has come, and the time has come for the dead to be judged, and the \n",
            "time has come to give to your servants, the prophets, their reward, as \n",
            "well as to the saints and to th ose who revere your name, both small \n",
            "and great , and the time has come to destroy those who destroy the \n",
            "earth.   REVELATION 11:18  NET \n",
            "As well as punishmen t for wrongdoing, God ’s judgment includes \n",
            "reward for godliness.  \n",
            "God’s Judgment Is Just  \n",
            "God judges righteously and justly  \n",
            "This is evidence of God ’s righteous judgment , to make you worthy of \n",
            "the kingdom of God, for which in fact you are suffering.   \n",
            "2 THESSALONIANS 1:5 NET \n",
            "For he has fixed a day in which he will judge the whole world with \n",
            "justice  by means of a man he has chosen.   ACTS 17:31 A GNT \n",
            "God judges people with knowledge of all their deeds  \n",
            "[JEREMIAH , TO GOD:] You see everything people do. You reward each of \n",
            "them for the way they live and for the things they do.   JEREMIAH 32:19 B NET \n",
            "One reason why God ’s judgment is just is that he judges people with \n",
            "knowledge of all their deeds – as well as of all their thoughts and \n",
            "motives (as per the following subsection). As such he can make \n",
            "judgments with knowledge of all the relevant information.\n"
          ]
        }
      ],
      "source": [
        "print(retrieved_docs[0].page_content)"
      ]
    }
  ],
  "metadata": {
    "colab": {
      "provenance": []
    },
    "kernelspec": {
      "display_name": "Python 3",
      "name": "python3"
    },
    "language_info": {
      "name": "python"
    }
  },
  "nbformat": 4,
  "nbformat_minor": 0
}