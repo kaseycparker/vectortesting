{
  "nbformat": 4,
  "nbformat_minor": 0,
  "metadata": {
    "colab": {
      "provenance": []
    },
    "kernelspec": {
      "name": "python3",
      "display_name": "Python 3"
    },
    "language_info": {
      "name": "python"
    }
  },
  "cells": [
    {
      "cell_type": "markdown",
      "source": [
        "## LangChain Testing with new Astra developer API\n",
        "### Including condensed content embeddings using LangChain's ParentDocumentRetriever\n",
        "\n",
        "This notebook is used to test various chains and modules from LangChain and uses AstraDB as a vector store and for vector search. This demo has been modified to connect to Astra using the new Astra Vector API for Python.\n",
        "\n",
        "The demo includes modules important to Retrieval Augmented Generation (RAG) and improving RAG. For example, while splitting the raw text for RAG, what should be the ideal length of each chunk? What’s the sweet spot?\n",
        "\n",
        "Strike a balance between small vs large chunks using LangChain's ParentDocumentRetriever. This helps condense the content embedding by performing Top K retrieval on embedded chunks or sentences, but return expanded window or full doc."
      ],
      "metadata": {
        "id": "RD_8i87fZV3E"
      }
    },
    {
      "cell_type": "code",
      "source": [
        "# install required dependencies\n",
        "! pip install -q --progress-bar off \\\n",
        "    \"cassio>=0.1.0\" \\\n",
        "    \"jupyter>=1.0.0\" \\\n",
        "    \"openai==0.28.1\" \\\n",
        "    \"cohere\" \\\n",
        "    \"tiktoken\" \\\n",
        "    \"langchain\" \\\n",
        "    \"pypdf\"\n",
        "exit()"
      ],
      "metadata": {
        "id": "CpMS0a5DoOBd"
      },
      "execution_count": 2,
      "outputs": []
    },
    {
      "cell_type": "code",
      "source": [
        "!pip install --quiet --upgrade astrapy"
      ],
      "metadata": {
        "id": "NKFs35hpHsbe"
      },
      "execution_count": 1,
      "outputs": []
    },
    {
      "cell_type": "code",
      "execution_count": 1,
      "metadata": {
        "colab": {
          "base_uri": "https://localhost:8080/"
        },
        "id": "8o5Ev8_YOeD9",
        "outputId": "a532075d-ceac-4733-8c38-daae1796782e"
      },
      "outputs": [
        {
          "name": "stdout",
          "output_type": "stream",
          "text": [
            "Your OpenAI Key: ··········\n"
          ]
        }
      ],
      "source": [
        "import os, json\n",
        "\n",
        "from getpass import getpass\n",
        "apiSecret = getpass(f'Your OpenAI Key: ')\n",
        "os.environ['OPENAI_API_KEY'] = apiSecret"
      ]
    },
    {
      "cell_type": "code",
      "source": [
        "# necessary imports\n",
        "from langchain.llms import OpenAI\n",
        "from langchain.prompts import PromptTemplate\n",
        "from langchain.chains import LLMChain\n",
        "from langchain.chains import SimpleSequentialChain\n",
        "from langchain.chains import SequentialChain\n",
        "from langchain.document_loaders import PyPDFLoader\n",
        "from langchain.vectorstores import Cassandra\n",
        "# from langchain.vectorstores import AstraDB\n",
        "from langchain.embeddings import OpenAIEmbeddings\n",
        "from langchain.embeddings.openai import OpenAIEmbeddings\n",
        "from langchain.text_splitter import RecursiveCharacterTextSplitter\n",
        "from langchain.retrievers import ParentDocumentRetriever\n",
        "from langchain.storage import InMemoryStore\n",
        "from pprint import pprint\n",
        "from cassandra.cluster import Cluster\n",
        "from cassandra.auth import PlainTextAuthProvider\n",
        "from langchain.vectorstores import AstraDB as LCAstraDB\n",
        "from astrapy.db import AstraDB as LibAstraDB\n",
        "\n",
        "llm = OpenAI(temperature=0.4)"
      ],
      "metadata": {
        "id": "ONlH7v8EbQLS",
        "colab": {
          "base_uri": "https://localhost:8080/",
          "height": 17
        },
        "outputId": "6d0b5250-9f8e-49fc-e04b-dc901271ab92"
      },
      "execution_count": 12,
      "outputs": [
        {
          "output_type": "display_data",
          "data": {
            "text/plain": [
              "<IPython.core.display.HTML object>"
            ],
            "text/html": [
              "\n",
              "  <style>\n",
              "    pre {\n",
              "        white-space: pre-wrap;\n",
              "    }\n",
              "  </style>\n",
              "  "
            ]
          },
          "metadata": {}
        },
        {
          "output_type": "display_data",
          "data": {
            "text/plain": [
              "<IPython.core.display.HTML object>"
            ],
            "text/html": [
              "\n",
              "  <style>\n",
              "    pre {\n",
              "        white-space: pre-wrap;\n",
              "    }\n",
              "  </style>\n",
              "  "
            ]
          },
          "metadata": {}
        },
        {
          "output_type": "display_data",
          "data": {
            "text/plain": [
              "<IPython.core.display.HTML object>"
            ],
            "text/html": [
              "\n",
              "  <style>\n",
              "    pre {\n",
              "        white-space: pre-wrap;\n",
              "    }\n",
              "  </style>\n",
              "  "
            ]
          },
          "metadata": {}
        },
        {
          "output_type": "display_data",
          "data": {
            "text/plain": [
              "<IPython.core.display.HTML object>"
            ],
            "text/html": [
              "\n",
              "  <style>\n",
              "    pre {\n",
              "        white-space: pre-wrap;\n",
              "    }\n",
              "  </style>\n",
              "  "
            ]
          },
          "metadata": {}
        }
      ]
    },
    {
      "cell_type": "code",
      "source": [],
      "metadata": {
        "id": "ot_OXera4qdu"
      },
      "execution_count": null,
      "outputs": []
    },
    {
      "cell_type": "code",
      "source": [
        "# this code ensures that long text generations for the text generation wrap for\n",
        "# readability\n",
        "from IPython.display import HTML, display\n",
        "\n",
        "def set_css():\n",
        "  display(HTML('''\n",
        "  <style>\n",
        "    pre {\n",
        "        white-space: pre-wrap;\n",
        "    }\n",
        "  </style>\n",
        "  '''))\n",
        "get_ipython().events.register('pre_run_cell', set_css)\n",
        "\n",
        "def set_css():\n",
        "  display(HTML('''\n",
        "  <style>\n",
        "    pre {\n",
        "        white-space: pre-wrap;\n",
        "    }\n",
        "  </style>\n",
        "  '''))\n",
        "get_ipython().events.register('pre_run_cell', set_css)"
      ],
      "metadata": {
        "id": "Wqj-nfkmm-IR",
        "colab": {
          "base_uri": "https://localhost:8080/",
          "height": 17
        },
        "outputId": "bd715bc5-ce7e-43d3-e154-0c9ee1806f37"
      },
      "execution_count": 4,
      "outputs": [
        {
          "output_type": "display_data",
          "data": {
            "text/plain": [
              "<IPython.core.display.HTML object>"
            ],
            "text/html": [
              "\n",
              "  <style>\n",
              "    pre {\n",
              "        white-space: pre-wrap;\n",
              "    }\n",
              "  </style>\n",
              "  "
            ]
          },
          "metadata": {}
        },
        {
          "output_type": "display_data",
          "data": {
            "text/plain": [
              "<IPython.core.display.HTML object>"
            ],
            "text/html": [
              "\n",
              "  <style>\n",
              "    pre {\n",
              "        white-space: pre-wrap;\n",
              "    }\n",
              "  </style>\n",
              "  "
            ]
          },
          "metadata": {}
        }
      ]
    },
    {
      "cell_type": "code",
      "source": [
        "## testing different chains/modules from LangChain\n",
        "\n",
        "#summary = llm(\"I want a one sentence summary of chapters from the Bible. Please provide a summary of Hebrews 11.\")\n",
        "#print(summary)\n",
        "\n",
        "prompt_theme = PromptTemplate(\n",
        "      input_variables = [\"book\", \"chapter\"],\n",
        "      template = \"I want a one word theme of for chapters from {book}. Please provide a theme for chapter {chapter}.\"\n",
        ")\n",
        "#prompt_theme.format(book=\"Bible\", chapter=\"Hebrews 11\")\n",
        "\n",
        "prompt_summary = PromptTemplate(\n",
        "      input_variables = [\"book\", \"chapter\"],\n",
        "      template = \"I want a bulleted summary of chapters from {book} with no more than 5 bullets. Please provide a summary of chapter {chapter}.\"\n",
        ")"
      ],
      "metadata": {
        "id": "z39Fo3ZDqZyQ",
        "colab": {
          "base_uri": "https://localhost:8080/",
          "height": 17
        },
        "outputId": "3b5b90d7-42a0-4bd6-ddeb-f3b5c9ac696d"
      },
      "execution_count": 5,
      "outputs": [
        {
          "output_type": "display_data",
          "data": {
            "text/plain": [
              "<IPython.core.display.HTML object>"
            ],
            "text/html": [
              "\n",
              "  <style>\n",
              "    pre {\n",
              "        white-space: pre-wrap;\n",
              "    }\n",
              "  </style>\n",
              "  "
            ]
          },
          "metadata": {}
        },
        {
          "output_type": "display_data",
          "data": {
            "text/plain": [
              "<IPython.core.display.HTML object>"
            ],
            "text/html": [
              "\n",
              "  <style>\n",
              "    pre {\n",
              "        white-space: pre-wrap;\n",
              "    }\n",
              "  </style>\n",
              "  "
            ]
          },
          "metadata": {}
        },
        {
          "output_type": "display_data",
          "data": {
            "text/plain": [
              "<IPython.core.display.HTML object>"
            ],
            "text/html": [
              "\n",
              "  <style>\n",
              "    pre {\n",
              "        white-space: pre-wrap;\n",
              "    }\n",
              "  </style>\n",
              "  "
            ]
          },
          "metadata": {}
        },
        {
          "output_type": "display_data",
          "data": {
            "text/plain": [
              "<IPython.core.display.HTML object>"
            ],
            "text/html": [
              "\n",
              "  <style>\n",
              "    pre {\n",
              "        white-space: pre-wrap;\n",
              "    }\n",
              "  </style>\n",
              "  "
            ]
          },
          "metadata": {}
        }
      ]
    },
    {
      "cell_type": "code",
      "source": [
        "theme_chain = LLMChain(llm=llm, prompt=prompt_theme, output_key=\"theme\")\n",
        "summary_chain = LLMChain(llm=llm, prompt=prompt_summary, output_key=\"summary\")\n",
        "\n",
        "#theme_chain.run({'book':\"Bible\", 'chapter':\"Hebrews 11\"})\n",
        "summary_chain.run({'book':\"Bible\", 'chapter':\"Hebrews 11\"})\n",
        "\n"
      ],
      "metadata": {
        "colab": {
          "base_uri": "https://localhost:8080/",
          "height": 72
        },
        "id": "7n-9kVrX3mxy",
        "outputId": "2819727d-7473-49bf-c3d2-46db979c8419"
      },
      "execution_count": 6,
      "outputs": [
        {
          "output_type": "display_data",
          "data": {
            "text/plain": [
              "<IPython.core.display.HTML object>"
            ],
            "text/html": [
              "\n",
              "  <style>\n",
              "    pre {\n",
              "        white-space: pre-wrap;\n",
              "    }\n",
              "  </style>\n",
              "  "
            ]
          },
          "metadata": {}
        },
        {
          "output_type": "display_data",
          "data": {
            "text/plain": [
              "<IPython.core.display.HTML object>"
            ],
            "text/html": [
              "\n",
              "  <style>\n",
              "    pre {\n",
              "        white-space: pre-wrap;\n",
              "    }\n",
              "  </style>\n",
              "  "
            ]
          },
          "metadata": {}
        },
        {
          "output_type": "display_data",
          "data": {
            "text/plain": [
              "<IPython.core.display.HTML object>"
            ],
            "text/html": [
              "\n",
              "  <style>\n",
              "    pre {\n",
              "        white-space: pre-wrap;\n",
              "    }\n",
              "  </style>\n",
              "  "
            ]
          },
          "metadata": {}
        },
        {
          "output_type": "display_data",
          "data": {
            "text/plain": [
              "<IPython.core.display.HTML object>"
            ],
            "text/html": [
              "\n",
              "  <style>\n",
              "    pre {\n",
              "        white-space: pre-wrap;\n",
              "    }\n",
              "  </style>\n",
              "  "
            ]
          },
          "metadata": {}
        },
        {
          "output_type": "execute_result",
          "data": {
            "text/plain": [
              "'\\n\\n• Chapter 11 of Hebrews is known as the \"Hall of Faith\" and is a tribute to the faith of Old Testament characters \\n• It begins by defining faith as being sure of what we hope for and certain of what we do not see\\n• It then goes on to list examples of those who had faith in God, such as Abel, Noah, Abraham, and Sarah\\n• It also mentions those who were delivered by faith, such as Moses and the Israelites \\n• The chapter ends with a reminder that those who have faith will receive what God has promised them.'"
            ],
            "application/vnd.google.colaboratory.intrinsic+json": {
              "type": "string"
            }
          },
          "metadata": {},
          "execution_count": 6
        }
      ]
    },
    {
      "cell_type": "code",
      "source": [
        "full_chain = SequentialChain(\n",
        "    chains = [theme_chain, summary_chain],\n",
        "    input_variables = [\"book\", \"chapter\"],\n",
        "    output_variables = [\"theme\", \"summary\"]\n",
        "    )\n",
        "\n",
        "full_chain({'book':\"Bible\", 'chapter':\"Hebrews 11\"})\n"
      ],
      "metadata": {
        "colab": {
          "base_uri": "https://localhost:8080/",
          "height": 145
        },
        "id": "954_AM5g_QX0",
        "outputId": "32edd08f-b0a1-478f-8ad7-996677a8e9f6"
      },
      "execution_count": null,
      "outputs": [
        {
          "output_type": "display_data",
          "data": {
            "text/plain": [
              "<IPython.core.display.HTML object>"
            ],
            "text/html": [
              "\n",
              "  <style>\n",
              "    pre {\n",
              "        white-space: pre-wrap;\n",
              "    }\n",
              "  </style>\n",
              "  "
            ]
          },
          "metadata": {}
        },
        {
          "output_type": "display_data",
          "data": {
            "text/plain": [
              "<IPython.core.display.HTML object>"
            ],
            "text/html": [
              "\n",
              "  <style>\n",
              "    pre {\n",
              "        white-space: pre-wrap;\n",
              "    }\n",
              "  </style>\n",
              "  "
            ]
          },
          "metadata": {}
        },
        {
          "output_type": "execute_result",
          "data": {
            "text/plain": [
              "{'book': 'Bible',\n",
              " 'chapter': 'Hebrews 11',\n",
              " 'theme': '\\n\\nFaith',\n",
              " 'summary': '\\n\\n• Hebrews 11 is a chapter about faith and the examples of faith from Old Testament figures. \\n• It speaks of the faith of Abel, Enoch, Noah, Abraham, Sarah, Isaac, Jacob, Joseph, Moses, and Rahab. \\n• It also speaks of the faith of those who were persecuted and tortured and how they endured it. \\n• It speaks of the faith of those who were faithful to God even when it seemed impossible. \\n• It concludes by saying that faith is the assurance of things hoped for, the conviction of things not seen.'}"
            ]
          },
          "metadata": {},
          "execution_count": 6
        }
      ]
    },
    {
      "cell_type": "code",
      "source": [
        "# access google drive for PDFs\n",
        "from google.colab import drive\n",
        "drive.mount('/content/drive')\n",
        "\n",
        "# gdrive_dir:\n",
        "#    - \"Path/on/google/drive/\" to a directory on google drive that has all the PDFs\n",
        "#       you wish to load\n",
        "gdrive_dir = \"Astra/Demo/PDFData/\""
      ],
      "metadata": {
        "colab": {
          "base_uri": "https://localhost:8080/",
          "height": 35
        },
        "id": "pEHWuh8Vmj0X",
        "outputId": "95b68277-9964-4180-a6b4-190b25c6fa78"
      },
      "execution_count": 7,
      "outputs": [
        {
          "output_type": "display_data",
          "data": {
            "text/plain": [
              "<IPython.core.display.HTML object>"
            ],
            "text/html": [
              "\n",
              "  <style>\n",
              "    pre {\n",
              "        white-space: pre-wrap;\n",
              "    }\n",
              "  </style>\n",
              "  "
            ]
          },
          "metadata": {}
        },
        {
          "output_type": "display_data",
          "data": {
            "text/plain": [
              "<IPython.core.display.HTML object>"
            ],
            "text/html": [
              "\n",
              "  <style>\n",
              "    pre {\n",
              "        white-space: pre-wrap;\n",
              "    }\n",
              "  </style>\n",
              "  "
            ]
          },
          "metadata": {}
        },
        {
          "output_type": "display_data",
          "data": {
            "text/plain": [
              "<IPython.core.display.HTML object>"
            ],
            "text/html": [
              "\n",
              "  <style>\n",
              "    pre {\n",
              "        white-space: pre-wrap;\n",
              "    }\n",
              "  </style>\n",
              "  "
            ]
          },
          "metadata": {}
        },
        {
          "output_type": "display_data",
          "data": {
            "text/plain": [
              "<IPython.core.display.HTML object>"
            ],
            "text/html": [
              "\n",
              "  <style>\n",
              "    pre {\n",
              "        white-space: pre-wrap;\n",
              "    }\n",
              "  </style>\n",
              "  "
            ]
          },
          "metadata": {}
        },
        {
          "output_type": "stream",
          "name": "stdout",
          "text": [
            "Mounted at /content/drive\n"
          ]
        }
      ]
    },
    {
      "cell_type": "code",
      "source": [
        "## Astra Connectivity - now modified to use the new Astra Vector API endpoint\n",
        "# Input your Astra DB endpoint and token string, the one starting with \"AstraCS:...\"\n",
        "ASTRA_DB_API_ENDPOINT = input(\"ASTRA_DB_API_ENDPOINT = \")\n",
        "ASTRA_DB_TOKEN_BASED_PASSWORD = getpass('Your Astra DB Token (\"AstraCS:...\"): ')"
      ],
      "metadata": {
        "colab": {
          "base_uri": "https://localhost:8080/",
          "height": 54
        },
        "id": "C5JGcXmCmqAY",
        "outputId": "484ae7ce-76db-4394-99a3-5f85951267e5"
      },
      "execution_count": 8,
      "outputs": [
        {
          "output_type": "display_data",
          "data": {
            "text/plain": [
              "<IPython.core.display.HTML object>"
            ],
            "text/html": [
              "\n",
              "  <style>\n",
              "    pre {\n",
              "        white-space: pre-wrap;\n",
              "    }\n",
              "  </style>\n",
              "  "
            ]
          },
          "metadata": {}
        },
        {
          "output_type": "display_data",
          "data": {
            "text/plain": [
              "<IPython.core.display.HTML object>"
            ],
            "text/html": [
              "\n",
              "  <style>\n",
              "    pre {\n",
              "        white-space: pre-wrap;\n",
              "    }\n",
              "  </style>\n",
              "  "
            ]
          },
          "metadata": {}
        },
        {
          "output_type": "display_data",
          "data": {
            "text/plain": [
              "<IPython.core.display.HTML object>"
            ],
            "text/html": [
              "\n",
              "  <style>\n",
              "    pre {\n",
              "        white-space: pre-wrap;\n",
              "    }\n",
              "  </style>\n",
              "  "
            ]
          },
          "metadata": {}
        },
        {
          "output_type": "display_data",
          "data": {
            "text/plain": [
              "<IPython.core.display.HTML object>"
            ],
            "text/html": [
              "\n",
              "  <style>\n",
              "    pre {\n",
              "        white-space: pre-wrap;\n",
              "    }\n",
              "  </style>\n",
              "  "
            ]
          },
          "metadata": {}
        },
        {
          "name": "stdout",
          "output_type": "stream",
          "text": [
            "ASTRA_DB_API_ENDPOINT = https://35a9be06-aeee-4be9-9d64-dd54abc2c738-us-east-2.apps.astra.datastax.com\n",
            "Your Astra DB Token (\"AstraCS:...\"): ··········\n"
          ]
        }
      ]
    },
    {
      "cell_type": "code",
      "source": [
        "# Create the client\n",
        "#astra_db = LibAstraDB(\n",
        "#    api_endpoint=ASTRA_DB_API_ENDPOINT,\n",
        "#    token=ASTRA_DB_TOKEN_BASED_PASSWORD,\n",
        "#)"
      ],
      "metadata": {
        "colab": {
          "base_uri": "https://localhost:8080/",
          "height": 17
        },
        "id": "FyY6DvVf0fWj",
        "outputId": "2a00994a-0c48-4836-9efa-267ceda7f42c"
      },
      "execution_count": 8,
      "outputs": [
        {
          "output_type": "display_data",
          "data": {
            "text/plain": [
              "<IPython.core.display.HTML object>"
            ],
            "text/html": [
              "\n",
              "  <style>\n",
              "    pre {\n",
              "        white-space: pre-wrap;\n",
              "    }\n",
              "  </style>\n",
              "  "
            ]
          },
          "metadata": {}
        },
        {
          "output_type": "display_data",
          "data": {
            "text/plain": [
              "<IPython.core.display.HTML object>"
            ],
            "text/html": [
              "\n",
              "  <style>\n",
              "    pre {\n",
              "        white-space: pre-wrap;\n",
              "    }\n",
              "  </style>\n",
              "  "
            ]
          },
          "metadata": {}
        }
      ]
    },
    {
      "cell_type": "code",
      "source": [
        "## Embeddings\n",
        "\n",
        "# optionally drop the table to regenerate the embeddings\n",
        "#astraSession.execute(f\"DROP TABLE IF EXISTS {astraKeyspace}.pdf_embedding_demo;\")"
      ],
      "metadata": {
        "colab": {
          "base_uri": "https://localhost:8080/",
          "height": 35
        },
        "id": "y5aAnzrsokfT",
        "outputId": "8015f270-3d21-4269-9003-3aee0d3a1381"
      },
      "execution_count": null,
      "outputs": [
        {
          "output_type": "display_data",
          "data": {
            "text/plain": [
              "<IPython.core.display.HTML object>"
            ],
            "text/html": [
              "\n",
              "  <style>\n",
              "    pre {\n",
              "        white-space: pre-wrap;\n",
              "    }\n",
              "  </style>\n",
              "  "
            ]
          },
          "metadata": {}
        },
        {
          "output_type": "display_data",
          "data": {
            "text/plain": [
              "<IPython.core.display.HTML object>"
            ],
            "text/html": [
              "\n",
              "  <style>\n",
              "    pre {\n",
              "        white-space: pre-wrap;\n",
              "    }\n",
              "  </style>\n",
              "  "
            ]
          },
          "metadata": {}
        },
        {
          "output_type": "execute_result",
          "data": {
            "text/plain": [
              "<cassandra.cluster.ResultSet at 0x78d9479f3490>"
            ]
          },
          "metadata": {},
          "execution_count": 28
        }
      ]
    },
    {
      "cell_type": "code",
      "source": [
        "# Create the collection\n",
        "#collection = astra_db.create_collection(\"pdf_embedding_collection\", dimension=1536)"
      ],
      "metadata": {
        "id": "_ejZm6Yt1Txe"
      },
      "execution_count": null,
      "outputs": []
    },
    {
      "cell_type": "code",
      "source": [
        "FILE_SUFFIX = \".pdf\"\n",
        "\n",
        "embeddings = OpenAIEmbeddings()\n",
        "\n",
        "list_of_pdfs = []\n",
        "\n",
        "src_dir = \"/content/drive/MyDrive/\" + gdrive_dir\n",
        "# generate the list of PDF files\n",
        "for f in os.listdir(src_dir):\n",
        "  filename = os.path.join(src_dir, f)\n",
        "  if os.path.isfile(filename) and f[-len(FILE_SUFFIX):] == FILE_SUFFIX:\n",
        "    list_of_pdfs.append(filename)\n",
        "\n",
        "# tell us what files are being processed\n",
        "print(\"Files found:\")\n",
        "pprint(list_of_pdfs)\n",
        "\n",
        "pdf_loaders = [\n",
        "    PyPDFLoader(pdf_name)\n",
        "    for pdf_name in list_of_pdfs\n",
        "]"
      ],
      "metadata": {
        "colab": {
          "base_uri": "https://localhost:8080/",
          "height": 72
        },
        "id": "x-GixPUKo0_S",
        "outputId": "cee213c7-f85a-4e46-9482-d9a30b31aac5"
      },
      "execution_count": 9,
      "outputs": [
        {
          "output_type": "display_data",
          "data": {
            "text/plain": [
              "<IPython.core.display.HTML object>"
            ],
            "text/html": [
              "\n",
              "  <style>\n",
              "    pre {\n",
              "        white-space: pre-wrap;\n",
              "    }\n",
              "  </style>\n",
              "  "
            ]
          },
          "metadata": {}
        },
        {
          "output_type": "display_data",
          "data": {
            "text/plain": [
              "<IPython.core.display.HTML object>"
            ],
            "text/html": [
              "\n",
              "  <style>\n",
              "    pre {\n",
              "        white-space: pre-wrap;\n",
              "    }\n",
              "  </style>\n",
              "  "
            ]
          },
          "metadata": {}
        },
        {
          "output_type": "display_data",
          "data": {
            "text/plain": [
              "<IPython.core.display.HTML object>"
            ],
            "text/html": [
              "\n",
              "  <style>\n",
              "    pre {\n",
              "        white-space: pre-wrap;\n",
              "    }\n",
              "  </style>\n",
              "  "
            ]
          },
          "metadata": {}
        },
        {
          "output_type": "display_data",
          "data": {
            "text/plain": [
              "<IPython.core.display.HTML object>"
            ],
            "text/html": [
              "\n",
              "  <style>\n",
              "    pre {\n",
              "        white-space: pre-wrap;\n",
              "    }\n",
              "  </style>\n",
              "  "
            ]
          },
          "metadata": {}
        },
        {
          "output_type": "stream",
          "name": "stdout",
          "text": [
            "Files found:\n",
            "['/content/drive/MyDrive/Astra/Demo/PDFData/tbu-intermediate.pdf',\n",
            " '/content/drive/MyDrive/Astra/Demo/PDFData/tbu-foundations.pdf']\n"
          ]
        }
      ]
    },
    {
      "cell_type": "code",
      "source": [
        "docs = []\n",
        "for l in pdf_loaders:\n",
        "    docs.extend(l.load())"
      ],
      "metadata": {
        "colab": {
          "base_uri": "https://localhost:8080/",
          "height": 17
        },
        "id": "8nLZ4UrDXU87",
        "outputId": "91b522a5-75e3-48b1-9a1a-9161f30f64c6"
      },
      "execution_count": 10,
      "outputs": [
        {
          "output_type": "display_data",
          "data": {
            "text/plain": [
              "<IPython.core.display.HTML object>"
            ],
            "text/html": [
              "\n",
              "  <style>\n",
              "    pre {\n",
              "        white-space: pre-wrap;\n",
              "    }\n",
              "  </style>\n",
              "  "
            ]
          },
          "metadata": {}
        },
        {
          "output_type": "display_data",
          "data": {
            "text/plain": [
              "<IPython.core.display.HTML object>"
            ],
            "text/html": [
              "\n",
              "  <style>\n",
              "    pre {\n",
              "        white-space: pre-wrap;\n",
              "    }\n",
              "  </style>\n",
              "  "
            ]
          },
          "metadata": {}
        },
        {
          "output_type": "display_data",
          "data": {
            "text/plain": [
              "<IPython.core.display.HTML object>"
            ],
            "text/html": [
              "\n",
              "  <style>\n",
              "    pre {\n",
              "        white-space: pre-wrap;\n",
              "    }\n",
              "  </style>\n",
              "  "
            ]
          },
          "metadata": {}
        },
        {
          "output_type": "display_data",
          "data": {
            "text/plain": [
              "<IPython.core.display.HTML object>"
            ],
            "text/html": [
              "\n",
              "  <style>\n",
              "    pre {\n",
              "        white-space: pre-wrap;\n",
              "    }\n",
              "  </style>\n",
              "  "
            ]
          },
          "metadata": {}
        }
      ]
    },
    {
      "cell_type": "code",
      "source": [
        "## Using Parent Document retriever\n",
        "# Sometimes, the full documents can be too big to want to retrieve them as is.\n",
        "# In that case, what we really want to do is to first split the raw documents into\n",
        "# larger chunks, and then split it into smaller chunks. We then index the smaller\n",
        "# chunks, but on retrieval we retrieve the larger chunks (but still not the full documents).\n",
        "\n",
        "# This process helps improve RAG by condnsing the content embedding\n",
        "\n",
        "# strip and load the docs\n",
        "# This text splitter is used to create the parent documents\n",
        "parent_splitter = RecursiveCharacterTextSplitter(chunk_size=2000)\n",
        "# This text splitter is used to create the child documents\n",
        "# It should create documents smaller than the parent\n",
        "child_splitter = RecursiveCharacterTextSplitter(chunk_size=500)\n",
        "\n",
        "#text_splitter = RecursiveCharacterTextSplitter(\n",
        "#    chunk_size=500,\n",
        "#    chunk_overlap=80,\n",
        "#)\n",
        "\n",
        "# set up the vector store for the child chunks - this uses the new Astra vector API with LangChain\n",
        "vectorstore = LCAstraDB(\n",
        "    embedding=embeddings,\n",
        "    collection_name=\"pdf_embedding_collection\",\n",
        "    token=ASTRA_DB_TOKEN_BASED_PASSWORD,\n",
        "    api_endpoint=ASTRA_DB_API_ENDPOINT,\n",
        ")\n",
        "\n",
        "# The storage layer for the parent documents\n",
        "store = InMemoryStore()"
      ],
      "metadata": {
        "colab": {
          "base_uri": "https://localhost:8080/",
          "height": 17
        },
        "id": "MB0XWvTLWu4Q",
        "outputId": "ba128661-4398-46b0-817c-5d9d146008c2"
      },
      "execution_count": 14,
      "outputs": [
        {
          "output_type": "display_data",
          "data": {
            "text/plain": [
              "<IPython.core.display.HTML object>"
            ],
            "text/html": [
              "\n",
              "  <style>\n",
              "    pre {\n",
              "        white-space: pre-wrap;\n",
              "    }\n",
              "  </style>\n",
              "  "
            ]
          },
          "metadata": {}
        },
        {
          "output_type": "display_data",
          "data": {
            "text/plain": [
              "<IPython.core.display.HTML object>"
            ],
            "text/html": [
              "\n",
              "  <style>\n",
              "    pre {\n",
              "        white-space: pre-wrap;\n",
              "    }\n",
              "  </style>\n",
              "  "
            ]
          },
          "metadata": {}
        },
        {
          "output_type": "display_data",
          "data": {
            "text/plain": [
              "<IPython.core.display.HTML object>"
            ],
            "text/html": [
              "\n",
              "  <style>\n",
              "    pre {\n",
              "        white-space: pre-wrap;\n",
              "    }\n",
              "  </style>\n",
              "  "
            ]
          },
          "metadata": {}
        },
        {
          "output_type": "display_data",
          "data": {
            "text/plain": [
              "<IPython.core.display.HTML object>"
            ],
            "text/html": [
              "\n",
              "  <style>\n",
              "    pre {\n",
              "        white-space: pre-wrap;\n",
              "    }\n",
              "  </style>\n",
              "  "
            ]
          },
          "metadata": {}
        }
      ]
    },
    {
      "cell_type": "code",
      "source": [
        "retriever = ParentDocumentRetriever(\n",
        "    vectorstore=vectorstore,\n",
        "    docstore=store,\n",
        "    child_splitter=child_splitter,\n",
        "    parent_splitter=parent_splitter,\n",
        ")\n",
        "\n",
        "retriever.add_documents(docs)\n",
        "\n",
        "#documents = [\n",
        "#    doc\n",
        "#    for loader in pdf_loaders\n",
        "#    for doc in loader.load_and_split(text_splitter=text_splitter)\n",
        "#]\n",
        "#\n",
        "#texts, metadatas = zip(*((doc.page_content, doc.metadata) for doc in documents))\n",
        "#vectorstore.add_texts(texts=texts, metadatas=metadatas)"
      ],
      "metadata": {
        "colab": {
          "base_uri": "https://localhost:8080/",
          "height": 17
        },
        "id": "Q1OtboZ4W8SS",
        "outputId": "16c1d9a0-9a1c-4e1b-d055-aecac1ba424a"
      },
      "execution_count": 15,
      "outputs": [
        {
          "output_type": "display_data",
          "data": {
            "text/plain": [
              "<IPython.core.display.HTML object>"
            ],
            "text/html": [
              "\n",
              "  <style>\n",
              "    pre {\n",
              "        white-space: pre-wrap;\n",
              "    }\n",
              "  </style>\n",
              "  "
            ]
          },
          "metadata": {}
        },
        {
          "output_type": "display_data",
          "data": {
            "text/plain": [
              "<IPython.core.display.HTML object>"
            ],
            "text/html": [
              "\n",
              "  <style>\n",
              "    pre {\n",
              "        white-space: pre-wrap;\n",
              "    }\n",
              "  </style>\n",
              "  "
            ]
          },
          "metadata": {}
        },
        {
          "output_type": "display_data",
          "data": {
            "text/plain": [
              "<IPython.core.display.HTML object>"
            ],
            "text/html": [
              "\n",
              "  <style>\n",
              "    pre {\n",
              "        white-space: pre-wrap;\n",
              "    }\n",
              "  </style>\n",
              "  "
            ]
          },
          "metadata": {}
        },
        {
          "output_type": "display_data",
          "data": {
            "text/plain": [
              "<IPython.core.display.HTML object>"
            ],
            "text/html": [
              "\n",
              "  <style>\n",
              "    pre {\n",
              "        white-space: pre-wrap;\n",
              "    }\n",
              "  </style>\n",
              "  "
            ]
          },
          "metadata": {}
        }
      ]
    },
    {
      "cell_type": "code",
      "source": [
        "# We see there are many more than two documents now (or however many pdfs)\n",
        "# these are larger chunks\n",
        "\n",
        "len(list(store.yield_keys()))"
      ],
      "metadata": {
        "colab": {
          "base_uri": "https://localhost:8080/",
          "height": 35
        },
        "id": "caK7-0zqWm7o",
        "outputId": "2eb12770-f939-4de6-b446-e3de8e1d964c"
      },
      "execution_count": 16,
      "outputs": [
        {
          "output_type": "display_data",
          "data": {
            "text/plain": [
              "<IPython.core.display.HTML object>"
            ],
            "text/html": [
              "\n",
              "  <style>\n",
              "    pre {\n",
              "        white-space: pre-wrap;\n",
              "    }\n",
              "  </style>\n",
              "  "
            ]
          },
          "metadata": {}
        },
        {
          "output_type": "display_data",
          "data": {
            "text/plain": [
              "<IPython.core.display.HTML object>"
            ],
            "text/html": [
              "\n",
              "  <style>\n",
              "    pre {\n",
              "        white-space: pre-wrap;\n",
              "    }\n",
              "  </style>\n",
              "  "
            ]
          },
          "metadata": {}
        },
        {
          "output_type": "display_data",
          "data": {
            "text/plain": [
              "<IPython.core.display.HTML object>"
            ],
            "text/html": [
              "\n",
              "  <style>\n",
              "    pre {\n",
              "        white-space: pre-wrap;\n",
              "    }\n",
              "  </style>\n",
              "  "
            ]
          },
          "metadata": {}
        },
        {
          "output_type": "display_data",
          "data": {
            "text/plain": [
              "<IPython.core.display.HTML object>"
            ],
            "text/html": [
              "\n",
              "  <style>\n",
              "    pre {\n",
              "        white-space: pre-wrap;\n",
              "    }\n",
              "  </style>\n",
              "  "
            ]
          },
          "metadata": {}
        },
        {
          "output_type": "execute_result",
          "data": {
            "text/plain": [
              "560"
            ]
          },
          "metadata": {},
          "execution_count": 16
        }
      ]
    },
    {
      "cell_type": "code",
      "source": [
        "# Let's make sure the underlying vector store retrieves the small chunks\n",
        "\n",
        "sub_docs = vectorstore.similarity_search(\"What distinguishes Christianity from other religions?\")\n",
        "\n",
        "print(sub_docs[0].page_content)"
      ],
      "metadata": {
        "colab": {
          "base_uri": "https://localhost:8080/",
          "height": 181
        },
        "id": "eIEW10ycYT_e",
        "outputId": "e6014229-28df-4512-eb3a-76054a1a65ed"
      },
      "execution_count": 18,
      "outputs": [
        {
          "output_type": "display_data",
          "data": {
            "text/plain": [
              "<IPython.core.display.HTML object>"
            ],
            "text/html": [
              "\n",
              "  <style>\n",
              "    pre {\n",
              "        white-space: pre-wrap;\n",
              "    }\n",
              "  </style>\n",
              "  "
            ]
          },
          "metadata": {}
        },
        {
          "output_type": "display_data",
          "data": {
            "text/plain": [
              "<IPython.core.display.HTML object>"
            ],
            "text/html": [
              "\n",
              "  <style>\n",
              "    pre {\n",
              "        white-space: pre-wrap;\n",
              "    }\n",
              "  </style>\n",
              "  "
            ]
          },
          "metadata": {}
        },
        {
          "output_type": "display_data",
          "data": {
            "text/plain": [
              "<IPython.core.display.HTML object>"
            ],
            "text/html": [
              "\n",
              "  <style>\n",
              "    pre {\n",
              "        white-space: pre-wrap;\n",
              "    }\n",
              "  </style>\n",
              "  "
            ]
          },
          "metadata": {}
        },
        {
          "output_type": "display_data",
          "data": {
            "text/plain": [
              "<IPython.core.display.HTML object>"
            ],
            "text/html": [
              "\n",
              "  <style>\n",
              "    pre {\n",
              "        white-space: pre-wrap;\n",
              "    }\n",
              "  </style>\n",
              "  "
            ]
          },
          "metadata": {}
        },
        {
          "output_type": "stream",
          "name": "stdout",
          "text": [
            "8 Unit A.  God and Spiritual Powers  \n",
            "3. Jesus Christ  \n",
            "What distinguishes Christianity from other religions is largely its \n",
            "teachings about Jesus Christ. This chapter looks at this central figure, \n",
            "including the amazing  claim that Jesus Christ is the Son of God.  \n",
            "Jesus Christ ’s Eternity  \n",
            "Jesus Christ existed in the beginning  \n",
            "[JOHN, TO BELIEVERS :]  I’m writing to you, fathers, because you know \n",
            "Christ who has existed from the beginning .   1 JOHN 2:13 A GW\n"
          ]
        }
      ]
    },
    {
      "cell_type": "code",
      "source": [
        "retrieved_docs = retriever.get_relevant_documents(\"justice breyer\")\n",
        "len(retrieved_docs[0].page_content)"
      ],
      "metadata": {
        "colab": {
          "base_uri": "https://localhost:8080/",
          "height": 35
        },
        "id": "rxvg9Kj9ZD-S",
        "outputId": "f77c1343-7556-49e4-bf25-7438c9e7f35a"
      },
      "execution_count": 19,
      "outputs": [
        {
          "output_type": "display_data",
          "data": {
            "text/plain": [
              "<IPython.core.display.HTML object>"
            ],
            "text/html": [
              "\n",
              "  <style>\n",
              "    pre {\n",
              "        white-space: pre-wrap;\n",
              "    }\n",
              "  </style>\n",
              "  "
            ]
          },
          "metadata": {}
        },
        {
          "output_type": "display_data",
          "data": {
            "text/plain": [
              "<IPython.core.display.HTML object>"
            ],
            "text/html": [
              "\n",
              "  <style>\n",
              "    pre {\n",
              "        white-space: pre-wrap;\n",
              "    }\n",
              "  </style>\n",
              "  "
            ]
          },
          "metadata": {}
        },
        {
          "output_type": "display_data",
          "data": {
            "text/plain": [
              "<IPython.core.display.HTML object>"
            ],
            "text/html": [
              "\n",
              "  <style>\n",
              "    pre {\n",
              "        white-space: pre-wrap;\n",
              "    }\n",
              "  </style>\n",
              "  "
            ]
          },
          "metadata": {}
        },
        {
          "output_type": "display_data",
          "data": {
            "text/plain": [
              "<IPython.core.display.HTML object>"
            ],
            "text/html": [
              "\n",
              "  <style>\n",
              "    pre {\n",
              "        white-space: pre-wrap;\n",
              "    }\n",
              "  </style>\n",
              "  "
            ]
          },
          "metadata": {}
        },
        {
          "output_type": "execute_result",
          "data": {
            "text/plain": [
              "1775"
            ]
          },
          "metadata": {},
          "execution_count": 19
        }
      ]
    },
    {
      "cell_type": "code",
      "source": [
        "print(retrieved_docs[0].page_content)"
      ],
      "metadata": {
        "colab": {
          "base_uri": "https://localhost:8080/",
          "height": 602
        },
        "id": "2vMcQdV8ZJFQ",
        "outputId": "bd1e478b-3259-4012-c416-81f0ef02c628"
      },
      "execution_count": 20,
      "outputs": [
        {
          "output_type": "display_data",
          "data": {
            "text/plain": [
              "<IPython.core.display.HTML object>"
            ],
            "text/html": [
              "\n",
              "  <style>\n",
              "    pre {\n",
              "        white-space: pre-wrap;\n",
              "    }\n",
              "  </style>\n",
              "  "
            ]
          },
          "metadata": {}
        },
        {
          "output_type": "display_data",
          "data": {
            "text/plain": [
              "<IPython.core.display.HTML object>"
            ],
            "text/html": [
              "\n",
              "  <style>\n",
              "    pre {\n",
              "        white-space: pre-wrap;\n",
              "    }\n",
              "  </style>\n",
              "  "
            ]
          },
          "metadata": {}
        },
        {
          "output_type": "display_data",
          "data": {
            "text/plain": [
              "<IPython.core.display.HTML object>"
            ],
            "text/html": [
              "\n",
              "  <style>\n",
              "    pre {\n",
              "        white-space: pre-wrap;\n",
              "    }\n",
              "  </style>\n",
              "  "
            ]
          },
          "metadata": {}
        },
        {
          "output_type": "display_data",
          "data": {
            "text/plain": [
              "<IPython.core.display.HTML object>"
            ],
            "text/html": [
              "\n",
              "  <style>\n",
              "    pre {\n",
              "        white-space: pre-wrap;\n",
              "    }\n",
              "  </style>\n",
              "  "
            ]
          },
          "metadata": {}
        },
        {
          "output_type": "stream",
          "name": "stdout",
          "text": [
            "10. God’s Judgment  81 \n",
            " God’s judgment is to discipline God ’s people  \n",
            "[PAUL, TO BELIEVERS :] But when we are judged by the Lord, we are \n",
            "disciplined  so that we may not be condemned with the world.   \n",
            "1 CORINTHIANS 11:32  NET \n",
            "God’s judgment is to punish the wicked  \n",
            "But by the same word the present heav ens and earth have been \n",
            "reserved for fire, by being kept for the day of judgment and \n",
            "destruction of the ungodly .   2 PETER 3:7 NET \n",
            "God’s judgment is also to re ward God ’s people  \n",
            "[ELDERS IN HEAVEN , TO GOD:] The nations were enraged, but your wrath \n",
            "has come, and the time has come for the dead to be judged, and the \n",
            "time has come to give to your servants, the prophets, their reward, as \n",
            "well as to the saints and to th ose who revere your name, both small \n",
            "and great , and the time has come to destroy those who destroy the \n",
            "earth.   REVELATION 11:18  NET \n",
            "As well as punishmen t for wrongdoing, God ’s judgment includes \n",
            "reward for godliness.  \n",
            "God’s Judgment Is Just  \n",
            "God judges righteously and justly  \n",
            "This is evidence of God ’s righteous judgment , to make you worthy of \n",
            "the kingdom of God, for which in fact you are suffering.   \n",
            "2 THESSALONIANS 1:5 NET \n",
            "For he has fixed a day in which he will judge the whole world with \n",
            "justice  by means of a man he has chosen.   ACTS 17:31 A GNT \n",
            "God judges people with knowledge of all their deeds  \n",
            "[JEREMIAH , TO GOD:] You see everything people do. You reward each of \n",
            "them for the way they live and for the things they do.   JEREMIAH 32:19 B NET \n",
            "One reason why God ’s judgment is just is that he judges people with \n",
            "knowledge of all their deeds – as well as of all their thoughts and \n",
            "motives (as per the following subsection). As such he can make \n",
            "judgments with knowledge of all the relevant information.\n"
          ]
        }
      ]
    }
  ]
}