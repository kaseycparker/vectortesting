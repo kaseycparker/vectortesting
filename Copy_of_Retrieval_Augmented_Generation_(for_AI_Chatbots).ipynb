{
  "cells": [
    {
      "cell_type": "markdown",
      "metadata": {
        "id": "G7k44CpJhHV2"
      },
      "source": [
        "<a href=\"https://colab.research.google.com/github/awesome-astra/docs/blob/main/docs/pages/tools/notebooks/Retrieval_Augmented_Generation_(for_AI_Chatbots).ipynb\" target=\"_parent\"><img src=\"https://colab.research.google.com/assets/colab-badge.svg\" alt=\"Open In Colab\"/></a>"
      ]
    },
    {
      "cell_type": "markdown",
      "metadata": {
        "id": "N-am0WPgOf93"
      },
      "source": [
        "# **LLM Retrieval Augmented Generation (RAG) Demonstration**\n",
        "\n",
        "Large Language Models (LLMs) have a data freshness problem. The most powerful LLMs in the world, like GPT-4, have no idea about an organization's proprietary data, recent events or anything outside the data sets they have been trained on.\n",
        "\n",
        "The world of LLMs is frozen in time. Their world exists as a static snapshot of the public world as it was within their training data.\n",
        "\n",
        "A solution to this problem is retrieval augmentation. The idea behind this is that we retrieve relevant information from an external knowledge base and give that information to our LLM. In this notebook we will learn how to do that. In this demo, external data will be stored in Astra DB and used to provide more relevant LLM responses.\n"
      ]
    },
    {
      "cell_type": "markdown",
      "source": [
        "# **Getting Started with this notebook**\n",
        "\n",
        "[Create a serverless database with Astra Vector Search.](https://docs.datastax.com/en/astra-serverless/docs/vector-search/chatbot-quickstart.html)"
      ],
      "metadata": {
        "id": "TcFWlmnZFwHa"
      }
    },
    {
      "cell_type": "markdown",
      "metadata": {
        "id": "Vn65Hjm7OqlJ"
      },
      "source": [
        "# **Install libraries**"
      ]
    },
    {
      "cell_type": "code",
      "execution_count": null,
      "metadata": {
        "id": "YE91v1D3OzUQ",
        "colab": {
          "base_uri": "https://localhost:8080/"
        },
        "outputId": "421245aa-a9ea-4f1c-ba32-de9fc758ce57"
      },
      "outputs": [
        {
          "output_type": "stream",
          "name": "stdout",
          "text": [
            "Collecting openai\n",
            "  Downloading openai-0.28.0-py3-none-any.whl (76 kB)\n",
            "\u001b[?25l     \u001b[90m━━━━━━━━━━━━━━━━━━━━━━━━━━━━━━━━━━━━━━━━\u001b[0m \u001b[32m0.0/76.5 kB\u001b[0m \u001b[31m?\u001b[0m eta \u001b[36m-:--:--\u001b[0m\r\u001b[2K     \u001b[90m━━━━━━━━━━━━━━━━━━━━━━━━━━━━━━━━━━━━━━━━\u001b[0m \u001b[32m76.5/76.5 kB\u001b[0m \u001b[31m3.7 MB/s\u001b[0m eta \u001b[36m0:00:00\u001b[0m\n",
            "\u001b[?25hRequirement already satisfied: pandas in /usr/local/lib/python3.10/dist-packages (1.5.3)\n",
            "Collecting jupyter-datatables\n",
            "  Downloading jupyter_datatables-0.3.9-py2.py3-none-any.whl (21 kB)\n",
            "Collecting cassandra-driver\n",
            "  Downloading cassandra_driver-3.28.0-cp310-cp310-manylinux_2_17_x86_64.manylinux2014_x86_64.whl (19.1 MB)\n",
            "\u001b[2K     \u001b[90m━━━━━━━━━━━━━━━━━━━━━━━━━━━━━━━━━━━━━━━\u001b[0m \u001b[32m19.1/19.1 MB\u001b[0m \u001b[31m111.2 MB/s\u001b[0m eta \u001b[36m0:00:00\u001b[0m\n",
            "\u001b[?25hCollecting datasets\n",
            "  Downloading datasets-2.14.5-py3-none-any.whl (519 kB)\n",
            "\u001b[2K     \u001b[90m━━━━━━━━━━━━━━━━━━━━━━━━━━━━━━━━━━━━━━\u001b[0m \u001b[32m519.6/519.6 kB\u001b[0m \u001b[31m49.2 MB/s\u001b[0m eta \u001b[36m0:00:00\u001b[0m\n",
            "\u001b[?25hRequirement already satisfied: requests>=2.20 in /usr/local/lib/python3.10/dist-packages (from openai) (2.31.0)\n",
            "Requirement already satisfied: tqdm in /usr/local/lib/python3.10/dist-packages (from openai) (4.66.1)\n",
            "Requirement already satisfied: aiohttp in /usr/local/lib/python3.10/dist-packages (from openai) (3.8.5)\n",
            "Requirement already satisfied: python-dateutil>=2.8.1 in /usr/local/lib/python3.10/dist-packages (from pandas) (2.8.2)\n",
            "Requirement already satisfied: pytz>=2020.1 in /usr/local/lib/python3.10/dist-packages (from pandas) (2023.3.post1)\n",
            "Requirement already satisfied: numpy>=1.21.0 in /usr/local/lib/python3.10/dist-packages (from pandas) (1.23.5)\n",
            "Requirement already satisfied: ipython in /usr/local/lib/python3.10/dist-packages (from jupyter-datatables) (7.34.0)\n",
            "Requirement already satisfied: ipykernel in /usr/local/lib/python3.10/dist-packages (from jupyter-datatables) (5.5.6)\n",
            "Requirement already satisfied: scipy in /usr/local/lib/python3.10/dist-packages (from jupyter-datatables) (1.11.2)\n",
            "Collecting jupyter-require>=0.3.0 (from jupyter-datatables)\n",
            "  Downloading jupyter_require-0.6.1-py2.py3-none-any.whl (42 kB)\n",
            "\u001b[2K     \u001b[90m━━━━━━━━━━━━━━━━━━━━━━━━━━━━━━━━━━━━━━━━\u001b[0m \u001b[32m42.3/42.3 kB\u001b[0m \u001b[31m5.7 MB/s\u001b[0m eta \u001b[36m0:00:00\u001b[0m\n",
            "\u001b[?25hRequirement already satisfied: six>=1.9 in /usr/local/lib/python3.10/dist-packages (from cassandra-driver) (1.16.0)\n",
            "Collecting geomet<0.3,>=0.1 (from cassandra-driver)\n",
            "  Downloading geomet-0.2.1.post1-py3-none-any.whl (18 kB)\n",
            "Requirement already satisfied: pyarrow>=8.0.0 in /usr/local/lib/python3.10/dist-packages (from datasets) (9.0.0)\n",
            "Collecting dill<0.3.8,>=0.3.0 (from datasets)\n",
            "  Downloading dill-0.3.7-py3-none-any.whl (115 kB)\n",
            "\u001b[2K     \u001b[90m━━━━━━━━━━━━━━━━━━━━━━━━━━━━━━━━━━━━━━\u001b[0m \u001b[32m115.3/115.3 kB\u001b[0m \u001b[31m19.5 MB/s\u001b[0m eta \u001b[36m0:00:00\u001b[0m\n",
            "\u001b[?25hCollecting xxhash (from datasets)\n",
            "  Downloading xxhash-3.3.0-cp310-cp310-manylinux_2_17_x86_64.manylinux2014_x86_64.whl (194 kB)\n",
            "\u001b[2K     \u001b[90m━━━━━━━━━━━━━━━━━━━━━━━━━━━━━━━━━━━━━━\u001b[0m \u001b[32m194.1/194.1 kB\u001b[0m \u001b[31m23.3 MB/s\u001b[0m eta \u001b[36m0:00:00\u001b[0m\n",
            "\u001b[?25hCollecting multiprocess (from datasets)\n",
            "  Downloading multiprocess-0.70.15-py310-none-any.whl (134 kB)\n",
            "\u001b[2K     \u001b[90m━━━━━━━━━━━━━━━━━━━━━━━━━━━━━━━━━━━━━━\u001b[0m \u001b[32m134.8/134.8 kB\u001b[0m \u001b[31m16.2 MB/s\u001b[0m eta \u001b[36m0:00:00\u001b[0m\n",
            "\u001b[?25hRequirement already satisfied: fsspec[http]<2023.9.0,>=2023.1.0 in /usr/local/lib/python3.10/dist-packages (from datasets) (2023.6.0)\n",
            "Collecting huggingface-hub<1.0.0,>=0.14.0 (from datasets)\n",
            "  Downloading huggingface_hub-0.17.2-py3-none-any.whl (294 kB)\n",
            "\u001b[2K     \u001b[90m━━━━━━━━━━━━━━━━━━━━━━━━━━━━━━━━━━━━━━\u001b[0m \u001b[32m294.9/294.9 kB\u001b[0m \u001b[31m38.1 MB/s\u001b[0m eta \u001b[36m0:00:00\u001b[0m\n",
            "\u001b[?25hRequirement already satisfied: packaging in /usr/local/lib/python3.10/dist-packages (from datasets) (23.1)\n",
            "Requirement already satisfied: pyyaml>=5.1 in /usr/local/lib/python3.10/dist-packages (from datasets) (6.0.1)\n",
            "Requirement already satisfied: attrs>=17.3.0 in /usr/local/lib/python3.10/dist-packages (from aiohttp->openai) (23.1.0)\n",
            "Requirement already satisfied: charset-normalizer<4.0,>=2.0 in /usr/local/lib/python3.10/dist-packages (from aiohttp->openai) (3.2.0)\n",
            "Requirement already satisfied: multidict<7.0,>=4.5 in /usr/local/lib/python3.10/dist-packages (from aiohttp->openai) (6.0.4)\n",
            "Requirement already satisfied: async-timeout<5.0,>=4.0.0a3 in /usr/local/lib/python3.10/dist-packages (from aiohttp->openai) (4.0.3)\n",
            "Requirement already satisfied: yarl<2.0,>=1.0 in /usr/local/lib/python3.10/dist-packages (from aiohttp->openai) (1.9.2)\n",
            "Requirement already satisfied: frozenlist>=1.1.1 in /usr/local/lib/python3.10/dist-packages (from aiohttp->openai) (1.4.0)\n",
            "Requirement already satisfied: aiosignal>=1.1.2 in /usr/local/lib/python3.10/dist-packages (from aiohttp->openai) (1.3.1)\n",
            "Requirement already satisfied: click in /usr/local/lib/python3.10/dist-packages (from geomet<0.3,>=0.1->cassandra-driver) (8.1.7)\n",
            "Requirement already satisfied: filelock in /usr/local/lib/python3.10/dist-packages (from huggingface-hub<1.0.0,>=0.14.0->datasets) (3.12.2)\n",
            "Requirement already satisfied: typing-extensions>=3.7.4.3 in /usr/local/lib/python3.10/dist-packages (from huggingface-hub<1.0.0,>=0.14.0->datasets) (4.5.0)\n",
            "Collecting csscompressor (from jupyter-require>=0.3.0->jupyter-datatables)\n",
            "  Downloading csscompressor-0.9.5.tar.gz (237 kB)\n",
            "\u001b[2K     \u001b[90m━━━━━━━━━━━━━━━━━━━━━━━━━━━━━━━━━━━━━━\u001b[0m \u001b[32m237.8/237.8 kB\u001b[0m \u001b[31m15.5 MB/s\u001b[0m eta \u001b[36m0:00:00\u001b[0m\n",
            "\u001b[?25h  Preparing metadata (setup.py) ... \u001b[?25l\u001b[?25hdone\n",
            "Collecting daiquiri (from jupyter-require>=0.3.0->jupyter-datatables)\n",
            "  Downloading daiquiri-3.2.1-py3-none-any.whl (19 kB)\n",
            "Collecting jupyter-nbutils (from jupyter-require>=0.3.0->jupyter-datatables)\n",
            "  Downloading jupyter_nbutils-0.1.3-py3-none-any.whl (7.7 kB)\n",
            "Collecting jupyter-contrib-nbextensions (from jupyter-require>=0.3.0->jupyter-datatables)\n",
            "  Downloading jupyter_contrib_nbextensions-0.7.0.tar.gz (23.5 MB)\n",
            "\u001b[2K     \u001b[90m━━━━━━━━━━━━━━━━━━━━━━━━━━━━━━━━━━━━━━━━\u001b[0m \u001b[32m23.5/23.5 MB\u001b[0m \u001b[31m62.7 MB/s\u001b[0m eta \u001b[36m0:00:00\u001b[0m\n",
            "\u001b[?25h  Preparing metadata (setup.py) ... \u001b[?25l\u001b[?25hdone\n",
            "Requirement already satisfied: idna<4,>=2.5 in /usr/local/lib/python3.10/dist-packages (from requests>=2.20->openai) (3.4)\n",
            "Requirement already satisfied: urllib3<3,>=1.21.1 in /usr/local/lib/python3.10/dist-packages (from requests>=2.20->openai) (2.0.4)\n",
            "Requirement already satisfied: certifi>=2017.4.17 in /usr/local/lib/python3.10/dist-packages (from requests>=2.20->openai) (2023.7.22)\n",
            "Requirement already satisfied: ipython-genutils in /usr/local/lib/python3.10/dist-packages (from ipykernel->jupyter-datatables) (0.2.0)\n",
            "Requirement already satisfied: traitlets>=4.1.0 in /usr/local/lib/python3.10/dist-packages (from ipykernel->jupyter-datatables) (5.7.1)\n",
            "Requirement already satisfied: jupyter-client in /usr/local/lib/python3.10/dist-packages (from ipykernel->jupyter-datatables) (6.1.12)\n",
            "Requirement already satisfied: tornado>=4.2 in /usr/local/lib/python3.10/dist-packages (from ipykernel->jupyter-datatables) (6.3.2)\n",
            "Requirement already satisfied: setuptools>=18.5 in /usr/local/lib/python3.10/dist-packages (from ipython->jupyter-datatables) (67.7.2)\n",
            "Collecting jedi>=0.16 (from ipython->jupyter-datatables)\n",
            "  Downloading jedi-0.19.0-py2.py3-none-any.whl (1.6 MB)\n",
            "\u001b[2K     \u001b[90m━━━━━━━━━━━━━━━━━━━━━━━━━━━━━━━━━━━━━━━━\u001b[0m \u001b[32m1.6/1.6 MB\u001b[0m \u001b[31m82.1 MB/s\u001b[0m eta \u001b[36m0:00:00\u001b[0m\n",
            "\u001b[?25hRequirement already satisfied: decorator in /usr/local/lib/python3.10/dist-packages (from ipython->jupyter-datatables) (4.4.2)\n",
            "Requirement already satisfied: pickleshare in /usr/local/lib/python3.10/dist-packages (from ipython->jupyter-datatables) (0.7.5)\n",
            "Requirement already satisfied: prompt-toolkit!=3.0.0,!=3.0.1,<3.1.0,>=2.0.0 in /usr/local/lib/python3.10/dist-packages (from ipython->jupyter-datatables) (3.0.39)\n",
            "Requirement already satisfied: pygments in /usr/local/lib/python3.10/dist-packages (from ipython->jupyter-datatables) (2.16.1)\n",
            "Requirement already satisfied: backcall in /usr/local/lib/python3.10/dist-packages (from ipython->jupyter-datatables) (0.2.0)\n",
            "Requirement already satisfied: matplotlib-inline in /usr/local/lib/python3.10/dist-packages (from ipython->jupyter-datatables) (0.1.6)\n",
            "Requirement already satisfied: pexpect>4.3 in /usr/local/lib/python3.10/dist-packages (from ipython->jupyter-datatables) (4.8.0)\n",
            "Requirement already satisfied: parso<0.9.0,>=0.8.3 in /usr/local/lib/python3.10/dist-packages (from jedi>=0.16->ipython->jupyter-datatables) (0.8.3)\n",
            "Requirement already satisfied: ptyprocess>=0.5 in /usr/local/lib/python3.10/dist-packages (from pexpect>4.3->ipython->jupyter-datatables) (0.7.0)\n",
            "Requirement already satisfied: wcwidth in /usr/local/lib/python3.10/dist-packages (from prompt-toolkit!=3.0.0,!=3.0.1,<3.1.0,>=2.0.0->ipython->jupyter-datatables) (0.2.6)\n",
            "Collecting python-json-logger (from daiquiri->jupyter-require>=0.3.0->jupyter-datatables)\n",
            "  Downloading python_json_logger-2.0.7-py3-none-any.whl (8.1 kB)\n",
            "Requirement already satisfied: jupyter-core>=4.6.0 in /usr/local/lib/python3.10/dist-packages (from jupyter-client->ipykernel->jupyter-datatables) (5.3.1)\n",
            "Requirement already satisfied: pyzmq>=13 in /usr/local/lib/python3.10/dist-packages (from jupyter-client->ipykernel->jupyter-datatables) (23.2.1)\n",
            "Collecting jupyter_contrib_core>=0.3.3 (from jupyter-contrib-nbextensions->jupyter-require>=0.3.0->jupyter-datatables)\n",
            "  Downloading jupyter_contrib_core-0.4.2.tar.gz (17 kB)\n",
            "  Preparing metadata (setup.py) ... \u001b[?25l\u001b[?25hdone\n",
            "Collecting jupyter_highlight_selected_word>=0.1.1 (from jupyter-contrib-nbextensions->jupyter-require>=0.3.0->jupyter-datatables)\n",
            "  Downloading jupyter_highlight_selected_word-0.2.0-py2.py3-none-any.whl (11 kB)\n",
            "Collecting jupyter_nbextensions_configurator>=0.4.0 (from jupyter-contrib-nbextensions->jupyter-require>=0.3.0->jupyter-datatables)\n",
            "  Downloading jupyter_nbextensions_configurator-0.6.3-py2.py3-none-any.whl (466 kB)\n",
            "\u001b[2K     \u001b[90m━━━━━━━━━━━━━━━━━━━━━━━━━━━━━━━━━━━━━━\u001b[0m \u001b[32m466.9/466.9 kB\u001b[0m \u001b[31m55.6 MB/s\u001b[0m eta \u001b[36m0:00:00\u001b[0m\n",
            "\u001b[?25hRequirement already satisfied: nbconvert>=6.0 in /usr/local/lib/python3.10/dist-packages (from jupyter-contrib-nbextensions->jupyter-require>=0.3.0->jupyter-datatables) (6.5.4)\n",
            "Requirement already satisfied: notebook>=6.0 in /usr/local/lib/python3.10/dist-packages (from jupyter-contrib-nbextensions->jupyter-require>=0.3.0->jupyter-datatables) (6.5.5)\n",
            "Requirement already satisfied: lxml in /usr/local/lib/python3.10/dist-packages (from jupyter-contrib-nbextensions->jupyter-require>=0.3.0->jupyter-datatables) (4.9.3)\n",
            "Requirement already satisfied: platformdirs>=2.5 in /usr/local/lib/python3.10/dist-packages (from jupyter-core>=4.6.0->jupyter-client->ipykernel->jupyter-datatables) (3.10.0)\n",
            "Requirement already satisfied: beautifulsoup4 in /usr/local/lib/python3.10/dist-packages (from nbconvert>=6.0->jupyter-contrib-nbextensions->jupyter-require>=0.3.0->jupyter-datatables) (4.11.2)\n",
            "Requirement already satisfied: bleach in /usr/local/lib/python3.10/dist-packages (from nbconvert>=6.0->jupyter-contrib-nbextensions->jupyter-require>=0.3.0->jupyter-datatables) (6.0.0)\n",
            "Requirement already satisfied: defusedxml in /usr/local/lib/python3.10/dist-packages (from nbconvert>=6.0->jupyter-contrib-nbextensions->jupyter-require>=0.3.0->jupyter-datatables) (0.7.1)\n",
            "Requirement already satisfied: entrypoints>=0.2.2 in /usr/local/lib/python3.10/dist-packages (from nbconvert>=6.0->jupyter-contrib-nbextensions->jupyter-require>=0.3.0->jupyter-datatables) (0.4)\n",
            "Requirement already satisfied: jinja2>=3.0 in /usr/local/lib/python3.10/dist-packages (from nbconvert>=6.0->jupyter-contrib-nbextensions->jupyter-require>=0.3.0->jupyter-datatables) (3.1.2)\n",
            "Requirement already satisfied: jupyterlab-pygments in /usr/local/lib/python3.10/dist-packages (from nbconvert>=6.0->jupyter-contrib-nbextensions->jupyter-require>=0.3.0->jupyter-datatables) (0.2.2)\n",
            "Requirement already satisfied: MarkupSafe>=2.0 in /usr/local/lib/python3.10/dist-packages (from nbconvert>=6.0->jupyter-contrib-nbextensions->jupyter-require>=0.3.0->jupyter-datatables) (2.1.3)\n",
            "Requirement already satisfied: mistune<2,>=0.8.1 in /usr/local/lib/python3.10/dist-packages (from nbconvert>=6.0->jupyter-contrib-nbextensions->jupyter-require>=0.3.0->jupyter-datatables) (0.8.4)\n",
            "Requirement already satisfied: nbclient>=0.5.0 in /usr/local/lib/python3.10/dist-packages (from nbconvert>=6.0->jupyter-contrib-nbextensions->jupyter-require>=0.3.0->jupyter-datatables) (0.8.0)\n",
            "Requirement already satisfied: nbformat>=5.1 in /usr/local/lib/python3.10/dist-packages (from nbconvert>=6.0->jupyter-contrib-nbextensions->jupyter-require>=0.3.0->jupyter-datatables) (5.9.2)\n",
            "Requirement already satisfied: pandocfilters>=1.4.1 in /usr/local/lib/python3.10/dist-packages (from nbconvert>=6.0->jupyter-contrib-nbextensions->jupyter-require>=0.3.0->jupyter-datatables) (1.5.0)\n",
            "Requirement already satisfied: tinycss2 in /usr/local/lib/python3.10/dist-packages (from nbconvert>=6.0->jupyter-contrib-nbextensions->jupyter-require>=0.3.0->jupyter-datatables) (1.2.1)\n",
            "Requirement already satisfied: argon2-cffi in /usr/local/lib/python3.10/dist-packages (from notebook>=6.0->jupyter-contrib-nbextensions->jupyter-require>=0.3.0->jupyter-datatables) (23.1.0)\n",
            "Requirement already satisfied: nest-asyncio>=1.5 in /usr/local/lib/python3.10/dist-packages (from notebook>=6.0->jupyter-contrib-nbextensions->jupyter-require>=0.3.0->jupyter-datatables) (1.5.7)\n",
            "Requirement already satisfied: Send2Trash>=1.8.0 in /usr/local/lib/python3.10/dist-packages (from notebook>=6.0->jupyter-contrib-nbextensions->jupyter-require>=0.3.0->jupyter-datatables) (1.8.2)\n",
            "Requirement already satisfied: terminado>=0.8.3 in /usr/local/lib/python3.10/dist-packages (from notebook>=6.0->jupyter-contrib-nbextensions->jupyter-require>=0.3.0->jupyter-datatables) (0.17.1)\n",
            "Requirement already satisfied: prometheus-client in /usr/local/lib/python3.10/dist-packages (from notebook>=6.0->jupyter-contrib-nbextensions->jupyter-require>=0.3.0->jupyter-datatables) (0.17.1)\n",
            "Requirement already satisfied: nbclassic>=0.4.7 in /usr/local/lib/python3.10/dist-packages (from notebook>=6.0->jupyter-contrib-nbextensions->jupyter-require>=0.3.0->jupyter-datatables) (1.0.0)\n",
            "Requirement already satisfied: jupyter-server>=1.8 in /usr/local/lib/python3.10/dist-packages (from nbclassic>=0.4.7->notebook>=6.0->jupyter-contrib-nbextensions->jupyter-require>=0.3.0->jupyter-datatables) (1.24.0)\n",
            "Requirement already satisfied: notebook-shim>=0.2.3 in /usr/local/lib/python3.10/dist-packages (from nbclassic>=0.4.7->notebook>=6.0->jupyter-contrib-nbextensions->jupyter-require>=0.3.0->jupyter-datatables) (0.2.3)\n",
            "Requirement already satisfied: fastjsonschema in /usr/local/lib/python3.10/dist-packages (from nbformat>=5.1->nbconvert>=6.0->jupyter-contrib-nbextensions->jupyter-require>=0.3.0->jupyter-datatables) (2.18.0)\n",
            "Requirement already satisfied: jsonschema>=2.6 in /usr/local/lib/python3.10/dist-packages (from nbformat>=5.1->nbconvert>=6.0->jupyter-contrib-nbextensions->jupyter-require>=0.3.0->jupyter-datatables) (4.19.0)\n",
            "Requirement already satisfied: argon2-cffi-bindings in /usr/local/lib/python3.10/dist-packages (from argon2-cffi->notebook>=6.0->jupyter-contrib-nbextensions->jupyter-require>=0.3.0->jupyter-datatables) (21.2.0)\n",
            "Requirement already satisfied: soupsieve>1.2 in /usr/local/lib/python3.10/dist-packages (from beautifulsoup4->nbconvert>=6.0->jupyter-contrib-nbextensions->jupyter-require>=0.3.0->jupyter-datatables) (2.5)\n",
            "Requirement already satisfied: webencodings in /usr/local/lib/python3.10/dist-packages (from bleach->nbconvert>=6.0->jupyter-contrib-nbextensions->jupyter-require>=0.3.0->jupyter-datatables) (0.5.1)\n",
            "Requirement already satisfied: jsonschema-specifications>=2023.03.6 in /usr/local/lib/python3.10/dist-packages (from jsonschema>=2.6->nbformat>=5.1->nbconvert>=6.0->jupyter-contrib-nbextensions->jupyter-require>=0.3.0->jupyter-datatables) (2023.7.1)\n",
            "Requirement already satisfied: referencing>=0.28.4 in /usr/local/lib/python3.10/dist-packages (from jsonschema>=2.6->nbformat>=5.1->nbconvert>=6.0->jupyter-contrib-nbextensions->jupyter-require>=0.3.0->jupyter-datatables) (0.30.2)\n",
            "Requirement already satisfied: rpds-py>=0.7.1 in /usr/local/lib/python3.10/dist-packages (from jsonschema>=2.6->nbformat>=5.1->nbconvert>=6.0->jupyter-contrib-nbextensions->jupyter-require>=0.3.0->jupyter-datatables) (0.10.2)\n",
            "Requirement already satisfied: anyio<4,>=3.1.0 in /usr/local/lib/python3.10/dist-packages (from jupyter-server>=1.8->nbclassic>=0.4.7->notebook>=6.0->jupyter-contrib-nbextensions->jupyter-require>=0.3.0->jupyter-datatables) (3.7.1)\n",
            "Requirement already satisfied: websocket-client in /usr/local/lib/python3.10/dist-packages (from jupyter-server>=1.8->nbclassic>=0.4.7->notebook>=6.0->jupyter-contrib-nbextensions->jupyter-require>=0.3.0->jupyter-datatables) (1.6.2)\n",
            "Requirement already satisfied: cffi>=1.0.1 in /usr/local/lib/python3.10/dist-packages (from argon2-cffi-bindings->argon2-cffi->notebook>=6.0->jupyter-contrib-nbextensions->jupyter-require>=0.3.0->jupyter-datatables) (1.15.1)\n",
            "Requirement already satisfied: sniffio>=1.1 in /usr/local/lib/python3.10/dist-packages (from anyio<4,>=3.1.0->jupyter-server>=1.8->nbclassic>=0.4.7->notebook>=6.0->jupyter-contrib-nbextensions->jupyter-require>=0.3.0->jupyter-datatables) (1.3.0)\n",
            "Requirement already satisfied: exceptiongroup in /usr/local/lib/python3.10/dist-packages (from anyio<4,>=3.1.0->jupyter-server>=1.8->nbclassic>=0.4.7->notebook>=6.0->jupyter-contrib-nbextensions->jupyter-require>=0.3.0->jupyter-datatables) (1.1.3)\n",
            "Requirement already satisfied: pycparser in /usr/local/lib/python3.10/dist-packages (from cffi>=1.0.1->argon2-cffi-bindings->argon2-cffi->notebook>=6.0->jupyter-contrib-nbextensions->jupyter-require>=0.3.0->jupyter-datatables) (2.21)\n",
            "Building wheels for collected packages: csscompressor, jupyter-contrib-nbextensions, jupyter_contrib_core\n",
            "  Building wheel for csscompressor (setup.py) ... \u001b[?25l\u001b[?25hdone\n",
            "  Created wheel for csscompressor: filename=csscompressor-0.9.5-py3-none-any.whl size=240337 sha256=27fb0c22521019abaffb67d896f3ddfad1ca4629f2691b381a5fce8e6a0e9500\n",
            "  Stored in directory: /root/.cache/pip/wheels/23/87/3c/3811e0b3e93b0778079202c3f3d68bd7b45d69ce2d80eaf775\n",
            "  Building wheel for jupyter-contrib-nbextensions (setup.py) ... \u001b[?25l\u001b[?25hdone\n",
            "  Created wheel for jupyter-contrib-nbextensions: filename=jupyter_contrib_nbextensions-0.7.0-py2.py3-none-any.whl size=23428781 sha256=c894c033b3a808737737b3997356b969abd96ffe3b531d912097d05587e2f5d1\n",
            "  Stored in directory: /root/.cache/pip/wheels/ea/cc/7d/99ef154f984726b1201c0f72cfe9c9d7c5132c1a2ae4d8677f\n",
            "  Building wheel for jupyter_contrib_core (setup.py) ... \u001b[?25l\u001b[?25hdone\n",
            "  Created wheel for jupyter_contrib_core: filename=jupyter_contrib_core-0.4.2-py2.py3-none-any.whl size=17484 sha256=4c354985da102ace043d005a8b2f7ab09c55d557d4c119194c2ef3e4f8acae2c\n",
            "  Stored in directory: /root/.cache/pip/wheels/a9/52/88/e0643cdfd68f0562087918c37dd583378648dbc3df68b907f7\n",
            "Successfully built csscompressor jupyter-contrib-nbextensions jupyter_contrib_core\n",
            "Installing collected packages: jupyter_highlight_selected_word, csscompressor, xxhash, python-json-logger, jedi, geomet, dill, multiprocess, huggingface-hub, daiquiri, cassandra-driver, openai, datasets, jupyter_contrib_core, jupyter_nbextensions_configurator, jupyter-contrib-nbextensions, jupyter-nbutils, jupyter-require, jupyter-datatables\n",
            "Successfully installed cassandra-driver-3.28.0 csscompressor-0.9.5 daiquiri-3.2.1 datasets-2.14.5 dill-0.3.7 geomet-0.2.1.post1 huggingface-hub-0.17.2 jedi-0.19.0 jupyter-contrib-nbextensions-0.7.0 jupyter-datatables-0.3.9 jupyter-nbutils-0.1.3 jupyter-require-0.6.1 jupyter_contrib_core-0.4.2 jupyter_highlight_selected_word-0.2.0 jupyter_nbextensions_configurator-0.6.3 multiprocess-0.70.15 openai-0.28.0 python-json-logger-2.0.7 xxhash-3.3.0\n"
          ]
        }
      ],
      "source": [
        "!pip install openai pandas jupyter-datatables cassandra-driver datasets"
      ]
    },
    {
      "cell_type": "markdown",
      "metadata": {
        "id": "2j2N9PN_O8fi"
      },
      "source": [
        "# **Import Modules**"
      ]
    },
    {
      "cell_type": "code",
      "execution_count": null,
      "metadata": {
        "id": "OMsIAjChO-6u"
      },
      "outputs": [],
      "source": [
        "from cassandra.cluster import Cluster\n",
        "from cassandra.auth import PlainTextAuthProvider\n",
        "from cassandra.query import dict_factory\n",
        "from cassandra.query import SimpleStatement\n",
        "import openai\n",
        "import numpy\n",
        "import pandas as pd\n",
        "import time\n",
        "from getpass import getpass"
      ]
    },
    {
      "cell_type": "markdown",
      "metadata": {
        "id": "uZvcbIhQNwTv"
      },
      "source": [
        "# **Keys & Environment Variables**"
      ]
    },
    {
      "cell_type": "code",
      "execution_count": null,
      "metadata": {
        "id": "2x19m0D9eaRx",
        "colab": {
          "base_uri": "https://localhost:8080/"
        },
        "outputId": "0e45437d-84a2-40d0-a52e-cdd7c9ee6efb"
      },
      "outputs": [
        {
          "name": "stdout",
          "output_type": "stream",
          "text": [
            "Your Astra DB Token (\"AstraCS:...\"): ··········\n"
          ]
        }
      ],
      "source": [
        "# Input your Astra DB token string, the one starting with \"AstraCS:...\"\n",
        "ASTRA_DB_TOKEN_BASED_PASSWORD = getpass('Your Astra DB Token (\"AstraCS:...\"): ')"
      ]
    },
    {
      "cell_type": "code",
      "execution_count": null,
      "metadata": {
        "colab": {
          "base_uri": "https://localhost:8080/"
        },
        "id": "W22M2ddQe4Co",
        "outputId": "a51cfcbe-d9d3-4c80-901b-901da07a30a4"
      },
      "outputs": [
        {
          "name": "stdout",
          "output_type": "stream",
          "text": [
            "Enter your OpenAI API key: ··········\n"
          ]
        }
      ],
      "source": [
        "# Input your OpenAI api key\n",
        "openai_api_key = getpass('Enter your OpenAI API key: ')"
      ]
    },
    {
      "cell_type": "code",
      "execution_count": null,
      "metadata": {
        "id": "do6MHjBvXI4s",
        "colab": {
          "base_uri": "https://localhost:8080/"
        },
        "outputId": "30e70fba-7712-4ab2-a9d4-4b431bab0057"
      },
      "outputs": [
        {
          "name": "stdout",
          "output_type": "stream",
          "text": [
            "Your Astra Keyspace name: vector_preview\n"
          ]
        }
      ],
      "source": [
        "# Input your database keyspace name:\n",
        "my_ks = input('Your Astra Keyspace name: ')"
      ]
    },
    {
      "cell_type": "code",
      "execution_count": null,
      "metadata": {
        "id": "3EdwW3y_NQI7"
      },
      "outputs": [],
      "source": [
        "# keys and tokens here\n",
        "openai.api_key = openai_api_key\n",
        "cass_user = 'token'\n",
        "cass_pw = ASTRA_DB_TOKEN_BASED_PASSWORD"
      ]
    },
    {
      "cell_type": "code",
      "execution_count": null,
      "metadata": {
        "colab": {
          "base_uri": "https://localhost:8080/",
          "height": 90
        },
        "id": "7gBOYyVoeZ6q",
        "outputId": "926809d5-c324-44fe-ee37-23e639da17eb"
      },
      "outputs": [
        {
          "output_type": "stream",
          "name": "stdout",
          "text": [
            "Please upload your Secure Connect Bundle\n"
          ]
        },
        {
          "output_type": "display_data",
          "data": {
            "text/plain": [
              "<IPython.core.display.HTML object>"
            ],
            "text/html": [
              "\n",
              "     <input type=\"file\" id=\"files-a6dfd502-d1f6-40fc-91bd-f01ad4c54ff2\" name=\"files[]\" multiple disabled\n",
              "        style=\"border:none\" />\n",
              "     <output id=\"result-a6dfd502-d1f6-40fc-91bd-f01ad4c54ff2\">\n",
              "      Upload widget is only available when the cell has been executed in the\n",
              "      current browser session. Please rerun this cell to enable.\n",
              "      </output>\n",
              "      <script>// Copyright 2017 Google LLC\n",
              "//\n",
              "// Licensed under the Apache License, Version 2.0 (the \"License\");\n",
              "// you may not use this file except in compliance with the License.\n",
              "// You may obtain a copy of the License at\n",
              "//\n",
              "//      http://www.apache.org/licenses/LICENSE-2.0\n",
              "//\n",
              "// Unless required by applicable law or agreed to in writing, software\n",
              "// distributed under the License is distributed on an \"AS IS\" BASIS,\n",
              "// WITHOUT WARRANTIES OR CONDITIONS OF ANY KIND, either express or implied.\n",
              "// See the License for the specific language governing permissions and\n",
              "// limitations under the License.\n",
              "\n",
              "/**\n",
              " * @fileoverview Helpers for google.colab Python module.\n",
              " */\n",
              "(function(scope) {\n",
              "function span(text, styleAttributes = {}) {\n",
              "  const element = document.createElement('span');\n",
              "  element.textContent = text;\n",
              "  for (const key of Object.keys(styleAttributes)) {\n",
              "    element.style[key] = styleAttributes[key];\n",
              "  }\n",
              "  return element;\n",
              "}\n",
              "\n",
              "// Max number of bytes which will be uploaded at a time.\n",
              "const MAX_PAYLOAD_SIZE = 100 * 1024;\n",
              "\n",
              "function _uploadFiles(inputId, outputId) {\n",
              "  const steps = uploadFilesStep(inputId, outputId);\n",
              "  const outputElement = document.getElementById(outputId);\n",
              "  // Cache steps on the outputElement to make it available for the next call\n",
              "  // to uploadFilesContinue from Python.\n",
              "  outputElement.steps = steps;\n",
              "\n",
              "  return _uploadFilesContinue(outputId);\n",
              "}\n",
              "\n",
              "// This is roughly an async generator (not supported in the browser yet),\n",
              "// where there are multiple asynchronous steps and the Python side is going\n",
              "// to poll for completion of each step.\n",
              "// This uses a Promise to block the python side on completion of each step,\n",
              "// then passes the result of the previous step as the input to the next step.\n",
              "function _uploadFilesContinue(outputId) {\n",
              "  const outputElement = document.getElementById(outputId);\n",
              "  const steps = outputElement.steps;\n",
              "\n",
              "  const next = steps.next(outputElement.lastPromiseValue);\n",
              "  return Promise.resolve(next.value.promise).then((value) => {\n",
              "    // Cache the last promise value to make it available to the next\n",
              "    // step of the generator.\n",
              "    outputElement.lastPromiseValue = value;\n",
              "    return next.value.response;\n",
              "  });\n",
              "}\n",
              "\n",
              "/**\n",
              " * Generator function which is called between each async step of the upload\n",
              " * process.\n",
              " * @param {string} inputId Element ID of the input file picker element.\n",
              " * @param {string} outputId Element ID of the output display.\n",
              " * @return {!Iterable<!Object>} Iterable of next steps.\n",
              " */\n",
              "function* uploadFilesStep(inputId, outputId) {\n",
              "  const inputElement = document.getElementById(inputId);\n",
              "  inputElement.disabled = false;\n",
              "\n",
              "  const outputElement = document.getElementById(outputId);\n",
              "  outputElement.innerHTML = '';\n",
              "\n",
              "  const pickedPromise = new Promise((resolve) => {\n",
              "    inputElement.addEventListener('change', (e) => {\n",
              "      resolve(e.target.files);\n",
              "    });\n",
              "  });\n",
              "\n",
              "  const cancel = document.createElement('button');\n",
              "  inputElement.parentElement.appendChild(cancel);\n",
              "  cancel.textContent = 'Cancel upload';\n",
              "  const cancelPromise = new Promise((resolve) => {\n",
              "    cancel.onclick = () => {\n",
              "      resolve(null);\n",
              "    };\n",
              "  });\n",
              "\n",
              "  // Wait for the user to pick the files.\n",
              "  const files = yield {\n",
              "    promise: Promise.race([pickedPromise, cancelPromise]),\n",
              "    response: {\n",
              "      action: 'starting',\n",
              "    }\n",
              "  };\n",
              "\n",
              "  cancel.remove();\n",
              "\n",
              "  // Disable the input element since further picks are not allowed.\n",
              "  inputElement.disabled = true;\n",
              "\n",
              "  if (!files) {\n",
              "    return {\n",
              "      response: {\n",
              "        action: 'complete',\n",
              "      }\n",
              "    };\n",
              "  }\n",
              "\n",
              "  for (const file of files) {\n",
              "    const li = document.createElement('li');\n",
              "    li.append(span(file.name, {fontWeight: 'bold'}));\n",
              "    li.append(span(\n",
              "        `(${file.type || 'n/a'}) - ${file.size} bytes, ` +\n",
              "        `last modified: ${\n",
              "            file.lastModifiedDate ? file.lastModifiedDate.toLocaleDateString() :\n",
              "                                    'n/a'} - `));\n",
              "    const percent = span('0% done');\n",
              "    li.appendChild(percent);\n",
              "\n",
              "    outputElement.appendChild(li);\n",
              "\n",
              "    const fileDataPromise = new Promise((resolve) => {\n",
              "      const reader = new FileReader();\n",
              "      reader.onload = (e) => {\n",
              "        resolve(e.target.result);\n",
              "      };\n",
              "      reader.readAsArrayBuffer(file);\n",
              "    });\n",
              "    // Wait for the data to be ready.\n",
              "    let fileData = yield {\n",
              "      promise: fileDataPromise,\n",
              "      response: {\n",
              "        action: 'continue',\n",
              "      }\n",
              "    };\n",
              "\n",
              "    // Use a chunked sending to avoid message size limits. See b/62115660.\n",
              "    let position = 0;\n",
              "    do {\n",
              "      const length = Math.min(fileData.byteLength - position, MAX_PAYLOAD_SIZE);\n",
              "      const chunk = new Uint8Array(fileData, position, length);\n",
              "      position += length;\n",
              "\n",
              "      const base64 = btoa(String.fromCharCode.apply(null, chunk));\n",
              "      yield {\n",
              "        response: {\n",
              "          action: 'append',\n",
              "          file: file.name,\n",
              "          data: base64,\n",
              "        },\n",
              "      };\n",
              "\n",
              "      let percentDone = fileData.byteLength === 0 ?\n",
              "          100 :\n",
              "          Math.round((position / fileData.byteLength) * 100);\n",
              "      percent.textContent = `${percentDone}% done`;\n",
              "\n",
              "    } while (position < fileData.byteLength);\n",
              "  }\n",
              "\n",
              "  // All done.\n",
              "  yield {\n",
              "    response: {\n",
              "      action: 'complete',\n",
              "    }\n",
              "  };\n",
              "}\n",
              "\n",
              "scope.google = scope.google || {};\n",
              "scope.google.colab = scope.google.colab || {};\n",
              "scope.google.colab._files = {\n",
              "  _uploadFiles,\n",
              "  _uploadFilesContinue,\n",
              "};\n",
              "})(self);\n",
              "</script> "
            ]
          },
          "metadata": {}
        },
        {
          "output_type": "stream",
          "name": "stdout",
          "text": [
            "Saving secure-connect-vectordemo.zip to secure-connect-vectordemo.zip\n"
          ]
        }
      ],
      "source": [
        "# Upload your Secure Connect Bundle zipfile:\n",
        "import os\n",
        "from google.colab import files\n",
        "\n",
        "\n",
        "print('Please upload your Secure Connect Bundle')\n",
        "uploaded = files.upload()\n",
        "if uploaded:\n",
        "    astraBundleFileTitle = list(uploaded.keys())[0]\n",
        "    scb_path = os.path.join(os.getcwd(), astraBundleFileTitle)\n",
        "else:\n",
        "    raise ValueError(\n",
        "        'Cannot proceed without Secure Connect Bundle. Please re-run the cell.'\n",
        "    )"
      ]
    },
    {
      "cell_type": "markdown",
      "metadata": {
        "id": "-l-O1f6B57jC"
      },
      "source": [
        "# **Select a model to compute embeddings**"
      ]
    },
    {
      "cell_type": "code",
      "execution_count": null,
      "metadata": {
        "id": "nMN_pe1356RA"
      },
      "outputs": [],
      "source": [
        "model_id = \"text-embedding-ada-002\""
      ]
    },
    {
      "cell_type": "markdown",
      "metadata": {
        "id": "CdhiXOhBPhDS"
      },
      "source": [
        "# **Connect to Astra with Vector Search**"
      ]
    },
    {
      "cell_type": "code",
      "execution_count": null,
      "metadata": {
        "colab": {
          "base_uri": "https://localhost:8080/"
        },
        "id": "8c1KHF9LPoQe",
        "outputId": "ece61ecb-a426-4771-8001-a5e60234bcdd"
      },
      "outputs": [
        {
          "output_type": "execute_result",
          "data": {
            "text/plain": [
              "<cassandra.cluster.Session at 0x7a933c0affd0>"
            ]
          },
          "metadata": {},
          "execution_count": 23
        }
      ],
      "source": [
        "cloud_config= {\n",
        "  'secure_connect_bundle': scb_path\n",
        "}\n",
        "auth_provider = PlainTextAuthProvider(cass_user, cass_pw)\n",
        "cluster = Cluster(cloud=cloud_config, auth_provider=auth_provider, protocol_version=4)\n",
        "session = cluster.connect()\n",
        "session.set_keyspace(my_ks)\n",
        "session"
      ]
    },
    {
      "cell_type": "markdown",
      "metadata": {
        "id": "KN7rECxcPuOJ"
      },
      "source": [
        "# **Drop / Create Schema**"
      ]
    },
    {
      "cell_type": "code",
      "execution_count": null,
      "metadata": {
        "colab": {
          "base_uri": "https://localhost:8080/"
        },
        "id": "Vbqig3sYP3FT",
        "outputId": "7ad8a0cb-c432-46ab-906d-ffaf1f37e5d4"
      },
      "outputs": [
        {
          "output_type": "execute_result",
          "data": {
            "text/plain": [
              "<cassandra.cluster.ResultSet at 0x7a9358a16cb0>"
            ]
          },
          "metadata": {},
          "execution_count": 10
        }
      ],
      "source": [
        "# only use this to reset the schema\n",
        "session.execute(f\"\"\"DROP INDEX IF EXISTS title_context_desc\"\"\")\n",
        "session.execute(f\"\"\"DROP TABLE IF EXISTS squad\"\"\")"
      ]
    },
    {
      "cell_type": "code",
      "execution_count": null,
      "metadata": {
        "colab": {
          "base_uri": "https://localhost:8080/"
        },
        "id": "hSJ_amZnP7Me",
        "outputId": "edb52172-4f6a-43fc-e536-c395810e2313"
      },
      "outputs": [
        {
          "output_type": "execute_result",
          "data": {
            "text/plain": [
              "<cassandra.cluster.ResultSet at 0x7a9394c3cac0>"
            ]
          },
          "metadata": {},
          "execution_count": 11
        }
      ],
      "source": [
        "# # Create Table\n",
        "session.execute(f\"\"\"CREATE TABLE IF NOT EXISTS squad\n",
        "(id text,\n",
        " title text,\n",
        " context text,\n",
        " question text,\n",
        " answers map<text,text>,\n",
        " title_context_embedding vector<float, 1536>,\n",
        " PRIMARY KEY (id,title))\"\"\")\n",
        "\n",
        "# # Create Index\n",
        "session.execute(\"\"\"\n",
        "    CREATE CUSTOM INDEX IF NOT EXISTS title_context_desc\n",
        "    ON squad (title_context_embedding)\n",
        "    USING 'org.apache.cassandra.index.sai.StorageAttachedIndex'\n",
        "    WITH OPTIONS = {'similarity_function' : 'dot_product'}\n",
        "\"\"\")\n"
      ]
    },
    {
      "cell_type": "markdown",
      "metadata": {
        "id": "S9yO0OhMT-0J"
      },
      "source": [
        "# **Building the Knowledge Base**\n",
        "\n",
        "We start by constructing our knowledge base. We'll use a mostly prepared dataset called Stanford Question-Answering Dataset (SQuAD) hosted on Hugging Face Datasets. We download it like so:"
      ]
    },
    {
      "cell_type": "code",
      "execution_count": null,
      "metadata": {
        "colab": {
          "base_uri": "https://localhost:8080/",
          "height": 374,
          "referenced_widgets": [
            "642ac802d3644a35b50f26ee58a1d7c4",
            "e189e4b7f6d246e797115fa2297d3eef",
            "59119b98b656418e8fbeb9788f016e67",
            "30fc68c9a02d45a5956ebc248cb71656",
            "f7e787883e9746049f6385fda78ce300",
            "9b4c6687a3c8494da0b921f0a31a76ca",
            "3bac64707e874cb3920093d460bd793b",
            "115f7fa81dab4e80af0114825a00f37f",
            "800c6fbfbac8426ea5092907120b1cd5",
            "38fb835a80114f958c6e93ce797f10a9",
            "dac2d41f9dd74ba9bb1d5ec81ffb9e09",
            "e8ee6d79c9a747eebfc980b82034a608",
            "3003a0e762da44a9a9b22caa3db628e2",
            "8810dab745e14fb386e13528b4cb3717",
            "e14b50871fcc4b639f4348ab80aec745",
            "c05d99e9681b4e4ba9027ac289c83aa1",
            "47b5aa1f690c41bd8ae98acf2cd92638",
            "86ebf1e191f7495a9ae29fc5449d6451",
            "e92fdb10d8904e568324157ca00d1427",
            "4019f1894eac411aa463b2f4698bd327",
            "18dba20a871f41e3a06aa43bd2a14c13",
            "6675e5738c9041d38fd5a49a565d49f9",
            "d1716834531e40c684dbddaf8559837c",
            "cc89fd69a43c44d4a77f550b9574e84a",
            "747cba1eada641faa549ea005fc85460",
            "e0bf8d7849d44cc7b790e1e213e2fc36",
            "f38af1341a9d45119a80f339448ab6b5",
            "be7386dc72dc46c7b30dd7286fa8a284",
            "e7bbdfaf1334462199ad16c8c63813b0",
            "39910c7ee11a4e7284fb69b4d3b61a33",
            "a2d28a2cec1d41d291c89498733941eb",
            "0ab8695969c349bd80a27cf7641b2d5b",
            "6d15e20987814d6dbf8314dea54b0c3e",
            "873ab45f3c32468eb845ed74be9fd989",
            "b1f45cb7d9904e938aef152613e8b80a",
            "ffe05fac0c8c42e4800b40b8a6870cd8",
            "70a4f679223b4705bd42ec58cbf34d6b",
            "368d33c00b0b4121b46309c8eb62380b",
            "a8b83b84896547268822b13d1565ba7d",
            "6891b1dd7e9442b98f27991701af94b5",
            "74cbbbcff5f645f584be64678ed0a1bb",
            "b56a3335b3424f40920c37df69d34de3",
            "9d06690887924ad9b36d95076d4b63a9",
            "1338f451dcf24b5a9f111d9a7ecde09d",
            "8fd200523b5648f6abc26a02ed21b416",
            "3f45f09fd340499b8b1bc105d0f22b96",
            "87d6bb6e69b140958cdbda56cffc1135",
            "983ed13328894b29b1896e0f6d9b71ff",
            "27c2d643d5b24f32932ed8448158e375",
            "4eb8e128749641dab0c44e2c80d04787",
            "f21075cd9538453f9d2efc425eb49eea",
            "dffb481f3a894ad6b0e6dea445e96616",
            "894361a4a8ef444ca1dfea39d76afcbe",
            "c11dd57146ae41b8afb60119d4c3c7c0",
            "7ad4de3af0b2495f9f1fecd32307cb55",
            "82a07513c1614017949eb7de12c97e00",
            "f246836e3d6445a992f57cdb1ab738ae",
            "69f29ba50f7642debb9188b993464aec",
            "5f4031c32070430baa937215d3df83e5",
            "a19b354a9fff44d79c99efe8bafb9625",
            "15efd9c4edbe441a820370327cf1d394",
            "b325085c069f4cefa8787808fcf84a60",
            "6d2d9de6530946ffa1f27b24b423194a",
            "8f127666e15741eeab24d39b22d4d1e9",
            "0872f2f4caad4eb99903381dcb367cf0",
            "e0e07369a2b84b15b6136370b0cc7808",
            "190b4d14c67942b68a21a8941bfd92df",
            "ca65833317884a41821b91b64cc27103",
            "54cfb23200b44d6dba747107360d1025",
            "23e9ab2327514a29924c1f23f6aac7dc",
            "a8231199b8c84211a5199784a9b7a350",
            "a1262bd51c3e470db7eb09f94f2475d2",
            "8fceea57142b4c909df16c148a0e72e7",
            "002e979d39b5481db8f13104008af0cb",
            "87b45c2566cd4fc0ac4ccbffbe44bc78",
            "d5dda12edd714a05ad69625790d61eeb",
            "e286ef9a4d0841e0ba81e5c33b936956",
            "e773a6e64a124b71bf79cef17dae9721",
            "6d4925ddaaf446f58e7fbb9cb222fc07",
            "20a9373ce53345bfab8a9ab31b465173",
            "294726dbd9fb4bd2a965a517db25ff9e",
            "fc198d24df5443bcb4fb8d47f26c0e26",
            "821c532a69ea4de59efb3ff61a600451",
            "59e334836b214516b389c151605caa62",
            "a9e558eff8c84a9a92df08e77d01a6c8",
            "2f3ac898c88c4c4f8792232faeb2f5d8",
            "cd7a98fb18be4f87a89089ad31998b7c",
            "ace67e8c9b60479aad9545b29eb973f5",
            "7f23dba499f94c38959b8278e4dfcaa7",
            "2e1421b69ef04ea58b82571ffc0b2d70",
            "b3bdbd7b143b4a928787f15a8218c0c5",
            "ff0a6d82d1f14b7cb15fdd21c88db9c1",
            "8cfb38b3894e45e087702f3557105128",
            "7f18bce01e3b411fba48c6454b39fc1a",
            "40e2d3132a6b47b1a1e332c76aacbdfa",
            "903be18892fa49b7a47451135df7bdd5",
            "063f4faf4323462eb9013d1d4b5d97b6",
            "18ae6d481c484b39a72a19ca1069a1a8",
            "d5d7cb5b3aea4e1d955fca0915ee6088"
          ]
        },
        "id": "D9144Yk9T_Pv",
        "outputId": "2175f441-4049-4b59-efcd-a8c7ae988f7b"
      },
      "outputs": [
        {
          "output_type": "display_data",
          "data": {
            "text/plain": [
              "Downloading builder script:   0%|          | 0.00/5.27k [00:00<?, ?B/s]"
            ],
            "application/vnd.jupyter.widget-view+json": {
              "version_major": 2,
              "version_minor": 0,
              "model_id": "642ac802d3644a35b50f26ee58a1d7c4"
            }
          },
          "metadata": {}
        },
        {
          "output_type": "display_data",
          "data": {
            "text/plain": [
              "Downloading metadata:   0%|          | 0.00/2.36k [00:00<?, ?B/s]"
            ],
            "application/vnd.jupyter.widget-view+json": {
              "version_major": 2,
              "version_minor": 0,
              "model_id": "e8ee6d79c9a747eebfc980b82034a608"
            }
          },
          "metadata": {}
        },
        {
          "output_type": "display_data",
          "data": {
            "text/plain": [
              "Downloading readme:   0%|          | 0.00/7.67k [00:00<?, ?B/s]"
            ],
            "application/vnd.jupyter.widget-view+json": {
              "version_major": 2,
              "version_minor": 0,
              "model_id": "d1716834531e40c684dbddaf8559837c"
            }
          },
          "metadata": {}
        },
        {
          "output_type": "display_data",
          "data": {
            "text/plain": [
              "Downloading data files:   0%|          | 0/2 [00:00<?, ?it/s]"
            ],
            "application/vnd.jupyter.widget-view+json": {
              "version_major": 2,
              "version_minor": 0,
              "model_id": "873ab45f3c32468eb845ed74be9fd989"
            }
          },
          "metadata": {}
        },
        {
          "output_type": "display_data",
          "data": {
            "text/plain": [
              "Downloading data:   0%|          | 0.00/8.12M [00:00<?, ?B/s]"
            ],
            "application/vnd.jupyter.widget-view+json": {
              "version_major": 2,
              "version_minor": 0,
              "model_id": "8fd200523b5648f6abc26a02ed21b416"
            }
          },
          "metadata": {}
        },
        {
          "output_type": "display_data",
          "data": {
            "text/plain": [
              "Downloading data:   0%|          | 0.00/1.05M [00:00<?, ?B/s]"
            ],
            "application/vnd.jupyter.widget-view+json": {
              "version_major": 2,
              "version_minor": 0,
              "model_id": "82a07513c1614017949eb7de12c97e00"
            }
          },
          "metadata": {}
        },
        {
          "output_type": "display_data",
          "data": {
            "text/plain": [
              "Extracting data files:   0%|          | 0/2 [00:00<?, ?it/s]"
            ],
            "application/vnd.jupyter.widget-view+json": {
              "version_major": 2,
              "version_minor": 0,
              "model_id": "190b4d14c67942b68a21a8941bfd92df"
            }
          },
          "metadata": {}
        },
        {
          "output_type": "display_data",
          "data": {
            "text/plain": [
              "Generating train split:   0%|          | 0/87599 [00:00<?, ? examples/s]"
            ],
            "application/vnd.jupyter.widget-view+json": {
              "version_major": 2,
              "version_minor": 0,
              "model_id": "e773a6e64a124b71bf79cef17dae9721"
            }
          },
          "metadata": {}
        },
        {
          "output_type": "display_data",
          "data": {
            "text/plain": [
              "Generating validation split:   0%|          | 0/10570 [00:00<?, ? examples/s]"
            ],
            "application/vnd.jupyter.widget-view+json": {
              "version_major": 2,
              "version_minor": 0,
              "model_id": "7f23dba499f94c38959b8278e4dfcaa7"
            }
          },
          "metadata": {}
        },
        {
          "output_type": "execute_result",
          "data": {
            "text/plain": [
              "Dataset({\n",
              "    features: ['id', 'title', 'context', 'question', 'answers'],\n",
              "    num_rows: 87599\n",
              "})"
            ]
          },
          "metadata": {},
          "execution_count": 12
        }
      ],
      "source": [
        "from datasets import load_dataset\n",
        "\n",
        "data = load_dataset('squad', split='train')\n",
        "data"
      ]
    },
    {
      "cell_type": "markdown",
      "metadata": {
        "id": "YOVOWzJxVDXB"
      },
      "source": [
        "Let's see the 1st 5 records. The dataset does contain duplicate contexts,"
      ]
    },
    {
      "cell_type": "code",
      "execution_count": null,
      "metadata": {
        "colab": {
          "base_uri": "https://localhost:8080/",
          "height": 206
        },
        "id": "qaXw_v1EVB2z",
        "outputId": "0d8e7a2e-a3b5-48ac-e748-4acccd7250d0"
      },
      "outputs": [
        {
          "output_type": "execute_result",
          "data": {
            "text/plain": [
              "                         id                     title  \\\n",
              "0  5733be284776f41900661182  University_of_Notre_Dame   \n",
              "1  5733be284776f4190066117f  University_of_Notre_Dame   \n",
              "2  5733be284776f41900661180  University_of_Notre_Dame   \n",
              "3  5733be284776f41900661181  University_of_Notre_Dame   \n",
              "4  5733be284776f4190066117e  University_of_Notre_Dame   \n",
              "\n",
              "                                             context  \\\n",
              "0  Architecturally, the school has a Catholic cha...   \n",
              "1  Architecturally, the school has a Catholic cha...   \n",
              "2  Architecturally, the school has a Catholic cha...   \n",
              "3  Architecturally, the school has a Catholic cha...   \n",
              "4  Architecturally, the school has a Catholic cha...   \n",
              "\n",
              "                                            question  \\\n",
              "0  To whom did the Virgin Mary allegedly appear i...   \n",
              "1  What is in front of the Notre Dame Main Building?   \n",
              "2  The Basilica of the Sacred heart at Notre Dame...   \n",
              "3                  What is the Grotto at Notre Dame?   \n",
              "4  What sits on top of the Main Building at Notre...   \n",
              "\n",
              "                                             answers  \n",
              "0  {'text': ['Saint Bernadette Soubirous'], 'answ...  \n",
              "1  {'text': ['a copper statue of Christ'], 'answe...  \n",
              "2  {'text': ['the Main Building'], 'answer_start'...  \n",
              "3  {'text': ['a Marian place of prayer and reflec...  \n",
              "4  {'text': ['a golden statue of the Virgin Mary'...  "
            ],
            "text/html": [
              "\n",
              "  <div id=\"df-29c566ca-be7b-4441-bd2c-69422a285f9a\" class=\"colab-df-container\">\n",
              "    <div>\n",
              "<style scoped>\n",
              "    .dataframe tbody tr th:only-of-type {\n",
              "        vertical-align: middle;\n",
              "    }\n",
              "\n",
              "    .dataframe tbody tr th {\n",
              "        vertical-align: top;\n",
              "    }\n",
              "\n",
              "    .dataframe thead th {\n",
              "        text-align: right;\n",
              "    }\n",
              "</style>\n",
              "<table border=\"1\" class=\"dataframe\">\n",
              "  <thead>\n",
              "    <tr style=\"text-align: right;\">\n",
              "      <th></th>\n",
              "      <th>id</th>\n",
              "      <th>title</th>\n",
              "      <th>context</th>\n",
              "      <th>question</th>\n",
              "      <th>answers</th>\n",
              "    </tr>\n",
              "  </thead>\n",
              "  <tbody>\n",
              "    <tr>\n",
              "      <th>0</th>\n",
              "      <td>5733be284776f41900661182</td>\n",
              "      <td>University_of_Notre_Dame</td>\n",
              "      <td>Architecturally, the school has a Catholic cha...</td>\n",
              "      <td>To whom did the Virgin Mary allegedly appear i...</td>\n",
              "      <td>{'text': ['Saint Bernadette Soubirous'], 'answ...</td>\n",
              "    </tr>\n",
              "    <tr>\n",
              "      <th>1</th>\n",
              "      <td>5733be284776f4190066117f</td>\n",
              "      <td>University_of_Notre_Dame</td>\n",
              "      <td>Architecturally, the school has a Catholic cha...</td>\n",
              "      <td>What is in front of the Notre Dame Main Building?</td>\n",
              "      <td>{'text': ['a copper statue of Christ'], 'answe...</td>\n",
              "    </tr>\n",
              "    <tr>\n",
              "      <th>2</th>\n",
              "      <td>5733be284776f41900661180</td>\n",
              "      <td>University_of_Notre_Dame</td>\n",
              "      <td>Architecturally, the school has a Catholic cha...</td>\n",
              "      <td>The Basilica of the Sacred heart at Notre Dame...</td>\n",
              "      <td>{'text': ['the Main Building'], 'answer_start'...</td>\n",
              "    </tr>\n",
              "    <tr>\n",
              "      <th>3</th>\n",
              "      <td>5733be284776f41900661181</td>\n",
              "      <td>University_of_Notre_Dame</td>\n",
              "      <td>Architecturally, the school has a Catholic cha...</td>\n",
              "      <td>What is the Grotto at Notre Dame?</td>\n",
              "      <td>{'text': ['a Marian place of prayer and reflec...</td>\n",
              "    </tr>\n",
              "    <tr>\n",
              "      <th>4</th>\n",
              "      <td>5733be284776f4190066117e</td>\n",
              "      <td>University_of_Notre_Dame</td>\n",
              "      <td>Architecturally, the school has a Catholic cha...</td>\n",
              "      <td>What sits on top of the Main Building at Notre...</td>\n",
              "      <td>{'text': ['a golden statue of the Virgin Mary'...</td>\n",
              "    </tr>\n",
              "  </tbody>\n",
              "</table>\n",
              "</div>\n",
              "    <div class=\"colab-df-buttons\">\n",
              "\n",
              "  <div class=\"colab-df-container\">\n",
              "    <button class=\"colab-df-convert\" onclick=\"convertToInteractive('df-29c566ca-be7b-4441-bd2c-69422a285f9a')\"\n",
              "            title=\"Convert this dataframe to an interactive table.\"\n",
              "            style=\"display:none;\">\n",
              "\n",
              "  <svg xmlns=\"http://www.w3.org/2000/svg\" height=\"24px\" viewBox=\"0 -960 960 960\">\n",
              "    <path d=\"M120-120v-720h720v720H120Zm60-500h600v-160H180v160Zm220 220h160v-160H400v160Zm0 220h160v-160H400v160ZM180-400h160v-160H180v160Zm440 0h160v-160H620v160ZM180-180h160v-160H180v160Zm440 0h160v-160H620v160Z\"/>\n",
              "  </svg>\n",
              "    </button>\n",
              "\n",
              "  <style>\n",
              "    .colab-df-container {\n",
              "      display:flex;\n",
              "      gap: 12px;\n",
              "    }\n",
              "\n",
              "    .colab-df-convert {\n",
              "      background-color: #E8F0FE;\n",
              "      border: none;\n",
              "      border-radius: 50%;\n",
              "      cursor: pointer;\n",
              "      display: none;\n",
              "      fill: #1967D2;\n",
              "      height: 32px;\n",
              "      padding: 0 0 0 0;\n",
              "      width: 32px;\n",
              "    }\n",
              "\n",
              "    .colab-df-convert:hover {\n",
              "      background-color: #E2EBFA;\n",
              "      box-shadow: 0px 1px 2px rgba(60, 64, 67, 0.3), 0px 1px 3px 1px rgba(60, 64, 67, 0.15);\n",
              "      fill: #174EA6;\n",
              "    }\n",
              "\n",
              "    .colab-df-buttons div {\n",
              "      margin-bottom: 4px;\n",
              "    }\n",
              "\n",
              "    [theme=dark] .colab-df-convert {\n",
              "      background-color: #3B4455;\n",
              "      fill: #D2E3FC;\n",
              "    }\n",
              "\n",
              "    [theme=dark] .colab-df-convert:hover {\n",
              "      background-color: #434B5C;\n",
              "      box-shadow: 0px 1px 3px 1px rgba(0, 0, 0, 0.15);\n",
              "      filter: drop-shadow(0px 1px 2px rgba(0, 0, 0, 0.3));\n",
              "      fill: #FFFFFF;\n",
              "    }\n",
              "  </style>\n",
              "\n",
              "    <script>\n",
              "      const buttonEl =\n",
              "        document.querySelector('#df-29c566ca-be7b-4441-bd2c-69422a285f9a button.colab-df-convert');\n",
              "      buttonEl.style.display =\n",
              "        google.colab.kernel.accessAllowed ? 'block' : 'none';\n",
              "\n",
              "      async function convertToInteractive(key) {\n",
              "        const element = document.querySelector('#df-29c566ca-be7b-4441-bd2c-69422a285f9a');\n",
              "        const dataTable =\n",
              "          await google.colab.kernel.invokeFunction('convertToInteractive',\n",
              "                                                    [key], {});\n",
              "        if (!dataTable) return;\n",
              "\n",
              "        const docLinkHtml = 'Like what you see? Visit the ' +\n",
              "          '<a target=\"_blank\" href=https://colab.research.google.com/notebooks/data_table.ipynb>data table notebook</a>'\n",
              "          + ' to learn more about interactive tables.';\n",
              "        element.innerHTML = '';\n",
              "        dataTable['output_type'] = 'display_data';\n",
              "        await google.colab.output.renderOutput(dataTable, element);\n",
              "        const docLink = document.createElement('div');\n",
              "        docLink.innerHTML = docLinkHtml;\n",
              "        element.appendChild(docLink);\n",
              "      }\n",
              "    </script>\n",
              "  </div>\n",
              "\n",
              "\n",
              "<div id=\"df-d454a4b5-a4d8-4514-bc84-e1f858e9b94f\">\n",
              "  <button class=\"colab-df-quickchart\" onclick=\"quickchart('df-d454a4b5-a4d8-4514-bc84-e1f858e9b94f')\"\n",
              "            title=\"Suggest charts.\"\n",
              "            style=\"display:none;\">\n",
              "\n",
              "<svg xmlns=\"http://www.w3.org/2000/svg\" height=\"24px\"viewBox=\"0 0 24 24\"\n",
              "     width=\"24px\">\n",
              "    <g>\n",
              "        <path d=\"M19 3H5c-1.1 0-2 .9-2 2v14c0 1.1.9 2 2 2h14c1.1 0 2-.9 2-2V5c0-1.1-.9-2-2-2zM9 17H7v-7h2v7zm4 0h-2V7h2v10zm4 0h-2v-4h2v4z\"/>\n",
              "    </g>\n",
              "</svg>\n",
              "  </button>\n",
              "\n",
              "<style>\n",
              "  .colab-df-quickchart {\n",
              "      --bg-color: #E8F0FE;\n",
              "      --fill-color: #1967D2;\n",
              "      --hover-bg-color: #E2EBFA;\n",
              "      --hover-fill-color: #174EA6;\n",
              "      --disabled-fill-color: #AAA;\n",
              "      --disabled-bg-color: #DDD;\n",
              "  }\n",
              "\n",
              "  [theme=dark] .colab-df-quickchart {\n",
              "      --bg-color: #3B4455;\n",
              "      --fill-color: #D2E3FC;\n",
              "      --hover-bg-color: #434B5C;\n",
              "      --hover-fill-color: #FFFFFF;\n",
              "      --disabled-bg-color: #3B4455;\n",
              "      --disabled-fill-color: #666;\n",
              "  }\n",
              "\n",
              "  .colab-df-quickchart {\n",
              "    background-color: var(--bg-color);\n",
              "    border: none;\n",
              "    border-radius: 50%;\n",
              "    cursor: pointer;\n",
              "    display: none;\n",
              "    fill: var(--fill-color);\n",
              "    height: 32px;\n",
              "    padding: 0;\n",
              "    width: 32px;\n",
              "  }\n",
              "\n",
              "  .colab-df-quickchart:hover {\n",
              "    background-color: var(--hover-bg-color);\n",
              "    box-shadow: 0 1px 2px rgba(60, 64, 67, 0.3), 0 1px 3px 1px rgba(60, 64, 67, 0.15);\n",
              "    fill: var(--button-hover-fill-color);\n",
              "  }\n",
              "\n",
              "  .colab-df-quickchart-complete:disabled,\n",
              "  .colab-df-quickchart-complete:disabled:hover {\n",
              "    background-color: var(--disabled-bg-color);\n",
              "    fill: var(--disabled-fill-color);\n",
              "    box-shadow: none;\n",
              "  }\n",
              "\n",
              "  .colab-df-spinner {\n",
              "    border: 2px solid var(--fill-color);\n",
              "    border-color: transparent;\n",
              "    border-bottom-color: var(--fill-color);\n",
              "    animation:\n",
              "      spin 1s steps(1) infinite;\n",
              "  }\n",
              "\n",
              "  @keyframes spin {\n",
              "    0% {\n",
              "      border-color: transparent;\n",
              "      border-bottom-color: var(--fill-color);\n",
              "      border-left-color: var(--fill-color);\n",
              "    }\n",
              "    20% {\n",
              "      border-color: transparent;\n",
              "      border-left-color: var(--fill-color);\n",
              "      border-top-color: var(--fill-color);\n",
              "    }\n",
              "    30% {\n",
              "      border-color: transparent;\n",
              "      border-left-color: var(--fill-color);\n",
              "      border-top-color: var(--fill-color);\n",
              "      border-right-color: var(--fill-color);\n",
              "    }\n",
              "    40% {\n",
              "      border-color: transparent;\n",
              "      border-right-color: var(--fill-color);\n",
              "      border-top-color: var(--fill-color);\n",
              "    }\n",
              "    60% {\n",
              "      border-color: transparent;\n",
              "      border-right-color: var(--fill-color);\n",
              "    }\n",
              "    80% {\n",
              "      border-color: transparent;\n",
              "      border-right-color: var(--fill-color);\n",
              "      border-bottom-color: var(--fill-color);\n",
              "    }\n",
              "    90% {\n",
              "      border-color: transparent;\n",
              "      border-bottom-color: var(--fill-color);\n",
              "    }\n",
              "  }\n",
              "</style>\n",
              "\n",
              "  <script>\n",
              "    async function quickchart(key) {\n",
              "      const quickchartButtonEl =\n",
              "        document.querySelector('#' + key + ' button');\n",
              "      quickchartButtonEl.disabled = true;  // To prevent multiple clicks.\n",
              "      quickchartButtonEl.classList.add('colab-df-spinner');\n",
              "      try {\n",
              "        const charts = await google.colab.kernel.invokeFunction(\n",
              "            'suggestCharts', [key], {});\n",
              "      } catch (error) {\n",
              "        console.error('Error during call to suggestCharts:', error);\n",
              "      }\n",
              "      quickchartButtonEl.classList.remove('colab-df-spinner');\n",
              "      quickchartButtonEl.classList.add('colab-df-quickchart-complete');\n",
              "    }\n",
              "    (() => {\n",
              "      let quickchartButtonEl =\n",
              "        document.querySelector('#df-d454a4b5-a4d8-4514-bc84-e1f858e9b94f button');\n",
              "      quickchartButtonEl.style.display =\n",
              "        google.colab.kernel.accessAllowed ? 'block' : 'none';\n",
              "    })();\n",
              "  </script>\n",
              "</div>\n",
              "    </div>\n",
              "  </div>\n"
            ]
          },
          "metadata": {},
          "execution_count": 13
        }
      ],
      "source": [
        "data = data.to_pandas()\n",
        "data.head()"
      ]
    },
    {
      "cell_type": "markdown",
      "metadata": {
        "id": "mrU8_nqlUo_w"
      },
      "source": [
        "Let's remove the duplicate context and keep the 1st record of the records with same context."
      ]
    },
    {
      "cell_type": "code",
      "execution_count": null,
      "metadata": {
        "colab": {
          "base_uri": "https://localhost:8080/",
          "height": 206
        },
        "id": "ngJbo6HcUbG0",
        "outputId": "112a17af-e4c8-426e-8f58-0fef2954192d"
      },
      "outputs": [
        {
          "output_type": "execute_result",
          "data": {
            "text/plain": [
              "                          id                     title  \\\n",
              "0   5733be284776f41900661182  University_of_Notre_Dame   \n",
              "5   5733bf84d058e614000b61be  University_of_Notre_Dame   \n",
              "10  5733bed24776f41900661188  University_of_Notre_Dame   \n",
              "15  5733a6424776f41900660f51  University_of_Notre_Dame   \n",
              "20  5733a70c4776f41900660f64  University_of_Notre_Dame   \n",
              "\n",
              "                                              context  \\\n",
              "0   Architecturally, the school has a Catholic cha...   \n",
              "5   As at most other universities, Notre Dame's st...   \n",
              "10  The university is the major seat of the Congre...   \n",
              "15  The College of Engineering was established in ...   \n",
              "20  All of Notre Dame's undergraduate students are...   \n",
              "\n",
              "                                             question  \\\n",
              "0   To whom did the Virgin Mary allegedly appear i...   \n",
              "5   When did the Scholastic Magazine of Notre dame...   \n",
              "10  Where is the headquarters of the Congregation ...   \n",
              "15  How many BS level degrees are offered in the C...   \n",
              "20  What entity provides help with the management ...   \n",
              "\n",
              "                                              answers  \n",
              "0   {'text': ['Saint Bernadette Soubirous'], 'answ...  \n",
              "5   {'text': ['September 1876'], 'answer_start': [...  \n",
              "10          {'text': ['Rome'], 'answer_start': [119]}  \n",
              "15         {'text': ['eight'], 'answer_start': [487]}  \n",
              "20  {'text': ['Learning Resource Center'], 'answer...  "
            ],
            "text/html": [
              "\n",
              "  <div id=\"df-a8fa9585-3c16-4b35-9d19-beb75555fe96\" class=\"colab-df-container\">\n",
              "    <div>\n",
              "<style scoped>\n",
              "    .dataframe tbody tr th:only-of-type {\n",
              "        vertical-align: middle;\n",
              "    }\n",
              "\n",
              "    .dataframe tbody tr th {\n",
              "        vertical-align: top;\n",
              "    }\n",
              "\n",
              "    .dataframe thead th {\n",
              "        text-align: right;\n",
              "    }\n",
              "</style>\n",
              "<table border=\"1\" class=\"dataframe\">\n",
              "  <thead>\n",
              "    <tr style=\"text-align: right;\">\n",
              "      <th></th>\n",
              "      <th>id</th>\n",
              "      <th>title</th>\n",
              "      <th>context</th>\n",
              "      <th>question</th>\n",
              "      <th>answers</th>\n",
              "    </tr>\n",
              "  </thead>\n",
              "  <tbody>\n",
              "    <tr>\n",
              "      <th>0</th>\n",
              "      <td>5733be284776f41900661182</td>\n",
              "      <td>University_of_Notre_Dame</td>\n",
              "      <td>Architecturally, the school has a Catholic cha...</td>\n",
              "      <td>To whom did the Virgin Mary allegedly appear i...</td>\n",
              "      <td>{'text': ['Saint Bernadette Soubirous'], 'answ...</td>\n",
              "    </tr>\n",
              "    <tr>\n",
              "      <th>5</th>\n",
              "      <td>5733bf84d058e614000b61be</td>\n",
              "      <td>University_of_Notre_Dame</td>\n",
              "      <td>As at most other universities, Notre Dame's st...</td>\n",
              "      <td>When did the Scholastic Magazine of Notre dame...</td>\n",
              "      <td>{'text': ['September 1876'], 'answer_start': [...</td>\n",
              "    </tr>\n",
              "    <tr>\n",
              "      <th>10</th>\n",
              "      <td>5733bed24776f41900661188</td>\n",
              "      <td>University_of_Notre_Dame</td>\n",
              "      <td>The university is the major seat of the Congre...</td>\n",
              "      <td>Where is the headquarters of the Congregation ...</td>\n",
              "      <td>{'text': ['Rome'], 'answer_start': [119]}</td>\n",
              "    </tr>\n",
              "    <tr>\n",
              "      <th>15</th>\n",
              "      <td>5733a6424776f41900660f51</td>\n",
              "      <td>University_of_Notre_Dame</td>\n",
              "      <td>The College of Engineering was established in ...</td>\n",
              "      <td>How many BS level degrees are offered in the C...</td>\n",
              "      <td>{'text': ['eight'], 'answer_start': [487]}</td>\n",
              "    </tr>\n",
              "    <tr>\n",
              "      <th>20</th>\n",
              "      <td>5733a70c4776f41900660f64</td>\n",
              "      <td>University_of_Notre_Dame</td>\n",
              "      <td>All of Notre Dame's undergraduate students are...</td>\n",
              "      <td>What entity provides help with the management ...</td>\n",
              "      <td>{'text': ['Learning Resource Center'], 'answer...</td>\n",
              "    </tr>\n",
              "  </tbody>\n",
              "</table>\n",
              "</div>\n",
              "    <div class=\"colab-df-buttons\">\n",
              "\n",
              "  <div class=\"colab-df-container\">\n",
              "    <button class=\"colab-df-convert\" onclick=\"convertToInteractive('df-a8fa9585-3c16-4b35-9d19-beb75555fe96')\"\n",
              "            title=\"Convert this dataframe to an interactive table.\"\n",
              "            style=\"display:none;\">\n",
              "\n",
              "  <svg xmlns=\"http://www.w3.org/2000/svg\" height=\"24px\" viewBox=\"0 -960 960 960\">\n",
              "    <path d=\"M120-120v-720h720v720H120Zm60-500h600v-160H180v160Zm220 220h160v-160H400v160Zm0 220h160v-160H400v160ZM180-400h160v-160H180v160Zm440 0h160v-160H620v160ZM180-180h160v-160H180v160Zm440 0h160v-160H620v160Z\"/>\n",
              "  </svg>\n",
              "    </button>\n",
              "\n",
              "  <style>\n",
              "    .colab-df-container {\n",
              "      display:flex;\n",
              "      gap: 12px;\n",
              "    }\n",
              "\n",
              "    .colab-df-convert {\n",
              "      background-color: #E8F0FE;\n",
              "      border: none;\n",
              "      border-radius: 50%;\n",
              "      cursor: pointer;\n",
              "      display: none;\n",
              "      fill: #1967D2;\n",
              "      height: 32px;\n",
              "      padding: 0 0 0 0;\n",
              "      width: 32px;\n",
              "    }\n",
              "\n",
              "    .colab-df-convert:hover {\n",
              "      background-color: #E2EBFA;\n",
              "      box-shadow: 0px 1px 2px rgba(60, 64, 67, 0.3), 0px 1px 3px 1px rgba(60, 64, 67, 0.15);\n",
              "      fill: #174EA6;\n",
              "    }\n",
              "\n",
              "    .colab-df-buttons div {\n",
              "      margin-bottom: 4px;\n",
              "    }\n",
              "\n",
              "    [theme=dark] .colab-df-convert {\n",
              "      background-color: #3B4455;\n",
              "      fill: #D2E3FC;\n",
              "    }\n",
              "\n",
              "    [theme=dark] .colab-df-convert:hover {\n",
              "      background-color: #434B5C;\n",
              "      box-shadow: 0px 1px 3px 1px rgba(0, 0, 0, 0.15);\n",
              "      filter: drop-shadow(0px 1px 2px rgba(0, 0, 0, 0.3));\n",
              "      fill: #FFFFFF;\n",
              "    }\n",
              "  </style>\n",
              "\n",
              "    <script>\n",
              "      const buttonEl =\n",
              "        document.querySelector('#df-a8fa9585-3c16-4b35-9d19-beb75555fe96 button.colab-df-convert');\n",
              "      buttonEl.style.display =\n",
              "        google.colab.kernel.accessAllowed ? 'block' : 'none';\n",
              "\n",
              "      async function convertToInteractive(key) {\n",
              "        const element = document.querySelector('#df-a8fa9585-3c16-4b35-9d19-beb75555fe96');\n",
              "        const dataTable =\n",
              "          await google.colab.kernel.invokeFunction('convertToInteractive',\n",
              "                                                    [key], {});\n",
              "        if (!dataTable) return;\n",
              "\n",
              "        const docLinkHtml = 'Like what you see? Visit the ' +\n",
              "          '<a target=\"_blank\" href=https://colab.research.google.com/notebooks/data_table.ipynb>data table notebook</a>'\n",
              "          + ' to learn more about interactive tables.';\n",
              "        element.innerHTML = '';\n",
              "        dataTable['output_type'] = 'display_data';\n",
              "        await google.colab.output.renderOutput(dataTable, element);\n",
              "        const docLink = document.createElement('div');\n",
              "        docLink.innerHTML = docLinkHtml;\n",
              "        element.appendChild(docLink);\n",
              "      }\n",
              "    </script>\n",
              "  </div>\n",
              "\n",
              "\n",
              "<div id=\"df-8f3dd598-cd07-4ac4-b6d8-2c07b398d213\">\n",
              "  <button class=\"colab-df-quickchart\" onclick=\"quickchart('df-8f3dd598-cd07-4ac4-b6d8-2c07b398d213')\"\n",
              "            title=\"Suggest charts.\"\n",
              "            style=\"display:none;\">\n",
              "\n",
              "<svg xmlns=\"http://www.w3.org/2000/svg\" height=\"24px\"viewBox=\"0 0 24 24\"\n",
              "     width=\"24px\">\n",
              "    <g>\n",
              "        <path d=\"M19 3H5c-1.1 0-2 .9-2 2v14c0 1.1.9 2 2 2h14c1.1 0 2-.9 2-2V5c0-1.1-.9-2-2-2zM9 17H7v-7h2v7zm4 0h-2V7h2v10zm4 0h-2v-4h2v4z\"/>\n",
              "    </g>\n",
              "</svg>\n",
              "  </button>\n",
              "\n",
              "<style>\n",
              "  .colab-df-quickchart {\n",
              "      --bg-color: #E8F0FE;\n",
              "      --fill-color: #1967D2;\n",
              "      --hover-bg-color: #E2EBFA;\n",
              "      --hover-fill-color: #174EA6;\n",
              "      --disabled-fill-color: #AAA;\n",
              "      --disabled-bg-color: #DDD;\n",
              "  }\n",
              "\n",
              "  [theme=dark] .colab-df-quickchart {\n",
              "      --bg-color: #3B4455;\n",
              "      --fill-color: #D2E3FC;\n",
              "      --hover-bg-color: #434B5C;\n",
              "      --hover-fill-color: #FFFFFF;\n",
              "      --disabled-bg-color: #3B4455;\n",
              "      --disabled-fill-color: #666;\n",
              "  }\n",
              "\n",
              "  .colab-df-quickchart {\n",
              "    background-color: var(--bg-color);\n",
              "    border: none;\n",
              "    border-radius: 50%;\n",
              "    cursor: pointer;\n",
              "    display: none;\n",
              "    fill: var(--fill-color);\n",
              "    height: 32px;\n",
              "    padding: 0;\n",
              "    width: 32px;\n",
              "  }\n",
              "\n",
              "  .colab-df-quickchart:hover {\n",
              "    background-color: var(--hover-bg-color);\n",
              "    box-shadow: 0 1px 2px rgba(60, 64, 67, 0.3), 0 1px 3px 1px rgba(60, 64, 67, 0.15);\n",
              "    fill: var(--button-hover-fill-color);\n",
              "  }\n",
              "\n",
              "  .colab-df-quickchart-complete:disabled,\n",
              "  .colab-df-quickchart-complete:disabled:hover {\n",
              "    background-color: var(--disabled-bg-color);\n",
              "    fill: var(--disabled-fill-color);\n",
              "    box-shadow: none;\n",
              "  }\n",
              "\n",
              "  .colab-df-spinner {\n",
              "    border: 2px solid var(--fill-color);\n",
              "    border-color: transparent;\n",
              "    border-bottom-color: var(--fill-color);\n",
              "    animation:\n",
              "      spin 1s steps(1) infinite;\n",
              "  }\n",
              "\n",
              "  @keyframes spin {\n",
              "    0% {\n",
              "      border-color: transparent;\n",
              "      border-bottom-color: var(--fill-color);\n",
              "      border-left-color: var(--fill-color);\n",
              "    }\n",
              "    20% {\n",
              "      border-color: transparent;\n",
              "      border-left-color: var(--fill-color);\n",
              "      border-top-color: var(--fill-color);\n",
              "    }\n",
              "    30% {\n",
              "      border-color: transparent;\n",
              "      border-left-color: var(--fill-color);\n",
              "      border-top-color: var(--fill-color);\n",
              "      border-right-color: var(--fill-color);\n",
              "    }\n",
              "    40% {\n",
              "      border-color: transparent;\n",
              "      border-right-color: var(--fill-color);\n",
              "      border-top-color: var(--fill-color);\n",
              "    }\n",
              "    60% {\n",
              "      border-color: transparent;\n",
              "      border-right-color: var(--fill-color);\n",
              "    }\n",
              "    80% {\n",
              "      border-color: transparent;\n",
              "      border-right-color: var(--fill-color);\n",
              "      border-bottom-color: var(--fill-color);\n",
              "    }\n",
              "    90% {\n",
              "      border-color: transparent;\n",
              "      border-bottom-color: var(--fill-color);\n",
              "    }\n",
              "  }\n",
              "</style>\n",
              "\n",
              "  <script>\n",
              "    async function quickchart(key) {\n",
              "      const quickchartButtonEl =\n",
              "        document.querySelector('#' + key + ' button');\n",
              "      quickchartButtonEl.disabled = true;  // To prevent multiple clicks.\n",
              "      quickchartButtonEl.classList.add('colab-df-spinner');\n",
              "      try {\n",
              "        const charts = await google.colab.kernel.invokeFunction(\n",
              "            'suggestCharts', [key], {});\n",
              "      } catch (error) {\n",
              "        console.error('Error during call to suggestCharts:', error);\n",
              "      }\n",
              "      quickchartButtonEl.classList.remove('colab-df-spinner');\n",
              "      quickchartButtonEl.classList.add('colab-df-quickchart-complete');\n",
              "    }\n",
              "    (() => {\n",
              "      let quickchartButtonEl =\n",
              "        document.querySelector('#df-8f3dd598-cd07-4ac4-b6d8-2c07b398d213 button');\n",
              "      quickchartButtonEl.style.display =\n",
              "        google.colab.kernel.accessAllowed ? 'block' : 'none';\n",
              "    })();\n",
              "  </script>\n",
              "</div>\n",
              "    </div>\n",
              "  </div>\n"
            ]
          },
          "metadata": {},
          "execution_count": 14
        }
      ],
      "source": [
        "data.drop_duplicates(subset='context', keep='first', inplace=True)\n",
        "data.head()"
      ]
    },
    {
      "cell_type": "markdown",
      "metadata": {
        "id": "IN_8Ss2AXSkW"
      },
      "source": [
        "# **Load the table with data and create text embeddings**\n",
        "\n",
        "* If you are using free trial of the OpenAPI,  the rate limit is about 60/min.  Please adjust the ***counter*** variable below according to your rate limit.\n",
        "* It takes a long time to load the full data so it is set as 300 here.   Please adjust the ***total*** variable below according to the number of data to test.  Please note that the more data is loaded the longer it takes to load.\n",
        "* This will takes around **6 minutes** to load the 300 data."
      ]
    },
    {
      "cell_type": "code",
      "execution_count": null,
      "metadata": {
        "colab": {
          "base_uri": "https://localhost:8080/",
          "height": 1000
        },
        "id": "wI-jcK5eXS1A",
        "outputId": "e29f25d9-c171-4ab6-f2ed-ca59a5926e34"
      },
      "outputs": [
        {
          "output_type": "display_data",
          "data": {
            "text/plain": [
              "id                                   5733be284776f41900661182\n",
              "title                                University_of_Notre_Dame\n",
              "context     Architecturally, the school has a Catholic cha...\n",
              "question    To whom did the Virgin Mary allegedly appear i...\n",
              "answers     {'text': ['Saint Bernadette Soubirous'], 'answ...\n",
              "Name: 0, dtype: object"
            ]
          },
          "metadata": {}
        },
        {
          "output_type": "display_data",
          "data": {
            "text/plain": [
              "id                                   5733bf84d058e614000b61be\n",
              "title                                University_of_Notre_Dame\n",
              "context     As at most other universities, Notre Dame's st...\n",
              "question    When did the Scholastic Magazine of Notre dame...\n",
              "answers     {'text': ['September 1876'], 'answer_start': [...\n",
              "Name: 5, dtype: object"
            ]
          },
          "metadata": {}
        },
        {
          "output_type": "display_data",
          "data": {
            "text/plain": [
              "id                                   5733bed24776f41900661188\n",
              "title                                University_of_Notre_Dame\n",
              "context     The university is the major seat of the Congre...\n",
              "question    Where is the headquarters of the Congregation ...\n",
              "answers             {'text': ['Rome'], 'answer_start': [119]}\n",
              "Name: 10, dtype: object"
            ]
          },
          "metadata": {}
        },
        {
          "output_type": "display_data",
          "data": {
            "text/plain": [
              "id                                   5733a6424776f41900660f51\n",
              "title                                University_of_Notre_Dame\n",
              "context     The College of Engineering was established in ...\n",
              "question    How many BS level degrees are offered in the C...\n",
              "answers            {'text': ['eight'], 'answer_start': [487]}\n",
              "Name: 15, dtype: object"
            ]
          },
          "metadata": {}
        },
        {
          "output_type": "display_data",
          "data": {
            "text/plain": [
              "id                                   5733a70c4776f41900660f64\n",
              "title                                University_of_Notre_Dame\n",
              "context     All of Notre Dame's undergraduate students are...\n",
              "question    What entity provides help with the management ...\n",
              "answers     {'text': ['Learning Resource Center'], 'answer...\n",
              "Name: 20, dtype: object"
            ]
          },
          "metadata": {}
        },
        {
          "output_type": "display_data",
          "data": {
            "text/plain": [
              "id                                   5733a7bd4776f41900660f6b\n",
              "title                                University_of_Notre_Dame\n",
              "context     The university first offered graduate degrees,...\n",
              "question    The granting of Doctorate degrees first occurr...\n",
              "answers             {'text': ['1924'], 'answer_start': [358]}\n",
              "Name: 24, dtype: object"
            ]
          },
          "metadata": {}
        },
        {
          "output_type": "display_data",
          "data": {
            "text/plain": [
              "id                                   5733ac31d058e614000b5ff3\n",
              "title                                University_of_Notre_Dame\n",
              "context     The Joan B. Kroc Institute for International P...\n",
              "question    What institute at Notre Dame studies  the reas...\n",
              "answers     {'text': ['Joan B. Kroc Institute for Internat...\n",
              "Name: 29, dtype: object"
            ]
          },
          "metadata": {}
        },
        {
          "output_type": "display_data",
          "data": {
            "text/plain": [
              "id                                   5733ad384776f41900660fec\n",
              "title                                University_of_Notre_Dame\n",
              "context     The library system of the university is divide...\n",
              "question    How many stories tall is the main library at N...\n",
              "answers               {'text': ['14'], 'answer_start': [136]}\n",
              "Name: 34, dtype: object"
            ]
          },
          "metadata": {}
        },
        {
          "output_type": "display_data",
          "data": {
            "text/plain": [
              "id                                   5733ae924776f41900661014\n",
              "title                                University_of_Notre_Dame\n",
              "context     Notre Dame is known for its competitive admiss...\n",
              "question    How many incoming students did Notre Dame admi...\n",
              "answers            {'text': ['3,577'], 'answer_start': [109]}\n",
              "Name: 39, dtype: object"
            ]
          },
          "metadata": {}
        },
        {
          "output_type": "display_data",
          "data": {
            "text/plain": [
              "id                                   5733afd3d058e614000b6045\n",
              "title                                University_of_Notre_Dame\n",
              "context     In 2015-2016, Notre Dame ranked 18th overall a...\n",
              "question    Where did U.S. News & World Report rank Notre ...\n",
              "answers      {'text': ['18th overall'], 'answer_start': [32]}\n",
              "Name: 44, dtype: object"
            ]
          },
          "metadata": {}
        },
        {
          "output_type": "display_data",
          "data": {
            "text/plain": [
              "id                                   5733b0fb4776f41900661041\n",
              "title                                University_of_Notre_Dame\n",
              "context     Father Joseph Carrier, C.S.C. was Director of ...\n",
              "question    What person was the Director of the Science Mu...\n",
              "answers     {'text': ['Father Joseph Carrier, C.S.C.'], 'a...\n",
              "Name: 49, dtype: object"
            ]
          },
          "metadata": {}
        },
        {
          "output_type": "display_data",
          "data": {
            "text/plain": [
              "id                                   5733b1da4776f41900661068\n",
              "title                                University_of_Notre_Dame\n",
              "context     In 1882, Albert Zahm (John Zahm's brother) bui...\n",
              "question    In what year did Albert Zahm begin comparing a...\n",
              "answers               {'text': ['1882'], 'answer_start': [3]}\n",
              "Name: 54, dtype: object"
            ]
          },
          "metadata": {}
        },
        {
          "output_type": "display_data",
          "data": {
            "text/plain": [
              "id                                   5733b2fe4776f4190066108f\n",
              "title                                University_of_Notre_Dame\n",
              "context     The Lobund Institute grew out of pioneering re...\n",
              "question    Work on a germ-free-life ended up in the creat...\n",
              "answers     {'text': ['The Lobund Institute'], 'answer_sta...\n",
              "Name: 59, dtype: object"
            ]
          },
          "metadata": {}
        },
        {
          "output_type": "display_data",
          "data": {
            "text/plain": [
              "id                                   5733b3d64776f419006610a3\n",
              "title                                University_of_Notre_Dame\n",
              "context     The Review of Politics was founded in 1939 by ...\n",
              "question           Gurian created what in 1939 at Notre Dame?\n",
              "answers     {'text': ['The Review of Politics'], 'answer_s...\n",
              "Name: 64, dtype: object"
            ]
          },
          "metadata": {}
        },
        {
          "output_type": "display_data",
          "data": {
            "text/plain": [
              "id                                   5733b5344776f419006610dd\n",
              "title                                University_of_Notre_Dame\n",
              "context     As of 2012[update] research continued in many ...\n",
              "question         Who was the president of Notre Dame in 2012?\n",
              "answers      {'text': ['John Jenkins'], 'answer_start': [80]}\n",
              "Name: 68, dtype: object"
            ]
          },
          "metadata": {}
        },
        {
          "output_type": "display_data",
          "data": {
            "text/plain": [
              "id                                   5733b5df4776f41900661105\n",
              "title                                University_of_Notre_Dame\n",
              "context     In 2014 the Notre Dame student body consisted ...\n",
              "question    How many undergrads were attending Notre Dame ...\n",
              "answers             {'text': ['8,448'], 'answer_start': [71]}\n",
              "Name: 73, dtype: object"
            ]
          },
          "metadata": {}
        },
        {
          "output_type": "display_data",
          "data": {
            "text/plain": [
              "id                                   5733b699d058e614000b6118\n",
              "title                                University_of_Notre_Dame\n",
              "context     About 80% of undergraduates and 20% of graduat...\n",
              "question    What percentage of undergrads live on the Notr...\n",
              "answers                {'text': ['80%'], 'answer_start': [6]}\n",
              "Name: 78, dtype: object"
            ]
          },
          "metadata": {}
        },
        {
          "output_type": "display_data",
          "data": {
            "text/plain": [
              "id                                   5733b7f74776f4190066112d\n",
              "title                                University_of_Notre_Dame\n",
              "context     The university is affiliated with the Congrega...\n",
              "question         What is Congregation of Holy Cross in Latin?\n",
              "answers     {'text': ['Congregatio a Sancta Cruce'], 'answ...\n",
              "Name: 83, dtype: object"
            ]
          },
          "metadata": {}
        },
        {
          "output_type": "display_data",
          "data": {
            "text/plain": [
              "id                                   57338653d058e614000b5c84\n",
              "title                                University_of_Notre_Dame\n",
              "context     This Main Building, and the library collection...\n",
              "question        What was the music hall at Notre Dame called?\n",
              "answers     {'text': ['Washington Hall'], 'answer_start': ...\n",
              "Name: 88, dtype: object"
            ]
          },
          "metadata": {}
        },
        {
          "output_type": "display_data",
          "data": {
            "text/plain": [
              "id                                   57338724d058e614000b5c9f\n",
              "title                                University_of_Notre_Dame\n",
              "context     In 1919 Father James Burns became president of...\n",
              "question    What type of education was pushed at Notre Dam...\n",
              "answers     {'text': ['scholastic and classical'], 'answer...\n",
              "Name: 93, dtype: object"
            ]
          },
          "metadata": {}
        },
        {
          "output_type": "display_data",
          "data": {
            "text/plain": [
              "id                                   573387acd058e614000b5cb1\n",
              "title                                University_of_Notre_Dame\n",
              "context     One of the main driving forces in the growth o...\n",
              "question    The Notre Dame football team got a new head co...\n",
              "answers     {'text': ['Knute Rockne'], 'answer_start': [117]}\n",
              "Name: 98, dtype: object"
            ]
          },
          "metadata": {}
        },
        {
          "output_type": "display_data",
          "data": {
            "text/plain": [
              "id                                   573388ce4776f41900660cc3\n",
              "title                                University_of_Notre_Dame\n",
              "context     The success of its football team made Notre Da...\n",
              "question    Catholic people identified with Notre Dame, wh...\n",
              "answers     {'text': ['the Protestant establishment'], 'an...\n",
              "Name: 103, dtype: object"
            ]
          },
          "metadata": {}
        },
        {
          "output_type": "display_data",
          "data": {
            "text/plain": [
              "id                                   57338a51d058e614000b5cf0\n",
              "title                                University_of_Notre_Dame\n",
              "context     Holy Cross Father John Francis O'Hara was elec...\n",
              "question    Which person became vice-president of Notre Da...\n",
              "answers     {'text': ['Father John Francis O'Hara'], 'answ...\n",
              "Name: 108, dtype: object"
            ]
          },
          "metadata": {}
        },
        {
          "output_type": "display_data",
          "data": {
            "text/plain": [
              "id                                   5733926d4776f41900660d8e\n",
              "title                                University_of_Notre_Dame\n",
              "context     The Rev. John J. Cavanaugh, C.S.C. served as p...\n",
              "question    Around the time that Rev. Cavanaugh became pre...\n",
              "answers     {'text': ['more than half'], 'answer_start': [...\n",
              "Name: 113, dtype: object"
            ]
          },
          "metadata": {}
        },
        {
          "output_type": "display_data",
          "data": {
            "text/plain": [
              "id                                   573393184776f41900660da6\n",
              "title                                University_of_Notre_Dame\n",
              "context     The Rev. Theodore Hesburgh, C.S.C., (1917–2015...\n",
              "question          What was the lifespan of Theodore Hesburgh?\n",
              "answers         {'text': ['1917–2015'], 'answer_start': [37]}\n",
              "Name: 118, dtype: object"
            ]
          },
          "metadata": {}
        },
        {
          "output_type": "display_data",
          "data": {
            "text/plain": [
              "id                                   573393e1d058e614000b5dc2\n",
              "title                                University_of_Notre_Dame\n",
              "context     Hesburgh is also credited with transforming th...\n",
              "question    What type of educational institute is Hesburgh...\n",
              "answers     {'text': ['coeducational'], 'answer_start': [82]}\n",
              "Name: 123, dtype: object"
            ]
          },
          "metadata": {}
        },
        {
          "output_type": "display_data",
          "data": {
            "text/plain": [
              "id                                   573394c84776f41900660ddd\n",
              "title                                University_of_Notre_Dame\n",
              "context     In the 18 years under the presidency of Edward...\n",
              "question    During what years was Edward Malloy president ...\n",
              "answers         {'text': ['1987–2005'], 'answer_start': [64]}\n",
              "Name: 128, dtype: object"
            ]
          },
          "metadata": {}
        },
        {
          "output_type": "display_data",
          "data": {
            "text/plain": [
              "id                                   5733974d4776f41900660e17\n",
              "title                                University_of_Notre_Dame\n",
              "context     Since 2005, Notre Dame has been led by John I....\n",
              "question    When did John Jenkins become the president of ...\n",
              "answers               {'text': ['2005'], 'answer_start': [6]}\n",
              "Name: 133, dtype: object"
            ]
          },
          "metadata": {}
        },
        {
          "output_type": "display_data",
          "data": {
            "text/plain": [
              "id                                   573398164776f41900660e21\n",
              "title                                University_of_Notre_Dame\n",
              "context     Because of its Catholic identity, a number of ...\n",
              "question    Which congregation is in charge of the Old Col...\n",
              "answers     {'text': ['Congregation of Holy Cross'], 'answ...\n",
              "Name: 138, dtype: object"
            ]
          },
          "metadata": {}
        },
        {
          "output_type": "display_data",
          "data": {
            "text/plain": [
              "id                                   573398ebd058e614000b5e66\n",
              "title                                University_of_Notre_Dame\n",
              "context     A Science Hall was built in 1883 under the dir...\n",
              "question    Which person oversaw the creation of a science...\n",
              "answers          {'text': ['Fr. Zahm'], 'answer_start': [56]}\n",
              "Name: 143, dtype: object"
            ]
          },
          "metadata": {}
        },
        {
          "output_type": "display_data",
          "data": {
            "text/plain": [
              "id                                   57339a5bd058e614000b5e91\n",
              "title                                University_of_Notre_Dame\n",
              "context     Since the construction of its oldest buildings...\n",
              "question    How many halls are at Notre Dame that house st...\n",
              "answers               {'text': ['29'], 'answer_start': [120]}\n",
              "Name: 148, dtype: object"
            ]
          },
          "metadata": {}
        },
        {
          "output_type": "display_data",
          "data": {
            "text/plain": [
              "id                                   57339b36d058e614000b5ea3\n",
              "title                                University_of_Notre_Dame\n",
              "context     The University of Notre Dame has made being a ...\n",
              "question    In what year did Notre Dame create the Office ...\n",
              "answers             {'text': ['2008'], 'answer_start': [142]}\n",
              "Name: 153, dtype: object"
            ]
          },
          "metadata": {}
        },
        {
          "output_type": "display_data",
          "data": {
            "text/plain": [
              "id                                   57339c184776f41900660ea5\n",
              "title                                University_of_Notre_Dame\n",
              "context     The university owns several centers around the...\n",
              "question    In what year did Notre Dame first have a facil...\n",
              "answers             {'text': ['1968'], 'answer_start': [198]}\n",
              "Name: 157, dtype: object"
            ]
          },
          "metadata": {}
        },
        {
          "output_type": "display_data",
          "data": {
            "text/plain": [
              "id                                   5733a3cbd058e614000b5f3f\n",
              "title                                University_of_Notre_Dame\n",
              "context     The College of Arts and Letters was establishe...\n",
              "question                 What was Notre Dame's first college?\n",
              "answers     {'text': ['The College of Arts and Letters'], ...\n",
              "Name: 161, dtype: object"
            ]
          },
          "metadata": {}
        },
        {
          "output_type": "display_data",
          "data": {
            "text/plain": [
              "id                                   5733a4c54776f41900660f2d\n",
              "title                                University_of_Notre_Dame\n",
              "context     The College of Science was established at the ...\n",
              "question    Which president at Notre Dame created the Coll...\n",
              "answers     {'text': ['Father Patrick Dillon'], 'answer_st...\n",
              "Name: 166, dtype: object"
            ]
          },
          "metadata": {}
        },
        {
          "output_type": "display_data",
          "data": {
            "text/plain": [
              "id                                   5733a55a4776f41900660f3a\n",
              "title                                University_of_Notre_Dame\n",
              "context     The School of Architecture was established in ...\n",
              "question             In 1899 Notre Dame formed which college?\n",
              "answers     {'text': ['School of Architecture'], 'answer_s...\n",
              "Name: 171, dtype: object"
            ]
          },
          "metadata": {}
        },
        {
          "output_type": "display_data",
          "data": {
            "text/plain": [
              "id                                   5733adb64776f41900661001\n",
              "title                                University_of_Notre_Dame\n",
              "context     The library system also includes branch librar...\n",
              "question    In what year did the opening of a theology lib...\n",
              "answers             {'text': ['2015'], 'answer_start': [388]}\n",
              "Name: 176, dtype: object"
            ]
          },
          "metadata": {}
        },
        {
          "output_type": "display_data",
          "data": {
            "text/plain": [
              "id                                   5733b496d058e614000b60ce\n",
              "title                                University_of_Notre_Dame\n",
              "context     The rise of Hitler and other dictators in the ...\n",
              "question    What caused many intellectual Catholics to lea...\n",
              "answers     {'text': ['The rise of Hitler and other dictat...\n",
              "Name: 180, dtype: object"
            ]
          },
          "metadata": {}
        },
        {
          "output_type": "display_data",
          "data": {
            "text/plain": [
              "id                                   573382a14776f41900660c2d\n",
              "title                                University_of_Notre_Dame\n",
              "context     The University of Notre Dame du Lac (or simply...\n",
              "question    The school known as Notre Dame is known by a m...\n",
              "answers     {'text': ['University of Notre Dame du'], 'ans...\n",
              "Name: 185, dtype: object"
            ]
          },
          "metadata": {}
        },
        {
          "output_type": "display_data",
          "data": {
            "text/plain": [
              "id                                   573383494776f41900660c41\n",
              "title                                University_of_Notre_Dame\n",
              "context     Notre Dame rose to national prominence in the ...\n",
              "question    What caused Notre Dame to become notable in th...\n",
              "answers     {'text': ['its Fighting Irish football team'],...\n",
              "Name: 190, dtype: object"
            ]
          },
          "metadata": {}
        },
        {
          "output_type": "display_data",
          "data": {
            "text/plain": [
              "id                                   573383e94776f41900660c5a\n",
              "title                                University_of_Notre_Dame\n",
              "context     Besides its prominence in sports, Notre Dame i...\n",
              "question    Where among US universities does Notre Dame rank?\n",
              "answers     {'text': ['among the top twenty'], 'answer_sta...\n",
              "Name: 195, dtype: object"
            ]
          },
          "metadata": {}
        },
        {
          "output_type": "display_data",
          "data": {
            "text/plain": [
              "id                                   5733849bd058e614000b5c56\n",
              "title                                University_of_Notre_Dame\n",
              "context     In 1842, the Bishop of Vincennes, Célestine Gu...\n",
              "question    In what year was Father Edward Sorin given two...\n",
              "answers               {'text': ['1842'], 'answer_start': [3]}\n",
              "Name: 200, dtype: object"
            ]
          },
          "metadata": {}
        },
        {
          "output_type": "display_data",
          "data": {
            "text/plain": [
              "id                                   573385394776f41900660c7f\n",
              "title                                University_of_Notre_Dame\n",
              "context     The first degrees from the college were awarde...\n",
              "question    In what year did the initial degrees get hande...\n",
              "answers              {'text': ['1849'], 'answer_start': [51]}\n",
              "Name: 205, dtype: object"
            ]
          },
          "metadata": {}
        },
        {
          "output_type": "display_data",
          "data": {
            "text/plain": [
              "id                                   5733c0064776f41900661198\n",
              "title                                University_of_Notre_Dame\n",
              "context     The television station, NDtv, grew from one sh...\n",
              "question    Which television station finds its home at Not...\n",
              "answers              {'text': ['NDtv'], 'answer_start': [24]}\n",
              "Name: 210, dtype: object"
            ]
          },
          "metadata": {}
        },
        {
          "output_type": "display_data",
          "data": {
            "text/plain": [
              "id                                   5733c0e6d058e614000b61d7\n",
              "title                                University_of_Notre_Dame\n",
              "context     The first phase of Eddy Street Commons, a $215...\n",
              "question    How much is Eddy Street Commons at Notre Dame ...\n",
              "answers      {'text': ['$215 million'], 'answer_start': [42]}\n",
              "Name: 214, dtype: object"
            ]
          },
          "metadata": {}
        },
        {
          "output_type": "display_data",
          "data": {
            "text/plain": [
              "id                                   5733c1a94776f419006611a6\n",
              "title                                University_of_Notre_Dame\n",
              "context     Notre Dame teams are known as the Fighting Iri...\n",
              "question                What does the acronym NCAA stand for?\n",
              "answers     {'text': ['National Collegiate Athletic Associ...\n",
              "Name: 219, dtype: object"
            ]
          },
          "metadata": {}
        },
        {
          "output_type": "display_data",
          "data": {
            "text/plain": [
              "id                                   5733c29c4776f419006611b8\n",
              "title                                University_of_Notre_Dame\n",
              "context     Notre Dame's conference affiliations for all o...\n",
              "question    To what conference did the Fighting Irish go a...\n",
              "answers          {'text': ['the ACC'], 'answer_start': [239]}\n",
              "Name: 224, dtype: object"
            ]
          },
          "metadata": {}
        },
        {
          "output_type": "display_data",
          "data": {
            "text/plain": [
              "id                                   5733c3184776f419006611c2\n",
              "title                                University_of_Notre_Dame\n",
              "context     On July 1, 2014, the University of Notre Dame ...\n",
              "question    Who currently provides uniforms to Notre Dame ...\n",
              "answers      {'text': ['Under Armour'], 'answer_start': [50]}\n",
              "Name: 229, dtype: object"
            ]
          },
          "metadata": {}
        },
        {
          "output_type": "display_data",
          "data": {
            "text/plain": [
              "id                                   5733c4494776f419006611da\n",
              "title                                University_of_Notre_Dame\n",
              "context     The Notre Dame football team has a long histor...\n",
              "question    Which team did Notre Dame's football team find...\n",
              "answers     {'text': ['Michigan Wolverines football team']...\n",
              "Name: 234, dtype: object"
            ]
          },
          "metadata": {}
        },
        {
          "output_type": "display_data",
          "data": {
            "text/plain": [
              "id                                   5733c743d058e614000b622d\n",
              "title                                University_of_Notre_Dame\n",
              "context     George Gipp was the school's legendary footbal...\n",
              "question    What notable football player played at Notre D...\n",
              "answers        {'text': ['George Gipp'], 'answer_start': [0]}\n",
              "Name: 239, dtype: object"
            ]
          },
          "metadata": {}
        },
        {
          "output_type": "display_data",
          "data": {
            "text/plain": [
              "id                                   5733ca05d058e614000b6263\n",
              "title                                University_of_Notre_Dame\n",
              "context     Football gameday traditions During home games,...\n",
              "question    What is displayed at Zahm House for football h...\n",
              "answers     {'text': ['two-story banner'], 'answer_start':...\n",
              "Name: 244, dtype: object"
            ]
          },
          "metadata": {}
        },
        {
          "output_type": "display_data",
          "data": {
            "text/plain": [
              "id                                   5733caf74776f4190066124c\n",
              "title                                University_of_Notre_Dame\n",
              "context     The men's basketball team has over 1,600 wins,...\n",
              "question    How many wins does the Notre Dame men's basket...\n",
              "answers        {'text': ['over 1,600'], 'answer_start': [30]}\n",
              "Name: 249, dtype: object"
            ]
          },
          "metadata": {}
        },
        {
          "output_type": "display_data",
          "data": {
            "text/plain": [
              "id                                   5733cbdad058e614000b628d\n",
              "title                                University_of_Notre_Dame\n",
              "context     The \"Notre Dame Victory March\" is the fight so...\n",
              "question    Who wrote the original lyrics to the Notre Dam...\n",
              "answers     {'text': ['John F. Shea'], 'answer_start': [222]}\n",
              "Name: 254, dtype: object"
            ]
          },
          "metadata": {}
        },
        {
          "output_type": "display_data",
          "data": {
            "text/plain": [
              "id                                   5733ccbe4776f41900661270\n",
              "title                                University_of_Notre_Dame\n",
              "context     In the film Knute Rockne, All American, Knute ...\n",
              "question           Ronald Reagan had a nickname, what was it?\n",
              "answers       {'text': ['The Gipper'], 'answer_start': [267]}\n",
              "Name: 259, dtype: object"
            ]
          },
          "metadata": {}
        },
        {
          "output_type": "display_data",
          "data": {
            "text/plain": [
              "id                                   5733cd504776f4190066128e\n",
              "title                                University_of_Notre_Dame\n",
              "context     Notre Dame alumni work in various fields. Alum...\n",
              "question        Which Secretary of State attended Notre Dame?\n",
              "answers     {'text': ['Condoleezza Rice'], 'answer_start':...\n",
              "Name: 264, dtype: object"
            ]
          },
          "metadata": {}
        },
        {
          "output_type": "display_data",
          "data": {
            "text/plain": [
              "id                                   56be85543aeaaa14008c9063\n",
              "title                                                 Beyoncé\n",
              "context     Beyoncé Giselle Knowles-Carter (/biːˈjɒnseɪ/ b...\n",
              "question             When did Beyonce start becoming popular?\n",
              "answers     {'text': ['in the late 1990s'], 'answer_start'...\n",
              "Name: 269, dtype: object"
            ]
          },
          "metadata": {}
        },
        {
          "output_type": "display_data",
          "data": {
            "text/plain": [
              "id                                   56be86cf3aeaaa14008c9076\n",
              "title                                                 Beyoncé\n",
              "context     Following the disbandment of Destiny's Child i...\n",
              "question    After her second solo album, what other entert...\n",
              "answers           {'text': ['acting'], 'answer_start': [207]}\n",
              "Name: 289, dtype: object"
            ]
          },
          "metadata": {}
        },
        {
          "output_type": "display_data",
          "data": {
            "text/plain": [
              "id                                   56be88473aeaaa14008c9080\n",
              "title                                                 Beyoncé\n",
              "context     A self-described \"modern-day feminist\", Beyonc...\n",
              "question    In her music, what are some recurring elements...\n",
              "answers     {'text': ['love, relationships, and monogamy']...\n",
              "Name: 301, dtype: object"
            ]
          },
          "metadata": {}
        },
        {
          "output_type": "display_data",
          "data": {
            "text/plain": [
              "id                                   56be892d3aeaaa14008c908b\n",
              "title                                                 Beyoncé\n",
              "context     Beyoncé Giselle Knowles was born in Houston, T...\n",
              "question    Beyonce's younger sibling also sang with her i...\n",
              "answers     {'text': ['Destiny's Child'], 'answer_start': ...\n",
              "Name: 313, dtype: object"
            ]
          },
          "metadata": {}
        },
        {
          "output_type": "display_data",
          "data": {
            "text/plain": [
              "id                                   56be8a583aeaaa14008c9094\n",
              "title                                                 Beyoncé\n",
              "context     Beyoncé attended St. Mary's Elementary School ...\n",
              "question               What town did Beyonce go to school in?\n",
              "answers     {'text': ['Fredericksburg'], 'answer_start': [...\n",
              "Name: 326, dtype: object"
            ]
          },
          "metadata": {}
        },
        {
          "output_type": "display_data",
          "data": {
            "text/plain": [
              "id                                   56be8bab3aeaaa14008c909f\n",
              "title                                                 Beyoncé\n",
              "context     At age eight, Beyoncé and childhood friend Kel...\n",
              "question    Who decided to place Beyonce's group in Star S...\n",
              "answers      {'text': ['Arne Frager'], 'answer_start': [303]}\n",
              "Name: 337, dtype: object"
            ]
          },
          "metadata": {}
        },
        {
          "output_type": "display_data",
          "data": {
            "text/plain": [
              "id                                   56be8c8a3aeaaa14008c90a9\n",
              "title                                                 Beyoncé\n",
              "context     The group changed their name to Destiny's Chil...\n",
              "question    Which film featured Destiny's Child's first ma...\n",
              "answers     {'text': ['Men in Black'], 'answer_start': [215]}\n",
              "Name: 350, dtype: object"
            ]
          },
          "metadata": {}
        },
        {
          "output_type": "display_data",
          "data": {
            "text/plain": [
              "id                                   56be8d423aeaaa14008c90b2\n",
              "title                                                 Beyoncé\n",
              "context     LeToya Luckett and Roberson became unhappy wit...\n",
              "question     What mental health issue did Beyonce go through?\n",
              "answers       {'text': ['depression'], 'answer_start': [169]}\n",
              "Name: 363, dtype: object"
            ]
          },
          "metadata": {}
        },
        {
          "output_type": "display_data",
          "data": {
            "text/plain": [
              "id                                   56be8e353aeaaa14008c90c6\n",
              "title                                                 Beyoncé\n",
              "context     The remaining band members recorded \"Independe...\n",
              "question    \"Charlie's Angels\" featured which single from ...\n",
              "answers     {'text': ['Independent Women Part I'], 'answer...\n",
              "Name: 373, dtype: object"
            ]
          },
          "metadata": {}
        },
        {
          "output_type": "display_data",
          "data": {
            "text/plain": [
              "id                                   56be8fdf3aeaaa14008c90da\n",
              "title                                                 Beyoncé\n",
              "context     In July 2002, Beyoncé continued her acting car...\n",
              "question    Who did Beyonce star with in the movie, \"Austi...\n",
              "answers        {'text': ['Mike Myers'], 'answer_start': [84]}\n",
              "Name: 384, dtype: object"
            ]
          },
          "metadata": {}
        },
        {
          "output_type": "display_data",
          "data": {
            "text/plain": [
              "id                                   56be90ee3aeaaa14008c90e4\n",
              "title                                                 Beyoncé\n",
              "context     Beyoncé's first solo recording was a feature o...\n",
              "question    What was the highest Beyonce's first solo reco...\n",
              "answers      {'text': ['number four'], 'answer_start': [123]}\n",
              "Name: 399, dtype: object"
            ]
          },
          "metadata": {}
        },
        {
          "output_type": "display_data",
          "data": {
            "text/plain": [
              "id                                   56be91b23aeaaa14008c90f0\n",
              "title                                                 Beyoncé\n",
              "context     In November 2003, she embarked on the Dangerou...\n",
              "question        Destiny's Child's final album was named what?\n",
              "answers     {'text': ['Destiny Fulfilled'], 'answer_start'...\n",
              "Name: 413, dtype: object"
            ]
          },
          "metadata": {}
        },
        {
          "output_type": "display_data",
          "data": {
            "text/plain": [
              "id                                   56be932e3aeaaa14008c90f9\n",
              "title                                                 Beyoncé\n",
              "context     Beyoncé's second solo album B'Day was released...\n",
              "question    How many albums did Beyonce sell in the first ...\n",
              "answers          {'text': ['541,000'], 'answer_start': [132]}\n",
              "Name: 423, dtype: object"
            ]
          },
          "metadata": {}
        },
        {
          "output_type": "display_data",
          "data": {
            "text/plain": [
              "id                                   56be94703aeaaa14008c9102\n",
              "title                                                 Beyoncé\n",
              "context     Her first acting role of 2006 was in the comed...\n",
              "question                  What movie did Beyonce act in 2006?\n",
              "answers     {'text': ['The Pink Panther'], 'answer_start':...\n",
              "Name: 434, dtype: object"
            ]
          },
          "metadata": {}
        },
        {
          "output_type": "display_data",
          "data": {
            "text/plain": [
              "id                                   56be95823aeaaa14008c910c\n",
              "title                                                 Beyoncé\n",
              "context     On April 4, 2008, Beyoncé married Jay Z. She p...\n",
              "question                 Beyonce got married in 2008 to whom?\n",
              "answers             {'text': ['Jay Z'], 'answer_start': [34]}\n",
              "Name: 447, dtype: object"
            ]
          },
          "metadata": {}
        },
        {
          "output_type": "display_data",
          "data": {
            "text/plain": [
              "id                                   56be96653aeaaa14008c9116\n",
              "title                                                 Beyoncé\n",
              "context     Beyoncé further expanded her acting career, st...\n",
              "question    Beyonce portrayed which character in the film,...\n",
              "answers        {'text': ['Etta James'], 'answer_start': [69]}\n",
              "Name: 461, dtype: object"
            ]
          },
          "metadata": {}
        },
        {
          "output_type": "display_data",
          "data": {
            "text/plain": [
              "id                                   56be973d3aeaaa14008c9120\n",
              "title                                                 Beyoncé\n",
              "context     At the 52nd Annual Grammy Awards, Beyoncé rece...\n",
              "question    How many awards was Beyonce nominated for at t...\n",
              "answers               {'text': ['ten'], 'answer_start': [51]}\n",
              "Name: 474, dtype: object"
            ]
          },
          "metadata": {}
        },
        {
          "output_type": "display_data",
          "data": {
            "text/plain": [
              "id                                   56be97c73aeaaa14008c912a\n",
              "title                                                 Beyoncé\n",
              "context     Beyoncé announced a hiatus from her music care...\n",
              "question    Beyonce would take a break from music in which...\n",
              "answers              {'text': ['2010'], 'answer_start': [60]}\n",
              "Name: 488, dtype: object"
            ]
          },
          "metadata": {}
        },
        {
          "output_type": "display_data",
          "data": {
            "text/plain": [
              "id                                   56be99b53aeaaa14008c913e\n",
              "title                                                 Beyoncé\n",
              "context     In 2011, documents obtained by WikiLeaks revea...\n",
              "question    In which year was reports about Beyonce perfor...\n",
              "answers               {'text': ['2011'], 'answer_start': [3]}\n",
              "Name: 499, dtype: object"
            ]
          },
          "metadata": {}
        },
        {
          "output_type": "display_data",
          "data": {
            "text/plain": [
              "id                                   56be9add3aeaaa14008c9152\n",
              "title                                                 Beyoncé\n",
              "context     Her fourth studio album 4 was released on June...\n",
              "question         Beyonce's fourth album debuted in what year?\n",
              "answers              {'text': ['2011'], 'answer_start': [51]}\n",
              "Name: 512, dtype: object"
            ]
          },
          "metadata": {}
        },
        {
          "output_type": "display_data",
          "data": {
            "text/plain": [
              "id                                   56be9bb83aeaaa14008c915c\n",
              "title                                                 Beyoncé\n",
              "context     On January 7, 2012, Beyoncé gave birth to her ...\n",
              "question               When did Beyonce have her first child?\n",
              "answers     {'text': ['January 7, 2012'], 'answer_start': ...\n",
              "Name: 525, dtype: object"
            ]
          },
          "metadata": {}
        },
        {
          "output_type": "display_data",
          "data": {
            "text/plain": [
              "id                                   56be9c863aeaaa14008c9166\n",
              "title                                                 Beyoncé\n",
              "context     In January 2013, Destiny's Child released Love...\n",
              "question    Destiny's Child released a compilation album a...\n",
              "answers           {'text': ['romance'], 'answer_start': [81]}\n",
              "Name: 538, dtype: object"
            ]
          },
          "metadata": {}
        },
        {
          "output_type": "display_data",
          "data": {
            "text/plain": [
              "id                                   56be9d3d3aeaaa14008c9170\n",
              "title                                                 Beyoncé\n",
              "context     Beyoncé embarked on The Mrs. Carter Show World...\n",
              "question    How many dates did Beyonce's \"The Mrs. Carter ...\n",
              "answers              {'text': ['132'], 'answer_start': [103]}\n",
              "Name: 550, dtype: object"
            ]
          },
          "metadata": {}
        },
        {
          "output_type": "display_data",
          "data": {
            "text/plain": [
              "id                                   56be9e453aeaaa14008c917a\n",
              "title                                                 Beyoncé\n",
              "context     On December 13, 2013, Beyoncé unexpectedly rel...\n",
              "question    Where did Beyonce release her 5th album to a h...\n",
              "answers     {'text': ['the iTunes Store'], 'answer_start':...\n",
              "Name: 563, dtype: object"
            ]
          },
          "metadata": {}
        },
        {
          "output_type": "display_data",
          "data": {
            "text/plain": [
              "id                                   56be9eea3aeaaa14008c9184\n",
              "title                                                 Beyoncé\n",
              "context     At the 57th Annual Grammy Awards in February 2...\n",
              "question    How many awards did Beyonce take home with her...\n",
              "answers            {'text': ['three'], 'answer_start': [108]}\n",
              "Name: 573, dtype: object"
            ]
          },
          "metadata": {}
        },
        {
          "output_type": "display_data",
          "data": {
            "text/plain": [
              "id                                   56bea27b3aeaaa14008c9199\n",
              "title                                                 Beyoncé\n",
              "context     On February 6, 2016, one day before her perfor...\n",
              "question    Beyonce released the song \"Formation\" on which...\n",
              "answers            {'text': ['Tidal'], 'answer_start': [140]}\n",
              "Name: 589, dtype: object"
            ]
          },
          "metadata": {}
        },
        {
          "output_type": "display_data",
          "data": {
            "text/plain": [
              "id                                   56bea5f23aeaaa14008c91a1\n",
              "title                                                 Beyoncé\n",
              "context     Beyoncé is believed to have first started a re...\n",
              "question    As of April 2014, how many albums have Jay Z a...\n",
              "answers      {'text': ['300 million'], 'answer_start': [447]}\n",
              "Name: 597, dtype: object"
            ]
          },
          "metadata": {}
        },
        {
          "output_type": "display_data",
          "data": {
            "text/plain": [
              "id                                   56bea8463aeaaa14008c91a9\n",
              "title                                                 Beyoncé\n",
              "context     In August, the couple attended the 2011 MTV Vi...\n",
              "question    Jay Z and Beyonce attended which event togethe...\n",
              "answers     {'text': ['MTV Video Music Awards'], 'answer_s...\n",
              "Name: 610, dtype: object"
            ]
          },
          "metadata": {}
        },
        {
          "output_type": "display_data",
          "data": {
            "text/plain": [
              "id                                   56bea9043aeaaa14008c91b1\n",
              "title                                                 Beyoncé\n",
              "context     On January 7, 2012, Beyoncé gave birth to a da...\n",
              "question                     Jay Z has a website called what?\n",
              "answers     {'text': ['Lifeandtimes.com'], 'answer_start':...\n",
              "Name: 622, dtype: object"
            ]
          },
          "metadata": {}
        },
        {
          "output_type": "display_data",
          "data": {
            "text/plain": [
              "id                                   56beab283aeaaa14008c91cc\n",
              "title                                                 Beyoncé\n",
              "context     Beyoncé and husband Jay Z are friends with Pre...\n",
              "question    Beyonce and Jay-Z went to a rally for the acqu...\n",
              "answers     {'text': ['George Zimmerman'], 'answer_start':...\n",
              "Name: 634, dtype: object"
            ]
          },
          "metadata": {}
        },
        {
          "output_type": "display_data",
          "data": {
            "text/plain": [
              "id                                   56beabab3aeaaa14008c91db\n",
              "title                                                 Beyoncé\n",
              "context     In an interview published by Vogue in April 20...\n",
              "question    Beyonce did an interview with which magazine a...\n",
              "answers             {'text': ['Vogue'], 'answer_start': [29]}\n",
              "Name: 644, dtype: object"
            ]
          },
          "metadata": {}
        },
        {
          "output_type": "display_data",
          "data": {
            "text/plain": [
              "id                                   56beb0683aeaaa14008c9211\n",
              "title                                                 Beyoncé\n",
              "context     In 2015 Beyoncé signed an open letter which th...\n",
              "question            Beyonce signed a letter with who in 2015?\n",
              "answers     {'text': ['the ONE Campaign'], 'answer_start':...\n",
              "Name: 653, dtype: object"
            ]
          },
          "metadata": {}
        },
        {
          "output_type": "display_data",
          "data": {
            "text/plain": [
              "id                                   56beb2a43aeaaa14008c9239\n",
              "title                                                 Beyoncé\n",
              "context     Following the death of Freddie Gray, Beyoncé a...\n",
              "question    Beyonce along with Jay Z met with whom's famil...\n",
              "answers      {'text': ['Freddie Gray'], 'answer_start': [23]}\n",
              "Name: 665, dtype: object"
            ]
          },
          "metadata": {}
        },
        {
          "output_type": "display_data",
          "data": {
            "text/plain": [
              "id                                   56beb4023aeaaa14008c9252\n",
              "title                                                 Beyoncé\n",
              "context     Forbes magazine began reporting on Beyoncé's e...\n",
              "question    Beyonce beat out which musical artists for mos...\n",
              "answers     {'text': ['Madonna and Celine Dion'], 'answer_...\n",
              "Name: 669, dtype: object"
            ]
          },
          "metadata": {}
        },
        {
          "output_type": "display_data",
          "data": {
            "text/plain": [
              "id                                   56beb50f3aeaaa14008c926f\n",
              "title                                                 Beyoncé\n",
              "context     Beyoncé's vocal range spans four octaves. Jody...\n",
              "question      Beyonce's range in singing is how many octaves?\n",
              "answers              {'text': ['four'], 'answer_start': [28]}\n",
              "Name: 682, dtype: object"
            ]
          },
          "metadata": {}
        },
        {
          "output_type": "display_data",
          "data": {
            "text/plain": [
              "id                                   56beb5b23aeaaa14008c9283\n",
              "title                                                 Beyoncé\n",
              "context     Beyoncé's music is generally R&B, but she also...\n",
              "question    Music from Beyonce is generally categorized as...\n",
              "answers               {'text': ['R&B'], 'answer_start': [29]}\n",
              "Name: 694, dtype: object"
            ]
          },
          "metadata": {}
        },
        {
          "output_type": "display_data",
          "data": {
            "text/plain": [
              "id                                   56beb67d3aeaaa14008c929a\n",
              "title                                                 Beyoncé\n",
              "context     She has received co-writing credits for most o...\n",
              "question    Beyonce does not create which aspect of her mu...\n",
              "answers            {'text': ['beats'], 'answer_start': [521]}\n",
              "Name: 707, dtype: object"
            ]
          },
          "metadata": {}
        },
        {
          "output_type": "display_data",
          "data": {
            "text/plain": [
              "id                                   56beb9203aeaaa14008c92d1\n",
              "title                                                 Beyoncé\n",
              "context     In 2001, she became the first African-American...\n",
              "question    Pop Songwriter of the Year award in 2001 was a...\n",
              "answers          {'text': ['Beyoncé'], 'answer_start': [205]}\n",
              "Name: 716, dtype: object"
            ]
          },
          "metadata": {}
        },
        {
          "output_type": "display_data",
          "data": {
            "text/plain": [
              "id                                   56beba293aeaaa14008c92ef\n",
              "title                                                 Beyoncé\n",
              "context     Beyoncé names Michael Jackson as her major mus...\n",
              "question    To whom did Beyonce credit as her major influe...\n",
              "answers     {'text': ['Michael Jackson'], 'answer_start': ...\n",
              "Name: 728, dtype: object"
            ]
          },
          "metadata": {}
        },
        {
          "output_type": "display_data",
          "data": {
            "text/plain": [
              "id                                   56bebba63aeaaa14008c930b\n",
              "title                                                 Beyoncé\n",
              "context     The feminism and female empowerment themes on ...\n",
              "question    What themes were influenced by her acting role...\n",
              "answers     {'text': ['feminism and female empowerment'], ...\n",
              "Name: 739, dtype: object"
            ]
          },
          "metadata": {}
        },
        {
          "output_type": "display_data",
          "data": {
            "text/plain": [
              "id                                   56bec1c53aeaaa14008c936b\n",
              "title                                                 Beyoncé\n",
              "context     Beyoncé has stated that she is personally insp...\n",
              "question    Beyonce has noted which first lady with saying...\n",
              "answers     {'text': ['Michelle Obama'], 'answer_start': [...\n",
              "Name: 747, dtype: object"
            ]
          },
          "metadata": {}
        },
        {
          "output_type": "display_data",
          "data": {
            "text/plain": [
              "id                                   56bec29b3aeaaa14008c937f\n",
              "title                                                 Beyoncé\n",
              "context     In 2006, Beyoncé introduced her all-female tou...\n",
              "question    Beyonce had an all-female tour band whose name...\n",
              "answers         {'text': ['Suga Mama'], 'answer_start': [53]}\n",
              "Name: 759, dtype: object"
            ]
          },
          "metadata": {}
        },
        {
          "output_type": "display_data",
          "data": {
            "text/plain": [
              "id                                   56bec3303aeaaa14008c9391\n",
              "title                                                 Beyoncé\n",
              "context     Beyoncé has received praise for her stage pres...\n",
              "question    What characteristics has Beyonce received accl...\n",
              "answers     {'text': ['stage presence and voice'], 'answer...\n",
              "Name: 771, dtype: object"
            ]
          },
          "metadata": {}
        },
        {
          "output_type": "display_data",
          "data": {
            "text/plain": [
              "id                                   56bec3ea3aeaaa14008c939f\n",
              "title                                                 Beyoncé\n",
              "context     Described as being \"sexy, seductive and provoc...\n",
              "question     Beyonce self proclaimed alter ego is named what?\n",
              "answers     {'text': ['Sasha Fierce'], 'answer_start': [139]}\n",
              "Name: 779, dtype: object"
            ]
          },
          "metadata": {}
        },
        {
          "output_type": "display_data",
          "data": {
            "text/plain": [
              "id                                   56bec4de3aeaaa14008c93bb\n",
              "title                                                 Beyoncé\n",
              "context     Beyoncé has been described as a having a wide-...\n",
              "question       Beyonce's sex appeal is characterized as what?\n",
              "answers      {'text': ['wide-ranging'], 'answer_start': [41]}\n",
              "Name: 789, dtype: object"
            ]
          },
          "metadata": {}
        },
        {
          "output_type": "display_data",
          "data": {
            "text/plain": [
              "id                                   56bec5d53aeaaa14008c93d9\n",
              "title                                                 Beyoncé\n",
              "context     In September 2010, Beyoncé made her runway mod...\n",
              "question    in September 2010, what career area did Beyonc...\n",
              "answers         {'text': ['modelling'], 'answer_start': [43]}\n",
              "Name: 800, dtype: object"
            ]
          },
          "metadata": {}
        },
        {
          "output_type": "display_data",
          "data": {
            "text/plain": [
              "id                                   56bec6763aeaaa14008c93f4\n",
              "title                                                 Beyoncé\n",
              "context     According to Italian fashion designer Roberto ...\n",
              "question      Which parent of Beyonce's help co-write a book?\n",
              "answers       {'text': ['Her mother'], 'answer_start': [134]}\n",
              "Name: 813, dtype: object"
            ]
          },
          "metadata": {}
        },
        {
          "output_type": "display_data",
          "data": {
            "text/plain": [
              "id                                   56bec6de3aeaaa14008c9407\n",
              "title                                                 Beyoncé\n",
              "context     The Bey Hive is the name given to Beyoncé's fa...\n",
              "question    Beyonce has a fan base that is referred to as ...\n",
              "answers       {'text': ['The Bey Hive'], 'answer_start': [0]}\n",
              "Name: 820, dtype: object"
            ]
          },
          "metadata": {}
        },
        {
          "output_type": "display_data",
          "data": {
            "text/plain": [
              "id                                   56bec7b63aeaaa14008c9422\n",
              "title                                                 Beyoncé\n",
              "context     In 2006, the animal rights organization People...\n",
              "question           Beyonce has a clothing line known as what?\n",
              "answers     {'text': ['House of Deréon'], 'answer_start': ...\n",
              "Name: 828, dtype: object"
            ]
          },
          "metadata": {}
        },
        {
          "output_type": "display_data",
          "data": {
            "text/plain": [
              "id                                   56bec8a13aeaaa14008c943f\n",
              "title                                                 Beyoncé\n",
              "context     Beyoncé's lighter skin color and costuming has...\n",
              "question    Which racial community gave criticism to Beyonce?\n",
              "answers     {'text': ['African-American'], 'answer_start':...\n",
              "Name: 838, dtype: object"
            ]
          },
          "metadata": {}
        },
        {
          "output_type": "display_data",
          "data": {
            "text/plain": [
              "id                                   56bec94f3aeaaa14008c944f\n",
              "title                                                 Beyoncé\n",
              "context     In The New Yorker music critic Jody Rosen desc...\n",
              "question    Artist of the Decade was bestowed upon Beyonce...\n",
              "answers     {'text': ['The Guardian'], 'answer_start': [215]}\n",
              "Name: 848, dtype: object"
            ]
          },
          "metadata": {}
        },
        {
          "output_type": "display_data",
          "data": {
            "text/plain": [
              "id                                   56bec9f13aeaaa14008c9467\n",
              "title                                                 Beyoncé\n",
              "context     Beyoncé's work has influenced numerous artists...\n",
              "question    Which rock band cited Beyonce on their third a...\n",
              "answers     {'text': ['White Rabbits'], 'answer_start': [2...\n",
              "Name: 860, dtype: object"
            ]
          },
          "metadata": {}
        },
        {
          "output_type": "display_data",
          "data": {
            "text/plain": [
              "id                                   56beca973aeaaa14008c9477\n",
              "title                                                 Beyoncé\n",
              "context     Her debut single, \"Crazy in Love\" was named VH...\n",
              "question    VH1 declared what song the \"Greatest song of t...\n",
              "answers     {'text': ['Crazy in Love'], 'answer_start': [19]}\n",
              "Name: 872, dtype: object"
            ]
          },
          "metadata": {}
        },
        {
          "output_type": "display_data",
          "data": {
            "text/plain": [
              "id                                   56becb8d3aeaaa14008c9495\n",
              "title                                                 Beyoncé\n",
              "context     Beyoncé has received numerous awards. As a sol...\n",
              "question    How many copies of her albums as Beyonce sold ...\n",
              "answers        {'text': ['15 million'], 'answer_start': [73]}\n",
              "Name: 884, dtype: object"
            ]
          },
          "metadata": {}
        },
        {
          "output_type": "display_data",
          "data": {
            "text/plain": [
              "id                                   56becc903aeaaa14008c949f\n",
              "title                                                 Beyoncé\n",
              "context     Beyoncé has won 20 Grammy Awards, both as a so...\n",
              "question    How many Grammys has Beyonce won total with an...\n",
              "answers                {'text': ['20'], 'answer_start': [16]}\n",
              "Name: 899, dtype: object"
            ]
          },
          "metadata": {}
        },
        {
          "output_type": "display_data",
          "data": {
            "text/plain": [
              "id                                   56bed07e3aeaaa14008c94a9\n",
              "title                                                 Beyoncé\n",
              "context     Beyoncé has worked with Pepsi since 2002, and ...\n",
              "question    Which soda company has Beyonce partnered with ...\n",
              "answers             {'text': ['Pepsi'], 'answer_start': [24]}\n",
              "Name: 912, dtype: object"
            ]
          },
          "metadata": {}
        },
        {
          "output_type": "display_data",
          "data": {
            "text/plain": [
              "id                                   56bed1243aeaaa14008c94b3\n",
              "title                                                 Beyoncé\n",
              "context     Beyoncé has worked with Tommy Hilfiger for the...\n",
              "question    Beyonce worked with who on her perfumes, True ...\n",
              "answers     {'text': ['Tommy Hilfiger'], 'answer_start': [...\n",
              "Name: 924, dtype: object"
            ]
          },
          "metadata": {}
        },
        {
          "output_type": "display_data",
          "data": {
            "text/plain": [
              "id                                   56bed17a3aeaaa14008c94bd\n",
              "title                                                 Beyoncé\n",
              "context     The release of a video-game Starpower: Beyoncé...\n",
              "question    How young was Beyonce when she acquired deals ...\n",
              "answers               {'text': ['18'], 'answer_start': [450]}\n",
              "Name: 937, dtype: object"
            ]
          },
          "metadata": {}
        },
        {
          "output_type": "display_data",
          "data": {
            "text/plain": [
              "id                                   56bed22d3aeaaa14008c94c1\n",
              "title                                                 Beyoncé\n",
              "context     In October 2014, it was announced that Beyoncé...\n",
              "question    Who did Bayonce's management go into business ...\n",
              "answers     {'text': ['fashion retailer Topshop'], 'answer...\n",
              "Name: 947, dtype: object"
            ]
          },
          "metadata": {}
        },
        {
          "output_type": "display_data",
          "data": {
            "text/plain": [
              "id                                   56bed2993aeaaa14008c94c9\n",
              "title                                                 Beyoncé\n",
              "context     On March 30, 2015, it was announced that Beyon...\n",
              "question    When was it discovered Beyonce was a co-owner ...\n",
              "answers     {'text': ['March 30, 2015'], 'answer_start': [3]}\n",
              "Name: 957, dtype: object"
            ]
          },
          "metadata": {}
        },
        {
          "output_type": "display_data",
          "data": {
            "text/plain": [
              "id                                   56bed32f3aeaaa14008c94cf\n",
              "title                                                 Beyoncé\n",
              "context     Beyoncé and her mother introduced House of Der...\n",
              "question    House of Dereon became known through Beyonce a...\n",
              "answers        {'text': ['her mother'], 'answer_start': [12]}\n",
              "Name: 966, dtype: object"
            ]
          },
          "metadata": {}
        },
        {
          "output_type": "display_data",
          "data": {
            "text/plain": [
              "id                                   56bed38e3aeaaa14008c94d9\n",
              "title                                                 Beyoncé\n",
              "context     In 2005, Beyoncé teamed up with House of Brand...\n",
              "question    What type of accessory company did Beyonce par...\n",
              "answers              {'text': ['shoe'], 'answer_start': [51]}\n",
              "Name: 977, dtype: object"
            ]
          },
          "metadata": {}
        },
        {
          "output_type": "display_data",
          "data": {
            "text/plain": [
              "id                                   56bed3e63aeaaa14008c94e0\n",
              "title                                                 Beyoncé\n",
              "context     In October 2014, Beyoncé signed a deal to laun...\n",
              "question    Beyonce, during October 2014, partnered with w...\n",
              "answers          {'text': ['Topshop'], 'answer_start': [110]}\n",
              "Name: 988, dtype: object"
            ]
          },
          "metadata": {}
        },
        {
          "output_type": "display_data",
          "data": {
            "text/plain": [
              "id                                   56bed4553aeaaa14008c94e5\n",
              "title                                                 Beyoncé\n",
              "context     After Hurricane Katrina in 2005, Beyoncé and R...\n",
              "question    What national disaster caused Beyonce to creat...\n",
              "answers     {'text': ['Hurricane Katrina'], 'answer_start'...\n",
              "Name: 996, dtype: object"
            ]
          },
          "metadata": {}
        },
        {
          "output_type": "display_data",
          "data": {
            "text/plain": [
              "id                                   56bed4c23aeaaa14008c94ed\n",
              "title                                                 Beyoncé\n",
              "context     Beyoncé participated in George Clooney and Wyc...\n",
              "question    Who did Beyonce participate with in the Hope f...\n",
              "answers     {'text': ['George Clooney and Wyclef Jean'], '...\n",
              "Name: 1005, dtype: object"
            ]
          },
          "metadata": {}
        },
        {
          "output_type": "display_data",
          "data": {
            "text/plain": [
              "id                                   56bed5983aeaaa14008c94f3\n",
              "title                                                 Beyoncé\n",
              "context     In December, Beyoncé along with a variety of o...\n",
              "question    Which national event caused Beyonce to produce...\n",
              "answers     {'text': ['Sandy Hook Elementary School shooti...\n",
              "Name: 1015, dtype: object"
            ]
          },
          "metadata": {}
        },
        {
          "output_type": "display_data",
          "data": {
            "text/plain": [
              "id                                   5733bd9bd058e614000b6199\n",
              "title                                                 Montana\n",
              "context     Montana i/mɒnˈtænə/ is a state in the Western ...\n",
              "question               Where does the state's name come from?\n",
              "answers     {'text': ['Spanish word montaña (mountain)'], ...\n",
              "Name: 1027, dtype: object"
            ]
          },
          "metadata": {}
        },
        {
          "output_type": "display_data",
          "data": {
            "text/plain": [
              "id                                   5733d7164776f4190066132e\n",
              "title                                                 Montana\n",
              "context     Montana schoolchildren played a significant ro...\n",
              "question               What year was the state tree selected?\n",
              "answers             {'text': ['1908'], 'answer_start': [240]}\n",
              "Name: 1032, dtype: object"
            ]
          },
          "metadata": {}
        },
        {
          "output_type": "display_data",
          "data": {
            "text/plain": [
              "id                                   5733d7fd4776f41900661342\n",
              "title                                                 Montana\n",
              "context     The state song was not composed until 21 years...\n",
              "question                    When was the state song composed?\n",
              "answers             {'text': ['1910'], 'answer_start': [140]}\n",
              "Name: 1037, dtype: object"
            ]
          },
          "metadata": {}
        },
        {
          "output_type": "display_data",
          "data": {
            "text/plain": [
              "id                                   5733d858d058e614000b63c7\n",
              "title                                                 Montana\n",
              "context     Montana's motto, Oro y Plata, Spanish for \"Gol...\n",
              "question                            What is Montana's motto? \n",
              "answers       {'text': ['Oro y Plata'], 'answer_start': [17]}\n",
              "Name: 1038, dtype: object"
            ]
          },
          "metadata": {}
        },
        {
          "output_type": "display_data",
          "data": {
            "text/plain": [
              "id                                   5733e9864776f419006614cc\n",
              "title                                                 Montana\n",
              "context     The state also has five Micropolitan Statistic...\n",
              "question    How much of the states population does the \"Bi...\n",
              "answers       {'text': ['35 percent'], 'answer_start': [628]}\n",
              "Name: 1043, dtype: object"
            ]
          },
          "metadata": {}
        },
        {
          "output_type": "display_data",
          "data": {
            "text/plain": [
              "id                                   5733eefe4776f4190066154b\n",
              "title                                                 Montana\n",
              "context     Montana has 56 counties with the United States...\n",
              "question                 How many counties does Montana have?\n",
              "answers                {'text': ['56'], 'answer_start': [12]}\n",
              "Name: 1044, dtype: object"
            ]
          },
          "metadata": {}
        },
        {
          "output_type": "display_data",
          "data": {
            "text/plain": [
              "id                                   5733f18ad058e614000b6643\n",
              "title                                                 Montana\n",
              "context     The name Montana comes from the Spanish word M...\n",
              "question                    Where does the state's name mean?\n",
              "answers        {'text': ['\"mountain\"'], 'answer_start': [62]}\n",
              "Name: 1047, dtype: object"
            ]
          },
          "metadata": {}
        },
        {
          "output_type": "display_data",
          "data": {
            "text/plain": [
              "id                                   5733f5d34776f419006615bb\n",
              "title                                                 Montana\n",
              "context     With a total area of 147,040 square miles (380...\n",
              "question                   What is the total area of Montana?\n",
              "answers     {'text': ['147,040 square miles'], 'answer_sta...\n",
              "Name: 1049, dtype: object"
            ]
          },
          "metadata": {}
        },
        {
          "output_type": "display_data",
          "data": {
            "text/plain": [
              "id                                   573408fed058e614000b6835\n",
              "title                                                 Montana\n",
              "context     The topography of the state is roughly defined...\n",
              "question        Where are most of the states mountain ranges?\n",
              "answers     {'text': ['western half of the state'], 'answe...\n",
              "Name: 1052, dtype: object"
            ]
          },
          "metadata": {}
        },
        {
          "output_type": "display_data",
          "data": {
            "text/plain": [
              "id                                   573409bed058e614000b6839\n",
              "title                                                 Montana\n",
              "context     The northern section of the Divide, where the ...\n",
              "question    Which direction do the rivers flow near the Tr...\n",
              "answers            {'text': ['north'], 'answer_start': [485]}\n",
              "Name: 1054, dtype: object"
            ]
          },
          "metadata": {}
        },
        {
          "output_type": "display_data",
          "data": {
            "text/plain": [
              "id                                   57340a0dd058e614000b6851\n",
              "title                                                 Montana\n",
              "context     East of the divide, several roughly parallel r...\n",
              "question                   How high is the Beartooth Plateau?\n",
              "answers     {'text': ['over 10,000 feet'], 'answer_start':...\n",
              "Name: 1056, dtype: object"
            ]
          },
          "metadata": {}
        },
        {
          "output_type": "display_data",
          "data": {
            "text/plain": [
              "id                                   57340bdf4776f419006617a3\n",
              "title                                                 Montana\n",
              "context     However, at the state level, the pattern of sp...\n",
              "question    How many seats do Democrats hold in the state ...\n",
              "answers              {'text': ['one'], 'answer_start': [119]}\n",
              "Name: 1059, dtype: object"
            ]
          },
          "metadata": {}
        },
        {
          "output_type": "display_data",
          "data": {
            "text/plain": [
              "id                                   57341184d058e614000b68da\n",
              "title                                                 Montana\n",
              "context     In presidential elections, Montana was long cl...\n",
              "question            In elections, what is Montana considered?\n",
              "answers     {'text': ['a swing state'], 'answer_start': [58]}\n",
              "Name: 1063, dtype: object"
            ]
          },
          "metadata": {}
        },
        {
          "output_type": "display_data",
          "data": {
            "text/plain": [
              "id                                   573412ebd058e614000b68f0\n",
              "title                                                 Montana\n",
              "context     Bozeman Yellowstone International Airport is t...\n",
              "question    What is the name of the busiest airport in Mon...\n",
              "answers     {'text': ['Bozeman Yellowstone International A...\n",
              "Name: 1067, dtype: object"
            ]
          },
          "metadata": {}
        },
        {
          "output_type": "display_data",
          "data": {
            "text/plain": [
              "id                                   573413594776f41900661803\n",
              "title                                                 Montana\n",
              "context     Railroads have been an important method of tra...\n",
              "question                  What is the states largest railway?\n",
              "answers     {'text': ['BNSF Railway'], 'answer_start': [263]}\n",
              "Name: 1069, dtype: object"
            ]
          },
          "metadata": {}
        },
        {
          "output_type": "display_data",
          "data": {
            "text/plain": [
              "id                                   573414644776f4190066180d\n",
              "title                                                 Montana\n",
              "context     Montana is home to the Rocky Mountain Elk Foun...\n",
              "question    What is the name of the big game hunting found...\n",
              "answers     {'text': ['Rocky Mountain Elk Foundation'], 'a...\n",
              "Name: 1071, dtype: object"
            ]
          },
          "metadata": {}
        },
        {
          "output_type": "display_data",
          "data": {
            "text/plain": [
              "id                                   57341539d058e614000b6906\n",
              "title                                                 Montana\n",
              "context     Montana has been a destination for its world-c...\n",
              "question    Since when has Montana been a destination for ...\n",
              "answers             {'text': ['1930s'], 'answer_start': [77]}\n",
              "Name: 1074, dtype: object"
            ]
          },
          "metadata": {}
        },
        {
          "output_type": "display_data",
          "data": {
            "text/plain": [
              "id                                   5734161dd058e614000b690e\n",
              "title                                                 Montana\n",
              "context     The Montana Territory was formed on April 26, ...\n",
              "question               When was the Montana Territory formed?\n",
              "answers     {'text': ['April 26, 1864'], 'answer_start': [...\n",
              "Name: 1078, dtype: object"
            ]
          },
          "metadata": {}
        },
        {
          "output_type": "display_data",
          "data": {
            "text/plain": [
              "id                                   573416974776f41900661835\n",
              "title                                                 Montana\n",
              "context     Montana contains thousands of named rivers and...\n",
              "question    How many miles of rivers are known for high cl...\n",
              "answers               {'text': ['450'], 'answer_start': [55]}\n",
              "Name: 1082, dtype: object"
            ]
          },
          "metadata": {}
        },
        {
          "output_type": "display_data",
          "data": {
            "text/plain": [
              "id                                   5734173b4776f4190066184f\n",
              "title                                                 Montana\n",
              "context     East of the divide the Missouri River, which i...\n",
              "question                 What rivers form the Missouri River?\n",
              "answers     {'text': ['Jefferson, Madison and Gallatin riv...\n",
              "Name: 1086, dtype: object"
            ]
          },
          "metadata": {}
        },
        {
          "output_type": "display_data",
          "data": {
            "text/plain": [
              "id                                   57341835d058e614000b693e\n",
              "title                                                 Montana\n",
              "context     The Yellowstone River rises on the continental...\n",
              "question    Which direction does the Yellowstone River flo...\n",
              "answers            {'text': ['north'], 'answer_start': [111]}\n",
              "Name: 1090, dtype: object"
            ]
          },
          "metadata": {}
        },
        {
          "output_type": "display_data",
          "data": {
            "text/plain": [
              "id                                   5734192ad058e614000b6942\n",
              "title                                                 Montana\n",
              "context     There are at least 3,223 named lakes and reser...\n",
              "question           How many named lakes are there in Montana?\n",
              "answers     {'text': ['at least 3,223'], 'answer_start': [...\n",
              "Name: 1092, dtype: object"
            ]
          },
          "metadata": {}
        },
        {
          "output_type": "display_data",
          "data": {
            "text/plain": [
              "id                                   573419714776f41900661871\n",
              "title                                                 Montana\n",
              "context     Vegetation of the state includes lodgepole pin...\n",
              "question      About how much area do forests cover the state?\n",
              "answers     {'text': ['approximately 25 percent'], 'answer...\n",
              "Name: 1096, dtype: object"
            ]
          },
          "metadata": {}
        },
        {
          "output_type": "display_data",
          "data": {
            "text/plain": [
              "id                                   57341b484776f41900661885\n",
              "title                                                 Montana\n",
              "context     Montana is home to a diverse array of fauna th...\n",
              "question    How many different types of fish are diverse t...\n",
              "answers                {'text': ['90'], 'answer_start': [72]}\n",
              "Name: 1097, dtype: object"
            ]
          },
          "metadata": {}
        },
        {
          "output_type": "display_data",
          "data": {
            "text/plain": [
              "id                                   57341c46d058e614000b6954\n",
              "title                                                 Montana\n",
              "context     Average annual precipitation is 15 inches (380...\n",
              "question                    What is the annual precipitation?\n",
              "answers         {'text': ['15 inches'], 'answer_start': [32]}\n",
              "Name: 1101, dtype: object"
            ]
          },
          "metadata": {}
        },
        {
          "output_type": "display_data",
          "data": {
            "text/plain": [
              "id                                   57341cf4d058e614000b6964\n",
              "title                                                 Montana\n",
              "context     Montana's personal income tax contains 7 brack...\n",
              "question             How many tax brackets does Montana have?\n",
              "answers                 {'text': ['7'], 'answer_start': [39]}\n",
              "Name: 1104, dtype: object"
            ]
          },
          "metadata": {}
        },
        {
          "output_type": "display_data",
          "data": {
            "text/plain": [
              "id                                   57341d964776f419006618b3\n",
              "title                                                 Montana\n",
              "context     Approximately 66,000 people of Native American...\n",
              "question     About how many Native Americans live in Montana?\n",
              "answers     {'text': ['Approximately 66,000'], 'answer_sta...\n",
              "Name: 1107, dtype: object"
            ]
          },
          "metadata": {}
        },
        {
          "output_type": "display_data",
          "data": {
            "text/plain": [
              "id                                   57341fc9d058e614000b6974\n",
              "title                                                 Montana\n",
              "context     While the largest European-American population...\n",
              "question    What is the largest European-American race in ...\n",
              "answers            {'text': ['German'], 'answer_start': [69]}\n",
              "Name: 1112, dtype: object"
            ]
          },
          "metadata": {}
        },
        {
          "output_type": "display_data",
          "data": {
            "text/plain": [
              "id                                   5734205b4776f419006618e7\n",
              "title                                                 Montana\n",
              "context     Montana has a larger Native American populatio...\n",
              "question    What percentage of the population in Montana a...\n",
              "answers      {'text': ['6.5 percent'], 'answer_start': [261]}\n",
              "Name: 1114, dtype: object"
            ]
          },
          "metadata": {}
        },
        {
          "output_type": "display_data",
          "data": {
            "text/plain": [
              "id                                   573420e34776f419006618ed\n",
              "title                                                 Montana\n",
              "context     The climate has become warmer in Montana and c...\n",
              "question    In what year did many cities in Montana set he...\n",
              "answers             {'text': ['2007'], 'answer_start': [225]}\n",
              "Name: 1117, dtype: object"
            ]
          },
          "metadata": {}
        },
        {
          "output_type": "display_data",
          "data": {
            "text/plain": [
              "id                                   5734215f4776f419006618fb\n",
              "title                                                 Montana\n",
              "context     As white settlers began populating Montana fro...\n",
              "question            What year was the Hellgate treaty formed?\n",
              "answers             {'text': ['1855'], 'answer_start': [162]}\n",
              "Name: 1120, dtype: object"
            ]
          },
          "metadata": {}
        },
        {
          "output_type": "display_data",
          "data": {
            "text/plain": [
              "id                                   573421c4d058e614000b69aa\n",
              "title                                                 Montana\n",
              "context     The first U.S. Army post established in Montan...\n",
              "question         What was the name of the first US Army post?\n",
              "answers        {'text': ['Camp Cooke'], 'answer_start': [52]}\n",
              "Name: 1124, dtype: object"
            ]
          },
          "metadata": {}
        },
        {
          "output_type": "display_data",
          "data": {
            "text/plain": [
              "id                                   5734227dd058e614000b69bc\n",
              "title                                                 Montana\n",
              "context     English is the official language in the state ...\n",
              "question            What is the official language of Montana?\n",
              "answers            {'text': ['English'], 'answer_start': [0]}\n",
              "Name: 1128, dtype: object"
            ]
          },
          "metadata": {}
        },
        {
          "output_type": "display_data",
          "data": {
            "text/plain": [
              "id                                   573422e44776f41900661927\n",
              "title                                                 Montana\n",
              "context     According to the 2010 Census, 89.4 percent of ...\n",
              "question                  What percent of the state is White?\n",
              "answers      {'text': ['89.4 percent'], 'answer_start': [30]}\n",
              "Name: 1133, dtype: object"
            ]
          },
          "metadata": {}
        },
        {
          "output_type": "display_data",
          "data": {
            "text/plain": [
              "id                                   573424434776f41900661941\n",
              "title                                                 Montana\n",
              "context     The United States Census Bureau estimates that...\n",
              "question        What was the population of the state in 2015?\n",
              "answers         {'text': ['1,032,949'], 'answer_start': [77]}\n",
              "Name: 1136, dtype: object"
            ]
          },
          "metadata": {}
        },
        {
          "output_type": "display_data",
          "data": {
            "text/plain": [
              "id                                   573424d74776f41900661949\n",
              "title                                                 Montana\n",
              "context     In 1940, Jeannette Rankin had once again been ...\n",
              "question    What year was Jeannette Rankin vote against wa...\n",
              "answers              {'text': ['1917'], 'answer_start': [94]}\n",
              "Name: 1140, dtype: object"
            ]
          },
          "metadata": {}
        },
        {
          "output_type": "display_data",
          "data": {
            "text/plain": [
              "id                                   573425624776f41900661959\n",
              "title                                                 Montana\n",
              "context     Simultaneously with these conflicts, bison, a ...\n",
              "question        About how many bison were in Montana in 1870?\n",
              "answers     {'text': ['over 13 million'], 'answer_start': ...\n",
              "Name: 1143, dtype: object"
            ]
          },
          "metadata": {}
        },
        {
          "output_type": "display_data",
          "data": {
            "text/plain": [
              "id                                   573425f84776f41900661969\n",
              "title                                                 Montana\n",
              "context     Tracks of the Northern Pacific Railroad (NPR) ...\n",
              "question    When did the Northern Pacific Railroad reach M...\n",
              "answers              {'text': ['1881'], 'answer_start': [79]}\n",
              "Name: 1147, dtype: object"
            ]
          },
          "metadata": {}
        },
        {
          "output_type": "display_data",
          "data": {
            "text/plain": [
              "id                                   573426864776f4190066197d\n",
              "title                                                 Montana\n",
              "context     Under Territorial Governor Thomas Meagher, Mon...\n",
              "question    When was the first constitutional convention h...\n",
              "answers              {'text': ['1866'], 'answer_start': [89]}\n",
              "Name: 1152, dtype: object"
            ]
          },
          "metadata": {}
        },
        {
          "output_type": "display_data",
          "data": {
            "text/plain": [
              "id                                   573426e6d058e614000b6a20\n",
              "title                                                 Montana\n",
              "context     The Homestead Act of 1862 provided free land t...\n",
              "question    What year did the Homestead Act provide land t...\n",
              "answers              {'text': ['1862'], 'answer_start': [21]}\n",
              "Name: 1157, dtype: object"
            ]
          },
          "metadata": {}
        },
        {
          "output_type": "display_data",
          "data": {
            "text/plain": [
              "id                                   57342785d058e614000b6a2e\n",
              "title                                                 Montana\n",
              "context     The Desert Land Act of 1877 was passed to allo...\n",
              "question                 When was the Desert Land Act passed?\n",
              "answers              {'text': ['1877'], 'answer_start': [23]}\n",
              "Name: 1160, dtype: object"
            ]
          },
          "metadata": {}
        },
        {
          "output_type": "display_data",
          "data": {
            "text/plain": [
              "id                                   57342802d058e614000b6a40\n",
              "title                                                 Montana\n",
              "context     In the early 1900s, James J. Hill of the Great...\n",
              "question    Who promoted settlement in Montana in the earl...\n",
              "answers     {'text': ['James J. Hill'], 'answer_start': [20]}\n",
              "Name: 1163, dtype: object"
            ]
          },
          "metadata": {}
        },
        {
          "output_type": "display_data",
          "data": {
            "text/plain": [
              "id                                   5734288c4776f419006619bf\n",
              "title                                                 Montana\n",
              "context     In June 1917, the U.S. Congress passed the Esp...\n",
              "question            When did Congress pass the Espionage Act?\n",
              "answers              {'text': ['1917'], 'answer_start': [60]}\n",
              "Name: 1167, dtype: object"
            ]
          },
          "metadata": {}
        },
        {
          "output_type": "display_data",
          "data": {
            "text/plain": [
              "id                                   5734296dd058e614000b6a6e\n",
              "title                                                 Montana\n",
              "context     When the U.S. entered World War II on December...\n",
              "question    How many Montanans entered the miltary in the ...\n",
              "answers      {'text': ['40,000-plus'], 'answer_start': [176]}\n",
              "Name: 1172, dtype: object"
            ]
          },
          "metadata": {}
        },
        {
          "output_type": "display_data",
          "data": {
            "text/plain": [
              "id                                   5733bdc4d058e614000b61a3\n",
              "title                                                Genocide\n",
              "context     The phrase \"in whole or in part\" has been subj...\n",
              "question    In the judgement, it is stated that the aim of...\n",
              "answers     {'text': ['entire human groups'], 'answer_star...\n",
              "Name: 1177, dtype: object"
            ]
          },
          "metadata": {}
        },
        {
          "output_type": "display_data",
          "data": {
            "text/plain": [
              "id                                   5733ba844776f41900661146\n",
              "title                                                Genocide\n",
              "context     In the same judgement the ECHR reviewed the ju...\n",
              "question    Two bodies of the United Nations agreed with w...\n",
              "answers     {'text': ['that biological-physical destructio...\n",
              "Name: 1182, dtype: object"
            ]
          },
          "metadata": {}
        },
        {
          "output_type": "display_data",
          "data": {
            "text/plain": [
              "id                                   57335849d058e614000b589a\n",
              "title                                                Genocide\n",
              "context     After the Holocaust, which had been perpetrate...\n",
              "question    In 1948, what general assembly resolution esta...\n",
              "answers     {'text': ['the Convention on the Prevention an...\n",
              "Name: 1187, dtype: object"
            ]
          },
          "metadata": {}
        },
        {
          "output_type": "display_data",
          "data": {
            "text/plain": [
              "id                                   573392e24776f41900660d9c\n",
              "title                                                Genocide\n",
              "context     The first draft of the Convention included pol...\n",
              "question    Which provision was initially included in the ...\n",
              "answers     {'text': ['political killings'], 'answer_start...\n",
              "Name: 1192, dtype: object"
            ]
          },
          "metadata": {}
        },
        {
          "output_type": "display_data",
          "data": {
            "text/plain": [
              "id                                   5733963c4776f41900660df7\n",
              "title                                                Genocide\n",
              "context     In 2007 the European Court of Human Rights (EC...\n",
              "question    Which group was accused by the ECHR of having ...\n",
              "answers     {'text': ['majority of legal scholars'], 'answ...\n",
              "Name: 1197, dtype: object"
            ]
          },
          "metadata": {}
        },
        {
          "output_type": "display_data",
          "data": {
            "text/plain": [
              "id                                   573344334776f419006607d2\n",
              "title                                                Genocide\n",
              "context     The word genocide was later included as a desc...\n",
              "question    Prior to being a formal legal term, how was th...\n",
              "answers     {'text': ['as a descriptive term'], 'answer_st...\n",
              "Name: 1201, dtype: object"
            ]
          },
          "metadata": {}
        },
        {
          "output_type": "display_data",
          "data": {
            "text/plain": [
              "id                                   573350a0d058e614000b5840\n",
              "title                                                Genocide\n",
              "context     The study of genocide has mainly been focused ...\n",
              "question    What has been the primary focus in the study o...\n",
              "answers     {'text': ['legal aspect of the term'], 'answer...\n",
              "Name: 1209, dtype: object"
            ]
          },
          "metadata": {}
        },
        {
          "output_type": "display_data",
          "data": {
            "text/plain": [
              "id                                   5731eb9bb9d445190005e697\n",
              "title                                                Genocide\n",
              "context     Genocide has become an official term used in i...\n",
              "question             When was the word \"genocide\" first used?\n",
              "answers             {'text': ['1944'], 'answer_start': [110]}\n",
              "Name: 1217, dtype: object"
            ]
          },
          "metadata": {}
        },
        {
          "output_type": "display_data",
          "data": {
            "text/plain": [
              "id                                   5733c3c7d058e614000b61ef\n",
              "title                                                Genocide\n",
              "context     The judges continue in paragraph 12, \"The dete...\n",
              "question    Several considerations were involved in meetin...\n",
              "answers     {'text': ['when the targeted part is substanti...\n",
              "Name: 1227, dtype: object"
            ]
          },
          "metadata": {}
        },
        {
          "output_type": "display_data",
          "data": {
            "text/plain": [
              "id                                   5733c6224776f419006611f4\n",
              "title                                                Genocide\n",
              "context     In paragraph 13 the judges raise the issue of ...\n",
              "question    The issue of what is raised by judges in Parag...\n",
              "answers     {'text': ['perpetrators' access to the victims...\n",
              "Name: 1231, dtype: object"
            ]
          },
          "metadata": {}
        },
        {
          "output_type": "display_data",
          "data": {
            "text/plain": [
              "id                                   5733ce494776f41900661298\n",
              "title                                                Genocide\n",
              "context     The Convention came into force as internationa...\n",
              "question    On which date did the Genocide Convention beco...\n",
              "answers     {'text': ['12 January 1951'], 'answer_start': ...\n",
              "Name: 1236, dtype: object"
            ]
          },
          "metadata": {}
        },
        {
          "output_type": "display_data",
          "data": {
            "text/plain": [
              "id                                   5733cf6a4776f419006612a2\n",
              "title                                                Genocide\n",
              "context     Writing in 1998 Kurt Jonassohn and Karin Björn...\n",
              "question    In 1998 it was written that the CPPCG was a le...\n",
              "answers     {'text': ['a diplomatic compromise'], 'answer_...\n",
              "Name: 1241, dtype: object"
            ]
          },
          "metadata": {}
        },
        {
          "output_type": "display_data",
          "data": {
            "text/plain": [
              "id                                   5733f7b64776f419006615e3\n",
              "title                                                Genocide\n",
              "context     Jonassohn and Björnson postulate that the majo...\n",
              "question    What two writers examined the lack of an accep...\n",
              "answers     {'text': ['Jonassohn and Björnson'], 'answer_s...\n",
              "Name: 1245, dtype: object"
            ]
          },
          "metadata": {}
        },
        {
          "output_type": "display_data",
          "data": {
            "text/plain": [
              "id                                   5733f9c64776f41900661615\n",
              "title                                                Genocide\n",
              "context     The exclusion of social and political groups a...\n",
              "question    Some historians were critical of what exclusio...\n",
              "answers     {'text': ['social and political groups'], 'ans...\n",
              "Name: 1250, dtype: object"
            ]
          },
          "metadata": {}
        },
        {
          "output_type": "display_data",
          "data": {
            "text/plain": [
              "id                                   5733fb934776f41900661637\n",
              "title                                                Genocide\n",
              "context     Barbara Harff and Ted Gurr defined genocide as...\n",
              "question    Harff and Gurr's definition of genocide includ...\n",
              "answers          {'text': ['policies'], 'answer_start': [79]}\n",
              "Name: 1255, dtype: object"
            ]
          },
          "metadata": {}
        },
        {
          "output_type": "display_data",
          "data": {
            "text/plain": [
              "id                                   5733fcd5d058e614000b6717\n",
              "title                                                Genocide\n",
              "context     According to R. J. Rummel, genocide has 3 diff...\n",
              "question    In the writings of Rummel, what is the first a...\n",
              "answers     {'text': ['murder by government'], 'answer_sta...\n",
              "Name: 1260, dtype: object"
            ]
          },
          "metadata": {}
        },
        {
          "output_type": "display_data",
          "data": {
            "text/plain": [
              "id                                   57340136d058e614000b6783\n",
              "title                                                Genocide\n",
              "context     Highlighting the potential for state and non-s...\n",
              "question    In terms of failed states and non-state actors...\n",
              "answers     {'text': ['Adrian Gallagher'], 'answer_start':...\n",
              "Name: 1265, dtype: object"
            ]
          },
          "metadata": {}
        },
        {
          "output_type": "display_data",
          "data": {
            "text/plain": [
              "id                                   573402a3d058e614000b6797\n",
              "title                                                Genocide\n",
              "context     All signatories to the CPPCG are required to p...\n",
              "question    Signatories to the CPPC are required to preven...\n",
              "answers     {'text': ['acts of genocide'], 'answer_start':...\n",
              "Name: 1270, dtype: object"
            ]
          },
          "metadata": {}
        },
        {
          "output_type": "display_data",
          "data": {
            "text/plain": [
              "id                                   573404abd058e614000b67c9\n",
              "title                                                Genocide\n",
              "context     Because the universal acceptance of internatio...\n",
              "question    In 1948 the worldwide acceptance of internatio...\n",
              "answers     {'text': ['Convention on the Prevention and Pu...\n",
              "Name: 1275, dtype: object"
            ]
          },
          "metadata": {}
        },
        {
          "output_type": "display_data",
          "data": {
            "text/plain": [
              "id                                   573406d84776f41900661731\n",
              "title                                                Genocide\n",
              "context     On 12 July 2007, European Court of Human Right...\n",
              "question    Which court dismissed Nikola Jorgic's appeal a...\n",
              "answers     {'text': ['European Court of Human Rights'], '...\n",
              "Name: 1280, dtype: object"
            ]
          },
          "metadata": {}
        },
        {
          "output_type": "display_data",
          "data": {
            "text/plain": [
              "id                                   5734087f4776f4190066174d\n",
              "title                                                Genocide\n",
              "context     About 30 people have been indicted for partici...\n",
              "question    In the 1990s, how many people were indicted fo...\n",
              "answers           {'text': ['About 30'], 'answer_start': [0]}\n",
              "Name: 1285, dtype: object"
            ]
          },
          "metadata": {}
        },
        {
          "output_type": "display_data",
          "data": {
            "text/plain": [
              "id                                   57340aae4776f41900661790\n",
              "title                                                Genocide\n",
              "context     Slobodan Milošević, as the former President of...\n",
              "question    What event occurred in March 2006 that essenti...\n",
              "answers          {'text': ['He died'], 'answer_start': [138]}\n",
              "Name: 1290, dtype: object"
            ]
          },
          "metadata": {}
        },
        {
          "output_type": "display_data",
          "data": {
            "text/plain": [
              "id                                   57340c46d058e614000b6893\n",
              "title                                                Genocide\n",
              "context     The International Criminal Tribunal for Rwanda...\n",
              "question    What court was established under the aegis of ...\n",
              "answers     {'text': ['International Criminal Tribunal for...\n",
              "Name: 1295, dtype: object"
            ]
          },
          "metadata": {}
        },
        {
          "output_type": "display_data",
          "data": {
            "text/plain": [
              "id                                   57340e5dd058e614000b68b9\n",
              "title                                                Genocide\n",
              "context     There has been much debate over categorizing t...\n",
              "question    What has been widely debated as a possible act...\n",
              "answers     {'text': ['situation in Darfur'], 'answer_star...\n",
              "Name: 1300, dtype: object"
            ]
          },
          "metadata": {}
        },
        {
          "output_type": "display_data",
          "data": {
            "text/plain": [
              "id                                   57340f5bd058e614000b68cd\n",
              "title                                                Genocide\n",
              "context     In March 2005, the Security Council formally r...\n",
              "question    To whom did the Security Council officially re...\n",
              "answers     {'text': ['Prosecutor of the International Cri...\n",
              "Name: 1305, dtype: object"
            ]
          },
          "metadata": {}
        },
        {
          "output_type": "display_data",
          "data": {
            "text/plain": [
              "id                                   573410864776f419006617e5\n",
              "title                                                Genocide\n",
              "context     Other authors have focused on the structural c...\n",
              "question    In the build-up to genocide, what have other a...\n",
              "answers     {'text': ['structural conditions'], 'answer_st...\n",
              "Name: 1309, dtype: object"
            ]
          },
          "metadata": {}
        },
        {
          "output_type": "display_data",
          "data": {
            "text/plain": [
              "id                                   5733bc38d058e614000b6187\n",
              "title                                             Antibiotics\n",
              "context     The emergence of resistance of bacteria to ant...\n",
              "question    What is a modern common occurence with antibio...\n",
              "answers     {'text': ['resistance of bacteria'], 'answer_s...\n",
              "Name: 1314, dtype: object"
            ]
          },
          "metadata": {}
        },
        {
          "output_type": "display_data",
          "data": {
            "text/plain": [
              "id                                   5733b31dd058e614000b609f\n",
              "title                                             Antibiotics\n",
              "context     The successful outcome of antimicrobial therap...\n",
              "question    What does the potency of antibacterials depend...\n",
              "answers     {'text': ['concentration'], 'answer_start': [6...\n",
              "Name: 1322, dtype: object"
            ]
          },
          "metadata": {}
        },
        {
          "output_type": "display_data",
          "data": {
            "text/plain": [
              "id                                   5733b4cf4776f419006610ca\n",
              "title                                             Antibiotics\n",
              "context     Antibacterial antibiotics are commonly classif...\n",
              "question                  What do anitibiotics mostly target?\n",
              "answers     {'text': ['bacterial functions or growth proce...\n",
              "Name: 1329, dtype: object"
            ]
          },
          "metadata": {}
        },
        {
          "output_type": "display_data",
          "data": {
            "text/plain": [
              "id                                   5733b6a2d058e614000b6122\n",
              "title                                             Antibiotics\n",
              "context     With advances in medicinal chemistry, most mod...\n",
              "question              What are antibiotics in chemical terms?\n",
              "answers     {'text': ['semisynthetic modifications'], 'ans...\n",
              "Name: 1338, dtype: object"
            ]
          },
          "metadata": {}
        },
        {
          "output_type": "display_data",
          "data": {
            "text/plain": [
              "id                                   573016fb947a6a140053d0b4\n",
              "title                                             Antibiotics\n",
              "context     Antibiotics revolutionized medicine in the 20t...\n",
              "question    What is one disease that has been nearly eradi...\n",
              "answers     {'text': ['tuberculosis'], 'answer_start': [140]}\n",
              "Name: 1346, dtype: object"
            ]
          },
          "metadata": {}
        },
        {
          "output_type": "display_data",
          "data": {
            "text/plain": [
              "id                                   573018d5947a6a140053d0e4\n",
              "title                                             Antibiotics\n",
              "context     In empirical therapy, a patient has proven or ...\n",
              "question    What is one kind of therapy that may be used w...\n",
              "answers     {'text': ['empirical therapy'], 'answer_start'...\n",
              "Name: 1364, dtype: object"
            ]
          },
          "metadata": {}
        },
        {
          "output_type": "display_data",
          "data": {
            "text/plain": [
              "id                                   57301a6b04bcaa1900d7719f\n",
              "title                                             Antibiotics\n",
              "context     Antibiotics are screened for any negative effe...\n",
              "question    What are two examples of minor side effects ca...\n",
              "answers     {'text': ['fever and nausea'], 'answer_start':...\n",
              "Name: 1372, dtype: object"
            ]
          },
          "metadata": {}
        },
        {
          "output_type": "display_data",
          "data": {
            "text/plain": [
              "id                                   57301bfca23a5019007fcd81\n",
              "title                                             Antibiotics\n",
              "context     Exposure to antibiotics early in life is assoc...\n",
              "question    What is one common result of using antibiotics...\n",
              "answers     {'text': ['increased body mass'], 'answer_star...\n",
              "Name: 1387, dtype: object"
            ]
          },
          "metadata": {}
        },
        {
          "output_type": "display_data",
          "data": {
            "text/plain": [
              "id                                   57302106a23a5019007fcdf7\n",
              "title                                             Antibiotics\n",
              "context     The majority of studies indicate antibiotics d...\n",
              "question    Do antibiotics interact with birth control pills?\n",
              "answers     {'text': ['The majority of studies indicate an...\n",
              "Name: 1395, dtype: object"
            ]
          },
          "metadata": {}
        },
        {
          "output_type": "display_data",
          "data": {
            "text/plain": [
              "id                                   57302230a23a5019007fce13\n",
              "title                                             Antibiotics\n",
              "context     Interactions between alcohol and certain antib...\n",
              "question    What is one potential issue with drinking alco...\n",
              "answers     {'text': ['decreased effectiveness'], 'answer_...\n",
              "Name: 1407, dtype: object"
            ]
          },
          "metadata": {}
        },
        {
          "output_type": "display_data",
          "data": {
            "text/plain": [
              "id                                   5731c904b9d445190005e551\n",
              "title                                             Antibiotics\n",
              "context     Several molecular mechanisms of antibacterial ...\n",
              "question    What is part of hje the make up of bacterial s...\n",
              "answers     {'text': ['Intrinsic antibacterial resistance'...\n",
              "Name: 1417, dtype: object"
            ]
          },
          "metadata": {}
        },
        {
          "output_type": "display_data",
          "data": {
            "text/plain": [
              "id                                   5733c4ca4776f419006611e4\n",
              "title                                             Antibiotics\n",
              "context     Antibacterial-resistant strains and species, s...\n",
              "question    What are strains that are resistant to antibio...\n",
              "answers         {'text': ['superbugs'], 'answer_start': [71]}\n",
              "Name: 1424, dtype: object"
            ]
          },
          "metadata": {}
        },
        {
          "output_type": "display_data",
          "data": {
            "text/plain": [
              "id                                   5733c6d84776f41900661208\n",
              "title                                             Antibiotics\n",
              "context     Inappropriate antibiotic treatment and overuse...\n",
              "question     What are the two biggest reasons for resistance?\n",
              "answers     {'text': ['Inappropriate antibiotic treatment ...\n",
              "Name: 1428, dtype: object"
            ]
          },
          "metadata": {}
        },
        {
          "output_type": "display_data",
          "data": {
            "text/plain": [
              "id                                   5733c81c4776f4190066121c\n",
              "title                                             Antibiotics\n",
              "context     Common forms of antibiotic misuse include exce...\n",
              "question    What is a way of improperly using antibiotics ...\n",
              "answers     {'text': ['prophylactic antibiotics'], 'answer...\n",
              "Name: 1431, dtype: object"
            ]
          },
          "metadata": {}
        },
        {
          "output_type": "display_data",
          "data": {
            "text/plain": [
              "id                                   5733cb484776f41900661256\n",
              "title                                             Antibiotics\n",
              "context     Several organizations concerned with antimicro...\n",
              "question    What is the name of a US government agency tas...\n",
              "answers     {'text': ['US Interagency Task Force on Antimi...\n",
              "Name: 1436, dtype: object"
            ]
          },
          "metadata": {}
        },
        {
          "output_type": "display_data",
          "data": {
            "text/plain": [
              "id                                   5733cd2bd058e614000b62b3\n",
              "title                                             Antibiotics\n",
              "context     The emergence of antibiotic resistance has pro...\n",
              "question    When did the EU ban antibiotics for speeding u...\n",
              "answers             {'text': ['2003'], 'answer_start': [197]}\n",
              "Name: 1439, dtype: object"
            ]
          },
          "metadata": {}
        },
        {
          "output_type": "display_data",
          "data": {
            "text/plain": [
              "id                                   5733d178d058e614000b6321\n",
              "title                                             Antibiotics\n",
              "context     There has been extensive use of antibiotics in...\n",
              "question    What besides sick people are antibiotics used ...\n",
              "answers     {'text': ['animal husbandry'], 'answer_start':...\n",
              "Name: 1444, dtype: object"
            ]
          },
          "metadata": {}
        },
        {
          "output_type": "display_data",
          "data": {
            "text/plain": [
              "id                                   5733d2444776f419006612d8\n",
              "title                                             Antibiotics\n",
              "context     Before the early 20th century, treatments for ...\n",
              "question    What methods did people use before antibiotics...\n",
              "answers     {'text': ['medicinal folklore'], 'answer_start...\n",
              "Name: 1447, dtype: object"
            ]
          },
          "metadata": {}
        },
        {
          "output_type": "display_data",
          "data": {
            "text/plain": [
              "id                                   5733d3334776f419006612e2\n",
              "title                                             Antibiotics\n",
              "context     The effects of some types of mold on infection...\n",
              "question    What type of organism has been reported to hav...\n",
              "answers              {'text': ['mold'], 'answer_start': [29]}\n",
              "Name: 1452, dtype: object"
            ]
          },
          "metadata": {}
        },
        {
          "output_type": "display_data",
          "data": {
            "text/plain": [
              "id                                   5733d4364776f419006612f2\n",
              "title                                             Antibiotics\n",
              "context     The first sulfonamide and first commercially a...\n",
              "question             What was the first available antibiotic?\n",
              "answers         {'text': ['Prontosil'], 'answer_start': [70]}\n",
              "Name: 1456, dtype: object"
            ]
          },
          "metadata": {}
        },
        {
          "output_type": "display_data",
          "data": {
            "text/plain": [
              "id                                   5733d4c24776f41900661304\n",
              "title                                             Antibiotics\n",
              "context     In 1939, coinciding with the start of World Wa...\n",
              "question    What was the first antibiotic developed from n...\n",
              "answers      {'text': ['tyrothricin'], 'answer_start': [129]}\n",
              "Name: 1460, dtype: object"
            ]
          },
          "metadata": {}
        },
        {
          "output_type": "display_data",
          "data": {
            "text/plain": [
              "id                                   5733d5f24776f41900661314\n",
              "title                                             Antibiotics\n",
              "context     Florey and Chain succeeded in purifying the fi...\n",
              "question                When was penicillin G first purified?\n",
              "answers              {'text': ['1942'], 'answer_start': [79]}\n",
              "Name: 1465, dtype: object"
            ]
          },
          "metadata": {}
        },
        {
          "output_type": "display_data",
          "data": {
            "text/plain": [
              "id                                   5733d670d058e614000b6379\n",
              "title                                             Antibiotics\n",
              "context     Vaccines rely on immune modulation or augmenta...\n",
              "question                       What do vaccines need to work?\n",
              "answers     {'text': ['immune modulation or augmentation']...\n",
              "Name: 1470, dtype: object"
            ]
          },
          "metadata": {}
        },
        {
          "output_type": "display_data",
          "data": {
            "text/plain": [
              "id                                   5733d6e64776f41900661328\n",
              "title                                             Antibiotics\n",
              "context     Phage therapy is another option that is being ...\n",
              "question    What has been talked about to treat resistant ...\n",
              "answers      {'text': ['Phage therapy'], 'answer_start': [0]}\n",
              "Name: 1473, dtype: object"
            ]
          },
          "metadata": {}
        },
        {
          "output_type": "display_data",
          "data": {
            "text/plain": [
              "id                                   5733d88b4776f41900661344\n",
              "title                                             Antibiotics\n",
              "context     In April 2013, the Infectious Disease Society ...\n",
              "question    How many antibiotics have been created in the ...\n",
              "answers                {'text': ['2'], 'answer_start': [192]}\n",
              "Name: 1476, dtype: object"
            ]
          },
          "metadata": {}
        },
        {
          "output_type": "display_data",
          "data": {
            "text/plain": [
              "id                                   5733d91e4776f4190066134a\n",
              "title                                             Antibiotics\n",
              "context     Possible improvements include clarification of...\n",
              "question                   Who regulates antibiotic approval?\n",
              "answers               {'text': ['FDA'], 'answer_start': [77]}\n",
              "Name: 1479, dtype: object"
            ]
          },
          "metadata": {}
        },
        {
          "output_type": "display_data",
          "data": {
            "text/plain": [
              "id                                   56cbd2356d243a140015ed66\n",
              "title                                         Frédéric_Chopin\n",
              "context     Frédéric François Chopin (/ˈʃoʊpæn/; French pr...\n",
              "question                   What was Frédéric's nationalities?\n",
              "answers     {'text': ['Polish and French'], 'answer_start'...\n",
              "Name: 1483, dtype: object"
            ]
          },
          "metadata": {}
        },
        {
          "output_type": "display_data",
          "data": {
            "text/plain": [
              "id                                   56cbd2f96d243a140015ed70\n",
              "title                                         Frédéric_Chopin\n",
              "context     At the age of 21 he settled in Paris. Thereaft...\n",
              "question              At what age did Frédéric move to Paris?\n",
              "answers                {'text': ['21'], 'answer_start': [14]}\n",
              "Name: 1502, dtype: object"
            ]
          },
          "metadata": {}
        },
        {
          "output_type": "display_data",
          "data": {
            "text/plain": [
              "id                                   56cbd4c56d243a140015ed7a\n",
              "title                                         Frédéric_Chopin\n",
              "context     All of Chopin's compositions include the piano...\n",
              "question    What instrument did every composition by Frédé...\n",
              "answers             {'text': ['piano'], 'answer_start': [41]}\n",
              "Name: 1519, dtype: object"
            ]
          },
          "metadata": {}
        },
        {
          "output_type": "display_data",
          "data": {
            "text/plain": [
              "id                                   56cbd8c66d243a140015ed85\n",
              "title                                         Frédéric_Chopin\n",
              "context     In his native Poland, in France, where he comp...\n",
              "question    What was the degree of Frédéric's association ...\n",
              "answers         {'text': ['indirect'], 'answer_start': [173]}\n",
              "Name: 1536, dtype: object"
            ]
          },
          "metadata": {}
        },
        {
          "output_type": "display_data",
          "data": {
            "text/plain": [
              "id                                   56cbda8d6d243a140015ed8e\n",
              "title                                         Frédéric_Chopin\n",
              "context     Fryderyk Chopin was born in Żelazowa Wola, 46 ...\n",
              "question                In what village was Frédéric born in?\n",
              "answers     {'text': ['Żelazowa Wola'], 'answer_start': [28]}\n",
              "Name: 1547, dtype: object"
            ]
          },
          "metadata": {}
        },
        {
          "output_type": "display_data",
          "data": {
            "text/plain": [
              "id                                   56cbdbf36d243a140015ed99\n",
              "title                                         Frédéric_Chopin\n",
              "context     Fryderyk's father, Nicolas Chopin, was a Frenc...\n",
              "question             Who did Frédéric's father marry in 1806?\n",
              "answers     {'text': ['Justyna Krzyżanowska'], 'answer_sta...\n",
              "Name: 1563, dtype: object"
            ]
          },
          "metadata": {}
        },
        {
          "output_type": "display_data",
          "data": {
            "text/plain": [
              "id                                   56cbdcd16d243a140015eda2\n",
              "title                                         Frédéric_Chopin\n",
              "context     In October 1810, six months after Fryderyk's b...\n",
              "question    During what month did Frédéric move to Warsaw ...\n",
              "answers            {'text': ['October'], 'answer_start': [3]}\n",
              "Name: 1574, dtype: object"
            ]
          },
          "metadata": {}
        },
        {
          "output_type": "display_data",
          "data": {
            "text/plain": [
              "id                                   56cbdea66d243a140015edac\n",
              "title                                         Frédéric_Chopin\n",
              "context     Fryderyk may have had some piano instruction f...\n",
              "question    Who was Frédéric's first professional teacher ...\n",
              "answers     {'text': ['Wojciech Żywny'], 'answer_start': [...\n",
              "Name: 1588, dtype: object"
            ]
          },
          "metadata": {}
        },
        {
          "output_type": "display_data",
          "data": {
            "text/plain": [
              "id                                   56cbdfbf6d243a140015edb6\n",
              "title                                         Frédéric_Chopin\n",
              "context     In 1817 the Saxon Palace was requisitioned by ...\n",
              "question    In what year was the Saxon Palace taken by the...\n",
              "answers               {'text': ['1817'], 'answer_start': [3]}\n",
              "Name: 1602, dtype: object"
            ]
          },
          "metadata": {}
        },
        {
          "output_type": "display_data",
          "data": {
            "text/plain": [
              "id                                   56cbe1996d243a140015edc0\n",
              "title                                         Frédéric_Chopin\n",
              "context     From September 1823 to 1826 Chopin attended th...\n",
              "question    During what years did Frédéric visit the Warsa...\n",
              "answers      {'text': ['1823 to 1826'], 'answer_start': [15]}\n",
              "Name: 1616, dtype: object"
            ]
          },
          "metadata": {}
        },
        {
          "output_type": "display_data",
          "data": {
            "text/plain": [
              "id                                   56cbe2fd6d243a140015edcb\n",
              "title                                         Frédéric_Chopin\n",
              "context     During 1824–28 Chopin spent his vacations away...\n",
              "question    Who was Frédéric a guest of during his visit o...\n",
              "answers     {'text': ['Dominik Dziewanowski'], 'answer_sta...\n",
              "Name: 1631, dtype: object"
            ]
          },
          "metadata": {}
        },
        {
          "output_type": "display_data",
          "data": {
            "text/plain": [
              "id                                   56cbe5df6d243a140015edd4\n",
              "title                                         Frédéric_Chopin\n",
              "context     In 1827, soon after the death of Chopin's youn...\n",
              "question    During what year did Frédéric's youngest siste...\n",
              "answers               {'text': ['1827'], 'answer_start': [3]}\n",
              "Name: 1640, dtype: object"
            ]
          },
          "metadata": {}
        },
        {
          "output_type": "display_data",
          "data": {
            "text/plain": [
              "id                                   56cbe9436d243a140015eddf\n",
              "title                                         Frédéric_Chopin\n",
              "context     Four boarders at his parents' apartments becam...\n",
              "question    Of the individuals that became intimate with F...\n",
              "answers     {'text': ['Jan Matuszyński and Julian Fontana'...\n",
              "Name: 1654, dtype: object"
            ]
          },
          "metadata": {}
        },
        {
          "output_type": "display_data",
          "data": {
            "text/plain": [
              "id                                   56cbeb396d243a140015ede8\n",
              "title                                         Frédéric_Chopin\n",
              "context     In September 1828 Chopin, while still a studen...\n",
              "question    Who did Frédéric visit Berlin with in Septembe...\n",
              "answers     {'text': ['Feliks Jarocki'], 'answer_start': [...\n",
              "Name: 1665, dtype: object"
            ]
          },
          "metadata": {}
        },
        {
          "output_type": "display_data",
          "data": {
            "text/plain": [
              "id                                   56cbedde6d243a140015edf2\n",
              "title                                         Frédéric_Chopin\n",
              "context     Back in Warsaw that year, Chopin heard Niccolò...\n",
              "question    What did Frédéric compose after hearing Niccol...\n",
              "answers     {'text': ['Souvenir de Paganini'], 'answer_sta...\n",
              "Name: 1679, dtype: object"
            ]
          },
          "metadata": {}
        },
        {
          "output_type": "display_data",
          "data": {
            "text/plain": [
              "id                                   56cbef3a6d243a140015edfc\n",
              "title                                         Frédéric_Chopin\n",
              "context     Chopin's successes as a composer and performer...\n",
              "question    On what date did Frédéric begin his journey in...\n",
              "answers     {'text': ['2 November 1830'], 'answer_start': ...\n",
              "Name: 1692, dtype: object"
            ]
          },
          "metadata": {}
        },
        {
          "output_type": "display_data",
          "data": {
            "text/plain": [
              "id                                   56cbf12a6d243a140015ee06\n",
              "title                                         Frédéric_Chopin\n",
              "context     Chopin arrived in Paris in late September 1831...\n",
              "question    What event was Frédéric a part of when he arri...\n",
              "answers     {'text': ['the Polish Great Emigration'], 'ans...\n",
              "Name: 1705, dtype: object"
            ]
          },
          "metadata": {}
        },
        {
          "output_type": "display_data",
          "data": {
            "text/plain": [
              "id                                   56cbf37e6d243a140015ee10\n",
              "title                                         Frédéric_Chopin\n",
              "context     In Paris, Chopin encountered artists and other...\n",
              "question    In what city did Frédéric achieve celebrity st...\n",
              "answers              {'text': ['Paris'], 'answer_start': [3]}\n",
              "Name: 1719, dtype: object"
            ]
          },
          "metadata": {}
        },
        {
          "output_type": "display_data",
          "data": {
            "text/plain": [
              "id                                   56cbf5106d243a140015ee18\n",
              "title                                         Frédéric_Chopin\n",
              "context     Two Polish friends in Paris were also to play ...\n",
              "question    Which friend of Frédéric failed to achieve suc...\n",
              "answers     {'text': ['Julian Fontana'], 'answer_start': [...\n",
              "Name: 1726, dtype: object"
            ]
          },
          "metadata": {}
        },
        {
          "output_type": "display_data",
          "data": {
            "text/plain": [
              "id                                   56cbf7d16d243a140015ee22\n",
              "title                                         Frédéric_Chopin\n",
              "context     At the end of 1831, Chopin received the first ...\n",
              "question    Who gave Frédéric his first significant public...\n",
              "answers     {'text': ['Robert Schumann'], 'answer_start': ...\n",
              "Name: 1737, dtype: object"
            ]
          },
          "metadata": {}
        },
        {
          "output_type": "display_data",
          "data": {
            "text/plain": [
              "id                                   56cbfa0e6d243a140015ee2d\n",
              "title                                         Frédéric_Chopin\n",
              "context     Chopin seldom performed publicly in Paris. In ...\n",
              "question    What was Frédéric's favorite environment to pe...\n",
              "answers     {'text': ['his own Paris apartment for small g...\n",
              "Name: 1747, dtype: object"
            ]
          },
          "metadata": {}
        },
        {
          "output_type": "display_data",
          "data": {
            "text/plain": [
              "id                                   56cbfbdd6d243a140015ee36\n",
              "title                                         Frédéric_Chopin\n",
              "context     In the spring of 1834, Chopin attended the Low...\n",
              "question    Who did Frédéric meet in the spring of 1834 at...\n",
              "answers     {'text': ['Felix Mendelssohn'], 'answer_start'...\n",
              "Name: 1756, dtype: object"
            ]
          },
          "metadata": {}
        },
        {
          "output_type": "display_data",
          "data": {
            "text/plain": [
              "id                                   56cbfcda6d243a140015ee40\n",
              "title                                         Frédéric_Chopin\n",
              "context     Although it is not known exactly when Chopin f...\n",
              "question    Who was the recipient of Frédéric's letter he ...\n",
              "answers     {'text': ['Woyciechowski'], 'answer_start': [1...\n",
              "Name: 1769, dtype: object"
            ]
          },
          "metadata": {}
        },
        {
          "output_type": "display_data",
          "data": {
            "text/plain": [
              "id                                   56cbff116d243a140015ee46\n",
              "title                                         Frédéric_Chopin\n",
              "context     The two became friends, and for many years liv...\n",
              "question    What address did Frédéric live at during his s...\n",
              "answers     {'text': ['38 Rue de la Chaussée-d'Antin'], 'a...\n",
              "Name: 1775, dtype: object"
            ]
          },
          "metadata": {}
        },
        {
          "output_type": "display_data",
          "data": {
            "text/plain": [
              "id                                   56cc02376d243a140015ee50\n",
              "title                                         Frédéric_Chopin\n",
              "context     Although the two displayed great respect and a...\n",
              "question    What term describes the qualities of the relat...\n",
              "answers     {'text': ['love-hate relationship'], 'answer_s...\n",
              "Name: 1786, dtype: object"
            ]
          },
          "metadata": {}
        },
        {
          "output_type": "display_data",
          "data": {
            "text/plain": [
              "id                                   56cc06496d243a140015ee5a\n",
              "title                                         Frédéric_Chopin\n",
              "context     In 1836, at a party hosted by Marie d'Agoult, ...\n",
              "question    Who was the host of the gathering where Frédér...\n",
              "answers     {'text': ['Marie d'Agoult'], 'answer_start': [...\n",
              "Name: 1797, dtype: object"
            ]
          },
          "metadata": {}
        },
        {
          "output_type": "display_data",
          "data": {
            "text/plain": [
              "id                                   56cc07886d243a140015ee64\n",
              "title                                         Frédéric_Chopin\n",
              "context     In June 1837 Chopin visited London incognito i...\n",
              "question           What city did Frédéric visit in June 1837?\n",
              "answers            {'text': ['London'], 'answer_start': [28]}\n",
              "Name: 1807, dtype: object"
            ]
          },
          "metadata": {}
        },
        {
          "output_type": "display_data",
          "data": {
            "text/plain": [
              "id                                   56cc08eb6d243a140015ee6e\n",
              "title                                         Frédéric_Chopin\n",
              "context     On 3 December, Chopin complained about his bad...\n",
              "question    How many doctors saw Frédéric by the 3rd of De...\n",
              "answers            {'text': ['Three'], 'answer_start': [103]}\n",
              "Name: 1822, dtype: object"
            ]
          },
          "metadata": {}
        },
        {
          "output_type": "display_data",
          "data": {
            "text/plain": [
              "id                                   56cc0d816d243a140015ee78\n",
              "title                                         Frédéric_Chopin\n",
              "context     Although this period had been productive, the ...\n",
              "question    What is stated as having a negative effect on ...\n",
              "answers       {'text': ['bad weather'], 'answer_start': [46]}\n",
              "Name: 1831, dtype: object"
            ]
          },
          "metadata": {}
        },
        {
          "output_type": "display_data",
          "data": {
            "text/plain": [
              "id                                   56cc0f056d243a140015ee83\n",
              "title                                         Frédéric_Chopin\n",
              "context     At the funeral of the tenor Adolphe Nourrit in...\n",
              "question    What event were Chopin and Sand at on 26 July ...\n",
              "answers     {'text': ['Berlioz's Grande symphonie funèbre ...\n",
              "Name: 1846, dtype: object"
            ]
          },
          "metadata": {}
        },
        {
          "output_type": "display_data",
          "data": {
            "text/plain": [
              "id                                   56cc100b6d243a140015ee8a\n",
              "title                                         Frédéric_Chopin\n",
              "context     During the summers at Nohant, particularly in ...\n",
              "question    What is the example given of a work produced b...\n",
              "answers     {'text': ['Polonaise in A-flat major, Op. 53']...\n",
              "Name: 1855, dtype: object"
            ]
          },
          "metadata": {}
        },
        {
          "output_type": "display_data",
          "data": {
            "text/plain": [
              "id                                   56cc12376d243a140015ee92\n",
              "title                                         Frédéric_Chopin\n",
              "context     From 1842 onwards, Chopin showed signs of seri...\n",
              "question    In which year did Chopin begin experiencing a ...\n",
              "answers               {'text': ['1842'], 'answer_start': [5]}\n",
              "Name: 1862, dtype: object"
            ]
          },
          "metadata": {}
        },
        {
          "output_type": "display_data",
          "data": {
            "text/plain": [
              "id                                   56cc13956d243a140015ee9c\n",
              "title                                         Frédéric_Chopin\n",
              "context     Chopin's relations with Sand were soured in 18...\n",
              "question    What was the name of Sand's daughter's fiance ...\n",
              "answers     {'text': ['Auguste Clésinger'], 'answer_start'...\n",
              "Name: 1875, dtype: object"
            ]
          },
          "metadata": {}
        },
        {
          "output_type": "display_data",
          "data": {
            "text/plain": [
              "id                                   56cc15956d243a140015eea8\n",
              "title                                         Frédéric_Chopin\n",
              "context     Chopin's output as a composer throughout this ...\n",
              "question    What was the name of the single piece of work ...\n",
              "answers     {'text': ['Op. 58 sonata'], 'answer_start': [2...\n",
              "Name: 1887, dtype: object"
            ]
          },
          "metadata": {}
        },
        {
          "output_type": "display_data",
          "data": {
            "text/plain": [
              "id                                   56cc16bb6d243a140015eeb1\n",
              "title                                         Frédéric_Chopin\n",
              "context     Chopin's public popularity as a virtuoso began...\n",
              "question    In what month and year did Chopin give his fin...\n",
              "answers     {'text': ['February 1848'], 'answer_start': [2...\n",
              "Name: 1895, dtype: object"
            ]
          },
          "metadata": {}
        },
        {
          "output_type": "display_data",
          "data": {
            "text/plain": [
              "id                                   56cea7efaab44d1400b888f5\n",
              "title                                         Frédéric_Chopin\n",
              "context     Chopin's life was covered in a BBC TV document...\n",
              "question    What television station made a documentary on ...\n",
              "answers               {'text': ['BBC'], 'answer_start': [31]}\n",
              "Name: 1902, dtype: object"
            ]
          },
          "metadata": {}
        },
        {
          "output_type": "display_data",
          "data": {
            "text/plain": [
              "id                                   56cf4e5faab44d1400b88f90\n",
              "title                                         Frédéric_Chopin\n",
              "context     Chopin's life and his relations with George Sa...\n",
              "question    What was the name of the 1945 movie released a...\n",
              "answers     {'text': ['A Song to Remember'], 'answer_start...\n",
              "Name: 1909, dtype: object"
            ]
          },
          "metadata": {}
        },
        {
          "output_type": "display_data",
          "data": {
            "text/plain": [
              "id                                   56cf4ee2aab44d1400b88fac\n",
              "title                                         Frédéric_Chopin\n",
              "context     Possibly the first venture into fictional trea...\n",
              "question    When was the first fictionalized account of Ch...\n",
              "answers             {'text': ['1901'], 'answer_start': [188]}\n",
              "Name: 1918, dtype: object"
            ]
          },
          "metadata": {}
        },
        {
          "output_type": "display_data",
          "data": {
            "text/plain": [
              "id                                   56cf50b2aab44d1400b88fbd\n",
              "title                                         Frédéric_Chopin\n",
              "context     Chopin has figured extensively in Polish liter...\n",
              "question    An 1830 sonnet was written about Chopin by wha...\n",
              "answers      {'text': ['Leon Ulrich'], 'answer_start': [205]}\n",
              "Name: 1926, dtype: object"
            ]
          },
          "metadata": {}
        },
        {
          "output_type": "display_data",
          "data": {
            "text/plain": [
              "id                                   56cf5187aab44d1400b88fc4\n",
              "title                                         Frédéric_Chopin\n",
              "context     Numerous recordings of Chopin's works are avai...\n",
              "question    The Warsaw Chopin Society holds the Grand prix...\n",
              "answers     {'text': ['every five years.'], 'answer_start'...\n",
              "Name: 1932, dtype: object"
            ]
          },
          "metadata": {}
        },
        {
          "output_type": "display_data",
          "data": {
            "text/plain": [
              "id                                   56cf5284aab44d1400b88fca\n",
              "title                                         Frédéric_Chopin\n",
              "context     The British Library notes that \"Chopin's works...\n",
              "question    What year was the earliest Chopin recording cr...\n",
              "answers             {'text': ['1895'], 'answer_start': [145]}\n",
              "Name: 1938, dtype: object"
            ]
          },
          "metadata": {}
        },
        {
          "output_type": "display_data",
          "data": {
            "text/plain": [
              "id                                   56cf5376aab44d1400b88fd8\n",
              "title                                         Frédéric_Chopin\n",
              "context     Chopin's music remains very popular and is reg...\n",
              "question    What is the name of the oldest music essay com...\n",
              "answers     {'text': ['International Chopin Piano Competit...\n",
              "Name: 1944, dtype: object"
            ]
          },
          "metadata": {}
        },
        {
          "output_type": "display_data",
          "data": {
            "text/plain": [
              "id                                   56cf5433aab44d1400b88fee\n",
              "title                                         Frédéric_Chopin\n",
              "context     Chopin's music was used in the 1909 ballet Cho...\n",
              "question    What is the name of the ballet that included C...\n",
              "answers        {'text': ['Chopiniana'], 'answer_start': [43]}\n",
              "Name: 1953, dtype: object"
            ]
          },
          "metadata": {}
        },
        {
          "output_type": "display_data",
          "data": {
            "text/plain": [
              "id                                   56cfe4a4234ae51400d9c015\n",
              "title                                         Frédéric_Chopin\n",
              "context     In April, during the Revolution of 1848 in Par...\n",
              "question    Where did Chopin head to during the Revolution...\n",
              "answers            {'text': ['London'], 'answer_start': [62]}\n",
              "Name: 1962, dtype: object"
            ]
          },
          "metadata": {}
        },
        {
          "output_type": "display_data",
          "data": {
            "text/plain": [
              "id                                   56cfe6cf234ae51400d9c03b\n",
              "title                                         Frédéric_Chopin\n",
              "context     In London Chopin took lodgings at Dover Street...\n",
              "question               Where did Chopin stay while in London?\n",
              "answers      {'text': ['Dover Street'], 'answer_start': [34]}\n",
              "Name: 1969, dtype: object"
            ]
          },
          "metadata": {}
        },
        {
          "output_type": "display_data",
          "data": {
            "text/plain": [
              "id                                   56cfe792234ae51400d9c05b\n",
              "title                                         Frédéric_Chopin\n",
              "context     In late summer he was invited by Jane Stirling...\n",
              "question               Where did Jane Stirling invite Chopin?\n",
              "answers          {'text': ['Scotland'], 'answer_start': [56]}\n",
              "Name: 1979, dtype: object"
            ]
          },
          "metadata": {}
        },
        {
          "output_type": "display_data",
          "data": {
            "text/plain": [
              "id                                   56cfe7f4234ae51400d9c05f\n",
              "title                                         Frédéric_Chopin\n",
              "context     Chopin made his last public appearance on a co...\n",
              "question               When did Chopin last appear in public?\n",
              "answers     {'text': ['16 November 1848'], 'answer_start':...\n",
              "Name: 1984, dtype: object"
            ]
          },
          "metadata": {}
        },
        {
          "output_type": "display_data",
          "data": {
            "text/plain": [
              "id                                   56cfe87e234ae51400d9c06d\n",
              "title                                         Frédéric_Chopin\n",
              "context     At the end of November, Chopin returned to Par...\n",
              "question              Who did Chopin play for while she sang?\n",
              "answers     {'text': ['Delfina Potocka'], 'answer_start': ...\n",
              "Name: 1989, dtype: object"
            ]
          },
          "metadata": {}
        },
        {
          "output_type": "display_data",
          "data": {
            "text/plain": [
              "id                                   56cfe911234ae51400d9c085\n",
              "title                                         Frédéric_Chopin\n",
              "context     With his health further deteriorating, Chopin ...\n",
              "question        When did his sister come to stay with Chopin?\n",
              "answers         {'text': ['June 1849'], 'answer_start': [91]}\n",
              "Name: 1997, dtype: object"
            ]
          },
          "metadata": {}
        },
        {
          "output_type": "display_data",
          "data": {
            "text/plain": [
              "id                                   56cfe9df234ae51400d9c0a1\n",
              "title                                         Frédéric_Chopin\n",
              "context     Some of his friends provided music at his requ...\n",
              "question    Why did Chopin request being cut open after hi...\n",
              "answers     {'text': ['fear of being buried alive'], 'answ...\n",
              "Name: 2003, dtype: object"
            ]
          },
          "metadata": {}
        },
        {
          "output_type": "display_data",
          "data": {
            "text/plain": [
              "id                                   56cfeaa3234ae51400d9c0b3\n",
              "title                                         Frédéric_Chopin\n",
              "context     Chopin's disease and the cause of his death ha...\n",
              "question    What is listed as Chopin's official cause of d...\n",
              "answers     {'text': ['tuberculosis'], 'answer_start': [124]}\n",
              "Name: 2008, dtype: object"
            ]
          },
          "metadata": {}
        },
        {
          "output_type": "display_data",
          "data": {
            "text/plain": [
              "id                                   56cfeae2234ae51400d9c0b9\n",
              "title                                         Frédéric_Chopin\n",
              "context     The funeral, held at the Church of the Madelei...\n",
              "question                     Where was Chopin's funeral held?\n",
              "answers     {'text': ['Church of the Madeleine'], 'answer_...\n",
              "Name: 2015, dtype: object"
            ]
          },
          "metadata": {}
        },
        {
          "output_type": "display_data",
          "data": {
            "text/plain": [
              "id                                   56cfeb52234ae51400d9c0bf\n",
              "title                                         Frédéric_Chopin\n",
              "context     Mozart's Requiem was sung at the funeral; the ...\n",
              "question              What song was sung at Chopin's funeral?\n",
              "answers     {'text': ['Mozart's Requiem'], 'answer_start':...\n",
              "Name: 2021, dtype: object"
            ]
          },
          "metadata": {}
        },
        {
          "output_type": "display_data",
          "data": {
            "text/plain": [
              "id                                   56cfec4b234ae51400d9c0cd\n",
              "title                                         Frédéric_Chopin\n",
              "context     Chopin's tombstone, featuring the muse of musi...\n",
              "question                     Who sculpted Chopin's tombstone?\n",
              "answers        {'text': ['Clésinger'], 'answer_start': [115]}\n",
              "Name: 2030, dtype: object"
            ]
          },
          "metadata": {}
        },
        {
          "output_type": "display_data",
          "data": {
            "text/plain": [
              "id                                   56cfec7b234ae51400d9c0d7\n",
              "title                                         Frédéric_Chopin\n",
              "context     Over 230 works of Chopin survive; some composi...\n",
              "question              How many of Chopin's works still exist?\n",
              "answers           {'text': ['Over 230'], 'answer_start': [0]}\n",
              "Name: 2040, dtype: object"
            ]
          },
          "metadata": {}
        },
        {
          "output_type": "display_data",
          "data": {
            "text/plain": [
              "id                                   56cfed0f234ae51400d9c0db\n",
              "title                                         Frédéric_Chopin\n",
              "context     Chopin was educated in the tradition of Beetho...\n",
              "question    Whose piano method did Chopin teach his students?\n",
              "answers          {'text': ['Clementi'], 'answer_start': [69]}\n",
              "Name: 2044, dtype: object"
            ]
          },
          "metadata": {}
        },
        {
          "output_type": "display_data",
          "data": {
            "text/plain": [
              "id                                   56cfed8a234ae51400d9c0e1\n",
              "title                                         Frédéric_Chopin\n",
              "context     Chopin took the new salon genre of the nocturn...\n",
              "question          Who is credited with creating the nocturne?\n",
              "answers        {'text': ['John Field'], 'answer_start': [80]}\n",
              "Name: 2048, dtype: object"
            ]
          },
          "metadata": {}
        },
        {
          "output_type": "display_data",
          "data": {
            "text/plain": [
              "id                                   56cfee5d234ae51400d9c0f7\n",
              "title                                         Frédéric_Chopin\n",
              "context     Chopin also endowed popular dance forms with a...\n",
              "question    How many polonaises were published while Chopi...\n",
              "answers            {'text': ['seven'], 'answer_start': [363]}\n",
              "Name: 2054, dtype: object"
            ]
          },
          "metadata": {}
        },
        {
          "output_type": "display_data",
          "data": {
            "text/plain": [
              "id                                   56cfef3c234ae51400d9c10d\n",
              "title                                         Frédéric_Chopin\n",
              "context     Some of Chopin's well-known pieces have acquir...\n",
              "question    What is another title Op. 10, No. 12 has garne...\n",
              "answers     {'text': ['the Revolutionary Étude'], 'answer_...\n",
              "Name: 2063, dtype: object"
            ]
          },
          "metadata": {}
        },
        {
          "output_type": "display_data",
          "data": {
            "text/plain": [
              "id                                   56cff00f234ae51400d9c113\n",
              "title                                         Frédéric_Chopin\n",
              "context     The last opus number that Chopin himself used ...\n",
              "question     What was the last number Chopin gave to an opus?\n",
              "answers                {'text': ['65'], 'answer_start': [50]}\n",
              "Name: 2069, dtype: object"
            ]
          },
          "metadata": {}
        },
        {
          "output_type": "display_data",
          "data": {
            "text/plain": [
              "id                                   56cff0c3234ae51400d9c123\n",
              "title                                         Frédéric_Chopin\n",
              "context     Works published since 1857 have received alter...\n",
              "question          The Kobylańska Catalogue was named for who?\n",
              "answers     {'text': ['Krystyna Kobylańska'], 'answer_star...\n",
              "Name: 2076, dtype: object"
            ]
          },
          "metadata": {}
        },
        {
          "output_type": "display_data",
          "data": {
            "text/plain": [
              "id                                   56cff179234ae51400d9c131\n",
              "title                                         Frédéric_Chopin\n",
              "context     Chopin's original publishers included Maurice ...\n",
              "question    Who released the first collection of Chopin's ...\n",
              "answers     {'text': ['Breitkopf & Härtel'], 'answer_start...\n",
              "Name: 2082, dtype: object"
            ]
          },
          "metadata": {}
        },
        {
          "output_type": "display_data",
          "data": {
            "text/plain": [
              "id                                   56cff256234ae51400d9c145\n",
              "title                                         Frédéric_Chopin\n",
              "context     Improvisation stands at the centre of Chopin's...\n",
              "question                 What is central to Chopin's process?\n",
              "answers      {'text': ['Improvisation'], 'answer_start': [0]}\n",
              "Name: 2088, dtype: object"
            ]
          },
          "metadata": {}
        },
        {
          "output_type": "display_data",
          "data": {
            "text/plain": [
              "id                                   56cff2e0234ae51400d9c14b\n",
              "title                                         Frédéric_Chopin\n",
              "context     J. Barrie Jones suggests that \"amongst the wor...\n",
              "question    What piece does J. Barrie Jones pinpoint as a ...\n",
              "answers     {'text': ['the Barcarolle Op. 60'], 'answer_st...\n",
              "Name: 2093, dtype: object"
            ]
          },
          "metadata": {}
        },
        {
          "output_type": "display_data",
          "data": {
            "text/plain": [
              "id                                   56cff351234ae51400d9c14d\n",
              "title                                         Frédéric_Chopin\n",
              "context     Chopin's mazurkas and waltzes are all in strai...\n",
              "question    Chopin's mazurkas contain more of what than hi...\n",
              "answers     {'text': ['folk features'], 'answer_start': [1...\n",
              "Name: 2096, dtype: object"
            ]
          },
          "metadata": {}
        },
        {
          "output_type": "display_data",
          "data": {
            "text/plain": [
              "id                                   56cff390234ae51400d9c151\n",
              "title                                         Frédéric_Chopin\n",
              "context     Chopin's polonaises show a marked advance on t...\n",
              "question        What time are Chopin's polonaises written in?\n",
              "answers      {'text': ['triple time'], 'answer_start': [193]}\n",
              "Name: 2101, dtype: object"
            ]
          },
          "metadata": {}
        },
        {
          "output_type": "display_data",
          "data": {
            "text/plain": [
              "id                                   56cff3f4234ae51400d9c153\n",
              "title                                         Frédéric_Chopin\n",
              "context     The 21 nocturnes are more structured, and of g...\n",
              "question               How many nocturnes did Chopin compose?\n",
              "answers                 {'text': ['21'], 'answer_start': [4]}\n",
              "Name: 2105, dtype: object"
            ]
          },
          "metadata": {}
        },
        {
          "output_type": "display_data",
          "data": {
            "text/plain": [
              "id                                   56cff427234ae51400d9c157\n",
              "title                                         Frédéric_Chopin\n",
              "context     Chopin's études are largely in straightforward...\n",
              "question    What pieces of his did Chopin use to teach his...\n",
              "answers             {'text': ['études'], 'answer_start': [9]}\n",
              "Name: 2110, dtype: object"
            ]
          },
          "metadata": {}
        },
        {
          "output_type": "display_data",
          "data": {
            "text/plain": [
              "id                                   56cff49a234ae51400d9c161\n",
              "title                                         Frédéric_Chopin\n",
              "context     The preludes, many of which are very brief (so...\n",
              "question    What piece of Bach's did Chopin take inspirati...\n",
              "answers     {'text': ['The Well-Tempered Clavier'], 'answe...\n",
              "Name: 2113, dtype: object"
            ]
          },
          "metadata": {}
        },
        {
          "output_type": "display_data",
          "data": {
            "text/plain": [
              "id                                   56cff536234ae51400d9c165\n",
              "title                                         Frédéric_Chopin\n",
              "context     The two mature piano sonatas (No. 2, Op. 35, w...\n",
              "question    How many movements are No. 2, Op. 35 and No. 3...\n",
              "answers             {'text': ['four'], 'answer_start': [104]}\n",
              "Name: 2119, dtype: object"
            ]
          },
          "metadata": {}
        },
        {
          "output_type": "display_data",
          "data": {
            "text/plain": [
              "id                                   56cff5a8234ae51400d9c173\n",
              "title                                         Frédéric_Chopin\n",
              "context     Chopin's harmonic innovations may have arisen ...\n",
              "question    Chopin's chord progressions are similar in sty...\n",
              "answers     {'text': ['Claude Debussy'], 'answer_start': [...\n",
              "Name: 2124, dtype: object"
            ]
          },
          "metadata": {}
        },
        {
          "output_type": "display_data",
          "data": {
            "text/plain": [
              "id                                   56cff635234ae51400d9c184\n",
              "title                                         Frédéric_Chopin\n",
              "context     In 1841, Léon Escudier wrote of a recital give...\n",
              "question                  What was Chopin's style based upon?\n",
              "answers     {'text': ['independent finger technique'], 'an...\n",
              "Name: 2127, dtype: object"
            ]
          },
          "metadata": {}
        },
        {
          "output_type": "display_data",
          "data": {
            "text/plain": [
              "id                                   56cff6f3234ae51400d9c191\n",
              "title                                         Frédéric_Chopin\n",
              "context     Polish composers of the following generation i...\n",
              "question    According to J. Barrie Jones who was the only ...\n",
              "answers     {'text': ['Karol Szymanowski'], 'answer_start'...\n",
              "Name: 2130, dtype: object"
            ]
          },
          "metadata": {}
        },
        {
          "output_type": "display_data",
          "data": {
            "text/plain": [
              "id                                   56cff817234ae51400d9c1a3\n",
              "title                                         Frédéric_Chopin\n",
              "context     Jonathan Bellman writes that modern concert pe...\n",
              "question    Who wrote that the current large concert style...\n",
              "answers     {'text': ['Jonathan Bellman'], 'answer_start':...\n",
              "Name: 2136, dtype: object"
            ]
          },
          "metadata": {}
        },
        {
          "output_type": "display_data",
          "data": {
            "text/plain": [
              "id                                   56cff885234ae51400d9c1b3\n",
              "title                                         Frédéric_Chopin\n",
              "context     Chopin's music is frequently played with rubat...\n",
              "question    Chopin's compositions are often played with what?\n",
              "answers            {'text': ['rubato'], 'answer_start': [41]}\n",
              "Name: 2142, dtype: object"
            ]
          },
          "metadata": {}
        },
        {
          "output_type": "display_data",
          "data": {
            "text/plain": [
              "id                                   56cff905234ae51400d9c1b7\n",
              "title                                         Frédéric_Chopin\n",
              "context     Friederike Müller, a pupil of Chopin, wrote: \"...\n",
              "question    According to who did Chopin demand strictly st...\n",
              "answers     {'text': ['Friederike Müller'], 'answer_start'...\n",
              "Name: 2146, dtype: object"
            ]
          },
          "metadata": {}
        },
        {
          "output_type": "display_data",
          "data": {
            "text/plain": [
              "id                                   56cffa2a234ae51400d9c1cf\n",
              "title                                         Frédéric_Chopin\n",
              "context     With his mazurkas and polonaises, Chopin has b...\n",
              "question       Chopin was noted as introducing music to what?\n",
              "answers     {'text': ['sense of nationalism'], 'answer_sta...\n",
              "Name: 2149, dtype: object"
            ]
          },
          "metadata": {}
        },
        {
          "output_type": "display_data",
          "data": {
            "text/plain": [
              "id                                   56cffb2b234ae51400d9c1e1\n",
              "title                                         Frédéric_Chopin\n",
              "context     Some modern commentators have argued against e...\n",
              "question    Who said that Chopin's familiarity with Polish...\n",
              "answers     {'text': ['Barbara Milewski'], 'answer_start':...\n",
              "Name: 2158, dtype: object"
            ]
          },
          "metadata": {}
        },
        {
          "output_type": "display_data",
          "data": {
            "text/plain": [
              "id                                   56cffba5234ae51400d9c1f1\n",
              "title                                         Frédéric_Chopin\n",
              "context     A reconciliation of these views is suggested b...\n",
              "question    William Atwood suggested that Chopin's music w...\n",
              "answers        {'text': ['intuitive'], 'answer_start': [443]}\n",
              "Name: 2161, dtype: object"
            ]
          },
          "metadata": {}
        },
        {
          "output_type": "display_data",
          "data": {
            "text/plain": [
              "id                                   56cffc2b234ae51400d9c1ff\n",
              "title                                         Frédéric_Chopin\n",
              "context     Jones comments that \"Chopin's unique position ...\n",
              "question    Arthur Hutchings stated that Chopin's lack of ...\n",
              "answers     {'text': ['Byronic flamboyance'], 'answer_star...\n",
              "Name: 2164, dtype: object"
            ]
          },
          "metadata": {}
        },
        {
          "output_type": "display_data",
          "data": {
            "text/plain": [
              "id                                   56cffcf3234ae51400d9c20d\n",
              "title                                         Frédéric_Chopin\n",
              "context     Chopin's qualities as a pianist and composer w...\n",
              "question    In what suite did Schumann name a work for Cho...\n",
              "answers         {'text': ['Carnaval'], 'answer_start': [138]}\n",
              "Name: 2168, dtype: object"
            ]
          },
          "metadata": {}
        },
        {
          "output_type": "display_data",
          "data": {
            "text/plain": [
              "id                                   56cffdaa234ae51400d9c226\n",
              "title                                         Frédéric_Chopin\n",
              "context     Two of Chopin's long-standing pupils, Karol Mi...\n",
              "question       Who dedicated his 1915 piano Études to Chopin?\n",
              "answers          {'text': ['Debussy'], 'answer_start': [392]}\n",
              "Name: 2176, dtype: object"
            ]
          },
          "metadata": {}
        },
        {
          "output_type": "display_data",
          "data": {
            "text/plain": [
              "id                                   56cc239e6d243a140015eeb7\n",
              "title          Sino-Tibetan_relations_during_the_Ming_dynasty\n",
              "context     The exact nature of relations between Tibet an...\n",
              "question            Who were Wang Jiawei and Nyima Gyaincain?\n",
              "answers     {'text': ['Mainland Chinese scholars'], 'answe...\n",
              "Name: 2180, dtype: object"
            ]
          },
          "metadata": {}
        }
      ],
      "source": [
        "counter = 0;\n",
        "total = 0\n",
        "for id, row in data.iterrows():\n",
        "\n",
        "  # This is to convert the content of 'answers' to be map<text,text> so it can be saved into Astra.\n",
        "  converted_answers = dict()\n",
        "  converted_answers['text'] = row.answers['text'][0]\n",
        "  converted_answers['answer_start'] = str(row.answers['answer_start'][0])\n",
        "\n",
        "  # Create Embedding for each conversation row, save them to the database\n",
        "  full_chunk = f\"{row.context} {row.title}\"\n",
        "  embedding = openai.Embedding.create(input=full_chunk, model=model_id)['data'][0]['embedding']\n",
        "\n",
        "  query = SimpleStatement(\n",
        "                f\"\"\"\n",
        "                INSERT INTO squad\n",
        "                (id, title, context, question, answers, title_context_embedding)\n",
        "                VALUES (%s, %s, %s, %s, %s, %s)\n",
        "                \"\"\"\n",
        "            )\n",
        "  display(row)\n",
        "\n",
        "  session.execute(query, (row.id, row.title, row.context, row.question, converted_answers, embedding))\n",
        "\n",
        "  # With free trial of openAI, the rate limit is set as 60/per min.  Please set this counter depends on your own rate limit.\n",
        "  counter += 1\n",
        "\n",
        "  # It takes a long time to load all data.  It is set as 300 so it takes a few mins to load.\n",
        "  total += 1\n",
        "\n",
        "  if(total >= 300):\n",
        "    break\n",
        "\n",
        "  # With OpenAPI free trial,  the rate limit is 60 / per min.   So when hit 60 requests,  the program will sleep for 60 seconds. (can increase if not using free trial)\n",
        "  if (counter >= 300):\n",
        "    counter = 0;\n",
        "    time.sleep(60)\n"
      ]
    },
    {
      "cell_type": "markdown",
      "metadata": {
        "id": "LhPvL09Wo8to"
      },
      "source": [
        "# **Convert a query string into a text embedding to use as part of the query**\n",
        "\n",
        "Provide a question to find out the information of the university that you are interested and see how it works with Vector Search and ChatGPT.\n",
        "\n",
        "Here we use the same API that we used to calculate embeddings for each row in the database, but this time we are using your input question to calculate a vector to use in a query."
      ]
    },
    {
      "cell_type": "code",
      "execution_count": null,
      "metadata": {
        "colab": {
          "base_uri": "https://localhost:8080/",
          "height": 1000
        },
        "id": "1p_F_gUnpBf3",
        "outputId": "9154e751-3047-4370-b237-cc0fa811487c"
      },
      "outputs": [
        {
          "output_type": "display_data",
          "data": {
            "text/plain": [
              "[-0.0116095170378685,\n",
              " -0.025052115321159363,\n",
              " -0.001079481327906251,\n",
              " -0.027998624369502068,\n",
              " -0.0029074710328131914,\n",
              " -0.016986556351184845,\n",
              " 0.0024424113798886538,\n",
              " -0.006986077409237623,\n",
              " -0.03215361014008522,\n",
              " 0.006167979910969734,\n",
              " 0.008228499442338943,\n",
              " -0.00510886637493968,\n",
              " 0.038807015866041183,\n",
              " -0.004012411925941706,\n",
              " -0.006782401818782091,\n",
              " -0.002802238566800952,\n",
              " 0.0013603841653093696,\n",
              " -0.0073730614967644215,\n",
              " 0.008004455827176571,\n",
              " 0.026980245485901833,\n",
              " -0.007685364224016666,\n",
              " 0.0008274326683022082,\n",
              " 0.006246055942028761,\n",
              " -0.001002254313789308,\n",
              " 0.002657968318089843,\n",
              " -0.03579261526465416,\n",
              " 0.02729254774749279,\n",
              " -0.022675897926092148,\n",
              " 0.022553693503141403,\n",
              " -0.018941843882203102,\n",
              " -0.002069005975499749,\n",
              " -0.016049647703766823,\n",
              " -0.038997113704681396,\n",
              " -0.01839870773255825,\n",
              " -0.030062537640333176,\n",
              " -0.012587159872055054,\n",
              " -0.009355504997074604,\n",
              " 7.871218258515e-05,\n",
              " 0.04393964633345604,\n",
              " 0.028351662680506706,\n",
              " 0.03747633472084999,\n",
              " 0.005546769127249718,\n",
              " -0.004806747194379568,\n",
              " -0.005529796238988638,\n",
              " -0.020747767761349678,\n",
              " 0.01217980869114399,\n",
              " 0.013089559972286224,\n",
              " 0.016660675406455994,\n",
              " -0.004134617280215025,\n",
              " 0.019349195063114166,\n",
              " 0.002293049357831478,\n",
              " 0.03250664845108986,\n",
              " 0.004969687666743994,\n",
              " -0.014895484782755375,\n",
              " -0.035412419587373734,\n",
              " -0.019118361175060272,\n",
              " -0.018453020602464676,\n",
              " 0.0295737162232399,\n",
              " -0.009973322041332722,\n",
              " -0.03169194236397743,\n",
              " 0.011989711783826351,\n",
              " -0.0038969956804066896,\n",
              " -0.015099161304533482,\n",
              " 0.0053872233256697655,\n",
              " -0.008045190945267677,\n",
              " 0.017909886315464973,\n",
              " 0.01443381980061531,\n",
              " -0.010563981719315052,\n",
              " -0.02196982316672802,\n",
              " -0.023653540760278702,\n",
              " 0.02396584488451481,\n",
              " 0.01280441414564848,\n",
              " 0.006303763948380947,\n",
              " -0.0015793355414643884,\n",
              " 0.005709709599614143,\n",
              " -0.0066941422410309315,\n",
              " -0.012152652256190777,\n",
              " -0.009959743358194828,\n",
              " -0.000789243436884135,\n",
              " 0.004908584989607334,\n",
              " 0.0035711145028471947,\n",
              " -0.028378818184137344,\n",
              " 0.0012203571386635303,\n",
              " -0.00584888830780983,\n",
              " -0.004569125361740589,\n",
              " -0.0044706822372972965,\n",
              " 0.018235767260193825,\n",
              " 0.034950755536556244,\n",
              " -0.007169385906308889,\n",
              " -0.009097515605390072,\n",
              " 0.01900973543524742,\n",
              " 0.044129740446805954,\n",
              " 0.011738511733710766,\n",
              " 0.01209154911339283,\n",
              " -0.015995334833860397,\n",
              " 0.00031654603662900627,\n",
              " -0.015479356050491333,\n",
              " 0.01153483521193266,\n",
              " 0.045107387006282806,\n",
              " -0.00014798315532971174,\n",
              " -0.012553214095532894,\n",
              " 0.021263746544718742,\n",
              " -0.003611849620938301,\n",
              " -0.01191502995789051,\n",
              " -0.031637631356716156,\n",
              " -0.025798926129937172,\n",
              " 0.0012381786946207285,\n",
              " -0.02139952965080738,\n",
              " 0.012044024653732777,\n",
              " -0.0023337844759225845,\n",
              " -0.011976133100688457,\n",
              " 0.04334219545125961,\n",
              " -0.0017567031318321824,\n",
              " -0.0017346383538097143,\n",
              " 0.028514603152871132,\n",
              " -0.03916005417704582,\n",
              " 0.016674254089593887,\n",
              " 0.012580371461808681,\n",
              " 0.01765189692378044,\n",
              " -0.01200328953564167,\n",
              " 0.02571745589375496,\n",
              " 0.003226563101634383,\n",
              " 0.026735834777355194,\n",
              " -0.027102449908852577,\n",
              " 0.022770946845412254,\n",
              " -0.01080839242786169,\n",
              " -0.036091338843107224,\n",
              " -0.0007680272101424634,\n",
              " 0.01158914901316166,\n",
              " 0.004969687666743994,\n",
              " 0.03310409560799599,\n",
              " -0.019457820802927017,\n",
              " 0.013748112134635448,\n",
              " 0.0003532500995788723,\n",
              " -0.010434987023472786,\n",
              " 0.014651074074208736,\n",
              " -0.012471743859350681,\n",
              " 0.015262101776897907,\n",
              " -0.036770258098840714,\n",
              " -0.03356575965881348,\n",
              " -0.014596761204302311,\n",
              " 0.002041849307715893,\n",
              " -0.014270879328250885,\n",
              " -0.0016285572201013565,\n",
              " -0.011100327596068382,\n",
              " 0.01968865469098091,\n",
              " 0.0071625965647399426,\n",
              " 0.02000095695257187,\n",
              " 0.009375873021781445,\n",
              " -0.009409818798303604,\n",
              " 0.010591138154268265,\n",
              " -0.013279657810926437,\n",
              " 0.0001254939561476931,\n",
              " 0.015941020101308823,\n",
              " 0.012960565276443958,\n",
              " -0.002272681798785925,\n",
              " -0.006633039563894272,\n",
              " 0.009701753966510296,\n",
              " -0.006239266600459814,\n",
              " 0.019172675907611847,\n",
              " -0.01782841607928276,\n",
              " -0.017977777868509293,\n",
              " 0.006232477258890867,\n",
              " 0.0002268014068249613,\n",
              " -0.004450314678251743,\n",
              " 0.023952266201376915,\n",
              " 0.006218899041414261,\n",
              " -0.013313603587448597,\n",
              " -0.0002620203304104507,\n",
              " -0.006887634284794331,\n",
              " -0.01271615456789732,\n",
              " 0.015207787975668907,\n",
              " -0.011629884131252766,\n",
              " -0.007366272155195475,\n",
              " 0.0214674212038517,\n",
              " 0.018453020602464676,\n",
              " 0.005509428679943085,\n",
              " 0.0045080226846039295,\n",
              " -0.029274992644786835,\n",
              " -0.015873128548264503,\n",
              " 0.02118227630853653,\n",
              " 0.0004777893191203475,\n",
              " 0.023164719343185425,\n",
              " 0.034271836280822754,\n",
              " -0.029709499329328537,\n",
              " 0.008343915455043316,\n",
              " -0.00584888830780983,\n",
              " 0.020177476108074188,\n",
              " 0.012546424753963947,\n",
              " -0.002875222358852625,\n",
              " 0.022214233875274658,\n",
              " 0.011093538254499435,\n",
              " 0.0021165302023291588,\n",
              " 0.010604716837406158,\n",
              " -0.6287333965301514,\n",
              " -0.028134407475590706,\n",
              " -0.0018127140356227756,\n",
              " -0.025853238999843597,\n",
              " -0.012308803386986256,\n",
              " 0.033810172230005264,\n",
              " 0.02954655885696411,\n",
              " 0.0062698181718587875,\n",
              " -0.020869974046945572,\n",
              " 0.011690987274050713,\n",
              " -0.008676585741341114,\n",
              " 0.009552392177283764,\n",
              " -0.0014664652990177274,\n",
              " -0.007515634410083294,\n",
              " -0.008228499442338943,\n",
              " -0.017068026587367058,\n",
              " 0.005492455791682005,\n",
              " 0.0006623704684898257,\n",
              " 0.027306126430630684,\n",
              " -0.010048002935945988,\n",
              " -0.028731856495141983,\n",
              " 0.015207787975668907,\n",
              " -0.0115552032366395,\n",
              " 0.00826923456043005,\n",
              " -0.0037781847640872,\n",
              " 0.010367094539105892,\n",
              " 0.008764845319092274,\n",
              " -0.0004188082239124924,\n",
              " -0.008248867467045784,\n",
              " -0.020476199686527252,\n",
              " 0.011263268068432808,\n",
              " 0.014365928247570992,\n",
              " -0.0021318059880286455,\n",
              " 0.004362055100500584,\n",
              " 0.012159441597759724,\n",
              " 0.02357207052409649,\n",
              " -0.015139896422624588,\n",
              " 0.05165216699242592,\n",
              " 0.011107116937637329,\n",
              " 0.022662319242954254,\n",
              " -0.012994511984288692,\n",
              " -0.016728566959500313,\n",
              " -0.0018585410434752703,\n",
              " 0.01936277374625206,\n",
              " -0.00787546206265688,\n",
              " 0.03397311270236969,\n",
              " 0.02111438475549221,\n",
              " -0.017190231010317802,\n",
              " 0.01607680507004261,\n",
              " -0.028813326731324196,\n",
              " 0.010903440415859222,\n",
              " -0.0100751593708992,\n",
              " -0.005166574381291866,\n",
              " -0.012763679027557373,\n",
              " 0.024142364040017128,\n",
              " -0.024821283295750618,\n",
              " 0.01572376675903797,\n",
              " -0.008513645268976688,\n",
              " 0.015262101776897907,\n",
              " -0.008941364474594593,\n",
              " 0.010170208290219307,\n",
              " 0.018711009994149208,\n",
              " -0.001454584184102714,\n",
              " -0.0151127390563488,\n",
              " 0.011826770380139351,\n",
              " -0.023979423567652702,\n",
              " -0.048203255981206894,\n",
              " -0.01535714976489544,\n",
              " 0.020842816680669785,\n",
              " -0.00835749413818121,\n",
              " 0.00514281215146184,\n",
              " 0.01089665200561285,\n",
              " 0.010238099843263626,\n",
              " 0.018955420702695847,\n",
              " 0.023449866101145744,\n",
              " 0.009226510301232338,\n",
              " 0.01583239436149597,\n",
              " 0.01835797354578972,\n",
              " 0.00888026226311922,\n",
              " 0.0007951839943416417,\n",
              " -0.020014535635709763,\n",
              " -0.013727744109928608,\n",
              " 0.004867849871516228,\n",
              " 0.007481688633561134,\n",
              " 0.00837786216288805,\n",
              " -0.03587408736348152,\n",
              " -0.011426208540797234,\n",
              " -0.0067484560422599316,\n",
              " -0.004382422659546137,\n",
              " 0.015628717839717865,\n",
              " 0.029519403353333473,\n",
              " 0.018955420702695847,\n",
              " 0.002108043758198619,\n",
              " -0.042310237884521484,\n",
              " 0.008425385691225529,\n",
              " 0.046845417469739914,\n",
              " -0.017529690638184547,\n",
              " 0.0006025407346896827,\n",
              " -0.0014104543952271342,\n",
              " 0.004253428429365158,\n",
              " -0.0196071844547987,\n",
              " 0.007984088733792305,\n",
              " 0.006707720924168825,\n",
              " -0.03275105729699135,\n",
              " 0.030877240002155304,\n",
              " 0.010591138154268265,\n",
              " 0.01448813360184431,\n",
              " 0.022988200187683105,\n",
              " 0.019729388877749443,\n",
              " -0.01929488033056259,\n",
              " 0.0022675897926092148,\n",
              " 0.006717904470860958,\n",
              " -0.024916330352425575,\n",
              " -0.006069536786526442,\n",
              " -0.026491424068808556,\n",
              " -0.03948593512177467,\n",
              " -0.011928608641028404,\n",
              " 0.01389747392386198,\n",
              " -0.011331159621477127,\n",
              " 0.012899463064968586,\n",
              " 0.005360066425055265,\n",
              " -0.036525849252939224,\n",
              " 0.0071625965647399426,\n",
              " 0.001053173211403191,\n",
              " -0.0026817305479198694,\n",
              " 0.00022849871311336756,\n",
              " -0.007115072105079889,\n",
              " -0.0052887797355651855,\n",
              " -0.020231788977980614,\n",
              " 0.016443420201539993,\n",
              " 0.0005448325537145138,\n",
              " 0.019050469622015953,\n",
              " 0.024916330352425575,\n",
              " -0.011528046801686287,\n",
              " 0.01583239436149597,\n",
              " 0.023490600287914276,\n",
              " -0.0040192012675106525,\n",
              " -0.011670619249343872,\n",
              " -0.009158618748188019,\n",
              " -0.00021067708439659327,\n",
              " 0.0008045191643759608,\n",
              " 0.005088498815894127,\n",
              " 0.01767905429005623,\n",
              " 0.004460498690605164,\n",
              " -0.0025951683055609465,\n",
              " 0.0014214868424460292,\n",
              " -0.0166470967233181,\n",
              " 0.019417086616158485,\n",
              " -0.0038834172300994396,\n",
              " 0.005166574381291866,\n",
              " 0.014379506930708885,\n",
              " -0.003526984713971615,\n",
              " -0.026980245485901833,\n",
              " 0.0009581245831213892,\n",
              " -0.0012475138064473867,\n",
              " -0.0013603841653093696,\n",
              " -0.008038402535021305,\n",
              " -0.024834860116243362,\n",
              " 0.00024228925758507103,\n",
              " -0.010489299893379211,\n",
              " 0.0017617950215935707,\n",
              " 0.027740634977817535,\n",
              " -0.02514716424047947,\n",
              " 0.005641817580908537,\n",
              " 0.007454531732946634,\n",
              " -0.001780465361662209,\n",
              " -0.015560826286673546,\n",
              " 0.021738989278674126,\n",
              " -0.007427374832332134,\n",
              " -0.024155940860509872,\n",
              " 0.021032914519309998,\n",
              " 0.005835309624671936,\n",
              " -0.006660196464508772,\n",
              " 0.008669797331094742,\n",
              " 0.00499344989657402,\n",
              " -0.014814014546573162,\n",
              " -0.015995334833860397,\n",
              " -0.01625332422554493,\n",
              " -0.022241389378905296,\n",
              " -0.006110271904617548,\n",
              " -0.0004052298318129033,\n",
              " 0.001509746303781867,\n",
              " -0.00571649894118309,\n",
              " -0.006347893737256527,\n",
              " 0.01710876077413559,\n",
              " -0.0007018326432444155,\n",
              " 0.013605538755655289,\n",
              " -0.012437798082828522,\n",
              " -0.015601561404764652,\n",
              " 0.02192908711731434,\n",
              " -0.012417430058121681,\n",
              " -0.005597688257694244,\n",
              " -0.007943353615701199,\n",
              " 0.012729733251035213,\n",
              " -0.005292174406349659,\n",
              " 0.00511565525084734,\n",
              " -0.007848304696381092,\n",
              " -0.01393141970038414,\n",
              " 0.01590028591454029,\n",
              " 0.006062747444957495,\n",
              " 0.0164298415184021,\n",
              " 0.01139905210584402,\n",
              " 0.04125112667679787,\n",
              " 0.02746906690299511,\n",
              " 0.003136606188490987,\n",
              " -0.027088873088359833,\n",
              " 0.009083937853574753,\n",
              " 0.0017770708072930574,\n",
              " 0.039811816066503525,\n",
              " 0.0005881136748939753,\n",
              " -0.01093059778213501,\n",
              " 0.005030790343880653,\n",
              " -0.018520914018154144,\n",
              " -0.02943793311715126,\n",
              " -0.0003303365665487945,\n",
              " 0.027061715722084045,\n",
              " -0.005074920132756233,\n",
              " -0.0026392980944365263,\n",
              " -0.0246447641402483,\n",
              " -0.023056093603372574,\n",
              " 0.010122683830559254,\n",
              " 0.005068131256848574,\n",
              " 0.018385129049420357,\n",
              " -0.007318748161196709,\n",
              " -0.019050469622015953,\n",
              " -0.008174185641109943,\n",
              " -0.036091338843107224,\n",
              " 0.014922642149031162,\n",
              " 0.01212549488991499,\n",
              " -0.05526401475071907,\n",
              " -0.016049647703766823,\n",
              " 0.01596817746758461,\n",
              " -0.009049992077052593,\n",
              " 0.02207844890654087,\n",
              " 0.026192698627710342,\n",
              " 0.020136740058660507,\n",
              " -0.011331159621477127,\n",
              " 0.0025527358520776033,\n",
              " 0.021372374147176743,\n",
              " 0.021277325227856636,\n",
              " 0.019878750666975975,\n",
              " 0.021263746544718742,\n",
              " 0.017027290537953377,\n",
              " 0.009633862413465977,\n",
              " -0.012926619499921799,\n",
              " -0.019131939858198166,\n",
              " 0.01596817746758461,\n",
              " 0.001021773205138743,\n",
              " -0.005533190909773111,\n",
              " 0.021548893302679062,\n",
              " -0.00010146658314624801,\n",
              " -0.002459384500980377,\n",
              " 0.0054245637729763985,\n",
              " 0.018127139657735825,\n",
              " 0.011181797832250595,\n",
              " -0.016456998884677887,\n",
              " 0.020802080631256104,\n",
              " 0.006972499191761017,\n",
              " 0.009565969929099083,\n",
              " 0.01721738837659359,\n",
              " 0.012451376765966415,\n",
              " 0.01903689093887806,\n",
              " 0.023639963939785957,\n",
              " 0.0064191799610853195,\n",
              " 0.012797624804079533,\n",
              " -0.0036491903010755777,\n",
              " 0.030632829293608665,\n",
              " 0.022417908534407616,\n",
              " -0.0008528921171091497,\n",
              " -0.010971332900226116,\n",
              " -0.029139207676053047,\n",
              " -0.026491424068808556,\n",
              " -0.004687936510890722,\n",
              " -0.018099984154105186,\n",
              " 0.010190575383603573,\n",
              " -0.007264434359967709,\n",
              " 0.02976381406188011,\n",
              " 0.002265892457216978,\n",
              " 0.0034930387046188116,\n",
              " 0.008853104896843433,\n",
              " -0.00024037979892455041,\n",
              " -0.0030873846262693405,\n",
              " 0.020299680531024933,\n",
              " 0.023816483095288277,\n",
              " -0.00885989423841238,\n",
              " -0.006001644767820835,\n",
              " -0.0031043575145304203,\n",
              " 0.012987722642719746,\n",
              " -0.034353308379650116,\n",
              " -0.003185827983543277,\n",
              " 0.020353995263576508,\n",
              " 0.009511657059192657,\n",
              " -0.005920174531638622,\n",
              " 0.00438581733033061,\n",
              " -0.0006135731237009168,\n",
              " -0.026980245485901833,\n",
              " 0.011236111633479595,\n",
              " -0.039703190326690674,\n",
              " -0.029383618384599686,\n",
              " 0.0020605195313692093,\n",
              " 0.0012687300331890583,\n",
              " 0.00037234468618407845,\n",
              " -0.017584005370736122,\n",
              " -0.0181814543902874,\n",
              " 0.05233108624815941,\n",
              " -0.012444587424397469,\n",
              " 0.0024933305103331804,\n",
              " -0.002192908665165305,\n",
              " -0.015139896422624588,\n",
              " -0.01061150524765253,\n",
              " 0.0295737162232399,\n",
              " 0.004823720082640648,\n",
              " 0.0006857083062641323,\n",
              " 0.0009810380870476365,\n",
              " -0.022988200187683105,\n",
              " -0.006059353239834309,\n",
              " 0.005332909524440765,\n",
              " 0.0018330815946683288,\n",
              " 0.012335959821939468,\n",
              " -0.0166470967233181,\n",
              " 0.02082923799753189,\n",
              " -0.027591273188591003,\n",
              " -0.024454666301608086,\n",
              " 0.01478685811161995,\n",
              " 0.08663007616996765,\n",
              " 0.01725812442600727,\n",
              " 0.010265257209539413,\n",
              " 0.02122301049530506,\n",
              " 0.018778901547193527,\n",
              " -0.011881084181368351,\n",
              " -0.01778768002986908,\n",
              " -0.03655300289392471,\n",
              " 0.0015080490848049521,\n",
              " -0.004660779610276222,\n",
              " 0.007067548111081123,\n",
              " 0.009362294338643551,\n",
              " 0.027496224269270897,\n",
              " 0.005271806847304106,\n",
              " -0.018588805571198463,\n",
              " 0.005332909524440765,\n",
              " 0.00258498452603817,\n",
              " -0.02750980295240879,\n",
              " -0.0032961522229015827,\n",
              " -0.011188587173819542,\n",
              " -0.015547247603535652,\n",
              " 0.006327526178210974,\n",
              " 0.035168010741472244,\n",
              " 0.02889479696750641,\n",
              " -0.01096454355865717,\n",
              " -0.022241389378905296,\n",
              " 0.01697297766804695,\n",
              " 0.014243722893297672,\n",
              " 0.013109927996993065,\n",
              " 0.004049752373248339,\n",
              " 0.017421064898371696,\n",
              " -0.0009818867547437549,\n",
              " 0.007468109950423241,\n",
              " -0.003526984713971615,\n",
              " -0.007345904596149921,\n",
              " 0.039350152015686035,\n",
              " 0.016375528648495674,\n",
              " 0.007834726013243198,\n",
              " 0.012247700244188309,\n",
              " 0.006103482563048601,\n",
              " 0.04825757071375847,\n",
              " 0.01843944378197193,\n",
              " -0.0030211899429559708,\n",
              " -0.010726922191679478,\n",
              " 0.004732066299766302,\n",
              " -0.028677543625235558,\n",
              " 0.006493861321359873,\n",
              " 0.02665436454117298,\n",
              " 0.003961492795497179,\n",
              " -0.015275679528713226,\n",
              " 0.03576545789837837,\n",
              " -0.010149840265512466,\n",
              " -0.024957066401839256,\n",
              " -0.005074920132756233,\n",
              " 0.003026281949132681,\n",
              " 0.0015623625367879868,\n",
              " 0.008676585741341114,\n",
              " -0.004151590168476105,\n",
              " 0.0007209272007457912,\n",
              " 7.392527550109662e-06,\n",
              " -0.03429899364709854,\n",
              " -0.01982443779706955,\n",
              " 0.00770573178306222,\n",
              " -0.01746179908514023,\n",
              " -0.0024135573767125607,\n",
              " -0.03136606141924858,\n",
              " -0.009362294338643551,\n",
              " -0.015764500945806503,\n",
              " -0.028677543625235558,\n",
              " 0.006330920848995447,\n",
              " -0.0005749596166424453,\n",
              " -0.017882728949189186,\n",
              " -0.0433693528175354,\n",
              " 0.002360941143706441,\n",
              " 0.018548069521784782,\n",
              " -0.008024823851883411,\n",
              " 0.013944998383522034,\n",
              " 0.005916779860854149,\n",
              " -0.004256822634488344,\n",
              " 0.02325976826250553,\n",
              " -0.005923569202423096,\n",
              " -0.02425098977982998,\n",
              " -0.010509667918086052,\n",
              " -0.025242213159799576,\n",
              " 0.005886228755116463,\n",
              " 0.013490122742950916,\n",
              " -0.026627207174897194,\n",
              " 0.012302014045417309,\n",
              " 0.007936564274132252,\n",
              " 0.00032078928779810667,\n",
              " 0.0070336018688976765,\n",
              " -0.028704699128866196,\n",
              " 0.0062426612712442875,\n",
              " -0.024604028090834618,\n",
              " -0.011935397982597351,\n",
              " 0.003513406263664365,\n",
              " 0.004660779610276222,\n",
              " 0.022214233875274658,\n",
              " -0.017665475606918335,\n",
              " -0.01886037364602089,\n",
              " 0.006432758644223213,\n",
              " 0.011650252155959606,\n",
              " 0.006952131632715464,\n",
              " -0.0217933040112257,\n",
              " -0.00510886637493968,\n",
              " 0.029845284298062325,\n",
              " 0.015085582621395588,\n",
              " 0.024196676909923553,\n",
              " -0.002990638604387641,\n",
              " 0.006229082588106394,\n",
              " 0.040707990527153015,\n",
              " -0.012648263014853,\n",
              " 0.005984671879559755,\n",
              " 0.0002724162768572569,\n",
              " 0.009885062463581562,\n",
              " 0.0367974154651165,\n",
              " -0.005495849996805191,\n",
              " 0.007855094037950039,\n",
              " -0.014420242048799992,\n",
              " 0.013062403537333012,\n",
              " -0.007210121024399996,\n",
              " -0.004300952423363924,\n",
              " 0.024631185457110405,\n",
              " -0.002416952047497034,\n",
              " -0.02236359566450119,\n",
              " 0.028731856495141983,\n",
              " -0.010468932799994946,\n",
              " -0.017298858612775803,\n",
              " -0.03057851642370224,\n",
              " 0.02389795333147049,\n",
              " -0.009762857109308243,\n",
              " 0.038997113704681396,\n",
              " 0.019104784354567528,\n",
              " -0.030958712100982666,\n",
              " -0.012919830158352852,\n",
              " -0.04016485437750816,\n",
              " 0.007006444968283176,\n",
              " -0.012593949213624,\n",
              " 0.00912467297166586,\n",
              " -0.026953088119626045,\n",
              " -0.0006725542480126023,\n",
              " -0.017366750165820122,\n",
              " -0.005040974356234074,\n",
              " -0.027455488219857216,\n",
              " -0.013381495140492916,\n",
              " -0.01686435006558895,\n",
              " -0.007950142957270145,\n",
              " -0.022390753030776978,\n",
              " 0.0004300528089515865,\n",
              " 0.0075563695281744,\n",
              " -0.006521018221974373,\n",
              " -0.007264434359967709,\n",
              " 0.00256291963160038,\n",
              " 0.005964304320514202,\n",
              " -0.0245361365377903,\n",
              " -0.029519403353333473,\n",
              " -0.011887873522937298,\n",
              " -0.009742489084601402,\n",
              " 0.012071182020008564,\n",
              " 0.02617911994457245,\n",
              " 0.03136606141924858,\n",
              " -0.012811203487217426,\n",
              " 0.02107364870607853,\n",
              " 0.012492111884057522,\n",
              " 0.0070879156701266766,\n",
              " 0.014556026086211205,\n",
              " -0.014515290036797523,\n",
              " 0.013680219650268555,\n",
              " -0.01484117191284895,\n",
              " 0.006846899166703224,\n",
              " 0.049995601177215576,\n",
              " -0.0021165302023291588,\n",
              " 0.008493278175592422,\n",
              " -0.032316550612449646,\n",
              " -0.019267724826931953,\n",
              " 0.0009284218540415168,\n",
              " 0.017746945843100548,\n",
              " -0.000855862395837903,\n",
              " -0.0026664547622203827,\n",
              " -0.0442383699119091,\n",
              " -0.0372319221496582,\n",
              " 0.013225344009697437,\n",
              " -0.00015477233682759106,\n",
              " 0.006120455916970968,\n",
              " -0.0004387514782138169,\n",
              " -0.00900246761739254,\n",
              " 0.016443420201539993,\n",
              " 0.024766968563199043,\n",
              " 0.00830318033695221,\n",
              " 0.002359243808314204,\n",
              " 0.0246447641402483,\n",
              " -0.024916330352425575,\n",
              " 0.016389107331633568,\n",
              " 0.0023134169168770313,\n",
              " -0.010889862664043903,\n",
              " -0.02150815725326538,\n",
              " -0.021019335836172104,\n",
              " -0.020856395363807678,\n",
              " -0.005353277083486319,\n",
              " -0.003689925419166684,\n",
              " -0.015479356050491333,\n",
              " -0.011779246851801872,\n",
              " 0.010319570079445839,\n",
              " -0.0017244545742869377,\n",
              " -0.012173019349575043,\n",
              " 0.01728527992963791,\n",
              " -0.03693319857120514,\n",
              " -0.008174185641109943,\n",
              " 0.005550163798034191,\n",
              " -0.03916005417704582,\n",
              " 0.006093299016356468,\n",
              " -0.012030446901917458,\n",
              " -0.03839966282248497,\n",
              " -0.015452198684215546,\n",
              " 0.033674389123916626,\n",
              " 8.767603867454454e-05,\n",
              " -0.019742967560887337,\n",
              " 0.012512478977441788,\n",
              " -0.013972154818475246,\n",
              " -0.014406663365662098,\n",
              " 0.01078802440315485,\n",
              " -0.00010316388215869665,\n",
              " 0.02093786559998989,\n",
              " 0.004575914703309536,\n",
              " 0.012397062964737415,\n",
              " 0.018086405470967293,\n",
              " 0.004698120057582855,\n",
              " -0.000545256887562573,\n",
              " 0.01697297766804695,\n",
              " 0.030850084498524666,\n",
              " -0.012763679027557373,\n",
              " 0.0215760488063097,\n",
              " 0.02260800637304783,\n",
              " -0.024875596165657043,\n",
              " 0.00871732085943222,\n",
              " -0.008724110201001167,\n",
              " 0.03989328816533089,\n",
              " -0.003365741576999426,\n",
              " -0.016348371282219887,\n",
              " 0.02043546549975872,\n",
              " 0.0016412868862971663,\n",
              " -0.025418730452656746,\n",
              " 0.01196934375911951,\n",
              " -0.01191502995789051,\n",
              " -0.002150476211681962,\n",
              " 0.0007213515345938504,\n",
              " 0.0037680009845644236,\n",
              " -0.01039425190538168,\n",
              " -0.028704699128866196,\n",
              " 0.008187764324247837,\n",
              " -0.010034424252808094,\n",
              " 0.008432175032794476,\n",
              " -0.010156629607081413,\n",
              " 0.028487445786595345,\n",
              " 0.013496912084519863,\n",
              " -0.0030076117254793644,\n",
              " 0.007984088733792305,\n",
              " -0.03068714402616024,\n",
              " -0.007291591260582209,\n",
              " 0.009993689134716988,\n",
              " -0.0166470967233181,\n",
              " 0.011901452206075191,\n",
              " -0.003352163126692176,\n",
              " -0.007169385906308889,\n",
              " -0.006089904345571995,\n",
              " 0.009973322041332722,\n",
              " -0.027306126430630684,\n",
              " 0.010143051855266094,\n",
              " -0.0015063517494127154,\n",
              " 0.021657519042491913,\n",
              " 0.0029074710328131914,\n",
              " 0.0010124380933120847,\n",
              " 0.009375873021781445,\n",
              " -0.0005057947128079832,\n",
              " 0.027944309636950493,\n",
              " -0.015058426186442375,\n",
              " -0.015058426186442375,\n",
              " -0.009070359170436859,\n",
              " -0.021087227389216423,\n",
              " 0.008961732499301434,\n",
              " 0.005740261171013117,\n",
              " -0.002700400771573186,\n",
              " -0.005509428679943085,\n",
              " 0.006239266600459814,\n",
              " -0.016307637095451355,\n",
              " -0.018941843882203102,\n",
              " 0.0019603788387030363,\n",
              " -0.011514468118548393,\n",
              " -0.029926754534244537,\n",
              " -0.0050851041451096535,\n",
              " -0.012295224703848362,\n",
              " -0.027835683897137642,\n",
              " 0.005624844692647457,\n",
              " 0.00837786216288805,\n",
              " -0.002759806113317609,\n",
              " 0.0164298415184021,\n",
              " 0.004382422659546137,\n",
              " -0.00026477844221517444,\n",
              " 0.0017974383663386106,\n",
              " 0.013544436544179916,\n",
              " 0.0005270109395496547,\n",
              " 0.015248523093760014,\n",
              " -0.0017668870277702808,\n",
              " 0.013422230258584023,\n",
              " -0.010631873272359371,\n",
              " -0.00195528706535697,\n",
              " 0.011012068018317223,\n",
              " -0.008432175032794476,\n",
              " -0.010652240365743637,\n",
              " 0.006422574631869793,\n",
              " 0.011283635161817074,\n",
              " -0.0030500441789627075,\n",
              " 0.004861060995608568,\n",
              " -0.01853449083864689,\n",
              " 0.001992627512663603,\n",
              " 0.008601904846727848,\n",
              " 0.023300504311919212,\n",
              " -0.03258811682462692,\n",
              " -0.028378818184137344,\n",
              " 0.007264434359967709,\n",
              " -0.004538574256002903,\n",
              " 0.012186598032712936,\n",
              " 0.019634339958429337,\n",
              " 0.0021250168792903423,\n",
              " 0.013137084431946278,\n",
              " 0.015954598784446716,\n",
              " -0.008887050673365593,\n",
              " -0.00379176321439445,\n",
              " -0.018955420702695847,\n",
              " -0.01776052452623844,\n",
              " -0.006935158744454384,\n",
              " -0.007203331682831049,\n",
              " -0.0152213666588068,\n",
              " -0.01528925821185112,\n",
              " -0.025024957954883575,\n",
              " -0.0007340812589973211,\n",
              " -0.0016811734531074762,\n",
              " 0.02186119556427002,\n",
              " 0.00889384001493454,\n",
              " -0.01843944378197193,\n",
              " -0.003754422767087817,\n",
              " 0.008398229256272316,\n",
              " 0.0022692871280014515,\n",
              " 0.012498900294303894,\n",
              " -0.0031230279710143805,\n",
              " -0.024631185457110405,\n",
              " -0.02621985599398613,\n",
              " -0.007332326378673315,\n",
              " -0.004796563647687435,\n",
              " -0.010204154066741467,\n",
              " -0.007624261546880007,\n",
              " 0.0593646876513958,\n",
              " -0.0035507469438016415,\n",
              " -0.009260457009077072,\n",
              " -0.004168563522398472,\n",
              " 0.0062053208239376545,\n",
              " -0.007529213093221188,\n",
              " 0.0031960117630660534,\n",
              " -0.024060893803834915,\n",
              " 0.01879248023033142,\n",
              " 0.037992313504219055,\n",
              " 0.017706209793686867,\n",
              " -0.002143687102943659,\n",
              " -0.012077970430254936,\n",
              " -0.038997113704681396,\n",
              " 0.012987722642719746,\n",
              " 0.014569603838026524,\n",
              " 0.014678231440484524,\n",
              " 0.01971581019461155,\n",
              " 0.0018721193773671985,\n",
              " 0.00027305277762934566,\n",
              " 0.00998689979314804,\n",
              " -0.02354491502046585,\n",
              " -0.02229570411145687,\n",
              " 0.02461760677397251,\n",
              " -0.0024508980568498373,\n",
              " 0.01214586291462183,\n",
              " 0.020163897424936295,\n",
              " -0.0007451137062162161,\n",
              " 0.013999312184751034,\n",
              " -0.00191115727648139,\n",
              " -0.00576062873005867,\n",
              " 0.003004217054694891,\n",
              " 0.02875901386141777,\n",
              " 0.018941843882203102,\n",
              " -0.05401480570435524,\n",
              " -0.015329993329942226,\n",
              " -0.023164719343185425,\n",
              " -0.016416264697909355,\n",
              " 0.0010226218728348613,\n",
              " -0.01728527992963791,\n",
              " 0.003060227958485484,\n",
              " 0.013401863165199757,\n",
              " -0.006388628855347633,\n",
              " -0.002199698006734252,\n",
              " 0.012593949213624,\n",
              " 0.00573347182944417,\n",
              " 0.00322826043702662,\n",
              " 0.012655052356421947,\n",
              " 0.010462143458425999,\n",
              " -0.015004112385213375,\n",
              " 0.009939375333487988,\n",
              " 0.023300504311919212,\n",
              " 0.005146206822246313,\n",
              " -0.01339507382363081,\n",
              " 0.004687936510890722,\n",
              " -0.013727744109928608,\n",
              " 0.010258467867970467,\n",
              " -0.006768823601305485,\n",
              " -0.024088049307465553,\n",
              " 0.010597927495837212,\n",
              " -0.016239745542407036,\n",
              " -0.0020605195313692093,\n",
              " -0.007115072105079889,\n",
              " -0.013347549363970757,\n",
              " -0.02889479696750641,\n",
              " 0.01280441414564848,\n",
              " -0.008853104896843433,\n",
              " 0.014814014546573162,\n",
              " 0.019620761275291443,\n",
              " -0.032696742564439774,\n",
              " 0.0018840004922822118,\n",
              " -0.0019298275001347065,\n",
              " -0.00024101628514472395,\n",
              " -0.03171909973025322,\n",
              " -0.00692158006131649,\n",
              " 0.013435808941721916,\n",
              " -0.015873128548264503,\n",
              " -0.04662816599011421,\n",
              " 0.042174454778432846,\n",
              " -0.03600987046957016,\n",
              " -0.012410641647875309,\n",
              " 0.0015980058815330267,\n",
              " 0.00025883791386149824,\n",
              " 0.0047354609705507755,\n",
              " 0.012186598032712936,\n",
              " 0.21975253522396088,\n",
              " 0.009206143207848072,\n",
              " -0.0005753839504905045,\n",
              " 0.02039472945034504,\n",
              " -0.022621585056185722,\n",
              " -0.01704086922109127,\n",
              " 0.016226166859269142,\n",
              " 0.005835309624671936,\n",
              " -0.03478781506419182,\n",
              " 0.03489644080400467,\n",
              " -0.017814837396144867,\n",
              " 0.014325193129479885,\n",
              " -0.04222876951098442,\n",
              " 0.006504044868052006,\n",
              " 0.002467870945110917,\n",
              " 0.0076106833294034,\n",
              " -0.03478781506419182,\n",
              " -0.03842682018876076,\n",
              " -0.022784525528550148,\n",
              " 0.039458777755498886,\n",
              " 0.00024419871624559164,\n",
              " -0.015153474174439907,\n",
              " -0.01205760333687067,\n",
              " -0.0361456535756588,\n",
              " 0.023667119443416595,\n",
              " 0.019987378269433975,\n",
              " -0.004246639087796211,\n",
              " 0.016796458512544632,\n",
              " 0.03579261526465416,\n",
              " 0.004806747194379568,\n",
              " -0.003496433375403285,\n",
              " 0.014257301576435566,\n",
              " -0.00018277775961905718,\n",
              " 0.010828759521245956,\n",
              " -0.011337948963046074,\n",
              " -0.004300952423363924,\n",
              " 0.0012161138001829386,\n",
              " -0.014705387875437737,\n",
              " -0.00814702920615673,\n",
              " 0.004012411925941706,\n",
              " -0.013666641898453236,\n",
              " -0.012621106579899788,\n",
              " 0.005753839388489723,\n",
              " -0.01835797354578972,\n",
              " -0.02503853663802147,\n",
              " -0.00022977168555371463,\n",
              " ...]"
            ]
          },
          "metadata": {}
        }
      ],
      "source": [
        "# Question to find out the information that you need.\n",
        "customer_input = \"when was the college of engineering in the University of Notre Dame established?\"\n",
        "\n",
        "# Create embedding based on same model\n",
        "embedding = openai.Embedding.create(input=customer_input, model=model_id)['data'][0]['embedding']\n",
        "display(embedding)"
      ]
    },
    {
      "cell_type": "markdown",
      "metadata": {
        "id": "ocsEwZ1XpUGy"
      },
      "source": [
        "Let's take a look at what a query against a vector index could look like. The query vector has the same dimensions (number of entries in the list) as the embeddings we generated a few steps ago for each row in the database."
      ]
    },
    {
      "cell_type": "code",
      "execution_count": null,
      "metadata": {
        "colab": {
          "base_uri": "https://localhost:8080/",
          "height": 1000
        },
        "id": "Idy_fxvypbae",
        "outputId": "421c9563-65bc-4b97-d160-52fe060d5f4b"
      },
      "outputs": [
        {
          "output_type": "display_data",
          "data": {
            "text/plain": [
              "<SimpleStatement query=\"\n",
              "    SELECT *\n",
              "    FROM squad\n",
              "    ORDER BY title_context_embedding ANN OF [-0.0116095170378685, -0.025052115321159363, -0.001079481327906251, -0.027998624369502068, -0.0029074710328131914, -0.016986556351184845, 0.0024424113798886538, -0.006986077409237623, -0.03215361014008522, 0.006167979910969734, 0.008228499442338943, -0.00510886637493968, 0.038807015866041183, -0.004012411925941706, -0.006782401818782091, -0.002802238566800952, 0.0013603841653093696, -0.0073730614967644215, 0.008004455827176571, 0.026980245485901833, -0.007685364224016666, 0.0008274326683022082, 0.006246055942028761, -0.001002254313789308, 0.002657968318089843, -0.03579261526465416, 0.02729254774749279, -0.022675897926092148, 0.022553693503141403, -0.018941843882203102, -0.002069005975499749, -0.016049647703766823, -0.038997113704681396, -0.01839870773255825, -0.030062537640333176, -0.012587159872055054, -0.009355504997074604, 7.871218258515e-05, 0.04393964633345604, 0.028351662680506706, 0.03747633472084999, 0.005546769127249718, -0.004806747194379568, -0.005529796238988638, -0.020747767761349678, 0.01217980869114399, 0.013089559972286224, 0.016660675406455994, -0.004134617280215025, 0.019349195063114166, 0.002293049357831478, 0.03250664845108986, 0.004969687666743994, -0.014895484782755375, -0.035412419587373734, -0.019118361175060272, -0.018453020602464676, 0.0295737162232399, -0.009973322041332722, -0.03169194236397743, 0.011989711783826351, -0.0038969956804066896, -0.015099161304533482, 0.0053872233256697655, -0.008045190945267677, 0.017909886315464973, 0.01443381980061531, -0.010563981719315052, -0.02196982316672802, -0.023653540760278702, 0.02396584488451481, 0.01280441414564848, 0.006303763948380947, -0.0015793355414643884, 0.005709709599614143, -0.0066941422410309315, -0.012152652256190777, -0.009959743358194828, -0.000789243436884135, 0.004908584989607334, 0.0035711145028471947, -0.028378818184137344, 0.0012203571386635303, -0.00584888830780983, -0.004569125361740589, -0.0044706822372972965, 0.018235767260193825, 0.034950755536556244, -0.007169385906308889, -0.009097515605390072, 0.01900973543524742, 0.044129740446805954, 0.011738511733710766, 0.01209154911339283, -0.015995334833860397, 0.00031654603662900627, -0.015479356050491333, 0.01153483521193266, 0.045107387006282806, -0.00014798315532971174, -0.012553214095532894, 0.021263746544718742, -0.003611849620938301, -0.01191502995789051, -0.031637631356716156, -0.025798926129937172, 0.0012381786946207285, -0.02139952965080738, 0.012044024653732777, -0.0023337844759225845, -0.011976133100688457, 0.04334219545125961, -0.0017567031318321824, -0.0017346383538097143, 0.028514603152871132, -0.03916005417704582, 0.016674254089593887, 0.012580371461808681, 0.01765189692378044, -0.01200328953564167, 0.02571745589375496, 0.003226563101634383, 0.026735834777355194, -0.027102449908852577, 0.022770946845412254, -0.01080839242786169, -0.036091338843107224, -0.0007680272101424634, 0.01158914901316166, 0.004969687666743994, 0.03310409560799599, -0.019457820802927017, 0.013748112134635448, 0.0003532500995788723, -0.010434987023472786, 0.014651074074208736, -0.012471743859350681, 0.015262101776897907, -0.036770258098840714, -0.03356575965881348, -0.014596761204302311, 0.002041849307715893, -0.014270879328250885, -0.0016285572201013565, -0.011100327596068382, 0.01968865469098091, 0.0071625965647399426, 0.02000095695257187, 0.009375873021781445, -0.009409818798303604, 0.010591138154268265, -0.013279657810926437, 0.0001254939561476931, 0.015941020101308823, 0.012960565276443958, -0.002272681798785925, -0.006633039563894272, 0.009701753966510296, -0.006239266600459814, 0.019172675907611847, -0.01782841607928276, -0.017977777868509293, 0.006232477258890867, 0.0002268014068249613, -0.004450314678251743, 0.023952266201376915, 0.006218899041414261, -0.013313603587448597, -0.0002620203304104507, -0.006887634284794331, -0.01271615456789732, 0.015207787975668907, -0.011629884131252766, -0.007366272155195475, 0.0214674212038517, 0.018453020602464676, 0.005509428679943085, 0.0045080226846039295, -0.029274992644786835, -0.015873128548264503, 0.02118227630853653, 0.0004777893191203475, 0.023164719343185425, 0.034271836280822754, -0.029709499329328537, 0.008343915455043316, -0.00584888830780983, 0.020177476108074188, 0.012546424753963947, -0.002875222358852625, 0.022214233875274658, 0.011093538254499435, 0.0021165302023291588, 0.010604716837406158, -0.6287333965301514, -0.028134407475590706, -0.0018127140356227756, -0.025853238999843597, -0.012308803386986256, 0.033810172230005264, 0.02954655885696411, 0.0062698181718587875, -0.020869974046945572, 0.011690987274050713, -0.008676585741341114, 0.009552392177283764, -0.0014664652990177274, -0.007515634410083294, -0.008228499442338943, -0.017068026587367058, 0.005492455791682005, 0.0006623704684898257, 0.027306126430630684, -0.010048002935945988, -0.028731856495141983, 0.015207787975668907, -0.0115552032366395, 0.00826923456043005, -0.0037781847640872, 0.010367094539105892, 0.008764845319092274, -0.0004188082239124924, -0.008248867467045784, -0.020476199686527252, 0.011263268068432808, 0.014365928247570992, -0.0021318059880286455, 0.004362055100500584, 0.012159441597759724, 0.02357207052409649, -0.015139896422624588, 0.05165216699242592, 0.011107116937637329, 0.022662319242954254, -0.012994511984288692, -0.016728566959500313, -0.0018585410434752703, 0.01936277374625206, -0.00787546206265688, 0.03397311270236969, 0.02111438475549221, -0.017190231010317802, 0.01607680507004261, -0.028813326731324196, 0.010903440415859222, -0.0100751593708992, -0.005166574381291866, -0.012763679027557373, 0.024142364040017128, -0.024821283295750618, 0.01572376675903797, -0.008513645268976688, 0.015262101776897907, -0.008941364474594593, 0.010170208290219307, 0.018711009994149208, -0.001454584184102714, -0.0151127390563488, 0.011826770380139351, -0.023979423567652702, -0.048203255981206894, -0.01535714976489544, 0.020842816680669785, -0.00835749413818121, 0.00514281215146184, 0.01089665200561285, 0.010238099843263626, 0.018955420702695847, 0.023449866101145744, 0.009226510301232338, 0.01583239436149597, 0.01835797354578972, 0.00888026226311922, 0.0007951839943416417, -0.020014535635709763, -0.013727744109928608, 0.004867849871516228, 0.007481688633561134, 0.00837786216288805, -0.03587408736348152, -0.011426208540797234, -0.0067484560422599316, -0.004382422659546137, 0.015628717839717865, 0.029519403353333473, 0.018955420702695847, 0.002108043758198619, -0.042310237884521484, 0.008425385691225529, 0.046845417469739914, -0.017529690638184547, 0.0006025407346896827, -0.0014104543952271342, 0.004253428429365158, -0.0196071844547987, 0.007984088733792305, 0.006707720924168825, -0.03275105729699135, 0.030877240002155304, 0.010591138154268265, 0.01448813360184431, 0.022988200187683105, 0.019729388877749443, -0.01929488033056259, 0.0022675897926092148, 0.006717904470860958, -0.024916330352425575, -0.006069536786526442, -0.026491424068808556, -0.03948593512177467, -0.011928608641028404, 0.01389747392386198, -0.011331159621477127, 0.012899463064968586, 0.005360066425055265, -0.036525849252939224, 0.0071625965647399426, 0.001053173211403191, -0.0026817305479198694, 0.00022849871311336756, -0.007115072105079889, -0.0052887797355651855, -0.020231788977980614, 0.016443420201539993, 0.0005448325537145138, 0.019050469622015953, 0.024916330352425575, -0.011528046801686287, 0.01583239436149597, 0.023490600287914276, -0.0040192012675106525, -0.011670619249343872, -0.009158618748188019, -0.00021067708439659327, 0.0008045191643759608, 0.005088498815894127, 0.01767905429005623, 0.004460498690605164, -0.0025951683055609465, 0.0014214868424460292, -0.0166470967233181, 0.019417086616158485, -0.0038834172300994396, 0.005166574381291866, 0.014379506930708885, -0.003526984713971615, -0.026980245485901833, 0.0009581245831213892, -0.0012475138064473867, -0.0013603841653093696, -0.008038402535021305, -0.024834860116243362, 0.00024228925758507103, -0.010489299893379211, 0.0017617950215935707, 0.027740634977817535, -0.02514716424047947, 0.005641817580908537, 0.007454531732946634, -0.001780465361662209, -0.015560826286673546, 0.021738989278674126, -0.007427374832332134, -0.024155940860509872, 0.021032914519309998, 0.005835309624671936, -0.006660196464508772, 0.008669797331094742, 0.00499344989657402, -0.014814014546573162, -0.015995334833860397, -0.01625332422554493, -0.022241389378905296, -0.006110271904617548, -0.0004052298318129033, 0.001509746303781867, -0.00571649894118309, -0.006347893737256527, 0.01710876077413559, -0.0007018326432444155, 0.013605538755655289, -0.012437798082828522, -0.015601561404764652, 0.02192908711731434, -0.012417430058121681, -0.005597688257694244, -0.007943353615701199, 0.012729733251035213, -0.005292174406349659, 0.00511565525084734, -0.007848304696381092, -0.01393141970038414, 0.01590028591454029, 0.006062747444957495, 0.0164298415184021, 0.01139905210584402, 0.04125112667679787, 0.02746906690299511, 0.003136606188490987, -0.027088873088359833, 0.009083937853574753, 0.0017770708072930574, 0.039811816066503525, 0.0005881136748939753, -0.01093059778213501, 0.005030790343880653, -0.018520914018154144, -0.02943793311715126, -0.0003303365665487945, 0.027061715722084045, -0.005074920132756233, -0.0026392980944365263, -0.0246447641402483, -0.023056093603372574, 0.010122683830559254, 0.005068131256848574, 0.018385129049420357, -0.007318748161196709, -0.019050469622015953, -0.008174185641109943, -0.036091338843107224, 0.014922642149031162, 0.01212549488991499, -0.05526401475071907, -0.016049647703766823, 0.01596817746758461, -0.009049992077052593, 0.02207844890654087, 0.026192698627710342, 0.020136740058660507, -0.011331159621477127, 0.0025527358520776033, 0.021372374147176743, 0.021277325227856636, 0.019878750666975975, 0.021263746544718742, 0.017027290537953377, 0.009633862413465977, -0.012926619499921799, -0.019131939858198166, 0.01596817746758461, 0.001021773205138743, -0.005533190909773111, 0.021548893302679062, -0.00010146658314624801, -0.002459384500980377, 0.0054245637729763985, 0.018127139657735825, 0.011181797832250595, -0.016456998884677887, 0.020802080631256104, 0.006972499191761017, 0.009565969929099083, 0.01721738837659359, 0.012451376765966415, 0.01903689093887806, 0.023639963939785957, 0.0064191799610853195, 0.012797624804079533, -0.0036491903010755777, 0.030632829293608665, 0.022417908534407616, -0.0008528921171091497, -0.010971332900226116, -0.029139207676053047, -0.026491424068808556, -0.004687936510890722, -0.018099984154105186, 0.010190575383603573, -0.007264434359967709, 0.02976381406188011, 0.002265892457216978, 0.0034930387046188116, 0.008853104896843433, -0.00024037979892455041, -0.0030873846262693405, 0.020299680531024933, 0.023816483095288277, -0.00885989423841238, -0.006001644767820835, -0.0031043575145304203, 0.012987722642719746, -0.034353308379650116, -0.003185827983543277, 0.020353995263576508, 0.009511657059192657, -0.005920174531638622, 0.00438581733033061, -0.0006135731237009168, -0.026980245485901833, 0.011236111633479595, -0.039703190326690674, -0.029383618384599686, 0.0020605195313692093, 0.0012687300331890583, 0.00037234468618407845, -0.017584005370736122, -0.0181814543902874, 0.05233108624815941, -0.012444587424397469, 0.0024933305103331804, -0.002192908665165305, -0.015139896422624588, -0.01061150524765253, 0.0295737162232399, 0.004823720082640648, 0.0006857083062641323, 0.0009810380870476365, -0.022988200187683105, -0.006059353239834309, 0.005332909524440765, 0.0018330815946683288, 0.012335959821939468, -0.0166470967233181, 0.02082923799753189, -0.027591273188591003, -0.024454666301608086, 0.01478685811161995, 0.08663007616996765, 0.01725812442600727, 0.010265257209539413, 0.02122301049530506, 0.018778901547193527, -0.011881084181368351, -0.01778768002986908, -0.03655300289392471, 0.0015080490848049521, -0.004660779610276222, 0.007067548111081123, 0.009362294338643551, 0.027496224269270897, 0.005271806847304106, -0.018588805571198463, 0.005332909524440765, 0.00258498452603817, -0.02750980295240879, -0.0032961522229015827, -0.011188587173819542, -0.015547247603535652, 0.006327526178210974, 0.035168010741472244, 0.02889479696750641, -0.01096454355865717, -0.022241389378905296, 0.01697297766804695, 0.014243722893297672, 0.013109927996993065, 0.004049752373248339, 0.017421064898371696, -0.0009818867547437549, 0.007468109950423241, -0.003526984713971615, -0.007345904596149921, 0.039350152015686035, 0.016375528648495674, 0.007834726013243198, 0.012247700244188309, 0.006103482563048601, 0.04825757071375847, 0.01843944378197193, -0.0030211899429559708, -0.010726922191679478, 0.004732066299766302, -0.028677543625235558, 0.006493861321359873, 0.02665436454117298, 0.003961492795497179, -0.015275679528713226, 0.03576545789837837, -0.010149840265512466, -0.024957066401839256, -0.005074920132756233, 0.003026281949132681, 0.0015623625367879868, 0.008676585741341114, -0.004151590168476105, 0.0007209272007457912, 7.392527550109662e-06, -0.03429899364709854, -0.01982443779706955, 0.00770573178306222, -0.01746179908514023, -0.0024135573767125607, -0.03136606141924858, -0.009362294338643551, -0.015764500945806503, -0.028677543625235558, 0.006330920848995447, -0.0005749596166424453, -0.017882728949189186, -0.0433693528175354, 0.002360941143706441, 0.018548069521784782, -0.008024823851883411, 0.013944998383522034, 0.005916779860854149, -0.004256822634488344, 0.02325976826250553, -0.005923569202423096, -0.02425098977982998, -0.010509667918086052, -0.025242213159799576, 0.005886228755116463, 0.013490122742950916, -0.026627207174897194, 0.012302014045417309, 0.007936564274132252, 0.00032078928779810667, 0.0070336018688976765, -0.028704699128866196, 0.0062426612712442875, -0.024604028090834618, -0.011935397982597351, 0.003513406263664365, 0.004660779610276222, 0.022214233875274658, -0.017665475606918335, -0.01886037364602089, 0.006432758644223213, 0.011650252155959606, 0.006952131632715464, -0.0217933040112257, -0.00510886637493968, 0.029845284298062325, 0.015085582621395588, 0.024196676909923553, -0.002990638604387641, 0.006229082588106394, 0.040707990527153015, -0.012648263014853, 0.005984671879559755, 0.0002724162768572569, 0.009885062463581562, 0.0367974154651165, -0.005495849996805191, 0.007855094037950039, -0.014420242048799992, 0.013062403537333012, -0.007210121024399996, -0.004300952423363924, 0.024631185457110405, -0.002416952047497034, -0.02236359566450119, 0.028731856495141983, -0.010468932799994946, -0.017298858612775803, -0.03057851642370224, 0.02389795333147049, -0.009762857109308243, 0.038997113704681396, 0.019104784354567528, -0.030958712100982666, -0.012919830158352852, -0.04016485437750816, 0.007006444968283176, -0.012593949213624, 0.00912467297166586, -0.026953088119626045, -0.0006725542480126023, -0.017366750165820122, -0.005040974356234074, -0.027455488219857216, -0.013381495140492916, -0.01686435006558895, -0.007950142957270145, -0.022390753030776978, 0.0004300528089515865, 0.0075563695281744, -0.006521018221974373, -0.007264434359967709, 0.00256291963160038, 0.005964304320514202, -0.0245361365377903, -0.029519403353333473, -0.011887873522937298, -0.009742489084601402, 0.012071182020008564, 0.02617911994457245, 0.03136606141924858, -0.012811203487217426, 0.02107364870607853, 0.012492111884057522, 0.0070879156701266766, 0.014556026086211205, -0.014515290036797523, 0.013680219650268555, -0.01484117191284895, 0.006846899166703224, 0.049995601177215576, -0.0021165302023291588, 0.008493278175592422, -0.032316550612449646, -0.019267724826931953, 0.0009284218540415168, 0.017746945843100548, -0.000855862395837903, -0.0026664547622203827, -0.0442383699119091, -0.0372319221496582, 0.013225344009697437, -0.00015477233682759106, 0.006120455916970968, -0.0004387514782138169, -0.00900246761739254, 0.016443420201539993, 0.024766968563199043, 0.00830318033695221, 0.002359243808314204, 0.0246447641402483, -0.024916330352425575, 0.016389107331633568, 0.0023134169168770313, -0.010889862664043903, -0.02150815725326538, -0.021019335836172104, -0.020856395363807678, -0.005353277083486319, -0.003689925419166684, -0.015479356050491333, -0.011779246851801872, 0.010319570079445839, -0.0017244545742869377, -0.012173019349575043, 0.01728527992963791, -0.03693319857120514, -0.008174185641109943, 0.005550163798034191, -0.03916005417704582, 0.006093299016356468, -0.012030446901917458, -0.03839966282248497, -0.015452198684215546, 0.033674389123916626, 8.767603867454454e-05, -0.019742967560887337, 0.012512478977441788, -0.013972154818475246, -0.014406663365662098, 0.01078802440315485, -0.00010316388215869665, 0.02093786559998989, 0.004575914703309536, 0.012397062964737415, 0.018086405470967293, 0.004698120057582855, -0.000545256887562573, 0.01697297766804695, 0.030850084498524666, -0.012763679027557373, 0.0215760488063097, 0.02260800637304783, -0.024875596165657043, 0.00871732085943222, -0.008724110201001167, 0.03989328816533089, -0.003365741576999426, -0.016348371282219887, 0.02043546549975872, 0.0016412868862971663, -0.025418730452656746, 0.01196934375911951, -0.01191502995789051, -0.002150476211681962, 0.0007213515345938504, 0.0037680009845644236, -0.01039425190538168, -0.028704699128866196, 0.008187764324247837, -0.010034424252808094, 0.008432175032794476, -0.010156629607081413, 0.028487445786595345, 0.013496912084519863, -0.0030076117254793644, 0.007984088733792305, -0.03068714402616024, -0.007291591260582209, 0.009993689134716988, -0.0166470967233181, 0.011901452206075191, -0.003352163126692176, -0.007169385906308889, -0.006089904345571995, 0.009973322041332722, -0.027306126430630684, 0.010143051855266094, -0.0015063517494127154, 0.021657519042491913, 0.0029074710328131914, 0.0010124380933120847, 0.009375873021781445, -0.0005057947128079832, 0.027944309636950493, -0.015058426186442375, -0.015058426186442375, -0.009070359170436859, -0.021087227389216423, 0.008961732499301434, 0.005740261171013117, -0.002700400771573186, -0.005509428679943085, 0.006239266600459814, -0.016307637095451355, -0.018941843882203102, 0.0019603788387030363, -0.011514468118548393, -0.029926754534244537, -0.0050851041451096535, -0.012295224703848362, -0.027835683897137642, 0.005624844692647457, 0.00837786216288805, -0.002759806113317609, 0.0164298415184021, 0.004382422659546137, -0.00026477844221517444, 0.0017974383663386106, 0.013544436544179916, 0.0005270109395496547, 0.015248523093760014, -0.0017668870277702808, 0.013422230258584023, -0.010631873272359371, -0.00195528706535697, 0.011012068018317223, -0.008432175032794476, -0.010652240365743637, 0.006422574631869793, 0.011283635161817074, -0.0030500441789627075, 0.004861060995608568, -0.01853449083864689, 0.001992627512663603, 0.008601904846727848, 0.023300504311919212, -0.03258811682462692, -0.028378818184137344, 0.007264434359967709, -0.004538574256002903, 0.012186598032712936, 0.019634339958429337, 0.0021250168792903423, 0.013137084431946278, 0.015954598784446716, -0.008887050673365593, -0.00379176321439445, -0.018955420702695847, -0.01776052452623844, -0.006935158744454384, -0.007203331682831049, -0.0152213666588068, -0.01528925821185112, -0.025024957954883575, -0.0007340812589973211, -0.0016811734531074762, 0.02186119556427002, 0.00889384001493454, -0.01843944378197193, -0.003754422767087817, 0.008398229256272316, 0.0022692871280014515, 0.012498900294303894, -0.0031230279710143805, -0.024631185457110405, -0.02621985599398613, -0.007332326378673315, -0.004796563647687435, -0.010204154066741467, -0.007624261546880007, 0.0593646876513958, -0.0035507469438016415, -0.009260457009077072, -0.004168563522398472, 0.0062053208239376545, -0.007529213093221188, 0.0031960117630660534, -0.024060893803834915, 0.01879248023033142, 0.037992313504219055, 0.017706209793686867, -0.002143687102943659, -0.012077970430254936, -0.038997113704681396, 0.012987722642719746, 0.014569603838026524, 0.014678231440484524, 0.01971581019461155, 0.0018721193773671985, 0.00027305277762934566, 0.00998689979314804, -0.02354491502046585, -0.02229570411145687, 0.02461760677397251, -0.0024508980568498373, 0.01214586291462183, 0.020163897424936295, -0.0007451137062162161, 0.013999312184751034, -0.00191115727648139, -0.00576062873005867, 0.003004217054694891, 0.02875901386141777, 0.018941843882203102, -0.05401480570435524, -0.015329993329942226, -0.023164719343185425, -0.016416264697909355, 0.0010226218728348613, -0.01728527992963791, 0.003060227958485484, 0.013401863165199757, -0.006388628855347633, -0.002199698006734252, 0.012593949213624, 0.00573347182944417, 0.00322826043702662, 0.012655052356421947, 0.010462143458425999, -0.015004112385213375, 0.009939375333487988, 0.023300504311919212, 0.005146206822246313, -0.01339507382363081, 0.004687936510890722, -0.013727744109928608, 0.010258467867970467, -0.006768823601305485, -0.024088049307465553, 0.010597927495837212, -0.016239745542407036, -0.0020605195313692093, -0.007115072105079889, -0.013347549363970757, -0.02889479696750641, 0.01280441414564848, -0.008853104896843433, 0.014814014546573162, 0.019620761275291443, -0.032696742564439774, 0.0018840004922822118, -0.0019298275001347065, -0.00024101628514472395, -0.03171909973025322, -0.00692158006131649, 0.013435808941721916, -0.015873128548264503, -0.04662816599011421, 0.042174454778432846, -0.03600987046957016, -0.012410641647875309, 0.0015980058815330267, 0.00025883791386149824, 0.0047354609705507755, 0.012186598032712936, 0.21975253522396088, 0.009206143207848072, -0.0005753839504905045, 0.02039472945034504, -0.022621585056185722, -0.01704086922109127, 0.016226166859269142, 0.005835309624671936, -0.03478781506419182, 0.03489644080400467, -0.017814837396144867, 0.014325193129479885, -0.04222876951098442, 0.006504044868052006, 0.002467870945110917, 0.0076106833294034, -0.03478781506419182, -0.03842682018876076, -0.022784525528550148, 0.039458777755498886, 0.00024419871624559164, -0.015153474174439907, -0.01205760333687067, -0.0361456535756588, 0.023667119443416595, 0.019987378269433975, -0.004246639087796211, 0.016796458512544632, 0.03579261526465416, 0.004806747194379568, -0.003496433375403285, 0.014257301576435566, -0.00018277775961905718, 0.010828759521245956, -0.011337948963046074, -0.004300952423363924, 0.0012161138001829386, -0.014705387875437737, -0.00814702920615673, 0.004012411925941706, -0.013666641898453236, -0.012621106579899788, 0.005753839388489723, -0.01835797354578972, -0.02503853663802147, -0.00022977168555371463, -0.017624739557504654, -0.02093786559998989, -0.017230967059731483, 0.024590449407696724, -0.011758878827095032, -0.02700740285217762, 0.043450821191072464, 0.0341632105410099, 0.006690747570246458, -0.023205455392599106, 0.010434987023472786, 0.009939375333487988, 0.03204498067498207, 0.012960565276443958, -0.034733500331640244, 0.019172675907611847, -0.03280537202954292, -0.0027173736598342657, 0.0004765163466800004, 0.0013816003920510411, -0.014311614446341991, 0.013320392929017544, -0.002220065565779805, -0.014637496322393417, 0.0029923359397798777, -0.012098338454961777, -0.002250616904348135, 0.009525234811007977, -0.026912353932857513, -0.007468109950423241, 0.029709499329328537, 0.01073371060192585, -0.018344394862651825, 0.020353995263576508, 0.017801258713006973, -0.013944998383522034, -0.025744613260030746, -3.7287511077011004e-05, -0.012729733251035213, 0.006599093787372112, 0.021494578570127487, -0.02182045951485634, -0.023911530151963234, 0.01839870773255825, 0.014447398483753204, -0.02286599576473236, -0.034597717225551605, 0.012118706479668617, 0.0074477423913776875, 0.029981067404150963, 0.010645451955497265, 0.03348429128527641, -0.006680564023554325, 0.027564115822315216, -0.05086461827158928, 0.018385129049420357, 0.039350152015686035, 0.0009530326933600008, -0.03112165257334709, 0.018195031210780144, 0.005638423375785351, 0.03310409560799599, 0.021127963438630104, -0.018425865098834038, -0.021806880831718445, -0.013116717338562012, 0.010706554166972637, -9.239664359483868e-05, -0.0031298170797526836, 0.03342997655272484, -0.03014400787651539, -0.013069192878901958, 0.009885062463581562, -0.025187898427248, -0.007895829156041145, -0.01410793885588646, -0.0028854061383754015, 0.006018617656081915, -0.0304427333176136, -0.011079959571361542, -0.03603702783584595, 0.013639484532177448, -0.008167397230863571, -0.04236455261707306, 0.01572376675903797, -0.010706554166972637, 0.009511657059192657, 0.004243244417011738, -0.010190575383603573, -9.690509614301845e-05, 0.002647784538567066, -0.007094704546034336, -0.027143185958266258, -0.003243535989895463, 0.0009436975815333426, -0.038915641605854034, 0.025052115321159363, 0.0038460767827928066, 0.019240567460656166, -0.017244545742869377, 0.00962707307189703, -0.0002393189788563177, 0.004674357827752829, -0.02411520667374134, 0.0033284008968621492, -0.01982443779706955, -0.0015708490973338485, -0.03272389993071556, 0.0075835264287889, -0.030850084498524666, -0.01843944378197193, -0.04847482591867447, -0.038779858499765396, 0.004070119932293892, -0.019593605771660805, 0.007169385906308889, 0.03424467891454697, -0.020639140158891678, -0.01164346281439066, 0.0001057098270393908, -0.1728256493806839, 0.016090381890535355, 0.019335616379976273, -0.02000095695257187, 0.02043546549975872, 0.013204976916313171, 0.032316550612449646, 0.0151127390563488, -0.01146694365888834, -0.005227677058428526, 0.00962707307189703, -0.0028175143525004387, -0.02761842869222164, 0.004419763572514057, -0.009579548612236977, 0.024997800588607788, 0.004511417355388403, 0.009260457009077072, 0.001157557126134634, 0.0026545736473053694, 0.01903689093887806, -0.02786283940076828, 0.0165384691208601, -0.028161564841866493, -0.015941020101308823, 0.001197443576529622, -0.00971533264964819, 0.003757817205041647, -0.006212109699845314, -0.0035643253941088915, 0.018385129049420357, 0.016456998884677887, 0.042989157140254974, 0.002281168242916465, 0.002318508690223098, -0.00767857488244772, -0.005757234059274197, -0.007597104646265507, -0.008031613193452358, 0.015153474174439907, 0.020449044182896614, 0.029410775750875473, 0.02336839586496353, -0.024712655693292618, -0.00871732085943222, 0.02317829802632332, 0.02039472945034504, 0.010944175533950329, 0.03916005417704582, -0.012933408841490746, 0.0012296922504901886, -0.0425003357231617, -0.008472910150885582, 0.016674254089593887, -0.002469568280503154, 0.003513406263664365, -0.007210121024399996, 0.026165543124079704, 0.0037951578851789236, -0.0021657519973814487, -0.02514716424047947, -0.0023490600287914276, 0.02043546549975872, 0.002130108652636409, -0.030524203553795815, -0.025703877210617065, 0.002099557314068079, 0.006032196339219809, -0.009552392177283764, 0.012906252406537533, -0.0003454000980127603, -0.039350152015686035, -0.013524068519473076, -0.017013713717460632, 0.002802238566800952, -0.006137428805232048, -0.0044333417899906635, -0.00516996905207634, -0.01277046836912632, -0.004752433858811855, -0.009056780487298965, 0.032696742564439774, 0.016918664798140526, 0.008540802635252476, -0.006239266600459814, -0.019702233374118805, -0.00945055391639471, -0.012478533200919628, -0.004015806596726179, -0.00850006751716137, 0.003577903611585498, -0.03212645277380943, -0.008778424002230167, -0.03353860229253769, 0.016239745542407036, 0.019742967560887337, -0.017841994762420654, -0.006941948086023331, -0.011365105397999287, -0.024739813059568405, 0.011005278676748276, -0.024386774748563766, -0.009878273122012615, 0.03446193411946297, 0.017516113817691803, 0.02900342456996441, -0.020557669922709465, -0.006151007022708654, 0.05990782007575035, 0.004314531106501818, -0.0009623678051866591, 0.007719310000538826, 0.019403507933020592, 0.018955420702695847, -0.0031043575145304203, 0.01546577736735344, 0.012906252406537533, -0.00953881349414587, -0.006198531482368708, -0.005899806972593069, 0.037313394248485565, 0.032316550612449646, 0.0046438067220151424, 0.021738989278674126, 0.004986661020666361, 0.003155276644974947, -0.10542255640029907, -0.012526057660579681, 0.008853104896843433, 0.04415689781308174, 0.007413796614855528, 0.01689150743186474, -0.006578726228326559, 0.0027767792344093323, -0.051462069153785706, 0.03169194236397743, 0.013816003687679768, -0.018955420702695847, -0.003394595580175519, -0.00017779193876776844, 0.015438620001077652, -0.00962707307189703, -0.01019736472517252, -0.028487445786595345, -0.04154985025525093, 0.017584005370736122, -0.011297213844954967, -0.007318748161196709, 0.01461033895611763, -0.010489299893379211, -0.006225688382983208, -0.017977777868509293, -0.017027290537953377, 0.017230967059731483, 0.017841994762420654, 0.010387462563812733, -0.00034242981928400695, -0.0033182171173393726, 0.004755828529596329, -0.03169194236397743, -0.027034558355808258, -0.017584005370736122, -0.01134473830461502, 0.0186159610748291, 0.025676719844341278, -0.007006444968283176, 0.002720768330618739, -0.020476199686527252, 0.0181814543902874, -0.00584888830780983, 0.008696953766047955, -0.010143051855266094, -0.0030873846262693405, 0.02740117534995079, -0.0006742515251971781, -0.055888619273900986, -0.014868328347802162, 0.005434747319668531, -0.016633518040180206, 0.0035439578350633383, 0.018371550366282463, -0.019104784354567528, 0.026450688019394875, 0.007067548111081123, -0.014936219900846481, -0.00951844546943903, 0.015004112385213375, 0.026776568964123726, -0.011093538254499435, -0.0013204977149143815, 0.023381974548101425, 0.02078850381076336, -0.022703055292367935, -0.0013561409432440996, -0.005210704170167446, -0.014012889936566353, 0.005319331306964159, 0.005336304195225239, -0.020774925127625465, 0.0021385950967669487, -0.01660636067390442, -0.007244066800922155, -0.004480866249650717, 0.011595938354730606, -0.015058426186442375, -0.01993306539952755, -0.001984141068533063, -0.011066381819546223, 0.023354817181825638, -0.009070359170436859, 0.019064048305153847, 0.020204633474349976, -0.013673431240022182, 0.009559180587530136, 0.017353171482682228, 0.0014401571825146675, 0.006571936886757612, 0.008079137653112411, 0.0296823438256979, -0.012403852306306362, -0.0031518819741904736, 0.006938553415238857, 0.015275679528713226, -0.017230967059731483, -0.04326072707772255, 0.0357111431658268, -0.010950964875519276, 0.0033555575646460056, -0.07153091579675674, 0.02810725010931492, 0.01030599232763052, -0.011385473422706127, -0.0014172436203807592, -0.01811356097459793, 0.02615196444094181, -0.002265892457216978, 0.004691331181675196, 0.005034185014665127, -0.03364723175764084, -0.002647784538567066, 0.010917019098997116, -0.012302014045417309, -0.018819637596607208, 0.008208132348954678, 0.04518885537981987, 0.006425969302654266, 0.02440035343170166, 0.011765668168663979, 0.006052563898265362, -0.020978599786758423, 0.02821587771177292, 0.009016045369207859, -0.03304978087544441, -0.009511657059192657, 0.013904263265430927, -0.0025731034111231565, -0.005709709599614143, -0.007827937602996826, 0.01146694365888834, -0.006174769252538681, 0.010740499943494797, 0.032778214663267136, -0.0070879156701266766, -0.04594924673438072, 0.002106346422806382, 0.029139207676053047, 0.02122301049530506, 0.03869839012622833, -0.0007141380337998271, -0.030659986659884453, 0.009599915705621243, 0.016022490337491035, 0.006928369402885437, 0.007013234309852123, 0.010767657309770584, 0.009640651755034924, 0.0039920443668961525, 0.00440279021859169, -0.007990878075361252, 0.015873128548264503, -0.021480999886989594, 0.002332087140530348, -0.012546424753963947, 0.005136022809892893, -0.01030599232763052, 0.02374858967959881, -5.73169518247596e-06, -0.04393964633345604, 0.018846794962882996, -0.02422383427619934, -0.0009445461910218, -0.008262445218861103, 0.009552392177283764, 0.016389107331633568, 0.011276846751570702, 0.0054890611208975315, 0.010122683830559254, 0.001079481327906251, -0.005947331432253122, -0.016443420201539993, 0.011439787223935127, 0.021100806072354317, -0.0023728222586214542, -0.02746906690299511, -0.002506908727809787, 0.018887529149651527, -0.017801258713006973, 0.018167875707149506, 0.00014140612620394677, -0.021209433674812317, -0.018778901547193527, 0.012987722642719746, 0.04187573119997978, -0.0022472222335636616, -0.001139735453762114, 0.005295569077134132, 0.0013154058251529932, 0.020055269822478294, 0.011887873522937298, 0.024128785356879234, -0.007047180086374283, -0.012315592728555202, 0.006436153315007687, -0.021100806072354317, -0.019131939858198166, -0.007257645018398762, -0.01993306539952755, 0.008920997381210327, 0.0016871140105649829, -0.012763679027557373, -0.007793991360813379, -0.01708160527050495, -0.02768632024526596, 0.03000822477042675, -0.011514468118548393, -0.016945820301771164, -0.02589397504925728, 0.017135918140411377, 0.0014927734155207872, 0.035385262221097946, -0.029519403353333473, 0.0167557243257761, -0.010815181769430637, -0.012485322542488575, -0.017814837396144867, -0.031773414462804794, -0.017529690638184547, 0.03560251742601395, 0.008513645268976688, 0.017923464998602867, 0.013333971612155437, -0.00021566289069596678, 0.02689877524971962, -0.0067857964895665646, 0.020530514419078827, -0.03057851642370224, -0.00945055391639471, 0.005166574381291866, -0.009409818798303604, -0.0033979900181293488, 0.0036356118507683277, -0.021630363538861275, 0.0076106833294034, 0.005295569077134132, -0.017706209793686867, 0.021548893302679062, -0.02558167278766632, 0.060776837170124054, 0.014135096222162247, 0.0016616545617580414, 0.01660636067390442, -0.011779246851801872, 0.03400027006864548, -0.005926963873207569, -0.0011965949088335037, -0.003873233450576663, -0.020299680531024933, 0.002408465603366494, -0.0058658611960709095, 0.022920308634638786, -0.03057851642370224, -0.0066839586943387985, -0.006792585831135511, -0.013062403537333012, 0.02404731512069702, -0.010767657309770584, -0.00828960258513689, 0.013408652506768703, -0.019050469622015953, -0.004813536535948515, 0.02932930551469326, -0.014963377267122269, 0.0037476334255188704, 0.015778079628944397, 0.0101837869733572, -0.024142364040017128, -0.04787737503647804, -0.0003345798177178949, 0.03158331662416458, -0.04532463848590851, -0.008459332399070263, 0.013917841948568821, 0.006812953390181065, -0.01291304174810648, -0.00458949338644743, 0.025269368663430214, -0.03386448323726654, -0.023341238498687744, 0.027088873088359833, -0.01925414614379406, -0.00642936397343874, 0.005495849996805191, 0.01568303070962429, -0.014501712284982204, 0.012254489585757256, -0.01903689093887806] LIMIT 3;\n",
              "    \", consistency=Not Set>"
            ]
          },
          "metadata": {}
        }
      ],
      "source": [
        "# Use the embedding to find the information nearest to the question asked.\n",
        "query = SimpleStatement(\n",
        "    f\"\"\"\n",
        "    SELECT *\n",
        "    FROM squad\n",
        "    ORDER BY title_context_embedding ANN OF {embedding} LIMIT 3;\n",
        "    \"\"\"\n",
        "    )\n",
        "display(query)"
      ]
    },
    {
      "cell_type": "markdown",
      "metadata": {
        "id": "MMc2ZpL-3n1v"
      },
      "source": [
        "# **Find the top 3 results using ANN Similarity**"
      ]
    },
    {
      "cell_type": "code",
      "execution_count": null,
      "metadata": {
        "colab": {
          "base_uri": "https://localhost:8080/"
        },
        "id": "L2xxz1bn3oVg",
        "outputId": "abb216cb-f937-4b20-b171-85c5ebe24535"
      },
      "outputs": [
        {
          "output_type": "stream",
          "name": "stdout",
          "text": [
            "The College of Engineering was established in 1920, however, early courses in civil and mechanical engineering were a part of the College of Science since the 1870s. Today the college, housed in the Fitzpatrick, Cushing, and Stinson-Remick Halls of Engineering, includes five departments of study – aerospace and mechanical engineering, chemical and biomolecular engineering, civil engineering and geological sciences, computer science and engineering, and electrical engineering – with eight B.S. degrees offered. Additionally, the college offers five-year dual degree programs with the Colleges of Arts and Letters and of Business awarding additional B.A. and Master of Business Administration (MBA) degrees, respectively.\n",
            "\n",
            "The College of Science was established at the university in 1865 by president Father Patrick Dillon. Dillon's scientific courses were six years of work, including higher-level mathematics courses. Today the college, housed in the newly built Jordan Hall of Science, includes over 1,200 undergraduates in six departments of study – biology, chemistry, mathematics, physics, pre-professional studies, and applied and computational mathematics and statistics (ACMS) – each awarding Bachelor of Science (B.S.) degrees. According to university statistics, its science pre-professional program has one of the highest acceptance rates to medical school of any university in the United States.\n",
            "\n",
            "In 1842, the Bishop of Vincennes, Célestine Guynemer de la Hailandière, offered land to Father Edward Sorin of the Congregation of the Holy Cross, on the condition that he build a college in two years. Fr. Sorin arrived on the site with eight Holy Cross brothers from France and Ireland on November 26, 1842, and began the school using Father Stephen Badin's old log chapel. He soon erected additional buildings, including Old College, the first church, and the first main building. They immediately acquired two students and set about building additions to the campus.\n",
            "\n"
          ]
        }
      ],
      "source": [
        "results = session.execute(query)\n",
        "top_3_results = results._current_rows\n",
        "\n",
        "for row in top_3_results:\n",
        "  print(f\"\"\"{row.context}\\n\"\"\")"
      ]
    },
    {
      "cell_type": "markdown",
      "metadata": {
        "id": "NJT7kj6q7A1T"
      },
      "source": [
        "# **Ask ChatGPT for some help**\n",
        "\n",
        "* Here we build a prompt with which we'll query ChatGPT. Note the \"roles\" in this little conversation give the LLM more context about who that part of the conversation is coming from.\n",
        "* This may take 10-20 seconds to return, so be patient."
      ]
    },
    {
      "cell_type": "code",
      "execution_count": null,
      "metadata": {
        "colab": {
          "base_uri": "https://localhost:8080/"
        },
        "id": "MdNR6fLT7MUM",
        "outputId": "1191053f-09a7-49e2-c71f-80699ed6ad4a"
      },
      "outputs": [
        {
          "output_type": "stream",
          "name": "stdout",
          "text": [
            "The College of Engineering at the University of Notre Dame was established in 1920.\n"
          ]
        }
      ],
      "source": [
        "message_objects = []\n",
        "\n",
        "# With the role as 'system',  we tell the model how we want it to behave and tell it how its personality and type of response should be.\n",
        "message_objects.append({\"role\":\"system\",\n",
        "                        \"content\":\"You're a chatbot helping customers with questions.\"})\n",
        "\n",
        "# With the role as 'user',  pass the question from user.\n",
        "message_objects.append({\"role\":\"user\",\n",
        "                        \"content\": customer_input})\n",
        "\n",
        "answers_list = []\n",
        "\n",
        "# With the role as 'assistant',  load the results from Astra with Vector Search.  That helps the model to provide answer to the question asked by user.\n",
        "for row in top_3_results:\n",
        "    brand_dict = {'role': \"assistant\", \"content\": f\"{row.context}\"}\n",
        "    answers_list.append(brand_dict)\n",
        "\n",
        "message_objects.extend(answers_list)\n",
        "message_objects.append({\"role\": \"assistant\", \"content\":\"Here's my answer to your question.\"})\n",
        "\n",
        "completion = openai.ChatCompletion.create(\n",
        "  model=\"gpt-3.5-turbo\",\n",
        "  messages=message_objects\n",
        ")\n",
        "\n",
        "print(completion.choices[0].message['content'])"
      ]
    }
  ],
  "metadata": {
    "colab": {
      "provenance": []
    },
    "kernelspec": {
      "display_name": "Python 3 (ipykernel)",
      "language": "python",
      "name": "python3"
    },
    "language_info": {
      "codemirror_mode": {
        "name": "ipython",
        "version": 3
      },
      "file_extension": ".py",
      "mimetype": "text/x-python",
      "name": "python",
      "nbconvert_exporter": "python",
      "pygments_lexer": "ipython3",
      "version": "3.11.4"
    },
    "widgets": {
      "application/vnd.jupyter.widget-state+json": {
        "642ac802d3644a35b50f26ee58a1d7c4": {
          "model_module": "@jupyter-widgets/controls",
          "model_name": "HBoxModel",
          "model_module_version": "1.5.0",
          "state": {
            "_dom_classes": [],
            "_model_module": "@jupyter-widgets/controls",
            "_model_module_version": "1.5.0",
            "_model_name": "HBoxModel",
            "_view_count": null,
            "_view_module": "@jupyter-widgets/controls",
            "_view_module_version": "1.5.0",
            "_view_name": "HBoxView",
            "box_style": "",
            "children": [
              "IPY_MODEL_e189e4b7f6d246e797115fa2297d3eef",
              "IPY_MODEL_59119b98b656418e8fbeb9788f016e67",
              "IPY_MODEL_30fc68c9a02d45a5956ebc248cb71656"
            ],
            "layout": "IPY_MODEL_f7e787883e9746049f6385fda78ce300"
          }
        },
        "e189e4b7f6d246e797115fa2297d3eef": {
          "model_module": "@jupyter-widgets/controls",
          "model_name": "HTMLModel",
          "model_module_version": "1.5.0",
          "state": {
            "_dom_classes": [],
            "_model_module": "@jupyter-widgets/controls",
            "_model_module_version": "1.5.0",
            "_model_name": "HTMLModel",
            "_view_count": null,
            "_view_module": "@jupyter-widgets/controls",
            "_view_module_version": "1.5.0",
            "_view_name": "HTMLView",
            "description": "",
            "description_tooltip": null,
            "layout": "IPY_MODEL_9b4c6687a3c8494da0b921f0a31a76ca",
            "placeholder": "​",
            "style": "IPY_MODEL_3bac64707e874cb3920093d460bd793b",
            "value": "Downloading builder script: 100%"
          }
        },
        "59119b98b656418e8fbeb9788f016e67": {
          "model_module": "@jupyter-widgets/controls",
          "model_name": "FloatProgressModel",
          "model_module_version": "1.5.0",
          "state": {
            "_dom_classes": [],
            "_model_module": "@jupyter-widgets/controls",
            "_model_module_version": "1.5.0",
            "_model_name": "FloatProgressModel",
            "_view_count": null,
            "_view_module": "@jupyter-widgets/controls",
            "_view_module_version": "1.5.0",
            "_view_name": "ProgressView",
            "bar_style": "success",
            "description": "",
            "description_tooltip": null,
            "layout": "IPY_MODEL_115f7fa81dab4e80af0114825a00f37f",
            "max": 5274,
            "min": 0,
            "orientation": "horizontal",
            "style": "IPY_MODEL_800c6fbfbac8426ea5092907120b1cd5",
            "value": 5274
          }
        },
        "30fc68c9a02d45a5956ebc248cb71656": {
          "model_module": "@jupyter-widgets/controls",
          "model_name": "HTMLModel",
          "model_module_version": "1.5.0",
          "state": {
            "_dom_classes": [],
            "_model_module": "@jupyter-widgets/controls",
            "_model_module_version": "1.5.0",
            "_model_name": "HTMLModel",
            "_view_count": null,
            "_view_module": "@jupyter-widgets/controls",
            "_view_module_version": "1.5.0",
            "_view_name": "HTMLView",
            "description": "",
            "description_tooltip": null,
            "layout": "IPY_MODEL_38fb835a80114f958c6e93ce797f10a9",
            "placeholder": "​",
            "style": "IPY_MODEL_dac2d41f9dd74ba9bb1d5ec81ffb9e09",
            "value": " 5.27k/5.27k [00:00&lt;00:00, 346kB/s]"
          }
        },
        "f7e787883e9746049f6385fda78ce300": {
          "model_module": "@jupyter-widgets/base",
          "model_name": "LayoutModel",
          "model_module_version": "1.2.0",
          "state": {
            "_model_module": "@jupyter-widgets/base",
            "_model_module_version": "1.2.0",
            "_model_name": "LayoutModel",
            "_view_count": null,
            "_view_module": "@jupyter-widgets/base",
            "_view_module_version": "1.2.0",
            "_view_name": "LayoutView",
            "align_content": null,
            "align_items": null,
            "align_self": null,
            "border": null,
            "bottom": null,
            "display": null,
            "flex": null,
            "flex_flow": null,
            "grid_area": null,
            "grid_auto_columns": null,
            "grid_auto_flow": null,
            "grid_auto_rows": null,
            "grid_column": null,
            "grid_gap": null,
            "grid_row": null,
            "grid_template_areas": null,
            "grid_template_columns": null,
            "grid_template_rows": null,
            "height": null,
            "justify_content": null,
            "justify_items": null,
            "left": null,
            "margin": null,
            "max_height": null,
            "max_width": null,
            "min_height": null,
            "min_width": null,
            "object_fit": null,
            "object_position": null,
            "order": null,
            "overflow": null,
            "overflow_x": null,
            "overflow_y": null,
            "padding": null,
            "right": null,
            "top": null,
            "visibility": null,
            "width": null
          }
        },
        "9b4c6687a3c8494da0b921f0a31a76ca": {
          "model_module": "@jupyter-widgets/base",
          "model_name": "LayoutModel",
          "model_module_version": "1.2.0",
          "state": {
            "_model_module": "@jupyter-widgets/base",
            "_model_module_version": "1.2.0",
            "_model_name": "LayoutModel",
            "_view_count": null,
            "_view_module": "@jupyter-widgets/base",
            "_view_module_version": "1.2.0",
            "_view_name": "LayoutView",
            "align_content": null,
            "align_items": null,
            "align_self": null,
            "border": null,
            "bottom": null,
            "display": null,
            "flex": null,
            "flex_flow": null,
            "grid_area": null,
            "grid_auto_columns": null,
            "grid_auto_flow": null,
            "grid_auto_rows": null,
            "grid_column": null,
            "grid_gap": null,
            "grid_row": null,
            "grid_template_areas": null,
            "grid_template_columns": null,
            "grid_template_rows": null,
            "height": null,
            "justify_content": null,
            "justify_items": null,
            "left": null,
            "margin": null,
            "max_height": null,
            "max_width": null,
            "min_height": null,
            "min_width": null,
            "object_fit": null,
            "object_position": null,
            "order": null,
            "overflow": null,
            "overflow_x": null,
            "overflow_y": null,
            "padding": null,
            "right": null,
            "top": null,
            "visibility": null,
            "width": null
          }
        },
        "3bac64707e874cb3920093d460bd793b": {
          "model_module": "@jupyter-widgets/controls",
          "model_name": "DescriptionStyleModel",
          "model_module_version": "1.5.0",
          "state": {
            "_model_module": "@jupyter-widgets/controls",
            "_model_module_version": "1.5.0",
            "_model_name": "DescriptionStyleModel",
            "_view_count": null,
            "_view_module": "@jupyter-widgets/base",
            "_view_module_version": "1.2.0",
            "_view_name": "StyleView",
            "description_width": ""
          }
        },
        "115f7fa81dab4e80af0114825a00f37f": {
          "model_module": "@jupyter-widgets/base",
          "model_name": "LayoutModel",
          "model_module_version": "1.2.0",
          "state": {
            "_model_module": "@jupyter-widgets/base",
            "_model_module_version": "1.2.0",
            "_model_name": "LayoutModel",
            "_view_count": null,
            "_view_module": "@jupyter-widgets/base",
            "_view_module_version": "1.2.0",
            "_view_name": "LayoutView",
            "align_content": null,
            "align_items": null,
            "align_self": null,
            "border": null,
            "bottom": null,
            "display": null,
            "flex": null,
            "flex_flow": null,
            "grid_area": null,
            "grid_auto_columns": null,
            "grid_auto_flow": null,
            "grid_auto_rows": null,
            "grid_column": null,
            "grid_gap": null,
            "grid_row": null,
            "grid_template_areas": null,
            "grid_template_columns": null,
            "grid_template_rows": null,
            "height": null,
            "justify_content": null,
            "justify_items": null,
            "left": null,
            "margin": null,
            "max_height": null,
            "max_width": null,
            "min_height": null,
            "min_width": null,
            "object_fit": null,
            "object_position": null,
            "order": null,
            "overflow": null,
            "overflow_x": null,
            "overflow_y": null,
            "padding": null,
            "right": null,
            "top": null,
            "visibility": null,
            "width": null
          }
        },
        "800c6fbfbac8426ea5092907120b1cd5": {
          "model_module": "@jupyter-widgets/controls",
          "model_name": "ProgressStyleModel",
          "model_module_version": "1.5.0",
          "state": {
            "_model_module": "@jupyter-widgets/controls",
            "_model_module_version": "1.5.0",
            "_model_name": "ProgressStyleModel",
            "_view_count": null,
            "_view_module": "@jupyter-widgets/base",
            "_view_module_version": "1.2.0",
            "_view_name": "StyleView",
            "bar_color": null,
            "description_width": ""
          }
        },
        "38fb835a80114f958c6e93ce797f10a9": {
          "model_module": "@jupyter-widgets/base",
          "model_name": "LayoutModel",
          "model_module_version": "1.2.0",
          "state": {
            "_model_module": "@jupyter-widgets/base",
            "_model_module_version": "1.2.0",
            "_model_name": "LayoutModel",
            "_view_count": null,
            "_view_module": "@jupyter-widgets/base",
            "_view_module_version": "1.2.0",
            "_view_name": "LayoutView",
            "align_content": null,
            "align_items": null,
            "align_self": null,
            "border": null,
            "bottom": null,
            "display": null,
            "flex": null,
            "flex_flow": null,
            "grid_area": null,
            "grid_auto_columns": null,
            "grid_auto_flow": null,
            "grid_auto_rows": null,
            "grid_column": null,
            "grid_gap": null,
            "grid_row": null,
            "grid_template_areas": null,
            "grid_template_columns": null,
            "grid_template_rows": null,
            "height": null,
            "justify_content": null,
            "justify_items": null,
            "left": null,
            "margin": null,
            "max_height": null,
            "max_width": null,
            "min_height": null,
            "min_width": null,
            "object_fit": null,
            "object_position": null,
            "order": null,
            "overflow": null,
            "overflow_x": null,
            "overflow_y": null,
            "padding": null,
            "right": null,
            "top": null,
            "visibility": null,
            "width": null
          }
        },
        "dac2d41f9dd74ba9bb1d5ec81ffb9e09": {
          "model_module": "@jupyter-widgets/controls",
          "model_name": "DescriptionStyleModel",
          "model_module_version": "1.5.0",
          "state": {
            "_model_module": "@jupyter-widgets/controls",
            "_model_module_version": "1.5.0",
            "_model_name": "DescriptionStyleModel",
            "_view_count": null,
            "_view_module": "@jupyter-widgets/base",
            "_view_module_version": "1.2.0",
            "_view_name": "StyleView",
            "description_width": ""
          }
        },
        "e8ee6d79c9a747eebfc980b82034a608": {
          "model_module": "@jupyter-widgets/controls",
          "model_name": "HBoxModel",
          "model_module_version": "1.5.0",
          "state": {
            "_dom_classes": [],
            "_model_module": "@jupyter-widgets/controls",
            "_model_module_version": "1.5.0",
            "_model_name": "HBoxModel",
            "_view_count": null,
            "_view_module": "@jupyter-widgets/controls",
            "_view_module_version": "1.5.0",
            "_view_name": "HBoxView",
            "box_style": "",
            "children": [
              "IPY_MODEL_3003a0e762da44a9a9b22caa3db628e2",
              "IPY_MODEL_8810dab745e14fb386e13528b4cb3717",
              "IPY_MODEL_e14b50871fcc4b639f4348ab80aec745"
            ],
            "layout": "IPY_MODEL_c05d99e9681b4e4ba9027ac289c83aa1"
          }
        },
        "3003a0e762da44a9a9b22caa3db628e2": {
          "model_module": "@jupyter-widgets/controls",
          "model_name": "HTMLModel",
          "model_module_version": "1.5.0",
          "state": {
            "_dom_classes": [],
            "_model_module": "@jupyter-widgets/controls",
            "_model_module_version": "1.5.0",
            "_model_name": "HTMLModel",
            "_view_count": null,
            "_view_module": "@jupyter-widgets/controls",
            "_view_module_version": "1.5.0",
            "_view_name": "HTMLView",
            "description": "",
            "description_tooltip": null,
            "layout": "IPY_MODEL_47b5aa1f690c41bd8ae98acf2cd92638",
            "placeholder": "​",
            "style": "IPY_MODEL_86ebf1e191f7495a9ae29fc5449d6451",
            "value": "Downloading metadata: 100%"
          }
        },
        "8810dab745e14fb386e13528b4cb3717": {
          "model_module": "@jupyter-widgets/controls",
          "model_name": "FloatProgressModel",
          "model_module_version": "1.5.0",
          "state": {
            "_dom_classes": [],
            "_model_module": "@jupyter-widgets/controls",
            "_model_module_version": "1.5.0",
            "_model_name": "FloatProgressModel",
            "_view_count": null,
            "_view_module": "@jupyter-widgets/controls",
            "_view_module_version": "1.5.0",
            "_view_name": "ProgressView",
            "bar_style": "success",
            "description": "",
            "description_tooltip": null,
            "layout": "IPY_MODEL_e92fdb10d8904e568324157ca00d1427",
            "max": 2360,
            "min": 0,
            "orientation": "horizontal",
            "style": "IPY_MODEL_4019f1894eac411aa463b2f4698bd327",
            "value": 2360
          }
        },
        "e14b50871fcc4b639f4348ab80aec745": {
          "model_module": "@jupyter-widgets/controls",
          "model_name": "HTMLModel",
          "model_module_version": "1.5.0",
          "state": {
            "_dom_classes": [],
            "_model_module": "@jupyter-widgets/controls",
            "_model_module_version": "1.5.0",
            "_model_name": "HTMLModel",
            "_view_count": null,
            "_view_module": "@jupyter-widgets/controls",
            "_view_module_version": "1.5.0",
            "_view_name": "HTMLView",
            "description": "",
            "description_tooltip": null,
            "layout": "IPY_MODEL_18dba20a871f41e3a06aa43bd2a14c13",
            "placeholder": "​",
            "style": "IPY_MODEL_6675e5738c9041d38fd5a49a565d49f9",
            "value": " 2.36k/2.36k [00:00&lt;00:00, 176kB/s]"
          }
        },
        "c05d99e9681b4e4ba9027ac289c83aa1": {
          "model_module": "@jupyter-widgets/base",
          "model_name": "LayoutModel",
          "model_module_version": "1.2.0",
          "state": {
            "_model_module": "@jupyter-widgets/base",
            "_model_module_version": "1.2.0",
            "_model_name": "LayoutModel",
            "_view_count": null,
            "_view_module": "@jupyter-widgets/base",
            "_view_module_version": "1.2.0",
            "_view_name": "LayoutView",
            "align_content": null,
            "align_items": null,
            "align_self": null,
            "border": null,
            "bottom": null,
            "display": null,
            "flex": null,
            "flex_flow": null,
            "grid_area": null,
            "grid_auto_columns": null,
            "grid_auto_flow": null,
            "grid_auto_rows": null,
            "grid_column": null,
            "grid_gap": null,
            "grid_row": null,
            "grid_template_areas": null,
            "grid_template_columns": null,
            "grid_template_rows": null,
            "height": null,
            "justify_content": null,
            "justify_items": null,
            "left": null,
            "margin": null,
            "max_height": null,
            "max_width": null,
            "min_height": null,
            "min_width": null,
            "object_fit": null,
            "object_position": null,
            "order": null,
            "overflow": null,
            "overflow_x": null,
            "overflow_y": null,
            "padding": null,
            "right": null,
            "top": null,
            "visibility": null,
            "width": null
          }
        },
        "47b5aa1f690c41bd8ae98acf2cd92638": {
          "model_module": "@jupyter-widgets/base",
          "model_name": "LayoutModel",
          "model_module_version": "1.2.0",
          "state": {
            "_model_module": "@jupyter-widgets/base",
            "_model_module_version": "1.2.0",
            "_model_name": "LayoutModel",
            "_view_count": null,
            "_view_module": "@jupyter-widgets/base",
            "_view_module_version": "1.2.0",
            "_view_name": "LayoutView",
            "align_content": null,
            "align_items": null,
            "align_self": null,
            "border": null,
            "bottom": null,
            "display": null,
            "flex": null,
            "flex_flow": null,
            "grid_area": null,
            "grid_auto_columns": null,
            "grid_auto_flow": null,
            "grid_auto_rows": null,
            "grid_column": null,
            "grid_gap": null,
            "grid_row": null,
            "grid_template_areas": null,
            "grid_template_columns": null,
            "grid_template_rows": null,
            "height": null,
            "justify_content": null,
            "justify_items": null,
            "left": null,
            "margin": null,
            "max_height": null,
            "max_width": null,
            "min_height": null,
            "min_width": null,
            "object_fit": null,
            "object_position": null,
            "order": null,
            "overflow": null,
            "overflow_x": null,
            "overflow_y": null,
            "padding": null,
            "right": null,
            "top": null,
            "visibility": null,
            "width": null
          }
        },
        "86ebf1e191f7495a9ae29fc5449d6451": {
          "model_module": "@jupyter-widgets/controls",
          "model_name": "DescriptionStyleModel",
          "model_module_version": "1.5.0",
          "state": {
            "_model_module": "@jupyter-widgets/controls",
            "_model_module_version": "1.5.0",
            "_model_name": "DescriptionStyleModel",
            "_view_count": null,
            "_view_module": "@jupyter-widgets/base",
            "_view_module_version": "1.2.0",
            "_view_name": "StyleView",
            "description_width": ""
          }
        },
        "e92fdb10d8904e568324157ca00d1427": {
          "model_module": "@jupyter-widgets/base",
          "model_name": "LayoutModel",
          "model_module_version": "1.2.0",
          "state": {
            "_model_module": "@jupyter-widgets/base",
            "_model_module_version": "1.2.0",
            "_model_name": "LayoutModel",
            "_view_count": null,
            "_view_module": "@jupyter-widgets/base",
            "_view_module_version": "1.2.0",
            "_view_name": "LayoutView",
            "align_content": null,
            "align_items": null,
            "align_self": null,
            "border": null,
            "bottom": null,
            "display": null,
            "flex": null,
            "flex_flow": null,
            "grid_area": null,
            "grid_auto_columns": null,
            "grid_auto_flow": null,
            "grid_auto_rows": null,
            "grid_column": null,
            "grid_gap": null,
            "grid_row": null,
            "grid_template_areas": null,
            "grid_template_columns": null,
            "grid_template_rows": null,
            "height": null,
            "justify_content": null,
            "justify_items": null,
            "left": null,
            "margin": null,
            "max_height": null,
            "max_width": null,
            "min_height": null,
            "min_width": null,
            "object_fit": null,
            "object_position": null,
            "order": null,
            "overflow": null,
            "overflow_x": null,
            "overflow_y": null,
            "padding": null,
            "right": null,
            "top": null,
            "visibility": null,
            "width": null
          }
        },
        "4019f1894eac411aa463b2f4698bd327": {
          "model_module": "@jupyter-widgets/controls",
          "model_name": "ProgressStyleModel",
          "model_module_version": "1.5.0",
          "state": {
            "_model_module": "@jupyter-widgets/controls",
            "_model_module_version": "1.5.0",
            "_model_name": "ProgressStyleModel",
            "_view_count": null,
            "_view_module": "@jupyter-widgets/base",
            "_view_module_version": "1.2.0",
            "_view_name": "StyleView",
            "bar_color": null,
            "description_width": ""
          }
        },
        "18dba20a871f41e3a06aa43bd2a14c13": {
          "model_module": "@jupyter-widgets/base",
          "model_name": "LayoutModel",
          "model_module_version": "1.2.0",
          "state": {
            "_model_module": "@jupyter-widgets/base",
            "_model_module_version": "1.2.0",
            "_model_name": "LayoutModel",
            "_view_count": null,
            "_view_module": "@jupyter-widgets/base",
            "_view_module_version": "1.2.0",
            "_view_name": "LayoutView",
            "align_content": null,
            "align_items": null,
            "align_self": null,
            "border": null,
            "bottom": null,
            "display": null,
            "flex": null,
            "flex_flow": null,
            "grid_area": null,
            "grid_auto_columns": null,
            "grid_auto_flow": null,
            "grid_auto_rows": null,
            "grid_column": null,
            "grid_gap": null,
            "grid_row": null,
            "grid_template_areas": null,
            "grid_template_columns": null,
            "grid_template_rows": null,
            "height": null,
            "justify_content": null,
            "justify_items": null,
            "left": null,
            "margin": null,
            "max_height": null,
            "max_width": null,
            "min_height": null,
            "min_width": null,
            "object_fit": null,
            "object_position": null,
            "order": null,
            "overflow": null,
            "overflow_x": null,
            "overflow_y": null,
            "padding": null,
            "right": null,
            "top": null,
            "visibility": null,
            "width": null
          }
        },
        "6675e5738c9041d38fd5a49a565d49f9": {
          "model_module": "@jupyter-widgets/controls",
          "model_name": "DescriptionStyleModel",
          "model_module_version": "1.5.0",
          "state": {
            "_model_module": "@jupyter-widgets/controls",
            "_model_module_version": "1.5.0",
            "_model_name": "DescriptionStyleModel",
            "_view_count": null,
            "_view_module": "@jupyter-widgets/base",
            "_view_module_version": "1.2.0",
            "_view_name": "StyleView",
            "description_width": ""
          }
        },
        "d1716834531e40c684dbddaf8559837c": {
          "model_module": "@jupyter-widgets/controls",
          "model_name": "HBoxModel",
          "model_module_version": "1.5.0",
          "state": {
            "_dom_classes": [],
            "_model_module": "@jupyter-widgets/controls",
            "_model_module_version": "1.5.0",
            "_model_name": "HBoxModel",
            "_view_count": null,
            "_view_module": "@jupyter-widgets/controls",
            "_view_module_version": "1.5.0",
            "_view_name": "HBoxView",
            "box_style": "",
            "children": [
              "IPY_MODEL_cc89fd69a43c44d4a77f550b9574e84a",
              "IPY_MODEL_747cba1eada641faa549ea005fc85460",
              "IPY_MODEL_e0bf8d7849d44cc7b790e1e213e2fc36"
            ],
            "layout": "IPY_MODEL_f38af1341a9d45119a80f339448ab6b5"
          }
        },
        "cc89fd69a43c44d4a77f550b9574e84a": {
          "model_module": "@jupyter-widgets/controls",
          "model_name": "HTMLModel",
          "model_module_version": "1.5.0",
          "state": {
            "_dom_classes": [],
            "_model_module": "@jupyter-widgets/controls",
            "_model_module_version": "1.5.0",
            "_model_name": "HTMLModel",
            "_view_count": null,
            "_view_module": "@jupyter-widgets/controls",
            "_view_module_version": "1.5.0",
            "_view_name": "HTMLView",
            "description": "",
            "description_tooltip": null,
            "layout": "IPY_MODEL_be7386dc72dc46c7b30dd7286fa8a284",
            "placeholder": "​",
            "style": "IPY_MODEL_e7bbdfaf1334462199ad16c8c63813b0",
            "value": "Downloading readme: 100%"
          }
        },
        "747cba1eada641faa549ea005fc85460": {
          "model_module": "@jupyter-widgets/controls",
          "model_name": "FloatProgressModel",
          "model_module_version": "1.5.0",
          "state": {
            "_dom_classes": [],
            "_model_module": "@jupyter-widgets/controls",
            "_model_module_version": "1.5.0",
            "_model_name": "FloatProgressModel",
            "_view_count": null,
            "_view_module": "@jupyter-widgets/controls",
            "_view_module_version": "1.5.0",
            "_view_name": "ProgressView",
            "bar_style": "success",
            "description": "",
            "description_tooltip": null,
            "layout": "IPY_MODEL_39910c7ee11a4e7284fb69b4d3b61a33",
            "max": 7665,
            "min": 0,
            "orientation": "horizontal",
            "style": "IPY_MODEL_a2d28a2cec1d41d291c89498733941eb",
            "value": 7665
          }
        },
        "e0bf8d7849d44cc7b790e1e213e2fc36": {
          "model_module": "@jupyter-widgets/controls",
          "model_name": "HTMLModel",
          "model_module_version": "1.5.0",
          "state": {
            "_dom_classes": [],
            "_model_module": "@jupyter-widgets/controls",
            "_model_module_version": "1.5.0",
            "_model_name": "HTMLModel",
            "_view_count": null,
            "_view_module": "@jupyter-widgets/controls",
            "_view_module_version": "1.5.0",
            "_view_name": "HTMLView",
            "description": "",
            "description_tooltip": null,
            "layout": "IPY_MODEL_0ab8695969c349bd80a27cf7641b2d5b",
            "placeholder": "​",
            "style": "IPY_MODEL_6d15e20987814d6dbf8314dea54b0c3e",
            "value": " 7.67k/7.67k [00:00&lt;00:00, 567kB/s]"
          }
        },
        "f38af1341a9d45119a80f339448ab6b5": {
          "model_module": "@jupyter-widgets/base",
          "model_name": "LayoutModel",
          "model_module_version": "1.2.0",
          "state": {
            "_model_module": "@jupyter-widgets/base",
            "_model_module_version": "1.2.0",
            "_model_name": "LayoutModel",
            "_view_count": null,
            "_view_module": "@jupyter-widgets/base",
            "_view_module_version": "1.2.0",
            "_view_name": "LayoutView",
            "align_content": null,
            "align_items": null,
            "align_self": null,
            "border": null,
            "bottom": null,
            "display": null,
            "flex": null,
            "flex_flow": null,
            "grid_area": null,
            "grid_auto_columns": null,
            "grid_auto_flow": null,
            "grid_auto_rows": null,
            "grid_column": null,
            "grid_gap": null,
            "grid_row": null,
            "grid_template_areas": null,
            "grid_template_columns": null,
            "grid_template_rows": null,
            "height": null,
            "justify_content": null,
            "justify_items": null,
            "left": null,
            "margin": null,
            "max_height": null,
            "max_width": null,
            "min_height": null,
            "min_width": null,
            "object_fit": null,
            "object_position": null,
            "order": null,
            "overflow": null,
            "overflow_x": null,
            "overflow_y": null,
            "padding": null,
            "right": null,
            "top": null,
            "visibility": null,
            "width": null
          }
        },
        "be7386dc72dc46c7b30dd7286fa8a284": {
          "model_module": "@jupyter-widgets/base",
          "model_name": "LayoutModel",
          "model_module_version": "1.2.0",
          "state": {
            "_model_module": "@jupyter-widgets/base",
            "_model_module_version": "1.2.0",
            "_model_name": "LayoutModel",
            "_view_count": null,
            "_view_module": "@jupyter-widgets/base",
            "_view_module_version": "1.2.0",
            "_view_name": "LayoutView",
            "align_content": null,
            "align_items": null,
            "align_self": null,
            "border": null,
            "bottom": null,
            "display": null,
            "flex": null,
            "flex_flow": null,
            "grid_area": null,
            "grid_auto_columns": null,
            "grid_auto_flow": null,
            "grid_auto_rows": null,
            "grid_column": null,
            "grid_gap": null,
            "grid_row": null,
            "grid_template_areas": null,
            "grid_template_columns": null,
            "grid_template_rows": null,
            "height": null,
            "justify_content": null,
            "justify_items": null,
            "left": null,
            "margin": null,
            "max_height": null,
            "max_width": null,
            "min_height": null,
            "min_width": null,
            "object_fit": null,
            "object_position": null,
            "order": null,
            "overflow": null,
            "overflow_x": null,
            "overflow_y": null,
            "padding": null,
            "right": null,
            "top": null,
            "visibility": null,
            "width": null
          }
        },
        "e7bbdfaf1334462199ad16c8c63813b0": {
          "model_module": "@jupyter-widgets/controls",
          "model_name": "DescriptionStyleModel",
          "model_module_version": "1.5.0",
          "state": {
            "_model_module": "@jupyter-widgets/controls",
            "_model_module_version": "1.5.0",
            "_model_name": "DescriptionStyleModel",
            "_view_count": null,
            "_view_module": "@jupyter-widgets/base",
            "_view_module_version": "1.2.0",
            "_view_name": "StyleView",
            "description_width": ""
          }
        },
        "39910c7ee11a4e7284fb69b4d3b61a33": {
          "model_module": "@jupyter-widgets/base",
          "model_name": "LayoutModel",
          "model_module_version": "1.2.0",
          "state": {
            "_model_module": "@jupyter-widgets/base",
            "_model_module_version": "1.2.0",
            "_model_name": "LayoutModel",
            "_view_count": null,
            "_view_module": "@jupyter-widgets/base",
            "_view_module_version": "1.2.0",
            "_view_name": "LayoutView",
            "align_content": null,
            "align_items": null,
            "align_self": null,
            "border": null,
            "bottom": null,
            "display": null,
            "flex": null,
            "flex_flow": null,
            "grid_area": null,
            "grid_auto_columns": null,
            "grid_auto_flow": null,
            "grid_auto_rows": null,
            "grid_column": null,
            "grid_gap": null,
            "grid_row": null,
            "grid_template_areas": null,
            "grid_template_columns": null,
            "grid_template_rows": null,
            "height": null,
            "justify_content": null,
            "justify_items": null,
            "left": null,
            "margin": null,
            "max_height": null,
            "max_width": null,
            "min_height": null,
            "min_width": null,
            "object_fit": null,
            "object_position": null,
            "order": null,
            "overflow": null,
            "overflow_x": null,
            "overflow_y": null,
            "padding": null,
            "right": null,
            "top": null,
            "visibility": null,
            "width": null
          }
        },
        "a2d28a2cec1d41d291c89498733941eb": {
          "model_module": "@jupyter-widgets/controls",
          "model_name": "ProgressStyleModel",
          "model_module_version": "1.5.0",
          "state": {
            "_model_module": "@jupyter-widgets/controls",
            "_model_module_version": "1.5.0",
            "_model_name": "ProgressStyleModel",
            "_view_count": null,
            "_view_module": "@jupyter-widgets/base",
            "_view_module_version": "1.2.0",
            "_view_name": "StyleView",
            "bar_color": null,
            "description_width": ""
          }
        },
        "0ab8695969c349bd80a27cf7641b2d5b": {
          "model_module": "@jupyter-widgets/base",
          "model_name": "LayoutModel",
          "model_module_version": "1.2.0",
          "state": {
            "_model_module": "@jupyter-widgets/base",
            "_model_module_version": "1.2.0",
            "_model_name": "LayoutModel",
            "_view_count": null,
            "_view_module": "@jupyter-widgets/base",
            "_view_module_version": "1.2.0",
            "_view_name": "LayoutView",
            "align_content": null,
            "align_items": null,
            "align_self": null,
            "border": null,
            "bottom": null,
            "display": null,
            "flex": null,
            "flex_flow": null,
            "grid_area": null,
            "grid_auto_columns": null,
            "grid_auto_flow": null,
            "grid_auto_rows": null,
            "grid_column": null,
            "grid_gap": null,
            "grid_row": null,
            "grid_template_areas": null,
            "grid_template_columns": null,
            "grid_template_rows": null,
            "height": null,
            "justify_content": null,
            "justify_items": null,
            "left": null,
            "margin": null,
            "max_height": null,
            "max_width": null,
            "min_height": null,
            "min_width": null,
            "object_fit": null,
            "object_position": null,
            "order": null,
            "overflow": null,
            "overflow_x": null,
            "overflow_y": null,
            "padding": null,
            "right": null,
            "top": null,
            "visibility": null,
            "width": null
          }
        },
        "6d15e20987814d6dbf8314dea54b0c3e": {
          "model_module": "@jupyter-widgets/controls",
          "model_name": "DescriptionStyleModel",
          "model_module_version": "1.5.0",
          "state": {
            "_model_module": "@jupyter-widgets/controls",
            "_model_module_version": "1.5.0",
            "_model_name": "DescriptionStyleModel",
            "_view_count": null,
            "_view_module": "@jupyter-widgets/base",
            "_view_module_version": "1.2.0",
            "_view_name": "StyleView",
            "description_width": ""
          }
        },
        "873ab45f3c32468eb845ed74be9fd989": {
          "model_module": "@jupyter-widgets/controls",
          "model_name": "HBoxModel",
          "model_module_version": "1.5.0",
          "state": {
            "_dom_classes": [],
            "_model_module": "@jupyter-widgets/controls",
            "_model_module_version": "1.5.0",
            "_model_name": "HBoxModel",
            "_view_count": null,
            "_view_module": "@jupyter-widgets/controls",
            "_view_module_version": "1.5.0",
            "_view_name": "HBoxView",
            "box_style": "",
            "children": [
              "IPY_MODEL_b1f45cb7d9904e938aef152613e8b80a",
              "IPY_MODEL_ffe05fac0c8c42e4800b40b8a6870cd8",
              "IPY_MODEL_70a4f679223b4705bd42ec58cbf34d6b"
            ],
            "layout": "IPY_MODEL_368d33c00b0b4121b46309c8eb62380b"
          }
        },
        "b1f45cb7d9904e938aef152613e8b80a": {
          "model_module": "@jupyter-widgets/controls",
          "model_name": "HTMLModel",
          "model_module_version": "1.5.0",
          "state": {
            "_dom_classes": [],
            "_model_module": "@jupyter-widgets/controls",
            "_model_module_version": "1.5.0",
            "_model_name": "HTMLModel",
            "_view_count": null,
            "_view_module": "@jupyter-widgets/controls",
            "_view_module_version": "1.5.0",
            "_view_name": "HTMLView",
            "description": "",
            "description_tooltip": null,
            "layout": "IPY_MODEL_a8b83b84896547268822b13d1565ba7d",
            "placeholder": "​",
            "style": "IPY_MODEL_6891b1dd7e9442b98f27991701af94b5",
            "value": "Downloading data files: 100%"
          }
        },
        "ffe05fac0c8c42e4800b40b8a6870cd8": {
          "model_module": "@jupyter-widgets/controls",
          "model_name": "FloatProgressModel",
          "model_module_version": "1.5.0",
          "state": {
            "_dom_classes": [],
            "_model_module": "@jupyter-widgets/controls",
            "_model_module_version": "1.5.0",
            "_model_name": "FloatProgressModel",
            "_view_count": null,
            "_view_module": "@jupyter-widgets/controls",
            "_view_module_version": "1.5.0",
            "_view_name": "ProgressView",
            "bar_style": "success",
            "description": "",
            "description_tooltip": null,
            "layout": "IPY_MODEL_74cbbbcff5f645f584be64678ed0a1bb",
            "max": 2,
            "min": 0,
            "orientation": "horizontal",
            "style": "IPY_MODEL_b56a3335b3424f40920c37df69d34de3",
            "value": 2
          }
        },
        "70a4f679223b4705bd42ec58cbf34d6b": {
          "model_module": "@jupyter-widgets/controls",
          "model_name": "HTMLModel",
          "model_module_version": "1.5.0",
          "state": {
            "_dom_classes": [],
            "_model_module": "@jupyter-widgets/controls",
            "_model_module_version": "1.5.0",
            "_model_name": "HTMLModel",
            "_view_count": null,
            "_view_module": "@jupyter-widgets/controls",
            "_view_module_version": "1.5.0",
            "_view_name": "HTMLView",
            "description": "",
            "description_tooltip": null,
            "layout": "IPY_MODEL_9d06690887924ad9b36d95076d4b63a9",
            "placeholder": "​",
            "style": "IPY_MODEL_1338f451dcf24b5a9f111d9a7ecde09d",
            "value": " 2/2 [00:00&lt;00:00,  2.75it/s]"
          }
        },
        "368d33c00b0b4121b46309c8eb62380b": {
          "model_module": "@jupyter-widgets/base",
          "model_name": "LayoutModel",
          "model_module_version": "1.2.0",
          "state": {
            "_model_module": "@jupyter-widgets/base",
            "_model_module_version": "1.2.0",
            "_model_name": "LayoutModel",
            "_view_count": null,
            "_view_module": "@jupyter-widgets/base",
            "_view_module_version": "1.2.0",
            "_view_name": "LayoutView",
            "align_content": null,
            "align_items": null,
            "align_self": null,
            "border": null,
            "bottom": null,
            "display": null,
            "flex": null,
            "flex_flow": null,
            "grid_area": null,
            "grid_auto_columns": null,
            "grid_auto_flow": null,
            "grid_auto_rows": null,
            "grid_column": null,
            "grid_gap": null,
            "grid_row": null,
            "grid_template_areas": null,
            "grid_template_columns": null,
            "grid_template_rows": null,
            "height": null,
            "justify_content": null,
            "justify_items": null,
            "left": null,
            "margin": null,
            "max_height": null,
            "max_width": null,
            "min_height": null,
            "min_width": null,
            "object_fit": null,
            "object_position": null,
            "order": null,
            "overflow": null,
            "overflow_x": null,
            "overflow_y": null,
            "padding": null,
            "right": null,
            "top": null,
            "visibility": null,
            "width": null
          }
        },
        "a8b83b84896547268822b13d1565ba7d": {
          "model_module": "@jupyter-widgets/base",
          "model_name": "LayoutModel",
          "model_module_version": "1.2.0",
          "state": {
            "_model_module": "@jupyter-widgets/base",
            "_model_module_version": "1.2.0",
            "_model_name": "LayoutModel",
            "_view_count": null,
            "_view_module": "@jupyter-widgets/base",
            "_view_module_version": "1.2.0",
            "_view_name": "LayoutView",
            "align_content": null,
            "align_items": null,
            "align_self": null,
            "border": null,
            "bottom": null,
            "display": null,
            "flex": null,
            "flex_flow": null,
            "grid_area": null,
            "grid_auto_columns": null,
            "grid_auto_flow": null,
            "grid_auto_rows": null,
            "grid_column": null,
            "grid_gap": null,
            "grid_row": null,
            "grid_template_areas": null,
            "grid_template_columns": null,
            "grid_template_rows": null,
            "height": null,
            "justify_content": null,
            "justify_items": null,
            "left": null,
            "margin": null,
            "max_height": null,
            "max_width": null,
            "min_height": null,
            "min_width": null,
            "object_fit": null,
            "object_position": null,
            "order": null,
            "overflow": null,
            "overflow_x": null,
            "overflow_y": null,
            "padding": null,
            "right": null,
            "top": null,
            "visibility": null,
            "width": null
          }
        },
        "6891b1dd7e9442b98f27991701af94b5": {
          "model_module": "@jupyter-widgets/controls",
          "model_name": "DescriptionStyleModel",
          "model_module_version": "1.5.0",
          "state": {
            "_model_module": "@jupyter-widgets/controls",
            "_model_module_version": "1.5.0",
            "_model_name": "DescriptionStyleModel",
            "_view_count": null,
            "_view_module": "@jupyter-widgets/base",
            "_view_module_version": "1.2.0",
            "_view_name": "StyleView",
            "description_width": ""
          }
        },
        "74cbbbcff5f645f584be64678ed0a1bb": {
          "model_module": "@jupyter-widgets/base",
          "model_name": "LayoutModel",
          "model_module_version": "1.2.0",
          "state": {
            "_model_module": "@jupyter-widgets/base",
            "_model_module_version": "1.2.0",
            "_model_name": "LayoutModel",
            "_view_count": null,
            "_view_module": "@jupyter-widgets/base",
            "_view_module_version": "1.2.0",
            "_view_name": "LayoutView",
            "align_content": null,
            "align_items": null,
            "align_self": null,
            "border": null,
            "bottom": null,
            "display": null,
            "flex": null,
            "flex_flow": null,
            "grid_area": null,
            "grid_auto_columns": null,
            "grid_auto_flow": null,
            "grid_auto_rows": null,
            "grid_column": null,
            "grid_gap": null,
            "grid_row": null,
            "grid_template_areas": null,
            "grid_template_columns": null,
            "grid_template_rows": null,
            "height": null,
            "justify_content": null,
            "justify_items": null,
            "left": null,
            "margin": null,
            "max_height": null,
            "max_width": null,
            "min_height": null,
            "min_width": null,
            "object_fit": null,
            "object_position": null,
            "order": null,
            "overflow": null,
            "overflow_x": null,
            "overflow_y": null,
            "padding": null,
            "right": null,
            "top": null,
            "visibility": null,
            "width": null
          }
        },
        "b56a3335b3424f40920c37df69d34de3": {
          "model_module": "@jupyter-widgets/controls",
          "model_name": "ProgressStyleModel",
          "model_module_version": "1.5.0",
          "state": {
            "_model_module": "@jupyter-widgets/controls",
            "_model_module_version": "1.5.0",
            "_model_name": "ProgressStyleModel",
            "_view_count": null,
            "_view_module": "@jupyter-widgets/base",
            "_view_module_version": "1.2.0",
            "_view_name": "StyleView",
            "bar_color": null,
            "description_width": ""
          }
        },
        "9d06690887924ad9b36d95076d4b63a9": {
          "model_module": "@jupyter-widgets/base",
          "model_name": "LayoutModel",
          "model_module_version": "1.2.0",
          "state": {
            "_model_module": "@jupyter-widgets/base",
            "_model_module_version": "1.2.0",
            "_model_name": "LayoutModel",
            "_view_count": null,
            "_view_module": "@jupyter-widgets/base",
            "_view_module_version": "1.2.0",
            "_view_name": "LayoutView",
            "align_content": null,
            "align_items": null,
            "align_self": null,
            "border": null,
            "bottom": null,
            "display": null,
            "flex": null,
            "flex_flow": null,
            "grid_area": null,
            "grid_auto_columns": null,
            "grid_auto_flow": null,
            "grid_auto_rows": null,
            "grid_column": null,
            "grid_gap": null,
            "grid_row": null,
            "grid_template_areas": null,
            "grid_template_columns": null,
            "grid_template_rows": null,
            "height": null,
            "justify_content": null,
            "justify_items": null,
            "left": null,
            "margin": null,
            "max_height": null,
            "max_width": null,
            "min_height": null,
            "min_width": null,
            "object_fit": null,
            "object_position": null,
            "order": null,
            "overflow": null,
            "overflow_x": null,
            "overflow_y": null,
            "padding": null,
            "right": null,
            "top": null,
            "visibility": null,
            "width": null
          }
        },
        "1338f451dcf24b5a9f111d9a7ecde09d": {
          "model_module": "@jupyter-widgets/controls",
          "model_name": "DescriptionStyleModel",
          "model_module_version": "1.5.0",
          "state": {
            "_model_module": "@jupyter-widgets/controls",
            "_model_module_version": "1.5.0",
            "_model_name": "DescriptionStyleModel",
            "_view_count": null,
            "_view_module": "@jupyter-widgets/base",
            "_view_module_version": "1.2.0",
            "_view_name": "StyleView",
            "description_width": ""
          }
        },
        "8fd200523b5648f6abc26a02ed21b416": {
          "model_module": "@jupyter-widgets/controls",
          "model_name": "HBoxModel",
          "model_module_version": "1.5.0",
          "state": {
            "_dom_classes": [],
            "_model_module": "@jupyter-widgets/controls",
            "_model_module_version": "1.5.0",
            "_model_name": "HBoxModel",
            "_view_count": null,
            "_view_module": "@jupyter-widgets/controls",
            "_view_module_version": "1.5.0",
            "_view_name": "HBoxView",
            "box_style": "",
            "children": [
              "IPY_MODEL_3f45f09fd340499b8b1bc105d0f22b96",
              "IPY_MODEL_87d6bb6e69b140958cdbda56cffc1135",
              "IPY_MODEL_983ed13328894b29b1896e0f6d9b71ff"
            ],
            "layout": "IPY_MODEL_27c2d643d5b24f32932ed8448158e375"
          }
        },
        "3f45f09fd340499b8b1bc105d0f22b96": {
          "model_module": "@jupyter-widgets/controls",
          "model_name": "HTMLModel",
          "model_module_version": "1.5.0",
          "state": {
            "_dom_classes": [],
            "_model_module": "@jupyter-widgets/controls",
            "_model_module_version": "1.5.0",
            "_model_name": "HTMLModel",
            "_view_count": null,
            "_view_module": "@jupyter-widgets/controls",
            "_view_module_version": "1.5.0",
            "_view_name": "HTMLView",
            "description": "",
            "description_tooltip": null,
            "layout": "IPY_MODEL_4eb8e128749641dab0c44e2c80d04787",
            "placeholder": "​",
            "style": "IPY_MODEL_f21075cd9538453f9d2efc425eb49eea",
            "value": "Downloading data: "
          }
        },
        "87d6bb6e69b140958cdbda56cffc1135": {
          "model_module": "@jupyter-widgets/controls",
          "model_name": "FloatProgressModel",
          "model_module_version": "1.5.0",
          "state": {
            "_dom_classes": [],
            "_model_module": "@jupyter-widgets/controls",
            "_model_module_version": "1.5.0",
            "_model_name": "FloatProgressModel",
            "_view_count": null,
            "_view_module": "@jupyter-widgets/controls",
            "_view_module_version": "1.5.0",
            "_view_name": "ProgressView",
            "bar_style": "success",
            "description": "",
            "description_tooltip": null,
            "layout": "IPY_MODEL_dffb481f3a894ad6b0e6dea445e96616",
            "max": 8116577,
            "min": 0,
            "orientation": "horizontal",
            "style": "IPY_MODEL_894361a4a8ef444ca1dfea39d76afcbe",
            "value": 8116577
          }
        },
        "983ed13328894b29b1896e0f6d9b71ff": {
          "model_module": "@jupyter-widgets/controls",
          "model_name": "HTMLModel",
          "model_module_version": "1.5.0",
          "state": {
            "_dom_classes": [],
            "_model_module": "@jupyter-widgets/controls",
            "_model_module_version": "1.5.0",
            "_model_name": "HTMLModel",
            "_view_count": null,
            "_view_module": "@jupyter-widgets/controls",
            "_view_module_version": "1.5.0",
            "_view_name": "HTMLView",
            "description": "",
            "description_tooltip": null,
            "layout": "IPY_MODEL_c11dd57146ae41b8afb60119d4c3c7c0",
            "placeholder": "​",
            "style": "IPY_MODEL_7ad4de3af0b2495f9f1fecd32307cb55",
            "value": " 30.3M/? [00:00&lt;00:00, 74.5MB/s]"
          }
        },
        "27c2d643d5b24f32932ed8448158e375": {
          "model_module": "@jupyter-widgets/base",
          "model_name": "LayoutModel",
          "model_module_version": "1.2.0",
          "state": {
            "_model_module": "@jupyter-widgets/base",
            "_model_module_version": "1.2.0",
            "_model_name": "LayoutModel",
            "_view_count": null,
            "_view_module": "@jupyter-widgets/base",
            "_view_module_version": "1.2.0",
            "_view_name": "LayoutView",
            "align_content": null,
            "align_items": null,
            "align_self": null,
            "border": null,
            "bottom": null,
            "display": null,
            "flex": null,
            "flex_flow": null,
            "grid_area": null,
            "grid_auto_columns": null,
            "grid_auto_flow": null,
            "grid_auto_rows": null,
            "grid_column": null,
            "grid_gap": null,
            "grid_row": null,
            "grid_template_areas": null,
            "grid_template_columns": null,
            "grid_template_rows": null,
            "height": null,
            "justify_content": null,
            "justify_items": null,
            "left": null,
            "margin": null,
            "max_height": null,
            "max_width": null,
            "min_height": null,
            "min_width": null,
            "object_fit": null,
            "object_position": null,
            "order": null,
            "overflow": null,
            "overflow_x": null,
            "overflow_y": null,
            "padding": null,
            "right": null,
            "top": null,
            "visibility": null,
            "width": null
          }
        },
        "4eb8e128749641dab0c44e2c80d04787": {
          "model_module": "@jupyter-widgets/base",
          "model_name": "LayoutModel",
          "model_module_version": "1.2.0",
          "state": {
            "_model_module": "@jupyter-widgets/base",
            "_model_module_version": "1.2.0",
            "_model_name": "LayoutModel",
            "_view_count": null,
            "_view_module": "@jupyter-widgets/base",
            "_view_module_version": "1.2.0",
            "_view_name": "LayoutView",
            "align_content": null,
            "align_items": null,
            "align_self": null,
            "border": null,
            "bottom": null,
            "display": null,
            "flex": null,
            "flex_flow": null,
            "grid_area": null,
            "grid_auto_columns": null,
            "grid_auto_flow": null,
            "grid_auto_rows": null,
            "grid_column": null,
            "grid_gap": null,
            "grid_row": null,
            "grid_template_areas": null,
            "grid_template_columns": null,
            "grid_template_rows": null,
            "height": null,
            "justify_content": null,
            "justify_items": null,
            "left": null,
            "margin": null,
            "max_height": null,
            "max_width": null,
            "min_height": null,
            "min_width": null,
            "object_fit": null,
            "object_position": null,
            "order": null,
            "overflow": null,
            "overflow_x": null,
            "overflow_y": null,
            "padding": null,
            "right": null,
            "top": null,
            "visibility": null,
            "width": null
          }
        },
        "f21075cd9538453f9d2efc425eb49eea": {
          "model_module": "@jupyter-widgets/controls",
          "model_name": "DescriptionStyleModel",
          "model_module_version": "1.5.0",
          "state": {
            "_model_module": "@jupyter-widgets/controls",
            "_model_module_version": "1.5.0",
            "_model_name": "DescriptionStyleModel",
            "_view_count": null,
            "_view_module": "@jupyter-widgets/base",
            "_view_module_version": "1.2.0",
            "_view_name": "StyleView",
            "description_width": ""
          }
        },
        "dffb481f3a894ad6b0e6dea445e96616": {
          "model_module": "@jupyter-widgets/base",
          "model_name": "LayoutModel",
          "model_module_version": "1.2.0",
          "state": {
            "_model_module": "@jupyter-widgets/base",
            "_model_module_version": "1.2.0",
            "_model_name": "LayoutModel",
            "_view_count": null,
            "_view_module": "@jupyter-widgets/base",
            "_view_module_version": "1.2.0",
            "_view_name": "LayoutView",
            "align_content": null,
            "align_items": null,
            "align_self": null,
            "border": null,
            "bottom": null,
            "display": null,
            "flex": null,
            "flex_flow": null,
            "grid_area": null,
            "grid_auto_columns": null,
            "grid_auto_flow": null,
            "grid_auto_rows": null,
            "grid_column": null,
            "grid_gap": null,
            "grid_row": null,
            "grid_template_areas": null,
            "grid_template_columns": null,
            "grid_template_rows": null,
            "height": null,
            "justify_content": null,
            "justify_items": null,
            "left": null,
            "margin": null,
            "max_height": null,
            "max_width": null,
            "min_height": null,
            "min_width": null,
            "object_fit": null,
            "object_position": null,
            "order": null,
            "overflow": null,
            "overflow_x": null,
            "overflow_y": null,
            "padding": null,
            "right": null,
            "top": null,
            "visibility": null,
            "width": null
          }
        },
        "894361a4a8ef444ca1dfea39d76afcbe": {
          "model_module": "@jupyter-widgets/controls",
          "model_name": "ProgressStyleModel",
          "model_module_version": "1.5.0",
          "state": {
            "_model_module": "@jupyter-widgets/controls",
            "_model_module_version": "1.5.0",
            "_model_name": "ProgressStyleModel",
            "_view_count": null,
            "_view_module": "@jupyter-widgets/base",
            "_view_module_version": "1.2.0",
            "_view_name": "StyleView",
            "bar_color": null,
            "description_width": ""
          }
        },
        "c11dd57146ae41b8afb60119d4c3c7c0": {
          "model_module": "@jupyter-widgets/base",
          "model_name": "LayoutModel",
          "model_module_version": "1.2.0",
          "state": {
            "_model_module": "@jupyter-widgets/base",
            "_model_module_version": "1.2.0",
            "_model_name": "LayoutModel",
            "_view_count": null,
            "_view_module": "@jupyter-widgets/base",
            "_view_module_version": "1.2.0",
            "_view_name": "LayoutView",
            "align_content": null,
            "align_items": null,
            "align_self": null,
            "border": null,
            "bottom": null,
            "display": null,
            "flex": null,
            "flex_flow": null,
            "grid_area": null,
            "grid_auto_columns": null,
            "grid_auto_flow": null,
            "grid_auto_rows": null,
            "grid_column": null,
            "grid_gap": null,
            "grid_row": null,
            "grid_template_areas": null,
            "grid_template_columns": null,
            "grid_template_rows": null,
            "height": null,
            "justify_content": null,
            "justify_items": null,
            "left": null,
            "margin": null,
            "max_height": null,
            "max_width": null,
            "min_height": null,
            "min_width": null,
            "object_fit": null,
            "object_position": null,
            "order": null,
            "overflow": null,
            "overflow_x": null,
            "overflow_y": null,
            "padding": null,
            "right": null,
            "top": null,
            "visibility": null,
            "width": null
          }
        },
        "7ad4de3af0b2495f9f1fecd32307cb55": {
          "model_module": "@jupyter-widgets/controls",
          "model_name": "DescriptionStyleModel",
          "model_module_version": "1.5.0",
          "state": {
            "_model_module": "@jupyter-widgets/controls",
            "_model_module_version": "1.5.0",
            "_model_name": "DescriptionStyleModel",
            "_view_count": null,
            "_view_module": "@jupyter-widgets/base",
            "_view_module_version": "1.2.0",
            "_view_name": "StyleView",
            "description_width": ""
          }
        },
        "82a07513c1614017949eb7de12c97e00": {
          "model_module": "@jupyter-widgets/controls",
          "model_name": "HBoxModel",
          "model_module_version": "1.5.0",
          "state": {
            "_dom_classes": [],
            "_model_module": "@jupyter-widgets/controls",
            "_model_module_version": "1.5.0",
            "_model_name": "HBoxModel",
            "_view_count": null,
            "_view_module": "@jupyter-widgets/controls",
            "_view_module_version": "1.5.0",
            "_view_name": "HBoxView",
            "box_style": "",
            "children": [
              "IPY_MODEL_f246836e3d6445a992f57cdb1ab738ae",
              "IPY_MODEL_69f29ba50f7642debb9188b993464aec",
              "IPY_MODEL_5f4031c32070430baa937215d3df83e5"
            ],
            "layout": "IPY_MODEL_a19b354a9fff44d79c99efe8bafb9625"
          }
        },
        "f246836e3d6445a992f57cdb1ab738ae": {
          "model_module": "@jupyter-widgets/controls",
          "model_name": "HTMLModel",
          "model_module_version": "1.5.0",
          "state": {
            "_dom_classes": [],
            "_model_module": "@jupyter-widgets/controls",
            "_model_module_version": "1.5.0",
            "_model_name": "HTMLModel",
            "_view_count": null,
            "_view_module": "@jupyter-widgets/controls",
            "_view_module_version": "1.5.0",
            "_view_name": "HTMLView",
            "description": "",
            "description_tooltip": null,
            "layout": "IPY_MODEL_15efd9c4edbe441a820370327cf1d394",
            "placeholder": "​",
            "style": "IPY_MODEL_b325085c069f4cefa8787808fcf84a60",
            "value": "Downloading data: "
          }
        },
        "69f29ba50f7642debb9188b993464aec": {
          "model_module": "@jupyter-widgets/controls",
          "model_name": "FloatProgressModel",
          "model_module_version": "1.5.0",
          "state": {
            "_dom_classes": [],
            "_model_module": "@jupyter-widgets/controls",
            "_model_module_version": "1.5.0",
            "_model_name": "FloatProgressModel",
            "_view_count": null,
            "_view_module": "@jupyter-widgets/controls",
            "_view_module_version": "1.5.0",
            "_view_name": "ProgressView",
            "bar_style": "success",
            "description": "",
            "description_tooltip": null,
            "layout": "IPY_MODEL_6d2d9de6530946ffa1f27b24b423194a",
            "max": 1054280,
            "min": 0,
            "orientation": "horizontal",
            "style": "IPY_MODEL_8f127666e15741eeab24d39b22d4d1e9",
            "value": 1054280
          }
        },
        "5f4031c32070430baa937215d3df83e5": {
          "model_module": "@jupyter-widgets/controls",
          "model_name": "HTMLModel",
          "model_module_version": "1.5.0",
          "state": {
            "_dom_classes": [],
            "_model_module": "@jupyter-widgets/controls",
            "_model_module_version": "1.5.0",
            "_model_name": "HTMLModel",
            "_view_count": null,
            "_view_module": "@jupyter-widgets/controls",
            "_view_module_version": "1.5.0",
            "_view_name": "HTMLView",
            "description": "",
            "description_tooltip": null,
            "layout": "IPY_MODEL_0872f2f4caad4eb99903381dcb367cf0",
            "placeholder": "​",
            "style": "IPY_MODEL_e0e07369a2b84b15b6136370b0cc7808",
            "value": " 4.85M/? [00:00&lt;00:00, 58.2MB/s]"
          }
        },
        "a19b354a9fff44d79c99efe8bafb9625": {
          "model_module": "@jupyter-widgets/base",
          "model_name": "LayoutModel",
          "model_module_version": "1.2.0",
          "state": {
            "_model_module": "@jupyter-widgets/base",
            "_model_module_version": "1.2.0",
            "_model_name": "LayoutModel",
            "_view_count": null,
            "_view_module": "@jupyter-widgets/base",
            "_view_module_version": "1.2.0",
            "_view_name": "LayoutView",
            "align_content": null,
            "align_items": null,
            "align_self": null,
            "border": null,
            "bottom": null,
            "display": null,
            "flex": null,
            "flex_flow": null,
            "grid_area": null,
            "grid_auto_columns": null,
            "grid_auto_flow": null,
            "grid_auto_rows": null,
            "grid_column": null,
            "grid_gap": null,
            "grid_row": null,
            "grid_template_areas": null,
            "grid_template_columns": null,
            "grid_template_rows": null,
            "height": null,
            "justify_content": null,
            "justify_items": null,
            "left": null,
            "margin": null,
            "max_height": null,
            "max_width": null,
            "min_height": null,
            "min_width": null,
            "object_fit": null,
            "object_position": null,
            "order": null,
            "overflow": null,
            "overflow_x": null,
            "overflow_y": null,
            "padding": null,
            "right": null,
            "top": null,
            "visibility": null,
            "width": null
          }
        },
        "15efd9c4edbe441a820370327cf1d394": {
          "model_module": "@jupyter-widgets/base",
          "model_name": "LayoutModel",
          "model_module_version": "1.2.0",
          "state": {
            "_model_module": "@jupyter-widgets/base",
            "_model_module_version": "1.2.0",
            "_model_name": "LayoutModel",
            "_view_count": null,
            "_view_module": "@jupyter-widgets/base",
            "_view_module_version": "1.2.0",
            "_view_name": "LayoutView",
            "align_content": null,
            "align_items": null,
            "align_self": null,
            "border": null,
            "bottom": null,
            "display": null,
            "flex": null,
            "flex_flow": null,
            "grid_area": null,
            "grid_auto_columns": null,
            "grid_auto_flow": null,
            "grid_auto_rows": null,
            "grid_column": null,
            "grid_gap": null,
            "grid_row": null,
            "grid_template_areas": null,
            "grid_template_columns": null,
            "grid_template_rows": null,
            "height": null,
            "justify_content": null,
            "justify_items": null,
            "left": null,
            "margin": null,
            "max_height": null,
            "max_width": null,
            "min_height": null,
            "min_width": null,
            "object_fit": null,
            "object_position": null,
            "order": null,
            "overflow": null,
            "overflow_x": null,
            "overflow_y": null,
            "padding": null,
            "right": null,
            "top": null,
            "visibility": null,
            "width": null
          }
        },
        "b325085c069f4cefa8787808fcf84a60": {
          "model_module": "@jupyter-widgets/controls",
          "model_name": "DescriptionStyleModel",
          "model_module_version": "1.5.0",
          "state": {
            "_model_module": "@jupyter-widgets/controls",
            "_model_module_version": "1.5.0",
            "_model_name": "DescriptionStyleModel",
            "_view_count": null,
            "_view_module": "@jupyter-widgets/base",
            "_view_module_version": "1.2.0",
            "_view_name": "StyleView",
            "description_width": ""
          }
        },
        "6d2d9de6530946ffa1f27b24b423194a": {
          "model_module": "@jupyter-widgets/base",
          "model_name": "LayoutModel",
          "model_module_version": "1.2.0",
          "state": {
            "_model_module": "@jupyter-widgets/base",
            "_model_module_version": "1.2.0",
            "_model_name": "LayoutModel",
            "_view_count": null,
            "_view_module": "@jupyter-widgets/base",
            "_view_module_version": "1.2.0",
            "_view_name": "LayoutView",
            "align_content": null,
            "align_items": null,
            "align_self": null,
            "border": null,
            "bottom": null,
            "display": null,
            "flex": null,
            "flex_flow": null,
            "grid_area": null,
            "grid_auto_columns": null,
            "grid_auto_flow": null,
            "grid_auto_rows": null,
            "grid_column": null,
            "grid_gap": null,
            "grid_row": null,
            "grid_template_areas": null,
            "grid_template_columns": null,
            "grid_template_rows": null,
            "height": null,
            "justify_content": null,
            "justify_items": null,
            "left": null,
            "margin": null,
            "max_height": null,
            "max_width": null,
            "min_height": null,
            "min_width": null,
            "object_fit": null,
            "object_position": null,
            "order": null,
            "overflow": null,
            "overflow_x": null,
            "overflow_y": null,
            "padding": null,
            "right": null,
            "top": null,
            "visibility": null,
            "width": null
          }
        },
        "8f127666e15741eeab24d39b22d4d1e9": {
          "model_module": "@jupyter-widgets/controls",
          "model_name": "ProgressStyleModel",
          "model_module_version": "1.5.0",
          "state": {
            "_model_module": "@jupyter-widgets/controls",
            "_model_module_version": "1.5.0",
            "_model_name": "ProgressStyleModel",
            "_view_count": null,
            "_view_module": "@jupyter-widgets/base",
            "_view_module_version": "1.2.0",
            "_view_name": "StyleView",
            "bar_color": null,
            "description_width": ""
          }
        },
        "0872f2f4caad4eb99903381dcb367cf0": {
          "model_module": "@jupyter-widgets/base",
          "model_name": "LayoutModel",
          "model_module_version": "1.2.0",
          "state": {
            "_model_module": "@jupyter-widgets/base",
            "_model_module_version": "1.2.0",
            "_model_name": "LayoutModel",
            "_view_count": null,
            "_view_module": "@jupyter-widgets/base",
            "_view_module_version": "1.2.0",
            "_view_name": "LayoutView",
            "align_content": null,
            "align_items": null,
            "align_self": null,
            "border": null,
            "bottom": null,
            "display": null,
            "flex": null,
            "flex_flow": null,
            "grid_area": null,
            "grid_auto_columns": null,
            "grid_auto_flow": null,
            "grid_auto_rows": null,
            "grid_column": null,
            "grid_gap": null,
            "grid_row": null,
            "grid_template_areas": null,
            "grid_template_columns": null,
            "grid_template_rows": null,
            "height": null,
            "justify_content": null,
            "justify_items": null,
            "left": null,
            "margin": null,
            "max_height": null,
            "max_width": null,
            "min_height": null,
            "min_width": null,
            "object_fit": null,
            "object_position": null,
            "order": null,
            "overflow": null,
            "overflow_x": null,
            "overflow_y": null,
            "padding": null,
            "right": null,
            "top": null,
            "visibility": null,
            "width": null
          }
        },
        "e0e07369a2b84b15b6136370b0cc7808": {
          "model_module": "@jupyter-widgets/controls",
          "model_name": "DescriptionStyleModel",
          "model_module_version": "1.5.0",
          "state": {
            "_model_module": "@jupyter-widgets/controls",
            "_model_module_version": "1.5.0",
            "_model_name": "DescriptionStyleModel",
            "_view_count": null,
            "_view_module": "@jupyter-widgets/base",
            "_view_module_version": "1.2.0",
            "_view_name": "StyleView",
            "description_width": ""
          }
        },
        "190b4d14c67942b68a21a8941bfd92df": {
          "model_module": "@jupyter-widgets/controls",
          "model_name": "HBoxModel",
          "model_module_version": "1.5.0",
          "state": {
            "_dom_classes": [],
            "_model_module": "@jupyter-widgets/controls",
            "_model_module_version": "1.5.0",
            "_model_name": "HBoxModel",
            "_view_count": null,
            "_view_module": "@jupyter-widgets/controls",
            "_view_module_version": "1.5.0",
            "_view_name": "HBoxView",
            "box_style": "",
            "children": [
              "IPY_MODEL_ca65833317884a41821b91b64cc27103",
              "IPY_MODEL_54cfb23200b44d6dba747107360d1025",
              "IPY_MODEL_23e9ab2327514a29924c1f23f6aac7dc"
            ],
            "layout": "IPY_MODEL_a8231199b8c84211a5199784a9b7a350"
          }
        },
        "ca65833317884a41821b91b64cc27103": {
          "model_module": "@jupyter-widgets/controls",
          "model_name": "HTMLModel",
          "model_module_version": "1.5.0",
          "state": {
            "_dom_classes": [],
            "_model_module": "@jupyter-widgets/controls",
            "_model_module_version": "1.5.0",
            "_model_name": "HTMLModel",
            "_view_count": null,
            "_view_module": "@jupyter-widgets/controls",
            "_view_module_version": "1.5.0",
            "_view_name": "HTMLView",
            "description": "",
            "description_tooltip": null,
            "layout": "IPY_MODEL_a1262bd51c3e470db7eb09f94f2475d2",
            "placeholder": "​",
            "style": "IPY_MODEL_8fceea57142b4c909df16c148a0e72e7",
            "value": "Extracting data files: 100%"
          }
        },
        "54cfb23200b44d6dba747107360d1025": {
          "model_module": "@jupyter-widgets/controls",
          "model_name": "FloatProgressModel",
          "model_module_version": "1.5.0",
          "state": {
            "_dom_classes": [],
            "_model_module": "@jupyter-widgets/controls",
            "_model_module_version": "1.5.0",
            "_model_name": "FloatProgressModel",
            "_view_count": null,
            "_view_module": "@jupyter-widgets/controls",
            "_view_module_version": "1.5.0",
            "_view_name": "ProgressView",
            "bar_style": "success",
            "description": "",
            "description_tooltip": null,
            "layout": "IPY_MODEL_002e979d39b5481db8f13104008af0cb",
            "max": 2,
            "min": 0,
            "orientation": "horizontal",
            "style": "IPY_MODEL_87b45c2566cd4fc0ac4ccbffbe44bc78",
            "value": 2
          }
        },
        "23e9ab2327514a29924c1f23f6aac7dc": {
          "model_module": "@jupyter-widgets/controls",
          "model_name": "HTMLModel",
          "model_module_version": "1.5.0",
          "state": {
            "_dom_classes": [],
            "_model_module": "@jupyter-widgets/controls",
            "_model_module_version": "1.5.0",
            "_model_name": "HTMLModel",
            "_view_count": null,
            "_view_module": "@jupyter-widgets/controls",
            "_view_module_version": "1.5.0",
            "_view_name": "HTMLView",
            "description": "",
            "description_tooltip": null,
            "layout": "IPY_MODEL_d5dda12edd714a05ad69625790d61eeb",
            "placeholder": "​",
            "style": "IPY_MODEL_e286ef9a4d0841e0ba81e5c33b936956",
            "value": " 2/2 [00:00&lt;00:00, 82.68it/s]"
          }
        },
        "a8231199b8c84211a5199784a9b7a350": {
          "model_module": "@jupyter-widgets/base",
          "model_name": "LayoutModel",
          "model_module_version": "1.2.0",
          "state": {
            "_model_module": "@jupyter-widgets/base",
            "_model_module_version": "1.2.0",
            "_model_name": "LayoutModel",
            "_view_count": null,
            "_view_module": "@jupyter-widgets/base",
            "_view_module_version": "1.2.0",
            "_view_name": "LayoutView",
            "align_content": null,
            "align_items": null,
            "align_self": null,
            "border": null,
            "bottom": null,
            "display": null,
            "flex": null,
            "flex_flow": null,
            "grid_area": null,
            "grid_auto_columns": null,
            "grid_auto_flow": null,
            "grid_auto_rows": null,
            "grid_column": null,
            "grid_gap": null,
            "grid_row": null,
            "grid_template_areas": null,
            "grid_template_columns": null,
            "grid_template_rows": null,
            "height": null,
            "justify_content": null,
            "justify_items": null,
            "left": null,
            "margin": null,
            "max_height": null,
            "max_width": null,
            "min_height": null,
            "min_width": null,
            "object_fit": null,
            "object_position": null,
            "order": null,
            "overflow": null,
            "overflow_x": null,
            "overflow_y": null,
            "padding": null,
            "right": null,
            "top": null,
            "visibility": null,
            "width": null
          }
        },
        "a1262bd51c3e470db7eb09f94f2475d2": {
          "model_module": "@jupyter-widgets/base",
          "model_name": "LayoutModel",
          "model_module_version": "1.2.0",
          "state": {
            "_model_module": "@jupyter-widgets/base",
            "_model_module_version": "1.2.0",
            "_model_name": "LayoutModel",
            "_view_count": null,
            "_view_module": "@jupyter-widgets/base",
            "_view_module_version": "1.2.0",
            "_view_name": "LayoutView",
            "align_content": null,
            "align_items": null,
            "align_self": null,
            "border": null,
            "bottom": null,
            "display": null,
            "flex": null,
            "flex_flow": null,
            "grid_area": null,
            "grid_auto_columns": null,
            "grid_auto_flow": null,
            "grid_auto_rows": null,
            "grid_column": null,
            "grid_gap": null,
            "grid_row": null,
            "grid_template_areas": null,
            "grid_template_columns": null,
            "grid_template_rows": null,
            "height": null,
            "justify_content": null,
            "justify_items": null,
            "left": null,
            "margin": null,
            "max_height": null,
            "max_width": null,
            "min_height": null,
            "min_width": null,
            "object_fit": null,
            "object_position": null,
            "order": null,
            "overflow": null,
            "overflow_x": null,
            "overflow_y": null,
            "padding": null,
            "right": null,
            "top": null,
            "visibility": null,
            "width": null
          }
        },
        "8fceea57142b4c909df16c148a0e72e7": {
          "model_module": "@jupyter-widgets/controls",
          "model_name": "DescriptionStyleModel",
          "model_module_version": "1.5.0",
          "state": {
            "_model_module": "@jupyter-widgets/controls",
            "_model_module_version": "1.5.0",
            "_model_name": "DescriptionStyleModel",
            "_view_count": null,
            "_view_module": "@jupyter-widgets/base",
            "_view_module_version": "1.2.0",
            "_view_name": "StyleView",
            "description_width": ""
          }
        },
        "002e979d39b5481db8f13104008af0cb": {
          "model_module": "@jupyter-widgets/base",
          "model_name": "LayoutModel",
          "model_module_version": "1.2.0",
          "state": {
            "_model_module": "@jupyter-widgets/base",
            "_model_module_version": "1.2.0",
            "_model_name": "LayoutModel",
            "_view_count": null,
            "_view_module": "@jupyter-widgets/base",
            "_view_module_version": "1.2.0",
            "_view_name": "LayoutView",
            "align_content": null,
            "align_items": null,
            "align_self": null,
            "border": null,
            "bottom": null,
            "display": null,
            "flex": null,
            "flex_flow": null,
            "grid_area": null,
            "grid_auto_columns": null,
            "grid_auto_flow": null,
            "grid_auto_rows": null,
            "grid_column": null,
            "grid_gap": null,
            "grid_row": null,
            "grid_template_areas": null,
            "grid_template_columns": null,
            "grid_template_rows": null,
            "height": null,
            "justify_content": null,
            "justify_items": null,
            "left": null,
            "margin": null,
            "max_height": null,
            "max_width": null,
            "min_height": null,
            "min_width": null,
            "object_fit": null,
            "object_position": null,
            "order": null,
            "overflow": null,
            "overflow_x": null,
            "overflow_y": null,
            "padding": null,
            "right": null,
            "top": null,
            "visibility": null,
            "width": null
          }
        },
        "87b45c2566cd4fc0ac4ccbffbe44bc78": {
          "model_module": "@jupyter-widgets/controls",
          "model_name": "ProgressStyleModel",
          "model_module_version": "1.5.0",
          "state": {
            "_model_module": "@jupyter-widgets/controls",
            "_model_module_version": "1.5.0",
            "_model_name": "ProgressStyleModel",
            "_view_count": null,
            "_view_module": "@jupyter-widgets/base",
            "_view_module_version": "1.2.0",
            "_view_name": "StyleView",
            "bar_color": null,
            "description_width": ""
          }
        },
        "d5dda12edd714a05ad69625790d61eeb": {
          "model_module": "@jupyter-widgets/base",
          "model_name": "LayoutModel",
          "model_module_version": "1.2.0",
          "state": {
            "_model_module": "@jupyter-widgets/base",
            "_model_module_version": "1.2.0",
            "_model_name": "LayoutModel",
            "_view_count": null,
            "_view_module": "@jupyter-widgets/base",
            "_view_module_version": "1.2.0",
            "_view_name": "LayoutView",
            "align_content": null,
            "align_items": null,
            "align_self": null,
            "border": null,
            "bottom": null,
            "display": null,
            "flex": null,
            "flex_flow": null,
            "grid_area": null,
            "grid_auto_columns": null,
            "grid_auto_flow": null,
            "grid_auto_rows": null,
            "grid_column": null,
            "grid_gap": null,
            "grid_row": null,
            "grid_template_areas": null,
            "grid_template_columns": null,
            "grid_template_rows": null,
            "height": null,
            "justify_content": null,
            "justify_items": null,
            "left": null,
            "margin": null,
            "max_height": null,
            "max_width": null,
            "min_height": null,
            "min_width": null,
            "object_fit": null,
            "object_position": null,
            "order": null,
            "overflow": null,
            "overflow_x": null,
            "overflow_y": null,
            "padding": null,
            "right": null,
            "top": null,
            "visibility": null,
            "width": null
          }
        },
        "e286ef9a4d0841e0ba81e5c33b936956": {
          "model_module": "@jupyter-widgets/controls",
          "model_name": "DescriptionStyleModel",
          "model_module_version": "1.5.0",
          "state": {
            "_model_module": "@jupyter-widgets/controls",
            "_model_module_version": "1.5.0",
            "_model_name": "DescriptionStyleModel",
            "_view_count": null,
            "_view_module": "@jupyter-widgets/base",
            "_view_module_version": "1.2.0",
            "_view_name": "StyleView",
            "description_width": ""
          }
        },
        "e773a6e64a124b71bf79cef17dae9721": {
          "model_module": "@jupyter-widgets/controls",
          "model_name": "HBoxModel",
          "model_module_version": "1.5.0",
          "state": {
            "_dom_classes": [],
            "_model_module": "@jupyter-widgets/controls",
            "_model_module_version": "1.5.0",
            "_model_name": "HBoxModel",
            "_view_count": null,
            "_view_module": "@jupyter-widgets/controls",
            "_view_module_version": "1.5.0",
            "_view_name": "HBoxView",
            "box_style": "",
            "children": [
              "IPY_MODEL_6d4925ddaaf446f58e7fbb9cb222fc07",
              "IPY_MODEL_20a9373ce53345bfab8a9ab31b465173",
              "IPY_MODEL_294726dbd9fb4bd2a965a517db25ff9e"
            ],
            "layout": "IPY_MODEL_fc198d24df5443bcb4fb8d47f26c0e26"
          }
        },
        "6d4925ddaaf446f58e7fbb9cb222fc07": {
          "model_module": "@jupyter-widgets/controls",
          "model_name": "HTMLModel",
          "model_module_version": "1.5.0",
          "state": {
            "_dom_classes": [],
            "_model_module": "@jupyter-widgets/controls",
            "_model_module_version": "1.5.0",
            "_model_name": "HTMLModel",
            "_view_count": null,
            "_view_module": "@jupyter-widgets/controls",
            "_view_module_version": "1.5.0",
            "_view_name": "HTMLView",
            "description": "",
            "description_tooltip": null,
            "layout": "IPY_MODEL_821c532a69ea4de59efb3ff61a600451",
            "placeholder": "​",
            "style": "IPY_MODEL_59e334836b214516b389c151605caa62",
            "value": "Generating train split: 100%"
          }
        },
        "20a9373ce53345bfab8a9ab31b465173": {
          "model_module": "@jupyter-widgets/controls",
          "model_name": "FloatProgressModel",
          "model_module_version": "1.5.0",
          "state": {
            "_dom_classes": [],
            "_model_module": "@jupyter-widgets/controls",
            "_model_module_version": "1.5.0",
            "_model_name": "FloatProgressModel",
            "_view_count": null,
            "_view_module": "@jupyter-widgets/controls",
            "_view_module_version": "1.5.0",
            "_view_name": "ProgressView",
            "bar_style": "success",
            "description": "",
            "description_tooltip": null,
            "layout": "IPY_MODEL_a9e558eff8c84a9a92df08e77d01a6c8",
            "max": 87599,
            "min": 0,
            "orientation": "horizontal",
            "style": "IPY_MODEL_2f3ac898c88c4c4f8792232faeb2f5d8",
            "value": 87599
          }
        },
        "294726dbd9fb4bd2a965a517db25ff9e": {
          "model_module": "@jupyter-widgets/controls",
          "model_name": "HTMLModel",
          "model_module_version": "1.5.0",
          "state": {
            "_dom_classes": [],
            "_model_module": "@jupyter-widgets/controls",
            "_model_module_version": "1.5.0",
            "_model_name": "HTMLModel",
            "_view_count": null,
            "_view_module": "@jupyter-widgets/controls",
            "_view_module_version": "1.5.0",
            "_view_name": "HTMLView",
            "description": "",
            "description_tooltip": null,
            "layout": "IPY_MODEL_cd7a98fb18be4f87a89089ad31998b7c",
            "placeholder": "​",
            "style": "IPY_MODEL_ace67e8c9b60479aad9545b29eb973f5",
            "value": " 87599/87599 [00:06&lt;00:00, 18363.24 examples/s]"
          }
        },
        "fc198d24df5443bcb4fb8d47f26c0e26": {
          "model_module": "@jupyter-widgets/base",
          "model_name": "LayoutModel",
          "model_module_version": "1.2.0",
          "state": {
            "_model_module": "@jupyter-widgets/base",
            "_model_module_version": "1.2.0",
            "_model_name": "LayoutModel",
            "_view_count": null,
            "_view_module": "@jupyter-widgets/base",
            "_view_module_version": "1.2.0",
            "_view_name": "LayoutView",
            "align_content": null,
            "align_items": null,
            "align_self": null,
            "border": null,
            "bottom": null,
            "display": null,
            "flex": null,
            "flex_flow": null,
            "grid_area": null,
            "grid_auto_columns": null,
            "grid_auto_flow": null,
            "grid_auto_rows": null,
            "grid_column": null,
            "grid_gap": null,
            "grid_row": null,
            "grid_template_areas": null,
            "grid_template_columns": null,
            "grid_template_rows": null,
            "height": null,
            "justify_content": null,
            "justify_items": null,
            "left": null,
            "margin": null,
            "max_height": null,
            "max_width": null,
            "min_height": null,
            "min_width": null,
            "object_fit": null,
            "object_position": null,
            "order": null,
            "overflow": null,
            "overflow_x": null,
            "overflow_y": null,
            "padding": null,
            "right": null,
            "top": null,
            "visibility": null,
            "width": null
          }
        },
        "821c532a69ea4de59efb3ff61a600451": {
          "model_module": "@jupyter-widgets/base",
          "model_name": "LayoutModel",
          "model_module_version": "1.2.0",
          "state": {
            "_model_module": "@jupyter-widgets/base",
            "_model_module_version": "1.2.0",
            "_model_name": "LayoutModel",
            "_view_count": null,
            "_view_module": "@jupyter-widgets/base",
            "_view_module_version": "1.2.0",
            "_view_name": "LayoutView",
            "align_content": null,
            "align_items": null,
            "align_self": null,
            "border": null,
            "bottom": null,
            "display": null,
            "flex": null,
            "flex_flow": null,
            "grid_area": null,
            "grid_auto_columns": null,
            "grid_auto_flow": null,
            "grid_auto_rows": null,
            "grid_column": null,
            "grid_gap": null,
            "grid_row": null,
            "grid_template_areas": null,
            "grid_template_columns": null,
            "grid_template_rows": null,
            "height": null,
            "justify_content": null,
            "justify_items": null,
            "left": null,
            "margin": null,
            "max_height": null,
            "max_width": null,
            "min_height": null,
            "min_width": null,
            "object_fit": null,
            "object_position": null,
            "order": null,
            "overflow": null,
            "overflow_x": null,
            "overflow_y": null,
            "padding": null,
            "right": null,
            "top": null,
            "visibility": null,
            "width": null
          }
        },
        "59e334836b214516b389c151605caa62": {
          "model_module": "@jupyter-widgets/controls",
          "model_name": "DescriptionStyleModel",
          "model_module_version": "1.5.0",
          "state": {
            "_model_module": "@jupyter-widgets/controls",
            "_model_module_version": "1.5.0",
            "_model_name": "DescriptionStyleModel",
            "_view_count": null,
            "_view_module": "@jupyter-widgets/base",
            "_view_module_version": "1.2.0",
            "_view_name": "StyleView",
            "description_width": ""
          }
        },
        "a9e558eff8c84a9a92df08e77d01a6c8": {
          "model_module": "@jupyter-widgets/base",
          "model_name": "LayoutModel",
          "model_module_version": "1.2.0",
          "state": {
            "_model_module": "@jupyter-widgets/base",
            "_model_module_version": "1.2.0",
            "_model_name": "LayoutModel",
            "_view_count": null,
            "_view_module": "@jupyter-widgets/base",
            "_view_module_version": "1.2.0",
            "_view_name": "LayoutView",
            "align_content": null,
            "align_items": null,
            "align_self": null,
            "border": null,
            "bottom": null,
            "display": null,
            "flex": null,
            "flex_flow": null,
            "grid_area": null,
            "grid_auto_columns": null,
            "grid_auto_flow": null,
            "grid_auto_rows": null,
            "grid_column": null,
            "grid_gap": null,
            "grid_row": null,
            "grid_template_areas": null,
            "grid_template_columns": null,
            "grid_template_rows": null,
            "height": null,
            "justify_content": null,
            "justify_items": null,
            "left": null,
            "margin": null,
            "max_height": null,
            "max_width": null,
            "min_height": null,
            "min_width": null,
            "object_fit": null,
            "object_position": null,
            "order": null,
            "overflow": null,
            "overflow_x": null,
            "overflow_y": null,
            "padding": null,
            "right": null,
            "top": null,
            "visibility": null,
            "width": null
          }
        },
        "2f3ac898c88c4c4f8792232faeb2f5d8": {
          "model_module": "@jupyter-widgets/controls",
          "model_name": "ProgressStyleModel",
          "model_module_version": "1.5.0",
          "state": {
            "_model_module": "@jupyter-widgets/controls",
            "_model_module_version": "1.5.0",
            "_model_name": "ProgressStyleModel",
            "_view_count": null,
            "_view_module": "@jupyter-widgets/base",
            "_view_module_version": "1.2.0",
            "_view_name": "StyleView",
            "bar_color": null,
            "description_width": ""
          }
        },
        "cd7a98fb18be4f87a89089ad31998b7c": {
          "model_module": "@jupyter-widgets/base",
          "model_name": "LayoutModel",
          "model_module_version": "1.2.0",
          "state": {
            "_model_module": "@jupyter-widgets/base",
            "_model_module_version": "1.2.0",
            "_model_name": "LayoutModel",
            "_view_count": null,
            "_view_module": "@jupyter-widgets/base",
            "_view_module_version": "1.2.0",
            "_view_name": "LayoutView",
            "align_content": null,
            "align_items": null,
            "align_self": null,
            "border": null,
            "bottom": null,
            "display": null,
            "flex": null,
            "flex_flow": null,
            "grid_area": null,
            "grid_auto_columns": null,
            "grid_auto_flow": null,
            "grid_auto_rows": null,
            "grid_column": null,
            "grid_gap": null,
            "grid_row": null,
            "grid_template_areas": null,
            "grid_template_columns": null,
            "grid_template_rows": null,
            "height": null,
            "justify_content": null,
            "justify_items": null,
            "left": null,
            "margin": null,
            "max_height": null,
            "max_width": null,
            "min_height": null,
            "min_width": null,
            "object_fit": null,
            "object_position": null,
            "order": null,
            "overflow": null,
            "overflow_x": null,
            "overflow_y": null,
            "padding": null,
            "right": null,
            "top": null,
            "visibility": null,
            "width": null
          }
        },
        "ace67e8c9b60479aad9545b29eb973f5": {
          "model_module": "@jupyter-widgets/controls",
          "model_name": "DescriptionStyleModel",
          "model_module_version": "1.5.0",
          "state": {
            "_model_module": "@jupyter-widgets/controls",
            "_model_module_version": "1.5.0",
            "_model_name": "DescriptionStyleModel",
            "_view_count": null,
            "_view_module": "@jupyter-widgets/base",
            "_view_module_version": "1.2.0",
            "_view_name": "StyleView",
            "description_width": ""
          }
        },
        "7f23dba499f94c38959b8278e4dfcaa7": {
          "model_module": "@jupyter-widgets/controls",
          "model_name": "HBoxModel",
          "model_module_version": "1.5.0",
          "state": {
            "_dom_classes": [],
            "_model_module": "@jupyter-widgets/controls",
            "_model_module_version": "1.5.0",
            "_model_name": "HBoxModel",
            "_view_count": null,
            "_view_module": "@jupyter-widgets/controls",
            "_view_module_version": "1.5.0",
            "_view_name": "HBoxView",
            "box_style": "",
            "children": [
              "IPY_MODEL_2e1421b69ef04ea58b82571ffc0b2d70",
              "IPY_MODEL_b3bdbd7b143b4a928787f15a8218c0c5",
              "IPY_MODEL_ff0a6d82d1f14b7cb15fdd21c88db9c1"
            ],
            "layout": "IPY_MODEL_8cfb38b3894e45e087702f3557105128"
          }
        },
        "2e1421b69ef04ea58b82571ffc0b2d70": {
          "model_module": "@jupyter-widgets/controls",
          "model_name": "HTMLModel",
          "model_module_version": "1.5.0",
          "state": {
            "_dom_classes": [],
            "_model_module": "@jupyter-widgets/controls",
            "_model_module_version": "1.5.0",
            "_model_name": "HTMLModel",
            "_view_count": null,
            "_view_module": "@jupyter-widgets/controls",
            "_view_module_version": "1.5.0",
            "_view_name": "HTMLView",
            "description": "",
            "description_tooltip": null,
            "layout": "IPY_MODEL_7f18bce01e3b411fba48c6454b39fc1a",
            "placeholder": "​",
            "style": "IPY_MODEL_40e2d3132a6b47b1a1e332c76aacbdfa",
            "value": "Generating validation split: 100%"
          }
        },
        "b3bdbd7b143b4a928787f15a8218c0c5": {
          "model_module": "@jupyter-widgets/controls",
          "model_name": "FloatProgressModel",
          "model_module_version": "1.5.0",
          "state": {
            "_dom_classes": [],
            "_model_module": "@jupyter-widgets/controls",
            "_model_module_version": "1.5.0",
            "_model_name": "FloatProgressModel",
            "_view_count": null,
            "_view_module": "@jupyter-widgets/controls",
            "_view_module_version": "1.5.0",
            "_view_name": "ProgressView",
            "bar_style": "success",
            "description": "",
            "description_tooltip": null,
            "layout": "IPY_MODEL_903be18892fa49b7a47451135df7bdd5",
            "max": 10570,
            "min": 0,
            "orientation": "horizontal",
            "style": "IPY_MODEL_063f4faf4323462eb9013d1d4b5d97b6",
            "value": 10570
          }
        },
        "ff0a6d82d1f14b7cb15fdd21c88db9c1": {
          "model_module": "@jupyter-widgets/controls",
          "model_name": "HTMLModel",
          "model_module_version": "1.5.0",
          "state": {
            "_dom_classes": [],
            "_model_module": "@jupyter-widgets/controls",
            "_model_module_version": "1.5.0",
            "_model_name": "HTMLModel",
            "_view_count": null,
            "_view_module": "@jupyter-widgets/controls",
            "_view_module_version": "1.5.0",
            "_view_name": "HTMLView",
            "description": "",
            "description_tooltip": null,
            "layout": "IPY_MODEL_18ae6d481c484b39a72a19ca1069a1a8",
            "placeholder": "​",
            "style": "IPY_MODEL_d5d7cb5b3aea4e1d955fca0915ee6088",
            "value": " 10570/10570 [00:00&lt;00:00, 14805.20 examples/s]"
          }
        },
        "8cfb38b3894e45e087702f3557105128": {
          "model_module": "@jupyter-widgets/base",
          "model_name": "LayoutModel",
          "model_module_version": "1.2.0",
          "state": {
            "_model_module": "@jupyter-widgets/base",
            "_model_module_version": "1.2.0",
            "_model_name": "LayoutModel",
            "_view_count": null,
            "_view_module": "@jupyter-widgets/base",
            "_view_module_version": "1.2.0",
            "_view_name": "LayoutView",
            "align_content": null,
            "align_items": null,
            "align_self": null,
            "border": null,
            "bottom": null,
            "display": null,
            "flex": null,
            "flex_flow": null,
            "grid_area": null,
            "grid_auto_columns": null,
            "grid_auto_flow": null,
            "grid_auto_rows": null,
            "grid_column": null,
            "grid_gap": null,
            "grid_row": null,
            "grid_template_areas": null,
            "grid_template_columns": null,
            "grid_template_rows": null,
            "height": null,
            "justify_content": null,
            "justify_items": null,
            "left": null,
            "margin": null,
            "max_height": null,
            "max_width": null,
            "min_height": null,
            "min_width": null,
            "object_fit": null,
            "object_position": null,
            "order": null,
            "overflow": null,
            "overflow_x": null,
            "overflow_y": null,
            "padding": null,
            "right": null,
            "top": null,
            "visibility": null,
            "width": null
          }
        },
        "7f18bce01e3b411fba48c6454b39fc1a": {
          "model_module": "@jupyter-widgets/base",
          "model_name": "LayoutModel",
          "model_module_version": "1.2.0",
          "state": {
            "_model_module": "@jupyter-widgets/base",
            "_model_module_version": "1.2.0",
            "_model_name": "LayoutModel",
            "_view_count": null,
            "_view_module": "@jupyter-widgets/base",
            "_view_module_version": "1.2.0",
            "_view_name": "LayoutView",
            "align_content": null,
            "align_items": null,
            "align_self": null,
            "border": null,
            "bottom": null,
            "display": null,
            "flex": null,
            "flex_flow": null,
            "grid_area": null,
            "grid_auto_columns": null,
            "grid_auto_flow": null,
            "grid_auto_rows": null,
            "grid_column": null,
            "grid_gap": null,
            "grid_row": null,
            "grid_template_areas": null,
            "grid_template_columns": null,
            "grid_template_rows": null,
            "height": null,
            "justify_content": null,
            "justify_items": null,
            "left": null,
            "margin": null,
            "max_height": null,
            "max_width": null,
            "min_height": null,
            "min_width": null,
            "object_fit": null,
            "object_position": null,
            "order": null,
            "overflow": null,
            "overflow_x": null,
            "overflow_y": null,
            "padding": null,
            "right": null,
            "top": null,
            "visibility": null,
            "width": null
          }
        },
        "40e2d3132a6b47b1a1e332c76aacbdfa": {
          "model_module": "@jupyter-widgets/controls",
          "model_name": "DescriptionStyleModel",
          "model_module_version": "1.5.0",
          "state": {
            "_model_module": "@jupyter-widgets/controls",
            "_model_module_version": "1.5.0",
            "_model_name": "DescriptionStyleModel",
            "_view_count": null,
            "_view_module": "@jupyter-widgets/base",
            "_view_module_version": "1.2.0",
            "_view_name": "StyleView",
            "description_width": ""
          }
        },
        "903be18892fa49b7a47451135df7bdd5": {
          "model_module": "@jupyter-widgets/base",
          "model_name": "LayoutModel",
          "model_module_version": "1.2.0",
          "state": {
            "_model_module": "@jupyter-widgets/base",
            "_model_module_version": "1.2.0",
            "_model_name": "LayoutModel",
            "_view_count": null,
            "_view_module": "@jupyter-widgets/base",
            "_view_module_version": "1.2.0",
            "_view_name": "LayoutView",
            "align_content": null,
            "align_items": null,
            "align_self": null,
            "border": null,
            "bottom": null,
            "display": null,
            "flex": null,
            "flex_flow": null,
            "grid_area": null,
            "grid_auto_columns": null,
            "grid_auto_flow": null,
            "grid_auto_rows": null,
            "grid_column": null,
            "grid_gap": null,
            "grid_row": null,
            "grid_template_areas": null,
            "grid_template_columns": null,
            "grid_template_rows": null,
            "height": null,
            "justify_content": null,
            "justify_items": null,
            "left": null,
            "margin": null,
            "max_height": null,
            "max_width": null,
            "min_height": null,
            "min_width": null,
            "object_fit": null,
            "object_position": null,
            "order": null,
            "overflow": null,
            "overflow_x": null,
            "overflow_y": null,
            "padding": null,
            "right": null,
            "top": null,
            "visibility": null,
            "width": null
          }
        },
        "063f4faf4323462eb9013d1d4b5d97b6": {
          "model_module": "@jupyter-widgets/controls",
          "model_name": "ProgressStyleModel",
          "model_module_version": "1.5.0",
          "state": {
            "_model_module": "@jupyter-widgets/controls",
            "_model_module_version": "1.5.0",
            "_model_name": "ProgressStyleModel",
            "_view_count": null,
            "_view_module": "@jupyter-widgets/base",
            "_view_module_version": "1.2.0",
            "_view_name": "StyleView",
            "bar_color": null,
            "description_width": ""
          }
        },
        "18ae6d481c484b39a72a19ca1069a1a8": {
          "model_module": "@jupyter-widgets/base",
          "model_name": "LayoutModel",
          "model_module_version": "1.2.0",
          "state": {
            "_model_module": "@jupyter-widgets/base",
            "_model_module_version": "1.2.0",
            "_model_name": "LayoutModel",
            "_view_count": null,
            "_view_module": "@jupyter-widgets/base",
            "_view_module_version": "1.2.0",
            "_view_name": "LayoutView",
            "align_content": null,
            "align_items": null,
            "align_self": null,
            "border": null,
            "bottom": null,
            "display": null,
            "flex": null,
            "flex_flow": null,
            "grid_area": null,
            "grid_auto_columns": null,
            "grid_auto_flow": null,
            "grid_auto_rows": null,
            "grid_column": null,
            "grid_gap": null,
            "grid_row": null,
            "grid_template_areas": null,
            "grid_template_columns": null,
            "grid_template_rows": null,
            "height": null,
            "justify_content": null,
            "justify_items": null,
            "left": null,
            "margin": null,
            "max_height": null,
            "max_width": null,
            "min_height": null,
            "min_width": null,
            "object_fit": null,
            "object_position": null,
            "order": null,
            "overflow": null,
            "overflow_x": null,
            "overflow_y": null,
            "padding": null,
            "right": null,
            "top": null,
            "visibility": null,
            "width": null
          }
        },
        "d5d7cb5b3aea4e1d955fca0915ee6088": {
          "model_module": "@jupyter-widgets/controls",
          "model_name": "DescriptionStyleModel",
          "model_module_version": "1.5.0",
          "state": {
            "_model_module": "@jupyter-widgets/controls",
            "_model_module_version": "1.5.0",
            "_model_name": "DescriptionStyleModel",
            "_view_count": null,
            "_view_module": "@jupyter-widgets/base",
            "_view_module_version": "1.2.0",
            "_view_name": "StyleView",
            "description_width": ""
          }
        }
      }
    }
  },
  "nbformat": 4,
  "nbformat_minor": 0
}