{
  "cells": [
    {
      "cell_type": "markdown",
      "metadata": {
        "id": "G7k44CpJhHV2"
      },
      "source": [
        "<a href=\"https://colab.research.google.com/github/awesome-astra/docs/blob/main/docs/pages/tools/notebooks/Retrieval_Augmented_Generation_(for_AI_Chatbots).ipynb\" target=\"_parent\"><img src=\"https://colab.research.google.com/assets/colab-badge.svg\" alt=\"Open In Colab\"/></a>"
      ],
      "id": "G7k44CpJhHV2"
    },
    {
      "cell_type": "markdown",
      "metadata": {
        "id": "ED-96eIReJgU"
      },
      "source": [
        "# Llama Index, NBA Knowledge-base Vector Store\n",
        "\n",
        "Create a Vector Store with Llama index and CassIO, with NBA data to use as a search engine and text generator, backed by Astra DB. Demonstrate multiple Llama index modules and question answering using the framework, including a Gradio Web Interface.\n",
        "\n",
        "New as of 10/12/23:\n",
        " - Added additional team(s) to the result set\n",
        " - Add observability\n",
        "    - Specifically added Weights & Biases Prompts - a suite of LLMOps tools built for the development of LLM-powered applications.\n",
        "\n",
        "Note: much of dataset build code is credited to lifeofbaka (https://github.com/lifeofbaka)"
      ],
      "id": "ED-96eIReJgU"
    },
    {
      "cell_type": "markdown",
      "metadata": {
        "id": "ofKNCmHTeJgX"
      },
      "source": [
        "## Colab-specific setup"
      ],
      "id": "ofKNCmHTeJgX"
    },
    {
      "cell_type": "markdown",
      "metadata": {
        "id": "vHPHk0PzeJgX"
      },
      "source": [
        "#Have an Astra Vector Database available and get ready to upload the Secure Connect Bundle and supply the Token string\n",
        "(see [Pre-requisites](https://cassio.org/start_here/#vector-database) on cassio.org for details. Remember you need a custom Token with role [Database Administrator](https://awesome-astra.github.io/docs/pages/astra/create-token/)).\n",
        "\n",
        "Likewise, ensure you have the necessary secret for the LLM provider of your choice: you'll be asked to input it shortly\n",
        "(see [Pre-requisites](https://cassio.org/start_here/#llm-access) on cassio.org for details).\n",
        "\n",
        "_Note: this notebook is part of the CassIO documentation. Visit [this page on cassIO.org](https://cassio.org/frameworks/llamaindex/vector-quickstart/)._\n"
      ],
      "id": "vHPHk0PzeJgX"
    },
    {
      "cell_type": "code",
      "execution_count": null,
      "id": "2953d95b",
      "metadata": {
        "id": "2953d95b",
        "colab": {
          "base_uri": "https://localhost:8080/"
        },
        "outputId": "dcb32462-57ed-4a62-e013-d0f4ec4609ea"
      },
      "outputs": [
        {
          "output_type": "stream",
          "name": "stdout",
          "text": [
            "  Preparing metadata (setup.py) ... \u001b[?25l\u001b[?25hdone\n",
            "  Preparing metadata (setup.py) ... \u001b[?25l\u001b[?25hdone\n",
            "  Preparing metadata (setup.py) ... \u001b[?25l\u001b[?25hdone\n",
            "  Preparing metadata (setup.py) ... \u001b[?25l\u001b[?25hdone\n",
            "  Building wheel for wikipedia (setup.py) ... \u001b[?25l\u001b[?25hdone\n",
            "  Building wheel for bs4 (setup.py) ... \u001b[?25l\u001b[?25hdone\n",
            "  Building wheel for ffmpy (setup.py) ... \u001b[?25l\u001b[?25hdone\n",
            "  Building wheel for pathtools (setup.py) ... \u001b[?25l\u001b[?25hdone\n"
          ]
        }
      ],
      "source": [
        "# install required dependencies\n",
        "! pip install -q --progress-bar off \\\n",
        "    \"cassio>=0.1.0\" \\\n",
        "    \"google-cloud-aiplatform>=1.25.0\" \\\n",
        "    \"jupyter>=1.0.0\" \\\n",
        "    \"llama-index\" \\\n",
        "    \"wandb\" \\\n",
        "    \"nltk==3.8.1\" \\\n",
        "    \"pypdf==3.15.2\" \\\n",
        "    \"python-dotenv==1.0.0\" \\\n",
        "    \"openai\" \\\n",
        "    \"langchain\" \\\n",
        "    \"pypdf\" \\\n",
        "    \"PyCryptodome\" \\\n",
        "    \"gradio\" \\\n",
        "    \"wikipedia\" \\\n",
        "    \"bs4\" \\\n",
        "    \"transformers\"\n",
        "exit()"
      ]
    },
    {
      "cell_type": "markdown",
      "id": "222f44ff",
      "metadata": {
        "id": "222f44ff"
      },
      "source": [
        "⚠️ **Do not mind a \"Your session crashed...\" message you may see.**\n",
        "\n",
        "It was us, making sure your kernel restarts with all the correct dependency versions. _You can now proceed with the notebook._"
      ]
    },
    {
      "cell_type": "code",
      "source": [
        "# imports\n",
        "from bs4 import BeautifulSoup\n",
        "import numpy as np\n",
        "import requests\n",
        "import re\n",
        "import pandas as pd\n",
        "import io\n",
        "import csv\n",
        "import wikipedia\n",
        "from typing import Any, List\n",
        "import json\n",
        "import os\n",
        "import re\n",
        "from urllib.request import urlopen\n",
        "import openai\n",
        "from pathlib import Path\n",
        "from llama_index import download_loader\n",
        "from llama_index import (\n",
        "    GPTVectorStoreIndex,\n",
        "    GPTSimpleKeywordTableIndex,\n",
        "    SimpleDirectoryReader,\n",
        "    LLMPredictor,\n",
        "    ServiceContext\n",
        ")\n",
        "from llama_index import StorageContext, ServiceContext, GPTVectorStoreIndex, LLMPredictor, PromptHelper, SimpleDirectoryReader, load_index_from_storage\n",
        "from langchain.llms.openai import OpenAIChat\n",
        "from langchain.chat_models import ChatOpenAI"
      ],
      "metadata": {
        "id": "t9QgfpjDg1GB"
      },
      "id": "t9QgfpjDg1GB",
      "execution_count": null,
      "outputs": []
    },
    {
      "cell_type": "code",
      "execution_count": null,
      "metadata": {
        "id": "4WZbYRjXeJga",
        "colab": {
          "base_uri": "https://localhost:8080/"
        },
        "outputId": "daf3416d-70d6-4973-f035-6fa3faf93769"
      },
      "outputs": [
        {
          "name": "stdout",
          "output_type": "stream",
          "text": [
            "Your Astra DB Keyspace name vector_preview\n"
          ]
        }
      ],
      "source": [
        "# Input your database keyspace name:\n",
        "ASTRA_DB_KEYSPACE = input('Your Astra DB Keyspace name ')"
      ],
      "id": "4WZbYRjXeJga"
    },
    {
      "cell_type": "code",
      "execution_count": null,
      "metadata": {
        "id": "Pn639rDxeJga",
        "colab": {
          "base_uri": "https://localhost:8080/"
        },
        "outputId": "d28de7ae-1dd7-47df-eaee-8f8af420c2a8"
      },
      "outputs": [
        {
          "name": "stdout",
          "output_type": "stream",
          "text": [
            "Your Astra DB Token (\"AstraCS:...\"): ··········\n"
          ]
        }
      ],
      "source": [
        "# Input your Astra DB token string, the one starting with \"AstraCS:...\"\n",
        "from getpass import getpass\n",
        "ASTRA_DB_APPLICATION_TOKEN = getpass('Your Astra DB Token (\"AstraCS:...\"): ')"
      ],
      "id": "Pn639rDxeJga"
    },
    {
      "cell_type": "markdown",
      "metadata": {
        "id": "QNQ6T_Gjk0Oz"
      },
      "source": [
        "### Astra DB Secure Connect Bundle\n",
        "\n",
        "Please upload the Secure Connect Bundle zipfile to connect to your Astra DB instance.\n",
        "\n",
        "The Secure Connect Bundle is needed to establish a secure connection to the database.\n",
        "Click [here](https://awesome-astra.github.io/docs/pages/astra/download-scb/#c-procedure) for instructions on how to download it from Astra DB."
      ],
      "id": "QNQ6T_Gjk0Oz"
    },
    {
      "cell_type": "code",
      "execution_count": null,
      "metadata": {
        "id": "cOvOvajWeJgb",
        "colab": {
          "base_uri": "https://localhost:8080/",
          "height": 91
        },
        "outputId": "bb02861a-37e8-4035-b4c9-8984ce2d3b12"
      },
      "outputs": [
        {
          "output_type": "stream",
          "name": "stdout",
          "text": [
            "Please upload your Secure Connect Bundle\n"
          ]
        },
        {
          "output_type": "display_data",
          "data": {
            "text/plain": [
              "<IPython.core.display.HTML object>"
            ],
            "text/html": [
              "\n",
              "     <input type=\"file\" id=\"files-83060ff6-5f6e-4a59-a2a0-2b194b8b8ce9\" name=\"files[]\" multiple disabled\n",
              "        style=\"border:none\" />\n",
              "     <output id=\"result-83060ff6-5f6e-4a59-a2a0-2b194b8b8ce9\">\n",
              "      Upload widget is only available when the cell has been executed in the\n",
              "      current browser session. Please rerun this cell to enable.\n",
              "      </output>\n",
              "      <script>// Copyright 2017 Google LLC\n",
              "//\n",
              "// Licensed under the Apache License, Version 2.0 (the \"License\");\n",
              "// you may not use this file except in compliance with the License.\n",
              "// You may obtain a copy of the License at\n",
              "//\n",
              "//      http://www.apache.org/licenses/LICENSE-2.0\n",
              "//\n",
              "// Unless required by applicable law or agreed to in writing, software\n",
              "// distributed under the License is distributed on an \"AS IS\" BASIS,\n",
              "// WITHOUT WARRANTIES OR CONDITIONS OF ANY KIND, either express or implied.\n",
              "// See the License for the specific language governing permissions and\n",
              "// limitations under the License.\n",
              "\n",
              "/**\n",
              " * @fileoverview Helpers for google.colab Python module.\n",
              " */\n",
              "(function(scope) {\n",
              "function span(text, styleAttributes = {}) {\n",
              "  const element = document.createElement('span');\n",
              "  element.textContent = text;\n",
              "  for (const key of Object.keys(styleAttributes)) {\n",
              "    element.style[key] = styleAttributes[key];\n",
              "  }\n",
              "  return element;\n",
              "}\n",
              "\n",
              "// Max number of bytes which will be uploaded at a time.\n",
              "const MAX_PAYLOAD_SIZE = 100 * 1024;\n",
              "\n",
              "function _uploadFiles(inputId, outputId) {\n",
              "  const steps = uploadFilesStep(inputId, outputId);\n",
              "  const outputElement = document.getElementById(outputId);\n",
              "  // Cache steps on the outputElement to make it available for the next call\n",
              "  // to uploadFilesContinue from Python.\n",
              "  outputElement.steps = steps;\n",
              "\n",
              "  return _uploadFilesContinue(outputId);\n",
              "}\n",
              "\n",
              "// This is roughly an async generator (not supported in the browser yet),\n",
              "// where there are multiple asynchronous steps and the Python side is going\n",
              "// to poll for completion of each step.\n",
              "// This uses a Promise to block the python side on completion of each step,\n",
              "// then passes the result of the previous step as the input to the next step.\n",
              "function _uploadFilesContinue(outputId) {\n",
              "  const outputElement = document.getElementById(outputId);\n",
              "  const steps = outputElement.steps;\n",
              "\n",
              "  const next = steps.next(outputElement.lastPromiseValue);\n",
              "  return Promise.resolve(next.value.promise).then((value) => {\n",
              "    // Cache the last promise value to make it available to the next\n",
              "    // step of the generator.\n",
              "    outputElement.lastPromiseValue = value;\n",
              "    return next.value.response;\n",
              "  });\n",
              "}\n",
              "\n",
              "/**\n",
              " * Generator function which is called between each async step of the upload\n",
              " * process.\n",
              " * @param {string} inputId Element ID of the input file picker element.\n",
              " * @param {string} outputId Element ID of the output display.\n",
              " * @return {!Iterable<!Object>} Iterable of next steps.\n",
              " */\n",
              "function* uploadFilesStep(inputId, outputId) {\n",
              "  const inputElement = document.getElementById(inputId);\n",
              "  inputElement.disabled = false;\n",
              "\n",
              "  const outputElement = document.getElementById(outputId);\n",
              "  outputElement.innerHTML = '';\n",
              "\n",
              "  const pickedPromise = new Promise((resolve) => {\n",
              "    inputElement.addEventListener('change', (e) => {\n",
              "      resolve(e.target.files);\n",
              "    });\n",
              "  });\n",
              "\n",
              "  const cancel = document.createElement('button');\n",
              "  inputElement.parentElement.appendChild(cancel);\n",
              "  cancel.textContent = 'Cancel upload';\n",
              "  const cancelPromise = new Promise((resolve) => {\n",
              "    cancel.onclick = () => {\n",
              "      resolve(null);\n",
              "    };\n",
              "  });\n",
              "\n",
              "  // Wait for the user to pick the files.\n",
              "  const files = yield {\n",
              "    promise: Promise.race([pickedPromise, cancelPromise]),\n",
              "    response: {\n",
              "      action: 'starting',\n",
              "    }\n",
              "  };\n",
              "\n",
              "  cancel.remove();\n",
              "\n",
              "  // Disable the input element since further picks are not allowed.\n",
              "  inputElement.disabled = true;\n",
              "\n",
              "  if (!files) {\n",
              "    return {\n",
              "      response: {\n",
              "        action: 'complete',\n",
              "      }\n",
              "    };\n",
              "  }\n",
              "\n",
              "  for (const file of files) {\n",
              "    const li = document.createElement('li');\n",
              "    li.append(span(file.name, {fontWeight: 'bold'}));\n",
              "    li.append(span(\n",
              "        `(${file.type || 'n/a'}) - ${file.size} bytes, ` +\n",
              "        `last modified: ${\n",
              "            file.lastModifiedDate ? file.lastModifiedDate.toLocaleDateString() :\n",
              "                                    'n/a'} - `));\n",
              "    const percent = span('0% done');\n",
              "    li.appendChild(percent);\n",
              "\n",
              "    outputElement.appendChild(li);\n",
              "\n",
              "    const fileDataPromise = new Promise((resolve) => {\n",
              "      const reader = new FileReader();\n",
              "      reader.onload = (e) => {\n",
              "        resolve(e.target.result);\n",
              "      };\n",
              "      reader.readAsArrayBuffer(file);\n",
              "    });\n",
              "    // Wait for the data to be ready.\n",
              "    let fileData = yield {\n",
              "      promise: fileDataPromise,\n",
              "      response: {\n",
              "        action: 'continue',\n",
              "      }\n",
              "    };\n",
              "\n",
              "    // Use a chunked sending to avoid message size limits. See b/62115660.\n",
              "    let position = 0;\n",
              "    do {\n",
              "      const length = Math.min(fileData.byteLength - position, MAX_PAYLOAD_SIZE);\n",
              "      const chunk = new Uint8Array(fileData, position, length);\n",
              "      position += length;\n",
              "\n",
              "      const base64 = btoa(String.fromCharCode.apply(null, chunk));\n",
              "      yield {\n",
              "        response: {\n",
              "          action: 'append',\n",
              "          file: file.name,\n",
              "          data: base64,\n",
              "        },\n",
              "      };\n",
              "\n",
              "      let percentDone = fileData.byteLength === 0 ?\n",
              "          100 :\n",
              "          Math.round((position / fileData.byteLength) * 100);\n",
              "      percent.textContent = `${percentDone}% done`;\n",
              "\n",
              "    } while (position < fileData.byteLength);\n",
              "  }\n",
              "\n",
              "  // All done.\n",
              "  yield {\n",
              "    response: {\n",
              "      action: 'complete',\n",
              "    }\n",
              "  };\n",
              "}\n",
              "\n",
              "scope.google = scope.google || {};\n",
              "scope.google.colab = scope.google.colab || {};\n",
              "scope.google.colab._files = {\n",
              "  _uploadFiles,\n",
              "  _uploadFilesContinue,\n",
              "};\n",
              "})(self);\n",
              "</script> "
            ]
          },
          "metadata": {}
        },
        {
          "output_type": "stream",
          "name": "stdout",
          "text": [
            "Saving secure-connect-vectordemo.zip to secure-connect-vectordemo.zip\n"
          ]
        }
      ],
      "source": [
        "# Upload your Secure Connect Bundle zipfile:\n",
        "import os\n",
        "from google.colab import files\n",
        "\n",
        "\n",
        "print('Please upload your Secure Connect Bundle')\n",
        "uploaded = files.upload()\n",
        "if uploaded:\n",
        "    astraBundleFileTitle = list(uploaded.keys())[0]\n",
        "    ASTRA_DB_SECURE_BUNDLE_PATH = os.path.join(os.getcwd(), astraBundleFileTitle)\n",
        "else:\n",
        "    raise ValueError(\n",
        "        'Cannot proceed without Secure Connect Bundle. Please re-run the cell.'\n",
        "    )"
      ],
      "id": "cOvOvajWeJgb"
    },
    {
      "cell_type": "code",
      "execution_count": null,
      "metadata": {
        "id": "ZvILNPMbeJgb"
      },
      "outputs": [],
      "source": [
        "# colab-specific override of helper functions\n",
        "from cassandra.cluster import (\n",
        "    Cluster,\n",
        ")\n",
        "from cassandra.auth import PlainTextAuthProvider\n",
        "\n",
        "\n",
        "def getCQLSession(mode='astra_db'):\n",
        "    if mode == 'astra_db':\n",
        "        cluster = Cluster(\n",
        "            cloud={\n",
        "                \"secure_connect_bundle\": ASTRA_DB_SECURE_BUNDLE_PATH,\n",
        "            },\n",
        "            auth_provider=PlainTextAuthProvider(\n",
        "                \"token\",\n",
        "                ASTRA_DB_APPLICATION_TOKEN,\n",
        "            ),\n",
        "        )\n",
        "        astraSession = cluster.connect()\n",
        "        return astraSession\n",
        "    else:\n",
        "        raise ValueError('Unsupported CQL Session mode')\n",
        "\n",
        "def getCQLKeyspace(mode='astra_db'):\n",
        "    if mode == 'astra_db':\n",
        "        return ASTRA_DB_KEYSPACE\n",
        "    else:\n",
        "        raise ValueError('Unsupported CQL Session mode')"
      ],
      "id": "ZvILNPMbeJgb"
    },
    {
      "cell_type": "markdown",
      "metadata": {
        "id": "QXCQ6T_Gjk0Oz"
      },
      "source": [
        "### LLM Provider\n",
        "\n",
        "In the cell below you can choose between **GCP Vertex AI** or **OpenAI** for your LLM services.\n",
        "(See [Pre-requisites](https://cassio.org/start_here/#llm-access) on cassio.org for more details).\n",
        "\n",
        "Make sure you set the `llmProvider` variable and supply the corresponding access secrets in the following cell."
      ],
      "id": "QXCQ6T_Gjk0Oz"
    },
    {
      "cell_type": "code",
      "execution_count": null,
      "metadata": {
        "id": "pFP77KF2eJgc"
      },
      "outputs": [],
      "source": [
        "# Set your secret(s) for LLM access:\n",
        "llmProvider = 'OpenAI'  # 'GCP_VertexAI', 'Azure_OpenAI'\n"
      ],
      "id": "pFP77KF2eJgc"
    },
    {
      "cell_type": "code",
      "execution_count": null,
      "metadata": {
        "id": "ZS8rxRJAeJgc",
        "colab": {
          "base_uri": "https://localhost:8080/"
        },
        "outputId": "c800e02d-4b65-40c9-e92e-493be4c6ae80"
      },
      "outputs": [
        {
          "name": "stdout",
          "output_type": "stream",
          "text": [
            "Your secret for LLM provider \"OpenAI\": ··········\n"
          ]
        }
      ],
      "source": [
        "from getpass import getpass\n",
        "if llmProvider == 'OpenAI':\n",
        "    apiSecret = getpass(f'Your secret for LLM provider \"{llmProvider}\": ')\n",
        "    os.environ['OPENAI_API_KEY'] = apiSecret\n",
        "elif llmProvider == 'GCP_VertexAI':\n",
        "    # we need a json file\n",
        "    print(f'Please upload your Service Account JSON for the LLM provider \"{llmProvider}\":')\n",
        "    from google.colab import files\n",
        "    uploaded = files.upload()\n",
        "    if uploaded:\n",
        "        vertexAIJsonFileTitle = list(uploaded.keys())[0]\n",
        "        os.environ['GOOGLE_APPLICATION_CREDENTIALS'] = os.path.join(os.getcwd(), vertexAIJsonFileTitle)\n",
        "    else:\n",
        "        raise ValueError(\n",
        "            'No file uploaded. Please re-run the cell.'\n",
        "        )\n",
        "elif llmProvider == 'Azure_OpenAI':\n",
        "    # a few parameters must be input\n",
        "    apiSecret = input(f'Your API Key for LLM provider \"{llmProvider}\": ')\n",
        "    os.environ['AZURE_OPENAI_API_KEY'] = apiSecret\n",
        "    apiBase = input('The \"Base URL\" for your models (e.g. \"https://YOUR-RESOURCE-NAME.openai.azure.com\"): ')\n",
        "    os.environ['AZURE_OPENAI_API_BASE'] = apiBase\n",
        "    apiLLMDepl = input('The name of your LLM Deployment: ')\n",
        "    os.environ['AZURE_OPENAI_LLM_DEPLOYMENT'] = apiLLMDepl\n",
        "    apiLLMModel = input('The name of your LLM Model (e.g. \"gpt-4\"): ')\n",
        "    os.environ['AZURE_OPENAI_LLM_MODEL'] = apiLLMModel\n",
        "    apiEmbDepl = input('The name for your Embeddings Deployment: ')\n",
        "    os.environ['AZURE_OPENAI_EMBEDDINGS_DEPLOYMENT'] = apiEmbDepl\n",
        "    apiEmbModel = input('The name of your Embedding Model (e.g. \"text-embedding-ada-002\"): ')\n",
        "    os.environ['AZURE_OPENAI_EMBEDDINGS_MODEL'] = apiEmbModel\n",
        "\n",
        "    # The following is probably not going to change for some time...\n",
        "    os.environ['AZURE_OPENAI_API_VERSION'] = '2023-03-15-preview'\n",
        "else:\n",
        "    raise ValueError('Unknown/unsupported LLM Provider')"
      ],
      "id": "ZS8rxRJAeJgc"
    },
    {
      "cell_type": "markdown",
      "source": [
        "### Wikipedia Dataset\n",
        "using help from lifeofbacka to retrieve a dataset from wikipedia. We will focus on NBA teams as the topic of interest. And for demo purposes we'll focus on two teams."
      ],
      "metadata": {
        "id": "OFxLtVzJjBpm"
      },
      "id": "OFxLtVzJjBpm"
    },
    {
      "cell_type": "code",
      "source": [
        "#wiki links\n",
        "wiki_txt_links = ['https://raw.githubusercontent.com/lifeofbaka/Datasets/main/Wikipedia/wiki' + str(i)+ '.txt' for i in range(1,9)] #if wiki size changes update the range."
      ],
      "metadata": {
        "id": "H74vPDe8ikYE"
      },
      "id": "H74vPDe8ikYE",
      "execution_count": null,
      "outputs": []
    },
    {
      "cell_type": "code",
      "source": [
        "# topics\n",
        "\n",
        "# basketball_teams = [\n",
        "#     \"Atlanta Hawks\",\n",
        "#     \"Boston Celtics\",\n",
        "#     \"Brooklyn Nets\",\n",
        "#     \"Charlotte Hornets\",\n",
        "#     \"Chicago Bulls\",\n",
        "#     \"Cleveland Cavaliers\",\n",
        "#     \"Dallas Mavericks\",\n",
        "#     \"Denver Nuggets\",\n",
        "#     \"Detroit Pistons\",\n",
        "#     \"Golden State Warriors\",\n",
        "#     \"Houston Rockets\",\n",
        "#     \"Indiana Pacers\",\n",
        "#     \"Los Angeles Clippers\",\n",
        "#     \"Los Angeles Lakers\",\n",
        "#     \"Memphis Grizzlies\",\n",
        "#     \"Miami Heat\",\n",
        "#     \"Milwaukee Bucks\",\n",
        "#     \"Minnesota Timberwolves\",\n",
        "#     \"New Orleans Pelicans\",\n",
        "#     \"New York Knicks\",\n",
        "#     \"Oklahoma City Thunder\",\n",
        "#     \"Orlando Magic\",\n",
        "#     \"Philadelphia 76ers\",\n",
        "#     \"Phoenix Suns\",\n",
        "#     \"Portland Trail Blazers\",\n",
        "#     \"Sacramento Kings\",\n",
        "#     \"San Antonio Spurs\",\n",
        "#     \"Toronto Raptors\",\n",
        "#     \"Utah Jazz\",\n",
        "#     \"Washington Wizards\"\n",
        "# ]\n",
        "'''"
      ],
      "metadata": {
        "id": "MANZYcdfi6H3"
      },
      "id": "MANZYcdfi6H3",
      "execution_count": null,
      "outputs": []
    },
    {
      "cell_type": "code",
      "source": [
        "# smaller test case with two teams\n",
        "basketball_teams = [ \"Utah Jazz\",\"Dallas Mavericks\"]"
      ],
      "metadata": {
        "id": "AJ2g7J3qkKzp"
      },
      "id": "AJ2g7J3qkKzp",
      "execution_count": null,
      "outputs": []
    },
    {
      "cell_type": "code",
      "source": [
        "len(basketball_teams)"
      ],
      "metadata": {
        "colab": {
          "base_uri": "https://localhost:8080/"
        },
        "id": "PgPFieEnkfZg",
        "outputId": "2cbed6ed-83eb-42e4-a6c1-7a58bef4ce92"
      },
      "id": "PgPFieEnkfZg",
      "execution_count": null,
      "outputs": [
        {
          "output_type": "execute_result",
          "data": {
            "text/plain": [
              "2"
            ]
          },
          "metadata": {},
          "execution_count": 10
        }
      ]
    },
    {
      "cell_type": "code",
      "source": [
        "# Wiki Extraction\n",
        "# find every wiki that has one of the values in the topic case. Then add values to a list to be read later\n",
        "\n",
        "nba_wiki = []\n",
        "for i in range(len(wiki_txt_links)):\n",
        "   data = urlopen(wiki_txt_links[i]) # it's a file like object and works just like a file\n",
        "   articles = [line.strip() for line in data] # files are iterable\n",
        "   for team in basketball_teams:\n",
        "      for topic in articles:\n",
        "        if team in str(topic):\n",
        "          pattern = r'\\xe2\\x80\\x93'\n",
        "          matches = re.findall(pattern, str(topic))\n",
        "          if not matches:\n",
        "            nba_wiki.append(str(topic)[2:-1])\n",
        "print (len(nba_wiki))"
      ],
      "metadata": {
        "colab": {
          "base_uri": "https://localhost:8080/"
        },
        "id": "3N26xMRAkooC",
        "outputId": "f5a13f6f-92f8-489a-df55-28de9a683788"
      },
      "id": "3N26xMRAkooC",
      "execution_count": null,
      "outputs": [
        {
          "output_type": "stream",
          "name": "stdout",
          "text": [
            "360\n"
          ]
        }
      ]
    },
    {
      "cell_type": "code",
      "source": [
        "nba_wiki"
      ],
      "metadata": {
        "colab": {
          "base_uri": "https://localhost:8080/"
        },
        "id": "_Zbdh-h0lC3P",
        "outputId": "7230f998-3684-49c7-a3f8-e3b9a7cc478e"
      },
      "id": "_Zbdh-h0lC3P",
      "execution_count": null,
      "outputs": [
        {
          "output_type": "execute_result",
          "data": {
            "text/plain": [
              "['1978-79 Utah Jazz season',\n",
              " '1978\\\\xe2\\\\x80\\\\x9379 Utah Jazz season',\n",
              " '1979-80 Utah Jazz',\n",
              " '1979-80 Utah Jazz season',\n",
              " '1979\\\\xe2\\\\x80\\\\x9380 Utah Jazz',\n",
              " '1979\\\\xe2\\\\x80\\\\x9380 Utah Jazz season',\n",
              " '1980-81 Utah Jazz',\n",
              " '1980-81 Utah Jazz season',\n",
              " '1980\\\\xe2\\\\x80\\\\x9381 Utah Jazz',\n",
              " '1980\\\\xe2\\\\x80\\\\x9381 Utah Jazz season',\n",
              " '1981-82 Utah Jazz',\n",
              " '1981-82 Utah Jazz season',\n",
              " '1981\\\\xe2\\\\x80\\\\x9382 Utah Jazz',\n",
              " '1981\\\\xe2\\\\x80\\\\x9382 Utah Jazz season',\n",
              " '1982-83 Utah Jazz',\n",
              " '1982-83 Utah Jazz season',\n",
              " '1982\\\\xe2\\\\x80\\\\x9383 Utah Jazz',\n",
              " '1982\\\\xe2\\\\x80\\\\x9383 Utah Jazz season',\n",
              " '1983-84 Utah Jazz',\n",
              " '1983-84 Utah Jazz season',\n",
              " '1983\\\\xe2\\\\x80\\\\x9384 Utah Jazz',\n",
              " '1983\\\\xe2\\\\x80\\\\x9384 Utah Jazz season',\n",
              " '1984-85 Utah Jazz',\n",
              " '1984-85 Utah Jazz season',\n",
              " '1984\\\\xe2\\\\x80\\\\x9385 Utah Jazz',\n",
              " '1984\\\\xe2\\\\x80\\\\x9385 Utah Jazz season',\n",
              " '1985-86 Utah Jazz',\n",
              " '1985-86 Utah Jazz season',\n",
              " '1985\\\\xe2\\\\x80\\\\x9386 Utah Jazz',\n",
              " '1985\\\\xe2\\\\x80\\\\x9386 Utah Jazz season',\n",
              " '1986-87 Utah Jazz',\n",
              " '1986-87 Utah Jazz season',\n",
              " '1986\\\\xe2\\\\x80\\\\x9387 Utah Jazz',\n",
              " '1986\\\\xe2\\\\x80\\\\x9387 Utah Jazz season',\n",
              " '1987-88 Utah Jazz',\n",
              " '1987-88 Utah Jazz season',\n",
              " '1987\\\\xe2\\\\x80\\\\x9388 Utah Jazz',\n",
              " '1987\\\\xe2\\\\x80\\\\x9388 Utah Jazz season',\n",
              " '1988-89 Utah Jazz',\n",
              " '1988-89 Utah Jazz season',\n",
              " '1988\\\\xe2\\\\x80\\\\x9389 Utah Jazz',\n",
              " '1988\\\\xe2\\\\x80\\\\x9389 Utah Jazz season',\n",
              " '1989-90 Utah Jazz',\n",
              " '1989-90 Utah Jazz season',\n",
              " '1989\\\\xe2\\\\x80\\\\x9390 Utah Jazz',\n",
              " '1989\\\\xe2\\\\x80\\\\x9390 Utah Jazz season',\n",
              " '1990-91 Utah Jazz',\n",
              " '1990-91 Utah Jazz season',\n",
              " '1990\\\\xe2\\\\x80\\\\x9391 Utah Jazz',\n",
              " '1990\\\\xe2\\\\x80\\\\x9391 Utah Jazz season',\n",
              " '1991-92 Utah Jazz',\n",
              " '1991-92 Utah Jazz season',\n",
              " '1991\\\\xe2\\\\x80\\\\x9392 Utah Jazz',\n",
              " '1991\\\\xe2\\\\x80\\\\x9392 Utah Jazz season',\n",
              " '1992-93 Utah Jazz',\n",
              " '1992-93 Utah Jazz season',\n",
              " '1992\\\\xe2\\\\x80\\\\x9393 Utah Jazz',\n",
              " '1992\\\\xe2\\\\x80\\\\x9393 Utah Jazz season',\n",
              " '1993-94 Utah Jazz',\n",
              " '1993-94 Utah Jazz season',\n",
              " '1993\\\\xe2\\\\x80\\\\x9394 Utah Jazz',\n",
              " '1993\\\\xe2\\\\x80\\\\x9394 Utah Jazz season',\n",
              " '1994-95 Utah Jazz',\n",
              " '1994-95 Utah Jazz season',\n",
              " '1994\\\\xe2\\\\x80\\\\x9395 Utah Jazz',\n",
              " '1994\\\\xe2\\\\x80\\\\x9395 Utah Jazz season',\n",
              " '1995-96 Utah Jazz',\n",
              " '1995-96 Utah Jazz season',\n",
              " '1995\\\\xe2\\\\x80\\\\x9396 Utah Jazz',\n",
              " '1995\\\\xe2\\\\x80\\\\x9396 Utah Jazz season',\n",
              " '1996-97 Utah Jazz',\n",
              " '1996-97 Utah Jazz season',\n",
              " '1996\\\\xe2\\\\x80\\\\x9397 Utah Jazz',\n",
              " '1996\\\\xe2\\\\x80\\\\x9397 Utah Jazz season',\n",
              " '1997-98 Utah Jazz',\n",
              " '1997-98 Utah Jazz season',\n",
              " '1997\\\\xe2\\\\x80\\\\x9398 Utah Jazz',\n",
              " '1997\\\\xe2\\\\x80\\\\x9398 Utah Jazz season',\n",
              " '1998-99 Utah Jazz',\n",
              " '1998-99 Utah Jazz season',\n",
              " '1998\\\\xe2\\\\x80\\\\x9399 Utah Jazz',\n",
              " '1998\\\\xe2\\\\x80\\\\x9399 Utah Jazz season',\n",
              " '1999-00 Utah Jazz season',\n",
              " '1999-2000 Utah Jazz',\n",
              " '1999-2000 Utah Jazz season',\n",
              " '1999\\\\xe2\\\\x80\\\\x9300 Utah Jazz season',\n",
              " '1999\\\\xe2\\\\x80\\\\x932000 Utah Jazz',\n",
              " '1999\\\\xe2\\\\x80\\\\x932000 Utah Jazz season',\n",
              " '2000-01 Utah Jazz',\n",
              " '2000-01 Utah Jazz season',\n",
              " '2000\\\\xe2\\\\x80\\\\x9301 Utah Jazz',\n",
              " '2000\\\\xe2\\\\x80\\\\x9301 Utah Jazz season',\n",
              " '2001-02 Utah Jazz',\n",
              " '2001-02 Utah Jazz season',\n",
              " '2001\\\\xe2\\\\x80\\\\x9302 Utah Jazz',\n",
              " '2001\\\\xe2\\\\x80\\\\x9302 Utah Jazz season',\n",
              " '2002-03 Utah Jazz',\n",
              " '2002-03 Utah Jazz season',\n",
              " '2002\\\\xe2\\\\x80\\\\x9303 Utah Jazz',\n",
              " '2002\\\\xe2\\\\x80\\\\x9303 Utah Jazz season',\n",
              " '2003-04 Utah Jazz',\n",
              " '2003-04 Utah Jazz season',\n",
              " '2003\\\\xe2\\\\x80\\\\x9304 Utah Jazz',\n",
              " '2003\\\\xe2\\\\x80\\\\x9304 Utah Jazz season',\n",
              " '2004-05 Utah Jazz',\n",
              " '2004-05 Utah Jazz season',\n",
              " '2004\\\\xe2\\\\x80\\\\x9305 Utah Jazz',\n",
              " '2004\\\\xe2\\\\x80\\\\x9305 Utah Jazz season',\n",
              " '2005-06 Utah Jazz',\n",
              " '2005-06 Utah Jazz season',\n",
              " '2005\\\\xe2\\\\x80\\\\x9306 Utah Jazz',\n",
              " '2005\\\\xe2\\\\x80\\\\x9306 Utah Jazz season',\n",
              " '2006-07 Utah Jazz',\n",
              " '2006-07 Utah Jazz season',\n",
              " '2006\\\\xe2\\\\x80\\\\x9307 Utah Jazz',\n",
              " '2006\\\\xe2\\\\x80\\\\x9307 Utah Jazz season',\n",
              " '2007-08 Utah Jazz',\n",
              " '2007-08 Utah Jazz season',\n",
              " '2007\\\\xe2\\\\x80\\\\x9308 Utah Jazz',\n",
              " '2007\\\\xe2\\\\x80\\\\x9308 Utah Jazz season',\n",
              " '2008-09 Utah Jazz',\n",
              " '2008-09 Utah Jazz season',\n",
              " '2008\\\\xe2\\\\x80\\\\x9309 Utah Jazz',\n",
              " '2008\\\\xe2\\\\x80\\\\x9309 Utah Jazz season',\n",
              " '2009-10 Utah Jazz',\n",
              " '2009-10 Utah Jazz season',\n",
              " '2009\\\\xe2\\\\x80\\\\x9310 Utah Jazz',\n",
              " '2009\\\\xe2\\\\x80\\\\x9310 Utah Jazz season',\n",
              " '2010-11 Utah Jazz',\n",
              " '2010-11 Utah Jazz season',\n",
              " '2010\\\\xe2\\\\x80\\\\x9311 Utah Jazz',\n",
              " '2010\\\\xe2\\\\x80\\\\x9311 Utah Jazz season',\n",
              " '2011-12 Utah Jazz',\n",
              " '2011-12 Utah Jazz season',\n",
              " '2011\\\\xe2\\\\x80\\\\x9312 Utah Jazz',\n",
              " '2011\\\\xe2\\\\x80\\\\x9312 Utah Jazz season',\n",
              " '2012-13 Utah Jazz',\n",
              " '2012-13 Utah Jazz season',\n",
              " '2012\\\\xe2\\\\x80\\\\x9313 Utah Jazz',\n",
              " '2012\\\\xe2\\\\x80\\\\x9313 Utah Jazz season',\n",
              " '2013-14 Utah Jazz',\n",
              " '2013-14 Utah Jazz season',\n",
              " '2013\\\\xe2\\\\x80\\\\x9314 Utah Jazz',\n",
              " '2013\\\\xe2\\\\x80\\\\x9314 Utah Jazz season',\n",
              " '2014-15 Utah Jazz',\n",
              " '2014-15 Utah Jazz season',\n",
              " '2014\\\\xe2\\\\x80\\\\x9315 Utah Jazz',\n",
              " '2014\\\\xe2\\\\x80\\\\x9315 Utah Jazz season',\n",
              " '2015-16 Utah Jazz',\n",
              " '2015-16 Utah Jazz season',\n",
              " '2015\\\\xe2\\\\x80\\\\x9316 Utah Jazz',\n",
              " '2015\\\\xe2\\\\x80\\\\x9316 Utah Jazz season',\n",
              " '2016-17 Utah Jazz',\n",
              " '2016-17 Utah Jazz season',\n",
              " '2016\\\\xe2\\\\x80\\\\x9317 Utah Jazz',\n",
              " '2016\\\\xe2\\\\x80\\\\x9317 Utah Jazz season',\n",
              " '2017-18 Utah Jazz',\n",
              " '2017-18 Utah Jazz season',\n",
              " '1980-81 Dallas Mavericks',\n",
              " '1980-81 Dallas Mavericks season',\n",
              " '1980\\\\xe2\\\\x80\\\\x9381 Dallas Mavericks',\n",
              " '1980\\\\xe2\\\\x80\\\\x9381 Dallas Mavericks season',\n",
              " '1981-82 Dallas Mavericks',\n",
              " '1981-82 Dallas Mavericks season',\n",
              " '1981\\\\xe2\\\\x80\\\\x9382 Dallas Mavericks',\n",
              " '1981\\\\xe2\\\\x80\\\\x9382 Dallas Mavericks season',\n",
              " '1982-83 Dallas Mavericks',\n",
              " '1982-83 Dallas Mavericks season',\n",
              " '1982\\\\xe2\\\\x80\\\\x9383 Dallas Mavericks',\n",
              " '1982\\\\xe2\\\\x80\\\\x9383 Dallas Mavericks season',\n",
              " '1983-84 Dallas Mavericks',\n",
              " '1983-84 Dallas Mavericks season',\n",
              " '1983\\\\xe2\\\\x80\\\\x9384 Dallas Mavericks',\n",
              " '1983\\\\xe2\\\\x80\\\\x9384 Dallas Mavericks season',\n",
              " '1984-85 Dallas Mavericks',\n",
              " '1984-85 Dallas Mavericks season',\n",
              " '1984\\\\xe2\\\\x80\\\\x9385 Dallas Mavericks',\n",
              " '1984\\\\xe2\\\\x80\\\\x9385 Dallas Mavericks season',\n",
              " '1985-86 Dallas Mavericks',\n",
              " '1985-86 Dallas Mavericks season',\n",
              " '1985\\\\xe2\\\\x80\\\\x9386 Dallas Mavericks',\n",
              " '1985\\\\xe2\\\\x80\\\\x9386 Dallas Mavericks season',\n",
              " '1986-87 Dallas Mavericks',\n",
              " '1986-87 Dallas Mavericks season',\n",
              " '1986\\\\xe2\\\\x80\\\\x9387 Dallas Mavericks',\n",
              " '1986\\\\xe2\\\\x80\\\\x9387 Dallas Mavericks season',\n",
              " '1987-88 Dallas Mavericks',\n",
              " '1987-88 Dallas Mavericks season',\n",
              " '1987\\\\xe2\\\\x80\\\\x9388 Dallas Mavericks',\n",
              " '1987\\\\xe2\\\\x80\\\\x9388 Dallas Mavericks season',\n",
              " '1988-89 Dallas Mavericks',\n",
              " '1988-89 Dallas Mavericks season',\n",
              " '1988\\\\xe2\\\\x80\\\\x9389 Dallas Mavericks',\n",
              " '1988\\\\xe2\\\\x80\\\\x9389 Dallas Mavericks season',\n",
              " '1989-90 Dallas Mavericks',\n",
              " '1989-90 Dallas Mavericks season',\n",
              " '1989\\\\xe2\\\\x80\\\\x9390 Dallas Mavericks',\n",
              " '1989\\\\xe2\\\\x80\\\\x9390 Dallas Mavericks season',\n",
              " '1990-91 Dallas Mavericks',\n",
              " '1990-91 Dallas Mavericks season',\n",
              " '1990\\\\xe2\\\\x80\\\\x9391 Dallas Mavericks',\n",
              " '1990\\\\xe2\\\\x80\\\\x9391 Dallas Mavericks season',\n",
              " '1991-92 Dallas Mavericks',\n",
              " '1991-92 Dallas Mavericks season',\n",
              " '1991\\\\xe2\\\\x80\\\\x9392 Dallas Mavericks',\n",
              " '1991\\\\xe2\\\\x80\\\\x9392 Dallas Mavericks season',\n",
              " '1992-93 Dallas Mavericks',\n",
              " '1992-93 Dallas Mavericks season',\n",
              " '1992\\\\xe2\\\\x80\\\\x9393 Dallas Mavericks',\n",
              " '1992\\\\xe2\\\\x80\\\\x9393 Dallas Mavericks season',\n",
              " '1993-94 Dallas Mavericks',\n",
              " '1993-94 Dallas Mavericks season',\n",
              " '1993\\\\xe2\\\\x80\\\\x9394 Dallas Mavericks',\n",
              " '1993\\\\xe2\\\\x80\\\\x9394 Dallas Mavericks season',\n",
              " '1994-95 Dallas Mavericks',\n",
              " '1994-95 Dallas Mavericks season',\n",
              " '1994\\\\xe2\\\\x80\\\\x9395 Dallas Mavericks',\n",
              " '1994\\\\xe2\\\\x80\\\\x9395 Dallas Mavericks season',\n",
              " '1995-96 Dallas Mavericks',\n",
              " '1995-96 Dallas Mavericks season',\n",
              " '1995\\\\xe2\\\\x80\\\\x9396 Dallas Mavericks',\n",
              " '1995\\\\xe2\\\\x80\\\\x9396 Dallas Mavericks season',\n",
              " '1996-97 Dallas Mavericks',\n",
              " '1996-97 Dallas Mavericks season',\n",
              " '1996\\\\xe2\\\\x80\\\\x9397 Dallas Mavericks',\n",
              " '1996\\\\xe2\\\\x80\\\\x9397 Dallas Mavericks season',\n",
              " '1997-98 Dallas Mavericks',\n",
              " '1997-98 Dallas Mavericks season',\n",
              " '1997\\\\xe2\\\\x80\\\\x9398 Dallas Mavericks',\n",
              " '1997\\\\xe2\\\\x80\\\\x9398 Dallas Mavericks season',\n",
              " '1998-99 Dallas Mavericks',\n",
              " '1998-99 Dallas Mavericks season',\n",
              " '1998\\\\xe2\\\\x80\\\\x9399 Dallas Mavericks',\n",
              " '1998\\\\xe2\\\\x80\\\\x9399 Dallas Mavericks season',\n",
              " '1999-2000 Dallas Mavericks',\n",
              " '1999-2000 Dallas Mavericks season',\n",
              " '1999\\\\xe2\\\\x80\\\\x932000 Dallas Mavericks',\n",
              " '1999\\\\xe2\\\\x80\\\\x932000 Dallas Mavericks season',\n",
              " '2000-01 Dallas Mavericks',\n",
              " '2000-01 Dallas Mavericks season',\n",
              " '2000\\\\xe2\\\\x80\\\\x9301 Dallas Mavericks',\n",
              " '2000\\\\xe2\\\\x80\\\\x9301 Dallas Mavericks season',\n",
              " '2001-02 Dallas Mavericks',\n",
              " '2001-02 Dallas Mavericks season',\n",
              " '2001\\\\xe2\\\\x80\\\\x9302 Dallas Mavericks',\n",
              " '2001\\\\xe2\\\\x80\\\\x9302 Dallas Mavericks season',\n",
              " '2002-03 Dallas Mavericks',\n",
              " '2002-03 Dallas Mavericks season',\n",
              " '2002\\\\xe2\\\\x80\\\\x9303 Dallas Mavericks',\n",
              " '2002\\\\xe2\\\\x80\\\\x9303 Dallas Mavericks season',\n",
              " '2003-04 Dallas Mavericks',\n",
              " '2003-04 Dallas Mavericks season',\n",
              " '2003\\\\xe2\\\\x80\\\\x9304 Dallas Mavericks',\n",
              " '2003\\\\xe2\\\\x80\\\\x9304 Dallas Mavericks season',\n",
              " '2004-05 Dallas Mavericks',\n",
              " '2004-05 Dallas Mavericks season',\n",
              " '2004\\\\xe2\\\\x80\\\\x9305 Dallas Mavericks',\n",
              " '2004\\\\xe2\\\\x80\\\\x9305 Dallas Mavericks season',\n",
              " '2005-06 Dallas Mavericks',\n",
              " '2005-06 Dallas Mavericks season',\n",
              " '2005\\\\xe2\\\\x80\\\\x9306 Dallas Mavericks',\n",
              " '2005\\\\xe2\\\\x80\\\\x9306 Dallas Mavericks season',\n",
              " '2006-07 Dallas Mavericks',\n",
              " '2006-07 Dallas Mavericks season',\n",
              " '2006\\\\xe2\\\\x80\\\\x9307 Dallas Mavericks',\n",
              " '2006\\\\xe2\\\\x80\\\\x9307 Dallas Mavericks season',\n",
              " '2007-08 Dallas Mavericks',\n",
              " '2007-08 Dallas Mavericks season',\n",
              " '2007\\\\xe2\\\\x80\\\\x9308 Dallas Mavericks',\n",
              " '2007\\\\xe2\\\\x80\\\\x9308 Dallas Mavericks season',\n",
              " '2008-09 Dallas Mavericks',\n",
              " '2008-09 Dallas Mavericks season',\n",
              " '2008\\\\xe2\\\\x80\\\\x9309 Dallas Mavericks',\n",
              " '2008\\\\xe2\\\\x80\\\\x9309 Dallas Mavericks season',\n",
              " '2009-10 Dallas Mavericks',\n",
              " '2009-10 Dallas Mavericks season',\n",
              " '2009\\\\xe2\\\\x80\\\\x9310 Dallas Mavericks',\n",
              " '2009\\\\xe2\\\\x80\\\\x9310 Dallas Mavericks season',\n",
              " '2010-11 Dallas Mavericks',\n",
              " '2010-11 Dallas Mavericks season',\n",
              " '2010\\\\xe2\\\\x80\\\\x9311 Dallas Mavericks',\n",
              " '2010\\\\xe2\\\\x80\\\\x9311 Dallas Mavericks season',\n",
              " '2011-12 Dallas Mavericks',\n",
              " '2011-12 Dallas Mavericks season',\n",
              " '2011\\\\xe2\\\\x80\\\\x9312 Dallas Mavericks',\n",
              " '2011\\\\xe2\\\\x80\\\\x9312 Dallas Mavericks season',\n",
              " '2012-13 Dallas Mavericks',\n",
              " '2012-13 Dallas Mavericks season',\n",
              " '2012\\\\xe2\\\\x80\\\\x9313 Dallas Mavericks',\n",
              " '2012\\\\xe2\\\\x80\\\\x9313 Dallas Mavericks season',\n",
              " '2013-14 Dallas Mavericks',\n",
              " '2013-14 Dallas Mavericks season',\n",
              " '2013\\\\xe2\\\\x80\\\\x9314 Dallas Mavericks',\n",
              " '2013\\\\xe2\\\\x80\\\\x9314 Dallas Mavericks season',\n",
              " '2014-15 Dallas Mavericks',\n",
              " '2014-15 Dallas Mavericks season',\n",
              " '2014\\\\xe2\\\\x80\\\\x9315 Dallas Mavericks',\n",
              " '2014\\\\xe2\\\\x80\\\\x9315 Dallas Mavericks season',\n",
              " '2015-16 Dallas Mavericks',\n",
              " '2015-16 Dallas Mavericks season',\n",
              " '2015\\\\xe2\\\\x80\\\\x9316 Dallas Mavericks',\n",
              " '2015\\\\xe2\\\\x80\\\\x9316 Dallas Mavericks season',\n",
              " '2016-17 Dallas Mavericks',\n",
              " '2016-17 Dallas Mavericks season',\n",
              " '2016\\\\xe2\\\\x80\\\\x9317 Dallas Mavericks',\n",
              " '2016\\\\xe2\\\\x80\\\\x9317 Dallas Mavericks season',\n",
              " '2017-18 Dallas Mavericks',\n",
              " '2017-18 Dallas Mavericks season',\n",
              " '2017\\\\xe2\\\\x80\\\\x9318 Utah Jazz',\n",
              " '2017\\\\xe2\\\\x80\\\\x9318 Utah Jazz season',\n",
              " '2018-19 Utah Jazz',\n",
              " '2018-19 Utah Jazz season',\n",
              " '2018\\\\xe2\\\\x80\\\\x9319 Utah Jazz',\n",
              " '2018\\\\xe2\\\\x80\\\\x9319 Utah Jazz season',\n",
              " '2019-20 Utah Jazz',\n",
              " '2019-20 Utah Jazz season',\n",
              " '2019\\\\xe2\\\\x80\\\\x9320 Utah Jazz',\n",
              " '2019\\\\xe2\\\\x80\\\\x9320 Utah Jazz season',\n",
              " '2020-21 Utah Jazz',\n",
              " '2020-21 Utah Jazz season',\n",
              " '2020\\\\xe2\\\\x80\\\\x9321 Utah Jazz',\n",
              " '2020\\\\xe2\\\\x80\\\\x9321 Utah Jazz season',\n",
              " '2021-22 Utah Jazz',\n",
              " '2021-22 Utah Jazz season',\n",
              " '2021\\\\xe2\\\\x80\\\\x9322 Utah Jazz',\n",
              " '2021\\\\xe2\\\\x80\\\\x9322 Utah Jazz season',\n",
              " '2022-23 Utah Jazz season',\n",
              " '2022\\\\xe2\\\\x80\\\\x9323 Utah Jazz season',\n",
              " '2023-24 Utah Jazz season',\n",
              " '2023\\\\xe2\\\\x80\\\\x9324 Utah Jazz season',\n",
              " '2017\\\\xe2\\\\x80\\\\x9318 Dallas Mavericks',\n",
              " '2017\\\\xe2\\\\x80\\\\x9318 Dallas Mavericks season',\n",
              " '2018-19 Dallas Mavericks',\n",
              " '2018-19 Dallas Mavericks season',\n",
              " '2018\\\\xe2\\\\x80\\\\x9319 Dallas Mavericks',\n",
              " '2018\\\\xe2\\\\x80\\\\x9319 Dallas Mavericks season',\n",
              " '2019-20 Dallas Mavericks',\n",
              " '2019-20 Dallas Mavericks season',\n",
              " '2019\\\\xe2\\\\x80\\\\x9320 Dallas Mavericks',\n",
              " '2019\\\\xe2\\\\x80\\\\x9320 Dallas Mavericks season',\n",
              " '2020-21 Dallas Mavericks',\n",
              " '2020-21 Dallas Mavericks season',\n",
              " '2020\\\\xe2\\\\x80\\\\x9321 Dallas Mavericks',\n",
              " '2020\\\\xe2\\\\x80\\\\x9321 Dallas Mavericks season',\n",
              " '2021-22 Dallas Mavericks',\n",
              " '2021-22 Dallas Mavericks season',\n",
              " '2021\\\\xe2\\\\x80\\\\x9322 Dallas Mavericks',\n",
              " '2021\\\\xe2\\\\x80\\\\x9322 Dallas Mavericks season',\n",
              " '2022-23 Dallas Mavericks season',\n",
              " '2022\\\\xe2\\\\x80\\\\x9323 Dallas Mavericks season',\n",
              " '2023-24 Dallas Mavericks season',\n",
              " '2023\\\\xe2\\\\x80\\\\x9324 Dallas Mavericks season',\n",
              " 'Dallas Mavericks',\n",
              " 'Dallas Mavericks all-time roster',\n",
              " 'Dallas Mavericks all-time roster and statistics leaders',\n",
              " 'Dallas Mavericks draft history',\n",
              " 'Dallas Mavericks head coaches',\n",
              " 'Dallas Mavericks seasons',\n",
              " 'Houston Rockets-Utah Jazz rivalry',\n",
              " 'History of the Dallas Mavericks']"
            ]
          },
          "metadata": {},
          "execution_count": 12
        }
      ]
    },
    {
      "cell_type": "code",
      "source": [
        "nba_wiki_ = set()\n",
        "for i in range(len(nba_wiki)):\n",
        "  try:\n",
        "    if nba_wiki[i] in nba_wiki[i+1]:\n",
        "      nba_wiki_.add(nba_wiki[i+1])\n",
        "    else:\n",
        "      nba_wiki_.add(nba_wiki(i))\n",
        "  except:\n",
        "    nba_wiki_.add(nba_wiki[i])\n",
        "nba_wiki_ = list(nba_wiki_)\n",
        "print (len(nba_wiki_))"
      ],
      "metadata": {
        "colab": {
          "base_uri": "https://localhost:8080/"
        },
        "id": "iUgytkDklLu0",
        "outputId": "0fc0d9f6-5bcf-4201-88de-db4fb2aecd6c"
      },
      "id": "iUgytkDklLu0",
      "execution_count": null,
      "outputs": [
        {
          "output_type": "stream",
          "name": "stdout",
          "text": [
            "189\n"
          ]
        }
      ]
    },
    {
      "cell_type": "code",
      "source": [
        "sorted(nba_wiki_)"
      ],
      "metadata": {
        "colab": {
          "base_uri": "https://localhost:8080/"
        },
        "id": "vGV9pV0plMYh",
        "outputId": "e4891f08-ccd6-4598-c334-0e31e882cfb6"
      },
      "id": "vGV9pV0plMYh",
      "execution_count": null,
      "outputs": [
        {
          "output_type": "execute_result",
          "data": {
            "text/plain": [
              "['1978-79 Utah Jazz season',\n",
              " '1978\\\\xe2\\\\x80\\\\x9379 Utah Jazz season',\n",
              " '1979-80 Utah Jazz season',\n",
              " '1979\\\\xe2\\\\x80\\\\x9380 Utah Jazz season',\n",
              " '1980-81 Dallas Mavericks season',\n",
              " '1980-81 Utah Jazz season',\n",
              " '1980\\\\xe2\\\\x80\\\\x9381 Dallas Mavericks season',\n",
              " '1980\\\\xe2\\\\x80\\\\x9381 Utah Jazz season',\n",
              " '1981-82 Dallas Mavericks season',\n",
              " '1981-82 Utah Jazz season',\n",
              " '1981\\\\xe2\\\\x80\\\\x9382 Dallas Mavericks season',\n",
              " '1981\\\\xe2\\\\x80\\\\x9382 Utah Jazz season',\n",
              " '1982-83 Dallas Mavericks season',\n",
              " '1982-83 Utah Jazz season',\n",
              " '1982\\\\xe2\\\\x80\\\\x9383 Dallas Mavericks season',\n",
              " '1982\\\\xe2\\\\x80\\\\x9383 Utah Jazz season',\n",
              " '1983-84 Dallas Mavericks season',\n",
              " '1983-84 Utah Jazz season',\n",
              " '1983\\\\xe2\\\\x80\\\\x9384 Dallas Mavericks season',\n",
              " '1983\\\\xe2\\\\x80\\\\x9384 Utah Jazz season',\n",
              " '1984-85 Dallas Mavericks season',\n",
              " '1984-85 Utah Jazz season',\n",
              " '1984\\\\xe2\\\\x80\\\\x9385 Dallas Mavericks season',\n",
              " '1984\\\\xe2\\\\x80\\\\x9385 Utah Jazz season',\n",
              " '1985-86 Dallas Mavericks season',\n",
              " '1985-86 Utah Jazz season',\n",
              " '1985\\\\xe2\\\\x80\\\\x9386 Dallas Mavericks season',\n",
              " '1985\\\\xe2\\\\x80\\\\x9386 Utah Jazz season',\n",
              " '1986-87 Dallas Mavericks season',\n",
              " '1986-87 Utah Jazz season',\n",
              " '1986\\\\xe2\\\\x80\\\\x9387 Dallas Mavericks season',\n",
              " '1986\\\\xe2\\\\x80\\\\x9387 Utah Jazz season',\n",
              " '1987-88 Dallas Mavericks season',\n",
              " '1987-88 Utah Jazz season',\n",
              " '1987\\\\xe2\\\\x80\\\\x9388 Dallas Mavericks season',\n",
              " '1987\\\\xe2\\\\x80\\\\x9388 Utah Jazz season',\n",
              " '1988-89 Dallas Mavericks season',\n",
              " '1988-89 Utah Jazz season',\n",
              " '1988\\\\xe2\\\\x80\\\\x9389 Dallas Mavericks season',\n",
              " '1988\\\\xe2\\\\x80\\\\x9389 Utah Jazz season',\n",
              " '1989-90 Dallas Mavericks season',\n",
              " '1989-90 Utah Jazz season',\n",
              " '1989\\\\xe2\\\\x80\\\\x9390 Dallas Mavericks season',\n",
              " '1989\\\\xe2\\\\x80\\\\x9390 Utah Jazz season',\n",
              " '1990-91 Dallas Mavericks season',\n",
              " '1990-91 Utah Jazz season',\n",
              " '1990\\\\xe2\\\\x80\\\\x9391 Dallas Mavericks season',\n",
              " '1990\\\\xe2\\\\x80\\\\x9391 Utah Jazz season',\n",
              " '1991-92 Dallas Mavericks season',\n",
              " '1991-92 Utah Jazz season',\n",
              " '1991\\\\xe2\\\\x80\\\\x9392 Dallas Mavericks season',\n",
              " '1991\\\\xe2\\\\x80\\\\x9392 Utah Jazz season',\n",
              " '1992-93 Dallas Mavericks season',\n",
              " '1992-93 Utah Jazz season',\n",
              " '1992\\\\xe2\\\\x80\\\\x9393 Dallas Mavericks season',\n",
              " '1992\\\\xe2\\\\x80\\\\x9393 Utah Jazz season',\n",
              " '1993-94 Dallas Mavericks season',\n",
              " '1993-94 Utah Jazz season',\n",
              " '1993\\\\xe2\\\\x80\\\\x9394 Dallas Mavericks season',\n",
              " '1993\\\\xe2\\\\x80\\\\x9394 Utah Jazz season',\n",
              " '1994-95 Dallas Mavericks season',\n",
              " '1994-95 Utah Jazz season',\n",
              " '1994\\\\xe2\\\\x80\\\\x9395 Dallas Mavericks season',\n",
              " '1994\\\\xe2\\\\x80\\\\x9395 Utah Jazz season',\n",
              " '1995-96 Dallas Mavericks season',\n",
              " '1995-96 Utah Jazz season',\n",
              " '1995\\\\xe2\\\\x80\\\\x9396 Dallas Mavericks season',\n",
              " '1995\\\\xe2\\\\x80\\\\x9396 Utah Jazz season',\n",
              " '1996-97 Dallas Mavericks season',\n",
              " '1996-97 Utah Jazz season',\n",
              " '1996\\\\xe2\\\\x80\\\\x9397 Dallas Mavericks season',\n",
              " '1996\\\\xe2\\\\x80\\\\x9397 Utah Jazz season',\n",
              " '1997-98 Dallas Mavericks season',\n",
              " '1997-98 Utah Jazz season',\n",
              " '1997\\\\xe2\\\\x80\\\\x9398 Dallas Mavericks season',\n",
              " '1997\\\\xe2\\\\x80\\\\x9398 Utah Jazz season',\n",
              " '1998-99 Dallas Mavericks season',\n",
              " '1998-99 Utah Jazz season',\n",
              " '1998\\\\xe2\\\\x80\\\\x9399 Dallas Mavericks season',\n",
              " '1998\\\\xe2\\\\x80\\\\x9399 Utah Jazz season',\n",
              " '1999-00 Utah Jazz season',\n",
              " '1999-2000 Dallas Mavericks season',\n",
              " '1999-2000 Utah Jazz season',\n",
              " '1999\\\\xe2\\\\x80\\\\x9300 Utah Jazz season',\n",
              " '1999\\\\xe2\\\\x80\\\\x932000 Dallas Mavericks season',\n",
              " '1999\\\\xe2\\\\x80\\\\x932000 Utah Jazz season',\n",
              " '2000-01 Dallas Mavericks season',\n",
              " '2000-01 Utah Jazz season',\n",
              " '2000\\\\xe2\\\\x80\\\\x9301 Dallas Mavericks season',\n",
              " '2000\\\\xe2\\\\x80\\\\x9301 Utah Jazz season',\n",
              " '2001-02 Dallas Mavericks season',\n",
              " '2001-02 Utah Jazz season',\n",
              " '2001\\\\xe2\\\\x80\\\\x9302 Dallas Mavericks season',\n",
              " '2001\\\\xe2\\\\x80\\\\x9302 Utah Jazz season',\n",
              " '2002-03 Dallas Mavericks season',\n",
              " '2002-03 Utah Jazz season',\n",
              " '2002\\\\xe2\\\\x80\\\\x9303 Dallas Mavericks season',\n",
              " '2002\\\\xe2\\\\x80\\\\x9303 Utah Jazz season',\n",
              " '2003-04 Dallas Mavericks season',\n",
              " '2003-04 Utah Jazz season',\n",
              " '2003\\\\xe2\\\\x80\\\\x9304 Dallas Mavericks season',\n",
              " '2003\\\\xe2\\\\x80\\\\x9304 Utah Jazz season',\n",
              " '2004-05 Dallas Mavericks season',\n",
              " '2004-05 Utah Jazz season',\n",
              " '2004\\\\xe2\\\\x80\\\\x9305 Dallas Mavericks season',\n",
              " '2004\\\\xe2\\\\x80\\\\x9305 Utah Jazz season',\n",
              " '2005-06 Dallas Mavericks season',\n",
              " '2005-06 Utah Jazz season',\n",
              " '2005\\\\xe2\\\\x80\\\\x9306 Dallas Mavericks season',\n",
              " '2005\\\\xe2\\\\x80\\\\x9306 Utah Jazz season',\n",
              " '2006-07 Dallas Mavericks season',\n",
              " '2006-07 Utah Jazz season',\n",
              " '2006\\\\xe2\\\\x80\\\\x9307 Dallas Mavericks season',\n",
              " '2006\\\\xe2\\\\x80\\\\x9307 Utah Jazz season',\n",
              " '2007-08 Dallas Mavericks season',\n",
              " '2007-08 Utah Jazz season',\n",
              " '2007\\\\xe2\\\\x80\\\\x9308 Dallas Mavericks season',\n",
              " '2007\\\\xe2\\\\x80\\\\x9308 Utah Jazz season',\n",
              " '2008-09 Dallas Mavericks season',\n",
              " '2008-09 Utah Jazz season',\n",
              " '2008\\\\xe2\\\\x80\\\\x9309 Dallas Mavericks season',\n",
              " '2008\\\\xe2\\\\x80\\\\x9309 Utah Jazz season',\n",
              " '2009-10 Dallas Mavericks season',\n",
              " '2009-10 Utah Jazz season',\n",
              " '2009\\\\xe2\\\\x80\\\\x9310 Dallas Mavericks season',\n",
              " '2009\\\\xe2\\\\x80\\\\x9310 Utah Jazz season',\n",
              " '2010-11 Dallas Mavericks season',\n",
              " '2010-11 Utah Jazz season',\n",
              " '2010\\\\xe2\\\\x80\\\\x9311 Dallas Mavericks season',\n",
              " '2010\\\\xe2\\\\x80\\\\x9311 Utah Jazz season',\n",
              " '2011-12 Dallas Mavericks season',\n",
              " '2011-12 Utah Jazz season',\n",
              " '2011\\\\xe2\\\\x80\\\\x9312 Dallas Mavericks season',\n",
              " '2011\\\\xe2\\\\x80\\\\x9312 Utah Jazz season',\n",
              " '2012-13 Dallas Mavericks season',\n",
              " '2012-13 Utah Jazz season',\n",
              " '2012\\\\xe2\\\\x80\\\\x9313 Dallas Mavericks season',\n",
              " '2012\\\\xe2\\\\x80\\\\x9313 Utah Jazz season',\n",
              " '2013-14 Dallas Mavericks season',\n",
              " '2013-14 Utah Jazz season',\n",
              " '2013\\\\xe2\\\\x80\\\\x9314 Dallas Mavericks season',\n",
              " '2013\\\\xe2\\\\x80\\\\x9314 Utah Jazz season',\n",
              " '2014-15 Dallas Mavericks season',\n",
              " '2014-15 Utah Jazz season',\n",
              " '2014\\\\xe2\\\\x80\\\\x9315 Dallas Mavericks season',\n",
              " '2014\\\\xe2\\\\x80\\\\x9315 Utah Jazz season',\n",
              " '2015-16 Dallas Mavericks season',\n",
              " '2015-16 Utah Jazz season',\n",
              " '2015\\\\xe2\\\\x80\\\\x9316 Dallas Mavericks season',\n",
              " '2015\\\\xe2\\\\x80\\\\x9316 Utah Jazz season',\n",
              " '2016-17 Dallas Mavericks season',\n",
              " '2016-17 Utah Jazz season',\n",
              " '2016\\\\xe2\\\\x80\\\\x9317 Dallas Mavericks season',\n",
              " '2016\\\\xe2\\\\x80\\\\x9317 Utah Jazz season',\n",
              " '2017-18 Dallas Mavericks season',\n",
              " '2017-18 Utah Jazz season',\n",
              " '2017\\\\xe2\\\\x80\\\\x9318 Dallas Mavericks season',\n",
              " '2017\\\\xe2\\\\x80\\\\x9318 Utah Jazz season',\n",
              " '2018-19 Dallas Mavericks season',\n",
              " '2018-19 Utah Jazz season',\n",
              " '2018\\\\xe2\\\\x80\\\\x9319 Dallas Mavericks season',\n",
              " '2018\\\\xe2\\\\x80\\\\x9319 Utah Jazz season',\n",
              " '2019-20 Dallas Mavericks season',\n",
              " '2019-20 Utah Jazz season',\n",
              " '2019\\\\xe2\\\\x80\\\\x9320 Dallas Mavericks season',\n",
              " '2019\\\\xe2\\\\x80\\\\x9320 Utah Jazz season',\n",
              " '2020-21 Dallas Mavericks season',\n",
              " '2020-21 Utah Jazz season',\n",
              " '2020\\\\xe2\\\\x80\\\\x9321 Dallas Mavericks season',\n",
              " '2020\\\\xe2\\\\x80\\\\x9321 Utah Jazz season',\n",
              " '2021-22 Dallas Mavericks season',\n",
              " '2021-22 Utah Jazz season',\n",
              " '2021\\\\xe2\\\\x80\\\\x9322 Dallas Mavericks season',\n",
              " '2021\\\\xe2\\\\x80\\\\x9322 Utah Jazz season',\n",
              " '2022-23 Dallas Mavericks season',\n",
              " '2022-23 Utah Jazz season',\n",
              " '2022\\\\xe2\\\\x80\\\\x9323 Dallas Mavericks season',\n",
              " '2022\\\\xe2\\\\x80\\\\x9323 Utah Jazz season',\n",
              " '2023-24 Dallas Mavericks season',\n",
              " '2023-24 Utah Jazz season',\n",
              " '2023\\\\xe2\\\\x80\\\\x9324 Dallas Mavericks season',\n",
              " '2023\\\\xe2\\\\x80\\\\x9324 Utah Jazz season',\n",
              " 'Dallas Mavericks all-time roster',\n",
              " 'Dallas Mavericks all-time roster and statistics leaders',\n",
              " 'Dallas Mavericks draft history',\n",
              " 'Dallas Mavericks head coaches',\n",
              " 'Dallas Mavericks seasons',\n",
              " 'History of the Dallas Mavericks',\n",
              " 'Houston Rockets-Utah Jazz rivalry']"
            ]
          },
          "metadata": {},
          "execution_count": 14
        }
      ]
    },
    {
      "cell_type": "code",
      "source": [
        "# remove duplicates\n",
        "to_remove = ['(football)','(NHL)', '(AFL)', '(hockey)', '(AFL, 1926)', '(American football)', '(WFL)', '(UHL)']\n",
        "for line in nba_wiki_:\n",
        "  for item in to_remove:\n",
        "    if item in line:\n",
        "      print (line)\n",
        "      nba_wiki_.remove(line)\n",
        "print (len(nba_wiki_))\n"
      ],
      "metadata": {
        "colab": {
          "base_uri": "https://localhost:8080/"
        },
        "id": "7HFJcVIfl1Zl",
        "outputId": "e1048221-0090-43b4-9f94-97ac3b0c7f1f"
      },
      "id": "7HFJcVIfl1Zl",
      "execution_count": null,
      "outputs": [
        {
          "output_type": "stream",
          "name": "stdout",
          "text": [
            "189\n"
          ]
        }
      ]
    },
    {
      "cell_type": "code",
      "source": [
        "#load data function. The function is reliant on a number of table finder functions that have also been assigned below as draft picks and roster.\n",
        "# The functions find specific table values within the pagent context using Beautiful Soup then output a dictionary from a working dataframe which is then stored within the results dictionary and usable sub topic storage for JSON.\n",
        "\n",
        "#test\n",
        "#articles = ['1968–69 Atlanta Hawks season','1968–69_Chicago_Bulls_season']\n",
        "\n",
        "\n",
        "#WIKIPEDIA PULL\n",
        "def load_data( pages: List[str], lang: str = \"en\", **load_kwargs: Any):\n",
        "    results = []\n",
        "    for page in pages:\n",
        "        wikipedia.set_lang(lang)\n",
        "        try:\n",
        "          page_content = wikipedia.page(page, **load_kwargs).content\n",
        "          summary = page_content\n",
        "          matches = re.findall(r'==\\s(.*?)\\s==', summary)\n",
        "\n",
        "          if 'Draft picks' in matches:\n",
        "              draftpick = draft_picks(page)\n",
        "          else:\n",
        "              draftpick = ''\n",
        "          if 'Roster' in matches:\n",
        "              team_roster = roster(page)\n",
        "              pull.append(page)\n",
        "          else:\n",
        "              team_roster = ['','']\n",
        "\n",
        "          data = {page: {\"summary\": summary, \"Draft Pick\": draftpick, \"Coach\": team_roster[0], \"Roster\": team_roster[1]}}\n",
        "          results.append(data)\n",
        "        except:\n",
        "          pass\n",
        "\n",
        "    return results\n",
        "\n",
        "#Tables = re.findall(r\"\\n== (.*?) ==\\n\", summary[0])\n",
        "#print (Tables)\n",
        "\n",
        "\n",
        "#################################################################################################\n",
        "\n",
        "\n",
        "def draft_picks(article):\n",
        "    url = requests.get(f'https://en.wikipedia.org/wiki/{article}').content\n",
        "    soup = BeautifulSoup(url, 'html.parser')\n",
        "    tables = []\n",
        "    for i in soup.find_all('table'):\n",
        "        tables.append(i)\n",
        "    for i in range(len(tables)):\n",
        "        try:\n",
        "          table_text = tables[i].text\n",
        "          table_text = table_text.split('\\n')\n",
        "\n",
        "          # find table columns\n",
        "          col_finder = ' '.join(table_text)\n",
        "          cols = col_finder.split('   ')\n",
        "          cols = cols[0].split(' ')\n",
        "\n",
        "          result_cols = []\n",
        "          for item in cols:\n",
        "              if item != '':\n",
        "                  result_cols.append(item)\n",
        "\n",
        "\n",
        "          #find table data\n",
        "          result = []\n",
        "          pattern = r\"(?<=\\xa0)\\w++\"\n",
        "          for record in table_text:\n",
        "              match = re.search(r\"\\xa0(.*)\", record)\n",
        "              if match:\n",
        "                  result.append(match.group(1))\n",
        "              else:\n",
        "                  if record != '':\n",
        "                      result.append(record)\n",
        "          result = result[len(result_cols):]\n",
        "          result = np.array(result)\n",
        "          shaper = (len(result_cols),int(result.shape[0]/len(result_cols)))\n",
        "\n",
        "          result = result.reshape(shaper[1],shaper[0])\n",
        "\n",
        "          df = pd.DataFrame(result, columns=result_cols)\n",
        "          dictionary = df.to_dict()\n",
        "          return dictionary\n",
        "        except:\n",
        "            pass\n",
        "    return \"could not find table\"\n",
        "\n",
        "\n",
        "def roster(article):\n",
        "    url = requests.get(f'https://en.wikipedia.org/wiki/{article}').content\n",
        "    soup = BeautifulSoup(url, 'html.parser')\n",
        "    tables = []\n",
        "    for i in soup.find_all('table'):\n",
        "        tables.append(i)\n",
        "\n",
        "    for i in range(len(tables)):\n",
        "        try:\n",
        "            table_text = tables[i].text\n",
        "            table_text = table_text.split('\\n')\n",
        "\n",
        "            # find table columns\n",
        "            col_finder = ' '.join(table_text)\n",
        "            cols = col_finder.split('   ')\n",
        "            cols = ' '.join(cols[1:4]).split(' ')\n",
        "\n",
        "            result_cols = []\n",
        "            for i in cols:\n",
        "                if i != '':\n",
        "                    result_cols.append(i)\n",
        "            result_cols = result_cols[2:7] + [' '.join(result_cols[7:9])] + result_cols[-1:]\n",
        "\n",
        "\n",
        "            #find table data\n",
        "            result = []\n",
        "            for record in table_text:\n",
        "                matches = re.findall(r'\\xa0', record)\n",
        "                if matches:\n",
        "                    result.append(record.replace('\\xa0',' '))\n",
        "                else:\n",
        "                    if record != '':\n",
        "                        result.append(record)\n",
        "            result = result[result.index('From') + 1:result.index('Head coach')]\n",
        "\n",
        "\n",
        "            #Head Coach\n",
        "\n",
        "\n",
        "            try:\n",
        "\n",
        "                shaper = (len(result_cols), int(len(result) / len(result_cols)))\n",
        "                n_result = np.array(result)\n",
        "                result = n_result.reshape(shaper[1], shaper[0])\n",
        "\n",
        "                df = pd.DataFrame(result, columns=result_cols)\n",
        "                roster_dictionary = df.to_dict()\n",
        "                coach = {table_text[table_text.index('Head coach'): table_text.index('Head coach') + 1][0]:\n",
        "                             table_text[table_text.index('Head coach') + 1: table_text.index('Head coach') + 2][0]}\n",
        "\n",
        "                return coach, roster_dictionary\n",
        "            except:\n",
        "                result_cols.remove('DOB (YYYY-MM-DD)')\n",
        "                result = np.array(result)\n",
        "                shaper = (len(result_cols), int(result.shape[0] / len(result_cols)))\n",
        "                result = result.reshape(shaper[1], shaper[0])\n",
        "\n",
        "                df = pd.DataFrame(result, columns=result_cols)\n",
        "                new_column = [None for i in range(len(df))]\n",
        "                position = df.columns.get_loc('Weight') + 1\n",
        "                df.insert(position, 'DOB (YYYY-MM-DD)', new_column)\n",
        "                roster_dictionary = df.to_dict()\n",
        "                coach = {table_text[table_text.index('Head coach'): table_text.index('Head coach') + 1][0]:\n",
        "                             table_text[table_text.index('Head coach') + 2: table_text.index('Head coach') + 3][0]}\n",
        "\n",
        "                return coach, roster_dictionary\n",
        "        except:\n",
        "            pass\n",
        "    return \"could not find table\""
      ],
      "metadata": {
        "id": "LX9U8xtkmU8W"
      },
      "id": "LX9U8xtkmU8W",
      "execution_count": null,
      "outputs": []
    },
    {
      "cell_type": "code",
      "source": [
        "test_i = nba_wiki_.index(\"2010-11 Dallas Mavericks season\")\n",
        "test_i"
      ],
      "metadata": {
        "colab": {
          "base_uri": "https://localhost:8080/"
        },
        "id": "-jyOQuoRnY7e",
        "outputId": "4ee7bd7f-5ab9-458e-b94e-25c652d0832a"
      },
      "id": "-jyOQuoRnY7e",
      "execution_count": null,
      "outputs": [
        {
          "output_type": "execute_result",
          "data": {
            "text/plain": [
              "163"
            ]
          },
          "metadata": {},
          "execution_count": 17
        }
      ]
    },
    {
      "cell_type": "code",
      "source": [
        "nba_wiki_[121]"
      ],
      "metadata": {
        "colab": {
          "base_uri": "https://localhost:8080/",
          "height": 36
        },
        "id": "E26B1PtgnnWm",
        "outputId": "58ec491c-588a-4b15-e54e-41cfa78cdde0"
      },
      "id": "E26B1PtgnnWm",
      "execution_count": null,
      "outputs": [
        {
          "output_type": "execute_result",
          "data": {
            "text/plain": [
              "'2000-01 Utah Jazz season'"
            ],
            "application/vnd.google.colaboratory.intrinsic+json": {
              "type": "string"
            }
          },
          "metadata": {},
          "execution_count": 18
        }
      ]
    },
    {
      "cell_type": "code",
      "source": [
        "draft_picks([nba_wiki_[121]])"
      ],
      "metadata": {
        "colab": {
          "base_uri": "https://localhost:8080/",
          "height": 36
        },
        "id": "_xinbMlentaY",
        "outputId": "d64d7de3-34ab-4e80-f6c6-b97b6072271c"
      },
      "id": "_xinbMlentaY",
      "execution_count": null,
      "outputs": [
        {
          "output_type": "execute_result",
          "data": {
            "text/plain": [
              "'could not find table'"
            ],
            "application/vnd.google.colaboratory.intrinsic+json": {
              "type": "string"
            }
          },
          "metadata": {},
          "execution_count": 19
        }
      ]
    },
    {
      "cell_type": "markdown",
      "source": [
        "### JSON\n",
        "\n",
        "Call the load function for every value previously extraced and write a JSON file"
      ],
      "metadata": {
        "id": "yH1uwnbUnzXL"
      },
      "id": "yH1uwnbUnzXL"
    },
    {
      "cell_type": "code",
      "source": [
        "len(nba_wiki_)"
      ],
      "metadata": {
        "colab": {
          "base_uri": "https://localhost:8080/"
        },
        "id": "M50Fx2lYny0Y",
        "outputId": "e6857c18-a1d2-4018-cdf4-28d082298396"
      },
      "id": "M50Fx2lYny0Y",
      "execution_count": null,
      "outputs": [
        {
          "output_type": "execute_result",
          "data": {
            "text/plain": [
              "189"
            ]
          },
          "metadata": {},
          "execution_count": 20
        }
      ]
    },
    {
      "cell_type": "code",
      "source": [
        "pull = []\n",
        "for value in load_data(pages=sorted(nba_wiki_)):\n",
        "    for key in value:\n",
        "      file_name = key.replace(\"-\",\" \")\n",
        "      file_name = file_name.replace(\" \",\"_\")\n",
        "      pull.append(file_name)\n",
        "      with open(f\"{file_name}.json\", \"w\") as file:\n",
        "        json.dump(value, file, indent=4)"
      ],
      "metadata": {
        "colab": {
          "base_uri": "https://localhost:8080/"
        },
        "id": "SEZdOkphoBD-",
        "outputId": "e6201c39-560f-4efa-b099-137519e23c7c"
      },
      "id": "SEZdOkphoBD-",
      "execution_count": null,
      "outputs": [
        {
          "output_type": "stream",
          "name": "stderr",
          "text": [
            "<ipython-input-16-4a317707f5e6>:81: UserWarning: DataFrame columns are not unique, some columns will be omitted.\n",
            "  dictionary = df.to_dict()\n",
            "<ipython-input-16-4a317707f5e6>:81: UserWarning: DataFrame columns are not unique, some columns will be omitted.\n",
            "  dictionary = df.to_dict()\n",
            "<ipython-input-16-4a317707f5e6>:81: UserWarning: DataFrame columns are not unique, some columns will be omitted.\n",
            "  dictionary = df.to_dict()\n",
            "<ipython-input-16-4a317707f5e6>:81: UserWarning: DataFrame columns are not unique, some columns will be omitted.\n",
            "  dictionary = df.to_dict()\n",
            "<ipython-input-16-4a317707f5e6>:81: UserWarning: DataFrame columns are not unique, some columns will be omitted.\n",
            "  dictionary = df.to_dict()\n",
            "<ipython-input-16-4a317707f5e6>:81: UserWarning: DataFrame columns are not unique, some columns will be omitted.\n",
            "  dictionary = df.to_dict()\n",
            "<ipython-input-16-4a317707f5e6>:81: UserWarning: DataFrame columns are not unique, some columns will be omitted.\n",
            "  dictionary = df.to_dict()\n",
            "<ipython-input-16-4a317707f5e6>:81: UserWarning: DataFrame columns are not unique, some columns will be omitted.\n",
            "  dictionary = df.to_dict()\n",
            "<ipython-input-16-4a317707f5e6>:81: UserWarning: DataFrame columns are not unique, some columns will be omitted.\n",
            "  dictionary = df.to_dict()\n",
            "<ipython-input-16-4a317707f5e6>:81: UserWarning: DataFrame columns are not unique, some columns will be omitted.\n",
            "  dictionary = df.to_dict()\n"
          ]
        }
      ]
    },
    {
      "cell_type": "code",
      "source": [
        "#files in content\n",
        "sorted(pull)"
      ],
      "metadata": {
        "colab": {
          "base_uri": "https://localhost:8080/"
        },
        "id": "G2lmhBr7oJTo",
        "outputId": "c1291ef8-1208-4ab5-95e6-f694669a19b1"
      },
      "id": "G2lmhBr7oJTo",
      "execution_count": null,
      "outputs": [
        {
          "output_type": "execute_result",
          "data": {
            "text/plain": [
              "['1978_79_Utah_Jazz_season',\n",
              " '1979-80 Utah Jazz season',\n",
              " '1979_80_Utah_Jazz_season',\n",
              " '1980-81 Dallas Mavericks season',\n",
              " '1980-81 Utah Jazz season',\n",
              " '1980_81_Dallas_Mavericks_season',\n",
              " '1980_81_Utah_Jazz_season',\n",
              " '1981-82 Dallas Mavericks season',\n",
              " '1981-82 Utah Jazz season',\n",
              " '1981_82_Dallas_Mavericks_season',\n",
              " '1981_82_Utah_Jazz_season',\n",
              " '1982-83 Dallas Mavericks season',\n",
              " '1982-83 Utah Jazz season',\n",
              " '1982_83_Dallas_Mavericks_season',\n",
              " '1982_83_Utah_Jazz_season',\n",
              " '1983-84 Dallas Mavericks season',\n",
              " '1983-84 Utah Jazz season',\n",
              " '1983_84_Dallas_Mavericks_season',\n",
              " '1983_84_Utah_Jazz_season',\n",
              " '1984-85 Dallas Mavericks season',\n",
              " '1984-85 Utah Jazz season',\n",
              " '1984_85_Dallas_Mavericks_season',\n",
              " '1984_85_Utah_Jazz_season',\n",
              " '1985-86 Dallas Mavericks season',\n",
              " '1985-86 Utah Jazz season',\n",
              " '1985_86_Dallas_Mavericks_season',\n",
              " '1985_86_Utah_Jazz_season',\n",
              " '1986-87 Dallas Mavericks season',\n",
              " '1986-87 Utah Jazz season',\n",
              " '1986_87_Dallas_Mavericks_season',\n",
              " '1986_87_Utah_Jazz_season',\n",
              " '1987-88 Dallas Mavericks season',\n",
              " '1987-88 Utah Jazz season',\n",
              " '1987_88_Dallas_Mavericks_season',\n",
              " '1987_88_Utah_Jazz_season',\n",
              " '1988-89 Dallas Mavericks season',\n",
              " '1988-89 Utah Jazz season',\n",
              " '1988_89_Dallas_Mavericks_season',\n",
              " '1988_89_Utah_Jazz_season',\n",
              " '1989-90 Dallas Mavericks season',\n",
              " '1989-90 Utah Jazz season',\n",
              " '1989_90_Dallas_Mavericks_season',\n",
              " '1989_90_Utah_Jazz_season',\n",
              " '1990-91 Dallas Mavericks season',\n",
              " '1990-91 Utah Jazz season',\n",
              " '1990_91_Dallas_Mavericks_season',\n",
              " '1990_91_Utah_Jazz_season',\n",
              " '1991-92 Dallas Mavericks season',\n",
              " '1991-92 Utah Jazz season',\n",
              " '1991_92_Dallas_Mavericks_season',\n",
              " '1991_92_Utah_Jazz_season',\n",
              " '1992-93 Dallas Mavericks season',\n",
              " '1992-93 Utah Jazz season',\n",
              " '1992_93_Dallas_Mavericks_season',\n",
              " '1992_93_Utah_Jazz_season',\n",
              " '1993-94 Dallas Mavericks season',\n",
              " '1993-94 Utah Jazz season',\n",
              " '1993_94_Dallas_Mavericks_season',\n",
              " '1993_94_Utah_Jazz_season',\n",
              " '1994-95 Dallas Mavericks season',\n",
              " '1994-95 Utah Jazz season',\n",
              " '1994_95_Dallas_Mavericks_season',\n",
              " '1994_95_Utah_Jazz_season',\n",
              " '1995-96 Dallas Mavericks season',\n",
              " '1995-96 Utah Jazz season',\n",
              " '1995_96_Dallas_Mavericks_season',\n",
              " '1995_96_Utah_Jazz_season',\n",
              " '1996-97 Dallas Mavericks season',\n",
              " '1996-97 Utah Jazz season',\n",
              " '1996_97_Dallas_Mavericks_season',\n",
              " '1996_97_Utah_Jazz_season',\n",
              " '1997-98 Dallas Mavericks season',\n",
              " '1997-98 Utah Jazz season',\n",
              " '1997_98_Dallas_Mavericks_season',\n",
              " '1997_98_Utah_Jazz_season',\n",
              " '1998-99 Dallas Mavericks season',\n",
              " '1998-99 Utah Jazz season',\n",
              " '1998_99_Dallas_Mavericks_season',\n",
              " '1998_99_Utah_Jazz_season',\n",
              " '1999-00 Utah Jazz season',\n",
              " '1999-2000 Dallas Mavericks season',\n",
              " '1999-2000 Utah Jazz season',\n",
              " '1999_00_Utah_Jazz_season',\n",
              " '1999_2000_Dallas_Mavericks_season',\n",
              " '1999_2000_Utah_Jazz_season',\n",
              " '2000-01 Dallas Mavericks season',\n",
              " '2000-01 Utah Jazz season',\n",
              " '2000_01_Dallas_Mavericks_season',\n",
              " '2000_01_Utah_Jazz_season',\n",
              " '2001-02 Dallas Mavericks season',\n",
              " '2001-02 Utah Jazz season',\n",
              " '2001_02_Dallas_Mavericks_season',\n",
              " '2001_02_Utah_Jazz_season',\n",
              " '2002-03 Dallas Mavericks season',\n",
              " '2002-03 Utah Jazz season',\n",
              " '2002_03_Dallas_Mavericks_season',\n",
              " '2002_03_Utah_Jazz_season',\n",
              " '2003-04 Dallas Mavericks season',\n",
              " '2003-04 Utah Jazz season',\n",
              " '2003_04_Dallas_Mavericks_season',\n",
              " '2003_04_Utah_Jazz_season',\n",
              " '2004-05 Dallas Mavericks season',\n",
              " '2004-05 Utah Jazz season',\n",
              " '2004_05_Dallas_Mavericks_season',\n",
              " '2004_05_Utah_Jazz_season',\n",
              " '2005-06 Dallas Mavericks season',\n",
              " '2005-06 Utah Jazz season',\n",
              " '2005_06_Dallas_Mavericks_season',\n",
              " '2005_06_Utah_Jazz_season',\n",
              " '2006-07 Dallas Mavericks season',\n",
              " '2006-07 Utah Jazz season',\n",
              " '2006_07_Dallas_Mavericks_season',\n",
              " '2006_07_Utah_Jazz_season',\n",
              " '2007-08 Dallas Mavericks season',\n",
              " '2007-08 Utah Jazz season',\n",
              " '2007_08_Dallas_Mavericks_season',\n",
              " '2007_08_Utah_Jazz_season',\n",
              " '2008-09 Dallas Mavericks season',\n",
              " '2008-09 Utah Jazz season',\n",
              " '2008_09_Dallas_Mavericks_season',\n",
              " '2008_09_Utah_Jazz_season',\n",
              " '2009-10 Dallas Mavericks season',\n",
              " '2009-10 Utah Jazz season',\n",
              " '2009_10_Dallas_Mavericks_season',\n",
              " '2009_10_Utah_Jazz_season',\n",
              " '2010-11 Dallas Mavericks season',\n",
              " '2010-11 Utah Jazz season',\n",
              " '2010_11_Dallas_Mavericks_season',\n",
              " '2010_11_Utah_Jazz_season',\n",
              " '2011-12 Dallas Mavericks season',\n",
              " '2011-12 Utah Jazz season',\n",
              " '2011_12_Dallas_Mavericks_season',\n",
              " '2011_12_Utah_Jazz_season',\n",
              " '2012-13 Dallas Mavericks season',\n",
              " '2012-13 Utah Jazz season',\n",
              " '2012_13_Dallas_Mavericks_season',\n",
              " '2012_13_Utah_Jazz_season',\n",
              " '2013-14 Dallas Mavericks season',\n",
              " '2013-14 Utah Jazz season',\n",
              " '2013_14_Dallas_Mavericks_season',\n",
              " '2013_14_Utah_Jazz_season',\n",
              " '2014-15 Dallas Mavericks season',\n",
              " '2014-15 Utah Jazz season',\n",
              " '2014_15_Dallas_Mavericks_season',\n",
              " '2014_15_Utah_Jazz_season',\n",
              " '2015-16 Dallas Mavericks season',\n",
              " '2015-16 Utah Jazz season',\n",
              " '2015_16_Dallas_Mavericks_season',\n",
              " '2015_16_Utah_Jazz_season',\n",
              " '2016-17 Dallas Mavericks season',\n",
              " '2016-17 Utah Jazz season',\n",
              " '2016_17_Dallas_Mavericks_season',\n",
              " '2016_17_Utah_Jazz_season',\n",
              " '2017-18 Dallas Mavericks season',\n",
              " '2017-18 Utah Jazz season',\n",
              " '2017_18_Dallas_Mavericks_season',\n",
              " '2017_18_Utah_Jazz_season',\n",
              " '2018-19 Dallas Mavericks season',\n",
              " '2018-19 Utah Jazz season',\n",
              " '2018_19_Dallas_Mavericks_season',\n",
              " '2018_19_Utah_Jazz_season',\n",
              " '2019-20 Dallas Mavericks season',\n",
              " '2019-20 Utah Jazz season',\n",
              " '2019_20_Dallas_Mavericks_season',\n",
              " '2019_20_Utah_Jazz_season',\n",
              " '2020-21 Dallas Mavericks season',\n",
              " '2020-21 Utah Jazz season',\n",
              " '2020_21_Dallas_Mavericks_season',\n",
              " '2020_21_Utah_Jazz_season',\n",
              " '2021-22 Dallas Mavericks season',\n",
              " '2021-22 Utah Jazz season',\n",
              " '2021_22_Dallas_Mavericks_season',\n",
              " '2021_22_Utah_Jazz_season',\n",
              " '2022-23 Dallas Mavericks season',\n",
              " '2022-23 Utah Jazz season',\n",
              " '2022_23_Dallas_Mavericks_season',\n",
              " '2022_23_Utah_Jazz_season',\n",
              " '2023-24 Dallas Mavericks season',\n",
              " '2023-24 Utah Jazz season',\n",
              " '2023_24_Dallas_Mavericks_season',\n",
              " '2023_24_Utah_Jazz_season',\n",
              " 'Dallas_Mavericks_all_time_roster',\n",
              " 'Dallas_Mavericks_all_time_roster_and_statistics_leaders',\n",
              " 'Dallas_Mavericks_draft_history',\n",
              " 'Dallas_Mavericks_head_coaches',\n",
              " 'Dallas_Mavericks_seasons',\n",
              " 'History_of_the_Dallas_Mavericks',\n",
              " 'Houston_Rockets_Utah_Jazz_rivalry']"
            ]
          },
          "metadata": {},
          "execution_count": 22
        }
      ]
    },
    {
      "cell_type": "code",
      "source": [
        "print (len(pull))\n",
        "print(len(nba_wiki_))"
      ],
      "metadata": {
        "colab": {
          "base_uri": "https://localhost:8080/"
        },
        "id": "vzgAuBVpoMAN",
        "outputId": "66f8983b-9eba-4150-bf47-ca8ffbc6eb3e"
      },
      "id": "vzgAuBVpoMAN",
      "execution_count": null,
      "outputs": [
        {
          "output_type": "stream",
          "name": "stdout",
          "text": [
            "188\n",
            "189\n"
          ]
        }
      ]
    },
    {
      "cell_type": "markdown",
      "source": [
        "### Load JSON files into Llama Index"
      ],
      "metadata": {
        "id": "6FnN5jY2owdy"
      },
      "id": "6FnN5jY2owdy"
    },
    {
      "cell_type": "markdown",
      "source": [
        "single document test case"
      ],
      "metadata": {
        "id": "q-gR9tYoo19u"
      },
      "id": "q-gR9tYoo19u"
    },
    {
      "cell_type": "code",
      "source": [
        "print (os.listdir())\n",
        "print (len(os.listdir()))"
      ],
      "metadata": {
        "colab": {
          "base_uri": "https://localhost:8080/"
        },
        "id": "ZF5bL7cFovWQ",
        "outputId": "7b6bd7ff-c858-45b8-c997-0815818e0b94"
      },
      "id": "ZF5bL7cFovWQ",
      "execution_count": null,
      "outputs": [
        {
          "output_type": "stream",
          "name": "stdout",
          "text": [
            "['.config', '2022_23_Utah_Jazz_season.json', '2015_16_Dallas_Mavericks_season.json', '2020_21_Utah_Jazz_season.json', '1985_86_Utah_Jazz_season.json', '1982_83_Utah_Jazz_season.json', '2008_09_Dallas_Mavericks_season.json', '2019_20_Dallas_Mavericks_season.json', 'Dallas_Mavericks_head_coaches.json', '1991_92_Utah_Jazz_season.json', '1993_94_Dallas_Mavericks_season.json', '2009_10_Utah_Jazz_season.json', '2011_12_Utah_Jazz_season.json', '1989_90_Dallas_Mavericks_season.json', '2016_17_Utah_Jazz_season.json', '1978_79_Utah_Jazz_season.json', '1997_98_Utah_Jazz_season.json', '2009_10_Dallas_Mavericks_season.json', '1989_90_Utah_Jazz_season.json', '1999_2000_Dallas_Mavericks_season.json', '2021_22_Dallas_Mavericks_season.json', '1988_89_Dallas_Mavericks_season.json', '2001_02_Dallas_Mavericks_season.json', '1983_84_Utah_Jazz_season.json', '2007_08_Dallas_Mavericks_season.json', '1997_98_Dallas_Mavericks_season.json', '2008_09_Utah_Jazz_season.json', '2005_06_Dallas_Mavericks_season.json', 'History_of_the_Dallas_Mavericks.json', '2002_03_Utah_Jazz_season.json', '2000_01_Utah_Jazz_season.json', '2012_13_Dallas_Mavericks_season.json', '2017_18_Utah_Jazz_season.json', '1983_84_Dallas_Mavericks_season.json', '2014_15_Dallas_Mavericks_season.json', '1995_96_Utah_Jazz_season.json', '1999_2000_Utah_Jazz_season.json', '2006_07_Utah_Jazz_season.json', '1984_85_Dallas_Mavericks_season.json', '2023_24_Dallas_Mavericks_season.json', '1992_93_Dallas_Mavericks_season.json', '2015_16_Utah_Jazz_season.json', '1986_87_Utah_Jazz_season.json', '2007_08_Utah_Jazz_season.json', '1982_83_Dallas_Mavericks_season.json', '2020_21_Dallas_Mavericks_season.json', '1995_96_Dallas_Mavericks_season.json', '2022_23_Dallas_Mavericks_season.json', '1980_81_Dallas_Mavericks_season.json', '2012_13_Utah_Jazz_season.json', '1987_88_Utah_Jazz_season.json', '1994_95_Utah_Jazz_season.json', '2018_19_Dallas_Mavericks_season.json', '1986_87_Dallas_Mavericks_season.json', '1984_85_Utah_Jazz_season.json', '1980_81_Utah_Jazz_season.json', '1988_89_Utah_Jazz_season.json', '1985_86_Dallas_Mavericks_season.json', 'Dallas_Mavericks_draft_history.json', '1993_94_Utah_Jazz_season.json', '1990_91_Dallas_Mavericks_season.json', 'Dallas_Mavericks_seasons.json', '2001_02_Utah_Jazz_season.json', '1991_92_Dallas_Mavericks_season.json', '1981_82_Utah_Jazz_season.json', '2005_06_Utah_Jazz_season.json', '2021_22_Utah_Jazz_season.json', '2018_19_Utah_Jazz_season.json', '2014_15_Utah_Jazz_season.json', 'Dallas_Mavericks_all_time_roster_and_statistics_leaders.json', '1998_99_Dallas_Mavericks_season.json', 'Houston_Rockets_Utah_Jazz_rivalry.json', '1992_93_Utah_Jazz_season.json', '2003_04_Dallas_Mavericks_season.json', '1996_97_Utah_Jazz_season.json', '2013_14_Dallas_Mavericks_season.json', '2002_03_Dallas_Mavericks_season.json', '2017_18_Dallas_Mavericks_season.json', '2010_11_Utah_Jazz_season.json', '2004_05_Dallas_Mavericks_season.json', '1979_80_Utah_Jazz_season.json', '1998_99_Utah_Jazz_season.json', '1994_95_Dallas_Mavericks_season.json', '1981_82_Dallas_Mavericks_season.json', '1990_91_Utah_Jazz_season.json', 'Dallas_Mavericks_all_time_roster.json', '2019_20_Utah_Jazz_season.json', '2003_04_Utah_Jazz_season.json', '1999_00_Utah_Jazz_season.json', '1996_97_Dallas_Mavericks_season.json', '2023_24_Utah_Jazz_season.json', '1987_88_Dallas_Mavericks_season.json', '2006_07_Dallas_Mavericks_season.json', '2000_01_Dallas_Mavericks_season.json', '2004_05_Utah_Jazz_season.json', '2013_14_Utah_Jazz_season.json', '2016_17_Dallas_Mavericks_season.json', 'secure-connect-vectordemo.zip', '2010_11_Dallas_Mavericks_season.json', '2011_12_Dallas_Mavericks_season.json', 'sample_data']\n",
            "101\n"
          ]
        }
      ]
    },
    {
      "cell_type": "code",
      "source": [
        "p =os.listdir()[1:-1]"
      ],
      "metadata": {
        "id": "E8e-mxldo8ub"
      },
      "id": "E8e-mxldo8ub",
      "execution_count": null,
      "outputs": []
    },
    {
      "cell_type": "code",
      "source": [
        "file_path = \"/content/\""
      ],
      "metadata": {
        "id": "tvGV6g6Zo_E2"
      },
      "id": "tvGV6g6Zo_E2",
      "execution_count": null,
      "outputs": []
    },
    {
      "cell_type": "code",
      "source": [
        "pull_ = set(i for i in pull)\n",
        "pull"
      ],
      "metadata": {
        "colab": {
          "base_uri": "https://localhost:8080/"
        },
        "id": "zc4UUE3SpAHN",
        "outputId": "9e8e67eb-bb83-433d-e83d-15703f3b0eea"
      },
      "id": "zc4UUE3SpAHN",
      "execution_count": null,
      "outputs": [
        {
          "output_type": "execute_result",
          "data": {
            "text/plain": [
              "['1979-80 Utah Jazz season',\n",
              " '1980-81 Dallas Mavericks season',\n",
              " '1980-81 Utah Jazz season',\n",
              " '1981-82 Dallas Mavericks season',\n",
              " '1981-82 Utah Jazz season',\n",
              " '1982-83 Dallas Mavericks season',\n",
              " '1982-83 Utah Jazz season',\n",
              " '1983-84 Dallas Mavericks season',\n",
              " '1983-84 Utah Jazz season',\n",
              " '1984-85 Dallas Mavericks season',\n",
              " '1984-85 Utah Jazz season',\n",
              " '1985-86 Dallas Mavericks season',\n",
              " '1985-86 Utah Jazz season',\n",
              " '1986-87 Dallas Mavericks season',\n",
              " '1986-87 Utah Jazz season',\n",
              " '1987-88 Dallas Mavericks season',\n",
              " '1987-88 Utah Jazz season',\n",
              " '1988-89 Dallas Mavericks season',\n",
              " '1988-89 Utah Jazz season',\n",
              " '1989-90 Dallas Mavericks season',\n",
              " '1989-90 Utah Jazz season',\n",
              " '1990-91 Dallas Mavericks season',\n",
              " '1990-91 Utah Jazz season',\n",
              " '1991-92 Dallas Mavericks season',\n",
              " '1991-92 Utah Jazz season',\n",
              " '1992-93 Dallas Mavericks season',\n",
              " '1992-93 Utah Jazz season',\n",
              " '1993-94 Dallas Mavericks season',\n",
              " '1993-94 Utah Jazz season',\n",
              " '1994-95 Dallas Mavericks season',\n",
              " '1994-95 Utah Jazz season',\n",
              " '1995-96 Dallas Mavericks season',\n",
              " '1995-96 Utah Jazz season',\n",
              " '1996-97 Dallas Mavericks season',\n",
              " '1996-97 Utah Jazz season',\n",
              " '1997-98 Dallas Mavericks season',\n",
              " '1997-98 Utah Jazz season',\n",
              " '1998-99 Dallas Mavericks season',\n",
              " '1998-99 Utah Jazz season',\n",
              " '1999-00 Utah Jazz season',\n",
              " '1999-2000 Dallas Mavericks season',\n",
              " '1999-2000 Utah Jazz season',\n",
              " '2000-01 Dallas Mavericks season',\n",
              " '2000-01 Utah Jazz season',\n",
              " '2001-02 Dallas Mavericks season',\n",
              " '2001-02 Utah Jazz season',\n",
              " '2002-03 Dallas Mavericks season',\n",
              " '2002-03 Utah Jazz season',\n",
              " '2003-04 Dallas Mavericks season',\n",
              " '2003-04 Utah Jazz season',\n",
              " '2004-05 Dallas Mavericks season',\n",
              " '2004-05 Utah Jazz season',\n",
              " '2005-06 Dallas Mavericks season',\n",
              " '2005-06 Utah Jazz season',\n",
              " '2006-07 Dallas Mavericks season',\n",
              " '2006-07 Utah Jazz season',\n",
              " '2007-08 Dallas Mavericks season',\n",
              " '2007-08 Utah Jazz season',\n",
              " '2008-09 Dallas Mavericks season',\n",
              " '2008-09 Utah Jazz season',\n",
              " '2009-10 Dallas Mavericks season',\n",
              " '2009-10 Utah Jazz season',\n",
              " '2010-11 Dallas Mavericks season',\n",
              " '2010-11 Utah Jazz season',\n",
              " '2011-12 Dallas Mavericks season',\n",
              " '2011-12 Utah Jazz season',\n",
              " '2012-13 Dallas Mavericks season',\n",
              " '2012-13 Utah Jazz season',\n",
              " '2013-14 Dallas Mavericks season',\n",
              " '2013-14 Utah Jazz season',\n",
              " '2014-15 Dallas Mavericks season',\n",
              " '2014-15 Utah Jazz season',\n",
              " '2015-16 Dallas Mavericks season',\n",
              " '2015-16 Utah Jazz season',\n",
              " '2016-17 Dallas Mavericks season',\n",
              " '2016-17 Utah Jazz season',\n",
              " '2017-18 Dallas Mavericks season',\n",
              " '2017-18 Utah Jazz season',\n",
              " '2018-19 Dallas Mavericks season',\n",
              " '2018-19 Utah Jazz season',\n",
              " '2019-20 Dallas Mavericks season',\n",
              " '2019-20 Utah Jazz season',\n",
              " '2020-21 Dallas Mavericks season',\n",
              " '2020-21 Utah Jazz season',\n",
              " '2021-22 Dallas Mavericks season',\n",
              " '2021-22 Utah Jazz season',\n",
              " '2022-23 Dallas Mavericks season',\n",
              " '2022-23 Utah Jazz season',\n",
              " '2023-24 Dallas Mavericks season',\n",
              " '2023-24 Utah Jazz season',\n",
              " '1978_79_Utah_Jazz_season',\n",
              " '1979_80_Utah_Jazz_season',\n",
              " '1980_81_Dallas_Mavericks_season',\n",
              " '1980_81_Utah_Jazz_season',\n",
              " '1981_82_Dallas_Mavericks_season',\n",
              " '1981_82_Utah_Jazz_season',\n",
              " '1982_83_Dallas_Mavericks_season',\n",
              " '1982_83_Utah_Jazz_season',\n",
              " '1983_84_Dallas_Mavericks_season',\n",
              " '1983_84_Utah_Jazz_season',\n",
              " '1984_85_Dallas_Mavericks_season',\n",
              " '1984_85_Utah_Jazz_season',\n",
              " '1985_86_Dallas_Mavericks_season',\n",
              " '1985_86_Utah_Jazz_season',\n",
              " '1986_87_Dallas_Mavericks_season',\n",
              " '1986_87_Utah_Jazz_season',\n",
              " '1987_88_Dallas_Mavericks_season',\n",
              " '1987_88_Utah_Jazz_season',\n",
              " '1988_89_Dallas_Mavericks_season',\n",
              " '1988_89_Utah_Jazz_season',\n",
              " '1989_90_Dallas_Mavericks_season',\n",
              " '1989_90_Utah_Jazz_season',\n",
              " '1990_91_Dallas_Mavericks_season',\n",
              " '1990_91_Utah_Jazz_season',\n",
              " '1991_92_Dallas_Mavericks_season',\n",
              " '1991_92_Utah_Jazz_season',\n",
              " '1992_93_Dallas_Mavericks_season',\n",
              " '1992_93_Utah_Jazz_season',\n",
              " '1993_94_Dallas_Mavericks_season',\n",
              " '1993_94_Utah_Jazz_season',\n",
              " '1994_95_Dallas_Mavericks_season',\n",
              " '1994_95_Utah_Jazz_season',\n",
              " '1995_96_Dallas_Mavericks_season',\n",
              " '1995_96_Utah_Jazz_season',\n",
              " '1996_97_Dallas_Mavericks_season',\n",
              " '1996_97_Utah_Jazz_season',\n",
              " '1997_98_Dallas_Mavericks_season',\n",
              " '1997_98_Utah_Jazz_season',\n",
              " '1998_99_Dallas_Mavericks_season',\n",
              " '1998_99_Utah_Jazz_season',\n",
              " '1999_00_Utah_Jazz_season',\n",
              " '1999_2000_Dallas_Mavericks_season',\n",
              " '1999_2000_Utah_Jazz_season',\n",
              " '2000_01_Dallas_Mavericks_season',\n",
              " '2000_01_Utah_Jazz_season',\n",
              " '2001_02_Dallas_Mavericks_season',\n",
              " '2001_02_Utah_Jazz_season',\n",
              " '2002_03_Dallas_Mavericks_season',\n",
              " '2002_03_Utah_Jazz_season',\n",
              " '2003_04_Dallas_Mavericks_season',\n",
              " '2003_04_Utah_Jazz_season',\n",
              " '2004_05_Dallas_Mavericks_season',\n",
              " '2004_05_Utah_Jazz_season',\n",
              " '2005_06_Dallas_Mavericks_season',\n",
              " '2005_06_Utah_Jazz_season',\n",
              " '2006_07_Dallas_Mavericks_season',\n",
              " '2006_07_Utah_Jazz_season',\n",
              " '2007_08_Dallas_Mavericks_season',\n",
              " '2007_08_Utah_Jazz_season',\n",
              " '2008_09_Dallas_Mavericks_season',\n",
              " '2008_09_Utah_Jazz_season',\n",
              " '2009_10_Dallas_Mavericks_season',\n",
              " '2009_10_Utah_Jazz_season',\n",
              " '2010_11_Dallas_Mavericks_season',\n",
              " '2010_11_Utah_Jazz_season',\n",
              " '2011_12_Dallas_Mavericks_season',\n",
              " '2011_12_Utah_Jazz_season',\n",
              " '2012_13_Dallas_Mavericks_season',\n",
              " '2012_13_Utah_Jazz_season',\n",
              " '2013_14_Dallas_Mavericks_season',\n",
              " '2013_14_Utah_Jazz_season',\n",
              " '2014_15_Dallas_Mavericks_season',\n",
              " '2014_15_Utah_Jazz_season',\n",
              " '2015_16_Dallas_Mavericks_season',\n",
              " '2015_16_Utah_Jazz_season',\n",
              " '2016_17_Dallas_Mavericks_season',\n",
              " '2016_17_Utah_Jazz_season',\n",
              " '2017_18_Dallas_Mavericks_season',\n",
              " '2017_18_Utah_Jazz_season',\n",
              " '2018_19_Dallas_Mavericks_season',\n",
              " '2018_19_Utah_Jazz_season',\n",
              " '2019_20_Dallas_Mavericks_season',\n",
              " '2019_20_Utah_Jazz_season',\n",
              " '2020_21_Dallas_Mavericks_season',\n",
              " '2020_21_Utah_Jazz_season',\n",
              " '2021_22_Dallas_Mavericks_season',\n",
              " '2021_22_Utah_Jazz_season',\n",
              " '2022_23_Dallas_Mavericks_season',\n",
              " '2022_23_Utah_Jazz_season',\n",
              " '2023_24_Dallas_Mavericks_season',\n",
              " '2023_24_Utah_Jazz_season',\n",
              " 'Dallas_Mavericks_all_time_roster',\n",
              " 'Dallas_Mavericks_all_time_roster_and_statistics_leaders',\n",
              " 'Dallas_Mavericks_draft_history',\n",
              " 'Dallas_Mavericks_head_coaches',\n",
              " 'Dallas_Mavericks_seasons',\n",
              " 'History_of_the_Dallas_Mavericks',\n",
              " 'Houston_Rockets_Utah_Jazz_rivalry']"
            ]
          },
          "metadata": {},
          "execution_count": 27
        }
      ]
    },
    {
      "cell_type": "code",
      "source": [
        "paths = []\n",
        "for i in pull:\n",
        "  i = i.replace(\"-\", \" \")\n",
        "  i = i.replace(\" \",(\"_\"))\n",
        "  paths.append(file_path +i+\".json\")"
      ],
      "metadata": {
        "id": "i5fBnm0GpFCg"
      },
      "id": "i5fBnm0GpFCg",
      "execution_count": null,
      "outputs": []
    },
    {
      "cell_type": "code",
      "source": [
        "print(paths[0:2])"
      ],
      "metadata": {
        "colab": {
          "base_uri": "https://localhost:8080/"
        },
        "id": "PXuXfw47pFis",
        "outputId": "2e973348-8897-4e1d-847e-d0fd80435822"
      },
      "id": "PXuXfw47pFis",
      "execution_count": null,
      "outputs": [
        {
          "output_type": "stream",
          "name": "stdout",
          "text": [
            "['/content/1979_80_Utah_Jazz_season.json', '/content/1980_81_Dallas_Mavericks_season.json']\n"
          ]
        }
      ]
    },
    {
      "cell_type": "code",
      "source": [
        "from pathlib import Path\n",
        "from llama_index import download_loader\n",
        "\n",
        "JSONReader = download_loader(\"JSONReader\")\n",
        "\n",
        "loader = JSONReader()\n"
      ],
      "metadata": {
        "id": "EoS0vk2XpKUK"
      },
      "id": "EoS0vk2XpKUK",
      "execution_count": null,
      "outputs": []
    },
    {
      "cell_type": "code",
      "source": [
        "paths[0]"
      ],
      "metadata": {
        "colab": {
          "base_uri": "https://localhost:8080/",
          "height": 36
        },
        "id": "BzDDYOcDpMpf",
        "outputId": "48d1b0f1-03ba-4606-ead5-459882867444"
      },
      "id": "BzDDYOcDpMpf",
      "execution_count": null,
      "outputs": [
        {
          "output_type": "execute_result",
          "data": {
            "text/plain": [
              "'/content/1979_80_Utah_Jazz_season.json'"
            ],
            "application/vnd.google.colaboratory.intrinsic+json": {
              "type": "string"
            }
          },
          "metadata": {},
          "execution_count": 31
        }
      ]
    },
    {
      "cell_type": "code",
      "source": [
        "document = loader.load_data(Path(paths[34]))"
      ],
      "metadata": {
        "id": "4D4blLH5pO81"
      },
      "id": "4D4blLH5pO81",
      "execution_count": null,
      "outputs": []
    },
    {
      "cell_type": "code",
      "source": [
        "#example of what the fully working JSON file should look like\n",
        "document"
      ],
      "metadata": {
        "colab": {
          "base_uri": "https://localhost:8080/"
        },
        "id": "nbzz5DvqpRyP",
        "outputId": "f049bd70-f0d1-4bad-fc41-4abb5551d756"
      },
      "id": "nbzz5DvqpRyP",
      "execution_count": null,
      "outputs": [
        {
          "output_type": "execute_result",
          "data": {
            "text/plain": [
              "[Document(id_='51f9906f-8948-4348-ae3e-f6af8fdcca19', embedding=None, metadata={}, excluded_embed_metadata_keys=[], excluded_llm_metadata_keys=[], relationships={}, hash='92f369d7c0a6ebeac8efc22ce8dabe8073b2cded9f72b048177d2ad90233d70e', text='\"1996-97 Utah Jazz season\"', start_char_idx=None, end_char_idx=None, text_template='{metadata_str}\\n\\n{content}', metadata_template='{key}: {value}', metadata_seperator='\\n')]"
            ]
          },
          "metadata": {},
          "execution_count": 33
        }
      ]
    },
    {
      "cell_type": "code",
      "source": [
        "print('Document ID:', document[0].doc_id, 'Document Hash:', document[0].hash)"
      ],
      "metadata": {
        "colab": {
          "base_uri": "https://localhost:8080/"
        },
        "id": "sdkVP5ZQpsE1",
        "outputId": "e1026524-bd95-4a98-9388-2616bd8ade4e"
      },
      "id": "sdkVP5ZQpsE1",
      "execution_count": null,
      "outputs": [
        {
          "output_type": "stream",
          "name": "stdout",
          "text": [
            "Document ID: 51f9906f-8948-4348-ae3e-f6af8fdcca19 Document Hash: 92f369d7c0a6ebeac8efc22ce8dabe8073b2cded9f72b048177d2ad90233d70e\n"
          ]
        }
      ]
    },
    {
      "cell_type": "markdown",
      "metadata": {
        "id": "VwW4wDdEeJgd"
      },
      "source": [
        "### Colab preamble completed\n",
        "\n",
        "## The following cells constitute the demo notebook proper."
      ],
      "id": "VwW4wDdEeJgd"
    },
    {
      "cell_type": "markdown",
      "id": "6715bc2b",
      "metadata": {
        "id": "6715bc2b"
      },
      "source": [
        "# LlamaIndex, Vector Store\n",
        "\n",
        "Create a Vector Store with LamaIndex and CassIO, and build a powerful search engine and text generator, backed by Astra DB / Apache Cassandra®."
      ]
    },
    {
      "cell_type": "markdown",
      "id": "2a0167d4-8d57-418c-a4cb-3358e7e18db6",
      "metadata": {
        "id": "2a0167d4-8d57-418c-a4cb-3358e7e18db6"
      },
      "source": [
        "### Table of contents:\n",
        "\n",
        "- Setup (database, LLM+embeddings)\n",
        "- Create Astra vector store\n",
        "- Insert documents in it\n",
        "- Test answering questions using a single doc with AStra Vector Search, CassIO and LlamaIndex\n",
        "- Use Gradio web interface to showcase Q&A across multiple docs\n",
        "- Cleanup (optional)"
      ]
    },
    {
      "cell_type": "markdown",
      "id": "761d9b70",
      "metadata": {
        "id": "761d9b70"
      },
      "source": [
        "_**NOTE:** this uses Cassandra's \"Vector Similarity Search\" capability.\n",
        "Make sure you are connecting to a vector-enabled database for this demo._"
      ]
    },
    {
      "cell_type": "markdown",
      "id": "582ca2f3-b7d0-4547-ab73-83c9e1e36d48",
      "metadata": {
        "id": "582ca2f3-b7d0-4547-ab73-83c9e1e36d48"
      },
      "source": [
        "## Setup"
      ]
    },
    {
      "cell_type": "code",
      "execution_count": null,
      "id": "ea9b1235-6334-4ade-bc71-95c17fefbfe1",
      "metadata": {
        "id": "ea9b1235-6334-4ade-bc71-95c17fefbfe1"
      },
      "outputs": [],
      "source": [
        "from llama_index import VectorStoreIndex, SimpleDirectoryReader, StorageContext\n",
        "\n",
        "# for observability\n",
        "from llama_index.callbacks import CallbackManager, CBEventType\n",
        "from llama_index.callbacks import LlamaDebugHandler, WandbCallbackHandler\n",
        "from llama_index import (\n",
        "    SummaryIndex,\n",
        "    GPTTreeIndex,\n",
        "    GPTVectorStoreIndex,\n",
        "    ServiceContext,\n",
        "    SimpleDirectoryReader,\n",
        "    LLMPredictor,\n",
        "    GPTSimpleKeywordTableIndex,\n",
        "    StorageContext,\n",
        ")\n",
        "from llama_index.indices.composability import ComposableGraph\n",
        "from llama_index import load_index_from_storage, load_graph_from_storage\n",
        "#from llama_index.llms import OpenAI\n",
        "\n"
      ]
    },
    {
      "cell_type": "markdown",
      "id": "945efcf3-a3f1-4e27-a0e7-ed589340ec62",
      "metadata": {
        "id": "945efcf3-a3f1-4e27-a0e7-ed589340ec62"
      },
      "source": [
        "This is the LlamaIndex class providing support for Astra DB / Cassandra:"
      ]
    },
    {
      "cell_type": "code",
      "execution_count": null,
      "id": "77a8f514-d932-4861-8868-71b243e95531",
      "metadata": {
        "id": "77a8f514-d932-4861-8868-71b243e95531"
      },
      "outputs": [],
      "source": [
        "from llama_index.vector_stores import CassandraVectorStore"
      ]
    },
    {
      "cell_type": "markdown",
      "id": "4a9314fc-3269-442a-839f-a8e663c61da0",
      "metadata": {
        "id": "4a9314fc-3269-442a-839f-a8e663c61da0"
      },
      "source": [
        "A database connection is needed to access Cassandra. The following assumes\n",
        "that a _vector-search-capable Astra DB instance_ is available. Adjust as needed."
      ]
    },
    {
      "cell_type": "code",
      "execution_count": null,
      "id": "3e12e6e5-2239-4879-aa7a-3d867a303f1a",
      "metadata": {
        "id": "3e12e6e5-2239-4879-aa7a-3d867a303f1a",
        "colab": {
          "base_uri": "https://localhost:8080/"
        },
        "outputId": "ce1dc0d7-f940-447d-f9fc-d4550b38007e"
      },
      "outputs": [
        {
          "output_type": "stream",
          "name": "stderr",
          "text": [
            "WARNING:cassandra.cluster:Downgrading core protocol version from 66 to 65 for a4c29bc6-b900-44c5-b980-584a0c4542b5-us-east1.db.astra.datastax.com:29042:f07b10c5-f2b9-48aa-942d-2b906062c418. To avoid this, it is best practice to explicitly set Cluster(protocol_version) to the version supported by your cluster. http://datastax.github.io/python-driver/api/cassandra/cluster.html#cassandra.cluster.Cluster.protocol_version\n",
            "WARNING:cassandra.cluster:Downgrading core protocol version from 65 to 5 for a4c29bc6-b900-44c5-b980-584a0c4542b5-us-east1.db.astra.datastax.com:29042:f07b10c5-f2b9-48aa-942d-2b906062c418. To avoid this, it is best practice to explicitly set Cluster(protocol_version) to the version supported by your cluster. http://datastax.github.io/python-driver/api/cassandra/cluster.html#cassandra.cluster.Cluster.protocol_version\n",
            "ERROR:cassandra.connection:Closing connection <AsyncoreConnection(133764825281776) a4c29bc6-b900-44c5-b980-584a0c4542b5-us-east1.db.astra.datastax.com:29042:f07b10c5-f2b9-48aa-942d-2b906062c418> due to protocol error: Error from server: code=000a [Protocol error] message=\"Beta version of the protocol used (5/v5-beta), but USE_BETA flag is unset\"\n",
            "WARNING:cassandra.cluster:Downgrading core protocol version from 5 to 4 for a4c29bc6-b900-44c5-b980-584a0c4542b5-us-east1.db.astra.datastax.com:29042:f07b10c5-f2b9-48aa-942d-2b906062c418. To avoid this, it is best practice to explicitly set Cluster(protocol_version) to the version supported by your cluster. http://datastax.github.io/python-driver/api/cassandra/cluster.html#cassandra.cluster.Cluster.protocol_version\n"
          ]
        }
      ],
      "source": [
        "# creation of the DB connection\n",
        "cqlMode = 'astra_db'\n",
        "session = getCQLSession(mode=cqlMode)\n",
        "keyspace = getCQLKeyspace(mode=cqlMode)"
      ]
    },
    {
      "cell_type": "markdown",
      "id": "385d2575-d621-4586-96bb-de4092e8624a",
      "metadata": {
        "id": "385d2575-d621-4586-96bb-de4092e8624a"
      },
      "source": [
        "Both an LLM and an embedding function are required.\n",
        "\n",
        "Below is the logic to instantiate the LLM and embeddings of choice. We chose to leave it in the notebooks for clarity."
      ]
    },
    {
      "cell_type": "code",
      "execution_count": null,
      "id": "be891c7d-2aaf-452d-9310-605dbe8a0017",
      "metadata": {
        "id": "be891c7d-2aaf-452d-9310-605dbe8a0017",
        "outputId": "12827756-ff32-43ae-b91e-61b509203433",
        "colab": {
          "base_uri": "https://localhost:8080/"
        }
      },
      "outputs": [
        {
          "output_type": "stream",
          "name": "stdout",
          "text": [
            "LLM+embeddings from OpenAI\n",
            "Vector dimension for this embedding model: 1536\n"
          ]
        }
      ],
      "source": [
        "import os\n",
        "# creation of the LLM resources\n",
        "\n",
        "\n",
        "if llmProvider == 'OpenAI':\n",
        "    os.environ['OPENAI_API_TYPE'] = 'open_ai'\n",
        "    from llama_index.llms import OpenAI\n",
        "    from llama_index.embeddings import OpenAIEmbedding\n",
        "    llm = OpenAI(temperature=0)\n",
        "    myEmbedding = OpenAIEmbedding()\n",
        "    vector_dimension = 1536\n",
        "    print(\"LLM+embeddings from OpenAI\")\n",
        "elif llmProvider == 'GCP_VertexAI':\n",
        "    from llama_index import LangchainEmbedding\n",
        "    # LlamaIndex lets you plug any LangChain's LLM+embeddings:\n",
        "    from langchain.llms import VertexAI\n",
        "    from langchain.embeddings import VertexAIEmbeddings\n",
        "    llm = VertexAI()\n",
        "    lcEmbedding = VertexAIEmbeddings()\n",
        "    vector_dimension = len(lcEmbedding.embed_query(\"This is a sample sentence.\"))\n",
        "    # ... if you take care of wrapping the LangChain embedding like this:\n",
        "    myEmbedding = LangchainEmbedding(lcEmbedding)\n",
        "    print(\"LLM+embeddings from Vertex AI\")\n",
        "elif llmProvider == 'Azure_OpenAI':\n",
        "    os.environ['OPENAI_API_TYPE'] = 'azure'\n",
        "    os.environ['OPENAI_API_VERSION'] = os.environ['AZURE_OPENAI_API_VERSION']\n",
        "    os.environ['OPENAI_API_BASE'] = os.environ['AZURE_OPENAI_API_BASE']\n",
        "    os.environ['OPENAI_API_KEY'] = os.environ['AZURE_OPENAI_API_KEY']\n",
        "    from llama_index import LangchainEmbedding\n",
        "    # LlamaIndex lets you plug any LangChain's LLM+embeddings:\n",
        "    from langchain.llms import AzureOpenAI\n",
        "    from langchain.embeddings import OpenAIEmbeddings\n",
        "    llm = AzureOpenAI(temperature=0, model_name=os.environ['AZURE_OPENAI_LLM_MODEL'],\n",
        "                      engine=os.environ['AZURE_OPENAI_LLM_DEPLOYMENT'])\n",
        "    lcEmbedding = OpenAIEmbeddings(model=os.environ['AZURE_OPENAI_EMBEDDINGS_MODEL'],\n",
        "                                   deployment=os.environ['AZURE_OPENAI_EMBEDDINGS_DEPLOYMENT'])\n",
        "    vector_dimension = len(lcEmbedding.embed_query(\"This is a sample sentence.\"))\n",
        "    # ... if you take care of wrapping the LangChain embedding like this:\n",
        "    myEmbedding = LangchainEmbedding(lcEmbedding)\n",
        "    print('LLM+embeddings from Azure OpenAI')\n",
        "else:\n",
        "    raise ValueError('Unknown LLM provider.')\n",
        "\n",
        "print(f\"Vector dimension for this embedding model: {vector_dimension}\")"
      ]
    },
    {
      "cell_type": "code",
      "source": [
        "# Observability\n",
        "# option 1 (errored with \"NameError: name 'llama_index' is not defined\")\n",
        "#from llama_index import set_global_handler\n",
        "#set_global_handler(\"wandb\", run_args={\"project\": \"llamaindex\"})\n",
        "#wandb_callback = llama_index.global_handler\n",
        "#service_context = ServiceContext.from_defaults(llm=llm)\n",
        "\n",
        "# Used option\n",
        "llama_debug = LlamaDebugHandler(print_trace_on_end=True)\n",
        "# wandb.init args\n",
        "run_args = dict(\n",
        "    project=\"llamaindex\",\n",
        "    )\n",
        "wandb_callback = WandbCallbackHandler(run_args=run_args)\n",
        "#callback_manager = CallbackManager([llama_debug, wandb_callback]) #this errored so went with the straight llama_debug below\n",
        "callback_manager = CallbackManager([llama_debug])\n",
        "#service_context = ServiceContext.from_defaults(\n",
        "#    callback_manager=callback_manager, llm=llm\n",
        "#    )\n",
        "\n",
        "# After running the above cell, it provides the W&B run page URL. This contains a trace table with all the events tracked using Weights and Biases’ Prompts feature.\n",
        "# e.g. https://wandb.ai/kasey-parker/llamaindex/runs/2yf6kpm1?workspace=user-kasey-parker"
      ],
      "metadata": {
        "colab": {
          "base_uri": "https://localhost:8080/"
        },
        "id": "Hgf4LI1QEJeK",
        "outputId": "bf540d0b-d718-458c-dfcf-9fbe5ff88b6a"
      },
      "id": "Hgf4LI1QEJeK",
      "execution_count": null,
      "outputs": [
        {
          "output_type": "stream",
          "name": "stderr",
          "text": [
            "[nltk_data] Downloading package punkt to /tmp/llama_index...\n",
            "[nltk_data]   Unzipping tokenizers/punkt.zip.\n"
          ]
        }
      ]
    },
    {
      "cell_type": "markdown",
      "id": "f4b728fa-5da9-43c9-bf25-838051d8fe26",
      "metadata": {
        "id": "f4b728fa-5da9-43c9-bf25-838051d8fe26"
      },
      "source": [
        "The following cell ensures that throughout all of LlamaIndex the LLM and embedding function instantiated above will be used:"
      ]
    },
    {
      "cell_type": "code",
      "execution_count": null,
      "id": "fe7caf30-24e9-4441-b131-91ee9bb71d00",
      "metadata": {
        "id": "fe7caf30-24e9-4441-b131-91ee9bb71d00"
      },
      "outputs": [],
      "source": [
        "from llama_index import ServiceContext\n",
        "from llama_index import set_global_service_context\n",
        "\n",
        "service_context = ServiceContext.from_defaults(\n",
        "    callback_manager=callback_manager,\n",
        "    llm=llm,\n",
        "    embed_model=myEmbedding,\n",
        "    chunk_size=256,\n",
        ")\n",
        "set_global_service_context(service_context)"
      ]
    },
    {
      "cell_type": "markdown",
      "id": "d7716353-0a6f-48d1-a2da-ffdb84dc148b",
      "metadata": {
        "id": "d7716353-0a6f-48d1-a2da-ffdb84dc148b"
      },
      "source": [
        "## Create vector store"
      ]
    },
    {
      "cell_type": "code",
      "execution_count": null,
      "id": "8af3c333-8e7f-41db-9c8b-318903de3ac5",
      "metadata": {
        "id": "8af3c333-8e7f-41db-9c8b-318903de3ac5"
      },
      "outputs": [],
      "source": [
        "table_name = 'vs_nba_ll_' + llmProvider"
      ]
    },
    {
      "cell_type": "markdown",
      "id": "0d695f72-d102-4dac-af03-9fb6497e5093",
      "metadata": {
        "id": "0d695f72-d102-4dac-af03-9fb6497e5093"
      },
      "source": [
        "In the LlamaIndex abstractions, the `CassandraVectorStore` instance is best wrapped into the creation of a \"storage context\", which you'll momentarily use to create the index proper:"
      ]
    },
    {
      "cell_type": "code",
      "execution_count": null,
      "id": "157f1891-d637-468b-8c58-32eaa7c79184",
      "metadata": {
        "id": "157f1891-d637-468b-8c58-32eaa7c79184"
      },
      "outputs": [],
      "source": [
        "storage_context = StorageContext.from_defaults(\n",
        "    vector_store = CassandraVectorStore(\n",
        "        session=session,\n",
        "        keyspace=keyspace,\n",
        "        table=table_name,\n",
        "        embedding_dimension=vector_dimension,\n",
        "        insertion_batch_size=15,\n",
        "    )\n",
        ")"
      ]
    },
    {
      "cell_type": "markdown",
      "id": "776608ce-3bc4-4ad2-8e21-6a8b6cf15322",
      "metadata": {
        "id": "776608ce-3bc4-4ad2-8e21-6a8b6cf15322"
      },
      "source": [
        "## Insert documents into Astra"
      ]
    },
    {
      "cell_type": "code",
      "source": [
        "titles = pull"
      ],
      "metadata": {
        "id": "HpCFIaJ0rFuk"
      },
      "id": "HpCFIaJ0rFuk",
      "execution_count": null,
      "outputs": []
    },
    {
      "cell_type": "code",
      "source": [
        "print(titles[0])\n",
        "print(len(titles))"
      ],
      "metadata": {
        "colab": {
          "base_uri": "https://localhost:8080/"
        },
        "id": "8z6kjk3prI_P",
        "outputId": "6c285095-67e8-4494-fd39-99cb10aaf627"
      },
      "id": "8z6kjk3prI_P",
      "execution_count": null,
      "outputs": [
        {
          "output_type": "stream",
          "name": "stdout",
          "text": [
            "1979-80 Utah Jazz season\n",
            "188\n"
          ]
        }
      ]
    },
    {
      "cell_type": "code",
      "source": [
        "from llama_index.storage.storage_context import StorageContext\n",
        "\n",
        "openai.api_key = apiSecret\n",
        "\n",
        "#if index_name not in pinecone.list_indexes():\n",
        " # pinecone.create_index(name=index_name, dimension=1536, metric=\"cosine\")\n",
        "  # pinecone.create_index(index_name, dimension=len(embeds[0]))\n",
        "# connect to index\n",
        "# index = pinecone.Index(index_name)\n",
        "# pinecone.create_index(name=index_name, dimension=1536, metric=\"cosine\")\n",
        "\n",
        "aa_indices = {}\n",
        "index_summaries = {}\n",
        "\n",
        "for astra_title, name in zip(titles, paths):\n",
        "    metadata_filters = {\"name\": name}\n",
        "    storage_context = StorageContext.from_defaults(\n",
        "      vector_store = CassandraVectorStore(\n",
        "        session=session,\n",
        "        keyspace=keyspace,\n",
        "        table=table_name,\n",
        "        embedding_dimension=vector_dimension,\n",
        "        insertion_batch_size=15,\n",
        "      )\n",
        "    )\n",
        "\n",
        "    #aa_docs = SimpleDirectoryReader(input_files=[i for i in paths]).load_data()\n",
        "\n",
        "\n",
        "    #try:\n",
        "    document = loader.load_data(Path(name))\n",
        "    aa_indices[name] = GPTVectorStoreIndex.from_documents(document, storage_context=storage_context)\n",
        "    aa_indices[name].index_struct.index_id = astra_title\n",
        "    #except:\n",
        "    #  pass\n",
        "\n",
        "    index_summaries[name] = f\"Wikipedia article about {name}\"\n",
        "\n",
        "# note the wandb trace messages provided by the added observability"
      ],
      "metadata": {
        "id": "K-BKC4S2rNaI",
        "colab": {
          "base_uri": "https://localhost:8080/"
        },
        "outputId": "5ad1510e-dcda-4035-c3a0-864da5241492"
      },
      "id": "K-BKC4S2rNaI",
      "execution_count": null,
      "outputs": [
        {
          "output_type": "stream",
          "name": "stdout",
          "text": [
            "**********\n",
            "Trace: index_construction\n",
            "    |_node_parsing ->  0.003564 seconds\n",
            "      |_chunking ->  0.000377 seconds\n",
            "    |_embedding ->  0.434178 seconds\n",
            "**********\n"
          ]
        },
        {
          "output_type": "stream",
          "name": "stderr",
          "text": [
            "\u001b[34m\u001b[1mwandb\u001b[0m: Logged trace tree to W&B.\n"
          ]
        },
        {
          "output_type": "stream",
          "name": "stdout",
          "text": [
            "**********\n",
            "Trace: index_construction\n",
            "    |_node_parsing ->  0.000426 seconds\n",
            "      |_chunking ->  7.6e-05 seconds\n",
            "    |_embedding ->  0.129373 seconds\n",
            "**********\n"
          ]
        },
        {
          "output_type": "stream",
          "name": "stderr",
          "text": [
            "\u001b[34m\u001b[1mwandb\u001b[0m: Logged trace tree to W&B.\n"
          ]
        },
        {
          "output_type": "stream",
          "name": "stdout",
          "text": [
            "**********\n",
            "Trace: index_construction\n",
            "    |_node_parsing ->  0.000595 seconds\n",
            "      |_chunking ->  0.000111 seconds\n",
            "    |_embedding ->  0.140508 seconds\n",
            "**********\n"
          ]
        },
        {
          "output_type": "stream",
          "name": "stderr",
          "text": [
            "\u001b[34m\u001b[1mwandb\u001b[0m: Logged trace tree to W&B.\n"
          ]
        },
        {
          "output_type": "stream",
          "name": "stdout",
          "text": [
            "**********\n",
            "Trace: index_construction\n",
            "    |_node_parsing ->  0.000375 seconds\n",
            "      |_chunking ->  6.9e-05 seconds\n",
            "    |_embedding ->  0.130116 seconds\n",
            "**********\n"
          ]
        },
        {
          "output_type": "stream",
          "name": "stderr",
          "text": [
            "\u001b[34m\u001b[1mwandb\u001b[0m: Logged trace tree to W&B.\n"
          ]
        },
        {
          "output_type": "stream",
          "name": "stdout",
          "text": [
            "**********\n",
            "Trace: index_construction\n",
            "    |_node_parsing ->  0.000465 seconds\n",
            "      |_chunking ->  7e-05 seconds\n",
            "    |_embedding ->  0.133827 seconds\n",
            "**********\n"
          ]
        },
        {
          "output_type": "stream",
          "name": "stderr",
          "text": [
            "\u001b[34m\u001b[1mwandb\u001b[0m: Logged trace tree to W&B.\n"
          ]
        },
        {
          "output_type": "stream",
          "name": "stdout",
          "text": [
            "**********\n",
            "Trace: index_construction\n",
            "    |_node_parsing ->  0.000437 seconds\n",
            "      |_chunking ->  6.7e-05 seconds\n",
            "    |_embedding ->  0.126748 seconds\n",
            "**********\n"
          ]
        },
        {
          "output_type": "stream",
          "name": "stderr",
          "text": [
            "\u001b[34m\u001b[1mwandb\u001b[0m: Logged trace tree to W&B.\n"
          ]
        },
        {
          "output_type": "stream",
          "name": "stdout",
          "text": [
            "**********\n",
            "Trace: index_construction\n",
            "    |_node_parsing ->  0.000442 seconds\n",
            "      |_chunking ->  8e-05 seconds\n",
            "    |_embedding ->  0.182791 seconds\n",
            "**********\n"
          ]
        },
        {
          "output_type": "stream",
          "name": "stderr",
          "text": [
            "\u001b[34m\u001b[1mwandb\u001b[0m: Logged trace tree to W&B.\n"
          ]
        },
        {
          "output_type": "stream",
          "name": "stdout",
          "text": [
            "**********\n",
            "Trace: index_construction\n",
            "    |_node_parsing ->  0.00037 seconds\n",
            "      |_chunking ->  6.6e-05 seconds\n",
            "    |_embedding ->  0.109642 seconds\n",
            "**********\n"
          ]
        },
        {
          "output_type": "stream",
          "name": "stderr",
          "text": [
            "\u001b[34m\u001b[1mwandb\u001b[0m: Logged trace tree to W&B.\n"
          ]
        },
        {
          "output_type": "stream",
          "name": "stdout",
          "text": [
            "**********\n",
            "Trace: index_construction\n",
            "    |_node_parsing ->  0.000585 seconds\n",
            "      |_chunking ->  0.000101 seconds\n",
            "    |_embedding ->  0.118045 seconds\n",
            "**********\n"
          ]
        },
        {
          "output_type": "stream",
          "name": "stderr",
          "text": [
            "\u001b[34m\u001b[1mwandb\u001b[0m: Logged trace tree to W&B.\n"
          ]
        },
        {
          "output_type": "stream",
          "name": "stdout",
          "text": [
            "**********\n",
            "Trace: index_construction\n",
            "    |_node_parsing ->  0.000398 seconds\n",
            "      |_chunking ->  7.1e-05 seconds\n",
            "    |_embedding ->  0.131014 seconds\n",
            "**********\n"
          ]
        },
        {
          "output_type": "stream",
          "name": "stderr",
          "text": [
            "\u001b[34m\u001b[1mwandb\u001b[0m: Logged trace tree to W&B.\n"
          ]
        },
        {
          "output_type": "stream",
          "name": "stdout",
          "text": [
            "**********\n",
            "Trace: index_construction\n",
            "    |_node_parsing ->  0.000402 seconds\n",
            "      |_chunking ->  8e-05 seconds\n",
            "    |_embedding ->  0.161117 seconds\n",
            "**********\n"
          ]
        },
        {
          "output_type": "stream",
          "name": "stderr",
          "text": [
            "\u001b[34m\u001b[1mwandb\u001b[0m: Logged trace tree to W&B.\n"
          ]
        },
        {
          "output_type": "stream",
          "name": "stdout",
          "text": [
            "**********\n",
            "Trace: index_construction\n",
            "    |_node_parsing ->  0.000383 seconds\n",
            "      |_chunking ->  7.1e-05 seconds\n",
            "    |_embedding ->  0.118401 seconds\n",
            "**********\n"
          ]
        },
        {
          "output_type": "stream",
          "name": "stderr",
          "text": [
            "\u001b[34m\u001b[1mwandb\u001b[0m: Logged trace tree to W&B.\n"
          ]
        },
        {
          "output_type": "stream",
          "name": "stdout",
          "text": [
            "**********\n",
            "Trace: index_construction\n",
            "    |_node_parsing ->  0.000454 seconds\n",
            "      |_chunking ->  7.8e-05 seconds\n",
            "    |_embedding ->  0.149596 seconds\n",
            "**********\n"
          ]
        },
        {
          "output_type": "stream",
          "name": "stderr",
          "text": [
            "\u001b[34m\u001b[1mwandb\u001b[0m: Logged trace tree to W&B.\n"
          ]
        },
        {
          "output_type": "stream",
          "name": "stdout",
          "text": [
            "**********\n",
            "Trace: index_construction\n",
            "    |_node_parsing ->  0.000447 seconds\n",
            "      |_chunking ->  0.000116 seconds\n",
            "    |_embedding ->  0.123001 seconds\n",
            "**********\n"
          ]
        },
        {
          "output_type": "stream",
          "name": "stderr",
          "text": [
            "\u001b[34m\u001b[1mwandb\u001b[0m: Logged trace tree to W&B.\n"
          ]
        },
        {
          "output_type": "stream",
          "name": "stdout",
          "text": [
            "**********\n",
            "Trace: index_construction\n",
            "    |_node_parsing ->  0.000577 seconds\n",
            "      |_chunking ->  0.000112 seconds\n",
            "    |_embedding ->  0.131113 seconds\n",
            "**********\n"
          ]
        },
        {
          "output_type": "stream",
          "name": "stderr",
          "text": [
            "\u001b[34m\u001b[1mwandb\u001b[0m: Logged trace tree to W&B.\n"
          ]
        },
        {
          "output_type": "stream",
          "name": "stdout",
          "text": [
            "**********\n",
            "Trace: index_construction\n",
            "    |_node_parsing ->  0.000476 seconds\n",
            "      |_chunking ->  9.1e-05 seconds\n",
            "    |_embedding ->  0.131767 seconds\n",
            "**********\n"
          ]
        },
        {
          "output_type": "stream",
          "name": "stderr",
          "text": [
            "\u001b[34m\u001b[1mwandb\u001b[0m: Logged trace tree to W&B.\n"
          ]
        },
        {
          "output_type": "stream",
          "name": "stdout",
          "text": [
            "**********\n",
            "Trace: index_construction\n",
            "    |_node_parsing ->  0.000425 seconds\n",
            "      |_chunking ->  0.000102 seconds\n",
            "    |_embedding ->  0.118626 seconds\n",
            "**********\n"
          ]
        },
        {
          "output_type": "stream",
          "name": "stderr",
          "text": [
            "\u001b[34m\u001b[1mwandb\u001b[0m: Logged trace tree to W&B.\n"
          ]
        },
        {
          "output_type": "stream",
          "name": "stdout",
          "text": [
            "**********\n",
            "Trace: index_construction\n",
            "    |_node_parsing ->  0.000618 seconds\n",
            "      |_chunking ->  0.000213 seconds\n",
            "    |_embedding ->  0.105034 seconds\n",
            "**********\n"
          ]
        },
        {
          "output_type": "stream",
          "name": "stderr",
          "text": [
            "\u001b[34m\u001b[1mwandb\u001b[0m: Logged trace tree to W&B.\n"
          ]
        },
        {
          "output_type": "stream",
          "name": "stdout",
          "text": [
            "**********\n",
            "Trace: index_construction\n",
            "    |_node_parsing ->  0.000448 seconds\n",
            "      |_chunking ->  9e-05 seconds\n",
            "    |_embedding ->  0.190763 seconds\n",
            "**********\n"
          ]
        },
        {
          "output_type": "stream",
          "name": "stderr",
          "text": [
            "\u001b[34m\u001b[1mwandb\u001b[0m: Logged trace tree to W&B.\n"
          ]
        },
        {
          "output_type": "stream",
          "name": "stdout",
          "text": [
            "**********\n",
            "Trace: index_construction\n",
            "    |_node_parsing ->  0.000402 seconds\n",
            "      |_chunking ->  8.1e-05 seconds\n",
            "    |_embedding ->  0.13162 seconds\n",
            "**********\n"
          ]
        },
        {
          "output_type": "stream",
          "name": "stderr",
          "text": [
            "\u001b[34m\u001b[1mwandb\u001b[0m: Logged trace tree to W&B.\n"
          ]
        },
        {
          "output_type": "stream",
          "name": "stdout",
          "text": [
            "**********\n",
            "Trace: index_construction\n",
            "    |_node_parsing ->  0.00041 seconds\n",
            "      |_chunking ->  7.4e-05 seconds\n",
            "    |_embedding ->  0.1587 seconds\n",
            "**********\n"
          ]
        },
        {
          "output_type": "stream",
          "name": "stderr",
          "text": [
            "\u001b[34m\u001b[1mwandb\u001b[0m: Logged trace tree to W&B.\n"
          ]
        },
        {
          "output_type": "stream",
          "name": "stdout",
          "text": [
            "**********\n",
            "Trace: index_construction\n",
            "    |_node_parsing ->  0.000561 seconds\n",
            "      |_chunking ->  0.000115 seconds\n",
            "    |_embedding ->  0.15632 seconds\n",
            "**********\n"
          ]
        },
        {
          "output_type": "stream",
          "name": "stderr",
          "text": [
            "\u001b[34m\u001b[1mwandb\u001b[0m: Logged trace tree to W&B.\n"
          ]
        },
        {
          "output_type": "stream",
          "name": "stdout",
          "text": [
            "**********\n",
            "Trace: index_construction\n",
            "    |_node_parsing ->  0.000439 seconds\n",
            "      |_chunking ->  9.3e-05 seconds\n",
            "    |_embedding ->  0.115052 seconds\n",
            "**********\n"
          ]
        },
        {
          "output_type": "stream",
          "name": "stderr",
          "text": [
            "\u001b[34m\u001b[1mwandb\u001b[0m: Logged trace tree to W&B.\n"
          ]
        },
        {
          "output_type": "stream",
          "name": "stdout",
          "text": [
            "**********\n",
            "Trace: index_construction\n",
            "    |_node_parsing ->  0.000443 seconds\n",
            "      |_chunking ->  7.4e-05 seconds\n",
            "    |_embedding ->  0.10718 seconds\n",
            "**********\n"
          ]
        },
        {
          "output_type": "stream",
          "name": "stderr",
          "text": [
            "\u001b[34m\u001b[1mwandb\u001b[0m: Logged trace tree to W&B.\n"
          ]
        },
        {
          "output_type": "stream",
          "name": "stdout",
          "text": [
            "**********\n",
            "Trace: index_construction\n",
            "    |_node_parsing ->  0.000465 seconds\n",
            "      |_chunking ->  0.000118 seconds\n",
            "    |_embedding ->  0.172419 seconds\n",
            "**********\n"
          ]
        },
        {
          "output_type": "stream",
          "name": "stderr",
          "text": [
            "\u001b[34m\u001b[1mwandb\u001b[0m: Logged trace tree to W&B.\n"
          ]
        },
        {
          "output_type": "stream",
          "name": "stdout",
          "text": [
            "**********\n",
            "Trace: index_construction\n",
            "    |_node_parsing ->  0.000536 seconds\n",
            "      |_chunking ->  0.000107 seconds\n",
            "    |_embedding ->  0.120642 seconds\n",
            "**********\n"
          ]
        },
        {
          "output_type": "stream",
          "name": "stderr",
          "text": [
            "\u001b[34m\u001b[1mwandb\u001b[0m: Logged trace tree to W&B.\n"
          ]
        },
        {
          "output_type": "stream",
          "name": "stdout",
          "text": [
            "**********\n",
            "Trace: index_construction\n",
            "    |_node_parsing ->  0.00049 seconds\n",
            "      |_chunking ->  9.5e-05 seconds\n",
            "    |_embedding ->  0.120453 seconds\n",
            "**********\n"
          ]
        },
        {
          "output_type": "stream",
          "name": "stderr",
          "text": [
            "\u001b[34m\u001b[1mwandb\u001b[0m: Logged trace tree to W&B.\n"
          ]
        },
        {
          "output_type": "stream",
          "name": "stdout",
          "text": [
            "**********\n",
            "Trace: index_construction\n",
            "    |_node_parsing ->  0.000398 seconds\n",
            "      |_chunking ->  9.8e-05 seconds\n",
            "    |_embedding ->  0.137213 seconds\n",
            "**********\n"
          ]
        },
        {
          "output_type": "stream",
          "name": "stderr",
          "text": [
            "\u001b[34m\u001b[1mwandb\u001b[0m: Logged trace tree to W&B.\n"
          ]
        },
        {
          "output_type": "stream",
          "name": "stdout",
          "text": [
            "**********\n",
            "Trace: index_construction\n",
            "    |_node_parsing ->  0.000402 seconds\n",
            "      |_chunking ->  9.5e-05 seconds\n",
            "    |_embedding ->  0.171795 seconds\n",
            "**********\n"
          ]
        },
        {
          "output_type": "stream",
          "name": "stderr",
          "text": [
            "\u001b[34m\u001b[1mwandb\u001b[0m: Logged trace tree to W&B.\n"
          ]
        },
        {
          "output_type": "stream",
          "name": "stdout",
          "text": [
            "**********\n",
            "Trace: index_construction\n",
            "    |_node_parsing ->  0.000375 seconds\n",
            "      |_chunking ->  7.3e-05 seconds\n",
            "    |_embedding ->  0.143713 seconds\n",
            "**********\n"
          ]
        },
        {
          "output_type": "stream",
          "name": "stderr",
          "text": [
            "\u001b[34m\u001b[1mwandb\u001b[0m: Logged trace tree to W&B.\n"
          ]
        },
        {
          "output_type": "stream",
          "name": "stdout",
          "text": [
            "**********\n",
            "Trace: index_construction\n",
            "    |_node_parsing ->  0.000385 seconds\n",
            "      |_chunking ->  7.8e-05 seconds\n",
            "    |_embedding ->  0.255229 seconds\n",
            "**********\n"
          ]
        },
        {
          "output_type": "stream",
          "name": "stderr",
          "text": [
            "\u001b[34m\u001b[1mwandb\u001b[0m: Logged trace tree to W&B.\n"
          ]
        },
        {
          "output_type": "stream",
          "name": "stdout",
          "text": [
            "**********\n",
            "Trace: index_construction\n",
            "    |_node_parsing ->  0.000364 seconds\n",
            "      |_chunking ->  6.3e-05 seconds\n",
            "    |_embedding ->  0.136825 seconds\n",
            "**********\n"
          ]
        },
        {
          "output_type": "stream",
          "name": "stderr",
          "text": [
            "\u001b[34m\u001b[1mwandb\u001b[0m: Logged trace tree to W&B.\n"
          ]
        },
        {
          "output_type": "stream",
          "name": "stdout",
          "text": [
            "**********\n",
            "Trace: index_construction\n",
            "    |_node_parsing ->  0.000738 seconds\n",
            "      |_chunking ->  7.5e-05 seconds\n",
            "    |_embedding ->  0.112085 seconds\n",
            "**********\n"
          ]
        },
        {
          "output_type": "stream",
          "name": "stderr",
          "text": [
            "\u001b[34m\u001b[1mwandb\u001b[0m: Logged trace tree to W&B.\n"
          ]
        },
        {
          "output_type": "stream",
          "name": "stdout",
          "text": [
            "**********\n",
            "Trace: index_construction\n",
            "    |_node_parsing ->  0.000435 seconds\n",
            "      |_chunking ->  6.8e-05 seconds\n",
            "    |_embedding ->  0.168683 seconds\n",
            "**********\n"
          ]
        },
        {
          "output_type": "stream",
          "name": "stderr",
          "text": [
            "\u001b[34m\u001b[1mwandb\u001b[0m: Logged trace tree to W&B.\n"
          ]
        },
        {
          "output_type": "stream",
          "name": "stdout",
          "text": [
            "**********\n",
            "Trace: index_construction\n",
            "    |_node_parsing ->  0.000477 seconds\n",
            "      |_chunking ->  0.000147 seconds\n",
            "    |_embedding ->  0.112144 seconds\n",
            "**********\n"
          ]
        },
        {
          "output_type": "stream",
          "name": "stderr",
          "text": [
            "\u001b[34m\u001b[1mwandb\u001b[0m: Logged trace tree to W&B.\n"
          ]
        },
        {
          "output_type": "stream",
          "name": "stdout",
          "text": [
            "**********\n",
            "Trace: index_construction\n",
            "    |_node_parsing ->  0.000519 seconds\n",
            "      |_chunking ->  0.000121 seconds\n",
            "    |_embedding ->  0.125891 seconds\n",
            "**********\n"
          ]
        },
        {
          "output_type": "stream",
          "name": "stderr",
          "text": [
            "\u001b[34m\u001b[1mwandb\u001b[0m: Logged trace tree to W&B.\n"
          ]
        },
        {
          "output_type": "stream",
          "name": "stdout",
          "text": [
            "**********\n",
            "Trace: index_construction\n",
            "    |_node_parsing ->  0.000369 seconds\n",
            "      |_chunking ->  6.4e-05 seconds\n",
            "    |_embedding ->  0.112838 seconds\n",
            "**********\n"
          ]
        },
        {
          "output_type": "stream",
          "name": "stderr",
          "text": [
            "\u001b[34m\u001b[1mwandb\u001b[0m: Logged trace tree to W&B.\n"
          ]
        },
        {
          "output_type": "stream",
          "name": "stdout",
          "text": [
            "**********\n",
            "Trace: index_construction\n",
            "    |_node_parsing ->  0.000367 seconds\n",
            "      |_chunking ->  6.8e-05 seconds\n",
            "    |_embedding ->  0.121923 seconds\n",
            "**********\n"
          ]
        },
        {
          "output_type": "stream",
          "name": "stderr",
          "text": [
            "\u001b[34m\u001b[1mwandb\u001b[0m: Logged trace tree to W&B.\n"
          ]
        },
        {
          "output_type": "stream",
          "name": "stdout",
          "text": [
            "**********\n",
            "Trace: index_construction\n",
            "    |_node_parsing ->  0.000609 seconds\n",
            "      |_chunking ->  0.000116 seconds\n",
            "    |_embedding ->  0.114057 seconds\n",
            "**********\n"
          ]
        },
        {
          "output_type": "stream",
          "name": "stderr",
          "text": [
            "\u001b[34m\u001b[1mwandb\u001b[0m: Logged trace tree to W&B.\n"
          ]
        },
        {
          "output_type": "stream",
          "name": "stdout",
          "text": [
            "**********\n",
            "Trace: index_construction\n",
            "    |_node_parsing ->  0.000561 seconds\n",
            "      |_chunking ->  0.000139 seconds\n",
            "    |_embedding ->  1.866474 seconds\n",
            "**********\n"
          ]
        },
        {
          "output_type": "stream",
          "name": "stderr",
          "text": [
            "\u001b[34m\u001b[1mwandb\u001b[0m: Logged trace tree to W&B.\n"
          ]
        },
        {
          "output_type": "stream",
          "name": "stdout",
          "text": [
            "**********\n",
            "Trace: index_construction\n",
            "    |_node_parsing ->  0.000444 seconds\n",
            "      |_chunking ->  7.8e-05 seconds\n",
            "    |_embedding ->  0.680029 seconds\n",
            "**********\n"
          ]
        },
        {
          "output_type": "stream",
          "name": "stderr",
          "text": [
            "\u001b[34m\u001b[1mwandb\u001b[0m: Logged trace tree to W&B.\n"
          ]
        },
        {
          "output_type": "stream",
          "name": "stdout",
          "text": [
            "**********\n",
            "Trace: index_construction\n",
            "    |_node_parsing ->  0.000527 seconds\n",
            "      |_chunking ->  9.6e-05 seconds\n",
            "    |_embedding ->  0.12556 seconds\n",
            "**********\n"
          ]
        },
        {
          "output_type": "stream",
          "name": "stderr",
          "text": [
            "\u001b[34m\u001b[1mwandb\u001b[0m: Logged trace tree to W&B.\n"
          ]
        },
        {
          "output_type": "stream",
          "name": "stdout",
          "text": [
            "**********\n",
            "Trace: index_construction\n",
            "    |_node_parsing ->  0.000575 seconds\n",
            "      |_chunking ->  0.000117 seconds\n",
            "    |_embedding ->  0.120127 seconds\n",
            "**********\n"
          ]
        },
        {
          "output_type": "stream",
          "name": "stderr",
          "text": [
            "\u001b[34m\u001b[1mwandb\u001b[0m: Logged trace tree to W&B.\n"
          ]
        },
        {
          "output_type": "stream",
          "name": "stdout",
          "text": [
            "**********\n",
            "Trace: index_construction\n",
            "    |_node_parsing ->  0.00053 seconds\n",
            "      |_chunking ->  9e-05 seconds\n",
            "    |_embedding ->  0.121834 seconds\n",
            "**********\n"
          ]
        },
        {
          "output_type": "stream",
          "name": "stderr",
          "text": [
            "\u001b[34m\u001b[1mwandb\u001b[0m: Logged trace tree to W&B.\n"
          ]
        },
        {
          "output_type": "stream",
          "name": "stdout",
          "text": [
            "**********\n",
            "Trace: index_construction\n",
            "    |_node_parsing ->  0.000568 seconds\n",
            "      |_chunking ->  0.000119 seconds\n",
            "    |_embedding ->  0.113619 seconds\n",
            "**********\n"
          ]
        },
        {
          "output_type": "stream",
          "name": "stderr",
          "text": [
            "\u001b[34m\u001b[1mwandb\u001b[0m: Logged trace tree to W&B.\n"
          ]
        },
        {
          "output_type": "stream",
          "name": "stdout",
          "text": [
            "**********\n",
            "Trace: index_construction\n",
            "    |_node_parsing ->  0.000506 seconds\n",
            "      |_chunking ->  9.6e-05 seconds\n",
            "    |_embedding ->  0.130532 seconds\n",
            "**********\n"
          ]
        },
        {
          "output_type": "stream",
          "name": "stderr",
          "text": [
            "\u001b[34m\u001b[1mwandb\u001b[0m: Logged trace tree to W&B.\n"
          ]
        },
        {
          "output_type": "stream",
          "name": "stdout",
          "text": [
            "**********\n",
            "Trace: index_construction\n",
            "    |_node_parsing ->  0.000564 seconds\n",
            "      |_chunking ->  0.000149 seconds\n",
            "    |_embedding ->  0.153765 seconds\n",
            "**********\n"
          ]
        },
        {
          "output_type": "stream",
          "name": "stderr",
          "text": [
            "\u001b[34m\u001b[1mwandb\u001b[0m: Logged trace tree to W&B.\n"
          ]
        },
        {
          "output_type": "stream",
          "name": "stdout",
          "text": [
            "**********\n",
            "Trace: index_construction\n",
            "    |_node_parsing ->  0.000936 seconds\n",
            "      |_chunking ->  0.000124 seconds\n",
            "    |_embedding ->  0.125376 seconds\n",
            "**********\n"
          ]
        },
        {
          "output_type": "stream",
          "name": "stderr",
          "text": [
            "\u001b[34m\u001b[1mwandb\u001b[0m: Logged trace tree to W&B.\n"
          ]
        },
        {
          "output_type": "stream",
          "name": "stdout",
          "text": [
            "**********\n",
            "Trace: index_construction\n",
            "    |_node_parsing ->  0.000542 seconds\n",
            "      |_chunking ->  0.000102 seconds\n",
            "    |_embedding ->  0.116504 seconds\n",
            "**********\n"
          ]
        },
        {
          "output_type": "stream",
          "name": "stderr",
          "text": [
            "\u001b[34m\u001b[1mwandb\u001b[0m: Logged trace tree to W&B.\n"
          ]
        },
        {
          "output_type": "stream",
          "name": "stdout",
          "text": [
            "**********\n",
            "Trace: index_construction\n",
            "    |_node_parsing ->  0.00053 seconds\n",
            "      |_chunking ->  0.000106 seconds\n",
            "    |_embedding ->  0.132383 seconds\n",
            "**********\n"
          ]
        },
        {
          "output_type": "stream",
          "name": "stderr",
          "text": [
            "\u001b[34m\u001b[1mwandb\u001b[0m: Logged trace tree to W&B.\n"
          ]
        },
        {
          "output_type": "stream",
          "name": "stdout",
          "text": [
            "**********\n",
            "Trace: index_construction\n",
            "    |_node_parsing ->  0.000539 seconds\n",
            "      |_chunking ->  0.000118 seconds\n",
            "    |_embedding ->  0.139727 seconds\n",
            "**********\n"
          ]
        },
        {
          "output_type": "stream",
          "name": "stderr",
          "text": [
            "\u001b[34m\u001b[1mwandb\u001b[0m: Logged trace tree to W&B.\n"
          ]
        },
        {
          "output_type": "stream",
          "name": "stdout",
          "text": [
            "**********\n",
            "Trace: index_construction\n",
            "    |_node_parsing ->  0.000574 seconds\n",
            "      |_chunking ->  0.000105 seconds\n",
            "    |_embedding ->  0.107433 seconds\n",
            "**********\n"
          ]
        },
        {
          "output_type": "stream",
          "name": "stderr",
          "text": [
            "\u001b[34m\u001b[1mwandb\u001b[0m: Logged trace tree to W&B.\n"
          ]
        },
        {
          "output_type": "stream",
          "name": "stdout",
          "text": [
            "**********\n",
            "Trace: index_construction\n",
            "    |_node_parsing ->  0.000575 seconds\n",
            "      |_chunking ->  0.000161 seconds\n",
            "    |_embedding ->  0.14792 seconds\n",
            "**********\n"
          ]
        },
        {
          "output_type": "stream",
          "name": "stderr",
          "text": [
            "\u001b[34m\u001b[1mwandb\u001b[0m: Logged trace tree to W&B.\n"
          ]
        },
        {
          "output_type": "stream",
          "name": "stdout",
          "text": [
            "**********\n",
            "Trace: index_construction\n",
            "    |_node_parsing ->  0.000599 seconds\n",
            "      |_chunking ->  0.000102 seconds\n",
            "    |_embedding ->  0.18977 seconds\n",
            "**********\n"
          ]
        },
        {
          "output_type": "stream",
          "name": "stderr",
          "text": [
            "\u001b[34m\u001b[1mwandb\u001b[0m: Logged trace tree to W&B.\n"
          ]
        },
        {
          "output_type": "stream",
          "name": "stdout",
          "text": [
            "**********\n",
            "Trace: index_construction\n",
            "    |_node_parsing ->  0.000574 seconds\n",
            "      |_chunking ->  0.000122 seconds\n",
            "    |_embedding ->  0.143237 seconds\n",
            "**********\n"
          ]
        },
        {
          "output_type": "stream",
          "name": "stderr",
          "text": [
            "\u001b[34m\u001b[1mwandb\u001b[0m: Logged trace tree to W&B.\n"
          ]
        },
        {
          "output_type": "stream",
          "name": "stdout",
          "text": [
            "**********\n",
            "Trace: index_construction\n",
            "    |_node_parsing ->  0.000562 seconds\n",
            "      |_chunking ->  0.000104 seconds\n",
            "    |_embedding ->  0.134537 seconds\n",
            "**********\n"
          ]
        },
        {
          "output_type": "stream",
          "name": "stderr",
          "text": [
            "\u001b[34m\u001b[1mwandb\u001b[0m: Logged trace tree to W&B.\n"
          ]
        },
        {
          "output_type": "stream",
          "name": "stdout",
          "text": [
            "**********\n",
            "Trace: index_construction\n",
            "    |_node_parsing ->  0.000528 seconds\n",
            "      |_chunking ->  0.000109 seconds\n",
            "    |_embedding ->  0.141437 seconds\n",
            "**********\n"
          ]
        },
        {
          "output_type": "stream",
          "name": "stderr",
          "text": [
            "\u001b[34m\u001b[1mwandb\u001b[0m: Logged trace tree to W&B.\n"
          ]
        },
        {
          "output_type": "stream",
          "name": "stdout",
          "text": [
            "**********\n",
            "Trace: index_construction\n",
            "    |_node_parsing ->  0.000609 seconds\n",
            "      |_chunking ->  0.000148 seconds\n",
            "    |_embedding ->  0.124581 seconds\n",
            "**********\n"
          ]
        },
        {
          "output_type": "stream",
          "name": "stderr",
          "text": [
            "\u001b[34m\u001b[1mwandb\u001b[0m: Logged trace tree to W&B.\n"
          ]
        },
        {
          "output_type": "stream",
          "name": "stdout",
          "text": [
            "**********\n",
            "Trace: index_construction\n",
            "    |_node_parsing ->  0.000527 seconds\n",
            "      |_chunking ->  0.000107 seconds\n",
            "    |_embedding ->  0.153968 seconds\n",
            "**********\n"
          ]
        },
        {
          "output_type": "stream",
          "name": "stderr",
          "text": [
            "\u001b[34m\u001b[1mwandb\u001b[0m: Logged trace tree to W&B.\n"
          ]
        },
        {
          "output_type": "stream",
          "name": "stdout",
          "text": [
            "**********\n",
            "Trace: index_construction\n",
            "    |_node_parsing ->  0.000378 seconds\n",
            "      |_chunking ->  6.5e-05 seconds\n",
            "    |_embedding ->  0.115351 seconds\n",
            "**********\n"
          ]
        },
        {
          "output_type": "stream",
          "name": "stderr",
          "text": [
            "\u001b[34m\u001b[1mwandb\u001b[0m: Logged trace tree to W&B.\n"
          ]
        },
        {
          "output_type": "stream",
          "name": "stdout",
          "text": [
            "**********\n",
            "Trace: index_construction\n",
            "    |_node_parsing ->  0.000611 seconds\n",
            "      |_chunking ->  0.000119 seconds\n",
            "    |_embedding ->  0.112364 seconds\n",
            "**********\n"
          ]
        },
        {
          "output_type": "stream",
          "name": "stderr",
          "text": [
            "\u001b[34m\u001b[1mwandb\u001b[0m: Logged trace tree to W&B.\n"
          ]
        },
        {
          "output_type": "stream",
          "name": "stdout",
          "text": [
            "**********\n",
            "Trace: index_construction\n",
            "    |_node_parsing ->  0.000425 seconds\n",
            "      |_chunking ->  6.4e-05 seconds\n",
            "    |_embedding ->  0.136825 seconds\n",
            "**********\n"
          ]
        },
        {
          "output_type": "stream",
          "name": "stderr",
          "text": [
            "\u001b[34m\u001b[1mwandb\u001b[0m: Logged trace tree to W&B.\n"
          ]
        },
        {
          "output_type": "stream",
          "name": "stdout",
          "text": [
            "**********\n",
            "Trace: index_construction\n",
            "    |_node_parsing ->  0.000585 seconds\n",
            "      |_chunking ->  0.000141 seconds\n",
            "    |_embedding ->  0.112178 seconds\n",
            "**********\n"
          ]
        },
        {
          "output_type": "stream",
          "name": "stderr",
          "text": [
            "\u001b[34m\u001b[1mwandb\u001b[0m: Logged trace tree to W&B.\n"
          ]
        },
        {
          "output_type": "stream",
          "name": "stdout",
          "text": [
            "**********\n",
            "Trace: index_construction\n",
            "    |_node_parsing ->  0.000624 seconds\n",
            "      |_chunking ->  0.000114 seconds\n",
            "    |_embedding ->  0.186992 seconds\n",
            "**********\n"
          ]
        },
        {
          "output_type": "stream",
          "name": "stderr",
          "text": [
            "\u001b[34m\u001b[1mwandb\u001b[0m: Logged trace tree to W&B.\n"
          ]
        },
        {
          "output_type": "stream",
          "name": "stdout",
          "text": [
            "**********\n",
            "Trace: index_construction\n",
            "    |_node_parsing ->  0.000594 seconds\n",
            "      |_chunking ->  0.000114 seconds\n",
            "    |_embedding ->  0.130518 seconds\n",
            "**********\n"
          ]
        },
        {
          "output_type": "stream",
          "name": "stderr",
          "text": [
            "\u001b[34m\u001b[1mwandb\u001b[0m: Logged trace tree to W&B.\n"
          ]
        },
        {
          "output_type": "stream",
          "name": "stdout",
          "text": [
            "**********\n",
            "Trace: index_construction\n",
            "    |_node_parsing ->  0.000589 seconds\n",
            "      |_chunking ->  0.000107 seconds\n",
            "    |_embedding ->  0.144579 seconds\n",
            "**********\n"
          ]
        },
        {
          "output_type": "stream",
          "name": "stderr",
          "text": [
            "\u001b[34m\u001b[1mwandb\u001b[0m: Logged trace tree to W&B.\n"
          ]
        },
        {
          "output_type": "stream",
          "name": "stdout",
          "text": [
            "**********\n",
            "Trace: index_construction\n",
            "    |_node_parsing ->  0.000546 seconds\n",
            "      |_chunking ->  0.000106 seconds\n",
            "    |_embedding ->  0.108203 seconds\n",
            "**********\n"
          ]
        },
        {
          "output_type": "stream",
          "name": "stderr",
          "text": [
            "\u001b[34m\u001b[1mwandb\u001b[0m: Logged trace tree to W&B.\n"
          ]
        },
        {
          "output_type": "stream",
          "name": "stdout",
          "text": [
            "**********\n",
            "Trace: index_construction\n",
            "    |_node_parsing ->  0.000608 seconds\n",
            "      |_chunking ->  0.000108 seconds\n",
            "    |_embedding ->  0.107792 seconds\n",
            "**********\n"
          ]
        },
        {
          "output_type": "stream",
          "name": "stderr",
          "text": [
            "\u001b[34m\u001b[1mwandb\u001b[0m: Logged trace tree to W&B.\n"
          ]
        },
        {
          "output_type": "stream",
          "name": "stdout",
          "text": [
            "**********\n",
            "Trace: index_construction\n",
            "    |_node_parsing ->  0.000569 seconds\n",
            "      |_chunking ->  0.000102 seconds\n",
            "    |_embedding ->  0.731327 seconds\n",
            "**********\n"
          ]
        },
        {
          "output_type": "stream",
          "name": "stderr",
          "text": [
            "\u001b[34m\u001b[1mwandb\u001b[0m: Logged trace tree to W&B.\n"
          ]
        },
        {
          "output_type": "stream",
          "name": "stdout",
          "text": [
            "**********\n",
            "Trace: index_construction\n",
            "    |_node_parsing ->  0.000535 seconds\n",
            "      |_chunking ->  0.000113 seconds\n",
            "    |_embedding ->  0.13479 seconds\n",
            "**********\n"
          ]
        },
        {
          "output_type": "stream",
          "name": "stderr",
          "text": [
            "\u001b[34m\u001b[1mwandb\u001b[0m: Logged trace tree to W&B.\n"
          ]
        },
        {
          "output_type": "stream",
          "name": "stdout",
          "text": [
            "**********\n",
            "Trace: index_construction\n",
            "    |_node_parsing ->  0.000515 seconds\n",
            "      |_chunking ->  0.000109 seconds\n",
            "    |_embedding ->  0.115675 seconds\n",
            "**********\n"
          ]
        },
        {
          "output_type": "stream",
          "name": "stderr",
          "text": [
            "\u001b[34m\u001b[1mwandb\u001b[0m: Logged trace tree to W&B.\n"
          ]
        },
        {
          "output_type": "stream",
          "name": "stdout",
          "text": [
            "**********\n",
            "Trace: index_construction\n",
            "    |_node_parsing ->  0.000804 seconds\n",
            "      |_chunking ->  0.000312 seconds\n",
            "    |_embedding ->  0.114316 seconds\n",
            "**********\n"
          ]
        },
        {
          "output_type": "stream",
          "name": "stderr",
          "text": [
            "\u001b[34m\u001b[1mwandb\u001b[0m: Logged trace tree to W&B.\n"
          ]
        },
        {
          "output_type": "stream",
          "name": "stdout",
          "text": [
            "**********\n",
            "Trace: index_construction\n",
            "    |_node_parsing ->  0.002646 seconds\n",
            "      |_chunking ->  0.000109 seconds\n",
            "    |_embedding ->  0.210145 seconds\n",
            "**********\n"
          ]
        },
        {
          "output_type": "stream",
          "name": "stderr",
          "text": [
            "\u001b[34m\u001b[1mwandb\u001b[0m: Logged trace tree to W&B.\n"
          ]
        },
        {
          "output_type": "stream",
          "name": "stdout",
          "text": [
            "**********\n",
            "Trace: index_construction\n",
            "    |_node_parsing ->  0.00057 seconds\n",
            "      |_chunking ->  0.000135 seconds\n",
            "    |_embedding ->  0.110985 seconds\n",
            "**********\n"
          ]
        },
        {
          "output_type": "stream",
          "name": "stderr",
          "text": [
            "\u001b[34m\u001b[1mwandb\u001b[0m: Logged trace tree to W&B.\n"
          ]
        },
        {
          "output_type": "stream",
          "name": "stdout",
          "text": [
            "**********\n",
            "Trace: index_construction\n",
            "    |_node_parsing ->  0.000553 seconds\n",
            "      |_chunking ->  0.000104 seconds\n",
            "    |_embedding ->  0.119813 seconds\n",
            "**********\n"
          ]
        },
        {
          "output_type": "stream",
          "name": "stderr",
          "text": [
            "\u001b[34m\u001b[1mwandb\u001b[0m: Logged trace tree to W&B.\n"
          ]
        },
        {
          "output_type": "stream",
          "name": "stdout",
          "text": [
            "**********\n",
            "Trace: index_construction\n",
            "    |_node_parsing ->  0.000574 seconds\n",
            "      |_chunking ->  0.000111 seconds\n",
            "    |_embedding ->  0.445682 seconds\n",
            "**********\n"
          ]
        },
        {
          "output_type": "stream",
          "name": "stderr",
          "text": [
            "\u001b[34m\u001b[1mwandb\u001b[0m: Logged trace tree to W&B.\n"
          ]
        },
        {
          "output_type": "stream",
          "name": "stdout",
          "text": [
            "**********\n",
            "Trace: index_construction\n",
            "    |_node_parsing ->  0.000578 seconds\n",
            "      |_chunking ->  0.000105 seconds\n",
            "    |_embedding ->  0.128585 seconds\n",
            "**********\n"
          ]
        },
        {
          "output_type": "stream",
          "name": "stderr",
          "text": [
            "\u001b[34m\u001b[1mwandb\u001b[0m: Logged trace tree to W&B.\n"
          ]
        },
        {
          "output_type": "stream",
          "name": "stdout",
          "text": [
            "**********\n",
            "Trace: index_construction\n",
            "    |_node_parsing ->  0.000543 seconds\n",
            "      |_chunking ->  0.000116 seconds\n",
            "    |_embedding ->  0.120294 seconds\n",
            "**********\n"
          ]
        },
        {
          "output_type": "stream",
          "name": "stderr",
          "text": [
            "\u001b[34m\u001b[1mwandb\u001b[0m: Logged trace tree to W&B.\n"
          ]
        },
        {
          "output_type": "stream",
          "name": "stdout",
          "text": [
            "**********\n",
            "Trace: index_construction\n",
            "    |_node_parsing ->  0.000394 seconds\n",
            "      |_chunking ->  7.2e-05 seconds\n",
            "    |_embedding ->  0.617197 seconds\n",
            "**********\n"
          ]
        },
        {
          "output_type": "stream",
          "name": "stderr",
          "text": [
            "\u001b[34m\u001b[1mwandb\u001b[0m: Logged trace tree to W&B.\n"
          ]
        },
        {
          "output_type": "stream",
          "name": "stdout",
          "text": [
            "**********\n",
            "Trace: index_construction\n",
            "    |_node_parsing ->  0.00035 seconds\n",
            "      |_chunking ->  6.5e-05 seconds\n",
            "    |_embedding ->  0.131697 seconds\n",
            "**********\n"
          ]
        },
        {
          "output_type": "stream",
          "name": "stderr",
          "text": [
            "\u001b[34m\u001b[1mwandb\u001b[0m: Logged trace tree to W&B.\n"
          ]
        },
        {
          "output_type": "stream",
          "name": "stdout",
          "text": [
            "**********\n",
            "Trace: index_construction\n",
            "    |_node_parsing ->  0.000419 seconds\n",
            "      |_chunking ->  7.7e-05 seconds\n",
            "    |_embedding ->  0.208069 seconds\n",
            "**********\n"
          ]
        },
        {
          "output_type": "stream",
          "name": "stderr",
          "text": [
            "\u001b[34m\u001b[1mwandb\u001b[0m: Logged trace tree to W&B.\n"
          ]
        },
        {
          "output_type": "stream",
          "name": "stdout",
          "text": [
            "**********\n",
            "Trace: index_construction\n",
            "    |_node_parsing ->  0.000621 seconds\n",
            "      |_chunking ->  0.000112 seconds\n",
            "    |_embedding ->  0.154222 seconds\n",
            "**********\n"
          ]
        },
        {
          "output_type": "stream",
          "name": "stderr",
          "text": [
            "\u001b[34m\u001b[1mwandb\u001b[0m: Logged trace tree to W&B.\n"
          ]
        },
        {
          "output_type": "stream",
          "name": "stdout",
          "text": [
            "**********\n",
            "Trace: index_construction\n",
            "    |_node_parsing ->  0.000386 seconds\n",
            "      |_chunking ->  6.4e-05 seconds\n",
            "    |_embedding ->  0.113935 seconds\n",
            "**********\n"
          ]
        },
        {
          "output_type": "stream",
          "name": "stderr",
          "text": [
            "\u001b[34m\u001b[1mwandb\u001b[0m: Logged trace tree to W&B.\n"
          ]
        },
        {
          "output_type": "stream",
          "name": "stdout",
          "text": [
            "**********\n",
            "Trace: index_construction\n",
            "    |_node_parsing ->  0.000368 seconds\n",
            "      |_chunking ->  6.7e-05 seconds\n",
            "    |_embedding ->  0.108946 seconds\n",
            "**********\n"
          ]
        },
        {
          "output_type": "stream",
          "name": "stderr",
          "text": [
            "\u001b[34m\u001b[1mwandb\u001b[0m: Logged trace tree to W&B.\n"
          ]
        },
        {
          "output_type": "stream",
          "name": "stdout",
          "text": [
            "**********\n",
            "Trace: index_construction\n",
            "    |_node_parsing ->  0.000392 seconds\n",
            "      |_chunking ->  7.6e-05 seconds\n",
            "    |_embedding ->  0.130925 seconds\n",
            "**********\n"
          ]
        },
        {
          "output_type": "stream",
          "name": "stderr",
          "text": [
            "\u001b[34m\u001b[1mwandb\u001b[0m: Logged trace tree to W&B.\n"
          ]
        },
        {
          "output_type": "stream",
          "name": "stdout",
          "text": [
            "**********\n",
            "Trace: index_construction\n",
            "    |_node_parsing ->  0.000378 seconds\n",
            "      |_chunking ->  7.2e-05 seconds\n",
            "    |_embedding ->  0.115752 seconds\n",
            "**********\n"
          ]
        },
        {
          "output_type": "stream",
          "name": "stderr",
          "text": [
            "\u001b[34m\u001b[1mwandb\u001b[0m: Logged trace tree to W&B.\n"
          ]
        },
        {
          "output_type": "stream",
          "name": "stdout",
          "text": [
            "**********\n",
            "Trace: index_construction\n",
            "    |_node_parsing ->  0.000387 seconds\n",
            "      |_chunking ->  7.4e-05 seconds\n",
            "    |_embedding ->  0.107308 seconds\n",
            "**********\n"
          ]
        },
        {
          "output_type": "stream",
          "name": "stderr",
          "text": [
            "\u001b[34m\u001b[1mwandb\u001b[0m: Logged trace tree to W&B.\n"
          ]
        },
        {
          "output_type": "stream",
          "name": "stdout",
          "text": [
            "**********\n",
            "Trace: index_construction\n",
            "    |_node_parsing ->  0.000433 seconds\n",
            "      |_chunking ->  7.6e-05 seconds\n",
            "    |_embedding ->  0.115752 seconds\n",
            "**********\n"
          ]
        },
        {
          "output_type": "stream",
          "name": "stderr",
          "text": [
            "\u001b[34m\u001b[1mwandb\u001b[0m: Logged trace tree to W&B.\n"
          ]
        },
        {
          "output_type": "stream",
          "name": "stdout",
          "text": [
            "**********\n",
            "Trace: index_construction\n",
            "    |_node_parsing ->  0.000386 seconds\n",
            "      |_chunking ->  7.6e-05 seconds\n",
            "    |_embedding ->  0.133094 seconds\n",
            "**********\n"
          ]
        },
        {
          "output_type": "stream",
          "name": "stderr",
          "text": [
            "\u001b[34m\u001b[1mwandb\u001b[0m: Logged trace tree to W&B.\n"
          ]
        },
        {
          "output_type": "stream",
          "name": "stdout",
          "text": [
            "**********\n",
            "Trace: index_construction\n",
            "    |_node_parsing ->  0.000404 seconds\n",
            "      |_chunking ->  7.6e-05 seconds\n",
            "    |_embedding ->  0.118005 seconds\n",
            "**********\n"
          ]
        },
        {
          "output_type": "stream",
          "name": "stderr",
          "text": [
            "\u001b[34m\u001b[1mwandb\u001b[0m: Logged trace tree to W&B.\n"
          ]
        },
        {
          "output_type": "stream",
          "name": "stdout",
          "text": [
            "**********\n",
            "Trace: index_construction\n",
            "    |_node_parsing ->  0.000381 seconds\n",
            "      |_chunking ->  7e-05 seconds\n",
            "    |_embedding ->  0.115796 seconds\n",
            "**********\n"
          ]
        },
        {
          "output_type": "stream",
          "name": "stderr",
          "text": [
            "\u001b[34m\u001b[1mwandb\u001b[0m: Logged trace tree to W&B.\n"
          ]
        },
        {
          "output_type": "stream",
          "name": "stdout",
          "text": [
            "**********\n",
            "Trace: index_construction\n",
            "    |_node_parsing ->  0.000394 seconds\n",
            "      |_chunking ->  7.5e-05 seconds\n",
            "    |_embedding ->  0.109107 seconds\n",
            "**********\n"
          ]
        },
        {
          "output_type": "stream",
          "name": "stderr",
          "text": [
            "\u001b[34m\u001b[1mwandb\u001b[0m: Logged trace tree to W&B.\n"
          ]
        },
        {
          "output_type": "stream",
          "name": "stdout",
          "text": [
            "**********\n",
            "Trace: index_construction\n",
            "    |_node_parsing ->  0.0004 seconds\n",
            "      |_chunking ->  6.8e-05 seconds\n",
            "    |_embedding ->  0.15495 seconds\n",
            "**********\n"
          ]
        },
        {
          "output_type": "stream",
          "name": "stderr",
          "text": [
            "\u001b[34m\u001b[1mwandb\u001b[0m: Logged trace tree to W&B.\n"
          ]
        },
        {
          "output_type": "stream",
          "name": "stdout",
          "text": [
            "**********\n",
            "Trace: index_construction\n",
            "    |_node_parsing ->  0.000657 seconds\n",
            "      |_chunking ->  0.000106 seconds\n",
            "    |_embedding ->  0.192483 seconds\n",
            "**********\n"
          ]
        },
        {
          "output_type": "stream",
          "name": "stderr",
          "text": [
            "\u001b[34m\u001b[1mwandb\u001b[0m: Logged trace tree to W&B.\n"
          ]
        },
        {
          "output_type": "stream",
          "name": "stdout",
          "text": [
            "**********\n",
            "Trace: index_construction\n",
            "    |_node_parsing ->  0.000526 seconds\n",
            "      |_chunking ->  0.000105 seconds\n",
            "    |_embedding ->  0.252561 seconds\n",
            "**********\n"
          ]
        },
        {
          "output_type": "stream",
          "name": "stderr",
          "text": [
            "\u001b[34m\u001b[1mwandb\u001b[0m: Logged trace tree to W&B.\n"
          ]
        },
        {
          "output_type": "stream",
          "name": "stdout",
          "text": [
            "**********\n",
            "Trace: index_construction\n",
            "    |_node_parsing ->  0.000373 seconds\n",
            "      |_chunking ->  6.8e-05 seconds\n",
            "    |_embedding ->  0.140702 seconds\n",
            "**********\n"
          ]
        },
        {
          "output_type": "stream",
          "name": "stderr",
          "text": [
            "\u001b[34m\u001b[1mwandb\u001b[0m: Logged trace tree to W&B.\n"
          ]
        },
        {
          "output_type": "stream",
          "name": "stdout",
          "text": [
            "**********\n",
            "Trace: index_construction\n",
            "    |_node_parsing ->  0.000474 seconds\n",
            "      |_chunking ->  9.3e-05 seconds\n",
            "    |_embedding ->  0.21023 seconds\n",
            "**********\n"
          ]
        },
        {
          "output_type": "stream",
          "name": "stderr",
          "text": [
            "\u001b[34m\u001b[1mwandb\u001b[0m: Logged trace tree to W&B.\n"
          ]
        },
        {
          "output_type": "stream",
          "name": "stdout",
          "text": [
            "**********\n",
            "Trace: index_construction\n",
            "    |_node_parsing ->  0.0005 seconds\n",
            "      |_chunking ->  9.5e-05 seconds\n",
            "    |_embedding ->  0.110916 seconds\n",
            "**********\n"
          ]
        },
        {
          "output_type": "stream",
          "name": "stderr",
          "text": [
            "\u001b[34m\u001b[1mwandb\u001b[0m: Logged trace tree to W&B.\n"
          ]
        },
        {
          "output_type": "stream",
          "name": "stdout",
          "text": [
            "**********\n",
            "Trace: index_construction\n",
            "    |_node_parsing ->  0.000537 seconds\n",
            "      |_chunking ->  9.8e-05 seconds\n",
            "    |_embedding ->  0.11841 seconds\n",
            "**********\n"
          ]
        },
        {
          "output_type": "stream",
          "name": "stderr",
          "text": [
            "\u001b[34m\u001b[1mwandb\u001b[0m: Logged trace tree to W&B.\n"
          ]
        },
        {
          "output_type": "stream",
          "name": "stdout",
          "text": [
            "**********\n",
            "Trace: index_construction\n",
            "    |_node_parsing ->  0.000629 seconds\n",
            "      |_chunking ->  0.000218 seconds\n",
            "    |_embedding ->  0.115937 seconds\n",
            "**********\n"
          ]
        },
        {
          "output_type": "stream",
          "name": "stderr",
          "text": [
            "\u001b[34m\u001b[1mwandb\u001b[0m: Logged trace tree to W&B.\n"
          ]
        },
        {
          "output_type": "stream",
          "name": "stdout",
          "text": [
            "**********\n",
            "Trace: index_construction\n",
            "    |_node_parsing ->  0.000456 seconds\n",
            "      |_chunking ->  7.2e-05 seconds\n",
            "    |_embedding ->  0.120239 seconds\n",
            "**********\n"
          ]
        },
        {
          "output_type": "stream",
          "name": "stderr",
          "text": [
            "\u001b[34m\u001b[1mwandb\u001b[0m: Logged trace tree to W&B.\n"
          ]
        },
        {
          "output_type": "stream",
          "name": "stdout",
          "text": [
            "**********\n",
            "Trace: index_construction\n",
            "    |_node_parsing ->  0.000388 seconds\n",
            "      |_chunking ->  6.3e-05 seconds\n",
            "    |_embedding ->  0.137727 seconds\n",
            "**********\n"
          ]
        },
        {
          "output_type": "stream",
          "name": "stderr",
          "text": [
            "\u001b[34m\u001b[1mwandb\u001b[0m: Logged trace tree to W&B.\n"
          ]
        },
        {
          "output_type": "stream",
          "name": "stdout",
          "text": [
            "**********\n",
            "Trace: index_construction\n",
            "    |_node_parsing ->  0.000498 seconds\n",
            "      |_chunking ->  9.7e-05 seconds\n",
            "    |_embedding ->  0.147344 seconds\n",
            "**********\n"
          ]
        },
        {
          "output_type": "stream",
          "name": "stderr",
          "text": [
            "\u001b[34m\u001b[1mwandb\u001b[0m: Logged trace tree to W&B.\n"
          ]
        },
        {
          "output_type": "stream",
          "name": "stdout",
          "text": [
            "**********\n",
            "Trace: index_construction\n",
            "    |_node_parsing ->  0.000411 seconds\n",
            "      |_chunking ->  7.5e-05 seconds\n",
            "    |_embedding ->  0.129261 seconds\n",
            "**********\n"
          ]
        },
        {
          "output_type": "stream",
          "name": "stderr",
          "text": [
            "\u001b[34m\u001b[1mwandb\u001b[0m: Logged trace tree to W&B.\n"
          ]
        },
        {
          "output_type": "stream",
          "name": "stdout",
          "text": [
            "**********\n",
            "Trace: index_construction\n",
            "    |_node_parsing ->  0.000392 seconds\n",
            "      |_chunking ->  6.9e-05 seconds\n",
            "    |_embedding ->  0.124196 seconds\n",
            "**********\n"
          ]
        },
        {
          "output_type": "stream",
          "name": "stderr",
          "text": [
            "\u001b[34m\u001b[1mwandb\u001b[0m: Logged trace tree to W&B.\n"
          ]
        },
        {
          "output_type": "stream",
          "name": "stdout",
          "text": [
            "**********\n",
            "Trace: index_construction\n",
            "    |_node_parsing ->  0.00039 seconds\n",
            "      |_chunking ->  6.9e-05 seconds\n",
            "    |_embedding ->  0.144404 seconds\n",
            "**********\n"
          ]
        },
        {
          "output_type": "stream",
          "name": "stderr",
          "text": [
            "\u001b[34m\u001b[1mwandb\u001b[0m: Logged trace tree to W&B.\n"
          ]
        },
        {
          "output_type": "stream",
          "name": "stdout",
          "text": [
            "**********\n",
            "Trace: index_construction\n",
            "    |_node_parsing ->  0.000538 seconds\n",
            "      |_chunking ->  0.000115 seconds\n",
            "    |_embedding ->  0.112732 seconds\n",
            "**********\n"
          ]
        },
        {
          "output_type": "stream",
          "name": "stderr",
          "text": [
            "\u001b[34m\u001b[1mwandb\u001b[0m: Logged trace tree to W&B.\n"
          ]
        },
        {
          "output_type": "stream",
          "name": "stdout",
          "text": [
            "**********\n",
            "Trace: index_construction\n",
            "    |_node_parsing ->  0.000555 seconds\n",
            "      |_chunking ->  0.000104 seconds\n",
            "    |_embedding ->  0.168804 seconds\n",
            "**********\n"
          ]
        },
        {
          "output_type": "stream",
          "name": "stderr",
          "text": [
            "\u001b[34m\u001b[1mwandb\u001b[0m: Logged trace tree to W&B.\n"
          ]
        },
        {
          "output_type": "stream",
          "name": "stdout",
          "text": [
            "**********\n",
            "Trace: index_construction\n",
            "    |_node_parsing ->  0.00048 seconds\n",
            "      |_chunking ->  9.9e-05 seconds\n",
            "    |_embedding ->  0.118998 seconds\n",
            "**********\n"
          ]
        },
        {
          "output_type": "stream",
          "name": "stderr",
          "text": [
            "\u001b[34m\u001b[1mwandb\u001b[0m: Logged trace tree to W&B.\n"
          ]
        },
        {
          "output_type": "stream",
          "name": "stdout",
          "text": [
            "**********\n",
            "Trace: index_construction\n",
            "    |_node_parsing ->  0.000571 seconds\n",
            "      |_chunking ->  0.000188 seconds\n",
            "    |_embedding ->  0.11713 seconds\n",
            "**********\n"
          ]
        },
        {
          "output_type": "stream",
          "name": "stderr",
          "text": [
            "\u001b[34m\u001b[1mwandb\u001b[0m: Logged trace tree to W&B.\n"
          ]
        },
        {
          "output_type": "stream",
          "name": "stdout",
          "text": [
            "**********\n",
            "Trace: index_construction\n",
            "    |_node_parsing ->  0.000557 seconds\n",
            "      |_chunking ->  9.9e-05 seconds\n",
            "    |_embedding ->  0.11847 seconds\n",
            "**********\n"
          ]
        },
        {
          "output_type": "stream",
          "name": "stderr",
          "text": [
            "\u001b[34m\u001b[1mwandb\u001b[0m: Logged trace tree to W&B.\n"
          ]
        },
        {
          "output_type": "stream",
          "name": "stdout",
          "text": [
            "**********\n",
            "Trace: index_construction\n",
            "    |_node_parsing ->  0.000578 seconds\n",
            "      |_chunking ->  0.000114 seconds\n",
            "    |_embedding ->  0.130074 seconds\n",
            "**********\n"
          ]
        },
        {
          "output_type": "stream",
          "name": "stderr",
          "text": [
            "\u001b[34m\u001b[1mwandb\u001b[0m: Logged trace tree to W&B.\n"
          ]
        },
        {
          "output_type": "stream",
          "name": "stdout",
          "text": [
            "**********\n",
            "Trace: index_construction\n",
            "    |_node_parsing ->  0.000636 seconds\n",
            "      |_chunking ->  0.000144 seconds\n",
            "    |_embedding ->  0.137263 seconds\n",
            "**********\n"
          ]
        },
        {
          "output_type": "stream",
          "name": "stderr",
          "text": [
            "\u001b[34m\u001b[1mwandb\u001b[0m: Logged trace tree to W&B.\n"
          ]
        },
        {
          "output_type": "stream",
          "name": "stdout",
          "text": [
            "**********\n",
            "Trace: index_construction\n",
            "    |_node_parsing ->  0.000463 seconds\n",
            "      |_chunking ->  0.000131 seconds\n",
            "    |_embedding ->  0.118639 seconds\n",
            "**********\n"
          ]
        },
        {
          "output_type": "stream",
          "name": "stderr",
          "text": [
            "\u001b[34m\u001b[1mwandb\u001b[0m: Logged trace tree to W&B.\n"
          ]
        },
        {
          "output_type": "stream",
          "name": "stdout",
          "text": [
            "**********\n",
            "Trace: index_construction\n",
            "    |_node_parsing ->  0.000711 seconds\n",
            "      |_chunking ->  0.000174 seconds\n",
            "    |_embedding ->  0.110085 seconds\n",
            "**********\n"
          ]
        },
        {
          "output_type": "stream",
          "name": "stderr",
          "text": [
            "\u001b[34m\u001b[1mwandb\u001b[0m: Logged trace tree to W&B.\n"
          ]
        },
        {
          "output_type": "stream",
          "name": "stdout",
          "text": [
            "**********\n",
            "Trace: index_construction\n",
            "    |_node_parsing ->  0.000591 seconds\n",
            "      |_chunking ->  0.000115 seconds\n",
            "    |_embedding ->  0.148698 seconds\n",
            "**********\n"
          ]
        },
        {
          "output_type": "stream",
          "name": "stderr",
          "text": [
            "\u001b[34m\u001b[1mwandb\u001b[0m: Logged trace tree to W&B.\n"
          ]
        },
        {
          "output_type": "stream",
          "name": "stdout",
          "text": [
            "**********\n",
            "Trace: index_construction\n",
            "    |_node_parsing ->  0.000423 seconds\n",
            "      |_chunking ->  0.000118 seconds\n",
            "    |_embedding ->  0.150079 seconds\n",
            "**********\n"
          ]
        },
        {
          "output_type": "stream",
          "name": "stderr",
          "text": [
            "\u001b[34m\u001b[1mwandb\u001b[0m: Logged trace tree to W&B.\n"
          ]
        },
        {
          "output_type": "stream",
          "name": "stdout",
          "text": [
            "**********\n",
            "Trace: index_construction\n",
            "    |_node_parsing ->  0.000502 seconds\n",
            "      |_chunking ->  0.0001 seconds\n",
            "    |_embedding ->  0.109115 seconds\n",
            "**********\n"
          ]
        },
        {
          "output_type": "stream",
          "name": "stderr",
          "text": [
            "\u001b[34m\u001b[1mwandb\u001b[0m: Logged trace tree to W&B.\n"
          ]
        },
        {
          "output_type": "stream",
          "name": "stdout",
          "text": [
            "**********\n",
            "Trace: index_construction\n",
            "    |_node_parsing ->  0.000702 seconds\n",
            "      |_chunking ->  0.000216 seconds\n",
            "    |_embedding ->  0.142194 seconds\n",
            "**********\n"
          ]
        },
        {
          "output_type": "stream",
          "name": "stderr",
          "text": [
            "\u001b[34m\u001b[1mwandb\u001b[0m: Logged trace tree to W&B.\n"
          ]
        },
        {
          "output_type": "stream",
          "name": "stdout",
          "text": [
            "**********\n",
            "Trace: index_construction\n",
            "    |_node_parsing ->  0.000455 seconds\n",
            "      |_chunking ->  8.8e-05 seconds\n",
            "    |_embedding ->  0.115218 seconds\n",
            "**********\n"
          ]
        },
        {
          "output_type": "stream",
          "name": "stderr",
          "text": [
            "\u001b[34m\u001b[1mwandb\u001b[0m: Logged trace tree to W&B.\n"
          ]
        },
        {
          "output_type": "stream",
          "name": "stdout",
          "text": [
            "**********\n",
            "Trace: index_construction\n",
            "    |_node_parsing ->  0.000558 seconds\n",
            "      |_chunking ->  0.000125 seconds\n",
            "    |_embedding ->  0.15237 seconds\n",
            "**********\n"
          ]
        },
        {
          "output_type": "stream",
          "name": "stderr",
          "text": [
            "\u001b[34m\u001b[1mwandb\u001b[0m: Logged trace tree to W&B.\n"
          ]
        },
        {
          "output_type": "stream",
          "name": "stdout",
          "text": [
            "**********\n",
            "Trace: index_construction\n",
            "    |_node_parsing ->  0.000559 seconds\n",
            "      |_chunking ->  0.000106 seconds\n",
            "    |_embedding ->  0.106649 seconds\n",
            "**********\n"
          ]
        },
        {
          "output_type": "stream",
          "name": "stderr",
          "text": [
            "\u001b[34m\u001b[1mwandb\u001b[0m: Logged trace tree to W&B.\n"
          ]
        },
        {
          "output_type": "stream",
          "name": "stdout",
          "text": [
            "**********\n",
            "Trace: index_construction\n",
            "    |_node_parsing ->  0.000451 seconds\n",
            "      |_chunking ->  6.9e-05 seconds\n",
            "    |_embedding ->  0.123639 seconds\n",
            "**********\n"
          ]
        },
        {
          "output_type": "stream",
          "name": "stderr",
          "text": [
            "\u001b[34m\u001b[1mwandb\u001b[0m: Logged trace tree to W&B.\n"
          ]
        },
        {
          "output_type": "stream",
          "name": "stdout",
          "text": [
            "**********\n",
            "Trace: index_construction\n",
            "    |_node_parsing ->  0.000413 seconds\n",
            "      |_chunking ->  6.8e-05 seconds\n",
            "    |_embedding ->  0.136157 seconds\n",
            "**********\n"
          ]
        },
        {
          "output_type": "stream",
          "name": "stderr",
          "text": [
            "\u001b[34m\u001b[1mwandb\u001b[0m: Logged trace tree to W&B.\n"
          ]
        },
        {
          "output_type": "stream",
          "name": "stdout",
          "text": [
            "**********\n",
            "Trace: index_construction\n",
            "    |_node_parsing ->  0.00038 seconds\n",
            "      |_chunking ->  7.1e-05 seconds\n",
            "    |_embedding ->  0.121186 seconds\n",
            "**********\n"
          ]
        },
        {
          "output_type": "stream",
          "name": "stderr",
          "text": [
            "\u001b[34m\u001b[1mwandb\u001b[0m: Logged trace tree to W&B.\n"
          ]
        },
        {
          "output_type": "stream",
          "name": "stdout",
          "text": [
            "**********\n",
            "Trace: index_construction\n",
            "    |_node_parsing ->  0.00048 seconds\n",
            "      |_chunking ->  9.3e-05 seconds\n",
            "    |_embedding ->  0.124912 seconds\n",
            "**********\n"
          ]
        },
        {
          "output_type": "stream",
          "name": "stderr",
          "text": [
            "\u001b[34m\u001b[1mwandb\u001b[0m: Logged trace tree to W&B.\n"
          ]
        },
        {
          "output_type": "stream",
          "name": "stdout",
          "text": [
            "**********\n",
            "Trace: index_construction\n",
            "    |_node_parsing ->  0.000524 seconds\n",
            "      |_chunking ->  0.000104 seconds\n",
            "    |_embedding ->  0.198736 seconds\n",
            "**********\n"
          ]
        },
        {
          "output_type": "stream",
          "name": "stderr",
          "text": [
            "\u001b[34m\u001b[1mwandb\u001b[0m: Logged trace tree to W&B.\n"
          ]
        },
        {
          "output_type": "stream",
          "name": "stdout",
          "text": [
            "**********\n",
            "Trace: index_construction\n",
            "    |_node_parsing ->  0.000447 seconds\n",
            "      |_chunking ->  0.000112 seconds\n",
            "    |_embedding ->  0.104592 seconds\n",
            "**********\n"
          ]
        },
        {
          "output_type": "stream",
          "name": "stderr",
          "text": [
            "\u001b[34m\u001b[1mwandb\u001b[0m: Logged trace tree to W&B.\n"
          ]
        },
        {
          "output_type": "stream",
          "name": "stdout",
          "text": [
            "**********\n",
            "Trace: index_construction\n",
            "    |_node_parsing ->  0.00211 seconds\n",
            "      |_chunking ->  0.000143 seconds\n",
            "    |_embedding ->  0.131755 seconds\n",
            "**********\n"
          ]
        },
        {
          "output_type": "stream",
          "name": "stderr",
          "text": [
            "\u001b[34m\u001b[1mwandb\u001b[0m: Logged trace tree to W&B.\n"
          ]
        },
        {
          "output_type": "stream",
          "name": "stdout",
          "text": [
            "**********\n",
            "Trace: index_construction\n",
            "    |_node_parsing ->  0.000569 seconds\n",
            "      |_chunking ->  9.6e-05 seconds\n",
            "    |_embedding ->  0.151201 seconds\n",
            "**********\n"
          ]
        },
        {
          "output_type": "stream",
          "name": "stderr",
          "text": [
            "\u001b[34m\u001b[1mwandb\u001b[0m: Logged trace tree to W&B.\n"
          ]
        },
        {
          "output_type": "stream",
          "name": "stdout",
          "text": [
            "**********\n",
            "Trace: index_construction\n",
            "    |_node_parsing ->  0.000572 seconds\n",
            "      |_chunking ->  0.00011 seconds\n",
            "    |_embedding ->  0.407045 seconds\n",
            "**********\n"
          ]
        },
        {
          "output_type": "stream",
          "name": "stderr",
          "text": [
            "\u001b[34m\u001b[1mwandb\u001b[0m: Logged trace tree to W&B.\n"
          ]
        },
        {
          "output_type": "stream",
          "name": "stdout",
          "text": [
            "**********\n",
            "Trace: index_construction\n",
            "    |_node_parsing ->  0.000538 seconds\n",
            "      |_chunking ->  0.000119 seconds\n",
            "    |_embedding ->  1.348331 seconds\n",
            "**********\n"
          ]
        },
        {
          "output_type": "stream",
          "name": "stderr",
          "text": [
            "\u001b[34m\u001b[1mwandb\u001b[0m: Logged trace tree to W&B.\n"
          ]
        },
        {
          "output_type": "stream",
          "name": "stdout",
          "text": [
            "**********\n",
            "Trace: index_construction\n",
            "    |_node_parsing ->  0.000548 seconds\n",
            "      |_chunking ->  9.6e-05 seconds\n",
            "    |_embedding ->  0.118388 seconds\n",
            "**********\n"
          ]
        },
        {
          "output_type": "stream",
          "name": "stderr",
          "text": [
            "\u001b[34m\u001b[1mwandb\u001b[0m: Logged trace tree to W&B.\n"
          ]
        },
        {
          "output_type": "stream",
          "name": "stdout",
          "text": [
            "**********\n",
            "Trace: index_construction\n",
            "    |_node_parsing ->  0.000634 seconds\n",
            "      |_chunking ->  0.000131 seconds\n",
            "    |_embedding ->  0.411277 seconds\n",
            "**********\n"
          ]
        },
        {
          "output_type": "stream",
          "name": "stderr",
          "text": [
            "\u001b[34m\u001b[1mwandb\u001b[0m: Logged trace tree to W&B.\n"
          ]
        },
        {
          "output_type": "stream",
          "name": "stdout",
          "text": [
            "**********\n",
            "Trace: index_construction\n",
            "    |_node_parsing ->  0.00056 seconds\n",
            "      |_chunking ->  0.000101 seconds\n",
            "    |_embedding ->  0.124142 seconds\n",
            "**********\n"
          ]
        },
        {
          "output_type": "stream",
          "name": "stderr",
          "text": [
            "\u001b[34m\u001b[1mwandb\u001b[0m: Logged trace tree to W&B.\n"
          ]
        },
        {
          "output_type": "stream",
          "name": "stdout",
          "text": [
            "**********\n",
            "Trace: index_construction\n",
            "    |_node_parsing ->  0.000594 seconds\n",
            "      |_chunking ->  0.000137 seconds\n",
            "    |_embedding ->  0.115655 seconds\n",
            "**********\n"
          ]
        },
        {
          "output_type": "stream",
          "name": "stderr",
          "text": [
            "\u001b[34m\u001b[1mwandb\u001b[0m: Logged trace tree to W&B.\n"
          ]
        },
        {
          "output_type": "stream",
          "name": "stdout",
          "text": [
            "**********\n",
            "Trace: index_construction\n",
            "    |_node_parsing ->  0.000449 seconds\n",
            "      |_chunking ->  8.7e-05 seconds\n",
            "    |_embedding ->  0.11423 seconds\n",
            "**********\n"
          ]
        },
        {
          "output_type": "stream",
          "name": "stderr",
          "text": [
            "\u001b[34m\u001b[1mwandb\u001b[0m: Logged trace tree to W&B.\n"
          ]
        },
        {
          "output_type": "stream",
          "name": "stdout",
          "text": [
            "**********\n",
            "Trace: index_construction\n",
            "    |_node_parsing ->  0.000536 seconds\n",
            "      |_chunking ->  9.8e-05 seconds\n",
            "    |_embedding ->  0.193713 seconds\n",
            "**********\n"
          ]
        },
        {
          "output_type": "stream",
          "name": "stderr",
          "text": [
            "\u001b[34m\u001b[1mwandb\u001b[0m: Logged trace tree to W&B.\n"
          ]
        },
        {
          "output_type": "stream",
          "name": "stdout",
          "text": [
            "**********\n",
            "Trace: index_construction\n",
            "    |_node_parsing ->  0.000563 seconds\n",
            "      |_chunking ->  0.0001 seconds\n",
            "    |_embedding ->  0.131666 seconds\n",
            "**********\n"
          ]
        },
        {
          "output_type": "stream",
          "name": "stderr",
          "text": [
            "\u001b[34m\u001b[1mwandb\u001b[0m: Logged trace tree to W&B.\n"
          ]
        },
        {
          "output_type": "stream",
          "name": "stdout",
          "text": [
            "**********\n",
            "Trace: index_construction\n",
            "    |_node_parsing ->  0.000511 seconds\n",
            "      |_chunking ->  0.000105 seconds\n",
            "    |_embedding ->  0.126802 seconds\n",
            "**********\n"
          ]
        },
        {
          "output_type": "stream",
          "name": "stderr",
          "text": [
            "\u001b[34m\u001b[1mwandb\u001b[0m: Logged trace tree to W&B.\n"
          ]
        },
        {
          "output_type": "stream",
          "name": "stdout",
          "text": [
            "**********\n",
            "Trace: index_construction\n",
            "    |_node_parsing ->  0.000642 seconds\n",
            "      |_chunking ->  0.000115 seconds\n",
            "    |_embedding ->  0.116181 seconds\n",
            "**********\n"
          ]
        },
        {
          "output_type": "stream",
          "name": "stderr",
          "text": [
            "\u001b[34m\u001b[1mwandb\u001b[0m: Logged trace tree to W&B.\n"
          ]
        },
        {
          "output_type": "stream",
          "name": "stdout",
          "text": [
            "**********\n",
            "Trace: index_construction\n",
            "    |_node_parsing ->  0.000466 seconds\n",
            "      |_chunking ->  9.4e-05 seconds\n",
            "    |_embedding ->  0.135942 seconds\n",
            "**********\n"
          ]
        },
        {
          "output_type": "stream",
          "name": "stderr",
          "text": [
            "\u001b[34m\u001b[1mwandb\u001b[0m: Logged trace tree to W&B.\n"
          ]
        },
        {
          "output_type": "stream",
          "name": "stdout",
          "text": [
            "**********\n",
            "Trace: index_construction\n",
            "    |_node_parsing ->  0.000583 seconds\n",
            "      |_chunking ->  0.000111 seconds\n",
            "    |_embedding ->  0.220042 seconds\n",
            "**********\n"
          ]
        },
        {
          "output_type": "stream",
          "name": "stderr",
          "text": [
            "\u001b[34m\u001b[1mwandb\u001b[0m: Logged trace tree to W&B.\n"
          ]
        },
        {
          "output_type": "stream",
          "name": "stdout",
          "text": [
            "**********\n",
            "Trace: index_construction\n",
            "    |_node_parsing ->  0.000596 seconds\n",
            "      |_chunking ->  0.000112 seconds\n",
            "    |_embedding ->  0.131076 seconds\n",
            "**********\n"
          ]
        },
        {
          "output_type": "stream",
          "name": "stderr",
          "text": [
            "\u001b[34m\u001b[1mwandb\u001b[0m: Logged trace tree to W&B.\n"
          ]
        },
        {
          "output_type": "stream",
          "name": "stdout",
          "text": [
            "**********\n",
            "Trace: index_construction\n",
            "    |_node_parsing ->  0.000571 seconds\n",
            "      |_chunking ->  0.000121 seconds\n",
            "    |_embedding ->  0.11365 seconds\n",
            "**********\n"
          ]
        },
        {
          "output_type": "stream",
          "name": "stderr",
          "text": [
            "\u001b[34m\u001b[1mwandb\u001b[0m: Logged trace tree to W&B.\n"
          ]
        },
        {
          "output_type": "stream",
          "name": "stdout",
          "text": [
            "**********\n",
            "Trace: index_construction\n",
            "    |_node_parsing ->  0.000632 seconds\n",
            "      |_chunking ->  0.000131 seconds\n",
            "    |_embedding ->  0.136687 seconds\n",
            "**********\n"
          ]
        },
        {
          "output_type": "stream",
          "name": "stderr",
          "text": [
            "\u001b[34m\u001b[1mwandb\u001b[0m: Logged trace tree to W&B.\n"
          ]
        },
        {
          "output_type": "stream",
          "name": "stdout",
          "text": [
            "**********\n",
            "Trace: index_construction\n",
            "    |_node_parsing ->  0.000596 seconds\n",
            "      |_chunking ->  0.000111 seconds\n",
            "    |_embedding ->  0.137552 seconds\n",
            "**********\n"
          ]
        },
        {
          "output_type": "stream",
          "name": "stderr",
          "text": [
            "\u001b[34m\u001b[1mwandb\u001b[0m: Logged trace tree to W&B.\n"
          ]
        },
        {
          "output_type": "stream",
          "name": "stdout",
          "text": [
            "**********\n",
            "Trace: index_construction\n",
            "    |_node_parsing ->  0.001382 seconds\n",
            "      |_chunking ->  9.8e-05 seconds\n",
            "    |_embedding ->  0.114054 seconds\n",
            "**********\n"
          ]
        },
        {
          "output_type": "stream",
          "name": "stderr",
          "text": [
            "\u001b[34m\u001b[1mwandb\u001b[0m: Logged trace tree to W&B.\n"
          ]
        },
        {
          "output_type": "stream",
          "name": "stdout",
          "text": [
            "**********\n",
            "Trace: index_construction\n",
            "    |_node_parsing ->  0.00066 seconds\n",
            "      |_chunking ->  0.000126 seconds\n",
            "    |_embedding ->  0.200967 seconds\n",
            "**********\n"
          ]
        },
        {
          "output_type": "stream",
          "name": "stderr",
          "text": [
            "\u001b[34m\u001b[1mwandb\u001b[0m: Logged trace tree to W&B.\n"
          ]
        },
        {
          "output_type": "stream",
          "name": "stdout",
          "text": [
            "**********\n",
            "Trace: index_construction\n",
            "    |_node_parsing ->  0.000577 seconds\n",
            "      |_chunking ->  0.000113 seconds\n",
            "    |_embedding ->  0.229377 seconds\n",
            "**********\n"
          ]
        },
        {
          "output_type": "stream",
          "name": "stderr",
          "text": [
            "\u001b[34m\u001b[1mwandb\u001b[0m: Logged trace tree to W&B.\n"
          ]
        },
        {
          "output_type": "stream",
          "name": "stdout",
          "text": [
            "**********\n",
            "Trace: index_construction\n",
            "    |_node_parsing ->  0.000568 seconds\n",
            "      |_chunking ->  9.8e-05 seconds\n",
            "    |_embedding ->  0.119549 seconds\n",
            "**********\n"
          ]
        },
        {
          "output_type": "stream",
          "name": "stderr",
          "text": [
            "\u001b[34m\u001b[1mwandb\u001b[0m: Logged trace tree to W&B.\n"
          ]
        },
        {
          "output_type": "stream",
          "name": "stdout",
          "text": [
            "**********\n",
            "Trace: index_construction\n",
            "    |_node_parsing ->  0.000531 seconds\n",
            "      |_chunking ->  0.000102 seconds\n",
            "    |_embedding ->  0.239718 seconds\n",
            "**********\n"
          ]
        },
        {
          "output_type": "stream",
          "name": "stderr",
          "text": [
            "\u001b[34m\u001b[1mwandb\u001b[0m: Logged trace tree to W&B.\n"
          ]
        },
        {
          "output_type": "stream",
          "name": "stdout",
          "text": [
            "**********\n",
            "Trace: index_construction\n",
            "    |_node_parsing ->  0.000513 seconds\n",
            "      |_chunking ->  9.5e-05 seconds\n",
            "    |_embedding ->  0.224991 seconds\n",
            "**********\n"
          ]
        },
        {
          "output_type": "stream",
          "name": "stderr",
          "text": [
            "\u001b[34m\u001b[1mwandb\u001b[0m: Logged trace tree to W&B.\n"
          ]
        },
        {
          "output_type": "stream",
          "name": "stdout",
          "text": [
            "**********\n",
            "Trace: index_construction\n",
            "    |_node_parsing ->  0.000535 seconds\n",
            "      |_chunking ->  0.000111 seconds\n",
            "    |_embedding ->  0.154709 seconds\n",
            "**********\n"
          ]
        },
        {
          "output_type": "stream",
          "name": "stderr",
          "text": [
            "\u001b[34m\u001b[1mwandb\u001b[0m: Logged trace tree to W&B.\n"
          ]
        },
        {
          "output_type": "stream",
          "name": "stdout",
          "text": [
            "**********\n",
            "Trace: index_construction\n",
            "    |_node_parsing ->  0.000575 seconds\n",
            "      |_chunking ->  0.000109 seconds\n",
            "    |_embedding ->  0.124036 seconds\n",
            "**********\n"
          ]
        },
        {
          "output_type": "stream",
          "name": "stderr",
          "text": [
            "\u001b[34m\u001b[1mwandb\u001b[0m: Logged trace tree to W&B.\n"
          ]
        },
        {
          "output_type": "stream",
          "name": "stdout",
          "text": [
            "**********\n",
            "Trace: index_construction\n",
            "    |_node_parsing ->  0.000564 seconds\n",
            "      |_chunking ->  0.000103 seconds\n",
            "    |_embedding ->  0.127192 seconds\n",
            "**********\n"
          ]
        },
        {
          "output_type": "stream",
          "name": "stderr",
          "text": [
            "\u001b[34m\u001b[1mwandb\u001b[0m: Logged trace tree to W&B.\n"
          ]
        },
        {
          "output_type": "stream",
          "name": "stdout",
          "text": [
            "**********\n",
            "Trace: index_construction\n",
            "    |_node_parsing ->  0.000626 seconds\n",
            "      |_chunking ->  0.000117 seconds\n",
            "    |_embedding ->  0.78596 seconds\n",
            "**********\n"
          ]
        },
        {
          "output_type": "stream",
          "name": "stderr",
          "text": [
            "\u001b[34m\u001b[1mwandb\u001b[0m: Logged trace tree to W&B.\n"
          ]
        },
        {
          "output_type": "stream",
          "name": "stdout",
          "text": [
            "**********\n",
            "Trace: index_construction\n",
            "    |_node_parsing ->  0.000614 seconds\n",
            "      |_chunking ->  0.000109 seconds\n",
            "    |_embedding ->  0.10631 seconds\n",
            "**********\n"
          ]
        },
        {
          "output_type": "stream",
          "name": "stderr",
          "text": [
            "\u001b[34m\u001b[1mwandb\u001b[0m: Logged trace tree to W&B.\n"
          ]
        },
        {
          "output_type": "stream",
          "name": "stdout",
          "text": [
            "**********\n",
            "Trace: index_construction\n",
            "    |_node_parsing ->  0.000436 seconds\n",
            "      |_chunking ->  7.4e-05 seconds\n",
            "    |_embedding ->  0.135299 seconds\n",
            "**********\n"
          ]
        },
        {
          "output_type": "stream",
          "name": "stderr",
          "text": [
            "\u001b[34m\u001b[1mwandb\u001b[0m: Logged trace tree to W&B.\n"
          ]
        },
        {
          "output_type": "stream",
          "name": "stdout",
          "text": [
            "**********\n",
            "Trace: index_construction\n",
            "    |_node_parsing ->  0.002868 seconds\n",
            "      |_chunking ->  0.002151 seconds\n",
            "    |_embedding ->  0.143368 seconds\n",
            "**********\n"
          ]
        },
        {
          "output_type": "stream",
          "name": "stderr",
          "text": [
            "\u001b[34m\u001b[1mwandb\u001b[0m: Logged trace tree to W&B.\n"
          ]
        },
        {
          "output_type": "stream",
          "name": "stdout",
          "text": [
            "**********\n",
            "Trace: index_construction\n",
            "    |_node_parsing ->  0.000344 seconds\n",
            "      |_chunking ->  6.2e-05 seconds\n",
            "    |_embedding ->  0.126186 seconds\n",
            "**********\n"
          ]
        },
        {
          "output_type": "stream",
          "name": "stderr",
          "text": [
            "\u001b[34m\u001b[1mwandb\u001b[0m: Logged trace tree to W&B.\n"
          ]
        },
        {
          "output_type": "stream",
          "name": "stdout",
          "text": [
            "**********\n",
            "Trace: index_construction\n",
            "    |_node_parsing ->  0.000605 seconds\n",
            "      |_chunking ->  0.000118 seconds\n",
            "    |_embedding ->  0.107141 seconds\n",
            "**********\n"
          ]
        },
        {
          "output_type": "stream",
          "name": "stderr",
          "text": [
            "\u001b[34m\u001b[1mwandb\u001b[0m: Logged trace tree to W&B.\n"
          ]
        },
        {
          "output_type": "stream",
          "name": "stdout",
          "text": [
            "**********\n",
            "Trace: index_construction\n",
            "    |_node_parsing ->  0.000446 seconds\n",
            "      |_chunking ->  7.8e-05 seconds\n",
            "    |_embedding ->  0.119926 seconds\n",
            "**********\n"
          ]
        },
        {
          "output_type": "stream",
          "name": "stderr",
          "text": [
            "\u001b[34m\u001b[1mwandb\u001b[0m: Logged trace tree to W&B.\n"
          ]
        },
        {
          "output_type": "stream",
          "name": "stdout",
          "text": [
            "**********\n",
            "Trace: index_construction\n",
            "    |_node_parsing ->  0.000388 seconds\n",
            "      |_chunking ->  6.5e-05 seconds\n",
            "    |_embedding ->  0.186941 seconds\n",
            "**********\n"
          ]
        },
        {
          "output_type": "stream",
          "name": "stderr",
          "text": [
            "\u001b[34m\u001b[1mwandb\u001b[0m: Logged trace tree to W&B.\n"
          ]
        },
        {
          "output_type": "stream",
          "name": "stdout",
          "text": [
            "**********\n",
            "Trace: index_construction\n",
            "    |_node_parsing ->  0.00037 seconds\n",
            "      |_chunking ->  6.6e-05 seconds\n",
            "    |_embedding ->  0.123389 seconds\n",
            "**********\n"
          ]
        },
        {
          "output_type": "stream",
          "name": "stderr",
          "text": [
            "\u001b[34m\u001b[1mwandb\u001b[0m: Logged trace tree to W&B.\n"
          ]
        },
        {
          "output_type": "stream",
          "name": "stdout",
          "text": [
            "**********\n",
            "Trace: index_construction\n",
            "    |_node_parsing ->  0.000378 seconds\n",
            "      |_chunking ->  6.7e-05 seconds\n",
            "    |_embedding ->  0.116864 seconds\n",
            "**********\n"
          ]
        },
        {
          "output_type": "stream",
          "name": "stderr",
          "text": [
            "\u001b[34m\u001b[1mwandb\u001b[0m: Logged trace tree to W&B.\n"
          ]
        },
        {
          "output_type": "stream",
          "name": "stdout",
          "text": [
            "**********\n",
            "Trace: index_construction\n",
            "    |_node_parsing ->  0.000564 seconds\n",
            "      |_chunking ->  0.00019 seconds\n",
            "    |_embedding ->  0.144779 seconds\n",
            "**********\n"
          ]
        },
        {
          "output_type": "stream",
          "name": "stderr",
          "text": [
            "\u001b[34m\u001b[1mwandb\u001b[0m: Logged trace tree to W&B.\n"
          ]
        },
        {
          "output_type": "stream",
          "name": "stdout",
          "text": [
            "**********\n",
            "Trace: index_construction\n",
            "    |_node_parsing ->  0.000506 seconds\n",
            "      |_chunking ->  9.2e-05 seconds\n",
            "    |_embedding ->  0.116976 seconds\n",
            "**********\n"
          ]
        },
        {
          "output_type": "stream",
          "name": "stderr",
          "text": [
            "\u001b[34m\u001b[1mwandb\u001b[0m: Logged trace tree to W&B.\n"
          ]
        },
        {
          "output_type": "stream",
          "name": "stdout",
          "text": [
            "**********\n",
            "Trace: index_construction\n",
            "    |_node_parsing ->  0.0006 seconds\n",
            "      |_chunking ->  0.000117 seconds\n",
            "    |_embedding ->  0.132949 seconds\n",
            "**********\n"
          ]
        },
        {
          "output_type": "stream",
          "name": "stderr",
          "text": [
            "\u001b[34m\u001b[1mwandb\u001b[0m: Logged trace tree to W&B.\n"
          ]
        },
        {
          "output_type": "stream",
          "name": "stdout",
          "text": [
            "**********\n",
            "Trace: index_construction\n",
            "    |_node_parsing ->  0.000458 seconds\n",
            "      |_chunking ->  0.000111 seconds\n",
            "    |_embedding ->  0.121918 seconds\n",
            "**********\n"
          ]
        },
        {
          "output_type": "stream",
          "name": "stderr",
          "text": [
            "\u001b[34m\u001b[1mwandb\u001b[0m: Logged trace tree to W&B.\n"
          ]
        },
        {
          "output_type": "stream",
          "name": "stdout",
          "text": [
            "**********\n",
            "Trace: index_construction\n",
            "    |_node_parsing ->  0.000516 seconds\n",
            "      |_chunking ->  0.000114 seconds\n",
            "    |_embedding ->  0.10514 seconds\n",
            "**********\n"
          ]
        },
        {
          "output_type": "stream",
          "name": "stderr",
          "text": [
            "\u001b[34m\u001b[1mwandb\u001b[0m: Logged trace tree to W&B.\n"
          ]
        },
        {
          "output_type": "stream",
          "name": "stdout",
          "text": [
            "**********\n",
            "Trace: index_construction\n",
            "    |_node_parsing ->  0.000565 seconds\n",
            "      |_chunking ->  0.000106 seconds\n",
            "    |_embedding ->  0.129183 seconds\n",
            "**********\n"
          ]
        },
        {
          "output_type": "stream",
          "name": "stderr",
          "text": [
            "\u001b[34m\u001b[1mwandb\u001b[0m: Logged trace tree to W&B.\n"
          ]
        },
        {
          "output_type": "stream",
          "name": "stdout",
          "text": [
            "**********\n",
            "Trace: index_construction\n",
            "    |_node_parsing ->  0.000569 seconds\n",
            "      |_chunking ->  0.000107 seconds\n",
            "    |_embedding ->  0.125076 seconds\n",
            "**********\n"
          ]
        },
        {
          "output_type": "stream",
          "name": "stderr",
          "text": [
            "\u001b[34m\u001b[1mwandb\u001b[0m: Logged trace tree to W&B.\n"
          ]
        },
        {
          "output_type": "stream",
          "name": "stdout",
          "text": [
            "**********\n",
            "Trace: index_construction\n",
            "    |_node_parsing ->  0.000626 seconds\n",
            "      |_chunking ->  0.00011 seconds\n",
            "    |_embedding ->  0.171512 seconds\n",
            "**********\n"
          ]
        },
        {
          "output_type": "stream",
          "name": "stderr",
          "text": [
            "\u001b[34m\u001b[1mwandb\u001b[0m: Logged trace tree to W&B.\n"
          ]
        },
        {
          "output_type": "stream",
          "name": "stdout",
          "text": [
            "**********\n",
            "Trace: index_construction\n",
            "    |_node_parsing ->  0.00042 seconds\n",
            "      |_chunking ->  7e-05 seconds\n",
            "    |_embedding ->  0.153888 seconds\n",
            "**********\n"
          ]
        },
        {
          "output_type": "stream",
          "name": "stderr",
          "text": [
            "\u001b[34m\u001b[1mwandb\u001b[0m: Logged trace tree to W&B.\n"
          ]
        },
        {
          "output_type": "stream",
          "name": "stdout",
          "text": [
            "**********\n",
            "Trace: index_construction\n",
            "    |_node_parsing ->  0.000545 seconds\n",
            "      |_chunking ->  0.000116 seconds\n",
            "    |_embedding ->  0.110773 seconds\n",
            "**********\n"
          ]
        },
        {
          "output_type": "stream",
          "name": "stderr",
          "text": [
            "\u001b[34m\u001b[1mwandb\u001b[0m: Logged trace tree to W&B.\n"
          ]
        },
        {
          "output_type": "stream",
          "name": "stdout",
          "text": [
            "**********\n",
            "Trace: index_construction\n",
            "    |_node_parsing ->  0.001317 seconds\n",
            "      |_chunking ->  0.000155 seconds\n",
            "    |_embedding ->  0.116638 seconds\n",
            "**********\n"
          ]
        },
        {
          "output_type": "stream",
          "name": "stderr",
          "text": [
            "\u001b[34m\u001b[1mwandb\u001b[0m: Logged trace tree to W&B.\n"
          ]
        },
        {
          "output_type": "stream",
          "name": "stdout",
          "text": [
            "**********\n",
            "Trace: index_construction\n",
            "    |_node_parsing ->  0.000575 seconds\n",
            "      |_chunking ->  0.000115 seconds\n",
            "    |_embedding ->  0.111539 seconds\n",
            "**********\n"
          ]
        },
        {
          "output_type": "stream",
          "name": "stderr",
          "text": [
            "\u001b[34m\u001b[1mwandb\u001b[0m: Logged trace tree to W&B.\n"
          ]
        },
        {
          "output_type": "stream",
          "name": "stdout",
          "text": [
            "**********\n",
            "Trace: index_construction\n",
            "    |_node_parsing ->  0.00059 seconds\n",
            "      |_chunking ->  0.000117 seconds\n",
            "    |_embedding ->  0.129643 seconds\n",
            "**********\n"
          ]
        },
        {
          "output_type": "stream",
          "name": "stderr",
          "text": [
            "\u001b[34m\u001b[1mwandb\u001b[0m: Logged trace tree to W&B.\n"
          ]
        },
        {
          "output_type": "stream",
          "name": "stdout",
          "text": [
            "**********\n",
            "Trace: index_construction\n",
            "    |_node_parsing ->  0.000543 seconds\n",
            "      |_chunking ->  0.000106 seconds\n",
            "    |_embedding ->  0.290291 seconds\n",
            "**********\n"
          ]
        },
        {
          "output_type": "stream",
          "name": "stderr",
          "text": [
            "\u001b[34m\u001b[1mwandb\u001b[0m: Logged trace tree to W&B.\n"
          ]
        },
        {
          "output_type": "stream",
          "name": "stdout",
          "text": [
            "**********\n",
            "Trace: index_construction\n",
            "    |_node_parsing ->  0.000415 seconds\n",
            "      |_chunking ->  7.6e-05 seconds\n",
            "    |_embedding ->  0.103105 seconds\n",
            "**********\n"
          ]
        },
        {
          "output_type": "stream",
          "name": "stderr",
          "text": [
            "\u001b[34m\u001b[1mwandb\u001b[0m: Logged trace tree to W&B.\n"
          ]
        },
        {
          "output_type": "stream",
          "name": "stdout",
          "text": [
            "**********\n",
            "Trace: index_construction\n",
            "    |_node_parsing ->  0.000588 seconds\n",
            "      |_chunking ->  0.00013 seconds\n",
            "    |_embedding ->  0.111155 seconds\n",
            "**********\n"
          ]
        },
        {
          "output_type": "stream",
          "name": "stderr",
          "text": [
            "\u001b[34m\u001b[1mwandb\u001b[0m: Logged trace tree to W&B.\n"
          ]
        },
        {
          "output_type": "stream",
          "name": "stdout",
          "text": [
            "**********\n",
            "Trace: index_construction\n",
            "    |_node_parsing ->  0.001082 seconds\n",
            "      |_chunking ->  0.000112 seconds\n",
            "    |_embedding ->  0.125473 seconds\n",
            "**********\n"
          ]
        },
        {
          "output_type": "stream",
          "name": "stderr",
          "text": [
            "\u001b[34m\u001b[1mwandb\u001b[0m: Logged trace tree to W&B.\n"
          ]
        },
        {
          "output_type": "stream",
          "name": "stdout",
          "text": [
            "**********\n",
            "Trace: index_construction\n",
            "    |_node_parsing ->  0.00053 seconds\n",
            "      |_chunking ->  9.3e-05 seconds\n",
            "    |_embedding ->  0.131406 seconds\n",
            "**********\n"
          ]
        },
        {
          "output_type": "stream",
          "name": "stderr",
          "text": [
            "\u001b[34m\u001b[1mwandb\u001b[0m: Logged trace tree to W&B.\n"
          ]
        },
        {
          "output_type": "stream",
          "name": "stdout",
          "text": [
            "**********\n",
            "Trace: index_construction\n",
            "    |_node_parsing ->  0.000478 seconds\n",
            "      |_chunking ->  7.1e-05 seconds\n",
            "    |_embedding ->  0.10804 seconds\n",
            "**********\n"
          ]
        },
        {
          "output_type": "stream",
          "name": "stderr",
          "text": [
            "\u001b[34m\u001b[1mwandb\u001b[0m: Logged trace tree to W&B.\n"
          ]
        },
        {
          "output_type": "stream",
          "name": "stdout",
          "text": [
            "**********\n",
            "Trace: index_construction\n",
            "    |_node_parsing ->  0.000365 seconds\n",
            "      |_chunking ->  6.3e-05 seconds\n",
            "    |_embedding ->  0.1465 seconds\n",
            "**********\n"
          ]
        },
        {
          "output_type": "stream",
          "name": "stderr",
          "text": [
            "\u001b[34m\u001b[1mwandb\u001b[0m: Logged trace tree to W&B.\n"
          ]
        },
        {
          "output_type": "stream",
          "name": "stdout",
          "text": [
            "**********\n",
            "Trace: index_construction\n",
            "    |_node_parsing ->  0.000513 seconds\n",
            "      |_chunking ->  9.5e-05 seconds\n",
            "    |_embedding ->  0.112103 seconds\n",
            "**********\n"
          ]
        },
        {
          "output_type": "stream",
          "name": "stderr",
          "text": [
            "\u001b[34m\u001b[1mwandb\u001b[0m: Logged trace tree to W&B.\n"
          ]
        },
        {
          "output_type": "stream",
          "name": "stdout",
          "text": [
            "**********\n",
            "Trace: index_construction\n",
            "    |_node_parsing ->  0.000397 seconds\n",
            "      |_chunking ->  7e-05 seconds\n",
            "    |_embedding ->  0.200158 seconds\n",
            "**********\n"
          ]
        },
        {
          "output_type": "stream",
          "name": "stderr",
          "text": [
            "\u001b[34m\u001b[1mwandb\u001b[0m: Logged trace tree to W&B.\n"
          ]
        }
      ]
    },
    {
      "cell_type": "code",
      "source": [
        "from llama_index.indices.composability.graph import ComposableGraph\n",
        "\n",
        "graph = ComposableGraph.from_indices(\n",
        "    GPTSimpleKeywordTableIndex,\n",
        "    [index for _, index in aa_indices.items()],\n",
        "    [summary for _, summary in index_summaries.items()],\n",
        "    max_keywords_per_chunk=50\n",
        ")\n",
        "\n",
        "llm_predictor_chatgpt = LLMPredictor(\n",
        "    #llm=OpenAIChat(temperature=0, model_name=\"gpt-4\")\n",
        "    llm=OpenAIChat(temperature=0, model_name=\"gpt-3.5-turbo\")\n",
        ")\n",
        "service_context = ServiceContext.from_defaults(llm_predictor=llm_predictor_chatgpt)\n",
        "\n",
        "custom_query_engines = {\n",
        "    graph.root_id: graph.root_index.as_query_engine(retriever_mode='simple', service_context=service_context)\n",
        "}\n",
        "\n",
        "query_engine = graph.as_query_engine(custom_query_engines=custom_query_engines)\n",
        "\n",
        "query_str = \"Tell me more about the Utah Jazz\"\n",
        "response_chatgpt = query_engine.query(query_str)\n",
        "\n",
        "print(response_chatgpt)\n",
        "print(response_chatgpt.get_formatted_sources())"
      ],
      "metadata": {
        "colab": {
          "base_uri": "https://localhost:8080/"
        },
        "id": "lF1qN9nyvsWp",
        "outputId": "0ea3e5d0-186b-4b3c-f1b7-25c4ad7df5f7"
      },
      "id": "lF1qN9nyvsWp",
      "execution_count": null,
      "outputs": [
        {
          "output_type": "stream",
          "name": "stdout",
          "text": [
            "**********\n",
            "Trace: graph_construction\n",
            "**********\n"
          ]
        },
        {
          "output_type": "stream",
          "name": "stderr",
          "text": [
            "[nltk_data] Downloading package stopwords to /tmp/llama_index...\n",
            "[nltk_data]   Unzipping corpora/stopwords.zip.\n",
            "/usr/local/lib/python3.10/dist-packages/langchain/llms/openai.py:811: UserWarning: You are trying to use a chat model. This way of initializing it is no longer supported. Instead, please use: `from langchain.chat_models import ChatOpenAI`\n",
            "  warnings.warn(\n"
          ]
        },
        {
          "output_type": "stream",
          "name": "stdout",
          "text": [
            "Failed to log trace tree to W&B: list index out of range\n",
            "**********\n",
            "Trace: query\n",
            "    |_query ->  0.00179 seconds\n",
            "      |_retrieve ->  0.001565 seconds\n",
            "**********\n"
          ]
        },
        {
          "output_type": "stream",
          "name": "stderr",
          "text": [
            "\u001b[34m\u001b[1mwandb\u001b[0m: Logged trace tree to W&B.\n"
          ]
        },
        {
          "output_type": "stream",
          "name": "stdout",
          "text": [
            "Empty Response\n",
            "\n"
          ]
        }
      ]
    },
    {
      "cell_type": "markdown",
      "source": [
        "## Answer questions"
      ],
      "metadata": {
        "id": "4N3C9PsL0yDI"
      },
      "id": "4N3C9PsL0yDI"
    },
    {
      "cell_type": "code",
      "source": [
        "query_str = \"Tell me more about the 2010_11_Dallas_Mavericks_season\"\n",
        "response_chatgpt = query_engine.query(query_str)\n",
        "\n",
        "if not response_chatgpt or not response_chatgpt.get_formatted_sources():\n",
        "    print(\"I am sorry, but your query is outside the boundaries of what I was trained on.\")\n",
        "else:\n",
        "    print(response_chatgpt)\n",
        "    print(response_chatgpt.get_formatted_sources())"
      ],
      "metadata": {
        "colab": {
          "base_uri": "https://localhost:8080/"
        },
        "id": "4SbfgHQazTTr",
        "outputId": "333bde14-ed76-4744-e77d-0fd56a265cf1"
      },
      "id": "4SbfgHQazTTr",
      "execution_count": null,
      "outputs": [
        {
          "output_type": "stream",
          "name": "stdout",
          "text": [
            "**********\n",
            "Trace: query\n",
            "    |_query ->  8.868064 seconds\n",
            "      |_retrieve ->  0.002202 seconds\n",
            "      |_query ->  5.826788 seconds\n",
            "        |_retrieve ->  0.563561 seconds\n",
            "          |_embedding ->  0.403494 seconds\n",
            "        |_synthesize ->  5.262823 seconds\n",
            "          |_templating ->  2.8e-05 seconds\n",
            "          |_llm ->  5.259597 seconds\n",
            "      |_synthesize ->  3.038651 seconds\n",
            "        |_templating ->  2.7e-05 seconds\n",
            "        |_llm ->  3.036665 seconds\n",
            "**********\n",
            "Failed to log trace tree to W&B: <EventPayload.RESPONSE: 'response'>\n",
            "The 2010-11 Dallas Mavericks season was the season in which the Dallas Mavericks competed in the NBA.\n",
            "> Source (Doc id: 27cd94a3-faf2-4189-aab2-33cf7721e6c0): The 2010-11 Dallas Mavericks season refers to the season in which the Dallas Mavericks, a profess...\n",
            "\n",
            "> Source (Doc id: 468097cf-c945-493a-92c8-d4bae667daf1): \"2010-11 Dallas Mavericks season\"\n",
            "\n",
            "> Source (Doc id: 2dffdab7-e8e8-4d4e-85b3-1f4cfb0cd795): \"2010-11 Dallas Mavericks season\"\n"
          ]
        }
      ]
    },
    {
      "cell_type": "code",
      "source": [
        "query_str = \"Tell me more about the 2010_11_Dallas_Mavericks_season Roster\"\n",
        "response_chatgpt = query_engine.query(query_str)\n",
        "\n",
        "if not response_chatgpt or not response_chatgpt.get_formatted_sources():\n",
        "    print(\"I am sorry, but your query is outside the boundaries of what I was trained on.\")\n",
        "else:\n",
        "    print(response_chatgpt)\n",
        "    print(response_chatgpt.get_formatted_sources())"
      ],
      "metadata": {
        "colab": {
          "base_uri": "https://localhost:8080/"
        },
        "id": "abkvU9pf0y3b",
        "outputId": "8c0fcac7-ace6-43b4-f994-7cf5ba3f5114"
      },
      "id": "abkvU9pf0y3b",
      "execution_count": null,
      "outputs": [
        {
          "output_type": "stream",
          "name": "stdout",
          "text": [
            "**********\n",
            "Trace: query\n",
            "    |_query ->  11.664628 seconds\n",
            "      |_retrieve ->  0.002075 seconds\n",
            "      |_query ->  4.362479 seconds\n",
            "        |_retrieve ->  0.220575 seconds\n",
            "          |_embedding ->  0.199119 seconds\n",
            "        |_synthesize ->  4.141522 seconds\n",
            "          |_templating ->  4.1e-05 seconds\n",
            "          |_llm ->  4.138253 seconds\n",
            "      |_synthesize ->  7.29964 seconds\n",
            "        |_templating ->  4.9e-05 seconds\n",
            "        |_llm ->  7.297476 seconds\n",
            "**********\n",
            "Failed to log trace tree to W&B: <EventPayload.RESPONSE: 'response'>\n",
            "The 2010-11 Dallas Mavericks season roster was a group of players who represented the team during that particular season. Unfortunately, without prior knowledge or access to specific information, I am unable to provide further details about the roster.\n",
            "> Source (Doc id: 246778d2-8eac-4fc6-b982-f05951458e89): The 2010-11 Dallas Mavericks season roster consisted of a group of players who represented the te...\n",
            "\n",
            "> Source (Doc id: 468097cf-c945-493a-92c8-d4bae667daf1): \"2010-11 Dallas Mavericks season\"\n",
            "\n",
            "> Source (Doc id: 2dffdab7-e8e8-4d4e-85b3-1f4cfb0cd795): \"2010-11 Dallas Mavericks season\"\n"
          ]
        }
      ]
    },
    {
      "cell_type": "markdown",
      "source": [
        "## Llama index multi doc case"
      ],
      "metadata": {
        "id": "Q0b25goY1Uml"
      },
      "id": "Q0b25goY1Uml"
    },
    {
      "cell_type": "code",
      "source": [
        "import gradio as gr"
      ],
      "metadata": {
        "id": "jXwLDB2V1Ztn"
      },
      "id": "jXwLDB2V1Ztn",
      "execution_count": null,
      "outputs": []
    },
    {
      "cell_type": "code",
      "source": [
        "# Environment, Loader, Query\n",
        "\n",
        "def create_service_context():\n",
        "\n",
        "    #constraint parameters\n",
        "    max_input_size = 4096\n",
        "    num_outputs = 512\n",
        "    max_chunk_overlap = .5\n",
        "    chunk_size_limit = 600\n",
        "\n",
        "    #allows the user to explicitly set certain constraint parameters\n",
        "    prompt_helper = PromptHelper(max_input_size, num_outputs, max_chunk_overlap, chunk_size_limit=chunk_size_limit)\n",
        "\n",
        "    #LLMPredictor is a wrapper class around LangChain's LLMChain that allows easy integration into LlamaIndex\n",
        "    llm_predictor = LLMPredictor(llm=ChatOpenAI(temperature=0.5, model_name=\"gpt-3.5-turbo\", max_tokens=num_outputs))\n",
        "    #llm_predictor = LLMPredictor(llm=ChatOpenAI(temperature=0.5, model_name=\"gpt-4\", max_tokens=num_outputs))\n",
        "\n",
        "    #constructs service_context\n",
        "    service_context = ServiceContext.from_defaults(llm_predictor=llm_predictor, prompt_helper=prompt_helper)\n",
        "    return service_context"
      ],
      "metadata": {
        "id": "EJnWxOZD1b3D"
      },
      "id": "EJnWxOZD1b3D",
      "execution_count": null,
      "outputs": []
    },
    {
      "cell_type": "code",
      "source": [
        "def data_ingestion_indexing(directory_path):\n",
        "\n",
        "    #loads data from the specified directory path\n",
        "    documents = SimpleDirectoryReader(directory_path).load_data()\n",
        "\n",
        "    #when first building the index\n",
        "    index = GPTVectorStoreIndex.from_documents(\n",
        "        documents, service_context=create_service_context()\n",
        "    )\n",
        "\n",
        "    #persist index to disk, default \"storage\" folder\n",
        "    index.storage_context.persist()\n",
        "\n",
        "    return index"
      ],
      "metadata": {
        "id": "gCG7TPxt1j5A"
      },
      "id": "gCG7TPxt1j5A",
      "execution_count": null,
      "outputs": []
    },
    {
      "cell_type": "code",
      "source": [
        "def data_querying(input_text):\n",
        "\n",
        "    #rebuild storage context\n",
        "    storage_context = StorageContext.from_defaults(persist_dir=\"./storage\")\n",
        "\n",
        "    #loads index from storage\n",
        "    index = load_index_from_storage(storage_context, service_context=create_service_context())\n",
        "\n",
        "    #queries the index with the input text\n",
        "    response = index.as_query_engine().query(input_text)\n",
        "\n",
        "    return response.response"
      ],
      "metadata": {
        "id": "7MK_7GW41mUv"
      },
      "id": "7MK_7GW41mUv",
      "execution_count": null,
      "outputs": []
    },
    {
      "cell_type": "markdown",
      "source": [
        "### Test Q&A across multiple documents using Gradio Web Interface"
      ],
      "metadata": {
        "id": "6oLT0Pz91p9T"
      },
      "id": "6oLT0Pz91p9T"
    },
    {
      "cell_type": "code",
      "source": [
        "iface = gr.Interface(fn=data_querying,\n",
        "                     inputs=gr.components.Textbox(lines=7, label=\"Enter your text\"),\n",
        "                     outputs=\"text\",\n",
        "                     title=\"🏀 Utah Jazz & Dallas Mavericks 🏀\")"
      ],
      "metadata": {
        "id": "iQV6RY6A1unS"
      },
      "id": "iQV6RY6A1unS",
      "execution_count": null,
      "outputs": []
    },
    {
      "cell_type": "code",
      "source": [
        "index = data_ingestion_indexing(\"/content\")"
      ],
      "metadata": {
        "id": "K43NYfzt10xu",
        "colab": {
          "base_uri": "https://localhost:8080/"
        },
        "outputId": "63aca905-f61b-4a80-e848-56138dc29cd0"
      },
      "id": "K43NYfzt10xu",
      "execution_count": null,
      "outputs": [
        {
          "output_type": "stream",
          "name": "stdout",
          "text": [
            "**********\n",
            "Trace: index_construction\n",
            "    |_node_parsing ->  1.886206 seconds\n",
            "      |_chunking ->  0.012134 seconds\n",
            "      |_chunking ->  0.014899 seconds\n",
            "      |_chunking ->  0.012934 seconds\n",
            "      |_chunking ->  0.024147 seconds\n",
            "      |_chunking ->  0.022669 seconds\n",
            "      |_chunking ->  0.013648 seconds\n",
            "      |_chunking ->  0.011828 seconds\n",
            "      |_chunking ->  0.004151 seconds\n",
            "      |_chunking ->  0.013903 seconds\n",
            "      |_chunking ->  0.020194 seconds\n",
            "      |_chunking ->  0.013258 seconds\n",
            "      |_chunking ->  0.006757 seconds\n",
            "      |_chunking ->  0.01467 seconds\n",
            "      |_chunking ->  0.004653 seconds\n",
            "      |_chunking ->  0.013728 seconds\n",
            "      |_chunking ->  0.004453 seconds\n",
            "      |_chunking ->  0.012633 seconds\n",
            "      |_chunking ->  0.015517 seconds\n",
            "      |_chunking ->  0.016183 seconds\n",
            "      |_chunking ->  0.017043 seconds\n",
            "      |_chunking ->  0.016768 seconds\n",
            "      |_chunking ->  0.016218 seconds\n",
            "      |_chunking ->  0.016403 seconds\n",
            "      |_chunking ->  0.018928 seconds\n",
            "      |_chunking ->  0.015997 seconds\n",
            "      |_chunking ->  0.018105 seconds\n",
            "      |_chunking ->  0.021921 seconds\n",
            "      |_chunking ->  0.019673 seconds\n",
            "      |_chunking ->  0.019014 seconds\n",
            "      |_chunking ->  0.020671 seconds\n",
            "      |_chunking ->  0.017402 seconds\n",
            "      |_chunking ->  0.019218 seconds\n",
            "      |_chunking ->  0.017972 seconds\n",
            "      |_chunking ->  0.018946 seconds\n",
            "      |_chunking ->  0.022261 seconds\n",
            "      |_chunking ->  0.020528 seconds\n",
            "      |_chunking ->  0.023116 seconds\n",
            "      |_chunking ->  0.016387 seconds\n",
            "      |_chunking ->  0.021213 seconds\n",
            "      |_chunking ->  0.020044 seconds\n",
            "      |_chunking ->  0.017498 seconds\n",
            "      |_chunking ->  0.021592 seconds\n",
            "      |_chunking ->  0.016845 seconds\n",
            "      |_chunking ->  0.01852 seconds\n",
            "      |_chunking ->  0.017956 seconds\n",
            "      |_chunking ->  0.019809 seconds\n",
            "      |_chunking ->  0.019104 seconds\n",
            "      |_chunking ->  0.021367 seconds\n",
            "      |_chunking ->  0.019058 seconds\n",
            "      |_chunking ->  0.017932 seconds\n",
            "      |_chunking ->  0.015339 seconds\n",
            "      |_chunking ->  0.022443 seconds\n",
            "      |_chunking ->  0.00442 seconds\n",
            "      |_chunking ->  0.018632 seconds\n",
            "      |_chunking ->  0.003923 seconds\n",
            "      |_chunking ->  0.020735 seconds\n",
            "      |_chunking ->  0.005329 seconds\n",
            "      |_chunking ->  0.018871 seconds\n",
            "      |_chunking ->  0.018719 seconds\n",
            "      |_chunking ->  0.006524 seconds\n",
            "      |_chunking ->  0.018485 seconds\n",
            "      |_chunking ->  0.019643 seconds\n",
            "      |_chunking ->  0.017961 seconds\n",
            "      |_chunking ->  0.012554 seconds\n",
            "      |_chunking ->  0.01942 seconds\n",
            "      |_chunking ->  0.028181 seconds\n",
            "      |_chunking ->  0.016246 seconds\n",
            "      |_chunking ->  0.038905 seconds\n",
            "      |_chunking ->  0.015849 seconds\n",
            "      |_chunking ->  0.019944 seconds\n",
            "      |_chunking ->  0.012697 seconds\n",
            "      |_chunking ->  0.01941 seconds\n",
            "      |_chunking ->  0.016447 seconds\n",
            "      |_chunking ->  0.014663 seconds\n",
            "      |_chunking ->  0.015363 seconds\n",
            "      |_chunking ->  0.013492 seconds\n",
            "      |_chunking ->  0.018488 seconds\n",
            "      |_chunking ->  0.015729 seconds\n",
            "      |_chunking ->  0.021221 seconds\n",
            "      |_chunking ->  0.01995 seconds\n",
            "      |_chunking ->  0.02011 seconds\n",
            "      |_chunking ->  0.018416 seconds\n",
            "      |_chunking ->  0.019604 seconds\n",
            "      |_chunking ->  0.015592 seconds\n",
            "      |_chunking ->  0.01776 seconds\n",
            "      |_chunking ->  0.016848 seconds\n",
            "      |_chunking ->  0.017186 seconds\n",
            "      |_chunking ->  0.016001 seconds\n",
            "      |_chunking ->  0.015163 seconds\n",
            "      |_chunking ->  0.0171 seconds\n",
            "      |_chunking ->  0.017945 seconds\n",
            "      |_chunking ->  0.009894 seconds\n",
            "      |_chunking ->  0.008833 seconds\n",
            "      |_chunking ->  0.000516 seconds\n",
            "      |_chunking ->  0.00429 seconds\n",
            "      |_chunking ->  0.003454 seconds\n",
            "      |_chunking ->  0.044205 seconds\n",
            "      |_chunking ->  0.011849 seconds\n",
            "      |_chunking ->  0.016314 seconds\n",
            "    |_embedding ->  0.545468 seconds\n",
            "    |_embedding ->  0.733989 seconds\n",
            "    |_embedding ->  0.454533 seconds\n",
            "    |_embedding ->  0.309131 seconds\n",
            "    |_embedding ->  0.202081 seconds\n",
            "    |_embedding ->  0.524808 seconds\n",
            "    |_embedding ->  0.347532 seconds\n",
            "    |_embedding ->  0.391647 seconds\n",
            "    |_embedding ->  0.225857 seconds\n",
            "    |_embedding ->  0.215651 seconds\n",
            "    |_embedding ->  0.199058 seconds\n",
            "    |_embedding ->  0.248968 seconds\n",
            "    |_embedding ->  0.246729 seconds\n",
            "    |_embedding ->  0.180075 seconds\n",
            "    |_embedding ->  0.18857 seconds\n",
            "    |_embedding ->  0.315826 seconds\n",
            "    |_embedding ->  0.176456 seconds\n",
            "    |_embedding ->  0.143361 seconds\n",
            "    |_embedding ->  0.667421 seconds\n",
            "    |_embedding ->  0.29593 seconds\n",
            "    |_embedding ->  0.227793 seconds\n",
            "    |_embedding ->  0.261023 seconds\n",
            "    |_embedding ->  0.2852 seconds\n",
            "    |_embedding ->  2.159714 seconds\n",
            "    |_embedding ->  0.199993 seconds\n",
            "    |_embedding ->  0.18279 seconds\n",
            "    |_embedding ->  0.45252 seconds\n",
            "    |_embedding ->  0.853369 seconds\n",
            "    |_embedding ->  0.198288 seconds\n",
            "    |_embedding ->  0.247156 seconds\n",
            "    |_embedding ->  0.269293 seconds\n",
            "    |_embedding ->  0.191891 seconds\n",
            "    |_embedding ->  0.204232 seconds\n",
            "    |_embedding ->  0.188483 seconds\n",
            "    |_embedding ->  0.229302 seconds\n",
            "    |_embedding ->  0.197241 seconds\n",
            "    |_embedding ->  0.272283 seconds\n",
            "    |_embedding ->  0.218155 seconds\n",
            "    |_embedding ->  0.23306 seconds\n",
            "    |_embedding ->  0.238904 seconds\n",
            "    |_embedding ->  0.247222 seconds\n",
            "    |_embedding ->  0.172933 seconds\n",
            "    |_embedding ->  0.300717 seconds\n",
            "    |_embedding ->  1.572698 seconds\n",
            "    |_embedding ->  0.225315 seconds\n",
            "    |_embedding ->  0.193204 seconds\n",
            "    |_embedding ->  0.219437 seconds\n",
            "    |_embedding ->  0.203151 seconds\n",
            "    |_embedding ->  0.242933 seconds\n",
            "    |_embedding ->  0.212617 seconds\n",
            "    |_embedding ->  0.167979 seconds\n",
            "    |_embedding ->  0.197027 seconds\n",
            "    |_embedding ->  0.197686 seconds\n",
            "    |_embedding ->  0.324661 seconds\n",
            "    |_embedding ->  0.176831 seconds\n",
            "    |_embedding ->  0.193625 seconds\n",
            "    |_embedding ->  0.220116 seconds\n",
            "    |_embedding ->  0.220272 seconds\n",
            "    |_embedding ->  0.218836 seconds\n",
            "    |_embedding ->  0.30998 seconds\n",
            "    |_embedding ->  0.220895 seconds\n",
            "    |_embedding ->  0.171839 seconds\n",
            "    |_embedding ->  0.203316 seconds\n",
            "    |_embedding ->  0.232532 seconds\n",
            "    |_embedding ->  0.190659 seconds\n",
            "    |_embedding ->  0.19243 seconds\n",
            "    |_embedding ->  0.19863 seconds\n",
            "    |_embedding ->  0.294587 seconds\n",
            "    |_embedding ->  0.188564 seconds\n",
            "    |_embedding ->  0.216217 seconds\n",
            "    |_embedding ->  0.210764 seconds\n",
            "    |_embedding ->  0.284973 seconds\n",
            "    |_embedding ->  0.182901 seconds\n",
            "    |_embedding ->  0.32959 seconds\n",
            "    |_embedding ->  0.234959 seconds\n",
            "    |_embedding ->  0.216858 seconds\n",
            "    |_embedding ->  0.187112 seconds\n",
            "    |_embedding ->  0.225952 seconds\n",
            "    |_embedding ->  0.20377 seconds\n",
            "    |_embedding ->  0.216613 seconds\n",
            "    |_embedding ->  0.210108 seconds\n",
            "    |_embedding ->  0.201746 seconds\n",
            "    |_embedding ->  0.227071 seconds\n",
            "    |_embedding ->  0.206081 seconds\n",
            "    |_embedding ->  0.233966 seconds\n",
            "    |_embedding ->  0.23355 seconds\n",
            "    |_embedding ->  0.199285 seconds\n",
            "    |_embedding ->  0.201038 seconds\n",
            "    |_embedding ->  0.192955 seconds\n",
            "    |_embedding ->  0.212125 seconds\n",
            "    |_embedding ->  0.172286 seconds\n",
            "    |_embedding ->  0.162528 seconds\n",
            "    |_embedding ->  0.169583 seconds\n",
            "    |_embedding ->  0.175144 seconds\n",
            "    |_embedding ->  0.207044 seconds\n",
            "    |_embedding ->  0.207472 seconds\n",
            "    |_embedding ->  0.264599 seconds\n",
            "    |_embedding ->  0.255159 seconds\n",
            "    |_embedding ->  0.242969 seconds\n",
            "    |_embedding ->  0.187913 seconds\n",
            "    |_embedding ->  0.235115 seconds\n",
            "    |_embedding ->  0.250383 seconds\n",
            "    |_embedding ->  0.542873 seconds\n",
            "    |_embedding ->  0.21713 seconds\n",
            "    |_embedding ->  0.222425 seconds\n",
            "    |_embedding ->  0.287108 seconds\n",
            "    |_embedding ->  0.211982 seconds\n",
            "    |_embedding ->  0.249788 seconds\n",
            "    |_embedding ->  0.202538 seconds\n",
            "    |_embedding ->  0.217266 seconds\n",
            "    |_embedding ->  0.352665 seconds\n",
            "    |_embedding ->  0.231335 seconds\n",
            "    |_embedding ->  0.482523 seconds\n",
            "    |_embedding ->  0.208682 seconds\n",
            "    |_embedding ->  0.222768 seconds\n",
            "    |_embedding ->  0.196571 seconds\n",
            "    |_embedding ->  0.180148 seconds\n",
            "    |_embedding ->  0.213077 seconds\n",
            "    |_embedding ->  0.191369 seconds\n",
            "    |_embedding ->  0.236065 seconds\n",
            "    |_embedding ->  0.21413 seconds\n",
            "    |_embedding ->  0.213545 seconds\n",
            "    |_embedding ->  0.231199 seconds\n",
            "    |_embedding ->  0.212653 seconds\n",
            "    |_embedding ->  0.196221 seconds\n",
            "    |_embedding ->  0.219044 seconds\n",
            "    |_embedding ->  0.234281 seconds\n",
            "    |_embedding ->  0.189349 seconds\n",
            "    |_embedding ->  0.214917 seconds\n",
            "    |_embedding ->  0.182977 seconds\n",
            "    |_embedding ->  0.200224 seconds\n",
            "    |_embedding ->  0.181063 seconds\n",
            "    |_embedding ->  0.238611 seconds\n",
            "    |_embedding ->  0.178236 seconds\n",
            "    |_embedding ->  0.215368 seconds\n",
            "    |_embedding ->  0.199493 seconds\n",
            "    |_embedding ->  0.179602 seconds\n",
            "    |_embedding ->  0.191673 seconds\n",
            "    |_embedding ->  0.272201 seconds\n",
            "    |_embedding ->  0.202103 seconds\n",
            "    |_embedding ->  0.180888 seconds\n",
            "    |_embedding ->  0.189874 seconds\n",
            "    |_embedding ->  0.296828 seconds\n",
            "    |_embedding ->  0.211919 seconds\n",
            "    |_embedding ->  0.124562 seconds\n",
            "    |_embedding ->  0.208631 seconds\n",
            "    |_embedding ->  0.148647 seconds\n",
            "    |_embedding ->  0.212217 seconds\n",
            "    |_embedding ->  0.19861 seconds\n",
            "    |_embedding ->  0.247776 seconds\n",
            "    |_embedding ->  0.217771 seconds\n",
            "    |_embedding ->  0.218919 seconds\n",
            "    |_embedding ->  0.273239 seconds\n",
            "    |_embedding ->  0.163483 seconds\n",
            "    |_embedding ->  0.218425 seconds\n",
            "    |_embedding ->  0.214783 seconds\n",
            "    |_embedding ->  0.228 seconds\n",
            "    |_embedding ->  0.200981 seconds\n",
            "    |_embedding ->  0.561651 seconds\n",
            "**********\n"
          ]
        },
        {
          "output_type": "stream",
          "name": "stderr",
          "text": [
            "\u001b[34m\u001b[1mwandb\u001b[0m: Logged trace tree to W&B.\n"
          ]
        }
      ]
    },
    {
      "cell_type": "code",
      "source": [
        "iface.launch(share=True)"
      ],
      "metadata": {
        "colab": {
          "base_uri": "https://localhost:8080/",
          "height": 594
        },
        "id": "vMS_FaaM2D7o",
        "outputId": "d85e62f7-9f6e-42ba-da85-8590f821a742"
      },
      "id": "vMS_FaaM2D7o",
      "execution_count": null,
      "outputs": [
        {
          "output_type": "stream",
          "name": "stdout",
          "text": [
            "Colab notebook detected. To show errors in colab notebook, set debug=True in launch()\n",
            "Running on public URL: https://4f58be37e2744421bc.gradio.live\n",
            "\n",
            "This share link expires in 72 hours. For free permanent hosting and GPU upgrades, run `gradio deploy` from Terminal to deploy to Spaces (https://huggingface.co/spaces)\n"
          ]
        },
        {
          "output_type": "display_data",
          "data": {
            "text/plain": [
              "<IPython.core.display.HTML object>"
            ],
            "text/html": [
              "<div><iframe src=\"https://4f58be37e2744421bc.gradio.live\" width=\"100%\" height=\"500\" allow=\"autoplay; camera; microphone; clipboard-read; clipboard-write;\" frameborder=\"0\" allowfullscreen></iframe></div>"
            ]
          },
          "metadata": {}
        },
        {
          "output_type": "execute_result",
          "data": {
            "text/plain": []
          },
          "metadata": {},
          "execution_count": 66
        }
      ]
    },
    {
      "cell_type": "markdown",
      "source": [
        "## Screenshot of Tracing Dashboard in Weights and Biases:\n",
        "![image.png](data:image/png;base64,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)"
      ],
      "metadata": {
        "id": "wY9Rml4kvaSI"
      },
      "id": "wY9Rml4kvaSI"
    },
    {
      "cell_type": "markdown",
      "id": "69a49931-875d-419d-b39e-1880de31754a",
      "metadata": {
        "id": "69a49931-875d-419d-b39e-1880de31754a"
      },
      "source": [
        "## (optional) Cleanup"
      ]
    },
    {
      "cell_type": "markdown",
      "id": "d148e776-bb27-4e3c-85be-2f7afb11711a",
      "metadata": {
        "id": "d148e776-bb27-4e3c-85be-2f7afb11711a"
      },
      "source": [
        "You may want to clean up your database: in that case, simply run the following cell.\n",
        "\n",
        "_Warning: this will delete the vector store and all that you stored into it!_"
      ]
    },
    {
      "cell_type": "code",
      "execution_count": null,
      "id": "4b9ebc5f-be2c-4627-8304-b6206110e2bd",
      "metadata": {
        "id": "4b9ebc5f-be2c-4627-8304-b6206110e2bd"
      },
      "outputs": [],
      "source": [
        "session.execute(f\"DROP TABLE IF EXISTS {keyspace}.{table_name};\")"
      ]
    }
  ],
  "metadata": {
    "kernelspec": {
      "display_name": "Python 3 (ipykernel)",
      "language": "python",
      "name": "python3"
    },
    "language_info": {
      "codemirror_mode": {
        "name": "ipython",
        "version": 3
      },
      "file_extension": ".py",
      "mimetype": "text/x-python",
      "name": "python",
      "nbconvert_exporter": "python",
      "pygments_lexer": "ipython3"
    },
    "colab": {
      "provenance": []
    }
  },
  "nbformat": 4,
  "nbformat_minor": 5
}