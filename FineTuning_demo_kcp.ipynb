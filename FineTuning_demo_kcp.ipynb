{
  "nbformat": 4,
  "nbformat_minor": 0,
  "metadata": {
    "colab": {
      "provenance": []
    },
    "kernelspec": {
      "name": "python3",
      "display_name": "Python 3"
    },
    "language_info": {
      "name": "python"
    }
  },
  "cells": [
    {
      "cell_type": "markdown",
      "metadata": {
        "id": "G7k44CpJhHV2"
      },
      "source": [
        "<a href=\"https://colab.research.google.com/github/awesome-astra/docs/blob/main/docs/pages/tools/notebooks/Retrieval_Augmented_Generation_(for_AI_Chatbots).ipynb\" target=\"_parent\"><img src=\"https://colab.research.google.com/assets/colab-badge.svg\" alt=\"Open In Colab\"/></a>"
      ]
    },
    {
      "cell_type": "markdown",
      "source": [
        "# LLM Fine Tuning Example\n",
        "\n",
        "**Goal:** Fine Tune GPT3.5 so that given any sports headline, it provides the following fields in a JSON format: player (full name), team, sport, and gender\"\n",
        "\n",
        "Example: Given \"Lakers’ LeBron says he’s ‘not worried’ about his ankle injury\"\n",
        "  \n",
        "  The response would be:\n",
        "  \n",
        "  `\"content\": \"{\\\"player\\\": \\\"Lebron James\\\", \\\"team\\\": \\\"Lakers\\\", \\\"sport\\\": \\\"basketball\\\", \\\"gender\\\": \\\"male\\\" }\"`"
      ],
      "metadata": {
        "id": "RUnmNWmm_iZX"
      }
    },
    {
      "cell_type": "markdown",
      "metadata": {
        "id": "Vn65Hjm7OqlJ"
      },
      "source": [
        "# **Install libraries and import modules**"
      ]
    },
    {
      "cell_type": "code",
      "execution_count": null,
      "metadata": {
        "colab": {
          "base_uri": "https://localhost:8080/"
        },
        "id": "URoDp8zn8Kae",
        "outputId": "44f40139-749e-475e-c7d2-97e8ef8bb0a0"
      },
      "outputs": [
        {
          "output_type": "stream",
          "name": "stdout",
          "text": [
            "Collecting openai\n",
            "  Downloading openai-0.28.0-py3-none-any.whl (76 kB)\n",
            "\u001b[?25l     \u001b[90m━━━━━━━━━━━━━━━━━━━━━━━━━━━━━━━━━━━━━━━━\u001b[0m \u001b[32m0.0/76.5 kB\u001b[0m \u001b[31m?\u001b[0m eta \u001b[36m-:--:--\u001b[0m\r\u001b[2K     \u001b[91m━━━━━━━━━━━━━━━━━━━━━━━━━━━━━━━━━━━━━\u001b[0m\u001b[90m╺\u001b[0m\u001b[90m━━\u001b[0m \u001b[32m71.7/76.5 kB\u001b[0m \u001b[31m2.3 MB/s\u001b[0m eta \u001b[36m0:00:01\u001b[0m\r\u001b[2K     \u001b[90m━━━━━━━━━━━━━━━━━━━━━━━━━━━━━━━━━━━━━━━━\u001b[0m \u001b[32m76.5/76.5 kB\u001b[0m \u001b[31m1.9 MB/s\u001b[0m eta \u001b[36m0:00:00\u001b[0m\n",
            "\u001b[?25hRequirement already satisfied: requests>=2.20 in /usr/local/lib/python3.10/dist-packages (from openai) (2.31.0)\n",
            "Requirement already satisfied: tqdm in /usr/local/lib/python3.10/dist-packages (from openai) (4.66.1)\n",
            "Requirement already satisfied: aiohttp in /usr/local/lib/python3.10/dist-packages (from openai) (3.8.5)\n",
            "Requirement already satisfied: charset-normalizer<4,>=2 in /usr/local/lib/python3.10/dist-packages (from requests>=2.20->openai) (3.2.0)\n",
            "Requirement already satisfied: idna<4,>=2.5 in /usr/local/lib/python3.10/dist-packages (from requests>=2.20->openai) (3.4)\n",
            "Requirement already satisfied: urllib3<3,>=1.21.1 in /usr/local/lib/python3.10/dist-packages (from requests>=2.20->openai) (2.0.4)\n",
            "Requirement already satisfied: certifi>=2017.4.17 in /usr/local/lib/python3.10/dist-packages (from requests>=2.20->openai) (2023.7.22)\n",
            "Requirement already satisfied: attrs>=17.3.0 in /usr/local/lib/python3.10/dist-packages (from aiohttp->openai) (23.1.0)\n",
            "Requirement already satisfied: multidict<7.0,>=4.5 in /usr/local/lib/python3.10/dist-packages (from aiohttp->openai) (6.0.4)\n",
            "Requirement already satisfied: async-timeout<5.0,>=4.0.0a3 in /usr/local/lib/python3.10/dist-packages (from aiohttp->openai) (4.0.3)\n",
            "Requirement already satisfied: yarl<2.0,>=1.0 in /usr/local/lib/python3.10/dist-packages (from aiohttp->openai) (1.9.2)\n",
            "Requirement already satisfied: frozenlist>=1.1.1 in /usr/local/lib/python3.10/dist-packages (from aiohttp->openai) (1.4.0)\n",
            "Requirement already satisfied: aiosignal>=1.1.2 in /usr/local/lib/python3.10/dist-packages (from aiohttp->openai) (1.3.1)\n",
            "Installing collected packages: openai\n",
            "Successfully installed openai-0.28.0\n"
          ]
        }
      ],
      "source": [
        "!pip install --upgrade openai\n",
        "\n",
        "import os\n",
        "import openai\n",
        "import json\n",
        "import pandas as pd\n",
        "import json\n",
        "import numpy as np\n",
        "from collections import defaultdict\n",
        "from getpass import getpass\n",
        "#from sklearn.datasets import fetch_20newsgroups"
      ]
    },
    {
      "cell_type": "markdown",
      "source": [
        "# **Data exploration**"
      ],
      "metadata": {
        "id": "Y4jSiApDA2BV"
      }
    },
    {
      "cell_type": "code",
      "source": [
        "# from sklearn.datasets import fetch_20newsgroups\n",
        "\n",
        "#   categories = ['rec.sport.baseball', 'rec.sport.hockey']\n",
        "#   sports_dataset = fetch_20newsgroups(subset='train', shuffle=True, random_state=42, categories=categories)"
      ],
      "metadata": {
        "id": "NtOoqcGfA5Sr"
      },
      "execution_count": null,
      "outputs": []
    },
    {
      "cell_type": "code",
      "source": [
        "# print(sports_dataset['data'][0])"
      ],
      "metadata": {
        "id": "yuHGW4-pCHId"
      },
      "execution_count": null,
      "outputs": []
    },
    {
      "cell_type": "markdown",
      "source": [
        "# **Data preparation**"
      ],
      "metadata": {
        "id": "x1_ay5Ig89Jm"
      }
    },
    {
      "cell_type": "code",
      "source": [
        "{\"messages\": [{\"role\": \"system\", \"content\": \"Given a sports headline, provide the following fields in a JSON dict, where applicable: \\\"player (full name)\\\", \\\"team\\\", \\\"sport\\\", and \\\"gender\\\".\"}, {\"role\": \"user\", \"content\": \"Sources: Colts grant RB Taylor OK to seek trade\"}, {\"role\": \"assistant\", \"content\": \"{\\\"player\\\": \\\"Jonathan Taylor\\\", \\\"team\\\": \\\"Colts\\\", \\\"sport\\\": \\\"football\\\", \\\"gender\\\": \\\"male\\\"}\"}]}\n",
        "{\"messages\": [{\"role\": \"system\", \"content\": \"Given a sports headline, provide the following fields in a JSON dict, where applicable: \\\"player (full name)\\\", \\\"team\\\", \\\"sport\\\", and \\\"gender\\\".\"}, {\"role\": \"user\", \"content\": \"OSU 'split down middle' on starting QB battle\"}, {\"role\": \"assistant\", \"content\": \"{\\\"player\\\": null, \\\"team\\\": \\\"OSU\\\", \\\"sport\\\": \\\"football\\\", \\\"gender\\\": null }\"}]}\n",
        "{\"messages\": [{\"role\": \"system\", \"content\": \"Given a sports headline, provide the following fields in a JSON dict, where applicable: \\\"player (full name)\\\", \\\"team\\\", \\\"sport\\\", and \\\"gender\\\".\"}, {\"role\": \"user\", \"content\": \"Packers film room: Reviewing Devonte Wyatt’s encouraging Week 1 performance\"}, {\"role\": \"assistant\", \"content\": \"{\\\"player\\\": \\\"Devonte Wyatt\\\", \\\"team\\\": \\\"Packers\\\", \\\"sport\\\": \\\"football\\\", \\\"gender\\\": \\\"male\\\" }\"}]}\n",
        "{\"messages\": [{\"role\": \"system\", \"content\": \"Given a sports headline, provide the following fields in a JSON dict, where applicable: \\\"player (full name)\\\", \\\"team\\\", \\\"sport\\\", and \\\"gender\\\".\"}, {\"role\": \"user\", \"content\": \"Antetokounmpo says again if there is a better chance to win ring elsewhere he will take it\"},{\"role\": \"assistant\", \"content\": \"{\\\"player\\\": \\\"Giannis Antetokounmpo\\\", \\\"team\\\": \\\"Bucks\\\", \\\"sport\\\": \\\"basketball\\\", \\\"gender\\\": \\\"male\\\" }\"}]}\n",
        "{\"messages\": [{\"role\": \"system\", \"content\": \"Given a sports headline, provide the following fields in a JSON dict, where applicable: \\\"player (full name)\\\", \\\"team\\\", \\\"sport\\\", and \\\"gender\\\".\"}, {\"role\": \"user\", \"content\": \"Cardinals’ Adam Wainwright to play own songs during farewell\"},{\"role\": \"assistant\", \"content\": \"{\\\"player\\\": \\\"Adam Wainwright\\\", \\\"team\\\": \\\"Cardinals\\\", \\\"sport\\\": \\\"baseball\\\", \\\"gender\\\": \\\"male\\\" }\"}]}\n",
        "{\"messages\": [{\"role\": \"system\", \"content\": \"Given a sports headline, provide the following fields in a JSON dict, where applicable: \\\"player (full name)\\\", \\\"team\\\", \\\"sport\\\", and \\\"gender\\\".\"}, {\"role\": \"user\", \"content\": \"Lakers’ LeBron James says he’s ‘not worried’ about his ankle injury\"},{\"role\": \"assistant\", \"content\": \"{\\\"player\\\": \\\"LeBron James\\\", \\\"team\\\": \\\"Lakers\\\", \\\"sport\\\": \\\"basketball\\\", \\\"gender\\\": \\\"male\\\" }\"}]}\n",
        "{\"messages\": [{\"role\": \"system\", \"content\": \"Given a sports headline, provide the following fields in a JSON dict, where applicable: \\\"player (full name)\\\", \\\"team\\\", \\\"sport\\\", and \\\"gender\\\".\"}, {\"role\": \"user\", \"content\": \"Browns’ Baker Mayfield says he’s ‘good to go’ after shoulder injury\"},{\"role\": \"assistant\", \"content\": \"{\\\"player\\\": \\\"Baker Mayfield\\\", \\\"team\\\": \\\"Browns\\\", \\\"sport\\\": \\\"football\\\", \\\"gender\\\": \\\"male\\\" }\"}]}\n",
        "{\"messages\": [{\"role\": \"system\", \"content\": \"Given a sports headline, provide the following fields in a JSON dict, where applicable: \\\"player (full name)\\\", \\\"team\\\", \\\"sport\\\", and \\\"gender\\\".\"}, {\"role\": \"user\", \"content\": \"Raiders’ Derek Carr says he’s ‘good to go’ after ankle injury\"},{\"role\": \"assistant\", \"content\": \"{\\\"player\\\": \\\"Derek Carr\\\", \\\"team\\\": \\\"Raiders\\\", \\\"sport\\\": \\\"football\\\", \\\"gender\\\": \\\"male\\\" }\"}]}\n",
        "{\"messages\": [{\"role\": \"system\", \"content\": \"Given a sports headline, provide the following fields in a JSON dict, where applicable: \\\"player (full name)\\\", \\\"team\\\", \\\"sport\\\", and \\\"gender\\\".\"}, {\"role\": \"user\", \"content\": \"Bills’ Josh Allen says he’s ‘good to go’ after knee injury\"},{\"role\": \"assistant\", \"content\": \"{\\\"player\\\": \\\"Josh Allen\\\", \\\"team\\\": \\\"Bills\\\", \\\"sport\\\": \\\"football\\\", \\\"gender\\\": \\\"male\\\" }\"}]}\n",
        "{\"messages\": [{\"role\": \"system\", \"content\": \"Given a sports headline, provide the following fields in a JSON dict, where applicable: \\\"player (full name)\\\", \\\"team\\\", \\\"sport\\\", and \\\"gender\\\".\"}, {\"role\": \"user\", \"content\": \"Ravens’ Lamar Jackson says he’s ‘good to go’ after back injury\"},{\"role\": \"assistant\", \"content\": \"{\\\"player\\\": \\\"Lamar Jackson\\\", \\\"team\\\": \\\"Ravens\\\", \\\"sport\\\": \\\"football\\\", \\\"gender\\\": \\\"male\\\" }\"}]}\n",
        "{\"messages\": [{\"role\": \"system\", \"content\": \"Given a sports headline, provide the following fields in a JSON dict, where applicable: \\\"player (full name)\\\", \\\"team\\\", \\\"sport\\\", and \\\"gender\\\".\"}, {\"role\": \"user\", \"content\": \"Cristiano Ronaldo scores twice in Manchester United return\"},{\"role\": \"assistant\", \"content\": \"{\\\"player\\\": \\\"Cristiano Ronaldo\\\", \\\"team\\\": \\\"Manchester United\\\", \\\"sport\\\": \\\"soccer\\\", \\\"gender\\\": \\\"male\\\" }\"}]}\n",
        "{\"messages\": [{\"role\": \"system\", \"content\": \"Given a sports headline, provide the following fields in a JSON dict, where applicable: \\\"player (full name)\\\", \\\"team\\\", \\\"sport\\\", and \\\"gender\\\".\"}, {\"role\": \"user\", \"content\": \"Tottenham Hotspur sack manager Nuno Espirito Santo after 10 games in charge\"},{\"role\": \"assistant\", \"content\": \"{\\\"player\\\": null, \\\"team\\\": \\\"Tottenham Hotspur\\\", \\\"sport\\\": \\\"soccer\\\", \\\"gender\\\": null }\"}]}\n",
        "{\"messages\": [{\"role\": \"system\", \"content\": \"Given a sports headline, provide the following fields in a JSON dict, where applicable: \\\"player (full name)\\\", \\\"team\\\", \\\"sport\\\", and \\\"gender\\\".\"}, {\"role\": \"user\", \"content\": \"FIFA World Cup 2022: Qatar unveils third stadium ahead of tournament\"},{\"role\": \"assistant\", \"content\": \"{\\\"player\\\": null, \\\"team\\\": null, \\\"sport\\\": \\\"soccer\\\", \\\"gender\\\": null }\"}]}\n",
        "{\"messages\": [{\"role\": \"system\", \"content\": \"Given a sports headline, provide the following fields in a JSON dict, where applicable: \\\"player (full name)\\\", \\\"team\\\", \\\"sport\\\", and \\\"gender\\\".\"}, {\"role\": \"user\", \"content\": \"Serena Williams announces retirement from tennis at age 41\"},{\"role\": \"assistant\", \"content\": \"{\\\"player\\\": \\\"Serena Williams\\\", \\\"team\\\": null, \\\"sport\\\": \\\"tennis\\\", \\\"gender\\\": \\\"female\\\" }\"}]}"
      ],
      "metadata": {
        "id": "Sn_9IdNi9Nc_"
      },
      "execution_count": null,
      "outputs": []
    },
    {
      "cell_type": "markdown",
      "source": [
        "Upload JSONL file with training data"
      ],
      "metadata": {
        "id": "ZrWA-GRFPVxk"
      }
    },
    {
      "cell_type": "code",
      "source": [
        "# Upload your file:\n",
        "import os\n",
        "from google.colab import files\n",
        "\n",
        "\n",
        "print('Please upload your jsonl file')\n",
        "uploaded = files.upload()\n",
        "if uploaded:\n",
        "    jsconlFileTitle = list(uploaded.keys())[0]\n",
        "    file_path = os.path.join(os.getcwd(), jsconlFileTitle)\n",
        "else:\n",
        "    raise ValueError(\n",
        "        'Cannot proceed without jsonl file. Please re-run the cell.'\n",
        "    )"
      ],
      "metadata": {
        "colab": {
          "base_uri": "https://localhost:8080/",
          "height": 90
        },
        "id": "TFV9miNOPcAX",
        "outputId": "b2f8be38-33f6-4891-f5de-be866d5b8b91"
      },
      "execution_count": null,
      "outputs": [
        {
          "output_type": "stream",
          "name": "stdout",
          "text": [
            "Please upload your jsonl file\n"
          ]
        },
        {
          "output_type": "display_data",
          "data": {
            "text/plain": [
              "<IPython.core.display.HTML object>"
            ],
            "text/html": [
              "\n",
              "     <input type=\"file\" id=\"files-3d35d153-6b9f-4b19-b92d-9f6cc66959fc\" name=\"files[]\" multiple disabled\n",
              "        style=\"border:none\" />\n",
              "     <output id=\"result-3d35d153-6b9f-4b19-b92d-9f6cc66959fc\">\n",
              "      Upload widget is only available when the cell has been executed in the\n",
              "      current browser session. Please rerun this cell to enable.\n",
              "      </output>\n",
              "      <script>// Copyright 2017 Google LLC\n",
              "//\n",
              "// Licensed under the Apache License, Version 2.0 (the \"License\");\n",
              "// you may not use this file except in compliance with the License.\n",
              "// You may obtain a copy of the License at\n",
              "//\n",
              "//      http://www.apache.org/licenses/LICENSE-2.0\n",
              "//\n",
              "// Unless required by applicable law or agreed to in writing, software\n",
              "// distributed under the License is distributed on an \"AS IS\" BASIS,\n",
              "// WITHOUT WARRANTIES OR CONDITIONS OF ANY KIND, either express or implied.\n",
              "// See the License for the specific language governing permissions and\n",
              "// limitations under the License.\n",
              "\n",
              "/**\n",
              " * @fileoverview Helpers for google.colab Python module.\n",
              " */\n",
              "(function(scope) {\n",
              "function span(text, styleAttributes = {}) {\n",
              "  const element = document.createElement('span');\n",
              "  element.textContent = text;\n",
              "  for (const key of Object.keys(styleAttributes)) {\n",
              "    element.style[key] = styleAttributes[key];\n",
              "  }\n",
              "  return element;\n",
              "}\n",
              "\n",
              "// Max number of bytes which will be uploaded at a time.\n",
              "const MAX_PAYLOAD_SIZE = 100 * 1024;\n",
              "\n",
              "function _uploadFiles(inputId, outputId) {\n",
              "  const steps = uploadFilesStep(inputId, outputId);\n",
              "  const outputElement = document.getElementById(outputId);\n",
              "  // Cache steps on the outputElement to make it available for the next call\n",
              "  // to uploadFilesContinue from Python.\n",
              "  outputElement.steps = steps;\n",
              "\n",
              "  return _uploadFilesContinue(outputId);\n",
              "}\n",
              "\n",
              "// This is roughly an async generator (not supported in the browser yet),\n",
              "// where there are multiple asynchronous steps and the Python side is going\n",
              "// to poll for completion of each step.\n",
              "// This uses a Promise to block the python side on completion of each step,\n",
              "// then passes the result of the previous step as the input to the next step.\n",
              "function _uploadFilesContinue(outputId) {\n",
              "  const outputElement = document.getElementById(outputId);\n",
              "  const steps = outputElement.steps;\n",
              "\n",
              "  const next = steps.next(outputElement.lastPromiseValue);\n",
              "  return Promise.resolve(next.value.promise).then((value) => {\n",
              "    // Cache the last promise value to make it available to the next\n",
              "    // step of the generator.\n",
              "    outputElement.lastPromiseValue = value;\n",
              "    return next.value.response;\n",
              "  });\n",
              "}\n",
              "\n",
              "/**\n",
              " * Generator function which is called between each async step of the upload\n",
              " * process.\n",
              " * @param {string} inputId Element ID of the input file picker element.\n",
              " * @param {string} outputId Element ID of the output display.\n",
              " * @return {!Iterable<!Object>} Iterable of next steps.\n",
              " */\n",
              "function* uploadFilesStep(inputId, outputId) {\n",
              "  const inputElement = document.getElementById(inputId);\n",
              "  inputElement.disabled = false;\n",
              "\n",
              "  const outputElement = document.getElementById(outputId);\n",
              "  outputElement.innerHTML = '';\n",
              "\n",
              "  const pickedPromise = new Promise((resolve) => {\n",
              "    inputElement.addEventListener('change', (e) => {\n",
              "      resolve(e.target.files);\n",
              "    });\n",
              "  });\n",
              "\n",
              "  const cancel = document.createElement('button');\n",
              "  inputElement.parentElement.appendChild(cancel);\n",
              "  cancel.textContent = 'Cancel upload';\n",
              "  const cancelPromise = new Promise((resolve) => {\n",
              "    cancel.onclick = () => {\n",
              "      resolve(null);\n",
              "    };\n",
              "  });\n",
              "\n",
              "  // Wait for the user to pick the files.\n",
              "  const files = yield {\n",
              "    promise: Promise.race([pickedPromise, cancelPromise]),\n",
              "    response: {\n",
              "      action: 'starting',\n",
              "    }\n",
              "  };\n",
              "\n",
              "  cancel.remove();\n",
              "\n",
              "  // Disable the input element since further picks are not allowed.\n",
              "  inputElement.disabled = true;\n",
              "\n",
              "  if (!files) {\n",
              "    return {\n",
              "      response: {\n",
              "        action: 'complete',\n",
              "      }\n",
              "    };\n",
              "  }\n",
              "\n",
              "  for (const file of files) {\n",
              "    const li = document.createElement('li');\n",
              "    li.append(span(file.name, {fontWeight: 'bold'}));\n",
              "    li.append(span(\n",
              "        `(${file.type || 'n/a'}) - ${file.size} bytes, ` +\n",
              "        `last modified: ${\n",
              "            file.lastModifiedDate ? file.lastModifiedDate.toLocaleDateString() :\n",
              "                                    'n/a'} - `));\n",
              "    const percent = span('0% done');\n",
              "    li.appendChild(percent);\n",
              "\n",
              "    outputElement.appendChild(li);\n",
              "\n",
              "    const fileDataPromise = new Promise((resolve) => {\n",
              "      const reader = new FileReader();\n",
              "      reader.onload = (e) => {\n",
              "        resolve(e.target.result);\n",
              "      };\n",
              "      reader.readAsArrayBuffer(file);\n",
              "    });\n",
              "    // Wait for the data to be ready.\n",
              "    let fileData = yield {\n",
              "      promise: fileDataPromise,\n",
              "      response: {\n",
              "        action: 'continue',\n",
              "      }\n",
              "    };\n",
              "\n",
              "    // Use a chunked sending to avoid message size limits. See b/62115660.\n",
              "    let position = 0;\n",
              "    do {\n",
              "      const length = Math.min(fileData.byteLength - position, MAX_PAYLOAD_SIZE);\n",
              "      const chunk = new Uint8Array(fileData, position, length);\n",
              "      position += length;\n",
              "\n",
              "      const base64 = btoa(String.fromCharCode.apply(null, chunk));\n",
              "      yield {\n",
              "        response: {\n",
              "          action: 'append',\n",
              "          file: file.name,\n",
              "          data: base64,\n",
              "        },\n",
              "      };\n",
              "\n",
              "      let percentDone = fileData.byteLength === 0 ?\n",
              "          100 :\n",
              "          Math.round((position / fileData.byteLength) * 100);\n",
              "      percent.textContent = `${percentDone}% done`;\n",
              "\n",
              "    } while (position < fileData.byteLength);\n",
              "  }\n",
              "\n",
              "  // All done.\n",
              "  yield {\n",
              "    response: {\n",
              "      action: 'complete',\n",
              "    }\n",
              "  };\n",
              "}\n",
              "\n",
              "scope.google = scope.google || {};\n",
              "scope.google.colab = scope.google.colab || {};\n",
              "scope.google.colab._files = {\n",
              "  _uploadFiles,\n",
              "  _uploadFilesContinue,\n",
              "};\n",
              "})(self);\n",
              "</script> "
            ]
          },
          "metadata": {}
        },
        {
          "output_type": "stream",
          "name": "stdout",
          "text": [
            "Saving sports_headlines.jsonl to sports_headlines.jsonl\n"
          ]
        }
      ]
    },
    {
      "cell_type": "markdown",
      "source": [
        "Validate the JSONL file format"
      ],
      "metadata": {
        "id": "xy3NuT0VLbHK"
      }
    },
    {
      "cell_type": "code",
      "source": [
        "data_path = \"/content/sports_headlines.jsonl\"\n",
        "\n",
        "# Load the dataset\n",
        "with open(data_path, 'r', encoding='utf-8') as f:\n",
        "    dataset = [json.loads(line) for line in f]\n",
        "\n",
        "# Initial dataset stats\n",
        "print(\"Num examples:\", len(dataset))\n",
        "print(\"First example:\")\n",
        "for message in dataset[0][\"messages\"]:\n",
        "    print(message)"
      ],
      "metadata": {
        "colab": {
          "base_uri": "https://localhost:8080/"
        },
        "id": "HHN6lF6vLY2H",
        "outputId": "2fa24aa2-44c4-4079-c265-7ec9a2570ef5"
      },
      "execution_count": null,
      "outputs": [
        {
          "output_type": "stream",
          "name": "stdout",
          "text": [
            "Num examples: 14\n",
            "First example:\n",
            "{'role': 'system', 'content': 'Given a sports headline, provide the following fields in a JSON dict, where applicable: \"player (full name)\", \"team\", \"sport\", and \"gender\".'}\n",
            "{'role': 'user', 'content': 'Sources: Colts grant RB Taylor OK to seek trade'}\n",
            "{'role': 'assistant', 'content': '{\"player\": \"Jonathan Taylor\", \"team\": \"Colts\", \"sport\": \"football\", \"gender\": \"male\"}'}\n"
          ]
        }
      ]
    },
    {
      "cell_type": "code",
      "source": [
        "# Format error checks\n",
        "format_errors = defaultdict(int)\n",
        "\n",
        "for ex in dataset:\n",
        "    if not isinstance(ex, dict):\n",
        "        format_errors[\"data_type\"] += 1\n",
        "        continue\n",
        "\n",
        "    messages = ex.get(\"messages\", None)\n",
        "    if not messages:\n",
        "        format_errors[\"missing_messages_list\"] += 1\n",
        "        continue\n",
        "\n",
        "    for message in messages:\n",
        "        if \"role\" not in message or \"content\" not in message:\n",
        "            format_errors[\"message_missing_key\"] += 1\n",
        "\n",
        "        if any(k not in (\"role\", \"content\", \"name\") for k in message):\n",
        "            format_errors[\"message_unrecognized_key\"] += 1\n",
        "\n",
        "        if message.get(\"role\", None) not in (\"system\", \"user\", \"assistant\"):\n",
        "            format_errors[\"unrecognized_role\"] += 1\n",
        "\n",
        "        content = message.get(\"content\", None)\n",
        "        if not content or not isinstance(content, str):\n",
        "            format_errors[\"missing_content\"] += 1\n",
        "\n",
        "    if not any(message.get(\"role\", None) == \"assistant\" for message in messages):\n",
        "        format_errors[\"example_missing_assistant_message\"] += 1\n",
        "\n",
        "if format_errors:\n",
        "    print(\"Found errors:\")\n",
        "    for k, v in format_errors.items():\n",
        "        print(f\"{k}: {v}\")\n",
        "else:\n",
        "    print(\"No errors found\")"
      ],
      "metadata": {
        "colab": {
          "base_uri": "https://localhost:8080/"
        },
        "id": "A1GqWtPLL2-1",
        "outputId": "d491fee6-65a8-478c-aec5-2a6a228bd132"
      },
      "execution_count": null,
      "outputs": [
        {
          "output_type": "stream",
          "name": "stdout",
          "text": [
            "No errors found\n"
          ]
        }
      ]
    },
    {
      "cell_type": "markdown",
      "source": [
        "# **Create a fine-tuned model**"
      ],
      "metadata": {
        "id": "pWOqmifeGsoM"
      }
    },
    {
      "cell_type": "code",
      "source": [
        "# Input your OpenAI api key\n",
        "openai_api_key = getpass('Enter your OpenAI API key: ')\n",
        "openai.api_key = openai_api_key\n",
        "\n",
        "openai.File.create(\n",
        "  file=open(\"/content/sports_headlines.jsonl\", \"rb\"), purpose='fine-tune')"
      ],
      "metadata": {
        "colab": {
          "base_uri": "https://localhost:8080/"
        },
        "id": "l_ejb_L6G5Rv",
        "outputId": "2d1c0284-ebb8-45cd-faa6-fddb10bca40c"
      },
      "execution_count": null,
      "outputs": [
        {
          "name": "stdout",
          "output_type": "stream",
          "text": [
            "Enter your OpenAI API key: ··········\n"
          ]
        },
        {
          "output_type": "execute_result",
          "data": {
            "text/plain": [
              "<File file id=file-KHnwFKbtjAPNYoimhKdMp94k at 0x782748b7b380> JSON: {\n",
              "  \"object\": \"file\",\n",
              "  \"id\": \"file-KHnwFKbtjAPNYoimhKdMp94k\",\n",
              "  \"purpose\": \"fine-tune\",\n",
              "  \"filename\": \"file\",\n",
              "  \"bytes\": 6070,\n",
              "  \"created_at\": 1694732431,\n",
              "  \"status\": \"uploaded\",\n",
              "  \"status_details\": null\n",
              "}"
            ]
          },
          "metadata": {},
          "execution_count": 8
        }
      ]
    },
    {
      "cell_type": "code",
      "source": [
        "#input training file id from results above\n",
        "trainfile=\"file-KHnwFKbtjAPNYoimhKdMp94k\"\n",
        "\n",
        "openai.FineTuningJob.create(training_file=trainfile, model=\"gpt-3.5-turbo\")"
      ],
      "metadata": {
        "colab": {
          "base_uri": "https://localhost:8080/"
        },
        "id": "8ZXBA1RJJW-Z",
        "outputId": "40b62d2c-e664-46bd-90d9-7703ce461cb6"
      },
      "execution_count": null,
      "outputs": [
        {
          "output_type": "execute_result",
          "data": {
            "text/plain": [
              "<FineTuningJob fine_tuning.job id=ftjob-hbqIjeAEELoNjhyrQgpjqT4B at 0x7827489dbf10> JSON: {\n",
              "  \"object\": \"fine_tuning.job\",\n",
              "  \"id\": \"ftjob-hbqIjeAEELoNjhyrQgpjqT4B\",\n",
              "  \"model\": \"gpt-3.5-turbo-0613\",\n",
              "  \"created_at\": 1694732495,\n",
              "  \"finished_at\": null,\n",
              "  \"fine_tuned_model\": null,\n",
              "  \"organization_id\": \"org-F4h2es2w8aht7A96qbYARSvE\",\n",
              "  \"result_files\": [],\n",
              "  \"status\": \"created\",\n",
              "  \"validation_file\": null,\n",
              "  \"training_file\": \"file-KHnwFKbtjAPNYoimhKdMp94k\",\n",
              "  \"hyperparameters\": {\n",
              "    \"n_epochs\": 7\n",
              "  },\n",
              "  \"trained_tokens\": null,\n",
              "  \"error\": null\n",
              "}"
            ]
          },
          "metadata": {},
          "execution_count": 9
        }
      ]
    },
    {
      "cell_type": "markdown",
      "source": [
        "List existing jobs, retrieve status or cancel"
      ],
      "metadata": {
        "id": "EoMcK0jIOlJj"
      }
    },
    {
      "cell_type": "code",
      "source": [
        "openai.FineTuningJob.list(limit=10)"
      ],
      "metadata": {
        "colab": {
          "base_uri": "https://localhost:8080/"
        },
        "id": "W_WiuzTeOuCq",
        "outputId": "311daa1c-4ddc-403c-bb63-c2da01389e7e"
      },
      "execution_count": null,
      "outputs": [
        {
          "output_type": "execute_result",
          "data": {
            "text/plain": [
              "<OpenAIObject list at 0x782784204400> JSON: {\n",
              "  \"object\": \"list\",\n",
              "  \"data\": [\n",
              "    {\n",
              "      \"object\": \"fine_tuning.job\",\n",
              "      \"id\": \"ftjob-hbqIjeAEELoNjhyrQgpjqT4B\",\n",
              "      \"model\": \"gpt-3.5-turbo-0613\",\n",
              "      \"created_at\": 1694732495,\n",
              "      \"finished_at\": null,\n",
              "      \"fine_tuned_model\": null,\n",
              "      \"organization_id\": \"org-F4h2es2w8aht7A96qbYARSvE\",\n",
              "      \"result_files\": [],\n",
              "      \"status\": \"running\",\n",
              "      \"validation_file\": null,\n",
              "      \"training_file\": \"file-KHnwFKbtjAPNYoimhKdMp94k\",\n",
              "      \"hyperparameters\": {\n",
              "        \"n_epochs\": 7\n",
              "      },\n",
              "      \"trained_tokens\": null,\n",
              "      \"error\": null\n",
              "    }\n",
              "  ],\n",
              "  \"has_more\": false\n",
              "}"
            ]
          },
          "metadata": {},
          "execution_count": 10
        }
      ]
    },
    {
      "cell_type": "code",
      "source": [
        "# input jobs id from output above\n",
        "jobid=\"ftjob-hbqIjeAEELoNjhyrQgpjqT4B\"\n",
        "response = openai.FineTuningJob.list_events(id=jobid, limit=50)\n",
        "\n",
        "events = response[\"data\"]\n",
        "events.reverse()\n",
        "\n",
        "for event in events:\n",
        "  print(event[\"message\"])"
      ],
      "metadata": {
        "colab": {
          "base_uri": "https://localhost:8080/"
        },
        "id": "rLdYU1BqQhYf",
        "outputId": "ef05a8ef-1d77-462d-fb2d-b848806c2cad"
      },
      "execution_count": null,
      "outputs": [
        {
          "output_type": "stream",
          "name": "stdout",
          "text": [
            "Step 51/98: training loss=0.00\n",
            "Step 52/98: training loss=0.00\n",
            "Step 53/98: training loss=0.00\n",
            "Step 54/98: training loss=0.00\n",
            "Step 55/98: training loss=0.00\n",
            "Step 56/98: training loss=0.00\n",
            "Step 57/98: training loss=0.00\n",
            "Step 58/98: training loss=0.00\n",
            "Step 59/98: training loss=0.59\n",
            "Step 60/98: training loss=0.00\n",
            "Step 61/98: training loss=0.00\n",
            "Step 62/98: training loss=0.00\n",
            "Step 63/98: training loss=0.00\n",
            "Step 64/98: training loss=0.00\n",
            "Step 65/98: training loss=0.00\n",
            "Step 66/98: training loss=0.00\n",
            "Step 67/98: training loss=0.00\n",
            "Step 68/98: training loss=0.00\n",
            "Step 69/98: training loss=0.00\n",
            "Step 70/98: training loss=0.00\n",
            "Step 71/98: training loss=0.00\n",
            "Step 72/98: training loss=0.00\n",
            "Step 73/98: training loss=0.57\n",
            "Step 74/98: training loss=0.00\n",
            "Step 75/98: training loss=0.00\n",
            "Step 76/98: training loss=0.00\n",
            "Step 77/98: training loss=0.00\n",
            "Step 78/98: training loss=0.00\n",
            "Step 79/98: training loss=0.00\n",
            "Step 80/98: training loss=0.00\n",
            "Step 81/98: training loss=0.00\n",
            "Step 82/98: training loss=0.00\n",
            "Step 83/98: training loss=0.00\n",
            "Step 84/98: training loss=0.00\n",
            "Step 85/98: training loss=0.00\n",
            "Step 86/98: training loss=0.00\n",
            "Step 87/98: training loss=0.00\n",
            "Step 88/98: training loss=0.00\n",
            "Step 89/98: training loss=0.00\n",
            "Step 90/98: training loss=0.00\n",
            "Step 91/98: training loss=0.00\n",
            "Step 92/98: training loss=0.00\n",
            "Step 93/98: training loss=0.00\n",
            "Step 94/98: training loss=0.00\n",
            "Step 95/98: training loss=0.55\n",
            "Step 96/98: training loss=0.00\n",
            "Step 97/98: training loss=0.00\n",
            "Step 98/98: training loss=0.00\n",
            "New fine-tuned model created: ft:gpt-3.5-turbo-0613:personal::7yph8HKf\n",
            "The job has successfully completed\n"
          ]
        }
      ]
    },
    {
      "cell_type": "markdown",
      "source": [
        "# **Use the fine-tuned model**"
      ],
      "metadata": {
        "id": "QaGlU2RCRL_D"
      }
    },
    {
      "cell_type": "markdown",
      "source": [
        "compare output form between custom model and default model..."
      ],
      "metadata": {
        "id": "3SduVxr3RanI"
      }
    },
    {
      "cell_type": "code",
      "source": [
        "# enter the model from the output above\n",
        "tuned_model=\"ft:gpt-3.5-turbo-0613:personal::7yph8HKf\"\n",
        "\n",
        "demo_messages=[\n",
        "    {\"role\": \"system\", \"content\": \"Given a sports headline, provide the following fields in a JSON dict, where applicable: player (full name), team, sport, and gender\"},\n",
        "    {\"role\": \"user\", \"content\": \"Cowboys' Cooks Reveals Injury Update\"}\n",
        "   ]\n",
        "\n",
        "completion = openai.ChatCompletion.create(\n",
        "  model=tuned_model,\n",
        "  messages=demo_messages\n",
        ")\n",
        "\n",
        "print(completion.choices[0].message)"
      ],
      "metadata": {
        "colab": {
          "base_uri": "https://localhost:8080/"
        },
        "id": "fhZ1E76dRgOG",
        "outputId": "e52e7f62-e516-4d12-dcab-11d876cecaf3"
      },
      "execution_count": null,
      "outputs": [
        {
          "output_type": "stream",
          "name": "stdout",
          "text": [
            "{\n",
            "  \"role\": \"assistant\",\n",
            "  \"content\": \"{\\\"player\\\": \\\"Brandin Cooks\\\", \\\"team\\\": \\\"Cowboys\\\", \\\"sport\\\": \\\"football\\\", \\\"gender\\\": \\\"male\\\" }\"\n",
            "}\n"
          ]
        }
      ]
    },
    {
      "cell_type": "code",
      "source": [
        "# default chatgpt\n",
        "\n",
        "completion = openai.ChatCompletion.create(\n",
        "  model=\"gpt-3.5-turbo\",\n",
        "  messages=demo_messages\n",
        ")\n",
        "\n",
        "print(completion.choices[0].message)"
      ],
      "metadata": {
        "colab": {
          "base_uri": "https://localhost:8080/"
        },
        "id": "f48XTnO1DSgq",
        "outputId": "44b1b4a5-062b-4c85-d0b4-fc65b50fa6b1"
      },
      "execution_count": null,
      "outputs": [
        {
          "output_type": "stream",
          "name": "stdout",
          "text": [
            "{\n",
            "  \"role\": \"assistant\",\n",
            "  \"content\": \"{\\n  \\\"player\\\": \\\"Cooks\\\",\\n  \\\"team\\\": \\\"Cowboys\\\",\\n  \\\"sport\\\": \\\"Football\\\",\\n  \\\"gender\\\": \\\"\\\"\\n}\"\n",
            "}\n"
          ]
        }
      ]
    }
  ]
}