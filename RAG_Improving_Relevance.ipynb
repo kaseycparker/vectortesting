{
  "cells": [
    {
      "cell_type": "markdown",
      "metadata": {
        "id": "G7k44CpJhHV2"
      },
      "source": [
        "<a href=\"https://colab.research.google.com/github/awesome-astra/docs/blob/main/docs/pages/tools/notebooks/Retrieval_Augmented_Generation_(for_AI_Chatbots).ipynb\" target=\"_parent\"><img src=\"https://colab.research.google.com/assets/colab-badge.svg\" alt=\"Open In Colab\"/></a>"
      ]
    },
    {
      "cell_type": "markdown",
      "source": [
        "# **Demonstration on Relevance with RAG**\n",
        "Show RAG examples using different similarity distance calculations available in Astra and how search results can be different depending on the question asked."
      ],
      "metadata": {
        "id": "sTA-vIhE0A0L"
      }
    },
    {
      "cell_type": "markdown",
      "metadata": {
        "id": "N-am0WPgOf93"
      },
      "source": [
        "## **Getting Started with this notebook**\n",
        "\n",
        "[Create a serverless database with Astra Vector Search and set up its schema.](https://docs.datastax.com/en/astra-serverless/docs/vector-search/chatbot-quickstart.html)\n"
      ]
    },
    {
      "cell_type": "markdown",
      "metadata": {
        "id": "Vn65Hjm7OqlJ"
      },
      "source": [
        "## **Install libraries**"
      ]
    },
    {
      "cell_type": "code",
      "execution_count": null,
      "metadata": {
        "id": "YE91v1D3OzUQ",
        "colab": {
          "base_uri": "https://localhost:8080/"
        },
        "outputId": "33c9d27c-dbc8-44b5-fb92-6b03cad0dd39"
      },
      "outputs": [
        {
          "output_type": "stream",
          "name": "stdout",
          "text": [
            "Collecting openai\n",
            "  Downloading openai-0.27.10-py3-none-any.whl (76 kB)\n",
            "\u001b[?25l     \u001b[90m━━━━━━━━━━━━━━━━━━━━━━━━━━━━━━━━━━━━━━━━\u001b[0m \u001b[32m0.0/76.5 kB\u001b[0m \u001b[31m?\u001b[0m eta \u001b[36m-:--:--\u001b[0m\r\u001b[2K     \u001b[90m━━━━━━━━━━━━━━━━━━━━━━━━━━━━━━━━━━━━━━━━\u001b[0m \u001b[32m76.5/76.5 kB\u001b[0m \u001b[31m2.7 MB/s\u001b[0m eta \u001b[36m0:00:00\u001b[0m\n",
            "\u001b[?25hRequirement already satisfied: pandas in /usr/local/lib/python3.10/dist-packages (1.5.3)\n",
            "Collecting jupyter-datatables\n",
            "  Downloading jupyter_datatables-0.3.9-py2.py3-none-any.whl (21 kB)\n",
            "Collecting cassandra-driver\n",
            "  Downloading cassandra_driver-3.28.0-cp310-cp310-manylinux_2_17_x86_64.manylinux2014_x86_64.whl (19.1 MB)\n",
            "\u001b[2K     \u001b[90m━━━━━━━━━━━━━━━━━━━━━━━━━━━━━━━━━━━━━━━\u001b[0m \u001b[32m19.1/19.1 MB\u001b[0m \u001b[31m103.4 MB/s\u001b[0m eta \u001b[36m0:00:00\u001b[0m\n",
            "\u001b[?25hCollecting datasets\n",
            "  Downloading datasets-2.14.4-py3-none-any.whl (519 kB)\n",
            "\u001b[2K     \u001b[90m━━━━━━━━━━━━━━━━━━━━━━━━━━━━━━━━━━━━━━\u001b[0m \u001b[32m519.3/519.3 kB\u001b[0m \u001b[31m56.2 MB/s\u001b[0m eta \u001b[36m0:00:00\u001b[0m\n",
            "\u001b[?25hRequirement already satisfied: requests>=2.20 in /usr/local/lib/python3.10/dist-packages (from openai) (2.31.0)\n",
            "Requirement already satisfied: tqdm in /usr/local/lib/python3.10/dist-packages (from openai) (4.66.1)\n",
            "Requirement already satisfied: aiohttp in /usr/local/lib/python3.10/dist-packages (from openai) (3.8.5)\n",
            "Requirement already satisfied: python-dateutil>=2.8.1 in /usr/local/lib/python3.10/dist-packages (from pandas) (2.8.2)\n",
            "Requirement already satisfied: pytz>=2020.1 in /usr/local/lib/python3.10/dist-packages (from pandas) (2023.3)\n",
            "Requirement already satisfied: numpy>=1.21.0 in /usr/local/lib/python3.10/dist-packages (from pandas) (1.23.5)\n",
            "Requirement already satisfied: ipython in /usr/local/lib/python3.10/dist-packages (from jupyter-datatables) (7.34.0)\n",
            "Requirement already satisfied: ipykernel in /usr/local/lib/python3.10/dist-packages (from jupyter-datatables) (5.5.6)\n",
            "Requirement already satisfied: scipy in /usr/local/lib/python3.10/dist-packages (from jupyter-datatables) (1.10.1)\n",
            "Collecting jupyter-require>=0.3.0 (from jupyter-datatables)\n",
            "  Downloading jupyter_require-0.6.1-py2.py3-none-any.whl (42 kB)\n",
            "\u001b[2K     \u001b[90m━━━━━━━━━━━━━━━━━━━━━━━━━━━━━━━━━━━━━━━━\u001b[0m \u001b[32m42.3/42.3 kB\u001b[0m \u001b[31m5.9 MB/s\u001b[0m eta \u001b[36m0:00:00\u001b[0m\n",
            "\u001b[?25hRequirement already satisfied: six>=1.9 in /usr/local/lib/python3.10/dist-packages (from cassandra-driver) (1.16.0)\n",
            "Collecting geomet<0.3,>=0.1 (from cassandra-driver)\n",
            "  Downloading geomet-0.2.1.post1-py3-none-any.whl (18 kB)\n",
            "Requirement already satisfied: pyarrow>=8.0.0 in /usr/local/lib/python3.10/dist-packages (from datasets) (9.0.0)\n",
            "Collecting dill<0.3.8,>=0.3.0 (from datasets)\n",
            "  Downloading dill-0.3.7-py3-none-any.whl (115 kB)\n",
            "\u001b[2K     \u001b[90m━━━━━━━━━━━━━━━━━━━━━━━━━━━━━━━━━━━━━━\u001b[0m \u001b[32m115.3/115.3 kB\u001b[0m \u001b[31m17.5 MB/s\u001b[0m eta \u001b[36m0:00:00\u001b[0m\n",
            "\u001b[?25hCollecting xxhash (from datasets)\n",
            "  Downloading xxhash-3.3.0-cp310-cp310-manylinux_2_17_x86_64.manylinux2014_x86_64.whl (194 kB)\n",
            "\u001b[2K     \u001b[90m━━━━━━━━━━━━━━━━━━━━━━━━━━━━━━━━━━━━━━\u001b[0m \u001b[32m194.1/194.1 kB\u001b[0m \u001b[31m26.2 MB/s\u001b[0m eta \u001b[36m0:00:00\u001b[0m\n",
            "\u001b[?25hCollecting multiprocess (from datasets)\n",
            "  Downloading multiprocess-0.70.15-py310-none-any.whl (134 kB)\n",
            "\u001b[2K     \u001b[90m━━━━━━━━━━━━━━━━━━━━━━━━━━━━━━━━━━━━━━\u001b[0m \u001b[32m134.8/134.8 kB\u001b[0m \u001b[31m19.5 MB/s\u001b[0m eta \u001b[36m0:00:00\u001b[0m\n",
            "\u001b[?25hRequirement already satisfied: fsspec[http]>=2021.11.1 in /usr/local/lib/python3.10/dist-packages (from datasets) (2023.6.0)\n",
            "Collecting huggingface-hub<1.0.0,>=0.14.0 (from datasets)\n",
            "  Downloading huggingface_hub-0.16.4-py3-none-any.whl (268 kB)\n",
            "\u001b[2K     \u001b[90m━━━━━━━━━━━━━━━━━━━━━━━━━━━━━━━━━━━━━━\u001b[0m \u001b[32m268.8/268.8 kB\u001b[0m \u001b[31m35.9 MB/s\u001b[0m eta \u001b[36m0:00:00\u001b[0m\n",
            "\u001b[?25hRequirement already satisfied: packaging in /usr/local/lib/python3.10/dist-packages (from datasets) (23.1)\n",
            "Requirement already satisfied: pyyaml>=5.1 in /usr/local/lib/python3.10/dist-packages (from datasets) (6.0.1)\n",
            "Requirement already satisfied: attrs>=17.3.0 in /usr/local/lib/python3.10/dist-packages (from aiohttp->openai) (23.1.0)\n",
            "Requirement already satisfied: charset-normalizer<4.0,>=2.0 in /usr/local/lib/python3.10/dist-packages (from aiohttp->openai) (3.2.0)\n",
            "Requirement already satisfied: multidict<7.0,>=4.5 in /usr/local/lib/python3.10/dist-packages (from aiohttp->openai) (6.0.4)\n",
            "Requirement already satisfied: async-timeout<5.0,>=4.0.0a3 in /usr/local/lib/python3.10/dist-packages (from aiohttp->openai) (4.0.3)\n",
            "Requirement already satisfied: yarl<2.0,>=1.0 in /usr/local/lib/python3.10/dist-packages (from aiohttp->openai) (1.9.2)\n",
            "Requirement already satisfied: frozenlist>=1.1.1 in /usr/local/lib/python3.10/dist-packages (from aiohttp->openai) (1.4.0)\n",
            "Requirement already satisfied: aiosignal>=1.1.2 in /usr/local/lib/python3.10/dist-packages (from aiohttp->openai) (1.3.1)\n",
            "Requirement already satisfied: click in /usr/local/lib/python3.10/dist-packages (from geomet<0.3,>=0.1->cassandra-driver) (8.1.7)\n",
            "Requirement already satisfied: filelock in /usr/local/lib/python3.10/dist-packages (from huggingface-hub<1.0.0,>=0.14.0->datasets) (3.12.2)\n",
            "Requirement already satisfied: typing-extensions>=3.7.4.3 in /usr/local/lib/python3.10/dist-packages (from huggingface-hub<1.0.0,>=0.14.0->datasets) (4.7.1)\n",
            "Collecting csscompressor (from jupyter-require>=0.3.0->jupyter-datatables)\n",
            "  Downloading csscompressor-0.9.5.tar.gz (237 kB)\n",
            "\u001b[2K     \u001b[90m━━━━━━━━━━━━━━━━━━━━━━━━━━━━━━━━━━━━━━\u001b[0m \u001b[32m237.8/237.8 kB\u001b[0m \u001b[31m32.2 MB/s\u001b[0m eta \u001b[36m0:00:00\u001b[0m\n",
            "\u001b[?25h  Preparing metadata (setup.py) ... \u001b[?25l\u001b[?25hdone\n",
            "Collecting daiquiri (from jupyter-require>=0.3.0->jupyter-datatables)\n",
            "  Downloading daiquiri-3.2.1-py3-none-any.whl (19 kB)\n",
            "Collecting jupyter-nbutils (from jupyter-require>=0.3.0->jupyter-datatables)\n",
            "  Downloading jupyter_nbutils-0.1.3-py3-none-any.whl (7.7 kB)\n",
            "Collecting jupyter-contrib-nbextensions (from jupyter-require>=0.3.0->jupyter-datatables)\n",
            "  Downloading jupyter_contrib_nbextensions-0.7.0.tar.gz (23.5 MB)\n",
            "\u001b[2K     \u001b[90m━━━━━━━━━━━━━━━━━━━━━━━━━━━━━━━━━━━━━━━━\u001b[0m \u001b[32m23.5/23.5 MB\u001b[0m \u001b[31m96.1 MB/s\u001b[0m eta \u001b[36m0:00:00\u001b[0m\n",
            "\u001b[?25h  Preparing metadata (setup.py) ... \u001b[?25l\u001b[?25hdone\n",
            "Requirement already satisfied: idna<4,>=2.5 in /usr/local/lib/python3.10/dist-packages (from requests>=2.20->openai) (3.4)\n",
            "Requirement already satisfied: urllib3<3,>=1.21.1 in /usr/local/lib/python3.10/dist-packages (from requests>=2.20->openai) (2.0.4)\n",
            "Requirement already satisfied: certifi>=2017.4.17 in /usr/local/lib/python3.10/dist-packages (from requests>=2.20->openai) (2023.7.22)\n",
            "Requirement already satisfied: ipython-genutils in /usr/local/lib/python3.10/dist-packages (from ipykernel->jupyter-datatables) (0.2.0)\n",
            "Requirement already satisfied: traitlets>=4.1.0 in /usr/local/lib/python3.10/dist-packages (from ipykernel->jupyter-datatables) (5.7.1)\n",
            "Requirement already satisfied: jupyter-client in /usr/local/lib/python3.10/dist-packages (from ipykernel->jupyter-datatables) (6.1.12)\n",
            "Requirement already satisfied: tornado>=4.2 in /usr/local/lib/python3.10/dist-packages (from ipykernel->jupyter-datatables) (6.3.2)\n",
            "Requirement already satisfied: setuptools>=18.5 in /usr/local/lib/python3.10/dist-packages (from ipython->jupyter-datatables) (67.7.2)\n",
            "Collecting jedi>=0.16 (from ipython->jupyter-datatables)\n",
            "  Downloading jedi-0.19.0-py2.py3-none-any.whl (1.6 MB)\n",
            "\u001b[2K     \u001b[90m━━━━━━━━━━━━━━━━━━━━━━━━━━━━━━━━━━━━━━━━\u001b[0m \u001b[32m1.6/1.6 MB\u001b[0m \u001b[31m73.6 MB/s\u001b[0m eta \u001b[36m0:00:00\u001b[0m\n",
            "\u001b[?25hRequirement already satisfied: decorator in /usr/local/lib/python3.10/dist-packages (from ipython->jupyter-datatables) (4.4.2)\n",
            "Requirement already satisfied: pickleshare in /usr/local/lib/python3.10/dist-packages (from ipython->jupyter-datatables) (0.7.5)\n",
            "Requirement already satisfied: prompt-toolkit!=3.0.0,!=3.0.1,<3.1.0,>=2.0.0 in /usr/local/lib/python3.10/dist-packages (from ipython->jupyter-datatables) (3.0.39)\n",
            "Requirement already satisfied: pygments in /usr/local/lib/python3.10/dist-packages (from ipython->jupyter-datatables) (2.16.1)\n",
            "Requirement already satisfied: backcall in /usr/local/lib/python3.10/dist-packages (from ipython->jupyter-datatables) (0.2.0)\n",
            "Requirement already satisfied: matplotlib-inline in /usr/local/lib/python3.10/dist-packages (from ipython->jupyter-datatables) (0.1.6)\n",
            "Requirement already satisfied: pexpect>4.3 in /usr/local/lib/python3.10/dist-packages (from ipython->jupyter-datatables) (4.8.0)\n",
            "Requirement already satisfied: parso<0.9.0,>=0.8.3 in /usr/local/lib/python3.10/dist-packages (from jedi>=0.16->ipython->jupyter-datatables) (0.8.3)\n",
            "Requirement already satisfied: ptyprocess>=0.5 in /usr/local/lib/python3.10/dist-packages (from pexpect>4.3->ipython->jupyter-datatables) (0.7.0)\n",
            "Requirement already satisfied: wcwidth in /usr/local/lib/python3.10/dist-packages (from prompt-toolkit!=3.0.0,!=3.0.1,<3.1.0,>=2.0.0->ipython->jupyter-datatables) (0.2.6)\n",
            "Collecting python-json-logger (from daiquiri->jupyter-require>=0.3.0->jupyter-datatables)\n",
            "  Downloading python_json_logger-2.0.7-py3-none-any.whl (8.1 kB)\n",
            "Requirement already satisfied: jupyter-core>=4.6.0 in /usr/local/lib/python3.10/dist-packages (from jupyter-client->ipykernel->jupyter-datatables) (5.3.1)\n",
            "Requirement already satisfied: pyzmq>=13 in /usr/local/lib/python3.10/dist-packages (from jupyter-client->ipykernel->jupyter-datatables) (23.2.1)\n",
            "Collecting jupyter_contrib_core>=0.3.3 (from jupyter-contrib-nbextensions->jupyter-require>=0.3.0->jupyter-datatables)\n",
            "  Downloading jupyter_contrib_core-0.4.2.tar.gz (17 kB)\n",
            "  Preparing metadata (setup.py) ... \u001b[?25l\u001b[?25hdone\n",
            "Collecting jupyter_highlight_selected_word>=0.1.1 (from jupyter-contrib-nbextensions->jupyter-require>=0.3.0->jupyter-datatables)\n",
            "  Downloading jupyter_highlight_selected_word-0.2.0-py2.py3-none-any.whl (11 kB)\n",
            "Collecting jupyter_nbextensions_configurator>=0.4.0 (from jupyter-contrib-nbextensions->jupyter-require>=0.3.0->jupyter-datatables)\n",
            "  Downloading jupyter_nbextensions_configurator-0.6.3-py2.py3-none-any.whl (466 kB)\n",
            "\u001b[2K     \u001b[90m━━━━━━━━━━━━━━━━━━━━━━━━━━━━━━━━━━━━━━\u001b[0m \u001b[32m466.9/466.9 kB\u001b[0m \u001b[31m47.4 MB/s\u001b[0m eta \u001b[36m0:00:00\u001b[0m\n",
            "\u001b[?25hRequirement already satisfied: nbconvert>=6.0 in /usr/local/lib/python3.10/dist-packages (from jupyter-contrib-nbextensions->jupyter-require>=0.3.0->jupyter-datatables) (6.5.4)\n",
            "Requirement already satisfied: notebook>=6.0 in /usr/local/lib/python3.10/dist-packages (from jupyter-contrib-nbextensions->jupyter-require>=0.3.0->jupyter-datatables) (6.5.5)\n",
            "Requirement already satisfied: lxml in /usr/local/lib/python3.10/dist-packages (from jupyter-contrib-nbextensions->jupyter-require>=0.3.0->jupyter-datatables) (4.9.3)\n",
            "Requirement already satisfied: platformdirs>=2.5 in /usr/local/lib/python3.10/dist-packages (from jupyter-core>=4.6.0->jupyter-client->ipykernel->jupyter-datatables) (3.10.0)\n",
            "Requirement already satisfied: beautifulsoup4 in /usr/local/lib/python3.10/dist-packages (from nbconvert>=6.0->jupyter-contrib-nbextensions->jupyter-require>=0.3.0->jupyter-datatables) (4.11.2)\n",
            "Requirement already satisfied: bleach in /usr/local/lib/python3.10/dist-packages (from nbconvert>=6.0->jupyter-contrib-nbextensions->jupyter-require>=0.3.0->jupyter-datatables) (6.0.0)\n",
            "Requirement already satisfied: defusedxml in /usr/local/lib/python3.10/dist-packages (from nbconvert>=6.0->jupyter-contrib-nbextensions->jupyter-require>=0.3.0->jupyter-datatables) (0.7.1)\n",
            "Requirement already satisfied: entrypoints>=0.2.2 in /usr/local/lib/python3.10/dist-packages (from nbconvert>=6.0->jupyter-contrib-nbextensions->jupyter-require>=0.3.0->jupyter-datatables) (0.4)\n",
            "Requirement already satisfied: jinja2>=3.0 in /usr/local/lib/python3.10/dist-packages (from nbconvert>=6.0->jupyter-contrib-nbextensions->jupyter-require>=0.3.0->jupyter-datatables) (3.1.2)\n",
            "Requirement already satisfied: jupyterlab-pygments in /usr/local/lib/python3.10/dist-packages (from nbconvert>=6.0->jupyter-contrib-nbextensions->jupyter-require>=0.3.0->jupyter-datatables) (0.2.2)\n",
            "Requirement already satisfied: MarkupSafe>=2.0 in /usr/local/lib/python3.10/dist-packages (from nbconvert>=6.0->jupyter-contrib-nbextensions->jupyter-require>=0.3.0->jupyter-datatables) (2.1.3)\n",
            "Requirement already satisfied: mistune<2,>=0.8.1 in /usr/local/lib/python3.10/dist-packages (from nbconvert>=6.0->jupyter-contrib-nbextensions->jupyter-require>=0.3.0->jupyter-datatables) (0.8.4)\n",
            "Requirement already satisfied: nbclient>=0.5.0 in /usr/local/lib/python3.10/dist-packages (from nbconvert>=6.0->jupyter-contrib-nbextensions->jupyter-require>=0.3.0->jupyter-datatables) (0.8.0)\n",
            "Requirement already satisfied: nbformat>=5.1 in /usr/local/lib/python3.10/dist-packages (from nbconvert>=6.0->jupyter-contrib-nbextensions->jupyter-require>=0.3.0->jupyter-datatables) (5.9.2)\n",
            "Requirement already satisfied: pandocfilters>=1.4.1 in /usr/local/lib/python3.10/dist-packages (from nbconvert>=6.0->jupyter-contrib-nbextensions->jupyter-require>=0.3.0->jupyter-datatables) (1.5.0)\n",
            "Requirement already satisfied: tinycss2 in /usr/local/lib/python3.10/dist-packages (from nbconvert>=6.0->jupyter-contrib-nbextensions->jupyter-require>=0.3.0->jupyter-datatables) (1.2.1)\n",
            "Requirement already satisfied: argon2-cffi in /usr/local/lib/python3.10/dist-packages (from notebook>=6.0->jupyter-contrib-nbextensions->jupyter-require>=0.3.0->jupyter-datatables) (23.1.0)\n",
            "Requirement already satisfied: nest-asyncio>=1.5 in /usr/local/lib/python3.10/dist-packages (from notebook>=6.0->jupyter-contrib-nbextensions->jupyter-require>=0.3.0->jupyter-datatables) (1.5.7)\n",
            "Requirement already satisfied: Send2Trash>=1.8.0 in /usr/local/lib/python3.10/dist-packages (from notebook>=6.0->jupyter-contrib-nbextensions->jupyter-require>=0.3.0->jupyter-datatables) (1.8.2)\n",
            "Requirement already satisfied: terminado>=0.8.3 in /usr/local/lib/python3.10/dist-packages (from notebook>=6.0->jupyter-contrib-nbextensions->jupyter-require>=0.3.0->jupyter-datatables) (0.17.1)\n",
            "Requirement already satisfied: prometheus-client in /usr/local/lib/python3.10/dist-packages (from notebook>=6.0->jupyter-contrib-nbextensions->jupyter-require>=0.3.0->jupyter-datatables) (0.17.1)\n",
            "Requirement already satisfied: nbclassic>=0.4.7 in /usr/local/lib/python3.10/dist-packages (from notebook>=6.0->jupyter-contrib-nbextensions->jupyter-require>=0.3.0->jupyter-datatables) (1.0.0)\n",
            "Requirement already satisfied: jupyter-server>=1.8 in /usr/local/lib/python3.10/dist-packages (from nbclassic>=0.4.7->notebook>=6.0->jupyter-contrib-nbextensions->jupyter-require>=0.3.0->jupyter-datatables) (1.24.0)\n",
            "Requirement already satisfied: notebook-shim>=0.2.3 in /usr/local/lib/python3.10/dist-packages (from nbclassic>=0.4.7->notebook>=6.0->jupyter-contrib-nbextensions->jupyter-require>=0.3.0->jupyter-datatables) (0.2.3)\n",
            "Requirement already satisfied: fastjsonschema in /usr/local/lib/python3.10/dist-packages (from nbformat>=5.1->nbconvert>=6.0->jupyter-contrib-nbextensions->jupyter-require>=0.3.0->jupyter-datatables) (2.18.0)\n",
            "Requirement already satisfied: jsonschema>=2.6 in /usr/local/lib/python3.10/dist-packages (from nbformat>=5.1->nbconvert>=6.0->jupyter-contrib-nbextensions->jupyter-require>=0.3.0->jupyter-datatables) (4.19.0)\n",
            "Requirement already satisfied: argon2-cffi-bindings in /usr/local/lib/python3.10/dist-packages (from argon2-cffi->notebook>=6.0->jupyter-contrib-nbextensions->jupyter-require>=0.3.0->jupyter-datatables) (21.2.0)\n",
            "Requirement already satisfied: soupsieve>1.2 in /usr/local/lib/python3.10/dist-packages (from beautifulsoup4->nbconvert>=6.0->jupyter-contrib-nbextensions->jupyter-require>=0.3.0->jupyter-datatables) (2.4.1)\n",
            "Requirement already satisfied: webencodings in /usr/local/lib/python3.10/dist-packages (from bleach->nbconvert>=6.0->jupyter-contrib-nbextensions->jupyter-require>=0.3.0->jupyter-datatables) (0.5.1)\n",
            "Requirement already satisfied: jsonschema-specifications>=2023.03.6 in /usr/local/lib/python3.10/dist-packages (from jsonschema>=2.6->nbformat>=5.1->nbconvert>=6.0->jupyter-contrib-nbextensions->jupyter-require>=0.3.0->jupyter-datatables) (2023.7.1)\n",
            "Requirement already satisfied: referencing>=0.28.4 in /usr/local/lib/python3.10/dist-packages (from jsonschema>=2.6->nbformat>=5.1->nbconvert>=6.0->jupyter-contrib-nbextensions->jupyter-require>=0.3.0->jupyter-datatables) (0.30.2)\n",
            "Requirement already satisfied: rpds-py>=0.7.1 in /usr/local/lib/python3.10/dist-packages (from jsonschema>=2.6->nbformat>=5.1->nbconvert>=6.0->jupyter-contrib-nbextensions->jupyter-require>=0.3.0->jupyter-datatables) (0.9.2)\n",
            "Requirement already satisfied: anyio<4,>=3.1.0 in /usr/local/lib/python3.10/dist-packages (from jupyter-server>=1.8->nbclassic>=0.4.7->notebook>=6.0->jupyter-contrib-nbextensions->jupyter-require>=0.3.0->jupyter-datatables) (3.7.1)\n",
            "Requirement already satisfied: websocket-client in /usr/local/lib/python3.10/dist-packages (from jupyter-server>=1.8->nbclassic>=0.4.7->notebook>=6.0->jupyter-contrib-nbextensions->jupyter-require>=0.3.0->jupyter-datatables) (1.6.2)\n",
            "Requirement already satisfied: cffi>=1.0.1 in /usr/local/lib/python3.10/dist-packages (from argon2-cffi-bindings->argon2-cffi->notebook>=6.0->jupyter-contrib-nbextensions->jupyter-require>=0.3.0->jupyter-datatables) (1.15.1)\n",
            "Requirement already satisfied: sniffio>=1.1 in /usr/local/lib/python3.10/dist-packages (from anyio<4,>=3.1.0->jupyter-server>=1.8->nbclassic>=0.4.7->notebook>=6.0->jupyter-contrib-nbextensions->jupyter-require>=0.3.0->jupyter-datatables) (1.3.0)\n",
            "Requirement already satisfied: exceptiongroup in /usr/local/lib/python3.10/dist-packages (from anyio<4,>=3.1.0->jupyter-server>=1.8->nbclassic>=0.4.7->notebook>=6.0->jupyter-contrib-nbextensions->jupyter-require>=0.3.0->jupyter-datatables) (1.1.3)\n",
            "Requirement already satisfied: pycparser in /usr/local/lib/python3.10/dist-packages (from cffi>=1.0.1->argon2-cffi-bindings->argon2-cffi->notebook>=6.0->jupyter-contrib-nbextensions->jupyter-require>=0.3.0->jupyter-datatables) (2.21)\n",
            "Building wheels for collected packages: csscompressor, jupyter-contrib-nbextensions, jupyter_contrib_core\n",
            "  Building wheel for csscompressor (setup.py) ... \u001b[?25l\u001b[?25hdone\n",
            "  Created wheel for csscompressor: filename=csscompressor-0.9.5-py3-none-any.whl size=240337 sha256=fe42e256b441c14fcb1b3d22bd24440ea18aa13dba62ebe7a2ff66fe9de1b7d5\n",
            "  Stored in directory: /root/.cache/pip/wheels/23/87/3c/3811e0b3e93b0778079202c3f3d68bd7b45d69ce2d80eaf775\n",
            "  Building wheel for jupyter-contrib-nbextensions (setup.py) ... \u001b[?25l\u001b[?25hdone\n",
            "  Created wheel for jupyter-contrib-nbextensions: filename=jupyter_contrib_nbextensions-0.7.0-py2.py3-none-any.whl size=23428781 sha256=e0ef8261b2ab97e9ab5dfa198411024a8a9f0f267695b2c77fc169f600e8d1ef\n",
            "  Stored in directory: /root/.cache/pip/wheels/ea/cc/7d/99ef154f984726b1201c0f72cfe9c9d7c5132c1a2ae4d8677f\n",
            "  Building wheel for jupyter_contrib_core (setup.py) ... \u001b[?25l\u001b[?25hdone\n",
            "  Created wheel for jupyter_contrib_core: filename=jupyter_contrib_core-0.4.2-py2.py3-none-any.whl size=17484 sha256=c53028150ffa678cfde14de70d6714419452e4c190fdcf350a27e7e00bc01204\n",
            "  Stored in directory: /root/.cache/pip/wheels/a9/52/88/e0643cdfd68f0562087918c37dd583378648dbc3df68b907f7\n",
            "Successfully built csscompressor jupyter-contrib-nbextensions jupyter_contrib_core\n",
            "Installing collected packages: jupyter_highlight_selected_word, csscompressor, xxhash, python-json-logger, jedi, geomet, dill, multiprocess, huggingface-hub, daiquiri, cassandra-driver, openai, datasets, jupyter_contrib_core, jupyter_nbextensions_configurator, jupyter-contrib-nbextensions, jupyter-nbutils, jupyter-require, jupyter-datatables\n",
            "Successfully installed cassandra-driver-3.28.0 csscompressor-0.9.5 daiquiri-3.2.1 datasets-2.14.4 dill-0.3.7 geomet-0.2.1.post1 huggingface-hub-0.16.4 jedi-0.19.0 jupyter-contrib-nbextensions-0.7.0 jupyter-datatables-0.3.9 jupyter-nbutils-0.1.3 jupyter-require-0.6.1 jupyter_contrib_core-0.4.2 jupyter_highlight_selected_word-0.2.0 jupyter_nbextensions_configurator-0.6.3 multiprocess-0.70.15 openai-0.27.10 python-json-logger-2.0.7 xxhash-3.3.0\n"
          ]
        }
      ],
      "source": [
        "!pip install openai pandas jupyter-datatables cassandra-driver datasets"
      ]
    },
    {
      "cell_type": "markdown",
      "metadata": {
        "id": "2j2N9PN_O8fi"
      },
      "source": [
        "## **Import Modules**"
      ]
    },
    {
      "cell_type": "code",
      "execution_count": null,
      "metadata": {
        "id": "OMsIAjChO-6u"
      },
      "outputs": [],
      "source": [
        "from cassandra.cluster import Cluster\n",
        "from cassandra.auth import PlainTextAuthProvider\n",
        "from cassandra.query import dict_factory\n",
        "from cassandra.query import SimpleStatement\n",
        "import openai\n",
        "import numpy\n",
        "import pandas as pd\n",
        "import time\n",
        "from getpass import getpass"
      ]
    },
    {
      "cell_type": "markdown",
      "metadata": {
        "id": "uZvcbIhQNwTv"
      },
      "source": [
        "## **Keys & Environment Variables**"
      ]
    },
    {
      "cell_type": "code",
      "execution_count": null,
      "metadata": {
        "id": "2x19m0D9eaRx",
        "colab": {
          "base_uri": "https://localhost:8080/"
        },
        "outputId": "fae7a958-4c80-4ab2-e95c-7d5c4618f8b6"
      },
      "outputs": [
        {
          "name": "stdout",
          "output_type": "stream",
          "text": [
            "Your Astra DB Token (\"AstraCS:...\"): ··········\n"
          ]
        }
      ],
      "source": [
        "# Input your Astra DB token string, the one starting with \"AstraCS:...\"\n",
        "ASTRA_DB_TOKEN_BASED_PASSWORD = getpass('Your Astra DB Token (\"AstraCS:...\"): ')"
      ]
    },
    {
      "cell_type": "code",
      "execution_count": null,
      "metadata": {
        "colab": {
          "base_uri": "https://localhost:8080/"
        },
        "id": "W22M2ddQe4Co",
        "outputId": "ca145237-a74c-4ead-fd46-5f45143a3f8b"
      },
      "outputs": [
        {
          "name": "stdout",
          "output_type": "stream",
          "text": [
            "Enter your OpenAI API key: ··········\n"
          ]
        }
      ],
      "source": [
        "# Input your OpenAI api key\n",
        "openai_api_key = getpass('Enter your OpenAI API key: ')"
      ]
    },
    {
      "cell_type": "code",
      "execution_count": null,
      "metadata": {
        "id": "ns4Dc4oEY2vT",
        "colab": {
          "base_uri": "https://localhost:8080/"
        },
        "outputId": "d6594e9b-636a-4346-f9fd-9234170505b1"
      },
      "outputs": [
        {
          "name": "stdout",
          "output_type": "stream",
          "text": [
            "Your Astra Keyspace name: vector_preview\n"
          ]
        }
      ],
      "source": [
        "# Input your database keyspace name:\n",
        "my_ks = input('Your Astra Keyspace name: ')"
      ]
    },
    {
      "cell_type": "code",
      "execution_count": null,
      "metadata": {
        "id": "3EdwW3y_NQI7"
      },
      "outputs": [],
      "source": [
        "# keys and tokens here\n",
        "openai.api_key = openai_api_key\n",
        "cass_user = 'token'\n",
        "cass_pw = ASTRA_DB_TOKEN_BASED_PASSWORD"
      ]
    },
    {
      "cell_type": "code",
      "execution_count": null,
      "metadata": {
        "colab": {
          "base_uri": "https://localhost:8080/",
          "height": 90
        },
        "id": "7gBOYyVoeZ6q",
        "outputId": "7d1ae651-de77-4738-aabb-7f01784e1a9e"
      },
      "outputs": [
        {
          "output_type": "stream",
          "name": "stdout",
          "text": [
            "Please upload your Secure Connect Bundle\n"
          ]
        },
        {
          "output_type": "display_data",
          "data": {
            "text/plain": [
              "<IPython.core.display.HTML object>"
            ],
            "text/html": [
              "\n",
              "     <input type=\"file\" id=\"files-710d15e8-281b-423a-9065-34d842ea7bb7\" name=\"files[]\" multiple disabled\n",
              "        style=\"border:none\" />\n",
              "     <output id=\"result-710d15e8-281b-423a-9065-34d842ea7bb7\">\n",
              "      Upload widget is only available when the cell has been executed in the\n",
              "      current browser session. Please rerun this cell to enable.\n",
              "      </output>\n",
              "      <script>// Copyright 2017 Google LLC\n",
              "//\n",
              "// Licensed under the Apache License, Version 2.0 (the \"License\");\n",
              "// you may not use this file except in compliance with the License.\n",
              "// You may obtain a copy of the License at\n",
              "//\n",
              "//      http://www.apache.org/licenses/LICENSE-2.0\n",
              "//\n",
              "// Unless required by applicable law or agreed to in writing, software\n",
              "// distributed under the License is distributed on an \"AS IS\" BASIS,\n",
              "// WITHOUT WARRANTIES OR CONDITIONS OF ANY KIND, either express or implied.\n",
              "// See the License for the specific language governing permissions and\n",
              "// limitations under the License.\n",
              "\n",
              "/**\n",
              " * @fileoverview Helpers for google.colab Python module.\n",
              " */\n",
              "(function(scope) {\n",
              "function span(text, styleAttributes = {}) {\n",
              "  const element = document.createElement('span');\n",
              "  element.textContent = text;\n",
              "  for (const key of Object.keys(styleAttributes)) {\n",
              "    element.style[key] = styleAttributes[key];\n",
              "  }\n",
              "  return element;\n",
              "}\n",
              "\n",
              "// Max number of bytes which will be uploaded at a time.\n",
              "const MAX_PAYLOAD_SIZE = 100 * 1024;\n",
              "\n",
              "function _uploadFiles(inputId, outputId) {\n",
              "  const steps = uploadFilesStep(inputId, outputId);\n",
              "  const outputElement = document.getElementById(outputId);\n",
              "  // Cache steps on the outputElement to make it available for the next call\n",
              "  // to uploadFilesContinue from Python.\n",
              "  outputElement.steps = steps;\n",
              "\n",
              "  return _uploadFilesContinue(outputId);\n",
              "}\n",
              "\n",
              "// This is roughly an async generator (not supported in the browser yet),\n",
              "// where there are multiple asynchronous steps and the Python side is going\n",
              "// to poll for completion of each step.\n",
              "// This uses a Promise to block the python side on completion of each step,\n",
              "// then passes the result of the previous step as the input to the next step.\n",
              "function _uploadFilesContinue(outputId) {\n",
              "  const outputElement = document.getElementById(outputId);\n",
              "  const steps = outputElement.steps;\n",
              "\n",
              "  const next = steps.next(outputElement.lastPromiseValue);\n",
              "  return Promise.resolve(next.value.promise).then((value) => {\n",
              "    // Cache the last promise value to make it available to the next\n",
              "    // step of the generator.\n",
              "    outputElement.lastPromiseValue = value;\n",
              "    return next.value.response;\n",
              "  });\n",
              "}\n",
              "\n",
              "/**\n",
              " * Generator function which is called between each async step of the upload\n",
              " * process.\n",
              " * @param {string} inputId Element ID of the input file picker element.\n",
              " * @param {string} outputId Element ID of the output display.\n",
              " * @return {!Iterable<!Object>} Iterable of next steps.\n",
              " */\n",
              "function* uploadFilesStep(inputId, outputId) {\n",
              "  const inputElement = document.getElementById(inputId);\n",
              "  inputElement.disabled = false;\n",
              "\n",
              "  const outputElement = document.getElementById(outputId);\n",
              "  outputElement.innerHTML = '';\n",
              "\n",
              "  const pickedPromise = new Promise((resolve) => {\n",
              "    inputElement.addEventListener('change', (e) => {\n",
              "      resolve(e.target.files);\n",
              "    });\n",
              "  });\n",
              "\n",
              "  const cancel = document.createElement('button');\n",
              "  inputElement.parentElement.appendChild(cancel);\n",
              "  cancel.textContent = 'Cancel upload';\n",
              "  const cancelPromise = new Promise((resolve) => {\n",
              "    cancel.onclick = () => {\n",
              "      resolve(null);\n",
              "    };\n",
              "  });\n",
              "\n",
              "  // Wait for the user to pick the files.\n",
              "  const files = yield {\n",
              "    promise: Promise.race([pickedPromise, cancelPromise]),\n",
              "    response: {\n",
              "      action: 'starting',\n",
              "    }\n",
              "  };\n",
              "\n",
              "  cancel.remove();\n",
              "\n",
              "  // Disable the input element since further picks are not allowed.\n",
              "  inputElement.disabled = true;\n",
              "\n",
              "  if (!files) {\n",
              "    return {\n",
              "      response: {\n",
              "        action: 'complete',\n",
              "      }\n",
              "    };\n",
              "  }\n",
              "\n",
              "  for (const file of files) {\n",
              "    const li = document.createElement('li');\n",
              "    li.append(span(file.name, {fontWeight: 'bold'}));\n",
              "    li.append(span(\n",
              "        `(${file.type || 'n/a'}) - ${file.size} bytes, ` +\n",
              "        `last modified: ${\n",
              "            file.lastModifiedDate ? file.lastModifiedDate.toLocaleDateString() :\n",
              "                                    'n/a'} - `));\n",
              "    const percent = span('0% done');\n",
              "    li.appendChild(percent);\n",
              "\n",
              "    outputElement.appendChild(li);\n",
              "\n",
              "    const fileDataPromise = new Promise((resolve) => {\n",
              "      const reader = new FileReader();\n",
              "      reader.onload = (e) => {\n",
              "        resolve(e.target.result);\n",
              "      };\n",
              "      reader.readAsArrayBuffer(file);\n",
              "    });\n",
              "    // Wait for the data to be ready.\n",
              "    let fileData = yield {\n",
              "      promise: fileDataPromise,\n",
              "      response: {\n",
              "        action: 'continue',\n",
              "      }\n",
              "    };\n",
              "\n",
              "    // Use a chunked sending to avoid message size limits. See b/62115660.\n",
              "    let position = 0;\n",
              "    do {\n",
              "      const length = Math.min(fileData.byteLength - position, MAX_PAYLOAD_SIZE);\n",
              "      const chunk = new Uint8Array(fileData, position, length);\n",
              "      position += length;\n",
              "\n",
              "      const base64 = btoa(String.fromCharCode.apply(null, chunk));\n",
              "      yield {\n",
              "        response: {\n",
              "          action: 'append',\n",
              "          file: file.name,\n",
              "          data: base64,\n",
              "        },\n",
              "      };\n",
              "\n",
              "      let percentDone = fileData.byteLength === 0 ?\n",
              "          100 :\n",
              "          Math.round((position / fileData.byteLength) * 100);\n",
              "      percent.textContent = `${percentDone}% done`;\n",
              "\n",
              "    } while (position < fileData.byteLength);\n",
              "  }\n",
              "\n",
              "  // All done.\n",
              "  yield {\n",
              "    response: {\n",
              "      action: 'complete',\n",
              "    }\n",
              "  };\n",
              "}\n",
              "\n",
              "scope.google = scope.google || {};\n",
              "scope.google.colab = scope.google.colab || {};\n",
              "scope.google.colab._files = {\n",
              "  _uploadFiles,\n",
              "  _uploadFilesContinue,\n",
              "};\n",
              "})(self);\n",
              "</script> "
            ]
          },
          "metadata": {}
        },
        {
          "output_type": "stream",
          "name": "stdout",
          "text": [
            "Saving secure-connect-vectordemo.zip to secure-connect-vectordemo.zip\n"
          ]
        }
      ],
      "source": [
        "# Upload your Secure Connect Bundle zipfile:\n",
        "import os\n",
        "from google.colab import files\n",
        "\n",
        "\n",
        "print('Please upload your Secure Connect Bundle')\n",
        "uploaded = files.upload()\n",
        "if uploaded:\n",
        "    astraBundleFileTitle = list(uploaded.keys())[0]\n",
        "    scb_path = os.path.join(os.getcwd(), astraBundleFileTitle)\n",
        "else:\n",
        "    raise ValueError(\n",
        "        'Cannot proceed without Secure Connect Bundle. Please re-run the cell.'\n",
        "    )"
      ]
    },
    {
      "cell_type": "markdown",
      "metadata": {
        "id": "-l-O1f6B57jC"
      },
      "source": [
        "# **Select a model to compute embeddings**"
      ]
    },
    {
      "cell_type": "code",
      "execution_count": null,
      "metadata": {
        "id": "nMN_pe1356RA"
      },
      "outputs": [],
      "source": [
        "model_id = \"text-embedding-ada-002\""
      ]
    },
    {
      "cell_type": "markdown",
      "metadata": {
        "id": "CdhiXOhBPhDS"
      },
      "source": [
        "# **Connect to Astra with Vector Search**"
      ]
    },
    {
      "cell_type": "code",
      "execution_count": null,
      "metadata": {
        "colab": {
          "base_uri": "https://localhost:8080/"
        },
        "id": "8c1KHF9LPoQe",
        "outputId": "1ab45edb-42e2-4b20-adc6-2fc11e14b200"
      },
      "outputs": [
        {
          "output_type": "execute_result",
          "data": {
            "text/plain": [
              "<cassandra.cluster.Session at 0x7a2ffd514fa0>"
            ]
          },
          "metadata": {},
          "execution_count": 138
        }
      ],
      "source": [
        "cloud_config= {\n",
        "  'secure_connect_bundle': scb_path\n",
        "}\n",
        "auth_provider = PlainTextAuthProvider(cass_user, cass_pw)\n",
        "cluster = Cluster(cloud=cloud_config, auth_provider=auth_provider, protocol_version=4)\n",
        "session = cluster.connect()\n",
        "session.set_keyspace(my_ks)\n",
        "session"
      ]
    },
    {
      "cell_type": "markdown",
      "metadata": {
        "id": "KN7rECxcPuOJ"
      },
      "source": [
        "# **Drop / Create Schema**"
      ]
    },
    {
      "cell_type": "code",
      "execution_count": null,
      "metadata": {
        "colab": {
          "base_uri": "https://localhost:8080/"
        },
        "id": "Vbqig3sYP3FT",
        "outputId": "9563cd77-168d-481d-c4cd-6e5602ea3a6a"
      },
      "outputs": [
        {
          "output_type": "execute_result",
          "data": {
            "text/plain": [
              "<cassandra.cluster.ResultSet at 0x7d5e4eee04f0>"
            ]
          },
          "metadata": {},
          "execution_count": 72
        }
      ],
      "source": [
        "# only use this to reset the schema\n",
        "session.execute(f\"\"\"DROP INDEX IF EXISTS title_context_desc_cos\"\"\")\n",
        "session.execute(f\"\"\"DROP TABLE IF EXISTS squad_cos\"\"\")\n",
        "session.execute(f\"\"\"DROP INDEX IF EXISTS title_context_desc_dp\"\"\")\n",
        "session.execute(f\"\"\"DROP TABLE IF EXISTS squad_dp\"\"\")\n",
        "session.execute(f\"\"\"DROP INDEX IF EXISTS title_context_desc_euc\"\"\")\n",
        "session.execute(f\"\"\"DROP TABLE IF EXISTS squad_euc\"\"\")"
      ]
    },
    {
      "cell_type": "code",
      "execution_count": null,
      "metadata": {
        "colab": {
          "base_uri": "https://localhost:8080/"
        },
        "id": "hSJ_amZnP7Me",
        "outputId": "75cf432b-e3ac-4254-f7b2-4818c59c7011"
      },
      "outputs": [
        {
          "output_type": "execute_result",
          "data": {
            "text/plain": [
              "<cassandra.cluster.ResultSet at 0x7d5e32010e50>"
            ]
          },
          "metadata": {},
          "execution_count": 73
        }
      ],
      "source": [
        "# # Create Table\n",
        "session.execute(f\"\"\"CREATE TABLE IF NOT EXISTS squad_cos\n",
        "(id text,\n",
        " title text,\n",
        " context text,\n",
        " question text,\n",
        " answers map<text,text>,\n",
        " title_context_embedding vector<float, 1536>,\n",
        " PRIMARY KEY (id,title))\"\"\")\n",
        "\n",
        "# # Create Index\n",
        "session.execute(\"\"\"\n",
        "    CREATE CUSTOM INDEX IF NOT EXISTS title_context_desc_cos\n",
        "    ON squad_cos (title_context_embedding)\n",
        "    USING 'org.apache.cassandra.index.sai.StorageAttachedIndex'\n",
        "    WITH OPTIONS = {'similarity_function' : 'cosine'}\n",
        "\"\"\")\n",
        "\n",
        "# # Create Table\n",
        "session.execute(f\"\"\"CREATE TABLE IF NOT EXISTS squad_dp\n",
        "(id text,\n",
        " title text,\n",
        " context text,\n",
        " question text,\n",
        " answers map<text,text>,\n",
        " title_context_embedding vector<float, 1536>,\n",
        " PRIMARY KEY (id,title))\"\"\")\n",
        "\n",
        "# # Create Index\n",
        "session.execute(\"\"\"\n",
        "    CREATE CUSTOM INDEX IF NOT EXISTS title_context_desc_dp\n",
        "    ON squad_dp (title_context_embedding)\n",
        "    USING 'org.apache.cassandra.index.sai.StorageAttachedIndex'\n",
        "    WITH OPTIONS = {'similarity_function' : 'dot_product'}\n",
        "\"\"\")\n",
        "\n",
        "# # Create Table\n",
        "session.execute(f\"\"\"CREATE TABLE IF NOT EXISTS squad_euc\n",
        "(id text,\n",
        " title text,\n",
        " context text,\n",
        " question text,\n",
        " answers map<text,text>,\n",
        " title_context_embedding vector<float, 1536>,\n",
        " PRIMARY KEY (id,title))\"\"\")\n",
        "\n",
        "# # Create Index\n",
        "session.execute(\"\"\"\n",
        "    CREATE CUSTOM INDEX IF NOT EXISTS title_context_desc_euc\n",
        "    ON squad_euc (title_context_embedding)\n",
        "    USING 'org.apache.cassandra.index.sai.StorageAttachedIndex'\n",
        "    WITH OPTIONS = {'similarity_function' : 'euclidean'}\n",
        "\"\"\")"
      ]
    },
    {
      "cell_type": "markdown",
      "metadata": {
        "id": "S9yO0OhMT-0J"
      },
      "source": [
        "# **Building the Knowledge Base**\n",
        "\n",
        "We start by constructing our knowledge base. We'll use a mostly prepared dataset called Stanford Question-Answering Dataset (SQuAD) hosted on Hugging Face Datasets. We download it like so:"
      ]
    },
    {
      "cell_type": "code",
      "execution_count": null,
      "metadata": {
        "colab": {
          "base_uri": "https://localhost:8080/"
        },
        "id": "D9144Yk9T_Pv",
        "outputId": "b1c656cd-0fb1-42fc-e0c2-661e41a2a75d"
      },
      "outputs": [
        {
          "output_type": "execute_result",
          "data": {
            "text/plain": [
              "Dataset({\n",
              "    features: ['id', 'title', 'context', 'question', 'answers'],\n",
              "    num_rows: 87599\n",
              "})"
            ]
          },
          "metadata": {},
          "execution_count": 74
        }
      ],
      "source": [
        "from datasets import load_dataset\n",
        "\n",
        "data = load_dataset('squad', split='train')\n",
        "data"
      ]
    },
    {
      "cell_type": "markdown",
      "metadata": {
        "id": "YOVOWzJxVDXB"
      },
      "source": [
        "Let's see the 1st 5 records. The dataset does contain duplicate contexts,"
      ]
    },
    {
      "cell_type": "code",
      "execution_count": null,
      "metadata": {
        "colab": {
          "base_uri": "https://localhost:8080/",
          "height": 206
        },
        "id": "qaXw_v1EVB2z",
        "outputId": "98460bbf-4b2d-47eb-d409-b09adbe7f44b"
      },
      "outputs": [
        {
          "output_type": "execute_result",
          "data": {
            "text/plain": [
              "                         id                     title  \\\n",
              "0  5733be284776f41900661182  University_of_Notre_Dame   \n",
              "1  5733be284776f4190066117f  University_of_Notre_Dame   \n",
              "2  5733be284776f41900661180  University_of_Notre_Dame   \n",
              "3  5733be284776f41900661181  University_of_Notre_Dame   \n",
              "4  5733be284776f4190066117e  University_of_Notre_Dame   \n",
              "\n",
              "                                             context  \\\n",
              "0  Architecturally, the school has a Catholic cha...   \n",
              "1  Architecturally, the school has a Catholic cha...   \n",
              "2  Architecturally, the school has a Catholic cha...   \n",
              "3  Architecturally, the school has a Catholic cha...   \n",
              "4  Architecturally, the school has a Catholic cha...   \n",
              "\n",
              "                                            question  \\\n",
              "0  To whom did the Virgin Mary allegedly appear i...   \n",
              "1  What is in front of the Notre Dame Main Building?   \n",
              "2  The Basilica of the Sacred heart at Notre Dame...   \n",
              "3                  What is the Grotto at Notre Dame?   \n",
              "4  What sits on top of the Main Building at Notre...   \n",
              "\n",
              "                                             answers  \n",
              "0  {'text': ['Saint Bernadette Soubirous'], 'answ...  \n",
              "1  {'text': ['a copper statue of Christ'], 'answe...  \n",
              "2  {'text': ['the Main Building'], 'answer_start'...  \n",
              "3  {'text': ['a Marian place of prayer and reflec...  \n",
              "4  {'text': ['a golden statue of the Virgin Mary'...  "
            ],
            "text/html": [
              "\n",
              "  <div id=\"df-b32cab92-a64a-4936-a63f-e6be4b241122\" class=\"colab-df-container\">\n",
              "    <div>\n",
              "<style scoped>\n",
              "    .dataframe tbody tr th:only-of-type {\n",
              "        vertical-align: middle;\n",
              "    }\n",
              "\n",
              "    .dataframe tbody tr th {\n",
              "        vertical-align: top;\n",
              "    }\n",
              "\n",
              "    .dataframe thead th {\n",
              "        text-align: right;\n",
              "    }\n",
              "</style>\n",
              "<table border=\"1\" class=\"dataframe\">\n",
              "  <thead>\n",
              "    <tr style=\"text-align: right;\">\n",
              "      <th></th>\n",
              "      <th>id</th>\n",
              "      <th>title</th>\n",
              "      <th>context</th>\n",
              "      <th>question</th>\n",
              "      <th>answers</th>\n",
              "    </tr>\n",
              "  </thead>\n",
              "  <tbody>\n",
              "    <tr>\n",
              "      <th>0</th>\n",
              "      <td>5733be284776f41900661182</td>\n",
              "      <td>University_of_Notre_Dame</td>\n",
              "      <td>Architecturally, the school has a Catholic cha...</td>\n",
              "      <td>To whom did the Virgin Mary allegedly appear i...</td>\n",
              "      <td>{'text': ['Saint Bernadette Soubirous'], 'answ...</td>\n",
              "    </tr>\n",
              "    <tr>\n",
              "      <th>1</th>\n",
              "      <td>5733be284776f4190066117f</td>\n",
              "      <td>University_of_Notre_Dame</td>\n",
              "      <td>Architecturally, the school has a Catholic cha...</td>\n",
              "      <td>What is in front of the Notre Dame Main Building?</td>\n",
              "      <td>{'text': ['a copper statue of Christ'], 'answe...</td>\n",
              "    </tr>\n",
              "    <tr>\n",
              "      <th>2</th>\n",
              "      <td>5733be284776f41900661180</td>\n",
              "      <td>University_of_Notre_Dame</td>\n",
              "      <td>Architecturally, the school has a Catholic cha...</td>\n",
              "      <td>The Basilica of the Sacred heart at Notre Dame...</td>\n",
              "      <td>{'text': ['the Main Building'], 'answer_start'...</td>\n",
              "    </tr>\n",
              "    <tr>\n",
              "      <th>3</th>\n",
              "      <td>5733be284776f41900661181</td>\n",
              "      <td>University_of_Notre_Dame</td>\n",
              "      <td>Architecturally, the school has a Catholic cha...</td>\n",
              "      <td>What is the Grotto at Notre Dame?</td>\n",
              "      <td>{'text': ['a Marian place of prayer and reflec...</td>\n",
              "    </tr>\n",
              "    <tr>\n",
              "      <th>4</th>\n",
              "      <td>5733be284776f4190066117e</td>\n",
              "      <td>University_of_Notre_Dame</td>\n",
              "      <td>Architecturally, the school has a Catholic cha...</td>\n",
              "      <td>What sits on top of the Main Building at Notre...</td>\n",
              "      <td>{'text': ['a golden statue of the Virgin Mary'...</td>\n",
              "    </tr>\n",
              "  </tbody>\n",
              "</table>\n",
              "</div>\n",
              "    <div class=\"colab-df-buttons\">\n",
              "\n",
              "  <div class=\"colab-df-container\">\n",
              "    <button class=\"colab-df-convert\" onclick=\"convertToInteractive('df-b32cab92-a64a-4936-a63f-e6be4b241122')\"\n",
              "            title=\"Convert this dataframe to an interactive table.\"\n",
              "            style=\"display:none;\">\n",
              "\n",
              "  <svg xmlns=\"http://www.w3.org/2000/svg\" height=\"24px\" viewBox=\"0 -960 960 960\">\n",
              "    <path d=\"M120-120v-720h720v720H120Zm60-500h600v-160H180v160Zm220 220h160v-160H400v160Zm0 220h160v-160H400v160ZM180-400h160v-160H180v160Zm440 0h160v-160H620v160ZM180-180h160v-160H180v160Zm440 0h160v-160H620v160Z\"/>\n",
              "  </svg>\n",
              "    </button>\n",
              "\n",
              "  <style>\n",
              "    .colab-df-container {\n",
              "      display:flex;\n",
              "      gap: 12px;\n",
              "    }\n",
              "\n",
              "    .colab-df-convert {\n",
              "      background-color: #E8F0FE;\n",
              "      border: none;\n",
              "      border-radius: 50%;\n",
              "      cursor: pointer;\n",
              "      display: none;\n",
              "      fill: #1967D2;\n",
              "      height: 32px;\n",
              "      padding: 0 0 0 0;\n",
              "      width: 32px;\n",
              "    }\n",
              "\n",
              "    .colab-df-convert:hover {\n",
              "      background-color: #E2EBFA;\n",
              "      box-shadow: 0px 1px 2px rgba(60, 64, 67, 0.3), 0px 1px 3px 1px rgba(60, 64, 67, 0.15);\n",
              "      fill: #174EA6;\n",
              "    }\n",
              "\n",
              "    .colab-df-buttons div {\n",
              "      margin-bottom: 4px;\n",
              "    }\n",
              "\n",
              "    [theme=dark] .colab-df-convert {\n",
              "      background-color: #3B4455;\n",
              "      fill: #D2E3FC;\n",
              "    }\n",
              "\n",
              "    [theme=dark] .colab-df-convert:hover {\n",
              "      background-color: #434B5C;\n",
              "      box-shadow: 0px 1px 3px 1px rgba(0, 0, 0, 0.15);\n",
              "      filter: drop-shadow(0px 1px 2px rgba(0, 0, 0, 0.3));\n",
              "      fill: #FFFFFF;\n",
              "    }\n",
              "  </style>\n",
              "\n",
              "    <script>\n",
              "      const buttonEl =\n",
              "        document.querySelector('#df-b32cab92-a64a-4936-a63f-e6be4b241122 button.colab-df-convert');\n",
              "      buttonEl.style.display =\n",
              "        google.colab.kernel.accessAllowed ? 'block' : 'none';\n",
              "\n",
              "      async function convertToInteractive(key) {\n",
              "        const element = document.querySelector('#df-b32cab92-a64a-4936-a63f-e6be4b241122');\n",
              "        const dataTable =\n",
              "          await google.colab.kernel.invokeFunction('convertToInteractive',\n",
              "                                                    [key], {});\n",
              "        if (!dataTable) return;\n",
              "\n",
              "        const docLinkHtml = 'Like what you see? Visit the ' +\n",
              "          '<a target=\"_blank\" href=https://colab.research.google.com/notebooks/data_table.ipynb>data table notebook</a>'\n",
              "          + ' to learn more about interactive tables.';\n",
              "        element.innerHTML = '';\n",
              "        dataTable['output_type'] = 'display_data';\n",
              "        await google.colab.output.renderOutput(dataTable, element);\n",
              "        const docLink = document.createElement('div');\n",
              "        docLink.innerHTML = docLinkHtml;\n",
              "        element.appendChild(docLink);\n",
              "      }\n",
              "    </script>\n",
              "  </div>\n",
              "\n",
              "\n",
              "<div id=\"df-2129f8bf-1fe2-4d6a-94cd-2399d2f33f58\">\n",
              "  <button class=\"colab-df-quickchart\" onclick=\"quickchart('df-2129f8bf-1fe2-4d6a-94cd-2399d2f33f58')\"\n",
              "            title=\"Suggest charts.\"\n",
              "            style=\"display:none;\">\n",
              "\n",
              "<svg xmlns=\"http://www.w3.org/2000/svg\" height=\"24px\"viewBox=\"0 0 24 24\"\n",
              "     width=\"24px\">\n",
              "    <g>\n",
              "        <path d=\"M19 3H5c-1.1 0-2 .9-2 2v14c0 1.1.9 2 2 2h14c1.1 0 2-.9 2-2V5c0-1.1-.9-2-2-2zM9 17H7v-7h2v7zm4 0h-2V7h2v10zm4 0h-2v-4h2v4z\"/>\n",
              "    </g>\n",
              "</svg>\n",
              "  </button>\n",
              "\n",
              "<style>\n",
              "  .colab-df-quickchart {\n",
              "    background-color: #E8F0FE;\n",
              "    border: none;\n",
              "    border-radius: 50%;\n",
              "    cursor: pointer;\n",
              "    display: none;\n",
              "    fill: #1967D2;\n",
              "    height: 32px;\n",
              "    padding: 0 0 0 0;\n",
              "    width: 32px;\n",
              "  }\n",
              "\n",
              "  .colab-df-quickchart:hover {\n",
              "    background-color: #E2EBFA;\n",
              "    box-shadow: 0px 1px 2px rgba(60, 64, 67, 0.3), 0px 1px 3px 1px rgba(60, 64, 67, 0.15);\n",
              "    fill: #174EA6;\n",
              "  }\n",
              "\n",
              "  [theme=dark] .colab-df-quickchart {\n",
              "    background-color: #3B4455;\n",
              "    fill: #D2E3FC;\n",
              "  }\n",
              "\n",
              "  [theme=dark] .colab-df-quickchart:hover {\n",
              "    background-color: #434B5C;\n",
              "    box-shadow: 0px 1px 3px 1px rgba(0, 0, 0, 0.15);\n",
              "    filter: drop-shadow(0px 1px 2px rgba(0, 0, 0, 0.3));\n",
              "    fill: #FFFFFF;\n",
              "  }\n",
              "</style>\n",
              "\n",
              "  <script>\n",
              "    async function quickchart(key) {\n",
              "      const charts = await google.colab.kernel.invokeFunction(\n",
              "          'suggestCharts', [key], {});\n",
              "    }\n",
              "    (() => {\n",
              "      let quickchartButtonEl =\n",
              "        document.querySelector('#df-2129f8bf-1fe2-4d6a-94cd-2399d2f33f58 button');\n",
              "      quickchartButtonEl.style.display =\n",
              "        google.colab.kernel.accessAllowed ? 'block' : 'none';\n",
              "    })();\n",
              "  </script>\n",
              "</div>\n",
              "    </div>\n",
              "  </div>\n"
            ]
          },
          "metadata": {},
          "execution_count": 75
        }
      ],
      "source": [
        "data = data.to_pandas()\n",
        "data.head()"
      ]
    },
    {
      "cell_type": "markdown",
      "metadata": {
        "id": "mrU8_nqlUo_w"
      },
      "source": [
        "Let's remove the duplicate context and keep the 1st record of the records with same context."
      ]
    },
    {
      "cell_type": "code",
      "execution_count": null,
      "metadata": {
        "colab": {
          "base_uri": "https://localhost:8080/",
          "height": 206
        },
        "id": "ngJbo6HcUbG0",
        "outputId": "36afe650-07d0-4115-d7da-f95cc4340449"
      },
      "outputs": [
        {
          "output_type": "execute_result",
          "data": {
            "text/plain": [
              "                          id                     title  \\\n",
              "0   5733be284776f41900661182  University_of_Notre_Dame   \n",
              "5   5733bf84d058e614000b61be  University_of_Notre_Dame   \n",
              "10  5733bed24776f41900661188  University_of_Notre_Dame   \n",
              "15  5733a6424776f41900660f51  University_of_Notre_Dame   \n",
              "20  5733a70c4776f41900660f64  University_of_Notre_Dame   \n",
              "\n",
              "                                              context  \\\n",
              "0   Architecturally, the school has a Catholic cha...   \n",
              "5   As at most other universities, Notre Dame's st...   \n",
              "10  The university is the major seat of the Congre...   \n",
              "15  The College of Engineering was established in ...   \n",
              "20  All of Notre Dame's undergraduate students are...   \n",
              "\n",
              "                                             question  \\\n",
              "0   To whom did the Virgin Mary allegedly appear i...   \n",
              "5   When did the Scholastic Magazine of Notre dame...   \n",
              "10  Where is the headquarters of the Congregation ...   \n",
              "15  How many BS level degrees are offered in the C...   \n",
              "20  What entity provides help with the management ...   \n",
              "\n",
              "                                              answers  \n",
              "0   {'text': ['Saint Bernadette Soubirous'], 'answ...  \n",
              "5   {'text': ['September 1876'], 'answer_start': [...  \n",
              "10          {'text': ['Rome'], 'answer_start': [119]}  \n",
              "15         {'text': ['eight'], 'answer_start': [487]}  \n",
              "20  {'text': ['Learning Resource Center'], 'answer...  "
            ],
            "text/html": [
              "\n",
              "  <div id=\"df-66e9c5dc-1156-4f71-b47b-4d9220f561f2\" class=\"colab-df-container\">\n",
              "    <div>\n",
              "<style scoped>\n",
              "    .dataframe tbody tr th:only-of-type {\n",
              "        vertical-align: middle;\n",
              "    }\n",
              "\n",
              "    .dataframe tbody tr th {\n",
              "        vertical-align: top;\n",
              "    }\n",
              "\n",
              "    .dataframe thead th {\n",
              "        text-align: right;\n",
              "    }\n",
              "</style>\n",
              "<table border=\"1\" class=\"dataframe\">\n",
              "  <thead>\n",
              "    <tr style=\"text-align: right;\">\n",
              "      <th></th>\n",
              "      <th>id</th>\n",
              "      <th>title</th>\n",
              "      <th>context</th>\n",
              "      <th>question</th>\n",
              "      <th>answers</th>\n",
              "    </tr>\n",
              "  </thead>\n",
              "  <tbody>\n",
              "    <tr>\n",
              "      <th>0</th>\n",
              "      <td>5733be284776f41900661182</td>\n",
              "      <td>University_of_Notre_Dame</td>\n",
              "      <td>Architecturally, the school has a Catholic cha...</td>\n",
              "      <td>To whom did the Virgin Mary allegedly appear i...</td>\n",
              "      <td>{'text': ['Saint Bernadette Soubirous'], 'answ...</td>\n",
              "    </tr>\n",
              "    <tr>\n",
              "      <th>5</th>\n",
              "      <td>5733bf84d058e614000b61be</td>\n",
              "      <td>University_of_Notre_Dame</td>\n",
              "      <td>As at most other universities, Notre Dame's st...</td>\n",
              "      <td>When did the Scholastic Magazine of Notre dame...</td>\n",
              "      <td>{'text': ['September 1876'], 'answer_start': [...</td>\n",
              "    </tr>\n",
              "    <tr>\n",
              "      <th>10</th>\n",
              "      <td>5733bed24776f41900661188</td>\n",
              "      <td>University_of_Notre_Dame</td>\n",
              "      <td>The university is the major seat of the Congre...</td>\n",
              "      <td>Where is the headquarters of the Congregation ...</td>\n",
              "      <td>{'text': ['Rome'], 'answer_start': [119]}</td>\n",
              "    </tr>\n",
              "    <tr>\n",
              "      <th>15</th>\n",
              "      <td>5733a6424776f41900660f51</td>\n",
              "      <td>University_of_Notre_Dame</td>\n",
              "      <td>The College of Engineering was established in ...</td>\n",
              "      <td>How many BS level degrees are offered in the C...</td>\n",
              "      <td>{'text': ['eight'], 'answer_start': [487]}</td>\n",
              "    </tr>\n",
              "    <tr>\n",
              "      <th>20</th>\n",
              "      <td>5733a70c4776f41900660f64</td>\n",
              "      <td>University_of_Notre_Dame</td>\n",
              "      <td>All of Notre Dame's undergraduate students are...</td>\n",
              "      <td>What entity provides help with the management ...</td>\n",
              "      <td>{'text': ['Learning Resource Center'], 'answer...</td>\n",
              "    </tr>\n",
              "  </tbody>\n",
              "</table>\n",
              "</div>\n",
              "    <div class=\"colab-df-buttons\">\n",
              "\n",
              "  <div class=\"colab-df-container\">\n",
              "    <button class=\"colab-df-convert\" onclick=\"convertToInteractive('df-66e9c5dc-1156-4f71-b47b-4d9220f561f2')\"\n",
              "            title=\"Convert this dataframe to an interactive table.\"\n",
              "            style=\"display:none;\">\n",
              "\n",
              "  <svg xmlns=\"http://www.w3.org/2000/svg\" height=\"24px\" viewBox=\"0 -960 960 960\">\n",
              "    <path d=\"M120-120v-720h720v720H120Zm60-500h600v-160H180v160Zm220 220h160v-160H400v160Zm0 220h160v-160H400v160ZM180-400h160v-160H180v160Zm440 0h160v-160H620v160ZM180-180h160v-160H180v160Zm440 0h160v-160H620v160Z\"/>\n",
              "  </svg>\n",
              "    </button>\n",
              "\n",
              "  <style>\n",
              "    .colab-df-container {\n",
              "      display:flex;\n",
              "      gap: 12px;\n",
              "    }\n",
              "\n",
              "    .colab-df-convert {\n",
              "      background-color: #E8F0FE;\n",
              "      border: none;\n",
              "      border-radius: 50%;\n",
              "      cursor: pointer;\n",
              "      display: none;\n",
              "      fill: #1967D2;\n",
              "      height: 32px;\n",
              "      padding: 0 0 0 0;\n",
              "      width: 32px;\n",
              "    }\n",
              "\n",
              "    .colab-df-convert:hover {\n",
              "      background-color: #E2EBFA;\n",
              "      box-shadow: 0px 1px 2px rgba(60, 64, 67, 0.3), 0px 1px 3px 1px rgba(60, 64, 67, 0.15);\n",
              "      fill: #174EA6;\n",
              "    }\n",
              "\n",
              "    .colab-df-buttons div {\n",
              "      margin-bottom: 4px;\n",
              "    }\n",
              "\n",
              "    [theme=dark] .colab-df-convert {\n",
              "      background-color: #3B4455;\n",
              "      fill: #D2E3FC;\n",
              "    }\n",
              "\n",
              "    [theme=dark] .colab-df-convert:hover {\n",
              "      background-color: #434B5C;\n",
              "      box-shadow: 0px 1px 3px 1px rgba(0, 0, 0, 0.15);\n",
              "      filter: drop-shadow(0px 1px 2px rgba(0, 0, 0, 0.3));\n",
              "      fill: #FFFFFF;\n",
              "    }\n",
              "  </style>\n",
              "\n",
              "    <script>\n",
              "      const buttonEl =\n",
              "        document.querySelector('#df-66e9c5dc-1156-4f71-b47b-4d9220f561f2 button.colab-df-convert');\n",
              "      buttonEl.style.display =\n",
              "        google.colab.kernel.accessAllowed ? 'block' : 'none';\n",
              "\n",
              "      async function convertToInteractive(key) {\n",
              "        const element = document.querySelector('#df-66e9c5dc-1156-4f71-b47b-4d9220f561f2');\n",
              "        const dataTable =\n",
              "          await google.colab.kernel.invokeFunction('convertToInteractive',\n",
              "                                                    [key], {});\n",
              "        if (!dataTable) return;\n",
              "\n",
              "        const docLinkHtml = 'Like what you see? Visit the ' +\n",
              "          '<a target=\"_blank\" href=https://colab.research.google.com/notebooks/data_table.ipynb>data table notebook</a>'\n",
              "          + ' to learn more about interactive tables.';\n",
              "        element.innerHTML = '';\n",
              "        dataTable['output_type'] = 'display_data';\n",
              "        await google.colab.output.renderOutput(dataTable, element);\n",
              "        const docLink = document.createElement('div');\n",
              "        docLink.innerHTML = docLinkHtml;\n",
              "        element.appendChild(docLink);\n",
              "      }\n",
              "    </script>\n",
              "  </div>\n",
              "\n",
              "\n",
              "<div id=\"df-6044b3f9-d6e4-422d-ac49-345a91901be3\">\n",
              "  <button class=\"colab-df-quickchart\" onclick=\"quickchart('df-6044b3f9-d6e4-422d-ac49-345a91901be3')\"\n",
              "            title=\"Suggest charts.\"\n",
              "            style=\"display:none;\">\n",
              "\n",
              "<svg xmlns=\"http://www.w3.org/2000/svg\" height=\"24px\"viewBox=\"0 0 24 24\"\n",
              "     width=\"24px\">\n",
              "    <g>\n",
              "        <path d=\"M19 3H5c-1.1 0-2 .9-2 2v14c0 1.1.9 2 2 2h14c1.1 0 2-.9 2-2V5c0-1.1-.9-2-2-2zM9 17H7v-7h2v7zm4 0h-2V7h2v10zm4 0h-2v-4h2v4z\"/>\n",
              "    </g>\n",
              "</svg>\n",
              "  </button>\n",
              "\n",
              "<style>\n",
              "  .colab-df-quickchart {\n",
              "    background-color: #E8F0FE;\n",
              "    border: none;\n",
              "    border-radius: 50%;\n",
              "    cursor: pointer;\n",
              "    display: none;\n",
              "    fill: #1967D2;\n",
              "    height: 32px;\n",
              "    padding: 0 0 0 0;\n",
              "    width: 32px;\n",
              "  }\n",
              "\n",
              "  .colab-df-quickchart:hover {\n",
              "    background-color: #E2EBFA;\n",
              "    box-shadow: 0px 1px 2px rgba(60, 64, 67, 0.3), 0px 1px 3px 1px rgba(60, 64, 67, 0.15);\n",
              "    fill: #174EA6;\n",
              "  }\n",
              "\n",
              "  [theme=dark] .colab-df-quickchart {\n",
              "    background-color: #3B4455;\n",
              "    fill: #D2E3FC;\n",
              "  }\n",
              "\n",
              "  [theme=dark] .colab-df-quickchart:hover {\n",
              "    background-color: #434B5C;\n",
              "    box-shadow: 0px 1px 3px 1px rgba(0, 0, 0, 0.15);\n",
              "    filter: drop-shadow(0px 1px 2px rgba(0, 0, 0, 0.3));\n",
              "    fill: #FFFFFF;\n",
              "  }\n",
              "</style>\n",
              "\n",
              "  <script>\n",
              "    async function quickchart(key) {\n",
              "      const charts = await google.colab.kernel.invokeFunction(\n",
              "          'suggestCharts', [key], {});\n",
              "    }\n",
              "    (() => {\n",
              "      let quickchartButtonEl =\n",
              "        document.querySelector('#df-6044b3f9-d6e4-422d-ac49-345a91901be3 button');\n",
              "      quickchartButtonEl.style.display =\n",
              "        google.colab.kernel.accessAllowed ? 'block' : 'none';\n",
              "    })();\n",
              "  </script>\n",
              "</div>\n",
              "    </div>\n",
              "  </div>\n"
            ]
          },
          "metadata": {},
          "execution_count": 76
        }
      ],
      "source": [
        "data.drop_duplicates(subset='context', keep='first', inplace=True)\n",
        "data.head()"
      ]
    },
    {
      "cell_type": "markdown",
      "metadata": {
        "id": "IN_8Ss2AXSkW"
      },
      "source": [
        "# **Load the table with data and create text embeddings**\n",
        "\n",
        "* If you are using free trial of the OpenAPI,  the rate limit is about 60/min.  Please adjust the ***counter*** variable below according to your rate limit.\n",
        "* It takes a long time to load the full data so it is set as 300 here.   Please adjust the ***total*** variable below according to the number of data to test.  Please note that the more data is loaded the longer it takes to load.\n",
        "* This will takes around **6 minutes** to load the 300 data."
      ]
    },
    {
      "cell_type": "code",
      "execution_count": null,
      "metadata": {
        "colab": {
          "base_uri": "https://localhost:8080/",
          "height": 1000
        },
        "id": "wI-jcK5eXS1A",
        "outputId": "ef2d0593-b709-48b6-8b5a-4e961e41db92"
      },
      "outputs": [
        {
          "output_type": "display_data",
          "data": {
            "text/plain": [
              "id                                   5733be284776f41900661182\n",
              "title                                University_of_Notre_Dame\n",
              "context     Architecturally, the school has a Catholic cha...\n",
              "question    To whom did the Virgin Mary allegedly appear i...\n",
              "answers     {'text': ['Saint Bernadette Soubirous'], 'answ...\n",
              "Name: 0, dtype: object"
            ]
          },
          "metadata": {}
        },
        {
          "output_type": "display_data",
          "data": {
            "text/plain": [
              "id                                   5733bf84d058e614000b61be\n",
              "title                                University_of_Notre_Dame\n",
              "context     As at most other universities, Notre Dame's st...\n",
              "question    When did the Scholastic Magazine of Notre dame...\n",
              "answers     {'text': ['September 1876'], 'answer_start': [...\n",
              "Name: 5, dtype: object"
            ]
          },
          "metadata": {}
        },
        {
          "output_type": "display_data",
          "data": {
            "text/plain": [
              "id                                   5733bed24776f41900661188\n",
              "title                                University_of_Notre_Dame\n",
              "context     The university is the major seat of the Congre...\n",
              "question    Where is the headquarters of the Congregation ...\n",
              "answers             {'text': ['Rome'], 'answer_start': [119]}\n",
              "Name: 10, dtype: object"
            ]
          },
          "metadata": {}
        },
        {
          "output_type": "display_data",
          "data": {
            "text/plain": [
              "id                                   5733a6424776f41900660f51\n",
              "title                                University_of_Notre_Dame\n",
              "context     The College of Engineering was established in ...\n",
              "question    How many BS level degrees are offered in the C...\n",
              "answers            {'text': ['eight'], 'answer_start': [487]}\n",
              "Name: 15, dtype: object"
            ]
          },
          "metadata": {}
        },
        {
          "output_type": "display_data",
          "data": {
            "text/plain": [
              "id                                   5733a70c4776f41900660f64\n",
              "title                                University_of_Notre_Dame\n",
              "context     All of Notre Dame's undergraduate students are...\n",
              "question    What entity provides help with the management ...\n",
              "answers     {'text': ['Learning Resource Center'], 'answer...\n",
              "Name: 20, dtype: object"
            ]
          },
          "metadata": {}
        },
        {
          "output_type": "display_data",
          "data": {
            "text/plain": [
              "id                                   5733a7bd4776f41900660f6b\n",
              "title                                University_of_Notre_Dame\n",
              "context     The university first offered graduate degrees,...\n",
              "question    The granting of Doctorate degrees first occurr...\n",
              "answers             {'text': ['1924'], 'answer_start': [358]}\n",
              "Name: 24, dtype: object"
            ]
          },
          "metadata": {}
        },
        {
          "output_type": "display_data",
          "data": {
            "text/plain": [
              "id                                   5733ac31d058e614000b5ff3\n",
              "title                                University_of_Notre_Dame\n",
              "context     The Joan B. Kroc Institute for International P...\n",
              "question    What institute at Notre Dame studies  the reas...\n",
              "answers     {'text': ['Joan B. Kroc Institute for Internat...\n",
              "Name: 29, dtype: object"
            ]
          },
          "metadata": {}
        },
        {
          "output_type": "display_data",
          "data": {
            "text/plain": [
              "id                                   5733ad384776f41900660fec\n",
              "title                                University_of_Notre_Dame\n",
              "context     The library system of the university is divide...\n",
              "question    How many stories tall is the main library at N...\n",
              "answers               {'text': ['14'], 'answer_start': [136]}\n",
              "Name: 34, dtype: object"
            ]
          },
          "metadata": {}
        },
        {
          "output_type": "display_data",
          "data": {
            "text/plain": [
              "id                                   5733ae924776f41900661014\n",
              "title                                University_of_Notre_Dame\n",
              "context     Notre Dame is known for its competitive admiss...\n",
              "question    How many incoming students did Notre Dame admi...\n",
              "answers            {'text': ['3,577'], 'answer_start': [109]}\n",
              "Name: 39, dtype: object"
            ]
          },
          "metadata": {}
        },
        {
          "output_type": "display_data",
          "data": {
            "text/plain": [
              "id                                   5733afd3d058e614000b6045\n",
              "title                                University_of_Notre_Dame\n",
              "context     In 2015-2016, Notre Dame ranked 18th overall a...\n",
              "question    Where did U.S. News & World Report rank Notre ...\n",
              "answers      {'text': ['18th overall'], 'answer_start': [32]}\n",
              "Name: 44, dtype: object"
            ]
          },
          "metadata": {}
        },
        {
          "output_type": "display_data",
          "data": {
            "text/plain": [
              "id                                   5733b0fb4776f41900661041\n",
              "title                                University_of_Notre_Dame\n",
              "context     Father Joseph Carrier, C.S.C. was Director of ...\n",
              "question    What person was the Director of the Science Mu...\n",
              "answers     {'text': ['Father Joseph Carrier, C.S.C.'], 'a...\n",
              "Name: 49, dtype: object"
            ]
          },
          "metadata": {}
        },
        {
          "output_type": "display_data",
          "data": {
            "text/plain": [
              "id                                   5733b1da4776f41900661068\n",
              "title                                University_of_Notre_Dame\n",
              "context     In 1882, Albert Zahm (John Zahm's brother) bui...\n",
              "question    In what year did Albert Zahm begin comparing a...\n",
              "answers               {'text': ['1882'], 'answer_start': [3]}\n",
              "Name: 54, dtype: object"
            ]
          },
          "metadata": {}
        },
        {
          "output_type": "display_data",
          "data": {
            "text/plain": [
              "id                                   5733b2fe4776f4190066108f\n",
              "title                                University_of_Notre_Dame\n",
              "context     The Lobund Institute grew out of pioneering re...\n",
              "question    Work on a germ-free-life ended up in the creat...\n",
              "answers     {'text': ['The Lobund Institute'], 'answer_sta...\n",
              "Name: 59, dtype: object"
            ]
          },
          "metadata": {}
        },
        {
          "output_type": "display_data",
          "data": {
            "text/plain": [
              "id                                   5733b3d64776f419006610a3\n",
              "title                                University_of_Notre_Dame\n",
              "context     The Review of Politics was founded in 1939 by ...\n",
              "question           Gurian created what in 1939 at Notre Dame?\n",
              "answers     {'text': ['The Review of Politics'], 'answer_s...\n",
              "Name: 64, dtype: object"
            ]
          },
          "metadata": {}
        },
        {
          "output_type": "display_data",
          "data": {
            "text/plain": [
              "id                                   5733b5344776f419006610dd\n",
              "title                                University_of_Notre_Dame\n",
              "context     As of 2012[update] research continued in many ...\n",
              "question         Who was the president of Notre Dame in 2012?\n",
              "answers      {'text': ['John Jenkins'], 'answer_start': [80]}\n",
              "Name: 68, dtype: object"
            ]
          },
          "metadata": {}
        },
        {
          "output_type": "display_data",
          "data": {
            "text/plain": [
              "id                                   5733b5df4776f41900661105\n",
              "title                                University_of_Notre_Dame\n",
              "context     In 2014 the Notre Dame student body consisted ...\n",
              "question    How many undergrads were attending Notre Dame ...\n",
              "answers             {'text': ['8,448'], 'answer_start': [71]}\n",
              "Name: 73, dtype: object"
            ]
          },
          "metadata": {}
        },
        {
          "output_type": "display_data",
          "data": {
            "text/plain": [
              "id                                   5733b699d058e614000b6118\n",
              "title                                University_of_Notre_Dame\n",
              "context     About 80% of undergraduates and 20% of graduat...\n",
              "question    What percentage of undergrads live on the Notr...\n",
              "answers                {'text': ['80%'], 'answer_start': [6]}\n",
              "Name: 78, dtype: object"
            ]
          },
          "metadata": {}
        },
        {
          "output_type": "display_data",
          "data": {
            "text/plain": [
              "id                                   5733b7f74776f4190066112d\n",
              "title                                University_of_Notre_Dame\n",
              "context     The university is affiliated with the Congrega...\n",
              "question         What is Congregation of Holy Cross in Latin?\n",
              "answers     {'text': ['Congregatio a Sancta Cruce'], 'answ...\n",
              "Name: 83, dtype: object"
            ]
          },
          "metadata": {}
        },
        {
          "output_type": "display_data",
          "data": {
            "text/plain": [
              "id                                   57338653d058e614000b5c84\n",
              "title                                University_of_Notre_Dame\n",
              "context     This Main Building, and the library collection...\n",
              "question        What was the music hall at Notre Dame called?\n",
              "answers     {'text': ['Washington Hall'], 'answer_start': ...\n",
              "Name: 88, dtype: object"
            ]
          },
          "metadata": {}
        },
        {
          "output_type": "display_data",
          "data": {
            "text/plain": [
              "id                                   57338724d058e614000b5c9f\n",
              "title                                University_of_Notre_Dame\n",
              "context     In 1919 Father James Burns became president of...\n",
              "question    What type of education was pushed at Notre Dam...\n",
              "answers     {'text': ['scholastic and classical'], 'answer...\n",
              "Name: 93, dtype: object"
            ]
          },
          "metadata": {}
        },
        {
          "output_type": "display_data",
          "data": {
            "text/plain": [
              "id                                   573387acd058e614000b5cb1\n",
              "title                                University_of_Notre_Dame\n",
              "context     One of the main driving forces in the growth o...\n",
              "question    The Notre Dame football team got a new head co...\n",
              "answers     {'text': ['Knute Rockne'], 'answer_start': [117]}\n",
              "Name: 98, dtype: object"
            ]
          },
          "metadata": {}
        },
        {
          "output_type": "display_data",
          "data": {
            "text/plain": [
              "id                                   573388ce4776f41900660cc3\n",
              "title                                University_of_Notre_Dame\n",
              "context     The success of its football team made Notre Da...\n",
              "question    Catholic people identified with Notre Dame, wh...\n",
              "answers     {'text': ['the Protestant establishment'], 'an...\n",
              "Name: 103, dtype: object"
            ]
          },
          "metadata": {}
        },
        {
          "output_type": "display_data",
          "data": {
            "text/plain": [
              "id                                   57338a51d058e614000b5cf0\n",
              "title                                University_of_Notre_Dame\n",
              "context     Holy Cross Father John Francis O'Hara was elec...\n",
              "question    Which person became vice-president of Notre Da...\n",
              "answers     {'text': ['Father John Francis O'Hara'], 'answ...\n",
              "Name: 108, dtype: object"
            ]
          },
          "metadata": {}
        },
        {
          "output_type": "display_data",
          "data": {
            "text/plain": [
              "id                                   5733926d4776f41900660d8e\n",
              "title                                University_of_Notre_Dame\n",
              "context     The Rev. John J. Cavanaugh, C.S.C. served as p...\n",
              "question    Around the time that Rev. Cavanaugh became pre...\n",
              "answers     {'text': ['more than half'], 'answer_start': [...\n",
              "Name: 113, dtype: object"
            ]
          },
          "metadata": {}
        },
        {
          "output_type": "display_data",
          "data": {
            "text/plain": [
              "id                                   573393184776f41900660da6\n",
              "title                                University_of_Notre_Dame\n",
              "context     The Rev. Theodore Hesburgh, C.S.C., (1917–2015...\n",
              "question          What was the lifespan of Theodore Hesburgh?\n",
              "answers         {'text': ['1917–2015'], 'answer_start': [37]}\n",
              "Name: 118, dtype: object"
            ]
          },
          "metadata": {}
        },
        {
          "output_type": "display_data",
          "data": {
            "text/plain": [
              "id                                   573393e1d058e614000b5dc2\n",
              "title                                University_of_Notre_Dame\n",
              "context     Hesburgh is also credited with transforming th...\n",
              "question    What type of educational institute is Hesburgh...\n",
              "answers     {'text': ['coeducational'], 'answer_start': [82]}\n",
              "Name: 123, dtype: object"
            ]
          },
          "metadata": {}
        },
        {
          "output_type": "display_data",
          "data": {
            "text/plain": [
              "id                                   573394c84776f41900660ddd\n",
              "title                                University_of_Notre_Dame\n",
              "context     In the 18 years under the presidency of Edward...\n",
              "question    During what years was Edward Malloy president ...\n",
              "answers         {'text': ['1987–2005'], 'answer_start': [64]}\n",
              "Name: 128, dtype: object"
            ]
          },
          "metadata": {}
        },
        {
          "output_type": "display_data",
          "data": {
            "text/plain": [
              "id                                   5733974d4776f41900660e17\n",
              "title                                University_of_Notre_Dame\n",
              "context     Since 2005, Notre Dame has been led by John I....\n",
              "question    When did John Jenkins become the president of ...\n",
              "answers               {'text': ['2005'], 'answer_start': [6]}\n",
              "Name: 133, dtype: object"
            ]
          },
          "metadata": {}
        },
        {
          "output_type": "display_data",
          "data": {
            "text/plain": [
              "id                                   573398164776f41900660e21\n",
              "title                                University_of_Notre_Dame\n",
              "context     Because of its Catholic identity, a number of ...\n",
              "question    Which congregation is in charge of the Old Col...\n",
              "answers     {'text': ['Congregation of Holy Cross'], 'answ...\n",
              "Name: 138, dtype: object"
            ]
          },
          "metadata": {}
        },
        {
          "output_type": "display_data",
          "data": {
            "text/plain": [
              "id                                   573398ebd058e614000b5e66\n",
              "title                                University_of_Notre_Dame\n",
              "context     A Science Hall was built in 1883 under the dir...\n",
              "question    Which person oversaw the creation of a science...\n",
              "answers          {'text': ['Fr. Zahm'], 'answer_start': [56]}\n",
              "Name: 143, dtype: object"
            ]
          },
          "metadata": {}
        },
        {
          "output_type": "display_data",
          "data": {
            "text/plain": [
              "id                                   57339a5bd058e614000b5e91\n",
              "title                                University_of_Notre_Dame\n",
              "context     Since the construction of its oldest buildings...\n",
              "question    How many halls are at Notre Dame that house st...\n",
              "answers               {'text': ['29'], 'answer_start': [120]}\n",
              "Name: 148, dtype: object"
            ]
          },
          "metadata": {}
        },
        {
          "output_type": "display_data",
          "data": {
            "text/plain": [
              "id                                   57339b36d058e614000b5ea3\n",
              "title                                University_of_Notre_Dame\n",
              "context     The University of Notre Dame has made being a ...\n",
              "question    In what year did Notre Dame create the Office ...\n",
              "answers             {'text': ['2008'], 'answer_start': [142]}\n",
              "Name: 153, dtype: object"
            ]
          },
          "metadata": {}
        },
        {
          "output_type": "display_data",
          "data": {
            "text/plain": [
              "id                                   57339c184776f41900660ea5\n",
              "title                                University_of_Notre_Dame\n",
              "context     The university owns several centers around the...\n",
              "question    In what year did Notre Dame first have a facil...\n",
              "answers             {'text': ['1968'], 'answer_start': [198]}\n",
              "Name: 157, dtype: object"
            ]
          },
          "metadata": {}
        },
        {
          "output_type": "display_data",
          "data": {
            "text/plain": [
              "id                                   5733a3cbd058e614000b5f3f\n",
              "title                                University_of_Notre_Dame\n",
              "context     The College of Arts and Letters was establishe...\n",
              "question                 What was Notre Dame's first college?\n",
              "answers     {'text': ['The College of Arts and Letters'], ...\n",
              "Name: 161, dtype: object"
            ]
          },
          "metadata": {}
        },
        {
          "output_type": "display_data",
          "data": {
            "text/plain": [
              "id                                   5733a4c54776f41900660f2d\n",
              "title                                University_of_Notre_Dame\n",
              "context     The College of Science was established at the ...\n",
              "question    Which president at Notre Dame created the Coll...\n",
              "answers     {'text': ['Father Patrick Dillon'], 'answer_st...\n",
              "Name: 166, dtype: object"
            ]
          },
          "metadata": {}
        },
        {
          "output_type": "display_data",
          "data": {
            "text/plain": [
              "id                                   5733a55a4776f41900660f3a\n",
              "title                                University_of_Notre_Dame\n",
              "context     The School of Architecture was established in ...\n",
              "question             In 1899 Notre Dame formed which college?\n",
              "answers     {'text': ['School of Architecture'], 'answer_s...\n",
              "Name: 171, dtype: object"
            ]
          },
          "metadata": {}
        },
        {
          "output_type": "display_data",
          "data": {
            "text/plain": [
              "id                                   5733adb64776f41900661001\n",
              "title                                University_of_Notre_Dame\n",
              "context     The library system also includes branch librar...\n",
              "question    In what year did the opening of a theology lib...\n",
              "answers             {'text': ['2015'], 'answer_start': [388]}\n",
              "Name: 176, dtype: object"
            ]
          },
          "metadata": {}
        },
        {
          "output_type": "display_data",
          "data": {
            "text/plain": [
              "id                                   5733b496d058e614000b60ce\n",
              "title                                University_of_Notre_Dame\n",
              "context     The rise of Hitler and other dictators in the ...\n",
              "question    What caused many intellectual Catholics to lea...\n",
              "answers     {'text': ['The rise of Hitler and other dictat...\n",
              "Name: 180, dtype: object"
            ]
          },
          "metadata": {}
        },
        {
          "output_type": "display_data",
          "data": {
            "text/plain": [
              "id                                   573382a14776f41900660c2d\n",
              "title                                University_of_Notre_Dame\n",
              "context     The University of Notre Dame du Lac (or simply...\n",
              "question    The school known as Notre Dame is known by a m...\n",
              "answers     {'text': ['University of Notre Dame du'], 'ans...\n",
              "Name: 185, dtype: object"
            ]
          },
          "metadata": {}
        },
        {
          "output_type": "display_data",
          "data": {
            "text/plain": [
              "id                                   573383494776f41900660c41\n",
              "title                                University_of_Notre_Dame\n",
              "context     Notre Dame rose to national prominence in the ...\n",
              "question    What caused Notre Dame to become notable in th...\n",
              "answers     {'text': ['its Fighting Irish football team'],...\n",
              "Name: 190, dtype: object"
            ]
          },
          "metadata": {}
        },
        {
          "output_type": "display_data",
          "data": {
            "text/plain": [
              "id                                   573383e94776f41900660c5a\n",
              "title                                University_of_Notre_Dame\n",
              "context     Besides its prominence in sports, Notre Dame i...\n",
              "question    Where among US universities does Notre Dame rank?\n",
              "answers     {'text': ['among the top twenty'], 'answer_sta...\n",
              "Name: 195, dtype: object"
            ]
          },
          "metadata": {}
        },
        {
          "output_type": "display_data",
          "data": {
            "text/plain": [
              "id                                   5733849bd058e614000b5c56\n",
              "title                                University_of_Notre_Dame\n",
              "context     In 1842, the Bishop of Vincennes, Célestine Gu...\n",
              "question    In what year was Father Edward Sorin given two...\n",
              "answers               {'text': ['1842'], 'answer_start': [3]}\n",
              "Name: 200, dtype: object"
            ]
          },
          "metadata": {}
        },
        {
          "output_type": "display_data",
          "data": {
            "text/plain": [
              "id                                   573385394776f41900660c7f\n",
              "title                                University_of_Notre_Dame\n",
              "context     The first degrees from the college were awarde...\n",
              "question    In what year did the initial degrees get hande...\n",
              "answers              {'text': ['1849'], 'answer_start': [51]}\n",
              "Name: 205, dtype: object"
            ]
          },
          "metadata": {}
        },
        {
          "output_type": "display_data",
          "data": {
            "text/plain": [
              "id                                   5733c0064776f41900661198\n",
              "title                                University_of_Notre_Dame\n",
              "context     The television station, NDtv, grew from one sh...\n",
              "question    Which television station finds its home at Not...\n",
              "answers              {'text': ['NDtv'], 'answer_start': [24]}\n",
              "Name: 210, dtype: object"
            ]
          },
          "metadata": {}
        },
        {
          "output_type": "display_data",
          "data": {
            "text/plain": [
              "id                                   5733c0e6d058e614000b61d7\n",
              "title                                University_of_Notre_Dame\n",
              "context     The first phase of Eddy Street Commons, a $215...\n",
              "question    How much is Eddy Street Commons at Notre Dame ...\n",
              "answers      {'text': ['$215 million'], 'answer_start': [42]}\n",
              "Name: 214, dtype: object"
            ]
          },
          "metadata": {}
        },
        {
          "output_type": "display_data",
          "data": {
            "text/plain": [
              "id                                   5733c1a94776f419006611a6\n",
              "title                                University_of_Notre_Dame\n",
              "context     Notre Dame teams are known as the Fighting Iri...\n",
              "question                What does the acronym NCAA stand for?\n",
              "answers     {'text': ['National Collegiate Athletic Associ...\n",
              "Name: 219, dtype: object"
            ]
          },
          "metadata": {}
        },
        {
          "output_type": "display_data",
          "data": {
            "text/plain": [
              "id                                   5733c29c4776f419006611b8\n",
              "title                                University_of_Notre_Dame\n",
              "context     Notre Dame's conference affiliations for all o...\n",
              "question    To what conference did the Fighting Irish go a...\n",
              "answers          {'text': ['the ACC'], 'answer_start': [239]}\n",
              "Name: 224, dtype: object"
            ]
          },
          "metadata": {}
        },
        {
          "output_type": "display_data",
          "data": {
            "text/plain": [
              "id                                   5733c3184776f419006611c2\n",
              "title                                University_of_Notre_Dame\n",
              "context     On July 1, 2014, the University of Notre Dame ...\n",
              "question    Who currently provides uniforms to Notre Dame ...\n",
              "answers      {'text': ['Under Armour'], 'answer_start': [50]}\n",
              "Name: 229, dtype: object"
            ]
          },
          "metadata": {}
        },
        {
          "output_type": "display_data",
          "data": {
            "text/plain": [
              "id                                   5733c4494776f419006611da\n",
              "title                                University_of_Notre_Dame\n",
              "context     The Notre Dame football team has a long histor...\n",
              "question    Which team did Notre Dame's football team find...\n",
              "answers     {'text': ['Michigan Wolverines football team']...\n",
              "Name: 234, dtype: object"
            ]
          },
          "metadata": {}
        },
        {
          "output_type": "display_data",
          "data": {
            "text/plain": [
              "id                                   5733c743d058e614000b622d\n",
              "title                                University_of_Notre_Dame\n",
              "context     George Gipp was the school's legendary footbal...\n",
              "question    What notable football player played at Notre D...\n",
              "answers        {'text': ['George Gipp'], 'answer_start': [0]}\n",
              "Name: 239, dtype: object"
            ]
          },
          "metadata": {}
        },
        {
          "output_type": "display_data",
          "data": {
            "text/plain": [
              "id                                   5733ca05d058e614000b6263\n",
              "title                                University_of_Notre_Dame\n",
              "context     Football gameday traditions During home games,...\n",
              "question    What is displayed at Zahm House for football h...\n",
              "answers     {'text': ['two-story banner'], 'answer_start':...\n",
              "Name: 244, dtype: object"
            ]
          },
          "metadata": {}
        },
        {
          "output_type": "display_data",
          "data": {
            "text/plain": [
              "id                                   5733caf74776f4190066124c\n",
              "title                                University_of_Notre_Dame\n",
              "context     The men's basketball team has over 1,600 wins,...\n",
              "question    How many wins does the Notre Dame men's basket...\n",
              "answers        {'text': ['over 1,600'], 'answer_start': [30]}\n",
              "Name: 249, dtype: object"
            ]
          },
          "metadata": {}
        },
        {
          "output_type": "display_data",
          "data": {
            "text/plain": [
              "id                                   5733cbdad058e614000b628d\n",
              "title                                University_of_Notre_Dame\n",
              "context     The \"Notre Dame Victory March\" is the fight so...\n",
              "question    Who wrote the original lyrics to the Notre Dam...\n",
              "answers     {'text': ['John F. Shea'], 'answer_start': [222]}\n",
              "Name: 254, dtype: object"
            ]
          },
          "metadata": {}
        },
        {
          "output_type": "display_data",
          "data": {
            "text/plain": [
              "id                                   5733ccbe4776f41900661270\n",
              "title                                University_of_Notre_Dame\n",
              "context     In the film Knute Rockne, All American, Knute ...\n",
              "question           Ronald Reagan had a nickname, what was it?\n",
              "answers       {'text': ['The Gipper'], 'answer_start': [267]}\n",
              "Name: 259, dtype: object"
            ]
          },
          "metadata": {}
        },
        {
          "output_type": "display_data",
          "data": {
            "text/plain": [
              "id                                   5733cd504776f4190066128e\n",
              "title                                University_of_Notre_Dame\n",
              "context     Notre Dame alumni work in various fields. Alum...\n",
              "question        Which Secretary of State attended Notre Dame?\n",
              "answers     {'text': ['Condoleezza Rice'], 'answer_start':...\n",
              "Name: 264, dtype: object"
            ]
          },
          "metadata": {}
        },
        {
          "output_type": "display_data",
          "data": {
            "text/plain": [
              "id                                   56be85543aeaaa14008c9063\n",
              "title                                                 Beyoncé\n",
              "context     Beyoncé Giselle Knowles-Carter (/biːˈjɒnseɪ/ b...\n",
              "question             When did Beyonce start becoming popular?\n",
              "answers     {'text': ['in the late 1990s'], 'answer_start'...\n",
              "Name: 269, dtype: object"
            ]
          },
          "metadata": {}
        },
        {
          "output_type": "display_data",
          "data": {
            "text/plain": [
              "id                                   56be86cf3aeaaa14008c9076\n",
              "title                                                 Beyoncé\n",
              "context     Following the disbandment of Destiny's Child i...\n",
              "question    After her second solo album, what other entert...\n",
              "answers           {'text': ['acting'], 'answer_start': [207]}\n",
              "Name: 289, dtype: object"
            ]
          },
          "metadata": {}
        },
        {
          "output_type": "display_data",
          "data": {
            "text/plain": [
              "id                                   56be88473aeaaa14008c9080\n",
              "title                                                 Beyoncé\n",
              "context     A self-described \"modern-day feminist\", Beyonc...\n",
              "question    In her music, what are some recurring elements...\n",
              "answers     {'text': ['love, relationships, and monogamy']...\n",
              "Name: 301, dtype: object"
            ]
          },
          "metadata": {}
        },
        {
          "output_type": "display_data",
          "data": {
            "text/plain": [
              "id                                   56be892d3aeaaa14008c908b\n",
              "title                                                 Beyoncé\n",
              "context     Beyoncé Giselle Knowles was born in Houston, T...\n",
              "question    Beyonce's younger sibling also sang with her i...\n",
              "answers     {'text': ['Destiny's Child'], 'answer_start': ...\n",
              "Name: 313, dtype: object"
            ]
          },
          "metadata": {}
        },
        {
          "output_type": "display_data",
          "data": {
            "text/plain": [
              "id                                   56be8a583aeaaa14008c9094\n",
              "title                                                 Beyoncé\n",
              "context     Beyoncé attended St. Mary's Elementary School ...\n",
              "question               What town did Beyonce go to school in?\n",
              "answers     {'text': ['Fredericksburg'], 'answer_start': [...\n",
              "Name: 326, dtype: object"
            ]
          },
          "metadata": {}
        },
        {
          "output_type": "display_data",
          "data": {
            "text/plain": [
              "id                                   56be8bab3aeaaa14008c909f\n",
              "title                                                 Beyoncé\n",
              "context     At age eight, Beyoncé and childhood friend Kel...\n",
              "question    Who decided to place Beyonce's group in Star S...\n",
              "answers      {'text': ['Arne Frager'], 'answer_start': [303]}\n",
              "Name: 337, dtype: object"
            ]
          },
          "metadata": {}
        },
        {
          "output_type": "display_data",
          "data": {
            "text/plain": [
              "id                                   56be8c8a3aeaaa14008c90a9\n",
              "title                                                 Beyoncé\n",
              "context     The group changed their name to Destiny's Chil...\n",
              "question    Which film featured Destiny's Child's first ma...\n",
              "answers     {'text': ['Men in Black'], 'answer_start': [215]}\n",
              "Name: 350, dtype: object"
            ]
          },
          "metadata": {}
        },
        {
          "output_type": "display_data",
          "data": {
            "text/plain": [
              "id                                   56be8d423aeaaa14008c90b2\n",
              "title                                                 Beyoncé\n",
              "context     LeToya Luckett and Roberson became unhappy wit...\n",
              "question     What mental health issue did Beyonce go through?\n",
              "answers       {'text': ['depression'], 'answer_start': [169]}\n",
              "Name: 363, dtype: object"
            ]
          },
          "metadata": {}
        },
        {
          "output_type": "display_data",
          "data": {
            "text/plain": [
              "id                                   56be8e353aeaaa14008c90c6\n",
              "title                                                 Beyoncé\n",
              "context     The remaining band members recorded \"Independe...\n",
              "question    \"Charlie's Angels\" featured which single from ...\n",
              "answers     {'text': ['Independent Women Part I'], 'answer...\n",
              "Name: 373, dtype: object"
            ]
          },
          "metadata": {}
        },
        {
          "output_type": "display_data",
          "data": {
            "text/plain": [
              "id                                   56be8fdf3aeaaa14008c90da\n",
              "title                                                 Beyoncé\n",
              "context     In July 2002, Beyoncé continued her acting car...\n",
              "question    Who did Beyonce star with in the movie, \"Austi...\n",
              "answers        {'text': ['Mike Myers'], 'answer_start': [84]}\n",
              "Name: 384, dtype: object"
            ]
          },
          "metadata": {}
        },
        {
          "output_type": "display_data",
          "data": {
            "text/plain": [
              "id                                   56be90ee3aeaaa14008c90e4\n",
              "title                                                 Beyoncé\n",
              "context     Beyoncé's first solo recording was a feature o...\n",
              "question    What was the highest Beyonce's first solo reco...\n",
              "answers      {'text': ['number four'], 'answer_start': [123]}\n",
              "Name: 399, dtype: object"
            ]
          },
          "metadata": {}
        },
        {
          "output_type": "display_data",
          "data": {
            "text/plain": [
              "id                                   56be91b23aeaaa14008c90f0\n",
              "title                                                 Beyoncé\n",
              "context     In November 2003, she embarked on the Dangerou...\n",
              "question        Destiny's Child's final album was named what?\n",
              "answers     {'text': ['Destiny Fulfilled'], 'answer_start'...\n",
              "Name: 413, dtype: object"
            ]
          },
          "metadata": {}
        },
        {
          "output_type": "display_data",
          "data": {
            "text/plain": [
              "id                                   56be932e3aeaaa14008c90f9\n",
              "title                                                 Beyoncé\n",
              "context     Beyoncé's second solo album B'Day was released...\n",
              "question    How many albums did Beyonce sell in the first ...\n",
              "answers          {'text': ['541,000'], 'answer_start': [132]}\n",
              "Name: 423, dtype: object"
            ]
          },
          "metadata": {}
        },
        {
          "output_type": "display_data",
          "data": {
            "text/plain": [
              "id                                   56be94703aeaaa14008c9102\n",
              "title                                                 Beyoncé\n",
              "context     Her first acting role of 2006 was in the comed...\n",
              "question                  What movie did Beyonce act in 2006?\n",
              "answers     {'text': ['The Pink Panther'], 'answer_start':...\n",
              "Name: 434, dtype: object"
            ]
          },
          "metadata": {}
        },
        {
          "output_type": "display_data",
          "data": {
            "text/plain": [
              "id                                   56be95823aeaaa14008c910c\n",
              "title                                                 Beyoncé\n",
              "context     On April 4, 2008, Beyoncé married Jay Z. She p...\n",
              "question                 Beyonce got married in 2008 to whom?\n",
              "answers             {'text': ['Jay Z'], 'answer_start': [34]}\n",
              "Name: 447, dtype: object"
            ]
          },
          "metadata": {}
        },
        {
          "output_type": "display_data",
          "data": {
            "text/plain": [
              "id                                   56be96653aeaaa14008c9116\n",
              "title                                                 Beyoncé\n",
              "context     Beyoncé further expanded her acting career, st...\n",
              "question    Beyonce portrayed which character in the film,...\n",
              "answers        {'text': ['Etta James'], 'answer_start': [69]}\n",
              "Name: 461, dtype: object"
            ]
          },
          "metadata": {}
        },
        {
          "output_type": "display_data",
          "data": {
            "text/plain": [
              "id                                   56be973d3aeaaa14008c9120\n",
              "title                                                 Beyoncé\n",
              "context     At the 52nd Annual Grammy Awards, Beyoncé rece...\n",
              "question    How many awards was Beyonce nominated for at t...\n",
              "answers               {'text': ['ten'], 'answer_start': [51]}\n",
              "Name: 474, dtype: object"
            ]
          },
          "metadata": {}
        },
        {
          "output_type": "display_data",
          "data": {
            "text/plain": [
              "id                                   56be97c73aeaaa14008c912a\n",
              "title                                                 Beyoncé\n",
              "context     Beyoncé announced a hiatus from her music care...\n",
              "question    Beyonce would take a break from music in which...\n",
              "answers              {'text': ['2010'], 'answer_start': [60]}\n",
              "Name: 488, dtype: object"
            ]
          },
          "metadata": {}
        },
        {
          "output_type": "display_data",
          "data": {
            "text/plain": [
              "id                                   56be99b53aeaaa14008c913e\n",
              "title                                                 Beyoncé\n",
              "context     In 2011, documents obtained by WikiLeaks revea...\n",
              "question    In which year was reports about Beyonce perfor...\n",
              "answers               {'text': ['2011'], 'answer_start': [3]}\n",
              "Name: 499, dtype: object"
            ]
          },
          "metadata": {}
        },
        {
          "output_type": "display_data",
          "data": {
            "text/plain": [
              "id                                   56be9add3aeaaa14008c9152\n",
              "title                                                 Beyoncé\n",
              "context     Her fourth studio album 4 was released on June...\n",
              "question         Beyonce's fourth album debuted in what year?\n",
              "answers              {'text': ['2011'], 'answer_start': [51]}\n",
              "Name: 512, dtype: object"
            ]
          },
          "metadata": {}
        },
        {
          "output_type": "display_data",
          "data": {
            "text/plain": [
              "id                                   56be9bb83aeaaa14008c915c\n",
              "title                                                 Beyoncé\n",
              "context     On January 7, 2012, Beyoncé gave birth to her ...\n",
              "question               When did Beyonce have her first child?\n",
              "answers     {'text': ['January 7, 2012'], 'answer_start': ...\n",
              "Name: 525, dtype: object"
            ]
          },
          "metadata": {}
        },
        {
          "output_type": "display_data",
          "data": {
            "text/plain": [
              "id                                   56be9c863aeaaa14008c9166\n",
              "title                                                 Beyoncé\n",
              "context     In January 2013, Destiny's Child released Love...\n",
              "question    Destiny's Child released a compilation album a...\n",
              "answers           {'text': ['romance'], 'answer_start': [81]}\n",
              "Name: 538, dtype: object"
            ]
          },
          "metadata": {}
        },
        {
          "output_type": "display_data",
          "data": {
            "text/plain": [
              "id                                   56be9d3d3aeaaa14008c9170\n",
              "title                                                 Beyoncé\n",
              "context     Beyoncé embarked on The Mrs. Carter Show World...\n",
              "question    How many dates did Beyonce's \"The Mrs. Carter ...\n",
              "answers              {'text': ['132'], 'answer_start': [103]}\n",
              "Name: 550, dtype: object"
            ]
          },
          "metadata": {}
        },
        {
          "output_type": "display_data",
          "data": {
            "text/plain": [
              "id                                   56be9e453aeaaa14008c917a\n",
              "title                                                 Beyoncé\n",
              "context     On December 13, 2013, Beyoncé unexpectedly rel...\n",
              "question    Where did Beyonce release her 5th album to a h...\n",
              "answers     {'text': ['the iTunes Store'], 'answer_start':...\n",
              "Name: 563, dtype: object"
            ]
          },
          "metadata": {}
        },
        {
          "output_type": "display_data",
          "data": {
            "text/plain": [
              "id                                   56be9eea3aeaaa14008c9184\n",
              "title                                                 Beyoncé\n",
              "context     At the 57th Annual Grammy Awards in February 2...\n",
              "question    How many awards did Beyonce take home with her...\n",
              "answers            {'text': ['three'], 'answer_start': [108]}\n",
              "Name: 573, dtype: object"
            ]
          },
          "metadata": {}
        },
        {
          "output_type": "display_data",
          "data": {
            "text/plain": [
              "id                                   56bea27b3aeaaa14008c9199\n",
              "title                                                 Beyoncé\n",
              "context     On February 6, 2016, one day before her perfor...\n",
              "question    Beyonce released the song \"Formation\" on which...\n",
              "answers            {'text': ['Tidal'], 'answer_start': [140]}\n",
              "Name: 589, dtype: object"
            ]
          },
          "metadata": {}
        },
        {
          "output_type": "display_data",
          "data": {
            "text/plain": [
              "id                                   56bea5f23aeaaa14008c91a1\n",
              "title                                                 Beyoncé\n",
              "context     Beyoncé is believed to have first started a re...\n",
              "question    As of April 2014, how many albums have Jay Z a...\n",
              "answers      {'text': ['300 million'], 'answer_start': [447]}\n",
              "Name: 597, dtype: object"
            ]
          },
          "metadata": {}
        },
        {
          "output_type": "display_data",
          "data": {
            "text/plain": [
              "id                                   56bea8463aeaaa14008c91a9\n",
              "title                                                 Beyoncé\n",
              "context     In August, the couple attended the 2011 MTV Vi...\n",
              "question    Jay Z and Beyonce attended which event togethe...\n",
              "answers     {'text': ['MTV Video Music Awards'], 'answer_s...\n",
              "Name: 610, dtype: object"
            ]
          },
          "metadata": {}
        },
        {
          "output_type": "display_data",
          "data": {
            "text/plain": [
              "id                                   56bea9043aeaaa14008c91b1\n",
              "title                                                 Beyoncé\n",
              "context     On January 7, 2012, Beyoncé gave birth to a da...\n",
              "question                     Jay Z has a website called what?\n",
              "answers     {'text': ['Lifeandtimes.com'], 'answer_start':...\n",
              "Name: 622, dtype: object"
            ]
          },
          "metadata": {}
        },
        {
          "output_type": "display_data",
          "data": {
            "text/plain": [
              "id                                   56beab283aeaaa14008c91cc\n",
              "title                                                 Beyoncé\n",
              "context     Beyoncé and husband Jay Z are friends with Pre...\n",
              "question    Beyonce and Jay-Z went to a rally for the acqu...\n",
              "answers     {'text': ['George Zimmerman'], 'answer_start':...\n",
              "Name: 634, dtype: object"
            ]
          },
          "metadata": {}
        },
        {
          "output_type": "display_data",
          "data": {
            "text/plain": [
              "id                                   56beabab3aeaaa14008c91db\n",
              "title                                                 Beyoncé\n",
              "context     In an interview published by Vogue in April 20...\n",
              "question    Beyonce did an interview with which magazine a...\n",
              "answers             {'text': ['Vogue'], 'answer_start': [29]}\n",
              "Name: 644, dtype: object"
            ]
          },
          "metadata": {}
        },
        {
          "output_type": "display_data",
          "data": {
            "text/plain": [
              "id                                   56beb0683aeaaa14008c9211\n",
              "title                                                 Beyoncé\n",
              "context     In 2015 Beyoncé signed an open letter which th...\n",
              "question            Beyonce signed a letter with who in 2015?\n",
              "answers     {'text': ['the ONE Campaign'], 'answer_start':...\n",
              "Name: 653, dtype: object"
            ]
          },
          "metadata": {}
        },
        {
          "output_type": "display_data",
          "data": {
            "text/plain": [
              "id                                   56beb2a43aeaaa14008c9239\n",
              "title                                                 Beyoncé\n",
              "context     Following the death of Freddie Gray, Beyoncé a...\n",
              "question    Beyonce along with Jay Z met with whom's famil...\n",
              "answers      {'text': ['Freddie Gray'], 'answer_start': [23]}\n",
              "Name: 665, dtype: object"
            ]
          },
          "metadata": {}
        },
        {
          "output_type": "display_data",
          "data": {
            "text/plain": [
              "id                                   56beb4023aeaaa14008c9252\n",
              "title                                                 Beyoncé\n",
              "context     Forbes magazine began reporting on Beyoncé's e...\n",
              "question    Beyonce beat out which musical artists for mos...\n",
              "answers     {'text': ['Madonna and Celine Dion'], 'answer_...\n",
              "Name: 669, dtype: object"
            ]
          },
          "metadata": {}
        },
        {
          "output_type": "display_data",
          "data": {
            "text/plain": [
              "id                                   56beb50f3aeaaa14008c926f\n",
              "title                                                 Beyoncé\n",
              "context     Beyoncé's vocal range spans four octaves. Jody...\n",
              "question      Beyonce's range in singing is how many octaves?\n",
              "answers              {'text': ['four'], 'answer_start': [28]}\n",
              "Name: 682, dtype: object"
            ]
          },
          "metadata": {}
        },
        {
          "output_type": "display_data",
          "data": {
            "text/plain": [
              "id                                   56beb5b23aeaaa14008c9283\n",
              "title                                                 Beyoncé\n",
              "context     Beyoncé's music is generally R&B, but she also...\n",
              "question    Music from Beyonce is generally categorized as...\n",
              "answers               {'text': ['R&B'], 'answer_start': [29]}\n",
              "Name: 694, dtype: object"
            ]
          },
          "metadata": {}
        },
        {
          "output_type": "display_data",
          "data": {
            "text/plain": [
              "id                                   56beb67d3aeaaa14008c929a\n",
              "title                                                 Beyoncé\n",
              "context     She has received co-writing credits for most o...\n",
              "question    Beyonce does not create which aspect of her mu...\n",
              "answers            {'text': ['beats'], 'answer_start': [521]}\n",
              "Name: 707, dtype: object"
            ]
          },
          "metadata": {}
        },
        {
          "output_type": "display_data",
          "data": {
            "text/plain": [
              "id                                   56beb9203aeaaa14008c92d1\n",
              "title                                                 Beyoncé\n",
              "context     In 2001, she became the first African-American...\n",
              "question    Pop Songwriter of the Year award in 2001 was a...\n",
              "answers          {'text': ['Beyoncé'], 'answer_start': [205]}\n",
              "Name: 716, dtype: object"
            ]
          },
          "metadata": {}
        },
        {
          "output_type": "display_data",
          "data": {
            "text/plain": [
              "id                                   56beba293aeaaa14008c92ef\n",
              "title                                                 Beyoncé\n",
              "context     Beyoncé names Michael Jackson as her major mus...\n",
              "question    To whom did Beyonce credit as her major influe...\n",
              "answers     {'text': ['Michael Jackson'], 'answer_start': ...\n",
              "Name: 728, dtype: object"
            ]
          },
          "metadata": {}
        },
        {
          "output_type": "display_data",
          "data": {
            "text/plain": [
              "id                                   56bebba63aeaaa14008c930b\n",
              "title                                                 Beyoncé\n",
              "context     The feminism and female empowerment themes on ...\n",
              "question    What themes were influenced by her acting role...\n",
              "answers     {'text': ['feminism and female empowerment'], ...\n",
              "Name: 739, dtype: object"
            ]
          },
          "metadata": {}
        },
        {
          "output_type": "display_data",
          "data": {
            "text/plain": [
              "id                                   56bec1c53aeaaa14008c936b\n",
              "title                                                 Beyoncé\n",
              "context     Beyoncé has stated that she is personally insp...\n",
              "question    Beyonce has noted which first lady with saying...\n",
              "answers     {'text': ['Michelle Obama'], 'answer_start': [...\n",
              "Name: 747, dtype: object"
            ]
          },
          "metadata": {}
        },
        {
          "output_type": "display_data",
          "data": {
            "text/plain": [
              "id                                   56bec29b3aeaaa14008c937f\n",
              "title                                                 Beyoncé\n",
              "context     In 2006, Beyoncé introduced her all-female tou...\n",
              "question    Beyonce had an all-female tour band whose name...\n",
              "answers         {'text': ['Suga Mama'], 'answer_start': [53]}\n",
              "Name: 759, dtype: object"
            ]
          },
          "metadata": {}
        },
        {
          "output_type": "display_data",
          "data": {
            "text/plain": [
              "id                                   56bec3303aeaaa14008c9391\n",
              "title                                                 Beyoncé\n",
              "context     Beyoncé has received praise for her stage pres...\n",
              "question    What characteristics has Beyonce received accl...\n",
              "answers     {'text': ['stage presence and voice'], 'answer...\n",
              "Name: 771, dtype: object"
            ]
          },
          "metadata": {}
        },
        {
          "output_type": "display_data",
          "data": {
            "text/plain": [
              "id                                   56bec3ea3aeaaa14008c939f\n",
              "title                                                 Beyoncé\n",
              "context     Described as being \"sexy, seductive and provoc...\n",
              "question     Beyonce self proclaimed alter ego is named what?\n",
              "answers     {'text': ['Sasha Fierce'], 'answer_start': [139]}\n",
              "Name: 779, dtype: object"
            ]
          },
          "metadata": {}
        },
        {
          "output_type": "display_data",
          "data": {
            "text/plain": [
              "id                                   56bec4de3aeaaa14008c93bb\n",
              "title                                                 Beyoncé\n",
              "context     Beyoncé has been described as a having a wide-...\n",
              "question       Beyonce's sex appeal is characterized as what?\n",
              "answers      {'text': ['wide-ranging'], 'answer_start': [41]}\n",
              "Name: 789, dtype: object"
            ]
          },
          "metadata": {}
        },
        {
          "output_type": "display_data",
          "data": {
            "text/plain": [
              "id                                   56bec5d53aeaaa14008c93d9\n",
              "title                                                 Beyoncé\n",
              "context     In September 2010, Beyoncé made her runway mod...\n",
              "question    in September 2010, what career area did Beyonc...\n",
              "answers         {'text': ['modelling'], 'answer_start': [43]}\n",
              "Name: 800, dtype: object"
            ]
          },
          "metadata": {}
        },
        {
          "output_type": "display_data",
          "data": {
            "text/plain": [
              "id                                   56bec6763aeaaa14008c93f4\n",
              "title                                                 Beyoncé\n",
              "context     According to Italian fashion designer Roberto ...\n",
              "question      Which parent of Beyonce's help co-write a book?\n",
              "answers       {'text': ['Her mother'], 'answer_start': [134]}\n",
              "Name: 813, dtype: object"
            ]
          },
          "metadata": {}
        },
        {
          "output_type": "display_data",
          "data": {
            "text/plain": [
              "id                                   56bec6de3aeaaa14008c9407\n",
              "title                                                 Beyoncé\n",
              "context     The Bey Hive is the name given to Beyoncé's fa...\n",
              "question    Beyonce has a fan base that is referred to as ...\n",
              "answers       {'text': ['The Bey Hive'], 'answer_start': [0]}\n",
              "Name: 820, dtype: object"
            ]
          },
          "metadata": {}
        },
        {
          "output_type": "display_data",
          "data": {
            "text/plain": [
              "id                                   56bec7b63aeaaa14008c9422\n",
              "title                                                 Beyoncé\n",
              "context     In 2006, the animal rights organization People...\n",
              "question           Beyonce has a clothing line known as what?\n",
              "answers     {'text': ['House of Deréon'], 'answer_start': ...\n",
              "Name: 828, dtype: object"
            ]
          },
          "metadata": {}
        },
        {
          "output_type": "display_data",
          "data": {
            "text/plain": [
              "id                                   56bec8a13aeaaa14008c943f\n",
              "title                                                 Beyoncé\n",
              "context     Beyoncé's lighter skin color and costuming has...\n",
              "question    Which racial community gave criticism to Beyonce?\n",
              "answers     {'text': ['African-American'], 'answer_start':...\n",
              "Name: 838, dtype: object"
            ]
          },
          "metadata": {}
        },
        {
          "output_type": "display_data",
          "data": {
            "text/plain": [
              "id                                   56bec94f3aeaaa14008c944f\n",
              "title                                                 Beyoncé\n",
              "context     In The New Yorker music critic Jody Rosen desc...\n",
              "question    Artist of the Decade was bestowed upon Beyonce...\n",
              "answers     {'text': ['The Guardian'], 'answer_start': [215]}\n",
              "Name: 848, dtype: object"
            ]
          },
          "metadata": {}
        },
        {
          "output_type": "display_data",
          "data": {
            "text/plain": [
              "id                                   56bec9f13aeaaa14008c9467\n",
              "title                                                 Beyoncé\n",
              "context     Beyoncé's work has influenced numerous artists...\n",
              "question    Which rock band cited Beyonce on their third a...\n",
              "answers     {'text': ['White Rabbits'], 'answer_start': [2...\n",
              "Name: 860, dtype: object"
            ]
          },
          "metadata": {}
        },
        {
          "output_type": "display_data",
          "data": {
            "text/plain": [
              "id                                   56beca973aeaaa14008c9477\n",
              "title                                                 Beyoncé\n",
              "context     Her debut single, \"Crazy in Love\" was named VH...\n",
              "question    VH1 declared what song the \"Greatest song of t...\n",
              "answers     {'text': ['Crazy in Love'], 'answer_start': [19]}\n",
              "Name: 872, dtype: object"
            ]
          },
          "metadata": {}
        },
        {
          "output_type": "display_data",
          "data": {
            "text/plain": [
              "id                                   56becb8d3aeaaa14008c9495\n",
              "title                                                 Beyoncé\n",
              "context     Beyoncé has received numerous awards. As a sol...\n",
              "question    How many copies of her albums as Beyonce sold ...\n",
              "answers        {'text': ['15 million'], 'answer_start': [73]}\n",
              "Name: 884, dtype: object"
            ]
          },
          "metadata": {}
        },
        {
          "output_type": "display_data",
          "data": {
            "text/plain": [
              "id                                   56becc903aeaaa14008c949f\n",
              "title                                                 Beyoncé\n",
              "context     Beyoncé has won 20 Grammy Awards, both as a so...\n",
              "question    How many Grammys has Beyonce won total with an...\n",
              "answers                {'text': ['20'], 'answer_start': [16]}\n",
              "Name: 899, dtype: object"
            ]
          },
          "metadata": {}
        },
        {
          "output_type": "display_data",
          "data": {
            "text/plain": [
              "id                                   56bed07e3aeaaa14008c94a9\n",
              "title                                                 Beyoncé\n",
              "context     Beyoncé has worked with Pepsi since 2002, and ...\n",
              "question    Which soda company has Beyonce partnered with ...\n",
              "answers             {'text': ['Pepsi'], 'answer_start': [24]}\n",
              "Name: 912, dtype: object"
            ]
          },
          "metadata": {}
        },
        {
          "output_type": "display_data",
          "data": {
            "text/plain": [
              "id                                   56bed1243aeaaa14008c94b3\n",
              "title                                                 Beyoncé\n",
              "context     Beyoncé has worked with Tommy Hilfiger for the...\n",
              "question    Beyonce worked with who on her perfumes, True ...\n",
              "answers     {'text': ['Tommy Hilfiger'], 'answer_start': [...\n",
              "Name: 924, dtype: object"
            ]
          },
          "metadata": {}
        },
        {
          "output_type": "display_data",
          "data": {
            "text/plain": [
              "id                                   56bed17a3aeaaa14008c94bd\n",
              "title                                                 Beyoncé\n",
              "context     The release of a video-game Starpower: Beyoncé...\n",
              "question    How young was Beyonce when she acquired deals ...\n",
              "answers               {'text': ['18'], 'answer_start': [450]}\n",
              "Name: 937, dtype: object"
            ]
          },
          "metadata": {}
        },
        {
          "output_type": "display_data",
          "data": {
            "text/plain": [
              "id                                   56bed22d3aeaaa14008c94c1\n",
              "title                                                 Beyoncé\n",
              "context     In October 2014, it was announced that Beyoncé...\n",
              "question    Who did Bayonce's management go into business ...\n",
              "answers     {'text': ['fashion retailer Topshop'], 'answer...\n",
              "Name: 947, dtype: object"
            ]
          },
          "metadata": {}
        },
        {
          "output_type": "display_data",
          "data": {
            "text/plain": [
              "id                                   56bed2993aeaaa14008c94c9\n",
              "title                                                 Beyoncé\n",
              "context     On March 30, 2015, it was announced that Beyon...\n",
              "question    When was it discovered Beyonce was a co-owner ...\n",
              "answers     {'text': ['March 30, 2015'], 'answer_start': [3]}\n",
              "Name: 957, dtype: object"
            ]
          },
          "metadata": {}
        },
        {
          "output_type": "display_data",
          "data": {
            "text/plain": [
              "id                                   56bed32f3aeaaa14008c94cf\n",
              "title                                                 Beyoncé\n",
              "context     Beyoncé and her mother introduced House of Der...\n",
              "question    House of Dereon became known through Beyonce a...\n",
              "answers        {'text': ['her mother'], 'answer_start': [12]}\n",
              "Name: 966, dtype: object"
            ]
          },
          "metadata": {}
        },
        {
          "output_type": "display_data",
          "data": {
            "text/plain": [
              "id                                   56bed38e3aeaaa14008c94d9\n",
              "title                                                 Beyoncé\n",
              "context     In 2005, Beyoncé teamed up with House of Brand...\n",
              "question    What type of accessory company did Beyonce par...\n",
              "answers              {'text': ['shoe'], 'answer_start': [51]}\n",
              "Name: 977, dtype: object"
            ]
          },
          "metadata": {}
        },
        {
          "output_type": "display_data",
          "data": {
            "text/plain": [
              "id                                   56bed3e63aeaaa14008c94e0\n",
              "title                                                 Beyoncé\n",
              "context     In October 2014, Beyoncé signed a deal to laun...\n",
              "question    Beyonce, during October 2014, partnered with w...\n",
              "answers          {'text': ['Topshop'], 'answer_start': [110]}\n",
              "Name: 988, dtype: object"
            ]
          },
          "metadata": {}
        },
        {
          "output_type": "display_data",
          "data": {
            "text/plain": [
              "id                                   56bed4553aeaaa14008c94e5\n",
              "title                                                 Beyoncé\n",
              "context     After Hurricane Katrina in 2005, Beyoncé and R...\n",
              "question    What national disaster caused Beyonce to creat...\n",
              "answers     {'text': ['Hurricane Katrina'], 'answer_start'...\n",
              "Name: 996, dtype: object"
            ]
          },
          "metadata": {}
        },
        {
          "output_type": "display_data",
          "data": {
            "text/plain": [
              "id                                   56bed4c23aeaaa14008c94ed\n",
              "title                                                 Beyoncé\n",
              "context     Beyoncé participated in George Clooney and Wyc...\n",
              "question    Who did Beyonce participate with in the Hope f...\n",
              "answers     {'text': ['George Clooney and Wyclef Jean'], '...\n",
              "Name: 1005, dtype: object"
            ]
          },
          "metadata": {}
        },
        {
          "output_type": "display_data",
          "data": {
            "text/plain": [
              "id                                   56bed5983aeaaa14008c94f3\n",
              "title                                                 Beyoncé\n",
              "context     In December, Beyoncé along with a variety of o...\n",
              "question    Which national event caused Beyonce to produce...\n",
              "answers     {'text': ['Sandy Hook Elementary School shooti...\n",
              "Name: 1015, dtype: object"
            ]
          },
          "metadata": {}
        },
        {
          "output_type": "display_data",
          "data": {
            "text/plain": [
              "id                                   5733bd9bd058e614000b6199\n",
              "title                                                 Montana\n",
              "context     Montana i/mɒnˈtænə/ is a state in the Western ...\n",
              "question               Where does the state's name come from?\n",
              "answers     {'text': ['Spanish word montaña (mountain)'], ...\n",
              "Name: 1027, dtype: object"
            ]
          },
          "metadata": {}
        },
        {
          "output_type": "display_data",
          "data": {
            "text/plain": [
              "id                                   5733d7164776f4190066132e\n",
              "title                                                 Montana\n",
              "context     Montana schoolchildren played a significant ro...\n",
              "question               What year was the state tree selected?\n",
              "answers             {'text': ['1908'], 'answer_start': [240]}\n",
              "Name: 1032, dtype: object"
            ]
          },
          "metadata": {}
        },
        {
          "output_type": "display_data",
          "data": {
            "text/plain": [
              "id                                   5733d7fd4776f41900661342\n",
              "title                                                 Montana\n",
              "context     The state song was not composed until 21 years...\n",
              "question                    When was the state song composed?\n",
              "answers             {'text': ['1910'], 'answer_start': [140]}\n",
              "Name: 1037, dtype: object"
            ]
          },
          "metadata": {}
        },
        {
          "output_type": "display_data",
          "data": {
            "text/plain": [
              "id                                   5733d858d058e614000b63c7\n",
              "title                                                 Montana\n",
              "context     Montana's motto, Oro y Plata, Spanish for \"Gol...\n",
              "question                            What is Montana's motto? \n",
              "answers       {'text': ['Oro y Plata'], 'answer_start': [17]}\n",
              "Name: 1038, dtype: object"
            ]
          },
          "metadata": {}
        },
        {
          "output_type": "display_data",
          "data": {
            "text/plain": [
              "id                                   5733e9864776f419006614cc\n",
              "title                                                 Montana\n",
              "context     The state also has five Micropolitan Statistic...\n",
              "question    How much of the states population does the \"Bi...\n",
              "answers       {'text': ['35 percent'], 'answer_start': [628]}\n",
              "Name: 1043, dtype: object"
            ]
          },
          "metadata": {}
        },
        {
          "output_type": "display_data",
          "data": {
            "text/plain": [
              "id                                   5733eefe4776f4190066154b\n",
              "title                                                 Montana\n",
              "context     Montana has 56 counties with the United States...\n",
              "question                 How many counties does Montana have?\n",
              "answers                {'text': ['56'], 'answer_start': [12]}\n",
              "Name: 1044, dtype: object"
            ]
          },
          "metadata": {}
        },
        {
          "output_type": "display_data",
          "data": {
            "text/plain": [
              "id                                   5733f18ad058e614000b6643\n",
              "title                                                 Montana\n",
              "context     The name Montana comes from the Spanish word M...\n",
              "question                    Where does the state's name mean?\n",
              "answers        {'text': ['\"mountain\"'], 'answer_start': [62]}\n",
              "Name: 1047, dtype: object"
            ]
          },
          "metadata": {}
        },
        {
          "output_type": "display_data",
          "data": {
            "text/plain": [
              "id                                   5733f5d34776f419006615bb\n",
              "title                                                 Montana\n",
              "context     With a total area of 147,040 square miles (380...\n",
              "question                   What is the total area of Montana?\n",
              "answers     {'text': ['147,040 square miles'], 'answer_sta...\n",
              "Name: 1049, dtype: object"
            ]
          },
          "metadata": {}
        },
        {
          "output_type": "display_data",
          "data": {
            "text/plain": [
              "id                                   573408fed058e614000b6835\n",
              "title                                                 Montana\n",
              "context     The topography of the state is roughly defined...\n",
              "question        Where are most of the states mountain ranges?\n",
              "answers     {'text': ['western half of the state'], 'answe...\n",
              "Name: 1052, dtype: object"
            ]
          },
          "metadata": {}
        },
        {
          "output_type": "display_data",
          "data": {
            "text/plain": [
              "id                                   573409bed058e614000b6839\n",
              "title                                                 Montana\n",
              "context     The northern section of the Divide, where the ...\n",
              "question    Which direction do the rivers flow near the Tr...\n",
              "answers            {'text': ['north'], 'answer_start': [485]}\n",
              "Name: 1054, dtype: object"
            ]
          },
          "metadata": {}
        },
        {
          "output_type": "display_data",
          "data": {
            "text/plain": [
              "id                                   57340a0dd058e614000b6851\n",
              "title                                                 Montana\n",
              "context     East of the divide, several roughly parallel r...\n",
              "question                   How high is the Beartooth Plateau?\n",
              "answers     {'text': ['over 10,000 feet'], 'answer_start':...\n",
              "Name: 1056, dtype: object"
            ]
          },
          "metadata": {}
        },
        {
          "output_type": "display_data",
          "data": {
            "text/plain": [
              "id                                   57340bdf4776f419006617a3\n",
              "title                                                 Montana\n",
              "context     However, at the state level, the pattern of sp...\n",
              "question    How many seats do Democrats hold in the state ...\n",
              "answers              {'text': ['one'], 'answer_start': [119]}\n",
              "Name: 1059, dtype: object"
            ]
          },
          "metadata": {}
        },
        {
          "output_type": "display_data",
          "data": {
            "text/plain": [
              "id                                   57341184d058e614000b68da\n",
              "title                                                 Montana\n",
              "context     In presidential elections, Montana was long cl...\n",
              "question            In elections, what is Montana considered?\n",
              "answers     {'text': ['a swing state'], 'answer_start': [58]}\n",
              "Name: 1063, dtype: object"
            ]
          },
          "metadata": {}
        },
        {
          "output_type": "display_data",
          "data": {
            "text/plain": [
              "id                                   573412ebd058e614000b68f0\n",
              "title                                                 Montana\n",
              "context     Bozeman Yellowstone International Airport is t...\n",
              "question    What is the name of the busiest airport in Mon...\n",
              "answers     {'text': ['Bozeman Yellowstone International A...\n",
              "Name: 1067, dtype: object"
            ]
          },
          "metadata": {}
        },
        {
          "output_type": "display_data",
          "data": {
            "text/plain": [
              "id                                   573413594776f41900661803\n",
              "title                                                 Montana\n",
              "context     Railroads have been an important method of tra...\n",
              "question                  What is the states largest railway?\n",
              "answers     {'text': ['BNSF Railway'], 'answer_start': [263]}\n",
              "Name: 1069, dtype: object"
            ]
          },
          "metadata": {}
        },
        {
          "output_type": "display_data",
          "data": {
            "text/plain": [
              "id                                   573414644776f4190066180d\n",
              "title                                                 Montana\n",
              "context     Montana is home to the Rocky Mountain Elk Foun...\n",
              "question    What is the name of the big game hunting found...\n",
              "answers     {'text': ['Rocky Mountain Elk Foundation'], 'a...\n",
              "Name: 1071, dtype: object"
            ]
          },
          "metadata": {}
        },
        {
          "output_type": "display_data",
          "data": {
            "text/plain": [
              "id                                   57341539d058e614000b6906\n",
              "title                                                 Montana\n",
              "context     Montana has been a destination for its world-c...\n",
              "question    Since when has Montana been a destination for ...\n",
              "answers             {'text': ['1930s'], 'answer_start': [77]}\n",
              "Name: 1074, dtype: object"
            ]
          },
          "metadata": {}
        },
        {
          "output_type": "display_data",
          "data": {
            "text/plain": [
              "id                                   5734161dd058e614000b690e\n",
              "title                                                 Montana\n",
              "context     The Montana Territory was formed on April 26, ...\n",
              "question               When was the Montana Territory formed?\n",
              "answers     {'text': ['April 26, 1864'], 'answer_start': [...\n",
              "Name: 1078, dtype: object"
            ]
          },
          "metadata": {}
        },
        {
          "output_type": "display_data",
          "data": {
            "text/plain": [
              "id                                   573416974776f41900661835\n",
              "title                                                 Montana\n",
              "context     Montana contains thousands of named rivers and...\n",
              "question    How many miles of rivers are known for high cl...\n",
              "answers               {'text': ['450'], 'answer_start': [55]}\n",
              "Name: 1082, dtype: object"
            ]
          },
          "metadata": {}
        },
        {
          "output_type": "display_data",
          "data": {
            "text/plain": [
              "id                                   5734173b4776f4190066184f\n",
              "title                                                 Montana\n",
              "context     East of the divide the Missouri River, which i...\n",
              "question                 What rivers form the Missouri River?\n",
              "answers     {'text': ['Jefferson, Madison and Gallatin riv...\n",
              "Name: 1086, dtype: object"
            ]
          },
          "metadata": {}
        },
        {
          "output_type": "display_data",
          "data": {
            "text/plain": [
              "id                                   57341835d058e614000b693e\n",
              "title                                                 Montana\n",
              "context     The Yellowstone River rises on the continental...\n",
              "question    Which direction does the Yellowstone River flo...\n",
              "answers            {'text': ['north'], 'answer_start': [111]}\n",
              "Name: 1090, dtype: object"
            ]
          },
          "metadata": {}
        },
        {
          "output_type": "display_data",
          "data": {
            "text/plain": [
              "id                                   5734192ad058e614000b6942\n",
              "title                                                 Montana\n",
              "context     There are at least 3,223 named lakes and reser...\n",
              "question           How many named lakes are there in Montana?\n",
              "answers     {'text': ['at least 3,223'], 'answer_start': [...\n",
              "Name: 1092, dtype: object"
            ]
          },
          "metadata": {}
        },
        {
          "output_type": "display_data",
          "data": {
            "text/plain": [
              "id                                   573419714776f41900661871\n",
              "title                                                 Montana\n",
              "context     Vegetation of the state includes lodgepole pin...\n",
              "question      About how much area do forests cover the state?\n",
              "answers     {'text': ['approximately 25 percent'], 'answer...\n",
              "Name: 1096, dtype: object"
            ]
          },
          "metadata": {}
        },
        {
          "output_type": "display_data",
          "data": {
            "text/plain": [
              "id                                   57341b484776f41900661885\n",
              "title                                                 Montana\n",
              "context     Montana is home to a diverse array of fauna th...\n",
              "question    How many different types of fish are diverse t...\n",
              "answers                {'text': ['90'], 'answer_start': [72]}\n",
              "Name: 1097, dtype: object"
            ]
          },
          "metadata": {}
        },
        {
          "output_type": "display_data",
          "data": {
            "text/plain": [
              "id                                   57341c46d058e614000b6954\n",
              "title                                                 Montana\n",
              "context     Average annual precipitation is 15 inches (380...\n",
              "question                    What is the annual precipitation?\n",
              "answers         {'text': ['15 inches'], 'answer_start': [32]}\n",
              "Name: 1101, dtype: object"
            ]
          },
          "metadata": {}
        },
        {
          "output_type": "display_data",
          "data": {
            "text/plain": [
              "id                                   57341cf4d058e614000b6964\n",
              "title                                                 Montana\n",
              "context     Montana's personal income tax contains 7 brack...\n",
              "question             How many tax brackets does Montana have?\n",
              "answers                 {'text': ['7'], 'answer_start': [39]}\n",
              "Name: 1104, dtype: object"
            ]
          },
          "metadata": {}
        },
        {
          "output_type": "display_data",
          "data": {
            "text/plain": [
              "id                                   57341d964776f419006618b3\n",
              "title                                                 Montana\n",
              "context     Approximately 66,000 people of Native American...\n",
              "question     About how many Native Americans live in Montana?\n",
              "answers     {'text': ['Approximately 66,000'], 'answer_sta...\n",
              "Name: 1107, dtype: object"
            ]
          },
          "metadata": {}
        },
        {
          "output_type": "display_data",
          "data": {
            "text/plain": [
              "id                                   57341fc9d058e614000b6974\n",
              "title                                                 Montana\n",
              "context     While the largest European-American population...\n",
              "question    What is the largest European-American race in ...\n",
              "answers            {'text': ['German'], 'answer_start': [69]}\n",
              "Name: 1112, dtype: object"
            ]
          },
          "metadata": {}
        },
        {
          "output_type": "display_data",
          "data": {
            "text/plain": [
              "id                                   5734205b4776f419006618e7\n",
              "title                                                 Montana\n",
              "context     Montana has a larger Native American populatio...\n",
              "question    What percentage of the population in Montana a...\n",
              "answers      {'text': ['6.5 percent'], 'answer_start': [261]}\n",
              "Name: 1114, dtype: object"
            ]
          },
          "metadata": {}
        },
        {
          "output_type": "display_data",
          "data": {
            "text/plain": [
              "id                                   573420e34776f419006618ed\n",
              "title                                                 Montana\n",
              "context     The climate has become warmer in Montana and c...\n",
              "question    In what year did many cities in Montana set he...\n",
              "answers             {'text': ['2007'], 'answer_start': [225]}\n",
              "Name: 1117, dtype: object"
            ]
          },
          "metadata": {}
        },
        {
          "output_type": "display_data",
          "data": {
            "text/plain": [
              "id                                   5734215f4776f419006618fb\n",
              "title                                                 Montana\n",
              "context     As white settlers began populating Montana fro...\n",
              "question            What year was the Hellgate treaty formed?\n",
              "answers             {'text': ['1855'], 'answer_start': [162]}\n",
              "Name: 1120, dtype: object"
            ]
          },
          "metadata": {}
        },
        {
          "output_type": "display_data",
          "data": {
            "text/plain": [
              "id                                   573421c4d058e614000b69aa\n",
              "title                                                 Montana\n",
              "context     The first U.S. Army post established in Montan...\n",
              "question         What was the name of the first US Army post?\n",
              "answers        {'text': ['Camp Cooke'], 'answer_start': [52]}\n",
              "Name: 1124, dtype: object"
            ]
          },
          "metadata": {}
        },
        {
          "output_type": "display_data",
          "data": {
            "text/plain": [
              "id                                   5734227dd058e614000b69bc\n",
              "title                                                 Montana\n",
              "context     English is the official language in the state ...\n",
              "question            What is the official language of Montana?\n",
              "answers            {'text': ['English'], 'answer_start': [0]}\n",
              "Name: 1128, dtype: object"
            ]
          },
          "metadata": {}
        },
        {
          "output_type": "display_data",
          "data": {
            "text/plain": [
              "id                                   573422e44776f41900661927\n",
              "title                                                 Montana\n",
              "context     According to the 2010 Census, 89.4 percent of ...\n",
              "question                  What percent of the state is White?\n",
              "answers      {'text': ['89.4 percent'], 'answer_start': [30]}\n",
              "Name: 1133, dtype: object"
            ]
          },
          "metadata": {}
        },
        {
          "output_type": "display_data",
          "data": {
            "text/plain": [
              "id                                   573424434776f41900661941\n",
              "title                                                 Montana\n",
              "context     The United States Census Bureau estimates that...\n",
              "question        What was the population of the state in 2015?\n",
              "answers         {'text': ['1,032,949'], 'answer_start': [77]}\n",
              "Name: 1136, dtype: object"
            ]
          },
          "metadata": {}
        },
        {
          "output_type": "display_data",
          "data": {
            "text/plain": [
              "id                                   573424d74776f41900661949\n",
              "title                                                 Montana\n",
              "context     In 1940, Jeannette Rankin had once again been ...\n",
              "question    What year was Jeannette Rankin vote against wa...\n",
              "answers              {'text': ['1917'], 'answer_start': [94]}\n",
              "Name: 1140, dtype: object"
            ]
          },
          "metadata": {}
        },
        {
          "output_type": "display_data",
          "data": {
            "text/plain": [
              "id                                   573425624776f41900661959\n",
              "title                                                 Montana\n",
              "context     Simultaneously with these conflicts, bison, a ...\n",
              "question        About how many bison were in Montana in 1870?\n",
              "answers     {'text': ['over 13 million'], 'answer_start': ...\n",
              "Name: 1143, dtype: object"
            ]
          },
          "metadata": {}
        },
        {
          "output_type": "display_data",
          "data": {
            "text/plain": [
              "id                                   573425f84776f41900661969\n",
              "title                                                 Montana\n",
              "context     Tracks of the Northern Pacific Railroad (NPR) ...\n",
              "question    When did the Northern Pacific Railroad reach M...\n",
              "answers              {'text': ['1881'], 'answer_start': [79]}\n",
              "Name: 1147, dtype: object"
            ]
          },
          "metadata": {}
        },
        {
          "output_type": "display_data",
          "data": {
            "text/plain": [
              "id                                   573426864776f4190066197d\n",
              "title                                                 Montana\n",
              "context     Under Territorial Governor Thomas Meagher, Mon...\n",
              "question    When was the first constitutional convention h...\n",
              "answers              {'text': ['1866'], 'answer_start': [89]}\n",
              "Name: 1152, dtype: object"
            ]
          },
          "metadata": {}
        },
        {
          "output_type": "display_data",
          "data": {
            "text/plain": [
              "id                                   573426e6d058e614000b6a20\n",
              "title                                                 Montana\n",
              "context     The Homestead Act of 1862 provided free land t...\n",
              "question    What year did the Homestead Act provide land t...\n",
              "answers              {'text': ['1862'], 'answer_start': [21]}\n",
              "Name: 1157, dtype: object"
            ]
          },
          "metadata": {}
        },
        {
          "output_type": "display_data",
          "data": {
            "text/plain": [
              "id                                   57342785d058e614000b6a2e\n",
              "title                                                 Montana\n",
              "context     The Desert Land Act of 1877 was passed to allo...\n",
              "question                 When was the Desert Land Act passed?\n",
              "answers              {'text': ['1877'], 'answer_start': [23]}\n",
              "Name: 1160, dtype: object"
            ]
          },
          "metadata": {}
        },
        {
          "output_type": "display_data",
          "data": {
            "text/plain": [
              "id                                   57342802d058e614000b6a40\n",
              "title                                                 Montana\n",
              "context     In the early 1900s, James J. Hill of the Great...\n",
              "question    Who promoted settlement in Montana in the earl...\n",
              "answers     {'text': ['James J. Hill'], 'answer_start': [20]}\n",
              "Name: 1163, dtype: object"
            ]
          },
          "metadata": {}
        },
        {
          "output_type": "display_data",
          "data": {
            "text/plain": [
              "id                                   5734288c4776f419006619bf\n",
              "title                                                 Montana\n",
              "context     In June 1917, the U.S. Congress passed the Esp...\n",
              "question            When did Congress pass the Espionage Act?\n",
              "answers              {'text': ['1917'], 'answer_start': [60]}\n",
              "Name: 1167, dtype: object"
            ]
          },
          "metadata": {}
        },
        {
          "output_type": "display_data",
          "data": {
            "text/plain": [
              "id                                   5734296dd058e614000b6a6e\n",
              "title                                                 Montana\n",
              "context     When the U.S. entered World War II on December...\n",
              "question    How many Montanans entered the miltary in the ...\n",
              "answers      {'text': ['40,000-plus'], 'answer_start': [176]}\n",
              "Name: 1172, dtype: object"
            ]
          },
          "metadata": {}
        },
        {
          "output_type": "display_data",
          "data": {
            "text/plain": [
              "id                                   5733bdc4d058e614000b61a3\n",
              "title                                                Genocide\n",
              "context     The phrase \"in whole or in part\" has been subj...\n",
              "question    In the judgement, it is stated that the aim of...\n",
              "answers     {'text': ['entire human groups'], 'answer_star...\n",
              "Name: 1177, dtype: object"
            ]
          },
          "metadata": {}
        },
        {
          "output_type": "display_data",
          "data": {
            "text/plain": [
              "id                                   5733ba844776f41900661146\n",
              "title                                                Genocide\n",
              "context     In the same judgement the ECHR reviewed the ju...\n",
              "question    Two bodies of the United Nations agreed with w...\n",
              "answers     {'text': ['that biological-physical destructio...\n",
              "Name: 1182, dtype: object"
            ]
          },
          "metadata": {}
        },
        {
          "output_type": "display_data",
          "data": {
            "text/plain": [
              "id                                   57335849d058e614000b589a\n",
              "title                                                Genocide\n",
              "context     After the Holocaust, which had been perpetrate...\n",
              "question    In 1948, what general assembly resolution esta...\n",
              "answers     {'text': ['the Convention on the Prevention an...\n",
              "Name: 1187, dtype: object"
            ]
          },
          "metadata": {}
        },
        {
          "output_type": "display_data",
          "data": {
            "text/plain": [
              "id                                   573392e24776f41900660d9c\n",
              "title                                                Genocide\n",
              "context     The first draft of the Convention included pol...\n",
              "question    Which provision was initially included in the ...\n",
              "answers     {'text': ['political killings'], 'answer_start...\n",
              "Name: 1192, dtype: object"
            ]
          },
          "metadata": {}
        },
        {
          "output_type": "display_data",
          "data": {
            "text/plain": [
              "id                                   5733963c4776f41900660df7\n",
              "title                                                Genocide\n",
              "context     In 2007 the European Court of Human Rights (EC...\n",
              "question    Which group was accused by the ECHR of having ...\n",
              "answers     {'text': ['majority of legal scholars'], 'answ...\n",
              "Name: 1197, dtype: object"
            ]
          },
          "metadata": {}
        },
        {
          "output_type": "display_data",
          "data": {
            "text/plain": [
              "id                                   573344334776f419006607d2\n",
              "title                                                Genocide\n",
              "context     The word genocide was later included as a desc...\n",
              "question    Prior to being a formal legal term, how was th...\n",
              "answers     {'text': ['as a descriptive term'], 'answer_st...\n",
              "Name: 1201, dtype: object"
            ]
          },
          "metadata": {}
        },
        {
          "output_type": "display_data",
          "data": {
            "text/plain": [
              "id                                   573350a0d058e614000b5840\n",
              "title                                                Genocide\n",
              "context     The study of genocide has mainly been focused ...\n",
              "question    What has been the primary focus in the study o...\n",
              "answers     {'text': ['legal aspect of the term'], 'answer...\n",
              "Name: 1209, dtype: object"
            ]
          },
          "metadata": {}
        },
        {
          "output_type": "display_data",
          "data": {
            "text/plain": [
              "id                                   5731eb9bb9d445190005e697\n",
              "title                                                Genocide\n",
              "context     Genocide has become an official term used in i...\n",
              "question             When was the word \"genocide\" first used?\n",
              "answers             {'text': ['1944'], 'answer_start': [110]}\n",
              "Name: 1217, dtype: object"
            ]
          },
          "metadata": {}
        },
        {
          "output_type": "display_data",
          "data": {
            "text/plain": [
              "id                                   5733c3c7d058e614000b61ef\n",
              "title                                                Genocide\n",
              "context     The judges continue in paragraph 12, \"The dete...\n",
              "question    Several considerations were involved in meetin...\n",
              "answers     {'text': ['when the targeted part is substanti...\n",
              "Name: 1227, dtype: object"
            ]
          },
          "metadata": {}
        },
        {
          "output_type": "display_data",
          "data": {
            "text/plain": [
              "id                                   5733c6224776f419006611f4\n",
              "title                                                Genocide\n",
              "context     In paragraph 13 the judges raise the issue of ...\n",
              "question    The issue of what is raised by judges in Parag...\n",
              "answers     {'text': ['perpetrators' access to the victims...\n",
              "Name: 1231, dtype: object"
            ]
          },
          "metadata": {}
        },
        {
          "output_type": "display_data",
          "data": {
            "text/plain": [
              "id                                   5733ce494776f41900661298\n",
              "title                                                Genocide\n",
              "context     The Convention came into force as internationa...\n",
              "question    On which date did the Genocide Convention beco...\n",
              "answers     {'text': ['12 January 1951'], 'answer_start': ...\n",
              "Name: 1236, dtype: object"
            ]
          },
          "metadata": {}
        },
        {
          "output_type": "display_data",
          "data": {
            "text/plain": [
              "id                                   5733cf6a4776f419006612a2\n",
              "title                                                Genocide\n",
              "context     Writing in 1998 Kurt Jonassohn and Karin Björn...\n",
              "question    In 1998 it was written that the CPPCG was a le...\n",
              "answers     {'text': ['a diplomatic compromise'], 'answer_...\n",
              "Name: 1241, dtype: object"
            ]
          },
          "metadata": {}
        },
        {
          "output_type": "display_data",
          "data": {
            "text/plain": [
              "id                                   5733f7b64776f419006615e3\n",
              "title                                                Genocide\n",
              "context     Jonassohn and Björnson postulate that the majo...\n",
              "question    What two writers examined the lack of an accep...\n",
              "answers     {'text': ['Jonassohn and Björnson'], 'answer_s...\n",
              "Name: 1245, dtype: object"
            ]
          },
          "metadata": {}
        },
        {
          "output_type": "display_data",
          "data": {
            "text/plain": [
              "id                                   5733f9c64776f41900661615\n",
              "title                                                Genocide\n",
              "context     The exclusion of social and political groups a...\n",
              "question    Some historians were critical of what exclusio...\n",
              "answers     {'text': ['social and political groups'], 'ans...\n",
              "Name: 1250, dtype: object"
            ]
          },
          "metadata": {}
        },
        {
          "output_type": "display_data",
          "data": {
            "text/plain": [
              "id                                   5733fb934776f41900661637\n",
              "title                                                Genocide\n",
              "context     Barbara Harff and Ted Gurr defined genocide as...\n",
              "question    Harff and Gurr's definition of genocide includ...\n",
              "answers          {'text': ['policies'], 'answer_start': [79]}\n",
              "Name: 1255, dtype: object"
            ]
          },
          "metadata": {}
        },
        {
          "output_type": "display_data",
          "data": {
            "text/plain": [
              "id                                   5733fcd5d058e614000b6717\n",
              "title                                                Genocide\n",
              "context     According to R. J. Rummel, genocide has 3 diff...\n",
              "question    In the writings of Rummel, what is the first a...\n",
              "answers     {'text': ['murder by government'], 'answer_sta...\n",
              "Name: 1260, dtype: object"
            ]
          },
          "metadata": {}
        },
        {
          "output_type": "display_data",
          "data": {
            "text/plain": [
              "id                                   57340136d058e614000b6783\n",
              "title                                                Genocide\n",
              "context     Highlighting the potential for state and non-s...\n",
              "question    In terms of failed states and non-state actors...\n",
              "answers     {'text': ['Adrian Gallagher'], 'answer_start':...\n",
              "Name: 1265, dtype: object"
            ]
          },
          "metadata": {}
        },
        {
          "output_type": "display_data",
          "data": {
            "text/plain": [
              "id                                   573402a3d058e614000b6797\n",
              "title                                                Genocide\n",
              "context     All signatories to the CPPCG are required to p...\n",
              "question    Signatories to the CPPC are required to preven...\n",
              "answers     {'text': ['acts of genocide'], 'answer_start':...\n",
              "Name: 1270, dtype: object"
            ]
          },
          "metadata": {}
        },
        {
          "output_type": "display_data",
          "data": {
            "text/plain": [
              "id                                   573404abd058e614000b67c9\n",
              "title                                                Genocide\n",
              "context     Because the universal acceptance of internatio...\n",
              "question    In 1948 the worldwide acceptance of internatio...\n",
              "answers     {'text': ['Convention on the Prevention and Pu...\n",
              "Name: 1275, dtype: object"
            ]
          },
          "metadata": {}
        },
        {
          "output_type": "display_data",
          "data": {
            "text/plain": [
              "id                                   573406d84776f41900661731\n",
              "title                                                Genocide\n",
              "context     On 12 July 2007, European Court of Human Right...\n",
              "question    Which court dismissed Nikola Jorgic's appeal a...\n",
              "answers     {'text': ['European Court of Human Rights'], '...\n",
              "Name: 1280, dtype: object"
            ]
          },
          "metadata": {}
        },
        {
          "output_type": "display_data",
          "data": {
            "text/plain": [
              "id                                   5734087f4776f4190066174d\n",
              "title                                                Genocide\n",
              "context     About 30 people have been indicted for partici...\n",
              "question    In the 1990s, how many people were indicted fo...\n",
              "answers           {'text': ['About 30'], 'answer_start': [0]}\n",
              "Name: 1285, dtype: object"
            ]
          },
          "metadata": {}
        },
        {
          "output_type": "display_data",
          "data": {
            "text/plain": [
              "id                                   57340aae4776f41900661790\n",
              "title                                                Genocide\n",
              "context     Slobodan Milošević, as the former President of...\n",
              "question    What event occurred in March 2006 that essenti...\n",
              "answers          {'text': ['He died'], 'answer_start': [138]}\n",
              "Name: 1290, dtype: object"
            ]
          },
          "metadata": {}
        },
        {
          "output_type": "display_data",
          "data": {
            "text/plain": [
              "id                                   57340c46d058e614000b6893\n",
              "title                                                Genocide\n",
              "context     The International Criminal Tribunal for Rwanda...\n",
              "question    What court was established under the aegis of ...\n",
              "answers     {'text': ['International Criminal Tribunal for...\n",
              "Name: 1295, dtype: object"
            ]
          },
          "metadata": {}
        },
        {
          "output_type": "display_data",
          "data": {
            "text/plain": [
              "id                                   57340e5dd058e614000b68b9\n",
              "title                                                Genocide\n",
              "context     There has been much debate over categorizing t...\n",
              "question    What has been widely debated as a possible act...\n",
              "answers     {'text': ['situation in Darfur'], 'answer_star...\n",
              "Name: 1300, dtype: object"
            ]
          },
          "metadata": {}
        },
        {
          "output_type": "display_data",
          "data": {
            "text/plain": [
              "id                                   57340f5bd058e614000b68cd\n",
              "title                                                Genocide\n",
              "context     In March 2005, the Security Council formally r...\n",
              "question    To whom did the Security Council officially re...\n",
              "answers     {'text': ['Prosecutor of the International Cri...\n",
              "Name: 1305, dtype: object"
            ]
          },
          "metadata": {}
        },
        {
          "output_type": "display_data",
          "data": {
            "text/plain": [
              "id                                   573410864776f419006617e5\n",
              "title                                                Genocide\n",
              "context     Other authors have focused on the structural c...\n",
              "question    In the build-up to genocide, what have other a...\n",
              "answers     {'text': ['structural conditions'], 'answer_st...\n",
              "Name: 1309, dtype: object"
            ]
          },
          "metadata": {}
        },
        {
          "output_type": "display_data",
          "data": {
            "text/plain": [
              "id                                   5733bc38d058e614000b6187\n",
              "title                                             Antibiotics\n",
              "context     The emergence of resistance of bacteria to ant...\n",
              "question    What is a modern common occurence with antibio...\n",
              "answers     {'text': ['resistance of bacteria'], 'answer_s...\n",
              "Name: 1314, dtype: object"
            ]
          },
          "metadata": {}
        },
        {
          "output_type": "display_data",
          "data": {
            "text/plain": [
              "id                                   5733b31dd058e614000b609f\n",
              "title                                             Antibiotics\n",
              "context     The successful outcome of antimicrobial therap...\n",
              "question    What does the potency of antibacterials depend...\n",
              "answers     {'text': ['concentration'], 'answer_start': [6...\n",
              "Name: 1322, dtype: object"
            ]
          },
          "metadata": {}
        },
        {
          "output_type": "display_data",
          "data": {
            "text/plain": [
              "id                                   5733b4cf4776f419006610ca\n",
              "title                                             Antibiotics\n",
              "context     Antibacterial antibiotics are commonly classif...\n",
              "question                  What do anitibiotics mostly target?\n",
              "answers     {'text': ['bacterial functions or growth proce...\n",
              "Name: 1329, dtype: object"
            ]
          },
          "metadata": {}
        },
        {
          "output_type": "display_data",
          "data": {
            "text/plain": [
              "id                                   5733b6a2d058e614000b6122\n",
              "title                                             Antibiotics\n",
              "context     With advances in medicinal chemistry, most mod...\n",
              "question              What are antibiotics in chemical terms?\n",
              "answers     {'text': ['semisynthetic modifications'], 'ans...\n",
              "Name: 1338, dtype: object"
            ]
          },
          "metadata": {}
        },
        {
          "output_type": "display_data",
          "data": {
            "text/plain": [
              "id                                   573016fb947a6a140053d0b4\n",
              "title                                             Antibiotics\n",
              "context     Antibiotics revolutionized medicine in the 20t...\n",
              "question    What is one disease that has been nearly eradi...\n",
              "answers     {'text': ['tuberculosis'], 'answer_start': [140]}\n",
              "Name: 1346, dtype: object"
            ]
          },
          "metadata": {}
        },
        {
          "output_type": "display_data",
          "data": {
            "text/plain": [
              "id                                   573018d5947a6a140053d0e4\n",
              "title                                             Antibiotics\n",
              "context     In empirical therapy, a patient has proven or ...\n",
              "question    What is one kind of therapy that may be used w...\n",
              "answers     {'text': ['empirical therapy'], 'answer_start'...\n",
              "Name: 1364, dtype: object"
            ]
          },
          "metadata": {}
        },
        {
          "output_type": "display_data",
          "data": {
            "text/plain": [
              "id                                   57301a6b04bcaa1900d7719f\n",
              "title                                             Antibiotics\n",
              "context     Antibiotics are screened for any negative effe...\n",
              "question    What are two examples of minor side effects ca...\n",
              "answers     {'text': ['fever and nausea'], 'answer_start':...\n",
              "Name: 1372, dtype: object"
            ]
          },
          "metadata": {}
        },
        {
          "output_type": "display_data",
          "data": {
            "text/plain": [
              "id                                   57301bfca23a5019007fcd81\n",
              "title                                             Antibiotics\n",
              "context     Exposure to antibiotics early in life is assoc...\n",
              "question    What is one common result of using antibiotics...\n",
              "answers     {'text': ['increased body mass'], 'answer_star...\n",
              "Name: 1387, dtype: object"
            ]
          },
          "metadata": {}
        },
        {
          "output_type": "display_data",
          "data": {
            "text/plain": [
              "id                                   57302106a23a5019007fcdf7\n",
              "title                                             Antibiotics\n",
              "context     The majority of studies indicate antibiotics d...\n",
              "question    Do antibiotics interact with birth control pills?\n",
              "answers     {'text': ['The majority of studies indicate an...\n",
              "Name: 1395, dtype: object"
            ]
          },
          "metadata": {}
        },
        {
          "output_type": "display_data",
          "data": {
            "text/plain": [
              "id                                   57302230a23a5019007fce13\n",
              "title                                             Antibiotics\n",
              "context     Interactions between alcohol and certain antib...\n",
              "question    What is one potential issue with drinking alco...\n",
              "answers     {'text': ['decreased effectiveness'], 'answer_...\n",
              "Name: 1407, dtype: object"
            ]
          },
          "metadata": {}
        },
        {
          "output_type": "display_data",
          "data": {
            "text/plain": [
              "id                                   5731c904b9d445190005e551\n",
              "title                                             Antibiotics\n",
              "context     Several molecular mechanisms of antibacterial ...\n",
              "question    What is part of hje the make up of bacterial s...\n",
              "answers     {'text': ['Intrinsic antibacterial resistance'...\n",
              "Name: 1417, dtype: object"
            ]
          },
          "metadata": {}
        },
        {
          "output_type": "display_data",
          "data": {
            "text/plain": [
              "id                                   5733c4ca4776f419006611e4\n",
              "title                                             Antibiotics\n",
              "context     Antibacterial-resistant strains and species, s...\n",
              "question    What are strains that are resistant to antibio...\n",
              "answers         {'text': ['superbugs'], 'answer_start': [71]}\n",
              "Name: 1424, dtype: object"
            ]
          },
          "metadata": {}
        },
        {
          "output_type": "display_data",
          "data": {
            "text/plain": [
              "id                                   5733c6d84776f41900661208\n",
              "title                                             Antibiotics\n",
              "context     Inappropriate antibiotic treatment and overuse...\n",
              "question     What are the two biggest reasons for resistance?\n",
              "answers     {'text': ['Inappropriate antibiotic treatment ...\n",
              "Name: 1428, dtype: object"
            ]
          },
          "metadata": {}
        },
        {
          "output_type": "display_data",
          "data": {
            "text/plain": [
              "id                                   5733c81c4776f4190066121c\n",
              "title                                             Antibiotics\n",
              "context     Common forms of antibiotic misuse include exce...\n",
              "question    What is a way of improperly using antibiotics ...\n",
              "answers     {'text': ['prophylactic antibiotics'], 'answer...\n",
              "Name: 1431, dtype: object"
            ]
          },
          "metadata": {}
        },
        {
          "output_type": "display_data",
          "data": {
            "text/plain": [
              "id                                   5733cb484776f41900661256\n",
              "title                                             Antibiotics\n",
              "context     Several organizations concerned with antimicro...\n",
              "question    What is the name of a US government agency tas...\n",
              "answers     {'text': ['US Interagency Task Force on Antimi...\n",
              "Name: 1436, dtype: object"
            ]
          },
          "metadata": {}
        },
        {
          "output_type": "display_data",
          "data": {
            "text/plain": [
              "id                                   5733cd2bd058e614000b62b3\n",
              "title                                             Antibiotics\n",
              "context     The emergence of antibiotic resistance has pro...\n",
              "question    When did the EU ban antibiotics for speeding u...\n",
              "answers             {'text': ['2003'], 'answer_start': [197]}\n",
              "Name: 1439, dtype: object"
            ]
          },
          "metadata": {}
        },
        {
          "output_type": "display_data",
          "data": {
            "text/plain": [
              "id                                   5733d178d058e614000b6321\n",
              "title                                             Antibiotics\n",
              "context     There has been extensive use of antibiotics in...\n",
              "question    What besides sick people are antibiotics used ...\n",
              "answers     {'text': ['animal husbandry'], 'answer_start':...\n",
              "Name: 1444, dtype: object"
            ]
          },
          "metadata": {}
        },
        {
          "output_type": "display_data",
          "data": {
            "text/plain": [
              "id                                   5733d2444776f419006612d8\n",
              "title                                             Antibiotics\n",
              "context     Before the early 20th century, treatments for ...\n",
              "question    What methods did people use before antibiotics...\n",
              "answers     {'text': ['medicinal folklore'], 'answer_start...\n",
              "Name: 1447, dtype: object"
            ]
          },
          "metadata": {}
        },
        {
          "output_type": "display_data",
          "data": {
            "text/plain": [
              "id                                   5733d3334776f419006612e2\n",
              "title                                             Antibiotics\n",
              "context     The effects of some types of mold on infection...\n",
              "question    What type of organism has been reported to hav...\n",
              "answers              {'text': ['mold'], 'answer_start': [29]}\n",
              "Name: 1452, dtype: object"
            ]
          },
          "metadata": {}
        },
        {
          "output_type": "display_data",
          "data": {
            "text/plain": [
              "id                                   5733d4364776f419006612f2\n",
              "title                                             Antibiotics\n",
              "context     The first sulfonamide and first commercially a...\n",
              "question             What was the first available antibiotic?\n",
              "answers         {'text': ['Prontosil'], 'answer_start': [70]}\n",
              "Name: 1456, dtype: object"
            ]
          },
          "metadata": {}
        },
        {
          "output_type": "display_data",
          "data": {
            "text/plain": [
              "id                                   5733d4c24776f41900661304\n",
              "title                                             Antibiotics\n",
              "context     In 1939, coinciding with the start of World Wa...\n",
              "question    What was the first antibiotic developed from n...\n",
              "answers      {'text': ['tyrothricin'], 'answer_start': [129]}\n",
              "Name: 1460, dtype: object"
            ]
          },
          "metadata": {}
        },
        {
          "output_type": "display_data",
          "data": {
            "text/plain": [
              "id                                   5733d5f24776f41900661314\n",
              "title                                             Antibiotics\n",
              "context     Florey and Chain succeeded in purifying the fi...\n",
              "question                When was penicillin G first purified?\n",
              "answers              {'text': ['1942'], 'answer_start': [79]}\n",
              "Name: 1465, dtype: object"
            ]
          },
          "metadata": {}
        },
        {
          "output_type": "display_data",
          "data": {
            "text/plain": [
              "id                                   5733d670d058e614000b6379\n",
              "title                                             Antibiotics\n",
              "context     Vaccines rely on immune modulation or augmenta...\n",
              "question                       What do vaccines need to work?\n",
              "answers     {'text': ['immune modulation or augmentation']...\n",
              "Name: 1470, dtype: object"
            ]
          },
          "metadata": {}
        },
        {
          "output_type": "display_data",
          "data": {
            "text/plain": [
              "id                                   5733d6e64776f41900661328\n",
              "title                                             Antibiotics\n",
              "context     Phage therapy is another option that is being ...\n",
              "question    What has been talked about to treat resistant ...\n",
              "answers      {'text': ['Phage therapy'], 'answer_start': [0]}\n",
              "Name: 1473, dtype: object"
            ]
          },
          "metadata": {}
        },
        {
          "output_type": "display_data",
          "data": {
            "text/plain": [
              "id                                   5733d88b4776f41900661344\n",
              "title                                             Antibiotics\n",
              "context     In April 2013, the Infectious Disease Society ...\n",
              "question    How many antibiotics have been created in the ...\n",
              "answers                {'text': ['2'], 'answer_start': [192]}\n",
              "Name: 1476, dtype: object"
            ]
          },
          "metadata": {}
        },
        {
          "output_type": "display_data",
          "data": {
            "text/plain": [
              "id                                   5733d91e4776f4190066134a\n",
              "title                                             Antibiotics\n",
              "context     Possible improvements include clarification of...\n",
              "question                   Who regulates antibiotic approval?\n",
              "answers               {'text': ['FDA'], 'answer_start': [77]}\n",
              "Name: 1479, dtype: object"
            ]
          },
          "metadata": {}
        },
        {
          "output_type": "display_data",
          "data": {
            "text/plain": [
              "id                                   56cbd2356d243a140015ed66\n",
              "title                                         Frédéric_Chopin\n",
              "context     Frédéric François Chopin (/ˈʃoʊpæn/; French pr...\n",
              "question                   What was Frédéric's nationalities?\n",
              "answers     {'text': ['Polish and French'], 'answer_start'...\n",
              "Name: 1483, dtype: object"
            ]
          },
          "metadata": {}
        },
        {
          "output_type": "display_data",
          "data": {
            "text/plain": [
              "id                                   56cbd2f96d243a140015ed70\n",
              "title                                         Frédéric_Chopin\n",
              "context     At the age of 21 he settled in Paris. Thereaft...\n",
              "question              At what age did Frédéric move to Paris?\n",
              "answers                {'text': ['21'], 'answer_start': [14]}\n",
              "Name: 1502, dtype: object"
            ]
          },
          "metadata": {}
        },
        {
          "output_type": "display_data",
          "data": {
            "text/plain": [
              "id                                   56cbd4c56d243a140015ed7a\n",
              "title                                         Frédéric_Chopin\n",
              "context     All of Chopin's compositions include the piano...\n",
              "question    What instrument did every composition by Frédé...\n",
              "answers             {'text': ['piano'], 'answer_start': [41]}\n",
              "Name: 1519, dtype: object"
            ]
          },
          "metadata": {}
        },
        {
          "output_type": "display_data",
          "data": {
            "text/plain": [
              "id                                   56cbd8c66d243a140015ed85\n",
              "title                                         Frédéric_Chopin\n",
              "context     In his native Poland, in France, where he comp...\n",
              "question    What was the degree of Frédéric's association ...\n",
              "answers         {'text': ['indirect'], 'answer_start': [173]}\n",
              "Name: 1536, dtype: object"
            ]
          },
          "metadata": {}
        },
        {
          "output_type": "display_data",
          "data": {
            "text/plain": [
              "id                                   56cbda8d6d243a140015ed8e\n",
              "title                                         Frédéric_Chopin\n",
              "context     Fryderyk Chopin was born in Żelazowa Wola, 46 ...\n",
              "question                In what village was Frédéric born in?\n",
              "answers     {'text': ['Żelazowa Wola'], 'answer_start': [28]}\n",
              "Name: 1547, dtype: object"
            ]
          },
          "metadata": {}
        },
        {
          "output_type": "display_data",
          "data": {
            "text/plain": [
              "id                                   56cbdbf36d243a140015ed99\n",
              "title                                         Frédéric_Chopin\n",
              "context     Fryderyk's father, Nicolas Chopin, was a Frenc...\n",
              "question             Who did Frédéric's father marry in 1806?\n",
              "answers     {'text': ['Justyna Krzyżanowska'], 'answer_sta...\n",
              "Name: 1563, dtype: object"
            ]
          },
          "metadata": {}
        },
        {
          "output_type": "display_data",
          "data": {
            "text/plain": [
              "id                                   56cbdcd16d243a140015eda2\n",
              "title                                         Frédéric_Chopin\n",
              "context     In October 1810, six months after Fryderyk's b...\n",
              "question    During what month did Frédéric move to Warsaw ...\n",
              "answers            {'text': ['October'], 'answer_start': [3]}\n",
              "Name: 1574, dtype: object"
            ]
          },
          "metadata": {}
        },
        {
          "output_type": "display_data",
          "data": {
            "text/plain": [
              "id                                   56cbdea66d243a140015edac\n",
              "title                                         Frédéric_Chopin\n",
              "context     Fryderyk may have had some piano instruction f...\n",
              "question    Who was Frédéric's first professional teacher ...\n",
              "answers     {'text': ['Wojciech Żywny'], 'answer_start': [...\n",
              "Name: 1588, dtype: object"
            ]
          },
          "metadata": {}
        },
        {
          "output_type": "display_data",
          "data": {
            "text/plain": [
              "id                                   56cbdfbf6d243a140015edb6\n",
              "title                                         Frédéric_Chopin\n",
              "context     In 1817 the Saxon Palace was requisitioned by ...\n",
              "question    In what year was the Saxon Palace taken by the...\n",
              "answers               {'text': ['1817'], 'answer_start': [3]}\n",
              "Name: 1602, dtype: object"
            ]
          },
          "metadata": {}
        },
        {
          "output_type": "display_data",
          "data": {
            "text/plain": [
              "id                                   56cbe1996d243a140015edc0\n",
              "title                                         Frédéric_Chopin\n",
              "context     From September 1823 to 1826 Chopin attended th...\n",
              "question    During what years did Frédéric visit the Warsa...\n",
              "answers      {'text': ['1823 to 1826'], 'answer_start': [15]}\n",
              "Name: 1616, dtype: object"
            ]
          },
          "metadata": {}
        },
        {
          "output_type": "display_data",
          "data": {
            "text/plain": [
              "id                                   56cbe2fd6d243a140015edcb\n",
              "title                                         Frédéric_Chopin\n",
              "context     During 1824–28 Chopin spent his vacations away...\n",
              "question    Who was Frédéric a guest of during his visit o...\n",
              "answers     {'text': ['Dominik Dziewanowski'], 'answer_sta...\n",
              "Name: 1631, dtype: object"
            ]
          },
          "metadata": {}
        },
        {
          "output_type": "display_data",
          "data": {
            "text/plain": [
              "id                                   56cbe5df6d243a140015edd4\n",
              "title                                         Frédéric_Chopin\n",
              "context     In 1827, soon after the death of Chopin's youn...\n",
              "question    During what year did Frédéric's youngest siste...\n",
              "answers               {'text': ['1827'], 'answer_start': [3]}\n",
              "Name: 1640, dtype: object"
            ]
          },
          "metadata": {}
        },
        {
          "output_type": "display_data",
          "data": {
            "text/plain": [
              "id                                   56cbe9436d243a140015eddf\n",
              "title                                         Frédéric_Chopin\n",
              "context     Four boarders at his parents' apartments becam...\n",
              "question    Of the individuals that became intimate with F...\n",
              "answers     {'text': ['Jan Matuszyński and Julian Fontana'...\n",
              "Name: 1654, dtype: object"
            ]
          },
          "metadata": {}
        },
        {
          "output_type": "display_data",
          "data": {
            "text/plain": [
              "id                                   56cbeb396d243a140015ede8\n",
              "title                                         Frédéric_Chopin\n",
              "context     In September 1828 Chopin, while still a studen...\n",
              "question    Who did Frédéric visit Berlin with in Septembe...\n",
              "answers     {'text': ['Feliks Jarocki'], 'answer_start': [...\n",
              "Name: 1665, dtype: object"
            ]
          },
          "metadata": {}
        },
        {
          "output_type": "display_data",
          "data": {
            "text/plain": [
              "id                                   56cbedde6d243a140015edf2\n",
              "title                                         Frédéric_Chopin\n",
              "context     Back in Warsaw that year, Chopin heard Niccolò...\n",
              "question    What did Frédéric compose after hearing Niccol...\n",
              "answers     {'text': ['Souvenir de Paganini'], 'answer_sta...\n",
              "Name: 1679, dtype: object"
            ]
          },
          "metadata": {}
        },
        {
          "output_type": "display_data",
          "data": {
            "text/plain": [
              "id                                   56cbef3a6d243a140015edfc\n",
              "title                                         Frédéric_Chopin\n",
              "context     Chopin's successes as a composer and performer...\n",
              "question    On what date did Frédéric begin his journey in...\n",
              "answers     {'text': ['2 November 1830'], 'answer_start': ...\n",
              "Name: 1692, dtype: object"
            ]
          },
          "metadata": {}
        },
        {
          "output_type": "display_data",
          "data": {
            "text/plain": [
              "id                                   56cbf12a6d243a140015ee06\n",
              "title                                         Frédéric_Chopin\n",
              "context     Chopin arrived in Paris in late September 1831...\n",
              "question    What event was Frédéric a part of when he arri...\n",
              "answers     {'text': ['the Polish Great Emigration'], 'ans...\n",
              "Name: 1705, dtype: object"
            ]
          },
          "metadata": {}
        },
        {
          "output_type": "display_data",
          "data": {
            "text/plain": [
              "id                                   56cbf37e6d243a140015ee10\n",
              "title                                         Frédéric_Chopin\n",
              "context     In Paris, Chopin encountered artists and other...\n",
              "question    In what city did Frédéric achieve celebrity st...\n",
              "answers              {'text': ['Paris'], 'answer_start': [3]}\n",
              "Name: 1719, dtype: object"
            ]
          },
          "metadata": {}
        },
        {
          "output_type": "display_data",
          "data": {
            "text/plain": [
              "id                                   56cbf5106d243a140015ee18\n",
              "title                                         Frédéric_Chopin\n",
              "context     Two Polish friends in Paris were also to play ...\n",
              "question    Which friend of Frédéric failed to achieve suc...\n",
              "answers     {'text': ['Julian Fontana'], 'answer_start': [...\n",
              "Name: 1726, dtype: object"
            ]
          },
          "metadata": {}
        },
        {
          "output_type": "display_data",
          "data": {
            "text/plain": [
              "id                                   56cbf7d16d243a140015ee22\n",
              "title                                         Frédéric_Chopin\n",
              "context     At the end of 1831, Chopin received the first ...\n",
              "question    Who gave Frédéric his first significant public...\n",
              "answers     {'text': ['Robert Schumann'], 'answer_start': ...\n",
              "Name: 1737, dtype: object"
            ]
          },
          "metadata": {}
        },
        {
          "output_type": "display_data",
          "data": {
            "text/plain": [
              "id                                   56cbfa0e6d243a140015ee2d\n",
              "title                                         Frédéric_Chopin\n",
              "context     Chopin seldom performed publicly in Paris. In ...\n",
              "question    What was Frédéric's favorite environment to pe...\n",
              "answers     {'text': ['his own Paris apartment for small g...\n",
              "Name: 1747, dtype: object"
            ]
          },
          "metadata": {}
        },
        {
          "output_type": "display_data",
          "data": {
            "text/plain": [
              "id                                   56cbfbdd6d243a140015ee36\n",
              "title                                         Frédéric_Chopin\n",
              "context     In the spring of 1834, Chopin attended the Low...\n",
              "question    Who did Frédéric meet in the spring of 1834 at...\n",
              "answers     {'text': ['Felix Mendelssohn'], 'answer_start'...\n",
              "Name: 1756, dtype: object"
            ]
          },
          "metadata": {}
        },
        {
          "output_type": "display_data",
          "data": {
            "text/plain": [
              "id                                   56cbfcda6d243a140015ee40\n",
              "title                                         Frédéric_Chopin\n",
              "context     Although it is not known exactly when Chopin f...\n",
              "question    Who was the recipient of Frédéric's letter he ...\n",
              "answers     {'text': ['Woyciechowski'], 'answer_start': [1...\n",
              "Name: 1769, dtype: object"
            ]
          },
          "metadata": {}
        },
        {
          "output_type": "display_data",
          "data": {
            "text/plain": [
              "id                                   56cbff116d243a140015ee46\n",
              "title                                         Frédéric_Chopin\n",
              "context     The two became friends, and for many years liv...\n",
              "question    What address did Frédéric live at during his s...\n",
              "answers     {'text': ['38 Rue de la Chaussée-d'Antin'], 'a...\n",
              "Name: 1775, dtype: object"
            ]
          },
          "metadata": {}
        },
        {
          "output_type": "display_data",
          "data": {
            "text/plain": [
              "id                                   56cc02376d243a140015ee50\n",
              "title                                         Frédéric_Chopin\n",
              "context     Although the two displayed great respect and a...\n",
              "question    What term describes the qualities of the relat...\n",
              "answers     {'text': ['love-hate relationship'], 'answer_s...\n",
              "Name: 1786, dtype: object"
            ]
          },
          "metadata": {}
        },
        {
          "output_type": "display_data",
          "data": {
            "text/plain": [
              "id                                   56cc06496d243a140015ee5a\n",
              "title                                         Frédéric_Chopin\n",
              "context     In 1836, at a party hosted by Marie d'Agoult, ...\n",
              "question    Who was the host of the gathering where Frédér...\n",
              "answers     {'text': ['Marie d'Agoult'], 'answer_start': [...\n",
              "Name: 1797, dtype: object"
            ]
          },
          "metadata": {}
        },
        {
          "output_type": "display_data",
          "data": {
            "text/plain": [
              "id                                   56cc07886d243a140015ee64\n",
              "title                                         Frédéric_Chopin\n",
              "context     In June 1837 Chopin visited London incognito i...\n",
              "question           What city did Frédéric visit in June 1837?\n",
              "answers            {'text': ['London'], 'answer_start': [28]}\n",
              "Name: 1807, dtype: object"
            ]
          },
          "metadata": {}
        },
        {
          "output_type": "display_data",
          "data": {
            "text/plain": [
              "id                                   56cc08eb6d243a140015ee6e\n",
              "title                                         Frédéric_Chopin\n",
              "context     On 3 December, Chopin complained about his bad...\n",
              "question    How many doctors saw Frédéric by the 3rd of De...\n",
              "answers            {'text': ['Three'], 'answer_start': [103]}\n",
              "Name: 1822, dtype: object"
            ]
          },
          "metadata": {}
        },
        {
          "output_type": "display_data",
          "data": {
            "text/plain": [
              "id                                   56cc0d816d243a140015ee78\n",
              "title                                         Frédéric_Chopin\n",
              "context     Although this period had been productive, the ...\n",
              "question    What is stated as having a negative effect on ...\n",
              "answers       {'text': ['bad weather'], 'answer_start': [46]}\n",
              "Name: 1831, dtype: object"
            ]
          },
          "metadata": {}
        },
        {
          "output_type": "display_data",
          "data": {
            "text/plain": [
              "id                                   56cc0f056d243a140015ee83\n",
              "title                                         Frédéric_Chopin\n",
              "context     At the funeral of the tenor Adolphe Nourrit in...\n",
              "question    What event were Chopin and Sand at on 26 July ...\n",
              "answers     {'text': ['Berlioz's Grande symphonie funèbre ...\n",
              "Name: 1846, dtype: object"
            ]
          },
          "metadata": {}
        },
        {
          "output_type": "display_data",
          "data": {
            "text/plain": [
              "id                                   56cc100b6d243a140015ee8a\n",
              "title                                         Frédéric_Chopin\n",
              "context     During the summers at Nohant, particularly in ...\n",
              "question    What is the example given of a work produced b...\n",
              "answers     {'text': ['Polonaise in A-flat major, Op. 53']...\n",
              "Name: 1855, dtype: object"
            ]
          },
          "metadata": {}
        },
        {
          "output_type": "display_data",
          "data": {
            "text/plain": [
              "id                                   56cc12376d243a140015ee92\n",
              "title                                         Frédéric_Chopin\n",
              "context     From 1842 onwards, Chopin showed signs of seri...\n",
              "question    In which year did Chopin begin experiencing a ...\n",
              "answers               {'text': ['1842'], 'answer_start': [5]}\n",
              "Name: 1862, dtype: object"
            ]
          },
          "metadata": {}
        },
        {
          "output_type": "display_data",
          "data": {
            "text/plain": [
              "id                                   56cc13956d243a140015ee9c\n",
              "title                                         Frédéric_Chopin\n",
              "context     Chopin's relations with Sand were soured in 18...\n",
              "question    What was the name of Sand's daughter's fiance ...\n",
              "answers     {'text': ['Auguste Clésinger'], 'answer_start'...\n",
              "Name: 1875, dtype: object"
            ]
          },
          "metadata": {}
        },
        {
          "output_type": "display_data",
          "data": {
            "text/plain": [
              "id                                   56cc15956d243a140015eea8\n",
              "title                                         Frédéric_Chopin\n",
              "context     Chopin's output as a composer throughout this ...\n",
              "question    What was the name of the single piece of work ...\n",
              "answers     {'text': ['Op. 58 sonata'], 'answer_start': [2...\n",
              "Name: 1887, dtype: object"
            ]
          },
          "metadata": {}
        },
        {
          "output_type": "display_data",
          "data": {
            "text/plain": [
              "id                                   56cc16bb6d243a140015eeb1\n",
              "title                                         Frédéric_Chopin\n",
              "context     Chopin's public popularity as a virtuoso began...\n",
              "question    In what month and year did Chopin give his fin...\n",
              "answers     {'text': ['February 1848'], 'answer_start': [2...\n",
              "Name: 1895, dtype: object"
            ]
          },
          "metadata": {}
        },
        {
          "output_type": "display_data",
          "data": {
            "text/plain": [
              "id                                   56cea7efaab44d1400b888f5\n",
              "title                                         Frédéric_Chopin\n",
              "context     Chopin's life was covered in a BBC TV document...\n",
              "question    What television station made a documentary on ...\n",
              "answers               {'text': ['BBC'], 'answer_start': [31]}\n",
              "Name: 1902, dtype: object"
            ]
          },
          "metadata": {}
        },
        {
          "output_type": "display_data",
          "data": {
            "text/plain": [
              "id                                   56cf4e5faab44d1400b88f90\n",
              "title                                         Frédéric_Chopin\n",
              "context     Chopin's life and his relations with George Sa...\n",
              "question    What was the name of the 1945 movie released a...\n",
              "answers     {'text': ['A Song to Remember'], 'answer_start...\n",
              "Name: 1909, dtype: object"
            ]
          },
          "metadata": {}
        },
        {
          "output_type": "display_data",
          "data": {
            "text/plain": [
              "id                                   56cf4ee2aab44d1400b88fac\n",
              "title                                         Frédéric_Chopin\n",
              "context     Possibly the first venture into fictional trea...\n",
              "question    When was the first fictionalized account of Ch...\n",
              "answers             {'text': ['1901'], 'answer_start': [188]}\n",
              "Name: 1918, dtype: object"
            ]
          },
          "metadata": {}
        },
        {
          "output_type": "display_data",
          "data": {
            "text/plain": [
              "id                                   56cf50b2aab44d1400b88fbd\n",
              "title                                         Frédéric_Chopin\n",
              "context     Chopin has figured extensively in Polish liter...\n",
              "question    An 1830 sonnet was written about Chopin by wha...\n",
              "answers      {'text': ['Leon Ulrich'], 'answer_start': [205]}\n",
              "Name: 1926, dtype: object"
            ]
          },
          "metadata": {}
        },
        {
          "output_type": "display_data",
          "data": {
            "text/plain": [
              "id                                   56cf5187aab44d1400b88fc4\n",
              "title                                         Frédéric_Chopin\n",
              "context     Numerous recordings of Chopin's works are avai...\n",
              "question    The Warsaw Chopin Society holds the Grand prix...\n",
              "answers     {'text': ['every five years.'], 'answer_start'...\n",
              "Name: 1932, dtype: object"
            ]
          },
          "metadata": {}
        },
        {
          "output_type": "display_data",
          "data": {
            "text/plain": [
              "id                                   56cf5284aab44d1400b88fca\n",
              "title                                         Frédéric_Chopin\n",
              "context     The British Library notes that \"Chopin's works...\n",
              "question    What year was the earliest Chopin recording cr...\n",
              "answers             {'text': ['1895'], 'answer_start': [145]}\n",
              "Name: 1938, dtype: object"
            ]
          },
          "metadata": {}
        },
        {
          "output_type": "display_data",
          "data": {
            "text/plain": [
              "id                                   56cf5376aab44d1400b88fd8\n",
              "title                                         Frédéric_Chopin\n",
              "context     Chopin's music remains very popular and is reg...\n",
              "question    What is the name of the oldest music essay com...\n",
              "answers     {'text': ['International Chopin Piano Competit...\n",
              "Name: 1944, dtype: object"
            ]
          },
          "metadata": {}
        },
        {
          "output_type": "display_data",
          "data": {
            "text/plain": [
              "id                                   56cf5433aab44d1400b88fee\n",
              "title                                         Frédéric_Chopin\n",
              "context     Chopin's music was used in the 1909 ballet Cho...\n",
              "question    What is the name of the ballet that included C...\n",
              "answers        {'text': ['Chopiniana'], 'answer_start': [43]}\n",
              "Name: 1953, dtype: object"
            ]
          },
          "metadata": {}
        },
        {
          "output_type": "display_data",
          "data": {
            "text/plain": [
              "id                                   56cfe4a4234ae51400d9c015\n",
              "title                                         Frédéric_Chopin\n",
              "context     In April, during the Revolution of 1848 in Par...\n",
              "question    Where did Chopin head to during the Revolution...\n",
              "answers            {'text': ['London'], 'answer_start': [62]}\n",
              "Name: 1962, dtype: object"
            ]
          },
          "metadata": {}
        },
        {
          "output_type": "display_data",
          "data": {
            "text/plain": [
              "id                                   56cfe6cf234ae51400d9c03b\n",
              "title                                         Frédéric_Chopin\n",
              "context     In London Chopin took lodgings at Dover Street...\n",
              "question               Where did Chopin stay while in London?\n",
              "answers      {'text': ['Dover Street'], 'answer_start': [34]}\n",
              "Name: 1969, dtype: object"
            ]
          },
          "metadata": {}
        },
        {
          "output_type": "display_data",
          "data": {
            "text/plain": [
              "id                                   56cfe792234ae51400d9c05b\n",
              "title                                         Frédéric_Chopin\n",
              "context     In late summer he was invited by Jane Stirling...\n",
              "question               Where did Jane Stirling invite Chopin?\n",
              "answers          {'text': ['Scotland'], 'answer_start': [56]}\n",
              "Name: 1979, dtype: object"
            ]
          },
          "metadata": {}
        },
        {
          "output_type": "display_data",
          "data": {
            "text/plain": [
              "id                                   56cfe7f4234ae51400d9c05f\n",
              "title                                         Frédéric_Chopin\n",
              "context     Chopin made his last public appearance on a co...\n",
              "question               When did Chopin last appear in public?\n",
              "answers     {'text': ['16 November 1848'], 'answer_start':...\n",
              "Name: 1984, dtype: object"
            ]
          },
          "metadata": {}
        },
        {
          "output_type": "display_data",
          "data": {
            "text/plain": [
              "id                                   56cfe87e234ae51400d9c06d\n",
              "title                                         Frédéric_Chopin\n",
              "context     At the end of November, Chopin returned to Par...\n",
              "question              Who did Chopin play for while she sang?\n",
              "answers     {'text': ['Delfina Potocka'], 'answer_start': ...\n",
              "Name: 1989, dtype: object"
            ]
          },
          "metadata": {}
        },
        {
          "output_type": "display_data",
          "data": {
            "text/plain": [
              "id                                   56cfe911234ae51400d9c085\n",
              "title                                         Frédéric_Chopin\n",
              "context     With his health further deteriorating, Chopin ...\n",
              "question        When did his sister come to stay with Chopin?\n",
              "answers         {'text': ['June 1849'], 'answer_start': [91]}\n",
              "Name: 1997, dtype: object"
            ]
          },
          "metadata": {}
        },
        {
          "output_type": "display_data",
          "data": {
            "text/plain": [
              "id                                   56cfe9df234ae51400d9c0a1\n",
              "title                                         Frédéric_Chopin\n",
              "context     Some of his friends provided music at his requ...\n",
              "question    Why did Chopin request being cut open after hi...\n",
              "answers     {'text': ['fear of being buried alive'], 'answ...\n",
              "Name: 2003, dtype: object"
            ]
          },
          "metadata": {}
        },
        {
          "output_type": "display_data",
          "data": {
            "text/plain": [
              "id                                   56cfeaa3234ae51400d9c0b3\n",
              "title                                         Frédéric_Chopin\n",
              "context     Chopin's disease and the cause of his death ha...\n",
              "question    What is listed as Chopin's official cause of d...\n",
              "answers     {'text': ['tuberculosis'], 'answer_start': [124]}\n",
              "Name: 2008, dtype: object"
            ]
          },
          "metadata": {}
        },
        {
          "output_type": "display_data",
          "data": {
            "text/plain": [
              "id                                   56cfeae2234ae51400d9c0b9\n",
              "title                                         Frédéric_Chopin\n",
              "context     The funeral, held at the Church of the Madelei...\n",
              "question                     Where was Chopin's funeral held?\n",
              "answers     {'text': ['Church of the Madeleine'], 'answer_...\n",
              "Name: 2015, dtype: object"
            ]
          },
          "metadata": {}
        },
        {
          "output_type": "display_data",
          "data": {
            "text/plain": [
              "id                                   56cfeb52234ae51400d9c0bf\n",
              "title                                         Frédéric_Chopin\n",
              "context     Mozart's Requiem was sung at the funeral; the ...\n",
              "question              What song was sung at Chopin's funeral?\n",
              "answers     {'text': ['Mozart's Requiem'], 'answer_start':...\n",
              "Name: 2021, dtype: object"
            ]
          },
          "metadata": {}
        },
        {
          "output_type": "display_data",
          "data": {
            "text/plain": [
              "id                                   56cfec4b234ae51400d9c0cd\n",
              "title                                         Frédéric_Chopin\n",
              "context     Chopin's tombstone, featuring the muse of musi...\n",
              "question                     Who sculpted Chopin's tombstone?\n",
              "answers        {'text': ['Clésinger'], 'answer_start': [115]}\n",
              "Name: 2030, dtype: object"
            ]
          },
          "metadata": {}
        },
        {
          "output_type": "display_data",
          "data": {
            "text/plain": [
              "id                                   56cfec7b234ae51400d9c0d7\n",
              "title                                         Frédéric_Chopin\n",
              "context     Over 230 works of Chopin survive; some composi...\n",
              "question              How many of Chopin's works still exist?\n",
              "answers           {'text': ['Over 230'], 'answer_start': [0]}\n",
              "Name: 2040, dtype: object"
            ]
          },
          "metadata": {}
        },
        {
          "output_type": "display_data",
          "data": {
            "text/plain": [
              "id                                   56cfed0f234ae51400d9c0db\n",
              "title                                         Frédéric_Chopin\n",
              "context     Chopin was educated in the tradition of Beetho...\n",
              "question    Whose piano method did Chopin teach his students?\n",
              "answers          {'text': ['Clementi'], 'answer_start': [69]}\n",
              "Name: 2044, dtype: object"
            ]
          },
          "metadata": {}
        },
        {
          "output_type": "display_data",
          "data": {
            "text/plain": [
              "id                                   56cfed8a234ae51400d9c0e1\n",
              "title                                         Frédéric_Chopin\n",
              "context     Chopin took the new salon genre of the nocturn...\n",
              "question          Who is credited with creating the nocturne?\n",
              "answers        {'text': ['John Field'], 'answer_start': [80]}\n",
              "Name: 2048, dtype: object"
            ]
          },
          "metadata": {}
        },
        {
          "output_type": "display_data",
          "data": {
            "text/plain": [
              "id                                   56cfee5d234ae51400d9c0f7\n",
              "title                                         Frédéric_Chopin\n",
              "context     Chopin also endowed popular dance forms with a...\n",
              "question    How many polonaises were published while Chopi...\n",
              "answers            {'text': ['seven'], 'answer_start': [363]}\n",
              "Name: 2054, dtype: object"
            ]
          },
          "metadata": {}
        },
        {
          "output_type": "display_data",
          "data": {
            "text/plain": [
              "id                                   56cfef3c234ae51400d9c10d\n",
              "title                                         Frédéric_Chopin\n",
              "context     Some of Chopin's well-known pieces have acquir...\n",
              "question    What is another title Op. 10, No. 12 has garne...\n",
              "answers     {'text': ['the Revolutionary Étude'], 'answer_...\n",
              "Name: 2063, dtype: object"
            ]
          },
          "metadata": {}
        },
        {
          "output_type": "display_data",
          "data": {
            "text/plain": [
              "id                                   56cff00f234ae51400d9c113\n",
              "title                                         Frédéric_Chopin\n",
              "context     The last opus number that Chopin himself used ...\n",
              "question     What was the last number Chopin gave to an opus?\n",
              "answers                {'text': ['65'], 'answer_start': [50]}\n",
              "Name: 2069, dtype: object"
            ]
          },
          "metadata": {}
        },
        {
          "output_type": "display_data",
          "data": {
            "text/plain": [
              "id                                   56cff0c3234ae51400d9c123\n",
              "title                                         Frédéric_Chopin\n",
              "context     Works published since 1857 have received alter...\n",
              "question          The Kobylańska Catalogue was named for who?\n",
              "answers     {'text': ['Krystyna Kobylańska'], 'answer_star...\n",
              "Name: 2076, dtype: object"
            ]
          },
          "metadata": {}
        },
        {
          "output_type": "display_data",
          "data": {
            "text/plain": [
              "id                                   56cff179234ae51400d9c131\n",
              "title                                         Frédéric_Chopin\n",
              "context     Chopin's original publishers included Maurice ...\n",
              "question    Who released the first collection of Chopin's ...\n",
              "answers     {'text': ['Breitkopf & Härtel'], 'answer_start...\n",
              "Name: 2082, dtype: object"
            ]
          },
          "metadata": {}
        },
        {
          "output_type": "display_data",
          "data": {
            "text/plain": [
              "id                                   56cff256234ae51400d9c145\n",
              "title                                         Frédéric_Chopin\n",
              "context     Improvisation stands at the centre of Chopin's...\n",
              "question                 What is central to Chopin's process?\n",
              "answers      {'text': ['Improvisation'], 'answer_start': [0]}\n",
              "Name: 2088, dtype: object"
            ]
          },
          "metadata": {}
        },
        {
          "output_type": "display_data",
          "data": {
            "text/plain": [
              "id                                   56cff2e0234ae51400d9c14b\n",
              "title                                         Frédéric_Chopin\n",
              "context     J. Barrie Jones suggests that \"amongst the wor...\n",
              "question    What piece does J. Barrie Jones pinpoint as a ...\n",
              "answers     {'text': ['the Barcarolle Op. 60'], 'answer_st...\n",
              "Name: 2093, dtype: object"
            ]
          },
          "metadata": {}
        },
        {
          "output_type": "display_data",
          "data": {
            "text/plain": [
              "id                                   56cff351234ae51400d9c14d\n",
              "title                                         Frédéric_Chopin\n",
              "context     Chopin's mazurkas and waltzes are all in strai...\n",
              "question    Chopin's mazurkas contain more of what than hi...\n",
              "answers     {'text': ['folk features'], 'answer_start': [1...\n",
              "Name: 2096, dtype: object"
            ]
          },
          "metadata": {}
        },
        {
          "output_type": "display_data",
          "data": {
            "text/plain": [
              "id                                   56cff390234ae51400d9c151\n",
              "title                                         Frédéric_Chopin\n",
              "context     Chopin's polonaises show a marked advance on t...\n",
              "question        What time are Chopin's polonaises written in?\n",
              "answers      {'text': ['triple time'], 'answer_start': [193]}\n",
              "Name: 2101, dtype: object"
            ]
          },
          "metadata": {}
        },
        {
          "output_type": "display_data",
          "data": {
            "text/plain": [
              "id                                   56cff3f4234ae51400d9c153\n",
              "title                                         Frédéric_Chopin\n",
              "context     The 21 nocturnes are more structured, and of g...\n",
              "question               How many nocturnes did Chopin compose?\n",
              "answers                 {'text': ['21'], 'answer_start': [4]}\n",
              "Name: 2105, dtype: object"
            ]
          },
          "metadata": {}
        },
        {
          "output_type": "display_data",
          "data": {
            "text/plain": [
              "id                                   56cff427234ae51400d9c157\n",
              "title                                         Frédéric_Chopin\n",
              "context     Chopin's études are largely in straightforward...\n",
              "question    What pieces of his did Chopin use to teach his...\n",
              "answers             {'text': ['études'], 'answer_start': [9]}\n",
              "Name: 2110, dtype: object"
            ]
          },
          "metadata": {}
        },
        {
          "output_type": "display_data",
          "data": {
            "text/plain": [
              "id                                   56cff49a234ae51400d9c161\n",
              "title                                         Frédéric_Chopin\n",
              "context     The preludes, many of which are very brief (so...\n",
              "question    What piece of Bach's did Chopin take inspirati...\n",
              "answers     {'text': ['The Well-Tempered Clavier'], 'answe...\n",
              "Name: 2113, dtype: object"
            ]
          },
          "metadata": {}
        },
        {
          "output_type": "display_data",
          "data": {
            "text/plain": [
              "id                                   56cff536234ae51400d9c165\n",
              "title                                         Frédéric_Chopin\n",
              "context     The two mature piano sonatas (No. 2, Op. 35, w...\n",
              "question    How many movements are No. 2, Op. 35 and No. 3...\n",
              "answers             {'text': ['four'], 'answer_start': [104]}\n",
              "Name: 2119, dtype: object"
            ]
          },
          "metadata": {}
        },
        {
          "output_type": "display_data",
          "data": {
            "text/plain": [
              "id                                   56cff5a8234ae51400d9c173\n",
              "title                                         Frédéric_Chopin\n",
              "context     Chopin's harmonic innovations may have arisen ...\n",
              "question    Chopin's chord progressions are similar in sty...\n",
              "answers     {'text': ['Claude Debussy'], 'answer_start': [...\n",
              "Name: 2124, dtype: object"
            ]
          },
          "metadata": {}
        },
        {
          "output_type": "display_data",
          "data": {
            "text/plain": [
              "id                                   56cff635234ae51400d9c184\n",
              "title                                         Frédéric_Chopin\n",
              "context     In 1841, Léon Escudier wrote of a recital give...\n",
              "question                  What was Chopin's style based upon?\n",
              "answers     {'text': ['independent finger technique'], 'an...\n",
              "Name: 2127, dtype: object"
            ]
          },
          "metadata": {}
        },
        {
          "output_type": "display_data",
          "data": {
            "text/plain": [
              "id                                   56cff6f3234ae51400d9c191\n",
              "title                                         Frédéric_Chopin\n",
              "context     Polish composers of the following generation i...\n",
              "question    According to J. Barrie Jones who was the only ...\n",
              "answers     {'text': ['Karol Szymanowski'], 'answer_start'...\n",
              "Name: 2130, dtype: object"
            ]
          },
          "metadata": {}
        },
        {
          "output_type": "display_data",
          "data": {
            "text/plain": [
              "id                                   56cff817234ae51400d9c1a3\n",
              "title                                         Frédéric_Chopin\n",
              "context     Jonathan Bellman writes that modern concert pe...\n",
              "question    Who wrote that the current large concert style...\n",
              "answers     {'text': ['Jonathan Bellman'], 'answer_start':...\n",
              "Name: 2136, dtype: object"
            ]
          },
          "metadata": {}
        },
        {
          "output_type": "display_data",
          "data": {
            "text/plain": [
              "id                                   56cff885234ae51400d9c1b3\n",
              "title                                         Frédéric_Chopin\n",
              "context     Chopin's music is frequently played with rubat...\n",
              "question    Chopin's compositions are often played with what?\n",
              "answers            {'text': ['rubato'], 'answer_start': [41]}\n",
              "Name: 2142, dtype: object"
            ]
          },
          "metadata": {}
        },
        {
          "output_type": "display_data",
          "data": {
            "text/plain": [
              "id                                   56cff905234ae51400d9c1b7\n",
              "title                                         Frédéric_Chopin\n",
              "context     Friederike Müller, a pupil of Chopin, wrote: \"...\n",
              "question    According to who did Chopin demand strictly st...\n",
              "answers     {'text': ['Friederike Müller'], 'answer_start'...\n",
              "Name: 2146, dtype: object"
            ]
          },
          "metadata": {}
        },
        {
          "output_type": "display_data",
          "data": {
            "text/plain": [
              "id                                   56cffa2a234ae51400d9c1cf\n",
              "title                                         Frédéric_Chopin\n",
              "context     With his mazurkas and polonaises, Chopin has b...\n",
              "question       Chopin was noted as introducing music to what?\n",
              "answers     {'text': ['sense of nationalism'], 'answer_sta...\n",
              "Name: 2149, dtype: object"
            ]
          },
          "metadata": {}
        },
        {
          "output_type": "display_data",
          "data": {
            "text/plain": [
              "id                                   56cffb2b234ae51400d9c1e1\n",
              "title                                         Frédéric_Chopin\n",
              "context     Some modern commentators have argued against e...\n",
              "question    Who said that Chopin's familiarity with Polish...\n",
              "answers     {'text': ['Barbara Milewski'], 'answer_start':...\n",
              "Name: 2158, dtype: object"
            ]
          },
          "metadata": {}
        },
        {
          "output_type": "display_data",
          "data": {
            "text/plain": [
              "id                                   56cffba5234ae51400d9c1f1\n",
              "title                                         Frédéric_Chopin\n",
              "context     A reconciliation of these views is suggested b...\n",
              "question    William Atwood suggested that Chopin's music w...\n",
              "answers        {'text': ['intuitive'], 'answer_start': [443]}\n",
              "Name: 2161, dtype: object"
            ]
          },
          "metadata": {}
        },
        {
          "output_type": "display_data",
          "data": {
            "text/plain": [
              "id                                   56cffc2b234ae51400d9c1ff\n",
              "title                                         Frédéric_Chopin\n",
              "context     Jones comments that \"Chopin's unique position ...\n",
              "question    Arthur Hutchings stated that Chopin's lack of ...\n",
              "answers     {'text': ['Byronic flamboyance'], 'answer_star...\n",
              "Name: 2164, dtype: object"
            ]
          },
          "metadata": {}
        },
        {
          "output_type": "display_data",
          "data": {
            "text/plain": [
              "id                                   56cffcf3234ae51400d9c20d\n",
              "title                                         Frédéric_Chopin\n",
              "context     Chopin's qualities as a pianist and composer w...\n",
              "question    In what suite did Schumann name a work for Cho...\n",
              "answers         {'text': ['Carnaval'], 'answer_start': [138]}\n",
              "Name: 2168, dtype: object"
            ]
          },
          "metadata": {}
        },
        {
          "output_type": "display_data",
          "data": {
            "text/plain": [
              "id                                   56cffdaa234ae51400d9c226\n",
              "title                                         Frédéric_Chopin\n",
              "context     Two of Chopin's long-standing pupils, Karol Mi...\n",
              "question       Who dedicated his 1915 piano Études to Chopin?\n",
              "answers          {'text': ['Debussy'], 'answer_start': [392]}\n",
              "Name: 2176, dtype: object"
            ]
          },
          "metadata": {}
        },
        {
          "output_type": "display_data",
          "data": {
            "text/plain": [
              "id                                   56cc239e6d243a140015eeb7\n",
              "title          Sino-Tibetan_relations_during_the_Ming_dynasty\n",
              "context     The exact nature of relations between Tibet an...\n",
              "question            Who were Wang Jiawei and Nyima Gyaincain?\n",
              "answers     {'text': ['Mainland Chinese scholars'], 'answe...\n",
              "Name: 2180, dtype: object"
            ]
          },
          "metadata": {}
        },
        {
          "output_type": "display_data",
          "data": {
            "text/plain": [
              "id                                   56cc27346d243a140015eeba\n",
              "title          Sino-Tibetan_relations_during_the_Ming_dynasty\n",
              "context     Some scholars note that Tibetan leaders during...\n",
              "question    What important trade did the Ming Dynasty have...\n",
              "answers      {'text': ['horse trade'], 'answer_start': [338]}\n",
              "Name: 2181, dtype: object"
            ]
          },
          "metadata": {}
        },
        {
          "output_type": "display_data",
          "data": {
            "text/plain": [
              "id                                   56cc306b6d243a140015eec5\n",
              "title          Sino-Tibetan_relations_during_the_Ming_dynasty\n",
              "context     The Ming initiated sporadic armed intervention...\n",
              "question       What did the Tibetans use against Ming forays?\n",
              "answers     {'text': ['armed resistance'], 'answer_start':...\n",
              "Name: 2186, dtype: object"
            ]
          },
          "metadata": {}
        },
        {
          "output_type": "display_data",
          "data": {
            "text/plain": [
              "id                                   56cc36926d243a140015eece\n",
              "title          Sino-Tibetan_relations_during_the_Ming_dynasty\n",
              "context     Tibet was once a strong power contemporaneous ...\n",
              "question         In what century did the Tibetan Empire fall?\n",
              "answers     {'text': ['the 9th century'], 'answer_start': ...\n",
              "Name: 2190, dtype: object"
            ]
          },
          "metadata": {}
        },
        {
          "output_type": "display_data",
          "data": {
            "text/plain": [
              "id                                   56cc3ad16d243a140015eed8\n",
              "title          Sino-Tibetan_relations_during_the_Ming_dynasty\n",
              "context     During the Five Dynasties and Ten Kingdoms per...\n",
              "question    When did the Five Dynasties and Ten Kingdoms p...\n",
              "answers           {'text': ['907–960'], 'answer_start': [60]}\n",
              "Name: 2195, dtype: object"
            ]
          },
          "metadata": {}
        },
        {
          "output_type": "display_data",
          "data": {
            "text/plain": [
              "id                                   56cc41416d243a140015eee2\n",
              "title          Sino-Tibetan_relations_during_the_Ming_dynasty\n",
              "context     In 1207, the Mongol ruler Genghis Khan (r. 120...\n",
              "question    Which ruler took Western Xia under their control?\n",
              "answers      {'text': ['Genghis Khan'], 'answer_start': [26]}\n",
              "Name: 2200, dtype: object"
            ]
          },
          "metadata": {}
        },
        {
          "output_type": "display_data",
          "data": {
            "text/plain": [
              "id                                   56cc44b76d243a140015eeec\n",
              "title          Sino-Tibetan_relations_during_the_Ming_dynasty\n",
              "context     The Mongol prince Godan, a grandson of Genghis...\n",
              "question                           Who was the Mongol prince?\n",
              "answers             {'text': ['Godan'], 'answer_start': [18]}\n",
              "Name: 2204, dtype: object"
            ]
          },
          "metadata": {}
        },
        {
          "output_type": "display_data",
          "data": {
            "text/plain": [
              "id                                   56cc50756d243a140015eef6\n",
              "title          Sino-Tibetan_relations_during_the_Ming_dynasty\n",
              "context     Starting in 1236, the Mongol prince Kublai, wh...\n",
              "question           How many states were ruled by myriarchies?\n",
              "answers         {'text': ['thirteen'], 'answer_start': [815]}\n",
              "Name: 2208, dtype: object"
            ]
          },
          "metadata": {}
        },
        {
          "output_type": "display_data",
          "data": {
            "text/plain": [
              "id                                   56cc52186d243a140015ef00\n",
              "title          Sino-Tibetan_relations_during_the_Ming_dynasty\n",
              "context     Kublai Khan did not conquer the Song dynasty i...\n",
              "question     When did Kublai Khan conquer the song dynasty?  \n",
              "answers              {'text': ['1279'], 'answer_start': [66]}\n",
              "Name: 2213, dtype: object"
            ]
          },
          "metadata": {}
        },
        {
          "output_type": "display_data",
          "data": {
            "text/plain": [
              "id                                   56cc59cd6d243a140015ef34\n",
              "title          Sino-Tibetan_relations_during_the_Ming_dynasty\n",
              "context     In 1358, the Sakya viceregal regime installed ...\n",
              "question    What year was the Sakya viceregal regime eradi...\n",
              "answers               {'text': ['1358'], 'answer_start': [3]}\n",
              "Name: 2218, dtype: object"
            ]
          },
          "metadata": {}
        },
        {
          "output_type": "display_data",
          "data": {
            "text/plain": [
              "id                                   56cc5e026d243a140015ef3c\n",
              "title          Sino-Tibetan_relations_during_the_Ming_dynasty\n",
              "context     In 1368, a Han Chinese revolt known as the Red...\n",
              "question                       Who created the Ming Dynasty? \n",
              "answers     {'text': ['Zhu Yuanzhang'], 'answer_start': [1...\n",
              "Name: 2222, dtype: object"
            ]
          },
          "metadata": {}
        },
        {
          "output_type": "display_data",
          "data": {
            "text/plain": [
              "id                                   56cc5fd66d243a140015ef50\n",
              "title          Sino-Tibetan_relations_during_the_Ming_dynasty\n",
              "context     As evident in his imperial edicts, the Hongwu ...\n",
              "question                     Who was the fourth Karmapa Lama?\n",
              "answers      {'text': ['Rolpe Dorje'], 'answer_start': [139]}\n",
              "Name: 2227, dtype: object"
            ]
          },
          "metadata": {}
        },
        {
          "output_type": "display_data",
          "data": {
            "text/plain": [
              "id                                   56cccb3c62d2951400fa64be\n",
              "title          Sino-Tibetan_relations_during_the_Ming_dynasty\n",
              "context     However, the early Ming government enacted a l...\n",
              "question    Who created a law that did not allow Han Chine...\n",
              "answers     {'text': ['Ming government'], 'answer_start': ...\n",
              "Name: 2231, dtype: object"
            ]
          },
          "metadata": {}
        },
        {
          "output_type": "display_data",
          "data": {
            "text/plain": [
              "id                                   56ccd5bc62d2951400fa64c6\n",
              "title          Sino-Tibetan_relations_during_the_Ming_dynasty\n",
              "context     According to the official Twenty-Four Historie...\n",
              "question                What years did the Qing dynasty rule?\n",
              "answers        {'text': ['1644–1912'], 'answer_start': [118]}\n",
              "Name: 2234, dtype: object"
            ]
          },
          "metadata": {}
        },
        {
          "output_type": "display_data",
          "data": {
            "text/plain": [
              "id                                   56ccd9b562d2951400fa64d0\n",
              "title          Sino-Tibetan_relations_during_the_Ming_dynasty\n",
              "context     The Ming court appointed three Princes of Dhar...\n",
              "question    How many princes of Dharma were assigned by th...\n",
              "answers             {'text': ['three'], 'answer_start': [25]}\n",
              "Name: 2239, dtype: object"
            ]
          },
          "metadata": {}
        },
        {
          "output_type": "display_data",
          "data": {
            "text/plain": [
              "id                                   56ccde7862d2951400fa64d8\n",
              "title          Sino-Tibetan_relations_during_the_Ming_dynasty\n",
              "context     The late Turrell V. Wylie, a former professor ...\n",
              "question    who was a professor of the University of Washi...\n",
              "answers     {'text': ['Turrell V. Wylie'], 'answer_start':...\n",
              "Name: 2242, dtype: object"
            ]
          },
          "metadata": {}
        },
        {
          "output_type": "display_data",
          "data": {
            "text/plain": [
              "id                                   56ccea7c62d2951400fa64de\n",
              "title          Sino-Tibetan_relations_during_the_Ming_dynasty\n",
              "context     Historians disagree on what the relationship w...\n",
              "question                  Who supported van Praag's beliefs? \n",
              "answers     {'text': ['historian Tsepon W. D. Shakabpa'], ...\n",
              "Name: 2245, dtype: object"
            ]
          },
          "metadata": {}
        },
        {
          "output_type": "display_data",
          "data": {
            "text/plain": [
              "id                                   56ccea7f62d2951400fa64e2\n",
              "title          Sino-Tibetan_relations_during_the_Ming_dynasty\n",
              "context     Wang and Nyima argue that the Ming emperor sen...\n",
              "question    Who believed that the Ming court had full sove...\n",
              "answers     {'text': ['Wang and Nyima'], 'answer_start': [0]}\n",
              "Name: 2247, dtype: object"
            ]
          },
          "metadata": {}
        },
        {
          "output_type": "display_data",
          "data": {
            "text/plain": [
              "id                                   56cceda862d2951400fa64ec\n",
              "title          Sino-Tibetan_relations_during_the_Ming_dynasty\n",
              "context     Journalist and author Thomas Laird, in his boo...\n",
              "question               Who wrote the book The Story of Tibet?\n",
              "answers     {'text': ['Journalist and author Thomas Laird'...\n",
              "Name: 2251, dtype: object"
            ]
          },
          "metadata": {}
        },
        {
          "output_type": "display_data",
          "data": {
            "text/plain": [
              "id                                   56ccf12b62d2951400fa64f2\n",
              "title          Sino-Tibetan_relations_during_the_Ming_dynasty\n",
              "context     The Columbia Encyclopedia distinguishes betwee...\n",
              "question    How did the The Columbia Encyclopedia describe...\n",
              "answers     {'text': ['A Mongol dynasty of China'], 'answe...\n",
              "Name: 2254, dtype: object"
            ]
          },
          "metadata": {}
        },
        {
          "output_type": "display_data",
          "data": {
            "text/plain": [
              "id                                   56ccf53362d2951400fa64fd\n",
              "title          Sino-Tibetan_relations_during_the_Ming_dynasty\n",
              "context     Nevertheless, the ethno-geographic caste hiera...\n",
              "question             When did Ayurbarwada Buyantu Khan reign?\n",
              "answers        {'text': ['1311–1320'], 'answer_start': [447]}\n",
              "Name: 2259, dtype: object"
            ]
          },
          "metadata": {}
        },
        {
          "output_type": "display_data",
          "data": {
            "text/plain": [
              "id                                   56ccf96562d2951400fa6506\n",
              "title          Sino-Tibetan_relations_during_the_Ming_dynasty\n",
              "context     The official position of the Ministry of Forei...\n",
              "question                    Who abolished the policy council?\n",
              "answers          {'text': ['the Ming'], 'answer_start': [99]}\n",
              "Name: 2262, dtype: object"
            ]
          },
          "metadata": {}
        },
        {
          "output_type": "display_data",
          "data": {
            "text/plain": [
              "id                                   56cd480b62d2951400fa650e\n",
              "title          Sino-Tibetan_relations_during_the_Ming_dynasty\n",
              "context     Chen Qingying, Professor of History and Direct...\n",
              "question    Where is the China Tibetology Research Center ...\n",
              "answers          {'text': ['Beijing'], 'answer_start': [128]}\n",
              "Name: 2265, dtype: object"
            ]
          },
          "metadata": {}
        },
        {
          "output_type": "display_data",
          "data": {
            "text/plain": [
              "id                                   56cd4a5162d2951400fa6516\n",
              "title          Sino-Tibetan_relations_during_the_Ming_dynasty\n",
              "context     According to Tibetologist John Powers, Tibetan...\n",
              "question               What was the name of the Tibetologist?\n",
              "answers       {'text': ['John Powers'], 'answer_start': [26]}\n",
              "Name: 2269, dtype: object"
            ]
          },
          "metadata": {}
        },
        {
          "output_type": "display_data",
          "data": {
            "text/plain": [
              "id                                   56cd556f62d2951400fa651c\n",
              "title          Sino-Tibetan_relations_during_the_Ming_dynasty\n",
              "context     Hans Bielenstein writes that as far back as th...\n",
              "question            What was the western regions composed of?\n",
              "answers     {'text': ['the Tarim Basin and oasis of Turpan...\n",
              "Name: 2272, dtype: object"
            ]
          },
          "metadata": {}
        },
        {
          "output_type": "display_data",
          "data": {
            "text/plain": [
              "id                                   56cd58c362d2951400fa6520\n",
              "title          Sino-Tibetan_relations_during_the_Ming_dynasty\n",
              "context     Wang and Nyima state that after the official t...\n",
              "question    What title was given by the Yuan court to Tai ...\n",
              "answers     {'text': ['Education Minister'], 'answer_start...\n",
              "Name: 2274, dtype: object"
            ]
          },
          "metadata": {}
        },
        {
          "output_type": "display_data",
          "data": {
            "text/plain": [
              "id                                   56cd5ccc62d2951400fa6532\n",
              "title          Sino-Tibetan_relations_during_the_Ming_dynasty\n",
              "context     However, Lok-Ham Chan, a professor of history ...\n",
              "question           Who divided Central Tibet into districts? \n",
              "answers     {'text': ['Changchub Gyaltsen'], 'answer_start...\n",
              "Name: 2279, dtype: object"
            ]
          },
          "metadata": {}
        },
        {
          "output_type": "display_data",
          "data": {
            "text/plain": [
              "id                                   56cd5f5b62d2951400fa654c\n",
              "title          Sino-Tibetan_relations_during_the_Ming_dynasty\n",
              "context     According to Chen, the Ming officer of Hezhou ...\n",
              "question    Who did the Hongwu Emperor grant the title Ini...\n",
              "answers     {'text': ['Sagya Gyaincain'], 'answer_start': ...\n",
              "Name: 2283, dtype: object"
            ]
          },
          "metadata": {}
        },
        {
          "output_type": "display_data",
          "data": {
            "text/plain": [
              "id                                   56cd606a62d2951400fa6556\n",
              "title          Sino-Tibetan_relations_during_the_Ming_dynasty\n",
              "context     Dreyfus writes that after the Phagmodrupa lost...\n",
              "question                     Who lost their power over Tibet?\n",
              "answers     {'text': ['the Phagmodrupa'], 'answer_start': ...\n",
              "Name: 2288, dtype: object"
            ]
          },
          "metadata": {}
        },
        {
          "output_type": "display_data",
          "data": {
            "text/plain": [
              "id                                   56cd62e262d2951400fa655e\n",
              "title          Sino-Tibetan_relations_during_the_Ming_dynasty\n",
              "context     The Ming dynasty granted titles to lamas of sc...\n",
              "question    The Ming Dynasty granted what titles to lamas ...\n",
              "answers     {'text': ['the Karmapa Kargyu'], 'answer_start...\n",
              "Name: 2292, dtype: object"
            ]
          },
          "metadata": {}
        },
        {
          "output_type": "display_data",
          "data": {
            "text/plain": [
              "id                                   56cd64e762d2951400fa6569\n",
              "title          Sino-Tibetan_relations_during_the_Ming_dynasty\n",
              "context     A. Tom Grunfeld says that Tsongkhapa claimed i...\n",
              "question    When did the Ming first request Tsongkhapa to ...\n",
              "answers             {'text': ['1407'], 'answer_start': [282]}\n",
              "Name: 2297, dtype: object"
            ]
          },
          "metadata": {}
        },
        {
          "output_type": "display_data",
          "data": {
            "text/plain": [
              "id                                   56cd669562d2951400fa6572\n",
              "title          Sino-Tibetan_relations_during_the_Ming_dynasty\n",
              "context     Dawa Norbu argues that modern Chinese Communis...\n",
              "question    Who believed the Ming reappointed old Yuan dyn...\n",
              "answers         {'text': ['Dawa Norbu'], 'answer_start': [0]}\n",
              "Name: 2301, dtype: object"
            ]
          },
          "metadata": {}
        },
        {
          "output_type": "display_data",
          "data": {
            "text/plain": [
              "id                                   56cd682162d2951400fa658c\n",
              "title          Sino-Tibetan_relations_during_the_Ming_dynasty\n",
              "context     Laird writes that the Ming appointed titles to...\n",
              "question                  Who did the Ming appoint titles to?\n",
              "answers     {'text': ['eastern Tibetan princes'], 'answer_...\n",
              "Name: 2302, dtype: object"
            ]
          },
          "metadata": {}
        },
        {
          "output_type": "display_data",
          "data": {
            "text/plain": [
              "id                                   56cd6a3d62d2951400fa659c\n",
              "title          Sino-Tibetan_relations_during_the_Ming_dynasty\n",
              "context     Shih-Shan Henry Tsai writes that the Yongle Em...\n",
              "question                    What was the name of the  eunuch?\n",
              "answers       {'text': ['Yang Sanbao'], 'answer_start': [68]}\n",
              "Name: 2305, dtype: object"
            ]
          },
          "metadata": {}
        },
        {
          "output_type": "display_data",
          "data": {
            "text/plain": [
              "id                                   56cd6b0562d2951400fa65a6\n",
              "title          Sino-Tibetan_relations_during_the_Ming_dynasty\n",
              "context     Even though the Gelug exchanged gifts with and...\n",
              "question               Who did the Gelug exchange gifts with?\n",
              "answers     {'text': ['the Ming court'], 'answer_start': [...\n",
              "Name: 2310, dtype: object"
            ]
          },
          "metadata": {}
        },
        {
          "output_type": "display_data",
          "data": {
            "text/plain": [
              "id                                   56cd6e9062d2951400fa65ac\n",
              "title          Sino-Tibetan_relations_during_the_Ming_dynasty\n",
              "context     Wylie asserts that this type of censorship of ...\n",
              "question    Regardless of their sectarian affiliations, wh...\n",
              "answers     {'text': ['various lamas'], 'answer_start': [1...\n",
              "Name: 2313, dtype: object"
            ]
          },
          "metadata": {}
        },
        {
          "output_type": "display_data",
          "data": {
            "text/plain": [
              "id                                   56cd70e962d2951400fa65b2\n",
              "title          Sino-Tibetan_relations_during_the_Ming_dynasty\n",
              "context     Helmut Hoffman states that the Ming upheld the...\n",
              "question    Who believed that the Ming had no real authori...\n",
              "answers     {'text': ['Melvyn C. Goldstein'], 'answer_star...\n",
              "Name: 2315, dtype: object"
            ]
          },
          "metadata": {}
        },
        {
          "output_type": "display_data",
          "data": {
            "text/plain": [
              "id                                   56cd727662d2951400fa65ba\n",
              "title          Sino-Tibetan_relations_during_the_Ming_dynasty\n",
              "context     In his usurpation of the throne from the Jianw...\n",
              "question    What year did the Jianwen Emperor reign start ...\n",
              "answers         {'text': ['1398–1402'], 'answer_start': [61]}\n",
              "Name: 2319, dtype: object"
            ]
          },
          "metadata": {}
        },
        {
          "output_type": "display_data",
          "data": {
            "text/plain": [
              "id                                   56cd73b562d2951400fa65cc\n",
              "title          Sino-Tibetan_relations_during_the_Ming_dynasty\n",
              "context     In order to seek out the Karmapa, the Yongle E...\n",
              "question            Who did the Yongle Emperor send to Tibet?\n",
              "answers     {'text': ['Hou Xian and the Buddhist monk Zhi ...\n",
              "Name: 2323, dtype: object"
            ]
          },
          "metadata": {}
        },
        {
          "output_type": "display_data",
          "data": {
            "text/plain": [
              "id                                   56cd779762d2951400fa65dc\n",
              "title          Sino-Tibetan_relations_during_the_Ming_dynasty\n",
              "context     During his travels beginning in 1403, Deshin S...\n",
              "question                When did Deshin Shekpa travels start?\n",
              "answers              {'text': ['1403'], 'answer_start': [32]}\n",
              "Name: 2327, dtype: object"
            ]
          },
          "metadata": {}
        },
        {
          "output_type": "display_data",
          "data": {
            "text/plain": [
              "id                                   56cd798262d2951400fa65f6\n",
              "title          Sino-Tibetan_relations_during_the_Ming_dynasty\n",
              "context     Throughout the following month, the Yongle Emp...\n",
              "question    At what temple did the ceremonies for the Yong...\n",
              "answers     {'text': ['Linggu Temple'], 'answer_start': [1...\n",
              "Name: 2332, dtype: object"
            ]
          },
          "metadata": {}
        },
        {
          "output_type": "display_data",
          "data": {
            "text/plain": [
              "id                                   56cd7c1962d2951400fa661e\n",
              "title          Sino-Tibetan_relations_during_the_Ming_dynasty\n",
              "context     Tibetan sources say Deshin Shekpa also persuad...\n",
              "question    Who imposed on the military might on Tibet in ...\n",
              "answers      {'text': ['the Mongols'], 'answer_start': [113]}\n",
              "Name: 2336, dtype: object"
            ]
          },
          "metadata": {}
        },
        {
          "output_type": "display_data",
          "data": {
            "text/plain": [
              "id                                   56cd7dda62d2951400fa6640\n",
              "title          Sino-Tibetan_relations_during_the_Ming_dynasty\n",
              "context     Marsha Weidner states that Deshin Shekpa's mir...\n",
              "question     Who did the Yongle Emperor have a conflict with?\n",
              "answers     {'text': ['Jianwen Emperor'], 'answer_start': ...\n",
              "Name: 2341, dtype: object"
            ]
          },
          "metadata": {}
        },
        {
          "output_type": "display_data",
          "data": {
            "text/plain": [
              "id                                   56cd8d1462d2951400fa66b8\n",
              "title          Sino-Tibetan_relations_during_the_Ming_dynasty\n",
              "context     With the example of the Ming court's relations...\n",
              "question    According to Norbu who failed to realize the s...\n",
              "answers     {'text': ['Chinese Communist historians'], 'an...\n",
              "Name: 2344, dtype: object"
            ]
          },
          "metadata": {}
        },
        {
          "output_type": "display_data",
          "data": {
            "text/plain": [
              "id                                   56cd8d1a62d2951400fa66c2\n",
              "title          Sino-Tibetan_relations_during_the_Ming_dynasty\n",
              "context     The Information Office of the State Council of...\n",
              "question          What years did the Zhengtong Emperor reign?\n",
              "answers        {'text': ['1435–1449'], 'answer_start': [103]}\n",
              "Name: 2347, dtype: object"
            ]
          },
          "metadata": {}
        },
        {
          "output_type": "display_data",
          "data": {
            "text/plain": [
              "id                                   56cd8d2162d2951400fa66cc\n",
              "title          Sino-Tibetan_relations_during_the_Ming_dynasty\n",
              "context     Despite this glowing message by the Emperor, C...\n",
              "question         Who did the Ming cut off all relations with?\n",
              "answers     {'text': ['the Karmapa hierarchs'], 'answer_st...\n",
              "Name: 2352, dtype: object"
            ]
          },
          "metadata": {}
        },
        {
          "output_type": "display_data",
          "data": {
            "text/plain": [
              "id                                   56cd8d2462d2951400fa66d5\n",
              "title          Sino-Tibetan_relations_during_the_Ming_dynasty\n",
              "context     Tsai writes that shortly after the visit by De...\n",
              "question               Why did Yongle order the construction?\n",
              "answers     {'text': ['to facilitate trade with Tibet'], '...\n",
              "Name: 2356, dtype: object"
            ]
          },
          "metadata": {}
        },
        {
          "output_type": "display_data",
          "data": {
            "text/plain": [
              "id                                   56cd8d2762d2951400fa66de\n",
              "title          Sino-Tibetan_relations_during_the_Ming_dynasty\n",
              "context     Van Praag states that the Ming court establish...\n",
              "question    Why does Van Praag believe the Ming court set ...\n",
              "answers     {'text': ['to secure urgently needed horses'],...\n",
              "Name: 2359, dtype: object"
            ]
          },
          "metadata": {}
        },
        {
          "output_type": "display_data",
          "data": {
            "text/plain": [
              "id                                   56cd8d2962d2951400fa66e8\n",
              "title          Sino-Tibetan_relations_during_the_Ming_dynasty\n",
              "context     While the Ming dynasty traded horses with Tibe...\n",
              "question                  Who did the Ming trade horses with?\n",
              "answers             {'text': ['Tibet'], 'answer_start': [42]}\n",
              "Name: 2364, dtype: object"
            ]
          },
          "metadata": {}
        },
        {
          "output_type": "display_data",
          "data": {
            "text/plain": [
              "id                                   56cd8f8962d2951400fa6716\n",
              "title          Sino-Tibetan_relations_during_the_Ming_dynasty\n",
              "context     Patricia Ebrey writes that Tibet, like Joseon ...\n",
              "question    When did the Hongwu Emperor use military force...\n",
              "answers     {'text': ['the 14th century'], 'answer_start':...\n",
              "Name: 2369, dtype: object"
            ]
          },
          "metadata": {}
        },
        {
          "output_type": "display_data",
          "data": {
            "text/plain": [
              "id                                   56cd982562d2951400fa6770\n",
              "title          Sino-Tibetan_relations_during_the_Ming_dynasty\n",
              "context     Discussions of strategy in the mid Ming dynast...\n",
              "question    What did the mid Ming dynasty discussion focus...\n",
              "answers     {'text': ['recovery of the Ordos region'], 'an...\n",
              "Name: 2374, dtype: object"
            ]
          },
          "metadata": {}
        },
        {
          "output_type": "display_data",
          "data": {
            "text/plain": [
              "id                                   56cdaa2662d2951400fa67ec\n",
              "title          Sino-Tibetan_relations_during_the_Ming_dynasty\n",
              "context     Historians Luciano Petech and Sato Hisashi arg...\n",
              "question    What policy does Luciano Petech and Sato Hisas...\n",
              "answers     {'text': ['divide-and-rule'], 'answer_start': ...\n",
              "Name: 2378, dtype: object"
            ]
          },
          "metadata": {}
        },
        {
          "output_type": "display_data",
          "data": {
            "text/plain": [
              "id                                   56cdac5e62d2951400fa67f4\n",
              "title          Sino-Tibetan_relations_during_the_Ming_dynasty\n",
              "context     The Association for Asian Studies states that ...\n",
              "question           Who were the Rinpungpa leaders related to?\n",
              "answers     {'text': ['the Phagmodrupa'], 'answer_start': ...\n",
              "Name: 2382, dtype: object"
            ]
          },
          "metadata": {}
        },
        {
          "output_type": "display_data",
          "data": {
            "text/plain": [
              "id                                   56cdae5962d2951400fa67fe\n",
              "title          Sino-Tibetan_relations_during_the_Ming_dynasty\n",
              "context     The Zhengde Emperor (r. 1505–1521), who enjoye...\n",
              "question                  When did the Zhengde Emperor rule? \n",
              "answers         {'text': ['1505–1521'], 'answer_start': [24]}\n",
              "Name: 2386, dtype: object"
            ]
          },
          "metadata": {}
        },
        {
          "output_type": "display_data",
          "data": {
            "text/plain": [
              "id                                   56ce1d0caab44d1400b8845e\n",
              "title          Sino-Tibetan_relations_during_the_Ming_dynasty\n",
              "context     Elliot Sperling, a specialist of Indian studie...\n",
              "question    Who said Tibet  wasn't an integral part of of ...\n",
              "answers     {'text': ['Chinese writers of the early 20th c...\n",
              "Name: 2389, dtype: object"
            ]
          },
          "metadata": {}
        },
        {
          "output_type": "display_data",
          "data": {
            "text/plain": [
              "id                                   56ce1e45aab44d1400b8847a\n",
              "title          Sino-Tibetan_relations_during_the_Ming_dynasty\n",
              "context     Josef Kolmaš, a sinologist, Tibetologist, and ...\n",
              "question    During Which dynasty does Josef Kolmaš claim T...\n",
              "answers     {'text': ['the Qing dynasty'], 'answer_start':...\n",
              "Name: 2393, dtype: object"
            ]
          },
          "metadata": {}
        },
        {
          "output_type": "display_data",
          "data": {
            "text/plain": [
              "id                                   56ce2752aab44d1400b884d2\n",
              "title          Sino-Tibetan_relations_during_the_Ming_dynasty\n",
              "context     P. Christiaan Klieger, an anthropologist and s...\n",
              "question    Who does P. Christiaan Klieger claim to have h...\n",
              "answers     {'text': ['the Tibetan lamas and Mongol khans'...\n",
              "Name: 2395, dtype: object"
            ]
          },
          "metadata": {}
        },
        {
          "output_type": "display_data",
          "data": {
            "text/plain": [
              "id                                   56ce2b2daab44d1400b884f0\n",
              "title          Sino-Tibetan_relations_during_the_Ming_dynasty\n",
              "context     China Daily, a CCP-controlled news organizatio...\n",
              "question    When was Tibet included into the territory of ...\n",
              "answers     {'text': ['the 13th century'], 'answer_start':...\n",
              "Name: 2400, dtype: object"
            ]
          },
          "metadata": {}
        },
        {
          "output_type": "display_data",
          "data": {
            "text/plain": [
              "id                                   56ce3406aab44d1400b8856c\n",
              "title          Sino-Tibetan_relations_during_the_Ming_dynasty\n",
              "context     During the reign of the Jiajing Emperor (r. 15...\n",
              "question                 When did the Jiajing Emperor reign? \n",
              "answers         {'text': ['1521–1567'], 'answer_start': [44]}\n",
              "Name: 2405, dtype: object"
            ]
          },
          "metadata": {}
        },
        {
          "output_type": "display_data",
          "data": {
            "text/plain": [
              "id                                   56ce362faab44d1400b885c6\n",
              "title          Sino-Tibetan_relations_during_the_Ming_dynasty\n",
              "context     With the death of Zhengde and ascension of Jia...\n",
              "question                        Who was Zhengde's successor? \n",
              "answers           {'text': ['Jiajing'], 'answer_start': [43]}\n",
              "Name: 2410, dtype: object"
            ]
          },
          "metadata": {}
        },
        {
          "output_type": "display_data",
          "data": {
            "text/plain": [
              "id                                   56ce3d3aaab44d1400b885ea\n",
              "title          Sino-Tibetan_relations_during_the_Ming_dynasty\n",
              "context     Meanwhile, the Tumed Mongols began moving into...\n",
              "question         What region did the Tumed Mongols move into?\n",
              "answers     {'text': ['the Kokonor region'], 'answer_start...\n",
              "Name: 2415, dtype: object"
            ]
          },
          "metadata": {}
        },
        {
          "output_type": "display_data",
          "data": {
            "text/plain": [
              "id                                   56ce3ed1aab44d1400b885fe\n",
              "title          Sino-Tibetan_relations_during_the_Ming_dynasty\n",
              "context     Laird writes that Altan Khan abolished the nat...\n",
              "question          What practice did Altan Khan put to an end?\n",
              "answers     {'text': ['the native Mongol practices of sham...\n",
              "Name: 2420, dtype: object"
            ]
          },
          "metadata": {}
        },
        {
          "output_type": "display_data",
          "data": {
            "text/plain": [
              "id                                   56ce4100aab44d1400b88612\n",
              "title          Sino-Tibetan_relations_during_the_Ming_dynasty\n",
              "context     Rawski writes that Altan Khan's conversion to ...\n",
              "question               Who was Altan Khan's nominal superior?\n",
              "answers       {'text': ['Tümen Khan'], 'answer_start': [157]}\n",
              "Name: 2425, dtype: object"
            ]
          },
          "metadata": {}
        },
        {
          "output_type": "display_data",
          "data": {
            "text/plain": [
              "id                                   56ce42afaab44d1400b88620\n",
              "title          Sino-Tibetan_relations_during_the_Ming_dynasty\n",
              "context     Sonam Gyatso, after being granted the grandios...\n",
              "question                   Who was given the grandiose title?\n",
              "answers       {'text': ['Sonam Gyatso'], 'answer_start': [0]}\n",
              "Name: 2429, dtype: object"
            ]
          },
          "metadata": {}
        },
        {
          "output_type": "display_data",
          "data": {
            "text/plain": [
              "id                                   56ce43ebaab44d1400b88632\n",
              "title          Sino-Tibetan_relations_during_the_Ming_dynasty\n",
              "context     Of the third Dalai Lama, China Daily states th...\n",
              "question           Who did the Ming dynasty showed favors to?\n",
              "answers     {'text': ['the third Dalai Lama'], 'answer_sta...\n",
              "Name: 2434, dtype: object"
            ]
          },
          "metadata": {}
        },
        {
          "output_type": "display_data",
          "data": {
            "text/plain": [
              "id                                   56ce451caab44d1400b8863c\n",
              "title          Sino-Tibetan_relations_during_the_Ming_dynasty\n",
              "context     Chen states that the fourth Dalai Lama Yonten ...\n",
              "question       What title was the fourth Dalai Lama granted? \n",
              "answers     {'text': ['Master of Vajradhara'], 'answer_sta...\n",
              "Name: 2439, dtype: object"
            ]
          },
          "metadata": {}
        },
        {
          "output_type": "display_data",
          "data": {
            "text/plain": [
              "id                                   56ce4821aab44d1400b88656\n",
              "title          Sino-Tibetan_relations_during_the_Ming_dynasty\n",
              "context     Kolmaš writes that, as the Mongol presence in ...\n",
              "question                   Who's presence increased in Tibet?\n",
              "answers      {'text': ['the Mongols'], 'answer_start': [291]}\n",
              "Name: 2444, dtype: object"
            ]
          },
          "metadata": {}
        },
        {
          "output_type": "display_data",
          "data": {
            "text/plain": [
              "id                                   56ce4a58aab44d1400b88668\n",
              "title          Sino-Tibetan_relations_during_the_Ming_dynasty\n",
              "context     In 1565, the powerful Rinbung princes were ove...\n",
              "question            When were the Rinbung princes overthrown?\n",
              "answers               {'text': ['1565'], 'answer_start': [3]}\n",
              "Name: 2448, dtype: object"
            ]
          },
          "metadata": {}
        },
        {
          "output_type": "display_data",
          "data": {
            "text/plain": [
              "id                                   56ce4b8baab44d1400b8867a\n",
              "title          Sino-Tibetan_relations_during_the_Ming_dynasty\n",
              "context     When an ally of the Ü-Tsang ruler threatened d...\n",
              "question        Who did the 5th Dalai Lama beg for help from?\n",
              "answers     {'text': ['the Mongol prince Güshi Khan'], 'an...\n",
              "Name: 2453, dtype: object"
            ]
          },
          "metadata": {}
        },
        {
          "output_type": "display_data",
          "data": {
            "text/plain": [
              "id                                   56ce4d2baab44d1400b8868e\n",
              "title          Sino-Tibetan_relations_during_the_Ming_dynasty\n",
              "context     Soon after the victory in Ü-Tsang, Güshi Khan ...\n",
              "question    Who did Güshi Khan organize a welcome ceremony...\n",
              "answers     {'text': ['Lozang Gyatso'], 'answer_start': [81]}\n",
              "Name: 2458, dtype: object"
            ]
          },
          "metadata": {}
        },
        {
          "output_type": "display_data",
          "data": {
            "text/plain": [
              "id                                   56ce4f64aab44d1400b886a2\n",
              "title          Sino-Tibetan_relations_during_the_Ming_dynasty\n",
              "context     Meanwhile, the Chinese Ming dynasty fell to th...\n",
              "question        Who did the the Chinese Ming dynasty fall to?\n",
              "answers     {'text': ['the rebellion of Li Zicheng'], 'ans...\n",
              "Name: 2463, dtype: object"
            ]
          },
          "metadata": {}
        },
        {
          "output_type": "display_data",
          "data": {
            "text/plain": [
              "id                                   56ce5125aab44d1400b886ac\n",
              "title          Sino-Tibetan_relations_during_the_Ming_dynasty\n",
              "context     When the Dzungar Mongols attempted to spread t...\n",
              "question      Who tried to spread their territory into Tibet?\n",
              "answers     {'text': ['the Dzungar Mongols'], 'answer_star...\n",
              "Name: 2466, dtype: object"
            ]
          },
          "metadata": {}
        },
        {
          "output_type": "display_data",
          "data": {
            "text/plain": [
              "id                                   56cc55856d243a140015ef0a\n",
              "title                                                    IPod\n",
              "context     The iPod is a line of portable media players a...\n",
              "question                     Which company produces the iPod?\n",
              "answers            {'text': ['Apple'], 'answer_start': [105]}\n",
              "Name: 2471, dtype: object"
            ]
          },
          "metadata": {}
        },
        {
          "output_type": "display_data",
          "data": {
            "text/plain": [
              "id                                   56cc55fa6d243a140015ef14\n",
              "title                                                    IPod\n",
              "context     Like other digital music players, iPods can se...\n",
              "question    In addition to playing music, what other funct...\n",
              "answers      {'text': ['data storage'], 'answer_start': [62]}\n",
              "Name: 2481, dtype: object"
            ]
          },
          "metadata": {}
        },
        {
          "output_type": "display_data",
          "data": {
            "text/plain": [
              "id                                   56cc56856d243a140015ef1e\n",
              "title                                                    IPod\n",
              "context     Apple's iTunes software (and other alternative...\n",
              "question    What Apple program is used to communicate betw...\n",
              "answers             {'text': ['iTunes'], 'answer_start': [8]}\n",
              "Name: 2488, dtype: object"
            ]
          },
          "metadata": {}
        },
        {
          "output_type": "display_data",
          "data": {
            "text/plain": [
              "id                                   56cc57466d243a140015ef24\n",
              "title                                                    IPod\n",
              "context     Before the release of iOS 5, the iPod branding...\n",
              "question    Prior to iOS 5, how many apps were required to...\n",
              "answers               {'text': ['one'], 'answer_start': [98]}\n",
              "Name: 2491, dtype: object"
            ]
          },
          "metadata": {}
        },
        {
          "output_type": "display_data",
          "data": {
            "text/plain": [
              "id                                   56cc58436d243a140015ef2a\n",
              "title                                                    IPod\n",
              "context     In mid-2015, a new model of the iPod Touch was...\n",
              "question      What processor model is used in the iPod Touch?\n",
              "answers               {'text': ['A8'], 'answer_start': [230]}\n",
              "Name: 2496, dtype: object"
            ]
          },
          "metadata": {}
        },
        {
          "output_type": "display_data",
          "data": {
            "text/plain": [
              "id                                   56cc5f3f6d243a140015ef46\n",
              "title                                                    IPod\n",
              "context     Though the iPod was released in 2001, its pric...\n",
              "question          In what year was the iPod first introduced?\n",
              "answers              {'text': ['2001'], 'answer_start': [32]}\n",
              "Name: 2502, dtype: object"
            ]
          },
          "metadata": {}
        },
        {
          "output_type": "display_data",
          "data": {
            "text/plain": [
              "id                                   56cc60186d243a140015ef5a\n",
              "title                                                    IPod\n",
              "context     Apple did not develop the iPod software entire...\n",
              "question    Which company worked with Apple in creating th...\n",
              "answers             {'text': ['Pixo'], 'answer_start': [363]}\n",
              "Name: 2512, dtype: object"
            ]
          },
          "metadata": {}
        },
        {
          "output_type": "display_data",
          "data": {
            "text/plain": [
              "id                                   56cc60a36d243a140015ef64\n",
              "title                                                    IPod\n",
              "context     In 2006 Apple presented a special edition for ...\n",
              "question    In what year was a special edition of the iPod...\n",
              "answers               {'text': ['2006'], 'answer_start': [3]}\n",
              "Name: 2519, dtype: object"
            ]
          },
          "metadata": {}
        },
        {
          "output_type": "display_data",
          "data": {
            "text/plain": [
              "id                                   56cc61346d243a140015ef6e\n",
              "title                                                    IPod\n",
              "context     In September 2007, during a lawsuit with paten...\n",
              "question    Apple was involved in a lawsuit with which com...\n",
              "answers         {'text': ['Burst.com'], 'answer_start': [64]}\n",
              "Name: 2526, dtype: object"
            ]
          },
          "metadata": {}
        },
        {
          "output_type": "display_data",
          "data": {
            "text/plain": [
              "id                                   56cc62406d243a140015ef78\n",
              "title                                                    IPod\n",
              "context     The name iPod was proposed by Vinnie Chieco, a...\n",
              "question    Who came up with the name for Apple's portable...\n",
              "answers     {'text': ['Vinnie Chieco'], 'answer_start': [30]}\n",
              "Name: 2534, dtype: object"
            ]
          },
          "metadata": {}
        },
        {
          "output_type": "display_data",
          "data": {
            "text/plain": [
              "id                                   56cc62ce6d243a140015ef82\n",
              "title                                                    IPod\n",
              "context     In mid-2015, several new color schemes for all...\n",
              "question          When were images of new iPod colors leaked?\n",
              "answers           {'text': ['mid-2015'], 'answer_start': [3]}\n",
              "Name: 2542, dtype: object"
            ]
          },
          "metadata": {}
        },
        {
          "output_type": "display_data",
          "data": {
            "text/plain": [
              "id                                   56cc643d6d243a140015ef88\n",
              "title                                                    IPod\n",
              "context     The third-generation iPod had a weak bass resp...\n",
              "question    What audio deficiency was found in the 3rd gen...\n",
              "answers     {'text': ['weak bass response'], 'answer_start...\n",
              "Name: 2547, dtype: object"
            ]
          },
          "metadata": {}
        },
        {
          "output_type": "display_data",
          "data": {
            "text/plain": [
              "id                                   56cc655c6d243a140015ef92\n",
              "title                                                    IPod\n",
              "context     For all iPods released in 2006 and earlier, so...\n",
              "question    What acoustic element could be distorted by di...\n",
              "answers             {'text': ['Bass'], 'answer_start': [215]}\n",
              "Name: 2552, dtype: object"
            ]
          },
          "metadata": {}
        },
        {
          "output_type": "display_data",
          "data": {
            "text/plain": [
              "id                                   56cc66326d243a140015ef98\n",
              "title                                                    IPod\n",
              "context     From the fifth-generation iPod on, Apple intro...\n",
              "question    What type of sensory issue was a concern prior...\n",
              "answers     {'text': ['hearing loss'], 'answer_start': [115]}\n",
              "Name: 2557, dtype: object"
            ]
          },
          "metadata": {}
        },
        {
          "output_type": "display_data",
          "data": {
            "text/plain": [
              "id                                   56cc66d16d243a140015efa2\n",
              "title                                                    IPod\n",
              "context     Originally, a FireWire connection to the host ...\n",
              "question    What was the first type of connection used by ...\n",
              "answers          {'text': ['FireWire'], 'answer_start': [14]}\n",
              "Name: 2563, dtype: object"
            ]
          },
          "metadata": {}
        },
        {
          "output_type": "display_data",
          "data": {
            "text/plain": [
              "id                                   56cc6e346d243a140015efa8\n",
              "title                                                    IPod\n",
              "context     The third generation began including a 30-pin ...\n",
              "question    In which generation did iPod start providing c...\n",
              "answers     {'text': ['third generation'], 'answer_start':...\n",
              "Name: 2566, dtype: object"
            ]
          },
          "metadata": {}
        },
        {
          "output_type": "display_data",
          "data": {
            "text/plain": [
              "id                                   56cc7f9c6d243a140015efb2\n",
              "title                                                    IPod\n",
              "context     The dock connector also allowed the iPod to co...\n",
              "question    Which iPod accessory was made by Apple but is ...\n",
              "answers       {'text': ['iPod Hi-Fi'], 'answer_start': [196]}\n",
              "Name: 2575, dtype: object"
            ]
          },
          "metadata": {}
        },
        {
          "output_type": "display_data",
          "data": {
            "text/plain": [
              "id                                   56cc803f6d243a140015efbc\n",
              "title                                                    IPod\n",
              "context     Apple introduced a new 8-pin dock connector, n...\n",
              "question    What new connector did Apple unveil on Septemb...\n",
              "answers         {'text': ['Lightning'], 'answer_start': [51]}\n",
              "Name: 2581, dtype: object"
            ]
          },
          "metadata": {}
        },
        {
          "output_type": "display_data",
          "data": {
            "text/plain": [
              "id                                   56cc81246d243a140015efc6\n",
              "title                                                    IPod\n",
              "context     Many accessories have been made for the iPod l...\n",
              "question    What is the name of an Apple-produced iPod acc...\n",
              "answers       {'text': ['iPod Hi-Fi'], 'answer_start': [128]}\n",
              "Name: 2588, dtype: object"
            ]
          },
          "metadata": {}
        },
        {
          "output_type": "display_data",
          "data": {
            "text/plain": [
              "id                                   56cc81e06d243a140015efd0\n",
              "title                                                    IPod\n",
              "context     BMW released the first iPod automobile interfa...\n",
              "question    What company was first to create a means of co...\n",
              "answers                {'text': ['BMW'], 'answer_start': [0]}\n",
              "Name: 2594, dtype: object"
            ]
          },
          "metadata": {}
        },
        {
          "output_type": "display_data",
          "data": {
            "text/plain": [
              "id                                   56cc83056d243a140015efd8\n",
              "title                                                    IPod\n",
              "context     Some independent stereo manufacturers includin...\n",
              "question    What companies have developed iPod interfacing...\n",
              "answers     {'text': ['JVC, Pioneer, Kenwood, Alpine, Sony...\n",
              "Name: 2599, dtype: object"
            ]
          },
          "metadata": {}
        },
        {
          "output_type": "display_data",
          "data": {
            "text/plain": [
              "id                                   56cc84ab6d243a140015efe2\n",
              "title                                                    IPod\n",
              "context     Beginning in mid-2007, four major airlines, Un...\n",
              "question    In 2007, which airlines made deals to include ...\n",
              "answers     {'text': ['United, Continental, Delta, and Emi...\n",
              "Name: 2604, dtype: object"
            ]
          },
          "metadata": {}
        },
        {
          "output_type": "display_data",
          "data": {
            "text/plain": [
              "id                                   56cc858b6d243a140015efe8\n",
              "title                                                    IPod\n",
              "context     The iPod line can play several audio file form...\n",
              "question    What is the name of an audio format developed ...\n",
              "answers     {'text': ['Apple Lossless'], 'answer_start': [...\n",
              "Name: 2609, dtype: object"
            ]
          },
          "metadata": {}
        },
        {
          "output_type": "display_data",
          "data": {
            "text/plain": [
              "id                                   56cc86f26d243a140015eff2\n",
              "title                                                    IPod\n",
              "context     During installation, an iPod is associated wit...\n",
              "question    How many hosts are recognized by an iPod the f...\n",
              "answers               {'text': ['one'], 'answer_start': [48]}\n",
              "Name: 2616, dtype: object"
            ]
          },
          "metadata": {}
        },
        {
          "output_type": "display_data",
          "data": {
            "text/plain": [
              "id                                   56cc88386d243a140015effc\n",
              "title                                                    IPod\n",
              "context     iPods with color displays use anti-aliased gra...\n",
              "question                  How many buttons do most iPods use?\n",
              "answers             {'text': ['five'], 'answer_start': [195]}\n",
              "Name: 2619, dtype: object"
            ]
          },
          "metadata": {}
        },
        {
          "output_type": "display_data",
          "data": {
            "text/plain": [
              "id                                   56cc88a56d243a140015f006\n",
              "title                                                    IPod\n",
              "context     The iTunes Store (introduced April 29, 2003) i...\n",
              "question            When was the Apple iTunes Store launched?\n",
              "answers     {'text': ['April 29, 2003'], 'answer_start': [...\n",
              "Name: 2627, dtype: object"
            ]
          },
          "metadata": {}
        },
        {
          "output_type": "display_data",
          "data": {
            "text/plain": [
              "id                                   56cc89c46d243a140015f00e\n",
              "title                                                    IPod\n",
              "context     At the time the store was introduced, purchase...\n",
              "question    When the iTunes store was launched, what type ...\n",
              "answers               {'text': ['AAC'], 'answer_start': [69]}\n",
              "Name: 2634, dtype: object"
            ]
          },
          "metadata": {}
        },
        {
          "output_type": "display_data",
          "data": {
            "text/plain": [
              "id                                   56cc8b576d243a140015f023\n",
              "title                                                    IPod\n",
              "context     iPods cannot play music files from competing m...\n",
              "question    What are two stores which sell files with DRM ...\n",
              "answers     {'text': ['Napster and MSN Music'], 'answer_st...\n",
              "Name: 2643, dtype: object"
            ]
          },
          "metadata": {}
        },
        {
          "output_type": "display_data",
          "data": {
            "text/plain": [
              "id                                   56cc911e6d243a140015f02a\n",
              "title                                                    IPod\n",
              "context     Universal Music Group decided not to renew the...\n",
              "question    What company ended its deal with Apple's music...\n",
              "answers     {'text': ['Universal Music Group'], 'answer_st...\n",
              "Name: 2646, dtype: object"
            ]
          },
          "metadata": {}
        },
        {
          "output_type": "display_data",
          "data": {
            "text/plain": [
              "id                                   56cc91b56d243a140015f030\n",
              "title                                                    IPod\n",
              "context     Apple debuted the iTunes Wi-Fi Music Store on ...\n",
              "question    What was the name of the event at which the iT...\n",
              "answers     {'text': ['The Beat Goes On...'], 'answer_star...\n",
              "Name: 2649, dtype: object"
            ]
          },
          "metadata": {}
        },
        {
          "output_type": "display_data",
          "data": {
            "text/plain": [
              "id                                   56cc92346d243a140015f038\n",
              "title                                                    IPod\n",
              "context     Video games are playable on various versions o...\n",
              "question             On what devices can video games be used?\n",
              "answers             {'text': ['iPods'], 'answer_start': [48]}\n",
              "Name: 2653, dtype: object"
            ]
          },
          "metadata": {}
        },
        {
          "output_type": "display_data",
          "data": {
            "text/plain": [
              "id                                   56cca2066d243a140015f042\n",
              "title                                                    IPod\n",
              "context     In September 2006, the iTunes Store began to o...\n",
              "question    In what year did the iTunes store begin allowi...\n",
              "answers              {'text': ['2006'], 'answer_start': [13]}\n",
              "Name: 2660, dtype: object"
            ]
          },
          "metadata": {}
        },
        {
          "output_type": "display_data",
          "data": {
            "text/plain": [
              "id                                   56cca27d6d243a140015f04c\n",
              "title                                                    IPod\n",
              "context     With third parties like Namco, Square Enix, El...\n",
              "question    What are the names of companies producing vide...\n",
              "answers     {'text': ['Namco, Square Enix, Electronic Arts...\n",
              "Name: 2666, dtype: object"
            ]
          },
          "metadata": {}
        },
        {
          "output_type": "display_data",
          "data": {
            "text/plain": [
              "id                                   56cca3676d243a140015f052\n",
              "title                                                    IPod\n",
              "context     The games are in the form of .ipg files, which...\n",
              "question             What format is used for iPod game files?\n",
              "answers              {'text': ['.ipg'], 'answer_start': [29]}\n",
              "Name: 2669, dtype: object"
            ]
          },
          "metadata": {}
        },
        {
          "output_type": "display_data",
          "data": {
            "text/plain": [
              "id                                   56cd59a162d2951400fa652a\n",
              "title                                                    IPod\n",
              "context     Unlike many other MP3 players, simply copying ...\n",
              "question    What kind program is commonly used to move fil...\n",
              "answers           {'text': ['iTunes'], 'answer_start': [321]}\n",
              "Name: 2676, dtype: object"
            ]
          },
          "metadata": {}
        },
        {
          "output_type": "display_data",
          "data": {
            "text/plain": [
              "id                                   56cd5a7362d2951400fa652f\n",
              "title                                                    IPod\n",
              "context     iTunes 7 and above can transfer purchased medi...\n",
              "question    What kind of security determines if files move...\n",
              "answers              {'text': ['DRM'], 'answer_start': [134]}\n",
              "Name: 2679, dtype: object"
            ]
          },
          "metadata": {}
        },
        {
          "output_type": "display_data",
          "data": {
            "text/plain": [
              "id                                   56cd5d3a62d2951400fa653c\n",
              "title                                                    IPod\n",
              "context     Media files are stored on an iPod in a hidden ...\n",
              "question    In what kind of folder are files located in th...\n",
              "answers            {'text': ['hidden'], 'answer_start': [39]}\n",
              "Name: 2681, dtype: object"
            ]
          },
          "metadata": {}
        },
        {
          "output_type": "display_data",
          "data": {
            "text/plain": [
              "id                                   56cd5df262d2951400fa6542\n",
              "title                                                    IPod\n",
              "context     In 2005, Apple faced two lawsuits claiming pat...\n",
              "question    In what year did Apple face multiple intellect...\n",
              "answers               {'text': ['2005'], 'answer_start': [3]}\n",
              "Name: 2684, dtype: object"
            ]
          },
          "metadata": {}
        },
        {
          "output_type": "display_data",
          "data": {
            "text/plain": [
              "id                                   56cd66bc62d2951400fa6574\n",
              "title                                                    IPod\n",
              "context     Apple's application to the United States Paten...\n",
              "question    What interface component did Apple attempt to ...\n",
              "answers     {'text': ['rotational user inputs'], 'answer_s...\n",
              "Name: 2690, dtype: object"
            ]
          },
          "metadata": {}
        },
        {
          "output_type": "display_data",
          "data": {
            "text/plain": [
              "id                                   56cd673a62d2951400fa657e\n",
              "title                                                    IPod\n",
              "context     On August 24, 2006, Apple and Creative announc...\n",
              "question    When did Creative and Apple come to an agreeme...\n",
              "answers     {'text': ['August 24, 2006'], 'answer_start': ...\n",
              "Name: 2697, dtype: object"
            ]
          },
          "metadata": {}
        },
        {
          "output_type": "display_data",
          "data": {
            "text/plain": [
              "id                                   56cd67e662d2951400fa6584\n",
              "title                                                    IPod\n",
              "context     Since October 2004, the iPod line has dominate...\n",
              "question    What share of the US digital music player mark...\n",
              "answers              {'text': ['90%'], 'answer_start': [107]}\n",
              "Name: 2702, dtype: object"
            ]
          },
          "metadata": {}
        },
        {
          "output_type": "display_data",
          "data": {
            "text/plain": [
              "id                                   56cd687562d2951400fa6592\n",
              "title                                                    IPod\n",
              "context     On January 8, 2004, Hewlett-Packard (HP) annou...\n",
              "question    When did HP unveil their own edition of the iPod?\n",
              "answers     {'text': ['January 8, 2004'], 'answer_start': ...\n",
              "Name: 2709, dtype: object"
            ]
          },
          "metadata": {}
        },
        {
          "output_type": "display_data",
          "data": {
            "text/plain": [
              "id                                   56cd73af62d2951400fa65c4\n",
              "title                                                    IPod\n",
              "context     On April 9, 2007, it was announced that Apple ...\n",
              "question    How many iPods did Apple reveal it sold in Apr...\n",
              "answers     {'text': ['hundred million'], 'answer_start': ...\n",
              "Name: 2715, dtype: object"
            ]
          },
          "metadata": {}
        },
        {
          "output_type": "display_data",
          "data": {
            "text/plain": [
              "id                                   56cd742662d2951400fa65d4\n",
              "title                                                    IPod\n",
              "context     On October 22, 2007, Apple reported quarterly ...\n",
              "question                What was Apple's revenue for Q3 2007?\n",
              "answers     {'text': ['$6.22 billion'], 'answer_start': [59]}\n",
              "Name: 2721, dtype: object"
            ]
          },
          "metadata": {}
        },
        {
          "output_type": "display_data",
          "data": {
            "text/plain": [
              "id                                   56cd788162d2951400fa65e6\n",
              "title                                                    IPod\n",
              "context     On January 22, 2008, Apple reported the best q...\n",
              "question    When did Apple reveal it had achieved its high...\n",
              "answers     {'text': ['January 22, 2008'], 'answer_start':...\n",
              "Name: 2726, dtype: object"
            ]
          },
          "metadata": {}
        },
        {
          "output_type": "display_data",
          "data": {
            "text/plain": [
              "id                                   56cd796762d2951400fa65ed\n",
              "title                                                    IPod\n",
              "context     On October 21, 2008, Apple reported that only ...\n",
              "question    Who was Chief Financial Officer of Apple in Ju...\n",
              "answers     {'text': ['Peter Oppenheimer'], 'answer_start'...\n",
              "Name: 2730, dtype: object"
            ]
          },
          "metadata": {}
        },
        {
          "output_type": "display_data",
          "data": {
            "text/plain": [
              "id                                   56cd7a3f62d2951400fa6600\n",
              "title                                                    IPod\n",
              "context     iPods have won several awards ranging from eng...\n",
              "question    What rank did iPod achieve among various compu...\n",
              "answers           {'text': ['fourth'], 'answer_start': [127]}\n",
              "Name: 2735, dtype: object"
            ]
          },
          "metadata": {}
        },
        {
          "output_type": "display_data",
          "data": {
            "text/plain": [
              "id                                   56cd7ab462d2951400fa660a\n",
              "title                                                    IPod\n",
              "context     Besides earning a reputation as a respected en...\n",
              "question    Aside from recreational use, in what other are...\n",
              "answers         {'text': ['business'], 'answer_start': [103]}\n",
              "Name: 2742, dtype: object"
            ]
          },
          "metadata": {}
        },
        {
          "output_type": "display_data",
          "data": {
            "text/plain": [
              "id                                   56cd7b4162d2951400fa6613\n",
              "title                                                    IPod\n",
              "context     iPods have also gained popularity for use in e...\n",
              "question    What University gave an iPod to first year stu...\n",
              "answers             {'text': ['Duke'], 'answer_start': [284]}\n",
              "Name: 2746, dtype: object"
            ]
          },
          "metadata": {}
        },
        {
          "output_type": "display_data",
          "data": {
            "text/plain": [
              "id                                   56cd7bc062d2951400fa6618\n",
              "title                                                    IPod\n",
              "context     The iPod has also been credited with accelerat...\n",
              "question    What period of music did the iPod help bring t...\n",
              "answers     {'text': ['the Album Era'], 'answer_start': [2...\n",
              "Name: 2750, dtype: object"
            ]
          },
          "metadata": {}
        },
        {
          "output_type": "display_data",
          "data": {
            "text/plain": [
              "id                                   56cd7ca662d2951400fa6629\n",
              "title                                                    IPod\n",
              "context     The advertised battery life on most models is ...\n",
              "question    How long were 5th generation iPods marketed as...\n",
              "answers         {'text': ['14 hours'], 'answer_start': [168]}\n",
              "Name: 2754, dtype: object"
            ]
          },
          "metadata": {}
        },
        {
          "output_type": "display_data",
          "data": {
            "text/plain": [
              "id                                   56cd7d3262d2951400fa6632\n",
              "title                                                    IPod\n",
              "context     iPod batteries are not designed to be removed ...\n",
              "question    Whose directions can be followed to interact w...\n",
              "answers     {'text': ['third-party vendors'], 'answer_star...\n",
              "Name: 2759, dtype: object"
            ]
          },
          "metadata": {}
        },
        {
          "output_type": "display_data",
          "data": {
            "text/plain": [
              "id                                   56cd7db262d2951400fa6638\n",
              "title                                                    IPod\n",
              "context     Apple announced a battery replacement program ...\n",
              "question          What did Apple launch on November 14, 2003?\n",
              "answers     {'text': ['battery replacement program'], 'ans...\n",
              "Name: 2764, dtype: object"
            ]
          },
          "metadata": {}
        },
        {
          "output_type": "display_data",
          "data": {
            "text/plain": [
              "id                                   56cd7e4462d2951400fa664b\n",
              "title                                                    IPod\n",
              "context     The first generation iPod Nano may overheat an...\n",
              "question    What part of the iPod Nano was the cause of th...\n",
              "answers          {'text': ['battery'], 'answer_start': [175]}\n",
              "Name: 2771, dtype: object"
            ]
          },
          "metadata": {}
        },
        {
          "output_type": "display_data",
          "data": {
            "text/plain": [
              "id                                   56cd7ef762d2951400fa6652\n",
              "title                                                    IPod\n",
              "context     iPods have been criticized for alleged short l...\n",
              "question         What are two subjects of criticism of iPods?\n",
              "answers     {'text': ['short life-span and fragile hard dr...\n",
              "Name: 2773, dtype: object"
            ]
          },
          "metadata": {}
        },
        {
          "output_type": "display_data",
          "data": {
            "text/plain": [
              "id                                   56cd7f9162d2951400fa665c\n",
              "title                                                    IPod\n",
              "context     On June 11, 2006, the British tabloid The Mail...\n",
              "question    What publication revealed information about th...\n",
              "answers     {'text': ['The Mail on Sunday'], 'answer_start...\n",
              "Name: 2780, dtype: object"
            ]
          },
          "metadata": {}
        },
        {
          "output_type": "display_data",
          "data": {
            "text/plain": [
              "id                                   56cd81df62d2951400fa6666\n",
              "title                                                    IPod\n",
              "context     Foxconn, Apple's manufacturer, initially denie...\n",
              "question    Who did Apple partner with to monitor its labo...\n",
              "answers           {'text': ['Verité'], 'answer_start': [310]}\n",
              "Name: 2785, dtype: object"
            ]
          },
          "metadata": {}
        },
        {
          "output_type": "display_data",
          "data": {
            "text/plain": [
              "id                                   56cd828562d2951400fa6670\n",
              "title                                                    IPod\n",
              "context     In 2010, a number of workers committed suicide...\n",
              "question    In what year did Chinese Foxconn emplyees kill...\n",
              "answers               {'text': ['2010'], 'answer_start': [3]}\n",
              "Name: 2792, dtype: object"
            ]
          },
          "metadata": {}
        },
        {
          "output_type": "display_data",
          "data": {
            "text/plain": [
              "id                                   56cd834d62d2951400fa668a\n",
              "title                                                    IPod\n",
              "context     As of 2006, the iPod was produced by about 14,...\n",
              "question    What attribute of the United States could be t...\n",
              "answers       {'text': ['innovation'], 'answer_start': [340]}\n",
              "Name: 2795, dtype: object"
            ]
          },
          "metadata": {}
        },
        {
          "output_type": "display_data",
          "data": {
            "text/plain": [
              "id                                   56cfc488234ae51400d9bf47\n",
              "title                                                    IPod\n",
              "context     All iPods except for the iPod Touch can functi...\n",
              "question    To work as a boot disk for a Mac, what file sy...\n",
              "answers             {'text': ['HFS+'], 'answer_start': [287]}\n",
              "Name: 2796, dtype: object"
            ]
          },
          "metadata": {}
        },
        {
          "output_type": "display_data",
          "data": {
            "text/plain": [
              "id                                   56cd8a5f62d2951400fa668e\n",
              "title                  The_Legend_of_Zelda:_Twilight_Princess\n",
              "context     The Legend of Zelda: Twilight Princess (Japane...\n",
              "question    What category of game is Legend of Zelda: Twil...\n",
              "answers     {'text': ['action-adventure'], 'answer_start':...\n",
              "Name: 2798, dtype: object"
            ]
          },
          "metadata": {}
        },
        {
          "output_type": "display_data",
          "data": {
            "text/plain": [
              "id                                   56cd8ad162d2951400fa6698\n",
              "title                  The_Legend_of_Zelda:_Twilight_Princess\n",
              "context     The story focuses on series protagonist Link, ...\n",
              "question              Who is the main character of the story?\n",
              "answers              {'text': ['Link'], 'answer_start': [40]}\n",
              "Name: 2805, dtype: object"
            ]
          },
          "metadata": {}
        },
        {
          "output_type": "display_data",
          "data": {
            "text/plain": [
              "id                                   56cd8b5862d2951400fa66a2\n",
              "title                  The_Legend_of_Zelda:_Twilight_Princess\n",
              "context     At the time of its release, Twilight Princess ...\n",
              "question    What accolade did Twilight Princess receive af...\n",
              "answers     {'text': ['Game of the Year'], 'answer_start':...\n",
              "Name: 2811, dtype: object"
            ]
          },
          "metadata": {}
        },
        {
          "output_type": "display_data",
          "data": {
            "text/plain": [
              "id                                   56cd8c5762d2951400fa66a8\n",
              "title                  The_Legend_of_Zelda:_Twilight_Princess\n",
              "context     The Legend of Zelda: Twilight Princess is an a...\n",
              "question    What are the three main activities in The Lege...\n",
              "answers     {'text': ['combat, exploration, and item colle...\n",
              "Name: 2818, dtype: object"
            ]
          },
          "metadata": {}
        },
        {
          "output_type": "display_data",
          "data": {
            "text/plain": [
              "id                                   56cd8d0662d2951400fa66b2\n",
              "title                  The_Legend_of_Zelda:_Twilight_Princess\n",
              "context     The context-sensitive button mechanic allows o...\n",
              "question    Many different types of interaction can be con...\n",
              "answers               {'text': ['one'], 'answer_start': [45]}\n",
              "Name: 2827, dtype: object"
            ]
          },
          "metadata": {}
        },
        {
          "output_type": "display_data",
          "data": {
            "text/plain": [
              "id                                   56cd8dbf62d2951400fa66f2\n",
              "title                  The_Legend_of_Zelda:_Twilight_Princess\n",
              "context     The GameCube and Wii versions feature several ...\n",
              "question     Where is the speaker located on the Wii console?\n",
              "answers       {'text': ['Wii Remote'], 'answer_start': [171]}\n",
              "Name: 2832, dtype: object"
            ]
          },
          "metadata": {}
        },
        {
          "output_type": "display_data",
          "data": {
            "text/plain": [
              "id                                   56cd8e2362d2951400fa66fc\n",
              "title                  The_Legend_of_Zelda:_Twilight_Princess\n",
              "context     The game features nine dungeons—large, contain...\n",
              "question    How many dungeon instances are provided in Twi...\n",
              "answers              {'text': ['nine'], 'answer_start': [18]}\n",
              "Name: 2839, dtype: object"
            ]
          },
          "metadata": {}
        },
        {
          "output_type": "display_data",
          "data": {
            "text/plain": [
              "id                                   56cd8ec662d2951400fa6704\n",
              "title                  The_Legend_of_Zelda:_Twilight_Princess\n",
              "context     When Link enters the Twilight Realm, the void ...\n",
              "question      What form does Link take in the Twilight Realm?\n",
              "answers             {'text': ['Wolf'], 'answer_start': [351]}\n",
              "Name: 2846, dtype: object"
            ]
          },
          "metadata": {}
        },
        {
          "output_type": "display_data",
          "data": {
            "text/plain": [
              "id                                   56cd8f4b62d2951400fa670e\n",
              "title                  The_Legend_of_Zelda:_Twilight_Princess\n",
              "context     The artificial intelligence (AI) of enemies in...\n",
              "question                              What does AI stand for?\n",
              "answers     {'text': ['artificial intelligence'], 'answer_...\n",
              "Name: 2854, dtype: object"
            ]
          },
          "metadata": {}
        },
        {
          "output_type": "display_data",
          "data": {
            "text/plain": [
              "id                                   56cd8ffa62d2951400fa6720\n",
              "title                  The_Legend_of_Zelda:_Twilight_Princess\n",
              "context     There is very little voice acting in the game,...\n",
              "question    Through what can Link's reaction and mood can ...\n",
              "answers     {'text': ['nods and facial expressions'], 'ans...\n",
              "Name: 2859, dtype: object"
            ]
          },
          "metadata": {}
        },
        {
          "output_type": "display_data",
          "data": {
            "text/plain": [
              "id                                   56cd92e562d2951400fa6728\n",
              "title                  The_Legend_of_Zelda:_Twilight_Princess\n",
              "context     Twilight Princess takes place several centurie...\n",
              "question    What is Link's job at the start of Twilight Pr...\n",
              "answers       {'text': ['ranch hand'], 'answer_start': [144]}\n",
              "Name: 2867, dtype: object"
            ]
          },
          "metadata": {}
        },
        {
          "output_type": "display_data",
          "data": {
            "text/plain": [
              "id                                   56cd937162d2951400fa6732\n",
              "title                  The_Legend_of_Zelda:_Twilight_Princess\n",
              "context     During this time, Link also helps Midna find t...\n",
              "question           What does Link assist Midna in collection?\n",
              "answers     {'text': ['Fused Shadows'], 'answer_start': [49]}\n",
              "Name: 2874, dtype: object"
            ]
          },
          "metadata": {}
        },
        {
          "output_type": "display_data",
          "data": {
            "text/plain": [
              "id                                   56cd942362d2951400fa673c\n",
              "title                  The_Legend_of_Zelda:_Twilight_Princess\n",
              "context     After gaining the Master Sword, Link is cleans...\n",
              "question    What does Link obtain that gives him control o...\n",
              "answers     {'text': ['Shadow Crystal'], 'answer_start': [...\n",
              "Name: 2883, dtype: object"
            ]
          },
          "metadata": {}
        },
        {
          "output_type": "display_data",
          "data": {
            "text/plain": [
              "id                                   56cd953262d2951400fa6746\n",
              "title                  The_Legend_of_Zelda:_Twilight_Princess\n",
              "context     Ganondorf then revives, and Midna teleports Li...\n",
              "question     What possession of Midna does Ganondorf destroy?\n",
              "answers           {'text': ['helmet'], 'answer_start': [230]}\n",
              "Name: 2893, dtype: object"
            ]
          },
          "metadata": {}
        },
        {
          "output_type": "display_data",
          "data": {
            "text/plain": [
              "id                                   56cd95f562d2951400fa6750\n",
              "title                  The_Legend_of_Zelda:_Twilight_Princess\n",
              "context     In 2003, Nintendo announced that a new The Leg...\n",
              "question    In what year did Nintendo reveal the start of ...\n",
              "answers               {'text': ['2003'], 'answer_start': [3]}\n",
              "Name: 2901, dtype: object"
            ]
          },
          "metadata": {}
        },
        {
          "output_type": "display_data",
          "data": {
            "text/plain": [
              "id                                   56cd96c162d2951400fa6758\n",
              "title                  The_Legend_of_Zelda:_Twilight_Princess\n",
              "context     In four months, Aonuma's team managed to prese...\n",
              "question    How long did it take to implement riding horse...\n",
              "answers               {'text': ['four'], 'answer_start': [3]}\n",
              "Name: 2908, dtype: object"
            ]
          },
          "metadata": {}
        },
        {
          "output_type": "display_data",
          "data": {
            "text/plain": [
              "id                                   56cd976762d2951400fa6761\n",
              "title                  The_Legend_of_Zelda:_Twilight_Princess\n",
              "context     Prior Zelda games have employed a theme of two...\n",
              "question     What does Link morph into in A Link to the Past?\n",
              "answers           {'text': ['rabbit'], 'answer_start': [420]}\n",
              "Name: 2913, dtype: object"
            ]
          },
          "metadata": {}
        },
        {
          "output_type": "display_data",
          "data": {
            "text/plain": [
              "id                                   56cd97f862d2951400fa676a\n",
              "title                  The_Legend_of_Zelda:_Twilight_Princess\n",
              "context     Aonuma had anticipated creating a Zelda game f...\n",
              "question    What kind of interface was used for in-game ar...\n",
              "answers     {'text': ['pointing-based'], 'answer_start': [...\n",
              "Name: 2919, dtype: object"
            ]
          },
          "metadata": {}
        },
        {
          "output_type": "display_data",
          "data": {
            "text/plain": [
              "id                                   56cd9df862d2951400fa677a\n",
              "title                  The_Legend_of_Zelda:_Twilight_Princess\n",
              "context     Transferring GameCube development to the Wii w...\n",
              "question     What console boasted compatibility with the Wii?\n",
              "answers          {'text': ['GameCube'], 'answer_start': [13]}\n",
              "Name: 2923, dtype: object"
            ]
          },
          "metadata": {}
        },
        {
          "output_type": "display_data",
          "data": {
            "text/plain": [
              "id                                   56cd9ed662d2951400fa6780\n",
              "title                  The_Legend_of_Zelda:_Twilight_Princess\n",
              "context     The team worked on a Wii control scheme, adapt...\n",
              "question    What kind of movement interfaced with the swor...\n",
              "answers     {'text': ['swinging gesture'], 'answer_start':...\n",
              "Name: 2927, dtype: object"
            ]
          },
          "metadata": {}
        },
        {
          "output_type": "display_data",
          "data": {
            "text/plain": [
              "id                                   56cda06d62d2951400fa678a\n",
              "title                  The_Legend_of_Zelda:_Twilight_Princess\n",
              "context     Nintendo staff members reported that demo user...\n",
              "question    What did early users find hard to use about th...\n",
              "answers     {'text': ['control scheme'], 'answer_start': [...\n",
              "Name: 2934, dtype: object"
            ]
          },
          "metadata": {}
        },
        {
          "output_type": "display_data",
          "data": {
            "text/plain": [
              "id                                   56cda10262d2951400fa6792\n",
              "title                  The_Legend_of_Zelda:_Twilight_Princess\n",
              "context     The game's score was composed by Toru Minegish...\n",
              "question           Who wrote the music for Twilight Princess?\n",
              "answers     {'text': ['Toru Minegishi and Asuka Ohta'], 'a...\n",
              "Name: 2939, dtype: object"
            ]
          },
          "metadata": {}
        },
        {
          "output_type": "display_data",
          "data": {
            "text/plain": [
              "id                                   56cda41362d2951400fa679a\n",
              "title                  The_Legend_of_Zelda:_Twilight_Princess\n",
              "context     Media requests at the trade show prompted Kond...\n",
              "question       What kind of instruments are favored by Kondo?\n",
              "answers             {'text': ['live'], 'answer_start': [167]}\n",
              "Name: 2945, dtype: object"
            ]
          },
          "metadata": {}
        },
        {
          "output_type": "display_data",
          "data": {
            "text/plain": [
              "id                                   56cda4aa62d2951400fa67a4\n",
              "title                  The_Legend_of_Zelda:_Twilight_Princess\n",
              "context     Following the discovery of a buffer overflow v...\n",
              "question    What kind of error was found in Twilight Princ...\n",
              "answers     {'text': ['buffer overflow vulnerability'], 'a...\n",
              "Name: 2952, dtype: object"
            ]
          },
          "metadata": {}
        },
        {
          "output_type": "display_data",
          "data": {
            "text/plain": [
              "id                                   56cda50b62d2951400fa67ac\n",
              "title                  The_Legend_of_Zelda:_Twilight_Princess\n",
              "context     A high-definition remaster of the game, The Le...\n",
              "question    Which company is responsible for the HD versio...\n",
              "answers     {'text': ['Tantalus Media'], 'answer_start': [...\n",
              "Name: 2958, dtype: object"
            ]
          },
          "metadata": {}
        },
        {
          "output_type": "display_data",
          "data": {
            "text/plain": [
              "id                                   56cda5a862d2951400fa67b4\n",
              "title                  The_Legend_of_Zelda:_Twilight_Princess\n",
              "context     Special bundles of the game contain a Wolf Lin...\n",
              "question    What special item is included with certain ver...\n",
              "answers     {'text': ['Wolf Link Amiibo figurine'], 'answe...\n",
              "Name: 2966, dtype: object"
            ]
          },
          "metadata": {}
        },
        {
          "output_type": "display_data",
          "data": {
            "text/plain": [
              "id                                   56cda64a62d2951400fa67be\n",
              "title                  The_Legend_of_Zelda:_Twilight_Princess\n",
              "context     A CD containing 20 musical selections from the...\n",
              "question    What company included the soundtrack as a rewa...\n",
              "answers          {'text': ['GameStop'], 'answer_start': [71]}\n",
              "Name: 2975, dtype: object"
            ]
          },
          "metadata": {}
        },
        {
          "output_type": "display_data",
          "data": {
            "text/plain": [
              "id                                   56cda75062d2951400fa67c4\n",
              "title                  The_Legend_of_Zelda:_Twilight_Princess\n",
              "context     Twilight Princess was released to universal cr...\n",
              "question    What kind of scores did Twilight Princess rece...\n",
              "answers           {'text': ['perfect'], 'answer_start': [97]}\n",
              "Name: 2979, dtype: object"
            ]
          },
          "metadata": {}
        },
        {
          "output_type": "display_data",
          "data": {
            "text/plain": [
              "id                                   56cda80362d2951400fa67ca\n",
              "title                  The_Legend_of_Zelda:_Twilight_Princess\n",
              "context     On release, Twilight Princess was considered t...\n",
              "question    Which publications reported some issues with t...\n",
              "answers     {'text': ['IGN and GameSpy'], 'answer_start': ...\n",
              "Name: 2986, dtype: object"
            ]
          },
          "metadata": {}
        },
        {
          "output_type": "display_data",
          "data": {
            "text/plain": [
              "id                                   56cda8a662d2951400fa67d4\n",
              "title                  The_Legend_of_Zelda:_Twilight_Princess\n",
              "context     Twilight Princess received the awards for Best...\n",
              "question    The version of Twilight Princess fo which cons...\n",
              "answers         {'text': ['GameCube'], 'answer_start': [124]}\n",
              "Name: 2994, dtype: object"
            ]
          },
          "metadata": {}
        },
        {
          "output_type": "display_data",
          "data": {
            "text/plain": [
              "id                                   56cda92362d2951400fa67dc\n",
              "title                  The_Legend_of_Zelda:_Twilight_Princess\n",
              "context     In the PAL region, which covers most of Africa...\n",
              "question    What is the name of the area which includes mo...\n",
              "answers                {'text': ['PAL'], 'answer_start': [7]}\n",
              "Name: 3002, dtype: object"
            ]
          },
          "metadata": {}
        },
        {
          "output_type": "display_data",
          "data": {
            "text/plain": [
              "id                                   56cda9c462d2951400fa67e2\n",
              "title                  The_Legend_of_Zelda:_Twilight_Princess\n",
              "context     A Japan-exclusive manga series based on Twilig...\n",
              "question    Who wrote and provided art for a Twilight Prin...\n",
              "answers     {'text': ['Akira Himekawa'], 'answer_start': [...\n",
              "Name: 3008, dtype: object"
            ]
          },
          "metadata": {}
        },
        {
          "output_type": "display_data",
          "data": {
            "text/plain": [
              "id                                   56cdaf0362d2951400fa6808\n",
              "title                                     Spectre_(2015_film)\n",
              "context     Spectre (2015) is the twenty-fourth James Bond...\n",
              "question                          Which company made Spectre?\n",
              "answers     {'text': ['Eon Productions'], 'answer_start': ...\n",
              "Name: 3012, dtype: object"
            ]
          },
          "metadata": {}
        },
        {
          "output_type": "display_data",
          "data": {
            "text/plain": [
              "id                                   56cdb27562d2951400fa6812\n",
              "title                                     Spectre_(2015_film)\n",
              "context     The story sees Bond pitted against the global ...\n",
              "question          What group is the enemy of the protagonist?\n",
              "answers           {'text': ['Spectre'], 'answer_start': [68]}\n",
              "Name: 3022, dtype: object"
            ]
          },
          "metadata": {}
        },
        {
          "output_type": "display_data",
          "data": {
            "text/plain": [
              "id                                   56cdb36c62d2951400fa681c\n",
              "title                                     Spectre_(2015_film)\n",
              "context     Spectre was released on 26 October 2015 in the...\n",
              "question      On what date was Spectre first shown in the UK?\n",
              "answers     {'text': ['26 October 2015'], 'answer_start': ...\n",
              "Name: 3031, dtype: object"
            ]
          },
          "metadata": {}
        },
        {
          "output_type": "display_data",
          "data": {
            "text/plain": [
              "id                                   56cdcf7d62d2951400fa686c\n",
              "title                                     Spectre_(2015_film)\n",
              "context     Following Garreth Mallory's promotion to M, on...\n",
              "question    On what holiday do insurgents plan to detonate...\n",
              "answers     {'text': ['Day of the Dead'], 'answer_start': ...\n",
              "Name: 3038, dtype: object"
            ]
          },
          "metadata": {}
        },
        {
          "output_type": "display_data",
          "data": {
            "text/plain": [
              "id                                   56cdcfee62d2951400fa6876\n",
              "title                                     Spectre_(2015_film)\n",
              "context     Bond disobeys M's order and travels to Rome to...\n",
              "question             Where does Bond go after his suspension?\n",
              "answers              {'text': ['Rome'], 'answer_start': [39]}\n",
              "Name: 3046, dtype: object"
            ]
          },
          "metadata": {}
        },
        {
          "output_type": "display_data",
          "data": {
            "text/plain": [
              "id                                   56cdd05a62d2951400fa688a\n",
              "title                                     Spectre_(2015_film)\n",
              "context     Bond travels to Austria to find White, who is ...\n",
              "question    What is White suffering from when Bond finds him?\n",
              "answers     {'text': ['thallium poisoning'], 'answer_start...\n",
              "Name: 3055, dtype: object"
            ]
          },
          "metadata": {}
        },
        {
          "output_type": "display_data",
          "data": {
            "text/plain": [
              "id                                   56cdd17262d2951400fa68a8\n",
              "title                                     Spectre_(2015_film)\n",
              "context     The two travel to the hotel and discover White...\n",
              "question    What method of transportation is used to get t...\n",
              "answers            {'text': ['train'], 'answer_start': [161]}\n",
              "Name: 3064, dtype: object"
            ]
          },
          "metadata": {}
        },
        {
          "output_type": "display_data",
          "data": {
            "text/plain": [
              "id                                   56cdd28562d2951400fa68ba\n",
              "title                                     Spectre_(2015_film)\n",
              "context     Bond and Swann return to London where they mee...\n",
              "question         Where is Bond brought after he is kidnapped?\n",
              "answers     {'text': ['the old MI6 building'], 'answer_sta...\n",
              "Name: 3068, dtype: object"
            ]
          },
          "metadata": {}
        },
        {
          "output_type": "display_data",
          "data": {
            "text/plain": [
              "id                                   56cdd33262d2951400fa68c2\n",
              "title                                     Spectre_(2015_film)\n",
              "context     The ownership of the Spectre organisation—orig...\n",
              "question               What did SPECTRE originally stand for?\n",
              "answers     {'text': ['SPecial Executive for Counter-intel...\n",
              "Name: 3074, dtype: object"
            ]
          },
          "metadata": {}
        },
        {
          "output_type": "display_data",
          "data": {
            "text/plain": [
              "id                                   56cdd83862d2951400fa68e0\n",
              "title                                     Spectre_(2015_film)\n",
              "context     In November 2013 MGM and the McClory estate fo...\n",
              "question              Who ended up with ownership of Spectre?\n",
              "answers               {'text': ['MGM'], 'answer_start': [17]}\n",
              "Name: 3082, dtype: object"
            ]
          },
          "metadata": {}
        },
        {
          "output_type": "display_data",
          "data": {
            "text/plain": [
              "id                                   56cdd8ba62d2951400fa68e8\n",
              "title                                     Spectre_(2015_film)\n",
              "context     In November 2014, Sony Pictures Entertainment ...\n",
              "question    What company was targeted by leaks of company ...\n",
              "answers     {'text': ['Sony Pictures Entertainment'], 'ans...\n",
              "Name: 3089, dtype: object"
            ]
          },
          "metadata": {}
        },
        {
          "output_type": "display_data",
          "data": {
            "text/plain": [
              "id                                   56cdd97f62d2951400fa68f0\n",
              "title                                     Spectre_(2015_film)\n",
              "context     Despite being an original story, Spectre draws...\n",
              "question              Which actor portrayed Franz Oberhauser?\n",
              "answers     {'text': ['Christoph Waltz'], 'answer_start': ...\n",
              "Name: 3096, dtype: object"
            ]
          },
          "metadata": {}
        },
        {
          "output_type": "display_data",
          "data": {
            "text/plain": [
              "id                                   56cdda0062d2951400fa68fa\n",
              "title                                     Spectre_(2015_film)\n",
              "context     Further references to Fleming's material can b...\n",
              "question    What is the name of a location in Spectre whic...\n",
              "answers     {'text': ['Hildebrand Rarities and Antiques'],...\n",
              "Name: 3106, dtype: object"
            ]
          },
          "metadata": {}
        },
        {
          "output_type": "display_data",
          "data": {
            "text/plain": [
              "id                                   56cdda5762d2951400fa6900\n",
              "title                                     Spectre_(2015_film)\n",
              "context     The main cast was revealed in December 2014 at...\n",
              "question           When were the actors in Spectre announced?\n",
              "answers     {'text': ['December 2014'], 'answer_start': [30]}\n",
              "Name: 3112, dtype: object"
            ]
          },
          "metadata": {}
        },
        {
          "output_type": "display_data",
          "data": {
            "text/plain": [
              "id                                   56cddc2a62d2951400fa690a\n",
              "title                                     Spectre_(2015_film)\n",
              "context     Christoph Waltz was cast in the role of Franz ...\n",
              "question          Who did Christoph Waltz portray in Spectre?\n",
              "answers     {'text': ['Franz Oberhauser'], 'answer_start':...\n",
              "Name: 3120, dtype: object"
            ]
          },
          "metadata": {}
        },
        {
          "output_type": "display_data",
          "data": {
            "text/plain": [
              "id                                   56cddcae62d2951400fa6914\n",
              "title                                     Spectre_(2015_film)\n",
              "context     In addition to the principal cast, Alessandro ...\n",
              "question    How many actual people were used for the openi...\n",
              "answers     {'text': ['fifteen hundred'], 'answer_start': ...\n",
              "Name: 3127, dtype: object"
            ]
          },
          "metadata": {}
        },
        {
          "output_type": "display_data",
          "data": {
            "text/plain": [
              "id                                   56cddd4562d2951400fa691e\n",
              "title                                     Spectre_(2015_film)\n",
              "context     In March 2013 Mendes said he would not return ...\n",
              "question    Who was the last person to direct two James Bo...\n",
              "answers        {'text': ['John Glen'], 'answer_start': [363]}\n",
              "Name: 3135, dtype: object"
            ]
          },
          "metadata": {}
        },
        {
          "output_type": "display_data",
          "data": {
            "text/plain": [
              "id                                   56cdddb862d2951400fa6924\n",
              "title                                     Spectre_(2015_film)\n",
              "context     Mendes revealed that production would begin on...\n",
              "question      What were three sites used for filming Spectre?\n",
              "answers     {'text': ['London, Mexico City and Rome'], 'an...\n",
              "Name: 3143, dtype: object"
            ]
          },
          "metadata": {}
        },
        {
          "output_type": "display_data",
          "data": {
            "text/plain": [
              "id                                   56cde1d962d2951400fa6954\n",
              "title                                     Spectre_(2015_film)\n",
              "context     Filming started in Austria in December 2014, w...\n",
              "question        When did Spectre begin production in Austria?\n",
              "answers     {'text': ['December 2014'], 'answer_start': [30]}\n",
              "Name: 3149, dtype: object"
            ]
          },
          "metadata": {}
        },
        {
          "output_type": "display_data",
          "data": {
            "text/plain": [
              "id                                   56cde39b62d2951400fa697c\n",
              "title                                     Spectre_(2015_film)\n",
              "context     Filming temporarily returned to England to sho...\n",
              "question    What are two landmarks in Rome used in filming...\n",
              "answers     {'text': ['Ponte Sisto bridge and the Roman Fo...\n",
              "Name: 3156, dtype: object"
            ]
          },
          "metadata": {}
        },
        {
          "output_type": "display_data",
          "data": {
            "text/plain": [
              "id                                   56cdf49362d2951400fa69c0\n",
              "title                                     Spectre_(2015_film)\n",
              "context     With filming completed in Rome, production mov...\n",
              "question     Where did Spectre filming take place after Rome?\n",
              "answers       {'text': ['Mexico City'], 'answer_start': [52]}\n",
              "Name: 3165, dtype: object"
            ]
          },
          "metadata": {}
        },
        {
          "output_type": "display_data",
          "data": {
            "text/plain": [
              "id                                   56cdf52c62d2951400fa69ca\n",
              "title                                     Spectre_(2015_film)\n",
              "context     Following filming in Mexico, and during a sche...\n",
              "question          Where did Craig go to deal with his injury?\n",
              "answers          {'text': ['New York'], 'answer_start': [78]}\n",
              "Name: 3173, dtype: object"
            ]
          },
          "metadata": {}
        },
        {
          "output_type": "display_data",
          "data": {
            "text/plain": [
              "id                                   56ced14baab44d1400b88acd\n",
              "title                                     Spectre_(2015_film)\n",
              "context     A brief shoot at London's City Hall was filmed...\n",
              "question     Which bridges were shut down because of filming?\n",
              "answers     {'text': ['Westminster and Lambeth Bridges'], ...\n",
              "Name: 3176, dtype: object"
            ]
          },
          "metadata": {}
        },
        {
          "output_type": "display_data",
          "data": {
            "text/plain": [
              "id                                   56ced973aab44d1400b88afd\n",
              "title                                     Spectre_(2015_film)\n",
              "context     After wrapping up in England, production trave...\n",
              "question    Which three locations in Morocco were used in ...\n",
              "answers     {'text': ['Oujda, Tangier and Erfoud'], 'answe...\n",
              "Name: 3184, dtype: object"
            ]
          },
          "metadata": {}
        },
        {
          "output_type": "display_data",
          "data": {
            "text/plain": [
              "id                                   56cedc9caab44d1400b88b2b\n",
              "title                                     Spectre_(2015_film)\n",
              "context     Whilst filming in Mexico City, speculation in ...\n",
              "question    How much money were possible changes to the Me...\n",
              "answers      {'text': ['$20 million'], 'answer_start': [372]}\n",
              "Name: 3192, dtype: object"
            ]
          },
          "metadata": {}
        },
        {
          "output_type": "display_data",
          "data": {
            "text/plain": [
              "id                                   56cedd47aab44d1400b88b47\n",
              "title                                     Spectre_(2015_film)\n",
              "context     Thomas Newman returned as Spectre's composer. ...\n",
              "question                     Who wrote the music for Spectre?\n",
              "answers      {'text': ['Thomas Newman'], 'answer_start': [0]}\n",
              "Name: 3196, dtype: object"
            ]
          },
          "metadata": {}
        },
        {
          "output_type": "display_data",
          "data": {
            "text/plain": [
              "id                                   56ceddd1aab44d1400b88b58\n",
              "title                                     Spectre_(2015_film)\n",
              "context     In September 2015 it was announced that Sam Sm...\n",
              "question    What was the name of the song played during th...\n",
              "answers     {'text': ['Writing's on the Wall'], 'answer_st...\n",
              "Name: 3203, dtype: object"
            ]
          },
          "metadata": {}
        },
        {
          "output_type": "display_data",
          "data": {
            "text/plain": [
              "id                                   56cedf84aab44d1400b88ba3\n",
              "title                                     Spectre_(2015_film)\n",
              "context     The song was released as a digital download on...\n",
              "question    When was the main theme of Spectre made availa...\n",
              "answers     {'text': ['25 September 2015'], 'answer_start'...\n",
              "Name: 3207, dtype: object"
            ]
          },
          "metadata": {}
        },
        {
          "output_type": "display_data",
          "data": {
            "text/plain": [
              "id                                   56cee58daab44d1400b88c1b\n",
              "title                                     Spectre_(2015_film)\n",
              "context     During the December 2014 press conference anno...\n",
              "question     Which companies revealed Spectre's official car?\n",
              "answers     {'text': ['Aston Martin and Eon'], 'answer_sta...\n",
              "Name: 3214, dtype: object"
            ]
          },
          "metadata": {}
        },
        {
          "output_type": "display_data",
          "data": {
            "text/plain": [
              "id                                   56cee5f0aab44d1400b88c2d\n",
              "title                                     Spectre_(2015_film)\n",
              "context     To promote the film, production continued the ...\n",
              "question    Images of what item were posted by Eon while t...\n",
              "answers     {'text': ['clapperboards'], 'answer_start': [1...\n",
              "Name: 3220, dtype: object"
            ]
          },
          "metadata": {}
        },
        {
          "output_type": "display_data",
          "data": {
            "text/plain": [
              "id                                   56cee6ebaab44d1400b88c41\n",
              "title                                     Spectre_(2015_film)\n",
              "context     On 13 March 2015, several members of the cast ...\n",
              "question    What comedy production did Spectre actors appe...\n",
              "answers     {'text': ['Comic Relief's Red Nose Day'], 'ans...\n",
              "Name: 3224, dtype: object"
            ]
          },
          "metadata": {}
        },
        {
          "output_type": "display_data",
          "data": {
            "text/plain": [
              "id                                   56cee7a2aab44d1400b88c5f\n",
              "title                                     Spectre_(2015_film)\n",
              "context     Spectre had its world premiere in London on 26...\n",
              "question         Where was the first showing of Spectre held?\n",
              "answers     {'text': ['Royal Albert Hall'], 'answer_start'...\n",
              "Name: 3230, dtype: object"
            ]
          },
          "metadata": {}
        },
        {
          "output_type": "display_data",
          "data": {
            "text/plain": [
              "id                                   56cee809aab44d1400b88c6f\n",
              "title                                     Spectre_(2015_film)\n",
              "context     As of 21 February 2016[update] Spectre has gro...\n",
              "question        How much money had Spectre made by 2/21/2016?\n",
              "answers     {'text': ['$879.3 million'], 'answer_start': [...\n",
              "Name: 3235, dtype: object"
            ]
          },
          "metadata": {}
        },
        {
          "output_type": "display_data",
          "data": {
            "text/plain": [
              "id                                   56ceea40aab44d1400b88c99\n",
              "title                                     Spectre_(2015_film)\n",
              "context     In the United Kingdom, the film grossed £4.1 m...\n",
              "question         How much did Spectre make in its first week?\n",
              "answers     {'text': ['£41.7 million ($63.8 million)'], 'a...\n",
              "Name: 3238, dtype: object"
            ]
          },
          "metadata": {}
        },
        {
          "output_type": "display_data",
          "data": {
            "text/plain": [
              "id                                   56ceeb34aab44d1400b88ca9\n",
              "title                                     Spectre_(2015_film)\n",
              "context     Spectre opened in Germany with $22.45 million ...\n",
              "question    Terrorist activity in what French city impacte...\n",
              "answers            {'text': ['Paris'], 'answer_start': [268]}\n",
              "Name: 3245, dtype: object"
            ]
          },
          "metadata": {}
        },
        {
          "output_type": "display_data",
          "data": {
            "text/plain": [
              "id                                   56ceebf8aab44d1400b88cbb\n",
              "title                                     Spectre_(2015_film)\n",
              "context     In the United States and Canada, the film open...\n",
              "question    How many Imax screens showed Spectre on its op...\n",
              "answers              {'text': ['374'], 'answer_start': [613]}\n",
              "Name: 3251, dtype: object"
            ]
          },
          "metadata": {}
        },
        {
          "output_type": "display_data",
          "data": {
            "text/plain": [
              "id                                   56ceed3baab44d1400b88ccb\n",
              "title                                     Spectre_(2015_film)\n",
              "context     In China, it opened on 12 November and earned ...\n",
              "question    On what day and month was Spectre released to ...\n",
              "answers       {'text': ['12 November'], 'answer_start': [23]}\n",
              "Name: 3257, dtype: object"
            ]
          },
          "metadata": {}
        },
        {
          "output_type": "display_data",
          "data": {
            "text/plain": [
              "id                                   56ceee04aab44d1400b88cd3\n",
              "title                                     Spectre_(2015_film)\n",
              "context     Spectre has received mixed reviews, with many ...\n",
              "question              What was Metacritics score for Spectre?\n",
              "answers     {'text': ['60 out of 100'], 'answer_start': [6...\n",
              "Name: 3263, dtype: object"
            ]
          },
          "metadata": {}
        },
        {
          "output_type": "display_data",
          "data": {
            "text/plain": [
              "id                                   56ceef67aab44d1400b88ce6\n",
              "title                                     Spectre_(2015_film)\n",
              "context     Prior to its UK release, Spectre mostly receiv...\n",
              "question    Who gave Spectre a perfect rating in The Daily...\n",
              "answers     {'text': ['Robbie Collin'], 'answer_start': [5...\n",
              "Name: 3269, dtype: object"
            ]
          },
          "metadata": {}
        },
        {
          "output_type": "display_data",
          "data": {
            "text/plain": [
              "id                                   56cef51daab44d1400b88d11\n",
              "title                                     Spectre_(2015_film)\n",
              "context     Critical appraisal of the film was mixed in th...\n",
              "question    Which journalist considered Spectre the worst ...\n",
              "answers     {'text': ['Scott Mendelson'], 'answer_start': ...\n",
              "Name: 3273, dtype: object"
            ]
          },
          "metadata": {}
        },
        {
          "output_type": "display_data",
          "data": {
            "text/plain": [
              "id                                   56cef65baab44d1400b88d35\n",
              "title                                     Spectre_(2015_film)\n",
              "context     Christopher Orr, writing in The Atlantic, also...\n",
              "question    Which Atlantic writer gave a negative review o...\n",
              "answers     {'text': ['Christopher Orr'], 'answer_start': ...\n",
              "Name: 3277, dtype: object"
            ]
          },
          "metadata": {}
        },
        {
          "output_type": "display_data",
          "data": {
            "text/plain": [
              "id                                   56cef6ccaab44d1400b88d48\n",
              "title                                     Spectre_(2015_film)\n",
              "context     In India, it was reported that the Indian Cent...\n",
              "question    Whic organization is responsible for filtering...\n",
              "answers     {'text': ['Indian Central Board of Film Certif...\n",
              "Name: 3281, dtype: object"
            ]
          },
          "metadata": {}
        },
        {
          "output_type": "display_data",
          "data": {
            "text/plain": [
              "id                                   56cef706aab44d1400b88d4f\n",
              "title                                     Spectre_(2015_film)\n",
              "context     A sequel to Spectre will begin development in ...\n",
              "question    Christoph Waltz's appearance in future Bond mo...\n",
              "answers            {'text': ['Craig'], 'answer_start': [234]}\n",
              "Name: 3283, dtype: object"
            ]
          },
          "metadata": {}
        },
        {
          "output_type": "display_data",
          "data": {
            "text/plain": [
              "id                                   56cdca7862d2951400fa6826\n",
              "title                                 2008_Sichuan_earthquake\n",
              "context     The 2008 Sichuan earthquake or the Great Sichu...\n",
              "question    In what year did the earthquake in Sichuan occur?\n",
              "answers               {'text': ['2008'], 'answer_start': [4]}\n",
              "Name: 3286, dtype: object"
            ]
          },
          "metadata": {}
        },
        {
          "output_type": "display_data",
          "data": {
            "text/plain": [
              "id                                   56cdcb2c62d2951400fa6830\n",
              "title                                 2008_Sichuan_earthquake\n",
              "context     It is also known as the Wenchuan earthquake (C...\n",
              "question    Which far away cities in other countries could...\n",
              "answers     {'text': ['Beijing and Shanghai'], 'answer_sta...\n",
              "Name: 3294, dtype: object"
            ]
          },
          "metadata": {}
        },
        {
          "output_type": "display_data",
          "data": {
            "text/plain": [
              "id                                   56cdcbb762d2951400fa683a\n",
              "title                                 2008_Sichuan_earthquake\n",
              "context     Official figures (as of July 21, 2008 12:00 CS...\n",
              "question                 How many people were confirmed dead?\n",
              "answers            {'text': ['69,197'], 'answer_start': [61]}\n",
              "Name: 3301, dtype: object"
            ]
          },
          "metadata": {}
        },
        {
          "output_type": "display_data",
          "data": {
            "text/plain": [
              "id                                   56cdcc5562d2951400fa6845\n",
              "title                                 2008_Sichuan_earthquake\n",
              "context     The earthquake had a magnitude of 8.0 Ms and 7...\n",
              "question                             Where was the epicenter?\n",
              "answers     {'text': ['Wenchuan County, Ngawa Tibetan and ...\n",
              "Name: 3311, dtype: object"
            ]
          },
          "metadata": {}
        },
        {
          "output_type": "display_data",
          "data": {
            "text/plain": [
              "id                                   56cdccd962d2951400fa684e\n",
              "title                                 2008_Sichuan_earthquake\n",
              "context     According to a study by the China Earthquake A...\n",
              "question              On what fault did the earthquake occur?\n",
              "answers     {'text': ['Longmenshan fault'], 'answer_start'...\n",
              "Name: 3317, dtype: object"
            ]
          },
          "metadata": {}
        },
        {
          "output_type": "display_data",
          "data": {
            "text/plain": [
              "id                                   56cdce0b62d2951400fa6858\n",
              "title                                 2008_Sichuan_earthquake\n",
              "context     Malaysia-based Yazhou Zhoukan conducted an int...\n",
              "question    When was the confidential written report sent ...\n",
              "answers     {'text': ['April 30, 2008'], 'answer_start': [...\n",
              "Name: 3325, dtype: object"
            ]
          },
          "metadata": {}
        },
        {
          "output_type": "display_data",
          "data": {
            "text/plain": [
              "id                                   56cdcebe62d2951400fa6862\n",
              "title                                 2008_Sichuan_earthquake\n",
              "context     In a United States Geological Survey (USGS) st...\n",
              "question                      How large was the displacement?\n",
              "answers     {'text': ['up to 9 meters'], 'answer_start': [...\n",
              "Name: 3332, dtype: object"
            ]
          },
          "metadata": {}
        },
        {
          "output_type": "display_data",
          "data": {
            "text/plain": [
              "id                                   56cdcff062d2951400fa6884\n",
              "title                                 2008_Sichuan_earthquake\n",
              "context     Japanese seismologist Yuji Yagi at the Univers...\n",
              "question    How many people were killed in the Hanshin ear...\n",
              "answers     {'text': ['6,000 people'], 'answer_start': [423]}\n",
              "Name: 3339, dtype: object"
            ]
          },
          "metadata": {}
        },
        {
          "output_type": "display_data",
          "data": {
            "text/plain": [
              "id                                   56cdd08862d2951400fa6894\n",
              "title                                 2008_Sichuan_earthquake\n",
              "context     Between 64 and 104 major aftershocks, ranging ...\n",
              "question                     How many aftershocks were there?\n",
              "answers     {'text': ['Between 64 and 104'], 'answer_start...\n",
              "Name: 3345, dtype: object"
            ]
          },
          "metadata": {}
        },
        {
          "output_type": "display_data",
          "data": {
            "text/plain": [
              "id                                   56cdd10962d2951400fa689f\n",
              "title                                 2008_Sichuan_earthquake\n",
              "context     (The Ms 6.1 earthquake on August 30, 2008 in s...\n",
              "question                      When did this earthquake occur?\n",
              "answers     {'text': ['August 30, 2008'], 'answer_start': ...\n",
              "Name: 3353, dtype: object"
            ]
          },
          "metadata": {}
        },
        {
          "output_type": "display_data",
          "data": {
            "text/plain": [
              "id                                   56cdd21562d2951400fa68b0\n",
              "title                                 2008_Sichuan_earthquake\n",
              "context     The map of earthquake intensity published by C...\n",
              "question    Who published the map of the earthquakes inten...\n",
              "answers               {'text': ['CEA'], 'answer_start': [45]}\n",
              "Name: 3360, dtype: object"
            ]
          },
          "metadata": {}
        },
        {
          "output_type": "display_data",
          "data": {
            "text/plain": [
              "id                                   56cdd4d762d2951400fa68cc\n",
              "title                                 2008_Sichuan_earthquake\n",
              "context     The Longmen Shan Fault System is situated in t...\n",
              "question              Where is the Longmenshan Fault located?\n",
              "answers     {'text': ['the eastern border of the Tibetan P...\n",
              "Name: 3365, dtype: object"
            ]
          },
          "metadata": {}
        },
        {
          "output_type": "display_data",
          "data": {
            "text/plain": [
              "id                                   56cdd63a62d2951400fa68d6\n",
              "title                                 2008_Sichuan_earthquake\n",
              "context     Office buildings in Shanghai's financial distr...\n",
              "question               Where were office buildings evacuated?\n",
              "answers     {'text': ['Shanghai's financial district'], 'a...\n",
              "Name: 3375, dtype: object"
            ]
          },
          "metadata": {}
        },
        {
          "output_type": "display_data",
          "data": {
            "text/plain": [
              "id                                   56cddec762d2951400fa692c\n",
              "title                                 2008_Sichuan_earthquake\n",
              "context     Reporters in Chengdu said they saw cracks on w...\n",
              "question    Where did the reporters say they saw cracks on...\n",
              "answers        {'text': ['in Chengdu'], 'answer_start': [10]}\n",
              "Name: 3384, dtype: object"
            ]
          },
          "metadata": {}
        },
        {
          "output_type": "display_data",
          "data": {
            "text/plain": [
              "id                                   56cddf9e62d2951400fa6934\n",
              "title                                 2008_Sichuan_earthquake\n",
              "context     All of the highways into Wenchuan, and others ...\n",
              "question    How many highways leading into Wenchuan were d...\n",
              "answers     {'text': ['All of the highways'], 'answer_star...\n",
              "Name: 3393, dtype: object"
            ]
          },
          "metadata": {}
        },
        {
          "output_type": "display_data",
          "data": {
            "text/plain": [
              "id                                   56cddfff62d2951400fa693f\n",
              "title                                 2008_Sichuan_earthquake\n",
              "context     Both the Shanghai Stock Exchange and the Shenz...\n",
              "question                      Where were the exchanges based?\n",
              "answers     {'text': ['southwestern China'], 'answer_start...\n",
              "Name: 3402, dtype: object"
            ]
          },
          "metadata": {}
        },
        {
          "output_type": "display_data",
          "data": {
            "text/plain": [
              "id                                   56cde07662d2951400fa6946\n",
              "title                                 2008_Sichuan_earthquake\n",
              "context     Immediately after the earthquake event, mobile...\n",
              "question           What kinds of telecommunications were cut?\n",
              "answers     {'text': ['mobile and terrestrial'], 'answer_s...\n",
              "Name: 3409, dtype: object"
            ]
          },
          "metadata": {}
        },
        {
          "output_type": "display_data",
          "data": {
            "text/plain": [
              "id                                   56cde11f62d2951400fa694c\n",
              "title                                 2008_Sichuan_earthquake\n",
              "context     China Mobile had more than 2,300 base stations...\n",
              "question    How many base stations did China Mobile have s...\n",
              "answers             {'text': ['2,300'], 'answer_start': [27]}\n",
              "Name: 3417, dtype: object"
            ]
          },
          "metadata": {}
        },
        {
          "output_type": "display_data",
          "data": {
            "text/plain": [
              "id                                   56cde1f462d2951400fa695e\n",
              "title                                 2008_Sichuan_earthquake\n",
              "context     Initially, officials were unable to contact th...\n",
              "question              What place could officials not contact?\n",
              "answers     {'text': ['the Wolong National Nature Reserve'...\n",
              "Name: 3424, dtype: object"
            ]
          },
          "metadata": {}
        },
        {
          "output_type": "display_data",
          "data": {
            "text/plain": [
              "id                                   56cde29b62d2951400fa6968\n",
              "title                                 2008_Sichuan_earthquake\n",
              "context     The Zipingpu Hydropower Plant (simplified Chin...\n",
              "question                        What power plant was damaged?\n",
              "answers     {'text': ['Hydropower Plant'], 'answer_start':...\n",
              "Name: 3432, dtype: object"
            ]
          },
          "metadata": {}
        },
        {
          "output_type": "display_data",
          "data": {
            "text/plain": [
              "id                                   56cde34662d2951400fa6972\n",
              "title                                 2008_Sichuan_earthquake\n",
              "context     According to Chinese state officials, the quak...\n",
              "question                       How many deaths were reported?\n",
              "answers            {'text': ['69,180'], 'answer_start': [55]}\n",
              "Name: 3441, dtype: object"
            ]
          },
          "metadata": {}
        },
        {
          "output_type": "display_data",
          "data": {
            "text/plain": [
              "id                                   56ceb9c4aab44d1400b8892b\n",
              "title                                 2008_Sichuan_earthquake\n",
              "context     One rescue team reported only 2,300 survivors ...\n",
              "question          How many survivors were there from Yingxiu?\n",
              "answers             {'text': ['2,300'], 'answer_start': [30]}\n",
              "Name: 3451, dtype: object"
            ]
          },
          "metadata": {}
        },
        {
          "output_type": "display_data",
          "data": {
            "text/plain": [
              "id                                   56ceba72aab44d1400b88935\n",
              "title                                 2008_Sichuan_earthquake\n",
              "context     Experts point out that the earthquake hit an a...\n",
              "question     What is poor about inland areas such as Sichuan?\n",
              "answers      {'text': ['Health care'], 'answer_start': [122]}\n",
              "Name: 3461, dtype: object"
            ]
          },
          "metadata": {}
        },
        {
          "output_type": "display_data",
          "data": {
            "text/plain": [
              "id                                   56cebae8aab44d1400b8893d\n",
              "title                                 2008_Sichuan_earthquake\n",
              "context     In terms of school casualties, thousands of sc...\n",
              "question    How many school children died due to shoddy co...\n",
              "answers         {'text': ['thousands'], 'answer_start': [31]}\n",
              "Name: 3468, dtype: object"
            ]
          },
          "metadata": {}
        },
        {
          "output_type": "display_data",
          "data": {
            "text/plain": [
              "id                                   56cebb71aab44d1400b88951\n",
              "title                                 2008_Sichuan_earthquake\n",
              "context     Details of school casualties had been under no...\n",
              "question    When did an investigation occur under school c...\n",
              "answers     {'text': ['December 2008'], 'answer_start': [81]}\n",
              "Name: 3478, dtype: object"
            ]
          },
          "metadata": {}
        },
        {
          "output_type": "display_data",
          "data": {
            "text/plain": [
              "id                                   56cebbdeaab44d1400b88959\n",
              "title                                 2008_Sichuan_earthquake\n",
              "context     The earthquake left at least 5 million people ...\n",
              "question           How many people were left without housing?\n",
              "answers         {'text': ['5 million'], 'answer_start': [29]}\n",
              "Name: 3487, dtype: object"
            ]
          },
          "metadata": {}
        },
        {
          "output_type": "display_data",
          "data": {
            "text/plain": [
              "id                                   56cebcb4aab44d1400b88963\n",
              "title                                 2008_Sichuan_earthquake\n",
              "context     Reginald DesRoches, a professor of civil and e...\n",
              "question    Who was a professor of civil and environmental...\n",
              "answers     {'text': ['Reginald DesRoches'], 'answer_start...\n",
              "Name: 3495, dtype: object"
            ]
          },
          "metadata": {}
        },
        {
          "output_type": "display_data",
          "data": {
            "text/plain": [
              "id                                   56cebd0faab44d1400b88971\n",
              "title                                 2008_Sichuan_earthquake\n",
              "context     In the days following the disaster, an interna...\n",
              "question           What happened days following the disaster?\n",
              "answers     {'text': ['an international reconnaissance tea...\n",
              "Name: 3499, dtype: object"
            ]
          },
          "metadata": {}
        },
        {
          "output_type": "display_data",
          "data": {
            "text/plain": [
              "id                                   56cebd8aaab44d1400b88977\n",
              "title                                 2008_Sichuan_earthquake\n",
              "context     News reports indicate that the poorer, rural v...\n",
              "question                     What areas were the hardest hit?\n",
              "answers     {'text': ['the poorer, rural villages'], 'answ...\n",
              "Name: 3505, dtype: object"
            ]
          },
          "metadata": {}
        },
        {
          "output_type": "display_data",
          "data": {
            "text/plain": [
              "id                                   56cebdd0aab44d1400b8897f\n",
              "title                                 2008_Sichuan_earthquake\n",
              "context     Even with the five largest cities in Sichuan s...\n",
              "question    What is an estimate of the economic loss from ...\n",
              "answers      {'text': ['$75 billion'], 'answer_start': [143]}\n",
              "Name: 3511, dtype: object"
            ]
          },
          "metadata": {}
        },
        {
          "output_type": "display_data",
          "data": {
            "text/plain": [
              "id                                   56cebe75aab44d1400b88985\n",
              "title                                 2008_Sichuan_earthquake\n",
              "context     Strong aftershocks continued to strike even mo...\n",
              "question    How many buildings collapsed as a result of th...\n",
              "answers          {'text': ['420,000'], 'answer_start': [431]}\n",
              "Name: 3516, dtype: object"
            ]
          },
          "metadata": {}
        },
        {
          "output_type": "display_data",
          "data": {
            "text/plain": [
              "id                                   56cebef6aab44d1400b88997\n",
              "title                                 2008_Sichuan_earthquake\n",
              "context     Executive vice governor Wei Hong confirmed on ...\n",
              "question                 Who was the executive vice governor?\n",
              "answers          {'text': ['Wei Hong'], 'answer_start': [24]}\n",
              "Name: 3522, dtype: object"
            ]
          },
          "metadata": {}
        },
        {
          "output_type": "display_data",
          "data": {
            "text/plain": [
              "id                                   56cebf6aaab44d1400b889a1\n",
              "title                                 2008_Sichuan_earthquake\n",
              "context     General Secretary and President Hu Jintao anno...\n",
              "question    Who flew to the earthquake area 90 minutes aft...\n",
              "answers     {'text': ['Premier Wen Jiabao'], 'answer_start...\n",
              "Name: 3531, dtype: object"
            ]
          },
          "metadata": {}
        },
        {
          "output_type": "display_data",
          "data": {
            "text/plain": [
              "id                                   56cebfcaaab44d1400b889a9\n",
              "title                                 2008_Sichuan_earthquake\n",
              "context     The National Disaster Relief Commission initia...\n",
              "question    What did the National Disaster Relief Commissi...\n",
              "answers     {'text': ['Level II emergency contingency plan...\n",
              "Name: 3539, dtype: object"
            ]
          },
          "metadata": {}
        },
        {
          "output_type": "display_data",
          "data": {
            "text/plain": [
              "id                                   56cec033aab44d1400b889af\n",
              "title                                 2008_Sichuan_earthquake\n",
              "context     An earthquake emergency relief team of 184 peo...\n",
              "question    How many people were in the earthquake emergen...\n",
              "answers               {'text': ['184'], 'answer_start': [39]}\n",
              "Name: 3546, dtype: object"
            ]
          },
          "metadata": {}
        },
        {
          "output_type": "display_data",
          "data": {
            "text/plain": [
              "id                                   56cec11faab44d1400b889c7\n",
              "title                                 2008_Sichuan_earthquake\n",
              "context     In the China Digital Times an article reports ...\n",
              "question             What did the China Digital Times report?\n",
              "answers     {'text': ['a close analysis by an alleged Chin...\n",
              "Name: 3555, dtype: object"
            ]
          },
          "metadata": {}
        },
        {
          "output_type": "display_data",
          "data": {
            "text/plain": [
              "id                                   56cec174aab44d1400b889cb\n",
              "title                                 2008_Sichuan_earthquake\n",
              "context     On Children's Day, June 1, 2008, many parents ...\n",
              "question                        What was June 1, 2008 called?\n",
              "answers     {'text': ['Children's Day'], 'answer_start': [3]}\n",
              "Name: 3559, dtype: object"
            ]
          },
          "metadata": {}
        },
        {
          "output_type": "display_data",
          "data": {
            "text/plain": [
              "id                                   56cec1ffaab44d1400b889dd\n",
              "title                                 2008_Sichuan_earthquake\n",
              "context     Central State-owned enterprises have accumulat...\n",
              "question    How much did central state-owned enterprises d...\n",
              "answers     {'text': ['more than $48.6 million'], 'answer_...\n",
              "Name: 3565, dtype: object"
            ]
          },
          "metadata": {}
        },
        {
          "output_type": "display_data",
          "data": {
            "text/plain": [
              "id                                   56cec2a1aab44d1400b889e1\n",
              "title                                 2008_Sichuan_earthquake\n",
              "context     On May 16 China stated it had also received $4...\n",
              "question    How much did China receive in donated money an...\n",
              "answers      {'text': ['$457 million'], 'answer_start': [44]}\n",
              "Name: 3569, dtype: object"
            ]
          },
          "metadata": {}
        },
        {
          "output_type": "display_data",
          "data": {
            "text/plain": [
              "id                                   56cec34faab44d1400b889f9\n",
              "title                                 2008_Sichuan_earthquake\n",
              "context     In 2008, State Council established a counterpa...\n",
              "question        What did the State Council establish in 2008?\n",
              "answers     {'text': ['a counterpart support plan'], 'answ...\n",
              "Name: 3577, dtype: object"
            ]
          },
          "metadata": {}
        },
        {
          "output_type": "display_data",
          "data": {
            "text/plain": [
              "id                                   56cec3e8aab44d1400b88a02\n",
              "title                                 2008_Sichuan_earthquake\n",
              "context     An article in Science suggested that the const...\n",
              "question           What was concluded about the construction?\n",
              "answers     {'text': ['that the sudden shift of a huge qua...\n",
              "Name: 3583, dtype: object"
            ]
          },
          "metadata": {}
        },
        {
          "output_type": "display_data",
          "data": {
            "text/plain": [
              "id                                   56cec484aab44d1400b88a07\n",
              "title                                 2008_Sichuan_earthquake\n",
              "context     The earthquake also provided opportunities for...\n",
              "question                       What did the earthquake allow?\n",
              "answers     {'text': ['opportunities for researchers to re...\n",
              "Name: 3589, dtype: object"
            ]
          },
          "metadata": {}
        },
        {
          "output_type": "display_data",
          "data": {
            "text/plain": [
              "id                                   56cec4d0aab44d1400b88a0f\n",
              "title                                 2008_Sichuan_earthquake\n",
              "context     In a press conference held by the State Counci...\n",
              "question             What was stated in the press conference?\n",
              "answers     {'text': ['that earthquake prediction was a gl...\n",
              "Name: 3593, dtype: object"
            ]
          },
          "metadata": {}
        },
        {
          "output_type": "display_data",
          "data": {
            "text/plain": [
              "id                                   56cec548aab44d1400b88a13\n",
              "title                                 2008_Sichuan_earthquake\n",
              "context     In 2002, Chinese geologist Chen Xuezhong publi...\n",
              "question          When was a Seismic Risk Analysis published?\n",
              "answers            {'text': ['In 2002'], 'answer_start': [0]}\n",
              "Name: 3598, dtype: object"
            ]
          },
          "metadata": {}
        },
        {
          "output_type": "display_data",
          "data": {
            "text/plain": [
              "id                                   56cec5d1aab44d1400b88a23\n",
              "title                                 2008_Sichuan_earthquake\n",
              "context     The earthquake was the worst to strike the Sic...\n",
              "question    How long had it been since an earthquake of si...\n",
              "answers     {'text': ['over 30 years'], 'answer_start': [59]}\n",
              "Name: 3603, dtype: object"
            ]
          },
          "metadata": {}
        },
        {
          "output_type": "display_data",
          "data": {
            "text/plain": [
              "id                                   56cec6e9aab44d1400b88a29\n",
              "title                                 2008_Sichuan_earthquake\n",
              "context     Many rescue teams, including that of the Taipe...\n",
              "question    What department was ready to join the rescue e...\n",
              "answers     {'text': ['the Taipei Fire Department'], 'answ...\n",
              "Name: 3608, dtype: object"
            ]
          },
          "metadata": {}
        },
        {
          "output_type": "display_data",
          "data": {
            "text/plain": [
              "id                                   56cec79caab44d1400b88a33\n",
              "title                                 2008_Sichuan_earthquake\n",
              "context     Persistent heavy rain and landslides in Wenchu...\n",
              "question    What natural disasters were occurring in Wench...\n",
              "answers        {'text': ['landslides'], 'answer_start': [26]}\n",
              "Name: 3614, dtype: object"
            ]
          },
          "metadata": {}
        },
        {
          "output_type": "display_data",
          "data": {
            "text/plain": [
              "id                                   56cec801aab44d1400b88a3d\n",
              "title                                 2008_Sichuan_earthquake\n",
              "context     By May 15, Premier Wen Jiabao ordered the depl...\n",
              "question                   What did Premier Wen Jiabao order?\n",
              "answers     {'text': ['the deployment of an additional 90 ...\n",
              "Name: 3624, dtype: object"
            ]
          },
          "metadata": {}
        },
        {
          "output_type": "display_data",
          "data": {
            "text/plain": [
              "id                                   56cec88baab44d1400b88a45\n",
              "title                                 2008_Sichuan_earthquake\n",
              "context     Beijing accepted the aid of the Tzu Chi Founda...\n",
              "question               What Foundation wanted to aid Beijing?\n",
              "answers     {'text': ['the Tzu Chi Foundation'], 'answer_s...\n",
              "Name: 3632, dtype: object"
            ]
          },
          "metadata": {}
        },
        {
          "output_type": "display_data",
          "data": {
            "text/plain": [
              "id                                   56cec8e2aab44d1400b88a55\n",
              "title                                 2008_Sichuan_earthquake\n",
              "context     A direct chartered cargo flight was made by Ch...\n",
              "question            Who made a direct chartered cargo flight?\n",
              "answers     {'text': ['China Airlines'], 'answer_start': [...\n",
              "Name: 3638, dtype: object"
            ]
          },
          "metadata": {}
        },
        {
          "output_type": "display_data",
          "data": {
            "text/plain": [
              "id                                   56cec9e1aab44d1400b88a62\n",
              "title                                 2008_Sichuan_earthquake\n",
              "context     On May 16, rescue groups from South Korea, Jap...\n",
              "question                               What did the US share?\n",
              "answers     {'text': ['satellite images of the quake-stric...\n",
              "Name: 3646, dtype: object"
            ]
          },
          "metadata": {}
        },
        {
          "output_type": "display_data",
          "data": {
            "text/plain": [
              "id                                   56ceccc7aab44d1400b88a7d\n",
              "title                                 2008_Sichuan_earthquake\n",
              "context     The Internet was extensively used for passing ...\n",
              "question    What was extensively used to pass information ...\n",
              "answers       {'text': ['The Internet'], 'answer_start': [0]}\n",
              "Name: 3653, dtype: object"
            ]
          },
          "metadata": {}
        },
        {
          "output_type": "display_data",
          "data": {
            "text/plain": [
              "id                                   56cecd53aab44d1400b88a88\n",
              "title                                 2008_Sichuan_earthquake\n",
              "context     On May 12, 2009, China marked the first annive...\n",
              "question                   What was done for the anniversary?\n",
              "answers     {'text': ['a moment of silence'], 'answer_star...\n",
              "Name: 3662, dtype: object"
            ]
          },
          "metadata": {}
        },
        {
          "output_type": "display_data",
          "data": {
            "text/plain": [
              "id                                   56cecdf0aab44d1400b88a93\n",
              "title                                 2008_Sichuan_earthquake\n",
              "context     Following the earthquake, donations were made ...\n",
              "question                               What was also donated?\n",
              "answers            {'text': ['blood'], 'answer_start': [172]}\n",
              "Name: 3669, dtype: object"
            ]
          },
          "metadata": {}
        },
        {
          "output_type": "display_data",
          "data": {
            "text/plain": [
              "id                                   56cece5caab44d1400b88a9b\n",
              "title                                 2008_Sichuan_earthquake\n",
              "context     The Red Cross Society of China flew 557 tents ...\n",
              "question             How many tents were flown to the region?\n",
              "answers               {'text': ['557'], 'answer_start': [36]}\n",
              "Name: 3676, dtype: object"
            ]
          },
          "metadata": {}
        },
        {
          "output_type": "display_data",
          "data": {
            "text/plain": [
              "id                                   56cecf68aab44d1400b88ab7\n",
              "title                                 2008_Sichuan_earthquake\n",
              "context     The central government estimates that over 7,0...\n",
              "question         How many schoolrooms collapsed in the quake?\n",
              "answers             {'text': ['7,000'], 'answer_start': [43]}\n",
              "Name: 3686, dtype: object"
            ]
          },
          "metadata": {}
        },
        {
          "output_type": "display_data",
          "data": {
            "text/plain": [
              "id                                   56cecff4aab44d1400b88abd\n",
              "title                                 2008_Sichuan_earthquake\n",
              "context     On the evening of May 18, CCTV-1 hosted a spec...\n",
              "question     What did CCTV-1 host on the evening of May 18th?\n",
              "answers     {'text': ['four-hour program called The Giving...\n",
              "Name: 3692, dtype: object"
            ]
          },
          "metadata": {}
        },
        {
          "output_type": "display_data",
          "data": {
            "text/plain": [
              "id                                   56cedd04aab44d1400b88b3c\n",
              "title                                 2008_Sichuan_earthquake\n",
              "context     Rescue efforts performed by the Chinese govern...\n",
              "question    What did a professor at the Peking University ...\n",
              "answers     {'text': ['This is the first time [that] the C...\n",
              "Name: 3702, dtype: object"
            ]
          },
          "metadata": {}
        },
        {
          "output_type": "display_data",
          "data": {
            "text/plain": [
              "id                                   56cedd7daab44d1400b88b4e\n",
              "title                                 2008_Sichuan_earthquake\n",
              "context     As a result of the magnitude 7.9 earthquake an...\n",
              "question                        What formed behind blockages?\n",
              "answers      {'text': ['quake lakes'], 'answer_start': [161]}\n",
              "Name: 3707, dtype: object"
            ]
          },
          "metadata": {}
        },
        {
          "output_type": "display_data",
          "data": {
            "text/plain": [
              "id                                   56ceddf6aab44d1400b88b67\n",
              "title                                 2008_Sichuan_earthquake\n",
              "context     The most precarious of these quake-lakes was t...\n",
              "question    Where was the most precarious quake lake located?\n",
              "answers     {'text': ['Mount Tangjia in Beichuan County, S...\n",
              "Name: 3715, dtype: object"
            ]
          },
          "metadata": {}
        },
        {
          "output_type": "display_data",
          "data": {
            "text/plain": [
              "id                                   56cede78aab44d1400b88b7c\n",
              "title                                 2008_Sichuan_earthquake\n",
              "context     The State Council declared a three-day period ...\n",
              "question                    Who declared the mourning period?\n",
              "answers     {'text': ['The State Council'], 'answer_start'...\n",
              "Name: 3723, dtype: object"
            ]
          },
          "metadata": {}
        },
        {
          "output_type": "display_data",
          "data": {
            "text/plain": [
              "id                                   56cedecdaab44d1400b88b8d\n",
              "title                                 2008_Sichuan_earthquake\n",
              "context     The Ningbo Organizing Committee of the Beijing...\n",
              "question    What was suspended for the duration of the mou...\n",
              "answers     {'text': ['Olympic torch relay'], 'answer_star...\n",
              "Name: 3729, dtype: object"
            ]
          },
          "metadata": {}
        },
        {
          "output_type": "display_data",
          "data": {
            "text/plain": [
              "id                                   56cedf2faab44d1400b88b9d\n",
              "title                                 2008_Sichuan_earthquake\n",
              "context     Many websites converted their home page to bla...\n",
              "question    What colors did many websites convert their ho...\n",
              "answers     {'text': ['black and white'], 'answer_start': ...\n",
              "Name: 3735, dtype: object"
            ]
          },
          "metadata": {}
        },
        {
          "output_type": "display_data",
          "data": {
            "text/plain": [
              "id                                   56cee003aab44d1400b88bb1\n",
              "title                                 2008_Sichuan_earthquake\n",
              "context     Ye Zhiping, the principal of Sangzao Middle Sc...\n",
              "question     Who was the principal of Sangzao Middle School? \n",
              "answers         {'text': ['Ye Zhiping'], 'answer_start': [0]}\n",
              "Name: 3740, dtype: object"
            ]
          },
          "metadata": {}
        },
        {
          "output_type": "display_data",
          "data": {
            "text/plain": [
              "id                                   56cee069aab44d1400b88bbc\n",
              "title                                 2008_Sichuan_earthquake\n",
              "context     However, Reuters reported in June that, to dat...\n",
              "question                      Why were the schools inspected?\n",
              "answers     {'text': ['to gain first-hand material of cons...\n",
              "Name: 3748, dtype: object"
            ]
          },
          "metadata": {}
        },
        {
          "output_type": "display_data",
          "data": {
            "text/plain": [
              "id                                   56cee0eeaab44d1400b88bc3\n",
              "title                                 2008_Sichuan_earthquake\n",
              "context     The New York Times reported that \"government o...\n",
              "question    What was given in exchange of signing the docu...\n",
              "answers            {'text': ['money'], 'answer_start': [553]}\n",
              "Name: 3754, dtype: object"
            ]
          },
          "metadata": {}
        },
        {
          "output_type": "display_data",
          "data": {
            "text/plain": [
              "id                                   56cee14aaab44d1400b88bcb\n",
              "title                                 2008_Sichuan_earthquake\n",
              "context     Besides parents, Liu Shaokun (刘绍坤), a Sichuan ...\n",
              "question                    Who was a Sichuan school teacher?\n",
              "answers       {'text': ['Liu Shaokun'], 'answer_start': [17]}\n",
              "Name: 3761, dtype: object"
            ]
          },
          "metadata": {}
        },
        {
          "output_type": "display_data",
          "data": {
            "text/plain": [
              "id                                   56cee1e4aab44d1400b88be0\n",
              "title                                 2008_Sichuan_earthquake\n",
              "context     In January 2010, Hong Kong-based English newsp...\n",
              "question                       When did the sentencing occur?\n",
              "answers          {'text': ['in 2007'], 'answer_start': [255]}\n",
              "Name: 3768, dtype: object"
            ]
          },
          "metadata": {}
        },
        {
          "output_type": "display_data",
          "data": {
            "text/plain": [
              "id                                   56cee23caab44d1400b88be6\n",
              "title                                 2008_Sichuan_earthquake\n",
              "context     Because of the magnitude of the quake, and the...\n",
              "question                              What did UNICEF report?\n",
              "answers     {'text': ['that China formally requested the s...\n",
              "Name: 3771, dtype: object"
            ]
          },
          "metadata": {}
        },
        {
          "output_type": "display_data",
          "data": {
            "text/plain": [
              "id                                   56cee294aab44d1400b88bec\n",
              "title                                 2008_Sichuan_earthquake\n",
              "context     By May 14, the Ministry of Civil Affairs state...\n",
              "question                        How much did Yao Ming donate?\n",
              "answers     {'text': ['$214,000 and $71,000'], 'answer_sta...\n",
              "Name: 3776, dtype: object"
            ]
          },
          "metadata": {}
        },
        {
          "output_type": "display_data",
          "data": {
            "text/plain": [
              "id                                   56d614dd1c85041400946f06\n",
              "title                                 2008_Sichuan_earthquake\n",
              "context     Francis Marcus of the International Federation...\n",
              "question    What did Francis Marcus say of the Chinese rel...\n",
              "answers     {'text': ['swift and very efficient'], 'answer...\n",
              "Name: 3782, dtype: object"
            ]
          },
          "metadata": {}
        },
        {
          "output_type": "display_data",
          "data": {
            "text/plain": [
              "id                                   56d646091c8504140094705d\n",
              "title                                 2008_Sichuan_earthquake\n",
              "context     All Mainland Chinese television stations (alon...\n",
              "question          What did stations replace programming with?\n",
              "answers     {'text': ['live earthquake footage'], 'answer_...\n",
              "Name: 3787, dtype: object"
            ]
          },
          "metadata": {}
        },
        {
          "output_type": "display_data",
          "data": {
            "text/plain": [
              "id                                   56d6488e1c8504140094706f\n",
              "title                                 2008_Sichuan_earthquake\n",
              "context     Although the Chinese government was initially ...\n",
              "question    What government blocked aid after Cyclone Nargis?\n",
              "answers          {'text': ['Myanmar'], 'answer_start': [113]}\n",
              "Name: 3790, dtype: object"
            ]
          },
          "metadata": {}
        },
        {
          "output_type": "display_data",
          "data": {
            "text/plain": [
              "id                                   56d64c331c85041400947080\n",
              "title                                 2008_Sichuan_earthquake\n",
              "context     On May 29, 2008, government officials began in...\n",
              "question           What did parents accuse builders of doing?\n",
              "answers     {'text': ['cutting corners'], 'answer_start': ...\n",
              "Name: 3793, dtype: object"
            ]
          },
          "metadata": {}
        },
        {
          "output_type": "display_data",
          "data": {
            "text/plain": [
              "id                                   56d650911c8504140094709f\n",
              "title                                 2008_Sichuan_earthquake\n",
              "context     The AP reported that \"The state-controlled med...\n",
              "question                    Who has ignored the school issue?\n",
              "answers     {'text': ['state-controlled media'], 'answer_s...\n",
              "Name: 3796, dtype: object"
            ]
          },
          "metadata": {}
        },
        {
          "output_type": "display_data",
          "data": {
            "text/plain": [
              "id                                   56d65e391c850414009470c4\n",
              "title                                 2008_Sichuan_earthquake\n",
              "context     On May 15, 2008 Geoffery York of the Globeandm...\n",
              "question             Why are the buildings so shoddily built?\n",
              "answers     {'text': ['builders cut corners'], 'answer_sta...\n",
              "Name: 3799, dtype: object"
            ]
          },
          "metadata": {}
        },
        {
          "output_type": "display_data",
          "data": {
            "text/plain": [
              "id                                   56d66c621c8504140094710b\n",
              "title                                 2008_Sichuan_earthquake\n",
              "context     However questions still remain, as some of the...\n",
              "question                 Who has not been brought to justice?\n",
              "answers     {'text': ['corrupt government officials'], 'an...\n",
              "Name: 3802, dtype: object"
            ]
          },
          "metadata": {}
        },
        {
          "output_type": "display_data",
          "data": {
            "text/plain": [
              "id                                   56ce304daab44d1400b8850e\n",
              "title                                           New_York_City\n",
              "context     New York—often called New York City or the Cit...\n",
              "question    What city in the United States has the highest...\n",
              "answers           {'text': ['New York'], 'answer_start': [0]}\n",
              "Name: 3807, dtype: object"
            ]
          },
          "metadata": {}
        },
        {
          "output_type": "display_data",
          "data": {
            "text/plain": [
              "id                                   56ce3124aab44d1400b8852a\n",
              "title                                           New_York_City\n",
              "context     Situated on one of the world's largest natural...\n",
              "question            How many boroughs comprise New York City?\n",
              "answers              {'text': ['five'], 'answer_start': [82]}\n",
              "Name: 3813, dtype: object"
            ]
          },
          "metadata": {}
        },
        {
          "output_type": "display_data",
          "data": {
            "text/plain": [
              "id                                   56ce31baaab44d1400b8853a\n",
              "title                                           New_York_City\n",
              "context     New York City traces its roots to its 1624 fou...\n",
              "question    What was the trading post that preceded New Yo...\n",
              "answers     {'text': ['New Amsterdam'], 'answer_start': [1...\n",
              "Name: 3823, dtype: object"
            ]
          },
          "metadata": {}
        },
        {
          "output_type": "display_data",
          "data": {
            "text/plain": [
              "id                                   56ce32e7aab44d1400b88550\n",
              "title                                           New_York_City\n",
              "context     Many districts and landmarks in New York City ...\n",
              "question          How many tourists visited New York in 2014?\n",
              "answers       {'text': ['56 million'], 'answer_start': [101]}\n",
              "Name: 3832, dtype: object"
            ]
          },
          "metadata": {}
        },
        {
          "output_type": "display_data",
          "data": {
            "text/plain": [
              "id                                   56ce3348aab44d1400b88560\n",
              "title                                           New_York_City\n",
              "context     During the Wisconsinan glaciation, the New Yor...\n",
              "question          What island was once a part of Long Island?\n",
              "answers     {'text': ['Staten Island'], 'answer_start': [3...\n",
              "Name: 3837, dtype: object"
            ]
          },
          "metadata": {}
        },
        {
          "output_type": "display_data",
          "data": {
            "text/plain": [
              "id                                   56ce33aaaab44d1400b8856a\n",
              "title                                           New_York_City\n",
              "context     In the precolonial era, the area of present-da...\n",
              "question            What was the name of the Lenape homeland?\n",
              "answers     {'text': ['Lenapehoking'], 'answer_start': [182]}\n",
              "Name: 3840, dtype: object"
            ]
          },
          "metadata": {}
        },
        {
          "output_type": "display_data",
          "data": {
            "text/plain": [
              "id                                   56ce345caab44d1400b88580\n",
              "title                                           New_York_City\n",
              "context     The first documented visit by a European was i...\n",
              "question    In what year did the first European arrive in ...\n",
              "answers              {'text': ['1524'], 'answer_start': [48]}\n",
              "Name: 3841, dtype: object"
            ]
          },
          "metadata": {}
        },
        {
          "output_type": "display_data",
          "data": {
            "text/plain": [
              "id                                   56ce34c7aab44d1400b88594\n",
              "title                                           New_York_City\n",
              "context     A Spanish expedition led by captain Estêvão Go...\n",
              "question    In what year did a Spanish expedition visit Ne...\n",
              "answers             {'text': ['1525'], 'answer_start': [133]}\n",
              "Name: 3849, dtype: object"
            ]
          },
          "metadata": {}
        },
        {
          "output_type": "display_data",
          "data": {
            "text/plain": [
              "id                                   56ce3569aab44d1400b885aa\n",
              "title                                           New_York_City\n",
              "context     In 1609, English explorer Henry Hudson re-disc...\n",
              "question    What was the name of the explorer who visited ...\n",
              "answers      {'text': ['Henry Hudson'], 'answer_start': [26]}\n",
              "Name: 3856, dtype: object"
            ]
          },
          "metadata": {}
        },
        {
          "output_type": "display_data",
          "data": {
            "text/plain": [
              "id                                   56ce362aaab44d1400b885bc\n",
              "title                                           New_York_City\n",
              "context     The first non-Native American inhabitant of wh...\n",
              "question                       Where was Juan Rodriguez born?\n",
              "answers     {'text': ['Santo Domingo'], 'answer_start': [1...\n",
              "Name: 3864, dtype: object"
            ]
          },
          "metadata": {}
        },
        {
          "output_type": "display_data",
          "data": {
            "text/plain": [
              "id                                   56cedbb9aab44d1400b88b0f\n",
              "title                                           New_York_City\n",
              "context     A permanent European presence in New Netherlan...\n",
              "question    On what island did the Dutch set up a settleme...\n",
              "answers     {'text': ['Governors Island'], 'answer_start':...\n",
              "Name: 3871, dtype: object"
            ]
          },
          "metadata": {}
        },
        {
          "output_type": "display_data",
          "data": {
            "text/plain": [
              "id                                   56cedc10aab44d1400b88b19\n",
              "title                                           New_York_City\n",
              "context     In 1664, Peter Stuyvesant, the Director-Genera...\n",
              "question    What did the English call New Amsterdam after ...\n",
              "answers         {'text': ['New York'], 'answer_start': [190]}\n",
              "Name: 3879, dtype: object"
            ]
          },
          "metadata": {}
        },
        {
          "output_type": "display_data",
          "data": {
            "text/plain": [
              "id                                   56cedc8eaab44d1400b88b23\n",
              "title                                           New_York_City\n",
              "context     On August 24, 1673, Dutch captain Anthonio Col...\n",
              "question    What was the regnal name of the Prince of Orange?\n",
              "answers      {'text': ['William III'], 'answer_start': [164]}\n",
              "Name: 3885, dtype: object"
            ]
          },
          "metadata": {}
        },
        {
          "output_type": "display_data",
          "data": {
            "text/plain": [
              "id                                   56cedd1caab44d1400b88b41\n",
              "title                                           New_York_City\n",
              "context     At the end of the Second Anglo-Dutch War, the ...\n",
              "question    After what war did the English receive New Ams...\n",
              "answers     {'text': ['Second Anglo-Dutch War'], 'answer_s...\n",
              "Name: 3892, dtype: object"
            ]
          },
          "metadata": {}
        },
        {
          "output_type": "display_data",
          "data": {
            "text/plain": [
              "id                                   56ceddd9aab44d1400b88b5f\n",
              "title                                           New_York_City\n",
              "context     New York grew in importance as a trading port ...\n",
              "question    In 1730, what percentage of New York household...\n",
              "answers              {'text': ['42%'], 'answer_start': [132]}\n",
              "Name: 3897, dtype: object"
            ]
          },
          "metadata": {}
        },
        {
          "output_type": "display_data",
          "data": {
            "text/plain": [
              "id                                   56cede40aab44d1400b88b71\n",
              "title                                           New_York_City\n",
              "context     The trial in Manhattan of John Peter Zenger in...\n",
              "question            In what year was John Peter Zenger tried?\n",
              "answers              {'text': ['1735'], 'answer_start': [47]}\n",
              "Name: 3903, dtype: object"
            ]
          },
          "metadata": {}
        },
        {
          "output_type": "display_data",
          "data": {
            "text/plain": [
              "id                                   56cedf11aab44d1400b88b93\n",
              "title                                           New_York_City\n",
              "context     The Battle of Long Island, the largest battle ...\n",
              "question    What was the biggest battle of the American Re...\n",
              "answers     {'text': ['Battle of Long Island'], 'answer_st...\n",
              "Name: 3911, dtype: object"
            ]
          },
          "metadata": {}
        }
      ],
      "source": [
        "counter = 0;\n",
        "total = 0\n",
        "for id, row in data.iterrows():\n",
        "\n",
        "  # This is to convert the content of 'answers' to be map<text,text> so it can be saved into Astra.\n",
        "  converted_answers = dict()\n",
        "  converted_answers['text'] = row.answers['text'][0]\n",
        "  converted_answers['answer_start'] = str(row.answers['answer_start'][0])\n",
        "\n",
        "  # Create Embedding for each conversation row, save them to the database\n",
        "  full_chunk = f\"{row.context} {row.title}\"\n",
        "  embedding = openai.Embedding.create(input=full_chunk, model=model_id)['data'][0]['embedding']\n",
        "\n",
        "  query_cos = SimpleStatement(\n",
        "                f\"\"\"\n",
        "                INSERT INTO squad_cos\n",
        "                (id, title, context, question, answers, title_context_embedding)\n",
        "                VALUES (%s, %s, %s, %s, %s, %s)\n",
        "                \"\"\"\n",
        "            )\n",
        "\n",
        "  query_dp = SimpleStatement(\n",
        "                f\"\"\"\n",
        "                INSERT INTO squad_dp\n",
        "                (id, title, context, question, answers, title_context_embedding)\n",
        "                VALUES (%s, %s, %s, %s, %s, %s)\n",
        "                \"\"\"\n",
        "            )\n",
        "\n",
        "  query_euc = SimpleStatement(\n",
        "                f\"\"\"\n",
        "                INSERT INTO squad_euc\n",
        "                (id, title, context, question, answers, title_context_embedding)\n",
        "                VALUES (%s, %s, %s, %s, %s, %s)\n",
        "                \"\"\"\n",
        "            )\n",
        "\n",
        "  display(row)\n",
        "\n",
        "  session.execute(query_cos, (row.id, row.title, row.context, row.question, converted_answers, embedding))\n",
        "  session.execute(query_dp, (row.id, row.title, row.context, row.question, converted_answers, embedding))\n",
        "  session.execute(query_euc, (row.id, row.title, row.context, row.question, converted_answers, embedding))\n",
        "\n",
        "  # With free trial of openAI, the rate limit is set as 60/per min.  Please set this counter depends on your own rate limit.\n",
        "  counter += 1\n",
        "\n",
        "  # It takes a long time to load all data.  It is set as 300 so it takes a few mins to load.\n",
        "  total += 1\n",
        "\n",
        "  if(total >= 300):\n",
        "    break\n",
        "\n",
        "  # With OpenAPI free trial,  the rate limit is 60 / per min.   So when hit 60 requests,  the program will sleep for 60 seconds.\n",
        "  if (counter >= 300):\n",
        "    counter = 0;\n",
        "    time.sleep(60)\n"
      ]
    },
    {
      "cell_type": "markdown",
      "metadata": {
        "id": "LhPvL09Wo8to"
      },
      "source": [
        "# **Convert a query string into a text embedding to use as part of the query**\n",
        "\n",
        "Provide a question to find out the information of the university that you are interested and see how it works with Vector Search and ChatGPT.\n",
        "\n",
        "Here we use the same API that we used to calculate embeddings for each row in the database, but this time we are using your input question to calculate a vector to use in a query."
      ]
    },
    {
      "cell_type": "code",
      "execution_count": null,
      "metadata": {
        "colab": {
          "base_uri": "https://localhost:8080/",
          "height": 1000
        },
        "id": "1p_F_gUnpBf3",
        "outputId": "3f5b1bb0-4963-47b4-922f-6b936652eb8c"
      },
      "outputs": [
        {
          "output_type": "display_data",
          "data": {
            "text/plain": [
              "[-0.011592327617108822,\n",
              " -0.024977494031190872,\n",
              " -0.0011400480289012194,\n",
              " -0.027979139238595963,\n",
              " -0.002911664079874754,\n",
              " -0.01697763241827488,\n",
              " 0.0024430814664810896,\n",
              " -0.006960829719901085,\n",
              " -0.032189592719078064,\n",
              " 0.006128925830125809,\n",
              " 0.008203592151403427,\n",
              " -0.005117058753967285,\n",
              " 0.03887198865413666,\n",
              " -0.00402030348777771,\n",
              " -0.006828404031693935,\n",
              " -0.0028064027428627014,\n",
              " 0.0013480241177603602,\n",
              " -0.007456576451659203,\n",
              " 0.007959114387631416,\n",
              " 0.026933318004012108,\n",
              " -0.007605979684740305,\n",
              " 0.000877743645105511,\n",
              " 0.006356426049023867,\n",
              " -0.0010212046327069402,\n",
              " 0.0026468129362910986,\n",
              " -0.03572094067931175,\n",
              " 0.027340780943632126,\n",
              " -0.022763609886169434,\n",
              " 0.022600624710321426,\n",
              " -0.018947038799524307,\n",
              " -0.0021001333370804787,\n",
              " -0.016054049134254456,\n",
              " -0.03900780901312828,\n",
              " -0.018322261050343513,\n",
              " -0.030043620616197586,\n",
              " -0.012522702105343342,\n",
              " -0.009337698109447956,\n",
              " 0.0001390043762512505,\n",
              " 0.04403318837285042,\n",
              " 0.02838660217821598,\n",
              " 0.037595272064208984,\n",
              " 0.00550754414871335,\n",
              " -0.00481825228780508,\n",
              " -0.005504148546606302,\n",
              " -0.02075345814228058,\n",
              " 0.012183149345219135,\n",
              " 0.013133897446095943,\n",
              " 0.016638079658150673,\n",
              " -0.004105191677808762,\n",
              " 0.019354501739144325,\n",
              " 0.0022121856454759836,\n",
              " 0.032488398253917694,\n",
              " 0.004964259918779135,\n",
              " -0.014940316788852215,\n",
              " -0.035367805510759354,\n",
              " -0.01902853138744831,\n",
              " -0.018390173092484474,\n",
              " 0.029608992859721184,\n",
              " -0.010030386038124561,\n",
              " -0.03175496682524681,\n",
              " 0.011979417875409126,\n",
              " -0.0038946690037846565,\n",
              " -0.015130466781556606,\n",
              " 0.005358140915632248,\n",
              " -0.00810172688215971,\n",
              " 0.01788763515651226,\n",
              " 0.014464943669736385,\n",
              " -0.010526132769882679,\n",
              " -0.0220301765948534,\n",
              " -0.023673612624406815,\n",
              " 0.023986000567674637,\n",
              " 0.012841882184147835,\n",
              " 0.006271537858992815,\n",
              " -0.0016128751449286938,\n",
              " 0.005656947381794453,\n",
              " -0.006695978343486786,\n",
              " -0.012115239165723324,\n",
              " -0.009948893450200558,\n",
              " -0.0006349635077640414,\n",
              " 0.004923513624817133,\n",
              " 0.0035075789783149958,\n",
              " -0.028359439224004745,\n",
              " 0.0012130518443882465,\n",
              " -0.005870865657925606,\n",
              " -0.004556796979159117,\n",
              " -0.004475303925573826,\n",
              " 0.018200023099780083,\n",
              " 0.034906014800071716,\n",
              " -0.007164561189711094,\n",
              " -0.009188295342028141,\n",
              " 0.0189606212079525,\n",
              " 0.04416901245713234,\n",
              " 0.011762103997170925,\n",
              " 0.011959045194089413,\n",
              " -0.015999721363186836,\n",
              " 0.00029519860981963575,\n",
              " -0.015537929721176624,\n",
              " 0.011537999846041203,\n",
              " 0.04517408832907677,\n",
              " -0.0001282872399315238,\n",
              " -0.01248195581138134,\n",
              " 0.021269578486680984,\n",
              " -0.003565303049981594,\n",
              " -0.011938671581447124,\n",
              " -0.031646307557821274,\n",
              " -0.0258060023188591,\n",
              " 0.001246158266440034,\n",
              " -0.021405400708317757,\n",
              " 0.012020164169371128,\n",
              " -0.002376868622377515,\n",
              " -0.01203374657779932,\n",
              " 0.04332692176103592,\n",
              " -0.0017894424963742495,\n",
              " -0.0016502259531989694,\n",
              " 0.028468094766139984,\n",
              " -0.03919795900583267,\n",
              " 0.016651662066578865,\n",
              " 0.012583822011947632,\n",
              " 0.017615992575883865,\n",
              " -0.011952253989875317,\n",
              " 0.025724509730935097,\n",
              " 0.003281776560470462,\n",
              " 0.02675675041973591,\n",
              " -0.027041973546147346,\n",
              " 0.02275002934038639,\n",
              " -0.010913223028182983,\n",
              " -0.03607407584786415,\n",
              " -0.000855672697070986,\n",
              " 0.011605910025537014,\n",
              " 0.00495067797601223,\n",
              " 0.03305884823203087,\n",
              " -0.019476741552352905,\n",
              " 0.013704345561563969,\n",
              " 0.0003894244728144258,\n",
              " -0.010424266569316387,\n",
              " 0.0146143464371562,\n",
              " -0.01254307571798563,\n",
              " 0.0151847954839468,\n",
              " -0.036753181368112564,\n",
              " -0.033520638942718506,\n",
              " -0.0146143464371562,\n",
              " 0.002015245147049427,\n",
              " -0.014247629791498184,\n",
              " -0.0017054032068699598,\n",
              " -0.011110163293778896,\n",
              " 0.01962614431977272,\n",
              " 0.007076277397572994,\n",
              " 0.020006442442536354,\n",
              " 0.009378444403409958,\n",
              " -0.009405609220266342,\n",
              " 0.010526132769882679,\n",
              " -0.013242553919553757,\n",
              " 0.0001942877861438319,\n",
              " 0.01590464636683464,\n",
              " 0.012977702543139458,\n",
              " -0.0022817938588559628,\n",
              " -0.00655336631461978,\n",
              " 0.009731579571962357,\n",
              " -0.006247769109904766,\n",
              " 0.019177934154868126,\n",
              " -0.01776539534330368,\n",
              " -0.01800987310707569,\n",
              " 0.006217209156602621,\n",
              " 0.00031090292031876743,\n",
              " -0.004495677072554827,\n",
              " 0.023986000567674637,\n",
              " 0.006156089715659618,\n",
              " -0.013344420120120049,\n",
              " -0.0002415068302070722,\n",
              " -0.006933665368705988,\n",
              " -0.012685687281191349,\n",
              " 0.015252705663442612,\n",
              " -0.011741731315851212,\n",
              " -0.007368292659521103,\n",
              " 0.021514056250452995,\n",
              " 0.018458083271980286,\n",
              " 0.005490566603839397,\n",
              " 0.004543214570730925,\n",
              " -0.0292286928743124,\n",
              " -0.01585031859576702,\n",
              " 0.02113375812768936,\n",
              " 0.0004999912925995886,\n",
              " 0.02322540245950222,\n",
              " 0.034417059272527695,\n",
              " -0.029744813218712807,\n",
              " 0.008366577327251434,\n",
              " -0.00586407445371151,\n",
              " 0.020142264664173126,\n",
              " 0.01257023960351944,\n",
              " -0.0028861977625638247,\n",
              " 0.022247491404414177,\n",
              " 0.011035461910068989,\n",
              " 0.0019982673693448305,\n",
              " 0.010600834153592587,\n",
              " -0.6284712553024292,\n",
              " -0.028060631826519966,\n",
              " -0.0017215319676324725,\n",
              " -0.02586033008992672,\n",
              " -0.012285015545785427,\n",
              " 0.033765118569135666,\n",
              " 0.02952750027179718,\n",
              " 0.006268142256885767,\n",
              " -0.020902862772345543,\n",
              " 0.011707776226103306,\n",
              " -0.008719712495803833,\n",
              " 0.009514265693724155,\n",
              " -0.001501671620644629,\n",
              " -0.007497322745621204,\n",
              " -0.00815605465322733,\n",
              " -0.017018379643559456,\n",
              " 0.0054735890589654446,\n",
              " 0.0005836061318404973,\n",
              " 0.027381526306271553,\n",
              " -0.010071132332086563,\n",
              " -0.02873973734676838,\n",
              " 0.01521195936948061,\n",
              " -0.011517626233398914,\n",
              " 0.008305458351969719,\n",
              " -0.0037520569749176502,\n",
              " 0.010363147594034672,\n",
              " 0.008814787492156029,\n",
              " -0.0003476170531939715,\n",
              " -0.00828508473932743,\n",
              " -0.020495397970080376,\n",
              " 0.011320685967803001,\n",
              " 0.014437778852880001,\n",
              " -0.0022478385362774134,\n",
              " 0.004431162495166063,\n",
              " 0.01214919425547123,\n",
              " 0.023537790402770042,\n",
              " -0.0151847954839468,\n",
              " 0.0516120046377182,\n",
              " 0.011116954497992992,\n",
              " 0.02262778952717781,\n",
              " -0.012984493747353554,\n",
              " -0.016760319471359253,\n",
              " -0.0018573530251160264,\n",
              " 0.019408829510211945,\n",
              " -0.00795232318341732,\n",
              " 0.03400959447026253,\n",
              " 0.021106593310832977,\n",
              " -0.01722211204469204,\n",
              " 0.016094796359539032,\n",
              " -0.028848394751548767,\n",
              " 0.010838520713150501,\n",
              " -0.010071132332086563,\n",
              " -0.005117058753967285,\n",
              " -0.012740015983581543,\n",
              " 0.024094657972455025,\n",
              " -0.024868836626410484,\n",
              " 0.015714498236775398,\n",
              " -0.00854993611574173,\n",
              " 0.01523912325501442,\n",
              " -0.008984563872218132,\n",
              " 0.01026128139346838,\n",
              " 0.01872972585260868,\n",
              " -0.0013709438499063253,\n",
              " -0.015103302896022797,\n",
              " 0.011857178993523121,\n",
              " -0.023972418159246445,\n",
              " -0.048270806670188904,\n",
              " -0.015442855656147003,\n",
              " 0.02082137018442154,\n",
              " -0.008386950939893723,\n",
              " 0.005147618241608143,\n",
              " 0.010940386913716793,\n",
              " 0.010193371213972569,\n",
              " 0.018947038799524307,\n",
              " 0.023374805226922035,\n",
              " 0.009256205521523952,\n",
              " 0.015877483412623405,\n",
              " 0.0184309184551239,\n",
              " 0.008828368969261646,\n",
              " 0.0008921746048144996,\n",
              " -0.02003360725939274,\n",
              " -0.013663599267601967,\n",
              " 0.004916722420603037,\n",
              " 0.0075109051540493965,\n",
              " 0.008448069915175438,\n",
              " -0.035992581397295,\n",
              " -0.011470088735222816,\n",
              " -0.006777471397072077,\n",
              " -0.0043632518500089645,\n",
              " 0.01566016860306263,\n",
              " 0.02952750027179718,\n",
              " 0.01890629157423973,\n",
              " 0.002052595838904381,\n",
              " -0.04237617179751396,\n",
              " 0.00843448843806982,\n",
              " 0.046776775270700455,\n",
              " -0.01752091757953167,\n",
              " 0.0005806350382044911,\n",
              " -0.0013879215111956,\n",
              " 0.004241012968122959,\n",
              " -0.019585397094488144,\n",
              " 0.007993069477379322,\n",
              " 0.006723142694681883,\n",
              " -0.03270571306347847,\n",
              " 0.030831381678581238,\n",
              " 0.010471804067492485,\n",
              " 0.014532853849232197,\n",
              " 0.023021670058369637,\n",
              " 0.019775547087192535,\n",
              " -0.019286591559648514,\n",
              " 0.0022529319394379854,\n",
              " 0.006746911443769932,\n",
              " -0.024977494031190872,\n",
              " -0.006101761478930712,\n",
              " -0.02652585506439209,\n",
              " -0.039523929357528687,\n",
              " -0.011938671581447124,\n",
              " 0.013840166851878166,\n",
              " -0.011381804943084717,\n",
              " 0.012821508571505547,\n",
              " 0.0053547453135252,\n",
              " -0.03659019619226456,\n",
              " 0.007096650544553995,\n",
              " 0.0009821561397984624,\n",
              " -0.0026756750885397196,\n",
              " 0.0001931205770233646,\n",
              " -0.007130606099963188,\n",
              " -0.0052698575891554356,\n",
              " -0.020318832248449326,\n",
              " 0.016475094482302666,\n",
              " 0.0005827572895213962,\n",
              " 0.01902853138744831,\n",
              " 0.024882419034838676,\n",
              " -0.01152441743761301,\n",
              " 0.015823153778910637,\n",
              " 0.023537790402770042,\n",
              " -0.004010117147117853,\n",
              " -0.011694193817675114,\n",
              " -0.009188295342028141,\n",
              " -0.0002523300645407289,\n",
              " 0.0008726503583602607,\n",
              " 0.005083103198558092,\n",
              " 0.017656737938523293,\n",
              " 0.00448549073189497,\n",
              " -0.0025585293769836426,\n",
              " 0.0014142368454486132,\n",
              " -0.016719574108719826,\n",
              " 0.019463159143924713,\n",
              " -0.003775825724005699,\n",
              " 0.005140827503055334,\n",
              " 0.014410614967346191,\n",
              " -0.003471926087513566,\n",
              " -0.026960480958223343,\n",
              " 0.0009057567222043872,\n",
              " -0.0012571937404572964,\n",
              " -0.0013344419421628118,\n",
              " -0.007999860681593418,\n",
              " -0.02478734403848648,\n",
              " 0.0001732779637677595,\n",
              " -0.010471804067492485,\n",
              " 0.0016909722471609712,\n",
              " 0.027761826291680336,\n",
              " -0.0251948069781065,\n",
              " 0.005612805485725403,\n",
              " 0.007415830157697201,\n",
              " -0.0016960655339062214,\n",
              " -0.015578676015138626,\n",
              " 0.021649878472089767,\n",
              " -0.007463367655873299,\n",
              " -0.024162568151950836,\n",
              " 0.021106593310832977,\n",
              " 0.005884447600692511,\n",
              " -0.006682396400719881,\n",
              " 0.008658592589199543,\n",
              " 0.004954073578119278,\n",
              " -0.01476375013589859,\n",
              " -0.015999721363186836,\n",
              " -0.016244199126958847,\n",
              " -0.022247491404414177,\n",
              " -0.006125530228018761,\n",
              " -0.0004499072674661875,\n",
              " 0.0015857109101489186,\n",
              " -0.005741835571825504,\n",
              " -0.006383589934557676,\n",
              " 0.017072707414627075,\n",
              " -0.0006111948168836534,\n",
              " 0.013690763153135777,\n",
              " -0.012407254427671432,\n",
              " -0.015565094538033009,\n",
              " 0.021948684006929398,\n",
              " -0.012448000721633434,\n",
              " -0.005592432338744402,\n",
              " -0.007945531979203224,\n",
              " 0.012699269689619541,\n",
              " -0.005405678413808346,\n",
              " 0.005137431900948286,\n",
              " -0.007897995412349701,\n",
              " -0.013901285827159882,\n",
              " 0.01595897600054741,\n",
              " 0.00601687328889966,\n",
              " 0.016407184302806854,\n",
              " 0.011456507258117199,\n",
              " 0.041262440383434296,\n",
              " 0.027530930936336517,\n",
              " 0.0030814404599368572,\n",
              " -0.027096303179860115,\n",
              " 0.009106802754104137,\n",
              " 0.0017368118278682232,\n",
              " 0.03976840898394585,\n",
              " 0.0007156072533689439,\n",
              " -0.010920013301074505,\n",
              " 0.004981237463653088,\n",
              " -0.0186074860394001,\n",
              " -0.029500335454940796,\n",
              " -0.0003357327077537775,\n",
              " 0.027109885588288307,\n",
              " -0.005069521255791187,\n",
              " -0.0025822981260716915,\n",
              " -0.024678688496351242,\n",
              " -0.023075999692082405,\n",
              " 0.010139042511582375,\n",
              " 0.004967655520886183,\n",
              " 0.018444500863552094,\n",
              " -0.007266426924616098,\n",
              " -0.019042113795876503,\n",
              " -0.008230756968259811,\n",
              " -0.03604691103100777,\n",
              " 0.014940316788852215,\n",
              " 0.012142403051257133,\n",
              " -0.05533350259065628,\n",
              " -0.016121961176395416,\n",
              " 0.015918228775262833,\n",
              " -0.00908642914146185,\n",
              " 0.022057341411709785,\n",
              " 0.0261591374874115,\n",
              " 0.020183010026812553,\n",
              " -0.011388596147298813,\n",
              " 0.0025534359738230705,\n",
              " 0.021378235891461372,\n",
              " 0.021323908120393753,\n",
              " 0.019761964678764343,\n",
              " 0.02129674330353737,\n",
              " 0.01697763241827488,\n",
              " 0.009656878188252449,\n",
              " -0.012977702543139458,\n",
              " -0.01915077120065689,\n",
              " 0.015999721363186836,\n",
              " 0.0010025292867794633,\n",
              " -0.005561872851103544,\n",
              " 0.021500473842024803,\n",
              " -0.00010282079165335745,\n",
              " -0.0023683798499405384,\n",
              " 0.005449820309877396,\n",
              " 0.018050620332360268,\n",
              " 0.0111916558817029,\n",
              " -0.016407184302806854,\n",
              " 0.020848533138632774,\n",
              " 0.006967620458453894,\n",
              " 0.009514265693724155,\n",
              " 0.01722211204469204,\n",
              " 0.012461583130061626,\n",
              " 0.019164351746439934,\n",
              " 0.023714357987046242,\n",
              " 0.006424336228519678,\n",
              " 0.012760389596223831,\n",
              " -0.0036977285053581,\n",
              " 0.03066839650273323,\n",
              " 0.022274654358625412,\n",
              " -0.0009083033655770123,\n",
              " -0.010940386913716793,\n",
              " -0.02917436510324478,\n",
              " -0.026417197659611702,\n",
              " -0.004580565262585878,\n",
              " -0.01811853051185608,\n",
              " 0.010227326303720474,\n",
              " -0.007252844981849194,\n",
              " 0.02982630580663681,\n",
              " 0.0022104878444224596,\n",
              " 0.003510974580422044,\n",
              " 0.00885553378611803,\n",
              " -0.00022728806652594358,\n",
              " -0.0030814404599368572,\n",
              " 0.020264502614736557,\n",
              " 0.02389092557132244,\n",
              " -0.008841951377689838,\n",
              " -0.005925193894654512,\n",
              " -0.003100115805864334,\n",
              " 0.01296412106603384,\n",
              " -0.034362729638814926,\n",
              " -0.003072951687499881,\n",
              " 0.020318832248449326,\n",
              " 0.00948031060397625,\n",
              " -0.005955753847956657,\n",
              " 0.0043598562479019165,\n",
              " -0.0005568663473241031,\n",
              " -0.026933318004012108,\n",
              " 0.011225610971450806,\n",
              " -0.039686914533376694,\n",
              " -0.029446007683873177,\n",
              " 0.0020916443318128586,\n",
              " 0.0013573617907240987,\n",
              " 0.00038475560722872615,\n",
              " -0.017561662942171097,\n",
              " -0.018200023099780083,\n",
              " 0.05234543979167938,\n",
              " -0.012407254427671432,\n",
              " 0.0025958800688385963,\n",
              " -0.0022325587924569845,\n",
              " -0.015103302896022797,\n",
              " -0.010668744333088398,\n",
              " 0.029554663226008415,\n",
              " 0.004784297198057175,\n",
              " 0.0006816519889980555,\n",
              " 0.0009745161514729261,\n",
              " -0.0229945071041584,\n",
              " -0.006071201525628567,\n",
              " 0.005341163370758295,\n",
              " 0.0018403754802420735,\n",
              " 0.012352925725281239,\n",
              " -0.016665244475007057,\n",
              " 0.020848533138632774,\n",
              " -0.027503766119480133,\n",
              " -0.024447791278362274,\n",
              " 0.014777331613004208,\n",
              " 0.08670816570520401,\n",
              " 0.017235692590475082,\n",
              " 0.01026128139346838,\n",
              " 0.02124241553246975,\n",
              " 0.018797636032104492,\n",
              " -0.011904716491699219,\n",
              " -0.017846887931227684,\n",
              " -0.03656303137540817,\n",
              " 0.0015763732371851802,\n",
              " -0.004655267111957073,\n",
              " 0.007062695454806089,\n",
              " 0.009385235607624054,\n",
              " 0.02749018371105194,\n",
              " 0.005358140915632248,\n",
              " -0.018648233264684677,\n",
              " 0.005347954574972391,\n",
              " 0.002570413751527667,\n",
              " -0.02754451148211956,\n",
              " -0.0033378025982528925,\n",
              " -0.011157700791954994,\n",
              " -0.015537929721176624,\n",
              " 0.0063666123896837234,\n",
              " 0.03523198515176773,\n",
              " 0.028848394751548767,\n",
              " -0.011001505888998508,\n",
              " -0.022247491404414177,\n",
              " 0.01686897687613964,\n",
              " 0.01434270478785038,\n",
              " 0.013093151152133942,\n",
              " 0.003996534738689661,\n",
              " 0.017453007400035858,\n",
              " -0.0010246001183986664,\n",
              " 0.007524487096816301,\n",
              " -0.003538138698786497,\n",
              " -0.007429412100464106,\n",
              " 0.03941527381539345,\n",
              " 0.016352856531739235,\n",
              " 0.007850457914173603,\n",
              " 0.01223747804760933,\n",
              " 0.006027059629559517,\n",
              " 0.048162151128053665,\n",
              " 0.018525993451476097,\n",
              " -0.003010134445503354,\n",
              " -0.0107977744191885,\n",
              " 0.004743550904095173,\n",
              " -0.028603916987776756,\n",
              " 0.00650922441855073,\n",
              " 0.026661675423383713,\n",
              " 0.003969370853155851,\n",
              " -0.015293451957404613,\n",
              " 0.03580243140459061,\n",
              " -0.010152624920010567,\n",
              " -0.024977494031190872,\n",
              " -0.005106871947646141,\n",
              " 0.0030916270334273577,\n",
              " 0.0015797687228769064,\n",
              " 0.008706130087375641,\n",
              " -0.004149333573877811,\n",
              " 0.0006387834437191486,\n",
              " 4.0401460864814e-05,\n",
              " -0.0342269092798233,\n",
              " -0.019816294312477112,\n",
              " 0.0076806810684502125,\n",
              " -0.017453007400035858,\n",
              " -0.0023955439683049917,\n",
              " -0.03137466683983803,\n",
              " -0.009283369407057762,\n",
              " -0.015768826007843018,\n",
              " -0.02868540957570076,\n",
              " 0.0063767991960048676,\n",
              " -0.0005759662017226219,\n",
              " -0.01787405274808407,\n",
              " -0.04338124766945839,\n",
              " 0.0023514023050665855,\n",
              " 0.018525993451476097,\n",
              " -0.00806777086108923,\n",
              " 0.013975988142192364,\n",
              " 0.005915007553994656,\n",
              " -0.004308923147618771,\n",
              " 0.023198237642645836,\n",
              " -0.0059353807009756565,\n",
              " -0.024271223694086075,\n",
              " -0.010431057773530483,\n",
              " -0.025344211608171463,\n",
              " 0.005881051998585463,\n",
              " 0.01350061409175396,\n",
              " -0.026688840240240097,\n",
              " 0.012407254427671432,\n",
              " 0.007959114387631416,\n",
              " 0.0003533469862304628,\n",
              " 0.0070151579566299915,\n",
              " -0.028712572529911995,\n",
              " 0.0061119478195905685,\n",
              " -0.024637941271066666,\n",
              " -0.011959045194089413,\n",
              " 0.0035720940213650465,\n",
              " 0.004675640258938074,\n",
              " 0.02219316177070141,\n",
              " -0.01764315739274025,\n",
              " -0.01890629157423973,\n",
              " 0.006349634844809771,\n",
              " 0.0115855373442173,\n",
              " 0.00697441166266799,\n",
              " -0.021758534014225006,\n",
              " -0.005191760137677193,\n",
              " 0.029934963211417198,\n",
              " 0.015130466781556606,\n",
              " 0.024230478331446648,\n",
              " -0.0029388281982392073,\n",
              " 0.00628511980175972,\n",
              " 0.04074632003903389,\n",
              " -0.012685687281191349,\n",
              " 0.005969335790723562,\n",
              " 0.00025084451772272587,\n",
              " 0.009887773543596268,\n",
              " 0.0368618369102478,\n",
              " -0.005453215911984444,\n",
              " 0.007748591713607311,\n",
              " -0.014410614967346191,\n",
              " 0.013059195131063461,\n",
              " -0.00725963618606329,\n",
              " -0.004278363659977913,\n",
              " 0.024583613499999046,\n",
              " -0.002361588878557086,\n",
              " -0.02243763953447342,\n",
              " 0.02868540957570076,\n",
              " -0.010485386475920677,\n",
              " -0.017330767586827278,\n",
              " -0.030532576143741608,\n",
              " 0.023904507979750633,\n",
              " -0.009779117070138454,\n",
              " 0.03900780901312828,\n",
              " 0.01908285915851593,\n",
              " -0.030994366854429245,\n",
              " -0.01296412106603384,\n",
              " -0.040230199694633484,\n",
              " 0.006967620458453894,\n",
              " -0.01263135951012373,\n",
              " 0.00908642914146185,\n",
              " -0.026906153187155724,\n",
              " -0.0005615352420136333,\n",
              " -0.017385097220540047,\n",
              " -0.004930304829031229,\n",
              " -0.02754451148211956,\n",
              " -0.013432702980935574,\n",
              " -0.01686897687613964,\n",
              " -0.007965905591845512,\n",
              " -0.02245122194290161,\n",
              " 0.00040576542960479856,\n",
              " 0.007572024594992399,\n",
              " -0.006468478124588728,\n",
              " -0.0073071732185781,\n",
              " 0.0025568315759301186,\n",
              " 0.005867470055818558,\n",
              " -0.024556448683142662,\n",
              " -0.029663320630788803,\n",
              " -0.011857178993523121,\n",
              " -0.009806280955672264,\n",
              " 0.012101656757295132,\n",
              " 0.026199882850050926,\n",
              " 0.031347502022981644,\n",
              " -0.01281471736729145,\n",
              " 0.021160922944545746,\n",
              " 0.012475164607167244,\n",
              " 0.00708306860178709,\n",
              " 0.014546436257660389,\n",
              " -0.014478526078164577,\n",
              " 0.013711136765778065,\n",
              " -0.014913152903318405,\n",
              " 0.006831799633800983,\n",
              " 0.04998215287923813,\n",
              " -0.002106924308463931,\n",
              " 0.00852277223020792,\n",
              " -0.03227108344435692,\n",
              " -0.01925942674279213,\n",
              " 0.0009142455528490245,\n",
              " 0.017792560160160065,\n",
              " -0.0008408172870986164,\n",
              " -0.0026502085383981466,\n",
              " -0.04422333836555481,\n",
              " -0.03726930171251297,\n",
              " 0.01329688262194395,\n",
              " -5.3134685003897175e-05,\n",
              " 0.00615269411355257,\n",
              " -0.00038242118898779154,\n",
              " -0.009032100439071655,\n",
              " 0.01643434911966324,\n",
              " 0.02478734403848648,\n",
              " 0.008319039829075336,\n",
              " 0.0023632864467799664,\n",
              " 0.02459719590842724,\n",
              " -0.024923166260123253,\n",
              " 0.016393601894378662,\n",
              " 0.0023632864467799664,\n",
              " -0.010790984146296978,\n",
              " -0.021459728479385376,\n",
              " -0.02099793590605259,\n",
              " -0.020930025726556778,\n",
              " -0.005337767768651247,\n",
              " -0.003772430121898651,\n",
              " -0.015429273247718811,\n",
              " -0.011762103997170925,\n",
              " 0.010254490189254284,\n",
              " -0.0017223808681592345,\n",
              " -0.012183149345219135,\n",
              " 0.01729002222418785,\n",
              " -0.036943331360816956,\n",
              " -0.008183219470083714,\n",
              " 0.00559582794085145,\n",
              " -0.03917079418897629,\n",
              " 0.0061357165686786175,\n",
              " -0.012013372965157032,\n",
              " -0.03835586830973625,\n",
              " -0.015429273247718811,\n",
              " 0.0337107889354229,\n",
              " 0.00016542580851819366,\n",
              " -0.019721219316124916,\n",
              " 0.012529493309557438,\n",
              " -0.013908077031373978,\n",
              " -0.014410614967346191,\n",
              " 0.010790984146296978,\n",
              " -5.217969373916276e-05,\n",
              " 0.02094360813498497,\n",
              " 0.0045601921156048775,\n",
              " 0.012373299337923527,\n",
              " 0.01806420087814331,\n",
              " 0.004699409008026123,\n",
              " -0.00057978619588539,\n",
              " 0.016950469464063644,\n",
              " 0.030831381678581238,\n",
              " -0.01272643357515335,\n",
              " 0.021500473842024803,\n",
              " 0.022600624710321426,\n",
              " -0.024882419034838676,\n",
              " 0.008699338883161545,\n",
              " -0.00863821990787983,\n",
              " 0.0398498997092247,\n",
              " -0.00337515352293849,\n",
              " -0.016339274123311043,\n",
              " 0.02045465260744095,\n",
              " 0.0016035374719649553,\n",
              " -0.025412121787667274,\n",
              " 0.011938671581447124,\n",
              " -0.011857178993523121,\n",
              " -0.002222372218966484,\n",
              " 0.0007126361597329378,\n",
              " 0.003772430121898651,\n",
              " -0.010397102683782578,\n",
              " -0.028712572529911995,\n",
              " 0.008278293535113335,\n",
              " -0.010010012425482273,\n",
              " 0.008448069915175438,\n",
              " -0.010105087421834469,\n",
              " 0.028549587354063988,\n",
              " 0.013541360385715961,\n",
              " -0.0029948544688522816,\n",
              " 0.00801344309002161,\n",
              " -0.03066839650273323,\n",
              " -0.007354710716754198,\n",
              " 0.010071132332086563,\n",
              " -0.01667882688343525,\n",
              " 0.011870761401951313,\n",
              " -0.0032919631339609623,\n",
              " -0.00725963618606329,\n",
              " -0.006179858464747667,\n",
              " 0.010023594833910465,\n",
              " -0.027340780943632126,\n",
              " 0.010057549923658371,\n",
              " -0.0014821473741903901,\n",
              " 0.021677041426301003,\n",
              " 0.0029490150045603514,\n",
              " 0.0010127158602699637,\n",
              " 0.009453145787119865,\n",
              " -0.0005288532702252269,\n",
              " 0.028006304055452347,\n",
              " -0.015062556602060795,\n",
              " -0.015062556602060795,\n",
              " -0.009106802754104137,\n",
              " -0.021079430356621742,\n",
              " 0.008950607851147652,\n",
              " 0.005745231173932552,\n",
              " -0.0026315331924706697,\n",
              " -0.00559582794085145,\n",
              " 0.006207022815942764,\n",
              " -0.016298528760671616,\n",
              " -0.01897420361638069,\n",
              " 0.0019201702671125531,\n",
              " -0.011571954935789108,\n",
              " -0.029907798394560814,\n",
              " -0.005167991388589144,\n",
              " -0.012278224341571331,\n",
              " -0.027816154062747955,\n",
              " 0.005633178632706404,\n",
              " 0.008420906029641628,\n",
              " -0.0027113279793411493,\n",
              " 0.016475094482302666,\n",
              " 0.0043326918967068195,\n",
              " -0.0002801309456117451,\n",
              " 0.0018573530251160264,\n",
              " 0.013514196500182152,\n",
              " 0.0004668848996516317,\n",
              " 0.0151847954839468,\n",
              " -0.0016994611360132694,\n",
              " 0.013466659002006054,\n",
              " -0.010695909149944782,\n",
              " -0.0019082860089838505,\n",
              " 0.010974342003464699,\n",
              " -0.00852277223020792,\n",
              " -0.010661954060196877,\n",
              " 0.00632926169782877,\n",
              " 0.011286730878055096,\n",
              " -0.003162933047860861,\n",
              " 0.004869185388088226,\n",
              " -0.01853957585990429,\n",
              " 0.0020492002367973328,\n",
              " 0.008543144911527634,\n",
              " 0.023334059864282608,\n",
              " -0.03262421861290932,\n",
              " -0.02838660217821598,\n",
              " 0.007252844981849194,\n",
              " -0.004556796979159117,\n",
              " 0.012203522957861423,\n",
              " 0.019612561911344528,\n",
              " 0.002144275000318885,\n",
              " 0.013038822449743748,\n",
              " 0.015931811183691025,\n",
              " -0.00899814534932375,\n",
              " -0.003884482430294156,\n",
              " -0.01885196380317211,\n",
              " -0.017792560160160065,\n",
              " -0.006855568382889032,\n",
              " -0.007205307483673096,\n",
              " -0.015144049189984798,\n",
              " -0.015293451957404613,\n",
              " -0.025004658848047256,\n",
              " -0.0007351314998231828,\n",
              " -0.0015874087112024426,\n",
              " 0.02184002660214901,\n",
              " 0.008746876381337643,\n",
              " -0.018471665680408478,\n",
              " -0.0037350791972130537,\n",
              " 0.008454861119389534,\n",
              " 0.0022750028874725103,\n",
              " 0.012577030807733536,\n",
              " -0.0032257502898573875,\n",
              " -0.02466510608792305,\n",
              " -0.02622704766690731,\n",
              " -0.007368292659521103,\n",
              " -0.004777505993843079,\n",
              " -0.010200162418186665,\n",
              " -0.007633144035935402,\n",
              " 0.05948962643742561,\n",
              " -0.0035686984192579985,\n",
              " -0.009290160611271858,\n",
              " -0.004213848616927862,\n",
              " 0.0061662765219807625,\n",
              " -0.0075109051540493965,\n",
              " 0.003164630848914385,\n",
              " -0.024040328338742256,\n",
              " 0.01883838139474392,\n",
              " 0.03797556832432747,\n",
              " 0.01769748516380787,\n",
              " -0.0021595549769699574,\n",
              " -0.011999791488051414,\n",
              " -0.039034973829984665,\n",
              " 0.013045613653957844,\n",
              " 0.014668675139546394,\n",
              " 0.014682257547974586,\n",
              " 0.019734801724553108,\n",
              " 0.0018930061487480998,\n",
              " 0.00034846592461690307,\n",
              " 0.010050758719444275,\n",
              " -0.02352420799434185,\n",
              " -0.022274654358625412,\n",
              " 0.02461077645421028,\n",
              " -0.0024176149163395166,\n",
              " 0.01217635814100504,\n",
              " 0.02022375725209713,\n",
              " -0.000717729446478188,\n",
              " 0.013935240916907787,\n",
              " -0.0019116814946755767,\n",
              " -0.005690902471542358,\n",
              " 0.003096720203757286,\n",
              " 0.02873973734676838,\n",
              " 0.019001366570591927,\n",
              " -0.05405678600072861,\n",
              " -0.015442855656147003,\n",
              " -0.02315749228000641,\n",
              " -0.016420766711235046,\n",
              " 0.0011018484365195036,\n",
              " -0.017371514812111855,\n",
              " 0.0030814404599368572,\n",
              " 0.013378375209867954,\n",
              " -0.0063394480384886265,\n",
              " -0.002263118512928486,\n",
              " 0.012651732191443443,\n",
              " 0.005752021912485361,\n",
              " 0.0031850039958953857,\n",
              " 0.012610985897481441,\n",
              " 0.01043784897774458,\n",
              " -0.015048974193632603,\n",
              " 0.009880982339382172,\n",
              " 0.023374805226922035,\n",
              " 0.005212133284658194,\n",
              " -0.01338516641408205,\n",
              " 0.004838625434786081,\n",
              " -0.01368397194892168,\n",
              " 0.010315610095858574,\n",
              " -0.006774075794965029,\n",
              " -0.024081075564026833,\n",
              " 0.010634789243340492,\n",
              " -0.016339274123311043,\n",
              " -0.0020763645879924297,\n",
              " -0.007035531103610992,\n",
              " -0.013358001597225666,\n",
              " -0.028875557705760002,\n",
              " 0.012794344685971737,\n",
              " -0.008923443965613842,\n",
              " 0.0147909140214324,\n",
              " 0.019598979502916336,\n",
              " -0.03270571306347847,\n",
              " 0.0018403754802420735,\n",
              " -0.0019354502437636256,\n",
              " -0.0002939252881333232,\n",
              " -0.03170063719153404,\n",
              " -0.006875941529870033,\n",
              " 0.013425912708044052,\n",
              " -0.01590464636683464,\n",
              " -0.046668119728565216,\n",
              " 0.0421316958963871,\n",
              " -0.03601974621415138,\n",
              " -0.012420836836099625,\n",
              " 0.0015831643249839544,\n",
              " 0.00038157231756486,\n",
              " 0.0047707147896289825,\n",
              " 0.012223895639181137,\n",
              " 0.21981281042099,\n",
              " 0.009174712933599949,\n",
              " -0.0005568663473241031,\n",
              " 0.020386742427945137,\n",
              " -0.02261420711874962,\n",
              " -0.017059125006198883,\n",
              " 0.016189871355891228,\n",
              " 0.005823328159749508,\n",
              " -0.034824520349502563,\n",
              " 0.034906014800071716,\n",
              " -0.017833305522799492,\n",
              " 0.014356286264955997,\n",
              " -0.04226751625537872,\n",
              " 0.00648206053301692,\n",
              " 0.002522876253351569,\n",
              " 0.0077078454196453094,\n",
              " -0.03477019444108009,\n",
              " -0.03841019794344902,\n",
              " -0.022831521928310394,\n",
              " 0.03955109417438507,\n",
              " 0.00019662221893668175,\n",
              " -0.015130466781556606,\n",
              " -0.012155985459685326,\n",
              " -0.036155566573143005,\n",
              " 0.023660030215978622,\n",
              " 0.020087935030460358,\n",
              " -0.004200266674160957,\n",
              " 0.01685539446771145,\n",
              " 0.03580243140459061,\n",
              " 0.0047673191875219345,\n",
              " -0.003514370182529092,\n",
              " 0.014247629791498184,\n",
              " -0.00023365467495750636,\n",
              " 0.010852103121578693,\n",
              " -0.011402178555727005,\n",
              " -0.0043292962945997715,\n",
              " 0.0012155985459685326,\n",
              " -0.014695839025080204,\n",
              " -0.008142473176121712,\n",
              " 0.0039489977061748505,\n",
              " -0.013697554357349873,\n",
              " -0.012651732191443443,\n",
              " 0.005762208718806505,\n",
              " -0.018403753638267517,\n",
              " -0.025004658848047256,\n",
              " -0.00025275451480410993,\n",
              " ...]"
            ]
          },
          "metadata": {}
        }
      ],
      "source": [
        "# Question to find out the information that you need.\n",
        "customer_input = \"when was the college of engineering in the University of Notre Dame established?\"\n",
        "\n",
        "# Create embedding based on same model\n",
        "embedding = openai.Embedding.create(input=customer_input, model=model_id)['data'][0]['embedding']\n",
        "display(embedding)"
      ]
    },
    {
      "cell_type": "code",
      "source": [],
      "metadata": {
        "id": "buAsS9kufINy"
      },
      "execution_count": null,
      "outputs": []
    },
    {
      "cell_type": "code",
      "execution_count": null,
      "metadata": {
        "colab": {
          "base_uri": "https://localhost:8080/",
          "height": 1000
        },
        "outputId": "9e588263-e7a1-48f9-d6ed-175c733a9c90",
        "id": "H9FV3U9afIjv"
      },
      "outputs": [
        {
          "output_type": "display_data",
          "data": {
            "text/plain": [
              "[0.0035997226368635893,\n",
              " 0.009586001746356487,\n",
              " -0.013364716432988644,\n",
              " -0.01302662119269371,\n",
              " -0.03555969148874283,\n",
              " 0.005336605478078127,\n",
              " -0.00750439427793026,\n",
              " 0.035321034491062164,\n",
              " -0.010434554889798164,\n",
              " -0.004809574224054813,\n",
              " -0.00532666128128767,\n",
              " 0.011389178223907948,\n",
              " -0.015724755823612213,\n",
              " 0.009811398573219776,\n",
              " 0.0019473638385534286,\n",
              " 0.023706460371613503,\n",
              " 0.023706460371613503,\n",
              " 0.00820047315210104,\n",
              " 0.004955419339239597,\n",
              " -0.01925155520439148,\n",
              " 0.0035135415382683277,\n",
              " -0.0017352254362776875,\n",
              " -0.012966956943273544,\n",
              " -0.005207333713769913,\n",
              " 0.004040572792291641,\n",
              " 0.028187884017825127,\n",
              " 0.009983761236071587,\n",
              " -0.018973123282194138,\n",
              " -0.0061387536115944386,\n",
              " -0.022115424275398254,\n",
              " 0.021386198699474335,\n",
              " -0.011488617397844791,\n",
              " -0.013165836222469807,\n",
              " -0.013682924211025238,\n",
              " -0.02228778600692749,\n",
              " 0.007663498166948557,\n",
              " -0.016042962670326233,\n",
              " -0.011568170040845871,\n",
              " 0.021041473373770714,\n",
              " 0.005850377958267927,\n",
              " 0.008644637651741505,\n",
              " 0.006503366399556398,\n",
              " 0.02513839490711689,\n",
              " -0.03235109895467758,\n",
              " -0.02367994375526905,\n",
              " 8.685449574841186e-05,\n",
              " -0.006874608341604471,\n",
              " -0.022552959620952606,\n",
              " -0.0025141709484159946,\n",
              " 0.01760748401284218,\n",
              " 0.027684055268764496,\n",
              " 0.018005242571234703,\n",
              " -0.004912328906357288,\n",
              " -0.02178395725786686,\n",
              " -0.01886705495417118,\n",
              " -0.008399353362619877,\n",
              " -0.02972588688135147,\n",
              " -0.012483016587793827,\n",
              " -0.014027648605406284,\n",
              " -0.005558687727898359,\n",
              " 0.009009250439703465,\n",
              " 0.004842720925807953,\n",
              " -0.016122514382004738,\n",
              " -0.0050482298247516155,\n",
              " -0.008021481335163116,\n",
              " 0.01066658180207014,\n",
              " -0.00873744860291481,\n",
              " -0.01893334835767746,\n",
              " -0.001291889464482665,\n",
              " 0.001218966906890273,\n",
              " -0.0035665761679410934,\n",
              " 0.015260702930390835,\n",
              " -0.013477414846420288,\n",
              " 0.0045178839936852455,\n",
              " 0.01678544655442238,\n",
              " -0.014677322469651699,\n",
              " -0.03985549136996269,\n",
              " -0.008352947421371937,\n",
              " -0.030574440956115723,\n",
              " -0.007192816119641066,\n",
              " 0.03052140586078167,\n",
              " -0.008220361545681953,\n",
              " -0.018575364723801613,\n",
              " 0.0036129814106971025,\n",
              " 0.007404954172670841,\n",
              " -0.013828769326210022,\n",
              " -0.009930727072060108,\n",
              " 0.005323346704244614,\n",
              " -0.01032185647636652,\n",
              " 0.002739568008109927,\n",
              " 0.004594121128320694,\n",
              " 0.04762506112456322,\n",
              " 0.02684875950217247,\n",
              " 0.026132794097065926,\n",
              " 0.009751735255122185,\n",
              " 0.012038851156830788,\n",
              " -0.012622231617569923,\n",
              " 0.0025688628666102886,\n",
              " -0.00303954491391778,\n",
              " -0.020603938028216362,\n",
              " -0.0022771726362407207,\n",
              " -0.006526568904519081,\n",
              " -0.013510561548173428,\n",
              " -0.018654916435480118,\n",
              " -0.004086977802217007,\n",
              " 0.002976566320285201,\n",
              " 0.0004230337217450142,\n",
              " -0.001930790487676859,\n",
              " 0.01827041618525982,\n",
              " 0.004567604046314955,\n",
              " 0.0039013568311929703,\n",
              " 0.014756874181330204,\n",
              " 0.012038851156830788,\n",
              " -0.03704465925693512,\n",
              " 0.014597770757973194,\n",
              " -0.007153040263801813,\n",
              " 0.002830721205100417,\n",
              " -0.008306542411446571,\n",
              " 0.01500878855586052,\n",
              " -0.02016640268266201,\n",
              " 0.03593093529343605,\n",
              " 0.013212242163717747,\n",
              " 0.011157151311635971,\n",
              " -0.025788068771362305,\n",
              " 0.008856776170432568,\n",
              " 0.005750938318669796,\n",
              " -0.02418377250432968,\n",
              " -0.02447546273469925,\n",
              " -0.0013797279680147767,\n",
              " -0.01687825843691826,\n",
              " 0.03850311040878296,\n",
              " -0.011143893003463745,\n",
              " 0.025430085137486458,\n",
              " 0.0018959864974021912,\n",
              " -0.02386556565761566,\n",
              " 0.029672851786017418,\n",
              " 0.0023136339150369167,\n",
              " 0.01321887131780386,\n",
              " 0.005787399597465992,\n",
              " -0.004315689671784639,\n",
              " 0.016891516745090485,\n",
              " 0.021585077047348022,\n",
              " 0.0063939825631678104,\n",
              " 0.017779845744371414,\n",
              " -0.010785909369587898,\n",
              " 0.010467701591551304,\n",
              " 0.0096058901399374,\n",
              " -0.008744077757000923,\n",
              " 0.003341179108247161,\n",
              " -0.025695258751511574,\n",
              " -0.006516625173389912,\n",
              " 0.02463456615805626,\n",
              " 0.01162120420485735,\n",
              " -0.00747124757617712,\n",
              " 0.014836425893008709,\n",
              " 0.0012496274430304766,\n",
              " 0.0056514982134103775,\n",
              " 0.01557891070842743,\n",
              " -0.022552959620952606,\n",
              " -0.025602446869015694,\n",
              " 0.0061818440444767475,\n",
              " -0.008584974333643913,\n",
              " 0.003699162509292364,\n",
              " -0.0051576136611402035,\n",
              " -0.0011775336461141706,\n",
              " 0.04279891401529312,\n",
              " 0.013855285942554474,\n",
              " 0.04340881109237671,\n",
              " -0.032404132187366486,\n",
              " -0.003967650234699249,\n",
              " 0.007716532796621323,\n",
              " 0.004494681488722563,\n",
              " -0.030972199514508247,\n",
              " 0.018814019858837128,\n",
              " 0.011375918984413147,\n",
              " -0.00035756913712248206,\n",
              " -0.02390534058213234,\n",
              " -0.0037389385979622602,\n",
              " -0.007723161950707436,\n",
              " -0.027949228882789612,\n",
              " 0.00221585133112967,\n",
              " 0.026079759001731873,\n",
              " -0.02010010927915573,\n",
              " 0.025125136598944664,\n",
              " 0.0007797741563990712,\n",
              " -0.00018095981795340776,\n",
              " 0.0007532568997703493,\n",
              " -0.024555014446377754,\n",
              " -0.008180585689842701,\n",
              " -0.007153040263801813,\n",
              " -0.006304486654698849,\n",
              " 0.024608049541711807,\n",
              " 0.008717560209333897,\n",
              " -0.006463590543717146,\n",
              " -0.6415063738822937,\n",
              " -0.00955948419868946,\n",
              " -0.01174716092646122,\n",
              " -0.016255101189017296,\n",
              " 0.042189013212919235,\n",
              " 0.009320829063653946,\n",
              " 0.017488155514001846,\n",
              " 0.018336709588766098,\n",
              " 0.0019158745417371392,\n",
              " -0.008213731460273266,\n",
              " -0.0056514982134103775,\n",
              " 0.009930727072060108,\n",
              " 0.029646335169672966,\n",
              " -0.00426596961915493,\n",
              " -0.0249129980802536,\n",
              " -0.040226735174655914,\n",
              " 0.0025754922535270452,\n",
              " -0.0025456601288169622,\n",
              " 0.0035566319711506367,\n",
              " 0.0025423455517739058,\n",
              " 0.005803972948342562,\n",
              " 0.009897580370306969,\n",
              " 0.00986443366855383,\n",
              " -0.019397400319576263,\n",
              " 0.018389742821455002,\n",
              " -0.0013432666892185807,\n",
              " -0.0036958479322493076,\n",
              " -0.018403002992272377,\n",
              " 0.00747124757617712,\n",
              " 0.0040902928449213505,\n",
              " -0.02808181382715702,\n",
              " 0.024077702313661575,\n",
              " 0.01893334835767746,\n",
              " -0.005562002304941416,\n",
              " 0.05489080026745796,\n",
              " 0.018946606665849686,\n",
              " -0.012403463944792747,\n",
              " 0.02013988420367241,\n",
              " -0.008836888708174229,\n",
              " 0.05271638184785843,\n",
              " -0.019105710089206696,\n",
              " -0.013682924211025238,\n",
              " 0.02434287592768669,\n",
              " 0.003119096625596285,\n",
              " -0.011720644310116768,\n",
              " 0.026238862425088882,\n",
              " 0.019795160740613937,\n",
              " 0.0026003520470112562,\n",
              " -0.01662634313106537,\n",
              " 0.02130664512515068,\n",
              " 0.01738208718597889,\n",
              " 0.006450331769883633,\n",
              " -0.012608973309397697,\n",
              " 0.0016589881852269173,\n",
              " -0.005306773353368044,\n",
              " -0.004938845988363028,\n",
              " 0.013682924211025238,\n",
              " -0.007716532796621323,\n",
              " 0.0020385170355439186,\n",
              " 0.013987872749567032,\n",
              " 0.004534457344561815,\n",
              " 0.02475389465689659,\n",
              " -0.03916604444384575,\n",
              " 0.009950614534318447,\n",
              " 0.003596408059820533,\n",
              " 0.03720376268029213,\n",
              " -0.011839971877634525,\n",
              " 0.022022612392902374,\n",
              " 0.005847063381224871,\n",
              " -0.007756308652460575,\n",
              " 0.021134283393621445,\n",
              " 0.007815972901880741,\n",
              " -0.011594686657190323,\n",
              " 0.0010557197965681553,\n",
              " 0.002409759210422635,\n",
              " 0.027657538652420044,\n",
              " 0.010295339860022068,\n",
              " -0.012323912233114243,\n",
              " -0.01557891070842743,\n",
              " -0.018880313262343407,\n",
              " -0.0044515905901789665,\n",
              " 0.006582918111234903,\n",
              " 0.00997050292789936,\n",
              " -0.021386198699474335,\n",
              " 0.02666313946247101,\n",
              " 0.015300478786230087,\n",
              " -0.01899964176118374,\n",
              " -0.00626139622181654,\n",
              " 0.016891516745090485,\n",
              " 0.0014940837863832712,\n",
              " 0.009678812697529793,\n",
              " 0.02406444400548935,\n",
              " 0.0038682103622704744,\n",
              " -0.0016714181983843446,\n",
              " -0.010759391821920872,\n",
              " -0.006695616990327835,\n",
              " -0.016135772690176964,\n",
              " 0.01656004972755909,\n",
              " 0.012708413414657116,\n",
              " -0.015684979036450386,\n",
              " 0.0051145232282578945,\n",
              " -0.011846601031720638,\n",
              " 0.006098977755755186,\n",
              " 0.008299913257360458,\n",
              " -0.007935300469398499,\n",
              " -0.020219435915350914,\n",
              " -0.013132689520716667,\n",
              " 0.0167191531509161,\n",
              " 0.034048207104206085,\n",
              " -0.04232160001993179,\n",
              " -0.021744180470705032,\n",
              " -0.008260137401521206,\n",
              " -0.018098052591085434,\n",
              " -0.007590575609356165,\n",
              " 0.007013824302703142,\n",
              " -0.025058843195438385,\n",
              " 0.01801850087940693,\n",
              " 0.003150586038827896,\n",
              " -0.0016092682490125299,\n",
              " -0.036010485142469406,\n",
              " 0.020696748048067093,\n",
              " 0.013497302308678627,\n",
              " -0.01934436522424221,\n",
              " -0.031396474689245224,\n",
              " -0.0062481374479830265,\n",
              " 0.011203557252883911,\n",
              " -0.034021686762571335,\n",
              " -0.02675594948232174,\n",
              " 0.006659155711531639,\n",
              " 0.019715609028935432,\n",
              " -0.006340947933495045,\n",
              " -0.010116348043084145,\n",
              " 0.00036647729575634,\n",
              " 0.0006637609913013875,\n",
              " 0.01703736186027527,\n",
              " -0.00045452298945747316,\n",
              " 0.004352150950580835,\n",
              " -0.002666645450517535,\n",
              " 0.012211213819682598,\n",
              " -0.005323346704244614,\n",
              " -0.004219564609229565,\n",
              " 0.0034638214856386185,\n",
              " 0.01760748401284218,\n",
              " -0.0031091526616364717,\n",
              " 0.0029285037890076637,\n",
              " -0.024515237659215927,\n",
              " 0.02374623715877533,\n",
              " -0.009943985380232334,\n",
              " -0.004756539594382048,\n",
              " 0.0028605530969798565,\n",
              " 0.014730356633663177,\n",
              " -0.023321960121393204,\n",
              " -0.025111878290772438,\n",
              " 0.021505525335669518,\n",
              " 0.02413073740899563,\n",
              " 0.0004955419572070241,\n",
              " -0.013682924211025238,\n",
              " -0.004130068700760603,\n",
              " 0.008883293718099594,\n",
              " -0.005939873866736889,\n",
              " 0.002444562967866659,\n",
              " 0.004892440978437662,\n",
              " -0.014491701498627663,\n",
              " -0.015353512950241566,\n",
              " 0.021107766777276993,\n",
              " 0.006347577087581158,\n",
              " 0.014677322469651699,\n",
              " 0.007948558777570724,\n",
              " -0.02605324238538742,\n",
              " -0.010772651061415672,\n",
              " 0.010838944464921951,\n",
              " -0.005518911872059107,\n",
              " 0.0008510394254699349,\n",
              " 0.007842489518225193,\n",
              " 0.008127550594508648,\n",
              " 0.016599826514720917,\n",
              " -0.0011004677508026361,\n",
              " -0.009353975765407085,\n",
              " 0.020219435915350914,\n",
              " 0.022844649851322174,\n",
              " 0.012708413414657116,\n",
              " -0.014557994902133942,\n",
              " -0.01567172072827816,\n",
              " 0.0015264017274603248,\n",
              " 0.036673419177532196,\n",
              " 0.00854519847780466,\n",
              " -0.0032931165769696236,\n",
              " 0.02871822938323021,\n",
              " -0.017421862110495567,\n",
              " 0.006980677600950003,\n",
              " 0.01125659141689539,\n",
              " 0.0011311282869428396,\n",
              " -0.00823361985385418,\n",
              " 0.0006418013945221901,\n",
              " 0.03622262552380562,\n",
              " 0.007630351465195417,\n",
              " -0.0031290408223867416,\n",
              " 0.01188637688755989,\n",
              " 0.0118267135694623,\n",
              " 0.016507016494870186,\n",
              " 0.011362660676240921,\n",
              " 0.011203557252883911,\n",
              " 0.003397528314962983,\n",
              " -0.025907397270202637,\n",
              " 0.01567172072827816,\n",
              " -0.0408366322517395,\n",
              " 0.002479366958141327,\n",
              " -0.02589413709938526,\n",
              " 0.046246159821748734,\n",
              " 0.0062282495200634,\n",
              " -0.002562233479693532,\n",
              " -0.01351719070225954,\n",
              " -0.0022440259344875813,\n",
              " -0.002643442712724209,\n",
              " 0.02251318283379078,\n",
              " 0.019132228568196297,\n",
              " 0.0018512385431677103,\n",
              " -0.014690580777823925,\n",
              " -0.0013805566122755408,\n",
              " -0.011442212387919426,\n",
              " 0.025125136598944664,\n",
              " 0.024011410772800446,\n",
              " 0.0035831492859870195,\n",
              " 0.0016946208197623491,\n",
              " -0.018310191109776497,\n",
              " 0.022884424775838852,\n",
              " -0.005353178828954697,\n",
              " -0.017594223842024803,\n",
              " -0.004103551153093576,\n",
              " -0.010613546706736088,\n",
              " -0.005399583838880062,\n",
              " 0.013961355201900005,\n",
              " 0.004826147574931383,\n",
              " 0.017329052090644836,\n",
              " -0.00908880215138197,\n",
              " 0.0008593260427005589,\n",
              " 0.017103655263781548,\n",
              " -0.00843912921845913,\n",
              " 0.016162291169166565,\n",
              " 0.010759391821920872,\n",
              " -0.016944551840424538,\n",
              " 0.006874608341604471,\n",
              " -0.012396834790706635,\n",
              " -0.004617323633283377,\n",
              " 0.02700786478817463,\n",
              " 0.022897683084011078,\n",
              " 0.022075647488236427,\n",
              " 0.005512282717972994,\n",
              " 0.009857804514467716,\n",
              " 0.019172003492712975,\n",
              " 0.00013766204938292503,\n",
              " 0.002242368645966053,\n",
              " -0.017687035724520683,\n",
              " 0.012151550501585007,\n",
              " -0.01779310405254364,\n",
              " -0.010931754484772682,\n",
              " 0.008306542411446571,\n",
              " 0.013006732799112797,\n",
              " -0.026225604116916656,\n",
              " 0.008472275920212269,\n",
              " 0.01178030762821436,\n",
              " -0.03155558183789253,\n",
              " 0.016546791419386864,\n",
              " -0.001839637290686369,\n",
              " 0.011150522157549858,\n",
              " -0.016507016494870186,\n",
              " -0.019795160740613937,\n",
              " -0.012483016587793827,\n",
              " -0.009837916120886803,\n",
              " -0.007404954172670841,\n",
              " -0.031290408223867416,\n",
              " 0.002812490565702319,\n",
              " 0.0037654556799679995,\n",
              " -0.009161724708974361,\n",
              " -0.006861350033432245,\n",
              " -0.009539596736431122,\n",
              " 0.01719646528363228,\n",
              " 0.0033444936852902174,\n",
              " -0.01264874916523695,\n",
              " -0.019052674993872643,\n",
              " 0.0128409992903471,\n",
              " -0.0440187081694603,\n",
              " 0.010142864659428596,\n",
              " 0.038290973752737045,\n",
              " -0.012695154175162315,\n",
              " -0.013351457193493843,\n",
              " -0.010633435100317001,\n",
              " -0.010918496176600456,\n",
              " -0.039563801139593124,\n",
              " 0.011349402368068695,\n",
              " 0.018853796645998955,\n",
              " 0.03789321333169937,\n",
              " -0.018190864473581314,\n",
              " -0.02041831612586975,\n",
              " -0.003662701230496168,\n",
              " 0.01534025464206934,\n",
              " 0.01443866640329361,\n",
              " -0.005131096579134464,\n",
              " -0.004428388085216284,\n",
              " -0.037946246564388275,\n",
              " 0.0011178696295246482,\n",
              " 0.010792538523674011,\n",
              " -0.015075081959366798,\n",
              " -0.012502904050052166,\n",
              " 0.03776062652468681,\n",
              " 0.00320527795702219,\n",
              " -0.00833968911319971,\n",
              " -0.01172727346420288,\n",
              " 0.006397297140210867,\n",
              " -0.032085925340652466,\n",
              " -0.009148466400802135,\n",
              " -0.01576453074812889,\n",
              " -0.025589188560843468,\n",
              " -0.010978159494698048,\n",
              " 0.015777790918946266,\n",
              " 0.0011195270344614983,\n",
              " 0.005253738723695278,\n",
              " -0.0051277815364301205,\n",
              " 0.040863148868083954,\n",
              " -0.008492163382470608,\n",
              " -0.012098515406250954,\n",
              " -0.012874145992100239,\n",
              " -0.012874145992100239,\n",
              " 0.002305347239598632,\n",
              " 0.13523820042610168,\n",
              " -0.01113063469529152,\n",
              " -0.017421862110495567,\n",
              " 0.018389742821455002,\n",
              " 0.03441944718360901,\n",
              " -0.01247638650238514,\n",
              " -0.014491701498627663,\n",
              " 0.006331004202365875,\n",
              " 0.015631945803761482,\n",
              " -0.0018777558580040932,\n",
              " 0.006761909928172827,\n",
              " -0.012005705386400223,\n",
              " 0.0036494426894932985,\n",
              " 0.01125659141689539,\n",
              " -0.0063210600055754185,\n",
              " -0.012973586097359657,\n",
              " -0.017713552340865135,\n",
              " -0.02336173690855503,\n",
              " 0.0036660158075392246,\n",
              " -0.008180585689842701,\n",
              " -0.04274587705731392,\n",
              " 0.00444827601313591,\n",
              " 0.033067066222429276,\n",
              " 0.024104220792651176,\n",
              " 0.0025406882632523775,\n",
              " -0.015751272439956665,\n",
              " 0.029938025400042534,\n",
              " 0.01943717710673809,\n",
              " 0.006115551106631756,\n",
              " -0.018760984763503075,\n",
              " 0.016281617805361748,\n",
              " -0.007590575609356165,\n",
              " -0.010978159494698048,\n",
              " -0.0010076571488752961,\n",
              " 0.0019722238648682833,\n",
              " 0.00497862184420228,\n",
              " -0.003397528314962983,\n",
              " 0.022486666217446327,\n",
              " 0.0074182129465043545,\n",
              " -0.002626869361847639,\n",
              " 0.002885413123294711,\n",
              " -0.003652757266536355,\n",
              " 0.02593391388654709,\n",
              " -0.03805231675505638,\n",
              " 0.0005647354992106557,\n",
              " 0.007663498166948557,\n",
              " -0.00892969872802496,\n",
              " 0.028028780594468117,\n",
              " -0.004279228392988443,\n",
              " -0.010580400004982948,\n",
              " 0.0015868942718952894,\n",
              " -0.020338764414191246,\n",
              " 0.030309267342090607,\n",
              " 0.0007992478203959763,\n",
              " -0.022486666217446327,\n",
              " -0.009711959399282932,\n",
              " -0.003970964811742306,\n",
              " -0.009526337496936321,\n",
              " -0.002131327521055937,\n",
              " 0.015486099757254124,\n",
              " 0.0014683951158076525,\n",
              " -0.015472841449081898,\n",
              " -0.006331004202365875,\n",
              " -0.013656406663358212,\n",
              " 0.006019425578415394,\n",
              " -0.02773709036409855,\n",
              " -0.007186186499893665,\n",
              " -0.03577182814478874,\n",
              " -0.02472737617790699,\n",
              " -0.02409096248447895,\n",
              " 0.021956318989396095,\n",
              " -0.004935531411319971,\n",
              " -0.012357058934867382,\n",
              " 0.011574799194931984,\n",
              " 0.03357089310884476,\n",
              " 0.02399815060198307,\n",
              " 0.024037927389144897,\n",
              " 0.009857804514467716,\n",
              " 0.008691043592989445,\n",
              " -0.005088005680590868,\n",
              " 0.003606352023780346,\n",
              " -0.016599826514720917,\n",
              " 0.003095894120633602,\n",
              " -0.035161931067705154,\n",
              " 0.0017750014085322618,\n",
              " -0.001912559848278761,\n",
              " -0.001949021127074957,\n",
              " 0.0007644438883289695,\n",
              " -0.02155856043100357,\n",
              " 0.002656701486557722,\n",
              " 0.0037687704898416996,\n",
              " -0.010109717957675457,\n",
              " -0.008870034478604794,\n",
              " -0.023732978850603104,\n",
              " -0.025509636849164963,\n",
              " 0.024515237659215927,\n",
              " 0.015194409526884556,\n",
              " 0.012403463944792747,\n",
              " 0.01950347051024437,\n",
              " 0.00020519827376119792,\n",
              " -0.01370944082736969,\n",
              " -5.039321695221588e-05,\n",
              " 0.0138818034902215,\n",
              " -0.011289738118648529,\n",
              " -0.02080281637609005,\n",
              " 0.010361632332205772,\n",
              " 0.0010872090933844447,\n",
              " 0.015141375362873077,\n",
              " -0.011773678474128246,\n",
              " 0.0034041577018797398,\n",
              " 0.022818131372332573,\n",
              " -0.009997019544243813,\n",
              " 0.044496018439531326,\n",
              " -0.012562568299472332,\n",
              " 0.020206177607178688,\n",
              " 0.021346421912312508,\n",
              " 0.025430085137486458,\n",
              " 0.026477517560124397,\n",
              " -0.01073287520557642,\n",
              " 0.005770826246589422,\n",
              " 0.0015148004749789834,\n",
              " -0.0188007615506649,\n",
              " 0.0220358707010746,\n",
              " 0.015486099757254124,\n",
              " -0.036991626024246216,\n",
              " 0.012920551933348179,\n",
              " -0.0006948359659872949,\n",
              " -0.02386556565761566,\n",
              " -0.012005705386400223,\n",
              " 0.013039879500865936,\n",
              " -0.00607908982783556,\n",
              " 0.036461278796195984,\n",
              " -0.006914384663105011,\n",
              " -0.031449511647224426,\n",
              " -0.049560822546482086,\n",
              " -0.017846139147877693,\n",
              " -0.0062183053232729435,\n",
              " 0.03054792247712612,\n",
              " -0.0019606223795562983,\n",
              " 0.00946667417883873,\n",
              " -0.019052674993872643,\n",
              " -0.015950152650475502,\n",
              " 0.005727735348045826,\n",
              " -0.017103655263781548,\n",
              " -0.01178030762821436,\n",
              " -0.03725679963827133,\n",
              " 0.004173159133642912,\n",
              " 0.0010026851668953896,\n",
              " 0.0068083154037594795,\n",
              " 0.006679043639451265,\n",
              " -0.007789455354213715,\n",
              " 0.010388149879872799,\n",
              " 6.230528379091993e-05,\n",
              " -0.031926821917295456,\n",
              " -0.00040583888767287135,\n",
              " -0.009015879593789577,\n",
              " 0.006118865683674812,\n",
              " -0.0011667609214782715,\n",
              " 0.02146575041115284,\n",
              " 0.011806825175881386,\n",
              " 0.03723027929663658,\n",
              " 0.009586001746356487,\n",
              " 0.025469861924648285,\n",
              " 0.017806362360715866,\n",
              " 0.003543373430147767,\n",
              " 0.008883293718099594,\n",
              " 0.0022904311772435904,\n",
              " 0.0012214528396725655,\n",
              " -0.019423918798565865,\n",
              " 0.0057111624628305435,\n",
              " -0.0008485534344799817,\n",
              " 0.0027959172148257494,\n",
              " -0.004252710845321417,\n",
              " 0.004315689671784639,\n",
              " 0.010295339860022068,\n",
              " 0.007935300469398499,\n",
              " 0.0014874545158818364,\n",
              " -0.03166164830327034,\n",
              " 0.001501541817560792,\n",
              " -0.032881446182727814,\n",
              " 0.0022473407443612814,\n",
              " 0.0014783391961827874,\n",
              " -0.006795056629925966,\n",
              " -0.0022539698984473944,\n",
              " 0.006171900313347578,\n",
              " 0.0021213835570961237,\n",
              " 0.03449900075793266,\n",
              " 0.0008899866952560842,\n",
              " -0.030945682898163795,\n",
              " -0.007729791104793549,\n",
              " 0.02940768003463745,\n",
              " -0.011283108964562416,\n",
              " 0.011720644310116768,\n",
              " 0.004342206753790379,\n",
              " 0.007053600158542395,\n",
              " -0.021916544064879417,\n",
              " 0.0030610901303589344,\n",
              " -0.017435120418667793,\n",
              " -0.021890025585889816,\n",
              " 0.023640166968107224,\n",
              " 0.024197030812501907,\n",
              " 0.006662470288574696,\n",
              " -0.03494979441165924,\n",
              " 0.0014319338370114565,\n",
              " -0.004269284196197987,\n",
              " 0.013510561548173428,\n",
              " -0.02438265271484852,\n",
              " 0.011177039705216885,\n",
              " 0.01870795153081417,\n",
              " -0.0020086851436644793,\n",
              " -0.0220623891800642,\n",
              " -0.018654916435480118,\n",
              " -0.014133717864751816,\n",
              " -0.03229806572198868,\n",
              " 0.002802546601742506,\n",
              " 0.015950152650475502,\n",
              " 0.001493255142122507,\n",
              " -0.00042593403486534953,\n",
              " -0.03083961270749569,\n",
              " -0.02760450355708599,\n",
              " 0.004690246190875769,\n",
              " 0.006569659803062677,\n",
              " 0.027975745499134064,\n",
              " 0.01842951960861683,\n",
              " 0.022022612392902374,\n",
              " 0.0008568400517106056,\n",
              " 0.017262758687138557,\n",
              " -0.02808181382715702,\n",
              " 0.01724950037896633,\n",
              " -0.0078027136623859406,\n",
              " -0.004965363536030054,\n",
              " 0.01697106845676899,\n",
              " 0.02381253056228161,\n",
              " 0.0015620343619957566,\n",
              " -0.029248574748635292,\n",
              " 0.009619148448109627,\n",
              " -0.010361632332205772,\n",
              " -0.029009919613599777,\n",
              " -0.014425408095121384,\n",
              " 0.03916604444384575,\n",
              " -0.01902615837752819,\n",
              " -0.03335875645279884,\n",
              " -0.009519708342850208,\n",
              " -0.007882265374064445,\n",
              " -0.023481063544750214,\n",
              " 0.026504036039114,\n",
              " 0.0030842928681522608,\n",
              " 0.010142864659428596,\n",
              " -0.009155095554888248,\n",
              " -0.010023537091910839,\n",
              " -0.01937088370323181,\n",
              " 0.0057144770398736,\n",
              " -0.026331672444939613,\n",
              " 0.018071535974740982,\n",
              " -0.004836091306060553,\n",
              " -0.011422324925661087,\n",
              " 0.005787399597465992,\n",
              " -0.028930367901921272,\n",
              " -0.013696182519197464,\n",
              " 0.005147669930011034,\n",
              " -0.01518115121871233,\n",
              " 0.004136697854846716,\n",
              " 0.00747124757617712,\n",
              " -0.007172928191721439,\n",
              " 0.013530449010431767,\n",
              " -0.003533429466187954,\n",
              " -0.020537644624710083,\n",
              " 0.004136697854846716,\n",
              " -0.0046338969841599464,\n",
              " 0.023534098640084267,\n",
              " -0.007888895459473133,\n",
              " 0.0007611291948705912,\n",
              " 0.01788591407239437,\n",
              " -0.006433758419007063,\n",
              " 0.01437237299978733,\n",
              " 0.009208130650222301,\n",
              " -0.008154068142175674,\n",
              " 0.0024031298235058784,\n",
              " 0.006828203331679106,\n",
              " -0.0014327625976875424,\n",
              " 0.03871525079011917,\n",
              " -0.0020352022256702185,\n",
              " -0.010169382207095623,\n",
              " 0.01105108205229044,\n",
              " -0.014664063230156898,\n",
              " -0.00820047315210104,\n",
              " -0.0036825891584157944,\n",
              " -0.0012711727758869529,\n",
              " -0.0008725847001187503,\n",
              " -0.0391395278275013,\n",
              " -0.013828769326210022,\n",
              " 0.00012067440547980368,\n",
              " 0.0019904545042663813,\n",
              " -0.015380030497908592,\n",
              " 0.018084794282913208,\n",
              " 0.004057146143168211,\n",
              " -0.0006546456716023386,\n",
              " -0.00945341493934393,\n",
              " -0.012151550501585007,\n",
              " 0.010726245120167732,\n",
              " -0.013855285942554474,\n",
              " -0.011753791011869907,\n",
              " -0.004716763738542795,\n",
              " -0.009241277351975441,\n",
              " 0.007895524613559246,\n",
              " -0.019781900569796562,\n",
              " 6.991864938754588e-05,\n",
              " -0.012933810241520405,\n",
              " -0.01370944082736969,\n",
              " -0.021412715315818787,\n",
              " 0.006642582360655069,\n",
              " 0.0073452903889119625,\n",
              " 0.0003240082005504519,\n",
              " 0.005111208651214838,\n",
              " 0.0010292024817317724,\n",
              " -0.013364716432988644,\n",
              " 0.001107097021304071,\n",
              " -0.004391926806420088,\n",
              " -0.02320263162255287,\n",
              " 0.018323449417948723,\n",
              " -0.014955754391849041,\n",
              " 0.0037422531750053167,\n",
              " -0.01829693280160427,\n",
              " 0.016215326264500618,\n",
              " 0.01731579378247261,\n",
              " -0.03399517014622688,\n",
              " -0.0010267164325341582,\n",
              " 0.01071961596608162,\n",
              " 0.009473303332924843,\n",
              " 0.009387122467160225,\n",
              " -0.002282144734635949,\n",
              " 0.02523120492696762,\n",
              " 0.018323449417948723,\n",
              " 0.008313171565532684,\n",
              " -0.02842653915286064,\n",
              " 0.0016581595409661531,\n",
              " -0.014173493720591068,\n",
              " 0.02906295470893383,\n",
              " 0.00553217064589262,\n",
              " -0.007186186499893665,\n",
              " -0.011753791011869907,\n",
              " 0.0351354144513607,\n",
              " 0.039908528327941895,\n",
              " 0.0004872552817687392,\n",
              " 0.004643841180950403,\n",
              " -0.04550367593765259,\n",
              " -0.006364150438457727,\n",
              " -0.01811131276190281,\n",
              " -0.015870600938796997,\n",
              " -0.021704405546188354,\n",
              " 0.015870600938796997,\n",
              " 0.015963410958647728,\n",
              " 0.009698700159788132,\n",
              " -0.01294706854969263,\n",
              " -0.0318472720682621,\n",
              " 0.008843517862260342,\n",
              " -0.033040549606084824,\n",
              " -0.010096459649503231,\n",
              " -0.002205907367169857,\n",
              " -0.009751735255122185,\n",
              " 0.015287220478057861,\n",
              " 0.04518546909093857,\n",
              " 0.015777790918946266,\n",
              " -0.012509533204138279,\n",
              " 0.01370944082736969,\n",
              " -0.004809574224054813,\n",
              " -0.019715609028935432,\n",
              " 0.004236137960106134,\n",
              " 0.02263251133263111,\n",
              " -0.021757440641522408,\n",
              " 0.0016813621623441577,\n",
              " 0.007186186499893665,\n",
              " -0.01911896839737892,\n",
              " -0.019052674993872643,\n",
              " 0.012204584665596485,\n",
              " 0.022022612392902374,\n",
              " 0.012701784260571003,\n",
              " 0.01697106845676899,\n",
              " -0.015963410958647728,\n",
              " -0.006901125889271498,\n",
              " -0.012310653924942017,\n",
              " -0.016453981399536133,\n",
              " 0.013470785692334175,\n",
              " 0.008956216275691986,\n",
              " 0.009665553458034992,\n",
              " -0.025668740272521973,\n",
              " -5.8783454733202234e-05,\n",
              " -0.014664063230156898,\n",
              " 0.0018611826235428452,\n",
              " -0.04004111513495445,\n",
              " 0.04537108913064003,\n",
              " 0.016122514382004738,\n",
              " 0.009572743438184261,\n",
              " 0.022155199199914932,\n",
              " -0.004882496781647205,\n",
              " -0.02805529721081257,\n",
              " -0.004295801743865013,\n",
              " -0.005416157189756632,\n",
              " 0.020458092913031578,\n",
              " -0.00955948419868946,\n",
              " -0.02310982160270214,\n",
              " 0.008240249007940292,\n",
              " -0.022393854334950447,\n",
              " -0.01699758507311344,\n",
              " 0.011349402368068695,\n",
              " -0.01549935806542635,\n",
              " 0.009108690544962883,\n",
              " 0.0061453827656805515,\n",
              " -0.030309267342090607,\n",
              " -0.021174060180783272,\n",
              " -0.009387122467160225,\n",
              " -0.016255101189017296,\n",
              " -0.004395241383463144,\n",
              " -0.028506090864539146,\n",
              " 0.002872154349461198,\n",
              " 4.9493337428430095e-06,\n",
              " -0.01817760430276394,\n",
              " -0.009586001746356487,\n",
              " 0.005959761794656515,\n",
              " -0.0069607896730303764,\n",
              " -0.025562671944499016,\n",
              " -0.0001755734847392887,\n",
              " -0.012403463944792747,\n",
              " 7.147239375626668e-05,\n",
              " 0.006274654529988766,\n",
              " -0.00605588685721159,\n",
              " -0.008730819448828697,\n",
              " 0.002479366958141327,\n",
              " 0.030097128823399544,\n",
              " 0.008313171565532684,\n",
              " -0.0030726913828402758,\n",
              " -0.022141940891742706,\n",
              " -0.011700755916535854,\n",
              " 0.01788591407239437,\n",
              " -0.007232591975480318,\n",
              " 0.025005808100104332,\n",
              " 0.24714118242263794,\n",
              " 0.017342310398817062,\n",
              " 0.015711497515439987,\n",
              " 0.009353975765407085,\n",
              " 0.007975076325237751,\n",
              " 0.02406444400548935,\n",
              " 0.01681196503341198,\n",
              " 0.015446323901414871,\n",
              " 0.0033643816132098436,\n",
              " 0.011634462513029575,\n",
              " 0.017435120418667793,\n",
              " 0.010785909369587898,\n",
              " -0.0029069583397358656,\n",
              " 0.009413639083504677,\n",
              " 0.012463128194212914,\n",
              " -0.04067752882838249,\n",
              " -0.02497929148375988,\n",
              " -0.02725977823138237,\n",
              " 0.0036759600043296814,\n",
              " -0.03333223983645439,\n",
              " 0.0018479239661246538,\n",
              " 0.017846139147877693,\n",
              " 0.013974614441394806,\n",
              " -0.03068050928413868,\n",
              " 0.009181613102555275,\n",
              " 0.03691207244992256,\n",
              " -0.0006645896937698126,\n",
              " 0.01294706854969263,\n",
              " 0.022049130871891975,\n",
              " -0.0017252814723178744,\n",
              " 0.005684644915163517,\n",
              " -0.00807451643049717,\n",
              " -0.018827278167009354,\n",
              " 0.007086746860295534,\n",
              " -0.005996223073452711,\n",
              " -0.004232822917401791,\n",
              " 0.014703840017318726,\n",
              " -0.023096563294529915,\n",
              " -0.004004111513495445,\n",
              " -0.01813782937824726,\n",
              " -0.005956447217613459,\n",
              " -0.023467805236577988,\n",
              " -0.020007299259305,\n",
              " -0.010401408188045025,\n",
              " 0.00833968911319971,\n",
              " 0.011866489425301552,\n",
              " ...]"
            ]
          },
          "metadata": {}
        }
      ],
      "source": [
        "# Question to find out the information that you need.\n",
        "customer_input2 = \"Who are some famous John's?\"\n",
        "\n",
        "# Create embedding based on same model\n",
        "embedding = openai.Embedding.create(input=customer_input2, model=model_id)['data'][0]['embedding']\n",
        "display(embedding)"
      ]
    },
    {
      "cell_type": "markdown",
      "metadata": {
        "id": "ocsEwZ1XpUGy"
      },
      "source": [
        "Let's take a look at what a query against a vector index could look like. The query vector has the same dimensions (number of entries in the list) as the embeddings we generated a few steps ago for each row in the database."
      ]
    },
    {
      "cell_type": "code",
      "execution_count": null,
      "metadata": {
        "colab": {
          "base_uri": "https://localhost:8080/",
          "height": 1000
        },
        "outputId": "e4c90daf-e3ff-4f97-d34e-dab99d93cd91",
        "id": "qKMi1Q6XqUAe"
      },
      "outputs": [
        {
          "output_type": "display_data",
          "data": {
            "text/plain": [
              "<SimpleStatement query=\"\n",
              "    SELECT id, title, answers, context, question, similarity_cosine(title_context_embedding,[0.0035997226368635893, 0.009586001746356487, -0.013364716432988644, -0.01302662119269371, -0.03555969148874283, 0.005336605478078127, -0.00750439427793026, 0.035321034491062164, -0.010434554889798164, -0.004809574224054813, -0.00532666128128767, 0.011389178223907948, -0.015724755823612213, 0.009811398573219776, 0.0019473638385534286, 0.023706460371613503, 0.023706460371613503, 0.00820047315210104, 0.004955419339239597, -0.01925155520439148, 0.0035135415382683277, -0.0017352254362776875, -0.012966956943273544, -0.005207333713769913, 0.004040572792291641, 0.028187884017825127, 0.009983761236071587, -0.018973123282194138, -0.0061387536115944386, -0.022115424275398254, 0.021386198699474335, -0.011488617397844791, -0.013165836222469807, -0.013682924211025238, -0.02228778600692749, 0.007663498166948557, -0.016042962670326233, -0.011568170040845871, 0.021041473373770714, 0.005850377958267927, 0.008644637651741505, 0.006503366399556398, 0.02513839490711689, -0.03235109895467758, -0.02367994375526905, 8.685449574841186e-05, -0.006874608341604471, -0.022552959620952606, -0.0025141709484159946, 0.01760748401284218, 0.027684055268764496, 0.018005242571234703, -0.004912328906357288, -0.02178395725786686, -0.01886705495417118, -0.008399353362619877, -0.02972588688135147, -0.012483016587793827, -0.014027648605406284, -0.005558687727898359, 0.009009250439703465, 0.004842720925807953, -0.016122514382004738, -0.0050482298247516155, -0.008021481335163116, 0.01066658180207014, -0.00873744860291481, -0.01893334835767746, -0.001291889464482665, 0.001218966906890273, -0.0035665761679410934, 0.015260702930390835, -0.013477414846420288, 0.0045178839936852455, 0.01678544655442238, -0.014677322469651699, -0.03985549136996269, -0.008352947421371937, -0.030574440956115723, -0.007192816119641066, 0.03052140586078167, -0.008220361545681953, -0.018575364723801613, 0.0036129814106971025, 0.007404954172670841, -0.013828769326210022, -0.009930727072060108, 0.005323346704244614, -0.01032185647636652, 0.002739568008109927, 0.004594121128320694, 0.04762506112456322, 0.02684875950217247, 0.026132794097065926, 0.009751735255122185, 0.012038851156830788, -0.012622231617569923, 0.0025688628666102886, -0.00303954491391778, -0.020603938028216362, -0.0022771726362407207, -0.006526568904519081, -0.013510561548173428, -0.018654916435480118, -0.004086977802217007, 0.002976566320285201, 0.0004230337217450142, -0.001930790487676859, 0.01827041618525982, 0.004567604046314955, 0.0039013568311929703, 0.014756874181330204, 0.012038851156830788, -0.03704465925693512, 0.014597770757973194, -0.007153040263801813, 0.002830721205100417, -0.008306542411446571, 0.01500878855586052, -0.02016640268266201, 0.03593093529343605, 0.013212242163717747, 0.011157151311635971, -0.025788068771362305, 0.008856776170432568, 0.005750938318669796, -0.02418377250432968, -0.02447546273469925, -0.0013797279680147767, -0.01687825843691826, 0.03850311040878296, -0.011143893003463745, 0.025430085137486458, 0.0018959864974021912, -0.02386556565761566, 0.029672851786017418, 0.0023136339150369167, 0.01321887131780386, 0.005787399597465992, -0.004315689671784639, 0.016891516745090485, 0.021585077047348022, 0.0063939825631678104, 0.017779845744371414, -0.010785909369587898, 0.010467701591551304, 0.0096058901399374, -0.008744077757000923, 0.003341179108247161, -0.025695258751511574, -0.006516625173389912, 0.02463456615805626, 0.01162120420485735, -0.00747124757617712, 0.014836425893008709, 0.0012496274430304766, 0.0056514982134103775, 0.01557891070842743, -0.022552959620952606, -0.025602446869015694, 0.0061818440444767475, -0.008584974333643913, 0.003699162509292364, -0.0051576136611402035, -0.0011775336461141706, 0.04279891401529312, 0.013855285942554474, 0.04340881109237671, -0.032404132187366486, -0.003967650234699249, 0.007716532796621323, 0.004494681488722563, -0.030972199514508247, 0.018814019858837128, 0.011375918984413147, -0.00035756913712248206, -0.02390534058213234, -0.0037389385979622602, -0.007723161950707436, -0.027949228882789612, 0.00221585133112967, 0.026079759001731873, -0.02010010927915573, 0.025125136598944664, 0.0007797741563990712, -0.00018095981795340776, 0.0007532568997703493, -0.024555014446377754, -0.008180585689842701, -0.007153040263801813, -0.006304486654698849, 0.024608049541711807, 0.008717560209333897, -0.006463590543717146, -0.6415063738822937, -0.00955948419868946, -0.01174716092646122, -0.016255101189017296, 0.042189013212919235, 0.009320829063653946, 0.017488155514001846, 0.018336709588766098, 0.0019158745417371392, -0.008213731460273266, -0.0056514982134103775, 0.009930727072060108, 0.029646335169672966, -0.00426596961915493, -0.0249129980802536, -0.040226735174655914, 0.0025754922535270452, -0.0025456601288169622, 0.0035566319711506367, 0.0025423455517739058, 0.005803972948342562, 0.009897580370306969, 0.00986443366855383, -0.019397400319576263, 0.018389742821455002, -0.0013432666892185807, -0.0036958479322493076, -0.018403002992272377, 0.00747124757617712, 0.0040902928449213505, -0.02808181382715702, 0.024077702313661575, 0.01893334835767746, -0.005562002304941416, 0.05489080026745796, 0.018946606665849686, -0.012403463944792747, 0.02013988420367241, -0.008836888708174229, 0.05271638184785843, -0.019105710089206696, -0.013682924211025238, 0.02434287592768669, 0.003119096625596285, -0.011720644310116768, 0.026238862425088882, 0.019795160740613937, 0.0026003520470112562, -0.01662634313106537, 0.02130664512515068, 0.01738208718597889, 0.006450331769883633, -0.012608973309397697, 0.0016589881852269173, -0.005306773353368044, -0.004938845988363028, 0.013682924211025238, -0.007716532796621323, 0.0020385170355439186, 0.013987872749567032, 0.004534457344561815, 0.02475389465689659, -0.03916604444384575, 0.009950614534318447, 0.003596408059820533, 0.03720376268029213, -0.011839971877634525, 0.022022612392902374, 0.005847063381224871, -0.007756308652460575, 0.021134283393621445, 0.007815972901880741, -0.011594686657190323, 0.0010557197965681553, 0.002409759210422635, 0.027657538652420044, 0.010295339860022068, -0.012323912233114243, -0.01557891070842743, -0.018880313262343407, -0.0044515905901789665, 0.006582918111234903, 0.00997050292789936, -0.021386198699474335, 0.02666313946247101, 0.015300478786230087, -0.01899964176118374, -0.00626139622181654, 0.016891516745090485, 0.0014940837863832712, 0.009678812697529793, 0.02406444400548935, 0.0038682103622704744, -0.0016714181983843446, -0.010759391821920872, -0.006695616990327835, -0.016135772690176964, 0.01656004972755909, 0.012708413414657116, -0.015684979036450386, 0.0051145232282578945, -0.011846601031720638, 0.006098977755755186, 0.008299913257360458, -0.007935300469398499, -0.020219435915350914, -0.013132689520716667, 0.0167191531509161, 0.034048207104206085, -0.04232160001993179, -0.021744180470705032, -0.008260137401521206, -0.018098052591085434, -0.007590575609356165, 0.007013824302703142, -0.025058843195438385, 0.01801850087940693, 0.003150586038827896, -0.0016092682490125299, -0.036010485142469406, 0.020696748048067093, 0.013497302308678627, -0.01934436522424221, -0.031396474689245224, -0.0062481374479830265, 0.011203557252883911, -0.034021686762571335, -0.02675594948232174, 0.006659155711531639, 0.019715609028935432, -0.006340947933495045, -0.010116348043084145, 0.00036647729575634, 0.0006637609913013875, 0.01703736186027527, -0.00045452298945747316, 0.004352150950580835, -0.002666645450517535, 0.012211213819682598, -0.005323346704244614, -0.004219564609229565, 0.0034638214856386185, 0.01760748401284218, -0.0031091526616364717, 0.0029285037890076637, -0.024515237659215927, 0.02374623715877533, -0.009943985380232334, -0.004756539594382048, 0.0028605530969798565, 0.014730356633663177, -0.023321960121393204, -0.025111878290772438, 0.021505525335669518, 0.02413073740899563, 0.0004955419572070241, -0.013682924211025238, -0.004130068700760603, 0.008883293718099594, -0.005939873866736889, 0.002444562967866659, 0.004892440978437662, -0.014491701498627663, -0.015353512950241566, 0.021107766777276993, 0.006347577087581158, 0.014677322469651699, 0.007948558777570724, -0.02605324238538742, -0.010772651061415672, 0.010838944464921951, -0.005518911872059107, 0.0008510394254699349, 0.007842489518225193, 0.008127550594508648, 0.016599826514720917, -0.0011004677508026361, -0.009353975765407085, 0.020219435915350914, 0.022844649851322174, 0.012708413414657116, -0.014557994902133942, -0.01567172072827816, 0.0015264017274603248, 0.036673419177532196, 0.00854519847780466, -0.0032931165769696236, 0.02871822938323021, -0.017421862110495567, 0.006980677600950003, 0.01125659141689539, 0.0011311282869428396, -0.00823361985385418, 0.0006418013945221901, 0.03622262552380562, 0.007630351465195417, -0.0031290408223867416, 0.01188637688755989, 0.0118267135694623, 0.016507016494870186, 0.011362660676240921, 0.011203557252883911, 0.003397528314962983, -0.025907397270202637, 0.01567172072827816, -0.0408366322517395, 0.002479366958141327, -0.02589413709938526, 0.046246159821748734, 0.0062282495200634, -0.002562233479693532, -0.01351719070225954, -0.0022440259344875813, -0.002643442712724209, 0.02251318283379078, 0.019132228568196297, 0.0018512385431677103, -0.014690580777823925, -0.0013805566122755408, -0.011442212387919426, 0.025125136598944664, 0.024011410772800446, 0.0035831492859870195, 0.0016946208197623491, -0.018310191109776497, 0.022884424775838852, -0.005353178828954697, -0.017594223842024803, -0.004103551153093576, -0.010613546706736088, -0.005399583838880062, 0.013961355201900005, 0.004826147574931383, 0.017329052090644836, -0.00908880215138197, 0.0008593260427005589, 0.017103655263781548, -0.00843912921845913, 0.016162291169166565, 0.010759391821920872, -0.016944551840424538, 0.006874608341604471, -0.012396834790706635, -0.004617323633283377, 0.02700786478817463, 0.022897683084011078, 0.022075647488236427, 0.005512282717972994, 0.009857804514467716, 0.019172003492712975, 0.00013766204938292503, 0.002242368645966053, -0.017687035724520683, 0.012151550501585007, -0.01779310405254364, -0.010931754484772682, 0.008306542411446571, 0.013006732799112797, -0.026225604116916656, 0.008472275920212269, 0.01178030762821436, -0.03155558183789253, 0.016546791419386864, -0.001839637290686369, 0.011150522157549858, -0.016507016494870186, -0.019795160740613937, -0.012483016587793827, -0.009837916120886803, -0.007404954172670841, -0.031290408223867416, 0.002812490565702319, 0.0037654556799679995, -0.009161724708974361, -0.006861350033432245, -0.009539596736431122, 0.01719646528363228, 0.0033444936852902174, -0.01264874916523695, -0.019052674993872643, 0.0128409992903471, -0.0440187081694603, 0.010142864659428596, 0.038290973752737045, -0.012695154175162315, -0.013351457193493843, -0.010633435100317001, -0.010918496176600456, -0.039563801139593124, 0.011349402368068695, 0.018853796645998955, 0.03789321333169937, -0.018190864473581314, -0.02041831612586975, -0.003662701230496168, 0.01534025464206934, 0.01443866640329361, -0.005131096579134464, -0.004428388085216284, -0.037946246564388275, 0.0011178696295246482, 0.010792538523674011, -0.015075081959366798, -0.012502904050052166, 0.03776062652468681, 0.00320527795702219, -0.00833968911319971, -0.01172727346420288, 0.006397297140210867, -0.032085925340652466, -0.009148466400802135, -0.01576453074812889, -0.025589188560843468, -0.010978159494698048, 0.015777790918946266, 0.0011195270344614983, 0.005253738723695278, -0.0051277815364301205, 0.040863148868083954, -0.008492163382470608, -0.012098515406250954, -0.012874145992100239, -0.012874145992100239, 0.002305347239598632, 0.13523820042610168, -0.01113063469529152, -0.017421862110495567, 0.018389742821455002, 0.03441944718360901, -0.01247638650238514, -0.014491701498627663, 0.006331004202365875, 0.015631945803761482, -0.0018777558580040932, 0.006761909928172827, -0.012005705386400223, 0.0036494426894932985, 0.01125659141689539, -0.0063210600055754185, -0.012973586097359657, -0.017713552340865135, -0.02336173690855503, 0.0036660158075392246, -0.008180585689842701, -0.04274587705731392, 0.00444827601313591, 0.033067066222429276, 0.024104220792651176, 0.0025406882632523775, -0.015751272439956665, 0.029938025400042534, 0.01943717710673809, 0.006115551106631756, -0.018760984763503075, 0.016281617805361748, -0.007590575609356165, -0.010978159494698048, -0.0010076571488752961, 0.0019722238648682833, 0.00497862184420228, -0.003397528314962983, 0.022486666217446327, 0.0074182129465043545, -0.002626869361847639, 0.002885413123294711, -0.003652757266536355, 0.02593391388654709, -0.03805231675505638, 0.0005647354992106557, 0.007663498166948557, -0.00892969872802496, 0.028028780594468117, -0.004279228392988443, -0.010580400004982948, 0.0015868942718952894, -0.020338764414191246, 0.030309267342090607, 0.0007992478203959763, -0.022486666217446327, -0.009711959399282932, -0.003970964811742306, -0.009526337496936321, -0.002131327521055937, 0.015486099757254124, 0.0014683951158076525, -0.015472841449081898, -0.006331004202365875, -0.013656406663358212, 0.006019425578415394, -0.02773709036409855, -0.007186186499893665, -0.03577182814478874, -0.02472737617790699, -0.02409096248447895, 0.021956318989396095, -0.004935531411319971, -0.012357058934867382, 0.011574799194931984, 0.03357089310884476, 0.02399815060198307, 0.024037927389144897, 0.009857804514467716, 0.008691043592989445, -0.005088005680590868, 0.003606352023780346, -0.016599826514720917, 0.003095894120633602, -0.035161931067705154, 0.0017750014085322618, -0.001912559848278761, -0.001949021127074957, 0.0007644438883289695, -0.02155856043100357, 0.002656701486557722, 0.0037687704898416996, -0.010109717957675457, -0.008870034478604794, -0.023732978850603104, -0.025509636849164963, 0.024515237659215927, 0.015194409526884556, 0.012403463944792747, 0.01950347051024437, 0.00020519827376119792, -0.01370944082736969, -5.039321695221588e-05, 0.0138818034902215, -0.011289738118648529, -0.02080281637609005, 0.010361632332205772, 0.0010872090933844447, 0.015141375362873077, -0.011773678474128246, 0.0034041577018797398, 0.022818131372332573, -0.009997019544243813, 0.044496018439531326, -0.012562568299472332, 0.020206177607178688, 0.021346421912312508, 0.025430085137486458, 0.026477517560124397, -0.01073287520557642, 0.005770826246589422, 0.0015148004749789834, -0.0188007615506649, 0.0220358707010746, 0.015486099757254124, -0.036991626024246216, 0.012920551933348179, -0.0006948359659872949, -0.02386556565761566, -0.012005705386400223, 0.013039879500865936, -0.00607908982783556, 0.036461278796195984, -0.006914384663105011, -0.031449511647224426, -0.049560822546482086, -0.017846139147877693, -0.0062183053232729435, 0.03054792247712612, -0.0019606223795562983, 0.00946667417883873, -0.019052674993872643, -0.015950152650475502, 0.005727735348045826, -0.017103655263781548, -0.01178030762821436, -0.03725679963827133, 0.004173159133642912, 0.0010026851668953896, 0.0068083154037594795, 0.006679043639451265, -0.007789455354213715, 0.010388149879872799, 6.230528379091993e-05, -0.031926821917295456, -0.00040583888767287135, -0.009015879593789577, 0.006118865683674812, -0.0011667609214782715, 0.02146575041115284, 0.011806825175881386, 0.03723027929663658, 0.009586001746356487, 0.025469861924648285, 0.017806362360715866, 0.003543373430147767, 0.008883293718099594, 0.0022904311772435904, 0.0012214528396725655, -0.019423918798565865, 0.0057111624628305435, -0.0008485534344799817, 0.0027959172148257494, -0.004252710845321417, 0.004315689671784639, 0.010295339860022068, 0.007935300469398499, 0.0014874545158818364, -0.03166164830327034, 0.001501541817560792, -0.032881446182727814, 0.0022473407443612814, 0.0014783391961827874, -0.006795056629925966, -0.0022539698984473944, 0.006171900313347578, 0.0021213835570961237, 0.03449900075793266, 0.0008899866952560842, -0.030945682898163795, -0.007729791104793549, 0.02940768003463745, -0.011283108964562416, 0.011720644310116768, 0.004342206753790379, 0.007053600158542395, -0.021916544064879417, 0.0030610901303589344, -0.017435120418667793, -0.021890025585889816, 0.023640166968107224, 0.024197030812501907, 0.006662470288574696, -0.03494979441165924, 0.0014319338370114565, -0.004269284196197987, 0.013510561548173428, -0.02438265271484852, 0.011177039705216885, 0.01870795153081417, -0.0020086851436644793, -0.0220623891800642, -0.018654916435480118, -0.014133717864751816, -0.03229806572198868, 0.002802546601742506, 0.015950152650475502, 0.001493255142122507, -0.00042593403486534953, -0.03083961270749569, -0.02760450355708599, 0.004690246190875769, 0.006569659803062677, 0.027975745499134064, 0.01842951960861683, 0.022022612392902374, 0.0008568400517106056, 0.017262758687138557, -0.02808181382715702, 0.01724950037896633, -0.0078027136623859406, -0.004965363536030054, 0.01697106845676899, 0.02381253056228161, 0.0015620343619957566, -0.029248574748635292, 0.009619148448109627, -0.010361632332205772, -0.029009919613599777, -0.014425408095121384, 0.03916604444384575, -0.01902615837752819, -0.03335875645279884, -0.009519708342850208, -0.007882265374064445, -0.023481063544750214, 0.026504036039114, 0.0030842928681522608, 0.010142864659428596, -0.009155095554888248, -0.010023537091910839, -0.01937088370323181, 0.0057144770398736, -0.026331672444939613, 0.018071535974740982, -0.004836091306060553, -0.011422324925661087, 0.005787399597465992, -0.028930367901921272, -0.013696182519197464, 0.005147669930011034, -0.01518115121871233, 0.004136697854846716, 0.00747124757617712, -0.007172928191721439, 0.013530449010431767, -0.003533429466187954, -0.020537644624710083, 0.004136697854846716, -0.0046338969841599464, 0.023534098640084267, -0.007888895459473133, 0.0007611291948705912, 0.01788591407239437, -0.006433758419007063, 0.01437237299978733, 0.009208130650222301, -0.008154068142175674, 0.0024031298235058784, 0.006828203331679106, -0.0014327625976875424, 0.03871525079011917, -0.0020352022256702185, -0.010169382207095623, 0.01105108205229044, -0.014664063230156898, -0.00820047315210104, -0.0036825891584157944, -0.0012711727758869529, -0.0008725847001187503, -0.0391395278275013, -0.013828769326210022, 0.00012067440547980368, 0.0019904545042663813, -0.015380030497908592, 0.018084794282913208, 0.004057146143168211, -0.0006546456716023386, -0.00945341493934393, -0.012151550501585007, 0.010726245120167732, -0.013855285942554474, -0.011753791011869907, -0.004716763738542795, -0.009241277351975441, 0.007895524613559246, -0.019781900569796562, 6.991864938754588e-05, -0.012933810241520405, -0.01370944082736969, -0.021412715315818787, 0.006642582360655069, 0.0073452903889119625, 0.0003240082005504519, 0.005111208651214838, 0.0010292024817317724, -0.013364716432988644, 0.001107097021304071, -0.004391926806420088, -0.02320263162255287, 0.018323449417948723, -0.014955754391849041, 0.0037422531750053167, -0.01829693280160427, 0.016215326264500618, 0.01731579378247261, -0.03399517014622688, -0.0010267164325341582, 0.01071961596608162, 0.009473303332924843, 0.009387122467160225, -0.002282144734635949, 0.02523120492696762, 0.018323449417948723, 0.008313171565532684, -0.02842653915286064, 0.0016581595409661531, -0.014173493720591068, 0.02906295470893383, 0.00553217064589262, -0.007186186499893665, -0.011753791011869907, 0.0351354144513607, 0.039908528327941895, 0.0004872552817687392, 0.004643841180950403, -0.04550367593765259, -0.006364150438457727, -0.01811131276190281, -0.015870600938796997, -0.021704405546188354, 0.015870600938796997, 0.015963410958647728, 0.009698700159788132, -0.01294706854969263, -0.0318472720682621, 0.008843517862260342, -0.033040549606084824, -0.010096459649503231, -0.002205907367169857, -0.009751735255122185, 0.015287220478057861, 0.04518546909093857, 0.015777790918946266, -0.012509533204138279, 0.01370944082736969, -0.004809574224054813, -0.019715609028935432, 0.004236137960106134, 0.02263251133263111, -0.021757440641522408, 0.0016813621623441577, 0.007186186499893665, -0.01911896839737892, -0.019052674993872643, 0.012204584665596485, 0.022022612392902374, 0.012701784260571003, 0.01697106845676899, -0.015963410958647728, -0.006901125889271498, -0.012310653924942017, -0.016453981399536133, 0.013470785692334175, 0.008956216275691986, 0.009665553458034992, -0.025668740272521973, -5.8783454733202234e-05, -0.014664063230156898, 0.0018611826235428452, -0.04004111513495445, 0.04537108913064003, 0.016122514382004738, 0.009572743438184261, 0.022155199199914932, -0.004882496781647205, -0.02805529721081257, -0.004295801743865013, -0.005416157189756632, 0.020458092913031578, -0.00955948419868946, -0.02310982160270214, 0.008240249007940292, -0.022393854334950447, -0.01699758507311344, 0.011349402368068695, -0.01549935806542635, 0.009108690544962883, 0.0061453827656805515, -0.030309267342090607, -0.021174060180783272, -0.009387122467160225, -0.016255101189017296, -0.004395241383463144, -0.028506090864539146, 0.002872154349461198, 4.9493337428430095e-06, -0.01817760430276394, -0.009586001746356487, 0.005959761794656515, -0.0069607896730303764, -0.025562671944499016, -0.0001755734847392887, -0.012403463944792747, 7.147239375626668e-05, 0.006274654529988766, -0.00605588685721159, -0.008730819448828697, 0.002479366958141327, 0.030097128823399544, 0.008313171565532684, -0.0030726913828402758, -0.022141940891742706, -0.011700755916535854, 0.01788591407239437, -0.007232591975480318, 0.025005808100104332, 0.24714118242263794, 0.017342310398817062, 0.015711497515439987, 0.009353975765407085, 0.007975076325237751, 0.02406444400548935, 0.01681196503341198, 0.015446323901414871, 0.0033643816132098436, 0.011634462513029575, 0.017435120418667793, 0.010785909369587898, -0.0029069583397358656, 0.009413639083504677, 0.012463128194212914, -0.04067752882838249, -0.02497929148375988, -0.02725977823138237, 0.0036759600043296814, -0.03333223983645439, 0.0018479239661246538, 0.017846139147877693, 0.013974614441394806, -0.03068050928413868, 0.009181613102555275, 0.03691207244992256, -0.0006645896937698126, 0.01294706854969263, 0.022049130871891975, -0.0017252814723178744, 0.005684644915163517, -0.00807451643049717, -0.018827278167009354, 0.007086746860295534, -0.005996223073452711, -0.004232822917401791, 0.014703840017318726, -0.023096563294529915, -0.004004111513495445, -0.01813782937824726, -0.005956447217613459, -0.023467805236577988, -0.020007299259305, -0.010401408188045025, 0.00833968911319971, 0.011866489425301552, -0.014491701498627663, -0.02137293852865696, -0.004872552584856749, 0.019012900069355965, -0.049852512776851654, -0.025098618119955063, 0.016453981399536133, 0.027365848422050476, 0.011329513974487782, -0.004342206753790379, 0.008432499133050442, 0.009300940670073032, -0.007623722311109304, 0.027710571885108948, 0.019225038588047028, 0.03163513168692589, -0.003450562944635749, 0.012370318174362183, -0.03341178968548775, 0.03317313641309738, -0.03691207244992256, 0.0028075184673070908, 0.032430652529001236, -0.01788591407239437, -0.004199676681309938, -0.02067023143172264, -0.00027490974753163755, 0.009201501496136189, 0.0018263786332681775, -0.023759495466947556, 0.029328126460313797, 0.007206074893474579, 0.01477013248950243, 0.00870430190116167, -0.005257053766399622, 0.014425408095121384, 0.019079193472862244, 0.020497867837548256, -0.0110179353505373, -0.023507582023739815, 0.004398555960506201, -0.011992446146905422, -0.0028224345296621323, 0.013629889115691185, -0.0008038054802455008, -0.022725321352481842, -0.014876201748847961, 0.003228480461984873, -0.0019374197581782937, -0.014796650037169456, -0.0003907157515641302, -0.007623722311109304, -0.02340151183307171, 0.014027648605406284, -0.02137293852865696, 0.02520468831062317, 0.00840598251670599, 0.006980677600950003, -0.027684055268764496, 0.007941929623484612, 0.004256025888025761, -0.0020434889011085033, 0.028346987441182137, -0.010341744869947433, -0.011236703023314476, -0.015976669266819954, -0.009731846861541271, -0.007690015248954296, 0.008817000314593315, 0.028532609343528748, 0.016957810148596764, 0.006019425578415394, 0.03054792247712612, -0.006781797856092453, 0.01738208718597889, -0.02564222365617752, 0.009479932487010956, 0.0036129814106971025, -0.016029704362154007, -0.012025592848658562, -0.007915412075817585, 0.004458220209926367, 0.021293386816978455, -0.030150163918733597, 0.009314199909567833, -0.02326892502605915, 0.0022572847083210945, -0.0007557428907603025, -0.007570687681436539, 0.009751735255122185, 0.002088236855342984, -0.013324940577149391, -0.007650239393115044, -0.007696644868701696, -0.012635490857064724, 0.003414101665839553, 0.009128578938543797, 0.006135439034551382, -0.012807853519916534, -0.03850311040878296, 0.006466905120760202, -0.028771264478564262, -0.00870430190116167, -0.008571715094149113, -0.02440916933119297, 0.00767012732103467, -0.0018545532366260886, 0.021386198699474335, 0.03738938644528389, 0.0010540623916313052, 0.010209158062934875, -0.009055656380951405, -0.008624750189483166, 0.01687825843691826, -0.035347554832696915, 0.006135439034551382, 0.008790482766926289, -0.006006167270243168, -0.030600957572460175, -0.004146642051637173, -0.16854391992092133, 0.02621234580874443, 0.027233261615037918, -0.013338198885321617, 0.01943717710673809, 0.0004611523181665689, 0.025655481964349747, 0.013364716432988644, -0.030150163918733597, 0.012867516838014126, 0.0018910145154222846, -0.001327521982602775, -0.03815838694572449, -0.03505586460232735, -0.010593659244477749, -0.010706357657909393, -0.007736420724540949, 0.017010843381285667, 0.020113367587327957, 0.0034571923315525055, 0.005919985938817263, 0.0014758531469851732, 0.018403002992272377, -0.02874474599957466, -0.006234878674149513, -0.013749216683208942, 0.002867182483896613, 0.030070612207055092, -0.005455933511257172, 0.0012786308070644736, -0.02212868258357048, -0.022818131372332573, 0.019795160740613937, -0.029009919613599777, -0.007530911359935999, 0.007172928191721439, -0.0039577060379087925, -0.027471916750073433, -0.0058570075780153275, -0.008757336065173149, 0.03900694102048874, 0.034207310527563095, 0.006049257703125477, -0.001034174463711679, -0.008691043592989445, 0.0002821605885401368, 0.022685544565320015, -0.01706387847661972, 0.014504959806799889, -0.002565548289567232, -0.007902153767645359, -0.03752196952700615, 0.017050620168447495, 0.01756770722568035, -0.001894329208880663, -0.0022191661410033703, 0.01321887131780386, 0.016957810148596764, 0.00393450353294611, -0.01585734263062477, -0.029434196650981903, -0.010792538523674011, 0.0040604607202112675, -0.009155095554888248, 0.00659286230802536, 0.0018744412809610367, -0.028824299573898315, -0.009141837246716022, -0.03001757711172104, 0.014703840017318726, 0.008419240824878216, -0.02041831612586975, 0.02413073740899563, -0.020975179970264435, -0.01282111182808876, 0.022155199199914932, -0.03367696329951286, 0.02251318283379078, -0.015472841449081898, -0.013510561548173428, -0.02564222365617752, 0.04004111513495445, -0.00514435488730669, 0.023348476737737656, -0.02611953392624855, -0.011110746301710606, -0.008187214843928814, 0.014995530247688293, -0.008120921440422535, -0.01248964574187994, 0.030229715630412102, -0.02890385128557682, -0.017580965533852577, 0.00710663478821516, 0.00926116481423378, 0.0018644972005859017, 0.010447814129292965, 0.019516728818416595, 0.00039133726386353374, -0.02495277300477028, -0.006635952740907669, 0.003516856115311384, -0.014266304671764374, 0.017753329128026962, 0.029115989804267883, 0.007133152335882187, 0.02625212073326111, 0.01975538395345211, 0.001225596177391708, 0.009015879593789577, -0.0023484379053115845, -0.014160235412418842, 0.006042628549039364, 0.03410124033689499, 0.012536050751805305, 0.014531477354466915, -0.005664756987243891, -0.009963872842490673, 0.029460713267326355, 0.007438100874423981, 0.059823017567396164, 0.015406548045575619, 0.017991984263062477, -0.014597770757973194, -0.017183206975460052, 0.015936894342303276, -0.09657598286867142, 0.013132689520716667, 0.02235407941043377, 0.009997019544243813, 0.02805529721081257, 0.058868393301963806, 0.012986844405531883, 0.002666645450517535, -0.02434287592768669, 0.013656406663358212, 0.008551827631890774, -0.007577316835522652, 0.02222149260342121, -0.010096459649503231, 0.023136340081691742, -0.016599826514720917, 0.001730253454297781, -0.018734468147158623, -0.019039416685700417, 0.011753791011869907, 0.018071535974740982, 0.006500051822513342, -0.004541086498647928, -0.020497867837548256, 0.008624750189483166, -0.00018686405383050442, -0.027710571885108948, 0.022818131372332573, 0.01988797076046467, 0.008326430805027485, -0.0038284342736005783, -0.021028215065598488, -0.030309267342090607, -0.02536379173398018, -0.0018512385431677103, 0.014465183950960636, -0.03494979441165924, -0.013987872749567032, 0.010812426917254925, -0.015910375863313675, 0.004816203378140926, 0.018071535974740982, 0.013006732799112797, -0.01874772645533085, 0.017899174243211746, -0.020975179970264435, -0.017806362360715866, 0.014836425893008709, 0.02333521842956543, -0.0016150689916685224, -0.015963410958647728, 0.025178171694278717, -0.022566217929124832, -0.010945012792944908, 0.03285492584109306, 0.001813119975849986, 0.01817760430276394, 0.02108124829828739, -0.010010278783738613, -0.005966391414403915, 0.0002639299491420388, -0.0031439566519111395, -0.010852202773094177, -0.0006567173404619098, -0.008173955604434013, 0.011926152743399143, 0.0015404890291392803, -0.013019991107285023, 0.01394809689372778, -0.009930727072060108, -0.03579834848642349, 0.04362094774842262, -0.013570224866271019, 0.016440723091363907, -0.00849879253655672, -0.00012978972517885268, 0.001499884412623942, 0.008140808902680874, 0.010845573619008064, -0.009672182612121105, 0.013411121442914009, -0.0167191531509161, -0.002519143046811223, -0.022088905796408653, 0.04094270244240761, 0.0030909220222383738, 0.002872154349461198, 0.00042966302135027945, -0.016599826514720917, -0.01646723970770836, -0.002776029286906123, 0.04266632720828056, -0.005197389516979456, -0.009539596736431122, -0.020855851471424103, 0.018336709588766098, 0.008790482766926289, 0.015048564411699772, 0.00463058240711689, -0.0057542528957128525, -0.00391793018206954, 0.015406548045575619, -0.07949884980916977, 0.021770698949694633, -0.009665553458034992, -0.005442674737423658, 0.018071535974740982, -0.02292420156300068, -0.007610463537275791, -0.01747489720582962, -0.006118865683674812, -0.007206074893474579, -0.03213896229863167, 0.016202066093683243, -0.006645896937698126, -0.004375353455543518, -0.012516163289546967, -0.012642120011150837, 0.02143923193216324, 0.012635490857064724, 0.010640064254403114, -0.004391926806420088, 0.017925690859556198, 0.0071397814899683, 0.013643147423863411, -0.0033478084951639175, -0.002890384988859296, 0.0020666916389018297, -0.013470785692334175, 0.00016169334412552416, -0.02969937026500702, -0.018164345994591713, 0.01687825843691826, -0.044310398399829865, -0.009015879593789577, 0.01477013248950243, 0.0005891811451874673, -0.01722298189997673, -0.005588519852608442, 0.0036825891584157944, -0.0051576136611402035, 0.029275093227624893, -0.012436610646545887, -0.016029704362154007, 0.018031759187579155, -0.004743280820548534, -0.0015073424438014627, 0.010785909369587898, 0.009778251871466637, 0.0017700294265523553, 0.01662634313106537, 0.0018562106415629387, -0.008001593872904778, 0.04327622428536415, -0.009241277351975441, -0.026225604116916656, -0.0016498728655278683, 0.0033113472163677216, 0.00018914288375526667, -0.012144920416176319, -0.001930790487676859, -0.020749783143401146, 0.012801223434507847, 0.020378541201353073, 0.0056813303381204605, 0.01706387847661972, 0.008333059959113598, -0.010474330745637417, -0.009426898322999477, 0.00496204849332571, 0.021107766777276993, -0.022844649851322174, -0.019052674993872643, -0.001985482405871153, 0.010580400004982948, -0.0021164114587008953, 0.012065368704497814, -0.016480498015880585, 0.008352947421371937, -0.01158805750310421, -0.034260343760252, 0.01567172072827816, -0.0025605761911720037, -0.008220361545681953, -0.04621964320540428, 0.014266304671764374, 0.029089471325278282, -0.004226193763315678, -0.030282750725746155, -0.0073386612348258495, 0.007948558777570724, 0.03935166448354721, 0.004531142767518759, 9.312127804150805e-05, -0.00955948419868946, -0.018601881340146065, 0.005591834429651499, -0.0033527803607285023, -0.044628605246543884, 0.014173493720591068, 0.002711393404752016, 0.03638172894716263, -0.008644637651741505, 0.00767012732103467, -0.001968909054994583, -0.025589188560843468, -0.010441184975206852, 0.02440916933119297, -0.025443343445658684, -0.029275093227624893, 0.00024321330420207232, 0.01266200840473175, -0.0008916440419852734, 0.024276582524180412, 0.003496968187391758, 0.017103655263781548, -0.03964335471391678, 0.0005813087918795645, 0.005449303891509771, -0.012290765531361103, -0.026928313076496124, 0.008412611670792103, 0.01443866640329361, -0.02821440063416958, 0.02067023143172264, 0.007126522716134787, 0.024926256388425827, 0.011455470696091652, 0.014969012700021267, -0.02969937026500702, -0.01179356686770916, 0.013053137809038162, -0.005734364967793226, -0.028691712766885757, -0.012973586097359657, 0.009002621285617352, 0.0068149445578455925, -0.009824657812714577, -0.0034041577018797398, 0.01731579378247261, -0.02972588688135147, 0.034260343760252, 0.017329052090644836, -0.017925690859556198, -0.00517750158905983, -0.04669695347547531, 0.02744540013372898, 0.025443343445658684, 0.01174716092646122, -0.027524951845407486, -0.002369983121752739, 0.004405185580253601, -0.00034679649979807436, 0.011283108964562416, -0.040571458637714386, 0.013324940577149391, -0.011369289830327034, -0.0036825891584157944, 0.007192816119641066, 0.004753225017338991, -0.01890682987868786, -0.01665286161005497, -0.010103088803589344, 0.013318311423063278, -0.0024942830204963684, 0.0001151844990090467, -0.015777790918946266, -0.001392157981172204, -0.020537644624710083, 0.013908321037888527, -0.016613084822893143, 0.024104220792651176, 0.024939514696598053, -0.01687825843691826, -0.012370318174362183, 0.02858564257621765, -0.02789619378745556, 0.006012796424329281, -0.00028423225739970803, 0.04192384332418442, 0.0175411906093359, -0.009009250439703465, 8.918511593947187e-05, -0.019490210339426994, -0.022088905796408653, 0.025880878791213036, -0.01516789197921753, -0.026901794597506523, -0.020113367587327957, 0.00338758435100317]) as similarity\n",
              "    FROM squad_cos\n",
              "    ORDER BY title_context_embedding ANN OF [0.0035997226368635893, 0.009586001746356487, -0.013364716432988644, -0.01302662119269371, -0.03555969148874283, 0.005336605478078127, -0.00750439427793026, 0.035321034491062164, -0.010434554889798164, -0.004809574224054813, -0.00532666128128767, 0.011389178223907948, -0.015724755823612213, 0.009811398573219776, 0.0019473638385534286, 0.023706460371613503, 0.023706460371613503, 0.00820047315210104, 0.004955419339239597, -0.01925155520439148, 0.0035135415382683277, -0.0017352254362776875, -0.012966956943273544, -0.005207333713769913, 0.004040572792291641, 0.028187884017825127, 0.009983761236071587, -0.018973123282194138, -0.0061387536115944386, -0.022115424275398254, 0.021386198699474335, -0.011488617397844791, -0.013165836222469807, -0.013682924211025238, -0.02228778600692749, 0.007663498166948557, -0.016042962670326233, -0.011568170040845871, 0.021041473373770714, 0.005850377958267927, 0.008644637651741505, 0.006503366399556398, 0.02513839490711689, -0.03235109895467758, -0.02367994375526905, 8.685449574841186e-05, -0.006874608341604471, -0.022552959620952606, -0.0025141709484159946, 0.01760748401284218, 0.027684055268764496, 0.018005242571234703, -0.004912328906357288, -0.02178395725786686, -0.01886705495417118, -0.008399353362619877, -0.02972588688135147, -0.012483016587793827, -0.014027648605406284, -0.005558687727898359, 0.009009250439703465, 0.004842720925807953, -0.016122514382004738, -0.0050482298247516155, -0.008021481335163116, 0.01066658180207014, -0.00873744860291481, -0.01893334835767746, -0.001291889464482665, 0.001218966906890273, -0.0035665761679410934, 0.015260702930390835, -0.013477414846420288, 0.0045178839936852455, 0.01678544655442238, -0.014677322469651699, -0.03985549136996269, -0.008352947421371937, -0.030574440956115723, -0.007192816119641066, 0.03052140586078167, -0.008220361545681953, -0.018575364723801613, 0.0036129814106971025, 0.007404954172670841, -0.013828769326210022, -0.009930727072060108, 0.005323346704244614, -0.01032185647636652, 0.002739568008109927, 0.004594121128320694, 0.04762506112456322, 0.02684875950217247, 0.026132794097065926, 0.009751735255122185, 0.012038851156830788, -0.012622231617569923, 0.0025688628666102886, -0.00303954491391778, -0.020603938028216362, -0.0022771726362407207, -0.006526568904519081, -0.013510561548173428, -0.018654916435480118, -0.004086977802217007, 0.002976566320285201, 0.0004230337217450142, -0.001930790487676859, 0.01827041618525982, 0.004567604046314955, 0.0039013568311929703, 0.014756874181330204, 0.012038851156830788, -0.03704465925693512, 0.014597770757973194, -0.007153040263801813, 0.002830721205100417, -0.008306542411446571, 0.01500878855586052, -0.02016640268266201, 0.03593093529343605, 0.013212242163717747, 0.011157151311635971, -0.025788068771362305, 0.008856776170432568, 0.005750938318669796, -0.02418377250432968, -0.02447546273469925, -0.0013797279680147767, -0.01687825843691826, 0.03850311040878296, -0.011143893003463745, 0.025430085137486458, 0.0018959864974021912, -0.02386556565761566, 0.029672851786017418, 0.0023136339150369167, 0.01321887131780386, 0.005787399597465992, -0.004315689671784639, 0.016891516745090485, 0.021585077047348022, 0.0063939825631678104, 0.017779845744371414, -0.010785909369587898, 0.010467701591551304, 0.0096058901399374, -0.008744077757000923, 0.003341179108247161, -0.025695258751511574, -0.006516625173389912, 0.02463456615805626, 0.01162120420485735, -0.00747124757617712, 0.014836425893008709, 0.0012496274430304766, 0.0056514982134103775, 0.01557891070842743, -0.022552959620952606, -0.025602446869015694, 0.0061818440444767475, -0.008584974333643913, 0.003699162509292364, -0.0051576136611402035, -0.0011775336461141706, 0.04279891401529312, 0.013855285942554474, 0.04340881109237671, -0.032404132187366486, -0.003967650234699249, 0.007716532796621323, 0.004494681488722563, -0.030972199514508247, 0.018814019858837128, 0.011375918984413147, -0.00035756913712248206, -0.02390534058213234, -0.0037389385979622602, -0.007723161950707436, -0.027949228882789612, 0.00221585133112967, 0.026079759001731873, -0.02010010927915573, 0.025125136598944664, 0.0007797741563990712, -0.00018095981795340776, 0.0007532568997703493, -0.024555014446377754, -0.008180585689842701, -0.007153040263801813, -0.006304486654698849, 0.024608049541711807, 0.008717560209333897, -0.006463590543717146, -0.6415063738822937, -0.00955948419868946, -0.01174716092646122, -0.016255101189017296, 0.042189013212919235, 0.009320829063653946, 0.017488155514001846, 0.018336709588766098, 0.0019158745417371392, -0.008213731460273266, -0.0056514982134103775, 0.009930727072060108, 0.029646335169672966, -0.00426596961915493, -0.0249129980802536, -0.040226735174655914, 0.0025754922535270452, -0.0025456601288169622, 0.0035566319711506367, 0.0025423455517739058, 0.005803972948342562, 0.009897580370306969, 0.00986443366855383, -0.019397400319576263, 0.018389742821455002, -0.0013432666892185807, -0.0036958479322493076, -0.018403002992272377, 0.00747124757617712, 0.0040902928449213505, -0.02808181382715702, 0.024077702313661575, 0.01893334835767746, -0.005562002304941416, 0.05489080026745796, 0.018946606665849686, -0.012403463944792747, 0.02013988420367241, -0.008836888708174229, 0.05271638184785843, -0.019105710089206696, -0.013682924211025238, 0.02434287592768669, 0.003119096625596285, -0.011720644310116768, 0.026238862425088882, 0.019795160740613937, 0.0026003520470112562, -0.01662634313106537, 0.02130664512515068, 0.01738208718597889, 0.006450331769883633, -0.012608973309397697, 0.0016589881852269173, -0.005306773353368044, -0.004938845988363028, 0.013682924211025238, -0.007716532796621323, 0.0020385170355439186, 0.013987872749567032, 0.004534457344561815, 0.02475389465689659, -0.03916604444384575, 0.009950614534318447, 0.003596408059820533, 0.03720376268029213, -0.011839971877634525, 0.022022612392902374, 0.005847063381224871, -0.007756308652460575, 0.021134283393621445, 0.007815972901880741, -0.011594686657190323, 0.0010557197965681553, 0.002409759210422635, 0.027657538652420044, 0.010295339860022068, -0.012323912233114243, -0.01557891070842743, -0.018880313262343407, -0.0044515905901789665, 0.006582918111234903, 0.00997050292789936, -0.021386198699474335, 0.02666313946247101, 0.015300478786230087, -0.01899964176118374, -0.00626139622181654, 0.016891516745090485, 0.0014940837863832712, 0.009678812697529793, 0.02406444400548935, 0.0038682103622704744, -0.0016714181983843446, -0.010759391821920872, -0.006695616990327835, -0.016135772690176964, 0.01656004972755909, 0.012708413414657116, -0.015684979036450386, 0.0051145232282578945, -0.011846601031720638, 0.006098977755755186, 0.008299913257360458, -0.007935300469398499, -0.020219435915350914, -0.013132689520716667, 0.0167191531509161, 0.034048207104206085, -0.04232160001993179, -0.021744180470705032, -0.008260137401521206, -0.018098052591085434, -0.007590575609356165, 0.007013824302703142, -0.025058843195438385, 0.01801850087940693, 0.003150586038827896, -0.0016092682490125299, -0.036010485142469406, 0.020696748048067093, 0.013497302308678627, -0.01934436522424221, -0.031396474689245224, -0.0062481374479830265, 0.011203557252883911, -0.034021686762571335, -0.02675594948232174, 0.006659155711531639, 0.019715609028935432, -0.006340947933495045, -0.010116348043084145, 0.00036647729575634, 0.0006637609913013875, 0.01703736186027527, -0.00045452298945747316, 0.004352150950580835, -0.002666645450517535, 0.012211213819682598, -0.005323346704244614, -0.004219564609229565, 0.0034638214856386185, 0.01760748401284218, -0.0031091526616364717, 0.0029285037890076637, -0.024515237659215927, 0.02374623715877533, -0.009943985380232334, -0.004756539594382048, 0.0028605530969798565, 0.014730356633663177, -0.023321960121393204, -0.025111878290772438, 0.021505525335669518, 0.02413073740899563, 0.0004955419572070241, -0.013682924211025238, -0.004130068700760603, 0.008883293718099594, -0.005939873866736889, 0.002444562967866659, 0.004892440978437662, -0.014491701498627663, -0.015353512950241566, 0.021107766777276993, 0.006347577087581158, 0.014677322469651699, 0.007948558777570724, -0.02605324238538742, -0.010772651061415672, 0.010838944464921951, -0.005518911872059107, 0.0008510394254699349, 0.007842489518225193, 0.008127550594508648, 0.016599826514720917, -0.0011004677508026361, -0.009353975765407085, 0.020219435915350914, 0.022844649851322174, 0.012708413414657116, -0.014557994902133942, -0.01567172072827816, 0.0015264017274603248, 0.036673419177532196, 0.00854519847780466, -0.0032931165769696236, 0.02871822938323021, -0.017421862110495567, 0.006980677600950003, 0.01125659141689539, 0.0011311282869428396, -0.00823361985385418, 0.0006418013945221901, 0.03622262552380562, 0.007630351465195417, -0.0031290408223867416, 0.01188637688755989, 0.0118267135694623, 0.016507016494870186, 0.011362660676240921, 0.011203557252883911, 0.003397528314962983, -0.025907397270202637, 0.01567172072827816, -0.0408366322517395, 0.002479366958141327, -0.02589413709938526, 0.046246159821748734, 0.0062282495200634, -0.002562233479693532, -0.01351719070225954, -0.0022440259344875813, -0.002643442712724209, 0.02251318283379078, 0.019132228568196297, 0.0018512385431677103, -0.014690580777823925, -0.0013805566122755408, -0.011442212387919426, 0.025125136598944664, 0.024011410772800446, 0.0035831492859870195, 0.0016946208197623491, -0.018310191109776497, 0.022884424775838852, -0.005353178828954697, -0.017594223842024803, -0.004103551153093576, -0.010613546706736088, -0.005399583838880062, 0.013961355201900005, 0.004826147574931383, 0.017329052090644836, -0.00908880215138197, 0.0008593260427005589, 0.017103655263781548, -0.00843912921845913, 0.016162291169166565, 0.010759391821920872, -0.016944551840424538, 0.006874608341604471, -0.012396834790706635, -0.004617323633283377, 0.02700786478817463, 0.022897683084011078, 0.022075647488236427, 0.005512282717972994, 0.009857804514467716, 0.019172003492712975, 0.00013766204938292503, 0.002242368645966053, -0.017687035724520683, 0.012151550501585007, -0.01779310405254364, -0.010931754484772682, 0.008306542411446571, 0.013006732799112797, -0.026225604116916656, 0.008472275920212269, 0.01178030762821436, -0.03155558183789253, 0.016546791419386864, -0.001839637290686369, 0.011150522157549858, -0.016507016494870186, -0.019795160740613937, -0.012483016587793827, -0.009837916120886803, -0.007404954172670841, -0.031290408223867416, 0.002812490565702319, 0.0037654556799679995, -0.009161724708974361, -0.006861350033432245, -0.009539596736431122, 0.01719646528363228, 0.0033444936852902174, -0.01264874916523695, -0.019052674993872643, 0.0128409992903471, -0.0440187081694603, 0.010142864659428596, 0.038290973752737045, -0.012695154175162315, -0.013351457193493843, -0.010633435100317001, -0.010918496176600456, -0.039563801139593124, 0.011349402368068695, 0.018853796645998955, 0.03789321333169937, -0.018190864473581314, -0.02041831612586975, -0.003662701230496168, 0.01534025464206934, 0.01443866640329361, -0.005131096579134464, -0.004428388085216284, -0.037946246564388275, 0.0011178696295246482, 0.010792538523674011, -0.015075081959366798, -0.012502904050052166, 0.03776062652468681, 0.00320527795702219, -0.00833968911319971, -0.01172727346420288, 0.006397297140210867, -0.032085925340652466, -0.009148466400802135, -0.01576453074812889, -0.025589188560843468, -0.010978159494698048, 0.015777790918946266, 0.0011195270344614983, 0.005253738723695278, -0.0051277815364301205, 0.040863148868083954, -0.008492163382470608, -0.012098515406250954, -0.012874145992100239, -0.012874145992100239, 0.002305347239598632, 0.13523820042610168, -0.01113063469529152, -0.017421862110495567, 0.018389742821455002, 0.03441944718360901, -0.01247638650238514, -0.014491701498627663, 0.006331004202365875, 0.015631945803761482, -0.0018777558580040932, 0.006761909928172827, -0.012005705386400223, 0.0036494426894932985, 0.01125659141689539, -0.0063210600055754185, -0.012973586097359657, -0.017713552340865135, -0.02336173690855503, 0.0036660158075392246, -0.008180585689842701, -0.04274587705731392, 0.00444827601313591, 0.033067066222429276, 0.024104220792651176, 0.0025406882632523775, -0.015751272439956665, 0.029938025400042534, 0.01943717710673809, 0.006115551106631756, -0.018760984763503075, 0.016281617805361748, -0.007590575609356165, -0.010978159494698048, -0.0010076571488752961, 0.0019722238648682833, 0.00497862184420228, -0.003397528314962983, 0.022486666217446327, 0.0074182129465043545, -0.002626869361847639, 0.002885413123294711, -0.003652757266536355, 0.02593391388654709, -0.03805231675505638, 0.0005647354992106557, 0.007663498166948557, -0.00892969872802496, 0.028028780594468117, -0.004279228392988443, -0.010580400004982948, 0.0015868942718952894, -0.020338764414191246, 0.030309267342090607, 0.0007992478203959763, -0.022486666217446327, -0.009711959399282932, -0.003970964811742306, -0.009526337496936321, -0.002131327521055937, 0.015486099757254124, 0.0014683951158076525, -0.015472841449081898, -0.006331004202365875, -0.013656406663358212, 0.006019425578415394, -0.02773709036409855, -0.007186186499893665, -0.03577182814478874, -0.02472737617790699, -0.02409096248447895, 0.021956318989396095, -0.004935531411319971, -0.012357058934867382, 0.011574799194931984, 0.03357089310884476, 0.02399815060198307, 0.024037927389144897, 0.009857804514467716, 0.008691043592989445, -0.005088005680590868, 0.003606352023780346, -0.016599826514720917, 0.003095894120633602, -0.035161931067705154, 0.0017750014085322618, -0.001912559848278761, -0.001949021127074957, 0.0007644438883289695, -0.02155856043100357, 0.002656701486557722, 0.0037687704898416996, -0.010109717957675457, -0.008870034478604794, -0.023732978850603104, -0.025509636849164963, 0.024515237659215927, 0.015194409526884556, 0.012403463944792747, 0.01950347051024437, 0.00020519827376119792, -0.01370944082736969, -5.039321695221588e-05, 0.0138818034902215, -0.011289738118648529, -0.02080281637609005, 0.010361632332205772, 0.0010872090933844447, 0.015141375362873077, -0.011773678474128246, 0.0034041577018797398, 0.022818131372332573, -0.009997019544243813, 0.044496018439531326, -0.012562568299472332, 0.020206177607178688, 0.021346421912312508, 0.025430085137486458, 0.026477517560124397, -0.01073287520557642, 0.005770826246589422, 0.0015148004749789834, -0.0188007615506649, 0.0220358707010746, 0.015486099757254124, -0.036991626024246216, 0.012920551933348179, -0.0006948359659872949, -0.02386556565761566, -0.012005705386400223, 0.013039879500865936, -0.00607908982783556, 0.036461278796195984, -0.006914384663105011, -0.031449511647224426, -0.049560822546482086, -0.017846139147877693, -0.0062183053232729435, 0.03054792247712612, -0.0019606223795562983, 0.00946667417883873, -0.019052674993872643, -0.015950152650475502, 0.005727735348045826, -0.017103655263781548, -0.01178030762821436, -0.03725679963827133, 0.004173159133642912, 0.0010026851668953896, 0.0068083154037594795, 0.006679043639451265, -0.007789455354213715, 0.010388149879872799, 6.230528379091993e-05, -0.031926821917295456, -0.00040583888767287135, -0.009015879593789577, 0.006118865683674812, -0.0011667609214782715, 0.02146575041115284, 0.011806825175881386, 0.03723027929663658, 0.009586001746356487, 0.025469861924648285, 0.017806362360715866, 0.003543373430147767, 0.008883293718099594, 0.0022904311772435904, 0.0012214528396725655, -0.019423918798565865, 0.0057111624628305435, -0.0008485534344799817, 0.0027959172148257494, -0.004252710845321417, 0.004315689671784639, 0.010295339860022068, 0.007935300469398499, 0.0014874545158818364, -0.03166164830327034, 0.001501541817560792, -0.032881446182727814, 0.0022473407443612814, 0.0014783391961827874, -0.006795056629925966, -0.0022539698984473944, 0.006171900313347578, 0.0021213835570961237, 0.03449900075793266, 0.0008899866952560842, -0.030945682898163795, -0.007729791104793549, 0.02940768003463745, -0.011283108964562416, 0.011720644310116768, 0.004342206753790379, 0.007053600158542395, -0.021916544064879417, 0.0030610901303589344, -0.017435120418667793, -0.021890025585889816, 0.023640166968107224, 0.024197030812501907, 0.006662470288574696, -0.03494979441165924, 0.0014319338370114565, -0.004269284196197987, 0.013510561548173428, -0.02438265271484852, 0.011177039705216885, 0.01870795153081417, -0.0020086851436644793, -0.0220623891800642, -0.018654916435480118, -0.014133717864751816, -0.03229806572198868, 0.002802546601742506, 0.015950152650475502, 0.001493255142122507, -0.00042593403486534953, -0.03083961270749569, -0.02760450355708599, 0.004690246190875769, 0.006569659803062677, 0.027975745499134064, 0.01842951960861683, 0.022022612392902374, 0.0008568400517106056, 0.017262758687138557, -0.02808181382715702, 0.01724950037896633, -0.0078027136623859406, -0.004965363536030054, 0.01697106845676899, 0.02381253056228161, 0.0015620343619957566, -0.029248574748635292, 0.009619148448109627, -0.010361632332205772, -0.029009919613599777, -0.014425408095121384, 0.03916604444384575, -0.01902615837752819, -0.03335875645279884, -0.009519708342850208, -0.007882265374064445, -0.023481063544750214, 0.026504036039114, 0.0030842928681522608, 0.010142864659428596, -0.009155095554888248, -0.010023537091910839, -0.01937088370323181, 0.0057144770398736, -0.026331672444939613, 0.018071535974740982, -0.004836091306060553, -0.011422324925661087, 0.005787399597465992, -0.028930367901921272, -0.013696182519197464, 0.005147669930011034, -0.01518115121871233, 0.004136697854846716, 0.00747124757617712, -0.007172928191721439, 0.013530449010431767, -0.003533429466187954, -0.020537644624710083, 0.004136697854846716, -0.0046338969841599464, 0.023534098640084267, -0.007888895459473133, 0.0007611291948705912, 0.01788591407239437, -0.006433758419007063, 0.01437237299978733, 0.009208130650222301, -0.008154068142175674, 0.0024031298235058784, 0.006828203331679106, -0.0014327625976875424, 0.03871525079011917, -0.0020352022256702185, -0.010169382207095623, 0.01105108205229044, -0.014664063230156898, -0.00820047315210104, -0.0036825891584157944, -0.0012711727758869529, -0.0008725847001187503, -0.0391395278275013, -0.013828769326210022, 0.00012067440547980368, 0.0019904545042663813, -0.015380030497908592, 0.018084794282913208, 0.004057146143168211, -0.0006546456716023386, -0.00945341493934393, -0.012151550501585007, 0.010726245120167732, -0.013855285942554474, -0.011753791011869907, -0.004716763738542795, -0.009241277351975441, 0.007895524613559246, -0.019781900569796562, 6.991864938754588e-05, -0.012933810241520405, -0.01370944082736969, -0.021412715315818787, 0.006642582360655069, 0.0073452903889119625, 0.0003240082005504519, 0.005111208651214838, 0.0010292024817317724, -0.013364716432988644, 0.001107097021304071, -0.004391926806420088, -0.02320263162255287, 0.018323449417948723, -0.014955754391849041, 0.0037422531750053167, -0.01829693280160427, 0.016215326264500618, 0.01731579378247261, -0.03399517014622688, -0.0010267164325341582, 0.01071961596608162, 0.009473303332924843, 0.009387122467160225, -0.002282144734635949, 0.02523120492696762, 0.018323449417948723, 0.008313171565532684, -0.02842653915286064, 0.0016581595409661531, -0.014173493720591068, 0.02906295470893383, 0.00553217064589262, -0.007186186499893665, -0.011753791011869907, 0.0351354144513607, 0.039908528327941895, 0.0004872552817687392, 0.004643841180950403, -0.04550367593765259, -0.006364150438457727, -0.01811131276190281, -0.015870600938796997, -0.021704405546188354, 0.015870600938796997, 0.015963410958647728, 0.009698700159788132, -0.01294706854969263, -0.0318472720682621, 0.008843517862260342, -0.033040549606084824, -0.010096459649503231, -0.002205907367169857, -0.009751735255122185, 0.015287220478057861, 0.04518546909093857, 0.015777790918946266, -0.012509533204138279, 0.01370944082736969, -0.004809574224054813, -0.019715609028935432, 0.004236137960106134, 0.02263251133263111, -0.021757440641522408, 0.0016813621623441577, 0.007186186499893665, -0.01911896839737892, -0.019052674993872643, 0.012204584665596485, 0.022022612392902374, 0.012701784260571003, 0.01697106845676899, -0.015963410958647728, -0.006901125889271498, -0.012310653924942017, -0.016453981399536133, 0.013470785692334175, 0.008956216275691986, 0.009665553458034992, -0.025668740272521973, -5.8783454733202234e-05, -0.014664063230156898, 0.0018611826235428452, -0.04004111513495445, 0.04537108913064003, 0.016122514382004738, 0.009572743438184261, 0.022155199199914932, -0.004882496781647205, -0.02805529721081257, -0.004295801743865013, -0.005416157189756632, 0.020458092913031578, -0.00955948419868946, -0.02310982160270214, 0.008240249007940292, -0.022393854334950447, -0.01699758507311344, 0.011349402368068695, -0.01549935806542635, 0.009108690544962883, 0.0061453827656805515, -0.030309267342090607, -0.021174060180783272, -0.009387122467160225, -0.016255101189017296, -0.004395241383463144, -0.028506090864539146, 0.002872154349461198, 4.9493337428430095e-06, -0.01817760430276394, -0.009586001746356487, 0.005959761794656515, -0.0069607896730303764, -0.025562671944499016, -0.0001755734847392887, -0.012403463944792747, 7.147239375626668e-05, 0.006274654529988766, -0.00605588685721159, -0.008730819448828697, 0.002479366958141327, 0.030097128823399544, 0.008313171565532684, -0.0030726913828402758, -0.022141940891742706, -0.011700755916535854, 0.01788591407239437, -0.007232591975480318, 0.025005808100104332, 0.24714118242263794, 0.017342310398817062, 0.015711497515439987, 0.009353975765407085, 0.007975076325237751, 0.02406444400548935, 0.01681196503341198, 0.015446323901414871, 0.0033643816132098436, 0.011634462513029575, 0.017435120418667793, 0.010785909369587898, -0.0029069583397358656, 0.009413639083504677, 0.012463128194212914, -0.04067752882838249, -0.02497929148375988, -0.02725977823138237, 0.0036759600043296814, -0.03333223983645439, 0.0018479239661246538, 0.017846139147877693, 0.013974614441394806, -0.03068050928413868, 0.009181613102555275, 0.03691207244992256, -0.0006645896937698126, 0.01294706854969263, 0.022049130871891975, -0.0017252814723178744, 0.005684644915163517, -0.00807451643049717, -0.018827278167009354, 0.007086746860295534, -0.005996223073452711, -0.004232822917401791, 0.014703840017318726, -0.023096563294529915, -0.004004111513495445, -0.01813782937824726, -0.005956447217613459, -0.023467805236577988, -0.020007299259305, -0.010401408188045025, 0.00833968911319971, 0.011866489425301552, -0.014491701498627663, -0.02137293852865696, -0.004872552584856749, 0.019012900069355965, -0.049852512776851654, -0.025098618119955063, 0.016453981399536133, 0.027365848422050476, 0.011329513974487782, -0.004342206753790379, 0.008432499133050442, 0.009300940670073032, -0.007623722311109304, 0.027710571885108948, 0.019225038588047028, 0.03163513168692589, -0.003450562944635749, 0.012370318174362183, -0.03341178968548775, 0.03317313641309738, -0.03691207244992256, 0.0028075184673070908, 0.032430652529001236, -0.01788591407239437, -0.004199676681309938, -0.02067023143172264, -0.00027490974753163755, 0.009201501496136189, 0.0018263786332681775, -0.023759495466947556, 0.029328126460313797, 0.007206074893474579, 0.01477013248950243, 0.00870430190116167, -0.005257053766399622, 0.014425408095121384, 0.019079193472862244, 0.020497867837548256, -0.0110179353505373, -0.023507582023739815, 0.004398555960506201, -0.011992446146905422, -0.0028224345296621323, 0.013629889115691185, -0.0008038054802455008, -0.022725321352481842, -0.014876201748847961, 0.003228480461984873, -0.0019374197581782937, -0.014796650037169456, -0.0003907157515641302, -0.007623722311109304, -0.02340151183307171, 0.014027648605406284, -0.02137293852865696, 0.02520468831062317, 0.00840598251670599, 0.006980677600950003, -0.027684055268764496, 0.007941929623484612, 0.004256025888025761, -0.0020434889011085033, 0.028346987441182137, -0.010341744869947433, -0.011236703023314476, -0.015976669266819954, -0.009731846861541271, -0.007690015248954296, 0.008817000314593315, 0.028532609343528748, 0.016957810148596764, 0.006019425578415394, 0.03054792247712612, -0.006781797856092453, 0.01738208718597889, -0.02564222365617752, 0.009479932487010956, 0.0036129814106971025, -0.016029704362154007, -0.012025592848658562, -0.007915412075817585, 0.004458220209926367, 0.021293386816978455, -0.030150163918733597, 0.009314199909567833, -0.02326892502605915, 0.0022572847083210945, -0.0007557428907603025, -0.007570687681436539, 0.009751735255122185, 0.002088236855342984, -0.013324940577149391, -0.007650239393115044, -0.007696644868701696, -0.012635490857064724, 0.003414101665839553, 0.009128578938543797, 0.006135439034551382, -0.012807853519916534, -0.03850311040878296, 0.006466905120760202, -0.028771264478564262, -0.00870430190116167, -0.008571715094149113, -0.02440916933119297, 0.00767012732103467, -0.0018545532366260886, 0.021386198699474335, 0.03738938644528389, 0.0010540623916313052, 0.010209158062934875, -0.009055656380951405, -0.008624750189483166, 0.01687825843691826, -0.035347554832696915, 0.006135439034551382, 0.008790482766926289, -0.006006167270243168, -0.030600957572460175, -0.004146642051637173, -0.16854391992092133, 0.02621234580874443, 0.027233261615037918, -0.013338198885321617, 0.01943717710673809, 0.0004611523181665689, 0.025655481964349747, 0.013364716432988644, -0.030150163918733597, 0.012867516838014126, 0.0018910145154222846, -0.001327521982602775, -0.03815838694572449, -0.03505586460232735, -0.010593659244477749, -0.010706357657909393, -0.007736420724540949, 0.017010843381285667, 0.020113367587327957, 0.0034571923315525055, 0.005919985938817263, 0.0014758531469851732, 0.018403002992272377, -0.02874474599957466, -0.006234878674149513, -0.013749216683208942, 0.002867182483896613, 0.030070612207055092, -0.005455933511257172, 0.0012786308070644736, -0.02212868258357048, -0.022818131372332573, 0.019795160740613937, -0.029009919613599777, -0.007530911359935999, 0.007172928191721439, -0.0039577060379087925, -0.027471916750073433, -0.0058570075780153275, -0.008757336065173149, 0.03900694102048874, 0.034207310527563095, 0.006049257703125477, -0.001034174463711679, -0.008691043592989445, 0.0002821605885401368, 0.022685544565320015, -0.01706387847661972, 0.014504959806799889, -0.002565548289567232, -0.007902153767645359, -0.03752196952700615, 0.017050620168447495, 0.01756770722568035, -0.001894329208880663, -0.0022191661410033703, 0.01321887131780386, 0.016957810148596764, 0.00393450353294611, -0.01585734263062477, -0.029434196650981903, -0.010792538523674011, 0.0040604607202112675, -0.009155095554888248, 0.00659286230802536, 0.0018744412809610367, -0.028824299573898315, -0.009141837246716022, -0.03001757711172104, 0.014703840017318726, 0.008419240824878216, -0.02041831612586975, 0.02413073740899563, -0.020975179970264435, -0.01282111182808876, 0.022155199199914932, -0.03367696329951286, 0.02251318283379078, -0.015472841449081898, -0.013510561548173428, -0.02564222365617752, 0.04004111513495445, -0.00514435488730669, 0.023348476737737656, -0.02611953392624855, -0.011110746301710606, -0.008187214843928814, 0.014995530247688293, -0.008120921440422535, -0.01248964574187994, 0.030229715630412102, -0.02890385128557682, -0.017580965533852577, 0.00710663478821516, 0.00926116481423378, 0.0018644972005859017, 0.010447814129292965, 0.019516728818416595, 0.00039133726386353374, -0.02495277300477028, -0.006635952740907669, 0.003516856115311384, -0.014266304671764374, 0.017753329128026962, 0.029115989804267883, 0.007133152335882187, 0.02625212073326111, 0.01975538395345211, 0.001225596177391708, 0.009015879593789577, -0.0023484379053115845, -0.014160235412418842, 0.006042628549039364, 0.03410124033689499, 0.012536050751805305, 0.014531477354466915, -0.005664756987243891, -0.009963872842490673, 0.029460713267326355, 0.007438100874423981, 0.059823017567396164, 0.015406548045575619, 0.017991984263062477, -0.014597770757973194, -0.017183206975460052, 0.015936894342303276, -0.09657598286867142, 0.013132689520716667, 0.02235407941043377, 0.009997019544243813, 0.02805529721081257, 0.058868393301963806, 0.012986844405531883, 0.002666645450517535, -0.02434287592768669, 0.013656406663358212, 0.008551827631890774, -0.007577316835522652, 0.02222149260342121, -0.010096459649503231, 0.023136340081691742, -0.016599826514720917, 0.001730253454297781, -0.018734468147158623, -0.019039416685700417, 0.011753791011869907, 0.018071535974740982, 0.006500051822513342, -0.004541086498647928, -0.020497867837548256, 0.008624750189483166, -0.00018686405383050442, -0.027710571885108948, 0.022818131372332573, 0.01988797076046467, 0.008326430805027485, -0.0038284342736005783, -0.021028215065598488, -0.030309267342090607, -0.02536379173398018, -0.0018512385431677103, 0.014465183950960636, -0.03494979441165924, -0.013987872749567032, 0.010812426917254925, -0.015910375863313675, 0.004816203378140926, 0.018071535974740982, 0.013006732799112797, -0.01874772645533085, 0.017899174243211746, -0.020975179970264435, -0.017806362360715866, 0.014836425893008709, 0.02333521842956543, -0.0016150689916685224, -0.015963410958647728, 0.025178171694278717, -0.022566217929124832, -0.010945012792944908, 0.03285492584109306, 0.001813119975849986, 0.01817760430276394, 0.02108124829828739, -0.010010278783738613, -0.005966391414403915, 0.0002639299491420388, -0.0031439566519111395, -0.010852202773094177, -0.0006567173404619098, -0.008173955604434013, 0.011926152743399143, 0.0015404890291392803, -0.013019991107285023, 0.01394809689372778, -0.009930727072060108, -0.03579834848642349, 0.04362094774842262, -0.013570224866271019, 0.016440723091363907, -0.00849879253655672, -0.00012978972517885268, 0.001499884412623942, 0.008140808902680874, 0.010845573619008064, -0.009672182612121105, 0.013411121442914009, -0.0167191531509161, -0.002519143046811223, -0.022088905796408653, 0.04094270244240761, 0.0030909220222383738, 0.002872154349461198, 0.00042966302135027945, -0.016599826514720917, -0.01646723970770836, -0.002776029286906123, 0.04266632720828056, -0.005197389516979456, -0.009539596736431122, -0.020855851471424103, 0.018336709588766098, 0.008790482766926289, 0.015048564411699772, 0.00463058240711689, -0.0057542528957128525, -0.00391793018206954, 0.015406548045575619, -0.07949884980916977, 0.021770698949694633, -0.009665553458034992, -0.005442674737423658, 0.018071535974740982, -0.02292420156300068, -0.007610463537275791, -0.01747489720582962, -0.006118865683674812, -0.007206074893474579, -0.03213896229863167, 0.016202066093683243, -0.006645896937698126, -0.004375353455543518, -0.012516163289546967, -0.012642120011150837, 0.02143923193216324, 0.012635490857064724, 0.010640064254403114, -0.004391926806420088, 0.017925690859556198, 0.0071397814899683, 0.013643147423863411, -0.0033478084951639175, -0.002890384988859296, 0.0020666916389018297, -0.013470785692334175, 0.00016169334412552416, -0.02969937026500702, -0.018164345994591713, 0.01687825843691826, -0.044310398399829865, -0.009015879593789577, 0.01477013248950243, 0.0005891811451874673, -0.01722298189997673, -0.005588519852608442, 0.0036825891584157944, -0.0051576136611402035, 0.029275093227624893, -0.012436610646545887, -0.016029704362154007, 0.018031759187579155, -0.004743280820548534, -0.0015073424438014627, 0.010785909369587898, 0.009778251871466637, 0.0017700294265523553, 0.01662634313106537, 0.0018562106415629387, -0.008001593872904778, 0.04327622428536415, -0.009241277351975441, -0.026225604116916656, -0.0016498728655278683, 0.0033113472163677216, 0.00018914288375526667, -0.012144920416176319, -0.001930790487676859, -0.020749783143401146, 0.012801223434507847, 0.020378541201353073, 0.0056813303381204605, 0.01706387847661972, 0.008333059959113598, -0.010474330745637417, -0.009426898322999477, 0.00496204849332571, 0.021107766777276993, -0.022844649851322174, -0.019052674993872643, -0.001985482405871153, 0.010580400004982948, -0.0021164114587008953, 0.012065368704497814, -0.016480498015880585, 0.008352947421371937, -0.01158805750310421, -0.034260343760252, 0.01567172072827816, -0.0025605761911720037, -0.008220361545681953, -0.04621964320540428, 0.014266304671764374, 0.029089471325278282, -0.004226193763315678, -0.030282750725746155, -0.0073386612348258495, 0.007948558777570724, 0.03935166448354721, 0.004531142767518759, 9.312127804150805e-05, -0.00955948419868946, -0.018601881340146065, 0.005591834429651499, -0.0033527803607285023, -0.044628605246543884, 0.014173493720591068, 0.002711393404752016, 0.03638172894716263, -0.008644637651741505, 0.00767012732103467, -0.001968909054994583, -0.025589188560843468, -0.010441184975206852, 0.02440916933119297, -0.025443343445658684, -0.029275093227624893, 0.00024321330420207232, 0.01266200840473175, -0.0008916440419852734, 0.024276582524180412, 0.003496968187391758, 0.017103655263781548, -0.03964335471391678, 0.0005813087918795645, 0.005449303891509771, -0.012290765531361103, -0.026928313076496124, 0.008412611670792103, 0.01443866640329361, -0.02821440063416958, 0.02067023143172264, 0.007126522716134787, 0.024926256388425827, 0.011455470696091652, 0.014969012700021267, -0.02969937026500702, -0.01179356686770916, 0.013053137809038162, -0.005734364967793226, -0.028691712766885757, -0.012973586097359657, 0.009002621285617352, 0.0068149445578455925, -0.009824657812714577, -0.0034041577018797398, 0.01731579378247261, -0.02972588688135147, 0.034260343760252, 0.017329052090644836, -0.017925690859556198, -0.00517750158905983, -0.04669695347547531, 0.02744540013372898, 0.025443343445658684, 0.01174716092646122, -0.027524951845407486, -0.002369983121752739, 0.004405185580253601, -0.00034679649979807436, 0.011283108964562416, -0.040571458637714386, 0.013324940577149391, -0.011369289830327034, -0.0036825891584157944, 0.007192816119641066, 0.004753225017338991, -0.01890682987868786, -0.01665286161005497, -0.010103088803589344, 0.013318311423063278, -0.0024942830204963684, 0.0001151844990090467, -0.015777790918946266, -0.001392157981172204, -0.020537644624710083, 0.013908321037888527, -0.016613084822893143, 0.024104220792651176, 0.024939514696598053, -0.01687825843691826, -0.012370318174362183, 0.02858564257621765, -0.02789619378745556, 0.006012796424329281, -0.00028423225739970803, 0.04192384332418442, 0.0175411906093359, -0.009009250439703465, 8.918511593947187e-05, -0.019490210339426994, -0.022088905796408653, 0.025880878791213036, -0.01516789197921753, -0.026901794597506523, -0.020113367587327957, 0.00338758435100317] LIMIT 10;\n",
              "    \", consistency=Not Set>"
            ]
          },
          "metadata": {}
        }
      ],
      "source": [
        "# For a cosine similarity distance calculation, use the embedding to find the information nearest to the question asked.\n",
        "query_cos = SimpleStatement(\n",
        "    f\"\"\"\n",
        "    SELECT id, title, answers, context, question, similarity_cosine(title_context_embedding,{embedding}) as similarity\n",
        "    FROM squad_cos\n",
        "    ORDER BY title_context_embedding ANN OF {embedding} LIMIT 10;\n",
        "    \"\"\"\n",
        "    )\n",
        "display(query_cos)"
      ]
    },
    {
      "cell_type": "code",
      "execution_count": null,
      "metadata": {
        "colab": {
          "base_uri": "https://localhost:8080/",
          "height": 1000
        },
        "id": "Idy_fxvypbae",
        "outputId": "a6dec340-5d92-42e8-e4ea-632a32a420b4"
      },
      "outputs": [
        {
          "output_type": "display_data",
          "data": {
            "text/plain": [
              "<SimpleStatement query=\"\n",
              "    SELECT id, title, answers, context, question, similarity_dot_product(title_context_embedding,[0.0035997226368635893, 0.009586001746356487, -0.013364716432988644, -0.01302662119269371, -0.03555969148874283, 0.005336605478078127, -0.00750439427793026, 0.035321034491062164, -0.010434554889798164, -0.004809574224054813, -0.00532666128128767, 0.011389178223907948, -0.015724755823612213, 0.009811398573219776, 0.0019473638385534286, 0.023706460371613503, 0.023706460371613503, 0.00820047315210104, 0.004955419339239597, -0.01925155520439148, 0.0035135415382683277, -0.0017352254362776875, -0.012966956943273544, -0.005207333713769913, 0.004040572792291641, 0.028187884017825127, 0.009983761236071587, -0.018973123282194138, -0.0061387536115944386, -0.022115424275398254, 0.021386198699474335, -0.011488617397844791, -0.013165836222469807, -0.013682924211025238, -0.02228778600692749, 0.007663498166948557, -0.016042962670326233, -0.011568170040845871, 0.021041473373770714, 0.005850377958267927, 0.008644637651741505, 0.006503366399556398, 0.02513839490711689, -0.03235109895467758, -0.02367994375526905, 8.685449574841186e-05, -0.006874608341604471, -0.022552959620952606, -0.0025141709484159946, 0.01760748401284218, 0.027684055268764496, 0.018005242571234703, -0.004912328906357288, -0.02178395725786686, -0.01886705495417118, -0.008399353362619877, -0.02972588688135147, -0.012483016587793827, -0.014027648605406284, -0.005558687727898359, 0.009009250439703465, 0.004842720925807953, -0.016122514382004738, -0.0050482298247516155, -0.008021481335163116, 0.01066658180207014, -0.00873744860291481, -0.01893334835767746, -0.001291889464482665, 0.001218966906890273, -0.0035665761679410934, 0.015260702930390835, -0.013477414846420288, 0.0045178839936852455, 0.01678544655442238, -0.014677322469651699, -0.03985549136996269, -0.008352947421371937, -0.030574440956115723, -0.007192816119641066, 0.03052140586078167, -0.008220361545681953, -0.018575364723801613, 0.0036129814106971025, 0.007404954172670841, -0.013828769326210022, -0.009930727072060108, 0.005323346704244614, -0.01032185647636652, 0.002739568008109927, 0.004594121128320694, 0.04762506112456322, 0.02684875950217247, 0.026132794097065926, 0.009751735255122185, 0.012038851156830788, -0.012622231617569923, 0.0025688628666102886, -0.00303954491391778, -0.020603938028216362, -0.0022771726362407207, -0.006526568904519081, -0.013510561548173428, -0.018654916435480118, -0.004086977802217007, 0.002976566320285201, 0.0004230337217450142, -0.001930790487676859, 0.01827041618525982, 0.004567604046314955, 0.0039013568311929703, 0.014756874181330204, 0.012038851156830788, -0.03704465925693512, 0.014597770757973194, -0.007153040263801813, 0.002830721205100417, -0.008306542411446571, 0.01500878855586052, -0.02016640268266201, 0.03593093529343605, 0.013212242163717747, 0.011157151311635971, -0.025788068771362305, 0.008856776170432568, 0.005750938318669796, -0.02418377250432968, -0.02447546273469925, -0.0013797279680147767, -0.01687825843691826, 0.03850311040878296, -0.011143893003463745, 0.025430085137486458, 0.0018959864974021912, -0.02386556565761566, 0.029672851786017418, 0.0023136339150369167, 0.01321887131780386, 0.005787399597465992, -0.004315689671784639, 0.016891516745090485, 0.021585077047348022, 0.0063939825631678104, 0.017779845744371414, -0.010785909369587898, 0.010467701591551304, 0.0096058901399374, -0.008744077757000923, 0.003341179108247161, -0.025695258751511574, -0.006516625173389912, 0.02463456615805626, 0.01162120420485735, -0.00747124757617712, 0.014836425893008709, 0.0012496274430304766, 0.0056514982134103775, 0.01557891070842743, -0.022552959620952606, -0.025602446869015694, 0.0061818440444767475, -0.008584974333643913, 0.003699162509292364, -0.0051576136611402035, -0.0011775336461141706, 0.04279891401529312, 0.013855285942554474, 0.04340881109237671, -0.032404132187366486, -0.003967650234699249, 0.007716532796621323, 0.004494681488722563, -0.030972199514508247, 0.018814019858837128, 0.011375918984413147, -0.00035756913712248206, -0.02390534058213234, -0.0037389385979622602, -0.007723161950707436, -0.027949228882789612, 0.00221585133112967, 0.026079759001731873, -0.02010010927915573, 0.025125136598944664, 0.0007797741563990712, -0.00018095981795340776, 0.0007532568997703493, -0.024555014446377754, -0.008180585689842701, -0.007153040263801813, -0.006304486654698849, 0.024608049541711807, 0.008717560209333897, -0.006463590543717146, -0.6415063738822937, -0.00955948419868946, -0.01174716092646122, -0.016255101189017296, 0.042189013212919235, 0.009320829063653946, 0.017488155514001846, 0.018336709588766098, 0.0019158745417371392, -0.008213731460273266, -0.0056514982134103775, 0.009930727072060108, 0.029646335169672966, -0.00426596961915493, -0.0249129980802536, -0.040226735174655914, 0.0025754922535270452, -0.0025456601288169622, 0.0035566319711506367, 0.0025423455517739058, 0.005803972948342562, 0.009897580370306969, 0.00986443366855383, -0.019397400319576263, 0.018389742821455002, -0.0013432666892185807, -0.0036958479322493076, -0.018403002992272377, 0.00747124757617712, 0.0040902928449213505, -0.02808181382715702, 0.024077702313661575, 0.01893334835767746, -0.005562002304941416, 0.05489080026745796, 0.018946606665849686, -0.012403463944792747, 0.02013988420367241, -0.008836888708174229, 0.05271638184785843, -0.019105710089206696, -0.013682924211025238, 0.02434287592768669, 0.003119096625596285, -0.011720644310116768, 0.026238862425088882, 0.019795160740613937, 0.0026003520470112562, -0.01662634313106537, 0.02130664512515068, 0.01738208718597889, 0.006450331769883633, -0.012608973309397697, 0.0016589881852269173, -0.005306773353368044, -0.004938845988363028, 0.013682924211025238, -0.007716532796621323, 0.0020385170355439186, 0.013987872749567032, 0.004534457344561815, 0.02475389465689659, -0.03916604444384575, 0.009950614534318447, 0.003596408059820533, 0.03720376268029213, -0.011839971877634525, 0.022022612392902374, 0.005847063381224871, -0.007756308652460575, 0.021134283393621445, 0.007815972901880741, -0.011594686657190323, 0.0010557197965681553, 0.002409759210422635, 0.027657538652420044, 0.010295339860022068, -0.012323912233114243, -0.01557891070842743, -0.018880313262343407, -0.0044515905901789665, 0.006582918111234903, 0.00997050292789936, -0.021386198699474335, 0.02666313946247101, 0.015300478786230087, -0.01899964176118374, -0.00626139622181654, 0.016891516745090485, 0.0014940837863832712, 0.009678812697529793, 0.02406444400548935, 0.0038682103622704744, -0.0016714181983843446, -0.010759391821920872, -0.006695616990327835, -0.016135772690176964, 0.01656004972755909, 0.012708413414657116, -0.015684979036450386, 0.0051145232282578945, -0.011846601031720638, 0.006098977755755186, 0.008299913257360458, -0.007935300469398499, -0.020219435915350914, -0.013132689520716667, 0.0167191531509161, 0.034048207104206085, -0.04232160001993179, -0.021744180470705032, -0.008260137401521206, -0.018098052591085434, -0.007590575609356165, 0.007013824302703142, -0.025058843195438385, 0.01801850087940693, 0.003150586038827896, -0.0016092682490125299, -0.036010485142469406, 0.020696748048067093, 0.013497302308678627, -0.01934436522424221, -0.031396474689245224, -0.0062481374479830265, 0.011203557252883911, -0.034021686762571335, -0.02675594948232174, 0.006659155711531639, 0.019715609028935432, -0.006340947933495045, -0.010116348043084145, 0.00036647729575634, 0.0006637609913013875, 0.01703736186027527, -0.00045452298945747316, 0.004352150950580835, -0.002666645450517535, 0.012211213819682598, -0.005323346704244614, -0.004219564609229565, 0.0034638214856386185, 0.01760748401284218, -0.0031091526616364717, 0.0029285037890076637, -0.024515237659215927, 0.02374623715877533, -0.009943985380232334, -0.004756539594382048, 0.0028605530969798565, 0.014730356633663177, -0.023321960121393204, -0.025111878290772438, 0.021505525335669518, 0.02413073740899563, 0.0004955419572070241, -0.013682924211025238, -0.004130068700760603, 0.008883293718099594, -0.005939873866736889, 0.002444562967866659, 0.004892440978437662, -0.014491701498627663, -0.015353512950241566, 0.021107766777276993, 0.006347577087581158, 0.014677322469651699, 0.007948558777570724, -0.02605324238538742, -0.010772651061415672, 0.010838944464921951, -0.005518911872059107, 0.0008510394254699349, 0.007842489518225193, 0.008127550594508648, 0.016599826514720917, -0.0011004677508026361, -0.009353975765407085, 0.020219435915350914, 0.022844649851322174, 0.012708413414657116, -0.014557994902133942, -0.01567172072827816, 0.0015264017274603248, 0.036673419177532196, 0.00854519847780466, -0.0032931165769696236, 0.02871822938323021, -0.017421862110495567, 0.006980677600950003, 0.01125659141689539, 0.0011311282869428396, -0.00823361985385418, 0.0006418013945221901, 0.03622262552380562, 0.007630351465195417, -0.0031290408223867416, 0.01188637688755989, 0.0118267135694623, 0.016507016494870186, 0.011362660676240921, 0.011203557252883911, 0.003397528314962983, -0.025907397270202637, 0.01567172072827816, -0.0408366322517395, 0.002479366958141327, -0.02589413709938526, 0.046246159821748734, 0.0062282495200634, -0.002562233479693532, -0.01351719070225954, -0.0022440259344875813, -0.002643442712724209, 0.02251318283379078, 0.019132228568196297, 0.0018512385431677103, -0.014690580777823925, -0.0013805566122755408, -0.011442212387919426, 0.025125136598944664, 0.024011410772800446, 0.0035831492859870195, 0.0016946208197623491, -0.018310191109776497, 0.022884424775838852, -0.005353178828954697, -0.017594223842024803, -0.004103551153093576, -0.010613546706736088, -0.005399583838880062, 0.013961355201900005, 0.004826147574931383, 0.017329052090644836, -0.00908880215138197, 0.0008593260427005589, 0.017103655263781548, -0.00843912921845913, 0.016162291169166565, 0.010759391821920872, -0.016944551840424538, 0.006874608341604471, -0.012396834790706635, -0.004617323633283377, 0.02700786478817463, 0.022897683084011078, 0.022075647488236427, 0.005512282717972994, 0.009857804514467716, 0.019172003492712975, 0.00013766204938292503, 0.002242368645966053, -0.017687035724520683, 0.012151550501585007, -0.01779310405254364, -0.010931754484772682, 0.008306542411446571, 0.013006732799112797, -0.026225604116916656, 0.008472275920212269, 0.01178030762821436, -0.03155558183789253, 0.016546791419386864, -0.001839637290686369, 0.011150522157549858, -0.016507016494870186, -0.019795160740613937, -0.012483016587793827, -0.009837916120886803, -0.007404954172670841, -0.031290408223867416, 0.002812490565702319, 0.0037654556799679995, -0.009161724708974361, -0.006861350033432245, -0.009539596736431122, 0.01719646528363228, 0.0033444936852902174, -0.01264874916523695, -0.019052674993872643, 0.0128409992903471, -0.0440187081694603, 0.010142864659428596, 0.038290973752737045, -0.012695154175162315, -0.013351457193493843, -0.010633435100317001, -0.010918496176600456, -0.039563801139593124, 0.011349402368068695, 0.018853796645998955, 0.03789321333169937, -0.018190864473581314, -0.02041831612586975, -0.003662701230496168, 0.01534025464206934, 0.01443866640329361, -0.005131096579134464, -0.004428388085216284, -0.037946246564388275, 0.0011178696295246482, 0.010792538523674011, -0.015075081959366798, -0.012502904050052166, 0.03776062652468681, 0.00320527795702219, -0.00833968911319971, -0.01172727346420288, 0.006397297140210867, -0.032085925340652466, -0.009148466400802135, -0.01576453074812889, -0.025589188560843468, -0.010978159494698048, 0.015777790918946266, 0.0011195270344614983, 0.005253738723695278, -0.0051277815364301205, 0.040863148868083954, -0.008492163382470608, -0.012098515406250954, -0.012874145992100239, -0.012874145992100239, 0.002305347239598632, 0.13523820042610168, -0.01113063469529152, -0.017421862110495567, 0.018389742821455002, 0.03441944718360901, -0.01247638650238514, -0.014491701498627663, 0.006331004202365875, 0.015631945803761482, -0.0018777558580040932, 0.006761909928172827, -0.012005705386400223, 0.0036494426894932985, 0.01125659141689539, -0.0063210600055754185, -0.012973586097359657, -0.017713552340865135, -0.02336173690855503, 0.0036660158075392246, -0.008180585689842701, -0.04274587705731392, 0.00444827601313591, 0.033067066222429276, 0.024104220792651176, 0.0025406882632523775, -0.015751272439956665, 0.029938025400042534, 0.01943717710673809, 0.006115551106631756, -0.018760984763503075, 0.016281617805361748, -0.007590575609356165, -0.010978159494698048, -0.0010076571488752961, 0.0019722238648682833, 0.00497862184420228, -0.003397528314962983, 0.022486666217446327, 0.0074182129465043545, -0.002626869361847639, 0.002885413123294711, -0.003652757266536355, 0.02593391388654709, -0.03805231675505638, 0.0005647354992106557, 0.007663498166948557, -0.00892969872802496, 0.028028780594468117, -0.004279228392988443, -0.010580400004982948, 0.0015868942718952894, -0.020338764414191246, 0.030309267342090607, 0.0007992478203959763, -0.022486666217446327, -0.009711959399282932, -0.003970964811742306, -0.009526337496936321, -0.002131327521055937, 0.015486099757254124, 0.0014683951158076525, -0.015472841449081898, -0.006331004202365875, -0.013656406663358212, 0.006019425578415394, -0.02773709036409855, -0.007186186499893665, -0.03577182814478874, -0.02472737617790699, -0.02409096248447895, 0.021956318989396095, -0.004935531411319971, -0.012357058934867382, 0.011574799194931984, 0.03357089310884476, 0.02399815060198307, 0.024037927389144897, 0.009857804514467716, 0.008691043592989445, -0.005088005680590868, 0.003606352023780346, -0.016599826514720917, 0.003095894120633602, -0.035161931067705154, 0.0017750014085322618, -0.001912559848278761, -0.001949021127074957, 0.0007644438883289695, -0.02155856043100357, 0.002656701486557722, 0.0037687704898416996, -0.010109717957675457, -0.008870034478604794, -0.023732978850603104, -0.025509636849164963, 0.024515237659215927, 0.015194409526884556, 0.012403463944792747, 0.01950347051024437, 0.00020519827376119792, -0.01370944082736969, -5.039321695221588e-05, 0.0138818034902215, -0.011289738118648529, -0.02080281637609005, 0.010361632332205772, 0.0010872090933844447, 0.015141375362873077, -0.011773678474128246, 0.0034041577018797398, 0.022818131372332573, -0.009997019544243813, 0.044496018439531326, -0.012562568299472332, 0.020206177607178688, 0.021346421912312508, 0.025430085137486458, 0.026477517560124397, -0.01073287520557642, 0.005770826246589422, 0.0015148004749789834, -0.0188007615506649, 0.0220358707010746, 0.015486099757254124, -0.036991626024246216, 0.012920551933348179, -0.0006948359659872949, -0.02386556565761566, -0.012005705386400223, 0.013039879500865936, -0.00607908982783556, 0.036461278796195984, -0.006914384663105011, -0.031449511647224426, -0.049560822546482086, -0.017846139147877693, -0.0062183053232729435, 0.03054792247712612, -0.0019606223795562983, 0.00946667417883873, -0.019052674993872643, -0.015950152650475502, 0.005727735348045826, -0.017103655263781548, -0.01178030762821436, -0.03725679963827133, 0.004173159133642912, 0.0010026851668953896, 0.0068083154037594795, 0.006679043639451265, -0.007789455354213715, 0.010388149879872799, 6.230528379091993e-05, -0.031926821917295456, -0.00040583888767287135, -0.009015879593789577, 0.006118865683674812, -0.0011667609214782715, 0.02146575041115284, 0.011806825175881386, 0.03723027929663658, 0.009586001746356487, 0.025469861924648285, 0.017806362360715866, 0.003543373430147767, 0.008883293718099594, 0.0022904311772435904, 0.0012214528396725655, -0.019423918798565865, 0.0057111624628305435, -0.0008485534344799817, 0.0027959172148257494, -0.004252710845321417, 0.004315689671784639, 0.010295339860022068, 0.007935300469398499, 0.0014874545158818364, -0.03166164830327034, 0.001501541817560792, -0.032881446182727814, 0.0022473407443612814, 0.0014783391961827874, -0.006795056629925966, -0.0022539698984473944, 0.006171900313347578, 0.0021213835570961237, 0.03449900075793266, 0.0008899866952560842, -0.030945682898163795, -0.007729791104793549, 0.02940768003463745, -0.011283108964562416, 0.011720644310116768, 0.004342206753790379, 0.007053600158542395, -0.021916544064879417, 0.0030610901303589344, -0.017435120418667793, -0.021890025585889816, 0.023640166968107224, 0.024197030812501907, 0.006662470288574696, -0.03494979441165924, 0.0014319338370114565, -0.004269284196197987, 0.013510561548173428, -0.02438265271484852, 0.011177039705216885, 0.01870795153081417, -0.0020086851436644793, -0.0220623891800642, -0.018654916435480118, -0.014133717864751816, -0.03229806572198868, 0.002802546601742506, 0.015950152650475502, 0.001493255142122507, -0.00042593403486534953, -0.03083961270749569, -0.02760450355708599, 0.004690246190875769, 0.006569659803062677, 0.027975745499134064, 0.01842951960861683, 0.022022612392902374, 0.0008568400517106056, 0.017262758687138557, -0.02808181382715702, 0.01724950037896633, -0.0078027136623859406, -0.004965363536030054, 0.01697106845676899, 0.02381253056228161, 0.0015620343619957566, -0.029248574748635292, 0.009619148448109627, -0.010361632332205772, -0.029009919613599777, -0.014425408095121384, 0.03916604444384575, -0.01902615837752819, -0.03335875645279884, -0.009519708342850208, -0.007882265374064445, -0.023481063544750214, 0.026504036039114, 0.0030842928681522608, 0.010142864659428596, -0.009155095554888248, -0.010023537091910839, -0.01937088370323181, 0.0057144770398736, -0.026331672444939613, 0.018071535974740982, -0.004836091306060553, -0.011422324925661087, 0.005787399597465992, -0.028930367901921272, -0.013696182519197464, 0.005147669930011034, -0.01518115121871233, 0.004136697854846716, 0.00747124757617712, -0.007172928191721439, 0.013530449010431767, -0.003533429466187954, -0.020537644624710083, 0.004136697854846716, -0.0046338969841599464, 0.023534098640084267, -0.007888895459473133, 0.0007611291948705912, 0.01788591407239437, -0.006433758419007063, 0.01437237299978733, 0.009208130650222301, -0.008154068142175674, 0.0024031298235058784, 0.006828203331679106, -0.0014327625976875424, 0.03871525079011917, -0.0020352022256702185, -0.010169382207095623, 0.01105108205229044, -0.014664063230156898, -0.00820047315210104, -0.0036825891584157944, -0.0012711727758869529, -0.0008725847001187503, -0.0391395278275013, -0.013828769326210022, 0.00012067440547980368, 0.0019904545042663813, -0.015380030497908592, 0.018084794282913208, 0.004057146143168211, -0.0006546456716023386, -0.00945341493934393, -0.012151550501585007, 0.010726245120167732, -0.013855285942554474, -0.011753791011869907, -0.004716763738542795, -0.009241277351975441, 0.007895524613559246, -0.019781900569796562, 6.991864938754588e-05, -0.012933810241520405, -0.01370944082736969, -0.021412715315818787, 0.006642582360655069, 0.0073452903889119625, 0.0003240082005504519, 0.005111208651214838, 0.0010292024817317724, -0.013364716432988644, 0.001107097021304071, -0.004391926806420088, -0.02320263162255287, 0.018323449417948723, -0.014955754391849041, 0.0037422531750053167, -0.01829693280160427, 0.016215326264500618, 0.01731579378247261, -0.03399517014622688, -0.0010267164325341582, 0.01071961596608162, 0.009473303332924843, 0.009387122467160225, -0.002282144734635949, 0.02523120492696762, 0.018323449417948723, 0.008313171565532684, -0.02842653915286064, 0.0016581595409661531, -0.014173493720591068, 0.02906295470893383, 0.00553217064589262, -0.007186186499893665, -0.011753791011869907, 0.0351354144513607, 0.039908528327941895, 0.0004872552817687392, 0.004643841180950403, -0.04550367593765259, -0.006364150438457727, -0.01811131276190281, -0.015870600938796997, -0.021704405546188354, 0.015870600938796997, 0.015963410958647728, 0.009698700159788132, -0.01294706854969263, -0.0318472720682621, 0.008843517862260342, -0.033040549606084824, -0.010096459649503231, -0.002205907367169857, -0.009751735255122185, 0.015287220478057861, 0.04518546909093857, 0.015777790918946266, -0.012509533204138279, 0.01370944082736969, -0.004809574224054813, -0.019715609028935432, 0.004236137960106134, 0.02263251133263111, -0.021757440641522408, 0.0016813621623441577, 0.007186186499893665, -0.01911896839737892, -0.019052674993872643, 0.012204584665596485, 0.022022612392902374, 0.012701784260571003, 0.01697106845676899, -0.015963410958647728, -0.006901125889271498, -0.012310653924942017, -0.016453981399536133, 0.013470785692334175, 0.008956216275691986, 0.009665553458034992, -0.025668740272521973, -5.8783454733202234e-05, -0.014664063230156898, 0.0018611826235428452, -0.04004111513495445, 0.04537108913064003, 0.016122514382004738, 0.009572743438184261, 0.022155199199914932, -0.004882496781647205, -0.02805529721081257, -0.004295801743865013, -0.005416157189756632, 0.020458092913031578, -0.00955948419868946, -0.02310982160270214, 0.008240249007940292, -0.022393854334950447, -0.01699758507311344, 0.011349402368068695, -0.01549935806542635, 0.009108690544962883, 0.0061453827656805515, -0.030309267342090607, -0.021174060180783272, -0.009387122467160225, -0.016255101189017296, -0.004395241383463144, -0.028506090864539146, 0.002872154349461198, 4.9493337428430095e-06, -0.01817760430276394, -0.009586001746356487, 0.005959761794656515, -0.0069607896730303764, -0.025562671944499016, -0.0001755734847392887, -0.012403463944792747, 7.147239375626668e-05, 0.006274654529988766, -0.00605588685721159, -0.008730819448828697, 0.002479366958141327, 0.030097128823399544, 0.008313171565532684, -0.0030726913828402758, -0.022141940891742706, -0.011700755916535854, 0.01788591407239437, -0.007232591975480318, 0.025005808100104332, 0.24714118242263794, 0.017342310398817062, 0.015711497515439987, 0.009353975765407085, 0.007975076325237751, 0.02406444400548935, 0.01681196503341198, 0.015446323901414871, 0.0033643816132098436, 0.011634462513029575, 0.017435120418667793, 0.010785909369587898, -0.0029069583397358656, 0.009413639083504677, 0.012463128194212914, -0.04067752882838249, -0.02497929148375988, -0.02725977823138237, 0.0036759600043296814, -0.03333223983645439, 0.0018479239661246538, 0.017846139147877693, 0.013974614441394806, -0.03068050928413868, 0.009181613102555275, 0.03691207244992256, -0.0006645896937698126, 0.01294706854969263, 0.022049130871891975, -0.0017252814723178744, 0.005684644915163517, -0.00807451643049717, -0.018827278167009354, 0.007086746860295534, -0.005996223073452711, -0.004232822917401791, 0.014703840017318726, -0.023096563294529915, -0.004004111513495445, -0.01813782937824726, -0.005956447217613459, -0.023467805236577988, -0.020007299259305, -0.010401408188045025, 0.00833968911319971, 0.011866489425301552, -0.014491701498627663, -0.02137293852865696, -0.004872552584856749, 0.019012900069355965, -0.049852512776851654, -0.025098618119955063, 0.016453981399536133, 0.027365848422050476, 0.011329513974487782, -0.004342206753790379, 0.008432499133050442, 0.009300940670073032, -0.007623722311109304, 0.027710571885108948, 0.019225038588047028, 0.03163513168692589, -0.003450562944635749, 0.012370318174362183, -0.03341178968548775, 0.03317313641309738, -0.03691207244992256, 0.0028075184673070908, 0.032430652529001236, -0.01788591407239437, -0.004199676681309938, -0.02067023143172264, -0.00027490974753163755, 0.009201501496136189, 0.0018263786332681775, -0.023759495466947556, 0.029328126460313797, 0.007206074893474579, 0.01477013248950243, 0.00870430190116167, -0.005257053766399622, 0.014425408095121384, 0.019079193472862244, 0.020497867837548256, -0.0110179353505373, -0.023507582023739815, 0.004398555960506201, -0.011992446146905422, -0.0028224345296621323, 0.013629889115691185, -0.0008038054802455008, -0.022725321352481842, -0.014876201748847961, 0.003228480461984873, -0.0019374197581782937, -0.014796650037169456, -0.0003907157515641302, -0.007623722311109304, -0.02340151183307171, 0.014027648605406284, -0.02137293852865696, 0.02520468831062317, 0.00840598251670599, 0.006980677600950003, -0.027684055268764496, 0.007941929623484612, 0.004256025888025761, -0.0020434889011085033, 0.028346987441182137, -0.010341744869947433, -0.011236703023314476, -0.015976669266819954, -0.009731846861541271, -0.007690015248954296, 0.008817000314593315, 0.028532609343528748, 0.016957810148596764, 0.006019425578415394, 0.03054792247712612, -0.006781797856092453, 0.01738208718597889, -0.02564222365617752, 0.009479932487010956, 0.0036129814106971025, -0.016029704362154007, -0.012025592848658562, -0.007915412075817585, 0.004458220209926367, 0.021293386816978455, -0.030150163918733597, 0.009314199909567833, -0.02326892502605915, 0.0022572847083210945, -0.0007557428907603025, -0.007570687681436539, 0.009751735255122185, 0.002088236855342984, -0.013324940577149391, -0.007650239393115044, -0.007696644868701696, -0.012635490857064724, 0.003414101665839553, 0.009128578938543797, 0.006135439034551382, -0.012807853519916534, -0.03850311040878296, 0.006466905120760202, -0.028771264478564262, -0.00870430190116167, -0.008571715094149113, -0.02440916933119297, 0.00767012732103467, -0.0018545532366260886, 0.021386198699474335, 0.03738938644528389, 0.0010540623916313052, 0.010209158062934875, -0.009055656380951405, -0.008624750189483166, 0.01687825843691826, -0.035347554832696915, 0.006135439034551382, 0.008790482766926289, -0.006006167270243168, -0.030600957572460175, -0.004146642051637173, -0.16854391992092133, 0.02621234580874443, 0.027233261615037918, -0.013338198885321617, 0.01943717710673809, 0.0004611523181665689, 0.025655481964349747, 0.013364716432988644, -0.030150163918733597, 0.012867516838014126, 0.0018910145154222846, -0.001327521982602775, -0.03815838694572449, -0.03505586460232735, -0.010593659244477749, -0.010706357657909393, -0.007736420724540949, 0.017010843381285667, 0.020113367587327957, 0.0034571923315525055, 0.005919985938817263, 0.0014758531469851732, 0.018403002992272377, -0.02874474599957466, -0.006234878674149513, -0.013749216683208942, 0.002867182483896613, 0.030070612207055092, -0.005455933511257172, 0.0012786308070644736, -0.02212868258357048, -0.022818131372332573, 0.019795160740613937, -0.029009919613599777, -0.007530911359935999, 0.007172928191721439, -0.0039577060379087925, -0.027471916750073433, -0.0058570075780153275, -0.008757336065173149, 0.03900694102048874, 0.034207310527563095, 0.006049257703125477, -0.001034174463711679, -0.008691043592989445, 0.0002821605885401368, 0.022685544565320015, -0.01706387847661972, 0.014504959806799889, -0.002565548289567232, -0.007902153767645359, -0.03752196952700615, 0.017050620168447495, 0.01756770722568035, -0.001894329208880663, -0.0022191661410033703, 0.01321887131780386, 0.016957810148596764, 0.00393450353294611, -0.01585734263062477, -0.029434196650981903, -0.010792538523674011, 0.0040604607202112675, -0.009155095554888248, 0.00659286230802536, 0.0018744412809610367, -0.028824299573898315, -0.009141837246716022, -0.03001757711172104, 0.014703840017318726, 0.008419240824878216, -0.02041831612586975, 0.02413073740899563, -0.020975179970264435, -0.01282111182808876, 0.022155199199914932, -0.03367696329951286, 0.02251318283379078, -0.015472841449081898, -0.013510561548173428, -0.02564222365617752, 0.04004111513495445, -0.00514435488730669, 0.023348476737737656, -0.02611953392624855, -0.011110746301710606, -0.008187214843928814, 0.014995530247688293, -0.008120921440422535, -0.01248964574187994, 0.030229715630412102, -0.02890385128557682, -0.017580965533852577, 0.00710663478821516, 0.00926116481423378, 0.0018644972005859017, 0.010447814129292965, 0.019516728818416595, 0.00039133726386353374, -0.02495277300477028, -0.006635952740907669, 0.003516856115311384, -0.014266304671764374, 0.017753329128026962, 0.029115989804267883, 0.007133152335882187, 0.02625212073326111, 0.01975538395345211, 0.001225596177391708, 0.009015879593789577, -0.0023484379053115845, -0.014160235412418842, 0.006042628549039364, 0.03410124033689499, 0.012536050751805305, 0.014531477354466915, -0.005664756987243891, -0.009963872842490673, 0.029460713267326355, 0.007438100874423981, 0.059823017567396164, 0.015406548045575619, 0.017991984263062477, -0.014597770757973194, -0.017183206975460052, 0.015936894342303276, -0.09657598286867142, 0.013132689520716667, 0.02235407941043377, 0.009997019544243813, 0.02805529721081257, 0.058868393301963806, 0.012986844405531883, 0.002666645450517535, -0.02434287592768669, 0.013656406663358212, 0.008551827631890774, -0.007577316835522652, 0.02222149260342121, -0.010096459649503231, 0.023136340081691742, -0.016599826514720917, 0.001730253454297781, -0.018734468147158623, -0.019039416685700417, 0.011753791011869907, 0.018071535974740982, 0.006500051822513342, -0.004541086498647928, -0.020497867837548256, 0.008624750189483166, -0.00018686405383050442, -0.027710571885108948, 0.022818131372332573, 0.01988797076046467, 0.008326430805027485, -0.0038284342736005783, -0.021028215065598488, -0.030309267342090607, -0.02536379173398018, -0.0018512385431677103, 0.014465183950960636, -0.03494979441165924, -0.013987872749567032, 0.010812426917254925, -0.015910375863313675, 0.004816203378140926, 0.018071535974740982, 0.013006732799112797, -0.01874772645533085, 0.017899174243211746, -0.020975179970264435, -0.017806362360715866, 0.014836425893008709, 0.02333521842956543, -0.0016150689916685224, -0.015963410958647728, 0.025178171694278717, -0.022566217929124832, -0.010945012792944908, 0.03285492584109306, 0.001813119975849986, 0.01817760430276394, 0.02108124829828739, -0.010010278783738613, -0.005966391414403915, 0.0002639299491420388, -0.0031439566519111395, -0.010852202773094177, -0.0006567173404619098, -0.008173955604434013, 0.011926152743399143, 0.0015404890291392803, -0.013019991107285023, 0.01394809689372778, -0.009930727072060108, -0.03579834848642349, 0.04362094774842262, -0.013570224866271019, 0.016440723091363907, -0.00849879253655672, -0.00012978972517885268, 0.001499884412623942, 0.008140808902680874, 0.010845573619008064, -0.009672182612121105, 0.013411121442914009, -0.0167191531509161, -0.002519143046811223, -0.022088905796408653, 0.04094270244240761, 0.0030909220222383738, 0.002872154349461198, 0.00042966302135027945, -0.016599826514720917, -0.01646723970770836, -0.002776029286906123, 0.04266632720828056, -0.005197389516979456, -0.009539596736431122, -0.020855851471424103, 0.018336709588766098, 0.008790482766926289, 0.015048564411699772, 0.00463058240711689, -0.0057542528957128525, -0.00391793018206954, 0.015406548045575619, -0.07949884980916977, 0.021770698949694633, -0.009665553458034992, -0.005442674737423658, 0.018071535974740982, -0.02292420156300068, -0.007610463537275791, -0.01747489720582962, -0.006118865683674812, -0.007206074893474579, -0.03213896229863167, 0.016202066093683243, -0.006645896937698126, -0.004375353455543518, -0.012516163289546967, -0.012642120011150837, 0.02143923193216324, 0.012635490857064724, 0.010640064254403114, -0.004391926806420088, 0.017925690859556198, 0.0071397814899683, 0.013643147423863411, -0.0033478084951639175, -0.002890384988859296, 0.0020666916389018297, -0.013470785692334175, 0.00016169334412552416, -0.02969937026500702, -0.018164345994591713, 0.01687825843691826, -0.044310398399829865, -0.009015879593789577, 0.01477013248950243, 0.0005891811451874673, -0.01722298189997673, -0.005588519852608442, 0.0036825891584157944, -0.0051576136611402035, 0.029275093227624893, -0.012436610646545887, -0.016029704362154007, 0.018031759187579155, -0.004743280820548534, -0.0015073424438014627, 0.010785909369587898, 0.009778251871466637, 0.0017700294265523553, 0.01662634313106537, 0.0018562106415629387, -0.008001593872904778, 0.04327622428536415, -0.009241277351975441, -0.026225604116916656, -0.0016498728655278683, 0.0033113472163677216, 0.00018914288375526667, -0.012144920416176319, -0.001930790487676859, -0.020749783143401146, 0.012801223434507847, 0.020378541201353073, 0.0056813303381204605, 0.01706387847661972, 0.008333059959113598, -0.010474330745637417, -0.009426898322999477, 0.00496204849332571, 0.021107766777276993, -0.022844649851322174, -0.019052674993872643, -0.001985482405871153, 0.010580400004982948, -0.0021164114587008953, 0.012065368704497814, -0.016480498015880585, 0.008352947421371937, -0.01158805750310421, -0.034260343760252, 0.01567172072827816, -0.0025605761911720037, -0.008220361545681953, -0.04621964320540428, 0.014266304671764374, 0.029089471325278282, -0.004226193763315678, -0.030282750725746155, -0.0073386612348258495, 0.007948558777570724, 0.03935166448354721, 0.004531142767518759, 9.312127804150805e-05, -0.00955948419868946, -0.018601881340146065, 0.005591834429651499, -0.0033527803607285023, -0.044628605246543884, 0.014173493720591068, 0.002711393404752016, 0.03638172894716263, -0.008644637651741505, 0.00767012732103467, -0.001968909054994583, -0.025589188560843468, -0.010441184975206852, 0.02440916933119297, -0.025443343445658684, -0.029275093227624893, 0.00024321330420207232, 0.01266200840473175, -0.0008916440419852734, 0.024276582524180412, 0.003496968187391758, 0.017103655263781548, -0.03964335471391678, 0.0005813087918795645, 0.005449303891509771, -0.012290765531361103, -0.026928313076496124, 0.008412611670792103, 0.01443866640329361, -0.02821440063416958, 0.02067023143172264, 0.007126522716134787, 0.024926256388425827, 0.011455470696091652, 0.014969012700021267, -0.02969937026500702, -0.01179356686770916, 0.013053137809038162, -0.005734364967793226, -0.028691712766885757, -0.012973586097359657, 0.009002621285617352, 0.0068149445578455925, -0.009824657812714577, -0.0034041577018797398, 0.01731579378247261, -0.02972588688135147, 0.034260343760252, 0.017329052090644836, -0.017925690859556198, -0.00517750158905983, -0.04669695347547531, 0.02744540013372898, 0.025443343445658684, 0.01174716092646122, -0.027524951845407486, -0.002369983121752739, 0.004405185580253601, -0.00034679649979807436, 0.011283108964562416, -0.040571458637714386, 0.013324940577149391, -0.011369289830327034, -0.0036825891584157944, 0.007192816119641066, 0.004753225017338991, -0.01890682987868786, -0.01665286161005497, -0.010103088803589344, 0.013318311423063278, -0.0024942830204963684, 0.0001151844990090467, -0.015777790918946266, -0.001392157981172204, -0.020537644624710083, 0.013908321037888527, -0.016613084822893143, 0.024104220792651176, 0.024939514696598053, -0.01687825843691826, -0.012370318174362183, 0.02858564257621765, -0.02789619378745556, 0.006012796424329281, -0.00028423225739970803, 0.04192384332418442, 0.0175411906093359, -0.009009250439703465, 8.918511593947187e-05, -0.019490210339426994, -0.022088905796408653, 0.025880878791213036, -0.01516789197921753, -0.026901794597506523, -0.020113367587327957, 0.00338758435100317]) as similarity\n",
              "    FROM squad_dp\n",
              "    ORDER BY title_context_embedding ANN OF [0.0035997226368635893, 0.009586001746356487, -0.013364716432988644, -0.01302662119269371, -0.03555969148874283, 0.005336605478078127, -0.00750439427793026, 0.035321034491062164, -0.010434554889798164, -0.004809574224054813, -0.00532666128128767, 0.011389178223907948, -0.015724755823612213, 0.009811398573219776, 0.0019473638385534286, 0.023706460371613503, 0.023706460371613503, 0.00820047315210104, 0.004955419339239597, -0.01925155520439148, 0.0035135415382683277, -0.0017352254362776875, -0.012966956943273544, -0.005207333713769913, 0.004040572792291641, 0.028187884017825127, 0.009983761236071587, -0.018973123282194138, -0.0061387536115944386, -0.022115424275398254, 0.021386198699474335, -0.011488617397844791, -0.013165836222469807, -0.013682924211025238, -0.02228778600692749, 0.007663498166948557, -0.016042962670326233, -0.011568170040845871, 0.021041473373770714, 0.005850377958267927, 0.008644637651741505, 0.006503366399556398, 0.02513839490711689, -0.03235109895467758, -0.02367994375526905, 8.685449574841186e-05, -0.006874608341604471, -0.022552959620952606, -0.0025141709484159946, 0.01760748401284218, 0.027684055268764496, 0.018005242571234703, -0.004912328906357288, -0.02178395725786686, -0.01886705495417118, -0.008399353362619877, -0.02972588688135147, -0.012483016587793827, -0.014027648605406284, -0.005558687727898359, 0.009009250439703465, 0.004842720925807953, -0.016122514382004738, -0.0050482298247516155, -0.008021481335163116, 0.01066658180207014, -0.00873744860291481, -0.01893334835767746, -0.001291889464482665, 0.001218966906890273, -0.0035665761679410934, 0.015260702930390835, -0.013477414846420288, 0.0045178839936852455, 0.01678544655442238, -0.014677322469651699, -0.03985549136996269, -0.008352947421371937, -0.030574440956115723, -0.007192816119641066, 0.03052140586078167, -0.008220361545681953, -0.018575364723801613, 0.0036129814106971025, 0.007404954172670841, -0.013828769326210022, -0.009930727072060108, 0.005323346704244614, -0.01032185647636652, 0.002739568008109927, 0.004594121128320694, 0.04762506112456322, 0.02684875950217247, 0.026132794097065926, 0.009751735255122185, 0.012038851156830788, -0.012622231617569923, 0.0025688628666102886, -0.00303954491391778, -0.020603938028216362, -0.0022771726362407207, -0.006526568904519081, -0.013510561548173428, -0.018654916435480118, -0.004086977802217007, 0.002976566320285201, 0.0004230337217450142, -0.001930790487676859, 0.01827041618525982, 0.004567604046314955, 0.0039013568311929703, 0.014756874181330204, 0.012038851156830788, -0.03704465925693512, 0.014597770757973194, -0.007153040263801813, 0.002830721205100417, -0.008306542411446571, 0.01500878855586052, -0.02016640268266201, 0.03593093529343605, 0.013212242163717747, 0.011157151311635971, -0.025788068771362305, 0.008856776170432568, 0.005750938318669796, -0.02418377250432968, -0.02447546273469925, -0.0013797279680147767, -0.01687825843691826, 0.03850311040878296, -0.011143893003463745, 0.025430085137486458, 0.0018959864974021912, -0.02386556565761566, 0.029672851786017418, 0.0023136339150369167, 0.01321887131780386, 0.005787399597465992, -0.004315689671784639, 0.016891516745090485, 0.021585077047348022, 0.0063939825631678104, 0.017779845744371414, -0.010785909369587898, 0.010467701591551304, 0.0096058901399374, -0.008744077757000923, 0.003341179108247161, -0.025695258751511574, -0.006516625173389912, 0.02463456615805626, 0.01162120420485735, -0.00747124757617712, 0.014836425893008709, 0.0012496274430304766, 0.0056514982134103775, 0.01557891070842743, -0.022552959620952606, -0.025602446869015694, 0.0061818440444767475, -0.008584974333643913, 0.003699162509292364, -0.0051576136611402035, -0.0011775336461141706, 0.04279891401529312, 0.013855285942554474, 0.04340881109237671, -0.032404132187366486, -0.003967650234699249, 0.007716532796621323, 0.004494681488722563, -0.030972199514508247, 0.018814019858837128, 0.011375918984413147, -0.00035756913712248206, -0.02390534058213234, -0.0037389385979622602, -0.007723161950707436, -0.027949228882789612, 0.00221585133112967, 0.026079759001731873, -0.02010010927915573, 0.025125136598944664, 0.0007797741563990712, -0.00018095981795340776, 0.0007532568997703493, -0.024555014446377754, -0.008180585689842701, -0.007153040263801813, -0.006304486654698849, 0.024608049541711807, 0.008717560209333897, -0.006463590543717146, -0.6415063738822937, -0.00955948419868946, -0.01174716092646122, -0.016255101189017296, 0.042189013212919235, 0.009320829063653946, 0.017488155514001846, 0.018336709588766098, 0.0019158745417371392, -0.008213731460273266, -0.0056514982134103775, 0.009930727072060108, 0.029646335169672966, -0.00426596961915493, -0.0249129980802536, -0.040226735174655914, 0.0025754922535270452, -0.0025456601288169622, 0.0035566319711506367, 0.0025423455517739058, 0.005803972948342562, 0.009897580370306969, 0.00986443366855383, -0.019397400319576263, 0.018389742821455002, -0.0013432666892185807, -0.0036958479322493076, -0.018403002992272377, 0.00747124757617712, 0.0040902928449213505, -0.02808181382715702, 0.024077702313661575, 0.01893334835767746, -0.005562002304941416, 0.05489080026745796, 0.018946606665849686, -0.012403463944792747, 0.02013988420367241, -0.008836888708174229, 0.05271638184785843, -0.019105710089206696, -0.013682924211025238, 0.02434287592768669, 0.003119096625596285, -0.011720644310116768, 0.026238862425088882, 0.019795160740613937, 0.0026003520470112562, -0.01662634313106537, 0.02130664512515068, 0.01738208718597889, 0.006450331769883633, -0.012608973309397697, 0.0016589881852269173, -0.005306773353368044, -0.004938845988363028, 0.013682924211025238, -0.007716532796621323, 0.0020385170355439186, 0.013987872749567032, 0.004534457344561815, 0.02475389465689659, -0.03916604444384575, 0.009950614534318447, 0.003596408059820533, 0.03720376268029213, -0.011839971877634525, 0.022022612392902374, 0.005847063381224871, -0.007756308652460575, 0.021134283393621445, 0.007815972901880741, -0.011594686657190323, 0.0010557197965681553, 0.002409759210422635, 0.027657538652420044, 0.010295339860022068, -0.012323912233114243, -0.01557891070842743, -0.018880313262343407, -0.0044515905901789665, 0.006582918111234903, 0.00997050292789936, -0.021386198699474335, 0.02666313946247101, 0.015300478786230087, -0.01899964176118374, -0.00626139622181654, 0.016891516745090485, 0.0014940837863832712, 0.009678812697529793, 0.02406444400548935, 0.0038682103622704744, -0.0016714181983843446, -0.010759391821920872, -0.006695616990327835, -0.016135772690176964, 0.01656004972755909, 0.012708413414657116, -0.015684979036450386, 0.0051145232282578945, -0.011846601031720638, 0.006098977755755186, 0.008299913257360458, -0.007935300469398499, -0.020219435915350914, -0.013132689520716667, 0.0167191531509161, 0.034048207104206085, -0.04232160001993179, -0.021744180470705032, -0.008260137401521206, -0.018098052591085434, -0.007590575609356165, 0.007013824302703142, -0.025058843195438385, 0.01801850087940693, 0.003150586038827896, -0.0016092682490125299, -0.036010485142469406, 0.020696748048067093, 0.013497302308678627, -0.01934436522424221, -0.031396474689245224, -0.0062481374479830265, 0.011203557252883911, -0.034021686762571335, -0.02675594948232174, 0.006659155711531639, 0.019715609028935432, -0.006340947933495045, -0.010116348043084145, 0.00036647729575634, 0.0006637609913013875, 0.01703736186027527, -0.00045452298945747316, 0.004352150950580835, -0.002666645450517535, 0.012211213819682598, -0.005323346704244614, -0.004219564609229565, 0.0034638214856386185, 0.01760748401284218, -0.0031091526616364717, 0.0029285037890076637, -0.024515237659215927, 0.02374623715877533, -0.009943985380232334, -0.004756539594382048, 0.0028605530969798565, 0.014730356633663177, -0.023321960121393204, -0.025111878290772438, 0.021505525335669518, 0.02413073740899563, 0.0004955419572070241, -0.013682924211025238, -0.004130068700760603, 0.008883293718099594, -0.005939873866736889, 0.002444562967866659, 0.004892440978437662, -0.014491701498627663, -0.015353512950241566, 0.021107766777276993, 0.006347577087581158, 0.014677322469651699, 0.007948558777570724, -0.02605324238538742, -0.010772651061415672, 0.010838944464921951, -0.005518911872059107, 0.0008510394254699349, 0.007842489518225193, 0.008127550594508648, 0.016599826514720917, -0.0011004677508026361, -0.009353975765407085, 0.020219435915350914, 0.022844649851322174, 0.012708413414657116, -0.014557994902133942, -0.01567172072827816, 0.0015264017274603248, 0.036673419177532196, 0.00854519847780466, -0.0032931165769696236, 0.02871822938323021, -0.017421862110495567, 0.006980677600950003, 0.01125659141689539, 0.0011311282869428396, -0.00823361985385418, 0.0006418013945221901, 0.03622262552380562, 0.007630351465195417, -0.0031290408223867416, 0.01188637688755989, 0.0118267135694623, 0.016507016494870186, 0.011362660676240921, 0.011203557252883911, 0.003397528314962983, -0.025907397270202637, 0.01567172072827816, -0.0408366322517395, 0.002479366958141327, -0.02589413709938526, 0.046246159821748734, 0.0062282495200634, -0.002562233479693532, -0.01351719070225954, -0.0022440259344875813, -0.002643442712724209, 0.02251318283379078, 0.019132228568196297, 0.0018512385431677103, -0.014690580777823925, -0.0013805566122755408, -0.011442212387919426, 0.025125136598944664, 0.024011410772800446, 0.0035831492859870195, 0.0016946208197623491, -0.018310191109776497, 0.022884424775838852, -0.005353178828954697, -0.017594223842024803, -0.004103551153093576, -0.010613546706736088, -0.005399583838880062, 0.013961355201900005, 0.004826147574931383, 0.017329052090644836, -0.00908880215138197, 0.0008593260427005589, 0.017103655263781548, -0.00843912921845913, 0.016162291169166565, 0.010759391821920872, -0.016944551840424538, 0.006874608341604471, -0.012396834790706635, -0.004617323633283377, 0.02700786478817463, 0.022897683084011078, 0.022075647488236427, 0.005512282717972994, 0.009857804514467716, 0.019172003492712975, 0.00013766204938292503, 0.002242368645966053, -0.017687035724520683, 0.012151550501585007, -0.01779310405254364, -0.010931754484772682, 0.008306542411446571, 0.013006732799112797, -0.026225604116916656, 0.008472275920212269, 0.01178030762821436, -0.03155558183789253, 0.016546791419386864, -0.001839637290686369, 0.011150522157549858, -0.016507016494870186, -0.019795160740613937, -0.012483016587793827, -0.009837916120886803, -0.007404954172670841, -0.031290408223867416, 0.002812490565702319, 0.0037654556799679995, -0.009161724708974361, -0.006861350033432245, -0.009539596736431122, 0.01719646528363228, 0.0033444936852902174, -0.01264874916523695, -0.019052674993872643, 0.0128409992903471, -0.0440187081694603, 0.010142864659428596, 0.038290973752737045, -0.012695154175162315, -0.013351457193493843, -0.010633435100317001, -0.010918496176600456, -0.039563801139593124, 0.011349402368068695, 0.018853796645998955, 0.03789321333169937, -0.018190864473581314, -0.02041831612586975, -0.003662701230496168, 0.01534025464206934, 0.01443866640329361, -0.005131096579134464, -0.004428388085216284, -0.037946246564388275, 0.0011178696295246482, 0.010792538523674011, -0.015075081959366798, -0.012502904050052166, 0.03776062652468681, 0.00320527795702219, -0.00833968911319971, -0.01172727346420288, 0.006397297140210867, -0.032085925340652466, -0.009148466400802135, -0.01576453074812889, -0.025589188560843468, -0.010978159494698048, 0.015777790918946266, 0.0011195270344614983, 0.005253738723695278, -0.0051277815364301205, 0.040863148868083954, -0.008492163382470608, -0.012098515406250954, -0.012874145992100239, -0.012874145992100239, 0.002305347239598632, 0.13523820042610168, -0.01113063469529152, -0.017421862110495567, 0.018389742821455002, 0.03441944718360901, -0.01247638650238514, -0.014491701498627663, 0.006331004202365875, 0.015631945803761482, -0.0018777558580040932, 0.006761909928172827, -0.012005705386400223, 0.0036494426894932985, 0.01125659141689539, -0.0063210600055754185, -0.012973586097359657, -0.017713552340865135, -0.02336173690855503, 0.0036660158075392246, -0.008180585689842701, -0.04274587705731392, 0.00444827601313591, 0.033067066222429276, 0.024104220792651176, 0.0025406882632523775, -0.015751272439956665, 0.029938025400042534, 0.01943717710673809, 0.006115551106631756, -0.018760984763503075, 0.016281617805361748, -0.007590575609356165, -0.010978159494698048, -0.0010076571488752961, 0.0019722238648682833, 0.00497862184420228, -0.003397528314962983, 0.022486666217446327, 0.0074182129465043545, -0.002626869361847639, 0.002885413123294711, -0.003652757266536355, 0.02593391388654709, -0.03805231675505638, 0.0005647354992106557, 0.007663498166948557, -0.00892969872802496, 0.028028780594468117, -0.004279228392988443, -0.010580400004982948, 0.0015868942718952894, -0.020338764414191246, 0.030309267342090607, 0.0007992478203959763, -0.022486666217446327, -0.009711959399282932, -0.003970964811742306, -0.009526337496936321, -0.002131327521055937, 0.015486099757254124, 0.0014683951158076525, -0.015472841449081898, -0.006331004202365875, -0.013656406663358212, 0.006019425578415394, -0.02773709036409855, -0.007186186499893665, -0.03577182814478874, -0.02472737617790699, -0.02409096248447895, 0.021956318989396095, -0.004935531411319971, -0.012357058934867382, 0.011574799194931984, 0.03357089310884476, 0.02399815060198307, 0.024037927389144897, 0.009857804514467716, 0.008691043592989445, -0.005088005680590868, 0.003606352023780346, -0.016599826514720917, 0.003095894120633602, -0.035161931067705154, 0.0017750014085322618, -0.001912559848278761, -0.001949021127074957, 0.0007644438883289695, -0.02155856043100357, 0.002656701486557722, 0.0037687704898416996, -0.010109717957675457, -0.008870034478604794, -0.023732978850603104, -0.025509636849164963, 0.024515237659215927, 0.015194409526884556, 0.012403463944792747, 0.01950347051024437, 0.00020519827376119792, -0.01370944082736969, -5.039321695221588e-05, 0.0138818034902215, -0.011289738118648529, -0.02080281637609005, 0.010361632332205772, 0.0010872090933844447, 0.015141375362873077, -0.011773678474128246, 0.0034041577018797398, 0.022818131372332573, -0.009997019544243813, 0.044496018439531326, -0.012562568299472332, 0.020206177607178688, 0.021346421912312508, 0.025430085137486458, 0.026477517560124397, -0.01073287520557642, 0.005770826246589422, 0.0015148004749789834, -0.0188007615506649, 0.0220358707010746, 0.015486099757254124, -0.036991626024246216, 0.012920551933348179, -0.0006948359659872949, -0.02386556565761566, -0.012005705386400223, 0.013039879500865936, -0.00607908982783556, 0.036461278796195984, -0.006914384663105011, -0.031449511647224426, -0.049560822546482086, -0.017846139147877693, -0.0062183053232729435, 0.03054792247712612, -0.0019606223795562983, 0.00946667417883873, -0.019052674993872643, -0.015950152650475502, 0.005727735348045826, -0.017103655263781548, -0.01178030762821436, -0.03725679963827133, 0.004173159133642912, 0.0010026851668953896, 0.0068083154037594795, 0.006679043639451265, -0.007789455354213715, 0.010388149879872799, 6.230528379091993e-05, -0.031926821917295456, -0.00040583888767287135, -0.009015879593789577, 0.006118865683674812, -0.0011667609214782715, 0.02146575041115284, 0.011806825175881386, 0.03723027929663658, 0.009586001746356487, 0.025469861924648285, 0.017806362360715866, 0.003543373430147767, 0.008883293718099594, 0.0022904311772435904, 0.0012214528396725655, -0.019423918798565865, 0.0057111624628305435, -0.0008485534344799817, 0.0027959172148257494, -0.004252710845321417, 0.004315689671784639, 0.010295339860022068, 0.007935300469398499, 0.0014874545158818364, -0.03166164830327034, 0.001501541817560792, -0.032881446182727814, 0.0022473407443612814, 0.0014783391961827874, -0.006795056629925966, -0.0022539698984473944, 0.006171900313347578, 0.0021213835570961237, 0.03449900075793266, 0.0008899866952560842, -0.030945682898163795, -0.007729791104793549, 0.02940768003463745, -0.011283108964562416, 0.011720644310116768, 0.004342206753790379, 0.007053600158542395, -0.021916544064879417, 0.0030610901303589344, -0.017435120418667793, -0.021890025585889816, 0.023640166968107224, 0.024197030812501907, 0.006662470288574696, -0.03494979441165924, 0.0014319338370114565, -0.004269284196197987, 0.013510561548173428, -0.02438265271484852, 0.011177039705216885, 0.01870795153081417, -0.0020086851436644793, -0.0220623891800642, -0.018654916435480118, -0.014133717864751816, -0.03229806572198868, 0.002802546601742506, 0.015950152650475502, 0.001493255142122507, -0.00042593403486534953, -0.03083961270749569, -0.02760450355708599, 0.004690246190875769, 0.006569659803062677, 0.027975745499134064, 0.01842951960861683, 0.022022612392902374, 0.0008568400517106056, 0.017262758687138557, -0.02808181382715702, 0.01724950037896633, -0.0078027136623859406, -0.004965363536030054, 0.01697106845676899, 0.02381253056228161, 0.0015620343619957566, -0.029248574748635292, 0.009619148448109627, -0.010361632332205772, -0.029009919613599777, -0.014425408095121384, 0.03916604444384575, -0.01902615837752819, -0.03335875645279884, -0.009519708342850208, -0.007882265374064445, -0.023481063544750214, 0.026504036039114, 0.0030842928681522608, 0.010142864659428596, -0.009155095554888248, -0.010023537091910839, -0.01937088370323181, 0.0057144770398736, -0.026331672444939613, 0.018071535974740982, -0.004836091306060553, -0.011422324925661087, 0.005787399597465992, -0.028930367901921272, -0.013696182519197464, 0.005147669930011034, -0.01518115121871233, 0.004136697854846716, 0.00747124757617712, -0.007172928191721439, 0.013530449010431767, -0.003533429466187954, -0.020537644624710083, 0.004136697854846716, -0.0046338969841599464, 0.023534098640084267, -0.007888895459473133, 0.0007611291948705912, 0.01788591407239437, -0.006433758419007063, 0.01437237299978733, 0.009208130650222301, -0.008154068142175674, 0.0024031298235058784, 0.006828203331679106, -0.0014327625976875424, 0.03871525079011917, -0.0020352022256702185, -0.010169382207095623, 0.01105108205229044, -0.014664063230156898, -0.00820047315210104, -0.0036825891584157944, -0.0012711727758869529, -0.0008725847001187503, -0.0391395278275013, -0.013828769326210022, 0.00012067440547980368, 0.0019904545042663813, -0.015380030497908592, 0.018084794282913208, 0.004057146143168211, -0.0006546456716023386, -0.00945341493934393, -0.012151550501585007, 0.010726245120167732, -0.013855285942554474, -0.011753791011869907, -0.004716763738542795, -0.009241277351975441, 0.007895524613559246, -0.019781900569796562, 6.991864938754588e-05, -0.012933810241520405, -0.01370944082736969, -0.021412715315818787, 0.006642582360655069, 0.0073452903889119625, 0.0003240082005504519, 0.005111208651214838, 0.0010292024817317724, -0.013364716432988644, 0.001107097021304071, -0.004391926806420088, -0.02320263162255287, 0.018323449417948723, -0.014955754391849041, 0.0037422531750053167, -0.01829693280160427, 0.016215326264500618, 0.01731579378247261, -0.03399517014622688, -0.0010267164325341582, 0.01071961596608162, 0.009473303332924843, 0.009387122467160225, -0.002282144734635949, 0.02523120492696762, 0.018323449417948723, 0.008313171565532684, -0.02842653915286064, 0.0016581595409661531, -0.014173493720591068, 0.02906295470893383, 0.00553217064589262, -0.007186186499893665, -0.011753791011869907, 0.0351354144513607, 0.039908528327941895, 0.0004872552817687392, 0.004643841180950403, -0.04550367593765259, -0.006364150438457727, -0.01811131276190281, -0.015870600938796997, -0.021704405546188354, 0.015870600938796997, 0.015963410958647728, 0.009698700159788132, -0.01294706854969263, -0.0318472720682621, 0.008843517862260342, -0.033040549606084824, -0.010096459649503231, -0.002205907367169857, -0.009751735255122185, 0.015287220478057861, 0.04518546909093857, 0.015777790918946266, -0.012509533204138279, 0.01370944082736969, -0.004809574224054813, -0.019715609028935432, 0.004236137960106134, 0.02263251133263111, -0.021757440641522408, 0.0016813621623441577, 0.007186186499893665, -0.01911896839737892, -0.019052674993872643, 0.012204584665596485, 0.022022612392902374, 0.012701784260571003, 0.01697106845676899, -0.015963410958647728, -0.006901125889271498, -0.012310653924942017, -0.016453981399536133, 0.013470785692334175, 0.008956216275691986, 0.009665553458034992, -0.025668740272521973, -5.8783454733202234e-05, -0.014664063230156898, 0.0018611826235428452, -0.04004111513495445, 0.04537108913064003, 0.016122514382004738, 0.009572743438184261, 0.022155199199914932, -0.004882496781647205, -0.02805529721081257, -0.004295801743865013, -0.005416157189756632, 0.020458092913031578, -0.00955948419868946, -0.02310982160270214, 0.008240249007940292, -0.022393854334950447, -0.01699758507311344, 0.011349402368068695, -0.01549935806542635, 0.009108690544962883, 0.0061453827656805515, -0.030309267342090607, -0.021174060180783272, -0.009387122467160225, -0.016255101189017296, -0.004395241383463144, -0.028506090864539146, 0.002872154349461198, 4.9493337428430095e-06, -0.01817760430276394, -0.009586001746356487, 0.005959761794656515, -0.0069607896730303764, -0.025562671944499016, -0.0001755734847392887, -0.012403463944792747, 7.147239375626668e-05, 0.006274654529988766, -0.00605588685721159, -0.008730819448828697, 0.002479366958141327, 0.030097128823399544, 0.008313171565532684, -0.0030726913828402758, -0.022141940891742706, -0.011700755916535854, 0.01788591407239437, -0.007232591975480318, 0.025005808100104332, 0.24714118242263794, 0.017342310398817062, 0.015711497515439987, 0.009353975765407085, 0.007975076325237751, 0.02406444400548935, 0.01681196503341198, 0.015446323901414871, 0.0033643816132098436, 0.011634462513029575, 0.017435120418667793, 0.010785909369587898, -0.0029069583397358656, 0.009413639083504677, 0.012463128194212914, -0.04067752882838249, -0.02497929148375988, -0.02725977823138237, 0.0036759600043296814, -0.03333223983645439, 0.0018479239661246538, 0.017846139147877693, 0.013974614441394806, -0.03068050928413868, 0.009181613102555275, 0.03691207244992256, -0.0006645896937698126, 0.01294706854969263, 0.022049130871891975, -0.0017252814723178744, 0.005684644915163517, -0.00807451643049717, -0.018827278167009354, 0.007086746860295534, -0.005996223073452711, -0.004232822917401791, 0.014703840017318726, -0.023096563294529915, -0.004004111513495445, -0.01813782937824726, -0.005956447217613459, -0.023467805236577988, -0.020007299259305, -0.010401408188045025, 0.00833968911319971, 0.011866489425301552, -0.014491701498627663, -0.02137293852865696, -0.004872552584856749, 0.019012900069355965, -0.049852512776851654, -0.025098618119955063, 0.016453981399536133, 0.027365848422050476, 0.011329513974487782, -0.004342206753790379, 0.008432499133050442, 0.009300940670073032, -0.007623722311109304, 0.027710571885108948, 0.019225038588047028, 0.03163513168692589, -0.003450562944635749, 0.012370318174362183, -0.03341178968548775, 0.03317313641309738, -0.03691207244992256, 0.0028075184673070908, 0.032430652529001236, -0.01788591407239437, -0.004199676681309938, -0.02067023143172264, -0.00027490974753163755, 0.009201501496136189, 0.0018263786332681775, -0.023759495466947556, 0.029328126460313797, 0.007206074893474579, 0.01477013248950243, 0.00870430190116167, -0.005257053766399622, 0.014425408095121384, 0.019079193472862244, 0.020497867837548256, -0.0110179353505373, -0.023507582023739815, 0.004398555960506201, -0.011992446146905422, -0.0028224345296621323, 0.013629889115691185, -0.0008038054802455008, -0.022725321352481842, -0.014876201748847961, 0.003228480461984873, -0.0019374197581782937, -0.014796650037169456, -0.0003907157515641302, -0.007623722311109304, -0.02340151183307171, 0.014027648605406284, -0.02137293852865696, 0.02520468831062317, 0.00840598251670599, 0.006980677600950003, -0.027684055268764496, 0.007941929623484612, 0.004256025888025761, -0.0020434889011085033, 0.028346987441182137, -0.010341744869947433, -0.011236703023314476, -0.015976669266819954, -0.009731846861541271, -0.007690015248954296, 0.008817000314593315, 0.028532609343528748, 0.016957810148596764, 0.006019425578415394, 0.03054792247712612, -0.006781797856092453, 0.01738208718597889, -0.02564222365617752, 0.009479932487010956, 0.0036129814106971025, -0.016029704362154007, -0.012025592848658562, -0.007915412075817585, 0.004458220209926367, 0.021293386816978455, -0.030150163918733597, 0.009314199909567833, -0.02326892502605915, 0.0022572847083210945, -0.0007557428907603025, -0.007570687681436539, 0.009751735255122185, 0.002088236855342984, -0.013324940577149391, -0.007650239393115044, -0.007696644868701696, -0.012635490857064724, 0.003414101665839553, 0.009128578938543797, 0.006135439034551382, -0.012807853519916534, -0.03850311040878296, 0.006466905120760202, -0.028771264478564262, -0.00870430190116167, -0.008571715094149113, -0.02440916933119297, 0.00767012732103467, -0.0018545532366260886, 0.021386198699474335, 0.03738938644528389, 0.0010540623916313052, 0.010209158062934875, -0.009055656380951405, -0.008624750189483166, 0.01687825843691826, -0.035347554832696915, 0.006135439034551382, 0.008790482766926289, -0.006006167270243168, -0.030600957572460175, -0.004146642051637173, -0.16854391992092133, 0.02621234580874443, 0.027233261615037918, -0.013338198885321617, 0.01943717710673809, 0.0004611523181665689, 0.025655481964349747, 0.013364716432988644, -0.030150163918733597, 0.012867516838014126, 0.0018910145154222846, -0.001327521982602775, -0.03815838694572449, -0.03505586460232735, -0.010593659244477749, -0.010706357657909393, -0.007736420724540949, 0.017010843381285667, 0.020113367587327957, 0.0034571923315525055, 0.005919985938817263, 0.0014758531469851732, 0.018403002992272377, -0.02874474599957466, -0.006234878674149513, -0.013749216683208942, 0.002867182483896613, 0.030070612207055092, -0.005455933511257172, 0.0012786308070644736, -0.02212868258357048, -0.022818131372332573, 0.019795160740613937, -0.029009919613599777, -0.007530911359935999, 0.007172928191721439, -0.0039577060379087925, -0.027471916750073433, -0.0058570075780153275, -0.008757336065173149, 0.03900694102048874, 0.034207310527563095, 0.006049257703125477, -0.001034174463711679, -0.008691043592989445, 0.0002821605885401368, 0.022685544565320015, -0.01706387847661972, 0.014504959806799889, -0.002565548289567232, -0.007902153767645359, -0.03752196952700615, 0.017050620168447495, 0.01756770722568035, -0.001894329208880663, -0.0022191661410033703, 0.01321887131780386, 0.016957810148596764, 0.00393450353294611, -0.01585734263062477, -0.029434196650981903, -0.010792538523674011, 0.0040604607202112675, -0.009155095554888248, 0.00659286230802536, 0.0018744412809610367, -0.028824299573898315, -0.009141837246716022, -0.03001757711172104, 0.014703840017318726, 0.008419240824878216, -0.02041831612586975, 0.02413073740899563, -0.020975179970264435, -0.01282111182808876, 0.022155199199914932, -0.03367696329951286, 0.02251318283379078, -0.015472841449081898, -0.013510561548173428, -0.02564222365617752, 0.04004111513495445, -0.00514435488730669, 0.023348476737737656, -0.02611953392624855, -0.011110746301710606, -0.008187214843928814, 0.014995530247688293, -0.008120921440422535, -0.01248964574187994, 0.030229715630412102, -0.02890385128557682, -0.017580965533852577, 0.00710663478821516, 0.00926116481423378, 0.0018644972005859017, 0.010447814129292965, 0.019516728818416595, 0.00039133726386353374, -0.02495277300477028, -0.006635952740907669, 0.003516856115311384, -0.014266304671764374, 0.017753329128026962, 0.029115989804267883, 0.007133152335882187, 0.02625212073326111, 0.01975538395345211, 0.001225596177391708, 0.009015879593789577, -0.0023484379053115845, -0.014160235412418842, 0.006042628549039364, 0.03410124033689499, 0.012536050751805305, 0.014531477354466915, -0.005664756987243891, -0.009963872842490673, 0.029460713267326355, 0.007438100874423981, 0.059823017567396164, 0.015406548045575619, 0.017991984263062477, -0.014597770757973194, -0.017183206975460052, 0.015936894342303276, -0.09657598286867142, 0.013132689520716667, 0.02235407941043377, 0.009997019544243813, 0.02805529721081257, 0.058868393301963806, 0.012986844405531883, 0.002666645450517535, -0.02434287592768669, 0.013656406663358212, 0.008551827631890774, -0.007577316835522652, 0.02222149260342121, -0.010096459649503231, 0.023136340081691742, -0.016599826514720917, 0.001730253454297781, -0.018734468147158623, -0.019039416685700417, 0.011753791011869907, 0.018071535974740982, 0.006500051822513342, -0.004541086498647928, -0.020497867837548256, 0.008624750189483166, -0.00018686405383050442, -0.027710571885108948, 0.022818131372332573, 0.01988797076046467, 0.008326430805027485, -0.0038284342736005783, -0.021028215065598488, -0.030309267342090607, -0.02536379173398018, -0.0018512385431677103, 0.014465183950960636, -0.03494979441165924, -0.013987872749567032, 0.010812426917254925, -0.015910375863313675, 0.004816203378140926, 0.018071535974740982, 0.013006732799112797, -0.01874772645533085, 0.017899174243211746, -0.020975179970264435, -0.017806362360715866, 0.014836425893008709, 0.02333521842956543, -0.0016150689916685224, -0.015963410958647728, 0.025178171694278717, -0.022566217929124832, -0.010945012792944908, 0.03285492584109306, 0.001813119975849986, 0.01817760430276394, 0.02108124829828739, -0.010010278783738613, -0.005966391414403915, 0.0002639299491420388, -0.0031439566519111395, -0.010852202773094177, -0.0006567173404619098, -0.008173955604434013, 0.011926152743399143, 0.0015404890291392803, -0.013019991107285023, 0.01394809689372778, -0.009930727072060108, -0.03579834848642349, 0.04362094774842262, -0.013570224866271019, 0.016440723091363907, -0.00849879253655672, -0.00012978972517885268, 0.001499884412623942, 0.008140808902680874, 0.010845573619008064, -0.009672182612121105, 0.013411121442914009, -0.0167191531509161, -0.002519143046811223, -0.022088905796408653, 0.04094270244240761, 0.0030909220222383738, 0.002872154349461198, 0.00042966302135027945, -0.016599826514720917, -0.01646723970770836, -0.002776029286906123, 0.04266632720828056, -0.005197389516979456, -0.009539596736431122, -0.020855851471424103, 0.018336709588766098, 0.008790482766926289, 0.015048564411699772, 0.00463058240711689, -0.0057542528957128525, -0.00391793018206954, 0.015406548045575619, -0.07949884980916977, 0.021770698949694633, -0.009665553458034992, -0.005442674737423658, 0.018071535974740982, -0.02292420156300068, -0.007610463537275791, -0.01747489720582962, -0.006118865683674812, -0.007206074893474579, -0.03213896229863167, 0.016202066093683243, -0.006645896937698126, -0.004375353455543518, -0.012516163289546967, -0.012642120011150837, 0.02143923193216324, 0.012635490857064724, 0.010640064254403114, -0.004391926806420088, 0.017925690859556198, 0.0071397814899683, 0.013643147423863411, -0.0033478084951639175, -0.002890384988859296, 0.0020666916389018297, -0.013470785692334175, 0.00016169334412552416, -0.02969937026500702, -0.018164345994591713, 0.01687825843691826, -0.044310398399829865, -0.009015879593789577, 0.01477013248950243, 0.0005891811451874673, -0.01722298189997673, -0.005588519852608442, 0.0036825891584157944, -0.0051576136611402035, 0.029275093227624893, -0.012436610646545887, -0.016029704362154007, 0.018031759187579155, -0.004743280820548534, -0.0015073424438014627, 0.010785909369587898, 0.009778251871466637, 0.0017700294265523553, 0.01662634313106537, 0.0018562106415629387, -0.008001593872904778, 0.04327622428536415, -0.009241277351975441, -0.026225604116916656, -0.0016498728655278683, 0.0033113472163677216, 0.00018914288375526667, -0.012144920416176319, -0.001930790487676859, -0.020749783143401146, 0.012801223434507847, 0.020378541201353073, 0.0056813303381204605, 0.01706387847661972, 0.008333059959113598, -0.010474330745637417, -0.009426898322999477, 0.00496204849332571, 0.021107766777276993, -0.022844649851322174, -0.019052674993872643, -0.001985482405871153, 0.010580400004982948, -0.0021164114587008953, 0.012065368704497814, -0.016480498015880585, 0.008352947421371937, -0.01158805750310421, -0.034260343760252, 0.01567172072827816, -0.0025605761911720037, -0.008220361545681953, -0.04621964320540428, 0.014266304671764374, 0.029089471325278282, -0.004226193763315678, -0.030282750725746155, -0.0073386612348258495, 0.007948558777570724, 0.03935166448354721, 0.004531142767518759, 9.312127804150805e-05, -0.00955948419868946, -0.018601881340146065, 0.005591834429651499, -0.0033527803607285023, -0.044628605246543884, 0.014173493720591068, 0.002711393404752016, 0.03638172894716263, -0.008644637651741505, 0.00767012732103467, -0.001968909054994583, -0.025589188560843468, -0.010441184975206852, 0.02440916933119297, -0.025443343445658684, -0.029275093227624893, 0.00024321330420207232, 0.01266200840473175, -0.0008916440419852734, 0.024276582524180412, 0.003496968187391758, 0.017103655263781548, -0.03964335471391678, 0.0005813087918795645, 0.005449303891509771, -0.012290765531361103, -0.026928313076496124, 0.008412611670792103, 0.01443866640329361, -0.02821440063416958, 0.02067023143172264, 0.007126522716134787, 0.024926256388425827, 0.011455470696091652, 0.014969012700021267, -0.02969937026500702, -0.01179356686770916, 0.013053137809038162, -0.005734364967793226, -0.028691712766885757, -0.012973586097359657, 0.009002621285617352, 0.0068149445578455925, -0.009824657812714577, -0.0034041577018797398, 0.01731579378247261, -0.02972588688135147, 0.034260343760252, 0.017329052090644836, -0.017925690859556198, -0.00517750158905983, -0.04669695347547531, 0.02744540013372898, 0.025443343445658684, 0.01174716092646122, -0.027524951845407486, -0.002369983121752739, 0.004405185580253601, -0.00034679649979807436, 0.011283108964562416, -0.040571458637714386, 0.013324940577149391, -0.011369289830327034, -0.0036825891584157944, 0.007192816119641066, 0.004753225017338991, -0.01890682987868786, -0.01665286161005497, -0.010103088803589344, 0.013318311423063278, -0.0024942830204963684, 0.0001151844990090467, -0.015777790918946266, -0.001392157981172204, -0.020537644624710083, 0.013908321037888527, -0.016613084822893143, 0.024104220792651176, 0.024939514696598053, -0.01687825843691826, -0.012370318174362183, 0.02858564257621765, -0.02789619378745556, 0.006012796424329281, -0.00028423225739970803, 0.04192384332418442, 0.0175411906093359, -0.009009250439703465, 8.918511593947187e-05, -0.019490210339426994, -0.022088905796408653, 0.025880878791213036, -0.01516789197921753, -0.026901794597506523, -0.020113367587327957, 0.00338758435100317] LIMIT 10;\n",
              "    \", consistency=Not Set>"
            ]
          },
          "metadata": {}
        }
      ],
      "source": [
        "# Do the same thing for a dot product distance calculation, use the embedding to find the information nearest to the question asked.\n",
        "query_dp = SimpleStatement(\n",
        "    f\"\"\"\n",
        "    SELECT id, title, answers, context, question, similarity_dot_product(title_context_embedding,{embedding}) as similarity\n",
        "    FROM squad_dp\n",
        "    ORDER BY title_context_embedding ANN OF {embedding} LIMIT 10;\n",
        "    \"\"\"\n",
        "    )\n",
        "\n",
        "display(query_dp)"
      ]
    },
    {
      "cell_type": "code",
      "execution_count": null,
      "metadata": {
        "colab": {
          "base_uri": "https://localhost:8080/",
          "height": 1000
        },
        "outputId": "292fec89-c35f-455e-eb71-aac6eb5ee432",
        "id": "B_hI6HXJZ4bb"
      },
      "outputs": [
        {
          "output_type": "display_data",
          "data": {
            "text/plain": [
              "<SimpleStatement query=\"\n",
              "    SELECT id, title, answers, context, question, similarity_euclidean(title_context_embedding,[0.0035997226368635893, 0.009586001746356487, -0.013364716432988644, -0.01302662119269371, -0.03555969148874283, 0.005336605478078127, -0.00750439427793026, 0.035321034491062164, -0.010434554889798164, -0.004809574224054813, -0.00532666128128767, 0.011389178223907948, -0.015724755823612213, 0.009811398573219776, 0.0019473638385534286, 0.023706460371613503, 0.023706460371613503, 0.00820047315210104, 0.004955419339239597, -0.01925155520439148, 0.0035135415382683277, -0.0017352254362776875, -0.012966956943273544, -0.005207333713769913, 0.004040572792291641, 0.028187884017825127, 0.009983761236071587, -0.018973123282194138, -0.0061387536115944386, -0.022115424275398254, 0.021386198699474335, -0.011488617397844791, -0.013165836222469807, -0.013682924211025238, -0.02228778600692749, 0.007663498166948557, -0.016042962670326233, -0.011568170040845871, 0.021041473373770714, 0.005850377958267927, 0.008644637651741505, 0.006503366399556398, 0.02513839490711689, -0.03235109895467758, -0.02367994375526905, 8.685449574841186e-05, -0.006874608341604471, -0.022552959620952606, -0.0025141709484159946, 0.01760748401284218, 0.027684055268764496, 0.018005242571234703, -0.004912328906357288, -0.02178395725786686, -0.01886705495417118, -0.008399353362619877, -0.02972588688135147, -0.012483016587793827, -0.014027648605406284, -0.005558687727898359, 0.009009250439703465, 0.004842720925807953, -0.016122514382004738, -0.0050482298247516155, -0.008021481335163116, 0.01066658180207014, -0.00873744860291481, -0.01893334835767746, -0.001291889464482665, 0.001218966906890273, -0.0035665761679410934, 0.015260702930390835, -0.013477414846420288, 0.0045178839936852455, 0.01678544655442238, -0.014677322469651699, -0.03985549136996269, -0.008352947421371937, -0.030574440956115723, -0.007192816119641066, 0.03052140586078167, -0.008220361545681953, -0.018575364723801613, 0.0036129814106971025, 0.007404954172670841, -0.013828769326210022, -0.009930727072060108, 0.005323346704244614, -0.01032185647636652, 0.002739568008109927, 0.004594121128320694, 0.04762506112456322, 0.02684875950217247, 0.026132794097065926, 0.009751735255122185, 0.012038851156830788, -0.012622231617569923, 0.0025688628666102886, -0.00303954491391778, -0.020603938028216362, -0.0022771726362407207, -0.006526568904519081, -0.013510561548173428, -0.018654916435480118, -0.004086977802217007, 0.002976566320285201, 0.0004230337217450142, -0.001930790487676859, 0.01827041618525982, 0.004567604046314955, 0.0039013568311929703, 0.014756874181330204, 0.012038851156830788, -0.03704465925693512, 0.014597770757973194, -0.007153040263801813, 0.002830721205100417, -0.008306542411446571, 0.01500878855586052, -0.02016640268266201, 0.03593093529343605, 0.013212242163717747, 0.011157151311635971, -0.025788068771362305, 0.008856776170432568, 0.005750938318669796, -0.02418377250432968, -0.02447546273469925, -0.0013797279680147767, -0.01687825843691826, 0.03850311040878296, -0.011143893003463745, 0.025430085137486458, 0.0018959864974021912, -0.02386556565761566, 0.029672851786017418, 0.0023136339150369167, 0.01321887131780386, 0.005787399597465992, -0.004315689671784639, 0.016891516745090485, 0.021585077047348022, 0.0063939825631678104, 0.017779845744371414, -0.010785909369587898, 0.010467701591551304, 0.0096058901399374, -0.008744077757000923, 0.003341179108247161, -0.025695258751511574, -0.006516625173389912, 0.02463456615805626, 0.01162120420485735, -0.00747124757617712, 0.014836425893008709, 0.0012496274430304766, 0.0056514982134103775, 0.01557891070842743, -0.022552959620952606, -0.025602446869015694, 0.0061818440444767475, -0.008584974333643913, 0.003699162509292364, -0.0051576136611402035, -0.0011775336461141706, 0.04279891401529312, 0.013855285942554474, 0.04340881109237671, -0.032404132187366486, -0.003967650234699249, 0.007716532796621323, 0.004494681488722563, -0.030972199514508247, 0.018814019858837128, 0.011375918984413147, -0.00035756913712248206, -0.02390534058213234, -0.0037389385979622602, -0.007723161950707436, -0.027949228882789612, 0.00221585133112967, 0.026079759001731873, -0.02010010927915573, 0.025125136598944664, 0.0007797741563990712, -0.00018095981795340776, 0.0007532568997703493, -0.024555014446377754, -0.008180585689842701, -0.007153040263801813, -0.006304486654698849, 0.024608049541711807, 0.008717560209333897, -0.006463590543717146, -0.6415063738822937, -0.00955948419868946, -0.01174716092646122, -0.016255101189017296, 0.042189013212919235, 0.009320829063653946, 0.017488155514001846, 0.018336709588766098, 0.0019158745417371392, -0.008213731460273266, -0.0056514982134103775, 0.009930727072060108, 0.029646335169672966, -0.00426596961915493, -0.0249129980802536, -0.040226735174655914, 0.0025754922535270452, -0.0025456601288169622, 0.0035566319711506367, 0.0025423455517739058, 0.005803972948342562, 0.009897580370306969, 0.00986443366855383, -0.019397400319576263, 0.018389742821455002, -0.0013432666892185807, -0.0036958479322493076, -0.018403002992272377, 0.00747124757617712, 0.0040902928449213505, -0.02808181382715702, 0.024077702313661575, 0.01893334835767746, -0.005562002304941416, 0.05489080026745796, 0.018946606665849686, -0.012403463944792747, 0.02013988420367241, -0.008836888708174229, 0.05271638184785843, -0.019105710089206696, -0.013682924211025238, 0.02434287592768669, 0.003119096625596285, -0.011720644310116768, 0.026238862425088882, 0.019795160740613937, 0.0026003520470112562, -0.01662634313106537, 0.02130664512515068, 0.01738208718597889, 0.006450331769883633, -0.012608973309397697, 0.0016589881852269173, -0.005306773353368044, -0.004938845988363028, 0.013682924211025238, -0.007716532796621323, 0.0020385170355439186, 0.013987872749567032, 0.004534457344561815, 0.02475389465689659, -0.03916604444384575, 0.009950614534318447, 0.003596408059820533, 0.03720376268029213, -0.011839971877634525, 0.022022612392902374, 0.005847063381224871, -0.007756308652460575, 0.021134283393621445, 0.007815972901880741, -0.011594686657190323, 0.0010557197965681553, 0.002409759210422635, 0.027657538652420044, 0.010295339860022068, -0.012323912233114243, -0.01557891070842743, -0.018880313262343407, -0.0044515905901789665, 0.006582918111234903, 0.00997050292789936, -0.021386198699474335, 0.02666313946247101, 0.015300478786230087, -0.01899964176118374, -0.00626139622181654, 0.016891516745090485, 0.0014940837863832712, 0.009678812697529793, 0.02406444400548935, 0.0038682103622704744, -0.0016714181983843446, -0.010759391821920872, -0.006695616990327835, -0.016135772690176964, 0.01656004972755909, 0.012708413414657116, -0.015684979036450386, 0.0051145232282578945, -0.011846601031720638, 0.006098977755755186, 0.008299913257360458, -0.007935300469398499, -0.020219435915350914, -0.013132689520716667, 0.0167191531509161, 0.034048207104206085, -0.04232160001993179, -0.021744180470705032, -0.008260137401521206, -0.018098052591085434, -0.007590575609356165, 0.007013824302703142, -0.025058843195438385, 0.01801850087940693, 0.003150586038827896, -0.0016092682490125299, -0.036010485142469406, 0.020696748048067093, 0.013497302308678627, -0.01934436522424221, -0.031396474689245224, -0.0062481374479830265, 0.011203557252883911, -0.034021686762571335, -0.02675594948232174, 0.006659155711531639, 0.019715609028935432, -0.006340947933495045, -0.010116348043084145, 0.00036647729575634, 0.0006637609913013875, 0.01703736186027527, -0.00045452298945747316, 0.004352150950580835, -0.002666645450517535, 0.012211213819682598, -0.005323346704244614, -0.004219564609229565, 0.0034638214856386185, 0.01760748401284218, -0.0031091526616364717, 0.0029285037890076637, -0.024515237659215927, 0.02374623715877533, -0.009943985380232334, -0.004756539594382048, 0.0028605530969798565, 0.014730356633663177, -0.023321960121393204, -0.025111878290772438, 0.021505525335669518, 0.02413073740899563, 0.0004955419572070241, -0.013682924211025238, -0.004130068700760603, 0.008883293718099594, -0.005939873866736889, 0.002444562967866659, 0.004892440978437662, -0.014491701498627663, -0.015353512950241566, 0.021107766777276993, 0.006347577087581158, 0.014677322469651699, 0.007948558777570724, -0.02605324238538742, -0.010772651061415672, 0.010838944464921951, -0.005518911872059107, 0.0008510394254699349, 0.007842489518225193, 0.008127550594508648, 0.016599826514720917, -0.0011004677508026361, -0.009353975765407085, 0.020219435915350914, 0.022844649851322174, 0.012708413414657116, -0.014557994902133942, -0.01567172072827816, 0.0015264017274603248, 0.036673419177532196, 0.00854519847780466, -0.0032931165769696236, 0.02871822938323021, -0.017421862110495567, 0.006980677600950003, 0.01125659141689539, 0.0011311282869428396, -0.00823361985385418, 0.0006418013945221901, 0.03622262552380562, 0.007630351465195417, -0.0031290408223867416, 0.01188637688755989, 0.0118267135694623, 0.016507016494870186, 0.011362660676240921, 0.011203557252883911, 0.003397528314962983, -0.025907397270202637, 0.01567172072827816, -0.0408366322517395, 0.002479366958141327, -0.02589413709938526, 0.046246159821748734, 0.0062282495200634, -0.002562233479693532, -0.01351719070225954, -0.0022440259344875813, -0.002643442712724209, 0.02251318283379078, 0.019132228568196297, 0.0018512385431677103, -0.014690580777823925, -0.0013805566122755408, -0.011442212387919426, 0.025125136598944664, 0.024011410772800446, 0.0035831492859870195, 0.0016946208197623491, -0.018310191109776497, 0.022884424775838852, -0.005353178828954697, -0.017594223842024803, -0.004103551153093576, -0.010613546706736088, -0.005399583838880062, 0.013961355201900005, 0.004826147574931383, 0.017329052090644836, -0.00908880215138197, 0.0008593260427005589, 0.017103655263781548, -0.00843912921845913, 0.016162291169166565, 0.010759391821920872, -0.016944551840424538, 0.006874608341604471, -0.012396834790706635, -0.004617323633283377, 0.02700786478817463, 0.022897683084011078, 0.022075647488236427, 0.005512282717972994, 0.009857804514467716, 0.019172003492712975, 0.00013766204938292503, 0.002242368645966053, -0.017687035724520683, 0.012151550501585007, -0.01779310405254364, -0.010931754484772682, 0.008306542411446571, 0.013006732799112797, -0.026225604116916656, 0.008472275920212269, 0.01178030762821436, -0.03155558183789253, 0.016546791419386864, -0.001839637290686369, 0.011150522157549858, -0.016507016494870186, -0.019795160740613937, -0.012483016587793827, -0.009837916120886803, -0.007404954172670841, -0.031290408223867416, 0.002812490565702319, 0.0037654556799679995, -0.009161724708974361, -0.006861350033432245, -0.009539596736431122, 0.01719646528363228, 0.0033444936852902174, -0.01264874916523695, -0.019052674993872643, 0.0128409992903471, -0.0440187081694603, 0.010142864659428596, 0.038290973752737045, -0.012695154175162315, -0.013351457193493843, -0.010633435100317001, -0.010918496176600456, -0.039563801139593124, 0.011349402368068695, 0.018853796645998955, 0.03789321333169937, -0.018190864473581314, -0.02041831612586975, -0.003662701230496168, 0.01534025464206934, 0.01443866640329361, -0.005131096579134464, -0.004428388085216284, -0.037946246564388275, 0.0011178696295246482, 0.010792538523674011, -0.015075081959366798, -0.012502904050052166, 0.03776062652468681, 0.00320527795702219, -0.00833968911319971, -0.01172727346420288, 0.006397297140210867, -0.032085925340652466, -0.009148466400802135, -0.01576453074812889, -0.025589188560843468, -0.010978159494698048, 0.015777790918946266, 0.0011195270344614983, 0.005253738723695278, -0.0051277815364301205, 0.040863148868083954, -0.008492163382470608, -0.012098515406250954, -0.012874145992100239, -0.012874145992100239, 0.002305347239598632, 0.13523820042610168, -0.01113063469529152, -0.017421862110495567, 0.018389742821455002, 0.03441944718360901, -0.01247638650238514, -0.014491701498627663, 0.006331004202365875, 0.015631945803761482, -0.0018777558580040932, 0.006761909928172827, -0.012005705386400223, 0.0036494426894932985, 0.01125659141689539, -0.0063210600055754185, -0.012973586097359657, -0.017713552340865135, -0.02336173690855503, 0.0036660158075392246, -0.008180585689842701, -0.04274587705731392, 0.00444827601313591, 0.033067066222429276, 0.024104220792651176, 0.0025406882632523775, -0.015751272439956665, 0.029938025400042534, 0.01943717710673809, 0.006115551106631756, -0.018760984763503075, 0.016281617805361748, -0.007590575609356165, -0.010978159494698048, -0.0010076571488752961, 0.0019722238648682833, 0.00497862184420228, -0.003397528314962983, 0.022486666217446327, 0.0074182129465043545, -0.002626869361847639, 0.002885413123294711, -0.003652757266536355, 0.02593391388654709, -0.03805231675505638, 0.0005647354992106557, 0.007663498166948557, -0.00892969872802496, 0.028028780594468117, -0.004279228392988443, -0.010580400004982948, 0.0015868942718952894, -0.020338764414191246, 0.030309267342090607, 0.0007992478203959763, -0.022486666217446327, -0.009711959399282932, -0.003970964811742306, -0.009526337496936321, -0.002131327521055937, 0.015486099757254124, 0.0014683951158076525, -0.015472841449081898, -0.006331004202365875, -0.013656406663358212, 0.006019425578415394, -0.02773709036409855, -0.007186186499893665, -0.03577182814478874, -0.02472737617790699, -0.02409096248447895, 0.021956318989396095, -0.004935531411319971, -0.012357058934867382, 0.011574799194931984, 0.03357089310884476, 0.02399815060198307, 0.024037927389144897, 0.009857804514467716, 0.008691043592989445, -0.005088005680590868, 0.003606352023780346, -0.016599826514720917, 0.003095894120633602, -0.035161931067705154, 0.0017750014085322618, -0.001912559848278761, -0.001949021127074957, 0.0007644438883289695, -0.02155856043100357, 0.002656701486557722, 0.0037687704898416996, -0.010109717957675457, -0.008870034478604794, -0.023732978850603104, -0.025509636849164963, 0.024515237659215927, 0.015194409526884556, 0.012403463944792747, 0.01950347051024437, 0.00020519827376119792, -0.01370944082736969, -5.039321695221588e-05, 0.0138818034902215, -0.011289738118648529, -0.02080281637609005, 0.010361632332205772, 0.0010872090933844447, 0.015141375362873077, -0.011773678474128246, 0.0034041577018797398, 0.022818131372332573, -0.009997019544243813, 0.044496018439531326, -0.012562568299472332, 0.020206177607178688, 0.021346421912312508, 0.025430085137486458, 0.026477517560124397, -0.01073287520557642, 0.005770826246589422, 0.0015148004749789834, -0.0188007615506649, 0.0220358707010746, 0.015486099757254124, -0.036991626024246216, 0.012920551933348179, -0.0006948359659872949, -0.02386556565761566, -0.012005705386400223, 0.013039879500865936, -0.00607908982783556, 0.036461278796195984, -0.006914384663105011, -0.031449511647224426, -0.049560822546482086, -0.017846139147877693, -0.0062183053232729435, 0.03054792247712612, -0.0019606223795562983, 0.00946667417883873, -0.019052674993872643, -0.015950152650475502, 0.005727735348045826, -0.017103655263781548, -0.01178030762821436, -0.03725679963827133, 0.004173159133642912, 0.0010026851668953896, 0.0068083154037594795, 0.006679043639451265, -0.007789455354213715, 0.010388149879872799, 6.230528379091993e-05, -0.031926821917295456, -0.00040583888767287135, -0.009015879593789577, 0.006118865683674812, -0.0011667609214782715, 0.02146575041115284, 0.011806825175881386, 0.03723027929663658, 0.009586001746356487, 0.025469861924648285, 0.017806362360715866, 0.003543373430147767, 0.008883293718099594, 0.0022904311772435904, 0.0012214528396725655, -0.019423918798565865, 0.0057111624628305435, -0.0008485534344799817, 0.0027959172148257494, -0.004252710845321417, 0.004315689671784639, 0.010295339860022068, 0.007935300469398499, 0.0014874545158818364, -0.03166164830327034, 0.001501541817560792, -0.032881446182727814, 0.0022473407443612814, 0.0014783391961827874, -0.006795056629925966, -0.0022539698984473944, 0.006171900313347578, 0.0021213835570961237, 0.03449900075793266, 0.0008899866952560842, -0.030945682898163795, -0.007729791104793549, 0.02940768003463745, -0.011283108964562416, 0.011720644310116768, 0.004342206753790379, 0.007053600158542395, -0.021916544064879417, 0.0030610901303589344, -0.017435120418667793, -0.021890025585889816, 0.023640166968107224, 0.024197030812501907, 0.006662470288574696, -0.03494979441165924, 0.0014319338370114565, -0.004269284196197987, 0.013510561548173428, -0.02438265271484852, 0.011177039705216885, 0.01870795153081417, -0.0020086851436644793, -0.0220623891800642, -0.018654916435480118, -0.014133717864751816, -0.03229806572198868, 0.002802546601742506, 0.015950152650475502, 0.001493255142122507, -0.00042593403486534953, -0.03083961270749569, -0.02760450355708599, 0.004690246190875769, 0.006569659803062677, 0.027975745499134064, 0.01842951960861683, 0.022022612392902374, 0.0008568400517106056, 0.017262758687138557, -0.02808181382715702, 0.01724950037896633, -0.0078027136623859406, -0.004965363536030054, 0.01697106845676899, 0.02381253056228161, 0.0015620343619957566, -0.029248574748635292, 0.009619148448109627, -0.010361632332205772, -0.029009919613599777, -0.014425408095121384, 0.03916604444384575, -0.01902615837752819, -0.03335875645279884, -0.009519708342850208, -0.007882265374064445, -0.023481063544750214, 0.026504036039114, 0.0030842928681522608, 0.010142864659428596, -0.009155095554888248, -0.010023537091910839, -0.01937088370323181, 0.0057144770398736, -0.026331672444939613, 0.018071535974740982, -0.004836091306060553, -0.011422324925661087, 0.005787399597465992, -0.028930367901921272, -0.013696182519197464, 0.005147669930011034, -0.01518115121871233, 0.004136697854846716, 0.00747124757617712, -0.007172928191721439, 0.013530449010431767, -0.003533429466187954, -0.020537644624710083, 0.004136697854846716, -0.0046338969841599464, 0.023534098640084267, -0.007888895459473133, 0.0007611291948705912, 0.01788591407239437, -0.006433758419007063, 0.01437237299978733, 0.009208130650222301, -0.008154068142175674, 0.0024031298235058784, 0.006828203331679106, -0.0014327625976875424, 0.03871525079011917, -0.0020352022256702185, -0.010169382207095623, 0.01105108205229044, -0.014664063230156898, -0.00820047315210104, -0.0036825891584157944, -0.0012711727758869529, -0.0008725847001187503, -0.0391395278275013, -0.013828769326210022, 0.00012067440547980368, 0.0019904545042663813, -0.015380030497908592, 0.018084794282913208, 0.004057146143168211, -0.0006546456716023386, -0.00945341493934393, -0.012151550501585007, 0.010726245120167732, -0.013855285942554474, -0.011753791011869907, -0.004716763738542795, -0.009241277351975441, 0.007895524613559246, -0.019781900569796562, 6.991864938754588e-05, -0.012933810241520405, -0.01370944082736969, -0.021412715315818787, 0.006642582360655069, 0.0073452903889119625, 0.0003240082005504519, 0.005111208651214838, 0.0010292024817317724, -0.013364716432988644, 0.001107097021304071, -0.004391926806420088, -0.02320263162255287, 0.018323449417948723, -0.014955754391849041, 0.0037422531750053167, -0.01829693280160427, 0.016215326264500618, 0.01731579378247261, -0.03399517014622688, -0.0010267164325341582, 0.01071961596608162, 0.009473303332924843, 0.009387122467160225, -0.002282144734635949, 0.02523120492696762, 0.018323449417948723, 0.008313171565532684, -0.02842653915286064, 0.0016581595409661531, -0.014173493720591068, 0.02906295470893383, 0.00553217064589262, -0.007186186499893665, -0.011753791011869907, 0.0351354144513607, 0.039908528327941895, 0.0004872552817687392, 0.004643841180950403, -0.04550367593765259, -0.006364150438457727, -0.01811131276190281, -0.015870600938796997, -0.021704405546188354, 0.015870600938796997, 0.015963410958647728, 0.009698700159788132, -0.01294706854969263, -0.0318472720682621, 0.008843517862260342, -0.033040549606084824, -0.010096459649503231, -0.002205907367169857, -0.009751735255122185, 0.015287220478057861, 0.04518546909093857, 0.015777790918946266, -0.012509533204138279, 0.01370944082736969, -0.004809574224054813, -0.019715609028935432, 0.004236137960106134, 0.02263251133263111, -0.021757440641522408, 0.0016813621623441577, 0.007186186499893665, -0.01911896839737892, -0.019052674993872643, 0.012204584665596485, 0.022022612392902374, 0.012701784260571003, 0.01697106845676899, -0.015963410958647728, -0.006901125889271498, -0.012310653924942017, -0.016453981399536133, 0.013470785692334175, 0.008956216275691986, 0.009665553458034992, -0.025668740272521973, -5.8783454733202234e-05, -0.014664063230156898, 0.0018611826235428452, -0.04004111513495445, 0.04537108913064003, 0.016122514382004738, 0.009572743438184261, 0.022155199199914932, -0.004882496781647205, -0.02805529721081257, -0.004295801743865013, -0.005416157189756632, 0.020458092913031578, -0.00955948419868946, -0.02310982160270214, 0.008240249007940292, -0.022393854334950447, -0.01699758507311344, 0.011349402368068695, -0.01549935806542635, 0.009108690544962883, 0.0061453827656805515, -0.030309267342090607, -0.021174060180783272, -0.009387122467160225, -0.016255101189017296, -0.004395241383463144, -0.028506090864539146, 0.002872154349461198, 4.9493337428430095e-06, -0.01817760430276394, -0.009586001746356487, 0.005959761794656515, -0.0069607896730303764, -0.025562671944499016, -0.0001755734847392887, -0.012403463944792747, 7.147239375626668e-05, 0.006274654529988766, -0.00605588685721159, -0.008730819448828697, 0.002479366958141327, 0.030097128823399544, 0.008313171565532684, -0.0030726913828402758, -0.022141940891742706, -0.011700755916535854, 0.01788591407239437, -0.007232591975480318, 0.025005808100104332, 0.24714118242263794, 0.017342310398817062, 0.015711497515439987, 0.009353975765407085, 0.007975076325237751, 0.02406444400548935, 0.01681196503341198, 0.015446323901414871, 0.0033643816132098436, 0.011634462513029575, 0.017435120418667793, 0.010785909369587898, -0.0029069583397358656, 0.009413639083504677, 0.012463128194212914, -0.04067752882838249, -0.02497929148375988, -0.02725977823138237, 0.0036759600043296814, -0.03333223983645439, 0.0018479239661246538, 0.017846139147877693, 0.013974614441394806, -0.03068050928413868, 0.009181613102555275, 0.03691207244992256, -0.0006645896937698126, 0.01294706854969263, 0.022049130871891975, -0.0017252814723178744, 0.005684644915163517, -0.00807451643049717, -0.018827278167009354, 0.007086746860295534, -0.005996223073452711, -0.004232822917401791, 0.014703840017318726, -0.023096563294529915, -0.004004111513495445, -0.01813782937824726, -0.005956447217613459, -0.023467805236577988, -0.020007299259305, -0.010401408188045025, 0.00833968911319971, 0.011866489425301552, -0.014491701498627663, -0.02137293852865696, -0.004872552584856749, 0.019012900069355965, -0.049852512776851654, -0.025098618119955063, 0.016453981399536133, 0.027365848422050476, 0.011329513974487782, -0.004342206753790379, 0.008432499133050442, 0.009300940670073032, -0.007623722311109304, 0.027710571885108948, 0.019225038588047028, 0.03163513168692589, -0.003450562944635749, 0.012370318174362183, -0.03341178968548775, 0.03317313641309738, -0.03691207244992256, 0.0028075184673070908, 0.032430652529001236, -0.01788591407239437, -0.004199676681309938, -0.02067023143172264, -0.00027490974753163755, 0.009201501496136189, 0.0018263786332681775, -0.023759495466947556, 0.029328126460313797, 0.007206074893474579, 0.01477013248950243, 0.00870430190116167, -0.005257053766399622, 0.014425408095121384, 0.019079193472862244, 0.020497867837548256, -0.0110179353505373, -0.023507582023739815, 0.004398555960506201, -0.011992446146905422, -0.0028224345296621323, 0.013629889115691185, -0.0008038054802455008, -0.022725321352481842, -0.014876201748847961, 0.003228480461984873, -0.0019374197581782937, -0.014796650037169456, -0.0003907157515641302, -0.007623722311109304, -0.02340151183307171, 0.014027648605406284, -0.02137293852865696, 0.02520468831062317, 0.00840598251670599, 0.006980677600950003, -0.027684055268764496, 0.007941929623484612, 0.004256025888025761, -0.0020434889011085033, 0.028346987441182137, -0.010341744869947433, -0.011236703023314476, -0.015976669266819954, -0.009731846861541271, -0.007690015248954296, 0.008817000314593315, 0.028532609343528748, 0.016957810148596764, 0.006019425578415394, 0.03054792247712612, -0.006781797856092453, 0.01738208718597889, -0.02564222365617752, 0.009479932487010956, 0.0036129814106971025, -0.016029704362154007, -0.012025592848658562, -0.007915412075817585, 0.004458220209926367, 0.021293386816978455, -0.030150163918733597, 0.009314199909567833, -0.02326892502605915, 0.0022572847083210945, -0.0007557428907603025, -0.007570687681436539, 0.009751735255122185, 0.002088236855342984, -0.013324940577149391, -0.007650239393115044, -0.007696644868701696, -0.012635490857064724, 0.003414101665839553, 0.009128578938543797, 0.006135439034551382, -0.012807853519916534, -0.03850311040878296, 0.006466905120760202, -0.028771264478564262, -0.00870430190116167, -0.008571715094149113, -0.02440916933119297, 0.00767012732103467, -0.0018545532366260886, 0.021386198699474335, 0.03738938644528389, 0.0010540623916313052, 0.010209158062934875, -0.009055656380951405, -0.008624750189483166, 0.01687825843691826, -0.035347554832696915, 0.006135439034551382, 0.008790482766926289, -0.006006167270243168, -0.030600957572460175, -0.004146642051637173, -0.16854391992092133, 0.02621234580874443, 0.027233261615037918, -0.013338198885321617, 0.01943717710673809, 0.0004611523181665689, 0.025655481964349747, 0.013364716432988644, -0.030150163918733597, 0.012867516838014126, 0.0018910145154222846, -0.001327521982602775, -0.03815838694572449, -0.03505586460232735, -0.010593659244477749, -0.010706357657909393, -0.007736420724540949, 0.017010843381285667, 0.020113367587327957, 0.0034571923315525055, 0.005919985938817263, 0.0014758531469851732, 0.018403002992272377, -0.02874474599957466, -0.006234878674149513, -0.013749216683208942, 0.002867182483896613, 0.030070612207055092, -0.005455933511257172, 0.0012786308070644736, -0.02212868258357048, -0.022818131372332573, 0.019795160740613937, -0.029009919613599777, -0.007530911359935999, 0.007172928191721439, -0.0039577060379087925, -0.027471916750073433, -0.0058570075780153275, -0.008757336065173149, 0.03900694102048874, 0.034207310527563095, 0.006049257703125477, -0.001034174463711679, -0.008691043592989445, 0.0002821605885401368, 0.022685544565320015, -0.01706387847661972, 0.014504959806799889, -0.002565548289567232, -0.007902153767645359, -0.03752196952700615, 0.017050620168447495, 0.01756770722568035, -0.001894329208880663, -0.0022191661410033703, 0.01321887131780386, 0.016957810148596764, 0.00393450353294611, -0.01585734263062477, -0.029434196650981903, -0.010792538523674011, 0.0040604607202112675, -0.009155095554888248, 0.00659286230802536, 0.0018744412809610367, -0.028824299573898315, -0.009141837246716022, -0.03001757711172104, 0.014703840017318726, 0.008419240824878216, -0.02041831612586975, 0.02413073740899563, -0.020975179970264435, -0.01282111182808876, 0.022155199199914932, -0.03367696329951286, 0.02251318283379078, -0.015472841449081898, -0.013510561548173428, -0.02564222365617752, 0.04004111513495445, -0.00514435488730669, 0.023348476737737656, -0.02611953392624855, -0.011110746301710606, -0.008187214843928814, 0.014995530247688293, -0.008120921440422535, -0.01248964574187994, 0.030229715630412102, -0.02890385128557682, -0.017580965533852577, 0.00710663478821516, 0.00926116481423378, 0.0018644972005859017, 0.010447814129292965, 0.019516728818416595, 0.00039133726386353374, -0.02495277300477028, -0.006635952740907669, 0.003516856115311384, -0.014266304671764374, 0.017753329128026962, 0.029115989804267883, 0.007133152335882187, 0.02625212073326111, 0.01975538395345211, 0.001225596177391708, 0.009015879593789577, -0.0023484379053115845, -0.014160235412418842, 0.006042628549039364, 0.03410124033689499, 0.012536050751805305, 0.014531477354466915, -0.005664756987243891, -0.009963872842490673, 0.029460713267326355, 0.007438100874423981, 0.059823017567396164, 0.015406548045575619, 0.017991984263062477, -0.014597770757973194, -0.017183206975460052, 0.015936894342303276, -0.09657598286867142, 0.013132689520716667, 0.02235407941043377, 0.009997019544243813, 0.02805529721081257, 0.058868393301963806, 0.012986844405531883, 0.002666645450517535, -0.02434287592768669, 0.013656406663358212, 0.008551827631890774, -0.007577316835522652, 0.02222149260342121, -0.010096459649503231, 0.023136340081691742, -0.016599826514720917, 0.001730253454297781, -0.018734468147158623, -0.019039416685700417, 0.011753791011869907, 0.018071535974740982, 0.006500051822513342, -0.004541086498647928, -0.020497867837548256, 0.008624750189483166, -0.00018686405383050442, -0.027710571885108948, 0.022818131372332573, 0.01988797076046467, 0.008326430805027485, -0.0038284342736005783, -0.021028215065598488, -0.030309267342090607, -0.02536379173398018, -0.0018512385431677103, 0.014465183950960636, -0.03494979441165924, -0.013987872749567032, 0.010812426917254925, -0.015910375863313675, 0.004816203378140926, 0.018071535974740982, 0.013006732799112797, -0.01874772645533085, 0.017899174243211746, -0.020975179970264435, -0.017806362360715866, 0.014836425893008709, 0.02333521842956543, -0.0016150689916685224, -0.015963410958647728, 0.025178171694278717, -0.022566217929124832, -0.010945012792944908, 0.03285492584109306, 0.001813119975849986, 0.01817760430276394, 0.02108124829828739, -0.010010278783738613, -0.005966391414403915, 0.0002639299491420388, -0.0031439566519111395, -0.010852202773094177, -0.0006567173404619098, -0.008173955604434013, 0.011926152743399143, 0.0015404890291392803, -0.013019991107285023, 0.01394809689372778, -0.009930727072060108, -0.03579834848642349, 0.04362094774842262, -0.013570224866271019, 0.016440723091363907, -0.00849879253655672, -0.00012978972517885268, 0.001499884412623942, 0.008140808902680874, 0.010845573619008064, -0.009672182612121105, 0.013411121442914009, -0.0167191531509161, -0.002519143046811223, -0.022088905796408653, 0.04094270244240761, 0.0030909220222383738, 0.002872154349461198, 0.00042966302135027945, -0.016599826514720917, -0.01646723970770836, -0.002776029286906123, 0.04266632720828056, -0.005197389516979456, -0.009539596736431122, -0.020855851471424103, 0.018336709588766098, 0.008790482766926289, 0.015048564411699772, 0.00463058240711689, -0.0057542528957128525, -0.00391793018206954, 0.015406548045575619, -0.07949884980916977, 0.021770698949694633, -0.009665553458034992, -0.005442674737423658, 0.018071535974740982, -0.02292420156300068, -0.007610463537275791, -0.01747489720582962, -0.006118865683674812, -0.007206074893474579, -0.03213896229863167, 0.016202066093683243, -0.006645896937698126, -0.004375353455543518, -0.012516163289546967, -0.012642120011150837, 0.02143923193216324, 0.012635490857064724, 0.010640064254403114, -0.004391926806420088, 0.017925690859556198, 0.0071397814899683, 0.013643147423863411, -0.0033478084951639175, -0.002890384988859296, 0.0020666916389018297, -0.013470785692334175, 0.00016169334412552416, -0.02969937026500702, -0.018164345994591713, 0.01687825843691826, -0.044310398399829865, -0.009015879593789577, 0.01477013248950243, 0.0005891811451874673, -0.01722298189997673, -0.005588519852608442, 0.0036825891584157944, -0.0051576136611402035, 0.029275093227624893, -0.012436610646545887, -0.016029704362154007, 0.018031759187579155, -0.004743280820548534, -0.0015073424438014627, 0.010785909369587898, 0.009778251871466637, 0.0017700294265523553, 0.01662634313106537, 0.0018562106415629387, -0.008001593872904778, 0.04327622428536415, -0.009241277351975441, -0.026225604116916656, -0.0016498728655278683, 0.0033113472163677216, 0.00018914288375526667, -0.012144920416176319, -0.001930790487676859, -0.020749783143401146, 0.012801223434507847, 0.020378541201353073, 0.0056813303381204605, 0.01706387847661972, 0.008333059959113598, -0.010474330745637417, -0.009426898322999477, 0.00496204849332571, 0.021107766777276993, -0.022844649851322174, -0.019052674993872643, -0.001985482405871153, 0.010580400004982948, -0.0021164114587008953, 0.012065368704497814, -0.016480498015880585, 0.008352947421371937, -0.01158805750310421, -0.034260343760252, 0.01567172072827816, -0.0025605761911720037, -0.008220361545681953, -0.04621964320540428, 0.014266304671764374, 0.029089471325278282, -0.004226193763315678, -0.030282750725746155, -0.0073386612348258495, 0.007948558777570724, 0.03935166448354721, 0.004531142767518759, 9.312127804150805e-05, -0.00955948419868946, -0.018601881340146065, 0.005591834429651499, -0.0033527803607285023, -0.044628605246543884, 0.014173493720591068, 0.002711393404752016, 0.03638172894716263, -0.008644637651741505, 0.00767012732103467, -0.001968909054994583, -0.025589188560843468, -0.010441184975206852, 0.02440916933119297, -0.025443343445658684, -0.029275093227624893, 0.00024321330420207232, 0.01266200840473175, -0.0008916440419852734, 0.024276582524180412, 0.003496968187391758, 0.017103655263781548, -0.03964335471391678, 0.0005813087918795645, 0.005449303891509771, -0.012290765531361103, -0.026928313076496124, 0.008412611670792103, 0.01443866640329361, -0.02821440063416958, 0.02067023143172264, 0.007126522716134787, 0.024926256388425827, 0.011455470696091652, 0.014969012700021267, -0.02969937026500702, -0.01179356686770916, 0.013053137809038162, -0.005734364967793226, -0.028691712766885757, -0.012973586097359657, 0.009002621285617352, 0.0068149445578455925, -0.009824657812714577, -0.0034041577018797398, 0.01731579378247261, -0.02972588688135147, 0.034260343760252, 0.017329052090644836, -0.017925690859556198, -0.00517750158905983, -0.04669695347547531, 0.02744540013372898, 0.025443343445658684, 0.01174716092646122, -0.027524951845407486, -0.002369983121752739, 0.004405185580253601, -0.00034679649979807436, 0.011283108964562416, -0.040571458637714386, 0.013324940577149391, -0.011369289830327034, -0.0036825891584157944, 0.007192816119641066, 0.004753225017338991, -0.01890682987868786, -0.01665286161005497, -0.010103088803589344, 0.013318311423063278, -0.0024942830204963684, 0.0001151844990090467, -0.015777790918946266, -0.001392157981172204, -0.020537644624710083, 0.013908321037888527, -0.016613084822893143, 0.024104220792651176, 0.024939514696598053, -0.01687825843691826, -0.012370318174362183, 0.02858564257621765, -0.02789619378745556, 0.006012796424329281, -0.00028423225739970803, 0.04192384332418442, 0.0175411906093359, -0.009009250439703465, 8.918511593947187e-05, -0.019490210339426994, -0.022088905796408653, 0.025880878791213036, -0.01516789197921753, -0.026901794597506523, -0.020113367587327957, 0.00338758435100317]) as similarity\n",
              "    FROM squad_euc\n",
              "    ORDER BY title_context_embedding ANN OF [0.0035997226368635893, 0.009586001746356487, -0.013364716432988644, -0.01302662119269371, -0.03555969148874283, 0.005336605478078127, -0.00750439427793026, 0.035321034491062164, -0.010434554889798164, -0.004809574224054813, -0.00532666128128767, 0.011389178223907948, -0.015724755823612213, 0.009811398573219776, 0.0019473638385534286, 0.023706460371613503, 0.023706460371613503, 0.00820047315210104, 0.004955419339239597, -0.01925155520439148, 0.0035135415382683277, -0.0017352254362776875, -0.012966956943273544, -0.005207333713769913, 0.004040572792291641, 0.028187884017825127, 0.009983761236071587, -0.018973123282194138, -0.0061387536115944386, -0.022115424275398254, 0.021386198699474335, -0.011488617397844791, -0.013165836222469807, -0.013682924211025238, -0.02228778600692749, 0.007663498166948557, -0.016042962670326233, -0.011568170040845871, 0.021041473373770714, 0.005850377958267927, 0.008644637651741505, 0.006503366399556398, 0.02513839490711689, -0.03235109895467758, -0.02367994375526905, 8.685449574841186e-05, -0.006874608341604471, -0.022552959620952606, -0.0025141709484159946, 0.01760748401284218, 0.027684055268764496, 0.018005242571234703, -0.004912328906357288, -0.02178395725786686, -0.01886705495417118, -0.008399353362619877, -0.02972588688135147, -0.012483016587793827, -0.014027648605406284, -0.005558687727898359, 0.009009250439703465, 0.004842720925807953, -0.016122514382004738, -0.0050482298247516155, -0.008021481335163116, 0.01066658180207014, -0.00873744860291481, -0.01893334835767746, -0.001291889464482665, 0.001218966906890273, -0.0035665761679410934, 0.015260702930390835, -0.013477414846420288, 0.0045178839936852455, 0.01678544655442238, -0.014677322469651699, -0.03985549136996269, -0.008352947421371937, -0.030574440956115723, -0.007192816119641066, 0.03052140586078167, -0.008220361545681953, -0.018575364723801613, 0.0036129814106971025, 0.007404954172670841, -0.013828769326210022, -0.009930727072060108, 0.005323346704244614, -0.01032185647636652, 0.002739568008109927, 0.004594121128320694, 0.04762506112456322, 0.02684875950217247, 0.026132794097065926, 0.009751735255122185, 0.012038851156830788, -0.012622231617569923, 0.0025688628666102886, -0.00303954491391778, -0.020603938028216362, -0.0022771726362407207, -0.006526568904519081, -0.013510561548173428, -0.018654916435480118, -0.004086977802217007, 0.002976566320285201, 0.0004230337217450142, -0.001930790487676859, 0.01827041618525982, 0.004567604046314955, 0.0039013568311929703, 0.014756874181330204, 0.012038851156830788, -0.03704465925693512, 0.014597770757973194, -0.007153040263801813, 0.002830721205100417, -0.008306542411446571, 0.01500878855586052, -0.02016640268266201, 0.03593093529343605, 0.013212242163717747, 0.011157151311635971, -0.025788068771362305, 0.008856776170432568, 0.005750938318669796, -0.02418377250432968, -0.02447546273469925, -0.0013797279680147767, -0.01687825843691826, 0.03850311040878296, -0.011143893003463745, 0.025430085137486458, 0.0018959864974021912, -0.02386556565761566, 0.029672851786017418, 0.0023136339150369167, 0.01321887131780386, 0.005787399597465992, -0.004315689671784639, 0.016891516745090485, 0.021585077047348022, 0.0063939825631678104, 0.017779845744371414, -0.010785909369587898, 0.010467701591551304, 0.0096058901399374, -0.008744077757000923, 0.003341179108247161, -0.025695258751511574, -0.006516625173389912, 0.02463456615805626, 0.01162120420485735, -0.00747124757617712, 0.014836425893008709, 0.0012496274430304766, 0.0056514982134103775, 0.01557891070842743, -0.022552959620952606, -0.025602446869015694, 0.0061818440444767475, -0.008584974333643913, 0.003699162509292364, -0.0051576136611402035, -0.0011775336461141706, 0.04279891401529312, 0.013855285942554474, 0.04340881109237671, -0.032404132187366486, -0.003967650234699249, 0.007716532796621323, 0.004494681488722563, -0.030972199514508247, 0.018814019858837128, 0.011375918984413147, -0.00035756913712248206, -0.02390534058213234, -0.0037389385979622602, -0.007723161950707436, -0.027949228882789612, 0.00221585133112967, 0.026079759001731873, -0.02010010927915573, 0.025125136598944664, 0.0007797741563990712, -0.00018095981795340776, 0.0007532568997703493, -0.024555014446377754, -0.008180585689842701, -0.007153040263801813, -0.006304486654698849, 0.024608049541711807, 0.008717560209333897, -0.006463590543717146, -0.6415063738822937, -0.00955948419868946, -0.01174716092646122, -0.016255101189017296, 0.042189013212919235, 0.009320829063653946, 0.017488155514001846, 0.018336709588766098, 0.0019158745417371392, -0.008213731460273266, -0.0056514982134103775, 0.009930727072060108, 0.029646335169672966, -0.00426596961915493, -0.0249129980802536, -0.040226735174655914, 0.0025754922535270452, -0.0025456601288169622, 0.0035566319711506367, 0.0025423455517739058, 0.005803972948342562, 0.009897580370306969, 0.00986443366855383, -0.019397400319576263, 0.018389742821455002, -0.0013432666892185807, -0.0036958479322493076, -0.018403002992272377, 0.00747124757617712, 0.0040902928449213505, -0.02808181382715702, 0.024077702313661575, 0.01893334835767746, -0.005562002304941416, 0.05489080026745796, 0.018946606665849686, -0.012403463944792747, 0.02013988420367241, -0.008836888708174229, 0.05271638184785843, -0.019105710089206696, -0.013682924211025238, 0.02434287592768669, 0.003119096625596285, -0.011720644310116768, 0.026238862425088882, 0.019795160740613937, 0.0026003520470112562, -0.01662634313106537, 0.02130664512515068, 0.01738208718597889, 0.006450331769883633, -0.012608973309397697, 0.0016589881852269173, -0.005306773353368044, -0.004938845988363028, 0.013682924211025238, -0.007716532796621323, 0.0020385170355439186, 0.013987872749567032, 0.004534457344561815, 0.02475389465689659, -0.03916604444384575, 0.009950614534318447, 0.003596408059820533, 0.03720376268029213, -0.011839971877634525, 0.022022612392902374, 0.005847063381224871, -0.007756308652460575, 0.021134283393621445, 0.007815972901880741, -0.011594686657190323, 0.0010557197965681553, 0.002409759210422635, 0.027657538652420044, 0.010295339860022068, -0.012323912233114243, -0.01557891070842743, -0.018880313262343407, -0.0044515905901789665, 0.006582918111234903, 0.00997050292789936, -0.021386198699474335, 0.02666313946247101, 0.015300478786230087, -0.01899964176118374, -0.00626139622181654, 0.016891516745090485, 0.0014940837863832712, 0.009678812697529793, 0.02406444400548935, 0.0038682103622704744, -0.0016714181983843446, -0.010759391821920872, -0.006695616990327835, -0.016135772690176964, 0.01656004972755909, 0.012708413414657116, -0.015684979036450386, 0.0051145232282578945, -0.011846601031720638, 0.006098977755755186, 0.008299913257360458, -0.007935300469398499, -0.020219435915350914, -0.013132689520716667, 0.0167191531509161, 0.034048207104206085, -0.04232160001993179, -0.021744180470705032, -0.008260137401521206, -0.018098052591085434, -0.007590575609356165, 0.007013824302703142, -0.025058843195438385, 0.01801850087940693, 0.003150586038827896, -0.0016092682490125299, -0.036010485142469406, 0.020696748048067093, 0.013497302308678627, -0.01934436522424221, -0.031396474689245224, -0.0062481374479830265, 0.011203557252883911, -0.034021686762571335, -0.02675594948232174, 0.006659155711531639, 0.019715609028935432, -0.006340947933495045, -0.010116348043084145, 0.00036647729575634, 0.0006637609913013875, 0.01703736186027527, -0.00045452298945747316, 0.004352150950580835, -0.002666645450517535, 0.012211213819682598, -0.005323346704244614, -0.004219564609229565, 0.0034638214856386185, 0.01760748401284218, -0.0031091526616364717, 0.0029285037890076637, -0.024515237659215927, 0.02374623715877533, -0.009943985380232334, -0.004756539594382048, 0.0028605530969798565, 0.014730356633663177, -0.023321960121393204, -0.025111878290772438, 0.021505525335669518, 0.02413073740899563, 0.0004955419572070241, -0.013682924211025238, -0.004130068700760603, 0.008883293718099594, -0.005939873866736889, 0.002444562967866659, 0.004892440978437662, -0.014491701498627663, -0.015353512950241566, 0.021107766777276993, 0.006347577087581158, 0.014677322469651699, 0.007948558777570724, -0.02605324238538742, -0.010772651061415672, 0.010838944464921951, -0.005518911872059107, 0.0008510394254699349, 0.007842489518225193, 0.008127550594508648, 0.016599826514720917, -0.0011004677508026361, -0.009353975765407085, 0.020219435915350914, 0.022844649851322174, 0.012708413414657116, -0.014557994902133942, -0.01567172072827816, 0.0015264017274603248, 0.036673419177532196, 0.00854519847780466, -0.0032931165769696236, 0.02871822938323021, -0.017421862110495567, 0.006980677600950003, 0.01125659141689539, 0.0011311282869428396, -0.00823361985385418, 0.0006418013945221901, 0.03622262552380562, 0.007630351465195417, -0.0031290408223867416, 0.01188637688755989, 0.0118267135694623, 0.016507016494870186, 0.011362660676240921, 0.011203557252883911, 0.003397528314962983, -0.025907397270202637, 0.01567172072827816, -0.0408366322517395, 0.002479366958141327, -0.02589413709938526, 0.046246159821748734, 0.0062282495200634, -0.002562233479693532, -0.01351719070225954, -0.0022440259344875813, -0.002643442712724209, 0.02251318283379078, 0.019132228568196297, 0.0018512385431677103, -0.014690580777823925, -0.0013805566122755408, -0.011442212387919426, 0.025125136598944664, 0.024011410772800446, 0.0035831492859870195, 0.0016946208197623491, -0.018310191109776497, 0.022884424775838852, -0.005353178828954697, -0.017594223842024803, -0.004103551153093576, -0.010613546706736088, -0.005399583838880062, 0.013961355201900005, 0.004826147574931383, 0.017329052090644836, -0.00908880215138197, 0.0008593260427005589, 0.017103655263781548, -0.00843912921845913, 0.016162291169166565, 0.010759391821920872, -0.016944551840424538, 0.006874608341604471, -0.012396834790706635, -0.004617323633283377, 0.02700786478817463, 0.022897683084011078, 0.022075647488236427, 0.005512282717972994, 0.009857804514467716, 0.019172003492712975, 0.00013766204938292503, 0.002242368645966053, -0.017687035724520683, 0.012151550501585007, -0.01779310405254364, -0.010931754484772682, 0.008306542411446571, 0.013006732799112797, -0.026225604116916656, 0.008472275920212269, 0.01178030762821436, -0.03155558183789253, 0.016546791419386864, -0.001839637290686369, 0.011150522157549858, -0.016507016494870186, -0.019795160740613937, -0.012483016587793827, -0.009837916120886803, -0.007404954172670841, -0.031290408223867416, 0.002812490565702319, 0.0037654556799679995, -0.009161724708974361, -0.006861350033432245, -0.009539596736431122, 0.01719646528363228, 0.0033444936852902174, -0.01264874916523695, -0.019052674993872643, 0.0128409992903471, -0.0440187081694603, 0.010142864659428596, 0.038290973752737045, -0.012695154175162315, -0.013351457193493843, -0.010633435100317001, -0.010918496176600456, -0.039563801139593124, 0.011349402368068695, 0.018853796645998955, 0.03789321333169937, -0.018190864473581314, -0.02041831612586975, -0.003662701230496168, 0.01534025464206934, 0.01443866640329361, -0.005131096579134464, -0.004428388085216284, -0.037946246564388275, 0.0011178696295246482, 0.010792538523674011, -0.015075081959366798, -0.012502904050052166, 0.03776062652468681, 0.00320527795702219, -0.00833968911319971, -0.01172727346420288, 0.006397297140210867, -0.032085925340652466, -0.009148466400802135, -0.01576453074812889, -0.025589188560843468, -0.010978159494698048, 0.015777790918946266, 0.0011195270344614983, 0.005253738723695278, -0.0051277815364301205, 0.040863148868083954, -0.008492163382470608, -0.012098515406250954, -0.012874145992100239, -0.012874145992100239, 0.002305347239598632, 0.13523820042610168, -0.01113063469529152, -0.017421862110495567, 0.018389742821455002, 0.03441944718360901, -0.01247638650238514, -0.014491701498627663, 0.006331004202365875, 0.015631945803761482, -0.0018777558580040932, 0.006761909928172827, -0.012005705386400223, 0.0036494426894932985, 0.01125659141689539, -0.0063210600055754185, -0.012973586097359657, -0.017713552340865135, -0.02336173690855503, 0.0036660158075392246, -0.008180585689842701, -0.04274587705731392, 0.00444827601313591, 0.033067066222429276, 0.024104220792651176, 0.0025406882632523775, -0.015751272439956665, 0.029938025400042534, 0.01943717710673809, 0.006115551106631756, -0.018760984763503075, 0.016281617805361748, -0.007590575609356165, -0.010978159494698048, -0.0010076571488752961, 0.0019722238648682833, 0.00497862184420228, -0.003397528314962983, 0.022486666217446327, 0.0074182129465043545, -0.002626869361847639, 0.002885413123294711, -0.003652757266536355, 0.02593391388654709, -0.03805231675505638, 0.0005647354992106557, 0.007663498166948557, -0.00892969872802496, 0.028028780594468117, -0.004279228392988443, -0.010580400004982948, 0.0015868942718952894, -0.020338764414191246, 0.030309267342090607, 0.0007992478203959763, -0.022486666217446327, -0.009711959399282932, -0.003970964811742306, -0.009526337496936321, -0.002131327521055937, 0.015486099757254124, 0.0014683951158076525, -0.015472841449081898, -0.006331004202365875, -0.013656406663358212, 0.006019425578415394, -0.02773709036409855, -0.007186186499893665, -0.03577182814478874, -0.02472737617790699, -0.02409096248447895, 0.021956318989396095, -0.004935531411319971, -0.012357058934867382, 0.011574799194931984, 0.03357089310884476, 0.02399815060198307, 0.024037927389144897, 0.009857804514467716, 0.008691043592989445, -0.005088005680590868, 0.003606352023780346, -0.016599826514720917, 0.003095894120633602, -0.035161931067705154, 0.0017750014085322618, -0.001912559848278761, -0.001949021127074957, 0.0007644438883289695, -0.02155856043100357, 0.002656701486557722, 0.0037687704898416996, -0.010109717957675457, -0.008870034478604794, -0.023732978850603104, -0.025509636849164963, 0.024515237659215927, 0.015194409526884556, 0.012403463944792747, 0.01950347051024437, 0.00020519827376119792, -0.01370944082736969, -5.039321695221588e-05, 0.0138818034902215, -0.011289738118648529, -0.02080281637609005, 0.010361632332205772, 0.0010872090933844447, 0.015141375362873077, -0.011773678474128246, 0.0034041577018797398, 0.022818131372332573, -0.009997019544243813, 0.044496018439531326, -0.012562568299472332, 0.020206177607178688, 0.021346421912312508, 0.025430085137486458, 0.026477517560124397, -0.01073287520557642, 0.005770826246589422, 0.0015148004749789834, -0.0188007615506649, 0.0220358707010746, 0.015486099757254124, -0.036991626024246216, 0.012920551933348179, -0.0006948359659872949, -0.02386556565761566, -0.012005705386400223, 0.013039879500865936, -0.00607908982783556, 0.036461278796195984, -0.006914384663105011, -0.031449511647224426, -0.049560822546482086, -0.017846139147877693, -0.0062183053232729435, 0.03054792247712612, -0.0019606223795562983, 0.00946667417883873, -0.019052674993872643, -0.015950152650475502, 0.005727735348045826, -0.017103655263781548, -0.01178030762821436, -0.03725679963827133, 0.004173159133642912, 0.0010026851668953896, 0.0068083154037594795, 0.006679043639451265, -0.007789455354213715, 0.010388149879872799, 6.230528379091993e-05, -0.031926821917295456, -0.00040583888767287135, -0.009015879593789577, 0.006118865683674812, -0.0011667609214782715, 0.02146575041115284, 0.011806825175881386, 0.03723027929663658, 0.009586001746356487, 0.025469861924648285, 0.017806362360715866, 0.003543373430147767, 0.008883293718099594, 0.0022904311772435904, 0.0012214528396725655, -0.019423918798565865, 0.0057111624628305435, -0.0008485534344799817, 0.0027959172148257494, -0.004252710845321417, 0.004315689671784639, 0.010295339860022068, 0.007935300469398499, 0.0014874545158818364, -0.03166164830327034, 0.001501541817560792, -0.032881446182727814, 0.0022473407443612814, 0.0014783391961827874, -0.006795056629925966, -0.0022539698984473944, 0.006171900313347578, 0.0021213835570961237, 0.03449900075793266, 0.0008899866952560842, -0.030945682898163795, -0.007729791104793549, 0.02940768003463745, -0.011283108964562416, 0.011720644310116768, 0.004342206753790379, 0.007053600158542395, -0.021916544064879417, 0.0030610901303589344, -0.017435120418667793, -0.021890025585889816, 0.023640166968107224, 0.024197030812501907, 0.006662470288574696, -0.03494979441165924, 0.0014319338370114565, -0.004269284196197987, 0.013510561548173428, -0.02438265271484852, 0.011177039705216885, 0.01870795153081417, -0.0020086851436644793, -0.0220623891800642, -0.018654916435480118, -0.014133717864751816, -0.03229806572198868, 0.002802546601742506, 0.015950152650475502, 0.001493255142122507, -0.00042593403486534953, -0.03083961270749569, -0.02760450355708599, 0.004690246190875769, 0.006569659803062677, 0.027975745499134064, 0.01842951960861683, 0.022022612392902374, 0.0008568400517106056, 0.017262758687138557, -0.02808181382715702, 0.01724950037896633, -0.0078027136623859406, -0.004965363536030054, 0.01697106845676899, 0.02381253056228161, 0.0015620343619957566, -0.029248574748635292, 0.009619148448109627, -0.010361632332205772, -0.029009919613599777, -0.014425408095121384, 0.03916604444384575, -0.01902615837752819, -0.03335875645279884, -0.009519708342850208, -0.007882265374064445, -0.023481063544750214, 0.026504036039114, 0.0030842928681522608, 0.010142864659428596, -0.009155095554888248, -0.010023537091910839, -0.01937088370323181, 0.0057144770398736, -0.026331672444939613, 0.018071535974740982, -0.004836091306060553, -0.011422324925661087, 0.005787399597465992, -0.028930367901921272, -0.013696182519197464, 0.005147669930011034, -0.01518115121871233, 0.004136697854846716, 0.00747124757617712, -0.007172928191721439, 0.013530449010431767, -0.003533429466187954, -0.020537644624710083, 0.004136697854846716, -0.0046338969841599464, 0.023534098640084267, -0.007888895459473133, 0.0007611291948705912, 0.01788591407239437, -0.006433758419007063, 0.01437237299978733, 0.009208130650222301, -0.008154068142175674, 0.0024031298235058784, 0.006828203331679106, -0.0014327625976875424, 0.03871525079011917, -0.0020352022256702185, -0.010169382207095623, 0.01105108205229044, -0.014664063230156898, -0.00820047315210104, -0.0036825891584157944, -0.0012711727758869529, -0.0008725847001187503, -0.0391395278275013, -0.013828769326210022, 0.00012067440547980368, 0.0019904545042663813, -0.015380030497908592, 0.018084794282913208, 0.004057146143168211, -0.0006546456716023386, -0.00945341493934393, -0.012151550501585007, 0.010726245120167732, -0.013855285942554474, -0.011753791011869907, -0.004716763738542795, -0.009241277351975441, 0.007895524613559246, -0.019781900569796562, 6.991864938754588e-05, -0.012933810241520405, -0.01370944082736969, -0.021412715315818787, 0.006642582360655069, 0.0073452903889119625, 0.0003240082005504519, 0.005111208651214838, 0.0010292024817317724, -0.013364716432988644, 0.001107097021304071, -0.004391926806420088, -0.02320263162255287, 0.018323449417948723, -0.014955754391849041, 0.0037422531750053167, -0.01829693280160427, 0.016215326264500618, 0.01731579378247261, -0.03399517014622688, -0.0010267164325341582, 0.01071961596608162, 0.009473303332924843, 0.009387122467160225, -0.002282144734635949, 0.02523120492696762, 0.018323449417948723, 0.008313171565532684, -0.02842653915286064, 0.0016581595409661531, -0.014173493720591068, 0.02906295470893383, 0.00553217064589262, -0.007186186499893665, -0.011753791011869907, 0.0351354144513607, 0.039908528327941895, 0.0004872552817687392, 0.004643841180950403, -0.04550367593765259, -0.006364150438457727, -0.01811131276190281, -0.015870600938796997, -0.021704405546188354, 0.015870600938796997, 0.015963410958647728, 0.009698700159788132, -0.01294706854969263, -0.0318472720682621, 0.008843517862260342, -0.033040549606084824, -0.010096459649503231, -0.002205907367169857, -0.009751735255122185, 0.015287220478057861, 0.04518546909093857, 0.015777790918946266, -0.012509533204138279, 0.01370944082736969, -0.004809574224054813, -0.019715609028935432, 0.004236137960106134, 0.02263251133263111, -0.021757440641522408, 0.0016813621623441577, 0.007186186499893665, -0.01911896839737892, -0.019052674993872643, 0.012204584665596485, 0.022022612392902374, 0.012701784260571003, 0.01697106845676899, -0.015963410958647728, -0.006901125889271498, -0.012310653924942017, -0.016453981399536133, 0.013470785692334175, 0.008956216275691986, 0.009665553458034992, -0.025668740272521973, -5.8783454733202234e-05, -0.014664063230156898, 0.0018611826235428452, -0.04004111513495445, 0.04537108913064003, 0.016122514382004738, 0.009572743438184261, 0.022155199199914932, -0.004882496781647205, -0.02805529721081257, -0.004295801743865013, -0.005416157189756632, 0.020458092913031578, -0.00955948419868946, -0.02310982160270214, 0.008240249007940292, -0.022393854334950447, -0.01699758507311344, 0.011349402368068695, -0.01549935806542635, 0.009108690544962883, 0.0061453827656805515, -0.030309267342090607, -0.021174060180783272, -0.009387122467160225, -0.016255101189017296, -0.004395241383463144, -0.028506090864539146, 0.002872154349461198, 4.9493337428430095e-06, -0.01817760430276394, -0.009586001746356487, 0.005959761794656515, -0.0069607896730303764, -0.025562671944499016, -0.0001755734847392887, -0.012403463944792747, 7.147239375626668e-05, 0.006274654529988766, -0.00605588685721159, -0.008730819448828697, 0.002479366958141327, 0.030097128823399544, 0.008313171565532684, -0.0030726913828402758, -0.022141940891742706, -0.011700755916535854, 0.01788591407239437, -0.007232591975480318, 0.025005808100104332, 0.24714118242263794, 0.017342310398817062, 0.015711497515439987, 0.009353975765407085, 0.007975076325237751, 0.02406444400548935, 0.01681196503341198, 0.015446323901414871, 0.0033643816132098436, 0.011634462513029575, 0.017435120418667793, 0.010785909369587898, -0.0029069583397358656, 0.009413639083504677, 0.012463128194212914, -0.04067752882838249, -0.02497929148375988, -0.02725977823138237, 0.0036759600043296814, -0.03333223983645439, 0.0018479239661246538, 0.017846139147877693, 0.013974614441394806, -0.03068050928413868, 0.009181613102555275, 0.03691207244992256, -0.0006645896937698126, 0.01294706854969263, 0.022049130871891975, -0.0017252814723178744, 0.005684644915163517, -0.00807451643049717, -0.018827278167009354, 0.007086746860295534, -0.005996223073452711, -0.004232822917401791, 0.014703840017318726, -0.023096563294529915, -0.004004111513495445, -0.01813782937824726, -0.005956447217613459, -0.023467805236577988, -0.020007299259305, -0.010401408188045025, 0.00833968911319971, 0.011866489425301552, -0.014491701498627663, -0.02137293852865696, -0.004872552584856749, 0.019012900069355965, -0.049852512776851654, -0.025098618119955063, 0.016453981399536133, 0.027365848422050476, 0.011329513974487782, -0.004342206753790379, 0.008432499133050442, 0.009300940670073032, -0.007623722311109304, 0.027710571885108948, 0.019225038588047028, 0.03163513168692589, -0.003450562944635749, 0.012370318174362183, -0.03341178968548775, 0.03317313641309738, -0.03691207244992256, 0.0028075184673070908, 0.032430652529001236, -0.01788591407239437, -0.004199676681309938, -0.02067023143172264, -0.00027490974753163755, 0.009201501496136189, 0.0018263786332681775, -0.023759495466947556, 0.029328126460313797, 0.007206074893474579, 0.01477013248950243, 0.00870430190116167, -0.005257053766399622, 0.014425408095121384, 0.019079193472862244, 0.020497867837548256, -0.0110179353505373, -0.023507582023739815, 0.004398555960506201, -0.011992446146905422, -0.0028224345296621323, 0.013629889115691185, -0.0008038054802455008, -0.022725321352481842, -0.014876201748847961, 0.003228480461984873, -0.0019374197581782937, -0.014796650037169456, -0.0003907157515641302, -0.007623722311109304, -0.02340151183307171, 0.014027648605406284, -0.02137293852865696, 0.02520468831062317, 0.00840598251670599, 0.006980677600950003, -0.027684055268764496, 0.007941929623484612, 0.004256025888025761, -0.0020434889011085033, 0.028346987441182137, -0.010341744869947433, -0.011236703023314476, -0.015976669266819954, -0.009731846861541271, -0.007690015248954296, 0.008817000314593315, 0.028532609343528748, 0.016957810148596764, 0.006019425578415394, 0.03054792247712612, -0.006781797856092453, 0.01738208718597889, -0.02564222365617752, 0.009479932487010956, 0.0036129814106971025, -0.016029704362154007, -0.012025592848658562, -0.007915412075817585, 0.004458220209926367, 0.021293386816978455, -0.030150163918733597, 0.009314199909567833, -0.02326892502605915, 0.0022572847083210945, -0.0007557428907603025, -0.007570687681436539, 0.009751735255122185, 0.002088236855342984, -0.013324940577149391, -0.007650239393115044, -0.007696644868701696, -0.012635490857064724, 0.003414101665839553, 0.009128578938543797, 0.006135439034551382, -0.012807853519916534, -0.03850311040878296, 0.006466905120760202, -0.028771264478564262, -0.00870430190116167, -0.008571715094149113, -0.02440916933119297, 0.00767012732103467, -0.0018545532366260886, 0.021386198699474335, 0.03738938644528389, 0.0010540623916313052, 0.010209158062934875, -0.009055656380951405, -0.008624750189483166, 0.01687825843691826, -0.035347554832696915, 0.006135439034551382, 0.008790482766926289, -0.006006167270243168, -0.030600957572460175, -0.004146642051637173, -0.16854391992092133, 0.02621234580874443, 0.027233261615037918, -0.013338198885321617, 0.01943717710673809, 0.0004611523181665689, 0.025655481964349747, 0.013364716432988644, -0.030150163918733597, 0.012867516838014126, 0.0018910145154222846, -0.001327521982602775, -0.03815838694572449, -0.03505586460232735, -0.010593659244477749, -0.010706357657909393, -0.007736420724540949, 0.017010843381285667, 0.020113367587327957, 0.0034571923315525055, 0.005919985938817263, 0.0014758531469851732, 0.018403002992272377, -0.02874474599957466, -0.006234878674149513, -0.013749216683208942, 0.002867182483896613, 0.030070612207055092, -0.005455933511257172, 0.0012786308070644736, -0.02212868258357048, -0.022818131372332573, 0.019795160740613937, -0.029009919613599777, -0.007530911359935999, 0.007172928191721439, -0.0039577060379087925, -0.027471916750073433, -0.0058570075780153275, -0.008757336065173149, 0.03900694102048874, 0.034207310527563095, 0.006049257703125477, -0.001034174463711679, -0.008691043592989445, 0.0002821605885401368, 0.022685544565320015, -0.01706387847661972, 0.014504959806799889, -0.002565548289567232, -0.007902153767645359, -0.03752196952700615, 0.017050620168447495, 0.01756770722568035, -0.001894329208880663, -0.0022191661410033703, 0.01321887131780386, 0.016957810148596764, 0.00393450353294611, -0.01585734263062477, -0.029434196650981903, -0.010792538523674011, 0.0040604607202112675, -0.009155095554888248, 0.00659286230802536, 0.0018744412809610367, -0.028824299573898315, -0.009141837246716022, -0.03001757711172104, 0.014703840017318726, 0.008419240824878216, -0.02041831612586975, 0.02413073740899563, -0.020975179970264435, -0.01282111182808876, 0.022155199199914932, -0.03367696329951286, 0.02251318283379078, -0.015472841449081898, -0.013510561548173428, -0.02564222365617752, 0.04004111513495445, -0.00514435488730669, 0.023348476737737656, -0.02611953392624855, -0.011110746301710606, -0.008187214843928814, 0.014995530247688293, -0.008120921440422535, -0.01248964574187994, 0.030229715630412102, -0.02890385128557682, -0.017580965533852577, 0.00710663478821516, 0.00926116481423378, 0.0018644972005859017, 0.010447814129292965, 0.019516728818416595, 0.00039133726386353374, -0.02495277300477028, -0.006635952740907669, 0.003516856115311384, -0.014266304671764374, 0.017753329128026962, 0.029115989804267883, 0.007133152335882187, 0.02625212073326111, 0.01975538395345211, 0.001225596177391708, 0.009015879593789577, -0.0023484379053115845, -0.014160235412418842, 0.006042628549039364, 0.03410124033689499, 0.012536050751805305, 0.014531477354466915, -0.005664756987243891, -0.009963872842490673, 0.029460713267326355, 0.007438100874423981, 0.059823017567396164, 0.015406548045575619, 0.017991984263062477, -0.014597770757973194, -0.017183206975460052, 0.015936894342303276, -0.09657598286867142, 0.013132689520716667, 0.02235407941043377, 0.009997019544243813, 0.02805529721081257, 0.058868393301963806, 0.012986844405531883, 0.002666645450517535, -0.02434287592768669, 0.013656406663358212, 0.008551827631890774, -0.007577316835522652, 0.02222149260342121, -0.010096459649503231, 0.023136340081691742, -0.016599826514720917, 0.001730253454297781, -0.018734468147158623, -0.019039416685700417, 0.011753791011869907, 0.018071535974740982, 0.006500051822513342, -0.004541086498647928, -0.020497867837548256, 0.008624750189483166, -0.00018686405383050442, -0.027710571885108948, 0.022818131372332573, 0.01988797076046467, 0.008326430805027485, -0.0038284342736005783, -0.021028215065598488, -0.030309267342090607, -0.02536379173398018, -0.0018512385431677103, 0.014465183950960636, -0.03494979441165924, -0.013987872749567032, 0.010812426917254925, -0.015910375863313675, 0.004816203378140926, 0.018071535974740982, 0.013006732799112797, -0.01874772645533085, 0.017899174243211746, -0.020975179970264435, -0.017806362360715866, 0.014836425893008709, 0.02333521842956543, -0.0016150689916685224, -0.015963410958647728, 0.025178171694278717, -0.022566217929124832, -0.010945012792944908, 0.03285492584109306, 0.001813119975849986, 0.01817760430276394, 0.02108124829828739, -0.010010278783738613, -0.005966391414403915, 0.0002639299491420388, -0.0031439566519111395, -0.010852202773094177, -0.0006567173404619098, -0.008173955604434013, 0.011926152743399143, 0.0015404890291392803, -0.013019991107285023, 0.01394809689372778, -0.009930727072060108, -0.03579834848642349, 0.04362094774842262, -0.013570224866271019, 0.016440723091363907, -0.00849879253655672, -0.00012978972517885268, 0.001499884412623942, 0.008140808902680874, 0.010845573619008064, -0.009672182612121105, 0.013411121442914009, -0.0167191531509161, -0.002519143046811223, -0.022088905796408653, 0.04094270244240761, 0.0030909220222383738, 0.002872154349461198, 0.00042966302135027945, -0.016599826514720917, -0.01646723970770836, -0.002776029286906123, 0.04266632720828056, -0.005197389516979456, -0.009539596736431122, -0.020855851471424103, 0.018336709588766098, 0.008790482766926289, 0.015048564411699772, 0.00463058240711689, -0.0057542528957128525, -0.00391793018206954, 0.015406548045575619, -0.07949884980916977, 0.021770698949694633, -0.009665553458034992, -0.005442674737423658, 0.018071535974740982, -0.02292420156300068, -0.007610463537275791, -0.01747489720582962, -0.006118865683674812, -0.007206074893474579, -0.03213896229863167, 0.016202066093683243, -0.006645896937698126, -0.004375353455543518, -0.012516163289546967, -0.012642120011150837, 0.02143923193216324, 0.012635490857064724, 0.010640064254403114, -0.004391926806420088, 0.017925690859556198, 0.0071397814899683, 0.013643147423863411, -0.0033478084951639175, -0.002890384988859296, 0.0020666916389018297, -0.013470785692334175, 0.00016169334412552416, -0.02969937026500702, -0.018164345994591713, 0.01687825843691826, -0.044310398399829865, -0.009015879593789577, 0.01477013248950243, 0.0005891811451874673, -0.01722298189997673, -0.005588519852608442, 0.0036825891584157944, -0.0051576136611402035, 0.029275093227624893, -0.012436610646545887, -0.016029704362154007, 0.018031759187579155, -0.004743280820548534, -0.0015073424438014627, 0.010785909369587898, 0.009778251871466637, 0.0017700294265523553, 0.01662634313106537, 0.0018562106415629387, -0.008001593872904778, 0.04327622428536415, -0.009241277351975441, -0.026225604116916656, -0.0016498728655278683, 0.0033113472163677216, 0.00018914288375526667, -0.012144920416176319, -0.001930790487676859, -0.020749783143401146, 0.012801223434507847, 0.020378541201353073, 0.0056813303381204605, 0.01706387847661972, 0.008333059959113598, -0.010474330745637417, -0.009426898322999477, 0.00496204849332571, 0.021107766777276993, -0.022844649851322174, -0.019052674993872643, -0.001985482405871153, 0.010580400004982948, -0.0021164114587008953, 0.012065368704497814, -0.016480498015880585, 0.008352947421371937, -0.01158805750310421, -0.034260343760252, 0.01567172072827816, -0.0025605761911720037, -0.008220361545681953, -0.04621964320540428, 0.014266304671764374, 0.029089471325278282, -0.004226193763315678, -0.030282750725746155, -0.0073386612348258495, 0.007948558777570724, 0.03935166448354721, 0.004531142767518759, 9.312127804150805e-05, -0.00955948419868946, -0.018601881340146065, 0.005591834429651499, -0.0033527803607285023, -0.044628605246543884, 0.014173493720591068, 0.002711393404752016, 0.03638172894716263, -0.008644637651741505, 0.00767012732103467, -0.001968909054994583, -0.025589188560843468, -0.010441184975206852, 0.02440916933119297, -0.025443343445658684, -0.029275093227624893, 0.00024321330420207232, 0.01266200840473175, -0.0008916440419852734, 0.024276582524180412, 0.003496968187391758, 0.017103655263781548, -0.03964335471391678, 0.0005813087918795645, 0.005449303891509771, -0.012290765531361103, -0.026928313076496124, 0.008412611670792103, 0.01443866640329361, -0.02821440063416958, 0.02067023143172264, 0.007126522716134787, 0.024926256388425827, 0.011455470696091652, 0.014969012700021267, -0.02969937026500702, -0.01179356686770916, 0.013053137809038162, -0.005734364967793226, -0.028691712766885757, -0.012973586097359657, 0.009002621285617352, 0.0068149445578455925, -0.009824657812714577, -0.0034041577018797398, 0.01731579378247261, -0.02972588688135147, 0.034260343760252, 0.017329052090644836, -0.017925690859556198, -0.00517750158905983, -0.04669695347547531, 0.02744540013372898, 0.025443343445658684, 0.01174716092646122, -0.027524951845407486, -0.002369983121752739, 0.004405185580253601, -0.00034679649979807436, 0.011283108964562416, -0.040571458637714386, 0.013324940577149391, -0.011369289830327034, -0.0036825891584157944, 0.007192816119641066, 0.004753225017338991, -0.01890682987868786, -0.01665286161005497, -0.010103088803589344, 0.013318311423063278, -0.0024942830204963684, 0.0001151844990090467, -0.015777790918946266, -0.001392157981172204, -0.020537644624710083, 0.013908321037888527, -0.016613084822893143, 0.024104220792651176, 0.024939514696598053, -0.01687825843691826, -0.012370318174362183, 0.02858564257621765, -0.02789619378745556, 0.006012796424329281, -0.00028423225739970803, 0.04192384332418442, 0.0175411906093359, -0.009009250439703465, 8.918511593947187e-05, -0.019490210339426994, -0.022088905796408653, 0.025880878791213036, -0.01516789197921753, -0.026901794597506523, -0.020113367587327957, 0.00338758435100317] LIMIT 10;\n",
              "    \", consistency=Not Set>"
            ]
          },
          "metadata": {}
        }
      ],
      "source": [
        "# For a cosine similarity distance calculation, use the embedding to find the information nearest to the question asked.\n",
        "query_euc = SimpleStatement(\n",
        "    f\"\"\"\n",
        "    SELECT id, title, answers, context, question, similarity_euclidean(title_context_embedding,{embedding}) as similarity\n",
        "    FROM squad_euc\n",
        "    ORDER BY title_context_embedding ANN OF {embedding} LIMIT 10;\n",
        "    \"\"\"\n",
        "    )\n",
        "display(query_euc)"
      ]
    },
    {
      "cell_type": "markdown",
      "metadata": {
        "id": "MMc2ZpL-3n1v"
      },
      "source": [
        "# **Find the top 5 results using ANN Similarity**"
      ]
    },
    {
      "cell_type": "code",
      "execution_count": null,
      "metadata": {
        "colab": {
          "base_uri": "https://localhost:8080/"
        },
        "outputId": "9afc8fcc-424c-411a-e085-62fddd850138",
        "id": "sovKqYSEq-xw"
      },
      "outputs": [
        {
          "output_type": "stream",
          "name": "stdout",
          "text": [
            "0.8841489553451538 | Notre Dame alumni work in various fields. Alumni working in political fields include state governors, members of the United States Congress, and former United States Secretary of State Condoleezza Rice. A notable alumnus of the College of Science is Medicine Nobel Prize winner Eric F. Wieschaus. A number of university heads are alumni, including Notre Dame's current president, the Rev. John Jenkins. Additionally, many alumni are in the media, including talk show hosts Regis Philbin and Phil Donahue, and television and radio personalities such as Mike Golic and Hannah Storm. With the university having high profile sports teams itself, a number of alumni went on to become involved in athletics outside the university, including professional baseball, basketball, football, and ice hockey players, such as Joe Theismann, Joe Montana, Tim Brown, Ross Browner, Rocket Ismail, Ruth Riley, Jeff Samardzija, Jerome Bettis, Brett Lebda, Olympic gold medalist Mariel Zagunis, professional boxer Mike Lee, former football coaches such as Charlie Weis, Frank Leahy and Knute Rockne, and Basketball Hall of Famers Austin Carr and Adrian Dantley. Other notable alumni include prominent businessman Edward J. DeBartolo, Jr. and astronaut Jim Wetherbee.\n",
            "\n",
            "0.8775672316551208 | Numerous recordings of Chopin's works are available. On the occasion of the composer's bicentenary, the critics of The New York Times recommended performances by the following contemporary pianists (among many others): Martha Argerich, Vladimir Ashkenazy, Emanuel Ax, Evgeny Kissin, Murray Perahia, Maurizio Pollini and Krystian Zimerman. The Warsaw Chopin Society organizes the Grand prix du disque de F. Chopin for notable Chopin recordings, held every five years.\n",
            "\n",
            "0.8773922324180603 | Beyoncé's work has influenced numerous artists including Adele, Ariana Grande, Lady Gaga, Bridgit Mendler, Rihanna, Kelly Rowland, Sam Smith, Meghan Trainor, Nicole Scherzinger, Rita Ora, Zendaya, Cheryl Cole, JoJo, Alexis Jordan, Jessica Sanchez, and Azealia Banks. American indie rock band White Rabbits also cited her an inspiration for their third album Milk Famous (2012), friend Gwyneth Paltrow studied Beyoncé at her live concerts while learning to become a musical performer for the 2010 film Country Strong. Nicki Minaj has stated that seeing Beyoncé's Pepsi commercial influenced her decision to appear in the company's 2012 global campaign.\n",
            "\n",
            "0.877077579498291 | Following the death of Freddie Gray, Beyoncé and Jay-Z, among other notable figures, met with his family. After the imprisonment of protesters of Gray's death, Beyoncé and Jay-Z donated thousands of dollars to bail them out.\n",
            "\n",
            "0.8767518401145935 | In Paris, Chopin encountered artists and other distinguished figures, and found many opportunities to exercise his talents and achieve celebrity. During his years in Paris he was to become acquainted with, among many others, Hector Berlioz, Franz Liszt, Ferdinand Hiller, Heinrich Heine, Eugène Delacroix, and Alfred de Vigny. Chopin was also acquainted with the poet Adam Mickiewicz, principal of the Polish Literary Society, some of whose verses he set as songs.\n",
            "\n",
            "0.8764291405677795 | Beyoncé has stated that she is personally inspired by US First Lady Michelle Obama, saying \"She proves you can do it all\" and she has described Oprah Winfrey as \"the definition of inspiration and a strong woman\". She has also discussed how Jay Z is a continuing inspiration to her, both with what she describes as his lyrical genius and in the obstacles he has overcome in his life. Beyoncé has expressed admiration for the artist Jean-Michel Basquiat, posting in a letter \"what I find in the work of Jean-Michel Basquiat, I search for in every day in music... he is lyrical and raw\". In February 2013, Beyoncé said that Madonna inspired her to take control of her own career. She commented: \"I think about Madonna and how she took all of the great things she achieved and started the label and developed other artists. But there are not enough of those women.\".\n",
            "\n",
            "0.8762811422348022 | Holy Cross Father John Francis O'Hara was elected vice-president in 1933 and president of Notre Dame in 1934. During his tenure at Notre Dame, he brought numerous refugee intellectuals to campus; he selected Frank H. Spearman, Jeremiah D. M. Ford, Irvin Abell, and Josephine Brownson for the Laetare Medal, instituted in 1883. O'Hara strongly believed that the Fighting Irish football team could be an effective means to \"acquaint the public with the ideals that dominate\" Notre Dame. He wrote, \"Notre Dame football is a spiritual service because it is played for the honor and glory of God and of his Blessed Mother. When St. Paul said: 'Whether you eat or drink, or whatsoever else you do, do all for the glory of God,' he included football.\"\n",
            "\n",
            "0.8742771744728088 | In December, Beyoncé along with a variety of other celebrities teamed up and produced a video campaign for \"Demand A Plan\", a bipartisan effort by a group of 950 US mayors and others designed to influence the federal government into rethinking its gun control laws, following the Sandy Hook Elementary School shooting. Beyoncé became an ambassador for the 2012 World Humanitarian Day campaign donating her song \"I Was Here\" and its music video, shot in the UN, to the campaign. In 2013, it was announced that Beyoncé would work with Salma Hayek and Frida Giannini on a Gucci \"Chime for Change\" campaign that aims to spread female empowerment. The campaign, which aired on February 28, was set to her new music. A concert for the cause took place on June 1, 2013 in London and included other acts like Ellie Goulding, Florence and the Machine, and Rita Ora. In advance of the concert, she appeared in a campaign video released on 15 May 2013, where she, along with Cameron Diaz, John Legend and Kylie Minogue, described inspiration from their mothers, while a number of other artists celebrated personal inspiration from other women, leading to a call for submission of photos of women of viewers' inspiration from which a selection was shown at the concert. Beyoncé said about her mother Tina Knowles that her gift was \"finding the best qualities in every human being.\" With help of the crowdfunding platform Catapult, visitors of the concert could choose between several projects promoting education of women and girls. Beyoncé is also taking part in \"Miss a Meal\", a food-donation campaign, and supporting Goodwill charity through online charity auctions at Charitybuzz that support job creation throughout Europe and the U.S.\n",
            "\n",
            "0.8742258548736572 | Two Polish friends in Paris were also to play important roles in Chopin's life there. His fellow student at the Warsaw Conservatory, Julian Fontana, had originally tried unsuccessfully to establish himself in England; Albert Grzymała, who in Paris became a wealthy financier and society figure, often acted as Chopin's adviser and \"gradually began to fill the role of elder brother in [his] life.\" Fontana was to become, in the words of Michałowski and Samson, Chopin's \"general factotum and copyist\".\n",
            "\n",
            "0.8736352324485779 | Beyoncé participated in George Clooney and Wyclef Jean's Hope for Haiti Now: A Global Benefit for Earthquake Relief telethon and was named the official face of the limited edition CFDA \"Fashion For Haiti\" T-shirt, made by Theory which raised a total of $1 million. On March 5, 2010, Beyoncé and her mother Tina opened the Beyoncé Cosmetology Center at the Brooklyn Phoenix House, offering a seven-month cosmetology training course for men and women. In April 2011, Beyoncé joined forces with US First Lady Michelle Obama and the National Association of Broadcasters Education Foundation, to help boost the latter's campaign against child obesity by reworking her single \"Get Me Bodied\". Following the death of Osama bin Laden, Beyoncé released her cover of the Lee Greenwood song \"God Bless the USA\", as a charity single to help raise funds for the New York Police and Fire Widows' and Children's Benefit Fund.\n",
            "\n"
          ]
        }
      ],
      "source": [
        "results_cos = session.execute(query_cos)\n",
        "top_5_results_cos = results_cos._current_rows\n",
        "\n",
        "for row in top_5_results_cos:\n",
        "  print(f\"\"\"{row.similarity} | {row.context}\\n\"\"\")"
      ]
    },
    {
      "cell_type": "code",
      "execution_count": null,
      "metadata": {
        "colab": {
          "base_uri": "https://localhost:8080/"
        },
        "id": "L2xxz1bn3oVg",
        "outputId": "996413b2-cb24-4f82-c7fc-cf75af152711"
      },
      "outputs": [
        {
          "output_type": "stream",
          "name": "stdout",
          "text": [
            "0.884148359298706 | Notre Dame alumni work in various fields. Alumni working in political fields include state governors, members of the United States Congress, and former United States Secretary of State Condoleezza Rice. A notable alumnus of the College of Science is Medicine Nobel Prize winner Eric F. Wieschaus. A number of university heads are alumni, including Notre Dame's current president, the Rev. John Jenkins. Additionally, many alumni are in the media, including talk show hosts Regis Philbin and Phil Donahue, and television and radio personalities such as Mike Golic and Hannah Storm. With the university having high profile sports teams itself, a number of alumni went on to become involved in athletics outside the university, including professional baseball, basketball, football, and ice hockey players, such as Joe Theismann, Joe Montana, Tim Brown, Ross Browner, Rocket Ismail, Ruth Riley, Jeff Samardzija, Jerome Bettis, Brett Lebda, Olympic gold medalist Mariel Zagunis, professional boxer Mike Lee, former football coaches such as Charlie Weis, Frank Leahy and Knute Rockne, and Basketball Hall of Famers Austin Carr and Adrian Dantley. Other notable alumni include prominent businessman Edward J. DeBartolo, Jr. and astronaut Jim Wetherbee.\n",
            "\n",
            "0.8773919939994812 | Beyoncé's work has influenced numerous artists including Adele, Ariana Grande, Lady Gaga, Bridgit Mendler, Rihanna, Kelly Rowland, Sam Smith, Meghan Trainor, Nicole Scherzinger, Rita Ora, Zendaya, Cheryl Cole, JoJo, Alexis Jordan, Jessica Sanchez, and Azealia Banks. American indie rock band White Rabbits also cited her an inspiration for their third album Milk Famous (2012), friend Gwyneth Paltrow studied Beyoncé at her live concerts while learning to become a musical performer for the 2010 film Country Strong. Nicki Minaj has stated that seeing Beyoncé's Pepsi commercial influenced her decision to appear in the company's 2012 global campaign.\n",
            "\n",
            "0.8770768046379089 | Following the death of Freddie Gray, Beyoncé and Jay-Z, among other notable figures, met with his family. After the imprisonment of protesters of Gray's death, Beyoncé and Jay-Z donated thousands of dollars to bail them out.\n",
            "\n",
            "0.8767517805099487 | In Paris, Chopin encountered artists and other distinguished figures, and found many opportunities to exercise his talents and achieve celebrity. During his years in Paris he was to become acquainted with, among many others, Hector Berlioz, Franz Liszt, Ferdinand Hiller, Heinrich Heine, Eugène Delacroix, and Alfred de Vigny. Chopin was also acquainted with the poet Adam Mickiewicz, principal of the Polish Literary Society, some of whose verses he set as songs.\n",
            "\n",
            "0.8764289617538452 | Beyoncé has stated that she is personally inspired by US First Lady Michelle Obama, saying \"She proves you can do it all\" and she has described Oprah Winfrey as \"the definition of inspiration and a strong woman\". She has also discussed how Jay Z is a continuing inspiration to her, both with what she describes as his lyrical genius and in the obstacles he has overcome in his life. Beyoncé has expressed admiration for the artist Jean-Michel Basquiat, posting in a letter \"what I find in the work of Jean-Michel Basquiat, I search for in every day in music... he is lyrical and raw\". In February 2013, Beyoncé said that Madonna inspired her to take control of her own career. She commented: \"I think about Madonna and how she took all of the great things she achieved and started the label and developed other artists. But there are not enough of those women.\".\n",
            "\n",
            "0.8762811422348022 | Holy Cross Father John Francis O'Hara was elected vice-president in 1933 and president of Notre Dame in 1934. During his tenure at Notre Dame, he brought numerous refugee intellectuals to campus; he selected Frank H. Spearman, Jeremiah D. M. Ford, Irvin Abell, and Josephine Brownson for the Laetare Medal, instituted in 1883. O'Hara strongly believed that the Fighting Irish football team could be an effective means to \"acquaint the public with the ideals that dominate\" Notre Dame. He wrote, \"Notre Dame football is a spiritual service because it is played for the honor and glory of God and of his Blessed Mother. When St. Paul said: 'Whether you eat or drink, or whatsoever else you do, do all for the glory of God,' he included football.\"\n",
            "\n",
            "0.8742771148681641 | In December, Beyoncé along with a variety of other celebrities teamed up and produced a video campaign for \"Demand A Plan\", a bipartisan effort by a group of 950 US mayors and others designed to influence the federal government into rethinking its gun control laws, following the Sandy Hook Elementary School shooting. Beyoncé became an ambassador for the 2012 World Humanitarian Day campaign donating her song \"I Was Here\" and its music video, shot in the UN, to the campaign. In 2013, it was announced that Beyoncé would work with Salma Hayek and Frida Giannini on a Gucci \"Chime for Change\" campaign that aims to spread female empowerment. The campaign, which aired on February 28, was set to her new music. A concert for the cause took place on June 1, 2013 in London and included other acts like Ellie Goulding, Florence and the Machine, and Rita Ora. In advance of the concert, she appeared in a campaign video released on 15 May 2013, where she, along with Cameron Diaz, John Legend and Kylie Minogue, described inspiration from their mothers, while a number of other artists celebrated personal inspiration from other women, leading to a call for submission of photos of women of viewers' inspiration from which a selection was shown at the concert. Beyoncé said about her mother Tina Knowles that her gift was \"finding the best qualities in every human being.\" With help of the crowdfunding platform Catapult, visitors of the concert could choose between several projects promoting education of women and girls. Beyoncé is also taking part in \"Miss a Meal\", a food-donation campaign, and supporting Goodwill charity through online charity auctions at Charitybuzz that support job creation throughout Europe and the U.S.\n",
            "\n",
            "0.8742255568504333 | Two Polish friends in Paris were also to play important roles in Chopin's life there. His fellow student at the Warsaw Conservatory, Julian Fontana, had originally tried unsuccessfully to establish himself in England; Albert Grzymała, who in Paris became a wealthy financier and society figure, often acted as Chopin's adviser and \"gradually began to fill the role of elder brother in [his] life.\" Fontana was to become, in the words of Michałowski and Samson, Chopin's \"general factotum and copyist\".\n",
            "\n",
            "0.8736346960067749 | Beyoncé participated in George Clooney and Wyclef Jean's Hope for Haiti Now: A Global Benefit for Earthquake Relief telethon and was named the official face of the limited edition CFDA \"Fashion For Haiti\" T-shirt, made by Theory which raised a total of $1 million. On March 5, 2010, Beyoncé and her mother Tina opened the Beyoncé Cosmetology Center at the Brooklyn Phoenix House, offering a seven-month cosmetology training course for men and women. In April 2011, Beyoncé joined forces with US First Lady Michelle Obama and the National Association of Broadcasters Education Foundation, to help boost the latter's campaign against child obesity by reworking her single \"Get Me Bodied\". Following the death of Osama bin Laden, Beyoncé released her cover of the Lee Greenwood song \"God Bless the USA\", as a charity single to help raise funds for the New York Police and Fire Widows' and Children's Benefit Fund.\n",
            "\n",
            "0.8732037544250488 | In September 2010, Beyoncé made her runway modelling debut at Tom Ford's Spring/Summer 2011 fashion show. She was named \"World's Most Beautiful Woman\" by People and the \"Hottest Female Singer of All Time\" by Complex in 2012. In January 2013, GQ placed her on its cover, featuring her atop its \"100 Sexiest Women of the 21st Century\" list. VH1 listed her at number 1 on its 100 Sexiest Artists list. Several wax figures of Beyoncé are found at Madame Tussauds Wax Museums in major cities around the world, including New York, Washington, D.C., Amsterdam, Bangkok, Hollywood and Sydney.\n",
            "\n"
          ]
        }
      ],
      "source": [
        "results_dp = session.execute(query_dp)\n",
        "top_5_results_dp = results_dp._current_rows\n",
        "\n",
        "for row in top_5_results_dp:\n",
        "  print(f\"\"\"{row.similarity} | {row.context}\\n\"\"\")"
      ]
    },
    {
      "cell_type": "code",
      "execution_count": null,
      "metadata": {
        "colab": {
          "base_uri": "https://localhost:8080/"
        },
        "outputId": "e282921e-f2c5-4144-e6cb-758a103c1806",
        "id": "7-xIo-uTeTyN"
      },
      "outputs": [
        {
          "output_type": "stream",
          "name": "stdout",
          "text": [
            "0.6833369135856628 | Notre Dame alumni work in various fields. Alumni working in political fields include state governors, members of the United States Congress, and former United States Secretary of State Condoleezza Rice. A notable alumnus of the College of Science is Medicine Nobel Prize winner Eric F. Wieschaus. A number of university heads are alumni, including Notre Dame's current president, the Rev. John Jenkins. Additionally, many alumni are in the media, including talk show hosts Regis Philbin and Phil Donahue, and television and radio personalities such as Mike Golic and Hannah Storm. With the university having high profile sports teams itself, a number of alumni went on to become involved in athletics outside the university, including professional baseball, basketball, football, and ice hockey players, such as Joe Theismann, Joe Montana, Tim Brown, Ross Browner, Rocket Ismail, Ruth Riley, Jeff Samardzija, Jerome Bettis, Brett Lebda, Olympic gold medalist Mariel Zagunis, professional boxer Mike Lee, former football coaches such as Charlie Weis, Frank Leahy and Knute Rockne, and Basketball Hall of Famers Austin Carr and Adrian Dantley. Other notable alumni include prominent businessman Edward J. DeBartolo, Jr. and astronaut Jim Wetherbee.\n",
            "\n",
            "0.6709458231925964 | Beyoncé's work has influenced numerous artists including Adele, Ariana Grande, Lady Gaga, Bridgit Mendler, Rihanna, Kelly Rowland, Sam Smith, Meghan Trainor, Nicole Scherzinger, Rita Ora, Zendaya, Cheryl Cole, JoJo, Alexis Jordan, Jessica Sanchez, and Azealia Banks. American indie rock band White Rabbits also cited her an inspiration for their third album Milk Famous (2012), friend Gwyneth Paltrow studied Beyoncé at her live concerts while learning to become a musical performer for the 2010 film Country Strong. Nicki Minaj has stated that seeing Beyoncé's Pepsi commercial influenced her decision to appear in the company's 2012 global campaign.\n",
            "\n",
            "0.6703795790672302 | Following the death of Freddie Gray, Beyoncé and Jay-Z, among other notable figures, met with his family. After the imprisonment of protesters of Gray's death, Beyoncé and Jay-Z donated thousands of dollars to bail them out.\n",
            "\n",
            "0.6697955131530762 | In Paris, Chopin encountered artists and other distinguished figures, and found many opportunities to exercise his talents and achieve celebrity. During his years in Paris he was to become acquainted with, among many others, Hector Berlioz, Franz Liszt, Ferdinand Hiller, Heinrich Heine, Eugène Delacroix, and Alfred de Vigny. Chopin was also acquainted with the poet Adam Mickiewicz, principal of the Polish Literary Society, some of whose verses he set as songs.\n",
            "\n",
            "0.6692166924476624 | Beyoncé has stated that she is personally inspired by US First Lady Michelle Obama, saying \"She proves you can do it all\" and she has described Oprah Winfrey as \"the definition of inspiration and a strong woman\". She has also discussed how Jay Z is a continuing inspiration to her, both with what she describes as his lyrical genius and in the obstacles he has overcome in his life. Beyoncé has expressed admiration for the artist Jean-Michel Basquiat, posting in a letter \"what I find in the work of Jean-Michel Basquiat, I search for in every day in music... he is lyrical and raw\". In February 2013, Beyoncé said that Madonna inspired her to take control of her own career. She commented: \"I think about Madonna and how she took all of the great things she achieved and started the label and developed other artists. But there are not enough of those women.\".\n",
            "\n",
            "0.6689513921737671 | Holy Cross Father John Francis O'Hara was elected vice-president in 1933 and president of Notre Dame in 1934. During his tenure at Notre Dame, he brought numerous refugee intellectuals to campus; he selected Frank H. Spearman, Jeremiah D. M. Ford, Irvin Abell, and Josephine Brownson for the Laetare Medal, instituted in 1883. O'Hara strongly believed that the Fighting Irish football team could be an effective means to \"acquaint the public with the ideals that dominate\" Notre Dame. He wrote, \"Notre Dame football is a spiritual service because it is played for the honor and glory of God and of his Blessed Mother. When St. Paul said: 'Whether you eat or drink, or whatsoever else you do, do all for the glory of God,' he included football.\"\n",
            "\n",
            "0.66538405418396 | In December, Beyoncé along with a variety of other celebrities teamed up and produced a video campaign for \"Demand A Plan\", a bipartisan effort by a group of 950 US mayors and others designed to influence the federal government into rethinking its gun control laws, following the Sandy Hook Elementary School shooting. Beyoncé became an ambassador for the 2012 World Humanitarian Day campaign donating her song \"I Was Here\" and its music video, shot in the UN, to the campaign. In 2013, it was announced that Beyoncé would work with Salma Hayek and Frida Giannini on a Gucci \"Chime for Change\" campaign that aims to spread female empowerment. The campaign, which aired on February 28, was set to her new music. A concert for the cause took place on June 1, 2013 in London and included other acts like Ellie Goulding, Florence and the Machine, and Rita Ora. In advance of the concert, she appeared in a campaign video released on 15 May 2013, where she, along with Cameron Diaz, John Legend and Kylie Minogue, described inspiration from their mothers, while a number of other artists celebrated personal inspiration from other women, leading to a call for submission of photos of women of viewers' inspiration from which a selection was shown at the concert. Beyoncé said about her mother Tina Knowles that her gift was \"finding the best qualities in every human being.\" With help of the crowdfunding platform Catapult, visitors of the concert could choose between several projects promoting education of women and girls. Beyoncé is also taking part in \"Miss a Meal\", a food-donation campaign, and supporting Goodwill charity through online charity auctions at Charitybuzz that support job creation throughout Europe and the U.S.\n",
            "\n",
            "0.6652923822402954 | Two Polish friends in Paris were also to play important roles in Chopin's life there. His fellow student at the Warsaw Conservatory, Julian Fontana, had originally tried unsuccessfully to establish himself in England; Albert Grzymała, who in Paris became a wealthy financier and society figure, often acted as Chopin's adviser and \"gradually began to fill the role of elder brother in [his] life.\" Fontana was to become, in the words of Michałowski and Samson, Chopin's \"general factotum and copyist\".\n",
            "\n",
            "0.664248526096344 | Beyoncé participated in George Clooney and Wyclef Jean's Hope for Haiti Now: A Global Benefit for Earthquake Relief telethon and was named the official face of the limited edition CFDA \"Fashion For Haiti\" T-shirt, made by Theory which raised a total of $1 million. On March 5, 2010, Beyoncé and her mother Tina opened the Beyoncé Cosmetology Center at the Brooklyn Phoenix House, offering a seven-month cosmetology training course for men and women. In April 2011, Beyoncé joined forces with US First Lady Michelle Obama and the National Association of Broadcasters Education Foundation, to help boost the latter's campaign against child obesity by reworking her single \"Get Me Bodied\". Following the death of Osama bin Laden, Beyoncé released her cover of the Lee Greenwood song \"God Bless the USA\", as a charity single to help raise funds for the New York Police and Fire Widows' and Children's Benefit Fund.\n",
            "\n",
            "0.6634885668754578 | In September 2010, Beyoncé made her runway modelling debut at Tom Ford's Spring/Summer 2011 fashion show. She was named \"World's Most Beautiful Woman\" by People and the \"Hottest Female Singer of All Time\" by Complex in 2012. In January 2013, GQ placed her on its cover, featuring her atop its \"100 Sexiest Women of the 21st Century\" list. VH1 listed her at number 1 on its 100 Sexiest Artists list. Several wax figures of Beyoncé are found at Madame Tussauds Wax Museums in major cities around the world, including New York, Washington, D.C., Amsterdam, Bangkok, Hollywood and Sydney.\n",
            "\n"
          ]
        }
      ],
      "source": [
        "results_euc = session.execute(query_euc)\n",
        "top_5_results_euc = results_euc._current_rows\n",
        "\n",
        "for row in top_5_results_euc:\n",
        "  print(f\"\"\"{row.similarity} | {row.context}\\n\"\"\")"
      ]
    }
  ],
  "metadata": {
    "colab": {
      "provenance": []
    },
    "kernelspec": {
      "display_name": "Python 3 (ipykernel)",
      "language": "python",
      "name": "python3"
    },
    "language_info": {
      "codemirror_mode": {
        "name": "ipython",
        "version": 3
      },
      "file_extension": ".py",
      "mimetype": "text/x-python",
      "name": "python",
      "nbconvert_exporter": "python",
      "pygments_lexer": "ipython3",
      "version": "3.11.4"
    }
  },
  "nbformat": 4,
  "nbformat_minor": 0
}